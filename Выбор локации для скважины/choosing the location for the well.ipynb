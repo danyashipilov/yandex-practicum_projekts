{
 "cells": [
  {
   "cell_type": "markdown",
   "metadata": {},
   "source": [
    "# Выбор локации для скважины"
   ]
  },
  {
   "cell_type": "markdown",
   "metadata": {},
   "source": [
    "## Загрузка и подготовка данных"
   ]
  },
  {
   "cell_type": "code",
   "execution_count": 240,
   "metadata": {},
   "outputs": [],
   "source": [
    "import pandas as pd\n",
    "import numpy as np\n",
    "import matplotlib.pyplot as plt\n",
    "\n",
    "from sklearn.preprocessing import StandardScaler\n",
    "\n",
    "from sklearn.model_selection import train_test_split\n",
    "\n",
    "from sklearn.metrics import accuracy_score\n",
    "from sklearn.metrics import f1_score\n",
    "from sklearn.metrics import precision_score, recall_score\n",
    "from sklearn.metrics import roc_curve \n",
    "from sklearn.metrics import roc_auc_score\n",
    "from sklearn.metrics import mean_squared_error\n",
    "\n",
    "from sklearn.utils import shuffle\n",
    "\n",
    "from sklearn.linear_model import LinearRegression\n",
    "\n",
    "from sklearn.ensemble import RandomForestRegressor\n",
    "from sklearn.ensemble import RandomForestClassifier \n",
    "\n",
    "from sklearn.dummy import DummyClassifier"
   ]
  },
  {
   "cell_type": "code",
   "execution_count": 241,
   "metadata": {},
   "outputs": [],
   "source": [
    "scaler = StandardScaler()"
   ]
  },
  {
   "cell_type": "code",
   "execution_count": 242,
   "metadata": {},
   "outputs": [],
   "source": [
    "pd.options.mode.chained_assignment = None"
   ]
  },
  {
   "cell_type": "code",
   "execution_count": 243,
   "metadata": {},
   "outputs": [],
   "source": [
    "# загрузим данные\n",
    "\n",
    "\n",
    "df0=pd.read_csv(\"/datasets/geo_data_0.csv\")\n",
    "df1=pd.read_csv(\"/datasets/geo_data_1.csv\")\n",
    "df2=pd.read_csv(\"/datasets/geo_data_2.csv\")"
   ]
  },
  {
   "cell_type": "code",
   "execution_count": 244,
   "metadata": {},
   "outputs": [
    {
     "data": {
      "text/html": [
       "<div>\n",
       "<style scoped>\n",
       "    .dataframe tbody tr th:only-of-type {\n",
       "        vertical-align: middle;\n",
       "    }\n",
       "\n",
       "    .dataframe tbody tr th {\n",
       "        vertical-align: top;\n",
       "    }\n",
       "\n",
       "    .dataframe thead th {\n",
       "        text-align: right;\n",
       "    }\n",
       "</style>\n",
       "<table border=\"1\" class=\"dataframe\">\n",
       "  <thead>\n",
       "    <tr style=\"text-align: right;\">\n",
       "      <th></th>\n",
       "      <th>id</th>\n",
       "      <th>f0</th>\n",
       "      <th>f1</th>\n",
       "      <th>f2</th>\n",
       "      <th>product</th>\n",
       "    </tr>\n",
       "  </thead>\n",
       "  <tbody>\n",
       "    <tr>\n",
       "      <td>0</td>\n",
       "      <td>txEyH</td>\n",
       "      <td>0.705745</td>\n",
       "      <td>-0.497823</td>\n",
       "      <td>1.221170</td>\n",
       "      <td>105.280062</td>\n",
       "    </tr>\n",
       "    <tr>\n",
       "      <td>1</td>\n",
       "      <td>2acmU</td>\n",
       "      <td>1.334711</td>\n",
       "      <td>-0.340164</td>\n",
       "      <td>4.365080</td>\n",
       "      <td>73.037750</td>\n",
       "    </tr>\n",
       "    <tr>\n",
       "      <td>2</td>\n",
       "      <td>409Wp</td>\n",
       "      <td>1.022732</td>\n",
       "      <td>0.151990</td>\n",
       "      <td>1.419926</td>\n",
       "      <td>85.265647</td>\n",
       "    </tr>\n",
       "    <tr>\n",
       "      <td>3</td>\n",
       "      <td>iJLyR</td>\n",
       "      <td>-0.032172</td>\n",
       "      <td>0.139033</td>\n",
       "      <td>2.978566</td>\n",
       "      <td>168.620776</td>\n",
       "    </tr>\n",
       "    <tr>\n",
       "      <td>4</td>\n",
       "      <td>Xdl7t</td>\n",
       "      <td>1.988431</td>\n",
       "      <td>0.155413</td>\n",
       "      <td>4.751769</td>\n",
       "      <td>154.036647</td>\n",
       "    </tr>\n",
       "    <tr>\n",
       "      <td>...</td>\n",
       "      <td>...</td>\n",
       "      <td>...</td>\n",
       "      <td>...</td>\n",
       "      <td>...</td>\n",
       "      <td>...</td>\n",
       "    </tr>\n",
       "    <tr>\n",
       "      <td>99995</td>\n",
       "      <td>DLsed</td>\n",
       "      <td>0.971957</td>\n",
       "      <td>0.370953</td>\n",
       "      <td>6.075346</td>\n",
       "      <td>110.744026</td>\n",
       "    </tr>\n",
       "    <tr>\n",
       "      <td>99996</td>\n",
       "      <td>QKivN</td>\n",
       "      <td>1.392429</td>\n",
       "      <td>-0.382606</td>\n",
       "      <td>1.273912</td>\n",
       "      <td>122.346843</td>\n",
       "    </tr>\n",
       "    <tr>\n",
       "      <td>99997</td>\n",
       "      <td>3rnvd</td>\n",
       "      <td>1.029585</td>\n",
       "      <td>0.018787</td>\n",
       "      <td>-1.348308</td>\n",
       "      <td>64.375443</td>\n",
       "    </tr>\n",
       "    <tr>\n",
       "      <td>99998</td>\n",
       "      <td>7kl59</td>\n",
       "      <td>0.998163</td>\n",
       "      <td>-0.528582</td>\n",
       "      <td>1.583869</td>\n",
       "      <td>74.040764</td>\n",
       "    </tr>\n",
       "    <tr>\n",
       "      <td>99999</td>\n",
       "      <td>1CWhH</td>\n",
       "      <td>1.764754</td>\n",
       "      <td>-0.266417</td>\n",
       "      <td>5.722849</td>\n",
       "      <td>149.633246</td>\n",
       "    </tr>\n",
       "  </tbody>\n",
       "</table>\n",
       "<p>100000 rows × 5 columns</p>\n",
       "</div>"
      ],
      "text/plain": [
       "          id        f0        f1        f2     product\n",
       "0      txEyH  0.705745 -0.497823  1.221170  105.280062\n",
       "1      2acmU  1.334711 -0.340164  4.365080   73.037750\n",
       "2      409Wp  1.022732  0.151990  1.419926   85.265647\n",
       "3      iJLyR -0.032172  0.139033  2.978566  168.620776\n",
       "4      Xdl7t  1.988431  0.155413  4.751769  154.036647\n",
       "...      ...       ...       ...       ...         ...\n",
       "99995  DLsed  0.971957  0.370953  6.075346  110.744026\n",
       "99996  QKivN  1.392429 -0.382606  1.273912  122.346843\n",
       "99997  3rnvd  1.029585  0.018787 -1.348308   64.375443\n",
       "99998  7kl59  0.998163 -0.528582  1.583869   74.040764\n",
       "99999  1CWhH  1.764754 -0.266417  5.722849  149.633246\n",
       "\n",
       "[100000 rows x 5 columns]"
      ]
     },
     "execution_count": 244,
     "metadata": {},
     "output_type": "execute_result"
    }
   ],
   "source": [
    "df0"
   ]
  },
  {
   "cell_type": "code",
   "execution_count": 245,
   "metadata": {},
   "outputs": [
    {
     "name": "stdout",
     "output_type": "stream",
     "text": [
      "<class 'pandas.core.frame.DataFrame'>\n",
      "RangeIndex: 100000 entries, 0 to 99999\n",
      "Data columns (total 5 columns):\n",
      "id         100000 non-null object\n",
      "f0         100000 non-null float64\n",
      "f1         100000 non-null float64\n",
      "f2         100000 non-null float64\n",
      "product    100000 non-null float64\n",
      "dtypes: float64(4), object(1)\n",
      "memory usage: 3.8+ MB\n"
     ]
    }
   ],
   "source": [
    "df0.info()"
   ]
  },
  {
   "cell_type": "code",
   "execution_count": 246,
   "metadata": {},
   "outputs": [
    {
     "data": {
      "text/html": [
       "<div>\n",
       "<style scoped>\n",
       "    .dataframe tbody tr th:only-of-type {\n",
       "        vertical-align: middle;\n",
       "    }\n",
       "\n",
       "    .dataframe tbody tr th {\n",
       "        vertical-align: top;\n",
       "    }\n",
       "\n",
       "    .dataframe thead th {\n",
       "        text-align: right;\n",
       "    }\n",
       "</style>\n",
       "<table border=\"1\" class=\"dataframe\">\n",
       "  <thead>\n",
       "    <tr style=\"text-align: right;\">\n",
       "      <th></th>\n",
       "      <th>id</th>\n",
       "      <th>f0</th>\n",
       "      <th>f1</th>\n",
       "      <th>f2</th>\n",
       "      <th>product</th>\n",
       "    </tr>\n",
       "  </thead>\n",
       "  <tbody>\n",
       "    <tr>\n",
       "      <td>0</td>\n",
       "      <td>kBEdx</td>\n",
       "      <td>-15.001348</td>\n",
       "      <td>-8.276000</td>\n",
       "      <td>-0.005876</td>\n",
       "      <td>3.179103</td>\n",
       "    </tr>\n",
       "    <tr>\n",
       "      <td>1</td>\n",
       "      <td>62mP7</td>\n",
       "      <td>14.272088</td>\n",
       "      <td>-3.475083</td>\n",
       "      <td>0.999183</td>\n",
       "      <td>26.953261</td>\n",
       "    </tr>\n",
       "    <tr>\n",
       "      <td>2</td>\n",
       "      <td>vyE1P</td>\n",
       "      <td>6.263187</td>\n",
       "      <td>-5.948386</td>\n",
       "      <td>5.001160</td>\n",
       "      <td>134.766305</td>\n",
       "    </tr>\n",
       "    <tr>\n",
       "      <td>3</td>\n",
       "      <td>KcrkZ</td>\n",
       "      <td>-13.081196</td>\n",
       "      <td>-11.506057</td>\n",
       "      <td>4.999415</td>\n",
       "      <td>137.945408</td>\n",
       "    </tr>\n",
       "    <tr>\n",
       "      <td>4</td>\n",
       "      <td>AHL4O</td>\n",
       "      <td>12.702195</td>\n",
       "      <td>-8.147433</td>\n",
       "      <td>5.004363</td>\n",
       "      <td>134.766305</td>\n",
       "    </tr>\n",
       "    <tr>\n",
       "      <td>...</td>\n",
       "      <td>...</td>\n",
       "      <td>...</td>\n",
       "      <td>...</td>\n",
       "      <td>...</td>\n",
       "      <td>...</td>\n",
       "    </tr>\n",
       "    <tr>\n",
       "      <td>99995</td>\n",
       "      <td>QywKC</td>\n",
       "      <td>9.535637</td>\n",
       "      <td>-6.878139</td>\n",
       "      <td>1.998296</td>\n",
       "      <td>53.906522</td>\n",
       "    </tr>\n",
       "    <tr>\n",
       "      <td>99996</td>\n",
       "      <td>ptvty</td>\n",
       "      <td>-10.160631</td>\n",
       "      <td>-12.558096</td>\n",
       "      <td>5.005581</td>\n",
       "      <td>137.945408</td>\n",
       "    </tr>\n",
       "    <tr>\n",
       "      <td>99997</td>\n",
       "      <td>09gWa</td>\n",
       "      <td>-7.378891</td>\n",
       "      <td>-3.084104</td>\n",
       "      <td>4.998651</td>\n",
       "      <td>137.945408</td>\n",
       "    </tr>\n",
       "    <tr>\n",
       "      <td>99998</td>\n",
       "      <td>rqwUm</td>\n",
       "      <td>0.665714</td>\n",
       "      <td>-6.152593</td>\n",
       "      <td>1.000146</td>\n",
       "      <td>30.132364</td>\n",
       "    </tr>\n",
       "    <tr>\n",
       "      <td>99999</td>\n",
       "      <td>relB0</td>\n",
       "      <td>-3.426139</td>\n",
       "      <td>-7.794274</td>\n",
       "      <td>-0.003299</td>\n",
       "      <td>3.179103</td>\n",
       "    </tr>\n",
       "  </tbody>\n",
       "</table>\n",
       "<p>100000 rows × 5 columns</p>\n",
       "</div>"
      ],
      "text/plain": [
       "          id         f0         f1        f2     product\n",
       "0      kBEdx -15.001348  -8.276000 -0.005876    3.179103\n",
       "1      62mP7  14.272088  -3.475083  0.999183   26.953261\n",
       "2      vyE1P   6.263187  -5.948386  5.001160  134.766305\n",
       "3      KcrkZ -13.081196 -11.506057  4.999415  137.945408\n",
       "4      AHL4O  12.702195  -8.147433  5.004363  134.766305\n",
       "...      ...        ...        ...       ...         ...\n",
       "99995  QywKC   9.535637  -6.878139  1.998296   53.906522\n",
       "99996  ptvty -10.160631 -12.558096  5.005581  137.945408\n",
       "99997  09gWa  -7.378891  -3.084104  4.998651  137.945408\n",
       "99998  rqwUm   0.665714  -6.152593  1.000146   30.132364\n",
       "99999  relB0  -3.426139  -7.794274 -0.003299    3.179103\n",
       "\n",
       "[100000 rows x 5 columns]"
      ]
     },
     "execution_count": 246,
     "metadata": {},
     "output_type": "execute_result"
    }
   ],
   "source": [
    "df1"
   ]
  },
  {
   "cell_type": "code",
   "execution_count": 247,
   "metadata": {},
   "outputs": [
    {
     "name": "stdout",
     "output_type": "stream",
     "text": [
      "<class 'pandas.core.frame.DataFrame'>\n",
      "RangeIndex: 100000 entries, 0 to 99999\n",
      "Data columns (total 5 columns):\n",
      "id         100000 non-null object\n",
      "f0         100000 non-null float64\n",
      "f1         100000 non-null float64\n",
      "f2         100000 non-null float64\n",
      "product    100000 non-null float64\n",
      "dtypes: float64(4), object(1)\n",
      "memory usage: 3.8+ MB\n"
     ]
    }
   ],
   "source": [
    "df1.info()"
   ]
  },
  {
   "cell_type": "code",
   "execution_count": 248,
   "metadata": {},
   "outputs": [
    {
     "data": {
      "text/html": [
       "<div>\n",
       "<style scoped>\n",
       "    .dataframe tbody tr th:only-of-type {\n",
       "        vertical-align: middle;\n",
       "    }\n",
       "\n",
       "    .dataframe tbody tr th {\n",
       "        vertical-align: top;\n",
       "    }\n",
       "\n",
       "    .dataframe thead th {\n",
       "        text-align: right;\n",
       "    }\n",
       "</style>\n",
       "<table border=\"1\" class=\"dataframe\">\n",
       "  <thead>\n",
       "    <tr style=\"text-align: right;\">\n",
       "      <th></th>\n",
       "      <th>id</th>\n",
       "      <th>f0</th>\n",
       "      <th>f1</th>\n",
       "      <th>f2</th>\n",
       "      <th>product</th>\n",
       "    </tr>\n",
       "  </thead>\n",
       "  <tbody>\n",
       "    <tr>\n",
       "      <td>0</td>\n",
       "      <td>fwXo0</td>\n",
       "      <td>-1.146987</td>\n",
       "      <td>0.963328</td>\n",
       "      <td>-0.828965</td>\n",
       "      <td>27.758673</td>\n",
       "    </tr>\n",
       "    <tr>\n",
       "      <td>1</td>\n",
       "      <td>WJtFt</td>\n",
       "      <td>0.262778</td>\n",
       "      <td>0.269839</td>\n",
       "      <td>-2.530187</td>\n",
       "      <td>56.069697</td>\n",
       "    </tr>\n",
       "    <tr>\n",
       "      <td>2</td>\n",
       "      <td>ovLUW</td>\n",
       "      <td>0.194587</td>\n",
       "      <td>0.289035</td>\n",
       "      <td>-5.586433</td>\n",
       "      <td>62.871910</td>\n",
       "    </tr>\n",
       "    <tr>\n",
       "      <td>3</td>\n",
       "      <td>q6cA6</td>\n",
       "      <td>2.236060</td>\n",
       "      <td>-0.553760</td>\n",
       "      <td>0.930038</td>\n",
       "      <td>114.572842</td>\n",
       "    </tr>\n",
       "    <tr>\n",
       "      <td>4</td>\n",
       "      <td>WPMUX</td>\n",
       "      <td>-0.515993</td>\n",
       "      <td>1.716266</td>\n",
       "      <td>5.899011</td>\n",
       "      <td>149.600746</td>\n",
       "    </tr>\n",
       "    <tr>\n",
       "      <td>...</td>\n",
       "      <td>...</td>\n",
       "      <td>...</td>\n",
       "      <td>...</td>\n",
       "      <td>...</td>\n",
       "      <td>...</td>\n",
       "    </tr>\n",
       "    <tr>\n",
       "      <td>99995</td>\n",
       "      <td>4GxBu</td>\n",
       "      <td>-1.777037</td>\n",
       "      <td>1.125220</td>\n",
       "      <td>6.263374</td>\n",
       "      <td>172.327046</td>\n",
       "    </tr>\n",
       "    <tr>\n",
       "      <td>99996</td>\n",
       "      <td>YKFjq</td>\n",
       "      <td>-1.261523</td>\n",
       "      <td>-0.894828</td>\n",
       "      <td>2.524545</td>\n",
       "      <td>138.748846</td>\n",
       "    </tr>\n",
       "    <tr>\n",
       "      <td>99997</td>\n",
       "      <td>tKPY3</td>\n",
       "      <td>-1.199934</td>\n",
       "      <td>-2.957637</td>\n",
       "      <td>5.219411</td>\n",
       "      <td>157.080080</td>\n",
       "    </tr>\n",
       "    <tr>\n",
       "      <td>99998</td>\n",
       "      <td>nmxp2</td>\n",
       "      <td>-2.419896</td>\n",
       "      <td>2.417221</td>\n",
       "      <td>-5.548444</td>\n",
       "      <td>51.795253</td>\n",
       "    </tr>\n",
       "    <tr>\n",
       "      <td>99999</td>\n",
       "      <td>V9kWn</td>\n",
       "      <td>-2.551421</td>\n",
       "      <td>-2.025625</td>\n",
       "      <td>6.090891</td>\n",
       "      <td>102.775767</td>\n",
       "    </tr>\n",
       "  </tbody>\n",
       "</table>\n",
       "<p>100000 rows × 5 columns</p>\n",
       "</div>"
      ],
      "text/plain": [
       "          id        f0        f1        f2     product\n",
       "0      fwXo0 -1.146987  0.963328 -0.828965   27.758673\n",
       "1      WJtFt  0.262778  0.269839 -2.530187   56.069697\n",
       "2      ovLUW  0.194587  0.289035 -5.586433   62.871910\n",
       "3      q6cA6  2.236060 -0.553760  0.930038  114.572842\n",
       "4      WPMUX -0.515993  1.716266  5.899011  149.600746\n",
       "...      ...       ...       ...       ...         ...\n",
       "99995  4GxBu -1.777037  1.125220  6.263374  172.327046\n",
       "99996  YKFjq -1.261523 -0.894828  2.524545  138.748846\n",
       "99997  tKPY3 -1.199934 -2.957637  5.219411  157.080080\n",
       "99998  nmxp2 -2.419896  2.417221 -5.548444   51.795253\n",
       "99999  V9kWn -2.551421 -2.025625  6.090891  102.775767\n",
       "\n",
       "[100000 rows x 5 columns]"
      ]
     },
     "execution_count": 248,
     "metadata": {},
     "output_type": "execute_result"
    }
   ],
   "source": [
    "df2"
   ]
  },
  {
   "cell_type": "code",
   "execution_count": 249,
   "metadata": {},
   "outputs": [
    {
     "name": "stdout",
     "output_type": "stream",
     "text": [
      "<class 'pandas.core.frame.DataFrame'>\n",
      "RangeIndex: 100000 entries, 0 to 99999\n",
      "Data columns (total 5 columns):\n",
      "id         100000 non-null object\n",
      "f0         100000 non-null float64\n",
      "f1         100000 non-null float64\n",
      "f2         100000 non-null float64\n",
      "product    100000 non-null float64\n",
      "dtypes: float64(4), object(1)\n",
      "memory usage: 3.8+ MB\n"
     ]
    }
   ],
   "source": [
    "df2.info()"
   ]
  },
  {
   "cell_type": "markdown",
   "metadata": {},
   "source": [
    "Пропусков нет, типы данных правильные. "
   ]
  },
  {
   "cell_type": "code",
   "execution_count": 250,
   "metadata": {},
   "outputs": [],
   "source": [
    "# удалим слобцы с идентификатором скважины в каждом регионе, тк это не признак скваажины а ее обозначение\n",
    "\n",
    "\n",
    "df0 = df0.drop('id', axis=1)\n",
    "df1 = df1.drop('id', axis=1)\n",
    "df2 = df2.drop('id', axis=1)"
   ]
  },
  {
   "cell_type": "code",
   "execution_count": 251,
   "metadata": {},
   "outputs": [
    {
     "name": "stdout",
     "output_type": "stream",
     "text": [
      "<class 'pandas.core.frame.DataFrame'>\n",
      "RangeIndex: 100000 entries, 0 to 99999\n",
      "Data columns (total 4 columns):\n",
      "f0         100000 non-null float64\n",
      "f1         100000 non-null float64\n",
      "f2         100000 non-null float64\n",
      "product    100000 non-null float64\n",
      "dtypes: float64(4)\n",
      "memory usage: 3.1 MB\n"
     ]
    }
   ],
   "source": [
    "df0.info()"
   ]
  },
  {
   "cell_type": "code",
   "execution_count": 252,
   "metadata": {},
   "outputs": [
    {
     "name": "stdout",
     "output_type": "stream",
     "text": [
      "<class 'pandas.core.frame.DataFrame'>\n",
      "RangeIndex: 100000 entries, 0 to 99999\n",
      "Data columns (total 4 columns):\n",
      "f0         100000 non-null float64\n",
      "f1         100000 non-null float64\n",
      "f2         100000 non-null float64\n",
      "product    100000 non-null float64\n",
      "dtypes: float64(4)\n",
      "memory usage: 3.1 MB\n"
     ]
    }
   ],
   "source": [
    "df1.info()"
   ]
  },
  {
   "cell_type": "code",
   "execution_count": 253,
   "metadata": {
    "scrolled": true
   },
   "outputs": [
    {
     "name": "stdout",
     "output_type": "stream",
     "text": [
      "<class 'pandas.core.frame.DataFrame'>\n",
      "RangeIndex: 100000 entries, 0 to 99999\n",
      "Data columns (total 4 columns):\n",
      "f0         100000 non-null float64\n",
      "f1         100000 non-null float64\n",
      "f2         100000 non-null float64\n",
      "product    100000 non-null float64\n",
      "dtypes: float64(4)\n",
      "memory usage: 3.1 MB\n"
     ]
    }
   ],
   "source": [
    "df2.info()"
   ]
  },
  {
   "cell_type": "markdown",
   "metadata": {},
   "source": [
    "## Обучение и проверка модели"
   ]
  },
  {
   "cell_type": "markdown",
   "metadata": {},
   "source": [
    "### Разобьем данные на обучающую и валидационную выборки в соотношении 75:25 "
   ]
  },
  {
   "cell_type": "code",
   "execution_count": 254,
   "metadata": {},
   "outputs": [],
   "source": [
    "#  Разобьем данные первой скважины на обучающую и валидационную выборки в соотношении 75:25 \n",
    "\n",
    "target_0 = df0['product']\n",
    "features_0 = df0.drop('product', axis=1)\n",
    "\n",
    "features_0_train, features_0_valid, target_0_train, target_0_valid = train_test_split(\n",
    "    features_0, target_0, test_size=0.25, random_state=12345)\n"
   ]
  },
  {
   "cell_type": "code",
   "execution_count": 255,
   "metadata": {},
   "outputs": [
    {
     "data": {
      "text/plain": [
       "(75000, 3)"
      ]
     },
     "execution_count": 255,
     "metadata": {},
     "output_type": "execute_result"
    }
   ],
   "source": [
    "features_0_train.shape"
   ]
  },
  {
   "cell_type": "code",
   "execution_count": 256,
   "metadata": {},
   "outputs": [
    {
     "data": {
      "text/plain": [
       "(25000, 3)"
      ]
     },
     "execution_count": 256,
     "metadata": {},
     "output_type": "execute_result"
    }
   ],
   "source": [
    "features_0_valid.shape"
   ]
  },
  {
   "cell_type": "code",
   "execution_count": 257,
   "metadata": {},
   "outputs": [
    {
     "data": {
      "text/plain": [
       "(75000,)"
      ]
     },
     "execution_count": 257,
     "metadata": {},
     "output_type": "execute_result"
    }
   ],
   "source": [
    "target_0_train.shape"
   ]
  },
  {
   "cell_type": "code",
   "execution_count": 258,
   "metadata": {},
   "outputs": [
    {
     "data": {
      "text/plain": [
       "(25000,)"
      ]
     },
     "execution_count": 258,
     "metadata": {},
     "output_type": "execute_result"
    }
   ],
   "source": [
    "target_0_valid.shape"
   ]
  },
  {
   "cell_type": "code",
   "execution_count": 259,
   "metadata": {},
   "outputs": [],
   "source": [
    "#  Разобьем данные второй скважины на обучающую и валидационную выборки в соотношении 75:25 \n",
    "\n",
    "target_1 = df1['product']\n",
    "features_1 = df1.drop('product', axis=1)\n",
    "\n",
    "features_1_train, features_1_valid, target_1_train, target_1_valid = train_test_split(\n",
    "    features_1, target_1, test_size=0.25, random_state=12345)\n"
   ]
  },
  {
   "cell_type": "code",
   "execution_count": 260,
   "metadata": {},
   "outputs": [
    {
     "data": {
      "text/plain": [
       "(75000, 3)"
      ]
     },
     "execution_count": 260,
     "metadata": {},
     "output_type": "execute_result"
    }
   ],
   "source": [
    "features_1_train.shape"
   ]
  },
  {
   "cell_type": "code",
   "execution_count": 261,
   "metadata": {},
   "outputs": [
    {
     "data": {
      "text/plain": [
       "(25000, 3)"
      ]
     },
     "execution_count": 261,
     "metadata": {},
     "output_type": "execute_result"
    }
   ],
   "source": [
    "features_1_valid.shape"
   ]
  },
  {
   "cell_type": "code",
   "execution_count": 262,
   "metadata": {},
   "outputs": [
    {
     "data": {
      "text/plain": [
       "(75000,)"
      ]
     },
     "execution_count": 262,
     "metadata": {},
     "output_type": "execute_result"
    }
   ],
   "source": [
    "target_1_train.shape"
   ]
  },
  {
   "cell_type": "code",
   "execution_count": 263,
   "metadata": {},
   "outputs": [
    {
     "data": {
      "text/plain": [
       "(25000,)"
      ]
     },
     "execution_count": 263,
     "metadata": {},
     "output_type": "execute_result"
    }
   ],
   "source": [
    "target_1_valid.shape"
   ]
  },
  {
   "cell_type": "code",
   "execution_count": 264,
   "metadata": {},
   "outputs": [],
   "source": [
    "#  Разобьем данные третей скважины на обучающую и валидационную выборки в соотношении 75:25 \n",
    "\n",
    "target_2 = df2['product']\n",
    "features_2 = df2.drop('product', axis=1)\n",
    "\n",
    "features_2_train, features_2_valid, target_2_train, target_2_valid = train_test_split(\n",
    "    features_2, target_2, test_size=0.25, random_state=12345)\n"
   ]
  },
  {
   "cell_type": "code",
   "execution_count": 265,
   "metadata": {},
   "outputs": [
    {
     "data": {
      "text/plain": [
       "(75000, 3)"
      ]
     },
     "execution_count": 265,
     "metadata": {},
     "output_type": "execute_result"
    }
   ],
   "source": [
    "features_1_train.shape"
   ]
  },
  {
   "cell_type": "code",
   "execution_count": 266,
   "metadata": {},
   "outputs": [
    {
     "data": {
      "text/plain": [
       "(25000, 3)"
      ]
     },
     "execution_count": 266,
     "metadata": {},
     "output_type": "execute_result"
    }
   ],
   "source": [
    "features_1_valid.shape"
   ]
  },
  {
   "cell_type": "code",
   "execution_count": 267,
   "metadata": {},
   "outputs": [
    {
     "data": {
      "text/plain": [
       "(75000,)"
      ]
     },
     "execution_count": 267,
     "metadata": {},
     "output_type": "execute_result"
    }
   ],
   "source": [
    "target_1_train.shape"
   ]
  },
  {
   "cell_type": "code",
   "execution_count": 268,
   "metadata": {},
   "outputs": [
    {
     "data": {
      "text/plain": [
       "(25000,)"
      ]
     },
     "execution_count": 268,
     "metadata": {},
     "output_type": "execute_result"
    }
   ],
   "source": [
    "target_1_valid.shape"
   ]
  },
  {
   "cell_type": "code",
   "execution_count": 269,
   "metadata": {},
   "outputs": [],
   "source": [
    "model = LinearRegression()"
   ]
  },
  {
   "cell_type": "code",
   "execution_count": 270,
   "metadata": {},
   "outputs": [
    {
     "name": "stdout",
     "output_type": "stream",
     "text": [
      "Средний запас предсказанного сырья: 92.59256778438038\n",
      "RMSE = 37.5794217150813\n"
     ]
    }
   ],
   "source": [
    "# обучим модель для первого региона и напечатаем Средний запас предсказанного сырья и RMSE модели\n",
    "\n",
    "\n",
    "model.fit(features_0_train,target_0_train)\n",
    "\n",
    "predicted_0_valid=model.predict(features_0_valid)\n",
    "predicted_0_valid = pd.Series(predicted_0_valid)\n",
    "\n",
    "mse= mean_squared_error(predicted_0_valid,target_0_valid)\n",
    "\n",
    "print(\"Средний запас предсказанного сырья:\", predicted_0_valid.mean())\n",
    "print(\"RMSE =\", mse ** 0.5)"
   ]
  },
  {
   "cell_type": "code",
   "execution_count": 271,
   "metadata": {},
   "outputs": [
    {
     "name": "stdout",
     "output_type": "stream",
     "text": [
      "Средний запас предсказанного сырья: 68.728546895446\n",
      "RMSE = 0.893099286775616\n"
     ]
    }
   ],
   "source": [
    "# обучим модель для второго региона и напечатаем Средний запас предсказанного сырья и RMSE модели\n",
    "\n",
    "\n",
    "model.fit(features_1_train,target_1_train)\n",
    "\n",
    "predicted_1_valid=model.predict(features_1_valid)\n",
    "predicted_1_valid = pd.Series(predicted_1_valid)\n",
    "\n",
    "mse= mean_squared_error(predicted_1_valid,target_1_valid)\n",
    "\n",
    "print(\"Средний запас предсказанного сырья:\", predicted_1_valid.mean())\n",
    "print(\"RMSE =\", mse ** 0.5)"
   ]
  },
  {
   "cell_type": "code",
   "execution_count": 272,
   "metadata": {},
   "outputs": [
    {
     "name": "stdout",
     "output_type": "stream",
     "text": [
      "Средний запас предсказанного сырья: 94.96504596800489\n",
      "RMSE = 40.02970873393434\n"
     ]
    }
   ],
   "source": [
    "# обучим модель для третьего региона и напечатаем Средний запас предсказанного сырья и RMSE модели\n",
    "\n",
    "\n",
    "model.fit(features_2_train,target_2_train)\n",
    "\n",
    "predicted_2_valid=model.predict(features_2_valid)\n",
    "predicted_2_valid = pd.Series(predicted_2_valid)\n",
    "\n",
    "mse= mean_squared_error(predicted_2_valid,target_2_valid)\n",
    "\n",
    "print(\"Средний запас предсказанного сырья:\", predicted_2_valid.mean())\n",
    "print(\"RMSE =\", mse ** 0.5)"
   ]
  },
  {
   "cell_type": "markdown",
   "metadata": {},
   "source": [
    "Вывод: мы разбили данные на обучающую и валидационную выборку, обучили модель и предсказали запасы сырья в скважинах."
   ]
  },
  {
   "cell_type": "markdown",
   "metadata": {},
   "source": [
    "## Подготовка к расчёту прибыли"
   ]
  },
  {
   "cell_type": "markdown",
   "metadata": {},
   "source": [
    "Рассчитаем достаточный объём сырья для безубыточной разработки новой скважины.\n",
    "\n",
    "Сравним полученный объём сырья со средним запасом в каждом регионе"
   ]
  },
  {
   "cell_type": "code",
   "execution_count": 273,
   "metadata": {},
   "outputs": [
    {
     "name": "stdout",
     "output_type": "stream",
     "text": [
      "Достаточный обьем сырья для безубыточной разработки новой скважины:  111.11111111111111 тысяч баррелей.\n"
     ]
    }
   ],
   "source": [
    "# Рассчитаем достаточный объём сырья для безубыточной разработки новой скважины\n",
    "# Бюджет на разработку скважин в регионе — 10 млрд рублей.\n",
    "# Доход с каждой единицы продукта составляет 450 тыс. рублей, поскольку объём указан в тысячах баррелей.\n",
    "# Количество лучших точек для разработки = 200\n",
    "\n",
    "\n",
    "POINTS_FOR_BUDGET = 200 \n",
    "\n",
    "BUDGET = 10000000000\n",
    "PROFIT = 450000\n",
    "\n",
    "volume = BUDGET / PROFIT / POINTS_FOR_BUDGET\n",
    "print('Достаточный обьем сырья для безубыточной разработки новой скважины: ',volume, 'тысяч баррелей.')"
   ]
  },
  {
   "cell_type": "code",
   "execution_count": 274,
   "metadata": {},
   "outputs": [
    {
     "name": "stdout",
     "output_type": "stream",
     "text": [
      "средним запас объёма сырья\n",
      "\n",
      "в первом регионе: 92.50000000000001 тысяч баррелей.\n",
      "во втором регионе: 68.82500000000002 тысяч баррелей.\n",
      "в третьем регионе: 95.00000000000004 тысяч баррелей.\n"
     ]
    }
   ],
   "source": [
    "# Сравним полученный объём сырья со средним запасом в каждом регионе\n",
    "\n",
    "\n",
    "print(\"средним запас объёма сырья\")\n",
    "print()\n",
    "print(\"в первом регионе:\", df0['product'].mean(), 'тысяч баррелей.')\n",
    "print(\"во втором регионе:\", df1['product'].mean(), 'тысяч баррелей.')\n",
    "print(\"в третьем регионе:\", df2['product'].mean(), 'тысяч баррелей.')"
   ]
  },
  {
   "cell_type": "markdown",
   "metadata": {},
   "source": [
    "Выводы: средний запас сырья в каждом регионе не дотягивает до достаточного для безубыточной разработки объема, это значит что с вероятностью более 50% выбранная наугад скважина будет убыточна в каждом регионе."
   ]
  },
  {
   "cell_type": "markdown",
   "metadata": {},
   "source": [
    "## Расчёт прибыли и рисков "
   ]
  },
  {
   "cell_type": "markdown",
   "metadata": {},
   "source": [
    "### Функция для расчёта прибыли"
   ]
  },
  {
   "cell_type": "markdown",
   "metadata": {},
   "source": [
    "Напишем функцию для расчёта прибыли по выбранным скважинам и предсказаниям модели:\n",
    "\n",
    "Выберем скважины с максимальными значениями предсказаний.\n",
    "\n",
    "Просуммируем целевое значение объёма сырья, соответствующее этим предсказаниям.\n",
    "\n",
    "Рассчитаем прибыль для полученного объёма сырья"
   ]
  },
  {
   "cell_type": "code",
   "execution_count": 275,
   "metadata": {},
   "outputs": [],
   "source": [
    "# Напишем функцию для расчёта прибыли по выбранным скважинам и предсказаниям модели\n",
    "\n",
    "\n",
    "def profit_calc(target, predictions, count):\n",
    "    predict_sorted = predictions.sort_values(ascending=False)\n",
    "    selected = target[predict_sorted.index][:count]\n",
    "    return PROFIT * selected.sum() - BUDGET"
   ]
  },
  {
   "cell_type": "markdown",
   "metadata": {},
   "source": [
    "### Расчет рисков и прибыли для каждого региона"
   ]
  },
  {
   "cell_type": "markdown",
   "metadata": {},
   "source": [
    "- Применим технику Bootstrap с 1000 выборок, чтобы найти распределение прибыли.\n",
    "- Найдем среднюю прибыль, 95%-й доверительный интервал и риск убытков. Убыток — это отрицательная прибыль.\n",
    "- Напишем выводы: предложим регион для разработки скважин и обоснуем выбор."
   ]
  },
  {
   "cell_type": "code",
   "execution_count": 276,
   "metadata": {},
   "outputs": [
    {
     "name": "stdout",
     "output_type": "stream",
     "text": [
      "Средняя выручка первого региона = 0    4.259385e+08\n",
      "dtype: float64\n",
      "95%-й доверительный интервал в первом регионе =                   0\n",
      "0.025 -1.020901e+08\n",
      "0.975  9.479764e+08\n",
      "Риск убытков в первом регионе = 0    0.06\n",
      "dtype: float64\n"
     ]
    }
   ],
   "source": [
    "# Расчет рисков и прибыли для первого региона\n",
    "\n",
    "\n",
    "state = np.random.RandomState(12345)\n",
    " \n",
    "values_0 = []\n",
    "\n",
    "for i in range(1000):\n",
    "    target_subsample_0 = target_0_valid.reset_index(drop=True).sample(n=500,replace=True,random_state=state)\n",
    "    predicted_subsample_0 = predicted_0_valid[target_subsample_0.index]   \n",
    "    values_0.append(profit_calc(target_subsample_0,predicted_subsample_0,POINTS_FOR_BUDGET))\n",
    " \n",
    " \n",
    "values_0 = pd.DataFrame(values_0)\n",
    "\n",
    "mean_0 = values_0.mean()\n",
    "        \n",
    "lower_0 = values_0.quantile([0.025, 0.975])\n",
    " \n",
    "risk_0 = (values_0 < 0).mean()\n",
    "\n",
    "print('Средняя выручка первого региона =', mean_0)\n",
    "print('95%-й доверительный интервал в первом регионе =', lower_0)\n",
    "print('Риск убытков в первом регионе =', risk_0)\n"
   ]
  },
  {
   "cell_type": "code",
   "execution_count": 277,
   "metadata": {},
   "outputs": [
    {
     "name": "stdout",
     "output_type": "stream",
     "text": [
      "Средняя выручка первого региона = 515222773.44328994\n",
      "95%-й доверительный интервал в первом регионе = 0.025    6.887323e+07\n",
      "0.975    9.315476e+08\n",
      "dtype: float64\n",
      "Риск убытков в втором регионе = 0.01\n"
     ]
    }
   ],
   "source": [
    "# Расчет рисков и прибыли для второго региона\n",
    "\n",
    "\n",
    "state = np.random.RandomState(12345)\n",
    " \n",
    "values_1 = []\n",
    " \n",
    "for i in range(1000):\n",
    "    target_subsample_1 = target_1_valid.reset_index(drop=True).sample(n=500,replace=True,random_state=state)\n",
    "    predicted_subsample_1 = predicted_1_valid[target_subsample_1.index]   \n",
    "    values_1.append(profit_calc(target_subsample_1,predicted_subsample_1,POINTS_FOR_BUDGET))\n",
    " \n",
    " \n",
    "values_1 = pd.Series(values_1)\n",
    "\n",
    "mean_1 = values_1.mean()\n",
    "        \n",
    "lower_1 = values_1.quantile([0.025, 0.975])\n",
    " \n",
    "risk_1 = (values_1 < 0).mean()\n",
    " \n",
    "print('Средняя выручка первого региона =', mean_1)\n",
    "print('95%-й доверительный интервал в первом регионе =', lower_1)\n",
    "print('Риск убытков в втором регионе =', risk_1)"
   ]
  },
  {
   "cell_type": "code",
   "execution_count": 278,
   "metadata": {},
   "outputs": [
    {
     "name": "stdout",
     "output_type": "stream",
     "text": [
      "Средняя выручка третьего региона = 435008362.78275555\n",
      "95%-й доверительный интервал в третьем регионе = 0.025   -1.288805e+08\n",
      "0.975    9.697070e+08\n",
      "dtype: float64\n",
      "Риск убытков в третьем регионе = 0.064\n"
     ]
    }
   ],
   "source": [
    "# Расчет рисков и прибыли для третьего региона\n",
    "\n",
    "\n",
    "state = np.random.RandomState(12345)\n",
    " \n",
    "values_2 = []\n",
    " \n",
    "for i in range(1000):\n",
    "    target_subsample_2 = target_2_valid.reset_index(drop=True).sample(n=500,replace=True,random_state=state)\n",
    "    predicted_subsample_2 = predicted_2_valid[target_subsample_2.index]   \n",
    "    values_2.append(profit_calc(target_subsample_2,predicted_subsample_2,POINTS_FOR_BUDGET))\n",
    " \n",
    " \n",
    "values_2 = pd.Series(values_2)\n",
    "\n",
    "mean_2 = values_2.mean()\n",
    "        \n",
    "lower_2 = values_2.quantile([0.025, 0.975])\n",
    " \n",
    "risk_2 = (values_2 < 0).mean()\n",
    " \n",
    "print('Средняя выручка третьего региона =', mean_2)\n",
    "print('95%-й доверительный интервал в третьем регионе =', lower_2)\n",
    "print('Риск убытков в третьем регионе =', risk_2)"
   ]
  },
  {
   "cell_type": "markdown",
   "metadata": {},
   "source": [
    "Вывод: первый и третий регион имеют риск убытков в 6 и более процентов. И только второй регион имеет неоходимый нам уровень риска меньше 2.5%. \n",
    "\n",
    "И поэтому именно второй регион более перспективен для разработки исходя из имеющихся у нас данных."
   ]
  },
  {
   "cell_type": "markdown",
   "metadata": {},
   "source": [
    "## Выводы"
   ]
  },
  {
   "cell_type": "markdown",
   "metadata": {},
   "source": [
    "По итогу мы можем сделать следующие выводы:\n",
    "\n",
    "- мы написали цель проекта, план выполнения, описание данных и условия задачи\n",
    "- мы провели загрузку и подготовку данных\n",
    "- данные были без пропусков и некорректных значений\n",
    "- мы провели обучение и проверку модели\n",
    "- мы подготовились к расчету прибыли\n",
    "- мы провели расчет прибыли и рисков для каждого региона\n",
    "- мы получили средние значения выручки для каждого региона\n",
    "- мы получили риск убытков: в первом регионе: 6%, во втором: 0.3%, в третьем: 6.2%\n",
    "\n",
    "Предлагаемый регион для разработки скважин - второй, так как только он имеет риск убытков меньше 2.5%\n"
   ]
  }
 ],
 "metadata": {
  "ExecuteTimeLog": [
   {
    "duration": 392,
    "start_time": "2022-02-03T17:20:29.092Z"
   },
   {
    "duration": 1479,
    "start_time": "2022-02-03T17:20:40.169Z"
   },
   {
    "duration": 4,
    "start_time": "2022-02-03T17:20:43.520Z"
   },
   {
    "duration": 4,
    "start_time": "2022-02-03T17:20:44.199Z"
   },
   {
    "duration": 443,
    "start_time": "2022-02-03T17:20:44.980Z"
   },
   {
    "duration": 23,
    "start_time": "2022-02-03T17:21:57.576Z"
   },
   {
    "duration": 14,
    "start_time": "2022-02-03T17:21:58.249Z"
   },
   {
    "duration": 359,
    "start_time": "2022-02-03T17:21:58.634Z"
   },
   {
    "duration": -40,
    "start_time": "2022-02-03T17:21:59.036Z"
   },
   {
    "duration": 430,
    "start_time": "2022-02-03T17:22:04.061Z"
   },
   {
    "duration": 18,
    "start_time": "2022-02-03T17:22:04.776Z"
   },
   {
    "duration": 14,
    "start_time": "2022-02-03T17:22:05.194Z"
   },
   {
    "duration": 17,
    "start_time": "2022-02-03T17:22:05.536Z"
   },
   {
    "duration": 14,
    "start_time": "2022-02-03T17:22:05.788Z"
   },
   {
    "duration": 16,
    "start_time": "2022-02-03T17:22:06.094Z"
   },
   {
    "duration": 17,
    "start_time": "2022-02-03T17:22:07.535Z"
   },
   {
    "duration": 405,
    "start_time": "2022-02-03T18:22:25.334Z"
   },
   {
    "duration": 464,
    "start_time": "2022-02-03T18:22:30.642Z"
   },
   {
    "duration": 17,
    "start_time": "2022-02-03T18:22:32.054Z"
   },
   {
    "duration": 17,
    "start_time": "2022-02-03T18:22:32.258Z"
   },
   {
    "duration": 19,
    "start_time": "2022-02-03T18:22:32.384Z"
   },
   {
    "duration": 15,
    "start_time": "2022-02-03T18:22:32.556Z"
   },
   {
    "duration": 17,
    "start_time": "2022-02-03T18:22:32.784Z"
   },
   {
    "duration": 16,
    "start_time": "2022-02-03T18:22:32.934Z"
   },
   {
    "duration": 32,
    "start_time": "2022-02-03T18:22:34.244Z"
   },
   {
    "duration": 6,
    "start_time": "2022-02-03T18:22:36.482Z"
   },
   {
    "duration": 16,
    "start_time": "2022-02-03T18:22:37.273Z"
   },
   {
    "duration": 6,
    "start_time": "2022-02-03T18:22:46.008Z"
   },
   {
    "duration": 6,
    "start_time": "2022-02-03T18:22:47.041Z"
   },
   {
    "duration": 6,
    "start_time": "2022-02-03T18:22:47.590Z"
   },
   {
    "duration": 5,
    "start_time": "2022-02-03T18:23:25.113Z"
   },
   {
    "duration": 43,
    "start_time": "2022-02-03T18:23:28.963Z"
   },
   {
    "duration": 5,
    "start_time": "2022-02-03T18:23:29.988Z"
   },
   {
    "duration": 5,
    "start_time": "2022-02-03T18:23:30.477Z"
   },
   {
    "duration": 7,
    "start_time": "2022-02-03T18:23:30.768Z"
   },
   {
    "duration": 549,
    "start_time": "2022-02-03T18:23:31.027Z"
   },
   {
    "duration": 105,
    "start_time": "2022-02-03T18:23:31.474Z"
   },
   {
    "duration": 6,
    "start_time": "2022-02-03T18:23:39.442Z"
   },
   {
    "duration": 40,
    "start_time": "2022-02-03T18:23:51.573Z"
   },
   {
    "duration": 7,
    "start_time": "2022-02-03T18:23:52.141Z"
   },
   {
    "duration": 6,
    "start_time": "2022-02-03T18:23:52.437Z"
   },
   {
    "duration": 7,
    "start_time": "2022-02-03T18:23:52.725Z"
   },
   {
    "duration": 6,
    "start_time": "2022-02-03T18:23:53.022Z"
   },
   {
    "duration": 15,
    "start_time": "2022-02-03T18:29:38.730Z"
   },
   {
    "duration": 11,
    "start_time": "2022-02-03T18:29:40.084Z"
   },
   {
    "duration": 10,
    "start_time": "2022-02-03T18:29:40.529Z"
   },
   {
    "duration": 9,
    "start_time": "2022-02-03T18:29:40.906Z"
   },
   {
    "duration": 25,
    "start_time": "2022-02-03T18:30:43.648Z"
   },
   {
    "duration": 6,
    "start_time": "2022-02-03T18:30:43.875Z"
   },
   {
    "duration": 5,
    "start_time": "2022-02-03T18:30:44.067Z"
   },
   {
    "duration": 5,
    "start_time": "2022-02-03T18:30:44.254Z"
   },
   {
    "duration": 5,
    "start_time": "2022-02-03T18:30:44.468Z"
   },
   {
    "duration": 22,
    "start_time": "2022-02-03T18:30:44.679Z"
   },
   {
    "duration": 5,
    "start_time": "2022-02-03T18:30:44.896Z"
   },
   {
    "duration": 4,
    "start_time": "2022-02-03T18:30:45.085Z"
   },
   {
    "duration": 5,
    "start_time": "2022-02-03T18:30:45.342Z"
   },
   {
    "duration": 5,
    "start_time": "2022-02-03T18:30:45.570Z"
   },
   {
    "duration": 22,
    "start_time": "2022-02-03T18:30:46.142Z"
   },
   {
    "duration": 5,
    "start_time": "2022-02-03T18:30:46.515Z"
   },
   {
    "duration": 5,
    "start_time": "2022-02-03T18:30:47.018Z"
   },
   {
    "duration": 5,
    "start_time": "2022-02-03T18:30:47.335Z"
   },
   {
    "duration": 5,
    "start_time": "2022-02-03T18:30:47.713Z"
   },
   {
    "duration": 6,
    "start_time": "2022-02-03T18:42:43.656Z"
   },
   {
    "duration": 377,
    "start_time": "2022-02-03T18:43:50.722Z"
   },
   {
    "duration": 4,
    "start_time": "2022-02-03T18:44:00.578Z"
   },
   {
    "duration": 485,
    "start_time": "2022-02-03T18:44:17.056Z"
   },
   {
    "duration": 20,
    "start_time": "2022-02-03T18:44:43.712Z"
   },
   {
    "duration": 5,
    "start_time": "2022-02-03T18:44:44.108Z"
   },
   {
    "duration": 5,
    "start_time": "2022-02-03T18:44:44.378Z"
   },
   {
    "duration": 7,
    "start_time": "2022-02-03T18:44:44.615Z"
   },
   {
    "duration": 6,
    "start_time": "2022-02-03T18:44:44.877Z"
   },
   {
    "duration": 27,
    "start_time": "2022-02-03T18:44:45.272Z"
   },
   {
    "duration": 7,
    "start_time": "2022-02-03T18:44:46.077Z"
   },
   {
    "duration": 5,
    "start_time": "2022-02-03T18:44:46.328Z"
   },
   {
    "duration": 5,
    "start_time": "2022-02-03T18:44:46.583Z"
   },
   {
    "duration": 6,
    "start_time": "2022-02-03T18:44:46.861Z"
   },
   {
    "duration": 20,
    "start_time": "2022-02-03T18:44:47.531Z"
   },
   {
    "duration": 6,
    "start_time": "2022-02-03T18:44:47.762Z"
   },
   {
    "duration": 6,
    "start_time": "2022-02-03T18:44:47.976Z"
   },
   {
    "duration": 5,
    "start_time": "2022-02-03T18:44:48.191Z"
   },
   {
    "duration": 6,
    "start_time": "2022-02-03T18:44:48.401Z"
   },
   {
    "duration": 3,
    "start_time": "2022-02-03T18:44:48.993Z"
   },
   {
    "duration": 21,
    "start_time": "2022-02-03T18:44:50.322Z"
   },
   {
    "duration": 16,
    "start_time": "2022-02-03T18:45:12.361Z"
   },
   {
    "duration": 15,
    "start_time": "2022-02-03T18:46:43.613Z"
   },
   {
    "duration": 384,
    "start_time": "2022-02-03T18:47:55.226Z"
   },
   {
    "duration": 21,
    "start_time": "2022-02-03T18:48:35.511Z"
   },
   {
    "duration": 22,
    "start_time": "2022-02-03T18:48:36.590Z"
   },
   {
    "duration": 1631,
    "start_time": "2022-02-05T12:38:13.947Z"
   },
   {
    "duration": 3,
    "start_time": "2022-02-05T12:38:15.581Z"
   },
   {
    "duration": 5,
    "start_time": "2022-02-05T12:38:15.587Z"
   },
   {
    "duration": 460,
    "start_time": "2022-02-05T12:38:15.594Z"
   },
   {
    "duration": 21,
    "start_time": "2022-02-05T12:38:16.059Z"
   },
   {
    "duration": 20,
    "start_time": "2022-02-05T12:38:16.084Z"
   },
   {
    "duration": 54,
    "start_time": "2022-02-05T12:38:16.107Z"
   },
   {
    "duration": 16,
    "start_time": "2022-02-05T12:38:16.165Z"
   },
   {
    "duration": 16,
    "start_time": "2022-02-05T12:38:16.187Z"
   },
   {
    "duration": 53,
    "start_time": "2022-02-05T12:38:16.206Z"
   },
   {
    "duration": 16,
    "start_time": "2022-02-05T12:38:16.262Z"
   },
   {
    "duration": 11,
    "start_time": "2022-02-05T12:38:16.281Z"
   },
   {
    "duration": 10,
    "start_time": "2022-02-05T12:38:16.295Z"
   },
   {
    "duration": 51,
    "start_time": "2022-02-05T12:38:16.308Z"
   },
   {
    "duration": 26,
    "start_time": "2022-02-05T12:38:16.363Z"
   },
   {
    "duration": 7,
    "start_time": "2022-02-05T12:38:16.392Z"
   },
   {
    "duration": 7,
    "start_time": "2022-02-05T12:38:16.401Z"
   },
   {
    "duration": 6,
    "start_time": "2022-02-05T12:38:16.411Z"
   },
   {
    "duration": 41,
    "start_time": "2022-02-05T12:38:16.420Z"
   },
   {
    "duration": 23,
    "start_time": "2022-02-05T12:38:16.463Z"
   },
   {
    "duration": 6,
    "start_time": "2022-02-05T12:38:16.488Z"
   },
   {
    "duration": 5,
    "start_time": "2022-02-05T12:38:16.496Z"
   },
   {
    "duration": 5,
    "start_time": "2022-02-05T12:38:16.504Z"
   },
   {
    "duration": 50,
    "start_time": "2022-02-05T12:38:16.511Z"
   },
   {
    "duration": 23,
    "start_time": "2022-02-05T12:38:16.564Z"
   },
   {
    "duration": 5,
    "start_time": "2022-02-05T12:38:16.589Z"
   },
   {
    "duration": 11,
    "start_time": "2022-02-05T12:38:16.599Z"
   },
   {
    "duration": 49,
    "start_time": "2022-02-05T12:38:16.614Z"
   },
   {
    "duration": 9,
    "start_time": "2022-02-05T12:38:16.666Z"
   },
   {
    "duration": 7,
    "start_time": "2022-02-05T12:38:16.678Z"
   },
   {
    "duration": 83,
    "start_time": "2022-02-05T12:38:16.687Z"
   },
   {
    "duration": 99,
    "start_time": "2022-02-05T12:38:16.776Z"
   },
   {
    "duration": 190,
    "start_time": "2022-02-05T12:38:16.879Z"
   },
   {
    "duration": 90,
    "start_time": "2022-02-05T12:38:17.072Z"
   },
   {
    "duration": 5,
    "start_time": "2022-02-05T12:39:56.276Z"
   },
   {
    "duration": 5,
    "start_time": "2022-02-05T12:41:01.751Z"
   },
   {
    "duration": 6,
    "start_time": "2022-02-05T12:41:09.194Z"
   },
   {
    "duration": 6,
    "start_time": "2022-02-05T12:41:21.993Z"
   },
   {
    "duration": 9600,
    "start_time": "2022-02-05T12:43:53.373Z"
   },
   {
    "duration": 8,
    "start_time": "2022-02-05T12:44:16.562Z"
   },
   {
    "duration": 10,
    "start_time": "2022-02-05T12:44:29.630Z"
   },
   {
    "duration": 9,
    "start_time": "2022-02-05T12:45:34.883Z"
   },
   {
    "duration": 1654,
    "start_time": "2022-02-06T18:05:50.656Z"
   },
   {
    "duration": 3,
    "start_time": "2022-02-06T18:05:52.313Z"
   },
   {
    "duration": 6,
    "start_time": "2022-02-06T18:05:52.319Z"
   },
   {
    "duration": 473,
    "start_time": "2022-02-06T18:05:52.327Z"
   },
   {
    "duration": 23,
    "start_time": "2022-02-06T18:05:52.803Z"
   },
   {
    "duration": 42,
    "start_time": "2022-02-06T18:05:52.829Z"
   },
   {
    "duration": 16,
    "start_time": "2022-02-06T18:05:52.873Z"
   },
   {
    "duration": 15,
    "start_time": "2022-02-06T18:05:52.891Z"
   },
   {
    "duration": 16,
    "start_time": "2022-02-06T18:05:52.910Z"
   },
   {
    "duration": 51,
    "start_time": "2022-02-06T18:05:52.928Z"
   },
   {
    "duration": 16,
    "start_time": "2022-02-06T18:05:52.982Z"
   },
   {
    "duration": 13,
    "start_time": "2022-02-06T18:05:53.001Z"
   },
   {
    "duration": 10,
    "start_time": "2022-02-06T18:05:53.017Z"
   },
   {
    "duration": 11,
    "start_time": "2022-02-06T18:05:53.070Z"
   },
   {
    "duration": 21,
    "start_time": "2022-02-06T18:05:53.085Z"
   },
   {
    "duration": 6,
    "start_time": "2022-02-06T18:05:53.108Z"
   },
   {
    "duration": 6,
    "start_time": "2022-02-06T18:05:53.117Z"
   },
   {
    "duration": 49,
    "start_time": "2022-02-06T18:05:53.126Z"
   },
   {
    "duration": 8,
    "start_time": "2022-02-06T18:05:53.178Z"
   },
   {
    "duration": 23,
    "start_time": "2022-02-06T18:05:53.189Z"
   },
   {
    "duration": 6,
    "start_time": "2022-02-06T18:05:53.215Z"
   },
   {
    "duration": 6,
    "start_time": "2022-02-06T18:05:53.271Z"
   },
   {
    "duration": 6,
    "start_time": "2022-02-06T18:05:53.280Z"
   },
   {
    "duration": 5,
    "start_time": "2022-02-06T18:05:53.289Z"
   },
   {
    "duration": 25,
    "start_time": "2022-02-06T18:05:53.296Z"
   },
   {
    "duration": 49,
    "start_time": "2022-02-06T18:05:53.324Z"
   },
   {
    "duration": 11,
    "start_time": "2022-02-06T18:05:53.378Z"
   },
   {
    "duration": 6,
    "start_time": "2022-02-06T18:05:53.392Z"
   },
   {
    "duration": 10,
    "start_time": "2022-02-06T18:05:53.400Z"
   },
   {
    "duration": 5,
    "start_time": "2022-02-06T18:05:53.412Z"
   },
   {
    "duration": 58,
    "start_time": "2022-02-06T18:05:53.419Z"
   },
   {
    "duration": 195,
    "start_time": "2022-02-06T18:05:53.481Z"
   },
   {
    "duration": 200,
    "start_time": "2022-02-06T18:05:53.680Z"
   },
   {
    "duration": 94,
    "start_time": "2022-02-06T18:05:53.883Z"
   },
   {
    "duration": 102,
    "start_time": "2022-02-06T18:05:53.979Z"
   },
   {
    "duration": 5,
    "start_time": "2022-02-06T18:05:54.083Z"
   },
   {
    "duration": 11,
    "start_time": "2022-02-06T18:06:19.190Z"
   },
   {
    "duration": 4,
    "start_time": "2022-02-06T18:19:48.037Z"
   },
   {
    "duration": 435,
    "start_time": "2022-02-06T18:20:01.901Z"
   },
   {
    "duration": 259,
    "start_time": "2022-02-06T18:20:35.712Z"
   },
   {
    "duration": 279,
    "start_time": "2022-02-06T18:21:30.179Z"
   },
   {
    "duration": 264,
    "start_time": "2022-02-06T18:27:56.400Z"
   },
   {
    "duration": 270,
    "start_time": "2022-02-06T18:28:02.504Z"
   },
   {
    "duration": 273,
    "start_time": "2022-02-06T18:28:07.640Z"
   },
   {
    "duration": 30,
    "start_time": "2022-02-06T18:29:10.338Z"
   },
   {
    "duration": 5695,
    "start_time": "2022-02-06T18:29:18.044Z"
   },
   {
    "duration": 276,
    "start_time": "2022-02-06T18:31:30.541Z"
   },
   {
    "duration": 26,
    "start_time": "2022-02-06T18:31:58.018Z"
   },
   {
    "duration": 21,
    "start_time": "2022-02-06T18:32:09.582Z"
   },
   {
    "duration": 5466,
    "start_time": "2022-02-06T18:32:15.440Z"
   },
   {
    "duration": 5692,
    "start_time": "2022-02-06T18:33:33.932Z"
   },
   {
    "duration": 5599,
    "start_time": "2022-02-06T18:37:28.829Z"
   },
   {
    "duration": 5,
    "start_time": "2022-02-06T18:41:34.215Z"
   },
   {
    "duration": 5843,
    "start_time": "2022-02-06T18:41:35.280Z"
   },
   {
    "duration": 5651,
    "start_time": "2022-02-06T18:41:41.125Z"
   },
   {
    "duration": 5810,
    "start_time": "2022-02-06T18:41:46.779Z"
   },
   {
    "duration": 22,
    "start_time": "2022-02-06T18:44:37.181Z"
   },
   {
    "duration": 22,
    "start_time": "2022-02-06T18:44:38.111Z"
   },
   {
    "duration": 20,
    "start_time": "2022-02-06T18:44:38.614Z"
   },
   {
    "duration": 5668,
    "start_time": "2022-02-06T18:45:37.387Z"
   },
   {
    "duration": 5659,
    "start_time": "2022-02-06T18:45:51.581Z"
   },
   {
    "duration": 6,
    "start_time": "2022-02-06T18:49:20.614Z"
   },
   {
    "duration": 5739,
    "start_time": "2022-02-06T18:49:21.592Z"
   },
   {
    "duration": 20,
    "start_time": "2022-02-06T18:53:42.040Z"
   },
   {
    "duration": 5649,
    "start_time": "2022-02-06T18:56:41.923Z"
   },
   {
    "duration": 5464,
    "start_time": "2022-02-06T19:39:32.888Z"
   },
   {
    "duration": 5565,
    "start_time": "2022-02-06T19:40:05.590Z"
   },
   {
    "duration": 5577,
    "start_time": "2022-02-06T19:40:31.372Z"
   },
   {
    "duration": 5944,
    "start_time": "2022-02-06T19:40:52.185Z"
   },
   {
    "duration": 6190,
    "start_time": "2022-02-06T19:41:11.280Z"
   },
   {
    "duration": 5523,
    "start_time": "2022-02-06T19:41:23.199Z"
   },
   {
    "duration": 5572,
    "start_time": "2022-02-06T19:41:40.247Z"
   },
   {
    "duration": 5,
    "start_time": "2022-02-06T19:47:03.956Z"
   },
   {
    "duration": 5495,
    "start_time": "2022-02-06T19:47:05.637Z"
   },
   {
    "duration": 5658,
    "start_time": "2022-02-06T19:49:21.700Z"
   },
   {
    "duration": 5424,
    "start_time": "2022-02-06T19:49:46.587Z"
   },
   {
    "duration": 1176,
    "start_time": "2022-02-07T18:14:33.193Z"
   },
   {
    "duration": 3,
    "start_time": "2022-02-07T18:14:34.371Z"
   },
   {
    "duration": 25,
    "start_time": "2022-02-07T18:14:34.376Z"
   },
   {
    "duration": 396,
    "start_time": "2022-02-07T18:14:34.403Z"
   },
   {
    "duration": 20,
    "start_time": "2022-02-07T18:14:34.801Z"
   },
   {
    "duration": 11,
    "start_time": "2022-02-07T18:14:34.823Z"
   },
   {
    "duration": 13,
    "start_time": "2022-02-07T18:14:34.836Z"
   },
   {
    "duration": 13,
    "start_time": "2022-02-07T18:14:34.851Z"
   },
   {
    "duration": 46,
    "start_time": "2022-02-07T18:14:34.867Z"
   },
   {
    "duration": 18,
    "start_time": "2022-02-07T18:14:34.915Z"
   },
   {
    "duration": 12,
    "start_time": "2022-02-07T18:14:34.935Z"
   },
   {
    "duration": 10,
    "start_time": "2022-02-07T18:14:34.949Z"
   },
   {
    "duration": 6,
    "start_time": "2022-02-07T18:14:34.961Z"
   },
   {
    "duration": 7,
    "start_time": "2022-02-07T18:14:34.970Z"
   },
   {
    "duration": 18,
    "start_time": "2022-02-07T18:14:35.008Z"
   },
   {
    "duration": 5,
    "start_time": "2022-02-07T18:14:35.028Z"
   },
   {
    "duration": 10,
    "start_time": "2022-02-07T18:14:35.035Z"
   },
   {
    "duration": 6,
    "start_time": "2022-02-07T18:14:35.047Z"
   },
   {
    "duration": 11,
    "start_time": "2022-02-07T18:14:35.056Z"
   },
   {
    "duration": 46,
    "start_time": "2022-02-07T18:14:35.069Z"
   },
   {
    "duration": 4,
    "start_time": "2022-02-07T18:14:35.118Z"
   },
   {
    "duration": 8,
    "start_time": "2022-02-07T18:14:35.124Z"
   },
   {
    "duration": 7,
    "start_time": "2022-02-07T18:14:35.134Z"
   },
   {
    "duration": 10,
    "start_time": "2022-02-07T18:14:35.142Z"
   },
   {
    "duration": 23,
    "start_time": "2022-02-07T18:14:35.154Z"
   },
   {
    "duration": 4,
    "start_time": "2022-02-07T18:14:35.179Z"
   },
   {
    "duration": 4,
    "start_time": "2022-02-07T18:14:35.209Z"
   },
   {
    "duration": 8,
    "start_time": "2022-02-07T18:14:35.215Z"
   },
   {
    "duration": 8,
    "start_time": "2022-02-07T18:14:35.225Z"
   },
   {
    "duration": 9,
    "start_time": "2022-02-07T18:14:35.235Z"
   },
   {
    "duration": 74,
    "start_time": "2022-02-07T18:14:35.246Z"
   },
   {
    "duration": 17,
    "start_time": "2022-02-07T18:14:35.408Z"
   },
   {
    "duration": 187,
    "start_time": "2022-02-07T18:14:35.427Z"
   },
   {
    "duration": 103,
    "start_time": "2022-02-07T18:14:35.616Z"
   },
   {
    "duration": 92,
    "start_time": "2022-02-07T18:14:35.722Z"
   },
   {
    "duration": 13,
    "start_time": "2022-02-07T18:14:35.816Z"
   },
   {
    "duration": 3741,
    "start_time": "2022-02-07T18:14:35.831Z"
   },
   {
    "duration": 3702,
    "start_time": "2022-02-07T18:14:39.574Z"
   },
   {
    "duration": 3756,
    "start_time": "2022-02-07T18:14:43.278Z"
   },
   {
    "duration": 332,
    "start_time": "2022-02-07T18:15:13.863Z"
   },
   {
    "duration": 252,
    "start_time": "2022-02-07T18:15:22.192Z"
   },
   {
    "duration": 6,
    "start_time": "2022-02-07T18:15:44.108Z"
   },
   {
    "duration": 6,
    "start_time": "2022-02-07T18:16:15.509Z"
   },
   {
    "duration": 6,
    "start_time": "2022-02-07T18:16:20.189Z"
   },
   {
    "duration": 265,
    "start_time": "2022-02-07T18:16:41.303Z"
   },
   {
    "duration": 258,
    "start_time": "2022-02-07T18:16:45.040Z"
   },
   {
    "duration": 274,
    "start_time": "2022-02-07T18:16:52.543Z"
   },
   {
    "duration": 19,
    "start_time": "2022-02-07T18:17:58.587Z"
   },
   {
    "duration": 3872,
    "start_time": "2022-02-07T18:18:34.092Z"
   },
   {
    "duration": 3898,
    "start_time": "2022-02-07T18:18:50.773Z"
   },
   {
    "duration": 3879,
    "start_time": "2022-02-07T18:20:19.185Z"
   },
   {
    "duration": 3924,
    "start_time": "2022-02-07T18:20:39.430Z"
   },
   {
    "duration": 3890,
    "start_time": "2022-02-07T18:20:51.213Z"
   },
   {
    "duration": 8,
    "start_time": "2022-02-07T18:22:28.413Z"
   },
   {
    "duration": 8,
    "start_time": "2022-02-07T18:22:48.992Z"
   },
   {
    "duration": 7,
    "start_time": "2022-02-07T18:24:22.726Z"
   },
   {
    "duration": 6,
    "start_time": "2022-02-07T18:24:26.169Z"
   },
   {
    "duration": 3701,
    "start_time": "2022-02-07T18:25:35.879Z"
   },
   {
    "duration": 6,
    "start_time": "2022-02-07T18:26:08.739Z"
   },
   {
    "duration": 76,
    "start_time": "2022-02-07T18:27:16.431Z"
   },
   {
    "duration": 3741,
    "start_time": "2022-02-07T18:27:18.891Z"
   },
   {
    "duration": 287,
    "start_time": "2022-02-07T18:28:04.650Z"
   },
   {
    "duration": 4161,
    "start_time": "2022-02-07T18:29:02.246Z"
   },
   {
    "duration": 6,
    "start_time": "2022-02-07T18:29:37.181Z"
   },
   {
    "duration": 5,
    "start_time": "2022-02-07T18:29:52.281Z"
   },
   {
    "duration": 14,
    "start_time": "2022-02-07T18:29:52.288Z"
   },
   {
    "duration": 7,
    "start_time": "2022-02-07T18:29:52.305Z"
   },
   {
    "duration": 427,
    "start_time": "2022-02-07T18:29:52.314Z"
   },
   {
    "duration": 13,
    "start_time": "2022-02-07T18:29:52.743Z"
   },
   {
    "duration": 11,
    "start_time": "2022-02-07T18:29:52.758Z"
   },
   {
    "duration": 19,
    "start_time": "2022-02-07T18:29:52.771Z"
   },
   {
    "duration": 23,
    "start_time": "2022-02-07T18:29:52.792Z"
   },
   {
    "duration": 12,
    "start_time": "2022-02-07T18:29:52.819Z"
   },
   {
    "duration": 12,
    "start_time": "2022-02-07T18:29:52.833Z"
   },
   {
    "duration": 20,
    "start_time": "2022-02-07T18:29:52.846Z"
   },
   {
    "duration": 14,
    "start_time": "2022-02-07T18:29:52.868Z"
   },
   {
    "duration": 29,
    "start_time": "2022-02-07T18:29:52.884Z"
   },
   {
    "duration": 19,
    "start_time": "2022-02-07T18:29:52.915Z"
   },
   {
    "duration": 20,
    "start_time": "2022-02-07T18:29:52.936Z"
   },
   {
    "duration": 5,
    "start_time": "2022-02-07T18:29:52.957Z"
   },
   {
    "duration": 20,
    "start_time": "2022-02-07T18:29:52.964Z"
   },
   {
    "duration": 15,
    "start_time": "2022-02-07T18:29:52.986Z"
   },
   {
    "duration": 21,
    "start_time": "2022-02-07T18:29:53.003Z"
   },
   {
    "duration": 24,
    "start_time": "2022-02-07T18:29:53.026Z"
   },
   {
    "duration": 15,
    "start_time": "2022-02-07T18:29:53.053Z"
   },
   {
    "duration": 20,
    "start_time": "2022-02-07T18:29:53.070Z"
   },
   {
    "duration": 18,
    "start_time": "2022-02-07T18:29:53.092Z"
   },
   {
    "duration": 27,
    "start_time": "2022-02-07T18:29:53.112Z"
   },
   {
    "duration": 31,
    "start_time": "2022-02-07T18:29:53.141Z"
   },
   {
    "duration": 5,
    "start_time": "2022-02-07T18:29:53.174Z"
   },
   {
    "duration": 12,
    "start_time": "2022-02-07T18:29:53.182Z"
   },
   {
    "duration": 23,
    "start_time": "2022-02-07T18:29:53.196Z"
   },
   {
    "duration": 25,
    "start_time": "2022-02-07T18:29:53.221Z"
   },
   {
    "duration": 15,
    "start_time": "2022-02-07T18:29:53.248Z"
   },
   {
    "duration": 28,
    "start_time": "2022-02-07T18:29:53.265Z"
   },
   {
    "duration": 209,
    "start_time": "2022-02-07T18:29:53.308Z"
   },
   {
    "duration": 199,
    "start_time": "2022-02-07T18:29:53.520Z"
   },
   {
    "duration": 187,
    "start_time": "2022-02-07T18:29:53.721Z"
   },
   {
    "duration": 9,
    "start_time": "2022-02-07T18:29:53.911Z"
   },
   {
    "duration": 12,
    "start_time": "2022-02-07T18:29:53.922Z"
   },
   {
    "duration": 300,
    "start_time": "2022-02-07T18:29:53.936Z"
   },
   {
    "duration": -135,
    "start_time": "2022-02-07T18:29:54.374Z"
   },
   {
    "duration": -135,
    "start_time": "2022-02-07T18:29:54.376Z"
   },
   {
    "duration": -138,
    "start_time": "2022-02-07T18:29:54.381Z"
   },
   {
    "duration": -138,
    "start_time": "2022-02-07T18:29:54.382Z"
   },
   {
    "duration": -138,
    "start_time": "2022-02-07T18:29:54.384Z"
   },
   {
    "duration": -138,
    "start_time": "2022-02-07T18:29:54.385Z"
   },
   {
    "duration": 5,
    "start_time": "2022-02-07T18:30:09.622Z"
   },
   {
    "duration": 7,
    "start_time": "2022-02-07T18:30:09.629Z"
   },
   {
    "duration": 8,
    "start_time": "2022-02-07T18:30:09.639Z"
   },
   {
    "duration": 440,
    "start_time": "2022-02-07T18:30:09.650Z"
   },
   {
    "duration": 15,
    "start_time": "2022-02-07T18:30:10.092Z"
   },
   {
    "duration": 14,
    "start_time": "2022-02-07T18:30:10.109Z"
   },
   {
    "duration": 16,
    "start_time": "2022-02-07T18:30:10.125Z"
   },
   {
    "duration": 37,
    "start_time": "2022-02-07T18:30:10.144Z"
   },
   {
    "duration": 23,
    "start_time": "2022-02-07T18:30:10.186Z"
   },
   {
    "duration": 16,
    "start_time": "2022-02-07T18:30:10.212Z"
   },
   {
    "duration": 14,
    "start_time": "2022-02-07T18:30:10.230Z"
   },
   {
    "duration": 16,
    "start_time": "2022-02-07T18:30:10.246Z"
   },
   {
    "duration": 13,
    "start_time": "2022-02-07T18:30:10.264Z"
   },
   {
    "duration": 28,
    "start_time": "2022-02-07T18:30:10.279Z"
   },
   {
    "duration": 18,
    "start_time": "2022-02-07T18:30:10.310Z"
   },
   {
    "duration": 5,
    "start_time": "2022-02-07T18:30:10.330Z"
   },
   {
    "duration": 8,
    "start_time": "2022-02-07T18:30:10.337Z"
   },
   {
    "duration": 11,
    "start_time": "2022-02-07T18:30:10.347Z"
   },
   {
    "duration": 9,
    "start_time": "2022-02-07T18:30:10.360Z"
   },
   {
    "duration": 49,
    "start_time": "2022-02-07T18:30:10.371Z"
   },
   {
    "duration": 4,
    "start_time": "2022-02-07T18:30:10.422Z"
   },
   {
    "duration": 8,
    "start_time": "2022-02-07T18:30:10.428Z"
   },
   {
    "duration": 9,
    "start_time": "2022-02-07T18:30:10.438Z"
   },
   {
    "duration": 8,
    "start_time": "2022-02-07T18:30:10.449Z"
   },
   {
    "duration": 34,
    "start_time": "2022-02-07T18:30:10.459Z"
   },
   {
    "duration": 17,
    "start_time": "2022-02-07T18:30:10.494Z"
   },
   {
    "duration": 12,
    "start_time": "2022-02-07T18:30:10.515Z"
   },
   {
    "duration": 17,
    "start_time": "2022-02-07T18:30:10.529Z"
   },
   {
    "duration": 22,
    "start_time": "2022-02-07T18:30:10.548Z"
   },
   {
    "duration": 15,
    "start_time": "2022-02-07T18:30:10.572Z"
   },
   {
    "duration": 118,
    "start_time": "2022-02-07T18:30:10.589Z"
   },
   {
    "duration": 111,
    "start_time": "2022-02-07T18:30:10.710Z"
   },
   {
    "duration": 191,
    "start_time": "2022-02-07T18:30:10.825Z"
   },
   {
    "duration": 90,
    "start_time": "2022-02-07T18:30:11.019Z"
   },
   {
    "duration": 97,
    "start_time": "2022-02-07T18:30:11.112Z"
   },
   {
    "duration": 5,
    "start_time": "2022-02-07T18:30:11.212Z"
   },
   {
    "duration": 17,
    "start_time": "2022-02-07T18:30:11.219Z"
   },
   {
    "duration": 3698,
    "start_time": "2022-02-07T18:30:11.238Z"
   },
   {
    "duration": 6,
    "start_time": "2022-02-07T18:30:14.938Z"
   },
   {
    "duration": 10,
    "start_time": "2022-02-07T18:30:14.946Z"
   },
   {
    "duration": 3809,
    "start_time": "2022-02-07T18:30:14.958Z"
   },
   {
    "duration": 3942,
    "start_time": "2022-02-07T18:30:18.769Z"
   },
   {
    "duration": 5,
    "start_time": "2022-02-07T18:31:30.201Z"
   },
   {
    "duration": 12,
    "start_time": "2022-02-07T18:31:30.208Z"
   },
   {
    "duration": 14,
    "start_time": "2022-02-07T18:31:30.222Z"
   },
   {
    "duration": 429,
    "start_time": "2022-02-07T18:31:30.239Z"
   },
   {
    "duration": 13,
    "start_time": "2022-02-07T18:31:30.670Z"
   },
   {
    "duration": 29,
    "start_time": "2022-02-07T18:31:30.684Z"
   },
   {
    "duration": 23,
    "start_time": "2022-02-07T18:31:30.715Z"
   },
   {
    "duration": 23,
    "start_time": "2022-02-07T18:31:30.739Z"
   },
   {
    "duration": 12,
    "start_time": "2022-02-07T18:31:30.764Z"
   },
   {
    "duration": 25,
    "start_time": "2022-02-07T18:31:30.779Z"
   },
   {
    "duration": 13,
    "start_time": "2022-02-07T18:31:30.807Z"
   },
   {
    "duration": 20,
    "start_time": "2022-02-07T18:31:30.822Z"
   },
   {
    "duration": 13,
    "start_time": "2022-02-07T18:31:30.844Z"
   },
   {
    "duration": 7,
    "start_time": "2022-02-07T18:31:30.858Z"
   },
   {
    "duration": 41,
    "start_time": "2022-02-07T18:31:30.867Z"
   },
   {
    "duration": 8,
    "start_time": "2022-02-07T18:31:30.910Z"
   },
   {
    "duration": 38,
    "start_time": "2022-02-07T18:31:30.920Z"
   },
   {
    "duration": 32,
    "start_time": "2022-02-07T18:31:30.960Z"
   },
   {
    "duration": 31,
    "start_time": "2022-02-07T18:31:30.995Z"
   },
   {
    "duration": 42,
    "start_time": "2022-02-07T18:31:31.028Z"
   },
   {
    "duration": 5,
    "start_time": "2022-02-07T18:31:31.072Z"
   },
   {
    "duration": 9,
    "start_time": "2022-02-07T18:31:31.079Z"
   },
   {
    "duration": 17,
    "start_time": "2022-02-07T18:31:31.089Z"
   },
   {
    "duration": 12,
    "start_time": "2022-02-07T18:31:31.108Z"
   },
   {
    "duration": 18,
    "start_time": "2022-02-07T18:31:31.121Z"
   },
   {
    "duration": 8,
    "start_time": "2022-02-07T18:31:31.142Z"
   },
   {
    "duration": 10,
    "start_time": "2022-02-07T18:31:31.154Z"
   },
   {
    "duration": 12,
    "start_time": "2022-02-07T18:31:31.166Z"
   },
   {
    "duration": 21,
    "start_time": "2022-02-07T18:31:31.180Z"
   },
   {
    "duration": 23,
    "start_time": "2022-02-07T18:31:31.203Z"
   },
   {
    "duration": 78,
    "start_time": "2022-02-07T18:31:31.229Z"
   },
   {
    "duration": 111,
    "start_time": "2022-02-07T18:31:31.310Z"
   },
   {
    "duration": 196,
    "start_time": "2022-02-07T18:31:31.424Z"
   },
   {
    "duration": 108,
    "start_time": "2022-02-07T18:31:31.709Z"
   },
   {
    "duration": 17,
    "start_time": "2022-02-07T18:31:31.820Z"
   },
   {
    "duration": 5,
    "start_time": "2022-02-07T18:31:31.839Z"
   },
   {
    "duration": 28,
    "start_time": "2022-02-07T18:31:31.846Z"
   },
   {
    "duration": 14,
    "start_time": "2022-02-07T18:31:31.876Z"
   },
   {
    "duration": 3792,
    "start_time": "2022-02-07T18:31:31.892Z"
   },
   {
    "duration": 2,
    "start_time": "2022-02-07T18:31:35.686Z"
   },
   {
    "duration": 21,
    "start_time": "2022-02-07T18:31:35.690Z"
   },
   {
    "duration": 3932,
    "start_time": "2022-02-07T18:31:35.713Z"
   },
   {
    "duration": 3983,
    "start_time": "2022-02-07T18:31:39.646Z"
   },
   {
    "duration": 6,
    "start_time": "2022-02-07T18:32:22.694Z"
   },
   {
    "duration": 3393,
    "start_time": "2022-02-07T18:32:40.532Z"
   },
   {
    "duration": 6,
    "start_time": "2022-02-07T18:32:57.480Z"
   },
   {
    "duration": 7,
    "start_time": "2022-02-07T18:33:02.108Z"
   },
   {
    "duration": 6,
    "start_time": "2022-02-07T18:33:36.682Z"
   },
   {
    "duration": 4040,
    "start_time": "2022-02-07T18:34:58.958Z"
   },
   {
    "duration": 3816,
    "start_time": "2022-02-07T18:39:02.211Z"
   },
   {
    "duration": 3811,
    "start_time": "2022-02-07T18:39:08.801Z"
   },
   {
    "duration": 5,
    "start_time": "2022-02-07T18:58:55.699Z"
   },
   {
    "duration": 14,
    "start_time": "2022-02-07T18:58:55.707Z"
   },
   {
    "duration": 12,
    "start_time": "2022-02-07T18:58:55.725Z"
   },
   {
    "duration": 509,
    "start_time": "2022-02-07T18:58:55.740Z"
   },
   {
    "duration": 13,
    "start_time": "2022-02-07T18:58:56.251Z"
   },
   {
    "duration": 16,
    "start_time": "2022-02-07T18:58:56.266Z"
   },
   {
    "duration": 31,
    "start_time": "2022-02-07T18:58:56.284Z"
   },
   {
    "duration": 14,
    "start_time": "2022-02-07T18:58:56.317Z"
   },
   {
    "duration": 13,
    "start_time": "2022-02-07T18:58:56.334Z"
   },
   {
    "duration": 11,
    "start_time": "2022-02-07T18:58:56.350Z"
   },
   {
    "duration": 47,
    "start_time": "2022-02-07T18:58:56.363Z"
   },
   {
    "duration": 17,
    "start_time": "2022-02-07T18:58:56.412Z"
   },
   {
    "duration": 8,
    "start_time": "2022-02-07T18:58:56.431Z"
   },
   {
    "duration": 15,
    "start_time": "2022-02-07T18:58:56.442Z"
   },
   {
    "duration": 99,
    "start_time": "2022-02-07T18:58:56.460Z"
   },
   {
    "duration": 69,
    "start_time": "2022-02-07T18:58:56.565Z"
   },
   {
    "duration": 20,
    "start_time": "2022-02-07T18:58:56.636Z"
   },
   {
    "duration": 11,
    "start_time": "2022-02-07T18:58:56.658Z"
   },
   {
    "duration": 11,
    "start_time": "2022-02-07T18:58:56.671Z"
   },
   {
    "duration": 49,
    "start_time": "2022-02-07T18:58:56.685Z"
   },
   {
    "duration": 25,
    "start_time": "2022-02-07T18:58:56.753Z"
   },
   {
    "duration": 8,
    "start_time": "2022-02-07T18:58:56.780Z"
   },
   {
    "duration": 6,
    "start_time": "2022-02-07T18:58:56.790Z"
   },
   {
    "duration": 7,
    "start_time": "2022-02-07T18:58:56.798Z"
   },
   {
    "duration": 17,
    "start_time": "2022-02-07T18:58:56.807Z"
   },
   {
    "duration": 5,
    "start_time": "2022-02-07T18:58:56.826Z"
   },
   {
    "duration": 5,
    "start_time": "2022-02-07T18:58:56.836Z"
   },
   {
    "duration": 7,
    "start_time": "2022-02-07T18:58:56.843Z"
   },
   {
    "duration": 9,
    "start_time": "2022-02-07T18:58:56.853Z"
   },
   {
    "duration": 8,
    "start_time": "2022-02-07T18:58:56.864Z"
   },
   {
    "duration": 38,
    "start_time": "2022-02-07T18:58:56.874Z"
   },
   {
    "duration": 197,
    "start_time": "2022-02-07T18:58:56.915Z"
   },
   {
    "duration": 190,
    "start_time": "2022-02-07T18:58:57.116Z"
   },
   {
    "duration": 6,
    "start_time": "2022-02-07T18:58:57.309Z"
   },
   {
    "duration": 102,
    "start_time": "2022-02-07T18:58:57.323Z"
   },
   {
    "duration": 4,
    "start_time": "2022-02-07T18:58:57.428Z"
   },
   {
    "duration": 12,
    "start_time": "2022-02-07T18:58:57.434Z"
   },
   {
    "duration": 7,
    "start_time": "2022-02-07T18:58:57.448Z"
   },
   {
    "duration": 4138,
    "start_time": "2022-02-07T18:58:57.457Z"
   },
   {
    "duration": 3,
    "start_time": "2022-02-07T18:59:01.596Z"
   },
   {
    "duration": 13,
    "start_time": "2022-02-07T18:59:01.600Z"
   },
   {
    "duration": 4031,
    "start_time": "2022-02-07T18:59:01.614Z"
   },
   {
    "duration": 3754,
    "start_time": "2022-02-07T18:59:05.647Z"
   },
   {
    "duration": 3726,
    "start_time": "2022-02-07T19:00:26.297Z"
   },
   {
    "duration": 3729,
    "start_time": "2022-02-07T19:02:17.355Z"
   },
   {
    "duration": 6,
    "start_time": "2022-02-07T19:30:31.875Z"
   },
   {
    "duration": 31,
    "start_time": "2022-02-07T19:30:31.883Z"
   },
   {
    "duration": 12,
    "start_time": "2022-02-07T19:30:31.917Z"
   },
   {
    "duration": 442,
    "start_time": "2022-02-07T19:30:31.931Z"
   },
   {
    "duration": 14,
    "start_time": "2022-02-07T19:30:32.375Z"
   },
   {
    "duration": 23,
    "start_time": "2022-02-07T19:30:32.392Z"
   },
   {
    "duration": 32,
    "start_time": "2022-02-07T19:30:32.417Z"
   },
   {
    "duration": 41,
    "start_time": "2022-02-07T19:30:32.451Z"
   },
   {
    "duration": 32,
    "start_time": "2022-02-07T19:30:32.496Z"
   },
   {
    "duration": 48,
    "start_time": "2022-02-07T19:30:32.531Z"
   },
   {
    "duration": 24,
    "start_time": "2022-02-07T19:30:32.581Z"
   },
   {
    "duration": 33,
    "start_time": "2022-02-07T19:30:32.608Z"
   },
   {
    "duration": 24,
    "start_time": "2022-02-07T19:30:32.643Z"
   },
   {
    "duration": 17,
    "start_time": "2022-02-07T19:30:32.669Z"
   },
   {
    "duration": 21,
    "start_time": "2022-02-07T19:30:32.688Z"
   },
   {
    "duration": 4,
    "start_time": "2022-02-07T19:30:32.714Z"
   },
   {
    "duration": 23,
    "start_time": "2022-02-07T19:30:32.720Z"
   },
   {
    "duration": 8,
    "start_time": "2022-02-07T19:30:32.745Z"
   },
   {
    "duration": 8,
    "start_time": "2022-02-07T19:30:32.755Z"
   },
   {
    "duration": 19,
    "start_time": "2022-02-07T19:30:32.765Z"
   },
   {
    "duration": 4,
    "start_time": "2022-02-07T19:30:32.787Z"
   },
   {
    "duration": 12,
    "start_time": "2022-02-07T19:30:32.808Z"
   },
   {
    "duration": 13,
    "start_time": "2022-02-07T19:30:32.822Z"
   },
   {
    "duration": 11,
    "start_time": "2022-02-07T19:30:32.837Z"
   },
   {
    "duration": 23,
    "start_time": "2022-02-07T19:30:32.850Z"
   },
   {
    "duration": 12,
    "start_time": "2022-02-07T19:30:32.875Z"
   },
   {
    "duration": 18,
    "start_time": "2022-02-07T19:30:32.890Z"
   },
   {
    "duration": 6,
    "start_time": "2022-02-07T19:30:32.911Z"
   },
   {
    "duration": 22,
    "start_time": "2022-02-07T19:30:32.918Z"
   },
   {
    "duration": 14,
    "start_time": "2022-02-07T19:30:32.942Z"
   },
   {
    "duration": 59,
    "start_time": "2022-02-07T19:30:32.958Z"
   },
   {
    "duration": 100,
    "start_time": "2022-02-07T19:30:33.109Z"
   },
   {
    "duration": 196,
    "start_time": "2022-02-07T19:30:33.212Z"
   },
   {
    "duration": 103,
    "start_time": "2022-02-07T19:30:33.410Z"
   },
   {
    "duration": 17,
    "start_time": "2022-02-07T19:30:33.515Z"
   },
   {
    "duration": 4,
    "start_time": "2022-02-07T19:30:33.535Z"
   },
   {
    "duration": 3825,
    "start_time": "2022-02-07T19:30:33.541Z"
   },
   {
    "duration": 3798,
    "start_time": "2022-02-07T19:30:37.368Z"
   },
   {
    "duration": 3727,
    "start_time": "2022-02-07T19:30:41.168Z"
   }
  ],
  "kernelspec": {
   "display_name": "Python 3 (ipykernel)",
   "language": "python",
   "name": "python3"
  },
  "language_info": {
   "codemirror_mode": {
    "name": "ipython",
    "version": 3
   },
   "file_extension": ".py",
   "mimetype": "text/x-python",
   "name": "python",
   "nbconvert_exporter": "python",
   "pygments_lexer": "ipython3",
   "version": "3.9.5"
  },
  "toc": {
   "base_numbering": 1,
   "nav_menu": {},
   "number_sections": true,
   "sideBar": true,
   "skip_h1_title": true,
   "title_cell": "Table of Contents",
   "title_sidebar": "Contents",
   "toc_cell": false,
   "toc_position": {
    "height": "calc(100% - 180px)",
    "left": "10px",
    "top": "150px",
    "width": "409.08px"
   },
   "toc_section_display": true,
   "toc_window_display": true
  }
 },
 "nbformat": 4,
 "nbformat_minor": 2
}
