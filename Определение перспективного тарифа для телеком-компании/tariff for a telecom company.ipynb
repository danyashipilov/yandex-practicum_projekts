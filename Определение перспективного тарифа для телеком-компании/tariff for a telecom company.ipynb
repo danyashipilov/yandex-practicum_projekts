{
 "cells": [
  {
   "cell_type": "markdown",
   "metadata": {},
   "source": [
    "## 1. Откроем файл с данными и изучим общую информацию"
   ]
  },
  {
   "cell_type": "code",
   "execution_count": 13,
   "metadata": {
    "scrolled": false
   },
   "outputs": [],
   "source": [
    "import pandas as pd\n",
    "import math\n",
    "import matplotlib.pyplot as plt\n",
    "import numpy as np\n",
    "from scipy import stats as st\n",
    "from functools import reduce\n",
    "import random"
   ]
  },
  {
   "cell_type": "code",
   "execution_count": 14,
   "metadata": {},
   "outputs": [],
   "source": [
    "calls = pd.read_csv('/datasets/calls.csv')\n",
    "internet=pd.read_csv('/datasets/internet.csv')\n",
    "messages=pd.read_csv('/datasets/messages.csv')\n",
    "tariffs=pd.read_csv('/datasets/tariffs.csv')\n",
    "users=pd.read_csv('/datasets/users.csv')"
   ]
  },
  {
   "cell_type": "code",
   "execution_count": 15,
   "metadata": {},
   "outputs": [
    {
     "data": {
      "text/html": [
       "<div>\n",
       "<style scoped>\n",
       "    .dataframe tbody tr th:only-of-type {\n",
       "        vertical-align: middle;\n",
       "    }\n",
       "\n",
       "    .dataframe tbody tr th {\n",
       "        vertical-align: top;\n",
       "    }\n",
       "\n",
       "    .dataframe thead th {\n",
       "        text-align: right;\n",
       "    }\n",
       "</style>\n",
       "<table border=\"1\" class=\"dataframe\">\n",
       "  <thead>\n",
       "    <tr style=\"text-align: right;\">\n",
       "      <th></th>\n",
       "      <th>user_id</th>\n",
       "      <th>age</th>\n",
       "      <th>churn_date</th>\n",
       "      <th>city</th>\n",
       "      <th>first_name</th>\n",
       "      <th>last_name</th>\n",
       "      <th>reg_date</th>\n",
       "      <th>tariff</th>\n",
       "    </tr>\n",
       "  </thead>\n",
       "  <tbody>\n",
       "    <tr>\n",
       "      <th>0</th>\n",
       "      <td>1000</td>\n",
       "      <td>52</td>\n",
       "      <td>NaN</td>\n",
       "      <td>Краснодар</td>\n",
       "      <td>Рафаил</td>\n",
       "      <td>Верещагин</td>\n",
       "      <td>2018-05-25</td>\n",
       "      <td>ultra</td>\n",
       "    </tr>\n",
       "    <tr>\n",
       "      <th>1</th>\n",
       "      <td>1001</td>\n",
       "      <td>41</td>\n",
       "      <td>NaN</td>\n",
       "      <td>Москва</td>\n",
       "      <td>Иван</td>\n",
       "      <td>Ежов</td>\n",
       "      <td>2018-11-01</td>\n",
       "      <td>smart</td>\n",
       "    </tr>\n",
       "    <tr>\n",
       "      <th>2</th>\n",
       "      <td>1002</td>\n",
       "      <td>59</td>\n",
       "      <td>NaN</td>\n",
       "      <td>Стерлитамак</td>\n",
       "      <td>Евгений</td>\n",
       "      <td>Абрамович</td>\n",
       "      <td>2018-06-17</td>\n",
       "      <td>smart</td>\n",
       "    </tr>\n",
       "    <tr>\n",
       "      <th>3</th>\n",
       "      <td>1003</td>\n",
       "      <td>23</td>\n",
       "      <td>NaN</td>\n",
       "      <td>Москва</td>\n",
       "      <td>Белла</td>\n",
       "      <td>Белякова</td>\n",
       "      <td>2018-08-17</td>\n",
       "      <td>ultra</td>\n",
       "    </tr>\n",
       "    <tr>\n",
       "      <th>4</th>\n",
       "      <td>1004</td>\n",
       "      <td>68</td>\n",
       "      <td>NaN</td>\n",
       "      <td>Новокузнецк</td>\n",
       "      <td>Татьяна</td>\n",
       "      <td>Авдеенко</td>\n",
       "      <td>2018-05-14</td>\n",
       "      <td>ultra</td>\n",
       "    </tr>\n",
       "  </tbody>\n",
       "</table>\n",
       "</div>"
      ],
      "text/plain": [
       "   user_id  age churn_date         city first_name  last_name    reg_date  \\\n",
       "0     1000   52        NaN    Краснодар     Рафаил  Верещагин  2018-05-25   \n",
       "1     1001   41        NaN       Москва       Иван       Ежов  2018-11-01   \n",
       "2     1002   59        NaN  Стерлитамак    Евгений  Абрамович  2018-06-17   \n",
       "3     1003   23        NaN       Москва      Белла   Белякова  2018-08-17   \n",
       "4     1004   68        NaN  Новокузнецк    Татьяна   Авдеенко  2018-05-14   \n",
       "\n",
       "  tariff  \n",
       "0  ultra  \n",
       "1  smart  \n",
       "2  smart  \n",
       "3  ultra  \n",
       "4  ultra  "
      ]
     },
     "execution_count": 15,
     "metadata": {},
     "output_type": "execute_result"
    }
   ],
   "source": [
    "users.head()"
   ]
  },
  {
   "cell_type": "code",
   "execution_count": 16,
   "metadata": {},
   "outputs": [
    {
     "data": {
      "text/html": [
       "<div>\n",
       "<style scoped>\n",
       "    .dataframe tbody tr th:only-of-type {\n",
       "        vertical-align: middle;\n",
       "    }\n",
       "\n",
       "    .dataframe tbody tr th {\n",
       "        vertical-align: top;\n",
       "    }\n",
       "\n",
       "    .dataframe thead th {\n",
       "        text-align: right;\n",
       "    }\n",
       "</style>\n",
       "<table border=\"1\" class=\"dataframe\">\n",
       "  <thead>\n",
       "    <tr style=\"text-align: right;\">\n",
       "      <th></th>\n",
       "      <th>id</th>\n",
       "      <th>call_date</th>\n",
       "      <th>duration</th>\n",
       "      <th>user_id</th>\n",
       "    </tr>\n",
       "  </thead>\n",
       "  <tbody>\n",
       "    <tr>\n",
       "      <th>0</th>\n",
       "      <td>1000_0</td>\n",
       "      <td>2018-07-25</td>\n",
       "      <td>0.00</td>\n",
       "      <td>1000</td>\n",
       "    </tr>\n",
       "    <tr>\n",
       "      <th>1</th>\n",
       "      <td>1000_1</td>\n",
       "      <td>2018-08-17</td>\n",
       "      <td>0.00</td>\n",
       "      <td>1000</td>\n",
       "    </tr>\n",
       "    <tr>\n",
       "      <th>2</th>\n",
       "      <td>1000_2</td>\n",
       "      <td>2018-06-11</td>\n",
       "      <td>2.85</td>\n",
       "      <td>1000</td>\n",
       "    </tr>\n",
       "    <tr>\n",
       "      <th>3</th>\n",
       "      <td>1000_3</td>\n",
       "      <td>2018-09-21</td>\n",
       "      <td>13.80</td>\n",
       "      <td>1000</td>\n",
       "    </tr>\n",
       "    <tr>\n",
       "      <th>4</th>\n",
       "      <td>1000_4</td>\n",
       "      <td>2018-12-15</td>\n",
       "      <td>5.18</td>\n",
       "      <td>1000</td>\n",
       "    </tr>\n",
       "  </tbody>\n",
       "</table>\n",
       "</div>"
      ],
      "text/plain": [
       "       id   call_date  duration  user_id\n",
       "0  1000_0  2018-07-25      0.00     1000\n",
       "1  1000_1  2018-08-17      0.00     1000\n",
       "2  1000_2  2018-06-11      2.85     1000\n",
       "3  1000_3  2018-09-21     13.80     1000\n",
       "4  1000_4  2018-12-15      5.18     1000"
      ]
     },
     "execution_count": 16,
     "metadata": {},
     "output_type": "execute_result"
    }
   ],
   "source": [
    "calls.head()"
   ]
  },
  {
   "cell_type": "code",
   "execution_count": 17,
   "metadata": {},
   "outputs": [
    {
     "data": {
      "text/html": [
       "<div>\n",
       "<style scoped>\n",
       "    .dataframe tbody tr th:only-of-type {\n",
       "        vertical-align: middle;\n",
       "    }\n",
       "\n",
       "    .dataframe tbody tr th {\n",
       "        vertical-align: top;\n",
       "    }\n",
       "\n",
       "    .dataframe thead th {\n",
       "        text-align: right;\n",
       "    }\n",
       "</style>\n",
       "<table border=\"1\" class=\"dataframe\">\n",
       "  <thead>\n",
       "    <tr style=\"text-align: right;\">\n",
       "      <th></th>\n",
       "      <th>Unnamed: 0</th>\n",
       "      <th>id</th>\n",
       "      <th>mb_used</th>\n",
       "      <th>session_date</th>\n",
       "      <th>user_id</th>\n",
       "    </tr>\n",
       "  </thead>\n",
       "  <tbody>\n",
       "    <tr>\n",
       "      <th>0</th>\n",
       "      <td>0</td>\n",
       "      <td>1000_0</td>\n",
       "      <td>112.95</td>\n",
       "      <td>2018-11-25</td>\n",
       "      <td>1000</td>\n",
       "    </tr>\n",
       "    <tr>\n",
       "      <th>1</th>\n",
       "      <td>1</td>\n",
       "      <td>1000_1</td>\n",
       "      <td>1052.81</td>\n",
       "      <td>2018-09-07</td>\n",
       "      <td>1000</td>\n",
       "    </tr>\n",
       "    <tr>\n",
       "      <th>2</th>\n",
       "      <td>2</td>\n",
       "      <td>1000_2</td>\n",
       "      <td>1197.26</td>\n",
       "      <td>2018-06-25</td>\n",
       "      <td>1000</td>\n",
       "    </tr>\n",
       "    <tr>\n",
       "      <th>3</th>\n",
       "      <td>3</td>\n",
       "      <td>1000_3</td>\n",
       "      <td>550.27</td>\n",
       "      <td>2018-08-22</td>\n",
       "      <td>1000</td>\n",
       "    </tr>\n",
       "    <tr>\n",
       "      <th>4</th>\n",
       "      <td>4</td>\n",
       "      <td>1000_4</td>\n",
       "      <td>302.56</td>\n",
       "      <td>2018-09-24</td>\n",
       "      <td>1000</td>\n",
       "    </tr>\n",
       "  </tbody>\n",
       "</table>\n",
       "</div>"
      ],
      "text/plain": [
       "   Unnamed: 0      id  mb_used session_date  user_id\n",
       "0           0  1000_0   112.95   2018-11-25     1000\n",
       "1           1  1000_1  1052.81   2018-09-07     1000\n",
       "2           2  1000_2  1197.26   2018-06-25     1000\n",
       "3           3  1000_3   550.27   2018-08-22     1000\n",
       "4           4  1000_4   302.56   2018-09-24     1000"
      ]
     },
     "execution_count": 17,
     "metadata": {},
     "output_type": "execute_result"
    }
   ],
   "source": [
    "internet.head()"
   ]
  },
  {
   "cell_type": "code",
   "execution_count": 18,
   "metadata": {},
   "outputs": [
    {
     "data": {
      "text/html": [
       "<div>\n",
       "<style scoped>\n",
       "    .dataframe tbody tr th:only-of-type {\n",
       "        vertical-align: middle;\n",
       "    }\n",
       "\n",
       "    .dataframe tbody tr th {\n",
       "        vertical-align: top;\n",
       "    }\n",
       "\n",
       "    .dataframe thead th {\n",
       "        text-align: right;\n",
       "    }\n",
       "</style>\n",
       "<table border=\"1\" class=\"dataframe\">\n",
       "  <thead>\n",
       "    <tr style=\"text-align: right;\">\n",
       "      <th></th>\n",
       "      <th>id</th>\n",
       "      <th>message_date</th>\n",
       "      <th>user_id</th>\n",
       "    </tr>\n",
       "  </thead>\n",
       "  <tbody>\n",
       "    <tr>\n",
       "      <th>0</th>\n",
       "      <td>1000_0</td>\n",
       "      <td>2018-06-27</td>\n",
       "      <td>1000</td>\n",
       "    </tr>\n",
       "    <tr>\n",
       "      <th>1</th>\n",
       "      <td>1000_1</td>\n",
       "      <td>2018-10-08</td>\n",
       "      <td>1000</td>\n",
       "    </tr>\n",
       "    <tr>\n",
       "      <th>2</th>\n",
       "      <td>1000_2</td>\n",
       "      <td>2018-08-04</td>\n",
       "      <td>1000</td>\n",
       "    </tr>\n",
       "    <tr>\n",
       "      <th>3</th>\n",
       "      <td>1000_3</td>\n",
       "      <td>2018-06-16</td>\n",
       "      <td>1000</td>\n",
       "    </tr>\n",
       "    <tr>\n",
       "      <th>4</th>\n",
       "      <td>1000_4</td>\n",
       "      <td>2018-12-05</td>\n",
       "      <td>1000</td>\n",
       "    </tr>\n",
       "  </tbody>\n",
       "</table>\n",
       "</div>"
      ],
      "text/plain": [
       "       id message_date  user_id\n",
       "0  1000_0   2018-06-27     1000\n",
       "1  1000_1   2018-10-08     1000\n",
       "2  1000_2   2018-08-04     1000\n",
       "3  1000_3   2018-06-16     1000\n",
       "4  1000_4   2018-12-05     1000"
      ]
     },
     "execution_count": 18,
     "metadata": {},
     "output_type": "execute_result"
    }
   ],
   "source": [
    "messages.head()"
   ]
  },
  {
   "cell_type": "code",
   "execution_count": 19,
   "metadata": {},
   "outputs": [
    {
     "data": {
      "text/html": [
       "<div>\n",
       "<style scoped>\n",
       "    .dataframe tbody tr th:only-of-type {\n",
       "        vertical-align: middle;\n",
       "    }\n",
       "\n",
       "    .dataframe tbody tr th {\n",
       "        vertical-align: top;\n",
       "    }\n",
       "\n",
       "    .dataframe thead th {\n",
       "        text-align: right;\n",
       "    }\n",
       "</style>\n",
       "<table border=\"1\" class=\"dataframe\">\n",
       "  <thead>\n",
       "    <tr style=\"text-align: right;\">\n",
       "      <th></th>\n",
       "      <th>messages_included</th>\n",
       "      <th>mb_per_month_included</th>\n",
       "      <th>minutes_included</th>\n",
       "      <th>rub_monthly_fee</th>\n",
       "      <th>rub_per_gb</th>\n",
       "      <th>rub_per_message</th>\n",
       "      <th>rub_per_minute</th>\n",
       "      <th>tariff_name</th>\n",
       "    </tr>\n",
       "  </thead>\n",
       "  <tbody>\n",
       "    <tr>\n",
       "      <th>0</th>\n",
       "      <td>50</td>\n",
       "      <td>15360</td>\n",
       "      <td>500</td>\n",
       "      <td>550</td>\n",
       "      <td>200</td>\n",
       "      <td>3</td>\n",
       "      <td>3</td>\n",
       "      <td>smart</td>\n",
       "    </tr>\n",
       "    <tr>\n",
       "      <th>1</th>\n",
       "      <td>1000</td>\n",
       "      <td>30720</td>\n",
       "      <td>3000</td>\n",
       "      <td>1950</td>\n",
       "      <td>150</td>\n",
       "      <td>1</td>\n",
       "      <td>1</td>\n",
       "      <td>ultra</td>\n",
       "    </tr>\n",
       "  </tbody>\n",
       "</table>\n",
       "</div>"
      ],
      "text/plain": [
       "   messages_included  mb_per_month_included  minutes_included  \\\n",
       "0                 50                  15360               500   \n",
       "1               1000                  30720              3000   \n",
       "\n",
       "   rub_monthly_fee  rub_per_gb  rub_per_message  rub_per_minute tariff_name  \n",
       "0              550         200                3               3       smart  \n",
       "1             1950         150                1               1       ultra  "
      ]
     },
     "execution_count": 19,
     "metadata": {},
     "output_type": "execute_result"
    }
   ],
   "source": [
    "tariffs.head()"
   ]
  },
  {
   "cell_type": "code",
   "execution_count": 20,
   "metadata": {},
   "outputs": [],
   "source": [
    "tariffs.rename(columns={'tariff_name': 'tariff'}, inplace=True) #для удобства"
   ]
  },
  {
   "cell_type": "markdown",
   "metadata": {},
   "source": [
    "Изучили данные, выглядит опрятно."
   ]
  },
  {
   "cell_type": "markdown",
   "metadata": {},
   "source": [
    "##  2. Подготовка данных"
   ]
  },
  {
   "cell_type": "markdown",
   "metadata": {},
   "source": [
    "##  2.1 Проверяем тип данных и меняем на нужный"
   ]
  },
  {
   "cell_type": "code",
   "execution_count": 21,
   "metadata": {},
   "outputs": [
    {
     "name": "stdout",
     "output_type": "stream",
     "text": [
      "<class 'pandas.core.frame.DataFrame'>\n",
      "RangeIndex: 202607 entries, 0 to 202606\n",
      "Data columns (total 4 columns):\n",
      " #   Column     Non-Null Count   Dtype  \n",
      "---  ------     --------------   -----  \n",
      " 0   id         202607 non-null  object \n",
      " 1   call_date  202607 non-null  object \n",
      " 2   duration   202607 non-null  float64\n",
      " 3   user_id    202607 non-null  int64  \n",
      "dtypes: float64(1), int64(1), object(2)\n",
      "memory usage: 6.2+ MB\n"
     ]
    }
   ],
   "source": [
    "calls.info()"
   ]
  },
  {
   "cell_type": "code",
   "execution_count": 22,
   "metadata": {},
   "outputs": [],
   "source": [
    "calls['call_date'] = pd.to_datetime(calls['call_date'],\n",
    "format='%Y-%m-%d')\n",
    "#переводим столбец с датой в формат даты"
   ]
  },
  {
   "cell_type": "code",
   "execution_count": 23,
   "metadata": {},
   "outputs": [
    {
     "name": "stdout",
     "output_type": "stream",
     "text": [
      "<class 'pandas.core.frame.DataFrame'>\n",
      "RangeIndex: 202607 entries, 0 to 202606\n",
      "Data columns (total 4 columns):\n",
      " #   Column     Non-Null Count   Dtype         \n",
      "---  ------     --------------   -----         \n",
      " 0   id         202607 non-null  object        \n",
      " 1   call_date  202607 non-null  datetime64[ns]\n",
      " 2   duration   202607 non-null  float64       \n",
      " 3   user_id    202607 non-null  int64         \n",
      "dtypes: datetime64[ns](1), float64(1), int64(1), object(1)\n",
      "memory usage: 6.2+ MB\n"
     ]
    }
   ],
   "source": [
    "calls.info()"
   ]
  },
  {
   "cell_type": "code",
   "execution_count": 24,
   "metadata": {},
   "outputs": [
    {
     "name": "stdout",
     "output_type": "stream",
     "text": [
      "<class 'pandas.core.frame.DataFrame'>\n",
      "RangeIndex: 149396 entries, 0 to 149395\n",
      "Data columns (total 5 columns):\n",
      " #   Column        Non-Null Count   Dtype  \n",
      "---  ------        --------------   -----  \n",
      " 0   Unnamed: 0    149396 non-null  int64  \n",
      " 1   id            149396 non-null  object \n",
      " 2   mb_used       149396 non-null  float64\n",
      " 3   session_date  149396 non-null  object \n",
      " 4   user_id       149396 non-null  int64  \n",
      "dtypes: float64(1), int64(2), object(2)\n",
      "memory usage: 5.7+ MB\n"
     ]
    }
   ],
   "source": [
    "internet.info()"
   ]
  },
  {
   "cell_type": "code",
   "execution_count": 25,
   "metadata": {},
   "outputs": [],
   "source": [
    "internet['session_date'] = pd.to_datetime(internet['session_date'],\n",
    "format='%Y-%m-%d')\n",
    "#переводим столбец с датой в формат даты"
   ]
  },
  {
   "cell_type": "code",
   "execution_count": 26,
   "metadata": {},
   "outputs": [
    {
     "name": "stdout",
     "output_type": "stream",
     "text": [
      "<class 'pandas.core.frame.DataFrame'>\n",
      "RangeIndex: 149396 entries, 0 to 149395\n",
      "Data columns (total 5 columns):\n",
      " #   Column        Non-Null Count   Dtype         \n",
      "---  ------        --------------   -----         \n",
      " 0   Unnamed: 0    149396 non-null  int64         \n",
      " 1   id            149396 non-null  object        \n",
      " 2   mb_used       149396 non-null  float64       \n",
      " 3   session_date  149396 non-null  datetime64[ns]\n",
      " 4   user_id       149396 non-null  int64         \n",
      "dtypes: datetime64[ns](1), float64(1), int64(2), object(1)\n",
      "memory usage: 5.7+ MB\n"
     ]
    }
   ],
   "source": [
    "internet.info()"
   ]
  },
  {
   "cell_type": "code",
   "execution_count": 27,
   "metadata": {},
   "outputs": [
    {
     "name": "stdout",
     "output_type": "stream",
     "text": [
      "<class 'pandas.core.frame.DataFrame'>\n",
      "RangeIndex: 123036 entries, 0 to 123035\n",
      "Data columns (total 3 columns):\n",
      " #   Column        Non-Null Count   Dtype \n",
      "---  ------        --------------   ----- \n",
      " 0   id            123036 non-null  object\n",
      " 1   message_date  123036 non-null  object\n",
      " 2   user_id       123036 non-null  int64 \n",
      "dtypes: int64(1), object(2)\n",
      "memory usage: 2.8+ MB\n"
     ]
    }
   ],
   "source": [
    "messages.info()"
   ]
  },
  {
   "cell_type": "code",
   "execution_count": 28,
   "metadata": {},
   "outputs": [],
   "source": [
    "messages['message_date'] = pd.to_datetime(messages['message_date'],\n",
    "format='%Y-%m-%d')\n",
    "#переводим столбец с датой в формат даты"
   ]
  },
  {
   "cell_type": "code",
   "execution_count": 29,
   "metadata": {},
   "outputs": [
    {
     "name": "stdout",
     "output_type": "stream",
     "text": [
      "<class 'pandas.core.frame.DataFrame'>\n",
      "RangeIndex: 123036 entries, 0 to 123035\n",
      "Data columns (total 3 columns):\n",
      " #   Column        Non-Null Count   Dtype         \n",
      "---  ------        --------------   -----         \n",
      " 0   id            123036 non-null  object        \n",
      " 1   message_date  123036 non-null  datetime64[ns]\n",
      " 2   user_id       123036 non-null  int64         \n",
      "dtypes: datetime64[ns](1), int64(1), object(1)\n",
      "memory usage: 2.8+ MB\n"
     ]
    }
   ],
   "source": [
    "messages.info()"
   ]
  },
  {
   "cell_type": "code",
   "execution_count": 30,
   "metadata": {},
   "outputs": [
    {
     "name": "stdout",
     "output_type": "stream",
     "text": [
      "<class 'pandas.core.frame.DataFrame'>\n",
      "RangeIndex: 2 entries, 0 to 1\n",
      "Data columns (total 8 columns):\n",
      " #   Column                 Non-Null Count  Dtype \n",
      "---  ------                 --------------  ----- \n",
      " 0   messages_included      2 non-null      int64 \n",
      " 1   mb_per_month_included  2 non-null      int64 \n",
      " 2   minutes_included       2 non-null      int64 \n",
      " 3   rub_monthly_fee        2 non-null      int64 \n",
      " 4   rub_per_gb             2 non-null      int64 \n",
      " 5   rub_per_message        2 non-null      int64 \n",
      " 6   rub_per_minute         2 non-null      int64 \n",
      " 7   tariff                 2 non-null      object\n",
      "dtypes: int64(7), object(1)\n",
      "memory usage: 256.0+ bytes\n"
     ]
    }
   ],
   "source": [
    "tariffs.info()"
   ]
  },
  {
   "cell_type": "code",
   "execution_count": 31,
   "metadata": {},
   "outputs": [
    {
     "name": "stdout",
     "output_type": "stream",
     "text": [
      "<class 'pandas.core.frame.DataFrame'>\n",
      "RangeIndex: 500 entries, 0 to 499\n",
      "Data columns (total 8 columns):\n",
      " #   Column      Non-Null Count  Dtype \n",
      "---  ------      --------------  ----- \n",
      " 0   user_id     500 non-null    int64 \n",
      " 1   age         500 non-null    int64 \n",
      " 2   churn_date  38 non-null     object\n",
      " 3   city        500 non-null    object\n",
      " 4   first_name  500 non-null    object\n",
      " 5   last_name   500 non-null    object\n",
      " 6   reg_date    500 non-null    object\n",
      " 7   tariff      500 non-null    object\n",
      "dtypes: int64(2), object(6)\n",
      "memory usage: 31.4+ KB\n"
     ]
    }
   ],
   "source": [
    "users.info()"
   ]
  },
  {
   "cell_type": "code",
   "execution_count": 32,
   "metadata": {},
   "outputs": [],
   "source": [
    "users['churn_date'] = pd.to_datetime(users['churn_date'],\n",
    "format='%Y-%m-%d')\n",
    "users['reg_date'] = pd.to_datetime(users['reg_date'],\n",
    "format='%Y-%m-%d')\n",
    "#переводим столбцы с датой в формат даты"
   ]
  },
  {
   "cell_type": "code",
   "execution_count": 33,
   "metadata": {},
   "outputs": [
    {
     "name": "stdout",
     "output_type": "stream",
     "text": [
      "<class 'pandas.core.frame.DataFrame'>\n",
      "RangeIndex: 500 entries, 0 to 499\n",
      "Data columns (total 8 columns):\n",
      " #   Column      Non-Null Count  Dtype         \n",
      "---  ------      --------------  -----         \n",
      " 0   user_id     500 non-null    int64         \n",
      " 1   age         500 non-null    int64         \n",
      " 2   churn_date  38 non-null     datetime64[ns]\n",
      " 3   city        500 non-null    object        \n",
      " 4   first_name  500 non-null    object        \n",
      " 5   last_name   500 non-null    object        \n",
      " 6   reg_date    500 non-null    datetime64[ns]\n",
      " 7   tariff      500 non-null    object        \n",
      "dtypes: datetime64[ns](2), int64(2), object(4)\n",
      "memory usage: 31.4+ KB\n"
     ]
    }
   ],
   "source": [
    "users.info()"
   ]
  },
  {
   "cell_type": "markdown",
   "metadata": {},
   "source": [
    "##  2.2 Ищем дубликаты"
   ]
  },
  {
   "cell_type": "code",
   "execution_count": 34,
   "metadata": {},
   "outputs": [
    {
     "name": "stdout",
     "output_type": "stream",
     "text": [
      "0 0 0 0 0\n"
     ]
    }
   ],
   "source": [
    "print(users.duplicated().sum(),\n",
    "    tariffs.duplicated().sum(),\n",
    "    messages.duplicated().sum(),\n",
    "    internet.duplicated().sum(),\n",
    "    calls.duplicated().sum())\n",
    "#проверяем наличие дубликатов"
   ]
  },
  {
   "cell_type": "markdown",
   "metadata": {},
   "source": [
    "У всех данных нужный тип"
   ]
  },
  {
   "cell_type": "markdown",
   "metadata": {},
   "source": [
    "Посчитаем для каждого пользователя:\n",
    "количество сделанных звонков и израсходованных минут разговора по месяцам;\n",
    "количество отправленных сообщений по месяцам;\n",
    "объем израсходованного интернет-трафика по месяцам;\n",
    "помесячную выручку с каждого пользователя (вычтем бесплатный лимит из суммарного количества звонков, сообщений и интернет-трафика; остаток умножим на значение из тарифного плана; прибавим абонентскую плату, соответствующую тарифному плану)."
   ]
  },
  {
   "cell_type": "markdown",
   "metadata": {},
   "source": [
    "##  2.3 Создаем столбцы с месяцами и округляем звонки"
   ]
  },
  {
   "cell_type": "code",
   "execution_count": 35,
   "metadata": {},
   "outputs": [],
   "source": [
    "messages['month'] = messages['message_date'].dt.month\n",
    "#создаем столбец с месяцем сообщения"
   ]
  },
  {
   "cell_type": "code",
   "execution_count": 36,
   "metadata": {},
   "outputs": [
    {
     "data": {
      "text/html": [
       "<div>\n",
       "<style scoped>\n",
       "    .dataframe tbody tr th:only-of-type {\n",
       "        vertical-align: middle;\n",
       "    }\n",
       "\n",
       "    .dataframe tbody tr th {\n",
       "        vertical-align: top;\n",
       "    }\n",
       "\n",
       "    .dataframe thead th {\n",
       "        text-align: right;\n",
       "    }\n",
       "</style>\n",
       "<table border=\"1\" class=\"dataframe\">\n",
       "  <thead>\n",
       "    <tr style=\"text-align: right;\">\n",
       "      <th></th>\n",
       "      <th>id</th>\n",
       "      <th>message_date</th>\n",
       "      <th>user_id</th>\n",
       "      <th>month</th>\n",
       "    </tr>\n",
       "  </thead>\n",
       "  <tbody>\n",
       "    <tr>\n",
       "      <th>0</th>\n",
       "      <td>1000_0</td>\n",
       "      <td>2018-06-27</td>\n",
       "      <td>1000</td>\n",
       "      <td>6</td>\n",
       "    </tr>\n",
       "    <tr>\n",
       "      <th>1</th>\n",
       "      <td>1000_1</td>\n",
       "      <td>2018-10-08</td>\n",
       "      <td>1000</td>\n",
       "      <td>10</td>\n",
       "    </tr>\n",
       "    <tr>\n",
       "      <th>2</th>\n",
       "      <td>1000_2</td>\n",
       "      <td>2018-08-04</td>\n",
       "      <td>1000</td>\n",
       "      <td>8</td>\n",
       "    </tr>\n",
       "    <tr>\n",
       "      <th>3</th>\n",
       "      <td>1000_3</td>\n",
       "      <td>2018-06-16</td>\n",
       "      <td>1000</td>\n",
       "      <td>6</td>\n",
       "    </tr>\n",
       "    <tr>\n",
       "      <th>4</th>\n",
       "      <td>1000_4</td>\n",
       "      <td>2018-12-05</td>\n",
       "      <td>1000</td>\n",
       "      <td>12</td>\n",
       "    </tr>\n",
       "  </tbody>\n",
       "</table>\n",
       "</div>"
      ],
      "text/plain": [
       "       id message_date  user_id  month\n",
       "0  1000_0   2018-06-27     1000      6\n",
       "1  1000_1   2018-10-08     1000     10\n",
       "2  1000_2   2018-08-04     1000      8\n",
       "3  1000_3   2018-06-16     1000      6\n",
       "4  1000_4   2018-12-05     1000     12"
      ]
     },
     "execution_count": 36,
     "metadata": {},
     "output_type": "execute_result"
    }
   ],
   "source": [
    "messages.head()"
   ]
  },
  {
   "cell_type": "code",
   "execution_count": 37,
   "metadata": {},
   "outputs": [],
   "source": [
    "calls['month'] = calls['call_date'].dt.month\n",
    "#создаем столбец с месяцем звонка\n",
    "\n",
    "calls['duration'] = np.ceil(calls['duration'])\n",
    "#с помощью функции округляем каджый звонок до минут в большую сторону"
   ]
  },
  {
   "cell_type": "code",
   "execution_count": 38,
   "metadata": {},
   "outputs": [
    {
     "data": {
      "text/html": [
       "<div>\n",
       "<style scoped>\n",
       "    .dataframe tbody tr th:only-of-type {\n",
       "        vertical-align: middle;\n",
       "    }\n",
       "\n",
       "    .dataframe tbody tr th {\n",
       "        vertical-align: top;\n",
       "    }\n",
       "\n",
       "    .dataframe thead th {\n",
       "        text-align: right;\n",
       "    }\n",
       "</style>\n",
       "<table border=\"1\" class=\"dataframe\">\n",
       "  <thead>\n",
       "    <tr style=\"text-align: right;\">\n",
       "      <th></th>\n",
       "      <th>id</th>\n",
       "      <th>call_date</th>\n",
       "      <th>duration</th>\n",
       "      <th>user_id</th>\n",
       "      <th>month</th>\n",
       "    </tr>\n",
       "  </thead>\n",
       "  <tbody>\n",
       "    <tr>\n",
       "      <th>0</th>\n",
       "      <td>1000_0</td>\n",
       "      <td>2018-07-25</td>\n",
       "      <td>0.0</td>\n",
       "      <td>1000</td>\n",
       "      <td>7</td>\n",
       "    </tr>\n",
       "    <tr>\n",
       "      <th>1</th>\n",
       "      <td>1000_1</td>\n",
       "      <td>2018-08-17</td>\n",
       "      <td>0.0</td>\n",
       "      <td>1000</td>\n",
       "      <td>8</td>\n",
       "    </tr>\n",
       "    <tr>\n",
       "      <th>2</th>\n",
       "      <td>1000_2</td>\n",
       "      <td>2018-06-11</td>\n",
       "      <td>3.0</td>\n",
       "      <td>1000</td>\n",
       "      <td>6</td>\n",
       "    </tr>\n",
       "    <tr>\n",
       "      <th>3</th>\n",
       "      <td>1000_3</td>\n",
       "      <td>2018-09-21</td>\n",
       "      <td>14.0</td>\n",
       "      <td>1000</td>\n",
       "      <td>9</td>\n",
       "    </tr>\n",
       "    <tr>\n",
       "      <th>4</th>\n",
       "      <td>1000_4</td>\n",
       "      <td>2018-12-15</td>\n",
       "      <td>6.0</td>\n",
       "      <td>1000</td>\n",
       "      <td>12</td>\n",
       "    </tr>\n",
       "  </tbody>\n",
       "</table>\n",
       "</div>"
      ],
      "text/plain": [
       "       id  call_date  duration  user_id  month\n",
       "0  1000_0 2018-07-25       0.0     1000      7\n",
       "1  1000_1 2018-08-17       0.0     1000      8\n",
       "2  1000_2 2018-06-11       3.0     1000      6\n",
       "3  1000_3 2018-09-21      14.0     1000      9\n",
       "4  1000_4 2018-12-15       6.0     1000     12"
      ]
     },
     "execution_count": 38,
     "metadata": {},
     "output_type": "execute_result"
    }
   ],
   "source": [
    "calls.head()"
   ]
  },
  {
   "cell_type": "code",
   "execution_count": 39,
   "metadata": {},
   "outputs": [
    {
     "data": {
      "text/html": [
       "<div>\n",
       "<style scoped>\n",
       "    .dataframe tbody tr th:only-of-type {\n",
       "        vertical-align: middle;\n",
       "    }\n",
       "\n",
       "    .dataframe tbody tr th {\n",
       "        vertical-align: top;\n",
       "    }\n",
       "\n",
       "    .dataframe thead th {\n",
       "        text-align: right;\n",
       "    }\n",
       "</style>\n",
       "<table border=\"1\" class=\"dataframe\">\n",
       "  <thead>\n",
       "    <tr style=\"text-align: right;\">\n",
       "      <th></th>\n",
       "      <th>Unnamed: 0</th>\n",
       "      <th>id</th>\n",
       "      <th>mb_used</th>\n",
       "      <th>session_date</th>\n",
       "      <th>user_id</th>\n",
       "      <th>month</th>\n",
       "    </tr>\n",
       "  </thead>\n",
       "  <tbody>\n",
       "    <tr>\n",
       "      <th>0</th>\n",
       "      <td>0</td>\n",
       "      <td>1000_0</td>\n",
       "      <td>112.95</td>\n",
       "      <td>2018-11-25</td>\n",
       "      <td>1000</td>\n",
       "      <td>11</td>\n",
       "    </tr>\n",
       "    <tr>\n",
       "      <th>1</th>\n",
       "      <td>1</td>\n",
       "      <td>1000_1</td>\n",
       "      <td>1052.81</td>\n",
       "      <td>2018-09-07</td>\n",
       "      <td>1000</td>\n",
       "      <td>9</td>\n",
       "    </tr>\n",
       "    <tr>\n",
       "      <th>2</th>\n",
       "      <td>2</td>\n",
       "      <td>1000_2</td>\n",
       "      <td>1197.26</td>\n",
       "      <td>2018-06-25</td>\n",
       "      <td>1000</td>\n",
       "      <td>6</td>\n",
       "    </tr>\n",
       "    <tr>\n",
       "      <th>3</th>\n",
       "      <td>3</td>\n",
       "      <td>1000_3</td>\n",
       "      <td>550.27</td>\n",
       "      <td>2018-08-22</td>\n",
       "      <td>1000</td>\n",
       "      <td>8</td>\n",
       "    </tr>\n",
       "    <tr>\n",
       "      <th>4</th>\n",
       "      <td>4</td>\n",
       "      <td>1000_4</td>\n",
       "      <td>302.56</td>\n",
       "      <td>2018-09-24</td>\n",
       "      <td>1000</td>\n",
       "      <td>9</td>\n",
       "    </tr>\n",
       "  </tbody>\n",
       "</table>\n",
       "</div>"
      ],
      "text/plain": [
       "   Unnamed: 0      id  mb_used session_date  user_id  month\n",
       "0           0  1000_0   112.95   2018-11-25     1000     11\n",
       "1           1  1000_1  1052.81   2018-09-07     1000      9\n",
       "2           2  1000_2  1197.26   2018-06-25     1000      6\n",
       "3           3  1000_3   550.27   2018-08-22     1000      8\n",
       "4           4  1000_4   302.56   2018-09-24     1000      9"
      ]
     },
     "execution_count": 39,
     "metadata": {},
     "output_type": "execute_result"
    }
   ],
   "source": [
    "internet['month'] = internet['session_date'].dt.month\n",
    "#создаем столбец с месяцем использования трафика\n",
    "internet.head()"
   ]
  },
  {
   "cell_type": "markdown",
   "metadata": {},
   "source": [
    "## 2.4 Создаем таблицы услуг за месяц для каждого пользователя"
   ]
  },
  {
   "cell_type": "code",
   "execution_count": 40,
   "metadata": {},
   "outputs": [
    {
     "data": {
      "text/html": [
       "<div>\n",
       "<style scoped>\n",
       "    .dataframe tbody tr th:only-of-type {\n",
       "        vertical-align: middle;\n",
       "    }\n",
       "\n",
       "    .dataframe tbody tr th {\n",
       "        vertical-align: top;\n",
       "    }\n",
       "\n",
       "    .dataframe thead th {\n",
       "        text-align: right;\n",
       "    }\n",
       "</style>\n",
       "<table border=\"1\" class=\"dataframe\">\n",
       "  <thead>\n",
       "    <tr style=\"text-align: right;\">\n",
       "      <th></th>\n",
       "      <th></th>\n",
       "      <th>duration</th>\n",
       "    </tr>\n",
       "    <tr>\n",
       "      <th>user_id</th>\n",
       "      <th>month</th>\n",
       "      <th></th>\n",
       "    </tr>\n",
       "  </thead>\n",
       "  <tbody>\n",
       "    <tr>\n",
       "      <th rowspan=\"5\" valign=\"top\">1000</th>\n",
       "      <th>5</th>\n",
       "      <td>159.0</td>\n",
       "    </tr>\n",
       "    <tr>\n",
       "      <th>6</th>\n",
       "      <td>172.0</td>\n",
       "    </tr>\n",
       "    <tr>\n",
       "      <th>7</th>\n",
       "      <td>340.0</td>\n",
       "    </tr>\n",
       "    <tr>\n",
       "      <th>8</th>\n",
       "      <td>408.0</td>\n",
       "    </tr>\n",
       "    <tr>\n",
       "      <th>9</th>\n",
       "      <td>466.0</td>\n",
       "    </tr>\n",
       "  </tbody>\n",
       "</table>\n",
       "</div>"
      ],
      "text/plain": [
       "               duration\n",
       "user_id month          \n",
       "1000    5         159.0\n",
       "        6         172.0\n",
       "        7         340.0\n",
       "        8         408.0\n",
       "        9         466.0"
      ]
     },
     "execution_count": 40,
     "metadata": {},
     "output_type": "execute_result"
    }
   ],
   "source": [
    "calls_groupby= pd.DataFrame(calls.groupby(['user_id','month'])['duration'].sum())\n",
    "calls_groupby.head()\n",
    "#таблица с количеством звонков по месяцам для каждого пользователя"
   ]
  },
  {
   "cell_type": "code",
   "execution_count": 41,
   "metadata": {},
   "outputs": [
    {
     "data": {
      "text/html": [
       "<div>\n",
       "<style scoped>\n",
       "    .dataframe tbody tr th:only-of-type {\n",
       "        vertical-align: middle;\n",
       "    }\n",
       "\n",
       "    .dataframe tbody tr th {\n",
       "        vertical-align: top;\n",
       "    }\n",
       "\n",
       "    .dataframe thead th {\n",
       "        text-align: right;\n",
       "    }\n",
       "</style>\n",
       "<table border=\"1\" class=\"dataframe\">\n",
       "  <thead>\n",
       "    <tr style=\"text-align: right;\">\n",
       "      <th></th>\n",
       "      <th></th>\n",
       "      <th>mb_used</th>\n",
       "    </tr>\n",
       "    <tr>\n",
       "      <th>user_id</th>\n",
       "      <th>month</th>\n",
       "      <th></th>\n",
       "    </tr>\n",
       "  </thead>\n",
       "  <tbody>\n",
       "    <tr>\n",
       "      <th rowspan=\"5\" valign=\"top\">1000</th>\n",
       "      <th>5</th>\n",
       "      <td>2253.49</td>\n",
       "    </tr>\n",
       "    <tr>\n",
       "      <th>6</th>\n",
       "      <td>23233.77</td>\n",
       "    </tr>\n",
       "    <tr>\n",
       "      <th>7</th>\n",
       "      <td>14003.64</td>\n",
       "    </tr>\n",
       "    <tr>\n",
       "      <th>8</th>\n",
       "      <td>14055.93</td>\n",
       "    </tr>\n",
       "    <tr>\n",
       "      <th>9</th>\n",
       "      <td>14568.91</td>\n",
       "    </tr>\n",
       "  </tbody>\n",
       "</table>\n",
       "</div>"
      ],
      "text/plain": [
       "                mb_used\n",
       "user_id month          \n",
       "1000    5       2253.49\n",
       "        6      23233.77\n",
       "        7      14003.64\n",
       "        8      14055.93\n",
       "        9      14568.91"
      ]
     },
     "execution_count": 41,
     "metadata": {},
     "output_type": "execute_result"
    }
   ],
   "source": [
    "internet_groupby= pd.DataFrame(internet.groupby(['user_id','month'])['mb_used'].sum())\n",
    "internet_groupby.head()\n",
    "#таблица с количеством израсходованых мегабайт по месяцам для каждого пользователя"
   ]
  },
  {
   "cell_type": "code",
   "execution_count": 42,
   "metadata": {},
   "outputs": [
    {
     "data": {
      "text/html": [
       "<div>\n",
       "<style scoped>\n",
       "    .dataframe tbody tr th:only-of-type {\n",
       "        vertical-align: middle;\n",
       "    }\n",
       "\n",
       "    .dataframe tbody tr th {\n",
       "        vertical-align: top;\n",
       "    }\n",
       "\n",
       "    .dataframe thead th {\n",
       "        text-align: right;\n",
       "    }\n",
       "</style>\n",
       "<table border=\"1\" class=\"dataframe\">\n",
       "  <thead>\n",
       "    <tr style=\"text-align: right;\">\n",
       "      <th></th>\n",
       "      <th></th>\n",
       "      <th>message_date</th>\n",
       "    </tr>\n",
       "    <tr>\n",
       "      <th>user_id</th>\n",
       "      <th>month</th>\n",
       "      <th></th>\n",
       "    </tr>\n",
       "  </thead>\n",
       "  <tbody>\n",
       "    <tr>\n",
       "      <th rowspan=\"5\" valign=\"top\">1000</th>\n",
       "      <th>5</th>\n",
       "      <td>22</td>\n",
       "    </tr>\n",
       "    <tr>\n",
       "      <th>6</th>\n",
       "      <td>60</td>\n",
       "    </tr>\n",
       "    <tr>\n",
       "      <th>7</th>\n",
       "      <td>75</td>\n",
       "    </tr>\n",
       "    <tr>\n",
       "      <th>8</th>\n",
       "      <td>81</td>\n",
       "    </tr>\n",
       "    <tr>\n",
       "      <th>9</th>\n",
       "      <td>57</td>\n",
       "    </tr>\n",
       "  </tbody>\n",
       "</table>\n",
       "</div>"
      ],
      "text/plain": [
       "               message_date\n",
       "user_id month              \n",
       "1000    5                22\n",
       "        6                60\n",
       "        7                75\n",
       "        8                81\n",
       "        9                57"
      ]
     },
     "execution_count": 42,
     "metadata": {},
     "output_type": "execute_result"
    }
   ],
   "source": [
    "messages_groupby=pd.DataFrame(messages.groupby(['user_id','month'])['message_date'].count())\n",
    "messages_groupby.head()\n",
    "#таблица с количеством сообщений по месяцам для каждого пользователя"
   ]
  },
  {
   "cell_type": "markdown",
   "metadata": {},
   "source": [
    "##  2.5 Соединяем все в одну таблицу"
   ]
  },
  {
   "cell_type": "code",
   "execution_count": 43,
   "metadata": {},
   "outputs": [
    {
     "data": {
      "text/html": [
       "<div>\n",
       "<style scoped>\n",
       "    .dataframe tbody tr th:only-of-type {\n",
       "        vertical-align: middle;\n",
       "    }\n",
       "\n",
       "    .dataframe tbody tr th {\n",
       "        vertical-align: top;\n",
       "    }\n",
       "\n",
       "    .dataframe thead th {\n",
       "        text-align: right;\n",
       "    }\n",
       "</style>\n",
       "<table border=\"1\" class=\"dataframe\">\n",
       "  <thead>\n",
       "    <tr style=\"text-align: right;\">\n",
       "      <th></th>\n",
       "      <th>user_id</th>\n",
       "      <th>month</th>\n",
       "      <th>message_date</th>\n",
       "      <th>mb_used</th>\n",
       "      <th>duration</th>\n",
       "      <th>age</th>\n",
       "      <th>churn_date</th>\n",
       "      <th>city</th>\n",
       "      <th>first_name</th>\n",
       "      <th>last_name</th>\n",
       "      <th>reg_date</th>\n",
       "      <th>tariff</th>\n",
       "      <th>messages_included</th>\n",
       "      <th>mb_per_month_included</th>\n",
       "      <th>minutes_included</th>\n",
       "      <th>rub_monthly_fee</th>\n",
       "      <th>rub_per_gb</th>\n",
       "      <th>rub_per_message</th>\n",
       "      <th>rub_per_minute</th>\n",
       "    </tr>\n",
       "  </thead>\n",
       "  <tbody>\n",
       "    <tr>\n",
       "      <th>0</th>\n",
       "      <td>1000</td>\n",
       "      <td>5</td>\n",
       "      <td>22.0</td>\n",
       "      <td>2253.49</td>\n",
       "      <td>159.0</td>\n",
       "      <td>52</td>\n",
       "      <td>NaT</td>\n",
       "      <td>Краснодар</td>\n",
       "      <td>Рафаил</td>\n",
       "      <td>Верещагин</td>\n",
       "      <td>2018-05-25</td>\n",
       "      <td>ultra</td>\n",
       "      <td>1000</td>\n",
       "      <td>30720</td>\n",
       "      <td>3000</td>\n",
       "      <td>1950</td>\n",
       "      <td>150</td>\n",
       "      <td>1</td>\n",
       "      <td>1</td>\n",
       "    </tr>\n",
       "    <tr>\n",
       "      <th>1</th>\n",
       "      <td>1000</td>\n",
       "      <td>6</td>\n",
       "      <td>60.0</td>\n",
       "      <td>23233.77</td>\n",
       "      <td>172.0</td>\n",
       "      <td>52</td>\n",
       "      <td>NaT</td>\n",
       "      <td>Краснодар</td>\n",
       "      <td>Рафаил</td>\n",
       "      <td>Верещагин</td>\n",
       "      <td>2018-05-25</td>\n",
       "      <td>ultra</td>\n",
       "      <td>1000</td>\n",
       "      <td>30720</td>\n",
       "      <td>3000</td>\n",
       "      <td>1950</td>\n",
       "      <td>150</td>\n",
       "      <td>1</td>\n",
       "      <td>1</td>\n",
       "    </tr>\n",
       "    <tr>\n",
       "      <th>2</th>\n",
       "      <td>1000</td>\n",
       "      <td>7</td>\n",
       "      <td>75.0</td>\n",
       "      <td>14003.64</td>\n",
       "      <td>340.0</td>\n",
       "      <td>52</td>\n",
       "      <td>NaT</td>\n",
       "      <td>Краснодар</td>\n",
       "      <td>Рафаил</td>\n",
       "      <td>Верещагин</td>\n",
       "      <td>2018-05-25</td>\n",
       "      <td>ultra</td>\n",
       "      <td>1000</td>\n",
       "      <td>30720</td>\n",
       "      <td>3000</td>\n",
       "      <td>1950</td>\n",
       "      <td>150</td>\n",
       "      <td>1</td>\n",
       "      <td>1</td>\n",
       "    </tr>\n",
       "    <tr>\n",
       "      <th>3</th>\n",
       "      <td>1000</td>\n",
       "      <td>8</td>\n",
       "      <td>81.0</td>\n",
       "      <td>14055.93</td>\n",
       "      <td>408.0</td>\n",
       "      <td>52</td>\n",
       "      <td>NaT</td>\n",
       "      <td>Краснодар</td>\n",
       "      <td>Рафаил</td>\n",
       "      <td>Верещагин</td>\n",
       "      <td>2018-05-25</td>\n",
       "      <td>ultra</td>\n",
       "      <td>1000</td>\n",
       "      <td>30720</td>\n",
       "      <td>3000</td>\n",
       "      <td>1950</td>\n",
       "      <td>150</td>\n",
       "      <td>1</td>\n",
       "      <td>1</td>\n",
       "    </tr>\n",
       "    <tr>\n",
       "      <th>4</th>\n",
       "      <td>1000</td>\n",
       "      <td>9</td>\n",
       "      <td>57.0</td>\n",
       "      <td>14568.91</td>\n",
       "      <td>466.0</td>\n",
       "      <td>52</td>\n",
       "      <td>NaT</td>\n",
       "      <td>Краснодар</td>\n",
       "      <td>Рафаил</td>\n",
       "      <td>Верещагин</td>\n",
       "      <td>2018-05-25</td>\n",
       "      <td>ultra</td>\n",
       "      <td>1000</td>\n",
       "      <td>30720</td>\n",
       "      <td>3000</td>\n",
       "      <td>1950</td>\n",
       "      <td>150</td>\n",
       "      <td>1</td>\n",
       "      <td>1</td>\n",
       "    </tr>\n",
       "  </tbody>\n",
       "</table>\n",
       "</div>"
      ],
      "text/plain": [
       "   user_id  month  message_date   mb_used  duration  age churn_date  \\\n",
       "0     1000      5          22.0   2253.49     159.0   52        NaT   \n",
       "1     1000      6          60.0  23233.77     172.0   52        NaT   \n",
       "2     1000      7          75.0  14003.64     340.0   52        NaT   \n",
       "3     1000      8          81.0  14055.93     408.0   52        NaT   \n",
       "4     1000      9          57.0  14568.91     466.0   52        NaT   \n",
       "\n",
       "        city first_name  last_name   reg_date tariff  messages_included  \\\n",
       "0  Краснодар     Рафаил  Верещагин 2018-05-25  ultra               1000   \n",
       "1  Краснодар     Рафаил  Верещагин 2018-05-25  ultra               1000   \n",
       "2  Краснодар     Рафаил  Верещагин 2018-05-25  ultra               1000   \n",
       "3  Краснодар     Рафаил  Верещагин 2018-05-25  ultra               1000   \n",
       "4  Краснодар     Рафаил  Верещагин 2018-05-25  ultra               1000   \n",
       "\n",
       "   mb_per_month_included  minutes_included  rub_monthly_fee  rub_per_gb  \\\n",
       "0                  30720              3000             1950         150   \n",
       "1                  30720              3000             1950         150   \n",
       "2                  30720              3000             1950         150   \n",
       "3                  30720              3000             1950         150   \n",
       "4                  30720              3000             1950         150   \n",
       "\n",
       "   rub_per_message  rub_per_minute  \n",
       "0                1               1  \n",
       "1                1               1  \n",
       "2                1               1  \n",
       "3                1               1  \n",
       "4                1               1  "
      ]
     },
     "execution_count": 43,
     "metadata": {},
     "output_type": "execute_result"
    }
   ],
   "source": [
    "#соединяем созданные таблицы с таблицами \"пользователи\" и \"тарифы\" и получаем один датафрейм со всеми нужными данными \n",
    "data_frames = [messages_groupby, internet_groupby, calls_groupby]\n",
    "df_groupby = reduce(lambda  left,right: pd.merge(left,right,on=['user_id','month'],how='outer'), data_frames).reset_index()\n",
    "\n",
    "df_groupby = df_groupby.merge(users,  on=['user_id']).merge(tariffs, on=['tariff'])\n",
    "df_groupby.head()"
   ]
  },
  {
   "cell_type": "code",
   "execution_count": 44,
   "metadata": {},
   "outputs": [
    {
     "data": {
      "text/plain": [
       "1372    12\n",
       "1227    12\n",
       "1135    12\n",
       "1472    12\n",
       "1134    12\n",
       "        ..\n",
       "1140     1\n",
       "1434     1\n",
       "1297     1\n",
       "1252     1\n",
       "1445     1\n",
       "Name: user_id, Length: 498, dtype: int64"
      ]
     },
     "execution_count": 44,
     "metadata": {},
     "output_type": "execute_result"
    }
   ],
   "source": [
    "df_groupby['user_id'].value_counts()"
   ]
  },
  {
   "cell_type": "markdown",
   "metadata": {},
   "source": [
    "##  2.6 Добавляем столбец с прибылью от пользователя"
   ]
  },
  {
   "cell_type": "code",
   "execution_count": 45,
   "metadata": {},
   "outputs": [],
   "source": [
    "def price_per_month(data):\n",
    "\n",
    "        cell =data['duration'] -data['minutes_included']           #проверяем уложился ли пользователь в лимит тарифа\n",
    "        if cell <0:\n",
    "            cell =0     #0 если не израсходовал лишнего\n",
    "        else:\n",
    "            cell =cell\n",
    "        pay_cell = cell *data['rub_per_minute']          #умножаем излишки на тарифный план\n",
    "        \n",
    "        messages =data['message_date'] -data['messages_included']  #проверяем уложился ли пользователь в лимит тарифа\n",
    "        if messages <0:\n",
    "            messages =0 #0 если не израсходовал лишнего\n",
    "        else:\n",
    "            messages =messages\n",
    "        pay_messages = messages *data['rub_per_message']  #умножаем излишки на тарифный план\n",
    "        \n",
    "        mb =data['mb_used'] -data['mb_per_month_included']          #проверяем уложился ли пользователь в лимит тарифа\n",
    "        if mb <0:\n",
    "            mb =0       #0 если не израсходовал лишнего\n",
    "        else:\n",
    "            mb = mb /1024\n",
    "            mb = math.ceil(mb)\n",
    "        pay_mb = mb *data['rub_per_gb']                    #умножаем излишки на тарифный план\n",
    "        \n",
    "        result=pay_messages+pay_cell+pay_mb+data['rub_monthly_fee'] #суммируем все и прибавляем цену за тариф в месяц\n",
    "        \n",
    "        \n",
    "        return result \n",
    "#данная функция благополучно высчитывает выручку за каждый месяц для каждого пользователя"
   ]
  },
  {
   "cell_type": "code",
   "execution_count": 46,
   "metadata": {},
   "outputs": [],
   "source": [
    "df_groupby['duration']= df_groupby['duration'].fillna(0)\n",
    "df_groupby['message_date']= df_groupby['message_date'].fillna(0)\n",
    "df_groupby['mb_used']= df_groupby['mb_used'].fillna(0)"
   ]
  },
  {
   "cell_type": "code",
   "execution_count": 47,
   "metadata": {
    "scrolled": true
   },
   "outputs": [
    {
     "data": {
      "text/html": [
       "<div>\n",
       "<style scoped>\n",
       "    .dataframe tbody tr th:only-of-type {\n",
       "        vertical-align: middle;\n",
       "    }\n",
       "\n",
       "    .dataframe tbody tr th {\n",
       "        vertical-align: top;\n",
       "    }\n",
       "\n",
       "    .dataframe thead th {\n",
       "        text-align: right;\n",
       "    }\n",
       "</style>\n",
       "<table border=\"1\" class=\"dataframe\">\n",
       "  <thead>\n",
       "    <tr style=\"text-align: right;\">\n",
       "      <th></th>\n",
       "      <th>user_id</th>\n",
       "      <th>month</th>\n",
       "      <th>message_date</th>\n",
       "      <th>mb_used</th>\n",
       "      <th>duration</th>\n",
       "      <th>age</th>\n",
       "      <th>churn_date</th>\n",
       "      <th>city</th>\n",
       "      <th>first_name</th>\n",
       "      <th>last_name</th>\n",
       "      <th>reg_date</th>\n",
       "      <th>tariff</th>\n",
       "      <th>messages_included</th>\n",
       "      <th>mb_per_month_included</th>\n",
       "      <th>minutes_included</th>\n",
       "      <th>rub_monthly_fee</th>\n",
       "      <th>rub_per_gb</th>\n",
       "      <th>rub_per_message</th>\n",
       "      <th>rub_per_minute</th>\n",
       "      <th>result</th>\n",
       "    </tr>\n",
       "  </thead>\n",
       "  <tbody>\n",
       "    <tr>\n",
       "      <th>0</th>\n",
       "      <td>1000</td>\n",
       "      <td>5</td>\n",
       "      <td>22.0</td>\n",
       "      <td>2253.49</td>\n",
       "      <td>159.0</td>\n",
       "      <td>52</td>\n",
       "      <td>NaT</td>\n",
       "      <td>Краснодар</td>\n",
       "      <td>Рафаил</td>\n",
       "      <td>Верещагин</td>\n",
       "      <td>2018-05-25</td>\n",
       "      <td>ultra</td>\n",
       "      <td>1000</td>\n",
       "      <td>30720</td>\n",
       "      <td>3000</td>\n",
       "      <td>1950</td>\n",
       "      <td>150</td>\n",
       "      <td>1</td>\n",
       "      <td>1</td>\n",
       "      <td>1950.0</td>\n",
       "    </tr>\n",
       "    <tr>\n",
       "      <th>1</th>\n",
       "      <td>1000</td>\n",
       "      <td>6</td>\n",
       "      <td>60.0</td>\n",
       "      <td>23233.77</td>\n",
       "      <td>172.0</td>\n",
       "      <td>52</td>\n",
       "      <td>NaT</td>\n",
       "      <td>Краснодар</td>\n",
       "      <td>Рафаил</td>\n",
       "      <td>Верещагин</td>\n",
       "      <td>2018-05-25</td>\n",
       "      <td>ultra</td>\n",
       "      <td>1000</td>\n",
       "      <td>30720</td>\n",
       "      <td>3000</td>\n",
       "      <td>1950</td>\n",
       "      <td>150</td>\n",
       "      <td>1</td>\n",
       "      <td>1</td>\n",
       "      <td>1950.0</td>\n",
       "    </tr>\n",
       "    <tr>\n",
       "      <th>2</th>\n",
       "      <td>1000</td>\n",
       "      <td>7</td>\n",
       "      <td>75.0</td>\n",
       "      <td>14003.64</td>\n",
       "      <td>340.0</td>\n",
       "      <td>52</td>\n",
       "      <td>NaT</td>\n",
       "      <td>Краснодар</td>\n",
       "      <td>Рафаил</td>\n",
       "      <td>Верещагин</td>\n",
       "      <td>2018-05-25</td>\n",
       "      <td>ultra</td>\n",
       "      <td>1000</td>\n",
       "      <td>30720</td>\n",
       "      <td>3000</td>\n",
       "      <td>1950</td>\n",
       "      <td>150</td>\n",
       "      <td>1</td>\n",
       "      <td>1</td>\n",
       "      <td>1950.0</td>\n",
       "    </tr>\n",
       "    <tr>\n",
       "      <th>3</th>\n",
       "      <td>1000</td>\n",
       "      <td>8</td>\n",
       "      <td>81.0</td>\n",
       "      <td>14055.93</td>\n",
       "      <td>408.0</td>\n",
       "      <td>52</td>\n",
       "      <td>NaT</td>\n",
       "      <td>Краснодар</td>\n",
       "      <td>Рафаил</td>\n",
       "      <td>Верещагин</td>\n",
       "      <td>2018-05-25</td>\n",
       "      <td>ultra</td>\n",
       "      <td>1000</td>\n",
       "      <td>30720</td>\n",
       "      <td>3000</td>\n",
       "      <td>1950</td>\n",
       "      <td>150</td>\n",
       "      <td>1</td>\n",
       "      <td>1</td>\n",
       "      <td>1950.0</td>\n",
       "    </tr>\n",
       "    <tr>\n",
       "      <th>4</th>\n",
       "      <td>1000</td>\n",
       "      <td>9</td>\n",
       "      <td>57.0</td>\n",
       "      <td>14568.91</td>\n",
       "      <td>466.0</td>\n",
       "      <td>52</td>\n",
       "      <td>NaT</td>\n",
       "      <td>Краснодар</td>\n",
       "      <td>Рафаил</td>\n",
       "      <td>Верещагин</td>\n",
       "      <td>2018-05-25</td>\n",
       "      <td>ultra</td>\n",
       "      <td>1000</td>\n",
       "      <td>30720</td>\n",
       "      <td>3000</td>\n",
       "      <td>1950</td>\n",
       "      <td>150</td>\n",
       "      <td>1</td>\n",
       "      <td>1</td>\n",
       "      <td>1950.0</td>\n",
       "    </tr>\n",
       "  </tbody>\n",
       "</table>\n",
       "</div>"
      ],
      "text/plain": [
       "   user_id  month  message_date   mb_used  duration  age churn_date  \\\n",
       "0     1000      5          22.0   2253.49     159.0   52        NaT   \n",
       "1     1000      6          60.0  23233.77     172.0   52        NaT   \n",
       "2     1000      7          75.0  14003.64     340.0   52        NaT   \n",
       "3     1000      8          81.0  14055.93     408.0   52        NaT   \n",
       "4     1000      9          57.0  14568.91     466.0   52        NaT   \n",
       "\n",
       "        city first_name  last_name   reg_date tariff  messages_included  \\\n",
       "0  Краснодар     Рафаил  Верещагин 2018-05-25  ultra               1000   \n",
       "1  Краснодар     Рафаил  Верещагин 2018-05-25  ultra               1000   \n",
       "2  Краснодар     Рафаил  Верещагин 2018-05-25  ultra               1000   \n",
       "3  Краснодар     Рафаил  Верещагин 2018-05-25  ultra               1000   \n",
       "4  Краснодар     Рафаил  Верещагин 2018-05-25  ultra               1000   \n",
       "\n",
       "   mb_per_month_included  minutes_included  rub_monthly_fee  rub_per_gb  \\\n",
       "0                  30720              3000             1950         150   \n",
       "1                  30720              3000             1950         150   \n",
       "2                  30720              3000             1950         150   \n",
       "3                  30720              3000             1950         150   \n",
       "4                  30720              3000             1950         150   \n",
       "\n",
       "   rub_per_message  rub_per_minute  result  \n",
       "0                1               1  1950.0  \n",
       "1                1               1  1950.0  \n",
       "2                1               1  1950.0  \n",
       "3                1               1  1950.0  \n",
       "4                1               1  1950.0  "
      ]
     },
     "execution_count": 47,
     "metadata": {},
     "output_type": "execute_result"
    }
   ],
   "source": [
    "df_groupby['result']=df_groupby.apply(price_per_month, axis=1)\n",
    "df_groupby.head()\n",
    "#применяем функцию и смотрим результат"
   ]
  },
  {
   "cell_type": "markdown",
   "metadata": {},
   "source": [
    "Отлично, мы подготовили данные для анализа."
   ]
  },
  {
   "cell_type": "markdown",
   "metadata": {},
   "source": [
    "##  3 Проанализируем данные"
   ]
  },
  {
   "cell_type": "markdown",
   "metadata": {},
   "source": [
    "##  3.1 Анализ звонков"
   ]
  },
  {
   "cell_type": "code",
   "execution_count": 48,
   "metadata": {},
   "outputs": [
    {
     "data": {
      "text/html": [
       "<div>\n",
       "<style scoped>\n",
       "    .dataframe tbody tr th:only-of-type {\n",
       "        vertical-align: middle;\n",
       "    }\n",
       "\n",
       "    .dataframe tbody tr th {\n",
       "        vertical-align: top;\n",
       "    }\n",
       "\n",
       "    .dataframe thead th {\n",
       "        text-align: right;\n",
       "    }\n",
       "</style>\n",
       "<table border=\"1\" class=\"dataframe\">\n",
       "  <thead>\n",
       "    <tr style=\"text-align: right;\">\n",
       "      <th>tariff</th>\n",
       "      <th>smart</th>\n",
       "      <th>ultra</th>\n",
       "    </tr>\n",
       "  </thead>\n",
       "  <tbody>\n",
       "    <tr>\n",
       "      <th>duration</th>\n",
       "      <td>417.934948</td>\n",
       "      <td>526.62335</td>\n",
       "    </tr>\n",
       "  </tbody>\n",
       "</table>\n",
       "</div>"
      ],
      "text/plain": [
       "tariff         smart      ultra\n",
       "duration  417.934948  526.62335"
      ]
     },
     "execution_count": 48,
     "metadata": {},
     "output_type": "execute_result"
    }
   ],
   "source": [
    "mean_calls=df_groupby.pivot_table(\n",
    "    columns='tariff',\n",
    "    values='duration',\n",
    "    aggfunc='mean'\n",
    ")\n",
    "mean_calls\n",
    "#создаем таблицу использованых минут в среднем в месяц для каждого тарифа"
   ]
  },
  {
   "cell_type": "code",
   "execution_count": 49,
   "metadata": {},
   "outputs": [
    {
     "data": {
      "image/png": "[encoded data removed]",
      "text/plain": [
       "<Figure size 432x288 with 1 Axes>"
      ]
     },
     "metadata": {
      "needs_background": "light"
     },
     "output_type": "display_data"
    }
   ],
   "source": [
    "mean_calls.T.plot(kind=\"bar\")\n",
    "plt.show()\n",
    "\n",
    "#выводим график использованых минут в среднем в месяц для каждого тарифа"
   ]
  },
  {
   "cell_type": "markdown",
   "metadata": {},
   "source": [
    "На этом графике видно что в данной выборке в среднем в месяц больше минут для разговора исполюзут пользователи тарифа ultra."
   ]
  },
  {
   "cell_type": "code",
   "execution_count": 50,
   "metadata": {},
   "outputs": [
    {
     "data": {
      "text/html": [
       "<div>\n",
       "<style scoped>\n",
       "    .dataframe tbody tr th:only-of-type {\n",
       "        vertical-align: middle;\n",
       "    }\n",
       "\n",
       "    .dataframe tbody tr th {\n",
       "        vertical-align: top;\n",
       "    }\n",
       "\n",
       "    .dataframe thead th {\n",
       "        text-align: right;\n",
       "    }\n",
       "</style>\n",
       "<table border=\"1\" class=\"dataframe\">\n",
       "  <thead>\n",
       "    <tr style=\"text-align: right;\">\n",
       "      <th></th>\n",
       "      <th></th>\n",
       "      <th>duration</th>\n",
       "    </tr>\n",
       "    <tr>\n",
       "      <th>tariff</th>\n",
       "      <th>month</th>\n",
       "      <th></th>\n",
       "    </tr>\n",
       "  </thead>\n",
       "  <tbody>\n",
       "    <tr>\n",
       "      <th rowspan=\"12\" valign=\"top\">smart</th>\n",
       "      <th>1</th>\n",
       "      <td>203.852941</td>\n",
       "    </tr>\n",
       "    <tr>\n",
       "      <th>2</th>\n",
       "      <td>298.689655</td>\n",
       "    </tr>\n",
       "    <tr>\n",
       "      <th>3</th>\n",
       "      <td>390.051948</td>\n",
       "    </tr>\n",
       "    <tr>\n",
       "      <th>4</th>\n",
       "      <td>367.133929</td>\n",
       "    </tr>\n",
       "    <tr>\n",
       "      <th>5</th>\n",
       "      <td>387.361702</td>\n",
       "    </tr>\n",
       "    <tr>\n",
       "      <th>6</th>\n",
       "      <td>395.640244</td>\n",
       "    </tr>\n",
       "    <tr>\n",
       "      <th>7</th>\n",
       "      <td>408.353234</td>\n",
       "    </tr>\n",
       "    <tr>\n",
       "      <th>8</th>\n",
       "      <td>421.468085</td>\n",
       "    </tr>\n",
       "    <tr>\n",
       "      <th>9</th>\n",
       "      <td>428.611538</td>\n",
       "    </tr>\n",
       "    <tr>\n",
       "      <th>10</th>\n",
       "      <td>426.136054</td>\n",
       "    </tr>\n",
       "    <tr>\n",
       "      <th>11</th>\n",
       "      <td>435.265823</td>\n",
       "    </tr>\n",
       "    <tr>\n",
       "      <th>12</th>\n",
       "      <td>478.560831</td>\n",
       "    </tr>\n",
       "    <tr>\n",
       "      <th rowspan=\"12\" valign=\"top\">ultra</th>\n",
       "      <th>1</th>\n",
       "      <td>428.111111</td>\n",
       "    </tr>\n",
       "    <tr>\n",
       "      <th>2</th>\n",
       "      <td>297.125000</td>\n",
       "    </tr>\n",
       "    <tr>\n",
       "      <th>3</th>\n",
       "      <td>489.648649</td>\n",
       "    </tr>\n",
       "    <tr>\n",
       "      <th>4</th>\n",
       "      <td>458.018182</td>\n",
       "    </tr>\n",
       "    <tr>\n",
       "      <th>5</th>\n",
       "      <td>510.328358</td>\n",
       "    </tr>\n",
       "    <tr>\n",
       "      <th>6</th>\n",
       "      <td>479.702381</td>\n",
       "    </tr>\n",
       "    <tr>\n",
       "      <th>7</th>\n",
       "      <td>545.791209</td>\n",
       "    </tr>\n",
       "    <tr>\n",
       "      <th>8</th>\n",
       "      <td>510.775701</td>\n",
       "    </tr>\n",
       "    <tr>\n",
       "      <th>9</th>\n",
       "      <td>539.443478</td>\n",
       "    </tr>\n",
       "    <tr>\n",
       "      <th>10</th>\n",
       "      <td>558.081301</td>\n",
       "    </tr>\n",
       "    <tr>\n",
       "      <th>11</th>\n",
       "      <td>541.380597</td>\n",
       "    </tr>\n",
       "    <tr>\n",
       "      <th>12</th>\n",
       "      <td>592.805755</td>\n",
       "    </tr>\n",
       "  </tbody>\n",
       "</table>\n",
       "</div>"
      ],
      "text/plain": [
       "                duration\n",
       "tariff month            \n",
       "smart  1      203.852941\n",
       "       2      298.689655\n",
       "       3      390.051948\n",
       "       4      367.133929\n",
       "       5      387.361702\n",
       "       6      395.640244\n",
       "       7      408.353234\n",
       "       8      421.468085\n",
       "       9      428.611538\n",
       "       10     426.136054\n",
       "       11     435.265823\n",
       "       12     478.560831\n",
       "ultra  1      428.111111\n",
       "       2      297.125000\n",
       "       3      489.648649\n",
       "       4      458.018182\n",
       "       5      510.328358\n",
       "       6      479.702381\n",
       "       7      545.791209\n",
       "       8      510.775701\n",
       "       9      539.443478\n",
       "       10     558.081301\n",
       "       11     541.380597\n",
       "       12     592.805755"
      ]
     },
     "execution_count": 50,
     "metadata": {},
     "output_type": "execute_result"
    }
   ],
   "source": [
    "mean_month_calls =pd.DataFrame(df_groupby.groupby(['tariff','month'])['duration'].mean())\n",
    "\n",
    "mean_month_calls"
   ]
  },
  {
   "cell_type": "code",
   "execution_count": 51,
   "metadata": {},
   "outputs": [
    {
     "data": {
      "image/png": "[encoded data removed]",
      "text/plain": [
       "<Figure size 432x288 with 1 Axes>"
      ]
     },
     "metadata": {
      "needs_background": "light"
     },
     "output_type": "display_data"
    }
   ],
   "source": [
    "mean_month_calls.pivot_table(index='tariff' ,columns='month', values='duration').T.plot(kind=\"bar\")\n",
    "plt.show()\n",
    "#выводим график использованых минут по месяцам для каждого тарифа"
   ]
  },
  {
   "cell_type": "markdown",
   "metadata": {},
   "source": [
    "Этот график даёт нам понять, что для данной выборки звонки совершают пользователи разных тарифов по похожей периодичности: в начале года меньше всего разговоров и в течение календарного года растет до самого нового года, правда у пользователей ultra заметно только низкое количество в первые два месяца  и максимальное в последний месяц года."
   ]
  },
  {
   "cell_type": "code",
   "execution_count": 52,
   "metadata": {},
   "outputs": [
    {
     "name": "stdout",
     "output_type": "stream",
     "text": [
      "8475.52\n"
     ]
    }
   ],
   "source": [
    "variance_month_calls = np.var(mean_month_calls['duration'], ddof=1)\n",
    "print('{:.2f}'.format(variance_month_calls))\n",
    "#дисперсия по всем тарифам "
   ]
  },
  {
   "cell_type": "code",
   "execution_count": 53,
   "metadata": {},
   "outputs": [
    {
     "name": "stdout",
     "output_type": "stream",
     "text": [
      "92.06\n"
     ]
    }
   ],
   "source": [
    "print('{:.2f}'.format(math.sqrt(variance_month_calls)))\n",
    "#стандартное откронение по всем тарифам"
   ]
  },
  {
   "cell_type": "code",
   "execution_count": 54,
   "metadata": {},
   "outputs": [
    {
     "data": {
      "text/html": [
       "<div>\n",
       "<style scoped>\n",
       "    .dataframe tbody tr th:only-of-type {\n",
       "        vertical-align: middle;\n",
       "    }\n",
       "\n",
       "    .dataframe tbody tr th {\n",
       "        vertical-align: top;\n",
       "    }\n",
       "\n",
       "    .dataframe thead th {\n",
       "        text-align: right;\n",
       "    }\n",
       "</style>\n",
       "<table border=\"1\" class=\"dataframe\">\n",
       "  <thead>\n",
       "    <tr style=\"text-align: right;\">\n",
       "      <th></th>\n",
       "      <th></th>\n",
       "      <th>duration</th>\n",
       "    </tr>\n",
       "    <tr>\n",
       "      <th>tariff</th>\n",
       "      <th>month</th>\n",
       "      <th></th>\n",
       "    </tr>\n",
       "  </thead>\n",
       "  <tbody>\n",
       "    <tr>\n",
       "      <th rowspan=\"12\" valign=\"top\">smart</th>\n",
       "      <th>1</th>\n",
       "      <td>203.852941</td>\n",
       "    </tr>\n",
       "    <tr>\n",
       "      <th>2</th>\n",
       "      <td>298.689655</td>\n",
       "    </tr>\n",
       "    <tr>\n",
       "      <th>3</th>\n",
       "      <td>390.051948</td>\n",
       "    </tr>\n",
       "    <tr>\n",
       "      <th>4</th>\n",
       "      <td>367.133929</td>\n",
       "    </tr>\n",
       "    <tr>\n",
       "      <th>5</th>\n",
       "      <td>387.361702</td>\n",
       "    </tr>\n",
       "    <tr>\n",
       "      <th>6</th>\n",
       "      <td>395.640244</td>\n",
       "    </tr>\n",
       "    <tr>\n",
       "      <th>7</th>\n",
       "      <td>408.353234</td>\n",
       "    </tr>\n",
       "    <tr>\n",
       "      <th>8</th>\n",
       "      <td>421.468085</td>\n",
       "    </tr>\n",
       "    <tr>\n",
       "      <th>9</th>\n",
       "      <td>428.611538</td>\n",
       "    </tr>\n",
       "    <tr>\n",
       "      <th>10</th>\n",
       "      <td>426.136054</td>\n",
       "    </tr>\n",
       "    <tr>\n",
       "      <th>11</th>\n",
       "      <td>435.265823</td>\n",
       "    </tr>\n",
       "    <tr>\n",
       "      <th>12</th>\n",
       "      <td>478.560831</td>\n",
       "    </tr>\n",
       "  </tbody>\n",
       "</table>\n",
       "</div>"
      ],
      "text/plain": [
       "                duration\n",
       "tariff month            \n",
       "smart  1      203.852941\n",
       "       2      298.689655\n",
       "       3      390.051948\n",
       "       4      367.133929\n",
       "       5      387.361702\n",
       "       6      395.640244\n",
       "       7      408.353234\n",
       "       8      421.468085\n",
       "       9      428.611538\n",
       "       10     426.136054\n",
       "       11     435.265823\n",
       "       12     478.560831"
      ]
     },
     "execution_count": 54,
     "metadata": {},
     "output_type": "execute_result"
    }
   ],
   "source": [
    "mean_smart_month_calls=mean_month_calls.query('tariff == \"smart\"')\n",
    "mean_smart_month_calls"
   ]
  },
  {
   "cell_type": "code",
   "execution_count": 55,
   "metadata": {},
   "outputs": [
    {
     "name": "stdout",
     "output_type": "stream",
     "text": [
      "5221.80\n"
     ]
    }
   ],
   "source": [
    "variance_smart_month_calls = np.var(mean_smart_month_calls['duration'], ddof=1)\n",
    "print('{:.2f}'.format(variance_smart_month_calls))\n",
    "#дисперсия по тарифу smart"
   ]
  },
  {
   "cell_type": "code",
   "execution_count": 56,
   "metadata": {},
   "outputs": [
    {
     "name": "stdout",
     "output_type": "stream",
     "text": [
      "72.26\n"
     ]
    }
   ],
   "source": [
    "print('{:.2f}'.format(math.sqrt(variance_smart_month_calls)))\n",
    "#стандартное откронение по тарифу smart"
   ]
  },
  {
   "cell_type": "code",
   "execution_count": 57,
   "metadata": {},
   "outputs": [
    {
     "data": {
      "text/html": [
       "<div>\n",
       "<style scoped>\n",
       "    .dataframe tbody tr th:only-of-type {\n",
       "        vertical-align: middle;\n",
       "    }\n",
       "\n",
       "    .dataframe tbody tr th {\n",
       "        vertical-align: top;\n",
       "    }\n",
       "\n",
       "    .dataframe thead th {\n",
       "        text-align: right;\n",
       "    }\n",
       "</style>\n",
       "<table border=\"1\" class=\"dataframe\">\n",
       "  <thead>\n",
       "    <tr style=\"text-align: right;\">\n",
       "      <th></th>\n",
       "      <th></th>\n",
       "      <th>duration</th>\n",
       "    </tr>\n",
       "    <tr>\n",
       "      <th>tariff</th>\n",
       "      <th>month</th>\n",
       "      <th></th>\n",
       "    </tr>\n",
       "  </thead>\n",
       "  <tbody>\n",
       "    <tr>\n",
       "      <th rowspan=\"12\" valign=\"top\">ultra</th>\n",
       "      <th>1</th>\n",
       "      <td>428.111111</td>\n",
       "    </tr>\n",
       "    <tr>\n",
       "      <th>2</th>\n",
       "      <td>297.125000</td>\n",
       "    </tr>\n",
       "    <tr>\n",
       "      <th>3</th>\n",
       "      <td>489.648649</td>\n",
       "    </tr>\n",
       "    <tr>\n",
       "      <th>4</th>\n",
       "      <td>458.018182</td>\n",
       "    </tr>\n",
       "    <tr>\n",
       "      <th>5</th>\n",
       "      <td>510.328358</td>\n",
       "    </tr>\n",
       "    <tr>\n",
       "      <th>6</th>\n",
       "      <td>479.702381</td>\n",
       "    </tr>\n",
       "    <tr>\n",
       "      <th>7</th>\n",
       "      <td>545.791209</td>\n",
       "    </tr>\n",
       "    <tr>\n",
       "      <th>8</th>\n",
       "      <td>510.775701</td>\n",
       "    </tr>\n",
       "    <tr>\n",
       "      <th>9</th>\n",
       "      <td>539.443478</td>\n",
       "    </tr>\n",
       "    <tr>\n",
       "      <th>10</th>\n",
       "      <td>558.081301</td>\n",
       "    </tr>\n",
       "    <tr>\n",
       "      <th>11</th>\n",
       "      <td>541.380597</td>\n",
       "    </tr>\n",
       "    <tr>\n",
       "      <th>12</th>\n",
       "      <td>592.805755</td>\n",
       "    </tr>\n",
       "  </tbody>\n",
       "</table>\n",
       "</div>"
      ],
      "text/plain": [
       "                duration\n",
       "tariff month            \n",
       "ultra  1      428.111111\n",
       "       2      297.125000\n",
       "       3      489.648649\n",
       "       4      458.018182\n",
       "       5      510.328358\n",
       "       6      479.702381\n",
       "       7      545.791209\n",
       "       8      510.775701\n",
       "       9      539.443478\n",
       "       10     558.081301\n",
       "       11     541.380597\n",
       "       12     592.805755"
      ]
     },
     "execution_count": 57,
     "metadata": {},
     "output_type": "execute_result"
    }
   ],
   "source": [
    "mean_ultra_month_calls=mean_month_calls.query('tariff == \"ultra\"')\n",
    "mean_ultra_month_calls\n",
    "#стандартное откронение по тарифу ultra"
   ]
  },
  {
   "cell_type": "code",
   "execution_count": 58,
   "metadata": {},
   "outputs": [
    {
     "name": "stdout",
     "output_type": "stream",
     "text": [
      "5998.51\n"
     ]
    }
   ],
   "source": [
    "variance_ultra_month_calls = np.var(mean_ultra_month_calls['duration'], ddof=1)\n",
    "print('{:.2f}'.format(variance_ultra_month_calls))\n",
    "#дисперсия по тарифу ultra"
   ]
  },
  {
   "cell_type": "code",
   "execution_count": 59,
   "metadata": {},
   "outputs": [
    {
     "name": "stdout",
     "output_type": "stream",
     "text": [
      "77.45\n"
     ]
    }
   ],
   "source": [
    "print('{:.2f}'.format(math.sqrt(variance_ultra_month_calls)))\n",
    "#стандартное откронение по тарифу ultra"
   ]
  },
  {
   "cell_type": "code",
   "execution_count": 60,
   "metadata": {},
   "outputs": [
    {
     "data": {
      "text/html": [
       "<div>\n",
       "<style scoped>\n",
       "    .dataframe tbody tr th:only-of-type {\n",
       "        vertical-align: middle;\n",
       "    }\n",
       "\n",
       "    .dataframe tbody tr th {\n",
       "        vertical-align: top;\n",
       "    }\n",
       "\n",
       "    .dataframe thead th {\n",
       "        text-align: right;\n",
       "    }\n",
       "</style>\n",
       "<table border=\"1\" class=\"dataframe\">\n",
       "  <thead>\n",
       "    <tr style=\"text-align: right;\">\n",
       "      <th></th>\n",
       "      <th>duration</th>\n",
       "    </tr>\n",
       "    <tr>\n",
       "      <th>month</th>\n",
       "      <th></th>\n",
       "    </tr>\n",
       "  </thead>\n",
       "  <tbody>\n",
       "    <tr>\n",
       "      <th>1</th>\n",
       "      <td>250.790698</td>\n",
       "    </tr>\n",
       "    <tr>\n",
       "      <th>2</th>\n",
       "      <td>298.231707</td>\n",
       "    </tr>\n",
       "    <tr>\n",
       "      <th>3</th>\n",
       "      <td>422.377193</td>\n",
       "    </tr>\n",
       "    <tr>\n",
       "      <th>4</th>\n",
       "      <td>397.065868</td>\n",
       "    </tr>\n",
       "    <tr>\n",
       "      <th>5</th>\n",
       "      <td>426.971154</td>\n",
       "    </tr>\n",
       "    <tr>\n",
       "      <th>6</th>\n",
       "      <td>424.112903</td>\n",
       "    </tr>\n",
       "    <tr>\n",
       "      <th>7</th>\n",
       "      <td>451.184932</td>\n",
       "    </tr>\n",
       "    <tr>\n",
       "      <th>8</th>\n",
       "      <td>449.409357</td>\n",
       "    </tr>\n",
       "    <tr>\n",
       "      <th>9</th>\n",
       "      <td>462.600000</td>\n",
       "    </tr>\n",
       "    <tr>\n",
       "      <th>10</th>\n",
       "      <td>465.055156</td>\n",
       "    </tr>\n",
       "    <tr>\n",
       "      <th>11</th>\n",
       "      <td>466.864444</td>\n",
       "    </tr>\n",
       "    <tr>\n",
       "      <th>12</th>\n",
       "      <td>511.922269</td>\n",
       "    </tr>\n",
       "  </tbody>\n",
       "</table>\n",
       "</div>"
      ],
      "text/plain": [
       "         duration\n",
       "month            \n",
       "1      250.790698\n",
       "2      298.231707\n",
       "3      422.377193\n",
       "4      397.065868\n",
       "5      426.971154\n",
       "6      424.112903\n",
       "7      451.184932\n",
       "8      449.409357\n",
       "9      462.600000\n",
       "10     465.055156\n",
       "11     466.864444\n",
       "12     511.922269"
      ]
     },
     "execution_count": 60,
     "metadata": {},
     "output_type": "execute_result"
    }
   ],
   "source": [
    "calls_mean =pd.DataFrame(df_groupby.groupby(['month'])['duration'].mean())\n",
    "\n",
    "calls_mean\n",
    "#в среднем минут разговора в месяц"
   ]
  },
  {
   "cell_type": "code",
   "execution_count": 61,
   "metadata": {},
   "outputs": [
    {
     "data": {
      "image/png": "[encoded data removed]",
      "text/plain": [
       "<Figure size 432x288 with 1 Axes>"
      ]
     },
     "metadata": {
      "needs_background": "light"
     },
     "output_type": "display_data"
    }
   ],
   "source": [
    "calls_mean.pivot_table(columns='month', values='duration').T.plot(kind=\"bar\")\n",
    "plt.show()\n",
    "#гистограмма распределения использованных минут в начале года меньше всего разговоров и в течение календарного года растет до самого нового года"
   ]
  },
  {
   "cell_type": "markdown",
   "metadata": {},
   "source": [
    "Данный график дает нам понять, что в начале года меньше всего разговоров и в течение календарного года их количество растет до самого нового года. Виден небольшой пик в марте и выеделяющееся низкое значение в первые 2 месяца."
   ]
  },
  {
   "cell_type": "markdown",
   "metadata": {},
   "source": [
    "Закончили со звонками."
   ]
  },
  {
   "cell_type": "markdown",
   "metadata": {},
   "source": [
    "##  3.2 Анализ сообщений"
   ]
  },
  {
   "cell_type": "code",
   "execution_count": 62,
   "metadata": {},
   "outputs": [
    {
     "data": {
      "text/html": [
       "<div>\n",
       "<style scoped>\n",
       "    .dataframe tbody tr th:only-of-type {\n",
       "        vertical-align: middle;\n",
       "    }\n",
       "\n",
       "    .dataframe tbody tr th {\n",
       "        vertical-align: top;\n",
       "    }\n",
       "\n",
       "    .dataframe thead th {\n",
       "        text-align: right;\n",
       "    }\n",
       "</style>\n",
       "<table border=\"1\" class=\"dataframe\">\n",
       "  <thead>\n",
       "    <tr style=\"text-align: right;\">\n",
       "      <th>tariff</th>\n",
       "      <th>smart</th>\n",
       "      <th>ultra</th>\n",
       "    </tr>\n",
       "  </thead>\n",
       "  <tbody>\n",
       "    <tr>\n",
       "      <th>message_date</th>\n",
       "      <td>33.384029</td>\n",
       "      <td>49.363452</td>\n",
       "    </tr>\n",
       "  </tbody>\n",
       "</table>\n",
       "</div>"
      ],
      "text/plain": [
       "tariff            smart      ultra\n",
       "message_date  33.384029  49.363452"
      ]
     },
     "execution_count": 62,
     "metadata": {},
     "output_type": "execute_result"
    }
   ],
   "source": [
    "mean_messages=df_groupby.pivot_table(\n",
    "\n",
    "    columns='tariff',\n",
    "    values='message_date',\n",
    "    aggfunc='mean'\n",
    ")\n",
    "mean_messages\n",
    "#создаем таблицу отправленных сообщений в среднем в месяц для каждого тарифа"
   ]
  },
  {
   "cell_type": "code",
   "execution_count": 63,
   "metadata": {},
   "outputs": [
    {
     "data": {
      "image/png": "[encoded data removed]",
      "text/plain": [
       "<Figure size 432x288 with 1 Axes>"
      ]
     },
     "metadata": {
      "needs_background": "light"
     },
     "output_type": "display_data"
    }
   ],
   "source": [
    "mean_messages.T.plot(kind=\"bar\")\n",
    "plt.show()\n",
    "#выводим график отправленных сообщений в среднем в месяц для каждого тарифа"
   ]
  },
  {
   "cell_type": "markdown",
   "metadata": {},
   "source": [
    "На данном графике видно, что в данной выборке в среднем сообщений в месяц пишут больше бользователи тарифа ultra."
   ]
  },
  {
   "cell_type": "code",
   "execution_count": 64,
   "metadata": {
    "scrolled": true
   },
   "outputs": [
    {
     "data": {
      "text/html": [
       "<div>\n",
       "<style scoped>\n",
       "    .dataframe tbody tr th:only-of-type {\n",
       "        vertical-align: middle;\n",
       "    }\n",
       "\n",
       "    .dataframe tbody tr th {\n",
       "        vertical-align: top;\n",
       "    }\n",
       "\n",
       "    .dataframe thead th {\n",
       "        text-align: right;\n",
       "    }\n",
       "</style>\n",
       "<table border=\"1\" class=\"dataframe\">\n",
       "  <thead>\n",
       "    <tr style=\"text-align: right;\">\n",
       "      <th></th>\n",
       "      <th></th>\n",
       "      <th>message_date</th>\n",
       "    </tr>\n",
       "    <tr>\n",
       "      <th>tariff</th>\n",
       "      <th>month</th>\n",
       "      <th></th>\n",
       "    </tr>\n",
       "  </thead>\n",
       "  <tbody>\n",
       "    <tr>\n",
       "      <th rowspan=\"12\" valign=\"top\">smart</th>\n",
       "      <th>1</th>\n",
       "      <td>18.235294</td>\n",
       "    </tr>\n",
       "    <tr>\n",
       "      <th>2</th>\n",
       "      <td>24.086207</td>\n",
       "    </tr>\n",
       "    <tr>\n",
       "      <th>3</th>\n",
       "      <td>31.857143</td>\n",
       "    </tr>\n",
       "    <tr>\n",
       "      <th>4</th>\n",
       "      <td>30.741071</td>\n",
       "    </tr>\n",
       "    <tr>\n",
       "      <th>5</th>\n",
       "      <td>33.773050</td>\n",
       "    </tr>\n",
       "    <tr>\n",
       "      <th>6</th>\n",
       "      <td>33.402439</td>\n",
       "    </tr>\n",
       "    <tr>\n",
       "      <th>7</th>\n",
       "      <td>33.751244</td>\n",
       "    </tr>\n",
       "    <tr>\n",
       "      <th>8</th>\n",
       "      <td>33.638298</td>\n",
       "    </tr>\n",
       "    <tr>\n",
       "      <th>9</th>\n",
       "      <td>33.638462</td>\n",
       "    </tr>\n",
       "    <tr>\n",
       "      <th>10</th>\n",
       "      <td>33.765306</td>\n",
       "    </tr>\n",
       "    <tr>\n",
       "      <th>11</th>\n",
       "      <td>34.075949</td>\n",
       "    </tr>\n",
       "    <tr>\n",
       "      <th>12</th>\n",
       "      <td>35.994065</td>\n",
       "    </tr>\n",
       "    <tr>\n",
       "      <th rowspan=\"12\" valign=\"top\">ultra</th>\n",
       "      <th>1</th>\n",
       "      <td>33.777778</td>\n",
       "    </tr>\n",
       "    <tr>\n",
       "      <th>2</th>\n",
       "      <td>21.958333</td>\n",
       "    </tr>\n",
       "    <tr>\n",
       "      <th>3</th>\n",
       "      <td>32.297297</td>\n",
       "    </tr>\n",
       "    <tr>\n",
       "      <th>4</th>\n",
       "      <td>31.563636</td>\n",
       "    </tr>\n",
       "    <tr>\n",
       "      <th>5</th>\n",
       "      <td>37.850746</td>\n",
       "    </tr>\n",
       "    <tr>\n",
       "      <th>6</th>\n",
       "      <td>41.726190</td>\n",
       "    </tr>\n",
       "    <tr>\n",
       "      <th>7</th>\n",
       "      <td>49.846154</td>\n",
       "    </tr>\n",
       "    <tr>\n",
       "      <th>8</th>\n",
       "      <td>48.439252</td>\n",
       "    </tr>\n",
       "    <tr>\n",
       "      <th>9</th>\n",
       "      <td>52.286957</td>\n",
       "    </tr>\n",
       "    <tr>\n",
       "      <th>10</th>\n",
       "      <td>58.430894</td>\n",
       "    </tr>\n",
       "    <tr>\n",
       "      <th>11</th>\n",
       "      <td>55.791045</td>\n",
       "    </tr>\n",
       "    <tr>\n",
       "      <th>12</th>\n",
       "      <td>60.611511</td>\n",
       "    </tr>\n",
       "  </tbody>\n",
       "</table>\n",
       "</div>"
      ],
      "text/plain": [
       "              message_date\n",
       "tariff month              \n",
       "smart  1         18.235294\n",
       "       2         24.086207\n",
       "       3         31.857143\n",
       "       4         30.741071\n",
       "       5         33.773050\n",
       "       6         33.402439\n",
       "       7         33.751244\n",
       "       8         33.638298\n",
       "       9         33.638462\n",
       "       10        33.765306\n",
       "       11        34.075949\n",
       "       12        35.994065\n",
       "ultra  1         33.777778\n",
       "       2         21.958333\n",
       "       3         32.297297\n",
       "       4         31.563636\n",
       "       5         37.850746\n",
       "       6         41.726190\n",
       "       7         49.846154\n",
       "       8         48.439252\n",
       "       9         52.286957\n",
       "       10        58.430894\n",
       "       11        55.791045\n",
       "       12        60.611511"
      ]
     },
     "execution_count": 64,
     "metadata": {},
     "output_type": "execute_result"
    }
   ],
   "source": [
    "mean_month_messages =pd.DataFrame(df_groupby.groupby(['tariff','month'])['message_date'].mean())\n",
    "\n",
    "mean_month_messages"
   ]
  },
  {
   "cell_type": "code",
   "execution_count": 65,
   "metadata": {},
   "outputs": [
    {
     "data": {
      "image/png": "[encoded data removed]",
      "text/plain": [
       "<Figure size 432x288 with 1 Axes>"
      ]
     },
     "metadata": {
      "needs_background": "light"
     },
     "output_type": "display_data"
    }
   ],
   "source": [
    "mean_month_messages.pivot_table(index='tariff' ,columns='month', values='message_date').T.plot(kind=\"bar\")\n",
    "plt.show()\n",
    "#выводим график отправки сообщений по месяцам для каждого тарифа"
   ]
  },
  {
   "cell_type": "markdown",
   "metadata": {},
   "source": [
    "Данный график дает нам понять, что для данной выборки  зависимость сообщений от месяца похожа на звонки, однако тут наоборот: пользователи ultra выраженнее постепенно в течение всего года увеличивают количество сообщений, в то время как у обладателей smart явная просадка по сообщениям только в первые 2 месяца года."
   ]
  },
  {
   "cell_type": "code",
   "execution_count": 66,
   "metadata": {},
   "outputs": [
    {
     "name": "stdout",
     "output_type": "stream",
     "text": [
      "124.53\n"
     ]
    }
   ],
   "source": [
    "variance_month_messages = np.var(mean_month_messages['message_date'], ddof=1)\n",
    "print('{:.2f}'.format(variance_month_messages))\n",
    "#дисперсия по всем тарифам "
   ]
  },
  {
   "cell_type": "code",
   "execution_count": 67,
   "metadata": {},
   "outputs": [
    {
     "name": "stdout",
     "output_type": "stream",
     "text": [
      "11.16\n"
     ]
    }
   ],
   "source": [
    "print('{:.2f}'.format(math.sqrt(variance_month_messages)))\n",
    "#стандартное откронение по всем тарифам"
   ]
  },
  {
   "cell_type": "code",
   "execution_count": 68,
   "metadata": {},
   "outputs": [
    {
     "data": {
      "text/html": [
       "<div>\n",
       "<style scoped>\n",
       "    .dataframe tbody tr th:only-of-type {\n",
       "        vertical-align: middle;\n",
       "    }\n",
       "\n",
       "    .dataframe tbody tr th {\n",
       "        vertical-align: top;\n",
       "    }\n",
       "\n",
       "    .dataframe thead th {\n",
       "        text-align: right;\n",
       "    }\n",
       "</style>\n",
       "<table border=\"1\" class=\"dataframe\">\n",
       "  <thead>\n",
       "    <tr style=\"text-align: right;\">\n",
       "      <th></th>\n",
       "      <th></th>\n",
       "      <th>message_date</th>\n",
       "    </tr>\n",
       "    <tr>\n",
       "      <th>tariff</th>\n",
       "      <th>month</th>\n",
       "      <th></th>\n",
       "    </tr>\n",
       "  </thead>\n",
       "  <tbody>\n",
       "    <tr>\n",
       "      <th rowspan=\"12\" valign=\"top\">smart</th>\n",
       "      <th>1</th>\n",
       "      <td>18.235294</td>\n",
       "    </tr>\n",
       "    <tr>\n",
       "      <th>2</th>\n",
       "      <td>24.086207</td>\n",
       "    </tr>\n",
       "    <tr>\n",
       "      <th>3</th>\n",
       "      <td>31.857143</td>\n",
       "    </tr>\n",
       "    <tr>\n",
       "      <th>4</th>\n",
       "      <td>30.741071</td>\n",
       "    </tr>\n",
       "    <tr>\n",
       "      <th>5</th>\n",
       "      <td>33.773050</td>\n",
       "    </tr>\n",
       "    <tr>\n",
       "      <th>6</th>\n",
       "      <td>33.402439</td>\n",
       "    </tr>\n",
       "    <tr>\n",
       "      <th>7</th>\n",
       "      <td>33.751244</td>\n",
       "    </tr>\n",
       "    <tr>\n",
       "      <th>8</th>\n",
       "      <td>33.638298</td>\n",
       "    </tr>\n",
       "    <tr>\n",
       "      <th>9</th>\n",
       "      <td>33.638462</td>\n",
       "    </tr>\n",
       "    <tr>\n",
       "      <th>10</th>\n",
       "      <td>33.765306</td>\n",
       "    </tr>\n",
       "    <tr>\n",
       "      <th>11</th>\n",
       "      <td>34.075949</td>\n",
       "    </tr>\n",
       "    <tr>\n",
       "      <th>12</th>\n",
       "      <td>35.994065</td>\n",
       "    </tr>\n",
       "  </tbody>\n",
       "</table>\n",
       "</div>"
      ],
      "text/plain": [
       "              message_date\n",
       "tariff month              \n",
       "smart  1         18.235294\n",
       "       2         24.086207\n",
       "       3         31.857143\n",
       "       4         30.741071\n",
       "       5         33.773050\n",
       "       6         33.402439\n",
       "       7         33.751244\n",
       "       8         33.638298\n",
       "       9         33.638462\n",
       "       10        33.765306\n",
       "       11        34.075949\n",
       "       12        35.994065"
      ]
     },
     "execution_count": 68,
     "metadata": {},
     "output_type": "execute_result"
    }
   ],
   "source": [
    "mean_smart_month_messages=mean_month_messages.query('tariff == \"smart\"')\n",
    "mean_smart_month_messages\n",
    "#создаем таблицу только с тарифом smart по запросу"
   ]
  },
  {
   "cell_type": "code",
   "execution_count": 69,
   "metadata": {},
   "outputs": [
    {
     "name": "stdout",
     "output_type": "stream",
     "text": [
      "26.04\n"
     ]
    }
   ],
   "source": [
    "variance_smart_month_messages = np.var(mean_smart_month_messages['message_date'], ddof=1)\n",
    "print('{:.2f}'.format(variance_smart_month_messages))\n",
    "#дисперсия по тарифу smart"
   ]
  },
  {
   "cell_type": "code",
   "execution_count": 70,
   "metadata": {},
   "outputs": [
    {
     "name": "stdout",
     "output_type": "stream",
     "text": [
      "5.10\n"
     ]
    }
   ],
   "source": [
    "print('{:.2f}'.format(math.sqrt(variance_smart_month_messages)))\n",
    "#стандартное откронение по тарифу smart"
   ]
  },
  {
   "cell_type": "code",
   "execution_count": 71,
   "metadata": {},
   "outputs": [
    {
     "data": {
      "text/html": [
       "<div>\n",
       "<style scoped>\n",
       "    .dataframe tbody tr th:only-of-type {\n",
       "        vertical-align: middle;\n",
       "    }\n",
       "\n",
       "    .dataframe tbody tr th {\n",
       "        vertical-align: top;\n",
       "    }\n",
       "\n",
       "    .dataframe thead th {\n",
       "        text-align: right;\n",
       "    }\n",
       "</style>\n",
       "<table border=\"1\" class=\"dataframe\">\n",
       "  <thead>\n",
       "    <tr style=\"text-align: right;\">\n",
       "      <th></th>\n",
       "      <th></th>\n",
       "      <th>message_date</th>\n",
       "    </tr>\n",
       "    <tr>\n",
       "      <th>tariff</th>\n",
       "      <th>month</th>\n",
       "      <th></th>\n",
       "    </tr>\n",
       "  </thead>\n",
       "  <tbody>\n",
       "    <tr>\n",
       "      <th rowspan=\"12\" valign=\"top\">ultra</th>\n",
       "      <th>1</th>\n",
       "      <td>33.777778</td>\n",
       "    </tr>\n",
       "    <tr>\n",
       "      <th>2</th>\n",
       "      <td>21.958333</td>\n",
       "    </tr>\n",
       "    <tr>\n",
       "      <th>3</th>\n",
       "      <td>32.297297</td>\n",
       "    </tr>\n",
       "    <tr>\n",
       "      <th>4</th>\n",
       "      <td>31.563636</td>\n",
       "    </tr>\n",
       "    <tr>\n",
       "      <th>5</th>\n",
       "      <td>37.850746</td>\n",
       "    </tr>\n",
       "    <tr>\n",
       "      <th>6</th>\n",
       "      <td>41.726190</td>\n",
       "    </tr>\n",
       "    <tr>\n",
       "      <th>7</th>\n",
       "      <td>49.846154</td>\n",
       "    </tr>\n",
       "    <tr>\n",
       "      <th>8</th>\n",
       "      <td>48.439252</td>\n",
       "    </tr>\n",
       "    <tr>\n",
       "      <th>9</th>\n",
       "      <td>52.286957</td>\n",
       "    </tr>\n",
       "    <tr>\n",
       "      <th>10</th>\n",
       "      <td>58.430894</td>\n",
       "    </tr>\n",
       "    <tr>\n",
       "      <th>11</th>\n",
       "      <td>55.791045</td>\n",
       "    </tr>\n",
       "    <tr>\n",
       "      <th>12</th>\n",
       "      <td>60.611511</td>\n",
       "    </tr>\n",
       "  </tbody>\n",
       "</table>\n",
       "</div>"
      ],
      "text/plain": [
       "              message_date\n",
       "tariff month              \n",
       "ultra  1         33.777778\n",
       "       2         21.958333\n",
       "       3         32.297297\n",
       "       4         31.563636\n",
       "       5         37.850746\n",
       "       6         41.726190\n",
       "       7         49.846154\n",
       "       8         48.439252\n",
       "       9         52.286957\n",
       "       10        58.430894\n",
       "       11        55.791045\n",
       "       12        60.611511"
      ]
     },
     "execution_count": 71,
     "metadata": {},
     "output_type": "execute_result"
    }
   ],
   "source": [
    "mean_ultra_month_messages=mean_month_messages.query('tariff == \"ultra\"')\n",
    "mean_ultra_month_messages\n",
    "#создаем таблицу только с тарифом ultra по запросу"
   ]
  },
  {
   "cell_type": "code",
   "execution_count": 72,
   "metadata": {},
   "outputs": [
    {
     "name": "stdout",
     "output_type": "stream",
     "text": [
      "151.79\n"
     ]
    }
   ],
   "source": [
    "variance_ultra_month_messages = np.var(mean_ultra_month_messages['message_date'], ddof=1)\n",
    "print('{:.2f}'.format(variance_ultra_month_messages))\n",
    "#дисперсия по тарифу ultra"
   ]
  },
  {
   "cell_type": "code",
   "execution_count": 73,
   "metadata": {},
   "outputs": [
    {
     "name": "stdout",
     "output_type": "stream",
     "text": [
      "12.32\n"
     ]
    }
   ],
   "source": [
    "print('{:.2f}'.format(math.sqrt(variance_ultra_month_messages)))\n",
    "#стандартное откронение по тарифу ultra"
   ]
  },
  {
   "cell_type": "code",
   "execution_count": 74,
   "metadata": {},
   "outputs": [
    {
     "data": {
      "text/html": [
       "<div>\n",
       "<style scoped>\n",
       "    .dataframe tbody tr th:only-of-type {\n",
       "        vertical-align: middle;\n",
       "    }\n",
       "\n",
       "    .dataframe tbody tr th {\n",
       "        vertical-align: top;\n",
       "    }\n",
       "\n",
       "    .dataframe thead th {\n",
       "        text-align: right;\n",
       "    }\n",
       "</style>\n",
       "<table border=\"1\" class=\"dataframe\">\n",
       "  <thead>\n",
       "    <tr style=\"text-align: right;\">\n",
       "      <th></th>\n",
       "      <th>message_date</th>\n",
       "    </tr>\n",
       "    <tr>\n",
       "      <th>month</th>\n",
       "      <th></th>\n",
       "    </tr>\n",
       "  </thead>\n",
       "  <tbody>\n",
       "    <tr>\n",
       "      <th>1</th>\n",
       "      <td>21.488372</td>\n",
       "    </tr>\n",
       "    <tr>\n",
       "      <th>2</th>\n",
       "      <td>23.463415</td>\n",
       "    </tr>\n",
       "    <tr>\n",
       "      <th>3</th>\n",
       "      <td>32.000000</td>\n",
       "    </tr>\n",
       "    <tr>\n",
       "      <th>4</th>\n",
       "      <td>31.011976</td>\n",
       "    </tr>\n",
       "    <tr>\n",
       "      <th>5</th>\n",
       "      <td>35.086538</td>\n",
       "    </tr>\n",
       "    <tr>\n",
       "      <th>6</th>\n",
       "      <td>36.221774</td>\n",
       "    </tr>\n",
       "    <tr>\n",
       "      <th>7</th>\n",
       "      <td>38.767123</td>\n",
       "    </tr>\n",
       "    <tr>\n",
       "      <th>8</th>\n",
       "      <td>38.269006</td>\n",
       "    </tr>\n",
       "    <tr>\n",
       "      <th>9</th>\n",
       "      <td>39.357333</td>\n",
       "    </tr>\n",
       "    <tr>\n",
       "      <th>10</th>\n",
       "      <td>41.040767</td>\n",
       "    </tr>\n",
       "    <tr>\n",
       "      <th>11</th>\n",
       "      <td>40.542222</td>\n",
       "    </tr>\n",
       "    <tr>\n",
       "      <th>12</th>\n",
       "      <td>43.182773</td>\n",
       "    </tr>\n",
       "  </tbody>\n",
       "</table>\n",
       "</div>"
      ],
      "text/plain": [
       "       message_date\n",
       "month              \n",
       "1         21.488372\n",
       "2         23.463415\n",
       "3         32.000000\n",
       "4         31.011976\n",
       "5         35.086538\n",
       "6         36.221774\n",
       "7         38.767123\n",
       "8         38.269006\n",
       "9         39.357333\n",
       "10        41.040767\n",
       "11        40.542222\n",
       "12        43.182773"
      ]
     },
     "execution_count": 74,
     "metadata": {},
     "output_type": "execute_result"
    }
   ],
   "source": [
    "messages_mean =pd.DataFrame(df_groupby.groupby(['month'])['message_date'].mean())\n",
    "\n",
    "messages_mean\n",
    "#в среднем сообщений в месяц"
   ]
  },
  {
   "cell_type": "code",
   "execution_count": 75,
   "metadata": {},
   "outputs": [
    {
     "data": {
      "image/png": "[encoded data removed]",
      "text/plain": [
       "<Figure size 432x288 with 1 Axes>"
      ]
     },
     "metadata": {
      "needs_background": "light"
     },
     "output_type": "display_data"
    }
   ],
   "source": [
    "messages_mean.pivot_table(columns='month', values='message_date').T.plot(kind=\"bar\")\n",
    "plt.show()\n",
    "#гистограмма распределения отправки сообщений"
   ]
  },
  {
   "cell_type": "markdown",
   "metadata": {},
   "source": [
    "Данный график дает нам понять, что в начале года пользователи используют меньше всего сообщений и в течение календарного года их количество растет до самого нового года. Такого пика в марте как со звонками уже нет, однако так же выделяются низкие значения в первые 2 месяца. В целом график более равномерный чем со звонками."
   ]
  },
  {
   "cell_type": "markdown",
   "metadata": {},
   "source": [
    "Закончили с сообщениями."
   ]
  },
  {
   "cell_type": "markdown",
   "metadata": {},
   "source": [
    "##  3.3 Анализ интернет трафика"
   ]
  },
  {
   "cell_type": "code",
   "execution_count": 76,
   "metadata": {},
   "outputs": [
    {
     "data": {
      "text/html": [
       "<div>\n",
       "<style scoped>\n",
       "    .dataframe tbody tr th:only-of-type {\n",
       "        vertical-align: middle;\n",
       "    }\n",
       "\n",
       "    .dataframe tbody tr th {\n",
       "        vertical-align: top;\n",
       "    }\n",
       "\n",
       "    .dataframe thead th {\n",
       "        text-align: right;\n",
       "    }\n",
       "</style>\n",
       "<table border=\"1\" class=\"dataframe\">\n",
       "  <thead>\n",
       "    <tr style=\"text-align: right;\">\n",
       "      <th>tariff</th>\n",
       "      <th>smart</th>\n",
       "      <th>ultra</th>\n",
       "    </tr>\n",
       "  </thead>\n",
       "  <tbody>\n",
       "    <tr>\n",
       "      <th>mb_used</th>\n",
       "      <td>16208.38699</td>\n",
       "      <td>19468.805208</td>\n",
       "    </tr>\n",
       "  </tbody>\n",
       "</table>\n",
       "</div>"
      ],
      "text/plain": [
       "tariff         smart         ultra\n",
       "mb_used  16208.38699  19468.805208"
      ]
     },
     "execution_count": 76,
     "metadata": {},
     "output_type": "execute_result"
    }
   ],
   "source": [
    "mean_mb_used=df_groupby.pivot_table(\n",
    "\n",
    "    columns='tariff',\n",
    "    values='mb_used',\n",
    "    aggfunc='mean'\n",
    ")\n",
    "mean_mb_used\n",
    "#создаем таблицу использованых мегабайт интернета в среднем в месяц для каждого тарифа"
   ]
  },
  {
   "cell_type": "code",
   "execution_count": 77,
   "metadata": {},
   "outputs": [
    {
     "data": {
      "image/png": "[encoded data removed]",
      "text/plain": [
       "<Figure size 432x288 with 1 Axes>"
      ]
     },
     "metadata": {
      "needs_background": "light"
     },
     "output_type": "display_data"
    }
   ],
   "source": [
    "mean_mb_used.T.plot(kind=\"bar\")\n",
    "plt.show()\n",
    "\n",
    "#выводим график использованых мегабайт интернета в среднем в месяц для каждого тарифа"
   ]
  },
  {
   "cell_type": "markdown",
   "metadata": {},
   "source": [
    "На этом графике мы видим, что в данной выборке пользователи ultra в среднем расходуют больше мегабайт в месяц."
   ]
  },
  {
   "cell_type": "code",
   "execution_count": 78,
   "metadata": {
    "scrolled": true
   },
   "outputs": [
    {
     "data": {
      "text/html": [
       "<div>\n",
       "<style scoped>\n",
       "    .dataframe tbody tr th:only-of-type {\n",
       "        vertical-align: middle;\n",
       "    }\n",
       "\n",
       "    .dataframe tbody tr th {\n",
       "        vertical-align: top;\n",
       "    }\n",
       "\n",
       "    .dataframe thead th {\n",
       "        text-align: right;\n",
       "    }\n",
       "</style>\n",
       "<table border=\"1\" class=\"dataframe\">\n",
       "  <thead>\n",
       "    <tr style=\"text-align: right;\">\n",
       "      <th></th>\n",
       "      <th></th>\n",
       "      <th>mb_used</th>\n",
       "    </tr>\n",
       "    <tr>\n",
       "      <th>tariff</th>\n",
       "      <th>month</th>\n",
       "      <th></th>\n",
       "    </tr>\n",
       "  </thead>\n",
       "  <tbody>\n",
       "    <tr>\n",
       "      <th rowspan=\"12\" valign=\"top\">smart</th>\n",
       "      <th>1</th>\n",
       "      <td>8513.717647</td>\n",
       "    </tr>\n",
       "    <tr>\n",
       "      <th>2</th>\n",
       "      <td>11597.054310</td>\n",
       "    </tr>\n",
       "    <tr>\n",
       "      <th>3</th>\n",
       "      <td>15104.159091</td>\n",
       "    </tr>\n",
       "    <tr>\n",
       "      <th>4</th>\n",
       "      <td>13462.180625</td>\n",
       "    </tr>\n",
       "    <tr>\n",
       "      <th>5</th>\n",
       "      <td>15805.184326</td>\n",
       "    </tr>\n",
       "    <tr>\n",
       "      <th>6</th>\n",
       "      <td>15794.647988</td>\n",
       "    </tr>\n",
       "    <tr>\n",
       "      <th>7</th>\n",
       "      <td>15743.150348</td>\n",
       "    </tr>\n",
       "    <tr>\n",
       "      <th>8</th>\n",
       "      <td>16610.720085</td>\n",
       "    </tr>\n",
       "    <tr>\n",
       "      <th>9</th>\n",
       "      <td>16303.578808</td>\n",
       "    </tr>\n",
       "    <tr>\n",
       "      <th>10</th>\n",
       "      <td>16757.122891</td>\n",
       "    </tr>\n",
       "    <tr>\n",
       "      <th>11</th>\n",
       "      <td>16895.696646</td>\n",
       "    </tr>\n",
       "    <tr>\n",
       "      <th>12</th>\n",
       "      <td>18113.662047</td>\n",
       "    </tr>\n",
       "    <tr>\n",
       "      <th rowspan=\"12\" valign=\"top\">ultra</th>\n",
       "      <th>1</th>\n",
       "      <td>13140.681111</td>\n",
       "    </tr>\n",
       "    <tr>\n",
       "      <th>2</th>\n",
       "      <td>11775.937500</td>\n",
       "    </tr>\n",
       "    <tr>\n",
       "      <th>3</th>\n",
       "      <td>17535.550270</td>\n",
       "    </tr>\n",
       "    <tr>\n",
       "      <th>4</th>\n",
       "      <td>16828.134364</td>\n",
       "    </tr>\n",
       "    <tr>\n",
       "      <th>5</th>\n",
       "      <td>19363.152985</td>\n",
       "    </tr>\n",
       "    <tr>\n",
       "      <th>6</th>\n",
       "      <td>18924.939286</td>\n",
       "    </tr>\n",
       "    <tr>\n",
       "      <th>7</th>\n",
       "      <td>20495.665165</td>\n",
       "    </tr>\n",
       "    <tr>\n",
       "      <th>8</th>\n",
       "      <td>19576.054673</td>\n",
       "    </tr>\n",
       "    <tr>\n",
       "      <th>9</th>\n",
       "      <td>19204.277130</td>\n",
       "    </tr>\n",
       "    <tr>\n",
       "      <th>10</th>\n",
       "      <td>20045.337317</td>\n",
       "    </tr>\n",
       "    <tr>\n",
       "      <th>11</th>\n",
       "      <td>19786.812463</td>\n",
       "    </tr>\n",
       "    <tr>\n",
       "      <th>12</th>\n",
       "      <td>21793.172590</td>\n",
       "    </tr>\n",
       "  </tbody>\n",
       "</table>\n",
       "</div>"
      ],
      "text/plain": [
       "                   mb_used\n",
       "tariff month              \n",
       "smart  1       8513.717647\n",
       "       2      11597.054310\n",
       "       3      15104.159091\n",
       "       4      13462.180625\n",
       "       5      15805.184326\n",
       "       6      15794.647988\n",
       "       7      15743.150348\n",
       "       8      16610.720085\n",
       "       9      16303.578808\n",
       "       10     16757.122891\n",
       "       11     16895.696646\n",
       "       12     18113.662047\n",
       "ultra  1      13140.681111\n",
       "       2      11775.937500\n",
       "       3      17535.550270\n",
       "       4      16828.134364\n",
       "       5      19363.152985\n",
       "       6      18924.939286\n",
       "       7      20495.665165\n",
       "       8      19576.054673\n",
       "       9      19204.277130\n",
       "       10     20045.337317\n",
       "       11     19786.812463\n",
       "       12     21793.172590"
      ]
     },
     "execution_count": 78,
     "metadata": {},
     "output_type": "execute_result"
    }
   ],
   "source": [
    "mean_month_mb_used =pd.DataFrame(df_groupby.groupby(['tariff','month'])['mb_used'].mean())\n",
    "\n",
    "mean_month_mb_used"
   ]
  },
  {
   "cell_type": "code",
   "execution_count": 79,
   "metadata": {},
   "outputs": [
    {
     "data": {
      "image/png": "[encoded data removed]",
      "text/plain": [
       "<Figure size 432x288 with 1 Axes>"
      ]
     },
     "metadata": {
      "needs_background": "light"
     },
     "output_type": "display_data"
    }
   ],
   "source": [
    "mean_month_mb_used.pivot_table(index='tariff' ,columns='month', values='mb_used').T.plot(kind=\"bar\")\n",
    "plt.show()\n",
    "#выводим график использования интернета по месяцам для каждого тарифа"
   ]
  },
  {
   "cell_type": "markdown",
   "metadata": {},
   "source": [
    "Здесь на графике можно увидеть, что для данной выборки интернет пользователи обоих тарифов расходуют похоже, как и с сообщениями и звонками: количество расходуемого интернета в месяц постепенно растет от первого месяца года к последнему."
   ]
  },
  {
   "cell_type": "code",
   "execution_count": 80,
   "metadata": {},
   "outputs": [
    {
     "name": "stdout",
     "output_type": "stream",
     "text": [
      "10260808.00\n"
     ]
    }
   ],
   "source": [
    "variance_month_mb_used = np.var(mean_month_mb_used['mb_used'], ddof=1)\n",
    "print('{:.2f}'.format(variance_month_mb_used))\n",
    "#дисперсия по всем тарифам "
   ]
  },
  {
   "cell_type": "code",
   "execution_count": 81,
   "metadata": {},
   "outputs": [
    {
     "name": "stdout",
     "output_type": "stream",
     "text": [
      "3203.25\n"
     ]
    }
   ],
   "source": [
    "print('{:.2f}'.format(math.sqrt(variance_month_mb_used)))\n",
    "#стандартное откронение по всем тарифам"
   ]
  },
  {
   "cell_type": "code",
   "execution_count": 82,
   "metadata": {},
   "outputs": [
    {
     "data": {
      "text/html": [
       "<div>\n",
       "<style scoped>\n",
       "    .dataframe tbody tr th:only-of-type {\n",
       "        vertical-align: middle;\n",
       "    }\n",
       "\n",
       "    .dataframe tbody tr th {\n",
       "        vertical-align: top;\n",
       "    }\n",
       "\n",
       "    .dataframe thead th {\n",
       "        text-align: right;\n",
       "    }\n",
       "</style>\n",
       "<table border=\"1\" class=\"dataframe\">\n",
       "  <thead>\n",
       "    <tr style=\"text-align: right;\">\n",
       "      <th></th>\n",
       "      <th></th>\n",
       "      <th>mb_used</th>\n",
       "    </tr>\n",
       "    <tr>\n",
       "      <th>tariff</th>\n",
       "      <th>month</th>\n",
       "      <th></th>\n",
       "    </tr>\n",
       "  </thead>\n",
       "  <tbody>\n",
       "    <tr>\n",
       "      <th rowspan=\"12\" valign=\"top\">smart</th>\n",
       "      <th>1</th>\n",
       "      <td>8513.717647</td>\n",
       "    </tr>\n",
       "    <tr>\n",
       "      <th>2</th>\n",
       "      <td>11597.054310</td>\n",
       "    </tr>\n",
       "    <tr>\n",
       "      <th>3</th>\n",
       "      <td>15104.159091</td>\n",
       "    </tr>\n",
       "    <tr>\n",
       "      <th>4</th>\n",
       "      <td>13462.180625</td>\n",
       "    </tr>\n",
       "    <tr>\n",
       "      <th>5</th>\n",
       "      <td>15805.184326</td>\n",
       "    </tr>\n",
       "    <tr>\n",
       "      <th>6</th>\n",
       "      <td>15794.647988</td>\n",
       "    </tr>\n",
       "    <tr>\n",
       "      <th>7</th>\n",
       "      <td>15743.150348</td>\n",
       "    </tr>\n",
       "    <tr>\n",
       "      <th>8</th>\n",
       "      <td>16610.720085</td>\n",
       "    </tr>\n",
       "    <tr>\n",
       "      <th>9</th>\n",
       "      <td>16303.578808</td>\n",
       "    </tr>\n",
       "    <tr>\n",
       "      <th>10</th>\n",
       "      <td>16757.122891</td>\n",
       "    </tr>\n",
       "    <tr>\n",
       "      <th>11</th>\n",
       "      <td>16895.696646</td>\n",
       "    </tr>\n",
       "    <tr>\n",
       "      <th>12</th>\n",
       "      <td>18113.662047</td>\n",
       "    </tr>\n",
       "  </tbody>\n",
       "</table>\n",
       "</div>"
      ],
      "text/plain": [
       "                   mb_used\n",
       "tariff month              \n",
       "smart  1       8513.717647\n",
       "       2      11597.054310\n",
       "       3      15104.159091\n",
       "       4      13462.180625\n",
       "       5      15805.184326\n",
       "       6      15794.647988\n",
       "       7      15743.150348\n",
       "       8      16610.720085\n",
       "       9      16303.578808\n",
       "       10     16757.122891\n",
       "       11     16895.696646\n",
       "       12     18113.662047"
      ]
     },
     "execution_count": 82,
     "metadata": {},
     "output_type": "execute_result"
    }
   ],
   "source": [
    "mean_smart_month_mb_used=mean_month_mb_used.query('tariff == \"smart\"')\n",
    "mean_smart_month_mb_used\n",
    "#создаем таблицу только с тарифом smart по запросу"
   ]
  },
  {
   "cell_type": "code",
   "execution_count": 83,
   "metadata": {},
   "outputs": [
    {
     "name": "stdout",
     "output_type": "stream",
     "text": [
      "7135321.34\n"
     ]
    }
   ],
   "source": [
    "variance_smart_month_mb_used = np.var(mean_smart_month_mb_used['mb_used'], ddof=1)\n",
    "print('{:.2f}'.format(variance_smart_month_mb_used))\n",
    "#дисперсия по тарифу smart"
   ]
  },
  {
   "cell_type": "code",
   "execution_count": 84,
   "metadata": {},
   "outputs": [
    {
     "name": "stdout",
     "output_type": "stream",
     "text": [
      "2671.20\n"
     ]
    }
   ],
   "source": [
    "print('{:.2f}'.format(math.sqrt(variance_smart_month_mb_used)))\n",
    "#стандартное откронение по тарифу smart"
   ]
  },
  {
   "cell_type": "code",
   "execution_count": 85,
   "metadata": {},
   "outputs": [
    {
     "data": {
      "text/html": [
       "<div>\n",
       "<style scoped>\n",
       "    .dataframe tbody tr th:only-of-type {\n",
       "        vertical-align: middle;\n",
       "    }\n",
       "\n",
       "    .dataframe tbody tr th {\n",
       "        vertical-align: top;\n",
       "    }\n",
       "\n",
       "    .dataframe thead th {\n",
       "        text-align: right;\n",
       "    }\n",
       "</style>\n",
       "<table border=\"1\" class=\"dataframe\">\n",
       "  <thead>\n",
       "    <tr style=\"text-align: right;\">\n",
       "      <th></th>\n",
       "      <th></th>\n",
       "      <th>mb_used</th>\n",
       "    </tr>\n",
       "    <tr>\n",
       "      <th>tariff</th>\n",
       "      <th>month</th>\n",
       "      <th></th>\n",
       "    </tr>\n",
       "  </thead>\n",
       "  <tbody>\n",
       "    <tr>\n",
       "      <th rowspan=\"12\" valign=\"top\">ultra</th>\n",
       "      <th>1</th>\n",
       "      <td>13140.681111</td>\n",
       "    </tr>\n",
       "    <tr>\n",
       "      <th>2</th>\n",
       "      <td>11775.937500</td>\n",
       "    </tr>\n",
       "    <tr>\n",
       "      <th>3</th>\n",
       "      <td>17535.550270</td>\n",
       "    </tr>\n",
       "    <tr>\n",
       "      <th>4</th>\n",
       "      <td>16828.134364</td>\n",
       "    </tr>\n",
       "    <tr>\n",
       "      <th>5</th>\n",
       "      <td>19363.152985</td>\n",
       "    </tr>\n",
       "    <tr>\n",
       "      <th>6</th>\n",
       "      <td>18924.939286</td>\n",
       "    </tr>\n",
       "    <tr>\n",
       "      <th>7</th>\n",
       "      <td>20495.665165</td>\n",
       "    </tr>\n",
       "    <tr>\n",
       "      <th>8</th>\n",
       "      <td>19576.054673</td>\n",
       "    </tr>\n",
       "    <tr>\n",
       "      <th>9</th>\n",
       "      <td>19204.277130</td>\n",
       "    </tr>\n",
       "    <tr>\n",
       "      <th>10</th>\n",
       "      <td>20045.337317</td>\n",
       "    </tr>\n",
       "    <tr>\n",
       "      <th>11</th>\n",
       "      <td>19786.812463</td>\n",
       "    </tr>\n",
       "    <tr>\n",
       "      <th>12</th>\n",
       "      <td>21793.172590</td>\n",
       "    </tr>\n",
       "  </tbody>\n",
       "</table>\n",
       "</div>"
      ],
      "text/plain": [
       "                   mb_used\n",
       "tariff month              \n",
       "ultra  1      13140.681111\n",
       "       2      11775.937500\n",
       "       3      17535.550270\n",
       "       4      16828.134364\n",
       "       5      19363.152985\n",
       "       6      18924.939286\n",
       "       7      20495.665165\n",
       "       8      19576.054673\n",
       "       9      19204.277130\n",
       "       10     20045.337317\n",
       "       11     19786.812463\n",
       "       12     21793.172590"
      ]
     },
     "execution_count": 85,
     "metadata": {},
     "output_type": "execute_result"
    }
   ],
   "source": [
    "mean_ultra_month_mb_used=mean_month_mb_used.query('tariff == \"ultra\"')\n",
    "mean_ultra_month_mb_used\n",
    "#создаем таблицу только с тарифом ultra по запросу"
   ]
  },
  {
   "cell_type": "code",
   "execution_count": 86,
   "metadata": {},
   "outputs": [
    {
     "name": "stdout",
     "output_type": "stream",
     "text": [
      "8915742.06\n"
     ]
    }
   ],
   "source": [
    "variance_ultra_month_mb_used = np.var(mean_ultra_month_mb_used['mb_used'], ddof=1)\n",
    "print('{:.2f}'.format(variance_ultra_month_mb_used))\n",
    "#дисперсия по тарифу ultra"
   ]
  },
  {
   "cell_type": "code",
   "execution_count": 87,
   "metadata": {},
   "outputs": [
    {
     "name": "stdout",
     "output_type": "stream",
     "text": [
      "2985.92\n"
     ]
    }
   ],
   "source": [
    "print('{:.2f}'.format(math.sqrt(variance_ultra_month_mb_used)))\n",
    "#стандартное откронение по тарифу ultra"
   ]
  },
  {
   "cell_type": "code",
   "execution_count": 88,
   "metadata": {},
   "outputs": [
    {
     "data": {
      "text/html": [
       "<div>\n",
       "<style scoped>\n",
       "    .dataframe tbody tr th:only-of-type {\n",
       "        vertical-align: middle;\n",
       "    }\n",
       "\n",
       "    .dataframe tbody tr th {\n",
       "        vertical-align: top;\n",
       "    }\n",
       "\n",
       "    .dataframe thead th {\n",
       "        text-align: right;\n",
       "    }\n",
       "</style>\n",
       "<table border=\"1\" class=\"dataframe\">\n",
       "  <thead>\n",
       "    <tr style=\"text-align: right;\">\n",
       "      <th></th>\n",
       "      <th>mb_used</th>\n",
       "    </tr>\n",
       "    <tr>\n",
       "      <th>month</th>\n",
       "      <th></th>\n",
       "    </tr>\n",
       "  </thead>\n",
       "  <tbody>\n",
       "    <tr>\n",
       "      <th>1</th>\n",
       "      <td>9482.151860</td>\n",
       "    </tr>\n",
       "    <tr>\n",
       "      <th>2</th>\n",
       "      <td>11649.410366</td>\n",
       "    </tr>\n",
       "    <tr>\n",
       "      <th>3</th>\n",
       "      <td>15893.294825</td>\n",
       "    </tr>\n",
       "    <tr>\n",
       "      <th>4</th>\n",
       "      <td>14570.728263</td>\n",
       "    </tr>\n",
       "    <tr>\n",
       "      <th>5</th>\n",
       "      <td>16951.260769</td>\n",
       "    </tr>\n",
       "    <tr>\n",
       "      <th>6</th>\n",
       "      <td>16854.907944</td>\n",
       "    </tr>\n",
       "    <tr>\n",
       "      <th>7</th>\n",
       "      <td>17224.242295</td>\n",
       "    </tr>\n",
       "    <tr>\n",
       "      <th>8</th>\n",
       "      <td>17538.470965</td>\n",
       "    </tr>\n",
       "    <tr>\n",
       "      <th>9</th>\n",
       "      <td>17193.126293</td>\n",
       "    </tr>\n",
       "    <tr>\n",
       "      <th>10</th>\n",
       "      <td>17727.027866</td>\n",
       "    </tr>\n",
       "    <tr>\n",
       "      <th>11</th>\n",
       "      <td>17756.606689</td>\n",
       "    </tr>\n",
       "    <tr>\n",
       "      <th>12</th>\n",
       "      <td>19188.140966</td>\n",
       "    </tr>\n",
       "  </tbody>\n",
       "</table>\n",
       "</div>"
      ],
      "text/plain": [
       "            mb_used\n",
       "month              \n",
       "1       9482.151860\n",
       "2      11649.410366\n",
       "3      15893.294825\n",
       "4      14570.728263\n",
       "5      16951.260769\n",
       "6      16854.907944\n",
       "7      17224.242295\n",
       "8      17538.470965\n",
       "9      17193.126293\n",
       "10     17727.027866\n",
       "11     17756.606689\n",
       "12     19188.140966"
      ]
     },
     "execution_count": 88,
     "metadata": {},
     "output_type": "execute_result"
    }
   ],
   "source": [
    "mb_used_mean =pd.DataFrame(df_groupby.groupby(['month'])['mb_used'].mean())\n",
    "\n",
    "mb_used_mean\n",
    "#в среднем интернета в месяц"
   ]
  },
  {
   "cell_type": "code",
   "execution_count": 89,
   "metadata": {},
   "outputs": [
    {
     "data": {
      "image/png": "[encoded data removed]",
      "text/plain": [
       "<Figure size 432x288 with 1 Axes>"
      ]
     },
     "metadata": {
      "needs_background": "light"
     },
     "output_type": "display_data"
    }
   ],
   "source": [
    "mb_used_mean.pivot_table(columns='month', values='mb_used').T.plot(kind=\"bar\")\n",
    "plt.show()\n",
    "#гистограмма распределения использования интернета"
   ]
  },
  {
   "cell_type": "markdown",
   "metadata": {},
   "source": [
    "Это распределение очень похоже на распределение звонков, в начале года пользователи используют меньше всего интернета и в течение календарного года их количество растет до самого нового года. Видим такой же пик в 3 месяце когда празднуют 8 марта, и абсолютно так же выделяются низкие значения в первые 2 месяца."
   ]
  },
  {
   "cell_type": "markdown",
   "metadata": {},
   "source": [
    "Отлично, мы проанализировали данные. "
   ]
  },
  {
   "cell_type": "code",
   "execution_count": 90,
   "metadata": {},
   "outputs": [
    {
     "data": {
      "text/html": [
       "<div>\n",
       "<style scoped>\n",
       "    .dataframe tbody tr th:only-of-type {\n",
       "        vertical-align: middle;\n",
       "    }\n",
       "\n",
       "    .dataframe tbody tr th {\n",
       "        vertical-align: top;\n",
       "    }\n",
       "\n",
       "    .dataframe thead th {\n",
       "        text-align: right;\n",
       "    }\n",
       "</style>\n",
       "<table border=\"1\" class=\"dataframe\">\n",
       "  <thead>\n",
       "    <tr style=\"text-align: right;\">\n",
       "      <th></th>\n",
       "      <th>user_id</th>\n",
       "      <th>month</th>\n",
       "      <th>message_date</th>\n",
       "      <th>mb_used</th>\n",
       "      <th>duration</th>\n",
       "      <th>age</th>\n",
       "      <th>churn_date</th>\n",
       "      <th>city</th>\n",
       "      <th>first_name</th>\n",
       "      <th>last_name</th>\n",
       "      <th>reg_date</th>\n",
       "      <th>tariff</th>\n",
       "      <th>messages_included</th>\n",
       "      <th>mb_per_month_included</th>\n",
       "      <th>minutes_included</th>\n",
       "      <th>rub_monthly_fee</th>\n",
       "      <th>rub_per_gb</th>\n",
       "      <th>rub_per_message</th>\n",
       "      <th>rub_per_minute</th>\n",
       "      <th>result</th>\n",
       "    </tr>\n",
       "  </thead>\n",
       "  <tbody>\n",
       "    <tr>\n",
       "      <th>0</th>\n",
       "      <td>1000</td>\n",
       "      <td>5</td>\n",
       "      <td>22.0</td>\n",
       "      <td>2253.49</td>\n",
       "      <td>159.0</td>\n",
       "      <td>52</td>\n",
       "      <td>NaT</td>\n",
       "      <td>Краснодар</td>\n",
       "      <td>Рафаил</td>\n",
       "      <td>Верещагин</td>\n",
       "      <td>2018-05-25</td>\n",
       "      <td>ultra</td>\n",
       "      <td>1000</td>\n",
       "      <td>30720</td>\n",
       "      <td>3000</td>\n",
       "      <td>1950</td>\n",
       "      <td>150</td>\n",
       "      <td>1</td>\n",
       "      <td>1</td>\n",
       "      <td>1950.0</td>\n",
       "    </tr>\n",
       "    <tr>\n",
       "      <th>1</th>\n",
       "      <td>1000</td>\n",
       "      <td>6</td>\n",
       "      <td>60.0</td>\n",
       "      <td>23233.77</td>\n",
       "      <td>172.0</td>\n",
       "      <td>52</td>\n",
       "      <td>NaT</td>\n",
       "      <td>Краснодар</td>\n",
       "      <td>Рафаил</td>\n",
       "      <td>Верещагин</td>\n",
       "      <td>2018-05-25</td>\n",
       "      <td>ultra</td>\n",
       "      <td>1000</td>\n",
       "      <td>30720</td>\n",
       "      <td>3000</td>\n",
       "      <td>1950</td>\n",
       "      <td>150</td>\n",
       "      <td>1</td>\n",
       "      <td>1</td>\n",
       "      <td>1950.0</td>\n",
       "    </tr>\n",
       "    <tr>\n",
       "      <th>2</th>\n",
       "      <td>1000</td>\n",
       "      <td>7</td>\n",
       "      <td>75.0</td>\n",
       "      <td>14003.64</td>\n",
       "      <td>340.0</td>\n",
       "      <td>52</td>\n",
       "      <td>NaT</td>\n",
       "      <td>Краснодар</td>\n",
       "      <td>Рафаил</td>\n",
       "      <td>Верещагин</td>\n",
       "      <td>2018-05-25</td>\n",
       "      <td>ultra</td>\n",
       "      <td>1000</td>\n",
       "      <td>30720</td>\n",
       "      <td>3000</td>\n",
       "      <td>1950</td>\n",
       "      <td>150</td>\n",
       "      <td>1</td>\n",
       "      <td>1</td>\n",
       "      <td>1950.0</td>\n",
       "    </tr>\n",
       "    <tr>\n",
       "      <th>3</th>\n",
       "      <td>1000</td>\n",
       "      <td>8</td>\n",
       "      <td>81.0</td>\n",
       "      <td>14055.93</td>\n",
       "      <td>408.0</td>\n",
       "      <td>52</td>\n",
       "      <td>NaT</td>\n",
       "      <td>Краснодар</td>\n",
       "      <td>Рафаил</td>\n",
       "      <td>Верещагин</td>\n",
       "      <td>2018-05-25</td>\n",
       "      <td>ultra</td>\n",
       "      <td>1000</td>\n",
       "      <td>30720</td>\n",
       "      <td>3000</td>\n",
       "      <td>1950</td>\n",
       "      <td>150</td>\n",
       "      <td>1</td>\n",
       "      <td>1</td>\n",
       "      <td>1950.0</td>\n",
       "    </tr>\n",
       "    <tr>\n",
       "      <th>4</th>\n",
       "      <td>1000</td>\n",
       "      <td>9</td>\n",
       "      <td>57.0</td>\n",
       "      <td>14568.91</td>\n",
       "      <td>466.0</td>\n",
       "      <td>52</td>\n",
       "      <td>NaT</td>\n",
       "      <td>Краснодар</td>\n",
       "      <td>Рафаил</td>\n",
       "      <td>Верещагин</td>\n",
       "      <td>2018-05-25</td>\n",
       "      <td>ultra</td>\n",
       "      <td>1000</td>\n",
       "      <td>30720</td>\n",
       "      <td>3000</td>\n",
       "      <td>1950</td>\n",
       "      <td>150</td>\n",
       "      <td>1</td>\n",
       "      <td>1</td>\n",
       "      <td>1950.0</td>\n",
       "    </tr>\n",
       "  </tbody>\n",
       "</table>\n",
       "</div>"
      ],
      "text/plain": [
       "   user_id  month  message_date   mb_used  duration  age churn_date  \\\n",
       "0     1000      5          22.0   2253.49     159.0   52        NaT   \n",
       "1     1000      6          60.0  23233.77     172.0   52        NaT   \n",
       "2     1000      7          75.0  14003.64     340.0   52        NaT   \n",
       "3     1000      8          81.0  14055.93     408.0   52        NaT   \n",
       "4     1000      9          57.0  14568.91     466.0   52        NaT   \n",
       "\n",
       "        city first_name  last_name   reg_date tariff  messages_included  \\\n",
       "0  Краснодар     Рафаил  Верещагин 2018-05-25  ultra               1000   \n",
       "1  Краснодар     Рафаил  Верещагин 2018-05-25  ultra               1000   \n",
       "2  Краснодар     Рафаил  Верещагин 2018-05-25  ultra               1000   \n",
       "3  Краснодар     Рафаил  Верещагин 2018-05-25  ultra               1000   \n",
       "4  Краснодар     Рафаил  Верещагин 2018-05-25  ultra               1000   \n",
       "\n",
       "   mb_per_month_included  minutes_included  rub_monthly_fee  rub_per_gb  \\\n",
       "0                  30720              3000             1950         150   \n",
       "1                  30720              3000             1950         150   \n",
       "2                  30720              3000             1950         150   \n",
       "3                  30720              3000             1950         150   \n",
       "4                  30720              3000             1950         150   \n",
       "\n",
       "   rub_per_message  rub_per_minute  result  \n",
       "0                1               1  1950.0  \n",
       "1                1               1  1950.0  \n",
       "2                1               1  1950.0  \n",
       "3                1               1  1950.0  \n",
       "4                1               1  1950.0  "
      ]
     },
     "execution_count": 90,
     "metadata": {},
     "output_type": "execute_result"
    }
   ],
   "source": [
    "df_groupby.head()"
   ]
  },
  {
   "cell_type": "markdown",
   "metadata": {},
   "source": [
    "## 4 Проверим гипотезы"
   ]
  },
  {
   "cell_type": "markdown",
   "metadata": {},
   "source": [
    "Гипотеза первая:средняя выручка пользователей тарифов «Ультра» и «Смарт» различаются"
   ]
  },
  {
   "cell_type": "markdown",
   "metadata": {},
   "source": [
    "Гипитеза вторая:средняя выручка пользователей из Москвы отличается от выручки пользователей из других регионов"
   ]
  },
  {
   "cell_type": "markdown",
   "metadata": {},
   "source": [
    "##  4.1 Гипотеза первая"
   ]
  },
  {
   "cell_type": "code",
   "execution_count": 91,
   "metadata": {},
   "outputs": [
    {
     "data": {
      "text/html": [
       "<div>\n",
       "<style scoped>\n",
       "    .dataframe tbody tr th:only-of-type {\n",
       "        vertical-align: middle;\n",
       "    }\n",
       "\n",
       "    .dataframe tbody tr th {\n",
       "        vertical-align: top;\n",
       "    }\n",
       "\n",
       "    .dataframe thead th {\n",
       "        text-align: right;\n",
       "    }\n",
       "</style>\n",
       "<table border=\"1\" class=\"dataframe\">\n",
       "  <thead>\n",
       "    <tr style=\"text-align: right;\">\n",
       "      <th></th>\n",
       "      <th></th>\n",
       "      <th>result</th>\n",
       "    </tr>\n",
       "    <tr>\n",
       "      <th>tariff</th>\n",
       "      <th>user_id</th>\n",
       "      <th></th>\n",
       "    </tr>\n",
       "  </thead>\n",
       "  <tbody>\n",
       "    <tr>\n",
       "      <th rowspan=\"11\" valign=\"top\">smart</th>\n",
       "      <th>1283</th>\n",
       "      <td>1450.000000</td>\n",
       "    </tr>\n",
       "    <tr>\n",
       "      <th>1178</th>\n",
       "      <td>701.500000</td>\n",
       "    </tr>\n",
       "    <tr>\n",
       "      <th>1095</th>\n",
       "      <td>1270.000000</td>\n",
       "    </tr>\n",
       "    <tr>\n",
       "      <th>1164</th>\n",
       "      <td>772.222222</td>\n",
       "    </tr>\n",
       "    <tr>\n",
       "      <th>1293</th>\n",
       "      <td>550.000000</td>\n",
       "    </tr>\n",
       "    <tr>\n",
       "      <th>...</th>\n",
       "      <td>...</td>\n",
       "    </tr>\n",
       "    <tr>\n",
       "      <th>1224</th>\n",
       "      <td>1680.777778</td>\n",
       "    </tr>\n",
       "    <tr>\n",
       "      <th>1131</th>\n",
       "      <td>1750.000000</td>\n",
       "    </tr>\n",
       "    <tr>\n",
       "      <th>1408</th>\n",
       "      <td>987.500000</td>\n",
       "    </tr>\n",
       "    <tr>\n",
       "      <th>1108</th>\n",
       "      <td>1450.000000</td>\n",
       "    </tr>\n",
       "    <tr>\n",
       "      <th>1445</th>\n",
       "      <td>1049.000000</td>\n",
       "    </tr>\n",
       "  </tbody>\n",
       "</table>\n",
       "<p>148 rows × 1 columns</p>\n",
       "</div>"
      ],
      "text/plain": [
       "                     result\n",
       "tariff user_id             \n",
       "smart  1283     1450.000000\n",
       "       1178      701.500000\n",
       "       1095     1270.000000\n",
       "       1164      772.222222\n",
       "       1293      550.000000\n",
       "...                     ...\n",
       "       1224     1680.777778\n",
       "       1131     1750.000000\n",
       "       1408      987.500000\n",
       "       1108     1450.000000\n",
       "       1445     1049.000000\n",
       "\n",
       "[148 rows x 1 columns]"
      ]
     },
     "execution_count": 91,
     "metadata": {},
     "output_type": "execute_result"
    }
   ],
   "source": [
    "result_groupby=pd.DataFrame(df_groupby.groupby(['tariff','user_id'])['result'].mean())\n",
    "\n",
    "smart_result_groupby=result_groupby.query('tariff==\"smart\"').sample(n = 148)\n",
    "smart_result_groupby\n",
    "#создаем таблицу с выручкой от каждого пользователя тарифа smart и уменьшаем ее до размера такой же таблицы для тарифа ultra"
   ]
  },
  {
   "cell_type": "markdown",
   "metadata": {},
   "source": [
    "Создали таблицу с выручкой от пользователей тарифа smart"
   ]
  },
  {
   "cell_type": "code",
   "execution_count": 92,
   "metadata": {},
   "outputs": [
    {
     "name": "stdout",
     "output_type": "stream",
     "text": [
      "443117.60\n"
     ]
    }
   ],
   "source": [
    "variance_smart_result = np.var(smart_result_groupby['result'], ddof=1)\n",
    "print('{:.2f}'.format(variance_smart_result))\n",
    "#дисперсия по тарифу smart"
   ]
  },
  {
   "cell_type": "code",
   "execution_count": 93,
   "metadata": {},
   "outputs": [
    {
     "data": {
      "text/html": [
       "<div>\n",
       "<style scoped>\n",
       "    .dataframe tbody tr th:only-of-type {\n",
       "        vertical-align: middle;\n",
       "    }\n",
       "\n",
       "    .dataframe tbody tr th {\n",
       "        vertical-align: top;\n",
       "    }\n",
       "\n",
       "    .dataframe thead th {\n",
       "        text-align: right;\n",
       "    }\n",
       "</style>\n",
       "<table border=\"1\" class=\"dataframe\">\n",
       "  <thead>\n",
       "    <tr style=\"text-align: right;\">\n",
       "      <th></th>\n",
       "      <th></th>\n",
       "      <th>result</th>\n",
       "    </tr>\n",
       "    <tr>\n",
       "      <th>tariff</th>\n",
       "      <th>user_id</th>\n",
       "      <th></th>\n",
       "    </tr>\n",
       "  </thead>\n",
       "  <tbody>\n",
       "    <tr>\n",
       "      <th rowspan=\"11\" valign=\"top\">ultra</th>\n",
       "      <th>1000</th>\n",
       "      <td>1950.0</td>\n",
       "    </tr>\n",
       "    <tr>\n",
       "      <th>1003</th>\n",
       "      <td>1950.0</td>\n",
       "    </tr>\n",
       "    <tr>\n",
       "      <th>1004</th>\n",
       "      <td>1950.0</td>\n",
       "    </tr>\n",
       "    <tr>\n",
       "      <th>1013</th>\n",
       "      <td>1950.0</td>\n",
       "    </tr>\n",
       "    <tr>\n",
       "      <th>1016</th>\n",
       "      <td>1950.0</td>\n",
       "    </tr>\n",
       "    <tr>\n",
       "      <th>...</th>\n",
       "      <td>...</td>\n",
       "    </tr>\n",
       "    <tr>\n",
       "      <th>1476</th>\n",
       "      <td>1950.0</td>\n",
       "    </tr>\n",
       "    <tr>\n",
       "      <th>1485</th>\n",
       "      <td>1950.0</td>\n",
       "    </tr>\n",
       "    <tr>\n",
       "      <th>1491</th>\n",
       "      <td>1950.0</td>\n",
       "    </tr>\n",
       "    <tr>\n",
       "      <th>1493</th>\n",
       "      <td>2850.0</td>\n",
       "    </tr>\n",
       "    <tr>\n",
       "      <th>1495</th>\n",
       "      <td>2310.0</td>\n",
       "    </tr>\n",
       "  </tbody>\n",
       "</table>\n",
       "<p>148 rows × 1 columns</p>\n",
       "</div>"
      ],
      "text/plain": [
       "                result\n",
       "tariff user_id        \n",
       "ultra  1000     1950.0\n",
       "       1003     1950.0\n",
       "       1004     1950.0\n",
       "       1013     1950.0\n",
       "       1016     1950.0\n",
       "...                ...\n",
       "       1476     1950.0\n",
       "       1485     1950.0\n",
       "       1491     1950.0\n",
       "       1493     2850.0\n",
       "       1495     2310.0\n",
       "\n",
       "[148 rows x 1 columns]"
      ]
     },
     "execution_count": 93,
     "metadata": {},
     "output_type": "execute_result"
    }
   ],
   "source": [
    "ultra_result_groupby=result_groupby.query('tariff==\"ultra\"')\n",
    "ultra_result_groupby\n",
    "#создаем таблицу с выручкой от каждого пользователя тарифа ultra"
   ]
  },
  {
   "cell_type": "markdown",
   "metadata": {},
   "source": [
    "Создали таблицу с выручкой от пользователей тарифа ultra"
   ]
  },
  {
   "cell_type": "code",
   "execution_count": 94,
   "metadata": {},
   "outputs": [
    {
     "name": "stdout",
     "output_type": "stream",
     "text": [
      "89121.78\n"
     ]
    }
   ],
   "source": [
    "variance_ultra_result = np.var(ultra_result_groupby['result'], ddof=1)\n",
    "print('{:.2f}'.format(variance_ultra_result))\n",
    "#дисперсия по тарифу smart"
   ]
  },
  {
   "cell_type": "markdown",
   "metadata": {},
   "source": [
    "H0: средняя выручка пользователей тарифов «Ультра» и «Смарт» НЕ различаются\n"
   ]
  },
  {
   "cell_type": "markdown",
   "metadata": {},
   "source": [
    "H1: средняя выручка пользователей тарифов «Ультра» и «Смарт» различаются"
   ]
  },
  {
   "cell_type": "code",
   "execution_count": 95,
   "metadata": {},
   "outputs": [
    {
     "name": "stdout",
     "output_type": "stream",
     "text": [
      "cреднее smart:  result    1398.315014\n",
      "dtype: float64\n",
      "cреднее ultra:  result    2086.464659\n",
      "dtype: float64\n",
      "p-значение: [3.53299064e-22]\n",
      "Отвергаем нулевую гипотезу\n"
     ]
    }
   ],
   "source": [
    "#проверим нулевую гипотезу\n",
    "print('cреднее smart: ', smart_result_groupby.mean())\n",
    "print('cреднее ultra: ', ultra_result_groupby.mean()) #среднее по обоим тарифам\n",
    "\n",
    "alpha =0.03 #критический уровень статистической значимости задаем 3%, так как имеем достаточно данных\n",
    "\n",
    "results =st.ttest_rel(smart_result_groupby,ultra_result_groupby)  #проведем тест и посчитаем p-значение\n",
    "\n",
    "print('p-значение:', results.pvalue)   #выведим на экран полученное p-значение\n",
    "\n",
    "if results.pvalue < alpha:          # сравним p-значение с заданным критическим уровнем стат. значимости\n",
    "    print(\"Отвергаем нулевую гипотезу\")\n",
    "else:\n",
    "    print(\"Не получилось отвергнуть нулевую гипотезу\")"
   ]
  },
  {
   "cell_type": "markdown",
   "metadata": {},
   "source": [
    "Как мы видим p-value слишком мало что бы  не отвергнуть нулевую гипотезу. Значит средняя выручка от разных тарифов различается."
   ]
  },
  {
   "cell_type": "markdown",
   "metadata": {},
   "source": [
    "Только исходя из проверки гипотезы мы не можем сказать, что больше - только что выручка отличается. Однако посчитав среднее количество выручки для обоих датасетов, с уверенностью можем сказать: больше выручка от тарифа ultra."
   ]
  },
  {
   "cell_type": "markdown",
   "metadata": {},
   "source": [
    "##  4.2 Гипотеза вторая"
   ]
  },
  {
   "cell_type": "markdown",
   "metadata": {},
   "source": [
    "Проверим гипотезу:средняя выручка пользователей из Москвы отличается от выручки пользователей из других регионов"
   ]
  },
  {
   "cell_type": "code",
   "execution_count": 96,
   "metadata": {},
   "outputs": [
    {
     "data": {
      "text/html": [
       "<div>\n",
       "<style scoped>\n",
       "    .dataframe tbody tr th:only-of-type {\n",
       "        vertical-align: middle;\n",
       "    }\n",
       "\n",
       "    .dataframe tbody tr th {\n",
       "        vertical-align: top;\n",
       "    }\n",
       "\n",
       "    .dataframe thead th {\n",
       "        text-align: right;\n",
       "    }\n",
       "</style>\n",
       "<table border=\"1\" class=\"dataframe\">\n",
       "  <thead>\n",
       "    <tr style=\"text-align: right;\">\n",
       "      <th></th>\n",
       "      <th></th>\n",
       "      <th></th>\n",
       "      <th>result</th>\n",
       "    </tr>\n",
       "    <tr>\n",
       "      <th>tariff</th>\n",
       "      <th>user_id</th>\n",
       "      <th>city</th>\n",
       "      <th></th>\n",
       "    </tr>\n",
       "  </thead>\n",
       "  <tbody>\n",
       "    <tr>\n",
       "      <th rowspan=\"5\" valign=\"top\">smart</th>\n",
       "      <th>1001</th>\n",
       "      <th>Москва</th>\n",
       "      <td>850.000000</td>\n",
       "    </tr>\n",
       "    <tr>\n",
       "      <th>1007</th>\n",
       "      <th>Москва</th>\n",
       "      <td>913.444444</td>\n",
       "    </tr>\n",
       "    <tr>\n",
       "      <th>1031</th>\n",
       "      <th>Москва</th>\n",
       "      <td>890.500000</td>\n",
       "    </tr>\n",
       "    <tr>\n",
       "      <th>1033</th>\n",
       "      <th>Москва</th>\n",
       "      <td>1914.000000</td>\n",
       "    </tr>\n",
       "    <tr>\n",
       "      <th>1038</th>\n",
       "      <th>Москва</th>\n",
       "      <td>816.666667</td>\n",
       "    </tr>\n",
       "    <tr>\n",
       "      <th>...</th>\n",
       "      <th>...</th>\n",
       "      <th>...</th>\n",
       "      <td>...</td>\n",
       "    </tr>\n",
       "    <tr>\n",
       "      <th rowspan=\"5\" valign=\"top\">ultra</th>\n",
       "      <th>1440</th>\n",
       "      <th>Москва</th>\n",
       "      <td>1950.000000</td>\n",
       "    </tr>\n",
       "    <tr>\n",
       "      <th>1452</th>\n",
       "      <th>Москва</th>\n",
       "      <td>1950.000000</td>\n",
       "    </tr>\n",
       "    <tr>\n",
       "      <th>1453</th>\n",
       "      <th>Москва</th>\n",
       "      <td>1950.000000</td>\n",
       "    </tr>\n",
       "    <tr>\n",
       "      <th>1461</th>\n",
       "      <th>Москва</th>\n",
       "      <td>1950.000000</td>\n",
       "    </tr>\n",
       "    <tr>\n",
       "      <th>1476</th>\n",
       "      <th>Москва</th>\n",
       "      <td>1950.000000</td>\n",
       "    </tr>\n",
       "  </tbody>\n",
       "</table>\n",
       "<p>99 rows × 1 columns</p>\n",
       "</div>"
      ],
      "text/plain": [
       "                            result\n",
       "tariff user_id city               \n",
       "smart  1001    Москва   850.000000\n",
       "       1007    Москва   913.444444\n",
       "       1031    Москва   890.500000\n",
       "       1033    Москва  1914.000000\n",
       "       1038    Москва   816.666667\n",
       "...                            ...\n",
       "ultra  1440    Москва  1950.000000\n",
       "       1452    Москва  1950.000000\n",
       "       1453    Москва  1950.000000\n",
       "       1461    Москва  1950.000000\n",
       "       1476    Москва  1950.000000\n",
       "\n",
       "[99 rows x 1 columns]"
      ]
     },
     "execution_count": 96,
     "metadata": {},
     "output_type": "execute_result"
    }
   ],
   "source": [
    "city_result_groupby=pd.DataFrame(df_groupby.groupby(['tariff','user_id','city'])['result'].mean())\n",
    "\n",
    "moscow_city_result_groupby=city_result_groupby.query('city==\"Москва\"')\n",
    "moscow_city_result_groupby\n",
    "#создаем таблицу с выручкой от каждого пользователя из Москвы"
   ]
  },
  {
   "cell_type": "code",
   "execution_count": 97,
   "metadata": {},
   "outputs": [
    {
     "name": "stdout",
     "output_type": "stream",
     "text": [
      "367815.33\n"
     ]
    }
   ],
   "source": [
    "variance_Moscow_result = np.var(moscow_city_result_groupby['result'], ddof=1)\n",
    "print('{:.2f}'.format(variance_Moscow_result))\n",
    "#дисперсия по Москве"
   ]
  },
  {
   "cell_type": "code",
   "execution_count": 98,
   "metadata": {},
   "outputs": [
    {
     "data": {
      "text/html": [
       "<div>\n",
       "<style scoped>\n",
       "    .dataframe tbody tr th:only-of-type {\n",
       "        vertical-align: middle;\n",
       "    }\n",
       "\n",
       "    .dataframe tbody tr th {\n",
       "        vertical-align: top;\n",
       "    }\n",
       "\n",
       "    .dataframe thead th {\n",
       "        text-align: right;\n",
       "    }\n",
       "</style>\n",
       "<table border=\"1\" class=\"dataframe\">\n",
       "  <thead>\n",
       "    <tr style=\"text-align: right;\">\n",
       "      <th></th>\n",
       "      <th></th>\n",
       "      <th></th>\n",
       "      <th>result</th>\n",
       "    </tr>\n",
       "    <tr>\n",
       "      <th>tariff</th>\n",
       "      <th>user_id</th>\n",
       "      <th>city</th>\n",
       "      <th></th>\n",
       "    </tr>\n",
       "  </thead>\n",
       "  <tbody>\n",
       "    <tr>\n",
       "      <th rowspan=\"3\" valign=\"top\">ultra</th>\n",
       "      <th>1265</th>\n",
       "      <th>Омск</th>\n",
       "      <td>2610.000000</td>\n",
       "    </tr>\n",
       "    <tr>\n",
       "      <th>1416</th>\n",
       "      <th>Санкт-Петербург</th>\n",
       "      <td>1950.000000</td>\n",
       "    </tr>\n",
       "    <tr>\n",
       "      <th>1402</th>\n",
       "      <th>Пенза</th>\n",
       "      <td>1965.000000</td>\n",
       "    </tr>\n",
       "    <tr>\n",
       "      <th rowspan=\"5\" valign=\"top\">smart</th>\n",
       "      <th>1040</th>\n",
       "      <th>Сочи</th>\n",
       "      <td>1407.142857</td>\n",
       "    </tr>\n",
       "    <tr>\n",
       "      <th>1238</th>\n",
       "      <th>Ростов-на-Дону</th>\n",
       "      <td>866.666667</td>\n",
       "    </tr>\n",
       "    <tr>\n",
       "      <th>...</th>\n",
       "      <th>...</th>\n",
       "      <td>...</td>\n",
       "    </tr>\n",
       "    <tr>\n",
       "      <th>1315</th>\n",
       "      <th>Владивосток</th>\n",
       "      <td>1365.166667</td>\n",
       "    </tr>\n",
       "    <tr>\n",
       "      <th>1314</th>\n",
       "      <th>Киров</th>\n",
       "      <td>1837.800000</td>\n",
       "    </tr>\n",
       "    <tr>\n",
       "      <th>ultra</th>\n",
       "      <th>1021</th>\n",
       "      <th>Краснодар</th>\n",
       "      <td>1950.000000</td>\n",
       "    </tr>\n",
       "    <tr>\n",
       "      <th rowspan=\"2\" valign=\"top\">smart</th>\n",
       "      <th>1010</th>\n",
       "      <th>Тюмень</th>\n",
       "      <td>910.000000</td>\n",
       "    </tr>\n",
       "    <tr>\n",
       "      <th>1105</th>\n",
       "      <th>Улан-Удэ</th>\n",
       "      <td>2360.750000</td>\n",
       "    </tr>\n",
       "  </tbody>\n",
       "</table>\n",
       "<p>99 rows × 1 columns</p>\n",
       "</div>"
      ],
      "text/plain": [
       "                                     result\n",
       "tariff user_id city                        \n",
       "ultra  1265    Омск             2610.000000\n",
       "       1416    Санкт-Петербург  1950.000000\n",
       "       1402    Пенза            1965.000000\n",
       "smart  1040    Сочи             1407.142857\n",
       "       1238    Ростов-на-Дону    866.666667\n",
       "...                                     ...\n",
       "       1315    Владивосток      1365.166667\n",
       "       1314    Киров            1837.800000\n",
       "ultra  1021    Краснодар        1950.000000\n",
       "smart  1010    Тюмень            910.000000\n",
       "       1105    Улан-Удэ         2360.750000\n",
       "\n",
       "[99 rows x 1 columns]"
      ]
     },
     "execution_count": 98,
     "metadata": {},
     "output_type": "execute_result"
    }
   ],
   "source": [
    "NOmoscow_city_result_groupby=city_result_groupby.query('city!=\"Москва\"').sample(n = 99)\n",
    "NOmoscow_city_result_groupby\n",
    "#создаем таблицу с выручкой от каждого пользователя НЕ из Москвы и уменьшаем ее до размера 'из Москвы'"
   ]
  },
  {
   "cell_type": "code",
   "execution_count": 99,
   "metadata": {},
   "outputs": [
    {
     "name": "stdout",
     "output_type": "stream",
     "text": [
      "415918.96\n"
     ]
    }
   ],
   "source": [
    "variance_noMoscow_result = np.var(NOmoscow_city_result_groupby['result'], ddof=1)\n",
    "print('{:.2f}'.format(variance_noMoscow_result))\n",
    "#дисперсия по городам, кроме Москвы"
   ]
  },
  {
   "cell_type": "markdown",
   "metadata": {},
   "source": [
    "H0: средняя выручка пользователей из Москвы НЕ отличается от выручки пользователей из других регионов"
   ]
  },
  {
   "cell_type": "markdown",
   "metadata": {},
   "source": [
    "H1:  средняя выручка пользователей из Москвы отличается от выручки пользователей из других регионов"
   ]
  },
  {
   "cell_type": "code",
   "execution_count": 100,
   "metadata": {},
   "outputs": [
    {
     "name": "stdout",
     "output_type": "stream",
     "text": [
      "cреднее smart:  result    1498.465851\n",
      "dtype: float64\n",
      "cреднее ultra:  result    1644.319519\n",
      "dtype: float64\n",
      "p-значение: [0.11617583]\n",
      "Не получилось отвергнуть нулевую гипотезу\n"
     ]
    }
   ],
   "source": [
    "#проверим нулевую гипотезу\n",
    "print('cреднее smart: ', moscow_city_result_groupby.mean())\n",
    "print('cреднее ultra: ', NOmoscow_city_result_groupby.mean()) #среднее по обоим тарифам\n",
    "\n",
    "alpha =0.03 #критический уровень статистической значимости задаем 3%, так как имеем достаточно данных\n",
    "\n",
    "results =st.ttest_rel(moscow_city_result_groupby,NOmoscow_city_result_groupby)  #проведем тест и посчитаем p-значение\n",
    "\n",
    "print('p-значение:', results.pvalue)   #выведим на экран полученное p-значение\n",
    "\n",
    "if results.pvalue < alpha:          #сравним p-значение с заданным критическим уровнем стат. значимости\n",
    "    print(\"Отвергаем нулевую гипотезу\")\n",
    "else:\n",
    "    print(\"Не получилось отвергнуть нулевую гипотезу\")"
   ]
  },
  {
   "cell_type": "markdown",
   "metadata": {},
   "source": [
    "Как мы видим, не получилось отвергнуть нулевую гипотезу о том что ср. выручка от Москвичей и остальных клиентов не отличается. А значит выручка существенно не отличается."
   ]
  },
  {
   "cell_type": "markdown",
   "metadata": {},
   "source": [
    "## 5 Общий вывод"
   ]
  },
  {
   "cell_type": "markdown",
   "metadata": {},
   "source": [
    "Мы проанализировали данные и можем сделать следующие выводы: нам пердоставили хорошие данные выборки(без дубликатов или некорректных значений).\n"
   ]
  },
  {
   "cell_type": "markdown",
   "metadata": {},
   "source": [
    "Можно сделать выводы, что в среднем в месяц(для данной выборки):"
   ]
  },
  {
   "cell_type": "markdown",
   "metadata": {},
   "source": [
    "больше минут для разговора исполюзут пользователи тарифа ultra."
   ]
  },
  {
   "cell_type": "markdown",
   "metadata": {},
   "source": [
    "сообщений пишут больше бользователи тарифа ultra."
   ]
  },
  {
   "cell_type": "markdown",
   "metadata": {},
   "source": [
    "пользователи ultra в среднем расходуют больше мегабайт в месяц."
   ]
  },
  {
   "cell_type": "markdown",
   "metadata": {},
   "source": [
    "Так же, сравнивая пользователей двух тарифов мы можем сделать вывод: "
   ]
  },
  {
   "cell_type": "markdown",
   "metadata": {},
   "source": [
    "звонки пользователи разных тарифов совершают  по похожей периодичности: в начале года меньше всего разговоров и в течение календарного года это значение растет до самого нового года, правда у пользователей ultra заметно только низкое количество в первые два месяца и максимальное в последний месяц года.\n",
    "У пользователей тарифа ultra выраженные пики ♤ в посленем месяце (вероятно звонят поздравить родных и друзей с новым годом) и в третьем (можно предположить,что звонят поздравить с восьмым марта)."
   ]
  },
  {
   "cell_type": "markdown",
   "metadata": {},
   "source": [
    "зависимость сообщений от месяца похожа на звонки, однако тут наоборот: пользователи ultra выраженнее постепенно в течение всего года увеличивают количество сообщений, в то время как у обладателей smart явная просадка по сообщениям только в первые 2 месяца года."
   ]
  },
  {
   "cell_type": "markdown",
   "metadata": {},
   "source": [
    "интернет пользователи обоих тарифов расходуют похоже, как и с сообщениями и звонками: количество расходуемого интернета в месяц постепенно растет от первого месяца года к последнему."
   ]
  },
  {
   "cell_type": "markdown",
   "metadata": {},
   "source": [
    "Ну и наконец мы проверили 2 гипотезы: 1)средняя выручка пользователей тарифов «Ультра» и «Смарт» различаются, 2)средняя выручка пользователей из Москвы отличается от выручки пользователей из других регионов."
   ]
  },
  {
   "cell_type": "markdown",
   "metadata": {},
   "source": [
    "1)Нулевую гипотезу (что выручки не отличаются мы отвергли), соотвецтвенно выручки различаются."
   ]
  },
  {
   "cell_type": "markdown",
   "metadata": {},
   "source": [
    "2)Нулевую гипотезу (что выручки не отличаются мы не отвергли), соотвецтвенно выручки не отличаются."
   ]
  }
 ],
 "metadata": {
  "ExecuteTimeLog": [
   {
    "duration": 151,
    "start_time": "2021-10-23T15:57:42.713Z"
   },
   {
    "duration": 2480,
    "start_time": "2021-10-23T15:57:54.603Z"
   },
   {
    "duration": 601,
    "start_time": "2021-10-23T15:58:12.058Z"
   },
   {
    "duration": 560,
    "start_time": "2021-10-23T15:59:43.291Z"
   },
   {
    "duration": 453,
    "start_time": "2021-10-23T16:02:42.941Z"
   },
   {
    "duration": 17,
    "start_time": "2021-10-23T16:02:44.355Z"
   },
   {
    "duration": 19,
    "start_time": "2021-10-23T16:02:45.338Z"
   },
   {
    "duration": 13,
    "start_time": "2021-10-23T16:02:46.028Z"
   },
   {
    "duration": 8,
    "start_time": "2021-10-23T16:02:46.779Z"
   },
   {
    "duration": 159,
    "start_time": "2021-10-23T16:09:57.003Z"
   },
   {
    "duration": 101,
    "start_time": "2021-10-23T16:10:17.118Z"
   },
   {
    "duration": 93,
    "start_time": "2021-10-23T16:10:23.675Z"
   },
   {
    "duration": 88,
    "start_time": "2021-10-23T16:10:32.907Z"
   },
   {
    "duration": 105,
    "start_time": "2021-10-23T16:10:39.553Z"
   },
   {
    "duration": 102,
    "start_time": "2021-10-23T16:10:47.666Z"
   },
   {
    "duration": 117,
    "start_time": "2021-10-23T16:10:55.323Z"
   },
   {
    "duration": 92,
    "start_time": "2021-10-23T16:11:19.543Z"
   },
   {
    "duration": 1319,
    "start_time": "2021-10-26T16:18:58.808Z"
   },
   {
    "duration": 4728,
    "start_time": "2021-10-26T16:22:19.589Z"
   },
   {
    "duration": 599,
    "start_time": "2021-10-26T16:22:44.871Z"
   },
   {
    "duration": 676,
    "start_time": "2021-10-26T16:22:56.256Z"
   },
   {
    "duration": 538,
    "start_time": "2021-10-26T16:23:20.423Z"
   },
   {
    "duration": 27,
    "start_time": "2021-10-26T16:27:56.792Z"
   },
   {
    "duration": 516,
    "start_time": "2021-10-26T16:28:13.542Z"
   },
   {
    "duration": 27,
    "start_time": "2021-10-26T16:29:57.707Z"
   },
   {
    "duration": 23,
    "start_time": "2021-10-26T16:29:59.060Z"
   },
   {
    "duration": 23,
    "start_time": "2021-10-26T16:30:03.007Z"
   },
   {
    "duration": 10,
    "start_time": "2021-10-26T16:30:04.617Z"
   },
   {
    "duration": 99,
    "start_time": "2021-10-26T16:30:07.977Z"
   },
   {
    "duration": 93,
    "start_time": "2021-10-26T16:30:18.824Z"
   },
   {
    "duration": 116,
    "start_time": "2021-10-26T16:30:32.282Z"
   },
   {
    "duration": 532,
    "start_time": "2021-10-26T16:33:49.306Z"
   },
   {
    "duration": 523,
    "start_time": "2021-10-26T16:34:09.991Z"
   },
   {
    "duration": 551,
    "start_time": "2021-10-26T16:34:29.272Z"
   },
   {
    "duration": 509,
    "start_time": "2021-10-26T16:34:46.532Z"
   },
   {
    "duration": 605,
    "start_time": "2021-10-26T16:35:22.025Z"
   },
   {
    "duration": 526,
    "start_time": "2021-10-26T16:35:37.124Z"
   },
   {
    "duration": 40,
    "start_time": "2021-10-26T16:35:37.654Z"
   },
   {
    "duration": 288,
    "start_time": "2021-10-26T16:35:37.698Z"
   },
   {
    "duration": 2548,
    "start_time": "2021-10-26T16:35:35.440Z"
   },
   {
    "duration": 2543,
    "start_time": "2021-10-26T16:35:35.447Z"
   },
   {
    "duration": 91,
    "start_time": "2021-10-26T16:35:38.181Z"
   },
   {
    "duration": 20,
    "start_time": "2021-10-26T16:35:50.863Z"
   },
   {
    "duration": 13,
    "start_time": "2021-10-26T16:35:52.256Z"
   },
   {
    "duration": 13,
    "start_time": "2021-10-26T16:35:52.858Z"
   },
   {
    "duration": 136,
    "start_time": "2021-10-26T16:39:59.580Z"
   },
   {
    "duration": 195,
    "start_time": "2021-10-26T16:42:42.271Z"
   },
   {
    "duration": 26,
    "start_time": "2021-10-26T16:43:42.046Z"
   },
   {
    "duration": 22,
    "start_time": "2021-10-26T16:43:42.933Z"
   },
   {
    "duration": 20,
    "start_time": "2021-10-26T16:43:43.316Z"
   },
   {
    "duration": 9,
    "start_time": "2021-10-26T16:43:43.652Z"
   },
   {
    "duration": 9,
    "start_time": "2021-10-26T16:43:44.754Z"
   },
   {
    "duration": 25,
    "start_time": "2021-10-26T17:23:52.935Z"
   },
   {
    "duration": 15,
    "start_time": "2021-10-26T17:24:07.936Z"
   },
   {
    "duration": 16,
    "start_time": "2021-10-26T17:24:28.534Z"
   },
   {
    "duration": 9,
    "start_time": "2021-10-26T17:26:13.781Z"
   },
   {
    "duration": 10,
    "start_time": "2021-10-26T17:26:15.461Z"
   },
   {
    "duration": 41,
    "start_time": "2021-10-26T17:28:49.678Z"
   },
   {
    "duration": 21,
    "start_time": "2021-10-26T17:28:51.531Z"
   },
   {
    "duration": 22,
    "start_time": "2021-10-26T17:28:54.787Z"
   },
   {
    "duration": 30,
    "start_time": "2021-10-26T17:28:55.785Z"
   },
   {
    "duration": 18,
    "start_time": "2021-10-26T17:28:57.191Z"
   },
   {
    "duration": 16,
    "start_time": "2021-10-26T17:29:08.819Z"
   },
   {
    "duration": 9,
    "start_time": "2021-10-26T17:29:12.867Z"
   },
   {
    "duration": 15,
    "start_time": "2021-10-26T17:29:28.264Z"
   },
   {
    "duration": 10,
    "start_time": "2021-10-26T17:32:42.204Z"
   },
   {
    "duration": 10,
    "start_time": "2021-10-26T17:32:57.535Z"
   },
   {
    "duration": 10,
    "start_time": "2021-10-26T17:34:09.166Z"
   },
   {
    "duration": 1300,
    "start_time": "2021-10-28T08:54:18.598Z"
   },
   {
    "duration": 15,
    "start_time": "2021-10-28T08:54:21.370Z"
   },
   {
    "duration": 20,
    "start_time": "2021-10-28T08:54:21.703Z"
   },
   {
    "duration": 14,
    "start_time": "2021-10-28T08:54:21.981Z"
   },
   {
    "duration": 11,
    "start_time": "2021-10-28T08:54:22.167Z"
   },
   {
    "duration": 29,
    "start_time": "2021-10-28T08:54:22.638Z"
   },
   {
    "duration": 44,
    "start_time": "2021-10-28T08:54:23.861Z"
   },
   {
    "duration": 20,
    "start_time": "2021-10-28T08:54:24.298Z"
   },
   {
    "duration": 121,
    "start_time": "2021-10-28T08:54:26.367Z"
   },
   {
    "duration": 297,
    "start_time": "2021-10-28T08:57:25.802Z"
   },
   {
    "duration": 384,
    "start_time": "2021-10-28T08:58:04.984Z"
   },
   {
    "duration": 418,
    "start_time": "2021-10-28T09:00:26.235Z"
   },
   {
    "duration": 351,
    "start_time": "2021-10-28T09:01:11.194Z"
   },
   {
    "duration": 960,
    "start_time": "2021-11-23T03:44:06.454Z"
   },
   {
    "duration": 10,
    "start_time": "2021-11-23T03:44:07.717Z"
   },
   {
    "duration": 13,
    "start_time": "2021-11-23T03:44:08.391Z"
   },
   {
    "duration": 9,
    "start_time": "2021-11-23T03:44:09.182Z"
   },
   {
    "duration": 7,
    "start_time": "2021-11-23T03:44:10.293Z"
   },
   {
    "duration": 19,
    "start_time": "2021-11-23T03:44:11.965Z"
   },
   {
    "duration": 31,
    "start_time": "2021-11-23T03:44:13.081Z"
   },
   {
    "duration": 14,
    "start_time": "2021-11-23T03:44:14.112Z"
   },
   {
    "duration": 85,
    "start_time": "2021-11-23T03:44:15.269Z"
   },
   {
    "duration": 16,
    "start_time": "2021-11-23T03:44:16.857Z"
   },
   {
    "duration": 16,
    "start_time": "2021-11-23T03:44:20.642Z"
   },
   {
    "duration": 59,
    "start_time": "2021-11-23T03:44:21.633Z"
   },
   {
    "duration": 13,
    "start_time": "2021-11-23T03:44:42.441Z"
   },
   {
    "duration": 19,
    "start_time": "2021-11-23T03:44:54.271Z"
   },
   {
    "duration": 11,
    "start_time": "2021-11-23T03:44:55.320Z"
   },
   {
    "duration": 37,
    "start_time": "2021-11-23T03:45:19.072Z"
   },
   {
    "duration": 6,
    "start_time": "2021-11-23T03:45:34.100Z"
   },
   {
    "duration": 6,
    "start_time": "2021-11-23T03:47:38.960Z"
   },
   {
    "duration": 6,
    "start_time": "2021-11-23T03:47:54.488Z"
   },
   {
    "duration": 6,
    "start_time": "2021-11-23T03:48:26.328Z"
   },
   {
    "duration": 6,
    "start_time": "2021-11-23T03:48:28.312Z"
   },
   {
    "duration": 7,
    "start_time": "2021-11-23T03:48:29.392Z"
   },
   {
    "duration": 158,
    "start_time": "2021-11-23T03:49:16.585Z"
   },
   {
    "duration": 77,
    "start_time": "2021-11-23T03:49:38.759Z"
   },
   {
    "duration": 159,
    "start_time": "2021-11-23T03:50:09.090Z"
   },
   {
    "duration": 337,
    "start_time": "2021-11-23T03:56:58.133Z"
   },
   {
    "duration": 10,
    "start_time": "2021-11-23T03:58:25.998Z"
   },
   {
    "duration": 253,
    "start_time": "2021-11-23T04:00:54.573Z"
   },
   {
    "duration": 14,
    "start_time": "2021-11-23T04:05:01.560Z"
   },
   {
    "duration": 10,
    "start_time": "2021-11-23T04:05:17.411Z"
   },
   {
    "duration": 252,
    "start_time": "2021-11-23T04:05:58.971Z"
   },
   {
    "duration": 11,
    "start_time": "2021-11-23T04:06:10.682Z"
   },
   {
    "duration": 10,
    "start_time": "2021-11-23T04:06:24.653Z"
   },
   {
    "duration": 425,
    "start_time": "2021-11-23T04:07:54.298Z"
   },
   {
    "duration": 252,
    "start_time": "2021-11-23T04:07:57.897Z"
   },
   {
    "duration": 237,
    "start_time": "2021-11-23T04:09:21.638Z"
   },
   {
    "duration": 246,
    "start_time": "2021-11-23T04:09:27.985Z"
   },
   {
    "duration": 243,
    "start_time": "2021-11-23T04:09:44.087Z"
   },
   {
    "duration": 31,
    "start_time": "2021-11-23T04:14:47.453Z"
   },
   {
    "duration": 51,
    "start_time": "2021-11-23T04:14:58.586Z"
   },
   {
    "duration": 53,
    "start_time": "2021-11-23T04:15:56.536Z"
   },
   {
    "duration": 362,
    "start_time": "2021-11-23T04:17:35.106Z"
   },
   {
    "duration": 8,
    "start_time": "2021-11-23T04:17:35.470Z"
   },
   {
    "duration": 11,
    "start_time": "2021-11-23T04:17:35.633Z"
   },
   {
    "duration": 8,
    "start_time": "2021-11-23T04:17:35.848Z"
   },
   {
    "duration": 7,
    "start_time": "2021-11-23T04:17:36.058Z"
   },
   {
    "duration": 18,
    "start_time": "2021-11-23T04:17:36.500Z"
   },
   {
    "duration": 24,
    "start_time": "2021-11-23T04:17:36.712Z"
   },
   {
    "duration": 13,
    "start_time": "2021-11-23T04:17:36.965Z"
   },
   {
    "duration": 15,
    "start_time": "2021-11-23T04:17:37.200Z"
   },
   {
    "duration": 19,
    "start_time": "2021-11-23T04:17:37.458Z"
   },
   {
    "duration": 11,
    "start_time": "2021-11-23T04:17:39.003Z"
   },
   {
    "duration": 13,
    "start_time": "2021-11-23T04:17:39.297Z"
   },
   {
    "duration": 17,
    "start_time": "2021-11-23T04:17:40.178Z"
   },
   {
    "duration": 11,
    "start_time": "2021-11-23T04:17:40.429Z"
   },
   {
    "duration": 7,
    "start_time": "2021-11-23T04:17:40.637Z"
   },
   {
    "duration": 6,
    "start_time": "2021-11-23T04:17:40.829Z"
   },
   {
    "duration": 5,
    "start_time": "2021-11-23T04:17:41.064Z"
   },
   {
    "duration": 6,
    "start_time": "2021-11-23T04:17:41.963Z"
   },
   {
    "duration": 6,
    "start_time": "2021-11-23T04:17:42.282Z"
   },
   {
    "duration": 145,
    "start_time": "2021-11-23T04:17:42.553Z"
   },
   {
    "duration": 14,
    "start_time": "2021-11-23T04:17:50.109Z"
   },
   {
    "duration": 11,
    "start_time": "2021-11-23T04:17:51.096Z"
   },
   {
    "duration": 11,
    "start_time": "2021-11-23T04:17:53.555Z"
   },
   {
    "duration": 50,
    "start_time": "2021-11-23T04:17:58.826Z"
   },
   {
    "duration": 343,
    "start_time": "2021-11-23T04:18:53.692Z"
   },
   {
    "duration": 43,
    "start_time": "2021-11-23T04:20:11.362Z"
   },
   {
    "duration": 20,
    "start_time": "2021-11-23T04:20:57.954Z"
   },
   {
    "duration": 43,
    "start_time": "2021-11-23T04:21:13.933Z"
   },
   {
    "duration": 13,
    "start_time": "2021-11-23T04:22:40.076Z"
   },
   {
    "duration": 18,
    "start_time": "2021-11-23T04:22:55.421Z"
   },
   {
    "duration": 264,
    "start_time": "2021-11-23T04:23:24.272Z"
   },
   {
    "duration": 14,
    "start_time": "2021-11-23T04:23:46.738Z"
   },
   {
    "duration": 16,
    "start_time": "2021-11-23T04:24:01.754Z"
   },
   {
    "duration": 14,
    "start_time": "2021-11-23T04:25:30.685Z"
   },
   {
    "duration": 15,
    "start_time": "2021-11-23T04:25:36.643Z"
   },
   {
    "duration": 310,
    "start_time": "2021-11-23T04:26:21.620Z"
   },
   {
    "duration": 12,
    "start_time": "2021-11-23T04:27:44.168Z"
   },
   {
    "duration": 47,
    "start_time": "2021-11-23T04:28:10.465Z"
   },
   {
    "duration": 22,
    "start_time": "2021-11-23T04:45:31.881Z"
   },
   {
    "duration": 20,
    "start_time": "2021-11-23T04:46:17.345Z"
   },
   {
    "duration": 21,
    "start_time": "2021-11-23T04:46:43.732Z"
   },
   {
    "duration": 234,
    "start_time": "2021-11-23T04:46:57.931Z"
   },
   {
    "duration": 47,
    "start_time": "2021-11-23T04:47:04.986Z"
   },
   {
    "duration": 587,
    "start_time": "2021-11-23T04:50:22.592Z"
   },
   {
    "duration": 47,
    "start_time": "2021-11-23T04:50:34.870Z"
   },
   {
    "duration": 200,
    "start_time": "2021-11-23T04:51:01.417Z"
   },
   {
    "duration": 283,
    "start_time": "2021-11-23T04:51:47.501Z"
   },
   {
    "duration": 792,
    "start_time": "2021-11-23T04:52:00.653Z"
   },
   {
    "duration": 180,
    "start_time": "2021-11-23T04:52:17.022Z"
   },
   {
    "duration": 256,
    "start_time": "2021-11-23T04:52:36.212Z"
   },
   {
    "duration": 189,
    "start_time": "2021-11-23T04:54:47.947Z"
   },
   {
    "duration": 290,
    "start_time": "2021-11-23T04:55:08.480Z"
   },
   {
    "duration": 43,
    "start_time": "2021-11-23T04:55:29.743Z"
   },
   {
    "duration": 13,
    "start_time": "2021-11-23T04:57:43.237Z"
   },
   {
    "duration": 14,
    "start_time": "2021-11-23T04:58:03.363Z"
   },
   {
    "duration": 14,
    "start_time": "2021-11-23T04:58:09.201Z"
   },
   {
    "duration": 239,
    "start_time": "2021-11-23T04:58:22.695Z"
   },
   {
    "duration": 374,
    "start_time": "2021-11-23T04:58:41.094Z"
   },
   {
    "duration": 253,
    "start_time": "2021-11-23T04:59:22.318Z"
   },
   {
    "duration": 35,
    "start_time": "2021-11-23T04:59:34.538Z"
   },
   {
    "duration": 520,
    "start_time": "2021-11-23T10:39:26.558Z"
   },
   {
    "duration": 1257,
    "start_time": "2021-11-23T10:39:34.607Z"
   },
   {
    "duration": 16,
    "start_time": "2021-11-23T10:39:36.185Z"
   },
   {
    "duration": 19,
    "start_time": "2021-11-23T10:39:36.458Z"
   },
   {
    "duration": 13,
    "start_time": "2021-11-23T10:39:36.811Z"
   },
   {
    "duration": 12,
    "start_time": "2021-11-23T10:39:37.090Z"
   },
   {
    "duration": 29,
    "start_time": "2021-11-23T10:39:37.569Z"
   },
   {
    "duration": 43,
    "start_time": "2021-11-23T10:39:37.783Z"
   },
   {
    "duration": 19,
    "start_time": "2021-11-23T10:39:38.040Z"
   },
   {
    "duration": 24,
    "start_time": "2021-11-23T10:39:40.047Z"
   },
   {
    "duration": 34,
    "start_time": "2021-11-23T10:39:40.074Z"
   },
   {
    "duration": 17,
    "start_time": "2021-11-23T10:39:40.111Z"
   },
   {
    "duration": 43,
    "start_time": "2021-11-23T10:39:40.131Z"
   },
   {
    "duration": 27,
    "start_time": "2021-11-23T10:39:40.176Z"
   },
   {
    "duration": 14,
    "start_time": "2021-11-23T10:39:40.206Z"
   },
   {
    "duration": 10,
    "start_time": "2021-11-23T10:39:40.381Z"
   },
   {
    "duration": 9,
    "start_time": "2021-11-23T10:39:41.235Z"
   },
   {
    "duration": 8,
    "start_time": "2021-11-23T10:39:41.469Z"
   },
   {
    "duration": 9,
    "start_time": "2021-11-23T10:39:41.697Z"
   },
   {
    "duration": 9,
    "start_time": "2021-11-23T10:39:41.934Z"
   },
   {
    "duration": 238,
    "start_time": "2021-11-23T10:39:42.119Z"
   },
   {
    "duration": 22,
    "start_time": "2021-11-23T10:39:46.158Z"
   },
   {
    "duration": 19,
    "start_time": "2021-11-23T10:39:47.343Z"
   },
   {
    "duration": 18,
    "start_time": "2021-11-23T10:39:47.937Z"
   },
   {
    "duration": 60,
    "start_time": "2021-11-23T10:39:49.967Z"
   },
   {
    "duration": 17,
    "start_time": "2021-11-23T10:39:52.755Z"
   },
   {
    "duration": 30,
    "start_time": "2021-11-23T10:41:17.266Z"
   },
   {
    "duration": 58,
    "start_time": "2021-11-23T10:41:28.792Z"
   },
   {
    "duration": 27,
    "start_time": "2021-11-23T10:41:38.263Z"
   },
   {
    "duration": 67,
    "start_time": "2021-11-23T10:44:48.045Z"
   },
   {
    "duration": 55,
    "start_time": "2021-11-23T10:45:14.001Z"
   },
   {
    "duration": 75,
    "start_time": "2021-11-23T10:45:16.901Z"
   },
   {
    "duration": 63,
    "start_time": "2021-11-23T10:48:06.021Z"
   },
   {
    "duration": 21,
    "start_time": "2021-11-23T10:50:21.280Z"
   },
   {
    "duration": 42,
    "start_time": "2021-11-23T10:51:18.103Z"
   },
   {
    "duration": 59,
    "start_time": "2021-11-23T10:52:23.085Z"
   },
   {
    "duration": 206,
    "start_time": "2021-11-23T11:16:17.889Z"
   },
   {
    "duration": 476,
    "start_time": "2021-11-23T11:16:46.636Z"
   },
   {
    "duration": 1182,
    "start_time": "2021-11-23T11:16:59.023Z"
   },
   {
    "duration": 415,
    "start_time": "2021-11-23T11:17:13.850Z"
   },
   {
    "duration": 1322,
    "start_time": "2021-11-23T11:17:22.896Z"
   },
   {
    "duration": 20,
    "start_time": "2021-11-23T11:17:24.221Z"
   },
   {
    "duration": 25,
    "start_time": "2021-11-23T11:17:24.244Z"
   },
   {
    "duration": 20,
    "start_time": "2021-11-23T11:17:24.271Z"
   },
   {
    "duration": 13,
    "start_time": "2021-11-23T11:17:24.293Z"
   },
   {
    "duration": 28,
    "start_time": "2021-11-23T11:17:28.917Z"
   },
   {
    "duration": 46,
    "start_time": "2021-11-23T11:17:29.602Z"
   },
   {
    "duration": 20,
    "start_time": "2021-11-23T11:17:29.940Z"
   },
   {
    "duration": 35,
    "start_time": "2021-11-23T11:17:30.964Z"
   },
   {
    "duration": 33,
    "start_time": "2021-11-23T11:17:31.268Z"
   },
   {
    "duration": 17,
    "start_time": "2021-11-23T11:17:31.971Z"
   },
   {
    "duration": 21,
    "start_time": "2021-11-23T11:17:32.283Z"
   },
   {
    "duration": 27,
    "start_time": "2021-11-23T11:17:32.993Z"
   },
   {
    "duration": 20,
    "start_time": "2021-11-23T11:17:33.247Z"
   },
   {
    "duration": 9,
    "start_time": "2021-11-23T11:17:33.535Z"
   },
   {
    "duration": 9,
    "start_time": "2021-11-23T11:17:33.802Z"
   },
   {
    "duration": 9,
    "start_time": "2021-11-23T11:17:35.008Z"
   },
   {
    "duration": 9,
    "start_time": "2021-11-23T11:17:35.345Z"
   },
   {
    "duration": 11,
    "start_time": "2021-11-23T11:17:36.214Z"
   },
   {
    "duration": 256,
    "start_time": "2021-11-23T11:17:36.687Z"
   },
   {
    "duration": 22,
    "start_time": "2021-11-23T11:17:40.825Z"
   },
   {
    "duration": 18,
    "start_time": "2021-11-23T11:17:42.187Z"
   },
   {
    "duration": 68,
    "start_time": "2021-11-23T11:17:43.643Z"
   },
   {
    "duration": 46,
    "start_time": "2021-11-23T11:17:45.003Z"
   },
   {
    "duration": 77,
    "start_time": "2021-11-23T11:17:47.066Z"
   },
   {
    "duration": 56,
    "start_time": "2021-11-23T11:17:48.149Z"
   },
   {
    "duration": 41,
    "start_time": "2021-11-23T11:17:49.078Z"
   },
   {
    "duration": 58,
    "start_time": "2021-11-23T11:17:50.744Z"
   },
   {
    "duration": 566,
    "start_time": "2021-11-23T11:18:10.076Z"
   },
   {
    "duration": 1344,
    "start_time": "2021-11-23T11:18:55.347Z"
   },
   {
    "duration": 538,
    "start_time": "2021-11-23T11:19:14.503Z"
   },
   {
    "duration": 17,
    "start_time": "2021-11-23T11:19:15.044Z"
   },
   {
    "duration": 22,
    "start_time": "2021-11-23T11:19:15.064Z"
   },
   {
    "duration": 22,
    "start_time": "2021-11-23T11:19:15.089Z"
   },
   {
    "duration": 14,
    "start_time": "2021-11-23T11:19:15.114Z"
   },
   {
    "duration": 49,
    "start_time": "2021-11-23T11:19:15.131Z"
   },
   {
    "duration": 38,
    "start_time": "2021-11-23T11:19:15.182Z"
   },
   {
    "duration": 43,
    "start_time": "2021-11-23T11:19:15.223Z"
   },
   {
    "duration": 26,
    "start_time": "2021-11-23T11:19:15.272Z"
   },
   {
    "duration": 59,
    "start_time": "2021-11-23T11:19:15.302Z"
   },
   {
    "duration": 20,
    "start_time": "2021-11-23T11:19:15.363Z"
   },
   {
    "duration": 20,
    "start_time": "2021-11-23T11:19:15.386Z"
   },
   {
    "duration": 62,
    "start_time": "2021-11-23T11:19:15.408Z"
   },
   {
    "duration": 14,
    "start_time": "2021-11-23T11:19:15.473Z"
   },
   {
    "duration": 13,
    "start_time": "2021-11-23T11:19:15.489Z"
   },
   {
    "duration": 12,
    "start_time": "2021-11-23T11:19:15.504Z"
   },
   {
    "duration": 13,
    "start_time": "2021-11-23T11:19:15.519Z"
   },
   {
    "duration": 9,
    "start_time": "2021-11-23T11:19:15.560Z"
   },
   {
    "duration": 11,
    "start_time": "2021-11-23T11:19:15.572Z"
   },
   {
    "duration": 260,
    "start_time": "2021-11-23T11:19:15.586Z"
   },
   {
    "duration": 30,
    "start_time": "2021-11-23T11:19:15.848Z"
   },
   {
    "duration": 18,
    "start_time": "2021-11-23T11:19:15.880Z"
   },
   {
    "duration": 81,
    "start_time": "2021-11-23T11:19:15.901Z"
   },
   {
    "duration": 45,
    "start_time": "2021-11-23T11:19:15.985Z"
   },
   {
    "duration": 99,
    "start_time": "2021-11-23T11:19:16.033Z"
   },
   {
    "duration": 69,
    "start_time": "2021-11-23T11:19:16.135Z"
   },
   {
    "duration": 57,
    "start_time": "2021-11-23T11:19:16.209Z"
   },
   {
    "duration": 56,
    "start_time": "2021-11-23T11:19:16.270Z"
   },
   {
    "duration": 483,
    "start_time": "2021-11-23T11:21:59.830Z"
   },
   {
    "duration": 403,
    "start_time": "2021-11-23T11:22:04.502Z"
   },
   {
    "duration": 1282,
    "start_time": "2021-11-23T11:22:25.291Z"
   },
   {
    "duration": 569,
    "start_time": "2021-11-23T11:22:30.223Z"
   },
   {
    "duration": 17,
    "start_time": "2021-11-23T11:22:30.795Z"
   },
   {
    "duration": 27,
    "start_time": "2021-11-23T11:22:30.815Z"
   },
   {
    "duration": 35,
    "start_time": "2021-11-23T11:22:30.845Z"
   },
   {
    "duration": 14,
    "start_time": "2021-11-23T11:22:30.883Z"
   },
   {
    "duration": 30,
    "start_time": "2021-11-23T11:22:30.899Z"
   },
   {
    "duration": 58,
    "start_time": "2021-11-23T11:22:30.931Z"
   },
   {
    "duration": 20,
    "start_time": "2021-11-23T11:22:30.991Z"
   },
   {
    "duration": 45,
    "start_time": "2021-11-23T11:22:31.016Z"
   },
   {
    "duration": 33,
    "start_time": "2021-11-23T11:22:31.064Z"
   },
   {
    "duration": 17,
    "start_time": "2021-11-23T11:22:31.099Z"
   },
   {
    "duration": 49,
    "start_time": "2021-11-23T11:22:31.119Z"
   },
   {
    "duration": 27,
    "start_time": "2021-11-23T11:22:31.171Z"
   },
   {
    "duration": 14,
    "start_time": "2021-11-23T11:22:31.201Z"
   },
   {
    "duration": 12,
    "start_time": "2021-11-23T11:22:31.217Z"
   },
   {
    "duration": 21,
    "start_time": "2021-11-23T11:22:31.261Z"
   },
   {
    "duration": 25,
    "start_time": "2021-11-23T11:22:31.285Z"
   },
   {
    "duration": 24,
    "start_time": "2021-11-23T11:22:31.313Z"
   },
   {
    "duration": 28,
    "start_time": "2021-11-23T11:22:31.340Z"
   },
   {
    "duration": 254,
    "start_time": "2021-11-23T11:22:31.370Z"
   },
   {
    "duration": 34,
    "start_time": "2021-11-23T11:22:31.627Z"
   },
   {
    "duration": 17,
    "start_time": "2021-11-23T11:22:31.663Z"
   },
   {
    "duration": 80,
    "start_time": "2021-11-23T11:22:31.682Z"
   },
   {
    "duration": 44,
    "start_time": "2021-11-23T11:22:31.765Z"
   },
   {
    "duration": 95,
    "start_time": "2021-11-23T11:22:31.811Z"
   },
   {
    "duration": 69,
    "start_time": "2021-11-23T11:22:31.909Z"
   },
   {
    "duration": 40,
    "start_time": "2021-11-23T11:22:31.983Z"
   },
   {
    "duration": 73,
    "start_time": "2021-11-23T11:22:32.025Z"
   },
   {
    "duration": 508,
    "start_time": "2021-11-23T11:22:32.101Z"
   },
   {
    "duration": 40,
    "start_time": "2021-11-23T11:22:32.571Z"
   },
   {
    "duration": 401,
    "start_time": "2021-11-23T11:23:48.635Z"
   },
   {
    "duration": 502,
    "start_time": "2021-11-23T11:27:19.220Z"
   },
   {
    "duration": 15,
    "start_time": "2021-11-23T11:27:50.574Z"
   },
   {
    "duration": 4261,
    "start_time": "2021-11-23T11:30:14.219Z"
   },
   {
    "duration": 4273,
    "start_time": "2021-11-23T11:32:58.215Z"
   },
   {
    "duration": 52,
    "start_time": "2021-11-23T11:33:03.808Z"
   },
   {
    "duration": 444,
    "start_time": "2021-11-23T11:36:47.130Z"
   },
   {
    "duration": 437,
    "start_time": "2021-11-23T11:38:22.493Z"
   },
   {
    "duration": 644,
    "start_time": "2021-11-23T11:38:30.837Z"
   },
   {
    "duration": 765,
    "start_time": "2021-11-23T11:39:46.131Z"
   },
   {
    "duration": 589,
    "start_time": "2021-11-23T11:40:08.523Z"
   },
   {
    "duration": 22,
    "start_time": "2021-11-23T11:40:54.274Z"
   },
   {
    "duration": 42,
    "start_time": "2021-11-23T11:41:17.509Z"
   },
   {
    "duration": 50,
    "start_time": "2021-11-23T12:05:37.464Z"
   },
   {
    "duration": 12508,
    "start_time": "2021-11-23T12:11:33.232Z"
   },
   {
    "duration": 5,
    "start_time": "2021-11-23T12:13:37.961Z"
   },
   {
    "duration": 12,
    "start_time": "2021-11-23T12:13:46.626Z"
   },
   {
    "duration": 70,
    "start_time": "2021-11-23T12:14:44.253Z"
   },
   {
    "duration": 1409,
    "start_time": "2021-11-24T08:11:21.560Z"
   },
   {
    "duration": 16,
    "start_time": "2021-11-24T08:11:22.971Z"
   },
   {
    "duration": 27,
    "start_time": "2021-11-24T08:11:22.990Z"
   },
   {
    "duration": 13,
    "start_time": "2021-11-24T08:11:23.020Z"
   },
   {
    "duration": 13,
    "start_time": "2021-11-24T08:11:23.035Z"
   },
   {
    "duration": 7,
    "start_time": "2021-11-24T08:11:23.050Z"
   },
   {
    "duration": 57,
    "start_time": "2021-11-24T08:11:23.059Z"
   },
   {
    "duration": 46,
    "start_time": "2021-11-24T08:11:23.120Z"
   },
   {
    "duration": 40,
    "start_time": "2021-11-24T08:11:23.169Z"
   },
   {
    "duration": 22,
    "start_time": "2021-11-24T08:11:23.212Z"
   },
   {
    "duration": 32,
    "start_time": "2021-11-24T08:11:23.237Z"
   },
   {
    "duration": 20,
    "start_time": "2021-11-24T08:11:23.301Z"
   },
   {
    "duration": 20,
    "start_time": "2021-11-24T08:11:23.323Z"
   },
   {
    "duration": 54,
    "start_time": "2021-11-24T08:11:23.346Z"
   },
   {
    "duration": 14,
    "start_time": "2021-11-24T08:11:23.403Z"
   },
   {
    "duration": 9,
    "start_time": "2021-11-24T08:11:23.420Z"
   },
   {
    "duration": 11,
    "start_time": "2021-11-24T08:11:23.431Z"
   },
   {
    "duration": 10,
    "start_time": "2021-11-24T08:11:23.444Z"
   },
   {
    "duration": 46,
    "start_time": "2021-11-24T08:11:23.457Z"
   },
   {
    "duration": 16,
    "start_time": "2021-11-24T08:11:23.505Z"
   },
   {
    "duration": 294,
    "start_time": "2021-11-24T08:11:23.524Z"
   },
   {
    "duration": 23,
    "start_time": "2021-11-24T08:11:23.820Z"
   },
   {
    "duration": 18,
    "start_time": "2021-11-24T08:11:23.850Z"
   },
   {
    "duration": 95,
    "start_time": "2021-11-24T08:11:23.871Z"
   },
   {
    "duration": 66,
    "start_time": "2021-11-24T08:11:23.969Z"
   },
   {
    "duration": 101,
    "start_time": "2021-11-24T08:11:24.038Z"
   },
   {
    "duration": 78,
    "start_time": "2021-11-24T08:11:24.142Z"
   },
   {
    "duration": 43,
    "start_time": "2021-11-24T08:11:24.223Z"
   },
   {
    "duration": 88,
    "start_time": "2021-11-24T08:11:24.269Z"
   },
   {
    "duration": 80,
    "start_time": "2021-11-24T08:11:24.360Z"
   },
   {
    "duration": 24,
    "start_time": "2021-11-24T08:11:24.443Z"
   },
   {
    "duration": 5,
    "start_time": "2021-11-24T08:11:24.469Z"
   },
   {
    "duration": 26,
    "start_time": "2021-11-24T08:11:24.476Z"
   },
   {
    "duration": 49,
    "start_time": "2021-11-24T08:11:24.504Z"
   },
   {
    "duration": 15,
    "start_time": "2021-11-24T08:11:24.556Z"
   },
   {
    "duration": 20,
    "start_time": "2021-11-24T08:20:27.891Z"
   },
   {
    "duration": 46,
    "start_time": "2021-11-24T08:20:38.399Z"
   },
   {
    "duration": 29,
    "start_time": "2021-11-24T08:20:45.483Z"
   },
   {
    "duration": 20,
    "start_time": "2021-11-24T08:21:08.063Z"
   },
   {
    "duration": 45,
    "start_time": "2021-11-24T08:21:08.930Z"
   },
   {
    "duration": 4,
    "start_time": "2021-11-24T08:22:07.646Z"
   },
   {
    "duration": 766,
    "start_time": "2021-11-24T08:22:08.856Z"
   },
   {
    "duration": 4,
    "start_time": "2021-11-24T08:30:03.089Z"
   },
   {
    "duration": 777,
    "start_time": "2021-11-24T08:30:05.233Z"
   },
   {
    "duration": 4,
    "start_time": "2021-11-24T09:09:21.516Z"
   },
   {
    "duration": 6184,
    "start_time": "2021-11-24T09:09:23.717Z"
   },
   {
    "duration": 1684,
    "start_time": "2021-11-24T09:14:37.164Z"
   },
   {
    "duration": 4,
    "start_time": "2021-11-24T09:15:10.897Z"
   },
   {
    "duration": 1680,
    "start_time": "2021-11-24T09:15:11.655Z"
   },
   {
    "duration": 4,
    "start_time": "2021-11-24T09:25:56.031Z"
   },
   {
    "duration": 9228,
    "start_time": "2021-11-24T09:25:56.580Z"
   },
   {
    "duration": 331,
    "start_time": "2021-11-24T09:27:01.508Z"
   },
   {
    "duration": 13,
    "start_time": "2021-11-24T09:27:12.686Z"
   },
   {
    "duration": 10780,
    "start_time": "2021-11-24T09:29:02.789Z"
   },
   {
    "duration": 8416,
    "start_time": "2021-11-24T09:29:20.996Z"
   },
   {
    "duration": 8,
    "start_time": "2021-11-24T09:29:52.249Z"
   },
   {
    "duration": 7,
    "start_time": "2021-11-24T09:29:57.472Z"
   },
   {
    "duration": 9,
    "start_time": "2021-11-24T09:30:10.269Z"
   },
   {
    "duration": 349,
    "start_time": "2021-11-24T09:34:01.627Z"
   },
   {
    "duration": 7,
    "start_time": "2021-11-24T09:34:58.885Z"
   },
   {
    "duration": 5,
    "start_time": "2021-11-24T09:35:54.727Z"
   },
   {
    "duration": 6173,
    "start_time": "2021-11-24T09:35:56.729Z"
   },
   {
    "duration": 5,
    "start_time": "2021-11-24T09:36:55.002Z"
   },
   {
    "duration": 5,
    "start_time": "2021-11-24T09:37:05.945Z"
   },
   {
    "duration": 5890,
    "start_time": "2021-11-24T09:37:07.541Z"
   },
   {
    "duration": 5,
    "start_time": "2021-11-24T09:43:49.378Z"
   },
   {
    "duration": 3254,
    "start_time": "2021-11-24T09:43:51.641Z"
   },
   {
    "duration": 4,
    "start_time": "2021-11-24T09:44:39.623Z"
   },
   {
    "duration": 681,
    "start_time": "2021-11-24T09:44:41.221Z"
   },
   {
    "duration": 699,
    "start_time": "2021-11-24T09:45:15.243Z"
   },
   {
    "duration": 19,
    "start_time": "2021-11-24T10:03:28.105Z"
   },
   {
    "duration": 45,
    "start_time": "2021-11-24T10:03:28.947Z"
   },
   {
    "duration": 950,
    "start_time": "2021-11-26T09:28:52.207Z"
   },
   {
    "duration": 9,
    "start_time": "2021-11-26T09:28:53.159Z"
   },
   {
    "duration": 16,
    "start_time": "2021-11-26T09:28:53.169Z"
   },
   {
    "duration": 17,
    "start_time": "2021-11-26T09:28:53.186Z"
   },
   {
    "duration": 10,
    "start_time": "2021-11-26T09:28:53.205Z"
   },
   {
    "duration": 46,
    "start_time": "2021-11-26T09:28:53.217Z"
   },
   {
    "duration": 21,
    "start_time": "2021-11-26T09:28:53.265Z"
   },
   {
    "duration": 27,
    "start_time": "2021-11-26T09:28:53.289Z"
   },
   {
    "duration": 12,
    "start_time": "2021-11-26T09:28:53.318Z"
   },
   {
    "duration": 24,
    "start_time": "2021-11-26T09:28:53.332Z"
   },
   {
    "duration": 31,
    "start_time": "2021-11-26T09:28:53.357Z"
   },
   {
    "duration": 12,
    "start_time": "2021-11-26T09:28:53.390Z"
   },
   {
    "duration": 20,
    "start_time": "2021-11-26T09:28:53.403Z"
   },
   {
    "duration": 24,
    "start_time": "2021-11-26T09:28:53.424Z"
   },
   {
    "duration": 18,
    "start_time": "2021-11-26T09:28:53.449Z"
   },
   {
    "duration": 6,
    "start_time": "2021-11-26T09:28:53.469Z"
   },
   {
    "duration": 20,
    "start_time": "2021-11-26T09:28:53.477Z"
   },
   {
    "duration": 18,
    "start_time": "2021-11-26T09:28:53.499Z"
   },
   {
    "duration": 15,
    "start_time": "2021-11-26T09:28:53.518Z"
   },
   {
    "duration": 21,
    "start_time": "2021-11-26T09:28:53.535Z"
   },
   {
    "duration": 160,
    "start_time": "2021-11-26T09:28:53.558Z"
   },
   {
    "duration": 13,
    "start_time": "2021-11-26T09:28:53.720Z"
   },
   {
    "duration": 11,
    "start_time": "2021-11-26T09:28:53.736Z"
   },
   {
    "duration": 55,
    "start_time": "2021-11-26T09:28:53.749Z"
   },
   {
    "duration": 28,
    "start_time": "2021-11-26T09:28:53.806Z"
   },
   {
    "duration": 60,
    "start_time": "2021-11-26T09:28:53.835Z"
   },
   {
    "duration": 35,
    "start_time": "2021-11-26T09:28:53.896Z"
   },
   {
    "duration": 24,
    "start_time": "2021-11-26T09:28:53.932Z"
   },
   {
    "duration": 50,
    "start_time": "2021-11-26T09:28:53.958Z"
   },
   {
    "duration": 11,
    "start_time": "2021-11-26T09:28:54.010Z"
   },
   {
    "duration": 39,
    "start_time": "2021-11-26T09:28:54.023Z"
   },
   {
    "duration": 13,
    "start_time": "2021-11-26T09:28:54.063Z"
   },
   {
    "duration": 12,
    "start_time": "2021-11-26T09:28:54.077Z"
   },
   {
    "duration": 3269,
    "start_time": "2021-11-26T09:28:54.090Z"
   },
   {
    "duration": 81,
    "start_time": "2021-11-26T09:28:57.279Z"
   },
   {
    "duration": 76,
    "start_time": "2021-11-26T09:28:57.285Z"
   },
   {
    "duration": 71,
    "start_time": "2021-11-26T09:28:57.291Z"
   },
   {
    "duration": 66,
    "start_time": "2021-11-26T09:28:57.297Z"
   },
   {
    "duration": 3,
    "start_time": "2021-11-26T09:33:01.191Z"
   },
   {
    "duration": 4,
    "start_time": "2021-11-26T09:33:08.181Z"
   },
   {
    "duration": 5,
    "start_time": "2021-11-26T09:33:51.649Z"
   },
   {
    "duration": 14,
    "start_time": "2021-11-26T09:34:03.650Z"
   },
   {
    "duration": 5,
    "start_time": "2021-11-26T09:37:53.005Z"
   },
   {
    "duration": 4,
    "start_time": "2021-11-26T09:41:01.369Z"
   },
   {
    "duration": 9,
    "start_time": "2021-11-26T09:53:36.609Z"
   },
   {
    "duration": 274,
    "start_time": "2021-11-26T09:54:19.573Z"
   },
   {
    "duration": 18,
    "start_time": "2021-11-26T09:54:36.260Z"
   },
   {
    "duration": 10,
    "start_time": "2021-11-26T09:55:05.769Z"
   },
   {
    "duration": 8,
    "start_time": "2021-11-26T09:56:30.799Z"
   },
   {
    "duration": 235,
    "start_time": "2021-11-26T10:03:52.931Z"
   },
   {
    "duration": 199,
    "start_time": "2021-11-26T10:04:10.497Z"
   },
   {
    "duration": 17,
    "start_time": "2021-11-26T10:04:42.160Z"
   },
   {
    "duration": 15,
    "start_time": "2021-11-26T10:09:13.344Z"
   },
   {
    "duration": 18,
    "start_time": "2021-11-26T10:09:28.586Z"
   },
   {
    "duration": 14,
    "start_time": "2021-11-26T10:09:36.768Z"
   },
   {
    "duration": 18,
    "start_time": "2021-11-26T10:09:44.761Z"
   },
   {
    "duration": 277,
    "start_time": "2021-11-26T10:10:54.408Z"
   },
   {
    "duration": 6107,
    "start_time": "2021-11-26T10:12:18.719Z"
   },
   {
    "duration": 76,
    "start_time": "2021-11-26T10:17:07.433Z"
   },
   {
    "duration": 20,
    "start_time": "2021-11-26T10:17:17.331Z"
   },
   {
    "duration": 12,
    "start_time": "2021-11-26T10:20:27.134Z"
   },
   {
    "duration": 19,
    "start_time": "2021-11-26T10:20:30.412Z"
   },
   {
    "duration": 22,
    "start_time": "2021-11-26T10:22:26.708Z"
   },
   {
    "duration": 269,
    "start_time": "2021-11-26T10:25:30.668Z"
   },
   {
    "duration": 248,
    "start_time": "2021-11-26T10:25:35.385Z"
   },
   {
    "duration": 241,
    "start_time": "2021-11-26T10:26:07.824Z"
   },
   {
    "duration": 14,
    "start_time": "2021-11-26T10:26:26.397Z"
   },
   {
    "duration": 24,
    "start_time": "2021-11-26T10:26:34.057Z"
   },
   {
    "duration": 365,
    "start_time": "2021-11-26T10:33:39.022Z"
   },
   {
    "duration": 333,
    "start_time": "2021-11-26T10:33:58.999Z"
   },
   {
    "duration": 48,
    "start_time": "2021-11-26T10:34:35.970Z"
   },
   {
    "duration": 42,
    "start_time": "2021-11-26T11:39:38.052Z"
   },
   {
    "duration": 18,
    "start_time": "2021-11-26T11:46:44.224Z"
   },
   {
    "duration": 27,
    "start_time": "2021-11-26T11:47:01.310Z"
   },
   {
    "duration": 35,
    "start_time": "2021-11-26T11:47:26.735Z"
   },
   {
    "duration": 38,
    "start_time": "2021-11-26T11:47:51.449Z"
   },
   {
    "duration": 24,
    "start_time": "2021-11-26T11:48:03.546Z"
   },
   {
    "duration": 35,
    "start_time": "2021-11-26T11:50:16.492Z"
   },
   {
    "duration": 268,
    "start_time": "2021-11-26T11:51:05.176Z"
   },
   {
    "duration": 94,
    "start_time": "2021-11-26T11:51:50.303Z"
   },
   {
    "duration": 293,
    "start_time": "2021-11-26T11:52:27.286Z"
   },
   {
    "duration": 270,
    "start_time": "2021-11-26T11:53:25.932Z"
   },
   {
    "duration": 47,
    "start_time": "2021-11-26T11:53:40.000Z"
   },
   {
    "duration": 43,
    "start_time": "2021-11-26T11:57:53.600Z"
   },
   {
    "duration": 39,
    "start_time": "2021-11-26T11:58:29.860Z"
   },
   {
    "duration": 20,
    "start_time": "2021-11-26T12:00:33.416Z"
   },
   {
    "duration": 40,
    "start_time": "2021-11-26T12:00:41.844Z"
   },
   {
    "duration": 32,
    "start_time": "2021-11-26T12:01:21.993Z"
   },
   {
    "duration": 55,
    "start_time": "2021-11-26T12:01:45.877Z"
   },
   {
    "duration": 38,
    "start_time": "2021-11-26T12:02:00.585Z"
   },
   {
    "duration": 26,
    "start_time": "2021-11-26T12:02:09.980Z"
   },
   {
    "duration": 414,
    "start_time": "2021-11-26T12:03:01.985Z"
   },
   {
    "duration": 10,
    "start_time": "2021-11-26T12:03:02.402Z"
   },
   {
    "duration": 19,
    "start_time": "2021-11-26T12:03:02.414Z"
   },
   {
    "duration": 12,
    "start_time": "2021-11-26T12:03:02.435Z"
   },
   {
    "duration": 8,
    "start_time": "2021-11-26T12:03:02.448Z"
   },
   {
    "duration": 31,
    "start_time": "2021-11-26T12:03:02.457Z"
   },
   {
    "duration": 20,
    "start_time": "2021-11-26T12:03:02.489Z"
   },
   {
    "duration": 26,
    "start_time": "2021-11-26T12:03:02.512Z"
   },
   {
    "duration": 13,
    "start_time": "2021-11-26T12:03:02.540Z"
   },
   {
    "duration": 45,
    "start_time": "2021-11-26T12:03:02.554Z"
   },
   {
    "duration": 29,
    "start_time": "2021-11-26T12:03:02.601Z"
   },
   {
    "duration": 12,
    "start_time": "2021-11-26T12:03:02.631Z"
   },
   {
    "duration": 12,
    "start_time": "2021-11-26T12:03:02.644Z"
   },
   {
    "duration": 45,
    "start_time": "2021-11-26T12:03:02.658Z"
   },
   {
    "duration": 12,
    "start_time": "2021-11-26T12:03:02.704Z"
   },
   {
    "duration": 12,
    "start_time": "2021-11-26T12:03:02.723Z"
   },
   {
    "duration": 12,
    "start_time": "2021-11-26T12:03:02.737Z"
   },
   {
    "duration": 25,
    "start_time": "2021-11-26T12:03:02.751Z"
   },
   {
    "duration": 21,
    "start_time": "2021-11-26T12:03:02.778Z"
   },
   {
    "duration": 14,
    "start_time": "2021-11-26T12:03:02.801Z"
   },
   {
    "duration": 165,
    "start_time": "2021-11-26T12:03:02.817Z"
   },
   {
    "duration": 15,
    "start_time": "2021-11-26T12:03:02.987Z"
   },
   {
    "duration": 11,
    "start_time": "2021-11-26T12:03:03.006Z"
   },
   {
    "duration": 44,
    "start_time": "2021-11-26T12:03:03.018Z"
   },
   {
    "duration": 51,
    "start_time": "2021-11-26T12:03:03.063Z"
   },
   {
    "duration": 77,
    "start_time": "2021-11-26T12:03:03.117Z"
   },
   {
    "duration": 48,
    "start_time": "2021-11-26T12:03:03.196Z"
   },
   {
    "duration": 49,
    "start_time": "2021-11-26T12:03:03.246Z"
   },
   {
    "duration": 46,
    "start_time": "2021-11-26T12:03:03.297Z"
   },
   {
    "duration": 11,
    "start_time": "2021-11-26T12:03:03.344Z"
   },
   {
    "duration": 59,
    "start_time": "2021-11-26T12:03:03.356Z"
   },
   {
    "duration": 14,
    "start_time": "2021-11-26T12:03:03.417Z"
   },
   {
    "duration": 25,
    "start_time": "2021-11-26T12:03:03.432Z"
   },
   {
    "duration": 52,
    "start_time": "2021-11-26T12:03:03.459Z"
   },
   {
    "duration": 27,
    "start_time": "2021-11-26T12:03:03.513Z"
   },
   {
    "duration": 27,
    "start_time": "2021-11-26T12:03:03.541Z"
   },
   {
    "duration": 68,
    "start_time": "2021-11-26T12:03:03.570Z"
   },
   {
    "duration": 24,
    "start_time": "2021-11-26T12:03:03.640Z"
   },
   {
    "duration": 27,
    "start_time": "2021-11-26T12:03:03.665Z"
   },
   {
    "duration": 251,
    "start_time": "2021-11-26T12:03:59.912Z"
   },
   {
    "duration": 253,
    "start_time": "2021-11-26T12:04:05.983Z"
   },
   {
    "duration": 22,
    "start_time": "2021-11-26T12:04:17.843Z"
   },
   {
    "duration": 298,
    "start_time": "2021-11-26T12:05:01.920Z"
   },
   {
    "duration": 245,
    "start_time": "2021-11-26T12:05:14.211Z"
   },
   {
    "duration": 24,
    "start_time": "2021-11-26T12:05:38.999Z"
   },
   {
    "duration": 10,
    "start_time": "2021-11-26T12:06:20.653Z"
   },
   {
    "duration": 16,
    "start_time": "2021-11-26T12:06:32.897Z"
   },
   {
    "duration": 10,
    "start_time": "2021-11-26T12:06:42.517Z"
   },
   {
    "duration": 29,
    "start_time": "2021-11-26T12:06:56.910Z"
   },
   {
    "duration": 16,
    "start_time": "2021-11-26T12:07:11.820Z"
   },
   {
    "duration": 248,
    "start_time": "2021-11-26T12:07:20.121Z"
   },
   {
    "duration": 21,
    "start_time": "2021-11-26T12:07:24.516Z"
   },
   {
    "duration": 42,
    "start_time": "2021-11-26T12:09:30.552Z"
   },
   {
    "duration": 41,
    "start_time": "2021-11-26T12:10:46.515Z"
   },
   {
    "duration": 25,
    "start_time": "2021-11-26T12:11:07.157Z"
   },
   {
    "duration": 39,
    "start_time": "2021-11-26T12:12:38.303Z"
   },
   {
    "duration": 42,
    "start_time": "2021-11-26T12:27:03.730Z"
   },
   {
    "duration": 3,
    "start_time": "2021-11-26T12:38:37.845Z"
   },
   {
    "duration": 3807,
    "start_time": "2021-11-26T12:39:28.511Z"
   },
   {
    "duration": 3,
    "start_time": "2021-11-26T12:45:46.350Z"
   },
   {
    "duration": 478,
    "start_time": "2021-11-26T12:45:49.655Z"
   },
   {
    "duration": 3,
    "start_time": "2021-11-26T12:46:05.084Z"
   },
   {
    "duration": 3302,
    "start_time": "2021-11-26T12:46:06.162Z"
   },
   {
    "duration": 4,
    "start_time": "2021-11-26T12:53:10.060Z"
   },
   {
    "duration": 5814,
    "start_time": "2021-11-26T12:53:12.228Z"
   },
   {
    "duration": 4,
    "start_time": "2021-11-26T12:55:20.445Z"
   },
   {
    "duration": 510,
    "start_time": "2021-11-26T12:55:22.949Z"
   },
   {
    "duration": 229,
    "start_time": "2021-11-26T12:58:25.814Z"
   },
   {
    "duration": 4,
    "start_time": "2021-11-26T12:58:32.973Z"
   },
   {
    "duration": 28,
    "start_time": "2021-11-26T12:58:38.544Z"
   },
   {
    "duration": 481,
    "start_time": "2021-11-26T12:59:49.509Z"
   },
   {
    "duration": 22,
    "start_time": "2021-11-26T13:00:09.641Z"
   },
   {
    "duration": 502,
    "start_time": "2021-11-26T13:00:18.028Z"
   },
   {
    "duration": 3,
    "start_time": "2021-11-26T13:07:00.469Z"
   },
   {
    "duration": 3551,
    "start_time": "2021-11-26T13:07:02.716Z"
   },
   {
    "duration": 3,
    "start_time": "2021-11-26T13:07:31.452Z"
   },
   {
    "duration": 3265,
    "start_time": "2021-11-26T13:07:34.324Z"
   },
   {
    "duration": 3,
    "start_time": "2021-11-26T13:07:57.928Z"
   },
   {
    "duration": 3296,
    "start_time": "2021-11-26T13:07:58.968Z"
   },
   {
    "duration": 7,
    "start_time": "2021-11-26T13:08:49.082Z"
   },
   {
    "duration": 856,
    "start_time": "2021-11-26T13:13:59.745Z"
   },
   {
    "duration": 2233,
    "start_time": "2021-11-26T13:14:27.207Z"
   },
   {
    "duration": 1463,
    "start_time": "2021-11-26T13:16:06.803Z"
   },
   {
    "duration": 387,
    "start_time": "2021-11-26T13:16:44.387Z"
   },
   {
    "duration": 8,
    "start_time": "2021-11-26T13:16:44.776Z"
   },
   {
    "duration": 14,
    "start_time": "2021-11-26T13:16:44.786Z"
   },
   {
    "duration": 28,
    "start_time": "2021-11-26T13:16:44.802Z"
   },
   {
    "duration": 9,
    "start_time": "2021-11-26T13:16:44.832Z"
   },
   {
    "duration": 6,
    "start_time": "2021-11-26T13:16:44.843Z"
   },
   {
    "duration": 22,
    "start_time": "2021-11-26T13:16:44.851Z"
   },
   {
    "duration": 31,
    "start_time": "2021-11-26T13:16:44.877Z"
   },
   {
    "duration": 15,
    "start_time": "2021-11-26T13:16:44.910Z"
   },
   {
    "duration": 21,
    "start_time": "2021-11-26T13:16:44.927Z"
   },
   {
    "duration": 55,
    "start_time": "2021-11-26T13:16:44.950Z"
   },
   {
    "duration": 18,
    "start_time": "2021-11-26T13:16:45.008Z"
   },
   {
    "duration": 25,
    "start_time": "2021-11-26T13:16:45.029Z"
   },
   {
    "duration": 43,
    "start_time": "2021-11-26T13:16:45.056Z"
   },
   {
    "duration": 15,
    "start_time": "2021-11-26T13:16:45.101Z"
   },
   {
    "duration": 12,
    "start_time": "2021-11-26T13:16:45.117Z"
   },
   {
    "duration": 11,
    "start_time": "2021-11-26T13:16:45.131Z"
   },
   {
    "duration": 13,
    "start_time": "2021-11-26T13:16:45.143Z"
   },
   {
    "duration": 30,
    "start_time": "2021-11-26T13:16:45.158Z"
   },
   {
    "duration": 8,
    "start_time": "2021-11-26T13:16:45.189Z"
   },
   {
    "duration": 264,
    "start_time": "2021-11-26T13:16:45.199Z"
   },
   {
    "duration": 23,
    "start_time": "2021-11-26T13:16:45.465Z"
   },
   {
    "duration": 11,
    "start_time": "2021-11-26T13:16:45.492Z"
   },
   {
    "duration": 35,
    "start_time": "2021-11-26T13:16:45.505Z"
   },
   {
    "duration": 61,
    "start_time": "2021-11-26T13:16:45.542Z"
   },
   {
    "duration": 48,
    "start_time": "2021-11-26T13:16:45.605Z"
   },
   {
    "duration": 56,
    "start_time": "2021-11-26T13:16:45.655Z"
   },
   {
    "duration": 25,
    "start_time": "2021-11-26T13:16:45.713Z"
   },
   {
    "duration": 57,
    "start_time": "2021-11-26T13:16:45.740Z"
   },
   {
    "duration": 9,
    "start_time": "2021-11-26T13:16:45.799Z"
   },
   {
    "duration": 26,
    "start_time": "2021-11-26T13:16:45.810Z"
   },
   {
    "duration": 15,
    "start_time": "2021-11-26T13:16:45.838Z"
   },
   {
    "duration": 35,
    "start_time": "2021-11-26T13:16:45.854Z"
   },
   {
    "duration": 23,
    "start_time": "2021-11-26T13:16:45.891Z"
   },
   {
    "duration": 17,
    "start_time": "2021-11-26T13:16:45.916Z"
   },
   {
    "duration": 54,
    "start_time": "2021-11-26T13:16:45.934Z"
   },
   {
    "duration": 43,
    "start_time": "2021-11-26T13:16:45.990Z"
   },
   {
    "duration": 3,
    "start_time": "2021-11-26T13:16:46.034Z"
   },
   {
    "duration": 13,
    "start_time": "2021-11-26T13:16:46.038Z"
   },
   {
    "duration": 54,
    "start_time": "2021-11-26T13:16:46.053Z"
   },
   {
    "duration": 3,
    "start_time": "2021-11-26T13:17:20.572Z"
   },
   {
    "duration": 4187,
    "start_time": "2021-11-26T13:17:27.840Z"
   },
   {
    "duration": 3,
    "start_time": "2021-11-26T13:17:53.438Z"
   },
   {
    "duration": 511,
    "start_time": "2021-11-26T13:17:55.303Z"
   },
   {
    "duration": 7,
    "start_time": "2021-11-26T13:18:10.089Z"
   },
   {
    "duration": 259,
    "start_time": "2021-11-26T13:26:30.603Z"
   },
   {
    "duration": 541,
    "start_time": "2021-11-26T13:28:35.719Z"
   },
   {
    "duration": 546,
    "start_time": "2021-11-26T13:28:59.502Z"
   },
   {
    "duration": 599,
    "start_time": "2021-11-26T13:29:08.472Z"
   },
   {
    "duration": 377,
    "start_time": "2021-11-26T13:29:31.299Z"
   },
   {
    "duration": 11,
    "start_time": "2021-11-26T13:29:31.678Z"
   },
   {
    "duration": 16,
    "start_time": "2021-11-26T13:29:31.691Z"
   },
   {
    "duration": 11,
    "start_time": "2021-11-26T13:29:31.709Z"
   },
   {
    "duration": 11,
    "start_time": "2021-11-26T13:29:31.722Z"
   },
   {
    "duration": 10,
    "start_time": "2021-11-26T13:29:31.734Z"
   },
   {
    "duration": 26,
    "start_time": "2021-11-26T13:29:31.745Z"
   },
   {
    "duration": 25,
    "start_time": "2021-11-26T13:29:31.789Z"
   },
   {
    "duration": 13,
    "start_time": "2021-11-26T13:29:31.816Z"
   },
   {
    "duration": 18,
    "start_time": "2021-11-26T13:29:31.830Z"
   },
   {
    "duration": 43,
    "start_time": "2021-11-26T13:29:31.850Z"
   },
   {
    "duration": 11,
    "start_time": "2021-11-26T13:29:31.895Z"
   },
   {
    "duration": 13,
    "start_time": "2021-11-26T13:29:31.907Z"
   },
   {
    "duration": 17,
    "start_time": "2021-11-26T13:29:31.922Z"
   },
   {
    "duration": 10,
    "start_time": "2021-11-26T13:29:31.940Z"
   },
   {
    "duration": 38,
    "start_time": "2021-11-26T13:29:31.952Z"
   },
   {
    "duration": 10,
    "start_time": "2021-11-26T13:29:31.991Z"
   },
   {
    "duration": 10,
    "start_time": "2021-11-26T13:29:32.002Z"
   },
   {
    "duration": 12,
    "start_time": "2021-11-26T13:29:32.013Z"
   },
   {
    "duration": 11,
    "start_time": "2021-11-26T13:29:32.026Z"
   },
   {
    "duration": 163,
    "start_time": "2021-11-26T13:29:32.039Z"
   },
   {
    "duration": 14,
    "start_time": "2021-11-26T13:29:32.204Z"
   },
   {
    "duration": 13,
    "start_time": "2021-11-26T13:29:32.221Z"
   },
   {
    "duration": 58,
    "start_time": "2021-11-26T13:29:32.236Z"
   },
   {
    "duration": 26,
    "start_time": "2021-11-26T13:29:32.296Z"
   },
   {
    "duration": 47,
    "start_time": "2021-11-26T13:29:32.324Z"
   },
   {
    "duration": 36,
    "start_time": "2021-11-26T13:29:32.387Z"
   },
   {
    "duration": 24,
    "start_time": "2021-11-26T13:29:32.425Z"
   },
   {
    "duration": 57,
    "start_time": "2021-11-26T13:29:32.450Z"
   },
   {
    "duration": 11,
    "start_time": "2021-11-26T13:29:32.508Z"
   },
   {
    "duration": 23,
    "start_time": "2021-11-26T13:29:32.520Z"
   },
   {
    "duration": 13,
    "start_time": "2021-11-26T13:29:32.544Z"
   },
   {
    "duration": 30,
    "start_time": "2021-11-26T13:29:32.559Z"
   },
   {
    "duration": 23,
    "start_time": "2021-11-26T13:29:32.591Z"
   },
   {
    "duration": 18,
    "start_time": "2021-11-26T13:29:32.616Z"
   },
   {
    "duration": 53,
    "start_time": "2021-11-26T13:29:32.636Z"
   },
   {
    "duration": 42,
    "start_time": "2021-11-26T13:29:32.691Z"
   },
   {
    "duration": 3,
    "start_time": "2021-11-26T13:29:32.735Z"
   },
   {
    "duration": 10,
    "start_time": "2021-11-26T13:29:32.739Z"
   },
   {
    "duration": 50,
    "start_time": "2021-11-26T13:29:32.750Z"
   },
   {
    "duration": 3,
    "start_time": "2021-11-26T13:29:56.907Z"
   },
   {
    "duration": 23,
    "start_time": "2021-11-26T13:29:59.489Z"
   },
   {
    "duration": 266,
    "start_time": "2021-11-26T13:30:17.979Z"
   },
   {
    "duration": 2,
    "start_time": "2021-11-26T13:30:45.373Z"
   },
   {
    "duration": 1284,
    "start_time": "2021-11-26T13:30:48.065Z"
   },
   {
    "duration": 364,
    "start_time": "2021-11-26T13:31:03.869Z"
   },
   {
    "duration": 9,
    "start_time": "2021-11-26T13:31:04.235Z"
   },
   {
    "duration": 11,
    "start_time": "2021-11-26T13:31:04.246Z"
   },
   {
    "duration": 10,
    "start_time": "2021-11-26T13:31:04.259Z"
   },
   {
    "duration": 6,
    "start_time": "2021-11-26T13:31:04.270Z"
   },
   {
    "duration": 6,
    "start_time": "2021-11-26T13:31:04.278Z"
   },
   {
    "duration": 25,
    "start_time": "2021-11-26T13:31:04.286Z"
   },
   {
    "duration": 26,
    "start_time": "2021-11-26T13:31:04.314Z"
   },
   {
    "duration": 12,
    "start_time": "2021-11-26T13:31:04.342Z"
   },
   {
    "duration": 46,
    "start_time": "2021-11-26T13:31:04.356Z"
   },
   {
    "duration": 20,
    "start_time": "2021-11-26T13:31:04.404Z"
   },
   {
    "duration": 13,
    "start_time": "2021-11-26T13:31:04.426Z"
   },
   {
    "duration": 49,
    "start_time": "2021-11-26T13:31:04.441Z"
   },
   {
    "duration": 17,
    "start_time": "2021-11-26T13:31:04.492Z"
   },
   {
    "duration": 9,
    "start_time": "2021-11-26T13:31:04.511Z"
   },
   {
    "duration": 5,
    "start_time": "2021-11-26T13:31:04.523Z"
   },
   {
    "duration": 8,
    "start_time": "2021-11-26T13:31:04.530Z"
   },
   {
    "duration": 6,
    "start_time": "2021-11-26T13:31:04.539Z"
   },
   {
    "duration": 43,
    "start_time": "2021-11-26T13:31:04.547Z"
   },
   {
    "duration": 8,
    "start_time": "2021-11-26T13:31:04.592Z"
   },
   {
    "duration": 174,
    "start_time": "2021-11-26T13:31:04.602Z"
   },
   {
    "duration": 20,
    "start_time": "2021-11-26T13:31:04.778Z"
   },
   {
    "duration": 11,
    "start_time": "2021-11-26T13:31:04.803Z"
   },
   {
    "duration": 36,
    "start_time": "2021-11-26T13:31:04.817Z"
   },
   {
    "duration": 33,
    "start_time": "2021-11-26T13:31:04.887Z"
   },
   {
    "duration": 70,
    "start_time": "2021-11-26T13:31:04.921Z"
   },
   {
    "duration": 37,
    "start_time": "2021-11-26T13:31:04.993Z"
   },
   {
    "duration": 25,
    "start_time": "2021-11-26T13:31:05.032Z"
   },
   {
    "duration": 57,
    "start_time": "2021-11-26T13:31:05.058Z"
   },
   {
    "duration": 13,
    "start_time": "2021-11-26T13:31:05.117Z"
   },
   {
    "duration": 56,
    "start_time": "2021-11-26T13:31:05.132Z"
   },
   {
    "duration": 15,
    "start_time": "2021-11-26T13:31:05.190Z"
   },
   {
    "duration": 3,
    "start_time": "2021-11-26T13:31:05.207Z"
   },
   {
    "duration": 23,
    "start_time": "2021-11-26T13:31:05.212Z"
   },
   {
    "duration": 51,
    "start_time": "2021-11-26T13:31:05.237Z"
   },
   {
    "duration": 19,
    "start_time": "2021-11-26T13:31:05.290Z"
   },
   {
    "duration": 43,
    "start_time": "2021-11-26T13:31:05.311Z"
   },
   {
    "duration": 32,
    "start_time": "2021-11-26T13:31:05.356Z"
   },
   {
    "duration": 11,
    "start_time": "2021-11-26T13:31:05.390Z"
   },
   {
    "duration": 23,
    "start_time": "2021-11-26T13:31:05.403Z"
   },
   {
    "duration": 3,
    "start_time": "2021-11-26T13:31:18.536Z"
   },
   {
    "duration": 53,
    "start_time": "2021-11-26T13:31:20.168Z"
   },
   {
    "duration": 6,
    "start_time": "2021-11-26T13:32:01.033Z"
   },
   {
    "duration": 3382,
    "start_time": "2021-11-26T13:32:02.885Z"
   },
   {
    "duration": 3,
    "start_time": "2021-11-26T13:32:28.813Z"
   },
   {
    "duration": 3349,
    "start_time": "2021-11-26T13:32:32.993Z"
   },
   {
    "duration": 3,
    "start_time": "2021-11-26T13:34:06.841Z"
   },
   {
    "duration": 3199,
    "start_time": "2021-11-26T13:34:09.705Z"
   },
   {
    "duration": 3,
    "start_time": "2021-11-26T13:51:16.518Z"
   },
   {
    "duration": 3321,
    "start_time": "2021-11-26T13:51:22.110Z"
   },
   {
    "duration": 2,
    "start_time": "2021-11-26T13:57:14.046Z"
   },
   {
    "duration": 505,
    "start_time": "2021-11-26T13:57:17.247Z"
   },
   {
    "duration": 3,
    "start_time": "2021-11-26T14:02:13.055Z"
   },
   {
    "duration": 489,
    "start_time": "2021-11-26T14:02:14.468Z"
   },
   {
    "duration": 2,
    "start_time": "2021-11-26T14:02:45.157Z"
   },
   {
    "duration": 574,
    "start_time": "2021-11-26T14:02:45.637Z"
   },
   {
    "duration": 3,
    "start_time": "2021-11-26T14:16:41.506Z"
   },
   {
    "duration": 36,
    "start_time": "2021-11-26T14:16:43.319Z"
   },
   {
    "duration": 2,
    "start_time": "2021-11-26T14:19:24.205Z"
   },
   {
    "duration": 3178,
    "start_time": "2021-11-26T14:19:34.737Z"
   },
   {
    "duration": 7,
    "start_time": "2021-11-26T14:20:05.359Z"
   },
   {
    "duration": 3,
    "start_time": "2021-11-26T14:20:14.880Z"
   },
   {
    "duration": 3432,
    "start_time": "2021-11-26T14:20:15.259Z"
   },
   {
    "duration": 3,
    "start_time": "2021-11-26T14:20:58.766Z"
   },
   {
    "duration": 3612,
    "start_time": "2021-11-26T14:20:59.061Z"
   },
   {
    "duration": 3,
    "start_time": "2021-11-26T14:22:30.860Z"
   },
   {
    "duration": 493,
    "start_time": "2021-11-26T14:22:31.704Z"
   },
   {
    "duration": 3,
    "start_time": "2021-11-26T14:23:54.179Z"
   },
   {
    "duration": 3335,
    "start_time": "2021-11-26T14:23:54.366Z"
   },
   {
    "duration": 387,
    "start_time": "2021-11-26T14:24:03.834Z"
   },
   {
    "duration": 8,
    "start_time": "2021-11-26T14:24:04.223Z"
   },
   {
    "duration": 11,
    "start_time": "2021-11-26T14:24:04.233Z"
   },
   {
    "duration": 8,
    "start_time": "2021-11-26T14:24:04.246Z"
   },
   {
    "duration": 10,
    "start_time": "2021-11-26T14:24:04.256Z"
   },
   {
    "duration": 4,
    "start_time": "2021-11-26T14:24:04.268Z"
   },
   {
    "duration": 503,
    "start_time": "2021-11-26T14:24:04.273Z"
   },
   {
    "duration": -157,
    "start_time": "2021-11-26T14:24:04.936Z"
   },
   {
    "duration": -161,
    "start_time": "2021-11-26T14:24:04.942Z"
   },
   {
    "duration": -167,
    "start_time": "2021-11-26T14:24:04.949Z"
   },
   {
    "duration": -175,
    "start_time": "2021-11-26T14:24:04.958Z"
   },
   {
    "duration": -181,
    "start_time": "2021-11-26T14:24:04.965Z"
   },
   {
    "duration": -188,
    "start_time": "2021-11-26T14:24:04.973Z"
   },
   {
    "duration": -199,
    "start_time": "2021-11-26T14:24:04.985Z"
   },
   {
    "duration": -253,
    "start_time": "2021-11-26T14:24:05.040Z"
   },
   {
    "duration": -282,
    "start_time": "2021-11-26T14:24:05.070Z"
   },
   {
    "duration": -312,
    "start_time": "2021-11-26T14:24:05.101Z"
   },
   {
    "duration": -339,
    "start_time": "2021-11-26T14:24:05.129Z"
   },
   {
    "duration": -368,
    "start_time": "2021-11-26T14:24:05.159Z"
   },
   {
    "duration": -398,
    "start_time": "2021-11-26T14:24:05.190Z"
   },
   {
    "duration": -402,
    "start_time": "2021-11-26T14:24:05.195Z"
   },
   {
    "duration": -407,
    "start_time": "2021-11-26T14:24:05.201Z"
   },
   {
    "duration": -411,
    "start_time": "2021-11-26T14:24:05.206Z"
   },
   {
    "duration": -415,
    "start_time": "2021-11-26T14:24:05.211Z"
   },
   {
    "duration": -418,
    "start_time": "2021-11-26T14:24:05.215Z"
   },
   {
    "duration": -423,
    "start_time": "2021-11-26T14:24:05.221Z"
   },
   {
    "duration": -436,
    "start_time": "2021-11-26T14:24:05.235Z"
   },
   {
    "duration": -440,
    "start_time": "2021-11-26T14:24:05.240Z"
   },
   {
    "duration": -444,
    "start_time": "2021-11-26T14:24:05.245Z"
   },
   {
    "duration": -448,
    "start_time": "2021-11-26T14:24:05.250Z"
   },
   {
    "duration": -453,
    "start_time": "2021-11-26T14:24:05.255Z"
   },
   {
    "duration": -457,
    "start_time": "2021-11-26T14:24:05.260Z"
   },
   {
    "duration": -461,
    "start_time": "2021-11-26T14:24:05.265Z"
   },
   {
    "duration": -466,
    "start_time": "2021-11-26T14:24:05.271Z"
   },
   {
    "duration": -471,
    "start_time": "2021-11-26T14:24:05.277Z"
   },
   {
    "duration": -476,
    "start_time": "2021-11-26T14:24:05.283Z"
   },
   {
    "duration": -479,
    "start_time": "2021-11-26T14:24:05.287Z"
   },
   {
    "duration": -501,
    "start_time": "2021-11-26T14:24:05.309Z"
   },
   {
    "duration": -506,
    "start_time": "2021-11-26T14:24:05.315Z"
   },
   {
    "duration": -511,
    "start_time": "2021-11-26T14:24:05.321Z"
   },
   {
    "duration": 3,
    "start_time": "2021-11-26T14:24:43.462Z"
   },
   {
    "duration": 3715,
    "start_time": "2021-11-26T14:24:44.537Z"
   },
   {
    "duration": 373,
    "start_time": "2021-11-26T14:25:22.133Z"
   },
   {
    "duration": 8,
    "start_time": "2021-11-26T14:25:22.508Z"
   },
   {
    "duration": 12,
    "start_time": "2021-11-26T14:25:22.518Z"
   },
   {
    "duration": 12,
    "start_time": "2021-11-26T14:25:22.532Z"
   },
   {
    "duration": 10,
    "start_time": "2021-11-26T14:25:22.545Z"
   },
   {
    "duration": 4,
    "start_time": "2021-11-26T14:25:22.557Z"
   },
   {
    "duration": 38,
    "start_time": "2021-11-26T14:25:22.562Z"
   },
   {
    "duration": 24,
    "start_time": "2021-11-26T14:25:22.602Z"
   },
   {
    "duration": 12,
    "start_time": "2021-11-26T14:25:22.628Z"
   },
   {
    "duration": 17,
    "start_time": "2021-11-26T14:25:22.641Z"
   },
   {
    "duration": 44,
    "start_time": "2021-11-26T14:25:22.660Z"
   },
   {
    "duration": 11,
    "start_time": "2021-11-26T14:25:22.706Z"
   },
   {
    "duration": 13,
    "start_time": "2021-11-26T14:25:22.718Z"
   },
   {
    "duration": 16,
    "start_time": "2021-11-26T14:25:22.732Z"
   },
   {
    "duration": 39,
    "start_time": "2021-11-26T14:25:22.749Z"
   },
   {
    "duration": 5,
    "start_time": "2021-11-26T14:25:22.789Z"
   },
   {
    "duration": 7,
    "start_time": "2021-11-26T14:25:22.796Z"
   },
   {
    "duration": 10,
    "start_time": "2021-11-26T14:25:22.804Z"
   },
   {
    "duration": 7,
    "start_time": "2021-11-26T14:25:22.815Z"
   },
   {
    "duration": 7,
    "start_time": "2021-11-26T14:25:22.824Z"
   },
   {
    "duration": 168,
    "start_time": "2021-11-26T14:25:22.833Z"
   },
   {
    "duration": 14,
    "start_time": "2021-11-26T14:25:23.003Z"
   },
   {
    "duration": 10,
    "start_time": "2021-11-26T14:25:23.020Z"
   },
   {
    "duration": 57,
    "start_time": "2021-11-26T14:25:23.032Z"
   },
   {
    "duration": 28,
    "start_time": "2021-11-26T14:25:23.090Z"
   },
   {
    "duration": 47,
    "start_time": "2021-11-26T14:25:23.119Z"
   },
   {
    "duration": 35,
    "start_time": "2021-11-26T14:25:23.187Z"
   },
   {
    "duration": 23,
    "start_time": "2021-11-26T14:25:23.224Z"
   },
   {
    "duration": 55,
    "start_time": "2021-11-26T14:25:23.249Z"
   },
   {
    "duration": 9,
    "start_time": "2021-11-26T14:25:23.306Z"
   },
   {
    "duration": 23,
    "start_time": "2021-11-26T14:25:23.317Z"
   },
   {
    "duration": 13,
    "start_time": "2021-11-26T14:25:23.341Z"
   },
   {
    "duration": 49,
    "start_time": "2021-11-26T14:25:23.355Z"
   },
   {
    "duration": 17,
    "start_time": "2021-11-26T14:25:23.405Z"
   },
   {
    "duration": 15,
    "start_time": "2021-11-26T14:25:23.423Z"
   },
   {
    "duration": 64,
    "start_time": "2021-11-26T14:25:23.439Z"
   },
   {
    "duration": 3,
    "start_time": "2021-11-26T14:25:23.504Z"
   },
   {
    "duration": 3348,
    "start_time": "2021-11-26T14:25:23.508Z"
   },
   {
    "duration": 78,
    "start_time": "2021-11-26T14:28:14.523Z"
   },
   {
    "duration": 3,
    "start_time": "2021-11-26T14:28:36.230Z"
   },
   {
    "duration": 486,
    "start_time": "2021-11-26T14:28:38.774Z"
   },
   {
    "duration": 3,
    "start_time": "2021-11-26T16:07:50.171Z"
   },
   {
    "duration": 4140,
    "start_time": "2021-11-26T16:07:51.054Z"
   },
   {
    "duration": 3,
    "start_time": "2021-11-26T16:13:27.251Z"
   },
   {
    "duration": 692,
    "start_time": "2021-11-26T16:13:30.027Z"
   },
   {
    "duration": 2,
    "start_time": "2021-11-26T16:14:05.523Z"
   },
   {
    "duration": 214,
    "start_time": "2021-11-26T16:14:06.037Z"
   },
   {
    "duration": 2,
    "start_time": "2021-11-26T16:14:19.286Z"
   },
   {
    "duration": 219,
    "start_time": "2021-11-26T16:14:19.683Z"
   },
   {
    "duration": 40,
    "start_time": "2021-11-26T16:14:36.093Z"
   },
   {
    "duration": 3,
    "start_time": "2021-11-26T16:14:38.730Z"
   },
   {
    "duration": 37,
    "start_time": "2021-11-26T16:14:39.062Z"
   },
   {
    "duration": 2,
    "start_time": "2021-11-26T16:16:20.864Z"
   },
   {
    "duration": 36,
    "start_time": "2021-11-26T16:16:21.224Z"
   },
   {
    "duration": 2,
    "start_time": "2021-11-26T16:40:55.527Z"
   },
   {
    "duration": 3236,
    "start_time": "2021-11-26T16:40:56.287Z"
   },
   {
    "duration": 573,
    "start_time": "2021-11-26T16:41:35.761Z"
   },
   {
    "duration": 3,
    "start_time": "2021-11-26T19:20:25.940Z"
   },
   {
    "duration": 1016,
    "start_time": "2021-11-26T19:20:26.976Z"
   },
   {
    "duration": 380,
    "start_time": "2021-11-26T19:21:02.012Z"
   },
   {
    "duration": 10,
    "start_time": "2021-11-26T19:21:02.394Z"
   },
   {
    "duration": 10,
    "start_time": "2021-11-26T19:21:02.407Z"
   },
   {
    "duration": 8,
    "start_time": "2021-11-26T19:21:02.419Z"
   },
   {
    "duration": 10,
    "start_time": "2021-11-26T19:21:02.428Z"
   },
   {
    "duration": 7,
    "start_time": "2021-11-26T19:21:02.439Z"
   },
   {
    "duration": 59,
    "start_time": "2021-11-26T19:21:02.447Z"
   },
   {
    "duration": 26,
    "start_time": "2021-11-26T19:21:02.510Z"
   },
   {
    "duration": 15,
    "start_time": "2021-11-26T19:21:02.538Z"
   },
   {
    "duration": 47,
    "start_time": "2021-11-26T19:21:02.554Z"
   },
   {
    "duration": 20,
    "start_time": "2021-11-26T19:21:02.602Z"
   },
   {
    "duration": 14,
    "start_time": "2021-11-26T19:21:02.624Z"
   },
   {
    "duration": 16,
    "start_time": "2021-11-26T19:21:02.640Z"
   },
   {
    "duration": 38,
    "start_time": "2021-11-26T19:21:02.658Z"
   },
   {
    "duration": 10,
    "start_time": "2021-11-26T19:21:02.698Z"
   },
   {
    "duration": 18,
    "start_time": "2021-11-26T19:21:02.709Z"
   },
   {
    "duration": 9,
    "start_time": "2021-11-26T19:21:02.728Z"
   },
   {
    "duration": 7,
    "start_time": "2021-11-26T19:21:02.739Z"
   },
   {
    "duration": 8,
    "start_time": "2021-11-26T19:21:02.747Z"
   },
   {
    "duration": 8,
    "start_time": "2021-11-26T19:21:02.756Z"
   },
   {
    "duration": 163,
    "start_time": "2021-11-26T19:21:02.766Z"
   },
   {
    "duration": 13,
    "start_time": "2021-11-26T19:21:02.931Z"
   },
   {
    "duration": 10,
    "start_time": "2021-11-26T19:21:02.947Z"
   },
   {
    "duration": 66,
    "start_time": "2021-11-26T19:21:02.959Z"
   },
   {
    "duration": 27,
    "start_time": "2021-11-26T19:21:03.027Z"
   },
   {
    "duration": 58,
    "start_time": "2021-11-26T19:21:03.055Z"
   },
   {
    "duration": 35,
    "start_time": "2021-11-26T19:21:03.115Z"
   },
   {
    "duration": 24,
    "start_time": "2021-11-26T19:21:03.152Z"
   },
   {
    "duration": 35,
    "start_time": "2021-11-26T19:21:03.177Z"
   },
   {
    "duration": 11,
    "start_time": "2021-11-26T19:21:03.214Z"
   },
   {
    "duration": 81,
    "start_time": "2021-11-26T19:21:03.226Z"
   },
   {
    "duration": 13,
    "start_time": "2021-11-26T19:21:03.308Z"
   },
   {
    "duration": 18,
    "start_time": "2021-11-26T19:21:03.323Z"
   },
   {
    "duration": 16,
    "start_time": "2021-11-26T19:21:03.342Z"
   },
   {
    "duration": 42,
    "start_time": "2021-11-26T19:21:03.360Z"
   },
   {
    "duration": 40,
    "start_time": "2021-11-26T19:21:03.404Z"
   },
   {
    "duration": 2,
    "start_time": "2021-11-26T19:21:03.446Z"
   },
   {
    "duration": 104,
    "start_time": "2021-11-26T19:21:03.450Z"
   },
   {
    "duration": 41,
    "start_time": "2021-11-26T19:23:45.330Z"
   },
   {
    "duration": 3,
    "start_time": "2021-11-26T19:23:51.347Z"
   },
   {
    "duration": 80,
    "start_time": "2021-11-26T19:23:53.352Z"
   },
   {
    "duration": 454,
    "start_time": "2021-11-26T19:25:44.629Z"
   },
   {
    "duration": 11,
    "start_time": "2021-11-26T19:25:45.084Z"
   },
   {
    "duration": 25,
    "start_time": "2021-11-26T19:25:45.098Z"
   },
   {
    "duration": 14,
    "start_time": "2021-11-26T19:25:45.125Z"
   },
   {
    "duration": 15,
    "start_time": "2021-11-26T19:25:45.140Z"
   },
   {
    "duration": 20,
    "start_time": "2021-11-26T19:25:45.156Z"
   },
   {
    "duration": 26,
    "start_time": "2021-11-26T19:25:45.178Z"
   },
   {
    "duration": 25,
    "start_time": "2021-11-26T19:25:45.206Z"
   },
   {
    "duration": 13,
    "start_time": "2021-11-26T19:25:45.233Z"
   },
   {
    "duration": 24,
    "start_time": "2021-11-26T19:25:45.248Z"
   },
   {
    "duration": 39,
    "start_time": "2021-11-26T19:25:45.274Z"
   },
   {
    "duration": 13,
    "start_time": "2021-11-26T19:25:45.314Z"
   },
   {
    "duration": 25,
    "start_time": "2021-11-26T19:25:45.329Z"
   },
   {
    "duration": 32,
    "start_time": "2021-11-26T19:25:45.356Z"
   },
   {
    "duration": 14,
    "start_time": "2021-11-26T19:25:45.390Z"
   },
   {
    "duration": 16,
    "start_time": "2021-11-26T19:25:45.405Z"
   },
   {
    "duration": 16,
    "start_time": "2021-11-26T19:25:45.422Z"
   },
   {
    "duration": 18,
    "start_time": "2021-11-26T19:25:45.439Z"
   },
   {
    "duration": 7,
    "start_time": "2021-11-26T19:25:45.458Z"
   },
   {
    "duration": 7,
    "start_time": "2021-11-26T19:25:45.467Z"
   },
   {
    "duration": 151,
    "start_time": "2021-11-26T19:25:45.476Z"
   },
   {
    "duration": 13,
    "start_time": "2021-11-26T19:25:45.629Z"
   },
   {
    "duration": 10,
    "start_time": "2021-11-26T19:25:45.644Z"
   },
   {
    "duration": 50,
    "start_time": "2021-11-26T19:25:45.656Z"
   },
   {
    "duration": 23,
    "start_time": "2021-11-26T19:25:45.707Z"
   },
   {
    "duration": 26,
    "start_time": "2021-11-26T19:25:45.732Z"
   },
   {
    "duration": 44,
    "start_time": "2021-11-26T19:25:45.759Z"
   },
   {
    "duration": 17,
    "start_time": "2021-11-26T19:25:45.805Z"
   },
   {
    "duration": 39,
    "start_time": "2021-11-26T19:25:45.824Z"
   },
   {
    "duration": 26,
    "start_time": "2021-11-26T19:25:45.864Z"
   },
   {
    "duration": 82,
    "start_time": "2021-11-26T19:25:45.891Z"
   },
   {
    "duration": 2260,
    "start_time": "2021-11-26T19:38:03.971Z"
   },
   {
    "duration": 157,
    "start_time": "2021-11-26T19:38:06.076Z"
   },
   {
    "duration": 954,
    "start_time": "2021-11-26T19:38:39.183Z"
   },
   {
    "duration": 178,
    "start_time": "2021-11-26T19:38:39.960Z"
   },
   {
    "duration": 75,
    "start_time": "2021-11-26T19:44:19.321Z"
   },
   {
    "duration": 10,
    "start_time": "2021-11-26T19:44:20.512Z"
   },
   {
    "duration": 83,
    "start_time": "2021-11-26T19:44:47.310Z"
   },
   {
    "duration": 5465,
    "start_time": "2021-11-26T19:46:02.471Z"
   },
   {
    "duration": 147,
    "start_time": "2021-11-26T19:46:07.791Z"
   },
   {
    "duration": 1110,
    "start_time": "2021-11-26T19:46:34.955Z"
   },
   {
    "duration": 2652,
    "start_time": "2021-11-26T19:47:08.821Z"
   },
   {
    "duration": 11,
    "start_time": "2021-11-26T19:47:12.356Z"
   },
   {
    "duration": 364,
    "start_time": "2021-11-26T19:47:33.330Z"
   },
   {
    "duration": 10,
    "start_time": "2021-11-26T19:47:34.938Z"
   },
   {
    "duration": 12,
    "start_time": "2021-11-26T19:47:35.152Z"
   },
   {
    "duration": 8,
    "start_time": "2021-11-26T19:47:35.408Z"
   },
   {
    "duration": 7,
    "start_time": "2021-11-26T19:47:35.644Z"
   },
   {
    "duration": 4,
    "start_time": "2021-11-26T19:47:35.902Z"
   },
   {
    "duration": 18,
    "start_time": "2021-11-26T19:47:37.443Z"
   },
   {
    "duration": 25,
    "start_time": "2021-11-26T19:47:37.725Z"
   },
   {
    "duration": 13,
    "start_time": "2021-11-26T19:47:43.973Z"
   },
   {
    "duration": 15,
    "start_time": "2021-11-26T19:47:44.231Z"
   },
   {
    "duration": 21,
    "start_time": "2021-11-26T19:47:44.416Z"
   },
   {
    "duration": 12,
    "start_time": "2021-11-26T19:47:44.632Z"
   },
   {
    "duration": 14,
    "start_time": "2021-11-26T19:47:44.839Z"
   },
   {
    "duration": 19,
    "start_time": "2021-11-26T19:47:45.053Z"
   },
   {
    "duration": 10,
    "start_time": "2021-11-26T19:47:45.241Z"
   },
   {
    "duration": 6,
    "start_time": "2021-11-26T19:47:45.990Z"
   },
   {
    "duration": 6,
    "start_time": "2021-11-26T19:47:46.222Z"
   },
   {
    "duration": 6,
    "start_time": "2021-11-26T19:47:46.427Z"
   },
   {
    "duration": 6,
    "start_time": "2021-11-26T19:47:46.633Z"
   },
   {
    "duration": 6,
    "start_time": "2021-11-26T19:47:47.578Z"
   },
   {
    "duration": 142,
    "start_time": "2021-11-26T19:47:47.858Z"
   },
   {
    "duration": 14,
    "start_time": "2021-11-26T19:47:51.784Z"
   },
   {
    "duration": 10,
    "start_time": "2021-11-26T19:47:52.148Z"
   },
   {
    "duration": 2587,
    "start_time": "2021-11-26T19:48:15.991Z"
   },
   {
    "duration": 12,
    "start_time": "2021-11-26T19:48:19.452Z"
   },
   {
    "duration": 75,
    "start_time": "2021-11-26T19:49:26.863Z"
   },
   {
    "duration": 3,
    "start_time": "2021-11-26T19:49:58.198Z"
   },
   {
    "duration": 4,
    "start_time": "2021-11-26T19:50:03.940Z"
   },
   {
    "duration": 265,
    "start_time": "2021-11-26T19:50:07.094Z"
   },
   {
    "duration": 3,
    "start_time": "2021-11-26T19:50:11.830Z"
   },
   {
    "duration": 397,
    "start_time": "2021-11-26T19:51:07.723Z"
   },
   {
    "duration": 9,
    "start_time": "2021-11-26T19:51:08.122Z"
   },
   {
    "duration": 13,
    "start_time": "2021-11-26T19:51:08.132Z"
   },
   {
    "duration": 9,
    "start_time": "2021-11-26T19:51:08.309Z"
   },
   {
    "duration": 7,
    "start_time": "2021-11-26T19:51:08.488Z"
   },
   {
    "duration": 3,
    "start_time": "2021-11-26T19:51:08.690Z"
   },
   {
    "duration": 18,
    "start_time": "2021-11-26T19:51:09.045Z"
   },
   {
    "duration": 25,
    "start_time": "2021-11-26T19:51:09.223Z"
   },
   {
    "duration": 14,
    "start_time": "2021-11-26T19:51:09.416Z"
   },
   {
    "duration": 18,
    "start_time": "2021-11-26T19:51:09.607Z"
   },
   {
    "duration": 19,
    "start_time": "2021-11-26T19:51:09.800Z"
   },
   {
    "duration": 12,
    "start_time": "2021-11-26T19:51:09.991Z"
   },
   {
    "duration": 13,
    "start_time": "2021-11-26T19:51:10.165Z"
   },
   {
    "duration": 17,
    "start_time": "2021-11-26T19:51:10.354Z"
   },
   {
    "duration": 10,
    "start_time": "2021-11-26T19:51:10.546Z"
   },
   {
    "duration": 7,
    "start_time": "2021-11-26T19:51:10.750Z"
   },
   {
    "duration": 6,
    "start_time": "2021-11-26T19:51:10.926Z"
   },
   {
    "duration": 5,
    "start_time": "2021-11-26T19:51:11.116Z"
   },
   {
    "duration": 6,
    "start_time": "2021-11-26T19:51:11.291Z"
   },
   {
    "duration": 6,
    "start_time": "2021-11-26T19:51:11.495Z"
   },
   {
    "duration": 133,
    "start_time": "2021-11-26T19:51:11.648Z"
   },
   {
    "duration": 13,
    "start_time": "2021-11-26T19:51:14.125Z"
   },
   {
    "duration": 10,
    "start_time": "2021-11-26T19:51:14.338Z"
   },
   {
    "duration": 87,
    "start_time": "2021-11-26T19:51:16.100Z"
   },
   {
    "duration": 2685,
    "start_time": "2021-11-26T19:51:39.362Z"
   },
   {
    "duration": 13,
    "start_time": "2021-11-26T19:51:43.104Z"
   },
   {
    "duration": 377,
    "start_time": "2021-11-26T19:59:26.972Z"
   },
   {
    "duration": 10,
    "start_time": "2021-11-26T19:59:28.447Z"
   },
   {
    "duration": 12,
    "start_time": "2021-11-26T19:59:28.894Z"
   },
   {
    "duration": 9,
    "start_time": "2021-11-26T19:59:29.167Z"
   },
   {
    "duration": 7,
    "start_time": "2021-11-26T19:59:29.414Z"
   },
   {
    "duration": 3,
    "start_time": "2021-11-26T19:59:29.572Z"
   },
   {
    "duration": 18,
    "start_time": "2021-11-26T19:59:29.948Z"
   },
   {
    "duration": 25,
    "start_time": "2021-11-26T19:59:30.140Z"
   },
   {
    "duration": 13,
    "start_time": "2021-11-26T19:59:30.337Z"
   },
   {
    "duration": 16,
    "start_time": "2021-11-26T19:59:30.527Z"
   },
   {
    "duration": 19,
    "start_time": "2021-11-26T19:59:30.743Z"
   },
   {
    "duration": 11,
    "start_time": "2021-11-26T19:59:30.936Z"
   },
   {
    "duration": 13,
    "start_time": "2021-11-26T19:59:31.128Z"
   },
   {
    "duration": 16,
    "start_time": "2021-11-26T19:59:31.367Z"
   },
   {
    "duration": 10,
    "start_time": "2021-11-26T19:59:31.554Z"
   },
   {
    "duration": 6,
    "start_time": "2021-11-26T19:59:31.764Z"
   },
   {
    "duration": 7,
    "start_time": "2021-11-26T19:59:31.998Z"
   },
   {
    "duration": 6,
    "start_time": "2021-11-26T19:59:32.206Z"
   },
   {
    "duration": 6,
    "start_time": "2021-11-26T19:59:33.400Z"
   },
   {
    "duration": 6,
    "start_time": "2021-11-26T19:59:33.634Z"
   },
   {
    "duration": 129,
    "start_time": "2021-11-26T19:59:33.882Z"
   },
   {
    "duration": 14,
    "start_time": "2021-11-26T19:59:36.986Z"
   },
   {
    "duration": 11,
    "start_time": "2021-11-26T19:59:37.267Z"
   },
   {
    "duration": 2499,
    "start_time": "2021-11-26T19:59:38.475Z"
   },
   {
    "duration": 12,
    "start_time": "2021-11-26T19:59:42.140Z"
   },
   {
    "duration": 372,
    "start_time": "2021-11-26T20:01:07.641Z"
   },
   {
    "duration": 9,
    "start_time": "2021-11-26T20:01:08.015Z"
   },
   {
    "duration": 11,
    "start_time": "2021-11-26T20:01:08.027Z"
   },
   {
    "duration": 10,
    "start_time": "2021-11-26T20:01:08.040Z"
   },
   {
    "duration": 6,
    "start_time": "2021-11-26T20:01:08.052Z"
   },
   {
    "duration": 15,
    "start_time": "2021-11-26T20:01:08.060Z"
   },
   {
    "duration": 32,
    "start_time": "2021-11-26T20:01:08.076Z"
   },
   {
    "duration": 26,
    "start_time": "2021-11-26T20:01:08.110Z"
   },
   {
    "duration": 12,
    "start_time": "2021-11-26T20:01:08.138Z"
   },
   {
    "duration": 23,
    "start_time": "2021-11-26T20:01:08.151Z"
   },
   {
    "duration": 24,
    "start_time": "2021-11-26T20:01:08.176Z"
   },
   {
    "duration": 10,
    "start_time": "2021-11-26T20:01:08.202Z"
   },
   {
    "duration": 32,
    "start_time": "2021-11-26T20:01:08.214Z"
   },
   {
    "duration": 42,
    "start_time": "2021-11-26T20:01:08.248Z"
   },
   {
    "duration": 28,
    "start_time": "2021-11-26T20:01:08.291Z"
   },
   {
    "duration": 29,
    "start_time": "2021-11-26T20:01:08.321Z"
   },
   {
    "duration": 41,
    "start_time": "2021-11-26T20:01:08.351Z"
   },
   {
    "duration": 29,
    "start_time": "2021-11-26T20:01:08.394Z"
   },
   {
    "duration": 27,
    "start_time": "2021-11-26T20:01:08.425Z"
   },
   {
    "duration": 30,
    "start_time": "2021-11-26T20:01:08.453Z"
   },
   {
    "duration": 153,
    "start_time": "2021-11-26T20:01:08.484Z"
   },
   {
    "duration": 14,
    "start_time": "2021-11-26T20:01:08.639Z"
   },
   {
    "duration": 9,
    "start_time": "2021-11-26T20:01:08.656Z"
   },
   {
    "duration": 2534,
    "start_time": "2021-11-26T20:01:08.687Z"
   },
   {
    "duration": 11,
    "start_time": "2021-11-26T20:01:11.222Z"
   },
   {
    "duration": 37,
    "start_time": "2021-11-26T20:01:11.234Z"
   },
   {
    "duration": 35,
    "start_time": "2021-11-26T20:01:11.272Z"
   },
   {
    "duration": 18,
    "start_time": "2021-11-26T20:01:11.309Z"
   },
   {
    "duration": 17,
    "start_time": "2021-11-26T20:01:11.329Z"
   },
   {
    "duration": 58,
    "start_time": "2021-11-26T20:01:11.347Z"
   },
   {
    "duration": 3,
    "start_time": "2021-11-26T20:01:11.406Z"
   },
   {
    "duration": 85,
    "start_time": "2021-11-26T20:01:11.411Z"
   },
   {
    "duration": 84,
    "start_time": "2021-11-26T20:08:31.647Z"
   },
   {
    "duration": 3,
    "start_time": "2021-11-26T20:08:45.282Z"
   },
   {
    "duration": 123,
    "start_time": "2021-11-26T20:08:48.859Z"
   },
   {
    "duration": 4,
    "start_time": "2021-11-26T20:21:45.915Z"
   },
   {
    "duration": 165,
    "start_time": "2021-11-26T20:21:48.406Z"
   },
   {
    "duration": 4,
    "start_time": "2021-11-26T20:23:30.146Z"
   },
   {
    "duration": 183,
    "start_time": "2021-11-26T20:23:32.452Z"
   },
   {
    "duration": 411,
    "start_time": "2021-11-27T07:25:32.319Z"
   },
   {
    "duration": 1547,
    "start_time": "2021-11-27T07:25:57.202Z"
   },
   {
    "duration": 16,
    "start_time": "2021-11-27T07:25:58.752Z"
   },
   {
    "duration": 19,
    "start_time": "2021-11-27T07:25:58.772Z"
   },
   {
    "duration": 13,
    "start_time": "2021-11-27T07:25:58.794Z"
   },
   {
    "duration": 15,
    "start_time": "2021-11-27T07:25:58.809Z"
   },
   {
    "duration": 7,
    "start_time": "2021-11-27T07:25:58.826Z"
   },
   {
    "duration": 62,
    "start_time": "2021-11-27T07:25:58.836Z"
   },
   {
    "duration": 45,
    "start_time": "2021-11-27T07:25:58.902Z"
   },
   {
    "duration": 39,
    "start_time": "2021-11-27T07:25:58.951Z"
   },
   {
    "duration": 24,
    "start_time": "2021-11-27T07:25:58.993Z"
   },
   {
    "duration": 35,
    "start_time": "2021-11-27T07:25:59.019Z"
   },
   {
    "duration": 43,
    "start_time": "2021-11-27T07:25:59.056Z"
   },
   {
    "duration": 19,
    "start_time": "2021-11-27T07:25:59.102Z"
   },
   {
    "duration": 58,
    "start_time": "2021-11-27T07:25:59.124Z"
   },
   {
    "duration": 16,
    "start_time": "2021-11-27T07:25:59.185Z"
   },
   {
    "duration": 9,
    "start_time": "2021-11-27T07:25:59.203Z"
   },
   {
    "duration": 13,
    "start_time": "2021-11-27T07:25:59.214Z"
   },
   {
    "duration": 22,
    "start_time": "2021-11-27T07:25:59.230Z"
   },
   {
    "duration": 11,
    "start_time": "2021-11-27T07:25:59.283Z"
   },
   {
    "duration": 15,
    "start_time": "2021-11-27T07:25:59.297Z"
   },
   {
    "duration": 410,
    "start_time": "2021-11-27T07:25:59.315Z"
   },
   {
    "duration": 26,
    "start_time": "2021-11-27T07:25:59.728Z"
   },
   {
    "duration": 33,
    "start_time": "2021-11-27T07:25:59.759Z"
   },
   {
    "duration": 4777,
    "start_time": "2021-11-27T07:25:59.796Z"
   },
   {
    "duration": 23,
    "start_time": "2021-11-27T07:26:04.576Z"
   },
   {
    "duration": 52,
    "start_time": "2021-11-27T07:26:04.602Z"
   },
   {
    "duration": 51,
    "start_time": "2021-11-27T07:26:04.683Z"
   },
   {
    "duration": 56,
    "start_time": "2021-11-27T07:26:04.737Z"
   },
   {
    "duration": 26,
    "start_time": "2021-11-27T07:26:04.795Z"
   },
   {
    "duration": 136,
    "start_time": "2021-11-27T07:26:04.825Z"
   },
   {
    "duration": 10,
    "start_time": "2021-11-27T07:26:04.964Z"
   },
   {
    "duration": 370,
    "start_time": "2021-11-27T07:26:04.982Z"
   },
   {
    "duration": 26,
    "start_time": "2021-11-27T07:26:05.355Z"
   },
   {
    "duration": 408,
    "start_time": "2021-11-27T07:42:05.357Z"
   },
   {
    "duration": 11,
    "start_time": "2021-11-27T07:42:21.502Z"
   },
   {
    "duration": 396,
    "start_time": "2021-11-27T07:42:23.187Z"
   },
   {
    "duration": 308,
    "start_time": "2021-11-27T07:42:45.066Z"
   },
   {
    "duration": 12,
    "start_time": "2021-11-27T07:43:03.341Z"
   },
   {
    "duration": 328,
    "start_time": "2021-11-27T07:43:33.595Z"
   },
   {
    "duration": 769,
    "start_time": "2021-11-27T07:43:37.794Z"
   },
   {
    "duration": 317,
    "start_time": "2021-11-27T07:43:48.547Z"
   },
   {
    "duration": 297,
    "start_time": "2021-11-27T07:48:37.285Z"
   },
   {
    "duration": 750,
    "start_time": "2021-11-27T07:49:28.712Z"
   },
   {
    "duration": 789,
    "start_time": "2021-11-27T07:49:46.122Z"
   },
   {
    "duration": 319,
    "start_time": "2021-11-27T07:52:13.928Z"
   },
   {
    "duration": 7653,
    "start_time": "2021-11-27T07:55:52.313Z"
   },
   {
    "duration": 7060,
    "start_time": "2021-11-27T07:56:15.671Z"
   },
   {
    "duration": 360,
    "start_time": "2021-11-27T07:56:28.473Z"
   },
   {
    "duration": 612,
    "start_time": "2021-11-27T07:56:51.825Z"
   },
   {
    "duration": 302,
    "start_time": "2021-11-27T07:57:59.068Z"
   },
   {
    "duration": 14,
    "start_time": "2021-11-27T08:02:48.714Z"
   },
   {
    "duration": 402,
    "start_time": "2021-11-27T08:02:52.382Z"
   },
   {
    "duration": 19,
    "start_time": "2021-11-27T08:07:21.839Z"
   },
   {
    "duration": 13,
    "start_time": "2021-11-27T08:07:39.766Z"
   },
   {
    "duration": 113,
    "start_time": "2021-11-27T08:07:58.230Z"
   },
   {
    "duration": 360,
    "start_time": "2021-11-27T08:08:04.593Z"
   },
   {
    "duration": 7390,
    "start_time": "2021-11-27T08:16:13.356Z"
   },
   {
    "duration": 7114,
    "start_time": "2021-11-27T08:18:13.437Z"
   },
   {
    "duration": 7985,
    "start_time": "2021-11-27T08:19:35.219Z"
   },
   {
    "duration": 328,
    "start_time": "2021-11-27T08:19:53.448Z"
   },
   {
    "duration": 304,
    "start_time": "2021-11-27T08:23:02.002Z"
   },
   {
    "duration": 26,
    "start_time": "2021-11-27T08:23:58.016Z"
   },
   {
    "duration": 112,
    "start_time": "2021-11-27T08:26:10.867Z"
   },
   {
    "duration": 287,
    "start_time": "2021-11-27T08:26:15.704Z"
   },
   {
    "duration": 82,
    "start_time": "2021-11-27T08:26:46.039Z"
   },
   {
    "duration": 88,
    "start_time": "2021-11-27T08:27:41.480Z"
   },
   {
    "duration": 21,
    "start_time": "2021-11-27T08:27:47.736Z"
   },
   {
    "duration": 462,
    "start_time": "2021-11-27T09:38:33.207Z"
   },
   {
    "duration": 19,
    "start_time": "2021-11-27T09:38:42.786Z"
   },
   {
    "duration": 108,
    "start_time": "2021-11-27T09:39:55.797Z"
   },
   {
    "duration": 327,
    "start_time": "2021-11-27T09:39:59.853Z"
   },
   {
    "duration": 306,
    "start_time": "2021-11-27T09:40:36.276Z"
   },
   {
    "duration": 84,
    "start_time": "2021-11-27T09:40:55.174Z"
   },
   {
    "duration": 30,
    "start_time": "2021-11-27T09:42:53.541Z"
   },
   {
    "duration": 648,
    "start_time": "2021-11-27T09:43:06.772Z"
   },
   {
    "duration": 20,
    "start_time": "2021-11-27T09:43:47.314Z"
   },
   {
    "duration": 450,
    "start_time": "2021-11-27T09:43:51.947Z"
   },
   {
    "duration": 570,
    "start_time": "2021-11-27T09:45:54.902Z"
   },
   {
    "duration": 488,
    "start_time": "2021-11-27T09:46:43.490Z"
   },
   {
    "duration": 818,
    "start_time": "2021-11-27T09:47:09.176Z"
   },
   {
    "duration": 683,
    "start_time": "2021-11-27T09:47:18.226Z"
   },
   {
    "duration": 408,
    "start_time": "2021-11-27T09:47:49.452Z"
   },
   {
    "duration": 720,
    "start_time": "2021-11-27T09:56:10.932Z"
   },
   {
    "duration": 431,
    "start_time": "2021-11-27T09:56:30.663Z"
   },
   {
    "duration": 230,
    "start_time": "2021-11-27T15:55:37.665Z"
   },
   {
    "duration": 251,
    "start_time": "2021-11-27T15:55:47.861Z"
   },
   {
    "duration": 29,
    "start_time": "2021-11-27T16:23:14.694Z"
   },
   {
    "duration": 1097,
    "start_time": "2021-11-27T16:24:16.228Z"
   },
   {
    "duration": 315,
    "start_time": "2021-11-27T16:24:29.287Z"
   },
   {
    "duration": 306,
    "start_time": "2021-11-27T16:24:45.602Z"
   },
   {
    "duration": 343,
    "start_time": "2021-11-27T16:24:56.720Z"
   },
   {
    "duration": 29,
    "start_time": "2021-11-27T16:25:21.233Z"
   },
   {
    "duration": 12,
    "start_time": "2021-11-27T16:31:16.798Z"
   },
   {
    "duration": 717,
    "start_time": "2021-11-27T16:31:48.629Z"
   },
   {
    "duration": 17,
    "start_time": "2021-11-27T16:33:06.449Z"
   },
   {
    "duration": 449,
    "start_time": "2021-11-27T16:33:47.798Z"
   },
   {
    "duration": 9935,
    "start_time": "2021-11-27T16:49:48.618Z"
   },
   {
    "duration": 411,
    "start_time": "2021-11-27T16:50:43.756Z"
   },
   {
    "duration": 1588,
    "start_time": "2021-11-29T12:50:52.498Z"
   },
   {
    "duration": 15,
    "start_time": "2021-11-29T12:50:54.089Z"
   },
   {
    "duration": 24,
    "start_time": "2021-11-29T12:50:54.107Z"
   },
   {
    "duration": 14,
    "start_time": "2021-11-29T12:50:54.134Z"
   },
   {
    "duration": 38,
    "start_time": "2021-11-29T12:50:54.151Z"
   },
   {
    "duration": 14,
    "start_time": "2021-11-29T12:50:54.191Z"
   },
   {
    "duration": 35,
    "start_time": "2021-11-29T12:50:54.207Z"
   },
   {
    "duration": 66,
    "start_time": "2021-11-29T12:50:54.247Z"
   },
   {
    "duration": 20,
    "start_time": "2021-11-29T12:50:54.316Z"
   },
   {
    "duration": 44,
    "start_time": "2021-11-29T12:50:54.339Z"
   },
   {
    "duration": 49,
    "start_time": "2021-11-29T12:50:54.386Z"
   },
   {
    "duration": 46,
    "start_time": "2021-11-29T12:50:54.438Z"
   },
   {
    "duration": 30,
    "start_time": "2021-11-29T12:50:54.487Z"
   },
   {
    "duration": 38,
    "start_time": "2021-11-29T12:50:54.520Z"
   },
   {
    "duration": 22,
    "start_time": "2021-11-29T12:50:54.582Z"
   },
   {
    "duration": 12,
    "start_time": "2021-11-29T12:50:54.607Z"
   },
   {
    "duration": 24,
    "start_time": "2021-11-29T12:50:54.622Z"
   },
   {
    "duration": 16,
    "start_time": "2021-11-29T12:50:54.649Z"
   },
   {
    "duration": 10,
    "start_time": "2021-11-29T12:50:54.683Z"
   },
   {
    "duration": 16,
    "start_time": "2021-11-29T12:50:54.695Z"
   },
   {
    "duration": 274,
    "start_time": "2021-11-29T12:50:54.714Z"
   },
   {
    "duration": 21,
    "start_time": "2021-11-29T12:50:54.990Z"
   },
   {
    "duration": 16,
    "start_time": "2021-11-29T12:50:55.016Z"
   },
   {
    "duration": 4760,
    "start_time": "2021-11-29T12:50:55.035Z"
   },
   {
    "duration": 16,
    "start_time": "2021-11-29T12:50:59.798Z"
   },
   {
    "duration": 43,
    "start_time": "2021-11-29T12:50:59.816Z"
   },
   {
    "duration": 36,
    "start_time": "2021-11-29T12:50:59.882Z"
   },
   {
    "duration": 31,
    "start_time": "2021-11-29T12:50:59.920Z"
   },
   {
    "duration": 52,
    "start_time": "2021-11-29T12:50:59.953Z"
   },
   {
    "duration": 95,
    "start_time": "2021-11-29T12:51:00.008Z"
   },
   {
    "duration": 7,
    "start_time": "2021-11-29T12:51:00.105Z"
   },
   {
    "duration": 359,
    "start_time": "2021-11-29T12:51:00.115Z"
   },
   {
    "duration": 28,
    "start_time": "2021-11-29T12:51:00.476Z"
   },
   {
    "duration": 257,
    "start_time": "2021-11-29T12:51:00.506Z"
   },
   {
    "duration": 30,
    "start_time": "2021-11-29T12:51:00.765Z"
   },
   {
    "duration": 472,
    "start_time": "2021-11-29T12:51:00.797Z"
   },
   {
    "duration": 409,
    "start_time": "2021-11-29T12:51:36.241Z"
   },
   {
    "duration": 460,
    "start_time": "2021-11-29T12:51:52.663Z"
   },
   {
    "duration": 335,
    "start_time": "2021-11-29T12:52:01.495Z"
   },
   {
    "duration": 487,
    "start_time": "2021-11-29T12:52:30.753Z"
   },
   {
    "duration": 347,
    "start_time": "2021-11-29T12:52:50.061Z"
   },
   {
    "duration": 458,
    "start_time": "2021-11-29T12:52:56.384Z"
   },
   {
    "duration": 462,
    "start_time": "2021-11-29T12:53:34.568Z"
   },
   {
    "duration": 559,
    "start_time": "2021-11-29T12:53:46.488Z"
   },
   {
    "duration": 404,
    "start_time": "2021-11-29T12:55:06.018Z"
   },
   {
    "duration": 496,
    "start_time": "2021-11-29T12:55:21.431Z"
   },
   {
    "duration": 397,
    "start_time": "2021-11-29T12:55:42.334Z"
   },
   {
    "duration": 357,
    "start_time": "2021-11-29T12:56:05.847Z"
   },
   {
    "duration": 33,
    "start_time": "2021-11-29T12:57:47.835Z"
   },
   {
    "duration": 500,
    "start_time": "2021-11-29T12:58:25.062Z"
   },
   {
    "duration": 6386,
    "start_time": "2021-11-29T13:00:31.216Z"
   },
   {
    "duration": 8521,
    "start_time": "2021-11-29T13:00:50.888Z"
   },
   {
    "duration": 476,
    "start_time": "2021-11-29T13:02:13.590Z"
   },
   {
    "duration": 7501,
    "start_time": "2021-11-29T13:02:25.084Z"
   },
   {
    "duration": 16340,
    "start_time": "2021-11-29T13:05:51.408Z"
   },
   {
    "duration": 8737,
    "start_time": "2021-11-29T13:06:18.349Z"
   },
   {
    "duration": 8773,
    "start_time": "2021-11-29T13:08:30.337Z"
   },
   {
    "duration": 460,
    "start_time": "2021-11-29T13:08:49.758Z"
   },
   {
    "duration": 457,
    "start_time": "2021-11-29T13:09:18.252Z"
   },
   {
    "duration": 477,
    "start_time": "2021-11-29T13:11:36.137Z"
   },
   {
    "duration": 434,
    "start_time": "2021-11-29T13:12:06.929Z"
   },
   {
    "duration": 447,
    "start_time": "2021-11-29T13:17:45.888Z"
   },
   {
    "duration": 375,
    "start_time": "2021-11-29T13:17:57.481Z"
   },
   {
    "duration": 28,
    "start_time": "2021-11-29T13:18:43.631Z"
   },
   {
    "duration": 251,
    "start_time": "2021-11-29T13:19:10.891Z"
   },
   {
    "duration": 437,
    "start_time": "2021-11-29T13:20:47.215Z"
   },
   {
    "duration": 23,
    "start_time": "2021-11-29T13:24:25.126Z"
   },
   {
    "duration": 381,
    "start_time": "2021-11-29T13:25:06.187Z"
   },
   {
    "duration": 24,
    "start_time": "2021-11-29T13:29:43.722Z"
   },
   {
    "duration": 347,
    "start_time": "2021-11-29T13:29:45.293Z"
   },
   {
    "duration": 23,
    "start_time": "2021-11-29T13:29:47.042Z"
   },
   {
    "duration": 361,
    "start_time": "2021-11-29T13:29:49.643Z"
   },
   {
    "duration": 8,
    "start_time": "2021-11-29T13:44:05.464Z"
   },
   {
    "duration": 123,
    "start_time": "2021-11-29T13:45:40.201Z"
   },
   {
    "duration": 325,
    "start_time": "2021-11-29T13:45:50.035Z"
   },
   {
    "duration": 6,
    "start_time": "2021-11-29T13:46:39.996Z"
   },
   {
    "duration": 5,
    "start_time": "2021-11-29T13:47:07.253Z"
   },
   {
    "duration": 5,
    "start_time": "2021-11-29T13:49:30.838Z"
   },
   {
    "duration": 9,
    "start_time": "2021-11-29T13:49:45.987Z"
   },
   {
    "duration": 3,
    "start_time": "2021-11-29T13:50:41.585Z"
   },
   {
    "duration": 7,
    "start_time": "2021-11-29T13:50:52.832Z"
   },
   {
    "duration": 5,
    "start_time": "2021-11-29T13:51:34.825Z"
   },
   {
    "duration": 8417,
    "start_time": "2021-11-29T13:52:09.831Z"
   },
   {
    "duration": 354,
    "start_time": "2021-11-29T13:52:40.211Z"
   },
   {
    "duration": 8163,
    "start_time": "2021-11-29T13:53:12.916Z"
   },
   {
    "duration": 5,
    "start_time": "2021-11-29T13:55:05.496Z"
   },
   {
    "duration": 302,
    "start_time": "2021-11-29T13:55:28.179Z"
   },
   {
    "duration": 413,
    "start_time": "2021-11-29T13:56:22.454Z"
   },
   {
    "duration": 7,
    "start_time": "2021-11-29T13:58:31.375Z"
   },
   {
    "duration": 112,
    "start_time": "2021-11-29T14:01:59.365Z"
   },
   {
    "duration": 132,
    "start_time": "2021-11-29T14:02:17.757Z"
   },
   {
    "duration": 115,
    "start_time": "2021-11-29T14:02:48.746Z"
   },
   {
    "duration": 6,
    "start_time": "2021-11-29T14:03:00.023Z"
   },
   {
    "duration": 7,
    "start_time": "2021-11-29T14:03:16.593Z"
   },
   {
    "duration": 5,
    "start_time": "2021-11-29T14:05:23.471Z"
   },
   {
    "duration": 4,
    "start_time": "2021-11-29T14:05:35.913Z"
   },
   {
    "duration": 364,
    "start_time": "2021-11-29T14:06:38.344Z"
   },
   {
    "duration": 19,
    "start_time": "2021-11-29T14:07:01.341Z"
   },
   {
    "duration": 402,
    "start_time": "2021-11-29T14:09:17.515Z"
   },
   {
    "duration": 17,
    "start_time": "2021-11-29T14:09:27.489Z"
   },
   {
    "duration": 44,
    "start_time": "2021-11-29T14:10:41.199Z"
   },
   {
    "duration": 313,
    "start_time": "2021-11-29T14:14:29.147Z"
   },
   {
    "duration": 345,
    "start_time": "2021-11-29T14:14:43.305Z"
   },
   {
    "duration": 337,
    "start_time": "2021-11-29T14:15:00.213Z"
   },
   {
    "duration": 377,
    "start_time": "2021-11-29T14:16:13.810Z"
   },
   {
    "duration": 17,
    "start_time": "2021-11-29T14:16:37.347Z"
   },
   {
    "duration": 568,
    "start_time": "2021-11-29T14:16:56.661Z"
   },
   {
    "duration": 14,
    "start_time": "2021-11-29T14:17:22.173Z"
   },
   {
    "duration": 351,
    "start_time": "2021-11-29T14:18:13.057Z"
   },
   {
    "duration": 104,
    "start_time": "2021-11-29T14:18:23.714Z"
   },
   {
    "duration": 14,
    "start_time": "2021-11-29T14:18:35.315Z"
   },
   {
    "duration": 321,
    "start_time": "2021-11-29T14:19:08.815Z"
   },
   {
    "duration": 14,
    "start_time": "2021-11-29T14:19:40.923Z"
   },
   {
    "duration": 5,
    "start_time": "2021-11-29T14:32:46.460Z"
   },
   {
    "duration": 5,
    "start_time": "2021-11-29T14:32:47.523Z"
   },
   {
    "duration": 352,
    "start_time": "2021-11-29T14:34:15.756Z"
   },
   {
    "duration": 364,
    "start_time": "2021-11-29T14:34:52.556Z"
   },
   {
    "duration": 400,
    "start_time": "2021-11-29T14:35:21.710Z"
   },
   {
    "duration": 15,
    "start_time": "2021-11-29T14:35:30.060Z"
   },
   {
    "duration": 14,
    "start_time": "2021-11-29T14:35:35.548Z"
   },
   {
    "duration": 6,
    "start_time": "2021-11-29T14:36:00.377Z"
   },
   {
    "duration": 330,
    "start_time": "2021-11-29T14:36:07.203Z"
   },
   {
    "duration": 14,
    "start_time": "2021-11-29T14:37:08.747Z"
   },
   {
    "duration": 7,
    "start_time": "2021-11-29T14:37:58.113Z"
   },
   {
    "duration": 7,
    "start_time": "2021-11-29T14:38:01.886Z"
   },
   {
    "duration": 14,
    "start_time": "2021-11-29T14:38:05.413Z"
   },
   {
    "duration": 15,
    "start_time": "2021-11-29T14:38:25.602Z"
   },
   {
    "duration": 5,
    "start_time": "2021-11-29T14:38:48.816Z"
   },
   {
    "duration": 6,
    "start_time": "2021-11-29T14:42:55.849Z"
   },
   {
    "duration": 4,
    "start_time": "2021-11-29T14:42:57.706Z"
   },
   {
    "duration": 4,
    "start_time": "2021-11-29T14:44:07.077Z"
   },
   {
    "duration": 7,
    "start_time": "2021-11-29T14:44:46.214Z"
   },
   {
    "duration": 5,
    "start_time": "2021-11-29T14:45:05.877Z"
   },
   {
    "duration": 6,
    "start_time": "2021-11-29T15:11:56.769Z"
   },
   {
    "duration": 5,
    "start_time": "2021-11-29T15:12:52.664Z"
   },
   {
    "duration": 14,
    "start_time": "2021-11-29T15:14:12.388Z"
   },
   {
    "duration": 5,
    "start_time": "2021-11-29T15:15:03.756Z"
   },
   {
    "duration": 4,
    "start_time": "2021-11-29T15:15:06.231Z"
   },
   {
    "duration": 14,
    "start_time": "2021-11-29T15:16:47.769Z"
   },
   {
    "duration": 7,
    "start_time": "2021-11-29T15:17:25.522Z"
   },
   {
    "duration": 4,
    "start_time": "2021-11-29T15:17:26.569Z"
   },
   {
    "duration": 103,
    "start_time": "2021-11-29T15:18:32.511Z"
   },
   {
    "duration": 118,
    "start_time": "2021-11-29T15:18:40.581Z"
   },
   {
    "duration": 385,
    "start_time": "2021-11-29T15:18:59.371Z"
   },
   {
    "duration": 6,
    "start_time": "2021-11-29T15:19:06.795Z"
   },
   {
    "duration": 4,
    "start_time": "2021-11-29T15:20:05.883Z"
   },
   {
    "duration": 6,
    "start_time": "2021-11-29T15:20:30.092Z"
   },
   {
    "duration": 5,
    "start_time": "2021-11-29T15:20:39.813Z"
   },
   {
    "duration": 5,
    "start_time": "2021-11-29T15:21:16.920Z"
   },
   {
    "duration": 5,
    "start_time": "2021-11-29T15:21:24.810Z"
   },
   {
    "duration": 5,
    "start_time": "2021-11-29T15:21:32.795Z"
   },
   {
    "duration": 6,
    "start_time": "2021-11-29T15:21:39.727Z"
   },
   {
    "duration": 5,
    "start_time": "2021-11-29T15:21:52.451Z"
   },
   {
    "duration": 6,
    "start_time": "2021-11-29T15:24:39.556Z"
   },
   {
    "duration": 4,
    "start_time": "2021-11-29T15:24:40.758Z"
   },
   {
    "duration": 14,
    "start_time": "2021-11-29T15:27:11.946Z"
   },
   {
    "duration": 9722,
    "start_time": "2021-11-29T15:27:16.406Z"
   },
   {
    "duration": 14,
    "start_time": "2021-11-29T15:27:48.697Z"
   },
   {
    "duration": 6,
    "start_time": "2021-11-29T15:27:51.619Z"
   },
   {
    "duration": 6,
    "start_time": "2021-11-29T15:27:56.306Z"
   },
   {
    "duration": 14,
    "start_time": "2021-11-29T15:29:57.360Z"
   },
   {
    "duration": 5,
    "start_time": "2021-11-29T15:29:59.960Z"
   },
   {
    "duration": 5,
    "start_time": "2021-11-29T15:30:00.841Z"
   },
   {
    "duration": 7,
    "start_time": "2021-11-29T15:39:47.011Z"
   },
   {
    "duration": 5,
    "start_time": "2021-11-29T15:39:55.070Z"
   },
   {
    "duration": 121,
    "start_time": "2021-11-30T13:24:25.666Z"
   },
   {
    "duration": 4,
    "start_time": "2021-11-30T13:25:25.130Z"
   },
   {
    "duration": 3044,
    "start_time": "2021-11-30T20:36:00.530Z"
   },
   {
    "duration": 23,
    "start_time": "2021-11-30T20:36:03.578Z"
   },
   {
    "duration": 25,
    "start_time": "2021-11-30T20:36:03.605Z"
   },
   {
    "duration": 42,
    "start_time": "2021-11-30T20:36:03.633Z"
   },
   {
    "duration": 19,
    "start_time": "2021-11-30T20:36:03.677Z"
   },
   {
    "duration": 9,
    "start_time": "2021-11-30T20:36:03.698Z"
   },
   {
    "duration": 63,
    "start_time": "2021-11-30T20:36:03.709Z"
   },
   {
    "duration": 41,
    "start_time": "2021-11-30T20:36:03.775Z"
   },
   {
    "duration": 51,
    "start_time": "2021-11-30T20:36:03.820Z"
   },
   {
    "duration": 29,
    "start_time": "2021-11-30T20:36:03.874Z"
   },
   {
    "duration": 33,
    "start_time": "2021-11-30T20:36:03.906Z"
   },
   {
    "duration": 23,
    "start_time": "2021-11-30T20:36:03.968Z"
   },
   {
    "duration": 25,
    "start_time": "2021-11-30T20:36:03.993Z"
   },
   {
    "duration": 62,
    "start_time": "2021-11-30T20:36:04.020Z"
   },
   {
    "duration": 20,
    "start_time": "2021-11-30T20:36:04.084Z"
   },
   {
    "duration": 13,
    "start_time": "2021-11-30T20:36:04.106Z"
   },
   {
    "duration": 47,
    "start_time": "2021-11-30T20:36:04.121Z"
   },
   {
    "duration": 12,
    "start_time": "2021-11-30T20:36:04.170Z"
   },
   {
    "duration": 11,
    "start_time": "2021-11-30T20:36:04.184Z"
   },
   {
    "duration": 18,
    "start_time": "2021-11-30T20:36:04.198Z"
   },
   {
    "duration": 263,
    "start_time": "2021-11-30T20:36:04.219Z"
   },
   {
    "duration": 28,
    "start_time": "2021-11-30T20:36:04.485Z"
   },
   {
    "duration": 23,
    "start_time": "2021-11-30T20:36:04.516Z"
   },
   {
    "duration": 4815,
    "start_time": "2021-11-30T20:36:04.569Z"
   },
   {
    "duration": 16,
    "start_time": "2021-11-30T20:36:09.386Z"
   },
   {
    "duration": 194,
    "start_time": "2021-11-30T20:36:09.405Z"
   },
   {
    "duration": 29,
    "start_time": "2021-11-30T20:36:09.605Z"
   },
   {
    "duration": 46,
    "start_time": "2021-11-30T20:36:09.637Z"
   },
   {
    "duration": 24,
    "start_time": "2021-11-30T20:36:09.686Z"
   },
   {
    "duration": 84,
    "start_time": "2021-11-30T20:36:09.713Z"
   },
   {
    "duration": 7,
    "start_time": "2021-11-30T20:36:09.799Z"
   },
   {
    "duration": 232,
    "start_time": "2021-11-30T20:36:09.808Z"
   },
   {
    "duration": 32,
    "start_time": "2021-11-30T20:36:10.042Z"
   },
   {
    "duration": 2877,
    "start_time": "2021-11-30T20:36:10.076Z"
   },
   {
    "duration": 25,
    "start_time": "2021-11-30T20:36:12.956Z"
   },
   {
    "duration": 489,
    "start_time": "2021-11-30T20:36:12.983Z"
   },
   {
    "duration": 6,
    "start_time": "2021-11-30T20:36:13.474Z"
   },
   {
    "duration": 13,
    "start_time": "2021-11-30T20:36:13.482Z"
   },
   {
    "duration": 19,
    "start_time": "2021-11-30T20:36:13.497Z"
   },
   {
    "duration": 8,
    "start_time": "2021-11-30T20:36:13.519Z"
   },
   {
    "duration": 39,
    "start_time": "2021-11-30T20:36:13.530Z"
   },
   {
    "duration": 19,
    "start_time": "2021-11-30T20:36:13.572Z"
   },
   {
    "duration": 8,
    "start_time": "2021-11-30T20:36:13.594Z"
   },
   {
    "duration": 13,
    "start_time": "2021-11-30T20:36:13.604Z"
   },
   {
    "duration": 48,
    "start_time": "2021-11-30T20:36:13.620Z"
   },
   {
    "duration": 358,
    "start_time": "2021-11-30T20:36:13.671Z"
   },
   {
    "duration": 14,
    "start_time": "2021-11-30T20:36:14.032Z"
   },
   {
    "duration": 518,
    "start_time": "2021-11-30T20:36:14.049Z"
   },
   {
    "duration": 6,
    "start_time": "2021-11-30T20:36:14.570Z"
   },
   {
    "duration": 14,
    "start_time": "2021-11-30T20:36:14.579Z"
   },
   {
    "duration": 19,
    "start_time": "2021-11-30T20:36:14.596Z"
   },
   {
    "duration": 7,
    "start_time": "2021-11-30T20:36:14.618Z"
   },
   {
    "duration": 40,
    "start_time": "2021-11-30T20:36:14.628Z"
   },
   {
    "duration": 24,
    "start_time": "2021-11-30T20:36:14.670Z"
   },
   {
    "duration": 16,
    "start_time": "2021-11-30T20:36:14.696Z"
   },
   {
    "duration": 16,
    "start_time": "2021-11-30T20:36:14.715Z"
   },
   {
    "duration": 46,
    "start_time": "2021-11-30T20:36:14.734Z"
   },
   {
    "duration": 320,
    "start_time": "2021-11-30T20:36:14.783Z"
   },
   {
    "duration": 19,
    "start_time": "2021-11-30T20:36:15.105Z"
   },
   {
    "duration": 425,
    "start_time": "2021-11-30T20:36:15.127Z"
   },
   {
    "duration": 14,
    "start_time": "2021-11-30T20:36:15.554Z"
   },
   {
    "duration": 375,
    "start_time": "2021-11-30T20:36:15.577Z"
   },
   {
    "duration": 27,
    "start_time": "2021-11-30T20:36:15.954Z"
   },
   {
    "duration": 11,
    "start_time": "2021-11-30T20:36:15.984Z"
   },
   {
    "duration": 8,
    "start_time": "2021-11-30T20:36:15.997Z"
   },
   {
    "duration": 17,
    "start_time": "2021-11-30T20:36:16.008Z"
   },
   {
    "duration": 28,
    "start_time": "2021-11-30T20:36:16.028Z"
   },
   {
    "duration": 12,
    "start_time": "2021-11-30T20:36:16.058Z"
   },
   {
    "duration": 25,
    "start_time": "2021-11-30T20:36:16.073Z"
   },
   {
    "duration": 20,
    "start_time": "2021-11-30T20:36:16.101Z"
   },
   {
    "duration": 53,
    "start_time": "2021-11-30T20:36:16.124Z"
   },
   {
    "duration": 28,
    "start_time": "2021-11-30T20:36:16.180Z"
   },
   {
    "duration": 27,
    "start_time": "2021-11-30T20:36:16.210Z"
   },
   {
    "duration": 13,
    "start_time": "2021-11-30T20:36:16.268Z"
   },
   {
    "duration": 29,
    "start_time": "2021-11-30T20:40:52.142Z"
   },
   {
    "duration": 98,
    "start_time": "2021-12-03T13:48:20.248Z"
   },
   {
    "duration": 2722,
    "start_time": "2021-12-03T15:03:54.943Z"
   },
   {
    "duration": 21,
    "start_time": "2021-12-03T15:03:57.669Z"
   },
   {
    "duration": 23,
    "start_time": "2021-12-03T15:03:57.693Z"
   },
   {
    "duration": 14,
    "start_time": "2021-12-03T15:03:57.719Z"
   },
   {
    "duration": 57,
    "start_time": "2021-12-03T15:03:57.735Z"
   },
   {
    "duration": 9,
    "start_time": "2021-12-03T15:03:57.796Z"
   },
   {
    "duration": 79,
    "start_time": "2021-12-03T15:03:57.807Z"
   },
   {
    "duration": 58,
    "start_time": "2021-12-03T15:03:57.891Z"
   },
   {
    "duration": 43,
    "start_time": "2021-12-03T15:03:57.953Z"
   },
   {
    "duration": 28,
    "start_time": "2021-12-03T15:03:57.999Z"
   },
   {
    "duration": 83,
    "start_time": "2021-12-03T15:03:58.030Z"
   },
   {
    "duration": 22,
    "start_time": "2021-12-03T15:03:58.116Z"
   },
   {
    "duration": 49,
    "start_time": "2021-12-03T15:03:58.140Z"
   },
   {
    "duration": 27,
    "start_time": "2021-12-03T15:03:58.192Z"
   },
   {
    "duration": 14,
    "start_time": "2021-12-03T15:03:58.221Z"
   },
   {
    "duration": 51,
    "start_time": "2021-12-03T15:03:58.237Z"
   },
   {
    "duration": 11,
    "start_time": "2021-12-03T15:03:58.291Z"
   },
   {
    "duration": 10,
    "start_time": "2021-12-03T15:03:58.305Z"
   },
   {
    "duration": 10,
    "start_time": "2021-12-03T15:03:58.318Z"
   },
   {
    "duration": 415,
    "start_time": "2021-12-03T15:03:58.331Z"
   },
   {
    "duration": 38,
    "start_time": "2021-12-03T15:03:58.749Z"
   },
   {
    "duration": 23,
    "start_time": "2021-12-03T15:03:58.790Z"
   },
   {
    "duration": 69,
    "start_time": "2021-12-03T15:03:58.819Z"
   },
   {
    "duration": 18,
    "start_time": "2021-12-03T15:03:58.892Z"
   },
   {
    "duration": 73,
    "start_time": "2021-12-03T15:03:58.912Z"
   },
   {
    "duration": 39,
    "start_time": "2021-12-03T15:03:58.987Z"
   },
   {
    "duration": 70,
    "start_time": "2021-12-03T15:03:59.029Z"
   },
   {
    "duration": 26,
    "start_time": "2021-12-03T15:03:59.101Z"
   },
   {
    "duration": 111,
    "start_time": "2021-12-03T15:03:59.129Z"
   },
   {
    "duration": 6,
    "start_time": "2021-12-03T15:03:59.242Z"
   },
   {
    "duration": 388,
    "start_time": "2021-12-03T15:03:59.251Z"
   },
   {
    "duration": 40,
    "start_time": "2021-12-03T15:03:59.641Z"
   },
   {
    "duration": 236,
    "start_time": "2021-12-03T15:03:59.684Z"
   },
   {
    "duration": 16,
    "start_time": "2021-12-03T15:03:59.923Z"
   },
   {
    "duration": 401,
    "start_time": "2021-12-03T15:03:59.942Z"
   },
   {
    "duration": 5,
    "start_time": "2021-12-03T15:04:00.345Z"
   },
   {
    "duration": 30,
    "start_time": "2021-12-03T15:04:00.353Z"
   },
   {
    "duration": 27,
    "start_time": "2021-12-03T15:04:00.386Z"
   },
   {
    "duration": 5,
    "start_time": "2021-12-03T15:04:00.416Z"
   },
   {
    "duration": 18,
    "start_time": "2021-12-03T15:04:00.424Z"
   },
   {
    "duration": 44,
    "start_time": "2021-12-03T15:04:00.445Z"
   },
   {
    "duration": 15,
    "start_time": "2021-12-03T15:04:00.492Z"
   },
   {
    "duration": 21,
    "start_time": "2021-12-03T15:04:00.510Z"
   },
   {
    "duration": 29,
    "start_time": "2021-12-03T15:04:00.534Z"
   },
   {
    "duration": 243,
    "start_time": "2021-12-03T15:04:00.592Z"
   },
   {
    "duration": 17,
    "start_time": "2021-12-03T15:04:00.837Z"
   },
   {
    "duration": 415,
    "start_time": "2021-12-03T15:04:00.856Z"
   },
   {
    "duration": 11,
    "start_time": "2021-12-03T15:04:01.273Z"
   },
   {
    "duration": 23,
    "start_time": "2021-12-03T15:04:01.287Z"
   },
   {
    "duration": 39,
    "start_time": "2021-12-03T15:04:01.313Z"
   },
   {
    "duration": 21,
    "start_time": "2021-12-03T15:04:01.354Z"
   },
   {
    "duration": 52,
    "start_time": "2021-12-03T15:04:01.378Z"
   },
   {
    "duration": 46,
    "start_time": "2021-12-03T15:04:01.433Z"
   },
   {
    "duration": 28,
    "start_time": "2021-12-03T15:04:01.482Z"
   },
   {
    "duration": 21,
    "start_time": "2021-12-03T15:04:01.513Z"
   },
   {
    "duration": 36,
    "start_time": "2021-12-03T15:04:01.536Z"
   },
   {
    "duration": 256,
    "start_time": "2021-12-03T15:04:01.574Z"
   },
   {
    "duration": 17,
    "start_time": "2021-12-03T15:04:01.832Z"
   },
   {
    "duration": 405,
    "start_time": "2021-12-03T15:04:01.851Z"
   },
   {
    "duration": 5,
    "start_time": "2021-12-03T15:04:02.259Z"
   },
   {
    "duration": 18,
    "start_time": "2021-12-03T15:04:02.266Z"
   },
   {
    "duration": 17,
    "start_time": "2021-12-03T15:04:02.287Z"
   },
   {
    "duration": 7,
    "start_time": "2021-12-03T15:04:02.306Z"
   },
   {
    "duration": 7,
    "start_time": "2021-12-03T15:04:02.316Z"
   },
   {
    "duration": 79,
    "start_time": "2021-12-03T15:04:02.326Z"
   },
   {
    "duration": 12,
    "start_time": "2021-12-03T15:04:02.408Z"
   },
   {
    "duration": 8,
    "start_time": "2021-12-03T15:04:02.423Z"
   },
   {
    "duration": 37,
    "start_time": "2021-12-03T15:04:02.485Z"
   },
   {
    "duration": 57,
    "start_time": "2021-12-03T15:04:02.525Z"
   },
   {
    "duration": 12,
    "start_time": "2021-12-03T15:04:02.585Z"
   },
   {
    "duration": 89,
    "start_time": "2021-12-03T15:04:02.599Z"
   },
   {
    "duration": 36,
    "start_time": "2021-12-03T15:04:02.691Z"
   },
   {
    "duration": 19,
    "start_time": "2021-12-03T15:04:02.730Z"
   },
   {
    "duration": 9,
    "start_time": "2021-12-03T15:12:46.727Z"
   },
   {
    "duration": 428,
    "start_time": "2021-12-03T15:23:35.986Z"
   },
   {
    "duration": 282,
    "start_time": "2021-12-03T15:23:45.286Z"
   },
   {
    "duration": 797,
    "start_time": "2021-12-03T15:23:57.565Z"
   },
   {
    "duration": 21,
    "start_time": "2021-12-03T15:23:58.366Z"
   },
   {
    "duration": 29,
    "start_time": "2021-12-03T15:23:58.391Z"
   },
   {
    "duration": 20,
    "start_time": "2021-12-03T15:23:58.424Z"
   },
   {
    "duration": 17,
    "start_time": "2021-12-03T15:23:58.481Z"
   },
   {
    "duration": 4,
    "start_time": "2021-12-03T15:23:58.501Z"
   },
   {
    "duration": 75,
    "start_time": "2021-12-03T15:23:58.507Z"
   },
   {
    "duration": 39,
    "start_time": "2021-12-03T15:23:58.586Z"
   },
   {
    "duration": 21,
    "start_time": "2021-12-03T15:23:58.628Z"
   },
   {
    "duration": 23,
    "start_time": "2021-12-03T15:23:58.683Z"
   },
   {
    "duration": 31,
    "start_time": "2021-12-03T15:23:58.708Z"
   },
   {
    "duration": 63,
    "start_time": "2021-12-03T15:23:58.742Z"
   },
   {
    "duration": 29,
    "start_time": "2021-12-03T15:23:58.808Z"
   },
   {
    "duration": 80,
    "start_time": "2021-12-03T15:23:58.841Z"
   },
   {
    "duration": 23,
    "start_time": "2021-12-03T15:23:58.924Z"
   },
   {
    "duration": 41,
    "start_time": "2021-12-03T15:23:58.949Z"
   },
   {
    "duration": 17,
    "start_time": "2021-12-03T15:23:58.992Z"
   },
   {
    "duration": 15,
    "start_time": "2021-12-03T15:23:59.011Z"
   },
   {
    "duration": 56,
    "start_time": "2021-12-03T15:23:59.029Z"
   },
   {
    "duration": 276,
    "start_time": "2021-12-03T15:23:59.087Z"
   },
   {
    "duration": 29,
    "start_time": "2021-12-03T15:23:59.365Z"
   },
   {
    "duration": 17,
    "start_time": "2021-12-03T15:23:59.396Z"
   },
   {
    "duration": 75,
    "start_time": "2021-12-03T15:23:59.420Z"
   },
   {
    "duration": 22,
    "start_time": "2021-12-03T15:23:59.498Z"
   },
   {
    "duration": 72,
    "start_time": "2021-12-03T15:23:59.523Z"
   },
   {
    "duration": 34,
    "start_time": "2021-12-03T15:23:59.599Z"
   },
   {
    "duration": 62,
    "start_time": "2021-12-03T15:23:59.636Z"
   },
   {
    "duration": 27,
    "start_time": "2021-12-03T15:23:59.700Z"
   },
   {
    "duration": 3,
    "start_time": "2021-12-03T15:23:59.729Z"
   },
   {
    "duration": 628,
    "start_time": "2021-12-03T15:24:12.923Z"
   },
   {
    "duration": -261,
    "start_time": "2021-12-03T15:24:13.821Z"
   },
   {
    "duration": -277,
    "start_time": "2021-12-03T15:24:13.839Z"
   },
   {
    "duration": -287,
    "start_time": "2021-12-03T15:24:13.851Z"
   },
   {
    "duration": -300,
    "start_time": "2021-12-03T15:24:13.866Z"
   },
   {
    "duration": -369,
    "start_time": "2021-12-03T15:24:13.937Z"
   },
   {
    "duration": -389,
    "start_time": "2021-12-03T15:24:13.960Z"
   },
   {
    "duration": -411,
    "start_time": "2021-12-03T15:24:13.984Z"
   },
   {
    "duration": -437,
    "start_time": "2021-12-03T15:24:14.012Z"
   },
   {
    "duration": -451,
    "start_time": "2021-12-03T15:24:14.029Z"
   },
   {
    "duration": -503,
    "start_time": "2021-12-03T15:24:14.082Z"
   },
   {
    "duration": -515,
    "start_time": "2021-12-03T15:24:14.097Z"
   },
   {
    "duration": -532,
    "start_time": "2021-12-03T15:24:14.116Z"
   },
   {
    "duration": -544,
    "start_time": "2021-12-03T15:24:14.130Z"
   },
   {
    "duration": -557,
    "start_time": "2021-12-03T15:24:14.144Z"
   },
   {
    "duration": -570,
    "start_time": "2021-12-03T15:24:14.158Z"
   },
   {
    "duration": -609,
    "start_time": "2021-12-03T15:24:14.199Z"
   },
   {
    "duration": -619,
    "start_time": "2021-12-03T15:24:14.211Z"
   },
   {
    "duration": -627,
    "start_time": "2021-12-03T15:24:14.221Z"
   },
   {
    "duration": -637,
    "start_time": "2021-12-03T15:24:14.232Z"
   },
   {
    "duration": -646,
    "start_time": "2021-12-03T15:24:14.242Z"
   },
   {
    "duration": -655,
    "start_time": "2021-12-03T15:24:14.253Z"
   },
   {
    "duration": -663,
    "start_time": "2021-12-03T15:24:14.263Z"
   },
   {
    "duration": -672,
    "start_time": "2021-12-03T15:24:14.274Z"
   },
   {
    "duration": -681,
    "start_time": "2021-12-03T15:24:14.284Z"
   },
   {
    "duration": -709,
    "start_time": "2021-12-03T15:24:14.314Z"
   },
   {
    "duration": -720,
    "start_time": "2021-12-03T15:24:14.327Z"
   },
   {
    "duration": -730,
    "start_time": "2021-12-03T15:24:14.339Z"
   },
   {
    "duration": -737,
    "start_time": "2021-12-03T15:24:14.348Z"
   },
   {
    "duration": -747,
    "start_time": "2021-12-03T15:24:14.359Z"
   },
   {
    "duration": -756,
    "start_time": "2021-12-03T15:24:14.370Z"
   },
   {
    "duration": -766,
    "start_time": "2021-12-03T15:24:14.382Z"
   },
   {
    "duration": -776,
    "start_time": "2021-12-03T15:24:14.393Z"
   },
   {
    "duration": -786,
    "start_time": "2021-12-03T15:24:14.405Z"
   },
   {
    "duration": -812,
    "start_time": "2021-12-03T15:24:14.432Z"
   },
   {
    "duration": -763,
    "start_time": "2021-12-03T15:24:14.444Z"
   },
   {
    "duration": -786,
    "start_time": "2021-12-03T15:24:14.469Z"
   },
   {
    "duration": -794,
    "start_time": "2021-12-03T15:24:14.478Z"
   },
   {
    "duration": -800,
    "start_time": "2021-12-03T15:24:14.486Z"
   },
   {
    "duration": -808,
    "start_time": "2021-12-03T15:24:14.496Z"
   },
   {
    "duration": -816,
    "start_time": "2021-12-03T15:24:14.505Z"
   },
   {
    "duration": -826,
    "start_time": "2021-12-03T15:24:14.516Z"
   },
   {
    "duration": -833,
    "start_time": "2021-12-03T15:24:14.525Z"
   },
   {
    "duration": -866,
    "start_time": "2021-12-03T15:24:14.559Z"
   },
   {
    "duration": -875,
    "start_time": "2021-12-03T15:24:14.570Z"
   },
   {
    "duration": -886,
    "start_time": "2021-12-03T15:24:14.582Z"
   },
   {
    "duration": 509,
    "start_time": "2021-12-03T15:24:48.430Z"
   },
   {
    "duration": -181,
    "start_time": "2021-12-03T15:24:49.127Z"
   },
   {
    "duration": -190,
    "start_time": "2021-12-03T15:24:49.137Z"
   },
   {
    "duration": -200,
    "start_time": "2021-12-03T15:24:49.150Z"
   },
   {
    "duration": -211,
    "start_time": "2021-12-03T15:24:49.163Z"
   },
   {
    "duration": -228,
    "start_time": "2021-12-03T15:24:49.182Z"
   },
   {
    "duration": -239,
    "start_time": "2021-12-03T15:24:49.195Z"
   },
   {
    "duration": -299,
    "start_time": "2021-12-03T15:24:49.257Z"
   },
   {
    "duration": -306,
    "start_time": "2021-12-03T15:24:49.266Z"
   },
   {
    "duration": -319,
    "start_time": "2021-12-03T15:24:49.281Z"
   },
   {
    "duration": -330,
    "start_time": "2021-12-03T15:24:49.294Z"
   },
   {
    "duration": -339,
    "start_time": "2021-12-03T15:24:49.305Z"
   },
   {
    "duration": -352,
    "start_time": "2021-12-03T15:24:49.320Z"
   },
   {
    "duration": -376,
    "start_time": "2021-12-03T15:24:49.346Z"
   },
   {
    "duration": -414,
    "start_time": "2021-12-03T15:24:49.386Z"
   },
   {
    "duration": -425,
    "start_time": "2021-12-03T15:24:49.400Z"
   },
   {
    "duration": -458,
    "start_time": "2021-12-03T15:24:49.435Z"
   },
   {
    "duration": -546,
    "start_time": "2021-12-03T15:24:49.528Z"
   },
   {
    "duration": -563,
    "start_time": "2021-12-03T15:24:49.547Z"
   },
   {
    "duration": -585,
    "start_time": "2021-12-03T15:24:49.572Z"
   },
   {
    "duration": -628,
    "start_time": "2021-12-03T15:24:49.617Z"
   },
   {
    "duration": -674,
    "start_time": "2021-12-03T15:24:49.665Z"
   },
   {
    "duration": -683,
    "start_time": "2021-12-03T15:24:49.676Z"
   },
   {
    "duration": -700,
    "start_time": "2021-12-03T15:24:49.695Z"
   },
   {
    "duration": -709,
    "start_time": "2021-12-03T15:24:49.706Z"
   },
   {
    "duration": -719,
    "start_time": "2021-12-03T15:24:49.718Z"
   },
   {
    "duration": -732,
    "start_time": "2021-12-03T15:24:49.732Z"
   },
   {
    "duration": -752,
    "start_time": "2021-12-03T15:24:49.754Z"
   },
   {
    "duration": -785,
    "start_time": "2021-12-03T15:24:49.789Z"
   },
   {
    "duration": -796,
    "start_time": "2021-12-03T15:24:49.802Z"
   },
   {
    "duration": -986,
    "start_time": "2021-12-03T15:24:49.995Z"
   },
   {
    "duration": -994,
    "start_time": "2021-12-03T15:24:50.005Z"
   },
   {
    "duration": -1002,
    "start_time": "2021-12-03T15:24:50.015Z"
   },
   {
    "duration": -1011,
    "start_time": "2021-12-03T15:24:50.025Z"
   },
   {
    "duration": -1018,
    "start_time": "2021-12-03T15:24:50.034Z"
   },
   {
    "duration": -1027,
    "start_time": "2021-12-03T15:24:50.045Z"
   },
   {
    "duration": -1034,
    "start_time": "2021-12-03T15:24:50.054Z"
   },
   {
    "duration": -1043,
    "start_time": "2021-12-03T15:24:50.065Z"
   },
   {
    "duration": -1050,
    "start_time": "2021-12-03T15:24:50.073Z"
   },
   {
    "duration": -1060,
    "start_time": "2021-12-03T15:24:50.084Z"
   },
   {
    "duration": -1038,
    "start_time": "2021-12-03T15:24:50.120Z"
   },
   {
    "duration": -1047,
    "start_time": "2021-12-03T15:24:50.131Z"
   },
   {
    "duration": -1055,
    "start_time": "2021-12-03T15:24:50.141Z"
   },
   {
    "duration": -1062,
    "start_time": "2021-12-03T15:24:50.150Z"
   },
   {
    "duration": -1069,
    "start_time": "2021-12-03T15:24:50.159Z"
   },
   {
    "duration": -1077,
    "start_time": "2021-12-03T15:24:50.169Z"
   },
   {
    "duration": 26,
    "start_time": "2021-12-03T15:25:29.781Z"
   },
   {
    "duration": 64,
    "start_time": "2021-12-03T15:25:37.695Z"
   },
   {
    "duration": 7401,
    "start_time": "2021-12-03T15:25:50.449Z"
   },
   {
    "duration": 8947,
    "start_time": "2021-12-03T15:26:39.996Z"
   },
   {
    "duration": 8231,
    "start_time": "2021-12-03T15:26:59.697Z"
   },
   {
    "duration": 72,
    "start_time": "2021-12-03T15:27:46.585Z"
   },
   {
    "duration": 380,
    "start_time": "2021-12-03T15:27:55.045Z"
   },
   {
    "duration": 9,
    "start_time": "2021-12-03T15:28:00.962Z"
   },
   {
    "duration": 451,
    "start_time": "2021-12-03T15:28:21.982Z"
   },
   {
    "duration": 498,
    "start_time": "2021-12-03T15:28:56.548Z"
   },
   {
    "duration": 44,
    "start_time": "2021-12-03T15:29:03.882Z"
   },
   {
    "duration": 8093,
    "start_time": "2021-12-03T15:29:10.465Z"
   },
   {
    "duration": 41,
    "start_time": "2021-12-03T15:29:41.563Z"
   },
   {
    "duration": 72,
    "start_time": "2021-12-03T15:31:09.551Z"
   },
   {
    "duration": 41,
    "start_time": "2021-12-03T15:36:58.804Z"
   },
   {
    "duration": 9,
    "start_time": "2021-12-03T15:37:06.918Z"
   },
   {
    "duration": 501,
    "start_time": "2021-12-03T15:40:04.802Z"
   },
   {
    "duration": 70,
    "start_time": "2021-12-03T15:40:53.681Z"
   },
   {
    "duration": 71,
    "start_time": "2021-12-03T15:46:07.972Z"
   },
   {
    "duration": 566,
    "start_time": "2021-12-03T15:46:17.938Z"
   },
   {
    "duration": 15,
    "start_time": "2021-12-03T15:46:18.506Z"
   },
   {
    "duration": 28,
    "start_time": "2021-12-03T15:46:18.523Z"
   },
   {
    "duration": 18,
    "start_time": "2021-12-03T15:46:18.583Z"
   },
   {
    "duration": 20,
    "start_time": "2021-12-03T15:46:18.603Z"
   },
   {
    "duration": 15,
    "start_time": "2021-12-03T15:46:18.625Z"
   },
   {
    "duration": 63,
    "start_time": "2021-12-03T15:46:18.643Z"
   },
   {
    "duration": 41,
    "start_time": "2021-12-03T15:46:18.710Z"
   },
   {
    "duration": 39,
    "start_time": "2021-12-03T15:46:18.754Z"
   },
   {
    "duration": 23,
    "start_time": "2021-12-03T15:46:18.796Z"
   },
   {
    "duration": 65,
    "start_time": "2021-12-03T15:46:18.822Z"
   },
   {
    "duration": 17,
    "start_time": "2021-12-03T15:46:18.890Z"
   },
   {
    "duration": 19,
    "start_time": "2021-12-03T15:46:18.909Z"
   },
   {
    "duration": 74,
    "start_time": "2021-12-03T15:46:18.931Z"
   },
   {
    "duration": 21,
    "start_time": "2021-12-03T15:46:19.007Z"
   },
   {
    "duration": 9,
    "start_time": "2021-12-03T15:46:19.032Z"
   },
   {
    "duration": 42,
    "start_time": "2021-12-03T15:46:19.043Z"
   },
   {
    "duration": 17,
    "start_time": "2021-12-03T15:46:19.087Z"
   },
   {
    "duration": 11,
    "start_time": "2021-12-03T15:46:19.106Z"
   },
   {
    "duration": 302,
    "start_time": "2021-12-03T15:46:19.120Z"
   },
   {
    "duration": 20,
    "start_time": "2021-12-03T15:46:19.425Z"
   },
   {
    "duration": 43,
    "start_time": "2021-12-03T15:46:19.447Z"
   },
   {
    "duration": 34,
    "start_time": "2021-12-03T15:46:19.495Z"
   },
   {
    "duration": 54,
    "start_time": "2021-12-03T15:46:19.532Z"
   },
   {
    "duration": 42,
    "start_time": "2021-12-03T15:46:19.588Z"
   },
   {
    "duration": 74,
    "start_time": "2021-12-03T15:46:19.632Z"
   },
   {
    "duration": 31,
    "start_time": "2021-12-03T15:46:19.708Z"
   },
   {
    "duration": 59,
    "start_time": "2021-12-03T15:46:19.742Z"
   },
   {
    "duration": 97,
    "start_time": "2021-12-03T15:46:19.803Z"
   },
   {
    "duration": 8,
    "start_time": "2021-12-03T15:46:19.902Z"
   },
   {
    "duration": 9,
    "start_time": "2021-12-03T15:46:19.913Z"
   },
   {
    "duration": 829,
    "start_time": "2021-12-03T15:46:19.924Z"
   },
   {
    "duration": -201,
    "start_time": "2021-12-03T15:46:20.957Z"
   },
   {
    "duration": -210,
    "start_time": "2021-12-03T15:46:20.968Z"
   },
   {
    "duration": -221,
    "start_time": "2021-12-03T15:46:20.980Z"
   },
   {
    "duration": -230,
    "start_time": "2021-12-03T15:46:20.991Z"
   },
   {
    "duration": -248,
    "start_time": "2021-12-03T15:46:21.010Z"
   },
   {
    "duration": -331,
    "start_time": "2021-12-03T15:46:21.095Z"
   },
   {
    "duration": -383,
    "start_time": "2021-12-03T15:46:21.149Z"
   },
   {
    "duration": -440,
    "start_time": "2021-12-03T15:46:21.207Z"
   },
   {
    "duration": -449,
    "start_time": "2021-12-03T15:46:21.218Z"
   },
   {
    "duration": -459,
    "start_time": "2021-12-03T15:46:21.229Z"
   },
   {
    "duration": -467,
    "start_time": "2021-12-03T15:46:21.239Z"
   },
   {
    "duration": -475,
    "start_time": "2021-12-03T15:46:21.249Z"
   },
   {
    "duration": -488,
    "start_time": "2021-12-03T15:46:21.263Z"
   },
   {
    "duration": -499,
    "start_time": "2021-12-03T15:46:21.276Z"
   },
   {
    "duration": -509,
    "start_time": "2021-12-03T15:46:21.287Z"
   },
   {
    "duration": -514,
    "start_time": "2021-12-03T15:46:21.294Z"
   },
   {
    "duration": -541,
    "start_time": "2021-12-03T15:46:21.322Z"
   },
   {
    "duration": -547,
    "start_time": "2021-12-03T15:46:21.330Z"
   },
   {
    "duration": -556,
    "start_time": "2021-12-03T15:46:21.340Z"
   },
   {
    "duration": -563,
    "start_time": "2021-12-03T15:46:21.349Z"
   },
   {
    "duration": -571,
    "start_time": "2021-12-03T15:46:21.358Z"
   },
   {
    "duration": -577,
    "start_time": "2021-12-03T15:46:21.366Z"
   },
   {
    "duration": -584,
    "start_time": "2021-12-03T15:46:21.374Z"
   },
   {
    "duration": -592,
    "start_time": "2021-12-03T15:46:21.383Z"
   },
   {
    "duration": -600,
    "start_time": "2021-12-03T15:46:21.393Z"
   },
   {
    "duration": -608,
    "start_time": "2021-12-03T15:46:21.402Z"
   },
   {
    "duration": -616,
    "start_time": "2021-12-03T15:46:21.411Z"
   },
   {
    "duration": -622,
    "start_time": "2021-12-03T15:46:21.419Z"
   },
   {
    "duration": -650,
    "start_time": "2021-12-03T15:46:21.448Z"
   },
   {
    "duration": -656,
    "start_time": "2021-12-03T15:46:21.456Z"
   },
   {
    "duration": -664,
    "start_time": "2021-12-03T15:46:21.465Z"
   },
   {
    "duration": -672,
    "start_time": "2021-12-03T15:46:21.474Z"
   },
   {
    "duration": -679,
    "start_time": "2021-12-03T15:46:21.483Z"
   },
   {
    "duration": -687,
    "start_time": "2021-12-03T15:46:21.492Z"
   },
   {
    "duration": -695,
    "start_time": "2021-12-03T15:46:21.501Z"
   },
   {
    "duration": -707,
    "start_time": "2021-12-03T15:46:21.515Z"
   },
   {
    "duration": -714,
    "start_time": "2021-12-03T15:46:21.523Z"
   },
   {
    "duration": -721,
    "start_time": "2021-12-03T15:46:21.531Z"
   },
   {
    "duration": -729,
    "start_time": "2021-12-03T15:46:21.540Z"
   },
   {
    "duration": -753,
    "start_time": "2021-12-03T15:46:21.565Z"
   },
   {
    "duration": -761,
    "start_time": "2021-12-03T15:46:21.574Z"
   },
   {
    "duration": -768,
    "start_time": "2021-12-03T15:46:21.582Z"
   },
   {
    "duration": 15,
    "start_time": "2021-12-03T15:48:12.768Z"
   },
   {
    "duration": 9,
    "start_time": "2021-12-03T15:51:43.971Z"
   },
   {
    "duration": 900,
    "start_time": "2021-12-03T15:51:51.528Z"
   },
   {
    "duration": 11,
    "start_time": "2021-12-03T15:52:58.163Z"
   },
   {
    "duration": 3914,
    "start_time": "2021-12-03T15:56:31.072Z"
   },
   {
    "duration": -198,
    "start_time": "2021-12-03T15:56:35.188Z"
   },
   {
    "duration": 584,
    "start_time": "2021-12-03T15:56:52.287Z"
   },
   {
    "duration": 18,
    "start_time": "2021-12-03T15:56:52.874Z"
   },
   {
    "duration": 21,
    "start_time": "2021-12-03T15:56:52.896Z"
   },
   {
    "duration": 14,
    "start_time": "2021-12-03T15:56:52.920Z"
   },
   {
    "duration": 55,
    "start_time": "2021-12-03T15:56:52.936Z"
   },
   {
    "duration": 7,
    "start_time": "2021-12-03T15:56:52.993Z"
   },
   {
    "duration": 29,
    "start_time": "2021-12-03T15:56:53.003Z"
   },
   {
    "duration": 84,
    "start_time": "2021-12-03T15:56:53.037Z"
   },
   {
    "duration": 19,
    "start_time": "2021-12-03T15:56:53.124Z"
   },
   {
    "duration": 55,
    "start_time": "2021-12-03T15:56:53.145Z"
   },
   {
    "duration": 36,
    "start_time": "2021-12-03T15:56:53.202Z"
   },
   {
    "duration": 49,
    "start_time": "2021-12-03T15:56:53.241Z"
   },
   {
    "duration": 25,
    "start_time": "2021-12-03T15:56:53.293Z"
   },
   {
    "duration": 76,
    "start_time": "2021-12-03T15:56:53.321Z"
   },
   {
    "duration": 18,
    "start_time": "2021-12-03T15:56:53.400Z"
   },
   {
    "duration": 11,
    "start_time": "2021-12-03T15:56:53.421Z"
   },
   {
    "duration": 53,
    "start_time": "2021-12-03T15:56:53.435Z"
   },
   {
    "duration": 17,
    "start_time": "2021-12-03T15:56:53.491Z"
   },
   {
    "duration": 13,
    "start_time": "2021-12-03T15:56:53.511Z"
   },
   {
    "duration": 310,
    "start_time": "2021-12-03T15:56:53.528Z"
   },
   {
    "duration": 41,
    "start_time": "2021-12-03T15:56:53.841Z"
   },
   {
    "duration": 21,
    "start_time": "2021-12-03T15:56:53.884Z"
   },
   {
    "duration": 70,
    "start_time": "2021-12-03T15:56:53.915Z"
   },
   {
    "duration": 26,
    "start_time": "2021-12-03T15:56:53.990Z"
   },
   {
    "duration": 82,
    "start_time": "2021-12-03T15:56:54.019Z"
   },
   {
    "duration": 56,
    "start_time": "2021-12-03T15:56:54.103Z"
   },
   {
    "duration": 44,
    "start_time": "2021-12-03T15:56:54.181Z"
   },
   {
    "duration": 63,
    "start_time": "2021-12-03T15:56:54.228Z"
   },
   {
    "duration": 121,
    "start_time": "2021-12-03T15:56:54.294Z"
   },
   {
    "duration": 12,
    "start_time": "2021-12-03T15:56:54.418Z"
   },
   {
    "duration": 7,
    "start_time": "2021-12-03T15:56:54.433Z"
   },
   {
    "duration": 3590,
    "start_time": "2021-12-03T15:56:54.442Z"
   },
   {
    "duration": -369,
    "start_time": "2021-12-03T15:56:58.404Z"
   },
   {
    "duration": -424,
    "start_time": "2021-12-03T15:56:58.460Z"
   },
   {
    "duration": -448,
    "start_time": "2021-12-03T15:56:58.486Z"
   },
   {
    "duration": -466,
    "start_time": "2021-12-03T15:56:58.506Z"
   },
   {
    "duration": -485,
    "start_time": "2021-12-03T15:56:58.527Z"
   },
   {
    "duration": -576,
    "start_time": "2021-12-03T15:56:58.619Z"
   },
   {
    "duration": -609,
    "start_time": "2021-12-03T15:56:58.654Z"
   },
   {
    "duration": -685,
    "start_time": "2021-12-03T15:56:58.731Z"
   },
   {
    "duration": -862,
    "start_time": "2021-12-03T15:56:58.910Z"
   },
   {
    "duration": -889,
    "start_time": "2021-12-03T15:56:58.938Z"
   },
   {
    "duration": -910,
    "start_time": "2021-12-03T15:56:58.960Z"
   },
   {
    "duration": -932,
    "start_time": "2021-12-03T15:56:58.984Z"
   },
   {
    "duration": -946,
    "start_time": "2021-12-03T15:56:58.999Z"
   },
   {
    "duration": -990,
    "start_time": "2021-12-03T15:56:59.044Z"
   },
   {
    "duration": -1013,
    "start_time": "2021-12-03T15:56:59.069Z"
   },
   {
    "duration": -1027,
    "start_time": "2021-12-03T15:56:59.084Z"
   },
   {
    "duration": -1039,
    "start_time": "2021-12-03T15:56:59.101Z"
   },
   {
    "duration": -1055,
    "start_time": "2021-12-03T15:56:59.119Z"
   },
   {
    "duration": -1069,
    "start_time": "2021-12-03T15:56:59.135Z"
   },
   {
    "duration": -1113,
    "start_time": "2021-12-03T15:56:59.181Z"
   },
   {
    "duration": -1182,
    "start_time": "2021-12-03T15:56:59.252Z"
   },
   {
    "duration": -1204,
    "start_time": "2021-12-03T15:56:59.277Z"
   },
   {
    "duration": -1263,
    "start_time": "2021-12-03T15:56:59.345Z"
   },
   {
    "duration": -1301,
    "start_time": "2021-12-03T15:56:59.385Z"
   },
   {
    "duration": -1349,
    "start_time": "2021-12-03T15:56:59.435Z"
   },
   {
    "duration": -1363,
    "start_time": "2021-12-03T15:56:59.451Z"
   },
   {
    "duration": -1376,
    "start_time": "2021-12-03T15:56:59.467Z"
   },
   {
    "duration": -1394,
    "start_time": "2021-12-03T15:56:59.487Z"
   },
   {
    "duration": -1411,
    "start_time": "2021-12-03T15:56:59.506Z"
   },
   {
    "duration": -1422,
    "start_time": "2021-12-03T15:56:59.519Z"
   },
   {
    "duration": -1461,
    "start_time": "2021-12-03T15:56:59.560Z"
   },
   {
    "duration": -1474,
    "start_time": "2021-12-03T15:56:59.575Z"
   },
   {
    "duration": -1488,
    "start_time": "2021-12-03T15:56:59.591Z"
   },
   {
    "duration": -1501,
    "start_time": "2021-12-03T15:56:59.606Z"
   },
   {
    "duration": -1515,
    "start_time": "2021-12-03T15:56:59.622Z"
   },
   {
    "duration": -1526,
    "start_time": "2021-12-03T15:56:59.635Z"
   },
   {
    "duration": -1539,
    "start_time": "2021-12-03T15:56:59.650Z"
   },
   {
    "duration": -1578,
    "start_time": "2021-12-03T15:56:59.691Z"
   },
   {
    "duration": -1598,
    "start_time": "2021-12-03T15:56:59.713Z"
   },
   {
    "duration": -1633,
    "start_time": "2021-12-03T15:56:59.750Z"
   },
   {
    "duration": -1653,
    "start_time": "2021-12-03T15:56:59.772Z"
   },
   {
    "duration": -1608,
    "start_time": "2021-12-03T15:56:59.789Z"
   },
   {
    "duration": -1651,
    "start_time": "2021-12-03T15:56:59.834Z"
   },
   {
    "duration": -1681,
    "start_time": "2021-12-03T15:56:59.866Z"
   },
   {
    "duration": 3558,
    "start_time": "2021-12-03T15:57:32.518Z"
   },
   {
    "duration": 303,
    "start_time": "2021-12-03T15:58:01.369Z"
   },
   {
    "duration": 71,
    "start_time": "2021-12-03T15:58:17.729Z"
   },
   {
    "duration": 13,
    "start_time": "2021-12-03T15:58:22.745Z"
   },
   {
    "duration": 4612,
    "start_time": "2021-12-03T15:58:27.822Z"
   },
   {
    "duration": 69,
    "start_time": "2021-12-03T15:59:03.614Z"
   },
   {
    "duration": 15,
    "start_time": "2021-12-03T15:59:07.949Z"
   },
   {
    "duration": 706,
    "start_time": "2021-12-03T15:59:10.880Z"
   },
   {
    "duration": 15,
    "start_time": "2021-12-03T15:59:28.073Z"
   },
   {
    "duration": 415,
    "start_time": "2021-12-03T16:22:38.249Z"
   },
   {
    "duration": 11,
    "start_time": "2021-12-03T16:22:58.810Z"
   },
   {
    "duration": 51,
    "start_time": "2021-12-03T16:26:00.955Z"
   },
   {
    "duration": 50,
    "start_time": "2021-12-03T16:26:57.178Z"
   },
   {
    "duration": 57,
    "start_time": "2021-12-03T16:31:48.752Z"
   },
   {
    "duration": 54,
    "start_time": "2021-12-03T16:34:36.397Z"
   },
   {
    "duration": 70,
    "start_time": "2021-12-03T16:35:04.076Z"
   },
   {
    "duration": 79,
    "start_time": "2021-12-03T16:35:12.701Z"
   },
   {
    "duration": 57,
    "start_time": "2021-12-03T16:35:37.752Z"
   },
   {
    "duration": 108,
    "start_time": "2021-12-03T16:38:14.941Z"
   },
   {
    "duration": 311,
    "start_time": "2021-12-03T16:39:50.026Z"
   },
   {
    "duration": 298,
    "start_time": "2021-12-03T16:40:05.850Z"
   },
   {
    "duration": 701,
    "start_time": "2021-12-03T16:42:27.943Z"
   },
   {
    "duration": 581,
    "start_time": "2021-12-03T16:42:48.045Z"
   },
   {
    "duration": 16,
    "start_time": "2021-12-03T16:42:48.630Z"
   },
   {
    "duration": 39,
    "start_time": "2021-12-03T16:42:48.651Z"
   },
   {
    "duration": 18,
    "start_time": "2021-12-03T16:42:48.693Z"
   },
   {
    "duration": 15,
    "start_time": "2021-12-03T16:42:48.714Z"
   },
   {
    "duration": 6,
    "start_time": "2021-12-03T16:42:48.731Z"
   },
   {
    "duration": 41,
    "start_time": "2021-12-03T16:42:48.783Z"
   },
   {
    "duration": 69,
    "start_time": "2021-12-03T16:42:48.828Z"
   },
   {
    "duration": 19,
    "start_time": "2021-12-03T16:42:48.900Z"
   },
   {
    "duration": 22,
    "start_time": "2021-12-03T16:42:48.921Z"
   },
   {
    "duration": 150,
    "start_time": "2021-12-03T16:42:48.946Z"
   },
   {
    "duration": 18,
    "start_time": "2021-12-03T16:42:49.098Z"
   },
   {
    "duration": 19,
    "start_time": "2021-12-03T16:42:49.119Z"
   },
   {
    "duration": 58,
    "start_time": "2021-12-03T16:42:49.141Z"
   },
   {
    "duration": 15,
    "start_time": "2021-12-03T16:42:49.201Z"
   },
   {
    "duration": 9,
    "start_time": "2021-12-03T16:42:49.219Z"
   },
   {
    "duration": 56,
    "start_time": "2021-12-03T16:42:49.231Z"
   },
   {
    "duration": 13,
    "start_time": "2021-12-03T16:42:49.289Z"
   },
   {
    "duration": 23,
    "start_time": "2021-12-03T16:42:49.304Z"
   },
   {
    "duration": 274,
    "start_time": "2021-12-03T16:42:49.330Z"
   },
   {
    "duration": 21,
    "start_time": "2021-12-03T16:42:49.606Z"
   },
   {
    "duration": 16,
    "start_time": "2021-12-03T16:42:49.629Z"
   },
   {
    "duration": 33,
    "start_time": "2021-12-03T16:42:49.682Z"
   },
   {
    "duration": 18,
    "start_time": "2021-12-03T16:42:49.719Z"
   },
   {
    "duration": 72,
    "start_time": "2021-12-03T16:42:49.740Z"
   },
   {
    "duration": 36,
    "start_time": "2021-12-03T16:42:49.815Z"
   },
   {
    "duration": 55,
    "start_time": "2021-12-03T16:42:49.853Z"
   },
   {
    "duration": 24,
    "start_time": "2021-12-03T16:42:49.911Z"
   },
   {
    "duration": 107,
    "start_time": "2021-12-03T16:42:49.938Z"
   },
   {
    "duration": 10,
    "start_time": "2021-12-03T16:42:50.047Z"
   },
   {
    "duration": 33,
    "start_time": "2021-12-03T16:42:50.059Z"
   },
   {
    "duration": 95,
    "start_time": "2021-12-03T16:42:50.095Z"
   },
   {
    "duration": -484,
    "start_time": "2021-12-03T16:42:50.678Z"
   },
   {
    "duration": -493,
    "start_time": "2021-12-03T16:42:50.689Z"
   },
   {
    "duration": -503,
    "start_time": "2021-12-03T16:42:50.701Z"
   },
   {
    "duration": -512,
    "start_time": "2021-12-03T16:42:50.712Z"
   },
   {
    "duration": -519,
    "start_time": "2021-12-03T16:42:50.721Z"
   },
   {
    "duration": -527,
    "start_time": "2021-12-03T16:42:50.731Z"
   },
   {
    "duration": -534,
    "start_time": "2021-12-03T16:42:50.740Z"
   },
   {
    "duration": -542,
    "start_time": "2021-12-03T16:42:50.750Z"
   },
   {
    "duration": -581,
    "start_time": "2021-12-03T16:42:50.790Z"
   },
   {
    "duration": -591,
    "start_time": "2021-12-03T16:42:50.801Z"
   },
   {
    "duration": -604,
    "start_time": "2021-12-03T16:42:50.815Z"
   },
   {
    "duration": -613,
    "start_time": "2021-12-03T16:42:50.826Z"
   },
   {
    "duration": -622,
    "start_time": "2021-12-03T16:42:50.836Z"
   },
   {
    "duration": -631,
    "start_time": "2021-12-03T16:42:50.846Z"
   },
   {
    "duration": -640,
    "start_time": "2021-12-03T16:42:50.856Z"
   },
   {
    "duration": -648,
    "start_time": "2021-12-03T16:42:50.866Z"
   },
   {
    "duration": -655,
    "start_time": "2021-12-03T16:42:50.874Z"
   },
   {
    "duration": -676,
    "start_time": "2021-12-03T16:42:50.896Z"
   },
   {
    "duration": -683,
    "start_time": "2021-12-03T16:42:50.905Z"
   },
   {
    "duration": -693,
    "start_time": "2021-12-03T16:42:50.916Z"
   },
   {
    "duration": -700,
    "start_time": "2021-12-03T16:42:50.925Z"
   },
   {
    "duration": -710,
    "start_time": "2021-12-03T16:42:50.936Z"
   },
   {
    "duration": -719,
    "start_time": "2021-12-03T16:42:50.946Z"
   },
   {
    "duration": -733,
    "start_time": "2021-12-03T16:42:50.962Z"
   },
   {
    "duration": -688,
    "start_time": "2021-12-03T16:42:50.970Z"
   },
   {
    "duration": -739,
    "start_time": "2021-12-03T16:42:51.022Z"
   },
   {
    "duration": -745,
    "start_time": "2021-12-03T16:42:51.030Z"
   },
   {
    "duration": -753,
    "start_time": "2021-12-03T16:42:51.039Z"
   },
   {
    "duration": -760,
    "start_time": "2021-12-03T16:42:51.047Z"
   },
   {
    "duration": -767,
    "start_time": "2021-12-03T16:42:51.056Z"
   },
   {
    "duration": -775,
    "start_time": "2021-12-03T16:42:51.065Z"
   },
   {
    "duration": -781,
    "start_time": "2021-12-03T16:42:51.075Z"
   },
   {
    "duration": -787,
    "start_time": "2021-12-03T16:42:51.084Z"
   },
   {
    "duration": -794,
    "start_time": "2021-12-03T16:42:51.093Z"
   },
   {
    "duration": -800,
    "start_time": "2021-12-03T16:42:51.100Z"
   },
   {
    "duration": -851,
    "start_time": "2021-12-03T16:42:51.153Z"
   },
   {
    "duration": -859,
    "start_time": "2021-12-03T16:42:51.162Z"
   },
   {
    "duration": -868,
    "start_time": "2021-12-03T16:42:51.173Z"
   },
   {
    "duration": -875,
    "start_time": "2021-12-03T16:42:51.181Z"
   },
   {
    "duration": -886,
    "start_time": "2021-12-03T16:42:51.193Z"
   },
   {
    "duration": -894,
    "start_time": "2021-12-03T16:42:51.203Z"
   },
   {
    "duration": -904,
    "start_time": "2021-12-03T16:42:51.214Z"
   },
   {
    "duration": -912,
    "start_time": "2021-12-03T16:42:51.223Z"
   },
   {
    "duration": -932,
    "start_time": "2021-12-03T16:42:51.244Z"
   },
   {
    "duration": -938,
    "start_time": "2021-12-03T16:42:51.252Z"
   },
   {
    "duration": 7,
    "start_time": "2021-12-03T16:43:16.388Z"
   },
   {
    "duration": 6,
    "start_time": "2021-12-03T16:43:19.428Z"
   },
   {
    "duration": 427,
    "start_time": "2021-12-03T16:43:20.873Z"
   },
   {
    "duration": 15,
    "start_time": "2021-12-03T16:43:29.114Z"
   },
   {
    "duration": 22,
    "start_time": "2021-12-03T16:43:39.876Z"
   },
   {
    "duration": 226,
    "start_time": "2021-12-03T16:43:41.127Z"
   },
   {
    "duration": 15,
    "start_time": "2021-12-03T16:43:42.647Z"
   },
   {
    "duration": 372,
    "start_time": "2021-12-03T16:43:42.917Z"
   },
   {
    "duration": 5,
    "start_time": "2021-12-03T16:43:45.564Z"
   },
   {
    "duration": 5,
    "start_time": "2021-12-03T16:43:45.794Z"
   },
   {
    "duration": 14,
    "start_time": "2021-12-03T16:43:45.989Z"
   },
   {
    "duration": 6,
    "start_time": "2021-12-03T16:43:46.201Z"
   },
   {
    "duration": 4,
    "start_time": "2021-12-03T16:43:46.391Z"
   },
   {
    "duration": 14,
    "start_time": "2021-12-03T16:43:46.563Z"
   },
   {
    "duration": 7,
    "start_time": "2021-12-03T16:43:47.216Z"
   },
   {
    "duration": 5,
    "start_time": "2021-12-03T16:43:47.424Z"
   },
   {
    "duration": 19,
    "start_time": "2021-12-03T16:43:48.615Z"
   },
   {
    "duration": 342,
    "start_time": "2021-12-03T16:43:48.828Z"
   },
   {
    "duration": 23,
    "start_time": "2021-12-03T16:43:53.689Z"
   },
   {
    "duration": 543,
    "start_time": "2021-12-03T16:43:53.923Z"
   },
   {
    "duration": 7,
    "start_time": "2021-12-03T16:43:54.736Z"
   },
   {
    "duration": 6,
    "start_time": "2021-12-03T16:43:54.965Z"
   },
   {
    "duration": 20,
    "start_time": "2021-12-03T16:43:56.634Z"
   },
   {
    "duration": 7,
    "start_time": "2021-12-03T16:43:56.656Z"
   },
   {
    "duration": 11,
    "start_time": "2021-12-03T16:43:56.666Z"
   },
   {
    "duration": 17,
    "start_time": "2021-12-03T16:43:56.679Z"
   },
   {
    "duration": 6,
    "start_time": "2021-12-03T16:43:59.147Z"
   },
   {
    "duration": 4,
    "start_time": "2021-12-03T16:43:59.348Z"
   },
   {
    "duration": 22,
    "start_time": "2021-12-03T16:44:00.630Z"
   },
   {
    "duration": 241,
    "start_time": "2021-12-03T16:44:00.841Z"
   },
   {
    "duration": 16,
    "start_time": "2021-12-03T16:44:02.188Z"
   },
   {
    "duration": 490,
    "start_time": "2021-12-03T16:44:02.378Z"
   },
   {
    "duration": 6,
    "start_time": "2021-12-03T16:44:03.668Z"
   },
   {
    "duration": 5,
    "start_time": "2021-12-03T16:44:03.895Z"
   },
   {
    "duration": 21,
    "start_time": "2021-12-03T16:44:04.139Z"
   },
   {
    "duration": 5,
    "start_time": "2021-12-03T16:44:04.319Z"
   },
   {
    "duration": 5,
    "start_time": "2021-12-03T16:44:04.526Z"
   },
   {
    "duration": 14,
    "start_time": "2021-12-03T16:44:05.831Z"
   },
   {
    "duration": 5,
    "start_time": "2021-12-03T16:44:06.062Z"
   },
   {
    "duration": 4,
    "start_time": "2021-12-03T16:44:07.479Z"
   },
   {
    "duration": 276,
    "start_time": "2021-12-03T16:50:48.345Z"
   },
   {
    "duration": 16,
    "start_time": "2021-12-03T16:53:12.401Z"
   },
   {
    "duration": 311,
    "start_time": "2021-12-03T16:54:35.665Z"
   },
   {
    "duration": 12,
    "start_time": "2021-12-03T16:56:55.389Z"
   },
   {
    "duration": 410,
    "start_time": "2021-12-03T16:57:01.334Z"
   },
   {
    "duration": 299,
    "start_time": "2021-12-03T16:57:14.729Z"
   },
   {
    "duration": 12,
    "start_time": "2021-12-03T16:57:55.093Z"
   },
   {
    "duration": 339,
    "start_time": "2021-12-03T16:58:12.598Z"
   },
   {
    "duration": 95,
    "start_time": "2021-12-03T17:09:04.365Z"
   },
   {
    "duration": 798,
    "start_time": "2021-12-03T17:13:07.139Z"
   },
   {
    "duration": 14,
    "start_time": "2021-12-03T17:13:07.939Z"
   },
   {
    "duration": 19,
    "start_time": "2021-12-03T17:13:07.956Z"
   },
   {
    "duration": 14,
    "start_time": "2021-12-03T17:13:07.978Z"
   },
   {
    "duration": 13,
    "start_time": "2021-12-03T17:13:07.994Z"
   },
   {
    "duration": 6,
    "start_time": "2021-12-03T17:13:08.010Z"
   },
   {
    "duration": 81,
    "start_time": "2021-12-03T17:13:08.019Z"
   },
   {
    "duration": 82,
    "start_time": "2021-12-03T17:13:08.106Z"
   },
   {
    "duration": 31,
    "start_time": "2021-12-03T17:13:08.192Z"
   },
   {
    "duration": 62,
    "start_time": "2021-12-03T17:13:08.226Z"
   },
   {
    "duration": 47,
    "start_time": "2021-12-03T17:13:08.291Z"
   },
   {
    "duration": 51,
    "start_time": "2021-12-03T17:13:08.341Z"
   },
   {
    "duration": 18,
    "start_time": "2021-12-03T17:13:08.395Z"
   },
   {
    "duration": 25,
    "start_time": "2021-12-03T17:13:08.417Z"
   },
   {
    "duration": 51,
    "start_time": "2021-12-03T17:13:08.444Z"
   },
   {
    "duration": 8,
    "start_time": "2021-12-03T17:13:08.498Z"
   },
   {
    "duration": 13,
    "start_time": "2021-12-03T17:13:08.509Z"
   },
   {
    "duration": 10,
    "start_time": "2021-12-03T17:13:08.525Z"
   },
   {
    "duration": 11,
    "start_time": "2021-12-03T17:13:08.582Z"
   },
   {
    "duration": 300,
    "start_time": "2021-12-03T17:13:08.596Z"
   },
   {
    "duration": 23,
    "start_time": "2021-12-03T17:13:08.899Z"
   },
   {
    "duration": 20,
    "start_time": "2021-12-03T17:13:08.924Z"
   },
   {
    "duration": 34,
    "start_time": "2021-12-03T17:13:08.986Z"
   },
   {
    "duration": 19,
    "start_time": "2021-12-03T17:13:09.024Z"
   },
   {
    "duration": 68,
    "start_time": "2021-12-03T17:13:09.046Z"
   },
   {
    "duration": 36,
    "start_time": "2021-12-03T17:13:09.116Z"
   },
   {
    "duration": 30,
    "start_time": "2021-12-03T17:13:09.183Z"
   },
   {
    "duration": 26,
    "start_time": "2021-12-03T17:13:09.215Z"
   },
   {
    "duration": 109,
    "start_time": "2021-12-03T17:13:09.244Z"
   },
   {
    "duration": 31,
    "start_time": "2021-12-03T17:13:09.355Z"
   },
   {
    "duration": 8,
    "start_time": "2021-12-03T17:13:09.388Z"
   },
   {
    "duration": 11,
    "start_time": "2021-12-03T17:13:09.398Z"
   },
   {
    "duration": 13,
    "start_time": "2021-12-03T17:13:09.411Z"
   },
   {
    "duration": 450,
    "start_time": "2021-12-03T17:13:09.427Z"
   },
   {
    "duration": 20,
    "start_time": "2021-12-03T17:13:09.882Z"
   },
   {
    "duration": 261,
    "start_time": "2021-12-03T17:13:09.904Z"
   },
   {
    "duration": 23,
    "start_time": "2021-12-03T17:13:10.168Z"
   },
   {
    "duration": 410,
    "start_time": "2021-12-03T17:13:10.194Z"
   },
   {
    "duration": 5,
    "start_time": "2021-12-03T17:13:10.607Z"
   },
   {
    "duration": 9,
    "start_time": "2021-12-03T17:13:10.615Z"
   },
   {
    "duration": 19,
    "start_time": "2021-12-03T17:13:10.626Z"
   },
   {
    "duration": 38,
    "start_time": "2021-12-03T17:13:10.647Z"
   },
   {
    "duration": 8,
    "start_time": "2021-12-03T17:13:10.688Z"
   },
   {
    "duration": 21,
    "start_time": "2021-12-03T17:13:10.698Z"
   },
   {
    "duration": 15,
    "start_time": "2021-12-03T17:13:10.721Z"
   },
   {
    "duration": 45,
    "start_time": "2021-12-03T17:13:10.739Z"
   },
   {
    "duration": 17,
    "start_time": "2021-12-03T17:13:10.787Z"
   },
   {
    "duration": 107,
    "start_time": "2021-12-03T17:13:10.807Z"
   },
   {
    "duration": -381,
    "start_time": "2021-12-03T17:13:11.299Z"
   },
   {
    "duration": -389,
    "start_time": "2021-12-03T17:13:11.308Z"
   },
   {
    "duration": -402,
    "start_time": "2021-12-03T17:13:11.322Z"
   },
   {
    "duration": -435,
    "start_time": "2021-12-03T17:13:11.357Z"
   },
   {
    "duration": -445,
    "start_time": "2021-12-03T17:13:11.368Z"
   },
   {
    "duration": -454,
    "start_time": "2021-12-03T17:13:11.378Z"
   },
   {
    "duration": -461,
    "start_time": "2021-12-03T17:13:11.387Z"
   },
   {
    "duration": -468,
    "start_time": "2021-12-03T17:13:11.395Z"
   },
   {
    "duration": -478,
    "start_time": "2021-12-03T17:13:11.406Z"
   },
   {
    "duration": -485,
    "start_time": "2021-12-03T17:13:11.415Z"
   },
   {
    "duration": -494,
    "start_time": "2021-12-03T17:13:11.425Z"
   },
   {
    "duration": -500,
    "start_time": "2021-12-03T17:13:11.433Z"
   },
   {
    "duration": -515,
    "start_time": "2021-12-03T17:13:11.449Z"
   },
   {
    "duration": -536,
    "start_time": "2021-12-03T17:13:11.471Z"
   },
   {
    "duration": -595,
    "start_time": "2021-12-03T17:13:11.532Z"
   },
   {
    "duration": -602,
    "start_time": "2021-12-03T17:13:11.540Z"
   },
   {
    "duration": -611,
    "start_time": "2021-12-03T17:13:11.550Z"
   },
   {
    "duration": -618,
    "start_time": "2021-12-03T17:13:11.559Z"
   },
   {
    "duration": -627,
    "start_time": "2021-12-03T17:13:11.569Z"
   },
   {
    "duration": -651,
    "start_time": "2021-12-03T17:13:11.594Z"
   },
   {
    "duration": -660,
    "start_time": "2021-12-03T17:13:11.605Z"
   },
   {
    "duration": -668,
    "start_time": "2021-12-03T17:13:11.614Z"
   },
   {
    "duration": -676,
    "start_time": "2021-12-03T17:13:11.623Z"
   },
   {
    "duration": -683,
    "start_time": "2021-12-03T17:13:11.632Z"
   },
   {
    "duration": -693,
    "start_time": "2021-12-03T17:13:11.643Z"
   },
   {
    "duration": -700,
    "start_time": "2021-12-03T17:13:11.651Z"
   },
   {
    "duration": -709,
    "start_time": "2021-12-03T17:13:11.661Z"
   },
   {
    "duration": -687,
    "start_time": "2021-12-03T17:13:11.669Z"
   },
   {
    "duration": -695,
    "start_time": "2021-12-03T17:13:11.678Z"
   },
   {
    "duration": -701,
    "start_time": "2021-12-03T17:13:11.686Z"
   },
   {
    "duration": -728,
    "start_time": "2021-12-03T17:13:11.714Z"
   },
   {
    "duration": -737,
    "start_time": "2021-12-03T17:13:11.724Z"
   },
   {
    "duration": -745,
    "start_time": "2021-12-03T17:13:11.734Z"
   },
   {
    "duration": -752,
    "start_time": "2021-12-03T17:13:11.742Z"
   },
   {
    "duration": 311,
    "start_time": "2021-12-03T17:13:36.728Z"
   },
   {
    "duration": 29,
    "start_time": "2021-12-03T17:13:40.505Z"
   },
   {
    "duration": 340,
    "start_time": "2021-12-03T17:13:41.494Z"
   },
   {
    "duration": 16,
    "start_time": "2021-12-03T17:13:43.147Z"
   },
   {
    "duration": 367,
    "start_time": "2021-12-03T17:13:43.440Z"
   },
   {
    "duration": 7,
    "start_time": "2021-12-03T17:13:44.011Z"
   },
   {
    "duration": 4,
    "start_time": "2021-12-03T17:13:44.761Z"
   },
   {
    "duration": 16,
    "start_time": "2021-12-03T17:13:45.075Z"
   },
   {
    "duration": 6,
    "start_time": "2021-12-03T17:13:45.293Z"
   },
   {
    "duration": 4,
    "start_time": "2021-12-03T17:13:45.526Z"
   },
   {
    "duration": 15,
    "start_time": "2021-12-03T17:13:47.069Z"
   },
   {
    "duration": 6,
    "start_time": "2021-12-03T17:13:47.313Z"
   },
   {
    "duration": 6,
    "start_time": "2021-12-03T17:13:47.582Z"
   },
   {
    "duration": 13,
    "start_time": "2021-12-03T17:13:48.557Z"
   },
   {
    "duration": 304,
    "start_time": "2021-12-03T17:13:48.859Z"
   },
   {
    "duration": 20,
    "start_time": "2021-12-03T17:13:50.405Z"
   },
   {
    "duration": 239,
    "start_time": "2021-12-03T17:13:50.916Z"
   },
   {
    "duration": 18,
    "start_time": "2021-12-03T17:13:52.146Z"
   },
   {
    "duration": 369,
    "start_time": "2021-12-03T17:13:52.403Z"
   },
   {
    "duration": 8,
    "start_time": "2021-12-03T17:13:52.888Z"
   },
   {
    "duration": 5,
    "start_time": "2021-12-03T17:13:53.166Z"
   },
   {
    "duration": 14,
    "start_time": "2021-12-03T17:13:53.428Z"
   },
   {
    "duration": 6,
    "start_time": "2021-12-03T17:13:53.650Z"
   },
   {
    "duration": 5,
    "start_time": "2021-12-03T17:13:53.902Z"
   },
   {
    "duration": 15,
    "start_time": "2021-12-03T17:13:54.153Z"
   },
   {
    "duration": 7,
    "start_time": "2021-12-03T17:13:54.452Z"
   },
   {
    "duration": 5,
    "start_time": "2021-12-03T17:13:54.704Z"
   },
   {
    "duration": 12,
    "start_time": "2021-12-03T17:13:54.943Z"
   },
   {
    "duration": 500,
    "start_time": "2021-12-03T17:13:56.666Z"
   },
   {
    "duration": 25,
    "start_time": "2021-12-03T17:14:14.279Z"
   },
   {
    "duration": 21,
    "start_time": "2021-12-03T17:14:17.014Z"
   },
   {
    "duration": 41,
    "start_time": "2021-12-03T17:14:31.787Z"
   },
   {
    "duration": 22,
    "start_time": "2021-12-03T17:14:33.349Z"
   },
   {
    "duration": 14,
    "start_time": "2021-12-03T17:14:38.325Z"
   },
   {
    "duration": 31,
    "start_time": "2021-12-03T17:15:25.551Z"
   },
   {
    "duration": 24,
    "start_time": "2021-12-03T17:15:40.628Z"
   },
   {
    "duration": 11,
    "start_time": "2021-12-03T17:15:54.545Z"
   },
   {
    "duration": 12,
    "start_time": "2021-12-03T17:17:22.421Z"
   },
   {
    "duration": 4,
    "start_time": "2021-12-03T17:47:03.436Z"
   },
   {
    "duration": 318,
    "start_time": "2021-12-03T18:04:17.581Z"
   },
   {
    "duration": 6,
    "start_time": "2021-12-03T18:04:35.144Z"
   },
   {
    "duration": 5,
    "start_time": "2021-12-03T18:05:16.355Z"
   },
   {
    "duration": 27,
    "start_time": "2021-12-03T18:06:57.577Z"
   },
   {
    "duration": 26,
    "start_time": "2021-12-03T18:07:56.331Z"
   },
   {
    "duration": 326,
    "start_time": "2021-12-03T18:11:08.112Z"
   },
   {
    "duration": 286,
    "start_time": "2021-12-03T18:11:30.339Z"
   },
   {
    "duration": 833,
    "start_time": "2021-12-03T18:11:38.449Z"
   },
   {
    "duration": 21,
    "start_time": "2021-12-03T18:11:39.286Z"
   },
   {
    "duration": 27,
    "start_time": "2021-12-03T18:11:39.310Z"
   },
   {
    "duration": 45,
    "start_time": "2021-12-03T18:11:39.339Z"
   },
   {
    "duration": 16,
    "start_time": "2021-12-03T18:11:39.386Z"
   },
   {
    "duration": 8,
    "start_time": "2021-12-03T18:11:39.404Z"
   },
   {
    "duration": 29,
    "start_time": "2021-12-03T18:11:39.414Z"
   },
   {
    "duration": 74,
    "start_time": "2021-12-03T18:11:39.447Z"
   },
   {
    "duration": 20,
    "start_time": "2021-12-03T18:11:39.524Z"
   },
   {
    "duration": 51,
    "start_time": "2021-12-03T18:11:39.547Z"
   },
   {
    "duration": 30,
    "start_time": "2021-12-03T18:11:39.601Z"
   },
   {
    "duration": 18,
    "start_time": "2021-12-03T18:11:39.634Z"
   },
   {
    "duration": 45,
    "start_time": "2021-12-03T18:11:39.654Z"
   },
   {
    "duration": 27,
    "start_time": "2021-12-03T18:11:39.701Z"
   },
   {
    "duration": 14,
    "start_time": "2021-12-03T18:11:39.731Z"
   },
   {
    "duration": 9,
    "start_time": "2021-12-03T18:11:39.783Z"
   },
   {
    "duration": 12,
    "start_time": "2021-12-03T18:11:39.795Z"
   },
   {
    "duration": 12,
    "start_time": "2021-12-03T18:11:39.810Z"
   },
   {
    "duration": 18,
    "start_time": "2021-12-03T18:11:39.824Z"
   },
   {
    "duration": 353,
    "start_time": "2021-12-03T18:11:39.883Z"
   },
   {
    "duration": 20,
    "start_time": "2021-12-03T18:11:40.238Z"
   },
   {
    "duration": 36,
    "start_time": "2021-12-03T18:11:40.261Z"
   },
   {
    "duration": 42,
    "start_time": "2021-12-03T18:11:40.306Z"
   },
   {
    "duration": 46,
    "start_time": "2021-12-03T18:11:40.353Z"
   },
   {
    "duration": 40,
    "start_time": "2021-12-03T18:11:40.402Z"
   },
   {
    "duration": 81,
    "start_time": "2021-12-03T18:11:40.446Z"
   },
   {
    "duration": 65,
    "start_time": "2021-12-03T18:11:40.529Z"
   },
   {
    "duration": 38,
    "start_time": "2021-12-03T18:11:40.597Z"
   },
   {
    "duration": 131,
    "start_time": "2021-12-03T18:11:40.638Z"
   },
   {
    "duration": 17,
    "start_time": "2021-12-03T18:11:40.772Z"
   },
   {
    "duration": 10,
    "start_time": "2021-12-03T18:11:40.793Z"
   },
   {
    "duration": 10,
    "start_time": "2021-12-03T18:11:40.806Z"
   },
   {
    "duration": 430,
    "start_time": "2021-12-03T18:11:40.818Z"
   },
   {
    "duration": 32,
    "start_time": "2021-12-03T18:11:41.251Z"
   },
   {
    "duration": 233,
    "start_time": "2021-12-03T18:11:41.286Z"
   },
   {
    "duration": 18,
    "start_time": "2021-12-03T18:11:41.522Z"
   },
   {
    "duration": 410,
    "start_time": "2021-12-03T18:11:41.542Z"
   },
   {
    "duration": 5,
    "start_time": "2021-12-03T18:11:41.954Z"
   },
   {
    "duration": 22,
    "start_time": "2021-12-03T18:11:41.962Z"
   },
   {
    "duration": 16,
    "start_time": "2021-12-03T18:11:41.987Z"
   },
   {
    "duration": 13,
    "start_time": "2021-12-03T18:11:42.005Z"
   },
   {
    "duration": 6,
    "start_time": "2021-12-03T18:11:42.020Z"
   },
   {
    "duration": 61,
    "start_time": "2021-12-03T18:11:42.029Z"
   },
   {
    "duration": 7,
    "start_time": "2021-12-03T18:11:42.093Z"
   },
   {
    "duration": 6,
    "start_time": "2021-12-03T18:11:42.103Z"
   },
   {
    "duration": 16,
    "start_time": "2021-12-03T18:11:42.111Z"
   },
   {
    "duration": 485,
    "start_time": "2021-12-03T18:11:42.130Z"
   },
   {
    "duration": 21,
    "start_time": "2021-12-03T18:11:42.618Z"
   },
   {
    "duration": 347,
    "start_time": "2021-12-03T18:11:42.642Z"
   },
   {
    "duration": 23,
    "start_time": "2021-12-03T18:11:42.992Z"
   },
   {
    "duration": 603,
    "start_time": "2021-12-03T18:11:43.018Z"
   },
   {
    "duration": 6,
    "start_time": "2021-12-03T18:11:43.624Z"
   },
   {
    "duration": 7,
    "start_time": "2021-12-03T18:11:43.633Z"
   },
   {
    "duration": 53,
    "start_time": "2021-12-03T18:11:43.642Z"
   },
   {
    "duration": 8,
    "start_time": "2021-12-03T18:11:43.699Z"
   },
   {
    "duration": 7,
    "start_time": "2021-12-03T18:11:43.710Z"
   },
   {
    "duration": 24,
    "start_time": "2021-12-03T18:11:43.720Z"
   },
   {
    "duration": 36,
    "start_time": "2021-12-03T18:11:43.747Z"
   },
   {
    "duration": 8,
    "start_time": "2021-12-03T18:11:43.787Z"
   },
   {
    "duration": 17,
    "start_time": "2021-12-03T18:11:43.798Z"
   },
   {
    "duration": 342,
    "start_time": "2021-12-03T18:11:43.817Z"
   },
   {
    "duration": 31,
    "start_time": "2021-12-03T18:11:44.161Z"
   },
   {
    "duration": 260,
    "start_time": "2021-12-03T18:11:44.194Z"
   },
   {
    "duration": 26,
    "start_time": "2021-12-03T18:11:44.457Z"
   },
   {
    "duration": 382,
    "start_time": "2021-12-03T18:11:44.486Z"
   },
   {
    "duration": 11,
    "start_time": "2021-12-03T18:11:44.871Z"
   },
   {
    "duration": 6,
    "start_time": "2021-12-03T18:11:44.885Z"
   },
   {
    "duration": 14,
    "start_time": "2021-12-03T18:11:44.901Z"
   },
   {
    "duration": 6,
    "start_time": "2021-12-03T18:11:44.917Z"
   },
   {
    "duration": 5,
    "start_time": "2021-12-03T18:11:44.925Z"
   },
   {
    "duration": 58,
    "start_time": "2021-12-03T18:11:44.932Z"
   },
   {
    "duration": 7,
    "start_time": "2021-12-03T18:11:44.993Z"
   },
   {
    "duration": 16,
    "start_time": "2021-12-03T18:11:45.003Z"
   },
   {
    "duration": 22,
    "start_time": "2021-12-03T18:11:45.021Z"
   },
   {
    "duration": 344,
    "start_time": "2021-12-03T18:11:45.083Z"
   },
   {
    "duration": 29,
    "start_time": "2021-12-03T18:11:45.430Z"
   },
   {
    "duration": 22,
    "start_time": "2021-12-03T18:11:45.462Z"
   },
   {
    "duration": 32,
    "start_time": "2021-12-03T18:11:45.488Z"
   },
   {
    "duration": 9,
    "start_time": "2021-12-03T18:11:45.524Z"
   },
   {
    "duration": 50,
    "start_time": "2021-12-03T18:11:45.536Z"
   },
   {
    "duration": 42,
    "start_time": "2021-12-03T18:11:45.589Z"
   },
   {
    "duration": 310,
    "start_time": "2021-12-03T18:11:45.634Z"
   },
   {
    "duration": -302,
    "start_time": "2021-12-03T18:11:46.249Z"
   },
   {
    "duration": 41,
    "start_time": "2021-12-03T18:12:22.432Z"
   },
   {
    "duration": 27,
    "start_time": "2021-12-03T18:12:41.435Z"
   },
   {
    "duration": 26,
    "start_time": "2021-12-03T18:12:46.180Z"
   },
   {
    "duration": 21,
    "start_time": "2021-12-03T18:13:01.755Z"
   },
   {
    "duration": 32,
    "start_time": "2021-12-03T18:13:05.620Z"
   },
   {
    "duration": 27,
    "start_time": "2021-12-03T18:16:25.302Z"
   },
   {
    "duration": 18,
    "start_time": "2021-12-03T18:16:52.899Z"
   },
   {
    "duration": 27,
    "start_time": "2021-12-03T18:24:58.678Z"
   },
   {
    "duration": 6,
    "start_time": "2021-12-03T18:25:00.992Z"
   },
   {
    "duration": 23,
    "start_time": "2021-12-03T18:25:01.405Z"
   },
   {
    "duration": 5,
    "start_time": "2021-12-03T18:25:02.741Z"
   },
   {
    "duration": 11,
    "start_time": "2021-12-03T18:25:06.225Z"
   },
   {
    "duration": 6,
    "start_time": "2021-12-03T18:27:54.043Z"
   },
   {
    "duration": 5,
    "start_time": "2021-12-03T18:28:47.346Z"
   },
   {
    "duration": 586,
    "start_time": "2021-12-03T18:32:52.873Z"
   },
   {
    "duration": 16,
    "start_time": "2021-12-03T18:32:53.462Z"
   },
   {
    "duration": 20,
    "start_time": "2021-12-03T18:32:53.483Z"
   },
   {
    "duration": 26,
    "start_time": "2021-12-03T18:32:53.506Z"
   },
   {
    "duration": 49,
    "start_time": "2021-12-03T18:32:53.535Z"
   },
   {
    "duration": 6,
    "start_time": "2021-12-03T18:32:53.587Z"
   },
   {
    "duration": 39,
    "start_time": "2021-12-03T18:32:53.597Z"
   },
   {
    "duration": 81,
    "start_time": "2021-12-03T18:32:53.641Z"
   },
   {
    "duration": 22,
    "start_time": "2021-12-03T18:32:53.726Z"
   },
   {
    "duration": 53,
    "start_time": "2021-12-03T18:32:53.751Z"
   },
   {
    "duration": 30,
    "start_time": "2021-12-03T18:32:53.807Z"
   },
   {
    "duration": 51,
    "start_time": "2021-12-03T18:32:53.839Z"
   },
   {
    "duration": 20,
    "start_time": "2021-12-03T18:32:53.892Z"
   },
   {
    "duration": 72,
    "start_time": "2021-12-03T18:32:53.915Z"
   },
   {
    "duration": 15,
    "start_time": "2021-12-03T18:32:53.989Z"
   },
   {
    "duration": 10,
    "start_time": "2021-12-03T18:32:54.007Z"
   },
   {
    "duration": 13,
    "start_time": "2021-12-03T18:32:54.019Z"
   },
   {
    "duration": 53,
    "start_time": "2021-12-03T18:32:54.034Z"
   },
   {
    "duration": 12,
    "start_time": "2021-12-03T18:32:54.089Z"
   },
   {
    "duration": 305,
    "start_time": "2021-12-03T18:32:54.104Z"
   },
   {
    "duration": 21,
    "start_time": "2021-12-03T18:32:54.411Z"
   },
   {
    "duration": 50,
    "start_time": "2021-12-03T18:32:54.434Z"
   },
   {
    "duration": 33,
    "start_time": "2021-12-03T18:32:54.489Z"
   },
   {
    "duration": 57,
    "start_time": "2021-12-03T18:32:54.526Z"
   },
   {
    "duration": 43,
    "start_time": "2021-12-03T18:32:54.586Z"
   },
   {
    "duration": 75,
    "start_time": "2021-12-03T18:32:54.632Z"
   },
   {
    "duration": 35,
    "start_time": "2021-12-03T18:32:54.710Z"
   },
   {
    "duration": 58,
    "start_time": "2021-12-03T18:32:54.748Z"
   },
   {
    "duration": 101,
    "start_time": "2021-12-03T18:32:54.809Z"
   },
   {
    "duration": 10,
    "start_time": "2021-12-03T18:32:54.912Z"
   },
   {
    "duration": 8,
    "start_time": "2021-12-03T18:32:54.925Z"
   },
   {
    "duration": 46,
    "start_time": "2021-12-03T18:32:54.936Z"
   },
   {
    "duration": 425,
    "start_time": "2021-12-03T18:32:54.985Z"
   },
   {
    "duration": 26,
    "start_time": "2021-12-03T18:32:55.413Z"
   },
   {
    "duration": 274,
    "start_time": "2021-12-03T18:32:55.442Z"
   },
   {
    "duration": 20,
    "start_time": "2021-12-03T18:32:55.719Z"
   },
   {
    "duration": 425,
    "start_time": "2021-12-03T18:32:55.743Z"
   },
   {
    "duration": 14,
    "start_time": "2021-12-03T18:32:56.170Z"
   },
   {
    "duration": 7,
    "start_time": "2021-12-03T18:32:56.187Z"
   },
   {
    "duration": 21,
    "start_time": "2021-12-03T18:32:56.197Z"
   },
   {
    "duration": 7,
    "start_time": "2021-12-03T18:32:56.221Z"
   },
   {
    "duration": 5,
    "start_time": "2021-12-03T18:32:56.284Z"
   },
   {
    "duration": 24,
    "start_time": "2021-12-03T18:32:56.292Z"
   },
   {
    "duration": 10,
    "start_time": "2021-12-03T18:32:56.319Z"
   },
   {
    "duration": 5,
    "start_time": "2021-12-03T18:32:56.383Z"
   },
   {
    "duration": 18,
    "start_time": "2021-12-03T18:32:56.392Z"
   },
   {
    "duration": 407,
    "start_time": "2021-12-03T18:32:56.414Z"
   },
   {
    "duration": 21,
    "start_time": "2021-12-03T18:32:56.823Z"
   },
   {
    "duration": 253,
    "start_time": "2021-12-03T18:32:56.847Z"
   },
   {
    "duration": 21,
    "start_time": "2021-12-03T18:32:57.104Z"
   },
   {
    "duration": 548,
    "start_time": "2021-12-03T18:32:57.128Z"
   },
   {
    "duration": 6,
    "start_time": "2021-12-03T18:32:57.681Z"
   },
   {
    "duration": 6,
    "start_time": "2021-12-03T18:32:57.690Z"
   },
   {
    "duration": 23,
    "start_time": "2021-12-03T18:32:57.699Z"
   },
   {
    "duration": 6,
    "start_time": "2021-12-03T18:32:57.724Z"
   },
   {
    "duration": 57,
    "start_time": "2021-12-03T18:32:57.732Z"
   },
   {
    "duration": 18,
    "start_time": "2021-12-03T18:32:57.791Z"
   },
   {
    "duration": 7,
    "start_time": "2021-12-03T18:32:57.813Z"
   },
   {
    "duration": 11,
    "start_time": "2021-12-03T18:32:57.822Z"
   },
   {
    "duration": 13,
    "start_time": "2021-12-03T18:32:57.883Z"
   },
   {
    "duration": 376,
    "start_time": "2021-12-03T18:32:57.899Z"
   },
   {
    "duration": 30,
    "start_time": "2021-12-03T18:32:58.278Z"
   },
   {
    "duration": 397,
    "start_time": "2021-12-03T18:32:58.311Z"
   },
   {
    "duration": 24,
    "start_time": "2021-12-03T18:32:58.711Z"
   },
   {
    "duration": 423,
    "start_time": "2021-12-03T18:32:58.738Z"
   },
   {
    "duration": 21,
    "start_time": "2021-12-03T18:32:59.164Z"
   },
   {
    "duration": 12,
    "start_time": "2021-12-03T18:32:59.188Z"
   },
   {
    "duration": 21,
    "start_time": "2021-12-03T18:32:59.214Z"
   },
   {
    "duration": 47,
    "start_time": "2021-12-03T18:32:59.238Z"
   },
   {
    "duration": 7,
    "start_time": "2021-12-03T18:32:59.288Z"
   },
   {
    "duration": 21,
    "start_time": "2021-12-03T18:32:59.299Z"
   },
   {
    "duration": 7,
    "start_time": "2021-12-03T18:32:59.323Z"
   },
   {
    "duration": 52,
    "start_time": "2021-12-03T18:32:59.333Z"
   },
   {
    "duration": 18,
    "start_time": "2021-12-03T18:32:59.387Z"
   },
   {
    "duration": 537,
    "start_time": "2021-12-03T18:32:59.409Z"
   },
   {
    "duration": 57,
    "start_time": "2021-12-03T18:32:59.949Z"
   },
   {
    "duration": 6,
    "start_time": "2021-12-03T18:33:00.008Z"
   },
   {
    "duration": 31,
    "start_time": "2021-12-03T18:33:00.016Z"
   },
   {
    "duration": 49,
    "start_time": "2021-12-03T18:33:00.050Z"
   },
   {
    "duration": 21,
    "start_time": "2021-12-03T18:33:00.103Z"
   },
   {
    "duration": 66,
    "start_time": "2021-12-03T18:33:00.127Z"
   },
   {
    "duration": 6,
    "start_time": "2021-12-03T18:33:00.196Z"
   },
   {
    "duration": 44,
    "start_time": "2021-12-03T18:33:00.205Z"
   },
   {
    "duration": 33,
    "start_time": "2021-12-03T18:33:00.252Z"
   },
   {
    "duration": 28,
    "start_time": "2021-12-03T18:33:00.288Z"
   },
   {
    "duration": 203,
    "start_time": "2021-12-04T12:25:26.652Z"
   },
   {
    "duration": 1328,
    "start_time": "2021-12-04T12:25:34.122Z"
   },
   {
    "duration": 11,
    "start_time": "2021-12-04T12:25:35.452Z"
   },
   {
    "duration": 18,
    "start_time": "2021-12-04T12:25:35.466Z"
   },
   {
    "duration": 9,
    "start_time": "2021-12-04T12:25:35.486Z"
   },
   {
    "duration": 16,
    "start_time": "2021-12-04T12:25:35.497Z"
   },
   {
    "duration": 8,
    "start_time": "2021-12-04T12:25:35.515Z"
   },
   {
    "duration": 25,
    "start_time": "2021-12-04T12:25:35.525Z"
   },
   {
    "duration": 39,
    "start_time": "2021-12-04T12:25:35.552Z"
   },
   {
    "duration": 15,
    "start_time": "2021-12-04T12:25:35.593Z"
   },
   {
    "duration": 17,
    "start_time": "2021-12-04T12:25:35.610Z"
   },
   {
    "duration": 22,
    "start_time": "2021-12-04T12:25:35.628Z"
   },
   {
    "duration": 13,
    "start_time": "2021-12-04T12:25:35.651Z"
   },
   {
    "duration": 15,
    "start_time": "2021-12-04T12:25:35.692Z"
   },
   {
    "duration": 20,
    "start_time": "2021-12-04T12:25:35.709Z"
   },
   {
    "duration": 10,
    "start_time": "2021-12-04T12:25:35.731Z"
   },
   {
    "duration": 6,
    "start_time": "2021-12-04T12:25:35.743Z"
   },
   {
    "duration": 8,
    "start_time": "2021-12-04T12:25:35.751Z"
   },
   {
    "duration": 32,
    "start_time": "2021-12-04T12:25:35.760Z"
   },
   {
    "duration": 5,
    "start_time": "2021-12-04T12:25:35.794Z"
   },
   {
    "duration": 181,
    "start_time": "2021-12-04T12:25:35.801Z"
   },
   {
    "duration": 17,
    "start_time": "2021-12-04T12:25:35.984Z"
   },
   {
    "duration": 10,
    "start_time": "2021-12-04T12:25:36.003Z"
   },
   {
    "duration": 26,
    "start_time": "2021-12-04T12:25:36.016Z"
   },
   {
    "duration": 12,
    "start_time": "2021-12-04T12:25:36.045Z"
   },
   {
    "duration": 53,
    "start_time": "2021-12-04T12:25:36.059Z"
   },
   {
    "duration": 26,
    "start_time": "2021-12-04T12:25:36.113Z"
   },
   {
    "duration": 19,
    "start_time": "2021-12-04T12:25:36.140Z"
   },
   {
    "duration": 41,
    "start_time": "2021-12-04T12:25:36.161Z"
   },
   {
    "duration": 41,
    "start_time": "2021-12-04T12:25:36.204Z"
   },
   {
    "duration": 2,
    "start_time": "2021-12-04T12:25:36.247Z"
   },
   {
    "duration": 10,
    "start_time": "2021-12-04T12:25:36.251Z"
   },
   {
    "duration": 55,
    "start_time": "2021-12-04T12:25:36.262Z"
   },
   {
    "duration": -417,
    "start_time": "2021-12-04T12:25:36.738Z"
   },
   {
    "duration": -460,
    "start_time": "2021-12-04T12:25:36.782Z"
   },
   {
    "duration": -726,
    "start_time": "2021-12-04T12:25:37.048Z"
   },
   {
    "duration": -730,
    "start_time": "2021-12-04T12:25:37.053Z"
   },
   {
    "duration": -733,
    "start_time": "2021-12-04T12:25:37.057Z"
   },
   {
    "duration": -737,
    "start_time": "2021-12-04T12:25:37.062Z"
   },
   {
    "duration": -740,
    "start_time": "2021-12-04T12:25:37.066Z"
   },
   {
    "duration": -753,
    "start_time": "2021-12-04T12:25:37.080Z"
   },
   {
    "duration": -757,
    "start_time": "2021-12-04T12:25:37.085Z"
   },
   {
    "duration": -763,
    "start_time": "2021-12-04T12:25:37.091Z"
   },
   {
    "duration": -768,
    "start_time": "2021-12-04T12:25:37.097Z"
   },
   {
    "duration": -772,
    "start_time": "2021-12-04T12:25:37.102Z"
   },
   {
    "duration": -776,
    "start_time": "2021-12-04T12:25:37.107Z"
   },
   {
    "duration": -782,
    "start_time": "2021-12-04T12:25:37.113Z"
   },
   {
    "duration": -785,
    "start_time": "2021-12-04T12:25:37.117Z"
   },
   {
    "duration": -790,
    "start_time": "2021-12-04T12:25:37.123Z"
   },
   {
    "duration": -795,
    "start_time": "2021-12-04T12:25:37.128Z"
   },
   {
    "duration": -799,
    "start_time": "2021-12-04T12:25:37.133Z"
   },
   {
    "duration": -803,
    "start_time": "2021-12-04T12:25:37.138Z"
   },
   {
    "duration": -807,
    "start_time": "2021-12-04T12:25:37.142Z"
   },
   {
    "duration": -811,
    "start_time": "2021-12-04T12:25:37.147Z"
   },
   {
    "duration": -815,
    "start_time": "2021-12-04T12:25:37.152Z"
   },
   {
    "duration": -819,
    "start_time": "2021-12-04T12:25:37.157Z"
   },
   {
    "duration": -824,
    "start_time": "2021-12-04T12:25:37.162Z"
   },
   {
    "duration": -827,
    "start_time": "2021-12-04T12:25:37.166Z"
   },
   {
    "duration": -832,
    "start_time": "2021-12-04T12:25:37.172Z"
   },
   {
    "duration": -835,
    "start_time": "2021-12-04T12:25:37.176Z"
   },
   {
    "duration": -853,
    "start_time": "2021-12-04T12:25:37.194Z"
   },
   {
    "duration": -857,
    "start_time": "2021-12-04T12:25:37.199Z"
   },
   {
    "duration": -862,
    "start_time": "2021-12-04T12:25:37.205Z"
   },
   {
    "duration": -866,
    "start_time": "2021-12-04T12:25:37.210Z"
   },
   {
    "duration": -871,
    "start_time": "2021-12-04T12:25:37.216Z"
   },
   {
    "duration": -876,
    "start_time": "2021-12-04T12:25:37.221Z"
   },
   {
    "duration": -880,
    "start_time": "2021-12-04T12:25:37.226Z"
   },
   {
    "duration": -884,
    "start_time": "2021-12-04T12:25:37.231Z"
   },
   {
    "duration": -888,
    "start_time": "2021-12-04T12:25:37.236Z"
   },
   {
    "duration": -893,
    "start_time": "2021-12-04T12:25:37.242Z"
   },
   {
    "duration": -897,
    "start_time": "2021-12-04T12:25:37.247Z"
   },
   {
    "duration": -901,
    "start_time": "2021-12-04T12:25:37.251Z"
   },
   {
    "duration": -906,
    "start_time": "2021-12-04T12:25:37.257Z"
   },
   {
    "duration": -909,
    "start_time": "2021-12-04T12:25:37.261Z"
   },
   {
    "duration": -913,
    "start_time": "2021-12-04T12:25:37.266Z"
   },
   {
    "duration": -917,
    "start_time": "2021-12-04T12:25:37.271Z"
   },
   {
    "duration": -922,
    "start_time": "2021-12-04T12:25:37.276Z"
   },
   {
    "duration": -925,
    "start_time": "2021-12-04T12:25:37.280Z"
   },
   {
    "duration": -929,
    "start_time": "2021-12-04T12:25:37.285Z"
   },
   {
    "duration": -932,
    "start_time": "2021-12-04T12:25:37.289Z"
   },
   {
    "duration": -951,
    "start_time": "2021-12-04T12:25:37.308Z"
   },
   {
    "duration": -955,
    "start_time": "2021-12-04T12:25:37.313Z"
   },
   {
    "duration": -959,
    "start_time": "2021-12-04T12:25:37.318Z"
   },
   {
    "duration": -964,
    "start_time": "2021-12-04T12:25:37.324Z"
   },
   {
    "duration": -935,
    "start_time": "2021-12-04T12:25:37.329Z"
   },
   {
    "duration": -939,
    "start_time": "2021-12-04T12:25:37.334Z"
   },
   {
    "duration": -943,
    "start_time": "2021-12-04T12:25:37.339Z"
   },
   {
    "duration": -948,
    "start_time": "2021-12-04T12:25:37.344Z"
   },
   {
    "duration": 22,
    "start_time": "2021-12-04T12:26:04.778Z"
   },
   {
    "duration": 16,
    "start_time": "2021-12-04T12:26:09.106Z"
   },
   {
    "duration": 1380,
    "start_time": "2021-12-04T12:28:08.409Z"
   },
   {
    "duration": 10,
    "start_time": "2021-12-04T12:28:09.791Z"
   },
   {
    "duration": 16,
    "start_time": "2021-12-04T12:28:09.803Z"
   },
   {
    "duration": 8,
    "start_time": "2021-12-04T12:28:09.821Z"
   },
   {
    "duration": 9,
    "start_time": "2021-12-04T12:28:09.830Z"
   },
   {
    "duration": 5,
    "start_time": "2021-12-04T12:28:09.841Z"
   },
   {
    "duration": 22,
    "start_time": "2021-12-04T12:28:09.847Z"
   },
   {
    "duration": 31,
    "start_time": "2021-12-04T12:28:09.891Z"
   },
   {
    "duration": 15,
    "start_time": "2021-12-04T12:28:09.924Z"
   },
   {
    "duration": 16,
    "start_time": "2021-12-04T12:28:09.940Z"
   },
   {
    "duration": 43,
    "start_time": "2021-12-04T12:28:09.958Z"
   },
   {
    "duration": 12,
    "start_time": "2021-12-04T12:28:10.002Z"
   },
   {
    "duration": 14,
    "start_time": "2021-12-04T12:28:10.016Z"
   },
   {
    "duration": 19,
    "start_time": "2021-12-04T12:28:10.032Z"
   },
   {
    "duration": 40,
    "start_time": "2021-12-04T12:28:10.052Z"
   },
   {
    "duration": 7,
    "start_time": "2021-12-04T12:28:10.094Z"
   },
   {
    "duration": 9,
    "start_time": "2021-12-04T12:28:10.103Z"
   },
   {
    "duration": 8,
    "start_time": "2021-12-04T12:28:10.114Z"
   },
   {
    "duration": 9,
    "start_time": "2021-12-04T12:28:10.124Z"
   },
   {
    "duration": 179,
    "start_time": "2021-12-04T12:28:10.135Z"
   },
   {
    "duration": 14,
    "start_time": "2021-12-04T12:28:10.316Z"
   },
   {
    "duration": 10,
    "start_time": "2021-12-04T12:28:10.332Z"
   },
   {
    "duration": 45,
    "start_time": "2021-12-04T12:28:10.346Z"
   },
   {
    "duration": 12,
    "start_time": "2021-12-04T12:28:10.394Z"
   },
   {
    "duration": 25,
    "start_time": "2021-12-04T12:28:10.408Z"
   },
   {
    "duration": 25,
    "start_time": "2021-12-04T12:28:10.435Z"
   },
   {
    "duration": 44,
    "start_time": "2021-12-04T12:28:10.461Z"
   },
   {
    "duration": 17,
    "start_time": "2021-12-04T12:28:10.507Z"
   },
   {
    "duration": 41,
    "start_time": "2021-12-04T12:28:10.526Z"
   },
   {
    "duration": 26,
    "start_time": "2021-12-04T12:28:10.569Z"
   },
   {
    "duration": 6,
    "start_time": "2021-12-04T12:28:10.596Z"
   },
   {
    "duration": 8,
    "start_time": "2021-12-04T12:28:10.604Z"
   },
   {
    "duration": 237,
    "start_time": "2021-12-04T12:28:10.613Z"
   },
   {
    "duration": 13,
    "start_time": "2021-12-04T12:28:10.852Z"
   },
   {
    "duration": 159,
    "start_time": "2021-12-04T12:28:10.866Z"
   },
   {
    "duration": 13,
    "start_time": "2021-12-04T12:28:11.026Z"
   },
   {
    "duration": 240,
    "start_time": "2021-12-04T12:28:11.041Z"
   },
   {
    "duration": 9,
    "start_time": "2021-12-04T12:28:11.283Z"
   },
   {
    "duration": 6,
    "start_time": "2021-12-04T12:28:11.294Z"
   },
   {
    "duration": 11,
    "start_time": "2021-12-04T12:28:11.302Z"
   },
   {
    "duration": 4,
    "start_time": "2021-12-04T12:28:11.314Z"
   },
   {
    "duration": 8,
    "start_time": "2021-12-04T12:28:11.319Z"
   },
   {
    "duration": 11,
    "start_time": "2021-12-04T12:28:11.329Z"
   },
   {
    "duration": 3,
    "start_time": "2021-12-04T12:28:11.342Z"
   },
   {
    "duration": 6,
    "start_time": "2021-12-04T12:28:11.346Z"
   },
   {
    "duration": 42,
    "start_time": "2021-12-04T12:28:11.353Z"
   },
   {
    "duration": 202,
    "start_time": "2021-12-04T12:28:11.397Z"
   },
   {
    "duration": 13,
    "start_time": "2021-12-04T12:28:11.601Z"
   },
   {
    "duration": 145,
    "start_time": "2021-12-04T12:28:11.616Z"
   },
   {
    "duration": 12,
    "start_time": "2021-12-04T12:28:11.763Z"
   },
   {
    "duration": 251,
    "start_time": "2021-12-04T12:28:11.776Z"
   },
   {
    "duration": 4,
    "start_time": "2021-12-04T12:28:12.029Z"
   },
   {
    "duration": 8,
    "start_time": "2021-12-04T12:28:12.035Z"
   },
   {
    "duration": 12,
    "start_time": "2021-12-04T12:28:12.045Z"
   },
   {
    "duration": 5,
    "start_time": "2021-12-04T12:28:12.059Z"
   },
   {
    "duration": 27,
    "start_time": "2021-12-04T12:28:12.066Z"
   },
   {
    "duration": 12,
    "start_time": "2021-12-04T12:28:12.095Z"
   },
   {
    "duration": 5,
    "start_time": "2021-12-04T12:28:12.109Z"
   },
   {
    "duration": 5,
    "start_time": "2021-12-04T12:28:12.116Z"
   },
   {
    "duration": 9,
    "start_time": "2021-12-04T12:28:12.123Z"
   },
   {
    "duration": 213,
    "start_time": "2021-12-04T12:28:12.134Z"
   },
   {
    "duration": 14,
    "start_time": "2021-12-04T12:28:12.349Z"
   },
   {
    "duration": 161,
    "start_time": "2021-12-04T12:28:12.365Z"
   },
   {
    "duration": 10,
    "start_time": "2021-12-04T12:28:12.529Z"
   },
   {
    "duration": 232,
    "start_time": "2021-12-04T12:28:12.540Z"
   },
   {
    "duration": 4,
    "start_time": "2021-12-04T12:28:12.773Z"
   },
   {
    "duration": 14,
    "start_time": "2021-12-04T12:28:12.778Z"
   },
   {
    "duration": 9,
    "start_time": "2021-12-04T12:28:12.797Z"
   },
   {
    "duration": 5,
    "start_time": "2021-12-04T12:28:12.808Z"
   },
   {
    "duration": 5,
    "start_time": "2021-12-04T12:28:12.814Z"
   },
   {
    "duration": 10,
    "start_time": "2021-12-04T12:28:12.821Z"
   },
   {
    "duration": 5,
    "start_time": "2021-12-04T12:28:12.832Z"
   },
   {
    "duration": 4,
    "start_time": "2021-12-04T12:28:12.839Z"
   },
   {
    "duration": 9,
    "start_time": "2021-12-04T12:28:12.845Z"
   },
   {
    "duration": 248,
    "start_time": "2021-12-04T12:28:12.855Z"
   },
   {
    "duration": 17,
    "start_time": "2021-12-04T12:28:13.105Z"
   },
   {
    "duration": 3,
    "start_time": "2021-12-04T12:28:13.124Z"
   },
   {
    "duration": 14,
    "start_time": "2021-12-04T12:28:13.129Z"
   },
   {
    "duration": 5,
    "start_time": "2021-12-04T12:28:13.145Z"
   },
   {
    "duration": 10,
    "start_time": "2021-12-04T12:28:13.152Z"
   },
   {
    "duration": 90,
    "start_time": "2021-12-04T12:28:13.191Z"
   },
   {
    "duration": 10,
    "start_time": "2021-12-04T12:28:13.283Z"
   },
   {
    "duration": 16,
    "start_time": "2021-12-04T12:28:13.295Z"
   },
   {
    "duration": 3,
    "start_time": "2021-12-04T12:28:13.313Z"
   },
   {
    "duration": 8,
    "start_time": "2021-12-04T12:28:13.318Z"
   },
   {
    "duration": 7,
    "start_time": "2021-12-04T12:32:20.024Z"
   },
   {
    "duration": 23,
    "start_time": "2021-12-04T12:32:43.143Z"
   },
   {
    "duration": 250,
    "start_time": "2021-12-04T12:32:57.613Z"
   },
   {
    "duration": 203,
    "start_time": "2021-12-04T12:33:04.990Z"
   },
   {
    "duration": 1201,
    "start_time": "2022-04-02T13:12:27.391Z"
   },
   {
    "duration": 399,
    "start_time": "2022-04-02T13:12:30.119Z"
   },
   {
    "duration": 15,
    "start_time": "2022-04-02T13:12:31.010Z"
   },
   {
    "duration": 10,
    "start_time": "2022-04-02T13:13:13.249Z"
   },
   {
    "duration": 10,
    "start_time": "2022-04-02T13:13:13.816Z"
   },
   {
    "duration": 8,
    "start_time": "2022-04-02T13:13:14.069Z"
   },
   {
    "duration": 11,
    "start_time": "2022-04-02T13:13:14.561Z"
   },
   {
    "duration": 8,
    "start_time": "2022-04-02T13:13:14.822Z"
   },
   {
    "duration": 3,
    "start_time": "2022-04-02T13:13:14.984Z"
   },
   {
    "duration": 27,
    "start_time": "2022-04-02T13:13:26.105Z"
   },
   {
    "duration": 33,
    "start_time": "2022-04-02T13:13:26.603Z"
   },
   {
    "duration": 20,
    "start_time": "2022-04-02T13:13:26.873Z"
   },
   {
    "duration": 3,
    "start_time": "2022-04-02T13:15:25.318Z"
   },
   {
    "duration": 502,
    "start_time": "2022-04-02T13:15:25.323Z"
   },
   {
    "duration": 10,
    "start_time": "2022-04-02T13:15:25.827Z"
   },
   {
    "duration": 12,
    "start_time": "2022-04-02T13:15:25.840Z"
   },
   {
    "duration": 22,
    "start_time": "2022-04-02T13:15:25.854Z"
   },
   {
    "duration": 11,
    "start_time": "2022-04-02T13:15:25.878Z"
   },
   {
    "duration": 12,
    "start_time": "2022-04-02T13:15:25.891Z"
   },
   {
    "duration": 6,
    "start_time": "2022-04-02T13:15:25.904Z"
   },
   {
    "duration": 39,
    "start_time": "2022-04-02T13:15:25.913Z"
   },
   {
    "duration": 35,
    "start_time": "2022-04-02T13:15:25.954Z"
   },
   {
    "duration": 19,
    "start_time": "2022-04-02T13:15:25.990Z"
   },
   {
    "duration": 45,
    "start_time": "2022-04-02T13:15:26.011Z"
   },
   {
    "duration": 23,
    "start_time": "2022-04-02T13:15:26.058Z"
   },
   {
    "duration": 16,
    "start_time": "2022-04-02T13:15:26.083Z"
   },
   {
    "duration": 53,
    "start_time": "2022-04-02T13:15:26.101Z"
   },
   {
    "duration": 21,
    "start_time": "2022-04-02T13:15:26.156Z"
   },
   {
    "duration": 15,
    "start_time": "2022-04-02T13:15:26.179Z"
   },
   {
    "duration": 10,
    "start_time": "2022-04-02T13:15:26.196Z"
   },
   {
    "duration": 40,
    "start_time": "2022-04-02T13:15:26.208Z"
   },
   {
    "duration": 9,
    "start_time": "2022-04-02T13:15:26.251Z"
   },
   {
    "duration": 13,
    "start_time": "2022-04-02T13:15:26.262Z"
   },
   {
    "duration": 271,
    "start_time": "2022-04-02T13:15:26.277Z"
   },
   {
    "duration": 24,
    "start_time": "2022-04-02T13:15:26.550Z"
   },
   {
    "duration": 9,
    "start_time": "2022-04-02T13:15:26.579Z"
   },
   {
    "duration": 49,
    "start_time": "2022-04-02T13:15:26.589Z"
   },
   {
    "duration": 17,
    "start_time": "2022-04-02T13:15:26.641Z"
   },
   {
    "duration": 37,
    "start_time": "2022-04-02T13:15:26.660Z"
   },
   {
    "duration": 25,
    "start_time": "2022-04-02T13:15:26.698Z"
   },
   {
    "duration": 42,
    "start_time": "2022-04-02T13:15:26.724Z"
   },
   {
    "duration": 16,
    "start_time": "2022-04-02T13:15:26.769Z"
   },
   {
    "duration": 66,
    "start_time": "2022-04-02T13:15:26.786Z"
   },
   {
    "duration": 9,
    "start_time": "2022-04-02T13:15:26.855Z"
   },
   {
    "duration": 8,
    "start_time": "2022-04-02T13:15:26.865Z"
   },
   {
    "duration": 16,
    "start_time": "2022-04-02T13:15:26.875Z"
   },
   {
    "duration": 141,
    "start_time": "2022-04-02T13:15:26.892Z"
   },
   {
    "duration": 24,
    "start_time": "2022-04-02T13:15:27.037Z"
   },
   {
    "duration": 134,
    "start_time": "2022-04-02T13:15:27.063Z"
   },
   {
    "duration": 12,
    "start_time": "2022-04-02T13:15:27.198Z"
   },
   {
    "duration": 212,
    "start_time": "2022-04-02T13:15:27.212Z"
   },
   {
    "duration": 13,
    "start_time": "2022-04-02T13:15:27.427Z"
   },
   {
    "duration": 9,
    "start_time": "2022-04-02T13:15:27.442Z"
   },
   {
    "duration": 17,
    "start_time": "2022-04-02T13:15:27.454Z"
   },
   {
    "duration": 8,
    "start_time": "2022-04-02T13:15:27.473Z"
   },
   {
    "duration": 6,
    "start_time": "2022-04-02T13:15:27.482Z"
   },
   {
    "duration": 13,
    "start_time": "2022-04-02T13:15:27.490Z"
   },
   {
    "duration": 10,
    "start_time": "2022-04-02T13:15:27.504Z"
   },
   {
    "duration": 25,
    "start_time": "2022-04-02T13:15:27.515Z"
   },
   {
    "duration": 20,
    "start_time": "2022-04-02T13:15:27.543Z"
   },
   {
    "duration": 190,
    "start_time": "2022-04-02T13:15:27.565Z"
   },
   {
    "duration": 16,
    "start_time": "2022-04-02T13:15:27.757Z"
   },
   {
    "duration": 142,
    "start_time": "2022-04-02T13:15:27.775Z"
   },
   {
    "duration": 22,
    "start_time": "2022-04-02T13:15:27.918Z"
   },
   {
    "duration": 234,
    "start_time": "2022-04-02T13:15:27.941Z"
   },
   {
    "duration": 4,
    "start_time": "2022-04-02T13:15:28.177Z"
   },
   {
    "duration": 7,
    "start_time": "2022-04-02T13:15:28.182Z"
   },
   {
    "duration": 12,
    "start_time": "2022-04-02T13:15:28.191Z"
   },
   {
    "duration": 5,
    "start_time": "2022-04-02T13:15:28.205Z"
   },
   {
    "duration": 30,
    "start_time": "2022-04-02T13:15:28.212Z"
   },
   {
    "duration": 19,
    "start_time": "2022-04-02T13:15:28.245Z"
   },
   {
    "duration": 5,
    "start_time": "2022-04-02T13:15:28.266Z"
   },
   {
    "duration": 5,
    "start_time": "2022-04-02T13:15:28.273Z"
   },
   {
    "duration": 11,
    "start_time": "2022-04-02T13:15:28.280Z"
   },
   {
    "duration": 207,
    "start_time": "2022-04-02T13:15:28.293Z"
   },
   {
    "duration": 14,
    "start_time": "2022-04-02T13:15:28.501Z"
   },
   {
    "duration": 158,
    "start_time": "2022-04-02T13:15:28.516Z"
   },
   {
    "duration": 11,
    "start_time": "2022-04-02T13:15:28.676Z"
   },
   {
    "duration": 227,
    "start_time": "2022-04-02T13:15:28.689Z"
   },
   {
    "duration": 4,
    "start_time": "2022-04-02T13:15:28.918Z"
   },
   {
    "duration": 5,
    "start_time": "2022-04-02T13:15:28.937Z"
   },
   {
    "duration": 18,
    "start_time": "2022-04-02T13:15:28.945Z"
   },
   {
    "duration": 7,
    "start_time": "2022-04-02T13:15:28.965Z"
   },
   {
    "duration": 11,
    "start_time": "2022-04-02T13:15:28.974Z"
   },
   {
    "duration": 12,
    "start_time": "2022-04-02T13:15:28.987Z"
   },
   {
    "duration": 9,
    "start_time": "2022-04-02T13:15:29.002Z"
   },
   {
    "duration": 5,
    "start_time": "2022-04-02T13:15:29.038Z"
   },
   {
    "duration": 18,
    "start_time": "2022-04-02T13:15:29.046Z"
   },
   {
    "duration": 216,
    "start_time": "2022-04-02T13:15:29.067Z"
   },
   {
    "duration": 15,
    "start_time": "2022-04-02T13:15:29.285Z"
   },
   {
    "duration": 16,
    "start_time": "2022-04-02T13:15:29.302Z"
   },
   {
    "duration": 20,
    "start_time": "2022-04-02T13:15:29.320Z"
   },
   {
    "duration": 25,
    "start_time": "2022-04-02T13:15:29.343Z"
   },
   {
    "duration": 5,
    "start_time": "2022-04-02T13:15:29.370Z"
   },
   {
    "duration": 10,
    "start_time": "2022-04-02T13:15:29.377Z"
   },
   {
    "duration": 144,
    "start_time": "2022-04-02T13:15:29.388Z"
   },
   {
    "duration": 6,
    "start_time": "2022-04-02T13:15:29.537Z"
   },
   {
    "duration": 22,
    "start_time": "2022-04-02T13:15:29.546Z"
   },
   {
    "duration": 6,
    "start_time": "2022-04-02T13:15:29.570Z"
   },
   {
    "duration": 10,
    "start_time": "2022-04-02T13:15:29.577Z"
   }
  ],
  "kernelspec": {
   "display_name": "Python 3 (ipykernel)",
   "language": "python",
   "name": "python3"
  },
  "language_info": {
   "codemirror_mode": {
    "name": "ipython",
    "version": 3
   },
   "file_extension": ".py",
   "mimetype": "text/x-python",
   "name": "python",
   "nbconvert_exporter": "python",
   "pygments_lexer": "ipython3",
   "version": "3.9.5"
  },
  "toc": {
   "base_numbering": 1,
   "nav_menu": {},
   "number_sections": true,
   "sideBar": true,
   "skip_h1_title": true,
   "title_cell": "Table of Contents",
   "title_sidebar": "Contents",
   "toc_cell": false,
   "toc_position": {},
   "toc_section_display": true,
   "toc_window_display": true
  }
 },
 "nbformat": 4,
 "nbformat_minor": 2
}
