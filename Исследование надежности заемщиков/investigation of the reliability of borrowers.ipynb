{
 "cells": [
  {
   "cell_type": "markdown",
   "metadata": {},
   "source": [
    "# Исследование надёжности заёмщиков\n",
    "\n",
    "Заказчик — кредитный отдел банка. Нужно разобраться, влияет ли семейное положение и количество детей клиента на факт погашения кредита в срок. Входные данные от банка — статистика о платёжеспособности клиентов.\n",
    "\n",
    "Результаты исследования будут учтены при построении модели **кредитного скоринга** — специальной системы, которая оценивает способность потенциального заёмщика вернуть кредит банку."
   ]
  },
  {
   "cell_type": "markdown",
   "metadata": {},
   "source": [
    "## Шаг 1. Откройте файл с данными и изучите общую информацию"
   ]
  },
  {
   "cell_type": "code",
   "execution_count": 1,
   "metadata": {
    "scrolled": true
   },
   "outputs": [
    {
     "data": {
      "text/html": [
       "<div>\n",
       "<style scoped>\n",
       "    .dataframe tbody tr th:only-of-type {\n",
       "        vertical-align: middle;\n",
       "    }\n",
       "\n",
       "    .dataframe tbody tr th {\n",
       "        vertical-align: top;\n",
       "    }\n",
       "\n",
       "    .dataframe thead th {\n",
       "        text-align: right;\n",
       "    }\n",
       "</style>\n",
       "<table border=\"1\" class=\"dataframe\">\n",
       "  <thead>\n",
       "    <tr style=\"text-align: right;\">\n",
       "      <th></th>\n",
       "      <th>children</th>\n",
       "      <th>days_employed</th>\n",
       "      <th>dob_years</th>\n",
       "      <th>education</th>\n",
       "      <th>education_id</th>\n",
       "      <th>family_status</th>\n",
       "      <th>family_status_id</th>\n",
       "      <th>gender</th>\n",
       "      <th>income_type</th>\n",
       "      <th>debt</th>\n",
       "      <th>total_income</th>\n",
       "      <th>purpose</th>\n",
       "    </tr>\n",
       "  </thead>\n",
       "  <tbody>\n",
       "    <tr>\n",
       "      <td>0</td>\n",
       "      <td>1</td>\n",
       "      <td>-8437.673028</td>\n",
       "      <td>42</td>\n",
       "      <td>высшее</td>\n",
       "      <td>0</td>\n",
       "      <td>женат / замужем</td>\n",
       "      <td>0</td>\n",
       "      <td>F</td>\n",
       "      <td>сотрудник</td>\n",
       "      <td>0</td>\n",
       "      <td>253875.639453</td>\n",
       "      <td>покупка жилья</td>\n",
       "    </tr>\n",
       "    <tr>\n",
       "      <td>1</td>\n",
       "      <td>1</td>\n",
       "      <td>-4024.803754</td>\n",
       "      <td>36</td>\n",
       "      <td>среднее</td>\n",
       "      <td>1</td>\n",
       "      <td>женат / замужем</td>\n",
       "      <td>0</td>\n",
       "      <td>F</td>\n",
       "      <td>сотрудник</td>\n",
       "      <td>0</td>\n",
       "      <td>112080.014102</td>\n",
       "      <td>приобретение автомобиля</td>\n",
       "    </tr>\n",
       "    <tr>\n",
       "      <td>2</td>\n",
       "      <td>0</td>\n",
       "      <td>-5623.422610</td>\n",
       "      <td>33</td>\n",
       "      <td>Среднее</td>\n",
       "      <td>1</td>\n",
       "      <td>женат / замужем</td>\n",
       "      <td>0</td>\n",
       "      <td>M</td>\n",
       "      <td>сотрудник</td>\n",
       "      <td>0</td>\n",
       "      <td>145885.952297</td>\n",
       "      <td>покупка жилья</td>\n",
       "    </tr>\n",
       "    <tr>\n",
       "      <td>3</td>\n",
       "      <td>3</td>\n",
       "      <td>-4124.747207</td>\n",
       "      <td>32</td>\n",
       "      <td>среднее</td>\n",
       "      <td>1</td>\n",
       "      <td>женат / замужем</td>\n",
       "      <td>0</td>\n",
       "      <td>M</td>\n",
       "      <td>сотрудник</td>\n",
       "      <td>0</td>\n",
       "      <td>267628.550329</td>\n",
       "      <td>дополнительное образование</td>\n",
       "    </tr>\n",
       "    <tr>\n",
       "      <td>4</td>\n",
       "      <td>0</td>\n",
       "      <td>340266.072047</td>\n",
       "      <td>53</td>\n",
       "      <td>среднее</td>\n",
       "      <td>1</td>\n",
       "      <td>гражданский брак</td>\n",
       "      <td>1</td>\n",
       "      <td>F</td>\n",
       "      <td>пенсионер</td>\n",
       "      <td>0</td>\n",
       "      <td>158616.077870</td>\n",
       "      <td>сыграть свадьбу</td>\n",
       "    </tr>\n",
       "  </tbody>\n",
       "</table>\n",
       "</div>"
      ],
      "text/plain": [
       "   children  days_employed  dob_years education  education_id  \\\n",
       "0         1   -8437.673028         42    высшее             0   \n",
       "1         1   -4024.803754         36   среднее             1   \n",
       "2         0   -5623.422610         33   Среднее             1   \n",
       "3         3   -4124.747207         32   среднее             1   \n",
       "4         0  340266.072047         53   среднее             1   \n",
       "\n",
       "      family_status  family_status_id gender income_type  debt   total_income  \\\n",
       "0   женат / замужем                 0      F   сотрудник     0  253875.639453   \n",
       "1   женат / замужем                 0      F   сотрудник     0  112080.014102   \n",
       "2   женат / замужем                 0      M   сотрудник     0  145885.952297   \n",
       "3   женат / замужем                 0      M   сотрудник     0  267628.550329   \n",
       "4  гражданский брак                 1      F   пенсионер     0  158616.077870   \n",
       "\n",
       "                      purpose  \n",
       "0               покупка жилья  \n",
       "1     приобретение автомобиля  \n",
       "2               покупка жилья  \n",
       "3  дополнительное образование  \n",
       "4             сыграть свадьбу  "
      ]
     },
     "execution_count": 1,
     "metadata": {},
     "output_type": "execute_result"
    }
   ],
   "source": [
    "import pandas as pd #импоритируем библиотеку pandas\n",
    "data = pd.read_csv('/datasets/data.csv') #читаем файл и записиваем его в переенную\n",
    "data.head() #часть таблицы "
   ]
  },
  {
   "cell_type": "code",
   "execution_count": 2,
   "metadata": {},
   "outputs": [
    {
     "data": {
      "text/plain": [
       "children               0\n",
       "days_employed       2174\n",
       "dob_years              0\n",
       "education              0\n",
       "education_id           0\n",
       "family_status          0\n",
       "family_status_id       0\n",
       "gender                 0\n",
       "income_type            0\n",
       "debt                   0\n",
       "total_income        2174\n",
       "purpose                0\n",
       "dtype: int64"
      ]
     },
     "execution_count": 2,
     "metadata": {},
     "output_type": "execute_result"
    }
   ],
   "source": [
    "data.isna().sum() "
   ]
  },
  {
   "cell_type": "markdown",
   "metadata": {},
   "source": [
    "**Вывод**"
   ]
  },
  {
   "cell_type": "markdown",
   "metadata": {},
   "source": [
    "В основном цель кредита: сыграть свадьбу, образовательные курсы, либо крупная покупка(жилье или авто)\n",
    "Пропущенные значения только в столбцах 'days_employed — общий трудовой стаж в днях' и 'total_income — ежемесячный доход'\n",
    "Значенения со знаком минус в столбце  days_employed (общий трудовой стаж) это стаж в днях, а значения без знака минус это стаж в часах.(Вполне возможно что в СССР стаж начинался с 8 лет) \n",
    "Отрицатеьное значение стажа скорее всего резуьтат работы программы, в которую вносии даты начала стажа и она возвращаа отрицатеьное значение.\n",
    "___"
   ]
  },
  {
   "cell_type": "markdown",
   "metadata": {},
   "source": [
    "# Шаг 2. Предобработка данных"
   ]
  },
  {
   "cell_type": "markdown",
   "metadata": {},
   "source": [
    "### Обработка пропусков"
   ]
  },
  {
   "cell_type": "code",
   "execution_count": 3,
   "metadata": {},
   "outputs": [],
   "source": [
    "data['total_income'] = data['total_income'].fillna(data.groupby('income_type')['total_income'].transform('mean'))\n",
    "#заполняем пропущенные значения: все виды доходов заполняем средними значениями "
   ]
  },
  {
   "cell_type": "code",
   "execution_count": 4,
   "metadata": {},
   "outputs": [
    {
     "name": "stdout",
     "output_type": "stream",
     "text": [
      "children               0\n",
      "days_employed       2174\n",
      "dob_years              0\n",
      "education              0\n",
      "education_id           0\n",
      "family_status          0\n",
      "family_status_id       0\n",
      "gender                 0\n",
      "income_type            0\n",
      "debt                   0\n",
      "total_income           0\n",
      "purpose                0\n",
      "dtype: int64\n",
      "children            0\n",
      "days_employed       0\n",
      "dob_years           0\n",
      "education           0\n",
      "education_id        0\n",
      "family_status       0\n",
      "family_status_id    0\n",
      "gender              0\n",
      "income_type         0\n",
      "debt                0\n",
      "total_income        0\n",
      "purpose             0\n",
      "dtype: int64\n"
     ]
    }
   ],
   "source": [
    "print(data.isnull().sum())\n",
    "data = data.fillna(0) #оставшиеся пропуски заменяем на ноль\n",
    "print(data.isnull().sum())"
   ]
  },
  {
   "cell_type": "code",
   "execution_count": 5,
   "metadata": {},
   "outputs": [
    {
     "data": {
      "text/plain": [
       "0    14149\n",
       "1     4865\n",
       "2     2131\n",
       "3      330\n",
       "4       41\n",
       "5        9\n",
       "Name: children, dtype: int64"
      ]
     },
     "execution_count": 5,
     "metadata": {},
     "output_type": "execute_result"
    }
   ],
   "source": [
    "data['children'].value_counts()\n",
    "data['children'] = data['children'].replace(20,2) #В стлобце с количесвтом детей 20 заменяем на 2\n",
    "#(предположительно лишний ноль добавили), со знаечением -1 заменяем на 1.\n",
    "data['children'] = data['children'].replace(-1,1)\n",
    "data['children'].value_counts()"
   ]
  },
  {
   "cell_type": "code",
   "execution_count": 6,
   "metadata": {
    "scrolled": true
   },
   "outputs": [
    {
     "name": "stdout",
     "output_type": "stream",
     "text": [
      "43\n"
     ]
    },
    {
     "data": {
      "text/plain": [
       "35    617\n",
       "43    614\n",
       "40    609\n",
       "41    607\n",
       "34    603\n",
       "38    598\n",
       "42    597\n",
       "33    581\n",
       "39    573\n",
       "31    560\n",
       "36    555\n",
       "44    547\n",
       "29    545\n",
       "30    540\n",
       "48    538\n",
       "37    537\n",
       "50    514\n",
       "32    510\n",
       "49    508\n",
       "28    503\n",
       "45    497\n",
       "27    493\n",
       "56    487\n",
       "52    484\n",
       "47    480\n",
       "54    479\n",
       "46    475\n",
       "58    461\n",
       "57    460\n",
       "53    459\n",
       "51    448\n",
       "59    444\n",
       "55    443\n",
       "26    408\n",
       "60    377\n",
       "25    357\n",
       "61    355\n",
       "62    352\n",
       "63    269\n",
       "64    265\n",
       "24    264\n",
       "23    254\n",
       "65    194\n",
       "66    183\n",
       "22    183\n",
       "67    167\n",
       "21    111\n",
       "68     99\n",
       "69     85\n",
       "70     65\n",
       "71     58\n",
       "20     51\n",
       "72     33\n",
       "19     14\n",
       "73      8\n",
       "74      6\n",
       "75      1\n",
       "Name: dob_years, dtype: int64"
      ]
     },
     "execution_count": 6,
     "metadata": {},
     "output_type": "execute_result"
    }
   ],
   "source": [
    "data['dob_years'].value_counts()\n",
    "dob_years_mean = data['dob_years'].mean().astype('int')\n",
    "print(dob_years_mean)\n",
    "data['dob_years'] = data['dob_years'].replace(0,dob_years_mean)\n",
    "#Нулевые значения  в столбце возраст мы заменяем на среднее\n",
    "#значение возраста в этом стоблце, чтобы не потерять важные данные и картина не искажалась(не медиана потому что в столбце\n",
    "#нет выдающихся значений, можно обойтись средним возрастом(тем более медиана и стреднее одинаковы - 43)).\n",
    "data['dob_years'].value_counts()"
   ]
  },
  {
   "cell_type": "code",
   "execution_count": 7,
   "metadata": {},
   "outputs": [],
   "source": [
    "data['gender'].value_counts()\n",
    "data['gender'] = data['gender'].replace('XNA','F') #некорректное значение заменяем на F, тк F чаще всего встречается"
   ]
  },
  {
   "cell_type": "code",
   "execution_count": 8,
   "metadata": {},
   "outputs": [],
   "source": [
    "data.loc[(data['days_employed'] > 0), 'days_employed'] = data['days_employed'] / 24 #в столбце 'общий трудовой стаж в днях'\n",
    "#переводим часы в дни\n",
    "data.loc[(data['days_employed'] < 0), 'days_employed'] = data['days_employed'] * (-1) #убираем минус в значениях столбца"
   ]
  },
  {
   "cell_type": "code",
   "execution_count": 9,
   "metadata": {},
   "outputs": [
    {
     "name": "stdout",
     "output_type": "stream",
     "text": [
      "1808\n",
      "151931\n"
     ]
    }
   ],
   "source": [
    "days_employed_median =  data['days_employed'].median().astype('int') \n",
    "print(days_employed_median)\n",
    "data['days_employed'] = data['days_employed'].replace(0,days_employed_median)\n",
    "#заменяем нулевые значения на медианы, тк есть выдающееся значения\n",
    "total_income_median =  data['total_income'].median().astype('int') \n",
    "print(total_income_median)\n",
    "data['total_income'] = data['total_income'].replace(0,total_income_median)\n",
    "\n",
    "data['total_income'] = data['total_income'] / 12 #переводим годовую зарплату в месячную"
   ]
  },
  {
   "cell_type": "code",
   "execution_count": 10,
   "metadata": {
    "scrolled": true
   },
   "outputs": [
    {
     "data": {
      "text/html": [
       "<div>\n",
       "<style scoped>\n",
       "    .dataframe tbody tr th:only-of-type {\n",
       "        vertical-align: middle;\n",
       "    }\n",
       "\n",
       "    .dataframe tbody tr th {\n",
       "        vertical-align: top;\n",
       "    }\n",
       "\n",
       "    .dataframe thead th {\n",
       "        text-align: right;\n",
       "    }\n",
       "</style>\n",
       "<table border=\"1\" class=\"dataframe\">\n",
       "  <thead>\n",
       "    <tr style=\"text-align: right;\">\n",
       "      <th></th>\n",
       "      <th>children</th>\n",
       "      <th>days_employed</th>\n",
       "      <th>dob_years</th>\n",
       "      <th>education</th>\n",
       "      <th>education_id</th>\n",
       "      <th>family_status</th>\n",
       "      <th>family_status_id</th>\n",
       "      <th>gender</th>\n",
       "      <th>income_type</th>\n",
       "      <th>debt</th>\n",
       "      <th>total_income</th>\n",
       "      <th>purpose</th>\n",
       "    </tr>\n",
       "  </thead>\n",
       "  <tbody>\n",
       "    <tr>\n",
       "      <td>0</td>\n",
       "      <td>1</td>\n",
       "      <td>8437.673028</td>\n",
       "      <td>42</td>\n",
       "      <td>высшее</td>\n",
       "      <td>0</td>\n",
       "      <td>женат / замужем</td>\n",
       "      <td>0</td>\n",
       "      <td>F</td>\n",
       "      <td>сотрудник</td>\n",
       "      <td>0</td>\n",
       "      <td>21156.303288</td>\n",
       "      <td>покупка жилья</td>\n",
       "    </tr>\n",
       "    <tr>\n",
       "      <td>1</td>\n",
       "      <td>1</td>\n",
       "      <td>4024.803754</td>\n",
       "      <td>36</td>\n",
       "      <td>среднее</td>\n",
       "      <td>1</td>\n",
       "      <td>женат / замужем</td>\n",
       "      <td>0</td>\n",
       "      <td>F</td>\n",
       "      <td>сотрудник</td>\n",
       "      <td>0</td>\n",
       "      <td>9340.001175</td>\n",
       "      <td>приобретение автомобиля</td>\n",
       "    </tr>\n",
       "    <tr>\n",
       "      <td>2</td>\n",
       "      <td>0</td>\n",
       "      <td>5623.422610</td>\n",
       "      <td>33</td>\n",
       "      <td>Среднее</td>\n",
       "      <td>1</td>\n",
       "      <td>женат / замужем</td>\n",
       "      <td>0</td>\n",
       "      <td>M</td>\n",
       "      <td>сотрудник</td>\n",
       "      <td>0</td>\n",
       "      <td>12157.162691</td>\n",
       "      <td>покупка жилья</td>\n",
       "    </tr>\n",
       "    <tr>\n",
       "      <td>3</td>\n",
       "      <td>3</td>\n",
       "      <td>4124.747207</td>\n",
       "      <td>32</td>\n",
       "      <td>среднее</td>\n",
       "      <td>1</td>\n",
       "      <td>женат / замужем</td>\n",
       "      <td>0</td>\n",
       "      <td>M</td>\n",
       "      <td>сотрудник</td>\n",
       "      <td>0</td>\n",
       "      <td>22302.379194</td>\n",
       "      <td>дополнительное образование</td>\n",
       "    </tr>\n",
       "    <tr>\n",
       "      <td>4</td>\n",
       "      <td>0</td>\n",
       "      <td>14177.753002</td>\n",
       "      <td>53</td>\n",
       "      <td>среднее</td>\n",
       "      <td>1</td>\n",
       "      <td>гражданский брак</td>\n",
       "      <td>1</td>\n",
       "      <td>F</td>\n",
       "      <td>пенсионер</td>\n",
       "      <td>0</td>\n",
       "      <td>13218.006489</td>\n",
       "      <td>сыграть свадьбу</td>\n",
       "    </tr>\n",
       "    <tr>\n",
       "      <td>5</td>\n",
       "      <td>0</td>\n",
       "      <td>926.185831</td>\n",
       "      <td>27</td>\n",
       "      <td>высшее</td>\n",
       "      <td>0</td>\n",
       "      <td>гражданский брак</td>\n",
       "      <td>1</td>\n",
       "      <td>M</td>\n",
       "      <td>компаньон</td>\n",
       "      <td>0</td>\n",
       "      <td>21313.630452</td>\n",
       "      <td>покупка жилья</td>\n",
       "    </tr>\n",
       "    <tr>\n",
       "      <td>6</td>\n",
       "      <td>0</td>\n",
       "      <td>2879.202052</td>\n",
       "      <td>43</td>\n",
       "      <td>высшее</td>\n",
       "      <td>0</td>\n",
       "      <td>женат / замужем</td>\n",
       "      <td>0</td>\n",
       "      <td>F</td>\n",
       "      <td>компаньон</td>\n",
       "      <td>0</td>\n",
       "      <td>20043.830993</td>\n",
       "      <td>операции с жильем</td>\n",
       "    </tr>\n",
       "    <tr>\n",
       "      <td>7</td>\n",
       "      <td>0</td>\n",
       "      <td>152.779569</td>\n",
       "      <td>50</td>\n",
       "      <td>СРЕДНЕЕ</td>\n",
       "      <td>1</td>\n",
       "      <td>женат / замужем</td>\n",
       "      <td>0</td>\n",
       "      <td>M</td>\n",
       "      <td>сотрудник</td>\n",
       "      <td>0</td>\n",
       "      <td>11318.661183</td>\n",
       "      <td>образование</td>\n",
       "    </tr>\n",
       "    <tr>\n",
       "      <td>8</td>\n",
       "      <td>2</td>\n",
       "      <td>6929.865299</td>\n",
       "      <td>35</td>\n",
       "      <td>ВЫСШЕЕ</td>\n",
       "      <td>0</td>\n",
       "      <td>гражданский брак</td>\n",
       "      <td>1</td>\n",
       "      <td>F</td>\n",
       "      <td>сотрудник</td>\n",
       "      <td>0</td>\n",
       "      <td>7988.069369</td>\n",
       "      <td>на проведение свадьбы</td>\n",
       "    </tr>\n",
       "    <tr>\n",
       "      <td>9</td>\n",
       "      <td>0</td>\n",
       "      <td>2188.756445</td>\n",
       "      <td>41</td>\n",
       "      <td>среднее</td>\n",
       "      <td>1</td>\n",
       "      <td>женат / замужем</td>\n",
       "      <td>0</td>\n",
       "      <td>M</td>\n",
       "      <td>сотрудник</td>\n",
       "      <td>0</td>\n",
       "      <td>12035.494856</td>\n",
       "      <td>покупка жилья для семьи</td>\n",
       "    </tr>\n",
       "    <tr>\n",
       "      <td>10</td>\n",
       "      <td>2</td>\n",
       "      <td>4171.483647</td>\n",
       "      <td>36</td>\n",
       "      <td>высшее</td>\n",
       "      <td>0</td>\n",
       "      <td>женат / замужем</td>\n",
       "      <td>0</td>\n",
       "      <td>M</td>\n",
       "      <td>компаньон</td>\n",
       "      <td>0</td>\n",
       "      <td>9495.290955</td>\n",
       "      <td>покупка недвижимости</td>\n",
       "    </tr>\n",
       "    <tr>\n",
       "      <td>11</td>\n",
       "      <td>0</td>\n",
       "      <td>792.701887</td>\n",
       "      <td>40</td>\n",
       "      <td>среднее</td>\n",
       "      <td>1</td>\n",
       "      <td>женат / замужем</td>\n",
       "      <td>0</td>\n",
       "      <td>F</td>\n",
       "      <td>сотрудник</td>\n",
       "      <td>0</td>\n",
       "      <td>6422.436189</td>\n",
       "      <td>покупка коммерческой недвижимости</td>\n",
       "    </tr>\n",
       "    <tr>\n",
       "      <td>12</td>\n",
       "      <td>0</td>\n",
       "      <td>1808.000000</td>\n",
       "      <td>65</td>\n",
       "      <td>среднее</td>\n",
       "      <td>1</td>\n",
       "      <td>гражданский брак</td>\n",
       "      <td>1</td>\n",
       "      <td>M</td>\n",
       "      <td>пенсионер</td>\n",
       "      <td>0</td>\n",
       "      <td>11427.288808</td>\n",
       "      <td>сыграть свадьбу</td>\n",
       "    </tr>\n",
       "  </tbody>\n",
       "</table>\n",
       "</div>"
      ],
      "text/plain": [
       "    children  days_employed  dob_years education  education_id  \\\n",
       "0          1    8437.673028         42    высшее             0   \n",
       "1          1    4024.803754         36   среднее             1   \n",
       "2          0    5623.422610         33   Среднее             1   \n",
       "3          3    4124.747207         32   среднее             1   \n",
       "4          0   14177.753002         53   среднее             1   \n",
       "5          0     926.185831         27    высшее             0   \n",
       "6          0    2879.202052         43    высшее             0   \n",
       "7          0     152.779569         50   СРЕДНЕЕ             1   \n",
       "8          2    6929.865299         35    ВЫСШЕЕ             0   \n",
       "9          0    2188.756445         41   среднее             1   \n",
       "10         2    4171.483647         36    высшее             0   \n",
       "11         0     792.701887         40   среднее             1   \n",
       "12         0    1808.000000         65   среднее             1   \n",
       "\n",
       "       family_status  family_status_id gender income_type  debt  total_income  \\\n",
       "0    женат / замужем                 0      F   сотрудник     0  21156.303288   \n",
       "1    женат / замужем                 0      F   сотрудник     0   9340.001175   \n",
       "2    женат / замужем                 0      M   сотрудник     0  12157.162691   \n",
       "3    женат / замужем                 0      M   сотрудник     0  22302.379194   \n",
       "4   гражданский брак                 1      F   пенсионер     0  13218.006489   \n",
       "5   гражданский брак                 1      M   компаньон     0  21313.630452   \n",
       "6    женат / замужем                 0      F   компаньон     0  20043.830993   \n",
       "7    женат / замужем                 0      M   сотрудник     0  11318.661183   \n",
       "8   гражданский брак                 1      F   сотрудник     0   7988.069369   \n",
       "9    женат / замужем                 0      M   сотрудник     0  12035.494856   \n",
       "10   женат / замужем                 0      M   компаньон     0   9495.290955   \n",
       "11   женат / замужем                 0      F   сотрудник     0   6422.436189   \n",
       "12  гражданский брак                 1      M   пенсионер     0  11427.288808   \n",
       "\n",
       "                              purpose  \n",
       "0                       покупка жилья  \n",
       "1             приобретение автомобиля  \n",
       "2                       покупка жилья  \n",
       "3          дополнительное образование  \n",
       "4                     сыграть свадьбу  \n",
       "5                       покупка жилья  \n",
       "6                   операции с жильем  \n",
       "7                         образование  \n",
       "8               на проведение свадьбы  \n",
       "9             покупка жилья для семьи  \n",
       "10               покупка недвижимости  \n",
       "11  покупка коммерческой недвижимости  \n",
       "12                    сыграть свадьбу  "
      ]
     },
     "execution_count": 10,
     "metadata": {},
     "output_type": "execute_result"
    }
   ],
   "source": [
    "data.head(13)"
   ]
  },
  {
   "cell_type": "markdown",
   "metadata": {},
   "source": [
    "**Вывод**"
   ]
  },
  {
   "cell_type": "markdown",
   "metadata": {},
   "source": [
    "В стлобце с количесвтом детей 20 заменяем на 2(предположительно лишний ноль добавили), со знаечением -1 заменяем на 1.\n",
    "Нулевые значения  в столбце возраст мы заменяем на среднее значение возраста в этом стоблце, чтобы не потерять важные данные и картина не искажалась(не медиана потому что в столбце нет выдающихся значений, можно обойтись средним возрастом(тем более медиана и стреднее одинаковы - 43)).\n",
    "Заменяем отрицательные значения в столбцах общий 'трудовой стаж в днях' на положительные с помощью метода .loc\n",
    "Нулевые значения в столбцах 'общий трудовой стаж в днях' и 'ежемесячный доход' заменяем на медианы.\n",
    "Предположительно годовую зарплату мы перемели в месячную.\n",
    "\n",
    "В итоге мы не удаляли строк, чем сохрании информацию."
   ]
  },
  {
   "cell_type": "markdown",
   "metadata": {},
   "source": [
    "### Замена типа данных"
   ]
  },
  {
   "cell_type": "code",
   "execution_count": 11,
   "metadata": {},
   "outputs": [
    {
     "name": "stdout",
     "output_type": "stream",
     "text": [
      "<class 'pandas.core.frame.DataFrame'>\n",
      "RangeIndex: 21525 entries, 0 to 21524\n",
      "Data columns (total 12 columns):\n",
      "children            21525 non-null int64\n",
      "days_employed       21525 non-null int64\n",
      "dob_years           21525 non-null int64\n",
      "education           21525 non-null object\n",
      "education_id        21525 non-null int64\n",
      "family_status       21525 non-null object\n",
      "family_status_id    21525 non-null int64\n",
      "gender              21525 non-null object\n",
      "income_type         21525 non-null object\n",
      "debt                21525 non-null int64\n",
      "total_income        21525 non-null int64\n",
      "purpose             21525 non-null object\n",
      "dtypes: int64(7), object(5)\n",
      "memory usage: 2.0+ MB\n"
     ]
    }
   ],
   "source": [
    "#data.info()\n",
    "data['days_employed'] = data['days_employed'].astype('int') #переводим значения в столбцах 'общий трудовой стаж в днях' и \n",
    "#'ежемесячный доход' в целочисленные для упрощения\n",
    "data['total_income'] = data['total_income'].astype('int')\n",
    "data.info()\n",
    "\n"
   ]
  },
  {
   "cell_type": "markdown",
   "metadata": {},
   "source": [
    "**Вывод**"
   ]
  },
  {
   "cell_type": "markdown",
   "metadata": {},
   "source": [
    "Мы имеем 5 столбцов с типом данных строки и 7 столбцов с целочисленными значениями."
   ]
  },
  {
   "cell_type": "markdown",
   "metadata": {},
   "source": [
    "### Обработка дубликатов"
   ]
  },
  {
   "cell_type": "code",
   "execution_count": 12,
   "metadata": {},
   "outputs": [
    {
     "name": "stdout",
     "output_type": "stream",
     "text": [
      "71\n",
      "0\n"
     ]
    }
   ],
   "source": [
    "#data['education'].value_counts()\n",
    "\n",
    "data['education'] = data['education'].str.lower()\n",
    "data['family_status'] = data['family_status'].str.lower()\n",
    "data['gender'] = data['gender'].str.lower()\n",
    "data['income_type'] = data['income_type'].str.lower()      #приводим все строковые столбцы к нижнему регистру\n",
    "data['purpose'] = data['purpose'].str.lower()\n",
    "###\n",
    "print(data.duplicated().sum()) #определяем количество дубликатов\n",
    "data = data.drop_duplicates().reset_index(drop= True) #удаляем дубликаты методом .drop_duplicates()\n",
    "print(data.duplicated().sum()) #проверяем наличие дубликатов"
   ]
  },
  {
   "cell_type": "markdown",
   "metadata": {},
   "source": [
    "**Вывод**"
   ]
  },
  {
   "cell_type": "markdown",
   "metadata": {},
   "source": [
    "В таблице был 71 дубликат, теперь таковых нет."
   ]
  },
  {
   "cell_type": "markdown",
   "metadata": {},
   "source": [
    "### Лемматизация"
   ]
  },
  {
   "cell_type": "code",
   "execution_count": 13,
   "metadata": {
    "scrolled": true
   },
   "outputs": [],
   "source": [
    "from pymystem3 import Mystem #импортируем библиотеку лемматизации\n",
    "m = Mystem()\n",
    "#data['purpose'].value_counts() #смотрим варианты целей для будущей категоризации\n",
    "def lem_purpose(row):\n",
    "    lemmas = m.lemmatize(row[\"purpose\"])\n",
    "    return lemmas\n",
    "data['lemmased_purpose'] = data.apply(lem_purpose, axis=1)\n",
    "#определяем и применяем фунцию лемматизации по строкам в нужном нам столбце \"цели кредита\""
   ]
  },
  {
   "cell_type": "code",
   "execution_count": 14,
   "metadata": {},
   "outputs": [
    {
     "data": {
      "text/html": [
       "<div>\n",
       "<style scoped>\n",
       "    .dataframe tbody tr th:only-of-type {\n",
       "        vertical-align: middle;\n",
       "    }\n",
       "\n",
       "    .dataframe tbody tr th {\n",
       "        vertical-align: top;\n",
       "    }\n",
       "\n",
       "    .dataframe thead th {\n",
       "        text-align: right;\n",
       "    }\n",
       "</style>\n",
       "<table border=\"1\" class=\"dataframe\">\n",
       "  <thead>\n",
       "    <tr style=\"text-align: right;\">\n",
       "      <th></th>\n",
       "      <th>children</th>\n",
       "      <th>days_employed</th>\n",
       "      <th>dob_years</th>\n",
       "      <th>education</th>\n",
       "      <th>education_id</th>\n",
       "      <th>family_status</th>\n",
       "      <th>family_status_id</th>\n",
       "      <th>gender</th>\n",
       "      <th>income_type</th>\n",
       "      <th>debt</th>\n",
       "      <th>total_income</th>\n",
       "      <th>purpose</th>\n",
       "      <th>lemmased_purpose</th>\n",
       "      <th>concrete_purpose</th>\n",
       "    </tr>\n",
       "  </thead>\n",
       "  <tbody>\n",
       "    <tr>\n",
       "      <td>0</td>\n",
       "      <td>1</td>\n",
       "      <td>8437</td>\n",
       "      <td>42</td>\n",
       "      <td>высшее</td>\n",
       "      <td>0</td>\n",
       "      <td>женат / замужем</td>\n",
       "      <td>0</td>\n",
       "      <td>f</td>\n",
       "      <td>сотрудник</td>\n",
       "      <td>0</td>\n",
       "      <td>21156</td>\n",
       "      <td>покупка жилья</td>\n",
       "      <td>[покупка,  , жилье, \\n]</td>\n",
       "      <td>покупка недвижимости</td>\n",
       "    </tr>\n",
       "    <tr>\n",
       "      <td>1</td>\n",
       "      <td>1</td>\n",
       "      <td>4024</td>\n",
       "      <td>36</td>\n",
       "      <td>среднее</td>\n",
       "      <td>1</td>\n",
       "      <td>женат / замужем</td>\n",
       "      <td>0</td>\n",
       "      <td>f</td>\n",
       "      <td>сотрудник</td>\n",
       "      <td>0</td>\n",
       "      <td>9340</td>\n",
       "      <td>приобретение автомобиля</td>\n",
       "      <td>[приобретение,  , автомобиль, \\n]</td>\n",
       "      <td>покупка авто</td>\n",
       "    </tr>\n",
       "    <tr>\n",
       "      <td>2</td>\n",
       "      <td>0</td>\n",
       "      <td>5623</td>\n",
       "      <td>33</td>\n",
       "      <td>среднее</td>\n",
       "      <td>1</td>\n",
       "      <td>женат / замужем</td>\n",
       "      <td>0</td>\n",
       "      <td>m</td>\n",
       "      <td>сотрудник</td>\n",
       "      <td>0</td>\n",
       "      <td>12157</td>\n",
       "      <td>покупка жилья</td>\n",
       "      <td>[покупка,  , жилье, \\n]</td>\n",
       "      <td>покупка недвижимости</td>\n",
       "    </tr>\n",
       "    <tr>\n",
       "      <td>3</td>\n",
       "      <td>3</td>\n",
       "      <td>4124</td>\n",
       "      <td>32</td>\n",
       "      <td>среднее</td>\n",
       "      <td>1</td>\n",
       "      <td>женат / замужем</td>\n",
       "      <td>0</td>\n",
       "      <td>m</td>\n",
       "      <td>сотрудник</td>\n",
       "      <td>0</td>\n",
       "      <td>22302</td>\n",
       "      <td>дополнительное образование</td>\n",
       "      <td>[дополнительный,  , образование, \\n]</td>\n",
       "      <td>получение образования</td>\n",
       "    </tr>\n",
       "    <tr>\n",
       "      <td>4</td>\n",
       "      <td>0</td>\n",
       "      <td>14177</td>\n",
       "      <td>53</td>\n",
       "      <td>среднее</td>\n",
       "      <td>1</td>\n",
       "      <td>гражданский брак</td>\n",
       "      <td>1</td>\n",
       "      <td>f</td>\n",
       "      <td>пенсионер</td>\n",
       "      <td>0</td>\n",
       "      <td>13218</td>\n",
       "      <td>сыграть свадьбу</td>\n",
       "      <td>[сыграть,  , свадьба, \\n]</td>\n",
       "      <td>проведение свадьбы</td>\n",
       "    </tr>\n",
       "    <tr>\n",
       "      <td>5</td>\n",
       "      <td>0</td>\n",
       "      <td>926</td>\n",
       "      <td>27</td>\n",
       "      <td>высшее</td>\n",
       "      <td>0</td>\n",
       "      <td>гражданский брак</td>\n",
       "      <td>1</td>\n",
       "      <td>m</td>\n",
       "      <td>компаньон</td>\n",
       "      <td>0</td>\n",
       "      <td>21313</td>\n",
       "      <td>покупка жилья</td>\n",
       "      <td>[покупка,  , жилье, \\n]</td>\n",
       "      <td>покупка недвижимости</td>\n",
       "    </tr>\n",
       "    <tr>\n",
       "      <td>6</td>\n",
       "      <td>0</td>\n",
       "      <td>2879</td>\n",
       "      <td>43</td>\n",
       "      <td>высшее</td>\n",
       "      <td>0</td>\n",
       "      <td>женат / замужем</td>\n",
       "      <td>0</td>\n",
       "      <td>f</td>\n",
       "      <td>компаньон</td>\n",
       "      <td>0</td>\n",
       "      <td>20043</td>\n",
       "      <td>операции с жильем</td>\n",
       "      <td>[операция,  , с,  , жилье, \\n]</td>\n",
       "      <td>покупка недвижимости</td>\n",
       "    </tr>\n",
       "    <tr>\n",
       "      <td>7</td>\n",
       "      <td>0</td>\n",
       "      <td>152</td>\n",
       "      <td>50</td>\n",
       "      <td>среднее</td>\n",
       "      <td>1</td>\n",
       "      <td>женат / замужем</td>\n",
       "      <td>0</td>\n",
       "      <td>m</td>\n",
       "      <td>сотрудник</td>\n",
       "      <td>0</td>\n",
       "      <td>11318</td>\n",
       "      <td>образование</td>\n",
       "      <td>[образование, \\n]</td>\n",
       "      <td>получение образования</td>\n",
       "    </tr>\n",
       "    <tr>\n",
       "      <td>8</td>\n",
       "      <td>2</td>\n",
       "      <td>6929</td>\n",
       "      <td>35</td>\n",
       "      <td>высшее</td>\n",
       "      <td>0</td>\n",
       "      <td>гражданский брак</td>\n",
       "      <td>1</td>\n",
       "      <td>f</td>\n",
       "      <td>сотрудник</td>\n",
       "      <td>0</td>\n",
       "      <td>7988</td>\n",
       "      <td>на проведение свадьбы</td>\n",
       "      <td>[на,  , проведение,  , свадьба, \\n]</td>\n",
       "      <td>проведение свадьбы</td>\n",
       "    </tr>\n",
       "    <tr>\n",
       "      <td>9</td>\n",
       "      <td>0</td>\n",
       "      <td>2188</td>\n",
       "      <td>41</td>\n",
       "      <td>среднее</td>\n",
       "      <td>1</td>\n",
       "      <td>женат / замужем</td>\n",
       "      <td>0</td>\n",
       "      <td>m</td>\n",
       "      <td>сотрудник</td>\n",
       "      <td>0</td>\n",
       "      <td>12035</td>\n",
       "      <td>покупка жилья для семьи</td>\n",
       "      <td>[покупка,  , жилье,  , для,  , семья, \\n]</td>\n",
       "      <td>покупка недвижимости</td>\n",
       "    </tr>\n",
       "  </tbody>\n",
       "</table>\n",
       "</div>"
      ],
      "text/plain": [
       "   children  days_employed  dob_years education  education_id  \\\n",
       "0         1           8437         42    высшее             0   \n",
       "1         1           4024         36   среднее             1   \n",
       "2         0           5623         33   среднее             1   \n",
       "3         3           4124         32   среднее             1   \n",
       "4         0          14177         53   среднее             1   \n",
       "5         0            926         27    высшее             0   \n",
       "6         0           2879         43    высшее             0   \n",
       "7         0            152         50   среднее             1   \n",
       "8         2           6929         35    высшее             0   \n",
       "9         0           2188         41   среднее             1   \n",
       "\n",
       "      family_status  family_status_id gender income_type  debt  total_income  \\\n",
       "0   женат / замужем                 0      f   сотрудник     0         21156   \n",
       "1   женат / замужем                 0      f   сотрудник     0          9340   \n",
       "2   женат / замужем                 0      m   сотрудник     0         12157   \n",
       "3   женат / замужем                 0      m   сотрудник     0         22302   \n",
       "4  гражданский брак                 1      f   пенсионер     0         13218   \n",
       "5  гражданский брак                 1      m   компаньон     0         21313   \n",
       "6   женат / замужем                 0      f   компаньон     0         20043   \n",
       "7   женат / замужем                 0      m   сотрудник     0         11318   \n",
       "8  гражданский брак                 1      f   сотрудник     0          7988   \n",
       "9   женат / замужем                 0      m   сотрудник     0         12035   \n",
       "\n",
       "                      purpose                           lemmased_purpose  \\\n",
       "0               покупка жилья                    [покупка,  , жилье, \\n]   \n",
       "1     приобретение автомобиля          [приобретение,  , автомобиль, \\n]   \n",
       "2               покупка жилья                    [покупка,  , жилье, \\n]   \n",
       "3  дополнительное образование       [дополнительный,  , образование, \\n]   \n",
       "4             сыграть свадьбу                  [сыграть,  , свадьба, \\n]   \n",
       "5               покупка жилья                    [покупка,  , жилье, \\n]   \n",
       "6           операции с жильем             [операция,  , с,  , жилье, \\n]   \n",
       "7                 образование                          [образование, \\n]   \n",
       "8       на проведение свадьбы        [на,  , проведение,  , свадьба, \\n]   \n",
       "9     покупка жилья для семьи  [покупка,  , жилье,  , для,  , семья, \\n]   \n",
       "\n",
       "        concrete_purpose  \n",
       "0   покупка недвижимости  \n",
       "1           покупка авто  \n",
       "2   покупка недвижимости  \n",
       "3  получение образования  \n",
       "4     проведение свадьбы  \n",
       "5   покупка недвижимости  \n",
       "6   покупка недвижимости  \n",
       "7  получение образования  \n",
       "8     проведение свадьбы  \n",
       "9   покупка недвижимости  "
      ]
     },
     "execution_count": 14,
     "metadata": {},
     "output_type": "execute_result"
    }
   ],
   "source": [
    "def purpose_by_lem(lem):\n",
    "    if 'ремонт'in lem:\n",
    "        return \"ремонт жилья\"\n",
    "    if 'недвижимость'in lem or 'жилье' in lem:\n",
    "        return \"покупка недвижимости\"\n",
    "    if 'свадьба' in lem:\n",
    "        return \"проведение свадьбы\"\n",
    "    if  'образование' in lem:\n",
    "        return \"получение образования\"\n",
    "    if 'автомобиль' in lem:\n",
    "        return \"покупка авто\"\n",
    "data['concrete_purpose'] = data['lemmased_purpose'].apply(purpose_by_lem)\n",
    "#создаем категаризированный столбец с целью кредита с помощью функции\n",
    "#ремонт жилья я выделил в отдельную категорию так как него нужно значительно меньше чем на покупку самого жилья\n",
    "data.head(10)"
   ]
  },
  {
   "cell_type": "markdown",
   "metadata": {},
   "source": [
    "**Вывод**"
   ]
  },
  {
   "cell_type": "markdown",
   "metadata": {},
   "source": [
    "Мы создали столбец с леммами, к которому тепперь можем обращаться."
   ]
  },
  {
   "cell_type": "markdown",
   "metadata": {},
   "source": [
    "### Категоризация данных"
   ]
  },
  {
   "cell_type": "code",
   "execution_count": 15,
   "metadata": {},
   "outputs": [],
   "source": [
    "def availability_of_children(count):\n",
    "    if count >0:\n",
    "        return 'есть дети'\n",
    "    return 'нет детей'\n",
    "data['have_children'] = data['children'].apply(availability_of_children)\n",
    "#создаем категаризированный столбец с двумя категориями \"есть дети\" и \"нет детей\" с помощью функции"
   ]
  },
  {
   "cell_type": "code",
   "execution_count": 16,
   "metadata": {},
   "outputs": [],
   "source": [
    "def the_presence_of_a_partner(name_status):\n",
    "    if name_status == 'женат / замужем' or name_status =='гражданский брак':\n",
    "        return 'есть партнер'\n",
    "    return 'нет партнера'\n",
    "data['the_presence_of_a_partner'] = data['family_status'].apply(the_presence_of_a_partner)\n",
    "#создаем категаризированный столбец с семейным положением с двумя категориями \"есть партнер\" и \"нет партнера\" с помощью функции\n",
    "#так как по мне гражданский брак и женат / замужем одно и то же"
   ]
  },
  {
   "cell_type": "code",
   "execution_count": 17,
   "metadata": {},
   "outputs": [],
   "source": [
    "data['total_income'].mean() #14000\n",
    "data['total_income'].median() #12600\n",
    "def solvency(income):\n",
    "    if income <= 6000:\n",
    "        return \"очень низкий\"\n",
    "    if income <= 12000:\n",
    "        return \"низкий\"\n",
    "    if income <= 35000:\n",
    "        return \"средний\"\n",
    "    if income <= 70000:\n",
    "        return \"высокий\"\n",
    "    return 'очень высокий'\n",
    "data['incom_level'] = data['total_income'].apply(solvency)\n",
    "#создаем категаризированный столбец с уровнем дохода с помощью функции\n",
    "#так как средняя зарплата 14 000 а медианная 12 000 я распледелил критерии категорий зарплат таким образом"
   ]
  },
  {
   "cell_type": "code",
   "execution_count": 18,
   "metadata": {
    "scrolled": false
   },
   "outputs": [
    {
     "data": {
      "text/html": [
       "<div>\n",
       "<style scoped>\n",
       "    .dataframe tbody tr th:only-of-type {\n",
       "        vertical-align: middle;\n",
       "    }\n",
       "\n",
       "    .dataframe tbody tr th {\n",
       "        vertical-align: top;\n",
       "    }\n",
       "\n",
       "    .dataframe thead th {\n",
       "        text-align: right;\n",
       "    }\n",
       "</style>\n",
       "<table border=\"1\" class=\"dataframe\">\n",
       "  <thead>\n",
       "    <tr style=\"text-align: right;\">\n",
       "      <th></th>\n",
       "      <th>have_children</th>\n",
       "      <th>the_presence_of_a_partner</th>\n",
       "      <th>incom_level</th>\n",
       "      <th>concrete_purpose</th>\n",
       "      <th>debt</th>\n",
       "    </tr>\n",
       "  </thead>\n",
       "  <tbody>\n",
       "    <tr>\n",
       "      <td>0</td>\n",
       "      <td>есть дети</td>\n",
       "      <td>есть партнер</td>\n",
       "      <td>средний</td>\n",
       "      <td>покупка недвижимости</td>\n",
       "      <td>0</td>\n",
       "    </tr>\n",
       "    <tr>\n",
       "      <td>1</td>\n",
       "      <td>есть дети</td>\n",
       "      <td>есть партнер</td>\n",
       "      <td>низкий</td>\n",
       "      <td>покупка авто</td>\n",
       "      <td>0</td>\n",
       "    </tr>\n",
       "    <tr>\n",
       "      <td>2</td>\n",
       "      <td>нет детей</td>\n",
       "      <td>есть партнер</td>\n",
       "      <td>средний</td>\n",
       "      <td>покупка недвижимости</td>\n",
       "      <td>0</td>\n",
       "    </tr>\n",
       "    <tr>\n",
       "      <td>3</td>\n",
       "      <td>есть дети</td>\n",
       "      <td>есть партнер</td>\n",
       "      <td>средний</td>\n",
       "      <td>получение образования</td>\n",
       "      <td>0</td>\n",
       "    </tr>\n",
       "    <tr>\n",
       "      <td>4</td>\n",
       "      <td>нет детей</td>\n",
       "      <td>есть партнер</td>\n",
       "      <td>средний</td>\n",
       "      <td>проведение свадьбы</td>\n",
       "      <td>0</td>\n",
       "    </tr>\n",
       "    <tr>\n",
       "      <td>5</td>\n",
       "      <td>нет детей</td>\n",
       "      <td>есть партнер</td>\n",
       "      <td>средний</td>\n",
       "      <td>покупка недвижимости</td>\n",
       "      <td>0</td>\n",
       "    </tr>\n",
       "    <tr>\n",
       "      <td>6</td>\n",
       "      <td>нет детей</td>\n",
       "      <td>есть партнер</td>\n",
       "      <td>средний</td>\n",
       "      <td>покупка недвижимости</td>\n",
       "      <td>0</td>\n",
       "    </tr>\n",
       "    <tr>\n",
       "      <td>7</td>\n",
       "      <td>нет детей</td>\n",
       "      <td>есть партнер</td>\n",
       "      <td>низкий</td>\n",
       "      <td>получение образования</td>\n",
       "      <td>0</td>\n",
       "    </tr>\n",
       "    <tr>\n",
       "      <td>8</td>\n",
       "      <td>есть дети</td>\n",
       "      <td>есть партнер</td>\n",
       "      <td>низкий</td>\n",
       "      <td>проведение свадьбы</td>\n",
       "      <td>0</td>\n",
       "    </tr>\n",
       "    <tr>\n",
       "      <td>9</td>\n",
       "      <td>нет детей</td>\n",
       "      <td>есть партнер</td>\n",
       "      <td>средний</td>\n",
       "      <td>покупка недвижимости</td>\n",
       "      <td>0</td>\n",
       "    </tr>\n",
       "  </tbody>\n",
       "</table>\n",
       "</div>"
      ],
      "text/plain": [
       "  have_children the_presence_of_a_partner incom_level       concrete_purpose  \\\n",
       "0     есть дети              есть партнер     средний   покупка недвижимости   \n",
       "1     есть дети              есть партнер      низкий           покупка авто   \n",
       "2     нет детей              есть партнер     средний   покупка недвижимости   \n",
       "3     есть дети              есть партнер     средний  получение образования   \n",
       "4     нет детей              есть партнер     средний     проведение свадьбы   \n",
       "5     нет детей              есть партнер     средний   покупка недвижимости   \n",
       "6     нет детей              есть партнер     средний   покупка недвижимости   \n",
       "7     нет детей              есть партнер      низкий  получение образования   \n",
       "8     есть дети              есть партнер      низкий     проведение свадьбы   \n",
       "9     нет детей              есть партнер     средний   покупка недвижимости   \n",
       "\n",
       "   debt  \n",
       "0     0  \n",
       "1     0  \n",
       "2     0  \n",
       "3     0  \n",
       "4     0  \n",
       "5     0  \n",
       "6     0  \n",
       "7     0  \n",
       "8     0  \n",
       "9     0  "
      ]
     },
     "execution_count": 18,
     "metadata": {},
     "output_type": "execute_result"
    }
   ],
   "source": [
    "final_data = pd.DataFrame(data=data, columns=['have_children', 'the_presence_of_a_partner', 'incom_level', 'concrete_purpose', 'debt'])\n",
    "#создаем таблицу с нужными столбцами на основе старой для упрощения дальнейшей работы \n",
    "final_data.head(10)"
   ]
  },
  {
   "cell_type": "markdown",
   "metadata": {},
   "source": [
    "**Вывод**"
   ]
  },
  {
   "cell_type": "markdown",
   "metadata": {},
   "source": [
    "Нам удалось создать 4 столбца с катагаризированными данными.\n",
    "И создать таблицу с нужными столбцами."
   ]
  },
  {
   "cell_type": "markdown",
   "metadata": {},
   "source": [
    "## Шаг 3. Ответьте на вопросы"
   ]
  },
  {
   "cell_type": "markdown",
   "metadata": {},
   "source": [
    "- Есть ли зависимость между наличием детей и возвратом кредита в срок?"
   ]
  },
  {
   "cell_type": "code",
   "execution_count": 19,
   "metadata": {},
   "outputs": [
    {
     "data": {
      "text/html": [
       "<div>\n",
       "<style scoped>\n",
       "    .dataframe tbody tr th:only-of-type {\n",
       "        vertical-align: middle;\n",
       "    }\n",
       "\n",
       "    .dataframe tbody tr th {\n",
       "        vertical-align: top;\n",
       "    }\n",
       "\n",
       "    .dataframe thead th {\n",
       "        text-align: right;\n",
       "    }\n",
       "</style>\n",
       "<table border=\"1\" class=\"dataframe\">\n",
       "  <thead>\n",
       "    <tr style=\"text-align: right;\">\n",
       "      <th></th>\n",
       "      <th>have_children</th>\n",
       "      <th>debt</th>\n",
       "    </tr>\n",
       "  </thead>\n",
       "  <tbody>\n",
       "    <tr>\n",
       "      <td>0</td>\n",
       "      <td>нет детей</td>\n",
       "      <td>0.075438</td>\n",
       "    </tr>\n",
       "    <tr>\n",
       "      <td>1</td>\n",
       "      <td>есть дети</td>\n",
       "      <td>0.092082</td>\n",
       "    </tr>\n",
       "  </tbody>\n",
       "</table>\n",
       "</div>"
      ],
      "text/plain": [
       "  have_children      debt\n",
       "0     нет детей  0.075438\n",
       "1     есть дети  0.092082"
      ]
     },
     "execution_count": 19,
     "metadata": {},
     "output_type": "execute_result"
    }
   ],
   "source": [
    "data_child_pivot = final_data.pivot_table(index=['have_children'], values='debt', aggfunc='mean')\n",
    "data_child_pivot.sort_values(by='debt').reset_index()\n",
    "#создаем сводную таблицу"
   ]
  },
  {
   "cell_type": "markdown",
   "metadata": {},
   "source": [
    "**Вывод** "
   ]
  },
  {
   "cell_type": "markdown",
   "metadata": {},
   "source": [
    "Зависимость есть. Чаще возвращают кредит при отсуствии детей: неплтельщиков всего 7.5%\n",
    "При наличии же детей возвращают реже: 9.2% неплательщиков"
   ]
  },
  {
   "cell_type": "markdown",
   "metadata": {},
   "source": [
    "- Есть ли зависимость между семейным положением и возвратом кредита в срок?"
   ]
  },
  {
   "cell_type": "code",
   "execution_count": 20,
   "metadata": {},
   "outputs": [
    {
     "data": {
      "text/html": [
       "<div>\n",
       "<style scoped>\n",
       "    .dataframe tbody tr th:only-of-type {\n",
       "        vertical-align: middle;\n",
       "    }\n",
       "\n",
       "    .dataframe tbody tr th {\n",
       "        vertical-align: top;\n",
       "    }\n",
       "\n",
       "    .dataframe thead th {\n",
       "        text-align: right;\n",
       "    }\n",
       "</style>\n",
       "<table border=\"1\" class=\"dataframe\">\n",
       "  <thead>\n",
       "    <tr style=\"text-align: right;\">\n",
       "      <th></th>\n",
       "      <th>the_presence_of_a_partner</th>\n",
       "      <th>debt</th>\n",
       "    </tr>\n",
       "  </thead>\n",
       "  <tbody>\n",
       "    <tr>\n",
       "      <td>0</td>\n",
       "      <td>есть партнер</td>\n",
       "      <td>0.079988</td>\n",
       "    </tr>\n",
       "    <tr>\n",
       "      <td>1</td>\n",
       "      <td>нет партнера</td>\n",
       "      <td>0.085012</td>\n",
       "    </tr>\n",
       "  </tbody>\n",
       "</table>\n",
       "</div>"
      ],
      "text/plain": [
       "  the_presence_of_a_partner      debt\n",
       "0              есть партнер  0.079988\n",
       "1              нет партнера  0.085012"
      ]
     },
     "execution_count": 20,
     "metadata": {},
     "output_type": "execute_result"
    }
   ],
   "source": [
    "data_partner_pivot = final_data.pivot_table(index=['the_presence_of_a_partner'], values='debt', aggfunc='mean')\n",
    "data_partner_pivot.sort_values(by='debt').reset_index()\n",
    "#создаем сводную таблицу"
   ]
  },
  {
   "cell_type": "markdown",
   "metadata": {},
   "source": [
    "**Вывод**"
   ]
  },
  {
   "cell_type": "markdown",
   "metadata": {},
   "source": [
    "Зависимость есть. При наличии гражанского брака или замужества долг по кредиту возвращают чаще: примерно 8% неплательщиков.\n",
    "Но разница не слишком велика: при отсутвии партнера доля невозврата в срок 8.5%"
   ]
  },
  {
   "cell_type": "markdown",
   "metadata": {},
   "source": [
    "- Есть ли зависимость между уровнем дохода и возвратом кредита в срок?"
   ]
  },
  {
   "cell_type": "code",
   "execution_count": 21,
   "metadata": {},
   "outputs": [
    {
     "data": {
      "text/html": [
       "<div>\n",
       "<style scoped>\n",
       "    .dataframe tbody tr th:only-of-type {\n",
       "        vertical-align: middle;\n",
       "    }\n",
       "\n",
       "    .dataframe tbody tr th {\n",
       "        vertical-align: top;\n",
       "    }\n",
       "\n",
       "    .dataframe thead th {\n",
       "        text-align: right;\n",
       "    }\n",
       "</style>\n",
       "<table border=\"1\" class=\"dataframe\">\n",
       "  <thead>\n",
       "    <tr style=\"text-align: right;\">\n",
       "      <th></th>\n",
       "      <th>incom_level</th>\n",
       "      <th>debt</th>\n",
       "    </tr>\n",
       "  </thead>\n",
       "  <tbody>\n",
       "    <tr>\n",
       "      <td>0</td>\n",
       "      <td>высокий</td>\n",
       "      <td>0.052764</td>\n",
       "    </tr>\n",
       "    <tr>\n",
       "      <td>1</td>\n",
       "      <td>очень низкий</td>\n",
       "      <td>0.068754</td>\n",
       "    </tr>\n",
       "    <tr>\n",
       "      <td>2</td>\n",
       "      <td>очень высокий</td>\n",
       "      <td>0.078947</td>\n",
       "    </tr>\n",
       "    <tr>\n",
       "      <td>3</td>\n",
       "      <td>средний</td>\n",
       "      <td>0.080130</td>\n",
       "    </tr>\n",
       "    <tr>\n",
       "      <td>4</td>\n",
       "      <td>низкий</td>\n",
       "      <td>0.086313</td>\n",
       "    </tr>\n",
       "  </tbody>\n",
       "</table>\n",
       "</div>"
      ],
      "text/plain": [
       "     incom_level      debt\n",
       "0        высокий  0.052764\n",
       "1   очень низкий  0.068754\n",
       "2  очень высокий  0.078947\n",
       "3        средний  0.080130\n",
       "4         низкий  0.086313"
      ]
     },
     "execution_count": 21,
     "metadata": {},
     "output_type": "execute_result"
    }
   ],
   "source": [
    "data_incom_pivot = final_data.pivot_table(index=['incom_level'], values='debt', aggfunc='mean')\n",
    "data_incom_pivot.sort_values(by='debt').reset_index()\n",
    "#создаем сводную таблицу"
   ]
  },
  {
   "cell_type": "markdown",
   "metadata": {},
   "source": [
    "**Вывод**"
   ]
  },
  {
   "cell_type": "markdown",
   "metadata": {},
   "source": [
    "Зависимость есть. Зависимость дохода и доли возврата ожидаемая в категорях высокий-средний-низкий(чем ниже доход - тем больше доля невозврата в срок). Однако выбиваются категории \"очень высокий\" и \"очень низкий\": люди с крайне высоким доходом реже возвращают кредит в срок чем люди с крайне низким доходом (7.8% против 6.8% неплательщиков)."
   ]
  },
  {
   "cell_type": "markdown",
   "metadata": {},
   "source": [
    "- Как разные цели кредита влияют на его возврат в срок?"
   ]
  },
  {
   "cell_type": "code",
   "execution_count": 22,
   "metadata": {},
   "outputs": [
    {
     "data": {
      "text/html": [
       "<div>\n",
       "<style scoped>\n",
       "    .dataframe tbody tr th:only-of-type {\n",
       "        vertical-align: middle;\n",
       "    }\n",
       "\n",
       "    .dataframe tbody tr th {\n",
       "        vertical-align: top;\n",
       "    }\n",
       "\n",
       "    .dataframe thead th {\n",
       "        text-align: right;\n",
       "    }\n",
       "</style>\n",
       "<table border=\"1\" class=\"dataframe\">\n",
       "  <thead>\n",
       "    <tr style=\"text-align: right;\">\n",
       "      <th></th>\n",
       "      <th>concrete_purpose</th>\n",
       "      <th>debt</th>\n",
       "    </tr>\n",
       "  </thead>\n",
       "  <tbody>\n",
       "    <tr>\n",
       "      <td>0</td>\n",
       "      <td>ремонт жилья</td>\n",
       "      <td>0.057661</td>\n",
       "    </tr>\n",
       "    <tr>\n",
       "      <td>1</td>\n",
       "      <td>покупка недвижимости</td>\n",
       "      <td>0.073207</td>\n",
       "    </tr>\n",
       "    <tr>\n",
       "      <td>2</td>\n",
       "      <td>проведение свадьбы</td>\n",
       "      <td>0.080034</td>\n",
       "    </tr>\n",
       "    <tr>\n",
       "      <td>3</td>\n",
       "      <td>получение образования</td>\n",
       "      <td>0.092200</td>\n",
       "    </tr>\n",
       "    <tr>\n",
       "      <td>4</td>\n",
       "      <td>покупка авто</td>\n",
       "      <td>0.093590</td>\n",
       "    </tr>\n",
       "  </tbody>\n",
       "</table>\n",
       "</div>"
      ],
      "text/plain": [
       "        concrete_purpose      debt\n",
       "0           ремонт жилья  0.057661\n",
       "1   покупка недвижимости  0.073207\n",
       "2     проведение свадьбы  0.080034\n",
       "3  получение образования  0.092200\n",
       "4           покупка авто  0.093590"
      ]
     },
     "execution_count": 22,
     "metadata": {},
     "output_type": "execute_result"
    }
   ],
   "source": [
    "data_purpose_pivot = final_data.pivot_table(index=['concrete_purpose'], values='debt', aggfunc='mean')\n",
    "data_purpose_pivot.sort_values(by='debt').reset_index()\n",
    "#создаем сводную таблицу"
   ]
  },
  {
   "cell_type": "markdown",
   "metadata": {},
   "source": [
    "**Вывод**"
   ]
  },
  {
   "cell_type": "markdown",
   "metadata": {},
   "source": [
    "Больше всего доля невозврата в срок у тех кто покупает авто и получает образование(9.2% и 9.3% соотвецтвенно). \n",
    "Свадьба так же \"невозвратная\" категория, целых 8% неплательщиков.\n",
    "Ну а ремонт жилья категория где меньше всего невозврата в срок: 5.7%.\n",
    "Покупка недвижимости с её долей неплательщиков в 7.3% где-то посередине."
   ]
  },
  {
   "cell_type": "markdown",
   "metadata": {},
   "source": [
    "## Шаг 4. Общий вывод"
   ]
  },
  {
   "cell_type": "markdown",
   "metadata": {},
   "source": [
    "**1)** Убедительная просьба заказчикам **разобраться с программой по формированию опыта работы**, чтобы она не возвращала отрицательные значения либо значения на порядки большие.\n",
    "\n",
    "**2)** Так же встречались **пропуски в столбцах опыт работы и зарплата**. Причем в одинаковых строках. Желательно устранить эту проблему.\n",
    "\n",
    "**3)** Откуда-то в таблице **встретился 71 дубликат**. Устранение дубликатов *будет хорошим тоном* со стороны заказчика и немного упростит работу над будущими пректами.\n",
    "\n",
    "**4)** Из таблицы видно что цели кредита каждый клиент писал свими словами(из-за чего **она и та же цень записана 5+ способами**, хотя можно было дать им выбор из ограниченного набора целей. И лемматизацию можно уже не применять.\n",
    "\n",
    "*Общий вывод из полученых процентов к конце можно сделать такой:*\n",
    "\n",
    "**Много параметров влияет на процент невозврата кредита.\n",
    "Из проделанной работы можно сделать вывод что чаще возвращают кредит: люди в браке, без детей, с высоким(но не слишком) доходом и цель кредита которых ремонт жилья или его покупка.**\n"
   ]
  }
 ],
 "metadata": {
  "ExecuteTimeLog": [
   {
    "duration": 1268,
    "start_time": "2021-09-23T12:46:11.470Z"
   },
   {
    "duration": 52,
    "start_time": "2021-09-23T14:03:07.870Z"
   },
   {
    "duration": 51,
    "start_time": "2021-09-23T14:03:18.472Z"
   },
   {
    "duration": 51,
    "start_time": "2021-09-23T14:05:42.454Z"
   },
   {
    "duration": 51,
    "start_time": "2021-09-23T14:05:44.773Z"
   },
   {
    "duration": 66,
    "start_time": "2021-09-23T14:06:03.233Z"
   },
   {
    "duration": 61,
    "start_time": "2021-09-23T14:12:16.109Z"
   },
   {
    "duration": 10,
    "start_time": "2021-09-23T14:12:22.655Z"
   },
   {
    "duration": 22,
    "start_time": "2021-09-23T14:14:22.564Z"
   },
   {
    "duration": 245,
    "start_time": "2021-09-23T14:18:22.907Z"
   },
   {
    "duration": 199,
    "start_time": "2021-09-23T14:18:45.640Z"
   },
   {
    "duration": 63,
    "start_time": "2021-09-23T14:19:20.975Z"
   },
   {
    "duration": 190,
    "start_time": "2021-09-23T14:19:24.045Z"
   },
   {
    "duration": 189,
    "start_time": "2021-09-23T14:19:33.708Z"
   },
   {
    "duration": 59,
    "start_time": "2021-09-23T14:19:43.755Z"
   },
   {
    "duration": 193,
    "start_time": "2021-09-23T14:19:49.521Z"
   },
   {
    "duration": 174,
    "start_time": "2021-09-23T14:20:21.420Z"
   },
   {
    "duration": 59,
    "start_time": "2021-09-23T14:20:27.580Z"
   },
   {
    "duration": 198,
    "start_time": "2021-09-23T14:20:31.308Z"
   },
   {
    "duration": 174,
    "start_time": "2021-09-23T14:21:14.811Z"
   },
   {
    "duration": 888,
    "start_time": "2021-09-23T14:21:25.891Z"
   },
   {
    "duration": 59,
    "start_time": "2021-09-23T14:21:41.643Z"
   },
   {
    "duration": 17,
    "start_time": "2021-09-23T14:21:43.772Z"
   },
   {
    "duration": 60,
    "start_time": "2021-09-23T14:24:04.238Z"
   },
   {
    "duration": 18,
    "start_time": "2021-09-23T14:24:06.278Z"
   },
   {
    "duration": 59,
    "start_time": "2021-09-23T14:24:38.128Z"
   },
   {
    "duration": 197,
    "start_time": "2021-09-23T14:24:40.619Z"
   },
   {
    "duration": 58,
    "start_time": "2021-09-23T14:25:04.636Z"
   },
   {
    "duration": 316,
    "start_time": "2021-09-23T14:25:09.396Z"
   },
   {
    "duration": 182,
    "start_time": "2021-09-23T14:25:25.176Z"
   },
   {
    "duration": 59,
    "start_time": "2021-09-23T14:25:55.637Z"
   },
   {
    "duration": 16,
    "start_time": "2021-09-23T14:25:58.719Z"
   },
   {
    "duration": 211,
    "start_time": "2021-09-23T14:26:09.773Z"
   },
   {
    "duration": 217,
    "start_time": "2021-09-23T14:26:58.941Z"
   },
   {
    "duration": 588,
    "start_time": "2021-09-23T14:27:01.441Z"
   },
   {
    "duration": 214,
    "start_time": "2021-09-23T14:27:05.197Z"
   },
   {
    "duration": 174,
    "start_time": "2021-09-23T14:27:22.684Z"
   },
   {
    "duration": 179,
    "start_time": "2021-09-23T14:27:31.018Z"
   },
   {
    "duration": 184,
    "start_time": "2021-09-23T14:29:56.433Z"
   },
   {
    "duration": 184,
    "start_time": "2021-09-23T15:32:50.700Z"
   },
   {
    "duration": 184,
    "start_time": "2021-09-23T15:36:56.385Z"
   },
   {
    "duration": 4,
    "start_time": "2021-09-23T15:37:10.736Z"
   },
   {
    "duration": 3,
    "start_time": "2021-09-23T15:38:30.617Z"
   },
   {
    "duration": 64,
    "start_time": "2021-09-23T15:38:48.659Z"
   },
   {
    "duration": 7,
    "start_time": "2021-09-23T15:38:51.334Z"
   },
   {
    "duration": 65,
    "start_time": "2021-09-23T15:39:00.759Z"
   },
   {
    "duration": 15,
    "start_time": "2021-09-23T15:39:03.226Z"
   },
   {
    "duration": 15,
    "start_time": "2021-09-23T15:42:59.277Z"
   },
   {
    "duration": 9,
    "start_time": "2021-09-23T15:44:46.360Z"
   },
   {
    "duration": 11,
    "start_time": "2021-09-23T15:45:04.808Z"
   },
   {
    "duration": 15,
    "start_time": "2021-09-23T15:45:37.797Z"
   },
   {
    "duration": 69,
    "start_time": "2021-09-23T15:46:21.689Z"
   },
   {
    "duration": 63,
    "start_time": "2021-09-23T15:52:21.156Z"
   },
   {
    "duration": 65,
    "start_time": "2021-09-23T15:52:50.645Z"
   },
   {
    "duration": 9,
    "start_time": "2021-09-23T16:07:44.659Z"
   },
   {
    "duration": 65,
    "start_time": "2021-09-23T16:09:38.182Z"
   },
   {
    "duration": 62,
    "start_time": "2021-09-23T16:10:41.099Z"
   },
   {
    "duration": 58,
    "start_time": "2021-09-23T16:10:53.417Z"
   },
   {
    "duration": 60,
    "start_time": "2021-09-23T16:11:18.055Z"
   },
   {
    "duration": 63,
    "start_time": "2021-09-23T16:15:29.295Z"
   },
   {
    "duration": 188,
    "start_time": "2021-09-23T16:24:44.341Z"
   },
   {
    "duration": 61,
    "start_time": "2021-09-23T16:25:02.281Z"
   },
   {
    "duration": 187,
    "start_time": "2021-09-23T16:25:04.233Z"
   },
   {
    "duration": 216,
    "start_time": "2021-09-23T16:27:08.435Z"
   },
   {
    "duration": 20,
    "start_time": "2021-09-23T16:27:28.833Z"
   },
   {
    "duration": 20,
    "start_time": "2021-09-23T16:27:43.387Z"
   },
   {
    "duration": 194,
    "start_time": "2021-09-23T16:28:07.942Z"
   },
   {
    "duration": 196,
    "start_time": "2021-09-23T16:29:24.745Z"
   },
   {
    "duration": 199,
    "start_time": "2021-09-23T16:30:40.388Z"
   },
   {
    "duration": 202,
    "start_time": "2021-09-23T16:40:18.695Z"
   },
   {
    "duration": 316,
    "start_time": "2021-09-23T16:40:49.406Z"
   },
   {
    "duration": 193,
    "start_time": "2021-09-23T16:41:29.712Z"
   },
   {
    "duration": 226,
    "start_time": "2021-09-23T16:42:41.841Z"
   },
   {
    "duration": 60,
    "start_time": "2021-09-23T16:43:01.724Z"
   },
   {
    "duration": 199,
    "start_time": "2021-09-23T16:43:06.061Z"
   },
   {
    "duration": 196,
    "start_time": "2021-09-23T16:43:46.621Z"
   },
   {
    "duration": 71,
    "start_time": "2021-09-23T16:44:15.689Z"
   },
   {
    "duration": 36,
    "start_time": "2021-09-23T16:44:26.028Z"
   },
   {
    "duration": 207,
    "start_time": "2021-09-23T16:48:16.572Z"
   },
   {
    "duration": 239,
    "start_time": "2021-09-23T16:48:39.605Z"
   },
   {
    "duration": 4432,
    "start_time": "2021-09-23T16:49:52.699Z"
   },
   {
    "duration": 447,
    "start_time": "2021-09-23T16:50:43.889Z"
   },
   {
    "duration": 478,
    "start_time": "2021-09-23T16:51:12.125Z"
   },
   {
    "duration": 209,
    "start_time": "2021-09-23T16:52:35.450Z"
   },
   {
    "duration": 206,
    "start_time": "2021-09-23T16:52:56.545Z"
   },
   {
    "duration": 550,
    "start_time": "2021-09-23T17:37:45.436Z"
   },
   {
    "duration": 248,
    "start_time": "2021-09-23T17:41:16.090Z"
   },
   {
    "duration": 38,
    "start_time": "2021-09-23T17:42:03.241Z"
   },
   {
    "duration": 36,
    "start_time": "2021-09-23T17:43:12.239Z"
   },
   {
    "duration": 2722,
    "start_time": "2021-09-23T17:43:54.695Z"
   },
   {
    "duration": 216,
    "start_time": "2021-09-23T17:44:10.969Z"
   },
   {
    "duration": 462,
    "start_time": "2021-09-23T17:44:31.233Z"
   },
   {
    "duration": 46,
    "start_time": "2021-09-23T17:44:56.163Z"
   },
   {
    "duration": 1144,
    "start_time": "2021-09-23T17:48:09.602Z"
   },
   {
    "duration": 322,
    "start_time": "2021-09-23T17:48:13.689Z"
   },
   {
    "duration": 43,
    "start_time": "2021-09-23T17:56:47.314Z"
   },
   {
    "duration": 431,
    "start_time": "2021-09-23T17:57:54.706Z"
   },
   {
    "duration": 64,
    "start_time": "2021-09-23T17:58:20.734Z"
   },
   {
    "duration": 436,
    "start_time": "2021-09-23T17:58:29.595Z"
   },
   {
    "duration": 446,
    "start_time": "2021-09-23T17:59:40.585Z"
   },
   {
    "duration": 452,
    "start_time": "2021-09-23T18:00:56.951Z"
   },
   {
    "duration": 900,
    "start_time": "2021-09-23T18:01:45.906Z"
   },
   {
    "duration": 925,
    "start_time": "2021-09-23T18:03:22.583Z"
   },
   {
    "duration": 896,
    "start_time": "2021-09-23T18:04:34.004Z"
   },
   {
    "duration": 430,
    "start_time": "2021-09-23T18:04:50.114Z"
   },
   {
    "duration": 38,
    "start_time": "2021-09-23T18:04:58.613Z"
   },
   {
    "duration": 476,
    "start_time": "2021-09-23T18:05:41.559Z"
   },
   {
    "duration": 43,
    "start_time": "2021-09-23T18:05:55.673Z"
   },
   {
    "duration": 304,
    "start_time": "2021-09-23T18:08:39.700Z"
   },
   {
    "duration": 64,
    "start_time": "2021-09-23T18:31:06.539Z"
   },
   {
    "duration": 64,
    "start_time": "2021-09-23T18:31:23.657Z"
   },
   {
    "duration": 201,
    "start_time": "2021-09-23T18:31:34.164Z"
   },
   {
    "duration": 58,
    "start_time": "2021-09-23T18:31:53.053Z"
   },
   {
    "duration": 198,
    "start_time": "2021-09-23T18:31:55.667Z"
   },
   {
    "duration": 227,
    "start_time": "2021-09-23T18:32:41.620Z"
   },
   {
    "duration": 230,
    "start_time": "2021-09-23T18:36:34.267Z"
   },
   {
    "duration": 237,
    "start_time": "2021-09-23T18:38:23.584Z"
   },
   {
    "duration": 234,
    "start_time": "2021-09-23T18:39:50.626Z"
   },
   {
    "duration": 235,
    "start_time": "2021-09-23T18:41:30.065Z"
   },
   {
    "duration": 213,
    "start_time": "2021-09-23T18:43:49.915Z"
   },
   {
    "duration": 212,
    "start_time": "2021-09-23T18:46:26.249Z"
   },
   {
    "duration": 56,
    "start_time": "2021-09-23T18:46:44.347Z"
   },
   {
    "duration": 52,
    "start_time": "2021-09-23T18:48:32.339Z"
   },
   {
    "duration": 208,
    "start_time": "2021-09-23T18:49:17.939Z"
   },
   {
    "duration": 197,
    "start_time": "2021-09-23T18:50:18.813Z"
   },
   {
    "duration": 46,
    "start_time": "2021-09-23T18:52:39.603Z"
   },
   {
    "duration": 183,
    "start_time": "2021-09-23T18:52:43.963Z"
   },
   {
    "duration": 4942,
    "start_time": "2021-09-23T18:54:18.892Z"
   },
   {
    "duration": 6,
    "start_time": "2021-09-23T18:54:36.076Z"
   },
   {
    "duration": 50,
    "start_time": "2021-09-23T18:55:01.402Z"
   },
   {
    "duration": 47,
    "start_time": "2021-09-23T18:55:04.254Z"
   },
   {
    "duration": 55,
    "start_time": "2021-09-23T18:55:12.955Z"
   },
   {
    "duration": 6,
    "start_time": "2021-09-23T18:55:19.869Z"
   },
   {
    "duration": 291,
    "start_time": "2021-09-24T12:36:09.231Z"
   },
   {
    "duration": 818,
    "start_time": "2021-09-24T12:36:18.791Z"
   },
   {
    "duration": 13,
    "start_time": "2021-09-24T12:36:23.228Z"
   },
   {
    "duration": 11,
    "start_time": "2021-09-24T12:36:37.262Z"
   },
   {
    "duration": 61,
    "start_time": "2021-09-24T12:36:42.878Z"
   },
   {
    "duration": 11,
    "start_time": "2021-09-24T12:36:51.195Z"
   },
   {
    "duration": 19,
    "start_time": "2021-09-24T12:37:02.898Z"
   },
   {
    "duration": 12,
    "start_time": "2021-09-24T12:37:14.506Z"
   },
   {
    "duration": 11,
    "start_time": "2021-09-24T12:37:33.733Z"
   },
   {
    "duration": 6,
    "start_time": "2021-09-24T12:37:43.859Z"
   },
   {
    "duration": 292,
    "start_time": "2021-09-24T12:38:22.196Z"
   },
   {
    "duration": 6,
    "start_time": "2021-09-24T12:39:03.297Z"
   },
   {
    "duration": 7,
    "start_time": "2021-09-24T12:39:50.841Z"
   },
   {
    "duration": 15,
    "start_time": "2021-09-24T12:40:15.070Z"
   },
   {
    "duration": 14,
    "start_time": "2021-09-24T12:41:04.548Z"
   },
   {
    "duration": 14,
    "start_time": "2021-09-24T12:41:46.091Z"
   },
   {
    "duration": 10,
    "start_time": "2021-09-24T12:42:06.837Z"
   },
   {
    "duration": 11,
    "start_time": "2021-09-24T12:42:33.664Z"
   },
   {
    "duration": 8,
    "start_time": "2021-09-24T12:42:58.036Z"
   },
   {
    "duration": 58,
    "start_time": "2021-09-24T12:43:10.189Z"
   },
   {
    "duration": 9,
    "start_time": "2021-09-24T12:43:15.445Z"
   },
   {
    "duration": 11,
    "start_time": "2021-09-24T12:43:24.861Z"
   },
   {
    "duration": 38,
    "start_time": "2021-09-24T12:48:23.691Z"
   },
   {
    "duration": 64,
    "start_time": "2021-09-24T12:50:03.922Z"
   },
   {
    "duration": 27,
    "start_time": "2021-09-24T12:53:01.946Z"
   },
   {
    "duration": 33,
    "start_time": "2021-09-24T12:53:25.303Z"
   },
   {
    "duration": 32,
    "start_time": "2021-09-24T12:54:38.376Z"
   },
   {
    "duration": 64,
    "start_time": "2021-09-24T12:55:12.296Z"
   },
   {
    "duration": 32,
    "start_time": "2021-09-24T12:55:15.186Z"
   },
   {
    "duration": 26,
    "start_time": "2021-09-24T13:01:32.350Z"
   },
   {
    "duration": 18,
    "start_time": "2021-09-24T13:01:59.656Z"
   },
   {
    "duration": 25,
    "start_time": "2021-09-24T13:02:15.869Z"
   },
   {
    "duration": 15,
    "start_time": "2021-09-24T13:03:52.083Z"
   },
   {
    "duration": 19,
    "start_time": "2021-09-24T13:19:09.585Z"
   },
   {
    "duration": 275,
    "start_time": "2021-09-24T13:19:56.840Z"
   },
   {
    "duration": 20,
    "start_time": "2021-09-24T13:20:07.252Z"
   },
   {
    "duration": 15,
    "start_time": "2021-09-24T13:20:19.096Z"
   },
   {
    "duration": 19,
    "start_time": "2021-09-24T13:22:07.729Z"
   },
   {
    "duration": 24,
    "start_time": "2021-09-24T13:23:58.092Z"
   },
   {
    "duration": 25,
    "start_time": "2021-09-24T13:26:39.067Z"
   },
   {
    "duration": 29,
    "start_time": "2021-09-24T13:26:51.287Z"
   },
   {
    "duration": 110,
    "start_time": "2021-09-24T13:26:54.752Z"
   },
   {
    "duration": 34,
    "start_time": "2021-09-24T13:27:03.748Z"
   },
   {
    "duration": 20,
    "start_time": "2021-09-24T13:28:16.306Z"
   },
   {
    "duration": 97,
    "start_time": "2021-09-24T13:28:31.678Z"
   },
   {
    "duration": 28,
    "start_time": "2021-09-24T13:28:34.207Z"
   },
   {
    "duration": 18,
    "start_time": "2021-09-24T13:28:45.119Z"
   },
   {
    "duration": 89,
    "start_time": "2021-09-24T13:29:08.617Z"
   },
   {
    "duration": 22,
    "start_time": "2021-09-24T13:29:11.749Z"
   },
   {
    "duration": 21,
    "start_time": "2021-09-24T13:33:46.542Z"
   },
   {
    "duration": 19,
    "start_time": "2021-09-24T13:35:11.881Z"
   },
   {
    "duration": 28,
    "start_time": "2021-09-24T13:35:48.718Z"
   },
   {
    "duration": 25,
    "start_time": "2021-09-24T13:36:18.784Z"
   },
   {
    "duration": 25,
    "start_time": "2021-09-24T13:36:40.132Z"
   },
   {
    "duration": 18,
    "start_time": "2021-09-24T13:37:30.943Z"
   },
   {
    "duration": 22,
    "start_time": "2021-09-24T13:43:36.935Z"
   },
   {
    "duration": 25,
    "start_time": "2021-09-24T13:43:56.601Z"
   },
   {
    "duration": 20,
    "start_time": "2021-09-24T13:44:21.574Z"
   },
   {
    "duration": 21,
    "start_time": "2021-09-24T13:44:42.606Z"
   },
   {
    "duration": 90,
    "start_time": "2021-09-24T14:04:45.198Z"
   },
   {
    "duration": 101,
    "start_time": "2021-09-24T14:04:52.201Z"
   },
   {
    "duration": 36,
    "start_time": "2021-09-24T14:04:59.482Z"
   },
   {
    "duration": 44,
    "start_time": "2021-09-24T14:07:56.673Z"
   },
   {
    "duration": 25,
    "start_time": "2021-09-24T14:08:15.243Z"
   },
   {
    "duration": 65,
    "start_time": "2021-09-24T14:08:27.430Z"
   },
   {
    "duration": 34,
    "start_time": "2021-09-24T14:08:30.051Z"
   },
   {
    "duration": 110,
    "start_time": "2021-09-24T14:08:48.658Z"
   },
   {
    "duration": 28,
    "start_time": "2021-09-24T14:08:51.119Z"
   },
   {
    "duration": 37,
    "start_time": "2021-09-24T14:09:10.661Z"
   },
   {
    "duration": 110,
    "start_time": "2021-09-24T14:09:16.324Z"
   },
   {
    "duration": 29,
    "start_time": "2021-09-24T14:09:19.109Z"
   },
   {
    "duration": 67,
    "start_time": "2021-09-24T14:09:36.581Z"
   },
   {
    "duration": 37,
    "start_time": "2021-09-24T14:09:46.749Z"
   },
   {
    "duration": 66,
    "start_time": "2021-09-24T14:10:54.153Z"
   },
   {
    "duration": 29,
    "start_time": "2021-09-24T14:10:56.464Z"
   },
   {
    "duration": 103,
    "start_time": "2021-09-24T14:11:29.963Z"
   },
   {
    "duration": 32,
    "start_time": "2021-09-24T14:11:32.486Z"
   },
   {
    "duration": 89,
    "start_time": "2021-09-24T14:12:58.573Z"
   },
   {
    "duration": 36,
    "start_time": "2021-09-24T14:13:03.170Z"
   },
   {
    "duration": 27,
    "start_time": "2021-09-24T14:13:32.800Z"
   },
   {
    "duration": 68,
    "start_time": "2021-09-24T14:13:38.313Z"
   },
   {
    "duration": 27,
    "start_time": "2021-09-24T14:13:41.468Z"
   },
   {
    "duration": 94,
    "start_time": "2021-09-24T14:14:18.023Z"
   },
   {
    "duration": 34,
    "start_time": "2021-09-24T14:14:20.330Z"
   },
   {
    "duration": 98,
    "start_time": "2021-09-24T14:16:52.776Z"
   },
   {
    "duration": 57,
    "start_time": "2021-09-24T14:16:55.848Z"
   },
   {
    "duration": 65,
    "start_time": "2021-09-24T14:18:26.434Z"
   },
   {
    "duration": 34,
    "start_time": "2021-09-24T14:18:28.438Z"
   },
   {
    "duration": 93,
    "start_time": "2021-09-24T14:18:49.938Z"
   },
   {
    "duration": 41,
    "start_time": "2021-09-24T14:18:51.681Z"
   },
   {
    "duration": 80,
    "start_time": "2021-09-24T14:19:54.245Z"
   },
   {
    "duration": 37,
    "start_time": "2021-09-24T14:19:55.397Z"
   },
   {
    "duration": 65,
    "start_time": "2021-09-24T14:20:36.756Z"
   },
   {
    "duration": 27,
    "start_time": "2021-09-24T14:20:37.794Z"
   },
   {
    "duration": 67,
    "start_time": "2021-09-24T14:20:52.854Z"
   },
   {
    "duration": 27,
    "start_time": "2021-09-24T14:20:54.985Z"
   },
   {
    "duration": 90,
    "start_time": "2021-09-24T14:22:38.049Z"
   },
   {
    "duration": 29,
    "start_time": "2021-09-24T14:22:39.855Z"
   },
   {
    "duration": 43,
    "start_time": "2021-09-24T14:22:43.981Z"
   },
   {
    "duration": 71,
    "start_time": "2021-09-24T14:22:49.986Z"
   },
   {
    "duration": 37,
    "start_time": "2021-09-24T14:22:51.376Z"
   },
   {
    "duration": 98,
    "start_time": "2021-09-24T14:23:25.448Z"
   },
   {
    "duration": 55,
    "start_time": "2021-09-24T14:23:27.163Z"
   },
   {
    "duration": 95,
    "start_time": "2021-09-24T14:25:02.836Z"
   },
   {
    "duration": 51,
    "start_time": "2021-09-24T14:25:15.563Z"
   },
   {
    "duration": 72,
    "start_time": "2021-09-24T14:25:45.624Z"
   },
   {
    "duration": 30,
    "start_time": "2021-09-24T14:25:47.317Z"
   },
   {
    "duration": 70,
    "start_time": "2021-09-24T14:26:49.900Z"
   },
   {
    "duration": 42,
    "start_time": "2021-09-24T14:26:52.232Z"
   },
   {
    "duration": 72,
    "start_time": "2021-09-24T14:34:20.741Z"
   },
   {
    "duration": 52,
    "start_time": "2021-09-24T14:34:22.908Z"
   },
   {
    "duration": 12,
    "start_time": "2021-09-24T14:46:06.904Z"
   },
   {
    "duration": 65,
    "start_time": "2021-09-24T14:50:45.103Z"
   },
   {
    "duration": 30,
    "start_time": "2021-09-24T14:50:46.744Z"
   },
   {
    "duration": 12,
    "start_time": "2021-09-24T14:51:10.506Z"
   },
   {
    "duration": 14,
    "start_time": "2021-09-24T14:51:28.698Z"
   },
   {
    "duration": 271,
    "start_time": "2021-09-24T15:00:41.954Z"
   },
   {
    "duration": 249,
    "start_time": "2021-09-24T15:01:04.481Z"
   },
   {
    "duration": 250,
    "start_time": "2021-09-24T15:02:12.899Z"
   },
   {
    "duration": 26,
    "start_time": "2021-09-24T15:03:16.545Z"
   },
   {
    "duration": 25,
    "start_time": "2021-09-24T15:03:31.231Z"
   },
   {
    "duration": 26,
    "start_time": "2021-09-24T15:03:39.420Z"
   },
   {
    "duration": 92,
    "start_time": "2021-09-24T15:03:44.063Z"
   },
   {
    "duration": 47,
    "start_time": "2021-09-24T15:03:45.766Z"
   },
   {
    "duration": 20,
    "start_time": "2021-09-24T15:03:48.797Z"
   },
   {
    "duration": 25,
    "start_time": "2021-09-24T15:03:50.908Z"
   },
   {
    "duration": 1022,
    "start_time": "2021-09-24T15:04:23.226Z"
   },
   {
    "duration": 20,
    "start_time": "2021-09-24T15:04:56.334Z"
   },
   {
    "duration": 55,
    "start_time": "2021-09-24T15:07:42.823Z"
   },
   {
    "duration": 61,
    "start_time": "2021-09-24T15:10:13.593Z"
   },
   {
    "duration": 102,
    "start_time": "2021-09-24T15:10:38.360Z"
   },
   {
    "duration": 59,
    "start_time": "2021-09-24T15:10:49.732Z"
   },
   {
    "duration": 62,
    "start_time": "2021-09-24T15:10:59.973Z"
   },
   {
    "duration": 58,
    "start_time": "2021-09-24T15:11:05.215Z"
   },
   {
    "duration": 94,
    "start_time": "2021-09-24T15:11:11.072Z"
   },
   {
    "duration": 96,
    "start_time": "2021-09-24T15:11:25.473Z"
   },
   {
    "duration": 71,
    "start_time": "2021-09-24T15:26:32.939Z"
   },
   {
    "duration": 93,
    "start_time": "2021-09-24T15:26:55.603Z"
   },
   {
    "duration": 88,
    "start_time": "2021-09-24T15:29:20.272Z"
   },
   {
    "duration": 482,
    "start_time": "2021-09-24T15:29:48.739Z"
   },
   {
    "duration": 91,
    "start_time": "2021-09-24T15:30:05.861Z"
   },
   {
    "duration": 246,
    "start_time": "2021-09-24T15:30:11.507Z"
   },
   {
    "duration": 90,
    "start_time": "2021-09-24T15:30:25.606Z"
   },
   {
    "duration": 324,
    "start_time": "2021-09-24T15:31:27.220Z"
   },
   {
    "duration": 147,
    "start_time": "2021-09-24T15:33:26.824Z"
   },
   {
    "duration": 135,
    "start_time": "2021-09-24T15:33:52.325Z"
   },
   {
    "duration": 124,
    "start_time": "2021-09-24T15:34:11.046Z"
   },
   {
    "duration": 157,
    "start_time": "2021-09-24T15:35:44.370Z"
   },
   {
    "duration": 67,
    "start_time": "2021-09-24T15:37:59.913Z"
   },
   {
    "duration": 32,
    "start_time": "2021-09-24T15:38:03.852Z"
   },
   {
    "duration": 21,
    "start_time": "2021-09-24T15:38:08.235Z"
   },
   {
    "duration": 147,
    "start_time": "2021-09-24T15:38:11.928Z"
   },
   {
    "duration": 208,
    "start_time": "2021-09-26T15:44:53.539Z"
   },
   {
    "duration": 577,
    "start_time": "2021-09-26T15:45:07.136Z"
   },
   {
    "duration": 33,
    "start_time": "2021-09-26T15:45:10.545Z"
   },
   {
    "duration": 12,
    "start_time": "2021-09-26T15:45:12.598Z"
   },
   {
    "duration": 103,
    "start_time": "2021-09-26T15:45:14.372Z"
   },
   {
    "duration": 4244,
    "start_time": "2021-09-26T15:45:16.667Z"
   },
   {
    "duration": 16,
    "start_time": "2021-09-26T15:45:44.686Z"
   },
   {
    "duration": 54,
    "start_time": "2021-09-26T15:52:19.146Z"
   },
   {
    "duration": 315,
    "start_time": "2021-09-26T15:52:26.071Z"
   },
   {
    "duration": 312,
    "start_time": "2021-09-26T15:53:53.633Z"
   },
   {
    "duration": 4163,
    "start_time": "2021-09-26T15:54:18.453Z"
   },
   {
    "duration": 4318,
    "start_time": "2021-09-26T15:57:42.386Z"
   },
   {
    "duration": 66,
    "start_time": "2021-09-26T16:37:16.925Z"
   },
   {
    "duration": 68,
    "start_time": "2021-09-26T16:41:25.833Z"
   },
   {
    "duration": 63,
    "start_time": "2021-09-26T16:42:39.618Z"
   },
   {
    "duration": 65,
    "start_time": "2021-09-26T16:42:52.941Z"
   },
   {
    "duration": 64,
    "start_time": "2021-09-26T16:43:08.599Z"
   },
   {
    "duration": 65,
    "start_time": "2021-09-26T16:43:21.479Z"
   },
   {
    "duration": 65,
    "start_time": "2021-09-26T16:44:20.900Z"
   },
   {
    "duration": 65,
    "start_time": "2021-09-26T16:45:37.763Z"
   },
   {
    "duration": 61,
    "start_time": "2021-09-26T16:47:14.309Z"
   },
   {
    "duration": 182,
    "start_time": "2021-09-26T16:51:36.523Z"
   },
   {
    "duration": 57,
    "start_time": "2021-09-26T16:53:11.777Z"
   },
   {
    "duration": 60,
    "start_time": "2021-09-26T16:53:29.405Z"
   },
   {
    "duration": 228,
    "start_time": "2021-09-26T16:55:23.909Z"
   },
   {
    "duration": 70,
    "start_time": "2021-09-26T16:55:45.860Z"
   },
   {
    "duration": 67,
    "start_time": "2021-09-26T16:56:21.848Z"
   },
   {
    "duration": 62,
    "start_time": "2021-09-26T16:57:11.909Z"
   },
   {
    "duration": 68,
    "start_time": "2021-09-26T16:58:03.984Z"
   },
   {
    "duration": 75,
    "start_time": "2021-09-26T16:59:24.640Z"
   },
   {
    "duration": 86,
    "start_time": "2021-09-26T17:01:36.524Z"
   },
   {
    "duration": 124,
    "start_time": "2021-09-26T17:05:37.693Z"
   },
   {
    "duration": 232,
    "start_time": "2021-09-26T17:07:40.015Z"
   },
   {
    "duration": 75,
    "start_time": "2021-09-26T17:07:58.058Z"
   },
   {
    "duration": 78,
    "start_time": "2021-09-26T17:14:00.573Z"
   },
   {
    "duration": 42,
    "start_time": "2021-09-26T17:14:03.407Z"
   },
   {
    "duration": 5,
    "start_time": "2021-09-26T18:05:12.845Z"
   },
   {
    "duration": 19,
    "start_time": "2021-09-26T18:12:43.237Z"
   },
   {
    "duration": 186,
    "start_time": "2021-09-26T18:14:30.005Z"
   },
   {
    "duration": 20,
    "start_time": "2021-09-26T18:14:35.230Z"
   },
   {
    "duration": 22,
    "start_time": "2021-09-26T18:21:10.295Z"
   },
   {
    "duration": 24,
    "start_time": "2021-09-26T18:21:28.601Z"
   },
   {
    "duration": 28,
    "start_time": "2021-09-26T18:21:41.409Z"
   },
   {
    "duration": 59,
    "start_time": "2021-09-26T18:21:59.630Z"
   },
   {
    "duration": 34,
    "start_time": "2021-09-26T18:22:02.042Z"
   },
   {
    "duration": 13,
    "start_time": "2021-09-26T18:22:04.672Z"
   },
   {
    "duration": 103,
    "start_time": "2021-09-26T18:22:06.976Z"
   },
   {
    "duration": 3871,
    "start_time": "2021-09-26T18:22:09.900Z"
   },
   {
    "duration": 38,
    "start_time": "2021-09-26T18:22:20.104Z"
   },
   {
    "duration": 15,
    "start_time": "2021-09-26T18:23:42.089Z"
   },
   {
    "duration": 69,
    "start_time": "2021-09-26T18:29:44.475Z"
   },
   {
    "duration": 36,
    "start_time": "2021-09-26T18:29:48.723Z"
   },
   {
    "duration": 13,
    "start_time": "2021-09-26T18:30:00.522Z"
   },
   {
    "duration": 99,
    "start_time": "2021-09-26T18:30:02.893Z"
   },
   {
    "duration": 4160,
    "start_time": "2021-09-26T18:30:09.082Z"
   },
   {
    "duration": 15,
    "start_time": "2021-09-26T18:30:41.999Z"
   },
   {
    "duration": 16,
    "start_time": "2021-09-26T18:32:20.164Z"
   },
   {
    "duration": 59,
    "start_time": "2021-09-26T18:40:04.186Z"
   },
   {
    "duration": 806,
    "start_time": "2021-09-26T18:41:03.832Z"
   },
   {
    "duration": 46,
    "start_time": "2021-09-26T18:41:50.006Z"
   },
   {
    "duration": 43,
    "start_time": "2021-09-26T18:58:42.192Z"
   },
   {
    "duration": 52,
    "start_time": "2021-09-26T19:05:46.494Z"
   },
   {
    "duration": 55,
    "start_time": "2021-09-26T19:07:29.394Z"
   },
   {
    "duration": 63,
    "start_time": "2021-09-26T19:16:30.204Z"
   },
   {
    "duration": 69,
    "start_time": "2021-09-26T19:16:53.681Z"
   },
   {
    "duration": 52,
    "start_time": "2021-09-26T19:17:07.819Z"
   },
   {
    "duration": 52,
    "start_time": "2021-09-26T19:18:36.241Z"
   },
   {
    "duration": 54,
    "start_time": "2021-09-26T19:19:09.361Z"
   },
   {
    "duration": 74,
    "start_time": "2021-09-26T19:21:20.592Z"
   },
   {
    "duration": -310,
    "start_time": "2021-09-26T19:24:48.316Z"
   },
   {
    "duration": 61,
    "start_time": "2021-09-26T19:25:10.340Z"
   },
   {
    "duration": 36,
    "start_time": "2021-09-26T19:25:12.932Z"
   },
   {
    "duration": 12,
    "start_time": "2021-09-26T19:25:16.310Z"
   },
   {
    "duration": 107,
    "start_time": "2021-09-26T19:25:18.295Z"
   },
   {
    "duration": 4193,
    "start_time": "2021-09-26T19:25:20.553Z"
   },
   {
    "duration": 72,
    "start_time": "2021-09-26T19:25:24.749Z"
   },
   {
    "duration": 4427,
    "start_time": "2021-09-26T23:09:45.840Z"
   },
   {
    "duration": 238,
    "start_time": "2021-09-26T23:10:21.978Z"
   },
   {
    "duration": 63,
    "start_time": "2021-09-26T23:10:56.346Z"
   },
   {
    "duration": 33,
    "start_time": "2021-09-26T23:10:59.103Z"
   },
   {
    "duration": 13,
    "start_time": "2021-09-26T23:11:01.191Z"
   },
   {
    "duration": 103,
    "start_time": "2021-09-26T23:11:03.048Z"
   },
   {
    "duration": 3992,
    "start_time": "2021-09-26T23:11:05.134Z"
   },
   {
    "duration": 205,
    "start_time": "2021-09-26T23:11:13.807Z"
   },
   {
    "duration": 4307,
    "start_time": "2021-09-26T23:11:49.030Z"
   },
   {
    "duration": 4840,
    "start_time": "2021-09-26T23:12:31.517Z"
   },
   {
    "duration": 8754,
    "start_time": "2021-09-26T23:13:40.898Z"
   },
   {
    "duration": 33,
    "start_time": "2021-09-26T23:17:14.238Z"
   },
   {
    "duration": 34,
    "start_time": "2021-09-26T23:17:38.978Z"
   },
   {
    "duration": 32,
    "start_time": "2021-09-26T23:17:40.656Z"
   },
   {
    "duration": 32,
    "start_time": "2021-09-26T23:18:16.841Z"
   },
   {
    "duration": 222,
    "start_time": "2021-09-26T23:35:36.822Z"
   },
   {
    "duration": 3907,
    "start_time": "2021-09-26T23:35:52.763Z"
   },
   {
    "duration": 1210,
    "start_time": "2021-09-26T23:36:35.221Z"
   },
   {
    "duration": 4498,
    "start_time": "2021-09-26T23:36:55.147Z"
   },
   {
    "duration": 56,
    "start_time": "2021-09-26T23:37:46.272Z"
   },
   {
    "duration": 457,
    "start_time": "2021-09-26T23:46:11.266Z"
   },
   {
    "duration": 48,
    "start_time": "2021-09-26T23:46:43.114Z"
   },
   {
    "duration": 62,
    "start_time": "2021-09-27T00:12:57.114Z"
   },
   {
    "duration": 31,
    "start_time": "2021-09-27T00:13:04.049Z"
   },
   {
    "duration": 13,
    "start_time": "2021-09-27T00:13:07.617Z"
   },
   {
    "duration": 104,
    "start_time": "2021-09-27T00:13:16.249Z"
   },
   {
    "duration": 3917,
    "start_time": "2021-09-27T00:13:25.090Z"
   },
   {
    "duration": 51,
    "start_time": "2021-09-27T00:13:34.716Z"
   },
   {
    "duration": 6,
    "start_time": "2021-09-27T00:17:47.072Z"
   },
   {
    "duration": 7,
    "start_time": "2021-09-27T00:18:56.871Z"
   },
   {
    "duration": 6,
    "start_time": "2021-09-27T00:18:58.972Z"
   },
   {
    "duration": 7,
    "start_time": "2021-09-27T00:19:00.798Z"
   },
   {
    "duration": 187,
    "start_time": "2021-09-27T00:21:54.934Z"
   },
   {
    "duration": 7,
    "start_time": "2021-09-27T00:22:05.089Z"
   },
   {
    "duration": 41,
    "start_time": "2021-09-27T00:23:16.301Z"
   },
   {
    "duration": 8,
    "start_time": "2021-09-27T00:23:24.092Z"
   },
   {
    "duration": 7,
    "start_time": "2021-09-27T00:23:37.916Z"
   },
   {
    "duration": 7,
    "start_time": "2021-09-27T00:23:41.354Z"
   },
   {
    "duration": 7,
    "start_time": "2021-09-27T00:23:44.350Z"
   },
   {
    "duration": 8,
    "start_time": "2021-09-27T00:23:46.903Z"
   },
   {
    "duration": 198,
    "start_time": "2021-09-27T01:11:39.270Z"
   },
   {
    "duration": 13,
    "start_time": "2021-09-27T01:12:02.390Z"
   },
   {
    "duration": 468,
    "start_time": "2021-09-27T01:12:21.706Z"
   },
   {
    "duration": 12,
    "start_time": "2021-09-27T01:12:49.367Z"
   },
   {
    "duration": 12,
    "start_time": "2021-09-27T01:14:18.172Z"
   },
   {
    "duration": 13,
    "start_time": "2021-09-27T01:17:05.983Z"
   },
   {
    "duration": 13,
    "start_time": "2021-09-27T01:17:23.996Z"
   },
   {
    "duration": 193,
    "start_time": "2021-09-27T01:18:57.305Z"
   },
   {
    "duration": 13,
    "start_time": "2021-09-27T01:19:21.955Z"
   },
   {
    "duration": 13,
    "start_time": "2021-09-27T01:19:33.028Z"
   },
   {
    "duration": 14,
    "start_time": "2021-09-27T01:19:38.797Z"
   },
   {
    "duration": 13,
    "start_time": "2021-09-27T01:19:42.520Z"
   },
   {
    "duration": 13,
    "start_time": "2021-09-27T01:19:46.515Z"
   },
   {
    "duration": 13,
    "start_time": "2021-09-27T01:19:52.082Z"
   },
   {
    "duration": 71,
    "start_time": "2021-09-27T01:35:43.200Z"
   },
   {
    "duration": 33,
    "start_time": "2021-09-27T01:36:27.559Z"
   },
   {
    "duration": 12,
    "start_time": "2021-09-27T01:36:40.983Z"
   },
   {
    "duration": 97,
    "start_time": "2021-09-27T01:36:43.982Z"
   },
   {
    "duration": 110,
    "start_time": "2021-09-27T01:36:55.876Z"
   },
   {
    "duration": 12,
    "start_time": "2021-09-27T01:37:38.424Z"
   },
   {
    "duration": 117,
    "start_time": "2021-09-27T01:37:45.118Z"
   },
   {
    "duration": 3749,
    "start_time": "2021-09-27T01:37:52.466Z"
   },
   {
    "duration": 49,
    "start_time": "2021-09-27T01:38:00.201Z"
   },
   {
    "duration": 15,
    "start_time": "2021-09-27T01:38:04.240Z"
   },
   {
    "duration": 14,
    "start_time": "2021-09-27T01:38:06.356Z"
   },
   {
    "duration": 13,
    "start_time": "2021-09-27T01:38:08.137Z"
   },
   {
    "duration": 15,
    "start_time": "2021-09-27T01:38:10.507Z"
   },
   {
    "duration": 789,
    "start_time": "2021-09-27T22:17:41.900Z"
   },
   {
    "duration": 54,
    "start_time": "2021-09-27T22:17:42.692Z"
   },
   {
    "duration": 19,
    "start_time": "2021-09-27T22:17:42.749Z"
   },
   {
    "duration": 173,
    "start_time": "2021-09-27T22:17:42.771Z"
   },
   {
    "duration": 5504,
    "start_time": "2021-09-27T22:17:42.946Z"
   },
   {
    "duration": 81,
    "start_time": "2021-09-27T22:17:48.453Z"
   },
   {
    "duration": 20,
    "start_time": "2021-09-27T22:17:48.536Z"
   },
   {
    "duration": 39,
    "start_time": "2021-09-27T22:17:48.559Z"
   },
   {
    "duration": 17,
    "start_time": "2021-09-27T22:17:48.600Z"
   },
   {
    "duration": 18,
    "start_time": "2021-09-27T22:17:48.619Z"
   },
   {
    "duration": 102,
    "start_time": "2021-09-27T22:29:21.748Z"
   },
   {
    "duration": 121,
    "start_time": "2021-09-27T22:30:43.957Z"
   },
   {
    "duration": 106,
    "start_time": "2021-09-27T22:32:13.542Z"
   },
   {
    "duration": 115,
    "start_time": "2021-09-27T22:34:38.817Z"
   },
   {
    "duration": 764,
    "start_time": "2021-09-29T17:17:35.618Z"
   },
   {
    "duration": 66,
    "start_time": "2021-09-29T17:18:32.266Z"
   },
   {
    "duration": 66,
    "start_time": "2021-09-29T17:18:36.558Z"
   },
   {
    "duration": 66,
    "start_time": "2021-09-29T17:19:06.144Z"
   },
   {
    "duration": 3,
    "start_time": "2021-09-29T17:44:02.088Z"
   },
   {
    "duration": 77,
    "start_time": "2021-09-29T18:16:43.446Z"
   },
   {
    "duration": 67,
    "start_time": "2021-09-29T18:16:56.698Z"
   },
   {
    "duration": 89,
    "start_time": "2021-09-29T18:18:17.929Z"
   },
   {
    "duration": 83,
    "start_time": "2021-09-29T18:19:22.940Z"
   },
   {
    "duration": 19,
    "start_time": "2021-09-29T18:19:25.674Z"
   },
   {
    "duration": 11,
    "start_time": "2021-09-29T18:22:25.063Z"
   },
   {
    "duration": 8,
    "start_time": "2021-09-29T18:29:00.720Z"
   },
   {
    "duration": 54,
    "start_time": "2021-09-29T18:29:30.011Z"
   },
   {
    "duration": 43,
    "start_time": "2021-09-29T18:30:05.057Z"
   },
   {
    "duration": 70,
    "start_time": "2021-09-29T18:31:28.750Z"
   },
   {
    "duration": 7,
    "start_time": "2021-09-29T18:31:34.233Z"
   },
   {
    "duration": 10,
    "start_time": "2021-09-29T18:31:38.395Z"
   },
   {
    "duration": 22,
    "start_time": "2021-09-29T18:31:39.224Z"
   },
   {
    "duration": 9,
    "start_time": "2021-09-29T18:33:04.818Z"
   },
   {
    "duration": 11,
    "start_time": "2021-09-29T18:33:54.949Z"
   },
   {
    "duration": 7,
    "start_time": "2021-09-29T18:35:08.244Z"
   },
   {
    "duration": 11,
    "start_time": "2021-09-29T18:35:28.423Z"
   },
   {
    "duration": 9,
    "start_time": "2021-09-29T18:37:49.062Z"
   },
   {
    "duration": 12,
    "start_time": "2021-09-29T18:40:45.190Z"
   },
   {
    "duration": 15,
    "start_time": "2021-09-29T18:41:15.896Z"
   },
   {
    "duration": 15,
    "start_time": "2021-09-29T18:41:23.987Z"
   },
   {
    "duration": 80,
    "start_time": "2021-09-29T18:42:05.284Z"
   },
   {
    "duration": 113,
    "start_time": "2021-09-29T18:45:56.267Z"
   },
   {
    "duration": 4718,
    "start_time": "2021-09-29T18:47:29.359Z"
   },
   {
    "duration": 54,
    "start_time": "2021-09-29T18:47:34.080Z"
   },
   {
    "duration": 8,
    "start_time": "2021-09-29T18:52:55.987Z"
   },
   {
    "duration": 13,
    "start_time": "2021-09-29T18:52:58.134Z"
   },
   {
    "duration": 14,
    "start_time": "2021-09-29T18:53:00.669Z"
   },
   {
    "duration": 25,
    "start_time": "2021-09-29T18:53:03.178Z"
   },
   {
    "duration": 14,
    "start_time": "2021-09-29T19:03:41.628Z"
   },
   {
    "duration": 13,
    "start_time": "2021-09-29T19:03:45.254Z"
   },
   {
    "duration": 14,
    "start_time": "2021-09-29T19:03:48.665Z"
   },
   {
    "duration": 14,
    "start_time": "2021-09-29T19:03:52.014Z"
   },
   {
    "duration": 15,
    "start_time": "2021-09-29T19:04:57.545Z"
   },
   {
    "duration": 20,
    "start_time": "2021-09-29T19:05:13.146Z"
   },
   {
    "duration": 15,
    "start_time": "2021-09-29T19:07:30.884Z"
   },
   {
    "duration": 18,
    "start_time": "2021-09-29T19:07:39.423Z"
   },
   {
    "duration": 17,
    "start_time": "2021-09-29T19:07:55.173Z"
   },
   {
    "duration": 109,
    "start_time": "2021-09-29T19:26:32.245Z"
   },
   {
    "duration": 660,
    "start_time": "2021-09-29T20:26:10.108Z"
   },
   {
    "duration": 9,
    "start_time": "2021-09-29T20:26:10.770Z"
   },
   {
    "duration": 7,
    "start_time": "2021-09-29T20:26:10.781Z"
   },
   {
    "duration": 22,
    "start_time": "2021-09-29T20:26:10.790Z"
   },
   {
    "duration": 36,
    "start_time": "2021-09-29T20:26:10.814Z"
   },
   {
    "duration": 10,
    "start_time": "2021-09-29T20:26:10.852Z"
   },
   {
    "duration": 7,
    "start_time": "2021-09-29T20:26:10.864Z"
   },
   {
    "duration": 13,
    "start_time": "2021-09-29T20:26:10.873Z"
   },
   {
    "duration": 9,
    "start_time": "2021-09-29T20:26:10.888Z"
   },
   {
    "duration": 14,
    "start_time": "2021-09-29T20:26:10.898Z"
   },
   {
    "duration": 47,
    "start_time": "2021-09-29T20:26:10.914Z"
   },
   {
    "duration": 123,
    "start_time": "2021-09-29T20:26:10.963Z"
   },
   {
    "duration": 4961,
    "start_time": "2021-09-29T20:26:11.088Z"
   },
   {
    "duration": 31,
    "start_time": "2021-09-29T20:26:16.052Z"
   },
   {
    "duration": 9,
    "start_time": "2021-09-29T20:26:16.085Z"
   },
   {
    "duration": 12,
    "start_time": "2021-09-29T20:26:16.096Z"
   },
   {
    "duration": 44,
    "start_time": "2021-09-29T20:26:16.110Z"
   },
   {
    "duration": 21,
    "start_time": "2021-09-29T20:26:16.156Z"
   },
   {
    "duration": 17,
    "start_time": "2021-09-29T20:26:16.180Z"
   },
   {
    "duration": 17,
    "start_time": "2021-09-29T20:26:16.199Z"
   },
   {
    "duration": 48,
    "start_time": "2021-09-29T20:26:16.218Z"
   },
   {
    "duration": 16,
    "start_time": "2021-09-29T20:26:16.268Z"
   },
   {
    "duration": 79,
    "start_time": "2021-09-29T20:26:51.556Z"
   },
   {
    "duration": 72,
    "start_time": "2021-09-29T20:29:34.872Z"
   }
  ],
  "kernelspec": {
   "display_name": "Python 3",
   "language": "python",
   "name": "python3"
  },
  "language_info": {
   "codemirror_mode": {
    "name": "ipython",
    "version": 3
   },
   "file_extension": ".py",
   "mimetype": "text/x-python",
   "name": "python",
   "nbconvert_exporter": "python",
   "pygments_lexer": "ipython3",
   "version": "3.7.8"
  },
  "toc": {
   "base_numbering": 1,
   "nav_menu": {},
   "number_sections": true,
   "sideBar": true,
   "skip_h1_title": true,
   "title_cell": "Table of Contents",
   "title_sidebar": "Contents",
   "toc_cell": false,
   "toc_position": {
    "height": "calc(100% - 180px)",
    "left": "10px",
    "top": "150px",
    "width": "422px"
   },
   "toc_section_display": true,
   "toc_window_display": true
  }
 },
 "nbformat": 4,
 "nbformat_minor": 2
}
