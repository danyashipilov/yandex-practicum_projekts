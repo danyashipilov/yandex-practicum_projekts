{
 "cells": [
  {
   "cell_type": "markdown",
   "metadata": {
    "toc": true
   },
   "source": [
    "<h1>Содержание<span class=\"tocSkip\"></span></h1>\n",
    "<div class=\"toc\"><ul class=\"toc-item\"><li><span><a href=\"#Подготовка\" data-toc-modified-id=\"Подготовка-1\"><span class=\"toc-item-num\">1&nbsp;&nbsp;</span>Подготовка</a></span></li><li><span><a href=\"#Анализ\" data-toc-modified-id=\"Анализ-2\"><span class=\"toc-item-num\">2&nbsp;&nbsp;</span>Анализ</a></span></li><li><span><a href=\"#Обучение\" data-toc-modified-id=\"Обучение-3\"><span class=\"toc-item-num\">3&nbsp;&nbsp;</span>Обучение</a></span></li><li><span><a href=\"#Тестирование\" data-toc-modified-id=\"Тестирование-4\"><span class=\"toc-item-num\">4&nbsp;&nbsp;</span>Тестирование</a></span></li><li><span><a href=\"#Вывод\" data-toc-modified-id=\"Вывод-5\"><span class=\"toc-item-num\">5&nbsp;&nbsp;</span>Вывод</a></span></li><li><span><a href=\"#Чек-лист-проверки\" data-toc-modified-id=\"Чек-лист-проверки-6\"><span class=\"toc-item-num\">6&nbsp;&nbsp;</span>Чек-лист проверки</a></span></li></ul></div>"
   ]
  },
  {
   "cell_type": "markdown",
   "metadata": {},
   "source": [
    "#  Прогнозирование заказов такси"
   ]
  },
  {
   "cell_type": "markdown",
   "metadata": {},
   "source": [
    "Компания «Чётенькое такси» собрала исторические данные о заказах такси в аэропортах. Чтобы привлекать больше водителей в период пиковой нагрузки, нужно спрогнозировать количество заказов такси на следующий час. Постройте модель для такого предсказания.\n",
    "\n",
    "Значение метрики *RMSE* на тестовой выборке должно быть не больше 48.\n",
    "\n",
    "Вам нужно:\n",
    "\n",
    "1. Загрузить данные и выполнить их ресемплирование по одному часу.\n",
    "2. Проанализировать данные.\n",
    "3. Обучить разные модели с различными гиперпараметрами. Сделать тестовую выборку размером 10% от исходных данных.\n",
    "4. Проверить данные на тестовой выборке и сделать выводы.\n",
    "\n",
    "\n",
    "Данные лежат в файле `taxi.csv`. Количество заказов находится в столбце `num_orders` (от англ. *number of orders*, «число заказов»)."
   ]
  },
  {
   "cell_type": "markdown",
   "metadata": {},
   "source": [
    "## Подготовка"
   ]
  },
  {
   "cell_type": "code",
   "execution_count": 74,
   "metadata": {},
   "outputs": [],
   "source": [
    "import pandas as pd\n",
    "import numpy as np\n",
    "from statsmodels.tsa.seasonal import seasonal_decompose\n",
    "from sklearn.model_selection import train_test_split\n",
    "from sklearn.linear_model import LinearRegression\n",
    "from sklearn.tree import DecisionTreeRegressor\n",
    "from sklearn.ensemble import RandomForestRegressor\n",
    "from sklearn.metrics import mean_squared_error \n",
    "import matplotlib.pyplot as plt\n",
    "from sklearn.metrics import fbeta_score, make_scorer\n",
    "from sklearn.model_selection import TimeSeriesSplit, GridSearchCV, cross_val_score\n",
    "from lightgbm import LGBMRegressor\n",
    "from catboost import CatBoostRegressor\n",
    "import time"
   ]
  },
  {
   "cell_type": "code",
   "execution_count": 75,
   "metadata": {},
   "outputs": [],
   "source": [
    "import warnings\n",
    "warnings.filterwarnings(\"ignore\")"
   ]
  },
  {
   "cell_type": "code",
   "execution_count": 76,
   "metadata": {},
   "outputs": [],
   "source": [
    "data = pd.read_csv('/datasets/taxi.csv', index_col=[0], parse_dates=[0])"
   ]
  },
  {
   "cell_type": "code",
   "execution_count": 77,
   "metadata": {},
   "outputs": [
    {
     "data": {
      "text/html": [
       "<div>\n",
       "<style scoped>\n",
       "    .dataframe tbody tr th:only-of-type {\n",
       "        vertical-align: middle;\n",
       "    }\n",
       "\n",
       "    .dataframe tbody tr th {\n",
       "        vertical-align: top;\n",
       "    }\n",
       "\n",
       "    .dataframe thead th {\n",
       "        text-align: right;\n",
       "    }\n",
       "</style>\n",
       "<table border=\"1\" class=\"dataframe\">\n",
       "  <thead>\n",
       "    <tr style=\"text-align: right;\">\n",
       "      <th></th>\n",
       "      <th>num_orders</th>\n",
       "    </tr>\n",
       "    <tr>\n",
       "      <th>datetime</th>\n",
       "      <th></th>\n",
       "    </tr>\n",
       "  </thead>\n",
       "  <tbody>\n",
       "    <tr>\n",
       "      <th>2018-03-01 00:00:00</th>\n",
       "      <td>9</td>\n",
       "    </tr>\n",
       "    <tr>\n",
       "      <th>2018-03-01 00:10:00</th>\n",
       "      <td>14</td>\n",
       "    </tr>\n",
       "    <tr>\n",
       "      <th>2018-03-01 00:20:00</th>\n",
       "      <td>28</td>\n",
       "    </tr>\n",
       "    <tr>\n",
       "      <th>2018-03-01 00:30:00</th>\n",
       "      <td>20</td>\n",
       "    </tr>\n",
       "    <tr>\n",
       "      <th>2018-03-01 00:40:00</th>\n",
       "      <td>32</td>\n",
       "    </tr>\n",
       "  </tbody>\n",
       "</table>\n",
       "</div>"
      ],
      "text/plain": [
       "                     num_orders\n",
       "datetime                       \n",
       "2018-03-01 00:00:00           9\n",
       "2018-03-01 00:10:00          14\n",
       "2018-03-01 00:20:00          28\n",
       "2018-03-01 00:30:00          20\n",
       "2018-03-01 00:40:00          32"
      ]
     },
     "execution_count": 77,
     "metadata": {},
     "output_type": "execute_result"
    }
   ],
   "source": [
    "data.head()"
   ]
  },
  {
   "cell_type": "code",
   "execution_count": 78,
   "metadata": {},
   "outputs": [
    {
     "data": {
      "text/html": [
       "<div>\n",
       "<style scoped>\n",
       "    .dataframe tbody tr th:only-of-type {\n",
       "        vertical-align: middle;\n",
       "    }\n",
       "\n",
       "    .dataframe tbody tr th {\n",
       "        vertical-align: top;\n",
       "    }\n",
       "\n",
       "    .dataframe thead th {\n",
       "        text-align: right;\n",
       "    }\n",
       "</style>\n",
       "<table border=\"1\" class=\"dataframe\">\n",
       "  <thead>\n",
       "    <tr style=\"text-align: right;\">\n",
       "      <th></th>\n",
       "      <th>num_orders</th>\n",
       "    </tr>\n",
       "    <tr>\n",
       "      <th>datetime</th>\n",
       "      <th></th>\n",
       "    </tr>\n",
       "  </thead>\n",
       "  <tbody>\n",
       "    <tr>\n",
       "      <th>2018-08-31 23:10:00</th>\n",
       "      <td>32</td>\n",
       "    </tr>\n",
       "    <tr>\n",
       "      <th>2018-08-31 23:20:00</th>\n",
       "      <td>24</td>\n",
       "    </tr>\n",
       "    <tr>\n",
       "      <th>2018-08-31 23:30:00</th>\n",
       "      <td>27</td>\n",
       "    </tr>\n",
       "    <tr>\n",
       "      <th>2018-08-31 23:40:00</th>\n",
       "      <td>39</td>\n",
       "    </tr>\n",
       "    <tr>\n",
       "      <th>2018-08-31 23:50:00</th>\n",
       "      <td>53</td>\n",
       "    </tr>\n",
       "  </tbody>\n",
       "</table>\n",
       "</div>"
      ],
      "text/plain": [
       "                     num_orders\n",
       "datetime                       \n",
       "2018-08-31 23:10:00          32\n",
       "2018-08-31 23:20:00          24\n",
       "2018-08-31 23:30:00          27\n",
       "2018-08-31 23:40:00          39\n",
       "2018-08-31 23:50:00          53"
      ]
     },
     "execution_count": 78,
     "metadata": {},
     "output_type": "execute_result"
    }
   ],
   "source": [
    "data.tail()"
   ]
  },
  {
   "cell_type": "code",
   "execution_count": 79,
   "metadata": {},
   "outputs": [
    {
     "name": "stdout",
     "output_type": "stream",
     "text": [
      "<class 'pandas.core.frame.DataFrame'>\n",
      "DatetimeIndex: 26496 entries, 2018-03-01 00:00:00 to 2018-08-31 23:50:00\n",
      "Data columns (total 1 columns):\n",
      " #   Column      Non-Null Count  Dtype\n",
      "---  ------      --------------  -----\n",
      " 0   num_orders  26496 non-null  int64\n",
      "dtypes: int64(1)\n",
      "memory usage: 414.0 KB\n"
     ]
    }
   ],
   "source": [
    "data.info()"
   ]
  },
  {
   "cell_type": "code",
   "execution_count": 80,
   "metadata": {},
   "outputs": [],
   "source": [
    "data.sort_index(inplace=True)"
   ]
  },
  {
   "cell_type": "code",
   "execution_count": 81,
   "metadata": {},
   "outputs": [],
   "source": [
    "# проведем ресемплированание по одному часу\n",
    "\n",
    "data = data.resample('1H').sum()"
   ]
  },
  {
   "cell_type": "code",
   "execution_count": 82,
   "metadata": {},
   "outputs": [
    {
     "data": {
      "text/html": [
       "<div>\n",
       "<style scoped>\n",
       "    .dataframe tbody tr th:only-of-type {\n",
       "        vertical-align: middle;\n",
       "    }\n",
       "\n",
       "    .dataframe tbody tr th {\n",
       "        vertical-align: top;\n",
       "    }\n",
       "\n",
       "    .dataframe thead th {\n",
       "        text-align: right;\n",
       "    }\n",
       "</style>\n",
       "<table border=\"1\" class=\"dataframe\">\n",
       "  <thead>\n",
       "    <tr style=\"text-align: right;\">\n",
       "      <th></th>\n",
       "      <th>num_orders</th>\n",
       "    </tr>\n",
       "    <tr>\n",
       "      <th>datetime</th>\n",
       "      <th></th>\n",
       "    </tr>\n",
       "  </thead>\n",
       "  <tbody>\n",
       "    <tr>\n",
       "      <th>2018-03-01 00:00:00</th>\n",
       "      <td>124</td>\n",
       "    </tr>\n",
       "    <tr>\n",
       "      <th>2018-03-01 01:00:00</th>\n",
       "      <td>85</td>\n",
       "    </tr>\n",
       "    <tr>\n",
       "      <th>2018-03-01 02:00:00</th>\n",
       "      <td>71</td>\n",
       "    </tr>\n",
       "    <tr>\n",
       "      <th>2018-03-01 03:00:00</th>\n",
       "      <td>66</td>\n",
       "    </tr>\n",
       "    <tr>\n",
       "      <th>2018-03-01 04:00:00</th>\n",
       "      <td>43</td>\n",
       "    </tr>\n",
       "  </tbody>\n",
       "</table>\n",
       "</div>"
      ],
      "text/plain": [
       "                     num_orders\n",
       "datetime                       \n",
       "2018-03-01 00:00:00         124\n",
       "2018-03-01 01:00:00          85\n",
       "2018-03-01 02:00:00          71\n",
       "2018-03-01 03:00:00          66\n",
       "2018-03-01 04:00:00          43"
      ]
     },
     "execution_count": 82,
     "metadata": {},
     "output_type": "execute_result"
    }
   ],
   "source": [
    "data.head()"
   ]
  },
  {
   "cell_type": "code",
   "execution_count": 83,
   "metadata": {},
   "outputs": [
    {
     "name": "stdout",
     "output_type": "stream",
     "text": [
      "<class 'pandas.core.frame.DataFrame'>\n",
      "DatetimeIndex: 4416 entries, 2018-03-01 00:00:00 to 2018-08-31 23:00:00\n",
      "Freq: H\n",
      "Data columns (total 1 columns):\n",
      " #   Column      Non-Null Count  Dtype\n",
      "---  ------      --------------  -----\n",
      " 0   num_orders  4416 non-null   int64\n",
      "dtypes: int64(1)\n",
      "memory usage: 69.0 KB\n"
     ]
    }
   ],
   "source": [
    "data.info()"
   ]
  },
  {
   "cell_type": "markdown",
   "metadata": {},
   "source": [
    "## Анализ"
   ]
  },
  {
   "cell_type": "markdown",
   "metadata": {},
   "source": [
    "Проведем анализ временного ряда"
   ]
  },
  {
   "cell_type": "code",
   "execution_count": 84,
   "metadata": {},
   "outputs": [
    {
     "data": {
      "text/plain": [
       "<AxesSubplot:xlabel='datetime'>"
      ]
     },
     "execution_count": 84,
     "metadata": {},
     "output_type": "execute_result"
    },
    {
     "data": {
      "image/png": "[encoded data removed]",
      "text/plain": [
       "<Figure size 1440x576 with 1 Axes>"
      ]
     },
     "metadata": {
      "needs_background": "light"
     },
     "output_type": "display_data"
    }
   ],
   "source": [
    "# Добавим в столбец 'rolling_mean' скользящее среднее с размером окна, равным 10\n",
    "\n",
    "\n",
    "\n",
    "data['rolling_mean'] =data.rolling(10).mean() \n",
    "data.plot(figsize=(20, 8))"
   ]
  },
  {
   "cell_type": "code",
   "execution_count": 85,
   "metadata": {},
   "outputs": [],
   "source": [
    "decomposed = seasonal_decompose(data.num_orders)"
   ]
  },
  {
   "cell_type": "code",
   "execution_count": 86,
   "metadata": {},
   "outputs": [
    {
     "data": {
      "image/png": "[encoded data removed]",
      "text/plain": [
       "<Figure size 1080x576 with 3 Axes>"
      ]
     },
     "metadata": {
      "needs_background": "light"
     },
     "output_type": "display_data"
    }
   ],
   "source": [
    "# Разложим временной ряд на тренд и сезонную компоненту. \n",
    "\n",
    "\n",
    "plt.figure(figsize=(15, 8))\n",
    "plt.subplot(311)\n",
    "decomposed.trend.plot(ax=plt.gca())\n",
    "plt.title('Trend')\n",
    "plt.subplot(312)\n",
    "decomposed.seasonal['2018-03-01':'2018-03-02'].plot(ax=plt.gca()) # Построим график сезонной составляющей за 1 марта 2018 года\n",
    "plt.title('Seasonality')\n",
    "plt.subplot(313)\n",
    "decomposed.resid.plot(ax=plt.gca()) \n",
    "plt.title('Residuals')\n",
    "plt.tight_layout()"
   ]
  },
  {
   "cell_type": "markdown",
   "metadata": {},
   "source": [
    "Из графика тренда мы видим тренд: увеличение заказов такси с конца зимы до самой осени. Летом люди чаще заказывают такси чем весной."
   ]
  },
  {
   "cell_type": "markdown",
   "metadata": {},
   "source": [
    "Из графика сезоннсти можно сделать вывод: люди активно заказывают такси утром когда едут на работу и учебу и вечером с 6 до 12 когда возвращаются домой. Ночью такси пользуется спросом, но этот спрос уменьшается к утру."
   ]
  },
  {
   "cell_type": "code",
   "execution_count": 87,
   "metadata": {},
   "outputs": [
    {
     "data": {
      "text/plain": [
       "<AxesSubplot:xlabel='datetime'>"
      ]
     },
     "execution_count": 87,
     "metadata": {},
     "output_type": "execute_result"
    },
    {
     "data": {
      "image/png": "[encoded data removed]",
      "text/plain": [
       "<Figure size 1080x576 with 1 Axes>"
      ]
     },
     "metadata": {
      "needs_background": "light"
     },
     "output_type": "display_data"
    }
   ],
   "source": [
    "# Вычислим разности временного ряда. \n",
    "# На графике изобразим скользящее среднее и скользящее стандартное отклонение\n",
    "\n",
    "df=data-data.shift()\n",
    "df['mean'] = df['num_orders'].rolling(15).mean()\n",
    "df['std'] = df['num_orders'].rolling(15).std()\n",
    "df.plot(figsize=(15, 8))"
   ]
  },
  {
   "cell_type": "markdown",
   "metadata": {},
   "source": [
    "## Обучение"
   ]
  },
  {
   "cell_type": "code",
   "execution_count": 88,
   "metadata": {},
   "outputs": [],
   "source": [
    "# cоздадим признаки\n",
    "\n",
    "\n",
    "def make_features(data, max_lag, rolling_mean_size):\n",
    "    data['year'] = data.index.year\n",
    "    data['month'] = data.index.month\n",
    "    data['day'] = data.index.day\n",
    "    data['dayofweek'] = data.index.dayofweek\n",
    "    \n",
    "    for lag in range(1, max_lag + 1):\n",
    "        data['lag_{}'.format(lag)] = data['num_orders'].shift(lag)\n",
    "\n",
    "    data['rolling_mean'] = data['num_orders'].shift().rolling(rolling_mean_size).mean()\n",
    "\n",
    "\n",
    "make_features(data, 30, 30)\n",
    "\n",
    "train, test = train_test_split(data, shuffle=False, test_size=0.1)\n",
    "train = train.dropna()\n",
    "\n",
    "\n",
    "features_train=train.drop(['num_orders'],axis=1)\n",
    "target_train=train['num_orders']\n",
    "\n",
    "features_test=test.drop(['num_orders'],axis=1)\n",
    "target_test=test['num_orders']"
   ]
  },
  {
   "cell_type": "code",
   "execution_count": 89,
   "metadata": {},
   "outputs": [],
   "source": [
    "features =data.drop(['num_orders'],axis=1)\n",
    "target =data['num_orders']"
   ]
  },
  {
   "cell_type": "markdown",
   "metadata": {},
   "source": [
    "## Тестирование"
   ]
  },
  {
   "cell_type": "code",
   "execution_count": 90,
   "metadata": {},
   "outputs": [],
   "source": [
    "# создадм таблицу для подсчкета результатов\n",
    "\n",
    "models_rating=[]"
   ]
  },
  {
   "cell_type": "code",
   "execution_count": 91,
   "metadata": {},
   "outputs": [],
   "source": [
    "# Создадим функцию подсчета времени\n",
    "\n",
    "\n",
    "def toFixed(numObj, digits=0):\n",
    "    return f\"{numObj:.{digits}f}\""
   ]
  },
  {
   "cell_type": "code",
   "execution_count": 92,
   "metadata": {},
   "outputs": [
    {
     "name": "stdout",
     "output_type": "stream",
     "text": [
      "rmse тестовой выборки:  64.62750909733948\n"
     ]
    }
   ],
   "source": [
    "start_1 = time.time()\n",
    "model=DecisionTreeRegressor()\n",
    "model.fit(features_train,target_train)\n",
    "end_1 = time.time()\n",
    "\n",
    "start_2 = time.time()\n",
    "predict_test =model.predict(features_test)\n",
    "end_2 = time.time()\n",
    "\n",
    "mse=mean_squared_error(predict_test,target_test)\n",
    "rmse=mse**0.5\n",
    "\n",
    "print(\"rmse тестовой выборки: \", rmse)"
   ]
  },
  {
   "cell_type": "code",
   "execution_count": 93,
   "metadata": {},
   "outputs": [],
   "source": [
    "models_rating.append({'model name': model.__class__.__name__, \n",
    "                              'rmse модели': rmse, \n",
    "                              'время обучения,c': toFixed(end_1 - start_1,2),\n",
    "                              'время предсказания,c':toFixed(end_2 - start_2,2)}) "
   ]
  },
  {
   "cell_type": "code",
   "execution_count": 94,
   "metadata": {},
   "outputs": [
    {
     "name": "stdout",
     "output_type": "stream",
     "text": [
      "rmse тестовой выборки:  46.83078004733243\n"
     ]
    }
   ],
   "source": [
    "# проверим модель линейной регрессии\n",
    "\n",
    "\n",
    "start_1 = time.time()\n",
    "model=LinearRegression()\n",
    "model.fit(features_train,target_train)\n",
    "end_1 = time.time()\n",
    "\n",
    "start_2 = time.time()\n",
    "predict_test =model.predict(features_test)\n",
    "end_2 = time.time()\n",
    "\n",
    "mse=mean_squared_error(predict_test,target_test)\n",
    "rmse=mse**0.5\n",
    "\n",
    "print(\"rmse тестовой выборки: \", rmse)"
   ]
  },
  {
   "cell_type": "code",
   "execution_count": 95,
   "metadata": {},
   "outputs": [],
   "source": [
    "models_rating.append({'model name': model.__class__.__name__, \n",
    "                              'rmse модели': rmse, \n",
    "                              'время обучения,c': toFixed(end_1 - start_1,2),\n",
    "                              'время предсказания,c':toFixed(end_2 - start_2,2)}) "
   ]
  },
  {
   "cell_type": "markdown",
   "metadata": {},
   "source": [
    "Параметры подбирались целых 8 минут."
   ]
  },
  {
   "cell_type": "code",
   "execution_count": 96,
   "metadata": {},
   "outputs": [
    {
     "name": "stdout",
     "output_type": "stream",
     "text": [
      "rmse тестовой выборки:  43.55370292317446\n",
      "CPU times: user 23.4 s, sys: 76.1 ms, total: 23.5 s\n",
      "Wall time: 23.6 s\n"
     ]
    }
   ],
   "source": [
    "%%time\n",
    "# проверим модель случайного леса\n",
    "\n",
    "\n",
    "start_1 = time.time()\n",
    "model=RandomForestRegressor(max_depth= 35, n_estimators= 400)\n",
    "model.fit(features_train,target_train)\n",
    "end_1 = time.time()\n",
    "\n",
    "start_2 = time.time()\n",
    "predict_test =model.predict(features_test)\n",
    "end_2 = time.time()\n",
    "\n",
    "mse=mean_squared_error(predict_test,target_test)\n",
    "rmse=mse**0.5\n",
    "\n",
    "print(\"rmse тестовой выборки: \", rmse)"
   ]
  },
  {
   "cell_type": "markdown",
   "metadata": {},
   "source": [
    "Зато мы получили отличное значение метрики."
   ]
  },
  {
   "cell_type": "code",
   "execution_count": 97,
   "metadata": {},
   "outputs": [],
   "source": [
    "models_rating.append({'model name': model.__class__.__name__, \n",
    "                              'rmse модели': rmse, \n",
    "                              'время обучения,c': toFixed(end_1 - start_1,2),\n",
    "                              'время предсказания,c':toFixed(end_2 - start_2,2)}) "
   ]
  },
  {
   "cell_type": "code",
   "execution_count": 98,
   "metadata": {},
   "outputs": [
    {
     "name": "stdout",
     "output_type": "stream",
     "text": [
      "Fitting 2 folds for each of 6 candidates, totalling 12 fits\n",
      "Best parameters found by grid search are: {'learning_rate': 0.05, 'n_estimators': 155}\n",
      "CPU times: user 2min 41s, sys: 777 ms, total: 2min 42s\n",
      "Wall time: 2min 44s\n"
     ]
    }
   ],
   "source": [
    "%%time\n",
    "\n",
    "# подберем параметры для RandomForestRegressor \n",
    "\n",
    "\n",
    "estimator = LGBMRegressor()\n",
    "\n",
    "param_grid = {\n",
    "    \n",
    "    'n_estimators': [153,155,157],\n",
    "    'learning_rate': [0.04, 0.05]\n",
    "\n",
    "}\n",
    "\n",
    "gbm = GridSearchCV(estimator, param_grid,cv=TimeSeriesSplit(n_splits=2), verbose=1)\n",
    "\n",
    "gbm.fit(features_train, target_train)\n",
    "\n",
    "print('Best parameters found by grid search are:', gbm.best_params_)"
   ]
  },
  {
   "cell_type": "code",
   "execution_count": 99,
   "metadata": {},
   "outputs": [
    {
     "name": "stdout",
     "output_type": "stream",
     "text": [
      "rmse тестовой выборки:  43.12787388976872\n",
      "CPU times: user 1.77 s, sys: 24.9 ms, total: 1.79 s\n",
      "Wall time: 1.89 s\n"
     ]
    }
   ],
   "source": [
    "%%time\n",
    "# проверим модель случайного леса\n",
    "\n",
    "\n",
    "start_1 = time.time()\n",
    "model=LGBMRegressor(learning_rate= 0.05, n_estimators= 155)\n",
    "model.fit(features_train,target_train)\n",
    "end_1 = time.time()\n",
    "\n",
    "start_2 = time.time()\n",
    "predict_test =model.predict(features_test)\n",
    "end_2 = time.time()\n",
    "\n",
    "mse=mean_squared_error(predict_test,target_test)\n",
    "rmse=mse**0.5\n",
    "\n",
    "print(\"rmse тестовой выборки: \", rmse)"
   ]
  },
  {
   "cell_type": "code",
   "execution_count": 100,
   "metadata": {},
   "outputs": [],
   "source": [
    "models_rating.append({'model name': model.__class__.__name__, \n",
    "                              'rmse модели': rmse, \n",
    "                              'время обучения,c': toFixed(end_1 - start_1,2),\n",
    "                              'время предсказания,c':toFixed(end_2 - start_2,2)}) "
   ]
  },
  {
   "cell_type": "code",
   "execution_count": 101,
   "metadata": {},
   "outputs": [
    {
     "name": "stdout",
     "output_type": "stream",
     "text": [
      "Fitting 2 folds for each of 6 candidates, totalling 12 fits\n",
      "Best parameters found by grid search are: {'learning_rate': 0.1, 'n_estimators': 330}\n",
      "CPU times: user 22 s, sys: 663 ms, total: 22.7 s\n",
      "Wall time: 34 s\n"
     ]
    }
   ],
   "source": [
    "%%time\n",
    "# подберем параметры для RandomForestRegressor \n",
    "\n",
    "\n",
    "estimator = CatBoostRegressor(verbose=False)\n",
    "\n",
    "param_grid = {\n",
    "    \n",
    "    'n_estimators': [300,330,340],\n",
    "    'learning_rate': [0.01, 0.1]\n",
    "\n",
    "}\n",
    "\n",
    "gbm = GridSearchCV(estimator, param_grid,cv=TimeSeriesSplit(n_splits=2), verbose=1)\n",
    "\n",
    "gbm.fit(features_train, target_train)\n",
    "\n",
    "print('Best parameters found by grid search are:', gbm.best_params_)"
   ]
  },
  {
   "cell_type": "code",
   "execution_count": 102,
   "metadata": {},
   "outputs": [
    {
     "name": "stdout",
     "output_type": "stream",
     "text": [
      "rmse тестовой выборки:  41.520155989599736\n",
      "CPU times: user 2.29 s, sys: 34.8 ms, total: 2.33 s\n",
      "Wall time: 3.21 s\n"
     ]
    }
   ],
   "source": [
    "%%time\n",
    "# проверим модель случайного леса\n",
    "\n",
    "\n",
    "start_1 = time.time()\n",
    "model=CatBoostRegressor(learning_rate= 0.1, n_estimators= 330, verbose=False)\n",
    "model.fit(features_train,target_train)\n",
    "end_1 = time.time()\n",
    "\n",
    "\n",
    "start_2 = time.time()\n",
    "predict_test =model.predict(features_test)\n",
    "end_2 = time.time()\n",
    "\n",
    "mse=mean_squared_error(predict_test,target_test)\n",
    "rmse=mse**0.5\n",
    "\n",
    "print(\"rmse тестовой выборки: \", rmse)"
   ]
  },
  {
   "cell_type": "code",
   "execution_count": 103,
   "metadata": {},
   "outputs": [],
   "source": [
    "models_rating.append({'model name': model.__class__.__name__, \n",
    "                              'rmse модели': rmse, \n",
    "                              'время обучения,c': toFixed(end_1 - start_1,2),\n",
    "                              'время предсказания,c':toFixed(end_2 - start_2,2)}) "
   ]
  },
  {
   "cell_type": "markdown",
   "metadata": {},
   "source": [
    "## Вывод"
   ]
  },
  {
   "cell_type": "code",
   "execution_count": 104,
   "metadata": {},
   "outputs": [
    {
     "data": {
      "text/html": [
       "<div>\n",
       "<style scoped>\n",
       "    .dataframe tbody tr th:only-of-type {\n",
       "        vertical-align: middle;\n",
       "    }\n",
       "\n",
       "    .dataframe tbody tr th {\n",
       "        vertical-align: top;\n",
       "    }\n",
       "\n",
       "    .dataframe thead th {\n",
       "        text-align: right;\n",
       "    }\n",
       "</style>\n",
       "<table border=\"1\" class=\"dataframe\">\n",
       "  <thead>\n",
       "    <tr style=\"text-align: right;\">\n",
       "      <th></th>\n",
       "      <th>model name</th>\n",
       "      <th>rmse модели</th>\n",
       "      <th>время обучения,c</th>\n",
       "      <th>время предсказания,c</th>\n",
       "    </tr>\n",
       "  </thead>\n",
       "  <tbody>\n",
       "    <tr>\n",
       "      <th>4</th>\n",
       "      <td>CatBoostRegressor</td>\n",
       "      <td>41.520156</td>\n",
       "      <td>3.21</td>\n",
       "      <td>0.00</td>\n",
       "    </tr>\n",
       "    <tr>\n",
       "      <th>3</th>\n",
       "      <td>LGBMRegressor</td>\n",
       "      <td>43.127874</td>\n",
       "      <td>1.80</td>\n",
       "      <td>0.09</td>\n",
       "    </tr>\n",
       "    <tr>\n",
       "      <th>2</th>\n",
       "      <td>RandomForestRegressor</td>\n",
       "      <td>43.553703</td>\n",
       "      <td>23.50</td>\n",
       "      <td>0.06</td>\n",
       "    </tr>\n",
       "    <tr>\n",
       "      <th>1</th>\n",
       "      <td>LinearRegression</td>\n",
       "      <td>46.830780</td>\n",
       "      <td>0.02</td>\n",
       "      <td>0.20</td>\n",
       "    </tr>\n",
       "    <tr>\n",
       "      <th>0</th>\n",
       "      <td>DecisionTreeRegressor</td>\n",
       "      <td>64.627509</td>\n",
       "      <td>0.12</td>\n",
       "      <td>0.00</td>\n",
       "    </tr>\n",
       "  </tbody>\n",
       "</table>\n",
       "</div>"
      ],
      "text/plain": [
       "              model name  rmse модели время обучения,c время предсказания,c\n",
       "4      CatBoostRegressor    41.520156             3.21                 0.00\n",
       "3          LGBMRegressor    43.127874             1.80                 0.09\n",
       "2  RandomForestRegressor    43.553703            23.50                 0.06\n",
       "1       LinearRegression    46.830780             0.02                 0.20\n",
       "0  DecisionTreeRegressor    64.627509             0.12                 0.00"
      ]
     },
     "execution_count": 104,
     "metadata": {},
     "output_type": "execute_result"
    }
   ],
   "source": [
    "pd.DataFrame(models_rating).sort_values(by=['rmse модели'])"
   ]
  },
  {
   "cell_type": "markdown",
   "metadata": {},
   "source": [
    "По итогу можно сделать вывод что лучшее значение метрики дала модель CatBoostRegressor, со временем обучания 3с. "
   ]
  }
 ],
 "metadata": {
  "ExecuteTimeLog": [
   {
    "duration": 1381,
    "start_time": "2022-03-30T18:00:22.138Z"
   },
   {
    "duration": 41,
    "start_time": "2022-03-30T18:00:24.306Z"
   },
   {
    "duration": 19,
    "start_time": "2022-03-30T18:00:24.454Z"
   },
   {
    "duration": 16,
    "start_time": "2022-03-30T18:00:40.184Z"
   },
   {
    "duration": 39,
    "start_time": "2022-03-30T18:04:23.093Z"
   },
   {
    "duration": 7,
    "start_time": "2022-03-30T18:04:24.737Z"
   },
   {
    "duration": 9,
    "start_time": "2022-03-30T18:04:30.879Z"
   },
   {
    "duration": 3,
    "start_time": "2022-03-30T18:05:13.555Z"
   },
   {
    "duration": 2,
    "start_time": "2022-03-30T18:06:56.322Z"
   },
   {
    "duration": 8,
    "start_time": "2022-03-30T18:08:01.449Z"
   },
   {
    "duration": 99,
    "start_time": "2022-03-30T18:08:17.580Z"
   },
   {
    "duration": 467,
    "start_time": "2022-03-30T18:09:14.882Z"
   },
   {
    "duration": 20,
    "start_time": "2022-03-30T18:09:18.092Z"
   },
   {
    "duration": 206,
    "start_time": "2022-03-30T18:09:23.811Z"
   },
   {
    "duration": 6,
    "start_time": "2022-03-30T18:09:52.946Z"
   },
   {
    "duration": 11,
    "start_time": "2022-03-30T18:09:53.452Z"
   },
   {
    "duration": 6,
    "start_time": "2022-03-30T18:12:58.426Z"
   },
   {
    "duration": 193,
    "start_time": "2022-03-30T18:17:55.708Z"
   },
   {
    "duration": 35,
    "start_time": "2022-03-30T18:21:40.477Z"
   },
   {
    "duration": 12,
    "start_time": "2022-03-30T18:22:43.940Z"
   },
   {
    "duration": 29,
    "start_time": "2022-03-30T18:23:50.468Z"
   },
   {
    "duration": 2022,
    "start_time": "2022-03-30T18:24:08.612Z"
   },
   {
    "duration": 41,
    "start_time": "2022-03-30T18:24:12.401Z"
   },
   {
    "duration": 2278,
    "start_time": "2022-03-30T18:44:29.525Z"
   },
   {
    "duration": 101,
    "start_time": "2022-03-30T18:45:08.099Z"
   },
   {
    "duration": 112,
    "start_time": "2022-03-30T18:45:14.293Z"
   },
   {
    "duration": 21,
    "start_time": "2022-03-30T18:46:09.742Z"
   },
   {
    "duration": 5,
    "start_time": "2022-03-30T18:46:14.933Z"
   },
   {
    "duration": 50,
    "start_time": "2022-03-30T18:46:14.941Z"
   },
   {
    "duration": 15,
    "start_time": "2022-03-30T18:46:14.993Z"
   },
   {
    "duration": 9,
    "start_time": "2022-03-30T18:46:15.011Z"
   },
   {
    "duration": 23,
    "start_time": "2022-03-30T18:46:15.022Z"
   },
   {
    "duration": 4,
    "start_time": "2022-03-30T18:46:15.068Z"
   },
   {
    "duration": 20,
    "start_time": "2022-03-30T18:46:15.075Z"
   },
   {
    "duration": 9,
    "start_time": "2022-03-30T18:46:15.097Z"
   },
   {
    "duration": 14,
    "start_time": "2022-03-30T18:46:15.109Z"
   },
   {
    "duration": 497,
    "start_time": "2022-03-30T18:46:15.126Z"
   },
   {
    "duration": 244,
    "start_time": "2022-03-30T18:46:15.625Z"
   },
   {
    "duration": 205,
    "start_time": "2022-03-30T18:46:15.871Z"
   },
   {
    "duration": 2477,
    "start_time": "2022-03-30T18:46:16.169Z"
   },
   {
    "duration": 58,
    "start_time": "2022-03-30T18:46:18.648Z"
   },
   {
    "duration": 2058,
    "start_time": "2022-03-30T18:46:18.708Z"
   },
   {
    "duration": 17,
    "start_time": "2022-03-30T18:46:20.768Z"
   },
   {
    "duration": 8,
    "start_time": "2022-03-30T18:46:37.103Z"
   },
   {
    "duration": 34043,
    "start_time": "2022-03-30T18:47:40.631Z"
   },
   {
    "duration": 25473,
    "start_time": "2022-03-30T18:49:50.311Z"
   },
   {
    "duration": 23510,
    "start_time": "2022-03-30T19:53:05.303Z"
   },
   {
    "duration": 1410,
    "start_time": "2022-03-30T19:56:53.029Z"
   },
   {
    "duration": 8,
    "start_time": "2022-03-30T19:57:11.636Z"
   },
   {
    "duration": 1483,
    "start_time": "2022-03-30T19:57:15.275Z"
   },
   {
    "duration": 8,
    "start_time": "2022-03-30T19:57:23.982Z"
   },
   {
    "duration": 40,
    "start_time": "2022-03-30T19:57:49.828Z"
   },
   {
    "duration": 57,
    "start_time": "2022-03-30T19:58:22.221Z"
   },
   {
    "duration": 265,
    "start_time": "2022-03-30T19:58:33.903Z"
   },
   {
    "duration": 8292,
    "start_time": "2022-03-30T19:59:23.449Z"
   },
   {
    "duration": 152,
    "start_time": "2022-03-30T19:59:36.510Z"
   },
   {
    "duration": 3202,
    "start_time": "2022-03-30T19:59:49.929Z"
   },
   {
    "duration": 12,
    "start_time": "2022-03-30T19:59:53.134Z"
   },
   {
    "duration": 155,
    "start_time": "2022-03-30T20:01:52.918Z"
   },
   {
    "duration": 12,
    "start_time": "2022-03-30T20:01:53.302Z"
   },
   {
    "duration": 160,
    "start_time": "2022-03-30T20:02:07.612Z"
   },
   {
    "duration": 14,
    "start_time": "2022-03-30T20:02:08.245Z"
   },
   {
    "duration": 47655,
    "start_time": "2022-03-30T20:03:13.120Z"
   },
   {
    "duration": 250,
    "start_time": "2022-03-30T20:04:22.327Z"
   },
   {
    "duration": 13,
    "start_time": "2022-03-30T20:04:22.669Z"
   },
   {
    "duration": 12412,
    "start_time": "2022-03-30T20:04:42.061Z"
   },
   {
    "duration": 21,
    "start_time": "2022-03-30T20:04:57.759Z"
   },
   {
    "duration": 526385,
    "start_time": "2022-03-30T20:05:24.993Z"
   },
   {
    "duration": 313,
    "start_time": "2022-03-30T20:16:59.456Z"
   },
   {
    "duration": 93,
    "start_time": "2022-03-30T20:28:11.323Z"
   },
   {
    "duration": 115,
    "start_time": "2022-03-30T20:28:27.455Z"
   },
   {
    "duration": 20,
    "start_time": "2022-03-30T20:32:18.861Z"
   },
   {
    "duration": 18,
    "start_time": "2022-03-30T20:32:59.357Z"
   },
   {
    "duration": 5,
    "start_time": "2022-03-30T20:33:13.256Z"
   },
   {
    "duration": 37,
    "start_time": "2022-03-30T20:33:15.553Z"
   },
   {
    "duration": 9,
    "start_time": "2022-03-30T20:33:15.838Z"
   },
   {
    "duration": 9,
    "start_time": "2022-03-30T20:33:16.046Z"
   },
   {
    "duration": 16,
    "start_time": "2022-03-30T20:33:16.277Z"
   },
   {
    "duration": 4,
    "start_time": "2022-03-30T20:33:17.380Z"
   },
   {
    "duration": 10,
    "start_time": "2022-03-30T20:33:17.657Z"
   },
   {
    "duration": 10,
    "start_time": "2022-03-30T20:33:17.913Z"
   },
   {
    "duration": 14,
    "start_time": "2022-03-30T20:33:18.486Z"
   },
   {
    "duration": 11,
    "start_time": "2022-03-30T20:33:19.625Z"
   },
   {
    "duration": 13,
    "start_time": "2022-03-30T20:33:54.307Z"
   },
   {
    "duration": 15,
    "start_time": "2022-03-30T20:35:42.183Z"
   },
   {
    "duration": 335,
    "start_time": "2022-03-30T20:35:49.133Z"
   },
   {
    "duration": 367,
    "start_time": "2022-03-30T20:37:58.946Z"
   },
   {
    "duration": 13,
    "start_time": "2022-03-30T20:39:32.558Z"
   },
   {
    "duration": 13,
    "start_time": "2022-03-30T20:39:49.927Z"
   },
   {
    "duration": 14,
    "start_time": "2022-03-30T20:40:02.737Z"
   },
   {
    "duration": 15,
    "start_time": "2022-03-30T20:40:13.816Z"
   },
   {
    "duration": 3,
    "start_time": "2022-03-30T20:41:50.519Z"
   },
   {
    "duration": 367,
    "start_time": "2022-03-30T20:41:58.042Z"
   },
   {
    "duration": 13,
    "start_time": "2022-03-30T20:42:07.310Z"
   },
   {
    "duration": 12,
    "start_time": "2022-03-30T20:42:16.297Z"
   },
   {
    "duration": 5,
    "start_time": "2022-03-30T20:44:01.697Z"
   },
   {
    "duration": 43,
    "start_time": "2022-03-30T20:44:01.908Z"
   },
   {
    "duration": 9,
    "start_time": "2022-03-30T20:44:02.120Z"
   },
   {
    "duration": 10,
    "start_time": "2022-03-30T20:44:02.336Z"
   },
   {
    "duration": 14,
    "start_time": "2022-03-30T20:44:02.555Z"
   },
   {
    "duration": 4,
    "start_time": "2022-03-30T20:44:02.761Z"
   },
   {
    "duration": 9,
    "start_time": "2022-03-30T20:44:02.976Z"
   },
   {
    "duration": 9,
    "start_time": "2022-03-30T20:44:03.187Z"
   },
   {
    "duration": 14,
    "start_time": "2022-03-30T20:44:03.423Z"
   },
   {
    "duration": 3,
    "start_time": "2022-03-30T20:44:16.357Z"
   },
   {
    "duration": 362,
    "start_time": "2022-03-30T20:44:16.736Z"
   },
   {
    "duration": 14,
    "start_time": "2022-03-30T20:44:19.359Z"
   },
   {
    "duration": 15,
    "start_time": "2022-03-30T20:44:56.518Z"
   },
   {
    "duration": 1099,
    "start_time": "2022-03-30T20:45:32.808Z"
   },
   {
    "duration": 1872,
    "start_time": "2022-03-30T20:48:20.528Z"
   },
   {
    "duration": 539,
    "start_time": "2022-03-30T20:48:45.081Z"
   },
   {
    "duration": 83,
    "start_time": "2022-03-30T20:49:20.894Z"
   },
   {
    "duration": 53,
    "start_time": "2022-03-30T20:49:43.515Z"
   },
   {
    "duration": 171,
    "start_time": "2022-03-30T20:49:48.203Z"
   },
   {
    "duration": 8568,
    "start_time": "2022-03-30T20:50:25.561Z"
   },
   {
    "duration": 6,
    "start_time": "2022-03-30T20:53:41.348Z"
   },
   {
    "duration": 42,
    "start_time": "2022-03-30T20:53:41.357Z"
   },
   {
    "duration": 9,
    "start_time": "2022-03-30T20:53:41.402Z"
   },
   {
    "duration": 12,
    "start_time": "2022-03-30T20:53:41.413Z"
   },
   {
    "duration": 39,
    "start_time": "2022-03-30T20:53:41.428Z"
   },
   {
    "duration": 4,
    "start_time": "2022-03-30T20:53:41.470Z"
   },
   {
    "duration": 12,
    "start_time": "2022-03-30T20:53:41.475Z"
   },
   {
    "duration": 8,
    "start_time": "2022-03-30T20:53:41.489Z"
   },
   {
    "duration": 14,
    "start_time": "2022-03-30T20:53:41.499Z"
   },
   {
    "duration": 8,
    "start_time": "2022-03-30T20:53:41.515Z"
   },
   {
    "duration": 407,
    "start_time": "2022-03-30T20:53:41.526Z"
   },
   {
    "duration": 15,
    "start_time": "2022-03-30T20:53:41.935Z"
   },
   {
    "duration": 0,
    "start_time": "2022-03-30T20:53:41.967Z"
   },
   {
    "duration": 0,
    "start_time": "2022-03-30T20:53:41.970Z"
   },
   {
    "duration": 0,
    "start_time": "2022-03-30T20:53:41.972Z"
   },
   {
    "duration": 0,
    "start_time": "2022-03-30T20:53:41.974Z"
   },
   {
    "duration": 0,
    "start_time": "2022-03-30T20:53:41.976Z"
   },
   {
    "duration": 0,
    "start_time": "2022-03-30T20:53:41.979Z"
   },
   {
    "duration": 0,
    "start_time": "2022-03-30T20:53:41.981Z"
   },
   {
    "duration": 0,
    "start_time": "2022-03-30T20:53:41.983Z"
   },
   {
    "duration": 1,
    "start_time": "2022-03-30T20:53:41.985Z"
   },
   {
    "duration": 0,
    "start_time": "2022-03-30T20:53:41.988Z"
   },
   {
    "duration": 0,
    "start_time": "2022-03-30T20:53:41.990Z"
   },
   {
    "duration": 0,
    "start_time": "2022-03-30T20:53:41.992Z"
   },
   {
    "duration": 0,
    "start_time": "2022-03-30T20:53:41.994Z"
   },
   {
    "duration": 0,
    "start_time": "2022-03-30T20:53:41.996Z"
   },
   {
    "duration": 12,
    "start_time": "2022-03-30T20:56:37.284Z"
   },
   {
    "duration": 14,
    "start_time": "2022-03-30T20:57:23.120Z"
   },
   {
    "duration": 13,
    "start_time": "2022-03-30T20:57:27.711Z"
   },
   {
    "duration": 14,
    "start_time": "2022-03-30T20:59:29.271Z"
   },
   {
    "duration": 1010,
    "start_time": "2022-03-30T21:02:01.964Z"
   },
   {
    "duration": 641,
    "start_time": "2022-03-30T21:02:03.852Z"
   },
   {
    "duration": 6,
    "start_time": "2022-03-30T21:03:13.256Z"
   },
   {
    "duration": 48,
    "start_time": "2022-03-30T21:03:13.265Z"
   },
   {
    "duration": 9,
    "start_time": "2022-03-30T21:03:13.316Z"
   },
   {
    "duration": 10,
    "start_time": "2022-03-30T21:03:13.328Z"
   },
   {
    "duration": 31,
    "start_time": "2022-03-30T21:03:13.341Z"
   },
   {
    "duration": 4,
    "start_time": "2022-03-30T21:03:13.374Z"
   },
   {
    "duration": 10,
    "start_time": "2022-03-30T21:03:13.380Z"
   },
   {
    "duration": 12,
    "start_time": "2022-03-30T21:03:13.392Z"
   },
   {
    "duration": 15,
    "start_time": "2022-03-30T21:03:13.407Z"
   },
   {
    "duration": 44,
    "start_time": "2022-03-30T21:03:13.424Z"
   },
   {
    "duration": 400,
    "start_time": "2022-03-30T21:03:13.470Z"
   },
   {
    "duration": 1094,
    "start_time": "2022-03-30T21:03:13.873Z"
   },
   {
    "duration": 682,
    "start_time": "2022-03-30T21:03:14.970Z"
   },
   {
    "duration": 212,
    "start_time": "2022-03-30T21:03:15.656Z"
   },
   {
    "duration": 123,
    "start_time": "2022-03-30T21:03:15.871Z"
   },
   {
    "duration": 280,
    "start_time": "2022-03-30T21:03:15.996Z"
   },
   {
    "duration": 8669,
    "start_time": "2022-03-30T21:03:16.279Z"
   },
   {
    "duration": 46742,
    "start_time": "2022-03-30T21:03:24.950Z"
   },
   {
    "duration": 3082,
    "start_time": "2022-03-30T21:04:11.694Z"
   },
   {
    "duration": 12,
    "start_time": "2022-03-30T21:04:14.778Z"
   },
   {
    "duration": 123086,
    "start_time": "2022-03-30T21:04:14.793Z"
   },
   {
    "duration": 690,
    "start_time": "2022-03-30T21:06:17.881Z"
   },
   {
    "duration": 97,
    "start_time": "2022-03-30T21:06:18.574Z"
   },
   {
    "duration": 2287,
    "start_time": "2022-03-30T21:07:07.290Z"
   },
   {
    "duration": 99,
    "start_time": "2022-03-30T21:07:09.580Z"
   },
   {
    "duration": 3409,
    "start_time": "2022-03-30T21:10:20.656Z"
   },
   {
    "duration": 10,
    "start_time": "2022-03-30T21:10:25.565Z"
   },
   {
    "duration": 114448,
    "start_time": "2022-03-30T21:10:52.503Z"
   },
   {
    "duration": 4365,
    "start_time": "2022-03-30T21:13:17.824Z"
   },
   {
    "duration": 8,
    "start_time": "2022-03-30T21:13:22.192Z"
   },
   {
    "duration": 3266,
    "start_time": "2022-03-30T21:13:51.544Z"
   },
   {
    "duration": 8,
    "start_time": "2022-03-30T21:13:54.813Z"
   },
   {
    "duration": 3521,
    "start_time": "2022-03-30T21:14:21.107Z"
   },
   {
    "duration": 8,
    "start_time": "2022-03-30T21:14:24.631Z"
   },
   {
    "duration": 304286,
    "start_time": "2022-03-30T21:14:54.984Z"
   },
   {
    "duration": 23065,
    "start_time": "2022-03-30T21:20:11.507Z"
   },
   {
    "duration": 0,
    "start_time": "2022-03-30T21:26:44.912Z"
   },
   {
    "duration": 0,
    "start_time": "2022-03-30T21:26:44.913Z"
   },
   {
    "duration": 0,
    "start_time": "2022-03-30T21:26:44.915Z"
   },
   {
    "duration": 0,
    "start_time": "2022-03-30T21:26:44.916Z"
   },
   {
    "duration": 0,
    "start_time": "2022-03-30T21:26:44.918Z"
   },
   {
    "duration": 0,
    "start_time": "2022-03-30T21:26:44.968Z"
   },
   {
    "duration": 0,
    "start_time": "2022-03-30T21:26:44.970Z"
   },
   {
    "duration": 0,
    "start_time": "2022-03-30T21:26:44.972Z"
   },
   {
    "duration": 0,
    "start_time": "2022-03-30T21:26:44.974Z"
   },
   {
    "duration": 0,
    "start_time": "2022-03-30T21:26:44.976Z"
   },
   {
    "duration": 0,
    "start_time": "2022-03-30T21:26:44.978Z"
   },
   {
    "duration": 0,
    "start_time": "2022-03-30T21:26:44.980Z"
   },
   {
    "duration": 0,
    "start_time": "2022-03-30T21:26:44.982Z"
   },
   {
    "duration": 0,
    "start_time": "2022-03-30T21:26:44.984Z"
   },
   {
    "duration": 0,
    "start_time": "2022-03-30T21:26:44.987Z"
   },
   {
    "duration": 1,
    "start_time": "2022-03-30T21:26:44.988Z"
   },
   {
    "duration": 0,
    "start_time": "2022-03-30T21:26:44.990Z"
   },
   {
    "duration": 0,
    "start_time": "2022-03-30T21:26:44.992Z"
   },
   {
    "duration": 0,
    "start_time": "2022-03-30T21:26:44.993Z"
   },
   {
    "duration": 0,
    "start_time": "2022-03-30T21:26:44.995Z"
   },
   {
    "duration": 0,
    "start_time": "2022-03-30T21:26:44.996Z"
   },
   {
    "duration": 6,
    "start_time": "2022-03-30T21:32:10.908Z"
   },
   {
    "duration": 38,
    "start_time": "2022-03-30T21:32:10.917Z"
   },
   {
    "duration": 9,
    "start_time": "2022-03-30T21:32:10.957Z"
   },
   {
    "duration": 9,
    "start_time": "2022-03-30T21:32:10.968Z"
   },
   {
    "duration": 14,
    "start_time": "2022-03-30T21:32:10.981Z"
   },
   {
    "duration": 4,
    "start_time": "2022-03-30T21:32:10.997Z"
   },
   {
    "duration": 10,
    "start_time": "2022-03-30T21:32:11.004Z"
   },
   {
    "duration": 55,
    "start_time": "2022-03-30T21:32:11.017Z"
   },
   {
    "duration": 16,
    "start_time": "2022-03-30T21:32:11.075Z"
   },
   {
    "duration": 397,
    "start_time": "2022-03-30T21:32:11.094Z"
   },
   {
    "duration": 1037,
    "start_time": "2022-03-30T21:32:11.494Z"
   },
   {
    "duration": 737,
    "start_time": "2022-03-30T21:32:12.534Z"
   },
   {
    "duration": 126,
    "start_time": "2022-03-30T21:32:13.274Z"
   },
   {
    "duration": 59,
    "start_time": "2022-03-30T21:32:13.408Z"
   },
   {
    "duration": 203,
    "start_time": "2022-03-30T21:32:13.471Z"
   },
   {
    "duration": 100,
    "start_time": "2022-03-30T21:32:13.677Z"
   },
   {
    "duration": 0,
    "start_time": "2022-03-30T21:32:13.780Z"
   },
   {
    "duration": 0,
    "start_time": "2022-03-30T21:32:13.782Z"
   },
   {
    "duration": 0,
    "start_time": "2022-03-30T21:32:13.785Z"
   },
   {
    "duration": 0,
    "start_time": "2022-03-30T21:32:13.788Z"
   },
   {
    "duration": 0,
    "start_time": "2022-03-30T21:32:13.790Z"
   },
   {
    "duration": 0,
    "start_time": "2022-03-30T21:32:13.792Z"
   },
   {
    "duration": 0,
    "start_time": "2022-03-30T21:32:13.868Z"
   },
   {
    "duration": 0,
    "start_time": "2022-03-30T21:32:13.871Z"
   },
   {
    "duration": 0,
    "start_time": "2022-03-30T21:32:13.873Z"
   },
   {
    "duration": 0,
    "start_time": "2022-03-30T21:32:13.875Z"
   },
   {
    "duration": 0,
    "start_time": "2022-03-30T21:32:13.877Z"
   },
   {
    "duration": 4,
    "start_time": "2022-03-30T21:33:16.001Z"
   },
   {
    "duration": 157,
    "start_time": "2022-03-30T21:33:16.312Z"
   },
   {
    "duration": 5,
    "start_time": "2022-03-30T21:33:16.550Z"
   },
   {
    "duration": 8264,
    "start_time": "2022-03-30T21:33:16.758Z"
   },
   {
    "duration": 4,
    "start_time": "2022-03-30T21:33:25.025Z"
   },
   {
    "duration": 74306,
    "start_time": "2022-03-30T21:33:25.031Z"
   },
   {
    "duration": 3019,
    "start_time": "2022-03-30T21:34:39.340Z"
   },
   {
    "duration": 10,
    "start_time": "2022-03-30T21:34:42.362Z"
   },
   {
    "duration": 20,
    "start_time": "2022-03-30T21:34:42.374Z"
   },
   {
    "duration": 128680,
    "start_time": "2022-03-30T21:34:42.396Z"
   },
   {
    "duration": 1793,
    "start_time": "2022-03-30T21:36:51.079Z"
   },
   {
    "duration": 97,
    "start_time": "2022-03-30T21:36:52.875Z"
   },
   {
    "duration": 5,
    "start_time": "2022-03-30T21:36:52.976Z"
   },
   {
    "duration": 15,
    "start_time": "2022-03-30T21:36:52.983Z"
   },
   {
    "duration": 1792,
    "start_time": "2022-03-31T18:12:02.235Z"
   },
   {
    "duration": 89,
    "start_time": "2022-03-31T18:12:04.030Z"
   },
   {
    "duration": 11,
    "start_time": "2022-03-31T18:12:04.121Z"
   },
   {
    "duration": 23,
    "start_time": "2022-03-31T18:12:04.134Z"
   },
   {
    "duration": 43,
    "start_time": "2022-03-31T18:12:04.159Z"
   },
   {
    "duration": 12,
    "start_time": "2022-03-31T18:12:04.204Z"
   },
   {
    "duration": 30,
    "start_time": "2022-03-31T18:12:04.218Z"
   },
   {
    "duration": 15,
    "start_time": "2022-03-31T18:12:04.249Z"
   },
   {
    "duration": 24,
    "start_time": "2022-03-31T18:12:04.266Z"
   },
   {
    "duration": 246,
    "start_time": "2022-03-31T18:12:04.293Z"
   },
   {
    "duration": 323,
    "start_time": "2022-03-31T18:12:04.541Z"
   },
   {
    "duration": 0,
    "start_time": "2022-03-31T18:12:04.866Z"
   },
   {
    "duration": 0,
    "start_time": "2022-03-31T18:12:04.868Z"
   },
   {
    "duration": 0,
    "start_time": "2022-03-31T18:12:04.869Z"
   },
   {
    "duration": 0,
    "start_time": "2022-03-31T18:12:04.870Z"
   },
   {
    "duration": 0,
    "start_time": "2022-03-31T18:12:04.871Z"
   },
   {
    "duration": 0,
    "start_time": "2022-03-31T18:12:04.872Z"
   },
   {
    "duration": 0,
    "start_time": "2022-03-31T18:12:04.873Z"
   },
   {
    "duration": 0,
    "start_time": "2022-03-31T18:12:04.874Z"
   },
   {
    "duration": 0,
    "start_time": "2022-03-31T18:12:04.875Z"
   },
   {
    "duration": 0,
    "start_time": "2022-03-31T18:12:04.876Z"
   },
   {
    "duration": 0,
    "start_time": "2022-03-31T18:12:04.877Z"
   },
   {
    "duration": 0,
    "start_time": "2022-03-31T18:12:04.877Z"
   },
   {
    "duration": 0,
    "start_time": "2022-03-31T18:12:04.878Z"
   },
   {
    "duration": 0,
    "start_time": "2022-03-31T18:12:04.879Z"
   },
   {
    "duration": 0,
    "start_time": "2022-03-31T18:12:04.880Z"
   },
   {
    "duration": 0,
    "start_time": "2022-03-31T18:12:04.881Z"
   },
   {
    "duration": 0,
    "start_time": "2022-03-31T18:12:04.882Z"
   },
   {
    "duration": 12,
    "start_time": "2022-03-31T18:12:46.067Z"
   },
   {
    "duration": 132,
    "start_time": "2022-03-31T18:13:07.185Z"
   },
   {
    "duration": 10,
    "start_time": "2022-03-31T18:15:43.946Z"
   },
   {
    "duration": 9,
    "start_time": "2022-03-31T18:15:51.880Z"
   },
   {
    "duration": 10,
    "start_time": "2022-03-31T18:15:58.370Z"
   },
   {
    "duration": 1199,
    "start_time": "2022-03-31T18:16:08.783Z"
   },
   {
    "duration": 1199,
    "start_time": "2022-03-31T18:17:07.903Z"
   },
   {
    "duration": 802,
    "start_time": "2022-03-31T18:17:50.816Z"
   },
   {
    "duration": 610,
    "start_time": "2022-03-31T18:18:04.556Z"
   },
   {
    "duration": 653,
    "start_time": "2022-03-31T18:18:09.560Z"
   },
   {
    "duration": 661,
    "start_time": "2022-03-31T18:18:25.589Z"
   },
   {
    "duration": 254,
    "start_time": "2022-03-31T18:18:53.563Z"
   },
   {
    "duration": 249,
    "start_time": "2022-03-31T18:19:04.991Z"
   },
   {
    "duration": 370,
    "start_time": "2022-03-31T18:19:20.408Z"
   },
   {
    "duration": 237,
    "start_time": "2022-03-31T18:19:25.526Z"
   },
   {
    "duration": 172,
    "start_time": "2022-03-31T18:19:28.709Z"
   },
   {
    "duration": 729,
    "start_time": "2022-03-31T18:19:51.297Z"
   },
   {
    "duration": 113,
    "start_time": "2022-03-31T18:33:39.933Z"
   },
   {
    "duration": 12,
    "start_time": "2022-03-31T18:36:17.893Z"
   },
   {
    "duration": 7,
    "start_time": "2022-03-31T18:36:32.661Z"
   },
   {
    "duration": 652,
    "start_time": "2022-03-31T18:36:35.760Z"
   },
   {
    "duration": 230,
    "start_time": "2022-03-31T18:37:04.306Z"
   },
   {
    "duration": 289,
    "start_time": "2022-03-31T18:37:41.019Z"
   },
   {
    "duration": 292,
    "start_time": "2022-03-31T18:38:12.393Z"
   },
   {
    "duration": 469,
    "start_time": "2022-03-31T18:38:23.333Z"
   },
   {
    "duration": 331,
    "start_time": "2022-03-31T18:40:42.925Z"
   },
   {
    "duration": 337,
    "start_time": "2022-03-31T18:44:24.174Z"
   },
   {
    "duration": 121,
    "start_time": "2022-03-31T18:46:33.989Z"
   },
   {
    "duration": 35,
    "start_time": "2022-03-31T18:46:54.698Z"
   },
   {
    "duration": 2,
    "start_time": "2022-03-31T18:46:55.121Z"
   },
   {
    "duration": 3,
    "start_time": "2022-03-31T18:46:55.337Z"
   },
   {
    "duration": 240,
    "start_time": "2022-03-31T18:46:55.701Z"
   },
   {
    "duration": 11,
    "start_time": "2022-03-31T18:46:56.125Z"
   },
   {
    "duration": 85,
    "start_time": "2022-03-31T18:47:21.860Z"
   },
   {
    "duration": 4,
    "start_time": "2022-03-31T18:47:24.320Z"
   },
   {
    "duration": 5857,
    "start_time": "2022-03-31T18:47:26.543Z"
   },
   {
    "duration": 4,
    "start_time": "2022-03-31T18:47:32.402Z"
   },
   {
    "duration": 116,
    "start_time": "2022-03-31T19:01:32.705Z"
   },
   {
    "duration": 11,
    "start_time": "2022-03-31T19:02:00.637Z"
   },
   {
    "duration": 4,
    "start_time": "2022-03-31T19:02:23.820Z"
   },
   {
    "duration": 25,
    "start_time": "2022-03-31T19:02:30.354Z"
   },
   {
    "duration": 5,
    "start_time": "2022-03-31T19:04:50.839Z"
   },
   {
    "duration": 24,
    "start_time": "2022-03-31T19:05:04.888Z"
   },
   {
    "duration": 22851,
    "start_time": "2022-03-31T19:05:51.814Z"
   },
   {
    "duration": 10,
    "start_time": "2022-03-31T19:08:07.195Z"
   },
   {
    "duration": 23,
    "start_time": "2022-03-31T19:08:46.542Z"
   },
   {
    "duration": 19,
    "start_time": "2022-03-31T19:11:36.103Z"
   },
   {
    "duration": 20,
    "start_time": "2022-03-31T19:18:05.686Z"
   },
   {
    "duration": 53757,
    "start_time": "2022-03-31T19:18:31.770Z"
   },
   {
    "duration": 12,
    "start_time": "2022-03-31T19:19:25.529Z"
   },
   {
    "duration": 5,
    "start_time": "2022-03-31T19:20:57.111Z"
   },
   {
    "duration": 11,
    "start_time": "2022-03-31T19:21:35.320Z"
   },
   {
    "duration": 11,
    "start_time": "2022-03-31T19:21:49.225Z"
   },
   {
    "duration": 10,
    "start_time": "2022-03-31T19:21:55.833Z"
   },
   {
    "duration": 107,
    "start_time": "2022-03-31T19:23:35.025Z"
   },
   {
    "duration": 116,
    "start_time": "2022-03-31T19:27:02.498Z"
   },
   {
    "duration": 8592,
    "start_time": "2022-03-31T19:27:16.901Z"
   },
   {
    "duration": 7,
    "start_time": "2022-03-31T19:30:44.043Z"
   },
   {
    "duration": 10,
    "start_time": "2022-03-31T19:31:14.645Z"
   },
   {
    "duration": 20,
    "start_time": "2022-03-31T19:31:43.144Z"
   },
   {
    "duration": 21,
    "start_time": "2022-03-31T19:33:32.043Z"
   },
   {
    "duration": 12,
    "start_time": "2022-03-31T19:38:37.058Z"
   },
   {
    "duration": 20,
    "start_time": "2022-03-31T19:39:01.738Z"
   },
   {
    "duration": 11,
    "start_time": "2022-03-31T19:39:39.174Z"
   },
   {
    "duration": 114,
    "start_time": "2022-03-31T19:40:33.847Z"
   },
   {
    "duration": 3,
    "start_time": "2022-03-31T19:40:36.335Z"
   },
   {
    "duration": 9,
    "start_time": "2022-03-31T19:40:41.534Z"
   },
   {
    "duration": 22,
    "start_time": "2022-03-31T19:43:49.152Z"
   },
   {
    "duration": 270951,
    "start_time": "2022-03-31T19:44:19.462Z"
   },
   {
    "duration": 117,
    "start_time": "2022-03-31T19:49:50.738Z"
   },
   {
    "duration": 69,
    "start_time": "2022-03-31T19:50:23.134Z"
   },
   {
    "duration": 8578,
    "start_time": "2022-03-31T19:50:40.891Z"
   },
   {
    "duration": 16494,
    "start_time": "2022-03-31T19:51:55.977Z"
   },
   {
    "duration": 2,
    "start_time": "2022-03-31T19:52:20.069Z"
   },
   {
    "duration": 265245,
    "start_time": "2022-03-31T19:53:04.680Z"
   },
   {
    "duration": 2626,
    "start_time": "2022-03-31T20:01:19.780Z"
   },
   {
    "duration": 44736,
    "start_time": "2022-03-31T20:01:39.933Z"
   },
   {
    "duration": 264,
    "start_time": "2022-03-31T20:05:09.557Z"
   },
   {
    "duration": 44968,
    "start_time": "2022-03-31T20:05:39.329Z"
   },
   {
    "duration": 124,
    "start_time": "2022-03-31T20:10:57.990Z"
   },
   {
    "duration": 11925,
    "start_time": "2022-03-31T20:11:18.740Z"
   },
   {
    "duration": 11887,
    "start_time": "2022-03-31T20:11:45.135Z"
   },
   {
    "duration": 46446,
    "start_time": "2022-03-31T20:12:21.206Z"
   },
   {
    "duration": 1934,
    "start_time": "2022-03-31T20:13:19.759Z"
   },
   {
    "duration": 643531,
    "start_time": "2022-03-31T20:13:51.077Z"
   },
   {
    "duration": 7647,
    "start_time": "2022-03-31T20:39:27.512Z"
   },
   {
    "duration": 557743,
    "start_time": "2022-03-31T20:39:38.227Z"
   },
   {
    "duration": 13100,
    "start_time": "2022-03-31T21:04:09.251Z"
   },
   {
    "duration": 128,
    "start_time": "2022-03-31T21:04:25.529Z"
   },
   {
    "duration": 3,
    "start_time": "2022-03-31T21:04:25.866Z"
   },
   {
    "duration": 13,
    "start_time": "2022-03-31T21:04:31.216Z"
   },
   {
    "duration": 964085,
    "start_time": "2022-03-31T21:05:26.551Z"
   },
   {
    "duration": 13526,
    "start_time": "2022-03-31T21:21:30.638Z"
   },
   {
    "duration": 21808,
    "start_time": "2022-03-31T21:27:54.043Z"
   },
   {
    "duration": 295022,
    "start_time": "2022-03-31T21:28:28.659Z"
   },
   {
    "duration": 23916,
    "start_time": "2022-03-31T21:42:07.409Z"
   },
   {
    "duration": 485784,
    "start_time": "2022-03-31T21:42:54.051Z"
   },
   {
    "duration": 23209,
    "start_time": "2022-03-31T21:56:50.083Z"
   },
   {
    "duration": 23306,
    "start_time": "2022-03-31T22:21:43.728Z"
   },
   {
    "duration": 3,
    "start_time": "2022-03-31T22:22:07.038Z"
   },
   {
    "duration": 17,
    "start_time": "2022-03-31T22:22:07.042Z"
   },
   {
    "duration": 1621,
    "start_time": "2022-04-02T11:03:26.465Z"
   },
   {
    "duration": 3,
    "start_time": "2022-04-02T11:03:28.088Z"
   },
   {
    "duration": 40,
    "start_time": "2022-04-02T11:03:28.093Z"
   },
   {
    "duration": 11,
    "start_time": "2022-04-02T11:03:28.135Z"
   },
   {
    "duration": 7,
    "start_time": "2022-04-02T11:03:28.147Z"
   },
   {
    "duration": 13,
    "start_time": "2022-04-02T11:03:28.156Z"
   },
   {
    "duration": 3,
    "start_time": "2022-04-02T11:03:28.170Z"
   },
   {
    "duration": 13,
    "start_time": "2022-04-02T11:03:28.174Z"
   },
   {
    "duration": 6,
    "start_time": "2022-04-02T11:03:28.189Z"
   },
   {
    "duration": 10,
    "start_time": "2022-04-02T11:03:28.198Z"
   },
   {
    "duration": 396,
    "start_time": "2022-04-02T11:03:28.210Z"
   },
   {
    "duration": 6,
    "start_time": "2022-04-02T11:03:28.608Z"
   },
   {
    "duration": 748,
    "start_time": "2022-04-02T11:03:28.616Z"
   },
   {
    "duration": 348,
    "start_time": "2022-04-02T11:03:29.366Z"
   },
   {
    "duration": 46,
    "start_time": "2022-04-02T11:03:29.716Z"
   },
   {
    "duration": 4,
    "start_time": "2022-04-02T11:03:29.764Z"
   },
   {
    "duration": 5,
    "start_time": "2022-04-02T11:03:29.770Z"
   },
   {
    "duration": 5,
    "start_time": "2022-04-02T11:03:29.777Z"
   },
   {
    "duration": 121,
    "start_time": "2022-04-02T11:03:29.783Z"
   },
   {
    "duration": 3,
    "start_time": "2022-04-02T11:03:29.906Z"
   },
   {
    "duration": 135,
    "start_time": "2022-04-02T11:03:29.911Z"
   },
   {
    "duration": 92,
    "start_time": "2022-04-02T11:03:30.048Z"
   },
   {
    "duration": 225364,
    "start_time": "2022-04-02T11:03:30.142Z"
   },
   {
    "duration": 25579,
    "start_time": "2022-04-02T11:07:39.377Z"
   },
   {
    "duration": 3,
    "start_time": "2022-04-02T11:08:04.958Z"
   },
   {
    "duration": 17,
    "start_time": "2022-04-02T11:08:04.962Z"
   },
   {
    "duration": 127,
    "start_time": "2022-04-02T11:10:25.717Z"
   },
   {
    "duration": 160,
    "start_time": "2022-04-02T11:10:30.605Z"
   },
   {
    "duration": 49774,
    "start_time": "2022-04-02T11:10:47.474Z"
   },
   {
    "duration": 4072,
    "start_time": "2022-04-02T11:12:26.471Z"
   },
   {
    "duration": 14567,
    "start_time": "2022-04-02T11:13:12.979Z"
   },
   {
    "duration": 24202,
    "start_time": "2022-04-02T11:14:05.441Z"
   },
   {
    "duration": 24432,
    "start_time": "2022-04-02T11:15:03.708Z"
   },
   {
    "duration": 20284,
    "start_time": "2022-04-02T11:16:04.955Z"
   },
   {
    "duration": 25141,
    "start_time": "2022-04-02T11:17:02.906Z"
   },
   {
    "duration": 10424,
    "start_time": "2022-04-02T11:18:50.920Z"
   },
   {
    "duration": 21649,
    "start_time": "2022-04-02T11:19:20.390Z"
   },
   {
    "duration": 1839,
    "start_time": "2022-04-02T11:20:29.704Z"
   },
   {
    "duration": 130,
    "start_time": "2022-04-02T11:22:52.333Z"
   },
   {
    "duration": 14702,
    "start_time": "2022-04-02T11:23:02.734Z"
   },
   {
    "duration": 42907,
    "start_time": "2022-04-02T11:24:19.293Z"
   },
   {
    "duration": 2416,
    "start_time": "2022-04-02T11:26:51.614Z"
   },
   {
    "duration": 40045,
    "start_time": "2022-04-02T11:27:07.351Z"
   },
   {
    "duration": 46498,
    "start_time": "2022-04-02T11:28:57.499Z"
   },
   {
    "duration": 49779,
    "start_time": "2022-04-02T11:32:08.702Z"
   },
   {
    "duration": 48438,
    "start_time": "2022-04-02T11:33:43.044Z"
   },
   {
    "duration": 3000,
    "start_time": "2022-04-02T11:34:31.484Z"
   },
   {
    "duration": 2581,
    "start_time": "2022-04-02T11:35:11.074Z"
   },
   {
    "duration": 2073,
    "start_time": "2022-04-02T11:35:31.442Z"
   },
   {
    "duration": 2710,
    "start_time": "2022-04-02T11:35:40.628Z"
   },
   {
    "duration": 3024,
    "start_time": "2022-04-02T11:36:04.180Z"
   },
   {
    "duration": 3243,
    "start_time": "2022-04-02T11:36:45.339Z"
   },
   {
    "duration": 1963,
    "start_time": "2022-04-02T11:39:15.381Z"
   },
   {
    "duration": 5,
    "start_time": "2022-04-02T11:39:17.346Z"
   },
   {
    "duration": 3076,
    "start_time": "2022-04-02T11:39:20.799Z"
   },
   {
    "duration": 3,
    "start_time": "2022-04-02T11:39:23.877Z"
   },
   {
    "duration": 10,
    "start_time": "2022-04-02T11:39:25.307Z"
   },
   {
    "duration": 5,
    "start_time": "2022-04-02T11:41:27.786Z"
   },
   {
    "duration": 6,
    "start_time": "2022-04-02T11:41:27.793Z"
   },
   {
    "duration": 37,
    "start_time": "2022-04-02T11:41:27.801Z"
   },
   {
    "duration": 6,
    "start_time": "2022-04-02T11:41:27.840Z"
   },
   {
    "duration": 9,
    "start_time": "2022-04-02T11:41:27.848Z"
   },
   {
    "duration": 10,
    "start_time": "2022-04-02T11:41:27.858Z"
   },
   {
    "duration": 3,
    "start_time": "2022-04-02T11:41:27.870Z"
   },
   {
    "duration": 9,
    "start_time": "2022-04-02T11:41:27.874Z"
   },
   {
    "duration": 6,
    "start_time": "2022-04-02T11:41:27.885Z"
   },
   {
    "duration": 10,
    "start_time": "2022-04-02T11:41:27.893Z"
   },
   {
    "duration": 352,
    "start_time": "2022-04-02T11:41:27.905Z"
   },
   {
    "duration": 7,
    "start_time": "2022-04-02T11:41:28.258Z"
   },
   {
    "duration": 682,
    "start_time": "2022-04-02T11:41:28.267Z"
   },
   {
    "duration": 447,
    "start_time": "2022-04-02T11:41:28.952Z"
   },
   {
    "duration": 42,
    "start_time": "2022-04-02T11:41:29.401Z"
   },
   {
    "duration": 4,
    "start_time": "2022-04-02T11:41:29.444Z"
   },
   {
    "duration": 6,
    "start_time": "2022-04-02T11:41:29.449Z"
   },
   {
    "duration": 6,
    "start_time": "2022-04-02T11:41:29.456Z"
   },
   {
    "duration": 121,
    "start_time": "2022-04-02T11:41:29.463Z"
   },
   {
    "duration": 3,
    "start_time": "2022-04-02T11:41:29.585Z"
   },
   {
    "duration": 151,
    "start_time": "2022-04-02T11:41:29.590Z"
   },
   {
    "duration": 94,
    "start_time": "2022-04-02T11:41:29.743Z"
   },
   {
    "duration": 284726,
    "start_time": "2022-04-02T11:41:29.839Z"
   },
   {
    "duration": 23303,
    "start_time": "2022-04-02T11:46:14.566Z"
   },
   {
    "duration": 3,
    "start_time": "2022-04-02T11:46:37.871Z"
   },
   {
    "duration": 20070,
    "start_time": "2022-04-02T11:46:37.875Z"
   },
   {
    "duration": 4301,
    "start_time": "2022-04-02T11:46:57.947Z"
   },
   {
    "duration": 2,
    "start_time": "2022-04-02T11:47:02.250Z"
   },
   {
    "duration": 33842,
    "start_time": "2022-04-02T11:47:02.254Z"
   },
   {
    "duration": 3080,
    "start_time": "2022-04-02T11:47:36.098Z"
   },
   {
    "duration": 3,
    "start_time": "2022-04-02T11:47:39.180Z"
   },
   {
    "duration": 13,
    "start_time": "2022-04-02T11:47:39.185Z"
   },
   {
    "duration": 363395,
    "start_time": "2022-04-02T11:55:15.301Z"
   },
   {
    "duration": 1483,
    "start_time": "2022-04-02T12:01:33.736Z"
   },
   {
    "duration": 4,
    "start_time": "2022-04-02T12:01:35.221Z"
   },
   {
    "duration": 33,
    "start_time": "2022-04-02T12:01:35.227Z"
   },
   {
    "duration": 10,
    "start_time": "2022-04-02T12:01:35.262Z"
   },
   {
    "duration": 7,
    "start_time": "2022-04-02T12:01:35.273Z"
   },
   {
    "duration": 12,
    "start_time": "2022-04-02T12:01:35.281Z"
   },
   {
    "duration": 3,
    "start_time": "2022-04-02T12:01:35.294Z"
   },
   {
    "duration": 18,
    "start_time": "2022-04-02T12:01:35.298Z"
   },
   {
    "duration": 21,
    "start_time": "2022-04-02T12:01:35.318Z"
   },
   {
    "duration": 11,
    "start_time": "2022-04-02T12:01:35.341Z"
   },
   {
    "duration": 357,
    "start_time": "2022-04-02T12:01:35.353Z"
   },
   {
    "duration": 7,
    "start_time": "2022-04-02T12:01:35.712Z"
   },
   {
    "duration": 699,
    "start_time": "2022-04-02T12:01:35.720Z"
   },
   {
    "duration": 350,
    "start_time": "2022-04-02T12:01:36.420Z"
   },
   {
    "duration": 33,
    "start_time": "2022-04-02T12:01:36.772Z"
   },
   {
    "duration": 4,
    "start_time": "2022-04-02T12:01:36.807Z"
   },
   {
    "duration": 12,
    "start_time": "2022-04-02T12:01:36.812Z"
   },
   {
    "duration": 16,
    "start_time": "2022-04-02T12:01:36.825Z"
   },
   {
    "duration": 112,
    "start_time": "2022-04-02T12:01:36.843Z"
   },
   {
    "duration": 2,
    "start_time": "2022-04-02T12:01:36.957Z"
   },
   {
    "duration": 177,
    "start_time": "2022-04-02T12:01:36.961Z"
   },
   {
    "duration": 3,
    "start_time": "2022-04-02T12:01:37.140Z"
   },
   {
    "duration": 23381,
    "start_time": "2022-04-02T12:01:37.145Z"
   },
   {
    "duration": 3,
    "start_time": "2022-04-02T12:02:00.528Z"
   },
   {
    "duration": 20111,
    "start_time": "2022-04-02T12:02:00.537Z"
   },
   {
    "duration": 1907,
    "start_time": "2022-04-02T12:02:20.650Z"
   },
   {
    "duration": 3,
    "start_time": "2022-04-02T12:02:22.638Z"
   },
   {
    "duration": 32811,
    "start_time": "2022-04-02T12:02:22.644Z"
   },
   {
    "duration": 3015,
    "start_time": "2022-04-02T12:02:55.457Z"
   },
   {
    "duration": 3,
    "start_time": "2022-04-02T12:02:58.474Z"
   },
   {
    "duration": 19,
    "start_time": "2022-04-02T12:02:58.478Z"
   },
   {
    "duration": 1532,
    "start_time": "2022-04-02T12:32:29.546Z"
   },
   {
    "duration": 2,
    "start_time": "2022-04-02T12:32:31.536Z"
   },
   {
    "duration": 36,
    "start_time": "2022-04-02T12:32:32.341Z"
   },
   {
    "duration": 11,
    "start_time": "2022-04-02T12:32:32.992Z"
   },
   {
    "duration": 6,
    "start_time": "2022-04-02T12:32:34.934Z"
   },
   {
    "duration": 12,
    "start_time": "2022-04-02T12:32:35.188Z"
   },
   {
    "duration": 3,
    "start_time": "2022-04-02T12:32:35.398Z"
   },
   {
    "duration": 9,
    "start_time": "2022-04-02T12:32:35.552Z"
   },
   {
    "duration": 7,
    "start_time": "2022-04-02T12:32:35.680Z"
   },
   {
    "duration": 10,
    "start_time": "2022-04-02T12:32:35.787Z"
   },
   {
    "duration": 351,
    "start_time": "2022-04-02T12:32:36.083Z"
   },
   {
    "duration": 7,
    "start_time": "2022-04-02T12:32:36.436Z"
   },
   {
    "duration": 739,
    "start_time": "2022-04-02T12:32:36.491Z"
   },
   {
    "duration": 349,
    "start_time": "2022-04-02T12:32:37.232Z"
   },
   {
    "duration": 33,
    "start_time": "2022-04-02T12:32:37.583Z"
   },
   {
    "duration": 22,
    "start_time": "2022-04-02T12:32:37.618Z"
   },
   {
    "duration": 3,
    "start_time": "2022-04-02T12:32:39.879Z"
   },
   {
    "duration": 3,
    "start_time": "2022-04-02T12:32:40.030Z"
   },
   {
    "duration": 106,
    "start_time": "2022-04-02T12:32:40.197Z"
   },
   {
    "duration": 3,
    "start_time": "2022-04-02T12:32:40.411Z"
   },
   {
    "duration": 148,
    "start_time": "2022-04-02T12:32:40.789Z"
   },
   {
    "duration": 4,
    "start_time": "2022-04-02T12:32:41.192Z"
   },
   {
    "duration": 15591,
    "start_time": "2022-04-02T12:32:45.052Z"
   },
   {
    "duration": 3,
    "start_time": "2022-04-02T12:33:00.646Z"
   },
   {
    "duration": 23346,
    "start_time": "2022-04-02T12:33:04.193Z"
   },
   {
    "duration": 60021,
    "start_time": "2022-04-02T12:33:50.428Z"
   },
   {
    "duration": 4,
    "start_time": "2022-04-02T12:35:52.003Z"
   },
   {
    "duration": 6,
    "start_time": "2022-04-02T12:35:52.009Z"
   },
   {
    "duration": 36,
    "start_time": "2022-04-02T12:35:52.016Z"
   },
   {
    "duration": 7,
    "start_time": "2022-04-02T12:35:52.054Z"
   },
   {
    "duration": 9,
    "start_time": "2022-04-02T12:35:52.064Z"
   },
   {
    "duration": 18,
    "start_time": "2022-04-02T12:35:52.075Z"
   },
   {
    "duration": 3,
    "start_time": "2022-04-02T12:35:52.094Z"
   },
   {
    "duration": 14,
    "start_time": "2022-04-02T12:35:52.098Z"
   },
   {
    "duration": 25,
    "start_time": "2022-04-02T12:35:52.114Z"
   },
   {
    "duration": 14,
    "start_time": "2022-04-02T12:35:52.140Z"
   },
   {
    "duration": 332,
    "start_time": "2022-04-02T12:35:52.155Z"
   },
   {
    "duration": 6,
    "start_time": "2022-04-02T12:35:52.489Z"
   },
   {
    "duration": 727,
    "start_time": "2022-04-02T12:35:52.496Z"
   },
   {
    "duration": 339,
    "start_time": "2022-04-02T12:35:53.226Z"
   },
   {
    "duration": 33,
    "start_time": "2022-04-02T12:35:53.566Z"
   },
   {
    "duration": 3,
    "start_time": "2022-04-02T12:35:53.601Z"
   },
   {
    "duration": 6,
    "start_time": "2022-04-02T12:35:53.605Z"
   },
   {
    "duration": 6,
    "start_time": "2022-04-02T12:35:53.613Z"
   },
   {
    "duration": 115,
    "start_time": "2022-04-02T12:35:53.638Z"
   },
   {
    "duration": 3,
    "start_time": "2022-04-02T12:35:53.755Z"
   },
   {
    "duration": 83,
    "start_time": "2022-04-02T12:35:53.759Z"
   },
   {
    "duration": 97,
    "start_time": "2022-04-02T12:35:53.844Z"
   },
   {
    "duration": 23388,
    "start_time": "2022-04-02T12:35:53.943Z"
   },
   {
    "duration": 6,
    "start_time": "2022-04-02T12:36:17.333Z"
   },
   {
    "duration": 21898,
    "start_time": "2022-04-02T12:36:17.342Z"
   },
   {
    "duration": 1999,
    "start_time": "2022-04-02T12:36:39.242Z"
   },
   {
    "duration": 3,
    "start_time": "2022-04-02T12:36:41.243Z"
   },
   {
    "duration": 33607,
    "start_time": "2022-04-02T12:36:41.248Z"
   },
   {
    "duration": 3214,
    "start_time": "2022-04-02T12:37:14.857Z"
   },
   {
    "duration": 3,
    "start_time": "2022-04-02T12:37:18.073Z"
   },
   {
    "duration": 14,
    "start_time": "2022-04-02T12:37:18.078Z"
   },
   {
    "duration": 35039,
    "start_time": "2022-04-02T12:39:13.105Z"
   },
   {
    "duration": 2926,
    "start_time": "2022-04-02T12:39:48.146Z"
   },
   {
    "duration": 3,
    "start_time": "2022-04-02T12:39:51.074Z"
   },
   {
    "duration": 17,
    "start_time": "2022-04-02T12:39:51.079Z"
   },
   {
    "duration": 33915,
    "start_time": "2022-04-02T12:39:58.824Z"
   },
   {
    "duration": 3092,
    "start_time": "2022-04-02T12:41:57.694Z"
   },
   {
    "duration": 32060,
    "start_time": "2022-04-02T12:42:53.649Z"
   },
   {
    "duration": 2970,
    "start_time": "2022-04-02T12:43:37.702Z"
   },
   {
    "duration": 3355,
    "start_time": "2022-04-02T12:43:46.101Z"
   },
   {
    "duration": 2948,
    "start_time": "2022-04-02T12:43:57.305Z"
   },
   {
    "duration": 3714,
    "start_time": "2022-04-02T12:44:18.112Z"
   },
   {
    "duration": 35341,
    "start_time": "2022-04-02T12:44:37.314Z"
   },
   {
    "duration": 3207,
    "start_time": "2022-04-02T12:45:23.598Z"
   },
   {
    "duration": 3,
    "start_time": "2022-04-02T12:45:26.807Z"
   },
   {
    "duration": 16,
    "start_time": "2022-04-02T12:45:26.811Z"
   },
   {
    "duration": 6,
    "start_time": "2022-04-02T12:45:45.462Z"
   },
   {
    "duration": 10,
    "start_time": "2022-04-02T12:45:45.471Z"
   },
   {
    "duration": 653,
    "start_time": "2022-04-02T12:45:45.483Z"
   },
   {
    "duration": 7,
    "start_time": "2022-04-02T12:45:46.137Z"
   },
   {
    "duration": 8,
    "start_time": "2022-04-02T12:45:46.146Z"
   },
   {
    "duration": 14,
    "start_time": "2022-04-02T12:45:46.156Z"
   },
   {
    "duration": 3,
    "start_time": "2022-04-02T12:45:46.171Z"
   },
   {
    "duration": 9,
    "start_time": "2022-04-02T12:45:46.176Z"
   },
   {
    "duration": 7,
    "start_time": "2022-04-02T12:45:46.187Z"
   },
   {
    "duration": 10,
    "start_time": "2022-04-02T12:45:46.196Z"
   },
   {
    "duration": 330,
    "start_time": "2022-04-02T12:45:46.238Z"
   },
   {
    "duration": 6,
    "start_time": "2022-04-02T12:45:46.570Z"
   },
   {
    "duration": 761,
    "start_time": "2022-04-02T12:45:46.578Z"
   },
   {
    "duration": 363,
    "start_time": "2022-04-02T12:45:47.342Z"
   },
   {
    "duration": 43,
    "start_time": "2022-04-02T12:45:47.708Z"
   },
   {
    "duration": 5,
    "start_time": "2022-04-02T12:45:47.753Z"
   },
   {
    "duration": 5,
    "start_time": "2022-04-02T12:45:47.759Z"
   },
   {
    "duration": 4,
    "start_time": "2022-04-02T12:45:47.766Z"
   },
   {
    "duration": 132,
    "start_time": "2022-04-02T12:45:47.772Z"
   },
   {
    "duration": 4,
    "start_time": "2022-04-02T12:45:47.906Z"
   },
   {
    "duration": 229,
    "start_time": "2022-04-02T12:45:47.911Z"
   },
   {
    "duration": 2,
    "start_time": "2022-04-02T12:45:48.142Z"
   },
   {
    "duration": 23573,
    "start_time": "2022-04-02T12:45:48.146Z"
   },
   {
    "duration": 4,
    "start_time": "2022-04-02T12:46:11.720Z"
   },
   {
    "duration": 164120,
    "start_time": "2022-04-02T12:46:11.726Z"
   },
   {
    "duration": 1893,
    "start_time": "2022-04-02T12:48:55.848Z"
   },
   {
    "duration": 3,
    "start_time": "2022-04-02T12:48:57.742Z"
   },
   {
    "duration": 34001,
    "start_time": "2022-04-02T12:48:57.747Z"
   },
   {
    "duration": 3216,
    "start_time": "2022-04-02T12:49:31.749Z"
   },
   {
    "duration": 4,
    "start_time": "2022-04-02T12:49:34.967Z"
   },
   {
    "duration": 22,
    "start_time": "2022-04-02T12:49:34.972Z"
   }
  ],
  "kernelspec": {
   "display_name": "Python 3 (ipykernel)",
   "language": "python",
   "name": "python3"
  },
  "language_info": {
   "codemirror_mode": {
    "name": "ipython",
    "version": 3
   },
   "file_extension": ".py",
   "mimetype": "text/x-python",
   "name": "python",
   "nbconvert_exporter": "python",
   "pygments_lexer": "ipython3",
   "version": "3.9.5"
  },
  "toc": {
   "base_numbering": 1,
   "nav_menu": {},
   "number_sections": true,
   "sideBar": true,
   "skip_h1_title": true,
   "title_cell": "Содержание",
   "title_sidebar": "Contents",
   "toc_cell": true,
   "toc_position": {
    "height": "calc(100% - 180px)",
    "left": "10px",
    "top": "150px",
    "width": "366.391px"
   },
   "toc_section_display": true,
   "toc_window_display": true
  }
 },
 "nbformat": 4,
 "nbformat_minor": 2
}
