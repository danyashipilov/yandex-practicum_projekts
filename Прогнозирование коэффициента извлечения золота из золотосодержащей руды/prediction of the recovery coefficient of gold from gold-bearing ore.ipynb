{
 "cells": [
  {
   "cell_type": "markdown",
   "metadata": {
    "toc": true
   },
   "source": [
    "<h1>Содержание<span class=\"tocSkip\"></span></h1>\n",
    "<div class=\"toc\"><ul class=\"toc-item\"><li><ul class=\"toc-item\"><li><span><a href=\"#Описание-проекта\" data-toc-modified-id=\"Описание-проекта-0.1\"><span class=\"toc-item-num\">0.1&nbsp;&nbsp;</span>Описание проекта</a></span></li><li><span><a href=\"#Инструкция-по-выполнению-проекта\" data-toc-modified-id=\"Инструкция-по-выполнению-проекта-0.2\"><span class=\"toc-item-num\">0.2&nbsp;&nbsp;</span>Инструкция по выполнению проекта</a></span></li></ul></li><li><span><a href=\"#Подготовка-данных\" data-toc-modified-id=\"Подготовка-данных-1\"><span class=\"toc-item-num\">1&nbsp;&nbsp;</span>Подготовка данных</a></span><ul class=\"toc-item\"><li><span><a href=\"#Загрузка-и-подготовка-дынных\" data-toc-modified-id=\"Загрузка-и-подготовка-дынных-1.1\"><span class=\"toc-item-num\">1.1&nbsp;&nbsp;</span>Загрузка и подготовка дынных</a></span></li><li><span><a href=\"#Проверка-расчета-эффективности-обогащения\" data-toc-modified-id=\"Проверка-расчета-эффективности-обогащения-1.2\"><span class=\"toc-item-num\">1.2&nbsp;&nbsp;</span>Проверка расчета эффективности обогащения</a></span></li><li><span><a href=\"#Анализ-недоступных-признаков\" data-toc-modified-id=\"Анализ-недоступных-признаков-1.3\"><span class=\"toc-item-num\">1.3&nbsp;&nbsp;</span>Анализ недоступных признаков</a></span></li><li><span><a href=\"#Предобработка-данных\" data-toc-modified-id=\"Предобработка-данных-1.4\"><span class=\"toc-item-num\">1.4&nbsp;&nbsp;</span>Предобработка данных</a></span></li></ul></li><li><span><a href=\"#Анализ-данных\" data-toc-modified-id=\"Анализ-данных-2\"><span class=\"toc-item-num\">2&nbsp;&nbsp;</span>Анализ данных</a></span><ul class=\"toc-item\"><li><span><a href=\"#Именения-концентрации-металлов\" data-toc-modified-id=\"Именения-концентрации-металлов-2.1\"><span class=\"toc-item-num\">2.1&nbsp;&nbsp;</span>Именения концентрации металлов</a></span></li><li><span><a href=\"#Сравним-распределения-размеров-гранул\" data-toc-modified-id=\"Сравним-распределения-размеров-гранул-2.2\"><span class=\"toc-item-num\">2.2&nbsp;&nbsp;</span>Сравним распределения размеров гранул</a></span></li><li><span><a href=\"#Исследуем-суммарную-концентрацию-всех-веществ\" data-toc-modified-id=\"Исследуем-суммарную-концентрацию-всех-веществ-2.3\"><span class=\"toc-item-num\">2.3&nbsp;&nbsp;</span>Исследуем суммарную концентрацию всех веществ</a></span></li></ul></li><li><span><a href=\"#Модель\" data-toc-modified-id=\"Модель-3\"><span class=\"toc-item-num\">3&nbsp;&nbsp;</span>Модель</a></span><ul class=\"toc-item\"><li><span><a href=\"#Функция-sMAPE\" data-toc-modified-id=\"Функция-sMAPE-3.1\"><span class=\"toc-item-num\">3.1&nbsp;&nbsp;</span>Функция sMAPE</a></span></li><li><span><a href=\"#Подготовим-выборки\" data-toc-modified-id=\"Подготовим-выборки-3.2\"><span class=\"toc-item-num\">3.2&nbsp;&nbsp;</span>Подготовим выборки</a></span></li><li><span><a href=\"#Обучение-модели\" data-toc-modified-id=\"Обучение-модели-3.3\"><span class=\"toc-item-num\">3.3&nbsp;&nbsp;</span>Обучение модели</a></span></li><li><span><a href=\"#Проверка-на-тестовой-выборке\" data-toc-modified-id=\"Проверка-на-тестовой-выборке-3.4\"><span class=\"toc-item-num\">3.4&nbsp;&nbsp;</span>Проверка на тестовой выборке</a></span></li></ul></li><li><span><a href=\"#Выводы\" data-toc-modified-id=\"Выводы-4\"><span class=\"toc-item-num\">4&nbsp;&nbsp;</span>Выводы</a></span></li><li><span><a href=\"#Чек-лист-готовности-проекта\" data-toc-modified-id=\"Чек-лист-готовности-проекта-5\"><span class=\"toc-item-num\">5&nbsp;&nbsp;</span>Чек-лист готовности проекта</a></span></li></ul></div>"
   ]
  },
  {
   "cell_type": "markdown",
   "metadata": {},
   "source": [
    "# Восстановление золота из руды"
   ]
  },
  {
   "cell_type": "markdown",
   "metadata": {},
   "source": [
    "Подготовьте прототип модели машинного обучения для «Цифры». Компания разрабатывает решения для эффективной работы промышленных предприятий.\n",
    "\n",
    "Модель должна предсказать коэффициент восстановления золота из золотосодержащей руды. Используйте данные с параметрами добычи и очистки. \n",
    "\n",
    "Модель поможет оптимизировать производство, чтобы не запускать предприятие с убыточными характеристиками.\n",
    "\n",
    "Вам нужно:\n",
    "\n",
    "1. Подготовить данные;\n",
    "2. Провести исследовательский анализ данных;\n",
    "3. Построить и обучить модель.\n",
    "\n",
    "Чтобы выполнить проект, обращайтесь к библиотекам *pandas*, *matplotlib* и *sklearn.* Вам поможет их документация."
   ]
  },
  {
   "cell_type": "markdown",
   "metadata": {},
   "source": [
    "### Описание проекта"
   ]
  },
  {
   "cell_type": "markdown",
   "metadata": {},
   "source": [
    "Данные находятся в трёх файлах:\n",
    "\n",
    "- gold_recovery_train_new.csv — обучающая выборка;\n",
    "- gold_recovery_test_new.csv — тестовая выборка;\n",
    "- gold_recovery_full_new.csv — исходные данные.\n",
    "\n",
    "Данные индексируются датой и временем получения информации (признак date). Соседние по времени параметры часто похожи.\n",
    "\n",
    "Некоторые параметры недоступны, потому что замеряются и/или рассчитываются значительно позже. Из-за этого в тестовой выборке отсутствуют некоторые признаки, которые могут быть в обучающей. Также в тестовом наборе нет целевых признаков.\n",
    "\n",
    "Исходный датасет содержит обучающую и тестовую выборки со всеми признаками.\n",
    "\n",
    "В вашем распоряжении сырые данные: их просто выгрузили из хранилища. Прежде чем приступить к построению модели, проверьте по нашей инструкции их на корректность."
   ]
  },
  {
   "cell_type": "markdown",
   "metadata": {},
   "source": [
    "### Инструкция по выполнению проекта"
   ]
  },
  {
   "cell_type": "markdown",
   "metadata": {},
   "source": [
    "1.Подготовьте данные\n",
    "\n",
    "1.1 Откройте файлы и изучите их.\n",
    "\n",
    "Путь к файлам:\n",
    "- /datasets/gold_recovery_train_new.csv. Скачать датасет\n",
    "- /datasets/gold_recovery_test_new.csv. Скачать датасет\n",
    "- /datasets/gold_recovery_full_new.csv. Скачать датасет\n",
    "\n",
    "1.2. Проверьте, что эффективность обогащения рассчитана правильно. Вычислите её на обучающей выборке для признака rougher.output.recovery. Найдите MAE между вашими расчётами и значением признака. Опишите выводы.\n",
    "\n",
    "1.3. Проанализируйте признаки, недоступные в тестовой выборке. Что это за параметры? К какому типу относятся?\n",
    "\n",
    "1.4. Проведите предобработку данных.\n",
    "\n",
    "2.Проанализируйте данные\n",
    "\n",
    "2.1. Посмотрите, как меняется концентрация металлов (Au, Ag, Pb) на различных этапах очистки. Опишите выводы.\n",
    "\n",
    "2.2. Сравните распределения размеров гранул сырья на обучающей и тестовой выборках. Если распределения сильно отличаются друг \n",
    "от друга, оценка модели будет неправильной.\n",
    "\n",
    "2.3. Исследуйте суммарную концентрацию всех веществ на разных стадиях: в сырье, в черновом и финальном концентратах.\n",
    "\n",
    "3.Постройте модель\n",
    "\n",
    "3.1. Напишите функцию для вычисления итоговой sMAPE.\n",
    "\n",
    "3.2. Обучите разные модели и оцените их качество кросс-валидацией. Выберите лучшую модель и проверьте её на тестовой выборке.\n",
    "\n",
    "Опишите выводы."
   ]
  },
  {
   "cell_type": "markdown",
   "metadata": {},
   "source": [
    "## Подготовка данных"
   ]
  },
  {
   "cell_type": "markdown",
   "metadata": {},
   "source": [
    "### Загрузка и подготовка дынных"
   ]
  },
  {
   "cell_type": "code",
   "execution_count": 1,
   "metadata": {},
   "outputs": [],
   "source": [
    "import pandas as pd\n",
    "import numpy as np\n",
    "import matplotlib.pyplot as plt\n",
    "import sys\n",
    "import os\n",
    "import csv\n",
    "import seaborn as sns\n",
    "from sklearn import svm, datasets\n",
    "\n",
    "from sklearn.preprocessing import StandardScaler\n",
    "\n",
    "from sklearn.model_selection import train_test_split\n",
    "from sklearn.model_selection import cross_val_score\n",
    "from sklearn.model_selection import GridSearchCV\n",
    "\n",
    "from sklearn.svm import LinearSVC\n",
    "\n",
    "from sklearn.metrics import accuracy_score\n",
    "from sklearn.metrics import f1_score\n",
    "from sklearn.metrics import precision_score, recall_score\n",
    "from sklearn.metrics import roc_curve \n",
    "from sklearn.metrics import roc_auc_score\n",
    "from sklearn.metrics import mean_squared_error\n",
    "from sklearn.metrics import mean_absolute_error\n",
    "from sklearn.metrics import fbeta_score, make_scorer\n",
    "\n",
    "from sklearn.utils import shuffle\n",
    "\n",
    "from sklearn.linear_model import LinearRegression\n",
    "from sklearn.linear_model import LogisticRegression\n",
    "\n",
    "from sklearn.tree import DecisionTreeRegressor\n",
    "from sklearn.tree import DecisionTreeClassifier \n",
    "\n",
    "from sklearn.ensemble import RandomForestRegressor\n",
    "from sklearn.ensemble import RandomForestClassifier \n",
    "\n",
    "from sklearn.dummy import DummyClassifier\n",
    "from sklearn.dummy import DummyRegressor"
   ]
  },
  {
   "cell_type": "code",
   "execution_count": 2,
   "metadata": {},
   "outputs": [],
   "source": [
    "import warnings\n",
    "warnings.filterwarnings(\"ignore\")"
   ]
  },
  {
   "cell_type": "code",
   "execution_count": 3,
   "metadata": {},
   "outputs": [],
   "source": [
    "# загрузим данные\n",
    "\n",
    "\n",
    "df_train=pd.read_csv(\"/datasets/gold_recovery_train_new.csv\")\n",
    "df_test=pd.read_csv(\"/datasets/gold_recovery_test_new.csv\")\n",
    "df_full=pd.read_csv(\"/datasets/gold_recovery_full_new.csv\")"
   ]
  },
  {
   "cell_type": "code",
   "execution_count": 4,
   "metadata": {},
   "outputs": [
    {
     "data": {
      "text/html": [
       "<div>\n",
       "<style scoped>\n",
       "    .dataframe tbody tr th:only-of-type {\n",
       "        vertical-align: middle;\n",
       "    }\n",
       "\n",
       "    .dataframe tbody tr th {\n",
       "        vertical-align: top;\n",
       "    }\n",
       "\n",
       "    .dataframe thead th {\n",
       "        text-align: right;\n",
       "    }\n",
       "</style>\n",
       "<table border=\"1\" class=\"dataframe\">\n",
       "  <thead>\n",
       "    <tr style=\"text-align: right;\">\n",
       "      <th></th>\n",
       "      <th>date</th>\n",
       "      <th>final.output.concentrate_ag</th>\n",
       "      <th>final.output.concentrate_pb</th>\n",
       "      <th>final.output.concentrate_sol</th>\n",
       "      <th>final.output.concentrate_au</th>\n",
       "      <th>final.output.recovery</th>\n",
       "      <th>final.output.tail_ag</th>\n",
       "      <th>final.output.tail_pb</th>\n",
       "      <th>final.output.tail_sol</th>\n",
       "      <th>final.output.tail_au</th>\n",
       "      <th>...</th>\n",
       "      <th>secondary_cleaner.state.floatbank4_a_air</th>\n",
       "      <th>secondary_cleaner.state.floatbank4_a_level</th>\n",
       "      <th>secondary_cleaner.state.floatbank4_b_air</th>\n",
       "      <th>secondary_cleaner.state.floatbank4_b_level</th>\n",
       "      <th>secondary_cleaner.state.floatbank5_a_air</th>\n",
       "      <th>secondary_cleaner.state.floatbank5_a_level</th>\n",
       "      <th>secondary_cleaner.state.floatbank5_b_air</th>\n",
       "      <th>secondary_cleaner.state.floatbank5_b_level</th>\n",
       "      <th>secondary_cleaner.state.floatbank6_a_air</th>\n",
       "      <th>secondary_cleaner.state.floatbank6_a_level</th>\n",
       "    </tr>\n",
       "  </thead>\n",
       "  <tbody>\n",
       "    <tr>\n",
       "      <td>0</td>\n",
       "      <td>2016-01-15 00:00:00</td>\n",
       "      <td>6.055403</td>\n",
       "      <td>9.889648</td>\n",
       "      <td>5.507324</td>\n",
       "      <td>42.192020</td>\n",
       "      <td>70.541216</td>\n",
       "      <td>10.411962</td>\n",
       "      <td>0.895447</td>\n",
       "      <td>16.904297</td>\n",
       "      <td>2.143149</td>\n",
       "      <td>...</td>\n",
       "      <td>14.016835</td>\n",
       "      <td>-502.488007</td>\n",
       "      <td>12.099931</td>\n",
       "      <td>-504.715942</td>\n",
       "      <td>9.925633</td>\n",
       "      <td>-498.310211</td>\n",
       "      <td>8.079666</td>\n",
       "      <td>-500.470978</td>\n",
       "      <td>14.151341</td>\n",
       "      <td>-605.841980</td>\n",
       "    </tr>\n",
       "    <tr>\n",
       "      <td>1</td>\n",
       "      <td>2016-01-15 01:00:00</td>\n",
       "      <td>6.029369</td>\n",
       "      <td>9.968944</td>\n",
       "      <td>5.257781</td>\n",
       "      <td>42.701629</td>\n",
       "      <td>69.266198</td>\n",
       "      <td>10.462676</td>\n",
       "      <td>0.927452</td>\n",
       "      <td>16.634514</td>\n",
       "      <td>2.224930</td>\n",
       "      <td>...</td>\n",
       "      <td>13.992281</td>\n",
       "      <td>-505.503262</td>\n",
       "      <td>11.950531</td>\n",
       "      <td>-501.331529</td>\n",
       "      <td>10.039245</td>\n",
       "      <td>-500.169983</td>\n",
       "      <td>7.984757</td>\n",
       "      <td>-500.582168</td>\n",
       "      <td>13.998353</td>\n",
       "      <td>-599.787184</td>\n",
       "    </tr>\n",
       "    <tr>\n",
       "      <td>2</td>\n",
       "      <td>2016-01-15 02:00:00</td>\n",
       "      <td>6.055926</td>\n",
       "      <td>10.213995</td>\n",
       "      <td>5.383759</td>\n",
       "      <td>42.657501</td>\n",
       "      <td>68.116445</td>\n",
       "      <td>10.507046</td>\n",
       "      <td>0.953716</td>\n",
       "      <td>16.208849</td>\n",
       "      <td>2.257889</td>\n",
       "      <td>...</td>\n",
       "      <td>14.015015</td>\n",
       "      <td>-502.520901</td>\n",
       "      <td>11.912783</td>\n",
       "      <td>-501.133383</td>\n",
       "      <td>10.070913</td>\n",
       "      <td>-500.129135</td>\n",
       "      <td>8.013877</td>\n",
       "      <td>-500.517572</td>\n",
       "      <td>14.028663</td>\n",
       "      <td>-601.427363</td>\n",
       "    </tr>\n",
       "    <tr>\n",
       "      <td>3</td>\n",
       "      <td>2016-01-15 03:00:00</td>\n",
       "      <td>6.047977</td>\n",
       "      <td>9.977019</td>\n",
       "      <td>4.858634</td>\n",
       "      <td>42.689819</td>\n",
       "      <td>68.347543</td>\n",
       "      <td>10.422762</td>\n",
       "      <td>0.883763</td>\n",
       "      <td>16.532835</td>\n",
       "      <td>2.146849</td>\n",
       "      <td>...</td>\n",
       "      <td>14.036510</td>\n",
       "      <td>-500.857308</td>\n",
       "      <td>11.999550</td>\n",
       "      <td>-501.193686</td>\n",
       "      <td>9.970366</td>\n",
       "      <td>-499.201640</td>\n",
       "      <td>7.977324</td>\n",
       "      <td>-500.255908</td>\n",
       "      <td>14.005551</td>\n",
       "      <td>-599.996129</td>\n",
       "    </tr>\n",
       "    <tr>\n",
       "      <td>4</td>\n",
       "      <td>2016-01-15 04:00:00</td>\n",
       "      <td>6.148599</td>\n",
       "      <td>10.142511</td>\n",
       "      <td>4.939416</td>\n",
       "      <td>42.774141</td>\n",
       "      <td>66.927016</td>\n",
       "      <td>10.360302</td>\n",
       "      <td>0.792826</td>\n",
       "      <td>16.525686</td>\n",
       "      <td>2.055292</td>\n",
       "      <td>...</td>\n",
       "      <td>14.027298</td>\n",
       "      <td>-499.838632</td>\n",
       "      <td>11.953070</td>\n",
       "      <td>-501.053894</td>\n",
       "      <td>9.925709</td>\n",
       "      <td>-501.686727</td>\n",
       "      <td>7.894242</td>\n",
       "      <td>-500.356035</td>\n",
       "      <td>13.996647</td>\n",
       "      <td>-601.496691</td>\n",
       "    </tr>\n",
       "  </tbody>\n",
       "</table>\n",
       "<p>5 rows × 87 columns</p>\n",
       "</div>"
      ],
      "text/plain": [
       "                  date  final.output.concentrate_ag  \\\n",
       "0  2016-01-15 00:00:00                     6.055403   \n",
       "1  2016-01-15 01:00:00                     6.029369   \n",
       "2  2016-01-15 02:00:00                     6.055926   \n",
       "3  2016-01-15 03:00:00                     6.047977   \n",
       "4  2016-01-15 04:00:00                     6.148599   \n",
       "\n",
       "   final.output.concentrate_pb  final.output.concentrate_sol  \\\n",
       "0                     9.889648                      5.507324   \n",
       "1                     9.968944                      5.257781   \n",
       "2                    10.213995                      5.383759   \n",
       "3                     9.977019                      4.858634   \n",
       "4                    10.142511                      4.939416   \n",
       "\n",
       "   final.output.concentrate_au  final.output.recovery  final.output.tail_ag  \\\n",
       "0                    42.192020              70.541216             10.411962   \n",
       "1                    42.701629              69.266198             10.462676   \n",
       "2                    42.657501              68.116445             10.507046   \n",
       "3                    42.689819              68.347543             10.422762   \n",
       "4                    42.774141              66.927016             10.360302   \n",
       "\n",
       "   final.output.tail_pb  final.output.tail_sol  final.output.tail_au  ...  \\\n",
       "0              0.895447              16.904297              2.143149  ...   \n",
       "1              0.927452              16.634514              2.224930  ...   \n",
       "2              0.953716              16.208849              2.257889  ...   \n",
       "3              0.883763              16.532835              2.146849  ...   \n",
       "4              0.792826              16.525686              2.055292  ...   \n",
       "\n",
       "   secondary_cleaner.state.floatbank4_a_air  \\\n",
       "0                                 14.016835   \n",
       "1                                 13.992281   \n",
       "2                                 14.015015   \n",
       "3                                 14.036510   \n",
       "4                                 14.027298   \n",
       "\n",
       "   secondary_cleaner.state.floatbank4_a_level  \\\n",
       "0                                 -502.488007   \n",
       "1                                 -505.503262   \n",
       "2                                 -502.520901   \n",
       "3                                 -500.857308   \n",
       "4                                 -499.838632   \n",
       "\n",
       "   secondary_cleaner.state.floatbank4_b_air  \\\n",
       "0                                 12.099931   \n",
       "1                                 11.950531   \n",
       "2                                 11.912783   \n",
       "3                                 11.999550   \n",
       "4                                 11.953070   \n",
       "\n",
       "   secondary_cleaner.state.floatbank4_b_level  \\\n",
       "0                                 -504.715942   \n",
       "1                                 -501.331529   \n",
       "2                                 -501.133383   \n",
       "3                                 -501.193686   \n",
       "4                                 -501.053894   \n",
       "\n",
       "   secondary_cleaner.state.floatbank5_a_air  \\\n",
       "0                                  9.925633   \n",
       "1                                 10.039245   \n",
       "2                                 10.070913   \n",
       "3                                  9.970366   \n",
       "4                                  9.925709   \n",
       "\n",
       "   secondary_cleaner.state.floatbank5_a_level  \\\n",
       "0                                 -498.310211   \n",
       "1                                 -500.169983   \n",
       "2                                 -500.129135   \n",
       "3                                 -499.201640   \n",
       "4                                 -501.686727   \n",
       "\n",
       "   secondary_cleaner.state.floatbank5_b_air  \\\n",
       "0                                  8.079666   \n",
       "1                                  7.984757   \n",
       "2                                  8.013877   \n",
       "3                                  7.977324   \n",
       "4                                  7.894242   \n",
       "\n",
       "   secondary_cleaner.state.floatbank5_b_level  \\\n",
       "0                                 -500.470978   \n",
       "1                                 -500.582168   \n",
       "2                                 -500.517572   \n",
       "3                                 -500.255908   \n",
       "4                                 -500.356035   \n",
       "\n",
       "   secondary_cleaner.state.floatbank6_a_air  \\\n",
       "0                                 14.151341   \n",
       "1                                 13.998353   \n",
       "2                                 14.028663   \n",
       "3                                 14.005551   \n",
       "4                                 13.996647   \n",
       "\n",
       "   secondary_cleaner.state.floatbank6_a_level  \n",
       "0                                 -605.841980  \n",
       "1                                 -599.787184  \n",
       "2                                 -601.427363  \n",
       "3                                 -599.996129  \n",
       "4                                 -601.496691  \n",
       "\n",
       "[5 rows x 87 columns]"
      ]
     },
     "execution_count": 4,
     "metadata": {},
     "output_type": "execute_result"
    }
   ],
   "source": [
    "df_train.head()"
   ]
  },
  {
   "cell_type": "code",
   "execution_count": 5,
   "metadata": {},
   "outputs": [
    {
     "name": "stdout",
     "output_type": "stream",
     "text": [
      "<class 'pandas.core.frame.DataFrame'>\n",
      "RangeIndex: 14149 entries, 0 to 14148\n",
      "Data columns (total 87 columns):\n",
      "date                                                  14149 non-null object\n",
      "final.output.concentrate_ag                           14148 non-null float64\n",
      "final.output.concentrate_pb                           14148 non-null float64\n",
      "final.output.concentrate_sol                          13938 non-null float64\n",
      "final.output.concentrate_au                           14149 non-null float64\n",
      "final.output.recovery                                 14149 non-null float64\n",
      "final.output.tail_ag                                  14149 non-null float64\n",
      "final.output.tail_pb                                  14049 non-null float64\n",
      "final.output.tail_sol                                 14144 non-null float64\n",
      "final.output.tail_au                                  14149 non-null float64\n",
      "primary_cleaner.input.sulfate                         14129 non-null float64\n",
      "primary_cleaner.input.depressant                      14117 non-null float64\n",
      "primary_cleaner.input.feed_size                       14149 non-null float64\n",
      "primary_cleaner.input.xanthate                        14049 non-null float64\n",
      "primary_cleaner.output.concentrate_ag                 14149 non-null float64\n",
      "primary_cleaner.output.concentrate_pb                 14063 non-null float64\n",
      "primary_cleaner.output.concentrate_sol                13863 non-null float64\n",
      "primary_cleaner.output.concentrate_au                 14149 non-null float64\n",
      "primary_cleaner.output.tail_ag                        14148 non-null float64\n",
      "primary_cleaner.output.tail_pb                        14134 non-null float64\n",
      "primary_cleaner.output.tail_sol                       14103 non-null float64\n",
      "primary_cleaner.output.tail_au                        14149 non-null float64\n",
      "primary_cleaner.state.floatbank8_a_air                14145 non-null float64\n",
      "primary_cleaner.state.floatbank8_a_level              14148 non-null float64\n",
      "primary_cleaner.state.floatbank8_b_air                14145 non-null float64\n",
      "primary_cleaner.state.floatbank8_b_level              14148 non-null float64\n",
      "primary_cleaner.state.floatbank8_c_air                14147 non-null float64\n",
      "primary_cleaner.state.floatbank8_c_level              14148 non-null float64\n",
      "primary_cleaner.state.floatbank8_d_air                14146 non-null float64\n",
      "primary_cleaner.state.floatbank8_d_level              14148 non-null float64\n",
      "rougher.calculation.sulfate_to_au_concentrate         14148 non-null float64\n",
      "rougher.calculation.floatbank10_sulfate_to_au_feed    14148 non-null float64\n",
      "rougher.calculation.floatbank11_sulfate_to_au_feed    14148 non-null float64\n",
      "rougher.calculation.au_pb_ratio                       14149 non-null float64\n",
      "rougher.input.feed_ag                                 14149 non-null float64\n",
      "rougher.input.feed_pb                                 14049 non-null float64\n",
      "rougher.input.feed_rate                               14141 non-null float64\n",
      "rougher.input.feed_size                               14005 non-null float64\n",
      "rougher.input.feed_sol                                14071 non-null float64\n",
      "rougher.input.feed_au                                 14149 non-null float64\n",
      "rougher.input.floatbank10_sulfate                     14120 non-null float64\n",
      "rougher.input.floatbank10_xanthate                    14141 non-null float64\n",
      "rougher.input.floatbank11_sulfate                     14113 non-null float64\n",
      "rougher.input.floatbank11_xanthate                    13721 non-null float64\n",
      "rougher.output.concentrate_ag                         14149 non-null float64\n",
      "rougher.output.concentrate_pb                         14149 non-null float64\n",
      "rougher.output.concentrate_sol                        14127 non-null float64\n",
      "rougher.output.concentrate_au                         14149 non-null float64\n",
      "rougher.output.recovery                               14149 non-null float64\n",
      "rougher.output.tail_ag                                14148 non-null float64\n",
      "rougher.output.tail_pb                                14149 non-null float64\n",
      "rougher.output.tail_sol                               14149 non-null float64\n",
      "rougher.output.tail_au                                14149 non-null float64\n",
      "rougher.state.floatbank10_a_air                       14148 non-null float64\n",
      "rougher.state.floatbank10_a_level                     14148 non-null float64\n",
      "rougher.state.floatbank10_b_air                       14148 non-null float64\n",
      "rougher.state.floatbank10_b_level                     14148 non-null float64\n",
      "rougher.state.floatbank10_c_air                       14148 non-null float64\n",
      "rougher.state.floatbank10_c_level                     14148 non-null float64\n",
      "rougher.state.floatbank10_d_air                       14149 non-null float64\n",
      "rougher.state.floatbank10_d_level                     14149 non-null float64\n",
      "rougher.state.floatbank10_e_air                       13713 non-null float64\n",
      "rougher.state.floatbank10_e_level                     14149 non-null float64\n",
      "rougher.state.floatbank10_f_air                       14149 non-null float64\n",
      "rougher.state.floatbank10_f_level                     14149 non-null float64\n",
      "secondary_cleaner.output.tail_ag                      14147 non-null float64\n",
      "secondary_cleaner.output.tail_pb                      14139 non-null float64\n",
      "secondary_cleaner.output.tail_sol                     12544 non-null float64\n",
      "secondary_cleaner.output.tail_au                      14149 non-null float64\n",
      "secondary_cleaner.state.floatbank2_a_air              13932 non-null float64\n",
      "secondary_cleaner.state.floatbank2_a_level            14148 non-null float64\n",
      "secondary_cleaner.state.floatbank2_b_air              14128 non-null float64\n",
      "secondary_cleaner.state.floatbank2_b_level            14148 non-null float64\n",
      "secondary_cleaner.state.floatbank3_a_air              14145 non-null float64\n",
      "secondary_cleaner.state.floatbank3_a_level            14148 non-null float64\n",
      "secondary_cleaner.state.floatbank3_b_air              14148 non-null float64\n",
      "secondary_cleaner.state.floatbank3_b_level            14148 non-null float64\n",
      "secondary_cleaner.state.floatbank4_a_air              14143 non-null float64\n",
      "secondary_cleaner.state.floatbank4_a_level            14148 non-null float64\n",
      "secondary_cleaner.state.floatbank4_b_air              14148 non-null float64\n",
      "secondary_cleaner.state.floatbank4_b_level            14148 non-null float64\n",
      "secondary_cleaner.state.floatbank5_a_air              14148 non-null float64\n",
      "secondary_cleaner.state.floatbank5_a_level            14148 non-null float64\n",
      "secondary_cleaner.state.floatbank5_b_air              14148 non-null float64\n",
      "secondary_cleaner.state.floatbank5_b_level            14148 non-null float64\n",
      "secondary_cleaner.state.floatbank6_a_air              14147 non-null float64\n",
      "secondary_cleaner.state.floatbank6_a_level            14148 non-null float64\n",
      "dtypes: float64(86), object(1)\n",
      "memory usage: 9.4+ MB\n"
     ]
    }
   ],
   "source": [
    "df_train.info()"
   ]
  },
  {
   "cell_type": "code",
   "execution_count": 6,
   "metadata": {},
   "outputs": [
    {
     "data": {
      "text/html": [
       "<div>\n",
       "<style scoped>\n",
       "    .dataframe tbody tr th:only-of-type {\n",
       "        vertical-align: middle;\n",
       "    }\n",
       "\n",
       "    .dataframe tbody tr th {\n",
       "        vertical-align: top;\n",
       "    }\n",
       "\n",
       "    .dataframe thead th {\n",
       "        text-align: right;\n",
       "    }\n",
       "</style>\n",
       "<table border=\"1\" class=\"dataframe\">\n",
       "  <thead>\n",
       "    <tr style=\"text-align: right;\">\n",
       "      <th></th>\n",
       "      <th>date</th>\n",
       "      <th>primary_cleaner.input.sulfate</th>\n",
       "      <th>primary_cleaner.input.depressant</th>\n",
       "      <th>primary_cleaner.input.feed_size</th>\n",
       "      <th>primary_cleaner.input.xanthate</th>\n",
       "      <th>primary_cleaner.state.floatbank8_a_air</th>\n",
       "      <th>primary_cleaner.state.floatbank8_a_level</th>\n",
       "      <th>primary_cleaner.state.floatbank8_b_air</th>\n",
       "      <th>primary_cleaner.state.floatbank8_b_level</th>\n",
       "      <th>primary_cleaner.state.floatbank8_c_air</th>\n",
       "      <th>...</th>\n",
       "      <th>secondary_cleaner.state.floatbank4_a_air</th>\n",
       "      <th>secondary_cleaner.state.floatbank4_a_level</th>\n",
       "      <th>secondary_cleaner.state.floatbank4_b_air</th>\n",
       "      <th>secondary_cleaner.state.floatbank4_b_level</th>\n",
       "      <th>secondary_cleaner.state.floatbank5_a_air</th>\n",
       "      <th>secondary_cleaner.state.floatbank5_a_level</th>\n",
       "      <th>secondary_cleaner.state.floatbank5_b_air</th>\n",
       "      <th>secondary_cleaner.state.floatbank5_b_level</th>\n",
       "      <th>secondary_cleaner.state.floatbank6_a_air</th>\n",
       "      <th>secondary_cleaner.state.floatbank6_a_level</th>\n",
       "    </tr>\n",
       "  </thead>\n",
       "  <tbody>\n",
       "    <tr>\n",
       "      <td>0</td>\n",
       "      <td>2016-09-01 00:59:59</td>\n",
       "      <td>210.800909</td>\n",
       "      <td>14.993118</td>\n",
       "      <td>8.080000</td>\n",
       "      <td>1.005021</td>\n",
       "      <td>1398.981301</td>\n",
       "      <td>-500.225577</td>\n",
       "      <td>1399.144926</td>\n",
       "      <td>-499.919735</td>\n",
       "      <td>1400.102998</td>\n",
       "      <td>...</td>\n",
       "      <td>12.023554</td>\n",
       "      <td>-497.795834</td>\n",
       "      <td>8.016656</td>\n",
       "      <td>-501.289139</td>\n",
       "      <td>7.946562</td>\n",
       "      <td>-432.317850</td>\n",
       "      <td>4.872511</td>\n",
       "      <td>-500.037437</td>\n",
       "      <td>26.705889</td>\n",
       "      <td>-499.709414</td>\n",
       "    </tr>\n",
       "    <tr>\n",
       "      <td>1</td>\n",
       "      <td>2016-09-01 01:59:59</td>\n",
       "      <td>215.392455</td>\n",
       "      <td>14.987471</td>\n",
       "      <td>8.080000</td>\n",
       "      <td>0.990469</td>\n",
       "      <td>1398.777912</td>\n",
       "      <td>-500.057435</td>\n",
       "      <td>1398.055362</td>\n",
       "      <td>-499.778182</td>\n",
       "      <td>1396.151033</td>\n",
       "      <td>...</td>\n",
       "      <td>12.058140</td>\n",
       "      <td>-498.695773</td>\n",
       "      <td>8.130979</td>\n",
       "      <td>-499.634209</td>\n",
       "      <td>7.958270</td>\n",
       "      <td>-525.839648</td>\n",
       "      <td>4.878850</td>\n",
       "      <td>-500.162375</td>\n",
       "      <td>25.019940</td>\n",
       "      <td>-499.819438</td>\n",
       "    </tr>\n",
       "    <tr>\n",
       "      <td>2</td>\n",
       "      <td>2016-09-01 02:59:59</td>\n",
       "      <td>215.259946</td>\n",
       "      <td>12.884934</td>\n",
       "      <td>7.786667</td>\n",
       "      <td>0.996043</td>\n",
       "      <td>1398.493666</td>\n",
       "      <td>-500.868360</td>\n",
       "      <td>1398.860436</td>\n",
       "      <td>-499.764529</td>\n",
       "      <td>1398.075709</td>\n",
       "      <td>...</td>\n",
       "      <td>11.962366</td>\n",
       "      <td>-498.767484</td>\n",
       "      <td>8.096893</td>\n",
       "      <td>-500.827423</td>\n",
       "      <td>8.071056</td>\n",
       "      <td>-500.801673</td>\n",
       "      <td>4.905125</td>\n",
       "      <td>-499.828510</td>\n",
       "      <td>24.994862</td>\n",
       "      <td>-500.622559</td>\n",
       "    </tr>\n",
       "    <tr>\n",
       "      <td>3</td>\n",
       "      <td>2016-09-01 03:59:59</td>\n",
       "      <td>215.336236</td>\n",
       "      <td>12.006805</td>\n",
       "      <td>7.640000</td>\n",
       "      <td>0.863514</td>\n",
       "      <td>1399.618111</td>\n",
       "      <td>-498.863574</td>\n",
       "      <td>1397.440120</td>\n",
       "      <td>-499.211024</td>\n",
       "      <td>1400.129303</td>\n",
       "      <td>...</td>\n",
       "      <td>12.033091</td>\n",
       "      <td>-498.350935</td>\n",
       "      <td>8.074946</td>\n",
       "      <td>-499.474407</td>\n",
       "      <td>7.897085</td>\n",
       "      <td>-500.868509</td>\n",
       "      <td>4.931400</td>\n",
       "      <td>-499.963623</td>\n",
       "      <td>24.948919</td>\n",
       "      <td>-498.709987</td>\n",
       "    </tr>\n",
       "    <tr>\n",
       "      <td>4</td>\n",
       "      <td>2016-09-01 04:59:59</td>\n",
       "      <td>199.099327</td>\n",
       "      <td>10.682530</td>\n",
       "      <td>7.530000</td>\n",
       "      <td>0.805575</td>\n",
       "      <td>1401.268123</td>\n",
       "      <td>-500.808305</td>\n",
       "      <td>1398.128818</td>\n",
       "      <td>-499.504543</td>\n",
       "      <td>1402.172226</td>\n",
       "      <td>...</td>\n",
       "      <td>12.025367</td>\n",
       "      <td>-500.786497</td>\n",
       "      <td>8.054678</td>\n",
       "      <td>-500.397500</td>\n",
       "      <td>8.107890</td>\n",
       "      <td>-509.526725</td>\n",
       "      <td>4.957674</td>\n",
       "      <td>-500.360026</td>\n",
       "      <td>25.003331</td>\n",
       "      <td>-500.856333</td>\n",
       "    </tr>\n",
       "  </tbody>\n",
       "</table>\n",
       "<p>5 rows × 53 columns</p>\n",
       "</div>"
      ],
      "text/plain": [
       "                  date  primary_cleaner.input.sulfate  \\\n",
       "0  2016-09-01 00:59:59                     210.800909   \n",
       "1  2016-09-01 01:59:59                     215.392455   \n",
       "2  2016-09-01 02:59:59                     215.259946   \n",
       "3  2016-09-01 03:59:59                     215.336236   \n",
       "4  2016-09-01 04:59:59                     199.099327   \n",
       "\n",
       "   primary_cleaner.input.depressant  primary_cleaner.input.feed_size  \\\n",
       "0                         14.993118                         8.080000   \n",
       "1                         14.987471                         8.080000   \n",
       "2                         12.884934                         7.786667   \n",
       "3                         12.006805                         7.640000   \n",
       "4                         10.682530                         7.530000   \n",
       "\n",
       "   primary_cleaner.input.xanthate  primary_cleaner.state.floatbank8_a_air  \\\n",
       "0                        1.005021                             1398.981301   \n",
       "1                        0.990469                             1398.777912   \n",
       "2                        0.996043                             1398.493666   \n",
       "3                        0.863514                             1399.618111   \n",
       "4                        0.805575                             1401.268123   \n",
       "\n",
       "   primary_cleaner.state.floatbank8_a_level  \\\n",
       "0                               -500.225577   \n",
       "1                               -500.057435   \n",
       "2                               -500.868360   \n",
       "3                               -498.863574   \n",
       "4                               -500.808305   \n",
       "\n",
       "   primary_cleaner.state.floatbank8_b_air  \\\n",
       "0                             1399.144926   \n",
       "1                             1398.055362   \n",
       "2                             1398.860436   \n",
       "3                             1397.440120   \n",
       "4                             1398.128818   \n",
       "\n",
       "   primary_cleaner.state.floatbank8_b_level  \\\n",
       "0                               -499.919735   \n",
       "1                               -499.778182   \n",
       "2                               -499.764529   \n",
       "3                               -499.211024   \n",
       "4                               -499.504543   \n",
       "\n",
       "   primary_cleaner.state.floatbank8_c_air  ...  \\\n",
       "0                             1400.102998  ...   \n",
       "1                             1396.151033  ...   \n",
       "2                             1398.075709  ...   \n",
       "3                             1400.129303  ...   \n",
       "4                             1402.172226  ...   \n",
       "\n",
       "   secondary_cleaner.state.floatbank4_a_air  \\\n",
       "0                                 12.023554   \n",
       "1                                 12.058140   \n",
       "2                                 11.962366   \n",
       "3                                 12.033091   \n",
       "4                                 12.025367   \n",
       "\n",
       "   secondary_cleaner.state.floatbank4_a_level  \\\n",
       "0                                 -497.795834   \n",
       "1                                 -498.695773   \n",
       "2                                 -498.767484   \n",
       "3                                 -498.350935   \n",
       "4                                 -500.786497   \n",
       "\n",
       "   secondary_cleaner.state.floatbank4_b_air  \\\n",
       "0                                  8.016656   \n",
       "1                                  8.130979   \n",
       "2                                  8.096893   \n",
       "3                                  8.074946   \n",
       "4                                  8.054678   \n",
       "\n",
       "   secondary_cleaner.state.floatbank4_b_level  \\\n",
       "0                                 -501.289139   \n",
       "1                                 -499.634209   \n",
       "2                                 -500.827423   \n",
       "3                                 -499.474407   \n",
       "4                                 -500.397500   \n",
       "\n",
       "   secondary_cleaner.state.floatbank5_a_air  \\\n",
       "0                                  7.946562   \n",
       "1                                  7.958270   \n",
       "2                                  8.071056   \n",
       "3                                  7.897085   \n",
       "4                                  8.107890   \n",
       "\n",
       "   secondary_cleaner.state.floatbank5_a_level  \\\n",
       "0                                 -432.317850   \n",
       "1                                 -525.839648   \n",
       "2                                 -500.801673   \n",
       "3                                 -500.868509   \n",
       "4                                 -509.526725   \n",
       "\n",
       "   secondary_cleaner.state.floatbank5_b_air  \\\n",
       "0                                  4.872511   \n",
       "1                                  4.878850   \n",
       "2                                  4.905125   \n",
       "3                                  4.931400   \n",
       "4                                  4.957674   \n",
       "\n",
       "   secondary_cleaner.state.floatbank5_b_level  \\\n",
       "0                                 -500.037437   \n",
       "1                                 -500.162375   \n",
       "2                                 -499.828510   \n",
       "3                                 -499.963623   \n",
       "4                                 -500.360026   \n",
       "\n",
       "   secondary_cleaner.state.floatbank6_a_air  \\\n",
       "0                                 26.705889   \n",
       "1                                 25.019940   \n",
       "2                                 24.994862   \n",
       "3                                 24.948919   \n",
       "4                                 25.003331   \n",
       "\n",
       "   secondary_cleaner.state.floatbank6_a_level  \n",
       "0                                 -499.709414  \n",
       "1                                 -499.819438  \n",
       "2                                 -500.622559  \n",
       "3                                 -498.709987  \n",
       "4                                 -500.856333  \n",
       "\n",
       "[5 rows x 53 columns]"
      ]
     },
     "execution_count": 6,
     "metadata": {},
     "output_type": "execute_result"
    }
   ],
   "source": [
    "df_test.head()"
   ]
  },
  {
   "cell_type": "code",
   "execution_count": 7,
   "metadata": {},
   "outputs": [
    {
     "name": "stdout",
     "output_type": "stream",
     "text": [
      "<class 'pandas.core.frame.DataFrame'>\n",
      "RangeIndex: 5290 entries, 0 to 5289\n",
      "Data columns (total 53 columns):\n",
      "date                                          5290 non-null object\n",
      "primary_cleaner.input.sulfate                 5286 non-null float64\n",
      "primary_cleaner.input.depressant              5285 non-null float64\n",
      "primary_cleaner.input.feed_size               5290 non-null float64\n",
      "primary_cleaner.input.xanthate                5286 non-null float64\n",
      "primary_cleaner.state.floatbank8_a_air        5290 non-null float64\n",
      "primary_cleaner.state.floatbank8_a_level      5290 non-null float64\n",
      "primary_cleaner.state.floatbank8_b_air        5290 non-null float64\n",
      "primary_cleaner.state.floatbank8_b_level      5290 non-null float64\n",
      "primary_cleaner.state.floatbank8_c_air        5290 non-null float64\n",
      "primary_cleaner.state.floatbank8_c_level      5290 non-null float64\n",
      "primary_cleaner.state.floatbank8_d_air        5290 non-null float64\n",
      "primary_cleaner.state.floatbank8_d_level      5290 non-null float64\n",
      "rougher.input.feed_ag                         5290 non-null float64\n",
      "rougher.input.feed_pb                         5290 non-null float64\n",
      "rougher.input.feed_rate                       5287 non-null float64\n",
      "rougher.input.feed_size                       5289 non-null float64\n",
      "rougher.input.feed_sol                        5269 non-null float64\n",
      "rougher.input.feed_au                         5290 non-null float64\n",
      "rougher.input.floatbank10_sulfate             5285 non-null float64\n",
      "rougher.input.floatbank10_xanthate            5290 non-null float64\n",
      "rougher.input.floatbank11_sulfate             5282 non-null float64\n",
      "rougher.input.floatbank11_xanthate            5265 non-null float64\n",
      "rougher.state.floatbank10_a_air               5290 non-null float64\n",
      "rougher.state.floatbank10_a_level             5290 non-null float64\n",
      "rougher.state.floatbank10_b_air               5290 non-null float64\n",
      "rougher.state.floatbank10_b_level             5290 non-null float64\n",
      "rougher.state.floatbank10_c_air               5290 non-null float64\n",
      "rougher.state.floatbank10_c_level             5290 non-null float64\n",
      "rougher.state.floatbank10_d_air               5290 non-null float64\n",
      "rougher.state.floatbank10_d_level             5290 non-null float64\n",
      "rougher.state.floatbank10_e_air               5290 non-null float64\n",
      "rougher.state.floatbank10_e_level             5290 non-null float64\n",
      "rougher.state.floatbank10_f_air               5290 non-null float64\n",
      "rougher.state.floatbank10_f_level             5290 non-null float64\n",
      "secondary_cleaner.state.floatbank2_a_air      5287 non-null float64\n",
      "secondary_cleaner.state.floatbank2_a_level    5290 non-null float64\n",
      "secondary_cleaner.state.floatbank2_b_air      5288 non-null float64\n",
      "secondary_cleaner.state.floatbank2_b_level    5290 non-null float64\n",
      "secondary_cleaner.state.floatbank3_a_air      5281 non-null float64\n",
      "secondary_cleaner.state.floatbank3_a_level    5290 non-null float64\n",
      "secondary_cleaner.state.floatbank3_b_air      5290 non-null float64\n",
      "secondary_cleaner.state.floatbank3_b_level    5290 non-null float64\n",
      "secondary_cleaner.state.floatbank4_a_air      5290 non-null float64\n",
      "secondary_cleaner.state.floatbank4_a_level    5290 non-null float64\n",
      "secondary_cleaner.state.floatbank4_b_air      5290 non-null float64\n",
      "secondary_cleaner.state.floatbank4_b_level    5290 non-null float64\n",
      "secondary_cleaner.state.floatbank5_a_air      5290 non-null float64\n",
      "secondary_cleaner.state.floatbank5_a_level    5290 non-null float64\n",
      "secondary_cleaner.state.floatbank5_b_air      5290 non-null float64\n",
      "secondary_cleaner.state.floatbank5_b_level    5290 non-null float64\n",
      "secondary_cleaner.state.floatbank6_a_air      5290 non-null float64\n",
      "secondary_cleaner.state.floatbank6_a_level    5290 non-null float64\n",
      "dtypes: float64(52), object(1)\n",
      "memory usage: 2.1+ MB\n"
     ]
    }
   ],
   "source": [
    "df_test.info()"
   ]
  },
  {
   "cell_type": "code",
   "execution_count": 8,
   "metadata": {},
   "outputs": [
    {
     "data": {
      "text/html": [
       "<div>\n",
       "<style scoped>\n",
       "    .dataframe tbody tr th:only-of-type {\n",
       "        vertical-align: middle;\n",
       "    }\n",
       "\n",
       "    .dataframe tbody tr th {\n",
       "        vertical-align: top;\n",
       "    }\n",
       "\n",
       "    .dataframe thead th {\n",
       "        text-align: right;\n",
       "    }\n",
       "</style>\n",
       "<table border=\"1\" class=\"dataframe\">\n",
       "  <thead>\n",
       "    <tr style=\"text-align: right;\">\n",
       "      <th></th>\n",
       "      <th>date</th>\n",
       "      <th>final.output.concentrate_ag</th>\n",
       "      <th>final.output.concentrate_pb</th>\n",
       "      <th>final.output.concentrate_sol</th>\n",
       "      <th>final.output.concentrate_au</th>\n",
       "      <th>final.output.recovery</th>\n",
       "      <th>final.output.tail_ag</th>\n",
       "      <th>final.output.tail_pb</th>\n",
       "      <th>final.output.tail_sol</th>\n",
       "      <th>final.output.tail_au</th>\n",
       "      <th>...</th>\n",
       "      <th>secondary_cleaner.state.floatbank4_a_air</th>\n",
       "      <th>secondary_cleaner.state.floatbank4_a_level</th>\n",
       "      <th>secondary_cleaner.state.floatbank4_b_air</th>\n",
       "      <th>secondary_cleaner.state.floatbank4_b_level</th>\n",
       "      <th>secondary_cleaner.state.floatbank5_a_air</th>\n",
       "      <th>secondary_cleaner.state.floatbank5_a_level</th>\n",
       "      <th>secondary_cleaner.state.floatbank5_b_air</th>\n",
       "      <th>secondary_cleaner.state.floatbank5_b_level</th>\n",
       "      <th>secondary_cleaner.state.floatbank6_a_air</th>\n",
       "      <th>secondary_cleaner.state.floatbank6_a_level</th>\n",
       "    </tr>\n",
       "  </thead>\n",
       "  <tbody>\n",
       "    <tr>\n",
       "      <td>0</td>\n",
       "      <td>2016-01-15 00:00:00</td>\n",
       "      <td>6.055403</td>\n",
       "      <td>9.889648</td>\n",
       "      <td>5.507324</td>\n",
       "      <td>42.192020</td>\n",
       "      <td>70.541216</td>\n",
       "      <td>10.411962</td>\n",
       "      <td>0.895447</td>\n",
       "      <td>16.904297</td>\n",
       "      <td>2.143149</td>\n",
       "      <td>...</td>\n",
       "      <td>14.016835</td>\n",
       "      <td>-502.488007</td>\n",
       "      <td>12.099931</td>\n",
       "      <td>-504.715942</td>\n",
       "      <td>9.925633</td>\n",
       "      <td>-498.310211</td>\n",
       "      <td>8.079666</td>\n",
       "      <td>-500.470978</td>\n",
       "      <td>14.151341</td>\n",
       "      <td>-605.841980</td>\n",
       "    </tr>\n",
       "    <tr>\n",
       "      <td>1</td>\n",
       "      <td>2016-01-15 01:00:00</td>\n",
       "      <td>6.029369</td>\n",
       "      <td>9.968944</td>\n",
       "      <td>5.257781</td>\n",
       "      <td>42.701629</td>\n",
       "      <td>69.266198</td>\n",
       "      <td>10.462676</td>\n",
       "      <td>0.927452</td>\n",
       "      <td>16.634514</td>\n",
       "      <td>2.224930</td>\n",
       "      <td>...</td>\n",
       "      <td>13.992281</td>\n",
       "      <td>-505.503262</td>\n",
       "      <td>11.950531</td>\n",
       "      <td>-501.331529</td>\n",
       "      <td>10.039245</td>\n",
       "      <td>-500.169983</td>\n",
       "      <td>7.984757</td>\n",
       "      <td>-500.582168</td>\n",
       "      <td>13.998353</td>\n",
       "      <td>-599.787184</td>\n",
       "    </tr>\n",
       "    <tr>\n",
       "      <td>2</td>\n",
       "      <td>2016-01-15 02:00:00</td>\n",
       "      <td>6.055926</td>\n",
       "      <td>10.213995</td>\n",
       "      <td>5.383759</td>\n",
       "      <td>42.657501</td>\n",
       "      <td>68.116445</td>\n",
       "      <td>10.507046</td>\n",
       "      <td>0.953716</td>\n",
       "      <td>16.208849</td>\n",
       "      <td>2.257889</td>\n",
       "      <td>...</td>\n",
       "      <td>14.015015</td>\n",
       "      <td>-502.520901</td>\n",
       "      <td>11.912783</td>\n",
       "      <td>-501.133383</td>\n",
       "      <td>10.070913</td>\n",
       "      <td>-500.129135</td>\n",
       "      <td>8.013877</td>\n",
       "      <td>-500.517572</td>\n",
       "      <td>14.028663</td>\n",
       "      <td>-601.427363</td>\n",
       "    </tr>\n",
       "    <tr>\n",
       "      <td>3</td>\n",
       "      <td>2016-01-15 03:00:00</td>\n",
       "      <td>6.047977</td>\n",
       "      <td>9.977019</td>\n",
       "      <td>4.858634</td>\n",
       "      <td>42.689819</td>\n",
       "      <td>68.347543</td>\n",
       "      <td>10.422762</td>\n",
       "      <td>0.883763</td>\n",
       "      <td>16.532835</td>\n",
       "      <td>2.146849</td>\n",
       "      <td>...</td>\n",
       "      <td>14.036510</td>\n",
       "      <td>-500.857308</td>\n",
       "      <td>11.999550</td>\n",
       "      <td>-501.193686</td>\n",
       "      <td>9.970366</td>\n",
       "      <td>-499.201640</td>\n",
       "      <td>7.977324</td>\n",
       "      <td>-500.255908</td>\n",
       "      <td>14.005551</td>\n",
       "      <td>-599.996129</td>\n",
       "    </tr>\n",
       "    <tr>\n",
       "      <td>4</td>\n",
       "      <td>2016-01-15 04:00:00</td>\n",
       "      <td>6.148599</td>\n",
       "      <td>10.142511</td>\n",
       "      <td>4.939416</td>\n",
       "      <td>42.774141</td>\n",
       "      <td>66.927016</td>\n",
       "      <td>10.360302</td>\n",
       "      <td>0.792826</td>\n",
       "      <td>16.525686</td>\n",
       "      <td>2.055292</td>\n",
       "      <td>...</td>\n",
       "      <td>14.027298</td>\n",
       "      <td>-499.838632</td>\n",
       "      <td>11.953070</td>\n",
       "      <td>-501.053894</td>\n",
       "      <td>9.925709</td>\n",
       "      <td>-501.686727</td>\n",
       "      <td>7.894242</td>\n",
       "      <td>-500.356035</td>\n",
       "      <td>13.996647</td>\n",
       "      <td>-601.496691</td>\n",
       "    </tr>\n",
       "  </tbody>\n",
       "</table>\n",
       "<p>5 rows × 87 columns</p>\n",
       "</div>"
      ],
      "text/plain": [
       "                  date  final.output.concentrate_ag  \\\n",
       "0  2016-01-15 00:00:00                     6.055403   \n",
       "1  2016-01-15 01:00:00                     6.029369   \n",
       "2  2016-01-15 02:00:00                     6.055926   \n",
       "3  2016-01-15 03:00:00                     6.047977   \n",
       "4  2016-01-15 04:00:00                     6.148599   \n",
       "\n",
       "   final.output.concentrate_pb  final.output.concentrate_sol  \\\n",
       "0                     9.889648                      5.507324   \n",
       "1                     9.968944                      5.257781   \n",
       "2                    10.213995                      5.383759   \n",
       "3                     9.977019                      4.858634   \n",
       "4                    10.142511                      4.939416   \n",
       "\n",
       "   final.output.concentrate_au  final.output.recovery  final.output.tail_ag  \\\n",
       "0                    42.192020              70.541216             10.411962   \n",
       "1                    42.701629              69.266198             10.462676   \n",
       "2                    42.657501              68.116445             10.507046   \n",
       "3                    42.689819              68.347543             10.422762   \n",
       "4                    42.774141              66.927016             10.360302   \n",
       "\n",
       "   final.output.tail_pb  final.output.tail_sol  final.output.tail_au  ...  \\\n",
       "0              0.895447              16.904297              2.143149  ...   \n",
       "1              0.927452              16.634514              2.224930  ...   \n",
       "2              0.953716              16.208849              2.257889  ...   \n",
       "3              0.883763              16.532835              2.146849  ...   \n",
       "4              0.792826              16.525686              2.055292  ...   \n",
       "\n",
       "   secondary_cleaner.state.floatbank4_a_air  \\\n",
       "0                                 14.016835   \n",
       "1                                 13.992281   \n",
       "2                                 14.015015   \n",
       "3                                 14.036510   \n",
       "4                                 14.027298   \n",
       "\n",
       "   secondary_cleaner.state.floatbank4_a_level  \\\n",
       "0                                 -502.488007   \n",
       "1                                 -505.503262   \n",
       "2                                 -502.520901   \n",
       "3                                 -500.857308   \n",
       "4                                 -499.838632   \n",
       "\n",
       "   secondary_cleaner.state.floatbank4_b_air  \\\n",
       "0                                 12.099931   \n",
       "1                                 11.950531   \n",
       "2                                 11.912783   \n",
       "3                                 11.999550   \n",
       "4                                 11.953070   \n",
       "\n",
       "   secondary_cleaner.state.floatbank4_b_level  \\\n",
       "0                                 -504.715942   \n",
       "1                                 -501.331529   \n",
       "2                                 -501.133383   \n",
       "3                                 -501.193686   \n",
       "4                                 -501.053894   \n",
       "\n",
       "   secondary_cleaner.state.floatbank5_a_air  \\\n",
       "0                                  9.925633   \n",
       "1                                 10.039245   \n",
       "2                                 10.070913   \n",
       "3                                  9.970366   \n",
       "4                                  9.925709   \n",
       "\n",
       "   secondary_cleaner.state.floatbank5_a_level  \\\n",
       "0                                 -498.310211   \n",
       "1                                 -500.169983   \n",
       "2                                 -500.129135   \n",
       "3                                 -499.201640   \n",
       "4                                 -501.686727   \n",
       "\n",
       "   secondary_cleaner.state.floatbank5_b_air  \\\n",
       "0                                  8.079666   \n",
       "1                                  7.984757   \n",
       "2                                  8.013877   \n",
       "3                                  7.977324   \n",
       "4                                  7.894242   \n",
       "\n",
       "   secondary_cleaner.state.floatbank5_b_level  \\\n",
       "0                                 -500.470978   \n",
       "1                                 -500.582168   \n",
       "2                                 -500.517572   \n",
       "3                                 -500.255908   \n",
       "4                                 -500.356035   \n",
       "\n",
       "   secondary_cleaner.state.floatbank6_a_air  \\\n",
       "0                                 14.151341   \n",
       "1                                 13.998353   \n",
       "2                                 14.028663   \n",
       "3                                 14.005551   \n",
       "4                                 13.996647   \n",
       "\n",
       "   secondary_cleaner.state.floatbank6_a_level  \n",
       "0                                 -605.841980  \n",
       "1                                 -599.787184  \n",
       "2                                 -601.427363  \n",
       "3                                 -599.996129  \n",
       "4                                 -601.496691  \n",
       "\n",
       "[5 rows x 87 columns]"
      ]
     },
     "execution_count": 8,
     "metadata": {},
     "output_type": "execute_result"
    }
   ],
   "source": [
    "df_full.head()"
   ]
  },
  {
   "cell_type": "code",
   "execution_count": 9,
   "metadata": {},
   "outputs": [
    {
     "name": "stdout",
     "output_type": "stream",
     "text": [
      "<class 'pandas.core.frame.DataFrame'>\n",
      "RangeIndex: 19439 entries, 0 to 19438\n",
      "Data columns (total 87 columns):\n",
      "date                                                  19439 non-null object\n",
      "final.output.concentrate_ag                           19438 non-null float64\n",
      "final.output.concentrate_pb                           19438 non-null float64\n",
      "final.output.concentrate_sol                          19228 non-null float64\n",
      "final.output.concentrate_au                           19439 non-null float64\n",
      "final.output.recovery                                 19439 non-null float64\n",
      "final.output.tail_ag                                  19438 non-null float64\n",
      "final.output.tail_pb                                  19338 non-null float64\n",
      "final.output.tail_sol                                 19433 non-null float64\n",
      "final.output.tail_au                                  19439 non-null float64\n",
      "primary_cleaner.input.sulfate                         19415 non-null float64\n",
      "primary_cleaner.input.depressant                      19402 non-null float64\n",
      "primary_cleaner.input.feed_size                       19439 non-null float64\n",
      "primary_cleaner.input.xanthate                        19335 non-null float64\n",
      "primary_cleaner.output.concentrate_ag                 19439 non-null float64\n",
      "primary_cleaner.output.concentrate_pb                 19323 non-null float64\n",
      "primary_cleaner.output.concentrate_sol                19069 non-null float64\n",
      "primary_cleaner.output.concentrate_au                 19439 non-null float64\n",
      "primary_cleaner.output.tail_ag                        19435 non-null float64\n",
      "primary_cleaner.output.tail_pb                        19418 non-null float64\n",
      "primary_cleaner.output.tail_sol                       19377 non-null float64\n",
      "primary_cleaner.output.tail_au                        19439 non-null float64\n",
      "primary_cleaner.state.floatbank8_a_air                19435 non-null float64\n",
      "primary_cleaner.state.floatbank8_a_level              19438 non-null float64\n",
      "primary_cleaner.state.floatbank8_b_air                19435 non-null float64\n",
      "primary_cleaner.state.floatbank8_b_level              19438 non-null float64\n",
      "primary_cleaner.state.floatbank8_c_air                19437 non-null float64\n",
      "primary_cleaner.state.floatbank8_c_level              19438 non-null float64\n",
      "primary_cleaner.state.floatbank8_d_air                19436 non-null float64\n",
      "primary_cleaner.state.floatbank8_d_level              19438 non-null float64\n",
      "rougher.calculation.sulfate_to_au_concentrate         19437 non-null float64\n",
      "rougher.calculation.floatbank10_sulfate_to_au_feed    19437 non-null float64\n",
      "rougher.calculation.floatbank11_sulfate_to_au_feed    19437 non-null float64\n",
      "rougher.calculation.au_pb_ratio                       19439 non-null float64\n",
      "rougher.input.feed_ag                                 19439 non-null float64\n",
      "rougher.input.feed_pb                                 19339 non-null float64\n",
      "rougher.input.feed_rate                               19428 non-null float64\n",
      "rougher.input.feed_size                               19294 non-null float64\n",
      "rougher.input.feed_sol                                19340 non-null float64\n",
      "rougher.input.feed_au                                 19439 non-null float64\n",
      "rougher.input.floatbank10_sulfate                     19405 non-null float64\n",
      "rougher.input.floatbank10_xanthate                    19431 non-null float64\n",
      "rougher.input.floatbank11_sulfate                     19395 non-null float64\n",
      "rougher.input.floatbank11_xanthate                    18986 non-null float64\n",
      "rougher.output.concentrate_ag                         19439 non-null float64\n",
      "rougher.output.concentrate_pb                         19439 non-null float64\n",
      "rougher.output.concentrate_sol                        19416 non-null float64\n",
      "rougher.output.concentrate_au                         19439 non-null float64\n",
      "rougher.output.recovery                               19439 non-null float64\n",
      "rougher.output.tail_ag                                19438 non-null float64\n",
      "rougher.output.tail_pb                                19439 non-null float64\n",
      "rougher.output.tail_sol                               19439 non-null float64\n",
      "rougher.output.tail_au                                19439 non-null float64\n",
      "rougher.state.floatbank10_a_air                       19438 non-null float64\n",
      "rougher.state.floatbank10_a_level                     19438 non-null float64\n",
      "rougher.state.floatbank10_b_air                       19438 non-null float64\n",
      "rougher.state.floatbank10_b_level                     19438 non-null float64\n",
      "rougher.state.floatbank10_c_air                       19438 non-null float64\n",
      "rougher.state.floatbank10_c_level                     19438 non-null float64\n",
      "rougher.state.floatbank10_d_air                       19439 non-null float64\n",
      "rougher.state.floatbank10_d_level                     19439 non-null float64\n",
      "rougher.state.floatbank10_e_air                       19003 non-null float64\n",
      "rougher.state.floatbank10_e_level                     19439 non-null float64\n",
      "rougher.state.floatbank10_f_air                       19439 non-null float64\n",
      "rougher.state.floatbank10_f_level                     19439 non-null float64\n",
      "secondary_cleaner.output.tail_ag                      19437 non-null float64\n",
      "secondary_cleaner.output.tail_pb                      19427 non-null float64\n",
      "secondary_cleaner.output.tail_sol                     17691 non-null float64\n",
      "secondary_cleaner.output.tail_au                      19439 non-null float64\n",
      "secondary_cleaner.state.floatbank2_a_air              19219 non-null float64\n",
      "secondary_cleaner.state.floatbank2_a_level            19438 non-null float64\n",
      "secondary_cleaner.state.floatbank2_b_air              19416 non-null float64\n",
      "secondary_cleaner.state.floatbank2_b_level            19438 non-null float64\n",
      "secondary_cleaner.state.floatbank3_a_air              19426 non-null float64\n",
      "secondary_cleaner.state.floatbank3_a_level            19438 non-null float64\n",
      "secondary_cleaner.state.floatbank3_b_air              19438 non-null float64\n",
      "secondary_cleaner.state.floatbank3_b_level            19438 non-null float64\n",
      "secondary_cleaner.state.floatbank4_a_air              19433 non-null float64\n",
      "secondary_cleaner.state.floatbank4_a_level            19438 non-null float64\n",
      "secondary_cleaner.state.floatbank4_b_air              19438 non-null float64\n",
      "secondary_cleaner.state.floatbank4_b_level            19438 non-null float64\n",
      "secondary_cleaner.state.floatbank5_a_air              19438 non-null float64\n",
      "secondary_cleaner.state.floatbank5_a_level            19438 non-null float64\n",
      "secondary_cleaner.state.floatbank5_b_air              19438 non-null float64\n",
      "secondary_cleaner.state.floatbank5_b_level            19438 non-null float64\n",
      "secondary_cleaner.state.floatbank6_a_air              19437 non-null float64\n",
      "secondary_cleaner.state.floatbank6_a_level            19438 non-null float64\n",
      "dtypes: float64(86), object(1)\n",
      "memory usage: 12.9+ MB\n"
     ]
    }
   ],
   "source": [
    "df_full.info()"
   ]
  },
  {
   "cell_type": "markdown",
   "metadata": {},
   "source": [
    "Вывод: в данных есть пропуски, что в будущем мы исправим."
   ]
  },
  {
   "cell_type": "markdown",
   "metadata": {},
   "source": [
    "### Проверка расчета эффективности обогащения"
   ]
  },
  {
   "cell_type": "markdown",
   "metadata": {},
   "source": [
    "- Проверим, что эффективность обогащения рассчитана правильно.\n",
    "- Вычислим её на обучающей выборке для признака rougher.output.recovery.\n",
    "- Найдем MAE между нашими расчётами и значением признака.\n",
    "- Опишем выводы."
   ]
  },
  {
   "cell_type": "markdown",
   "metadata": {},
   "source": [
    "Эффектвность считается по формуле:"
   ]
  },
  {
   "cell_type": "markdown",
   "metadata": {},
   "source": [
    "RECOVERY= C*(F-T) / F*(C-T) *100% "
   ]
  },
  {
   "cell_type": "markdown",
   "metadata": {},
   "source": [
    "где:\n",
    "\n",
    "- C — доля золота в концентрате после флотации/очистки; rougher.output.concentrate_au\n",
    "- F — доля золота в сырье/концентрате до флотации/очистки; rougher.input.feed_au\n",
    "- T — доля золота в отвальных хвостах после флотации/очистки. rougher.output.tail_au"
   ]
  },
  {
   "cell_type": "code",
   "execution_count": 10,
   "metadata": {},
   "outputs": [],
   "source": [
    "# Вычислим эффективность обогащения\n",
    "\n",
    "df_train['recovery_calc'] = (\n",
    "                            (df_train['rougher.output.concentrate_au']*(df_train['rougher.input.feed_au']-df_train['rougher.output.tail_au']))/\n",
    "                            (df_train['rougher.input.feed_au']*(df_train['rougher.output.concentrate_au']-df_train['rougher.output.tail_au']))*100\n",
    "                            )"
   ]
  },
  {
   "cell_type": "code",
   "execution_count": 11,
   "metadata": {},
   "outputs": [
    {
     "name": "stdout",
     "output_type": "stream",
     "text": [
      "MAE между нашими расчётами и значением признака: 9.682896147825551e-15\n"
     ]
    }
   ],
   "source": [
    "# Найдем MAE между нашими расчётами и значением признака\n",
    "\n",
    "\n",
    "mae = mean_absolute_error(df_train['rougher.output.recovery'],df_train['recovery_calc'])\n",
    "print('MAE между нашими расчётами и значением признака:',mae)"
   ]
  },
  {
   "cell_type": "markdown",
   "metadata": {},
   "source": [
    "Выводы: проведя расчеты самостоятельно и сравнив их со сзначениями признака можно быть уверенным, что эффективность обогащения рассчитана правильно."
   ]
  },
  {
   "cell_type": "markdown",
   "metadata": {},
   "source": [
    "### Анализ недоступных признаков"
   ]
  },
  {
   "cell_type": "markdown",
   "metadata": {},
   "source": [
    "Проанализируем признаки, недоступные в тестовой выборке. Что это за параметры? К какому типу относятся?"
   ]
  },
  {
   "cell_type": "code",
   "execution_count": 12,
   "metadata": {},
   "outputs": [],
   "source": [
    "# напишем цикл для определения нахождения столбцов в тестовой выборке\n",
    "\n",
    "\n",
    "df_train_uniq_columns =[]\n",
    "\n",
    "for column in df_train.columns:\n",
    "    if column not in df_test.columns:\n",
    "        df_train_uniq_columns.append(column)"
   ]
  },
  {
   "cell_type": "code",
   "execution_count": 13,
   "metadata": {},
   "outputs": [
    {
     "name": "stdout",
     "output_type": "stream",
     "text": [
      "Признаки, недоступные в тестовой выборке:\n"
     ]
    },
    {
     "data": {
      "text/plain": [
       "['final.output.concentrate_ag',\n",
       " 'final.output.concentrate_pb',\n",
       " 'final.output.concentrate_sol',\n",
       " 'final.output.concentrate_au',\n",
       " 'final.output.recovery',\n",
       " 'final.output.tail_ag',\n",
       " 'final.output.tail_pb',\n",
       " 'final.output.tail_sol',\n",
       " 'final.output.tail_au',\n",
       " 'primary_cleaner.output.concentrate_ag',\n",
       " 'primary_cleaner.output.concentrate_pb',\n",
       " 'primary_cleaner.output.concentrate_sol',\n",
       " 'primary_cleaner.output.concentrate_au',\n",
       " 'primary_cleaner.output.tail_ag',\n",
       " 'primary_cleaner.output.tail_pb',\n",
       " 'primary_cleaner.output.tail_sol',\n",
       " 'primary_cleaner.output.tail_au',\n",
       " 'rougher.calculation.sulfate_to_au_concentrate',\n",
       " 'rougher.calculation.floatbank10_sulfate_to_au_feed',\n",
       " 'rougher.calculation.floatbank11_sulfate_to_au_feed',\n",
       " 'rougher.calculation.au_pb_ratio',\n",
       " 'rougher.output.concentrate_ag',\n",
       " 'rougher.output.concentrate_pb',\n",
       " 'rougher.output.concentrate_sol',\n",
       " 'rougher.output.concentrate_au',\n",
       " 'rougher.output.recovery',\n",
       " 'rougher.output.tail_ag',\n",
       " 'rougher.output.tail_pb',\n",
       " 'rougher.output.tail_sol',\n",
       " 'rougher.output.tail_au',\n",
       " 'secondary_cleaner.output.tail_ag',\n",
       " 'secondary_cleaner.output.tail_pb',\n",
       " 'secondary_cleaner.output.tail_sol',\n",
       " 'secondary_cleaner.output.tail_au',\n",
       " 'recovery_calc']"
      ]
     },
     "execution_count": 13,
     "metadata": {},
     "output_type": "execute_result"
    }
   ],
   "source": [
    "print('Признаки, недоступные в тестовой выборке:')\n",
    "df_train_uniq_columns"
   ]
  },
  {
   "cell_type": "code",
   "execution_count": 14,
   "metadata": {},
   "outputs": [
    {
     "name": "stdout",
     "output_type": "stream",
     "text": [
      "Количество, шт: 35\n"
     ]
    }
   ],
   "source": [
    "print('Количество, шт:',len(df_train_uniq_columns))"
   ]
  },
  {
   "cell_type": "markdown",
   "metadata": {},
   "source": [
    "В тестовой выборке 53 столбца, в обучающей 88 (с учетом добавленного нами 'recovery_calc'). Соотвецтвенно мы нашли все 35 признаков, которых нет в тестовой выборке."
   ]
  },
  {
   "cell_type": "markdown",
   "metadata": {},
   "source": [
    "Что это за параметры? К какому типу относятся?"
   ]
  },
  {
   "cell_type": "markdown",
   "metadata": {},
   "source": [
    "- final.output: (финальные характеристики,параметры продукта)\n",
    "- primary_cleaner.output: (первичная очистка,параметры продукта)\n",
    "- rougher.calculation: (флотация,расчётные характеристики)\n",
    "- rougher.output: (флотация,параметры продукта)\n",
    "- secondary_cleaner.output: (вторичная очистка,параметры продукта)"
   ]
  },
  {
   "cell_type": "markdown",
   "metadata": {},
   "source": [
    "### Предобработка данных"
   ]
  },
  {
   "cell_type": "markdown",
   "metadata": {},
   "source": [
    "Проведем предобработку данных."
   ]
  },
  {
   "cell_type": "markdown",
   "metadata": {},
   "source": [
    "Так как мы не обладаем специализацией для определения некорректных значений, будем работать только с пропусками."
   ]
  },
  {
   "cell_type": "markdown",
   "metadata": {},
   "source": [
    "Заполним пропуски значениями из предыдущих дат"
   ]
  },
  {
   "cell_type": "code",
   "execution_count": 15,
   "metadata": {},
   "outputs": [],
   "source": [
    "df_train = df_train.fillna(method=\"ffill\")"
   ]
  },
  {
   "cell_type": "code",
   "execution_count": 16,
   "metadata": {},
   "outputs": [
    {
     "data": {
      "text/plain": [
       "date                                          0\n",
       "final.output.concentrate_ag                   0\n",
       "final.output.concentrate_pb                   0\n",
       "final.output.concentrate_sol                  0\n",
       "final.output.concentrate_au                   0\n",
       "                                             ..\n",
       "secondary_cleaner.state.floatbank5_b_air      0\n",
       "secondary_cleaner.state.floatbank5_b_level    0\n",
       "secondary_cleaner.state.floatbank6_a_air      0\n",
       "secondary_cleaner.state.floatbank6_a_level    0\n",
       "recovery_calc                                 0\n",
       "Length: 88, dtype: int64"
      ]
     },
     "execution_count": 16,
     "metadata": {},
     "output_type": "execute_result"
    }
   ],
   "source": [
    "df_train.isna().sum()"
   ]
  },
  {
   "cell_type": "code",
   "execution_count": 17,
   "metadata": {},
   "outputs": [],
   "source": [
    "df_test=df_test.fillna(method=\"ffill\")"
   ]
  },
  {
   "cell_type": "code",
   "execution_count": 18,
   "metadata": {},
   "outputs": [
    {
     "data": {
      "text/plain": [
       "date                                          0\n",
       "primary_cleaner.input.sulfate                 0\n",
       "primary_cleaner.input.depressant              0\n",
       "primary_cleaner.input.feed_size               0\n",
       "primary_cleaner.input.xanthate                0\n",
       "primary_cleaner.state.floatbank8_a_air        0\n",
       "primary_cleaner.state.floatbank8_a_level      0\n",
       "primary_cleaner.state.floatbank8_b_air        0\n",
       "primary_cleaner.state.floatbank8_b_level      0\n",
       "primary_cleaner.state.floatbank8_c_air        0\n",
       "primary_cleaner.state.floatbank8_c_level      0\n",
       "primary_cleaner.state.floatbank8_d_air        0\n",
       "primary_cleaner.state.floatbank8_d_level      0\n",
       "rougher.input.feed_ag                         0\n",
       "rougher.input.feed_pb                         0\n",
       "rougher.input.feed_rate                       0\n",
       "rougher.input.feed_size                       0\n",
       "rougher.input.feed_sol                        0\n",
       "rougher.input.feed_au                         0\n",
       "rougher.input.floatbank10_sulfate             0\n",
       "rougher.input.floatbank10_xanthate            0\n",
       "rougher.input.floatbank11_sulfate             0\n",
       "rougher.input.floatbank11_xanthate            0\n",
       "rougher.state.floatbank10_a_air               0\n",
       "rougher.state.floatbank10_a_level             0\n",
       "rougher.state.floatbank10_b_air               0\n",
       "rougher.state.floatbank10_b_level             0\n",
       "rougher.state.floatbank10_c_air               0\n",
       "rougher.state.floatbank10_c_level             0\n",
       "rougher.state.floatbank10_d_air               0\n",
       "rougher.state.floatbank10_d_level             0\n",
       "rougher.state.floatbank10_e_air               0\n",
       "rougher.state.floatbank10_e_level             0\n",
       "rougher.state.floatbank10_f_air               0\n",
       "rougher.state.floatbank10_f_level             0\n",
       "secondary_cleaner.state.floatbank2_a_air      0\n",
       "secondary_cleaner.state.floatbank2_a_level    0\n",
       "secondary_cleaner.state.floatbank2_b_air      0\n",
       "secondary_cleaner.state.floatbank2_b_level    0\n",
       "secondary_cleaner.state.floatbank3_a_air      0\n",
       "secondary_cleaner.state.floatbank3_a_level    0\n",
       "secondary_cleaner.state.floatbank3_b_air      0\n",
       "secondary_cleaner.state.floatbank3_b_level    0\n",
       "secondary_cleaner.state.floatbank4_a_air      0\n",
       "secondary_cleaner.state.floatbank4_a_level    0\n",
       "secondary_cleaner.state.floatbank4_b_air      0\n",
       "secondary_cleaner.state.floatbank4_b_level    0\n",
       "secondary_cleaner.state.floatbank5_a_air      0\n",
       "secondary_cleaner.state.floatbank5_a_level    0\n",
       "secondary_cleaner.state.floatbank5_b_air      0\n",
       "secondary_cleaner.state.floatbank5_b_level    0\n",
       "secondary_cleaner.state.floatbank6_a_air      0\n",
       "secondary_cleaner.state.floatbank6_a_level    0\n",
       "dtype: int64"
      ]
     },
     "execution_count": 18,
     "metadata": {},
     "output_type": "execute_result"
    }
   ],
   "source": [
    "df_test.isna().sum()"
   ]
  },
  {
   "cell_type": "code",
   "execution_count": 19,
   "metadata": {},
   "outputs": [],
   "source": [
    "df_full=df_full.fillna(method=\"ffill\")"
   ]
  },
  {
   "cell_type": "code",
   "execution_count": 20,
   "metadata": {
    "scrolled": true
   },
   "outputs": [
    {
     "data": {
      "text/plain": [
       "date                                          0\n",
       "final.output.concentrate_ag                   0\n",
       "final.output.concentrate_pb                   0\n",
       "final.output.concentrate_sol                  0\n",
       "final.output.concentrate_au                   0\n",
       "                                             ..\n",
       "secondary_cleaner.state.floatbank5_a_level    0\n",
       "secondary_cleaner.state.floatbank5_b_air      0\n",
       "secondary_cleaner.state.floatbank5_b_level    0\n",
       "secondary_cleaner.state.floatbank6_a_air      0\n",
       "secondary_cleaner.state.floatbank6_a_level    0\n",
       "Length: 87, dtype: int64"
      ]
     },
     "execution_count": 20,
     "metadata": {},
     "output_type": "execute_result"
    }
   ],
   "source": [
    "df_full.isna().sum()"
   ]
  },
  {
   "cell_type": "markdown",
   "metadata": {},
   "source": [
    "Вывод: в данных были пропуски, но, так как данные важны, мы не стали их удалять, а во всех таблицах заменили пропуски на предыдущие значения, ибо замена медианой или средним не подходит."
   ]
  },
  {
   "cell_type": "markdown",
   "metadata": {},
   "source": [
    "## Анализ данных"
   ]
  },
  {
   "cell_type": "markdown",
   "metadata": {},
   "source": [
    "### Именения концентрации металлов"
   ]
  },
  {
   "cell_type": "markdown",
   "metadata": {},
   "source": [
    "- Посмотрим, как меняется концентрация металлов (Au, Ag, Pb) на различных этапах очистки. \n",
    "- Опишем выводы."
   ]
  },
  {
   "cell_type": "markdown",
   "metadata": {},
   "source": [
    "- концентрация до флотации(1) и после (2)\n",
    "- концентрация до перв. очистки(2) и после(3)\n",
    "- концентрация до втор. очистки(3) и после(4)"
   ]
  },
  {
   "cell_type": "code",
   "execution_count": 21,
   "metadata": {},
   "outputs": [],
   "source": [
    "au_1 = au_rougher_input_mean =  df_full['rougher.input.feed_au'].mean()\n",
    "au_2 = au_rougher_output_concentrate_au_mean =  df_full['rougher.output.concentrate_au'].mean()\n",
    "\n",
    "ag_1 = ag_rougher_input_mean =  df_full['rougher.input.feed_ag'].mean()\n",
    "ag_2 = ag_rougher_output_concentrate_ag_mean =  df_full['rougher.output.concentrate_ag'].mean()\n",
    "\n",
    "pb_1 = pb_rougher_input_mean =  df_full['rougher.input.feed_pb'].mean()\n",
    "pb_2 = pb_rougher_output_concentrate_pb_mean =  df_full['rougher.output.concentrate_pb'].mean()"
   ]
  },
  {
   "cell_type": "code",
   "execution_count": 22,
   "metadata": {},
   "outputs": [
    {
     "name": "stdout",
     "output_type": "stream",
     "text": [
      "Среднее кол-во золота(Au) до флотации: 8.266097326589103\n",
      "Среднее кол-во золота(Au) после флотации: 19.772000139486313\n"
     ]
    }
   ],
   "source": [
    "print('Среднее кол-во золота(Au) до флотации:',au_rougher_input_mean)\n",
    "print('Среднее кол-во золота(Au) после флотации:',au_rougher_output_concentrate_au_mean)"
   ]
  },
  {
   "cell_type": "code",
   "execution_count": 23,
   "metadata": {},
   "outputs": [
    {
     "name": "stdout",
     "output_type": "stream",
     "text": [
      "Среднее кол-во серебра(Au) до флотации: 8.794927425814688\n",
      "Среднее кол-во серебра(Au) после флотации: 11.994759359873429\n"
     ]
    }
   ],
   "source": [
    "print('Среднее кол-во серебра(Au) до флотации:',ag_rougher_input_mean)\n",
    "print('Среднее кол-во серебра(Au) после флотации:',ag_rougher_output_concentrate_ag_mean)"
   ]
  },
  {
   "cell_type": "code",
   "execution_count": 24,
   "metadata": {},
   "outputs": [
    {
     "name": "stdout",
     "output_type": "stream",
     "text": [
      "Среднее кол-во свинца(Pb) до флотации: 3.585095711585748\n",
      "Среднее кол-во свинца(Pb) после флотации: 7.606272313195004\n"
     ]
    }
   ],
   "source": [
    "print('Среднее кол-во свинца(Pb) до флотации:',pb_rougher_input_mean)\n",
    "print('Среднее кол-во свинца(Pb) после флотации:',pb_rougher_output_concentrate_pb_mean)"
   ]
  },
  {
   "cell_type": "markdown",
   "metadata": {},
   "source": [
    "Ввывод: концентрация золота увеличилась больше чем в 2 раза, конц. серебра меньше чем в полтора, конц. свинца больше чем в 2 раза."
   ]
  },
  {
   "cell_type": "code",
   "execution_count": 25,
   "metadata": {},
   "outputs": [],
   "source": [
    "\n",
    "au_3 = au_primary_cleaner_concentrate_mean =  df_full['primary_cleaner.output.concentrate_au'].mean()\n",
    "\n",
    "ag_3 = ag_primary_cleaner_concentrate_mean =  df_full['primary_cleaner.output.concentrate_ag'].mean()\n",
    "\n",
    "pb_3 = pb_primary_cleaner_concentrate_mean =  df_full['primary_cleaner.output.concentrate_pb'].mean()"
   ]
  },
  {
   "cell_type": "code",
   "execution_count": 26,
   "metadata": {},
   "outputs": [
    {
     "name": "stdout",
     "output_type": "stream",
     "text": [
      "Среднее кол-во золота(Au) до первичной очистки: 19.772000139486313\n",
      "Среднее кол-во золота(Au) после первичной очистки: 32.1194004078765\n"
     ]
    }
   ],
   "source": [
    "print('Среднее кол-во золота(Au) до первичной очистки:',au_2)\n",
    "print('Среднее кол-во золота(Au) после первичной очистки:',au_3)"
   ]
  },
  {
   "cell_type": "code",
   "execution_count": 27,
   "metadata": {},
   "outputs": [
    {
     "name": "stdout",
     "output_type": "stream",
     "text": [
      "Среднее кол-во серебра(Ag) до первичная очистки: 11.994759359873429\n",
      "Среднее кол-во серебра(Ag) после первичная очистки: 8.44240807771906\n"
     ]
    }
   ],
   "source": [
    "print('Среднее кол-во серебра(Ag) до первичная очистки:',ag_2)\n",
    "print('Среднее кол-во серебра(Ag) после первичная очистки:',ag_3)"
   ]
  },
  {
   "cell_type": "code",
   "execution_count": 28,
   "metadata": {},
   "outputs": [
    {
     "name": "stdout",
     "output_type": "stream",
     "text": [
      "Среднее кол-во свинца(Pb) до первичной очистки: 7.606272313195004\n",
      "Среднее кол-во свинца(Pb) после первичной очистки: 9.810316539310149\n"
     ]
    }
   ],
   "source": [
    "print('Среднее кол-во свинца(Pb) до первичной очистки:',pb_2)\n",
    "print('Среднее кол-во свинца(Pb) после первичной очистки:',pb_3)"
   ]
  },
  {
   "cell_type": "markdown",
   "metadata": {},
   "source": [
    "Ввывод первичной очистки: концентрация золота увеличилась в 2 раза, конц. серебра немного уменьшилась, конц. свинца немного увеличилась."
   ]
  },
  {
   "cell_type": "code",
   "execution_count": 29,
   "metadata": {},
   "outputs": [],
   "source": [
    "au_4 = au_final_output_concentrate_mean =  df_full['final.output.concentrate_au'].mean()\n",
    "\n",
    "ag_4 = ag_final_output_concentrate_mean =  df_full['final.output.concentrate_ag'].mean()\n",
    "\n",
    "pb_4 = pb_final_output_concentrate_mean =  df_full['final.output.concentrate_pb'].mean()"
   ]
  },
  {
   "cell_type": "code",
   "execution_count": 30,
   "metadata": {},
   "outputs": [
    {
     "name": "stdout",
     "output_type": "stream",
     "text": [
      "Среднее кол-во золота(Au) до вторичной очистки: 32.1194004078765\n",
      "Среднее кол-во золота(Au) после вторичной очистки: 44.0765129419528\n"
     ]
    }
   ],
   "source": [
    "print('Среднее кол-во золота(Au) до вторичной очистки:',au_3)\n",
    "print('Среднее кол-во золота(Au) после вторичной очистки:',au_4)"
   ]
  },
  {
   "cell_type": "code",
   "execution_count": 31,
   "metadata": {},
   "outputs": [
    {
     "name": "stdout",
     "output_type": "stream",
     "text": [
      "Среднее кол-во серебра(Ag) до вторичной очистки: 8.44240807771906\n",
      "Среднее кол-во серебра(Ag) после вторичной очистки: 5.168386967510243\n"
     ]
    }
   ],
   "source": [
    "print('Среднее кол-во серебра(Ag) до вторичной очистки:',ag_3)\n",
    "print('Среднее кол-во серебра(Ag) после вторичной очистки:',ag_4)"
   ]
  },
  {
   "cell_type": "code",
   "execution_count": 32,
   "metadata": {},
   "outputs": [
    {
     "name": "stdout",
     "output_type": "stream",
     "text": [
      "Среднее кол-во свинца(Pb) до вторичной очистки: 9.810316539310149\n",
      "Среднее кол-во свинца(Pb) после вторичной очистки: 9.978821384192907\n"
     ]
    }
   ],
   "source": [
    "print('Среднее кол-во свинца(Pb) до вторичной очистки:',pb_3)\n",
    "print('Среднее кол-во свинца(Pb) после вторичной очистки:',pb_4)"
   ]
  },
  {
   "cell_type": "markdown",
   "metadata": {},
   "source": [
    "Ввывод после вторичной очистки: концентрация золота увеличилась еще на треть, конц. серебра еще уменьшилась почти в 2 раза, конц. свинца почти не изменилась."
   ]
  },
  {
   "cell_type": "markdown",
   "metadata": {},
   "source": [
    "### Сравним распределения размеров гранул"
   ]
  },
  {
   "cell_type": "markdown",
   "metadata": {},
   "source": [
    "- Сравним распределения размеров гранул сырья на обучающей и тестовой выборках.\n",
    "- Если распределения сильно отличаются друг от друга, оценка модели будет неправильной."
   ]
  },
  {
   "cell_type": "code",
   "execution_count": 33,
   "metadata": {},
   "outputs": [
    {
     "name": "stdout",
     "output_type": "stream",
     "text": [
      "Средний размер гранул до флотации в обучающей выборке: 60.23985599255732\n",
      "Средний размер гранул до флотации в тестовой выборке: 55.95275402889513\n",
      "\n",
      "Средний размер гранул после флотации в обучающей выборке: 7.322309906901314\n",
      "Средний размер гранул после флотации в тестовой выборке: 7.266339191270906\n"
     ]
    }
   ],
   "source": [
    "train_rougher_size = df_train['rougher.input.feed_size'].mean()\n",
    "\n",
    "train_primary_size = df_train['primary_cleaner.input.feed_size'].mean()\n",
    "\n",
    "test_rougher_size = df_test['rougher.input.feed_size'].mean()\n",
    "\n",
    "test_primary_size = df_test['primary_cleaner.input.feed_size'].mean()\n",
    "\n",
    "\n",
    "\n",
    "print('Средний размер гранул до флотации в обучающей выборке:',train_rougher_size)\n",
    "print('Средний размер гранул до флотации в тестовой выборке:',test_rougher_size)\n",
    "print()\n",
    "print('Средний размер гранул после флотации в обучающей выборке:',train_primary_size)\n",
    "print('Средний размер гранул после флотации в тестовой выборке:',test_primary_size)\n"
   ]
  },
  {
   "cell_type": "code",
   "execution_count": 34,
   "metadata": {},
   "outputs": [
    {
     "data": {
      "text/html": [
       "<div>\n",
       "<style scoped>\n",
       "    .dataframe tbody tr th:only-of-type {\n",
       "        vertical-align: middle;\n",
       "    }\n",
       "\n",
       "    .dataframe tbody tr th {\n",
       "        vertical-align: top;\n",
       "    }\n",
       "\n",
       "    .dataframe thead th {\n",
       "        text-align: right;\n",
       "    }\n",
       "</style>\n",
       "<table border=\"1\" class=\"dataframe\">\n",
       "  <thead>\n",
       "    <tr style=\"text-align: right;\">\n",
       "      <th></th>\n",
       "      <th>0</th>\n",
       "      <th>1</th>\n",
       "    </tr>\n",
       "  </thead>\n",
       "  <tbody>\n",
       "    <tr>\n",
       "      <td>0</td>\n",
       "      <td>9.659576</td>\n",
       "      <td>date  final.output.concen...</td>\n",
       "    </tr>\n",
       "    <tr>\n",
       "      <td>1</td>\n",
       "      <td>12.191554</td>\n",
       "      <td>date  final.output.concen...</td>\n",
       "    </tr>\n",
       "    <tr>\n",
       "      <td>2</td>\n",
       "      <td>14.249246</td>\n",
       "      <td>date  final.output.concen...</td>\n",
       "    </tr>\n",
       "    <tr>\n",
       "      <td>3</td>\n",
       "      <td>14.389224</td>\n",
       "      <td>date  final.output.concen...</td>\n",
       "    </tr>\n",
       "    <tr>\n",
       "      <td>4</td>\n",
       "      <td>14.885602</td>\n",
       "      <td>date  final.output.concen...</td>\n",
       "    </tr>\n",
       "  </tbody>\n",
       "</table>\n",
       "</div>"
      ],
      "text/plain": [
       "           0                                                  1\n",
       "0   9.659576                       date  final.output.concen...\n",
       "1  12.191554                       date  final.output.concen...\n",
       "2  14.249246                       date  final.output.concen...\n",
       "3  14.389224                       date  final.output.concen...\n",
       "4  14.885602                       date  final.output.concen..."
      ]
     },
     "execution_count": 34,
     "metadata": {},
     "output_type": "execute_result"
    }
   ],
   "source": [
    "train_rougher_feed_size=pd.DataFrame(df_train.groupby(['rougher.input.feed_size']))\n",
    "\n",
    "train_rougher_feed_size.head()"
   ]
  },
  {
   "cell_type": "code",
   "execution_count": 35,
   "metadata": {},
   "outputs": [
    {
     "data": {
      "text/plain": [
       "(13997, 2)"
      ]
     },
     "execution_count": 35,
     "metadata": {},
     "output_type": "execute_result"
    }
   ],
   "source": [
    "train_rougher_feed_size.shape"
   ]
  },
  {
   "cell_type": "code",
   "execution_count": 36,
   "metadata": {},
   "outputs": [
    {
     "data": {
      "image/png": "[encoded data removed]",
      "text/plain": [
       "<Figure size 1080x504 with 1 Axes>"
      ]
     },
     "metadata": {
      "needs_background": "light"
     },
     "output_type": "display_data"
    }
   ],
   "source": [
    "train_rougher_feed_size.plot(figsize=(15,7))\n",
    "plt.title(label='Распределения размеров гранул сырья до флотации на обучающей выборке.',fontsize=18)\n",
    "plt.xlabel(\"Время\", fontsize=14, fontweight=\"bold\")\n",
    "plt.ylabel(\"Размер гранул\", fontsize=14, fontweight=\"bold\")\n",
    "plt.show()"
   ]
  },
  {
   "cell_type": "code",
   "execution_count": 37,
   "metadata": {},
   "outputs": [
    {
     "data": {
      "text/html": [
       "<div>\n",
       "<style scoped>\n",
       "    .dataframe tbody tr th:only-of-type {\n",
       "        vertical-align: middle;\n",
       "    }\n",
       "\n",
       "    .dataframe tbody tr th {\n",
       "        vertical-align: top;\n",
       "    }\n",
       "\n",
       "    .dataframe thead th {\n",
       "        text-align: right;\n",
       "    }\n",
       "</style>\n",
       "<table border=\"1\" class=\"dataframe\">\n",
       "  <thead>\n",
       "    <tr style=\"text-align: right;\">\n",
       "      <th></th>\n",
       "      <th>0</th>\n",
       "      <th>1</th>\n",
       "    </tr>\n",
       "  </thead>\n",
       "  <tbody>\n",
       "    <tr>\n",
       "      <td>0</td>\n",
       "      <td>0.046369</td>\n",
       "      <td>date  primary_cleaner.inp...</td>\n",
       "    </tr>\n",
       "    <tr>\n",
       "      <td>1</td>\n",
       "      <td>0.049194</td>\n",
       "      <td>date  primary_cleaner.inp...</td>\n",
       "    </tr>\n",
       "    <tr>\n",
       "      <td>2</td>\n",
       "      <td>0.052019</td>\n",
       "      <td>date  primary_cleaner.inp...</td>\n",
       "    </tr>\n",
       "    <tr>\n",
       "      <td>3</td>\n",
       "      <td>0.054843</td>\n",
       "      <td>date  primary_cleaner.inp...</td>\n",
       "    </tr>\n",
       "    <tr>\n",
       "      <td>4</td>\n",
       "      <td>25.334235</td>\n",
       "      <td>date  primary_cleaner.inp...</td>\n",
       "    </tr>\n",
       "  </tbody>\n",
       "</table>\n",
       "</div>"
      ],
      "text/plain": [
       "           0                                                  1\n",
       "0   0.046369                       date  primary_cleaner.inp...\n",
       "1   0.049194                       date  primary_cleaner.inp...\n",
       "2   0.052019                       date  primary_cleaner.inp...\n",
       "3   0.054843                       date  primary_cleaner.inp...\n",
       "4  25.334235                       date  primary_cleaner.inp..."
      ]
     },
     "execution_count": 37,
     "metadata": {},
     "output_type": "execute_result"
    }
   ],
   "source": [
    "test_rougher_feed_size=pd.DataFrame(df_test.groupby(['rougher.input.feed_size']))\n",
    "\n",
    "test_rougher_feed_size.head()"
   ]
  },
  {
   "cell_type": "code",
   "execution_count": 38,
   "metadata": {},
   "outputs": [
    {
     "data": {
      "text/plain": [
       "(5289, 2)"
      ]
     },
     "execution_count": 38,
     "metadata": {},
     "output_type": "execute_result"
    }
   ],
   "source": [
    "test_rougher_feed_size.shape"
   ]
  },
  {
   "cell_type": "code",
   "execution_count": 39,
   "metadata": {},
   "outputs": [
    {
     "data": {
      "image/png": "[encoded data removed]",
      "text/plain": [
       "<Figure size 1080x504 with 1 Axes>"
      ]
     },
     "metadata": {
      "needs_background": "light"
     },
     "output_type": "display_data"
    }
   ],
   "source": [
    "test_rougher_feed_size.plot(figsize=(15,7))\n",
    "plt.title(label='Распределения размеров гранул сырья до флотации на тестовой выборке.',fontsize=18)\n",
    "plt.xlabel(\"Время\", fontsize=14, fontweight=\"bold\")\n",
    "plt.ylabel(\"Размер гранул\", fontsize=14, fontweight=\"bold\")\n",
    "plt.show()"
   ]
  },
  {
   "cell_type": "code",
   "execution_count": 40,
   "metadata": {},
   "outputs": [
    {
     "data": {
      "text/html": [
       "<div>\n",
       "<style scoped>\n",
       "    .dataframe tbody tr th:only-of-type {\n",
       "        vertical-align: middle;\n",
       "    }\n",
       "\n",
       "    .dataframe tbody tr th {\n",
       "        vertical-align: top;\n",
       "    }\n",
       "\n",
       "    .dataframe thead th {\n",
       "        text-align: right;\n",
       "    }\n",
       "</style>\n",
       "<table border=\"1\" class=\"dataframe\">\n",
       "  <thead>\n",
       "    <tr style=\"text-align: right;\">\n",
       "      <th></th>\n",
       "      <th>0</th>\n",
       "      <th>1</th>\n",
       "    </tr>\n",
       "  </thead>\n",
       "  <tbody>\n",
       "    <tr>\n",
       "      <td>0</td>\n",
       "      <td>1.080000</td>\n",
       "      <td>date  final.output.conce...</td>\n",
       "    </tr>\n",
       "    <tr>\n",
       "      <td>1</td>\n",
       "      <td>1.080007</td>\n",
       "      <td>date  final.output.conce...</td>\n",
       "    </tr>\n",
       "    <tr>\n",
       "      <td>2</td>\n",
       "      <td>4.970000</td>\n",
       "      <td>date  final.output.concen...</td>\n",
       "    </tr>\n",
       "    <tr>\n",
       "      <td>3</td>\n",
       "      <td>5.310000</td>\n",
       "      <td>date  final.output.concen...</td>\n",
       "    </tr>\n",
       "    <tr>\n",
       "      <td>4</td>\n",
       "      <td>5.410000</td>\n",
       "      <td>date  final.output.concen...</td>\n",
       "    </tr>\n",
       "  </tbody>\n",
       "</table>\n",
       "</div>"
      ],
      "text/plain": [
       "          0                                                  1\n",
       "0  1.080000                        date  final.output.conce...\n",
       "1  1.080007                        date  final.output.conce...\n",
       "2  4.970000                       date  final.output.concen...\n",
       "3  5.310000                       date  final.output.concen...\n",
       "4  5.410000                       date  final.output.concen..."
      ]
     },
     "execution_count": 40,
     "metadata": {},
     "output_type": "execute_result"
    }
   ],
   "source": [
    "train_primary_cleaner_feed_size=pd.DataFrame(df_train.groupby(['primary_cleaner.input.feed_size']))\n",
    "\n",
    "train_primary_cleaner_feed_size.head()"
   ]
  },
  {
   "cell_type": "code",
   "execution_count": 41,
   "metadata": {},
   "outputs": [
    {
     "data": {
      "text/plain": [
       "(3732, 2)"
      ]
     },
     "execution_count": 41,
     "metadata": {},
     "output_type": "execute_result"
    }
   ],
   "source": [
    "train_primary_cleaner_feed_size.shape"
   ]
  },
  {
   "cell_type": "code",
   "execution_count": 42,
   "metadata": {},
   "outputs": [
    {
     "data": {
      "image/png": "[encoded data removed]",
      "text/plain": [
       "<Figure size 1080x504 with 1 Axes>"
      ]
     },
     "metadata": {
      "needs_background": "light"
     },
     "output_type": "display_data"
    }
   ],
   "source": [
    "train_rougher_feed_size.plot(figsize=(15,7))\n",
    "plt.title(label='Распределения размеров гранул сырья после флотации на обучающей выборке.',fontsize=18)\n",
    "plt.xlabel(\"Время\", fontsize=14, fontweight=\"bold\")\n",
    "plt.ylabel(\"Размер гранул\", fontsize=14, fontweight=\"bold\")\n",
    "plt.show()"
   ]
  },
  {
   "cell_type": "code",
   "execution_count": 43,
   "metadata": {},
   "outputs": [
    {
     "data": {
      "text/html": [
       "<div>\n",
       "<style scoped>\n",
       "    .dataframe tbody tr th:only-of-type {\n",
       "        vertical-align: middle;\n",
       "    }\n",
       "\n",
       "    .dataframe tbody tr th {\n",
       "        vertical-align: top;\n",
       "    }\n",
       "\n",
       "    .dataframe thead th {\n",
       "        text-align: right;\n",
       "    }\n",
       "</style>\n",
       "<table border=\"1\" class=\"dataframe\">\n",
       "  <thead>\n",
       "    <tr style=\"text-align: right;\">\n",
       "      <th></th>\n",
       "      <th>0</th>\n",
       "      <th>1</th>\n",
       "    </tr>\n",
       "  </thead>\n",
       "  <tbody>\n",
       "    <tr>\n",
       "      <td>0</td>\n",
       "      <td>5.650000</td>\n",
       "      <td>date  primary_cleaner.inp...</td>\n",
       "    </tr>\n",
       "    <tr>\n",
       "      <td>1</td>\n",
       "      <td>5.650001</td>\n",
       "      <td>date  primary_cleaner.inp...</td>\n",
       "    </tr>\n",
       "    <tr>\n",
       "      <td>2</td>\n",
       "      <td>5.750000</td>\n",
       "      <td>date  primary_cleaner.inp...</td>\n",
       "    </tr>\n",
       "    <tr>\n",
       "      <td>3</td>\n",
       "      <td>5.750000</td>\n",
       "      <td>date  primary_cleaner.inp...</td>\n",
       "    </tr>\n",
       "    <tr>\n",
       "      <td>4</td>\n",
       "      <td>5.800000</td>\n",
       "      <td>date  primary_cleaner.inp...</td>\n",
       "    </tr>\n",
       "  </tbody>\n",
       "</table>\n",
       "</div>"
      ],
      "text/plain": [
       "          0                                                  1\n",
       "0  5.650000                       date  primary_cleaner.inp...\n",
       "1  5.650001                       date  primary_cleaner.inp...\n",
       "2  5.750000                       date  primary_cleaner.inp...\n",
       "3  5.750000                       date  primary_cleaner.inp...\n",
       "4  5.800000                       date  primary_cleaner.inp..."
      ]
     },
     "execution_count": 43,
     "metadata": {},
     "output_type": "execute_result"
    }
   ],
   "source": [
    "test_primary_cleaner_feed_size=pd.DataFrame(df_test.groupby(['primary_cleaner.input.feed_size']))\n",
    "\n",
    "test_primary_cleaner_feed_size.head()"
   ]
  },
  {
   "cell_type": "code",
   "execution_count": 44,
   "metadata": {},
   "outputs": [
    {
     "data": {
      "text/plain": [
       "(1537, 2)"
      ]
     },
     "execution_count": 44,
     "metadata": {},
     "output_type": "execute_result"
    }
   ],
   "source": [
    "test_primary_cleaner_feed_size.shape"
   ]
  },
  {
   "cell_type": "code",
   "execution_count": 45,
   "metadata": {},
   "outputs": [
    {
     "data": {
      "image/png": "[encoded data removed]",
      "text/plain": [
       "<Figure size 1080x504 with 1 Axes>"
      ]
     },
     "metadata": {
      "needs_background": "light"
     },
     "output_type": "display_data"
    }
   ],
   "source": [
    "test_rougher_feed_size.plot(figsize=(15,7))\n",
    "plt.title(label='Распределения размеров гранул сырья после флотации на тестовой выборке.',fontsize=18)\n",
    "plt.xlabel(\"Время\", fontsize=14, fontweight=\"bold\")\n",
    "plt.ylabel(\"Размер гранул\", fontsize=14, fontweight=\"bold\")\n",
    "plt.show()"
   ]
  },
  {
   "cell_type": "markdown",
   "metadata": {},
   "source": [
    "Как мы видим на графиках: распределения размеров гранул сырья на обучающей и тестовой выборках не сильно отличаются друг от друга."
   ]
  },
  {
   "cell_type": "markdown",
   "metadata": {},
   "source": [
    "### Исследуем суммарную концентрацию всех веществ"
   ]
  },
  {
   "cell_type": "markdown",
   "metadata": {},
   "source": [
    "- Исследуем суммарную концентрацию всех веществ на разных стадиях: в сырье, в черновом и финальном концентратах.\n",
    "- Заметны ли аномальные значения в суммарном распределении или нет?\n",
    "- Если они есть, стоит ли их удалять из обеих выборок?\n",
    "- Опишем выводы и удалим аномалии."
   ]
  },
  {
   "cell_type": "markdown",
   "metadata": {},
   "source": [
    "Концентрация в сырье\n",
    "- rougher.input.feed_ag                                 \n",
    "- rougher.input.feed_pb                                                              \n",
    "- rougher.input.feed_sol                                \n",
    "- rougher.input.feed_au "
   ]
  },
  {
   "cell_type": "markdown",
   "metadata": {},
   "source": [
    "Концентрация в черновом концентрате\n",
    "- rougher.output.concentrate_ag                       \n",
    "- rougher.output.concentrate_pb                         \n",
    "- rougher.output.concentrate_sol                        \n",
    "- rougher.output.concentrate_au "
   ]
  },
  {
   "cell_type": "markdown",
   "metadata": {},
   "source": [
    "Концентр ция в финальном концентрате\n",
    "- final.output.concentrate_ag                          \n",
    "- final.output.concentrate_pb                           \n",
    "- final.output.concentrate_sol                          \n",
    "- final.output.concentrate_au"
   ]
  },
  {
   "cell_type": "code",
   "execution_count": 46,
   "metadata": {},
   "outputs": [],
   "source": [
    "\n",
    "ag_1 = ag_rougher_input_concentrate_mean = df_full['rougher.input.feed_ag'].mean()\n",
    "\n",
    "pb_1 = pb_rougher_input_concentrate_mean = df_full['rougher.input.feed_pb'].mean()\n",
    "\n",
    "so_1 = sol_rougher_input_concentrate_mean = df_full['rougher.input.feed_sol'].mean()\n",
    "\n",
    "au_1 = au_rougher_input_concentrate_mean = df_full['rougher.input.feed_au'].mean()\n"
   ]
  },
  {
   "cell_type": "code",
   "execution_count": 47,
   "metadata": {},
   "outputs": [],
   "source": [
    "ag_2 = ag_rougher_output_concentrate_mean = df_full['rougher.output.concentrate_ag'].mean()\n",
    "\n",
    "pb_2 = pb_rougher_output_concentrate_mean = df_full['rougher.output.concentrate_pb'].mean()\n",
    "\n",
    "so_2 = sol_rougher_output_concentrate_mean = df_full['rougher.output.concentrate_sol'].mean()\n",
    "\n",
    "au_2 = au_rougher_output_concentrate_mean = df_full['rougher.output.concentrate_au'].mean()\n"
   ]
  },
  {
   "cell_type": "code",
   "execution_count": 48,
   "metadata": {},
   "outputs": [],
   "source": [
    "ag_3 = ag_final_output_concentrate_mean = df_full['final.output.concentrate_ag'].mean()\n",
    "\n",
    "pb_3 = pb_final_output_concentrate_mean = df_full['final.output.concentrate_pb'].mean()\n",
    "\n",
    "so_3 = sol_final_output_concentrate_mean = df_full['final.output.concentrate_sol'].mean()\n",
    "\n",
    "au_3 = au_final_output_concentrate_mean = df_full['final.output.concentrate_au'].mean()"
   ]
  },
  {
   "cell_type": "code",
   "execution_count": 49,
   "metadata": {},
   "outputs": [
    {
     "data": {
      "text/html": [
       "<div>\n",
       "<style scoped>\n",
       "    .dataframe tbody tr th:only-of-type {\n",
       "        vertical-align: middle;\n",
       "    }\n",
       "\n",
       "    .dataframe tbody tr th {\n",
       "        vertical-align: top;\n",
       "    }\n",
       "\n",
       "    .dataframe thead th {\n",
       "        text-align: right;\n",
       "    }\n",
       "</style>\n",
       "<table border=\"1\" class=\"dataframe\">\n",
       "  <thead>\n",
       "    <tr style=\"text-align: right;\">\n",
       "      <th></th>\n",
       "      <th>substance</th>\n",
       "      <th>mean_concentrate_rougher_input</th>\n",
       "      <th>mean_concentrate_rougher_output</th>\n",
       "      <th>mean_concentrate_final_output</th>\n",
       "    </tr>\n",
       "  </thead>\n",
       "  <tbody>\n",
       "    <tr>\n",
       "      <td>0</td>\n",
       "      <td>Ag</td>\n",
       "      <td>8.794927</td>\n",
       "      <td>11.994759</td>\n",
       "      <td>5.168387</td>\n",
       "    </tr>\n",
       "    <tr>\n",
       "      <td>1</td>\n",
       "      <td>Pb</td>\n",
       "      <td>3.585096</td>\n",
       "      <td>7.606272</td>\n",
       "      <td>9.978821</td>\n",
       "    </tr>\n",
       "    <tr>\n",
       "      <td>2</td>\n",
       "      <td>Sol</td>\n",
       "      <td>36.674669</td>\n",
       "      <td>28.797834</td>\n",
       "      <td>9.429902</td>\n",
       "    </tr>\n",
       "    <tr>\n",
       "      <td>3</td>\n",
       "      <td>Au</td>\n",
       "      <td>8.266097</td>\n",
       "      <td>19.772000</td>\n",
       "      <td>44.076513</td>\n",
       "    </tr>\n",
       "  </tbody>\n",
       "</table>\n",
       "</div>"
      ],
      "text/plain": [
       "  substance  mean_concentrate_rougher_input  mean_concentrate_rougher_output  \\\n",
       "0        Ag                        8.794927                        11.994759   \n",
       "1        Pb                        3.585096                         7.606272   \n",
       "2       Sol                       36.674669                        28.797834   \n",
       "3        Au                        8.266097                        19.772000   \n",
       "\n",
       "   mean_concentrate_final_output  \n",
       "0                       5.168387  \n",
       "1                       9.978821  \n",
       "2                       9.429902  \n",
       "3                      44.076513  "
      ]
     },
     "execution_count": 49,
     "metadata": {},
     "output_type": "execute_result"
    }
   ],
   "source": [
    "# создадим таблицу со средними значениями различных веществ на разных этапах\n",
    "\n",
    "concentrate_mean = pd.DataFrame({\n",
    "    'substance':['Ag','Pb','Sol','Au'],\n",
    "    'mean_concentrate_rougher_input':[ag_1,pb_1,so_1,au_1],\n",
    "    'mean_concentrate_rougher_output':[ag_2,pb_2,so_2,au_2],\n",
    "    'mean_concentrate_final_output':[ag_3,pb_3,so_3,au_3]}\n",
    "    )\n",
    "\n",
    "\n",
    "concentrate_mean"
   ]
  },
  {
   "cell_type": "markdown",
   "metadata": {},
   "source": [
    "Исследуем суммарную концентрацию в сырье"
   ]
  },
  {
   "cell_type": "code",
   "execution_count": 50,
   "metadata": {},
   "outputs": [
    {
     "data": {
      "text/html": [
       "<div>\n",
       "<style scoped>\n",
       "    .dataframe tbody tr th:only-of-type {\n",
       "        vertical-align: middle;\n",
       "    }\n",
       "\n",
       "    .dataframe tbody tr th {\n",
       "        vertical-align: top;\n",
       "    }\n",
       "\n",
       "    .dataframe thead th {\n",
       "        text-align: right;\n",
       "    }\n",
       "</style>\n",
       "<table border=\"1\" class=\"dataframe\">\n",
       "  <thead>\n",
       "    <tr style=\"text-align: right;\">\n",
       "      <th></th>\n",
       "      <th>sum_concentrate</th>\n",
       "    </tr>\n",
       "  </thead>\n",
       "  <tbody>\n",
       "    <tr>\n",
       "      <td>0</td>\n",
       "      <td>51.680034</td>\n",
       "    </tr>\n",
       "    <tr>\n",
       "      <td>1</td>\n",
       "      <td>50.659114</td>\n",
       "    </tr>\n",
       "    <tr>\n",
       "      <td>2</td>\n",
       "      <td>50.609929</td>\n",
       "    </tr>\n",
       "    <tr>\n",
       "      <td>3</td>\n",
       "      <td>51.061546</td>\n",
       "    </tr>\n",
       "    <tr>\n",
       "      <td>4</td>\n",
       "      <td>47.859163</td>\n",
       "    </tr>\n",
       "  </tbody>\n",
       "</table>\n",
       "</div>"
      ],
      "text/plain": [
       "   sum_concentrate\n",
       "0        51.680034\n",
       "1        50.659114\n",
       "2        50.609929\n",
       "3        51.061546\n",
       "4        47.859163"
      ]
     },
     "execution_count": 50,
     "metadata": {},
     "output_type": "execute_result"
    }
   ],
   "source": [
    "# создадим таблицу со значениями сумм всех веществ в сырье\n",
    "\n",
    "\n",
    "concentrate_rougher_input = pd.DataFrame()\n",
    "concentrate_rougher_input['sum_concentrate'] = df_full['rougher.input.feed_ag'] +df_full['rougher.input.feed_pb']+df_full['rougher.input.feed_sol']+df_full['rougher.input.feed_au']\n",
    "concentrate_rougher_input.head()"
   ]
  },
  {
   "cell_type": "code",
   "execution_count": 51,
   "metadata": {},
   "outputs": [
    {
     "data": {
      "text/plain": [
       "(19439, 1)"
      ]
     },
     "execution_count": 51,
     "metadata": {},
     "output_type": "execute_result"
    }
   ],
   "source": [
    "concentrate_rougher_input.shape"
   ]
  },
  {
   "cell_type": "code",
   "execution_count": 52,
   "metadata": {},
   "outputs": [
    {
     "data": {
      "image/png": "[encoded data removed]",
      "text/plain": [
       "<Figure size 1080x504 with 1 Axes>"
      ]
     },
     "metadata": {
      "needs_background": "light"
     },
     "output_type": "display_data"
    }
   ],
   "source": [
    "# построим распределение сумм всех веществ в сырье\n",
    "\n",
    "\n",
    "concentrate_rougher_input.plot(figsize=(15,7))\n",
    "plt.title(label='Распределение суммы всех веществ в сырье ',fontsize=18)\n",
    "plt.xlabel(\"Показания\", fontsize=14, fontweight=\"bold\")\n",
    "plt.ylabel(\"Сумма веществ\", fontsize=14, fontweight=\"bold\")\n",
    "plt.show()"
   ]
  },
  {
   "cell_type": "code",
   "execution_count": 53,
   "metadata": {},
   "outputs": [
    {
     "data": {
      "image/png": "[encoded data removed]",
      "text/plain": [
       "<Figure size 432x288 with 1 Axes>"
      ]
     },
     "metadata": {
      "needs_background": "light"
     },
     "output_type": "display_data"
    }
   ],
   "source": [
    "# построим график «ящик с усами» для выявления аномалий\n",
    "\n",
    "sns.boxplot(data=concentrate_rougher_input) \n",
    "sns.set(rc={'figure.figsize':(5,20)})\n",
    "plt.title(label='Cуммы всех веществ в сырье',fontsize=18)\n",
    "plt.xlabel(\"Cуммы всех веществ\", fontsize=14, fontweight=\"bold\")\n",
    "plt.ylabel(\"Наблюдения\", fontsize=14, fontweight=\"bold\")\n",
    "plt.show()"
   ]
  },
  {
   "cell_type": "markdown",
   "metadata": {},
   "source": [
    "Исследуем суммарную концентрацию в черновом концентрате"
   ]
  },
  {
   "cell_type": "code",
   "execution_count": 54,
   "metadata": {},
   "outputs": [
    {
     "data": {
      "text/html": [
       "<div>\n",
       "<style scoped>\n",
       "    .dataframe tbody tr th:only-of-type {\n",
       "        vertical-align: middle;\n",
       "    }\n",
       "\n",
       "    .dataframe tbody tr th {\n",
       "        vertical-align: top;\n",
       "    }\n",
       "\n",
       "    .dataframe thead th {\n",
       "        text-align: right;\n",
       "    }\n",
       "</style>\n",
       "<table border=\"1\" class=\"dataframe\">\n",
       "  <thead>\n",
       "    <tr style=\"text-align: right;\">\n",
       "      <th></th>\n",
       "      <th>sum_concentrate</th>\n",
       "    </tr>\n",
       "  </thead>\n",
       "  <tbody>\n",
       "    <tr>\n",
       "      <td>0</td>\n",
       "      <td>66.424950</td>\n",
       "    </tr>\n",
       "    <tr>\n",
       "      <td>1</td>\n",
       "      <td>67.012710</td>\n",
       "    </tr>\n",
       "    <tr>\n",
       "      <td>2</td>\n",
       "      <td>66.103793</td>\n",
       "    </tr>\n",
       "    <tr>\n",
       "      <td>3</td>\n",
       "      <td>65.752751</td>\n",
       "    </tr>\n",
       "    <tr>\n",
       "      <td>4</td>\n",
       "      <td>65.908382</td>\n",
       "    </tr>\n",
       "  </tbody>\n",
       "</table>\n",
       "</div>"
      ],
      "text/plain": [
       "   sum_concentrate\n",
       "0        66.424950\n",
       "1        67.012710\n",
       "2        66.103793\n",
       "3        65.752751\n",
       "4        65.908382"
      ]
     },
     "execution_count": 54,
     "metadata": {},
     "output_type": "execute_result"
    }
   ],
   "source": [
    "# создадим таблицу со значениями сумм всех веществ в черновом концентрате\n",
    "\n",
    "\n",
    "concentrate_rougher_output = pd.DataFrame()\n",
    "concentrate_rougher_output['sum_concentrate'] = df_full['rougher.output.concentrate_ag'] +df_full['rougher.output.concentrate_pb']+df_full['rougher.output.concentrate_sol']+df_full['rougher.output.concentrate_au']\n",
    "concentrate_rougher_output.head()"
   ]
  },
  {
   "cell_type": "code",
   "execution_count": 55,
   "metadata": {},
   "outputs": [
    {
     "data": {
      "text/plain": [
       "(19439, 1)"
      ]
     },
     "execution_count": 55,
     "metadata": {},
     "output_type": "execute_result"
    }
   ],
   "source": [
    "concentrate_rougher_output.shape"
   ]
  },
  {
   "cell_type": "code",
   "execution_count": 56,
   "metadata": {},
   "outputs": [
    {
     "data": {
      "image/png": "[encoded data removed]",
      "text/plain": [
       "<Figure size 1080x504 with 1 Axes>"
      ]
     },
     "metadata": {},
     "output_type": "display_data"
    }
   ],
   "source": [
    "# построим распределение сумм всех веществ в черновом концентрате\n",
    "\n",
    "\n",
    "concentrate_rougher_output.plot(figsize=(15,7))\n",
    "plt.title(label='Распределение суммы всех веществ в черновом концентрате ',fontsize=18)\n",
    "plt.xlabel(\"Показания\", fontsize=14, fontweight=\"bold\")\n",
    "plt.ylabel(\"Сумма веществ\", fontsize=14, fontweight=\"bold\")\n",
    "plt.show()"
   ]
  },
  {
   "cell_type": "code",
   "execution_count": 57,
   "metadata": {},
   "outputs": [
    {
     "data": {
      "image/png": "[encoded data removed]",
      "text/plain": [
       "<Figure size 360x1440 with 1 Axes>"
      ]
     },
     "metadata": {},
     "output_type": "display_data"
    }
   ],
   "source": [
    "# построим график «ящик с усами» для выявления аномалий\n",
    "\n",
    "sns.boxplot(data=concentrate_rougher_output) \n",
    "sns.set(rc={'figure.figsize':(5,20)})\n",
    "plt.title(label='Cуммы всех веществ в черновом концентрате',fontsize=18)\n",
    "plt.xlabel(\"Cуммы всех веществ\", fontsize=14, fontweight=\"bold\")\n",
    "plt.ylabel(\"Наблюдения\", fontsize=14, fontweight=\"bold\")\n",
    "plt.show()"
   ]
  },
  {
   "cell_type": "markdown",
   "metadata": {},
   "source": [
    "Исследуем суммарную концентрацию в финальном концентрате"
   ]
  },
  {
   "cell_type": "code",
   "execution_count": 58,
   "metadata": {},
   "outputs": [
    {
     "data": {
      "text/html": [
       "<div>\n",
       "<style scoped>\n",
       "    .dataframe tbody tr th:only-of-type {\n",
       "        vertical-align: middle;\n",
       "    }\n",
       "\n",
       "    .dataframe tbody tr th {\n",
       "        vertical-align: top;\n",
       "    }\n",
       "\n",
       "    .dataframe thead th {\n",
       "        text-align: right;\n",
       "    }\n",
       "</style>\n",
       "<table border=\"1\" class=\"dataframe\">\n",
       "  <thead>\n",
       "    <tr style=\"text-align: right;\">\n",
       "      <th></th>\n",
       "      <th>sum_concentrate</th>\n",
       "    </tr>\n",
       "  </thead>\n",
       "  <tbody>\n",
       "    <tr>\n",
       "      <td>0</td>\n",
       "      <td>63.644396</td>\n",
       "    </tr>\n",
       "    <tr>\n",
       "      <td>1</td>\n",
       "      <td>63.957723</td>\n",
       "    </tr>\n",
       "    <tr>\n",
       "      <td>2</td>\n",
       "      <td>64.311180</td>\n",
       "    </tr>\n",
       "    <tr>\n",
       "      <td>3</td>\n",
       "      <td>63.573449</td>\n",
       "    </tr>\n",
       "    <tr>\n",
       "      <td>4</td>\n",
       "      <td>64.004667</td>\n",
       "    </tr>\n",
       "  </tbody>\n",
       "</table>\n",
       "</div>"
      ],
      "text/plain": [
       "   sum_concentrate\n",
       "0        63.644396\n",
       "1        63.957723\n",
       "2        64.311180\n",
       "3        63.573449\n",
       "4        64.004667"
      ]
     },
     "execution_count": 58,
     "metadata": {},
     "output_type": "execute_result"
    }
   ],
   "source": [
    "# создадим таблицу со значениями сумм всех веществ в финальном концентрате\n",
    "\n",
    "\n",
    "concentrate_final_output = pd.DataFrame()\n",
    "concentrate_final_output['sum_concentrate'] = df_full['final.output.concentrate_ag'] +df_full['final.output.concentrate_pb']+df_full['final.output.concentrate_sol']+df_full['final.output.concentrate_au']\n",
    "concentrate_final_output.head()"
   ]
  },
  {
   "cell_type": "code",
   "execution_count": 59,
   "metadata": {},
   "outputs": [
    {
     "data": {
      "text/plain": [
       "(19439, 1)"
      ]
     },
     "execution_count": 59,
     "metadata": {},
     "output_type": "execute_result"
    }
   ],
   "source": [
    "concentrate_final_output.shape"
   ]
  },
  {
   "cell_type": "code",
   "execution_count": 60,
   "metadata": {},
   "outputs": [
    {
     "data": {
      "image/png": "[encoded data removed]",
      "text/plain": [
       "<Figure size 1080x504 with 1 Axes>"
      ]
     },
     "metadata": {},
     "output_type": "display_data"
    }
   ],
   "source": [
    "# построим распределение сумм всех веществ в финальном концетрате\n",
    "\n",
    "\n",
    "concentrate_final_output.plot(figsize=(15,7))\n",
    "plt.title(label='Распределение суммы всех веществ в финальном концентрате ',fontsize=18)\n",
    "plt.xlabel(\"Показания\", fontsize=14, fontweight=\"bold\")\n",
    "plt.ylabel(\"Сумма веществ\", fontsize=14, fontweight=\"bold\")\n",
    "plt.show()"
   ]
  },
  {
   "cell_type": "code",
   "execution_count": 61,
   "metadata": {},
   "outputs": [
    {
     "data": {
      "image/png": "[encoded data removed]",
      "text/plain": [
       "<Figure size 360x1440 with 1 Axes>"
      ]
     },
     "metadata": {},
     "output_type": "display_data"
    }
   ],
   "source": [
    "# построим график «ящик с усами» для выявления аномалий\n",
    "\n",
    "sns.boxplot(data=concentrate_final_output) \n",
    "sns.set(rc={'figure.figsize':(5,20)})\n",
    "plt.title(label='Cуммы всех веществ в финальном концентрате',fontsize=18)\n",
    "plt.xlabel(\"Cуммы всех веществ\", fontsize=14, fontweight=\"bold\")\n",
    "plt.ylabel(\"Наблюдения\", fontsize=14, fontweight=\"bold\")\n",
    "plt.show()"
   ]
  },
  {
   "cell_type": "markdown",
   "metadata": {},
   "source": [
    "Заметны ли аномальные значения в суммарном распределении или нет?\n",
    "\n",
    "Определенно можем сделать вывод, что аномальные значения видны на всех этапах в суммарном распределении."
   ]
  },
  {
   "cell_type": "markdown",
   "metadata": {},
   "source": [
    "Вывод: аномальные значения однозначно следует удалить из обоих выборок."
   ]
  },
  {
   "cell_type": "markdown",
   "metadata": {},
   "source": [
    "Примем за аномальные значения ниже 40 в сырье, ниже 50 в черновом концентрате, ниже 60 в финальном концентрате."
   ]
  },
  {
   "cell_type": "code",
   "execution_count": 62,
   "metadata": {},
   "outputs": [
    {
     "data": {
      "text/html": [
       "<div>\n",
       "<style scoped>\n",
       "    .dataframe tbody tr th:only-of-type {\n",
       "        vertical-align: middle;\n",
       "    }\n",
       "\n",
       "    .dataframe tbody tr th {\n",
       "        vertical-align: top;\n",
       "    }\n",
       "\n",
       "    .dataframe thead th {\n",
       "        text-align: right;\n",
       "    }\n",
       "</style>\n",
       "<table border=\"1\" class=\"dataframe\">\n",
       "  <thead>\n",
       "    <tr style=\"text-align: right;\">\n",
       "      <th></th>\n",
       "      <th>date</th>\n",
       "      <th>final.output.concentrate_ag</th>\n",
       "      <th>final.output.concentrate_pb</th>\n",
       "      <th>final.output.concentrate_sol</th>\n",
       "      <th>final.output.concentrate_au</th>\n",
       "      <th>final.output.recovery</th>\n",
       "      <th>final.output.tail_ag</th>\n",
       "      <th>final.output.tail_pb</th>\n",
       "      <th>final.output.tail_sol</th>\n",
       "      <th>final.output.tail_au</th>\n",
       "      <th>...</th>\n",
       "      <th>secondary_cleaner.state.floatbank5_a_air</th>\n",
       "      <th>secondary_cleaner.state.floatbank5_a_level</th>\n",
       "      <th>secondary_cleaner.state.floatbank5_b_air</th>\n",
       "      <th>secondary_cleaner.state.floatbank5_b_level</th>\n",
       "      <th>secondary_cleaner.state.floatbank6_a_air</th>\n",
       "      <th>secondary_cleaner.state.floatbank6_a_level</th>\n",
       "      <th>recovery_calc</th>\n",
       "      <th>concentrate_1</th>\n",
       "      <th>concentrate_2</th>\n",
       "      <th>concentrate_3</th>\n",
       "    </tr>\n",
       "  </thead>\n",
       "  <tbody>\n",
       "    <tr>\n",
       "      <td>0</td>\n",
       "      <td>2016-01-15 00:00:00</td>\n",
       "      <td>6.055403</td>\n",
       "      <td>9.889648</td>\n",
       "      <td>5.507324</td>\n",
       "      <td>42.192020</td>\n",
       "      <td>70.541216</td>\n",
       "      <td>10.411962</td>\n",
       "      <td>0.895447</td>\n",
       "      <td>16.904297</td>\n",
       "      <td>2.143149</td>\n",
       "      <td>...</td>\n",
       "      <td>9.925633</td>\n",
       "      <td>-498.310211</td>\n",
       "      <td>8.079666</td>\n",
       "      <td>-500.470978</td>\n",
       "      <td>14.151341</td>\n",
       "      <td>-605.841980</td>\n",
       "      <td>87.107763</td>\n",
       "      <td>51.680034</td>\n",
       "      <td>66.424950</td>\n",
       "      <td>63.644396</td>\n",
       "    </tr>\n",
       "    <tr>\n",
       "      <td>1</td>\n",
       "      <td>2016-01-15 01:00:00</td>\n",
       "      <td>6.029369</td>\n",
       "      <td>9.968944</td>\n",
       "      <td>5.257781</td>\n",
       "      <td>42.701629</td>\n",
       "      <td>69.266198</td>\n",
       "      <td>10.462676</td>\n",
       "      <td>0.927452</td>\n",
       "      <td>16.634514</td>\n",
       "      <td>2.224930</td>\n",
       "      <td>...</td>\n",
       "      <td>10.039245</td>\n",
       "      <td>-500.169983</td>\n",
       "      <td>7.984757</td>\n",
       "      <td>-500.582168</td>\n",
       "      <td>13.998353</td>\n",
       "      <td>-599.787184</td>\n",
       "      <td>86.843261</td>\n",
       "      <td>50.659114</td>\n",
       "      <td>67.012710</td>\n",
       "      <td>63.957723</td>\n",
       "    </tr>\n",
       "    <tr>\n",
       "      <td>2</td>\n",
       "      <td>2016-01-15 02:00:00</td>\n",
       "      <td>6.055926</td>\n",
       "      <td>10.213995</td>\n",
       "      <td>5.383759</td>\n",
       "      <td>42.657501</td>\n",
       "      <td>68.116445</td>\n",
       "      <td>10.507046</td>\n",
       "      <td>0.953716</td>\n",
       "      <td>16.208849</td>\n",
       "      <td>2.257889</td>\n",
       "      <td>...</td>\n",
       "      <td>10.070913</td>\n",
       "      <td>-500.129135</td>\n",
       "      <td>8.013877</td>\n",
       "      <td>-500.517572</td>\n",
       "      <td>14.028663</td>\n",
       "      <td>-601.427363</td>\n",
       "      <td>86.842308</td>\n",
       "      <td>50.609929</td>\n",
       "      <td>66.103793</td>\n",
       "      <td>64.311180</td>\n",
       "    </tr>\n",
       "    <tr>\n",
       "      <td>3</td>\n",
       "      <td>2016-01-15 03:00:00</td>\n",
       "      <td>6.047977</td>\n",
       "      <td>9.977019</td>\n",
       "      <td>4.858634</td>\n",
       "      <td>42.689819</td>\n",
       "      <td>68.347543</td>\n",
       "      <td>10.422762</td>\n",
       "      <td>0.883763</td>\n",
       "      <td>16.532835</td>\n",
       "      <td>2.146849</td>\n",
       "      <td>...</td>\n",
       "      <td>9.970366</td>\n",
       "      <td>-499.201640</td>\n",
       "      <td>7.977324</td>\n",
       "      <td>-500.255908</td>\n",
       "      <td>14.005551</td>\n",
       "      <td>-599.996129</td>\n",
       "      <td>87.226430</td>\n",
       "      <td>51.061546</td>\n",
       "      <td>65.752751</td>\n",
       "      <td>63.573449</td>\n",
       "    </tr>\n",
       "    <tr>\n",
       "      <td>4</td>\n",
       "      <td>2016-01-15 04:00:00</td>\n",
       "      <td>6.148599</td>\n",
       "      <td>10.142511</td>\n",
       "      <td>4.939416</td>\n",
       "      <td>42.774141</td>\n",
       "      <td>66.927016</td>\n",
       "      <td>10.360302</td>\n",
       "      <td>0.792826</td>\n",
       "      <td>16.525686</td>\n",
       "      <td>2.055292</td>\n",
       "      <td>...</td>\n",
       "      <td>9.925709</td>\n",
       "      <td>-501.686727</td>\n",
       "      <td>7.894242</td>\n",
       "      <td>-500.356035</td>\n",
       "      <td>13.996647</td>\n",
       "      <td>-601.496691</td>\n",
       "      <td>86.688794</td>\n",
       "      <td>47.859163</td>\n",
       "      <td>65.908382</td>\n",
       "      <td>64.004667</td>\n",
       "    </tr>\n",
       "  </tbody>\n",
       "</table>\n",
       "<p>5 rows × 91 columns</p>\n",
       "</div>"
      ],
      "text/plain": [
       "                  date  final.output.concentrate_ag  \\\n",
       "0  2016-01-15 00:00:00                     6.055403   \n",
       "1  2016-01-15 01:00:00                     6.029369   \n",
       "2  2016-01-15 02:00:00                     6.055926   \n",
       "3  2016-01-15 03:00:00                     6.047977   \n",
       "4  2016-01-15 04:00:00                     6.148599   \n",
       "\n",
       "   final.output.concentrate_pb  final.output.concentrate_sol  \\\n",
       "0                     9.889648                      5.507324   \n",
       "1                     9.968944                      5.257781   \n",
       "2                    10.213995                      5.383759   \n",
       "3                     9.977019                      4.858634   \n",
       "4                    10.142511                      4.939416   \n",
       "\n",
       "   final.output.concentrate_au  final.output.recovery  final.output.tail_ag  \\\n",
       "0                    42.192020              70.541216             10.411962   \n",
       "1                    42.701629              69.266198             10.462676   \n",
       "2                    42.657501              68.116445             10.507046   \n",
       "3                    42.689819              68.347543             10.422762   \n",
       "4                    42.774141              66.927016             10.360302   \n",
       "\n",
       "   final.output.tail_pb  final.output.tail_sol  final.output.tail_au  ...  \\\n",
       "0              0.895447              16.904297              2.143149  ...   \n",
       "1              0.927452              16.634514              2.224930  ...   \n",
       "2              0.953716              16.208849              2.257889  ...   \n",
       "3              0.883763              16.532835              2.146849  ...   \n",
       "4              0.792826              16.525686              2.055292  ...   \n",
       "\n",
       "   secondary_cleaner.state.floatbank5_a_air  \\\n",
       "0                                  9.925633   \n",
       "1                                 10.039245   \n",
       "2                                 10.070913   \n",
       "3                                  9.970366   \n",
       "4                                  9.925709   \n",
       "\n",
       "   secondary_cleaner.state.floatbank5_a_level  \\\n",
       "0                                 -498.310211   \n",
       "1                                 -500.169983   \n",
       "2                                 -500.129135   \n",
       "3                                 -499.201640   \n",
       "4                                 -501.686727   \n",
       "\n",
       "   secondary_cleaner.state.floatbank5_b_air  \\\n",
       "0                                  8.079666   \n",
       "1                                  7.984757   \n",
       "2                                  8.013877   \n",
       "3                                  7.977324   \n",
       "4                                  7.894242   \n",
       "\n",
       "   secondary_cleaner.state.floatbank5_b_level  \\\n",
       "0                                 -500.470978   \n",
       "1                                 -500.582168   \n",
       "2                                 -500.517572   \n",
       "3                                 -500.255908   \n",
       "4                                 -500.356035   \n",
       "\n",
       "   secondary_cleaner.state.floatbank6_a_air  \\\n",
       "0                                 14.151341   \n",
       "1                                 13.998353   \n",
       "2                                 14.028663   \n",
       "3                                 14.005551   \n",
       "4                                 13.996647   \n",
       "\n",
       "   secondary_cleaner.state.floatbank6_a_level  recovery_calc  concentrate_1  \\\n",
       "0                                 -605.841980      87.107763      51.680034   \n",
       "1                                 -599.787184      86.843261      50.659114   \n",
       "2                                 -601.427363      86.842308      50.609929   \n",
       "3                                 -599.996129      87.226430      51.061546   \n",
       "4                                 -601.496691      86.688794      47.859163   \n",
       "\n",
       "   concentrate_2  concentrate_3  \n",
       "0      66.424950      63.644396  \n",
       "1      67.012710      63.957723  \n",
       "2      66.103793      64.311180  \n",
       "3      65.752751      63.573449  \n",
       "4      65.908382      64.004667  \n",
       "\n",
       "[5 rows x 91 columns]"
      ]
     },
     "execution_count": 62,
     "metadata": {},
     "output_type": "execute_result"
    }
   ],
   "source": [
    "# добавим 3 столбца в обучающей выборке с суммарной концентрацией на разных этапах\n",
    "\n",
    "\n",
    "df_train['concentrate_1']=df_train['rougher.input.feed_ag'] +df_train['rougher.input.feed_pb']+df_train['rougher.input.feed_sol']+df_train['rougher.input.feed_au']\n",
    "    \n",
    "df_train['concentrate_2']=df_train['rougher.output.concentrate_ag'] +df_train['rougher.output.concentrate_pb']+df_train['rougher.output.concentrate_sol']+df_train['rougher.output.concentrate_au']\n",
    "    \n",
    "df_train['concentrate_3']=df_train['final.output.concentrate_ag']+df_train['final.output.concentrate_pb']+df_train['final.output.concentrate_sol']+df_train['final.output.concentrate_au']\n",
    "\n",
    "df_train.head()"
   ]
  },
  {
   "cell_type": "code",
   "execution_count": 63,
   "metadata": {},
   "outputs": [
    {
     "data": {
      "text/plain": [
       "(14149, 91)"
      ]
     },
     "execution_count": 63,
     "metadata": {},
     "output_type": "execute_result"
    }
   ],
   "source": [
    "df_train.shape"
   ]
  },
  {
   "cell_type": "code",
   "execution_count": 64,
   "metadata": {},
   "outputs": [
    {
     "data": {
      "text/html": [
       "<div>\n",
       "<style scoped>\n",
       "    .dataframe tbody tr th:only-of-type {\n",
       "        vertical-align: middle;\n",
       "    }\n",
       "\n",
       "    .dataframe tbody tr th {\n",
       "        vertical-align: top;\n",
       "    }\n",
       "\n",
       "    .dataframe thead th {\n",
       "        text-align: right;\n",
       "    }\n",
       "</style>\n",
       "<table border=\"1\" class=\"dataframe\">\n",
       "  <thead>\n",
       "    <tr style=\"text-align: right;\">\n",
       "      <th></th>\n",
       "      <th>date</th>\n",
       "      <th>final.output.concentrate_ag</th>\n",
       "      <th>final.output.concentrate_pb</th>\n",
       "      <th>final.output.concentrate_sol</th>\n",
       "      <th>final.output.concentrate_au</th>\n",
       "      <th>final.output.recovery</th>\n",
       "      <th>final.output.tail_ag</th>\n",
       "      <th>final.output.tail_pb</th>\n",
       "      <th>final.output.tail_sol</th>\n",
       "      <th>final.output.tail_au</th>\n",
       "      <th>...</th>\n",
       "      <th>secondary_cleaner.state.floatbank4_a_level</th>\n",
       "      <th>secondary_cleaner.state.floatbank4_b_air</th>\n",
       "      <th>secondary_cleaner.state.floatbank4_b_level</th>\n",
       "      <th>secondary_cleaner.state.floatbank5_a_air</th>\n",
       "      <th>secondary_cleaner.state.floatbank5_a_level</th>\n",
       "      <th>secondary_cleaner.state.floatbank5_b_air</th>\n",
       "      <th>secondary_cleaner.state.floatbank5_b_level</th>\n",
       "      <th>secondary_cleaner.state.floatbank6_a_air</th>\n",
       "      <th>secondary_cleaner.state.floatbank6_a_level</th>\n",
       "      <th>recovery_calc</th>\n",
       "    </tr>\n",
       "  </thead>\n",
       "  <tbody>\n",
       "    <tr>\n",
       "      <td>0</td>\n",
       "      <td>2016-01-15 00:00:00</td>\n",
       "      <td>6.055403</td>\n",
       "      <td>9.889648</td>\n",
       "      <td>5.507324</td>\n",
       "      <td>42.192020</td>\n",
       "      <td>70.541216</td>\n",
       "      <td>10.411962</td>\n",
       "      <td>0.895447</td>\n",
       "      <td>16.904297</td>\n",
       "      <td>2.143149</td>\n",
       "      <td>...</td>\n",
       "      <td>-502.488007</td>\n",
       "      <td>12.099931</td>\n",
       "      <td>-504.715942</td>\n",
       "      <td>9.925633</td>\n",
       "      <td>-498.310211</td>\n",
       "      <td>8.079666</td>\n",
       "      <td>-500.470978</td>\n",
       "      <td>14.151341</td>\n",
       "      <td>-605.841980</td>\n",
       "      <td>87.107763</td>\n",
       "    </tr>\n",
       "    <tr>\n",
       "      <td>1</td>\n",
       "      <td>2016-01-15 01:00:00</td>\n",
       "      <td>6.029369</td>\n",
       "      <td>9.968944</td>\n",
       "      <td>5.257781</td>\n",
       "      <td>42.701629</td>\n",
       "      <td>69.266198</td>\n",
       "      <td>10.462676</td>\n",
       "      <td>0.927452</td>\n",
       "      <td>16.634514</td>\n",
       "      <td>2.224930</td>\n",
       "      <td>...</td>\n",
       "      <td>-505.503262</td>\n",
       "      <td>11.950531</td>\n",
       "      <td>-501.331529</td>\n",
       "      <td>10.039245</td>\n",
       "      <td>-500.169983</td>\n",
       "      <td>7.984757</td>\n",
       "      <td>-500.582168</td>\n",
       "      <td>13.998353</td>\n",
       "      <td>-599.787184</td>\n",
       "      <td>86.843261</td>\n",
       "    </tr>\n",
       "    <tr>\n",
       "      <td>2</td>\n",
       "      <td>2016-01-15 02:00:00</td>\n",
       "      <td>6.055926</td>\n",
       "      <td>10.213995</td>\n",
       "      <td>5.383759</td>\n",
       "      <td>42.657501</td>\n",
       "      <td>68.116445</td>\n",
       "      <td>10.507046</td>\n",
       "      <td>0.953716</td>\n",
       "      <td>16.208849</td>\n",
       "      <td>2.257889</td>\n",
       "      <td>...</td>\n",
       "      <td>-502.520901</td>\n",
       "      <td>11.912783</td>\n",
       "      <td>-501.133383</td>\n",
       "      <td>10.070913</td>\n",
       "      <td>-500.129135</td>\n",
       "      <td>8.013877</td>\n",
       "      <td>-500.517572</td>\n",
       "      <td>14.028663</td>\n",
       "      <td>-601.427363</td>\n",
       "      <td>86.842308</td>\n",
       "    </tr>\n",
       "    <tr>\n",
       "      <td>3</td>\n",
       "      <td>2016-01-15 03:00:00</td>\n",
       "      <td>6.047977</td>\n",
       "      <td>9.977019</td>\n",
       "      <td>4.858634</td>\n",
       "      <td>42.689819</td>\n",
       "      <td>68.347543</td>\n",
       "      <td>10.422762</td>\n",
       "      <td>0.883763</td>\n",
       "      <td>16.532835</td>\n",
       "      <td>2.146849</td>\n",
       "      <td>...</td>\n",
       "      <td>-500.857308</td>\n",
       "      <td>11.999550</td>\n",
       "      <td>-501.193686</td>\n",
       "      <td>9.970366</td>\n",
       "      <td>-499.201640</td>\n",
       "      <td>7.977324</td>\n",
       "      <td>-500.255908</td>\n",
       "      <td>14.005551</td>\n",
       "      <td>-599.996129</td>\n",
       "      <td>87.226430</td>\n",
       "    </tr>\n",
       "    <tr>\n",
       "      <td>4</td>\n",
       "      <td>2016-01-15 04:00:00</td>\n",
       "      <td>6.148599</td>\n",
       "      <td>10.142511</td>\n",
       "      <td>4.939416</td>\n",
       "      <td>42.774141</td>\n",
       "      <td>66.927016</td>\n",
       "      <td>10.360302</td>\n",
       "      <td>0.792826</td>\n",
       "      <td>16.525686</td>\n",
       "      <td>2.055292</td>\n",
       "      <td>...</td>\n",
       "      <td>-499.838632</td>\n",
       "      <td>11.953070</td>\n",
       "      <td>-501.053894</td>\n",
       "      <td>9.925709</td>\n",
       "      <td>-501.686727</td>\n",
       "      <td>7.894242</td>\n",
       "      <td>-500.356035</td>\n",
       "      <td>13.996647</td>\n",
       "      <td>-601.496691</td>\n",
       "      <td>86.688794</td>\n",
       "    </tr>\n",
       "  </tbody>\n",
       "</table>\n",
       "<p>5 rows × 88 columns</p>\n",
       "</div>"
      ],
      "text/plain": [
       "                  date  final.output.concentrate_ag  \\\n",
       "0  2016-01-15 00:00:00                     6.055403   \n",
       "1  2016-01-15 01:00:00                     6.029369   \n",
       "2  2016-01-15 02:00:00                     6.055926   \n",
       "3  2016-01-15 03:00:00                     6.047977   \n",
       "4  2016-01-15 04:00:00                     6.148599   \n",
       "\n",
       "   final.output.concentrate_pb  final.output.concentrate_sol  \\\n",
       "0                     9.889648                      5.507324   \n",
       "1                     9.968944                      5.257781   \n",
       "2                    10.213995                      5.383759   \n",
       "3                     9.977019                      4.858634   \n",
       "4                    10.142511                      4.939416   \n",
       "\n",
       "   final.output.concentrate_au  final.output.recovery  final.output.tail_ag  \\\n",
       "0                    42.192020              70.541216             10.411962   \n",
       "1                    42.701629              69.266198             10.462676   \n",
       "2                    42.657501              68.116445             10.507046   \n",
       "3                    42.689819              68.347543             10.422762   \n",
       "4                    42.774141              66.927016             10.360302   \n",
       "\n",
       "   final.output.tail_pb  final.output.tail_sol  final.output.tail_au  ...  \\\n",
       "0              0.895447              16.904297              2.143149  ...   \n",
       "1              0.927452              16.634514              2.224930  ...   \n",
       "2              0.953716              16.208849              2.257889  ...   \n",
       "3              0.883763              16.532835              2.146849  ...   \n",
       "4              0.792826              16.525686              2.055292  ...   \n",
       "\n",
       "   secondary_cleaner.state.floatbank4_a_level  \\\n",
       "0                                 -502.488007   \n",
       "1                                 -505.503262   \n",
       "2                                 -502.520901   \n",
       "3                                 -500.857308   \n",
       "4                                 -499.838632   \n",
       "\n",
       "   secondary_cleaner.state.floatbank4_b_air  \\\n",
       "0                                 12.099931   \n",
       "1                                 11.950531   \n",
       "2                                 11.912783   \n",
       "3                                 11.999550   \n",
       "4                                 11.953070   \n",
       "\n",
       "   secondary_cleaner.state.floatbank4_b_level  \\\n",
       "0                                 -504.715942   \n",
       "1                                 -501.331529   \n",
       "2                                 -501.133383   \n",
       "3                                 -501.193686   \n",
       "4                                 -501.053894   \n",
       "\n",
       "   secondary_cleaner.state.floatbank5_a_air  \\\n",
       "0                                  9.925633   \n",
       "1                                 10.039245   \n",
       "2                                 10.070913   \n",
       "3                                  9.970366   \n",
       "4                                  9.925709   \n",
       "\n",
       "   secondary_cleaner.state.floatbank5_a_level  \\\n",
       "0                                 -498.310211   \n",
       "1                                 -500.169983   \n",
       "2                                 -500.129135   \n",
       "3                                 -499.201640   \n",
       "4                                 -501.686727   \n",
       "\n",
       "   secondary_cleaner.state.floatbank5_b_air  \\\n",
       "0                                  8.079666   \n",
       "1                                  7.984757   \n",
       "2                                  8.013877   \n",
       "3                                  7.977324   \n",
       "4                                  7.894242   \n",
       "\n",
       "   secondary_cleaner.state.floatbank5_b_level  \\\n",
       "0                                 -500.470978   \n",
       "1                                 -500.582168   \n",
       "2                                 -500.517572   \n",
       "3                                 -500.255908   \n",
       "4                                 -500.356035   \n",
       "\n",
       "   secondary_cleaner.state.floatbank6_a_air  \\\n",
       "0                                 14.151341   \n",
       "1                                 13.998353   \n",
       "2                                 14.028663   \n",
       "3                                 14.005551   \n",
       "4                                 13.996647   \n",
       "\n",
       "   secondary_cleaner.state.floatbank6_a_level  recovery_calc  \n",
       "0                                 -605.841980      87.107763  \n",
       "1                                 -599.787184      86.843261  \n",
       "2                                 -601.427363      86.842308  \n",
       "3                                 -599.996129      87.226430  \n",
       "4                                 -601.496691      86.688794  \n",
       "\n",
       "[5 rows x 88 columns]"
      ]
     },
     "execution_count": 64,
     "metadata": {},
     "output_type": "execute_result"
    }
   ],
   "source": [
    "# получим обновленную таблицу с помощью среза и нужных параметров\n",
    "\n",
    "\n",
    "df_train = df_train.query('concentrate_1 > 40 & concentrate_2 > 50 & concentrate_3 > 60')\n",
    "df_train = df_train.drop(['concentrate_1', 'concentrate_2','concentrate_3'], axis=1)  # сразу удалим соданные столбцы чтобы не запутаться\n",
    "\n",
    "df_train.head()"
   ]
  },
  {
   "cell_type": "code",
   "execution_count": 65,
   "metadata": {},
   "outputs": [
    {
     "data": {
      "text/plain": [
       "(12935, 88)"
      ]
     },
     "execution_count": 65,
     "metadata": {},
     "output_type": "execute_result"
    }
   ],
   "source": [
    "df_train.shape"
   ]
  },
  {
   "cell_type": "code",
   "execution_count": 66,
   "metadata": {},
   "outputs": [
    {
     "data": {
      "text/html": [
       "<div>\n",
       "<style scoped>\n",
       "    .dataframe tbody tr th:only-of-type {\n",
       "        vertical-align: middle;\n",
       "    }\n",
       "\n",
       "    .dataframe tbody tr th {\n",
       "        vertical-align: top;\n",
       "    }\n",
       "\n",
       "    .dataframe thead th {\n",
       "        text-align: right;\n",
       "    }\n",
       "</style>\n",
       "<table border=\"1\" class=\"dataframe\">\n",
       "  <thead>\n",
       "    <tr style=\"text-align: right;\">\n",
       "      <th></th>\n",
       "      <th>date</th>\n",
       "      <th>primary_cleaner.input.sulfate</th>\n",
       "      <th>primary_cleaner.input.depressant</th>\n",
       "      <th>primary_cleaner.input.feed_size</th>\n",
       "      <th>primary_cleaner.input.xanthate</th>\n",
       "      <th>primary_cleaner.state.floatbank8_a_air</th>\n",
       "      <th>primary_cleaner.state.floatbank8_a_level</th>\n",
       "      <th>primary_cleaner.state.floatbank8_b_air</th>\n",
       "      <th>primary_cleaner.state.floatbank8_b_level</th>\n",
       "      <th>primary_cleaner.state.floatbank8_c_air</th>\n",
       "      <th>...</th>\n",
       "      <th>secondary_cleaner.state.floatbank4_a_level</th>\n",
       "      <th>secondary_cleaner.state.floatbank4_b_air</th>\n",
       "      <th>secondary_cleaner.state.floatbank4_b_level</th>\n",
       "      <th>secondary_cleaner.state.floatbank5_a_air</th>\n",
       "      <th>secondary_cleaner.state.floatbank5_a_level</th>\n",
       "      <th>secondary_cleaner.state.floatbank5_b_air</th>\n",
       "      <th>secondary_cleaner.state.floatbank5_b_level</th>\n",
       "      <th>secondary_cleaner.state.floatbank6_a_air</th>\n",
       "      <th>secondary_cleaner.state.floatbank6_a_level</th>\n",
       "      <th>concentrate_1</th>\n",
       "    </tr>\n",
       "  </thead>\n",
       "  <tbody>\n",
       "    <tr>\n",
       "      <td>0</td>\n",
       "      <td>2016-09-01 00:59:59</td>\n",
       "      <td>210.800909</td>\n",
       "      <td>14.993118</td>\n",
       "      <td>8.080000</td>\n",
       "      <td>1.005021</td>\n",
       "      <td>1398.981301</td>\n",
       "      <td>-500.225577</td>\n",
       "      <td>1399.144926</td>\n",
       "      <td>-499.919735</td>\n",
       "      <td>1400.102998</td>\n",
       "      <td>...</td>\n",
       "      <td>-497.795834</td>\n",
       "      <td>8.016656</td>\n",
       "      <td>-501.289139</td>\n",
       "      <td>7.946562</td>\n",
       "      <td>-432.317850</td>\n",
       "      <td>4.872511</td>\n",
       "      <td>-500.037437</td>\n",
       "      <td>26.705889</td>\n",
       "      <td>-499.709414</td>\n",
       "      <td>72.871822</td>\n",
       "    </tr>\n",
       "    <tr>\n",
       "      <td>1</td>\n",
       "      <td>2016-09-01 01:59:59</td>\n",
       "      <td>215.392455</td>\n",
       "      <td>14.987471</td>\n",
       "      <td>8.080000</td>\n",
       "      <td>0.990469</td>\n",
       "      <td>1398.777912</td>\n",
       "      <td>-500.057435</td>\n",
       "      <td>1398.055362</td>\n",
       "      <td>-499.778182</td>\n",
       "      <td>1396.151033</td>\n",
       "      <td>...</td>\n",
       "      <td>-498.695773</td>\n",
       "      <td>8.130979</td>\n",
       "      <td>-499.634209</td>\n",
       "      <td>7.958270</td>\n",
       "      <td>-525.839648</td>\n",
       "      <td>4.878850</td>\n",
       "      <td>-500.162375</td>\n",
       "      <td>25.019940</td>\n",
       "      <td>-499.819438</td>\n",
       "      <td>71.669225</td>\n",
       "    </tr>\n",
       "    <tr>\n",
       "      <td>2</td>\n",
       "      <td>2016-09-01 02:59:59</td>\n",
       "      <td>215.259946</td>\n",
       "      <td>12.884934</td>\n",
       "      <td>7.786667</td>\n",
       "      <td>0.996043</td>\n",
       "      <td>1398.493666</td>\n",
       "      <td>-500.868360</td>\n",
       "      <td>1398.860436</td>\n",
       "      <td>-499.764529</td>\n",
       "      <td>1398.075709</td>\n",
       "      <td>...</td>\n",
       "      <td>-498.767484</td>\n",
       "      <td>8.096893</td>\n",
       "      <td>-500.827423</td>\n",
       "      <td>8.071056</td>\n",
       "      <td>-500.801673</td>\n",
       "      <td>4.905125</td>\n",
       "      <td>-499.828510</td>\n",
       "      <td>24.994862</td>\n",
       "      <td>-500.622559</td>\n",
       "      <td>73.202598</td>\n",
       "    </tr>\n",
       "    <tr>\n",
       "      <td>3</td>\n",
       "      <td>2016-09-01 03:59:59</td>\n",
       "      <td>215.336236</td>\n",
       "      <td>12.006805</td>\n",
       "      <td>7.640000</td>\n",
       "      <td>0.863514</td>\n",
       "      <td>1399.618111</td>\n",
       "      <td>-498.863574</td>\n",
       "      <td>1397.440120</td>\n",
       "      <td>-499.211024</td>\n",
       "      <td>1400.129303</td>\n",
       "      <td>...</td>\n",
       "      <td>-498.350935</td>\n",
       "      <td>8.074946</td>\n",
       "      <td>-499.474407</td>\n",
       "      <td>7.897085</td>\n",
       "      <td>-500.868509</td>\n",
       "      <td>4.931400</td>\n",
       "      <td>-499.963623</td>\n",
       "      <td>24.948919</td>\n",
       "      <td>-498.709987</td>\n",
       "      <td>70.757057</td>\n",
       "    </tr>\n",
       "    <tr>\n",
       "      <td>4</td>\n",
       "      <td>2016-09-01 04:59:59</td>\n",
       "      <td>199.099327</td>\n",
       "      <td>10.682530</td>\n",
       "      <td>7.530000</td>\n",
       "      <td>0.805575</td>\n",
       "      <td>1401.268123</td>\n",
       "      <td>-500.808305</td>\n",
       "      <td>1398.128818</td>\n",
       "      <td>-499.504543</td>\n",
       "      <td>1402.172226</td>\n",
       "      <td>...</td>\n",
       "      <td>-500.786497</td>\n",
       "      <td>8.054678</td>\n",
       "      <td>-500.397500</td>\n",
       "      <td>8.107890</td>\n",
       "      <td>-509.526725</td>\n",
       "      <td>4.957674</td>\n",
       "      <td>-500.360026</td>\n",
       "      <td>25.003331</td>\n",
       "      <td>-500.856333</td>\n",
       "      <td>68.654396</td>\n",
       "    </tr>\n",
       "  </tbody>\n",
       "</table>\n",
       "<p>5 rows × 54 columns</p>\n",
       "</div>"
      ],
      "text/plain": [
       "                  date  primary_cleaner.input.sulfate  \\\n",
       "0  2016-09-01 00:59:59                     210.800909   \n",
       "1  2016-09-01 01:59:59                     215.392455   \n",
       "2  2016-09-01 02:59:59                     215.259946   \n",
       "3  2016-09-01 03:59:59                     215.336236   \n",
       "4  2016-09-01 04:59:59                     199.099327   \n",
       "\n",
       "   primary_cleaner.input.depressant  primary_cleaner.input.feed_size  \\\n",
       "0                         14.993118                         8.080000   \n",
       "1                         14.987471                         8.080000   \n",
       "2                         12.884934                         7.786667   \n",
       "3                         12.006805                         7.640000   \n",
       "4                         10.682530                         7.530000   \n",
       "\n",
       "   primary_cleaner.input.xanthate  primary_cleaner.state.floatbank8_a_air  \\\n",
       "0                        1.005021                             1398.981301   \n",
       "1                        0.990469                             1398.777912   \n",
       "2                        0.996043                             1398.493666   \n",
       "3                        0.863514                             1399.618111   \n",
       "4                        0.805575                             1401.268123   \n",
       "\n",
       "   primary_cleaner.state.floatbank8_a_level  \\\n",
       "0                               -500.225577   \n",
       "1                               -500.057435   \n",
       "2                               -500.868360   \n",
       "3                               -498.863574   \n",
       "4                               -500.808305   \n",
       "\n",
       "   primary_cleaner.state.floatbank8_b_air  \\\n",
       "0                             1399.144926   \n",
       "1                             1398.055362   \n",
       "2                             1398.860436   \n",
       "3                             1397.440120   \n",
       "4                             1398.128818   \n",
       "\n",
       "   primary_cleaner.state.floatbank8_b_level  \\\n",
       "0                               -499.919735   \n",
       "1                               -499.778182   \n",
       "2                               -499.764529   \n",
       "3                               -499.211024   \n",
       "4                               -499.504543   \n",
       "\n",
       "   primary_cleaner.state.floatbank8_c_air  ...  \\\n",
       "0                             1400.102998  ...   \n",
       "1                             1396.151033  ...   \n",
       "2                             1398.075709  ...   \n",
       "3                             1400.129303  ...   \n",
       "4                             1402.172226  ...   \n",
       "\n",
       "   secondary_cleaner.state.floatbank4_a_level  \\\n",
       "0                                 -497.795834   \n",
       "1                                 -498.695773   \n",
       "2                                 -498.767484   \n",
       "3                                 -498.350935   \n",
       "4                                 -500.786497   \n",
       "\n",
       "   secondary_cleaner.state.floatbank4_b_air  \\\n",
       "0                                  8.016656   \n",
       "1                                  8.130979   \n",
       "2                                  8.096893   \n",
       "3                                  8.074946   \n",
       "4                                  8.054678   \n",
       "\n",
       "   secondary_cleaner.state.floatbank4_b_level  \\\n",
       "0                                 -501.289139   \n",
       "1                                 -499.634209   \n",
       "2                                 -500.827423   \n",
       "3                                 -499.474407   \n",
       "4                                 -500.397500   \n",
       "\n",
       "   secondary_cleaner.state.floatbank5_a_air  \\\n",
       "0                                  7.946562   \n",
       "1                                  7.958270   \n",
       "2                                  8.071056   \n",
       "3                                  7.897085   \n",
       "4                                  8.107890   \n",
       "\n",
       "   secondary_cleaner.state.floatbank5_a_level  \\\n",
       "0                                 -432.317850   \n",
       "1                                 -525.839648   \n",
       "2                                 -500.801673   \n",
       "3                                 -500.868509   \n",
       "4                                 -509.526725   \n",
       "\n",
       "   secondary_cleaner.state.floatbank5_b_air  \\\n",
       "0                                  4.872511   \n",
       "1                                  4.878850   \n",
       "2                                  4.905125   \n",
       "3                                  4.931400   \n",
       "4                                  4.957674   \n",
       "\n",
       "   secondary_cleaner.state.floatbank5_b_level  \\\n",
       "0                                 -500.037437   \n",
       "1                                 -500.162375   \n",
       "2                                 -499.828510   \n",
       "3                                 -499.963623   \n",
       "4                                 -500.360026   \n",
       "\n",
       "   secondary_cleaner.state.floatbank6_a_air  \\\n",
       "0                                 26.705889   \n",
       "1                                 25.019940   \n",
       "2                                 24.994862   \n",
       "3                                 24.948919   \n",
       "4                                 25.003331   \n",
       "\n",
       "   secondary_cleaner.state.floatbank6_a_level  concentrate_1  \n",
       "0                                 -499.709414      72.871822  \n",
       "1                                 -499.819438      71.669225  \n",
       "2                                 -500.622559      73.202598  \n",
       "3                                 -498.709987      70.757057  \n",
       "4                                 -500.856333      68.654396  \n",
       "\n",
       "[5 rows x 54 columns]"
      ]
     },
     "execution_count": 66,
     "metadata": {},
     "output_type": "execute_result"
    }
   ],
   "source": [
    "# добавим 1 столбец в тестовой выборке с суммарной концентрацией на первом этапе, так как других, как мы выяснили ранее, в ней нет\n",
    "\n",
    "\n",
    "df_test['concentrate_1']=df_test['rougher.input.feed_ag'] +df_test['rougher.input.feed_pb']+df_test['rougher.input.feed_sol']+df_test['rougher.input.feed_au']\n",
    "    \n",
    "df_test.head()"
   ]
  },
  {
   "cell_type": "code",
   "execution_count": 67,
   "metadata": {},
   "outputs": [
    {
     "data": {
      "text/plain": [
       "(5290, 54)"
      ]
     },
     "execution_count": 67,
     "metadata": {},
     "output_type": "execute_result"
    }
   ],
   "source": [
    "df_test.shape"
   ]
  },
  {
   "cell_type": "code",
   "execution_count": 68,
   "metadata": {},
   "outputs": [
    {
     "data": {
      "text/html": [
       "<div>\n",
       "<style scoped>\n",
       "    .dataframe tbody tr th:only-of-type {\n",
       "        vertical-align: middle;\n",
       "    }\n",
       "\n",
       "    .dataframe tbody tr th {\n",
       "        vertical-align: top;\n",
       "    }\n",
       "\n",
       "    .dataframe thead th {\n",
       "        text-align: right;\n",
       "    }\n",
       "</style>\n",
       "<table border=\"1\" class=\"dataframe\">\n",
       "  <thead>\n",
       "    <tr style=\"text-align: right;\">\n",
       "      <th></th>\n",
       "      <th>date</th>\n",
       "      <th>primary_cleaner.input.sulfate</th>\n",
       "      <th>primary_cleaner.input.depressant</th>\n",
       "      <th>primary_cleaner.input.feed_size</th>\n",
       "      <th>primary_cleaner.input.xanthate</th>\n",
       "      <th>primary_cleaner.state.floatbank8_a_air</th>\n",
       "      <th>primary_cleaner.state.floatbank8_a_level</th>\n",
       "      <th>primary_cleaner.state.floatbank8_b_air</th>\n",
       "      <th>primary_cleaner.state.floatbank8_b_level</th>\n",
       "      <th>primary_cleaner.state.floatbank8_c_air</th>\n",
       "      <th>...</th>\n",
       "      <th>secondary_cleaner.state.floatbank4_a_air</th>\n",
       "      <th>secondary_cleaner.state.floatbank4_a_level</th>\n",
       "      <th>secondary_cleaner.state.floatbank4_b_air</th>\n",
       "      <th>secondary_cleaner.state.floatbank4_b_level</th>\n",
       "      <th>secondary_cleaner.state.floatbank5_a_air</th>\n",
       "      <th>secondary_cleaner.state.floatbank5_a_level</th>\n",
       "      <th>secondary_cleaner.state.floatbank5_b_air</th>\n",
       "      <th>secondary_cleaner.state.floatbank5_b_level</th>\n",
       "      <th>secondary_cleaner.state.floatbank6_a_air</th>\n",
       "      <th>secondary_cleaner.state.floatbank6_a_level</th>\n",
       "    </tr>\n",
       "  </thead>\n",
       "  <tbody>\n",
       "    <tr>\n",
       "      <td>0</td>\n",
       "      <td>2016-09-01 00:59:59</td>\n",
       "      <td>210.800909</td>\n",
       "      <td>14.993118</td>\n",
       "      <td>8.080000</td>\n",
       "      <td>1.005021</td>\n",
       "      <td>1398.981301</td>\n",
       "      <td>-500.225577</td>\n",
       "      <td>1399.144926</td>\n",
       "      <td>-499.919735</td>\n",
       "      <td>1400.102998</td>\n",
       "      <td>...</td>\n",
       "      <td>12.023554</td>\n",
       "      <td>-497.795834</td>\n",
       "      <td>8.016656</td>\n",
       "      <td>-501.289139</td>\n",
       "      <td>7.946562</td>\n",
       "      <td>-432.317850</td>\n",
       "      <td>4.872511</td>\n",
       "      <td>-500.037437</td>\n",
       "      <td>26.705889</td>\n",
       "      <td>-499.709414</td>\n",
       "    </tr>\n",
       "    <tr>\n",
       "      <td>1</td>\n",
       "      <td>2016-09-01 01:59:59</td>\n",
       "      <td>215.392455</td>\n",
       "      <td>14.987471</td>\n",
       "      <td>8.080000</td>\n",
       "      <td>0.990469</td>\n",
       "      <td>1398.777912</td>\n",
       "      <td>-500.057435</td>\n",
       "      <td>1398.055362</td>\n",
       "      <td>-499.778182</td>\n",
       "      <td>1396.151033</td>\n",
       "      <td>...</td>\n",
       "      <td>12.058140</td>\n",
       "      <td>-498.695773</td>\n",
       "      <td>8.130979</td>\n",
       "      <td>-499.634209</td>\n",
       "      <td>7.958270</td>\n",
       "      <td>-525.839648</td>\n",
       "      <td>4.878850</td>\n",
       "      <td>-500.162375</td>\n",
       "      <td>25.019940</td>\n",
       "      <td>-499.819438</td>\n",
       "    </tr>\n",
       "    <tr>\n",
       "      <td>2</td>\n",
       "      <td>2016-09-01 02:59:59</td>\n",
       "      <td>215.259946</td>\n",
       "      <td>12.884934</td>\n",
       "      <td>7.786667</td>\n",
       "      <td>0.996043</td>\n",
       "      <td>1398.493666</td>\n",
       "      <td>-500.868360</td>\n",
       "      <td>1398.860436</td>\n",
       "      <td>-499.764529</td>\n",
       "      <td>1398.075709</td>\n",
       "      <td>...</td>\n",
       "      <td>11.962366</td>\n",
       "      <td>-498.767484</td>\n",
       "      <td>8.096893</td>\n",
       "      <td>-500.827423</td>\n",
       "      <td>8.071056</td>\n",
       "      <td>-500.801673</td>\n",
       "      <td>4.905125</td>\n",
       "      <td>-499.828510</td>\n",
       "      <td>24.994862</td>\n",
       "      <td>-500.622559</td>\n",
       "    </tr>\n",
       "    <tr>\n",
       "      <td>3</td>\n",
       "      <td>2016-09-01 03:59:59</td>\n",
       "      <td>215.336236</td>\n",
       "      <td>12.006805</td>\n",
       "      <td>7.640000</td>\n",
       "      <td>0.863514</td>\n",
       "      <td>1399.618111</td>\n",
       "      <td>-498.863574</td>\n",
       "      <td>1397.440120</td>\n",
       "      <td>-499.211024</td>\n",
       "      <td>1400.129303</td>\n",
       "      <td>...</td>\n",
       "      <td>12.033091</td>\n",
       "      <td>-498.350935</td>\n",
       "      <td>8.074946</td>\n",
       "      <td>-499.474407</td>\n",
       "      <td>7.897085</td>\n",
       "      <td>-500.868509</td>\n",
       "      <td>4.931400</td>\n",
       "      <td>-499.963623</td>\n",
       "      <td>24.948919</td>\n",
       "      <td>-498.709987</td>\n",
       "    </tr>\n",
       "    <tr>\n",
       "      <td>4</td>\n",
       "      <td>2016-09-01 04:59:59</td>\n",
       "      <td>199.099327</td>\n",
       "      <td>10.682530</td>\n",
       "      <td>7.530000</td>\n",
       "      <td>0.805575</td>\n",
       "      <td>1401.268123</td>\n",
       "      <td>-500.808305</td>\n",
       "      <td>1398.128818</td>\n",
       "      <td>-499.504543</td>\n",
       "      <td>1402.172226</td>\n",
       "      <td>...</td>\n",
       "      <td>12.025367</td>\n",
       "      <td>-500.786497</td>\n",
       "      <td>8.054678</td>\n",
       "      <td>-500.397500</td>\n",
       "      <td>8.107890</td>\n",
       "      <td>-509.526725</td>\n",
       "      <td>4.957674</td>\n",
       "      <td>-500.360026</td>\n",
       "      <td>25.003331</td>\n",
       "      <td>-500.856333</td>\n",
       "    </tr>\n",
       "  </tbody>\n",
       "</table>\n",
       "<p>5 rows × 53 columns</p>\n",
       "</div>"
      ],
      "text/plain": [
       "                  date  primary_cleaner.input.sulfate  \\\n",
       "0  2016-09-01 00:59:59                     210.800909   \n",
       "1  2016-09-01 01:59:59                     215.392455   \n",
       "2  2016-09-01 02:59:59                     215.259946   \n",
       "3  2016-09-01 03:59:59                     215.336236   \n",
       "4  2016-09-01 04:59:59                     199.099327   \n",
       "\n",
       "   primary_cleaner.input.depressant  primary_cleaner.input.feed_size  \\\n",
       "0                         14.993118                         8.080000   \n",
       "1                         14.987471                         8.080000   \n",
       "2                         12.884934                         7.786667   \n",
       "3                         12.006805                         7.640000   \n",
       "4                         10.682530                         7.530000   \n",
       "\n",
       "   primary_cleaner.input.xanthate  primary_cleaner.state.floatbank8_a_air  \\\n",
       "0                        1.005021                             1398.981301   \n",
       "1                        0.990469                             1398.777912   \n",
       "2                        0.996043                             1398.493666   \n",
       "3                        0.863514                             1399.618111   \n",
       "4                        0.805575                             1401.268123   \n",
       "\n",
       "   primary_cleaner.state.floatbank8_a_level  \\\n",
       "0                               -500.225577   \n",
       "1                               -500.057435   \n",
       "2                               -500.868360   \n",
       "3                               -498.863574   \n",
       "4                               -500.808305   \n",
       "\n",
       "   primary_cleaner.state.floatbank8_b_air  \\\n",
       "0                             1399.144926   \n",
       "1                             1398.055362   \n",
       "2                             1398.860436   \n",
       "3                             1397.440120   \n",
       "4                             1398.128818   \n",
       "\n",
       "   primary_cleaner.state.floatbank8_b_level  \\\n",
       "0                               -499.919735   \n",
       "1                               -499.778182   \n",
       "2                               -499.764529   \n",
       "3                               -499.211024   \n",
       "4                               -499.504543   \n",
       "\n",
       "   primary_cleaner.state.floatbank8_c_air  ...  \\\n",
       "0                             1400.102998  ...   \n",
       "1                             1396.151033  ...   \n",
       "2                             1398.075709  ...   \n",
       "3                             1400.129303  ...   \n",
       "4                             1402.172226  ...   \n",
       "\n",
       "   secondary_cleaner.state.floatbank4_a_air  \\\n",
       "0                                 12.023554   \n",
       "1                                 12.058140   \n",
       "2                                 11.962366   \n",
       "3                                 12.033091   \n",
       "4                                 12.025367   \n",
       "\n",
       "   secondary_cleaner.state.floatbank4_a_level  \\\n",
       "0                                 -497.795834   \n",
       "1                                 -498.695773   \n",
       "2                                 -498.767484   \n",
       "3                                 -498.350935   \n",
       "4                                 -500.786497   \n",
       "\n",
       "   secondary_cleaner.state.floatbank4_b_air  \\\n",
       "0                                  8.016656   \n",
       "1                                  8.130979   \n",
       "2                                  8.096893   \n",
       "3                                  8.074946   \n",
       "4                                  8.054678   \n",
       "\n",
       "   secondary_cleaner.state.floatbank4_b_level  \\\n",
       "0                                 -501.289139   \n",
       "1                                 -499.634209   \n",
       "2                                 -500.827423   \n",
       "3                                 -499.474407   \n",
       "4                                 -500.397500   \n",
       "\n",
       "   secondary_cleaner.state.floatbank5_a_air  \\\n",
       "0                                  7.946562   \n",
       "1                                  7.958270   \n",
       "2                                  8.071056   \n",
       "3                                  7.897085   \n",
       "4                                  8.107890   \n",
       "\n",
       "   secondary_cleaner.state.floatbank5_a_level  \\\n",
       "0                                 -432.317850   \n",
       "1                                 -525.839648   \n",
       "2                                 -500.801673   \n",
       "3                                 -500.868509   \n",
       "4                                 -509.526725   \n",
       "\n",
       "   secondary_cleaner.state.floatbank5_b_air  \\\n",
       "0                                  4.872511   \n",
       "1                                  4.878850   \n",
       "2                                  4.905125   \n",
       "3                                  4.931400   \n",
       "4                                  4.957674   \n",
       "\n",
       "   secondary_cleaner.state.floatbank5_b_level  \\\n",
       "0                                 -500.037437   \n",
       "1                                 -500.162375   \n",
       "2                                 -499.828510   \n",
       "3                                 -499.963623   \n",
       "4                                 -500.360026   \n",
       "\n",
       "   secondary_cleaner.state.floatbank6_a_air  \\\n",
       "0                                 26.705889   \n",
       "1                                 25.019940   \n",
       "2                                 24.994862   \n",
       "3                                 24.948919   \n",
       "4                                 25.003331   \n",
       "\n",
       "   secondary_cleaner.state.floatbank6_a_level  \n",
       "0                                 -499.709414  \n",
       "1                                 -499.819438  \n",
       "2                                 -500.622559  \n",
       "3                                 -498.709987  \n",
       "4                                 -500.856333  \n",
       "\n",
       "[5 rows x 53 columns]"
      ]
     },
     "execution_count": 68,
     "metadata": {},
     "output_type": "execute_result"
    }
   ],
   "source": [
    "# получим обновленную таблицу с помощью среза и нужных параметров\n",
    "\n",
    "\n",
    "df_test = df_test.query('concentrate_1 > 40')\n",
    "df_test = df_test.drop(['concentrate_1'], axis=1)  # сразу удалим соданный столбец чтобы не запутаться\n",
    "df_test.head()"
   ]
  },
  {
   "cell_type": "code",
   "execution_count": 69,
   "metadata": {},
   "outputs": [
    {
     "data": {
      "text/plain": [
       "(5218, 53)"
      ]
     },
     "execution_count": 69,
     "metadata": {},
     "output_type": "execute_result"
    }
   ],
   "source": [
    "df_test.shape"
   ]
  },
  {
   "cell_type": "markdown",
   "metadata": {},
   "source": [
    "Мы получили новые выборки без аномалий."
   ]
  },
  {
   "cell_type": "markdown",
   "metadata": {},
   "source": [
    "## Модель"
   ]
  },
  {
   "cell_type": "markdown",
   "metadata": {},
   "source": [
    "### Функция sMAPE"
   ]
  },
  {
   "cell_type": "markdown",
   "metadata": {},
   "source": [
    "- Напишем функцию для вычисления итоговой sMAPE."
   ]
  },
  {
   "cell_type": "code",
   "execution_count": 70,
   "metadata": {},
   "outputs": [],
   "source": [
    "def smape(target_test,predicted_test):\n",
    "        sMAPE_score =  ((abs(target_test-predicted_test)/ ((abs(target_test)+ abs(predicted_test))/2)).sum()/len(target_test))\n",
    "        return sMAPE_score"
   ]
  },
  {
   "cell_type": "code",
   "execution_count": 71,
   "metadata": {},
   "outputs": [],
   "source": [
    "def final_smape(sMAPE_rougher,sMAPE_final):\n",
    "\n",
    "    return 0.25*sMAPE_rougher+0.75*sMAPE_final"
   ]
  },
  {
   "cell_type": "markdown",
   "metadata": {},
   "source": [
    "### Подготовим выборки"
   ]
  },
  {
   "cell_type": "markdown",
   "metadata": {},
   "source": [
    "- Обучим разные модели и оценим их качество кросс-валидацией.\n",
    "- Выберем лучшую модель и проверим её на тестовой выборке.\n",
    "- Опишем выводы."
   ]
  },
  {
   "cell_type": "markdown",
   "metadata": {},
   "source": [
    "подготовим выборки"
   ]
  },
  {
   "cell_type": "code",
   "execution_count": 72,
   "metadata": {},
   "outputs": [
    {
     "data": {
      "text/html": [
       "<div>\n",
       "<style scoped>\n",
       "    .dataframe tbody tr th:only-of-type {\n",
       "        vertical-align: middle;\n",
       "    }\n",
       "\n",
       "    .dataframe tbody tr th {\n",
       "        vertical-align: top;\n",
       "    }\n",
       "\n",
       "    .dataframe thead th {\n",
       "        text-align: right;\n",
       "    }\n",
       "</style>\n",
       "<table border=\"1\" class=\"dataframe\">\n",
       "  <thead>\n",
       "    <tr style=\"text-align: right;\">\n",
       "      <th></th>\n",
       "      <th>date</th>\n",
       "      <th>primary_cleaner.input.sulfate</th>\n",
       "      <th>primary_cleaner.input.depressant</th>\n",
       "      <th>primary_cleaner.input.feed_size</th>\n",
       "      <th>primary_cleaner.input.xanthate</th>\n",
       "      <th>primary_cleaner.state.floatbank8_a_air</th>\n",
       "      <th>primary_cleaner.state.floatbank8_a_level</th>\n",
       "      <th>primary_cleaner.state.floatbank8_b_air</th>\n",
       "      <th>primary_cleaner.state.floatbank8_b_level</th>\n",
       "      <th>primary_cleaner.state.floatbank8_c_air</th>\n",
       "      <th>...</th>\n",
       "      <th>secondary_cleaner.state.floatbank4_a_air</th>\n",
       "      <th>secondary_cleaner.state.floatbank4_a_level</th>\n",
       "      <th>secondary_cleaner.state.floatbank4_b_air</th>\n",
       "      <th>secondary_cleaner.state.floatbank4_b_level</th>\n",
       "      <th>secondary_cleaner.state.floatbank5_a_air</th>\n",
       "      <th>secondary_cleaner.state.floatbank5_a_level</th>\n",
       "      <th>secondary_cleaner.state.floatbank5_b_air</th>\n",
       "      <th>secondary_cleaner.state.floatbank5_b_level</th>\n",
       "      <th>secondary_cleaner.state.floatbank6_a_air</th>\n",
       "      <th>secondary_cleaner.state.floatbank6_a_level</th>\n",
       "    </tr>\n",
       "  </thead>\n",
       "  <tbody>\n",
       "    <tr>\n",
       "      <td>0</td>\n",
       "      <td>2016-09-01 00:59:59</td>\n",
       "      <td>210.800909</td>\n",
       "      <td>14.993118</td>\n",
       "      <td>8.080000</td>\n",
       "      <td>1.005021</td>\n",
       "      <td>1398.981301</td>\n",
       "      <td>-500.225577</td>\n",
       "      <td>1399.144926</td>\n",
       "      <td>-499.919735</td>\n",
       "      <td>1400.102998</td>\n",
       "      <td>...</td>\n",
       "      <td>12.023554</td>\n",
       "      <td>-497.795834</td>\n",
       "      <td>8.016656</td>\n",
       "      <td>-501.289139</td>\n",
       "      <td>7.946562</td>\n",
       "      <td>-432.317850</td>\n",
       "      <td>4.872511</td>\n",
       "      <td>-500.037437</td>\n",
       "      <td>26.705889</td>\n",
       "      <td>-499.709414</td>\n",
       "    </tr>\n",
       "    <tr>\n",
       "      <td>1</td>\n",
       "      <td>2016-09-01 01:59:59</td>\n",
       "      <td>215.392455</td>\n",
       "      <td>14.987471</td>\n",
       "      <td>8.080000</td>\n",
       "      <td>0.990469</td>\n",
       "      <td>1398.777912</td>\n",
       "      <td>-500.057435</td>\n",
       "      <td>1398.055362</td>\n",
       "      <td>-499.778182</td>\n",
       "      <td>1396.151033</td>\n",
       "      <td>...</td>\n",
       "      <td>12.058140</td>\n",
       "      <td>-498.695773</td>\n",
       "      <td>8.130979</td>\n",
       "      <td>-499.634209</td>\n",
       "      <td>7.958270</td>\n",
       "      <td>-525.839648</td>\n",
       "      <td>4.878850</td>\n",
       "      <td>-500.162375</td>\n",
       "      <td>25.019940</td>\n",
       "      <td>-499.819438</td>\n",
       "    </tr>\n",
       "    <tr>\n",
       "      <td>2</td>\n",
       "      <td>2016-09-01 02:59:59</td>\n",
       "      <td>215.259946</td>\n",
       "      <td>12.884934</td>\n",
       "      <td>7.786667</td>\n",
       "      <td>0.996043</td>\n",
       "      <td>1398.493666</td>\n",
       "      <td>-500.868360</td>\n",
       "      <td>1398.860436</td>\n",
       "      <td>-499.764529</td>\n",
       "      <td>1398.075709</td>\n",
       "      <td>...</td>\n",
       "      <td>11.962366</td>\n",
       "      <td>-498.767484</td>\n",
       "      <td>8.096893</td>\n",
       "      <td>-500.827423</td>\n",
       "      <td>8.071056</td>\n",
       "      <td>-500.801673</td>\n",
       "      <td>4.905125</td>\n",
       "      <td>-499.828510</td>\n",
       "      <td>24.994862</td>\n",
       "      <td>-500.622559</td>\n",
       "    </tr>\n",
       "    <tr>\n",
       "      <td>3</td>\n",
       "      <td>2016-09-01 03:59:59</td>\n",
       "      <td>215.336236</td>\n",
       "      <td>12.006805</td>\n",
       "      <td>7.640000</td>\n",
       "      <td>0.863514</td>\n",
       "      <td>1399.618111</td>\n",
       "      <td>-498.863574</td>\n",
       "      <td>1397.440120</td>\n",
       "      <td>-499.211024</td>\n",
       "      <td>1400.129303</td>\n",
       "      <td>...</td>\n",
       "      <td>12.033091</td>\n",
       "      <td>-498.350935</td>\n",
       "      <td>8.074946</td>\n",
       "      <td>-499.474407</td>\n",
       "      <td>7.897085</td>\n",
       "      <td>-500.868509</td>\n",
       "      <td>4.931400</td>\n",
       "      <td>-499.963623</td>\n",
       "      <td>24.948919</td>\n",
       "      <td>-498.709987</td>\n",
       "    </tr>\n",
       "    <tr>\n",
       "      <td>4</td>\n",
       "      <td>2016-09-01 04:59:59</td>\n",
       "      <td>199.099327</td>\n",
       "      <td>10.682530</td>\n",
       "      <td>7.530000</td>\n",
       "      <td>0.805575</td>\n",
       "      <td>1401.268123</td>\n",
       "      <td>-500.808305</td>\n",
       "      <td>1398.128818</td>\n",
       "      <td>-499.504543</td>\n",
       "      <td>1402.172226</td>\n",
       "      <td>...</td>\n",
       "      <td>12.025367</td>\n",
       "      <td>-500.786497</td>\n",
       "      <td>8.054678</td>\n",
       "      <td>-500.397500</td>\n",
       "      <td>8.107890</td>\n",
       "      <td>-509.526725</td>\n",
       "      <td>4.957674</td>\n",
       "      <td>-500.360026</td>\n",
       "      <td>25.003331</td>\n",
       "      <td>-500.856333</td>\n",
       "    </tr>\n",
       "  </tbody>\n",
       "</table>\n",
       "<p>5 rows × 53 columns</p>\n",
       "</div>"
      ],
      "text/plain": [
       "                  date  primary_cleaner.input.sulfate  \\\n",
       "0  2016-09-01 00:59:59                     210.800909   \n",
       "1  2016-09-01 01:59:59                     215.392455   \n",
       "2  2016-09-01 02:59:59                     215.259946   \n",
       "3  2016-09-01 03:59:59                     215.336236   \n",
       "4  2016-09-01 04:59:59                     199.099327   \n",
       "\n",
       "   primary_cleaner.input.depressant  primary_cleaner.input.feed_size  \\\n",
       "0                         14.993118                         8.080000   \n",
       "1                         14.987471                         8.080000   \n",
       "2                         12.884934                         7.786667   \n",
       "3                         12.006805                         7.640000   \n",
       "4                         10.682530                         7.530000   \n",
       "\n",
       "   primary_cleaner.input.xanthate  primary_cleaner.state.floatbank8_a_air  \\\n",
       "0                        1.005021                             1398.981301   \n",
       "1                        0.990469                             1398.777912   \n",
       "2                        0.996043                             1398.493666   \n",
       "3                        0.863514                             1399.618111   \n",
       "4                        0.805575                             1401.268123   \n",
       "\n",
       "   primary_cleaner.state.floatbank8_a_level  \\\n",
       "0                               -500.225577   \n",
       "1                               -500.057435   \n",
       "2                               -500.868360   \n",
       "3                               -498.863574   \n",
       "4                               -500.808305   \n",
       "\n",
       "   primary_cleaner.state.floatbank8_b_air  \\\n",
       "0                             1399.144926   \n",
       "1                             1398.055362   \n",
       "2                             1398.860436   \n",
       "3                             1397.440120   \n",
       "4                             1398.128818   \n",
       "\n",
       "   primary_cleaner.state.floatbank8_b_level  \\\n",
       "0                               -499.919735   \n",
       "1                               -499.778182   \n",
       "2                               -499.764529   \n",
       "3                               -499.211024   \n",
       "4                               -499.504543   \n",
       "\n",
       "   primary_cleaner.state.floatbank8_c_air  ...  \\\n",
       "0                             1400.102998  ...   \n",
       "1                             1396.151033  ...   \n",
       "2                             1398.075709  ...   \n",
       "3                             1400.129303  ...   \n",
       "4                             1402.172226  ...   \n",
       "\n",
       "   secondary_cleaner.state.floatbank4_a_air  \\\n",
       "0                                 12.023554   \n",
       "1                                 12.058140   \n",
       "2                                 11.962366   \n",
       "3                                 12.033091   \n",
       "4                                 12.025367   \n",
       "\n",
       "   secondary_cleaner.state.floatbank4_a_level  \\\n",
       "0                                 -497.795834   \n",
       "1                                 -498.695773   \n",
       "2                                 -498.767484   \n",
       "3                                 -498.350935   \n",
       "4                                 -500.786497   \n",
       "\n",
       "   secondary_cleaner.state.floatbank4_b_air  \\\n",
       "0                                  8.016656   \n",
       "1                                  8.130979   \n",
       "2                                  8.096893   \n",
       "3                                  8.074946   \n",
       "4                                  8.054678   \n",
       "\n",
       "   secondary_cleaner.state.floatbank4_b_level  \\\n",
       "0                                 -501.289139   \n",
       "1                                 -499.634209   \n",
       "2                                 -500.827423   \n",
       "3                                 -499.474407   \n",
       "4                                 -500.397500   \n",
       "\n",
       "   secondary_cleaner.state.floatbank5_a_air  \\\n",
       "0                                  7.946562   \n",
       "1                                  7.958270   \n",
       "2                                  8.071056   \n",
       "3                                  7.897085   \n",
       "4                                  8.107890   \n",
       "\n",
       "   secondary_cleaner.state.floatbank5_a_level  \\\n",
       "0                                 -432.317850   \n",
       "1                                 -525.839648   \n",
       "2                                 -500.801673   \n",
       "3                                 -500.868509   \n",
       "4                                 -509.526725   \n",
       "\n",
       "   secondary_cleaner.state.floatbank5_b_air  \\\n",
       "0                                  4.872511   \n",
       "1                                  4.878850   \n",
       "2                                  4.905125   \n",
       "3                                  4.931400   \n",
       "4                                  4.957674   \n",
       "\n",
       "   secondary_cleaner.state.floatbank5_b_level  \\\n",
       "0                                 -500.037437   \n",
       "1                                 -500.162375   \n",
       "2                                 -499.828510   \n",
       "3                                 -499.963623   \n",
       "4                                 -500.360026   \n",
       "\n",
       "   secondary_cleaner.state.floatbank6_a_air  \\\n",
       "0                                 26.705889   \n",
       "1                                 25.019940   \n",
       "2                                 24.994862   \n",
       "3                                 24.948919   \n",
       "4                                 25.003331   \n",
       "\n",
       "   secondary_cleaner.state.floatbank6_a_level  \n",
       "0                                 -499.709414  \n",
       "1                                 -499.819438  \n",
       "2                                 -500.622559  \n",
       "3                                 -498.709987  \n",
       "4                                 -500.856333  \n",
       "\n",
       "[5 rows x 53 columns]"
      ]
     },
     "execution_count": 72,
     "metadata": {},
     "output_type": "execute_result"
    }
   ],
   "source": [
    "df_test.head()"
   ]
  },
  {
   "cell_type": "code",
   "execution_count": 73,
   "metadata": {
    "scrolled": true
   },
   "outputs": [
    {
     "name": "stdout",
     "output_type": "stream",
     "text": [
      "<class 'pandas.core.frame.DataFrame'>\n",
      "Int64Index: 5218 entries, 0 to 5217\n",
      "Data columns (total 55 columns):\n",
      "date                                          5218 non-null object\n",
      "primary_cleaner.input.sulfate                 5218 non-null float64\n",
      "primary_cleaner.input.depressant              5218 non-null float64\n",
      "primary_cleaner.input.feed_size               5218 non-null float64\n",
      "primary_cleaner.input.xanthate                5218 non-null float64\n",
      "primary_cleaner.state.floatbank8_a_air        5218 non-null float64\n",
      "primary_cleaner.state.floatbank8_a_level      5218 non-null float64\n",
      "primary_cleaner.state.floatbank8_b_air        5218 non-null float64\n",
      "primary_cleaner.state.floatbank8_b_level      5218 non-null float64\n",
      "primary_cleaner.state.floatbank8_c_air        5218 non-null float64\n",
      "primary_cleaner.state.floatbank8_c_level      5218 non-null float64\n",
      "primary_cleaner.state.floatbank8_d_air        5218 non-null float64\n",
      "primary_cleaner.state.floatbank8_d_level      5218 non-null float64\n",
      "rougher.input.feed_ag                         5218 non-null float64\n",
      "rougher.input.feed_pb                         5218 non-null float64\n",
      "rougher.input.feed_rate                       5218 non-null float64\n",
      "rougher.input.feed_size                       5218 non-null float64\n",
      "rougher.input.feed_sol                        5218 non-null float64\n",
      "rougher.input.feed_au                         5218 non-null float64\n",
      "rougher.input.floatbank10_sulfate             5218 non-null float64\n",
      "rougher.input.floatbank10_xanthate            5218 non-null float64\n",
      "rougher.input.floatbank11_sulfate             5218 non-null float64\n",
      "rougher.input.floatbank11_xanthate            5218 non-null float64\n",
      "rougher.state.floatbank10_a_air               5218 non-null float64\n",
      "rougher.state.floatbank10_a_level             5218 non-null float64\n",
      "rougher.state.floatbank10_b_air               5218 non-null float64\n",
      "rougher.state.floatbank10_b_level             5218 non-null float64\n",
      "rougher.state.floatbank10_c_air               5218 non-null float64\n",
      "rougher.state.floatbank10_c_level             5218 non-null float64\n",
      "rougher.state.floatbank10_d_air               5218 non-null float64\n",
      "rougher.state.floatbank10_d_level             5218 non-null float64\n",
      "rougher.state.floatbank10_e_air               5218 non-null float64\n",
      "rougher.state.floatbank10_e_level             5218 non-null float64\n",
      "rougher.state.floatbank10_f_air               5218 non-null float64\n",
      "rougher.state.floatbank10_f_level             5218 non-null float64\n",
      "secondary_cleaner.state.floatbank2_a_air      5218 non-null float64\n",
      "secondary_cleaner.state.floatbank2_a_level    5218 non-null float64\n",
      "secondary_cleaner.state.floatbank2_b_air      5218 non-null float64\n",
      "secondary_cleaner.state.floatbank2_b_level    5218 non-null float64\n",
      "secondary_cleaner.state.floatbank3_a_air      5218 non-null float64\n",
      "secondary_cleaner.state.floatbank3_a_level    5218 non-null float64\n",
      "secondary_cleaner.state.floatbank3_b_air      5218 non-null float64\n",
      "secondary_cleaner.state.floatbank3_b_level    5218 non-null float64\n",
      "secondary_cleaner.state.floatbank4_a_air      5218 non-null float64\n",
      "secondary_cleaner.state.floatbank4_a_level    5218 non-null float64\n",
      "secondary_cleaner.state.floatbank4_b_air      5218 non-null float64\n",
      "secondary_cleaner.state.floatbank4_b_level    5218 non-null float64\n",
      "secondary_cleaner.state.floatbank5_a_air      5218 non-null float64\n",
      "secondary_cleaner.state.floatbank5_a_level    5218 non-null float64\n",
      "secondary_cleaner.state.floatbank5_b_air      5218 non-null float64\n",
      "secondary_cleaner.state.floatbank5_b_level    5218 non-null float64\n",
      "secondary_cleaner.state.floatbank6_a_air      5218 non-null float64\n",
      "secondary_cleaner.state.floatbank6_a_level    5218 non-null float64\n",
      "final.output.recovery                         5218 non-null float64\n",
      "rougher.output.recovery                       5218 non-null float64\n",
      "dtypes: float64(54), object(1)\n",
      "memory usage: 2.2+ MB\n"
     ]
    }
   ],
   "source": [
    "# добавим целевые признаки в тестовую выборку из полной выборки\n",
    "\n",
    "\n",
    "df_test = df_test.merge(df_full[['date','final.output.recovery']], on='date')\n",
    "\n",
    "df_test = df_test.merge(df_full[['date','rougher.output.recovery']], on='date')\n",
    "\n",
    "df_test.info()"
   ]
  },
  {
   "cell_type": "markdown",
   "metadata": {},
   "source": [
    "Разобьем данные df_test на признаки и целевые признаки"
   ]
  },
  {
   "cell_type": "code",
   "execution_count": 74,
   "metadata": {},
   "outputs": [],
   "source": [
    "target_rougher_test = df_test['rougher.output.recovery']\n",
    "\n",
    "target_final_test = df_test['final.output.recovery']\n",
    "\n",
    "features_test = df_test.drop(['date','final.output.recovery','rougher.output.recovery'], axis=1)"
   ]
  },
  {
   "cell_type": "markdown",
   "metadata": {},
   "source": [
    "Урежем df_train по количесву столбцов как в df_test"
   ]
  },
  {
   "cell_type": "code",
   "execution_count": 75,
   "metadata": {},
   "outputs": [],
   "source": [
    "for column in df_train:\n",
    "    if column in df_train_uniq_columns:\n",
    "                df_train = df_train.drop([column],axis=1)\n",
    "    "
   ]
  },
  {
   "cell_type": "code",
   "execution_count": 76,
   "metadata": {},
   "outputs": [],
   "source": [
    "# добавим целевые признаки\n",
    "\n",
    "\n",
    "df_train = df_train.merge(df_full[['date','final.output.recovery']], on='date')\n",
    "\n",
    "df_train = df_train.merge(df_full[['date','rougher.output.recovery']], on='date')"
   ]
  },
  {
   "cell_type": "code",
   "execution_count": 77,
   "metadata": {},
   "outputs": [
    {
     "data": {
      "text/html": [
       "<div>\n",
       "<style scoped>\n",
       "    .dataframe tbody tr th:only-of-type {\n",
       "        vertical-align: middle;\n",
       "    }\n",
       "\n",
       "    .dataframe tbody tr th {\n",
       "        vertical-align: top;\n",
       "    }\n",
       "\n",
       "    .dataframe thead th {\n",
       "        text-align: right;\n",
       "    }\n",
       "</style>\n",
       "<table border=\"1\" class=\"dataframe\">\n",
       "  <thead>\n",
       "    <tr style=\"text-align: right;\">\n",
       "      <th></th>\n",
       "      <th>date</th>\n",
       "      <th>primary_cleaner.input.sulfate</th>\n",
       "      <th>primary_cleaner.input.depressant</th>\n",
       "      <th>primary_cleaner.input.feed_size</th>\n",
       "      <th>primary_cleaner.input.xanthate</th>\n",
       "      <th>primary_cleaner.state.floatbank8_a_air</th>\n",
       "      <th>primary_cleaner.state.floatbank8_a_level</th>\n",
       "      <th>primary_cleaner.state.floatbank8_b_air</th>\n",
       "      <th>primary_cleaner.state.floatbank8_b_level</th>\n",
       "      <th>primary_cleaner.state.floatbank8_c_air</th>\n",
       "      <th>...</th>\n",
       "      <th>secondary_cleaner.state.floatbank4_b_air</th>\n",
       "      <th>secondary_cleaner.state.floatbank4_b_level</th>\n",
       "      <th>secondary_cleaner.state.floatbank5_a_air</th>\n",
       "      <th>secondary_cleaner.state.floatbank5_a_level</th>\n",
       "      <th>secondary_cleaner.state.floatbank5_b_air</th>\n",
       "      <th>secondary_cleaner.state.floatbank5_b_level</th>\n",
       "      <th>secondary_cleaner.state.floatbank6_a_air</th>\n",
       "      <th>secondary_cleaner.state.floatbank6_a_level</th>\n",
       "      <th>final.output.recovery</th>\n",
       "      <th>rougher.output.recovery</th>\n",
       "    </tr>\n",
       "  </thead>\n",
       "  <tbody>\n",
       "    <tr>\n",
       "      <td>0</td>\n",
       "      <td>2016-01-15 00:00:00</td>\n",
       "      <td>127.092003</td>\n",
       "      <td>10.128295</td>\n",
       "      <td>7.25</td>\n",
       "      <td>0.988759</td>\n",
       "      <td>1549.775757</td>\n",
       "      <td>-498.912140</td>\n",
       "      <td>1551.434204</td>\n",
       "      <td>-516.403442</td>\n",
       "      <td>1549.873901</td>\n",
       "      <td>...</td>\n",
       "      <td>12.099931</td>\n",
       "      <td>-504.715942</td>\n",
       "      <td>9.925633</td>\n",
       "      <td>-498.310211</td>\n",
       "      <td>8.079666</td>\n",
       "      <td>-500.470978</td>\n",
       "      <td>14.151341</td>\n",
       "      <td>-605.841980</td>\n",
       "      <td>70.541216</td>\n",
       "      <td>87.107763</td>\n",
       "    </tr>\n",
       "    <tr>\n",
       "      <td>1</td>\n",
       "      <td>2016-01-15 01:00:00</td>\n",
       "      <td>125.629232</td>\n",
       "      <td>10.296251</td>\n",
       "      <td>7.25</td>\n",
       "      <td>1.002663</td>\n",
       "      <td>1576.166671</td>\n",
       "      <td>-500.904965</td>\n",
       "      <td>1575.950626</td>\n",
       "      <td>-499.865889</td>\n",
       "      <td>1575.994189</td>\n",
       "      <td>...</td>\n",
       "      <td>11.950531</td>\n",
       "      <td>-501.331529</td>\n",
       "      <td>10.039245</td>\n",
       "      <td>-500.169983</td>\n",
       "      <td>7.984757</td>\n",
       "      <td>-500.582168</td>\n",
       "      <td>13.998353</td>\n",
       "      <td>-599.787184</td>\n",
       "      <td>69.266198</td>\n",
       "      <td>86.843261</td>\n",
       "    </tr>\n",
       "    <tr>\n",
       "      <td>2</td>\n",
       "      <td>2016-01-15 02:00:00</td>\n",
       "      <td>123.819808</td>\n",
       "      <td>11.316280</td>\n",
       "      <td>7.25</td>\n",
       "      <td>0.991265</td>\n",
       "      <td>1601.556163</td>\n",
       "      <td>-499.997791</td>\n",
       "      <td>1600.386685</td>\n",
       "      <td>-500.607762</td>\n",
       "      <td>1602.003542</td>\n",
       "      <td>...</td>\n",
       "      <td>11.912783</td>\n",
       "      <td>-501.133383</td>\n",
       "      <td>10.070913</td>\n",
       "      <td>-500.129135</td>\n",
       "      <td>8.013877</td>\n",
       "      <td>-500.517572</td>\n",
       "      <td>14.028663</td>\n",
       "      <td>-601.427363</td>\n",
       "      <td>68.116445</td>\n",
       "      <td>86.842308</td>\n",
       "    </tr>\n",
       "    <tr>\n",
       "      <td>3</td>\n",
       "      <td>2016-01-15 03:00:00</td>\n",
       "      <td>122.270188</td>\n",
       "      <td>11.322140</td>\n",
       "      <td>7.25</td>\n",
       "      <td>0.996739</td>\n",
       "      <td>1599.968720</td>\n",
       "      <td>-500.951778</td>\n",
       "      <td>1600.659236</td>\n",
       "      <td>-499.677094</td>\n",
       "      <td>1600.304144</td>\n",
       "      <td>...</td>\n",
       "      <td>11.999550</td>\n",
       "      <td>-501.193686</td>\n",
       "      <td>9.970366</td>\n",
       "      <td>-499.201640</td>\n",
       "      <td>7.977324</td>\n",
       "      <td>-500.255908</td>\n",
       "      <td>14.005551</td>\n",
       "      <td>-599.996129</td>\n",
       "      <td>68.347543</td>\n",
       "      <td>87.226430</td>\n",
       "    </tr>\n",
       "    <tr>\n",
       "      <td>4</td>\n",
       "      <td>2016-01-15 04:00:00</td>\n",
       "      <td>117.988169</td>\n",
       "      <td>11.913613</td>\n",
       "      <td>7.25</td>\n",
       "      <td>1.009869</td>\n",
       "      <td>1601.339707</td>\n",
       "      <td>-498.975456</td>\n",
       "      <td>1601.437854</td>\n",
       "      <td>-500.323246</td>\n",
       "      <td>1599.581894</td>\n",
       "      <td>...</td>\n",
       "      <td>11.953070</td>\n",
       "      <td>-501.053894</td>\n",
       "      <td>9.925709</td>\n",
       "      <td>-501.686727</td>\n",
       "      <td>7.894242</td>\n",
       "      <td>-500.356035</td>\n",
       "      <td>13.996647</td>\n",
       "      <td>-601.496691</td>\n",
       "      <td>66.927016</td>\n",
       "      <td>86.688794</td>\n",
       "    </tr>\n",
       "  </tbody>\n",
       "</table>\n",
       "<p>5 rows × 55 columns</p>\n",
       "</div>"
      ],
      "text/plain": [
       "                  date  primary_cleaner.input.sulfate  \\\n",
       "0  2016-01-15 00:00:00                     127.092003   \n",
       "1  2016-01-15 01:00:00                     125.629232   \n",
       "2  2016-01-15 02:00:00                     123.819808   \n",
       "3  2016-01-15 03:00:00                     122.270188   \n",
       "4  2016-01-15 04:00:00                     117.988169   \n",
       "\n",
       "   primary_cleaner.input.depressant  primary_cleaner.input.feed_size  \\\n",
       "0                         10.128295                             7.25   \n",
       "1                         10.296251                             7.25   \n",
       "2                         11.316280                             7.25   \n",
       "3                         11.322140                             7.25   \n",
       "4                         11.913613                             7.25   \n",
       "\n",
       "   primary_cleaner.input.xanthate  primary_cleaner.state.floatbank8_a_air  \\\n",
       "0                        0.988759                             1549.775757   \n",
       "1                        1.002663                             1576.166671   \n",
       "2                        0.991265                             1601.556163   \n",
       "3                        0.996739                             1599.968720   \n",
       "4                        1.009869                             1601.339707   \n",
       "\n",
       "   primary_cleaner.state.floatbank8_a_level  \\\n",
       "0                               -498.912140   \n",
       "1                               -500.904965   \n",
       "2                               -499.997791   \n",
       "3                               -500.951778   \n",
       "4                               -498.975456   \n",
       "\n",
       "   primary_cleaner.state.floatbank8_b_air  \\\n",
       "0                             1551.434204   \n",
       "1                             1575.950626   \n",
       "2                             1600.386685   \n",
       "3                             1600.659236   \n",
       "4                             1601.437854   \n",
       "\n",
       "   primary_cleaner.state.floatbank8_b_level  \\\n",
       "0                               -516.403442   \n",
       "1                               -499.865889   \n",
       "2                               -500.607762   \n",
       "3                               -499.677094   \n",
       "4                               -500.323246   \n",
       "\n",
       "   primary_cleaner.state.floatbank8_c_air  ...  \\\n",
       "0                             1549.873901  ...   \n",
       "1                             1575.994189  ...   \n",
       "2                             1602.003542  ...   \n",
       "3                             1600.304144  ...   \n",
       "4                             1599.581894  ...   \n",
       "\n",
       "   secondary_cleaner.state.floatbank4_b_air  \\\n",
       "0                                 12.099931   \n",
       "1                                 11.950531   \n",
       "2                                 11.912783   \n",
       "3                                 11.999550   \n",
       "4                                 11.953070   \n",
       "\n",
       "   secondary_cleaner.state.floatbank4_b_level  \\\n",
       "0                                 -504.715942   \n",
       "1                                 -501.331529   \n",
       "2                                 -501.133383   \n",
       "3                                 -501.193686   \n",
       "4                                 -501.053894   \n",
       "\n",
       "   secondary_cleaner.state.floatbank5_a_air  \\\n",
       "0                                  9.925633   \n",
       "1                                 10.039245   \n",
       "2                                 10.070913   \n",
       "3                                  9.970366   \n",
       "4                                  9.925709   \n",
       "\n",
       "   secondary_cleaner.state.floatbank5_a_level  \\\n",
       "0                                 -498.310211   \n",
       "1                                 -500.169983   \n",
       "2                                 -500.129135   \n",
       "3                                 -499.201640   \n",
       "4                                 -501.686727   \n",
       "\n",
       "   secondary_cleaner.state.floatbank5_b_air  \\\n",
       "0                                  8.079666   \n",
       "1                                  7.984757   \n",
       "2                                  8.013877   \n",
       "3                                  7.977324   \n",
       "4                                  7.894242   \n",
       "\n",
       "   secondary_cleaner.state.floatbank5_b_level  \\\n",
       "0                                 -500.470978   \n",
       "1                                 -500.582168   \n",
       "2                                 -500.517572   \n",
       "3                                 -500.255908   \n",
       "4                                 -500.356035   \n",
       "\n",
       "   secondary_cleaner.state.floatbank6_a_air  \\\n",
       "0                                 14.151341   \n",
       "1                                 13.998353   \n",
       "2                                 14.028663   \n",
       "3                                 14.005551   \n",
       "4                                 13.996647   \n",
       "\n",
       "   secondary_cleaner.state.floatbank6_a_level  final.output.recovery  \\\n",
       "0                                 -605.841980              70.541216   \n",
       "1                                 -599.787184              69.266198   \n",
       "2                                 -601.427363              68.116445   \n",
       "3                                 -599.996129              68.347543   \n",
       "4                                 -601.496691              66.927016   \n",
       "\n",
       "   rougher.output.recovery  \n",
       "0                87.107763  \n",
       "1                86.843261  \n",
       "2                86.842308  \n",
       "3                87.226430  \n",
       "4                86.688794  \n",
       "\n",
       "[5 rows x 55 columns]"
      ]
     },
     "execution_count": 77,
     "metadata": {},
     "output_type": "execute_result"
    }
   ],
   "source": [
    "df_train.head()"
   ]
  },
  {
   "cell_type": "code",
   "execution_count": 78,
   "metadata": {},
   "outputs": [
    {
     "data": {
      "text/plain": [
       "(12935, 55)"
      ]
     },
     "execution_count": 78,
     "metadata": {},
     "output_type": "execute_result"
    }
   ],
   "source": [
    "df_train.shape"
   ]
  },
  {
   "cell_type": "markdown",
   "metadata": {},
   "source": [
    "Разделим обучающую выборку на признаки и целевой признак."
   ]
  },
  {
   "cell_type": "code",
   "execution_count": 79,
   "metadata": {},
   "outputs": [],
   "source": [
    "#  обычающая выборка\n",
    "\n",
    "\n",
    "target_rougher_train = df_train['rougher.output.recovery']\n",
    "\n",
    "target_final_train = df_train['final.output.recovery']\n",
    "\n",
    "features_train = df_train.drop(['date','final.output.recovery','rougher.output.recovery'], axis=1)"
   ]
  },
  {
   "cell_type": "code",
   "execution_count": 80,
   "metadata": {},
   "outputs": [
    {
     "data": {
      "text/plain": [
       "(12935,)"
      ]
     },
     "execution_count": 80,
     "metadata": {},
     "output_type": "execute_result"
    }
   ],
   "source": [
    "target_rougher_train.shape"
   ]
  },
  {
   "cell_type": "code",
   "execution_count": 81,
   "metadata": {},
   "outputs": [
    {
     "data": {
      "text/plain": [
       "(12935,)"
      ]
     },
     "execution_count": 81,
     "metadata": {},
     "output_type": "execute_result"
    }
   ],
   "source": [
    "target_final_train.shape"
   ]
  },
  {
   "cell_type": "code",
   "execution_count": 82,
   "metadata": {},
   "outputs": [
    {
     "data": {
      "text/plain": [
       "(12935, 52)"
      ]
     },
     "execution_count": 82,
     "metadata": {},
     "output_type": "execute_result"
    }
   ],
   "source": [
    "features_train.shape"
   ]
  },
  {
   "cell_type": "markdown",
   "metadata": {},
   "source": [
    "### Обучение модели"
   ]
  },
  {
   "cell_type": "code",
   "execution_count": 83,
   "metadata": {},
   "outputs": [
    {
     "data": {
      "text/html": [
       "<div>\n",
       "<style scoped>\n",
       "    .dataframe tbody tr th:only-of-type {\n",
       "        vertical-align: middle;\n",
       "    }\n",
       "\n",
       "    .dataframe tbody tr th {\n",
       "        vertical-align: top;\n",
       "    }\n",
       "\n",
       "    .dataframe thead th {\n",
       "        text-align: right;\n",
       "    }\n",
       "</style>\n",
       "<table border=\"1\" class=\"dataframe\">\n",
       "  <thead>\n",
       "    <tr style=\"text-align: right;\">\n",
       "      <th></th>\n",
       "      <th>model name</th>\n",
       "      <th>cross_val_score_rougher</th>\n",
       "      <th>cross_val_score_final</th>\n",
       "      <th>final_score</th>\n",
       "    </tr>\n",
       "  </thead>\n",
       "  <tbody>\n",
       "    <tr>\n",
       "      <td>0</td>\n",
       "      <td>DecisionTreeRegressor</td>\n",
       "      <td>-0.088841</td>\n",
       "      <td>-0.142968</td>\n",
       "      <td>-0.129436</td>\n",
       "    </tr>\n",
       "    <tr>\n",
       "      <td>1</td>\n",
       "      <td>RandomForestRegressor</td>\n",
       "      <td>-0.068293</td>\n",
       "      <td>-0.094066</td>\n",
       "      <td>-0.087622</td>\n",
       "    </tr>\n",
       "    <tr>\n",
       "      <td>2</td>\n",
       "      <td>LinearRegression</td>\n",
       "      <td>-0.068994</td>\n",
       "      <td>-0.102064</td>\n",
       "      <td>-0.093796</td>\n",
       "    </tr>\n",
       "    <tr>\n",
       "      <td>3</td>\n",
       "      <td>DummyRegressor</td>\n",
       "      <td>-0.073434</td>\n",
       "      <td>-0.096667</td>\n",
       "      <td>-0.090859</td>\n",
       "    </tr>\n",
       "  </tbody>\n",
       "</table>\n",
       "</div>"
      ],
      "text/plain": [
       "              model name  cross_val_score_rougher  cross_val_score_final  \\\n",
       "0  DecisionTreeRegressor                -0.088841              -0.142968   \n",
       "1  RandomForestRegressor                -0.068293              -0.094066   \n",
       "2       LinearRegression                -0.068994              -0.102064   \n",
       "3         DummyRegressor                -0.073434              -0.096667   \n",
       "\n",
       "   final_score  \n",
       "0    -0.129436  \n",
       "1    -0.087622  \n",
       "2    -0.093796  \n",
       "3    -0.090859  "
      ]
     },
     "execution_count": 83,
     "metadata": {},
     "output_type": "execute_result"
    }
   ],
   "source": [
    "# обучим и проверим на кросс-валидации все интересующие нас модели\n",
    "\n",
    "\n",
    "\n",
    "random_state = 123\n",
    "cv = 5\n",
    "models = [DecisionTreeRegressor(random_state = random_state), \n",
    "          RandomForestRegressor(random_state=random_state), \n",
    "          LinearRegression(),\n",
    "          DummyRegressor()]\n",
    "\n",
    "RandomForestRegressor\n",
    "results_cross_val = []\n",
    "\n",
    "for model in models: \n",
    "    \n",
    "    scorer = make_scorer(smape, greater_is_better=False) \n",
    "    \n",
    "    cross_val_score_rougher = cross_val_score(model, \n",
    "                                              features_train, \n",
    "                                              target_rougher_train, \n",
    "                                              cv=cv, scoring=scorer).mean()\n",
    "    cross_val_score_final = cross_val_score(model, \n",
    "                                            features_train, \n",
    "                                            target_final_train, \n",
    "                                            cv=cv, scoring=scorer).mean()\n",
    "    \n",
    "    final_score = final_smape(cross_val_score_rougher,cross_val_score_final)\n",
    "\n",
    "    results_cross_val.append({'model name': model.__class__.__name__, \n",
    "                              'cross_val_score_rougher': cross_val_score_rougher, \n",
    "                              'cross_val_score_final': cross_val_score_final,\n",
    "                              'final_score':final_score}) \n",
    "              \n",
    "pd.DataFrame(results_cross_val)"
   ]
  },
  {
   "cell_type": "markdown",
   "metadata": {},
   "source": [
    "Лучшая модель на кросс-валидации - RandomForestRegressor и результаты у которой лучше чем у константной модели."
   ]
  },
  {
   "cell_type": "markdown",
   "metadata": {},
   "source": [
    "### Проверка на тестовой выборке"
   ]
  },
  {
   "cell_type": "code",
   "execution_count": 84,
   "metadata": {},
   "outputs": [
    {
     "name": "stdout",
     "output_type": "stream",
     "text": [
      "sMAPE признка rougher 0.07911791809715324\n",
      "sMAPE признка final 0.0965914810171016\n",
      "final sMAPE 0.09222309028711452\n"
     ]
    }
   ],
   "source": [
    "# проверим лучшую модель на тестовой выборке \n",
    "\n",
    "\n",
    "model  = RandomForestRegressor(random_state=123)\n",
    "model.fit(features_train,target_rougher_train)\n",
    "predictions_test =model.predict(features_test)\n",
    "smape_rougher = smape(target_rougher_test,predictions_test)\n",
    "\n",
    "\n",
    "model.fit(features_train,target_final_train)\n",
    "predictions_test =model.predict(features_test)\n",
    "smape_final = smape(target_final_test,predictions_test)\n",
    "\n",
    "final_smape = final_smape(smape_rougher,smape_final)\n",
    "\n",
    "print('sMAPE признка rougher',smape_rougher)\n",
    "print('sMAPE признка final',smape_final)\n",
    "print('final sMAPE',final_smape)"
   ]
  },
  {
   "cell_type": "markdown",
   "metadata": {},
   "source": [
    "Мы получили финальную метрику в размере 9.2% "
   ]
  },
  {
   "cell_type": "markdown",
   "metadata": {},
   "source": [
    "## Выводы"
   ]
  },
  {
   "cell_type": "markdown",
   "metadata": {},
   "source": [
    "По итогу проеданной работы можно сделать выводы:"
   ]
  },
  {
   "cell_type": "markdown",
   "metadata": {},
   "source": [
    "- Мы загрузили данные\n",
    "- Проверили расчет эффективности обогащения\n",
    "- Провели Анализ Недоступных признаков\n",
    "- Провели предобработку данных"
   ]
  },
  {
   "cell_type": "markdown",
   "metadata": {},
   "source": [
    "- Провели анализ изменения концентрации металлов\n",
    "- Сравнили распределения размеров гранул\n",
    "- Исследовали суммарную концентрацию всех веществ"
   ]
  },
  {
   "cell_type": "markdown",
   "metadata": {},
   "source": [
    "- Написали функцию sMAPE\n",
    "- Обучили модели и выбрали лучшую\n",
    "- Провели финальную проверку на тестовой выборке"
   ]
  },
  {
   "cell_type": "markdown",
   "metadata": {},
   "source": [
    "И получили финальный результат погрешности в размере 7.9 и 9.6 % соответственно для двух целевых признаков"
   ]
  },
  {
   "cell_type": "markdown",
   "metadata": {},
   "source": [
    "И итоговую погрешность по формуле равную 9,2 %"
   ]
  },
  {
   "cell_type": "markdown",
   "metadata": {},
   "source": [
    "## Чек-лист готовности проекта"
   ]
  },
  {
   "cell_type": "markdown",
   "metadata": {},
   "source": [
    "- [x]  Jupyter Notebook открыт\n",
    "- [x]  Весь код выполняется без ошибок\n",
    "- [x]  Ячейки с кодом расположены в порядке выполнения\n",
    "- [x]  Выполнен шаг 1: данные подготовлены\n",
    "    - [x]  Проверена формула вычисления эффективности обогащения\n",
    "    - [x]  Проанализированы признаки, недоступные в тестовой выборке\n",
    "    - [x]  Проведена предобработка данных\n",
    "- [x]  Выполнен шаг 2: данные проанализированы\n",
    "    - [x]  Исследовано изменение концентрации элементов на каждом этапе\n",
    "    - [x]  Проанализированы распределения размеров гранул на обучающей и тестовой выборках\n",
    "    - [x]  Исследованы суммарные концентрации\n",
    "- [x]  Выполнен шаг 3: построена модель прогнозирования\n",
    "    - [x]  Написана функция для вычисления итогового *sMAPE*\n",
    "    - [x]  Обучено и проверено несколько моделей\n",
    "    - [x]  Выбрана лучшая модель, её качество проверено на тестовой выборке"
   ]
  },
  {
   "cell_type": "code",
   "execution_count": null,
   "metadata": {},
   "outputs": [],
   "source": []
  }
 ],
 "metadata": {
  "ExecuteTimeLog": [
   {
    "duration": 1235,
    "start_time": "2022-02-08T18:55:03.132Z"
   },
   {
    "duration": 2095,
    "start_time": "2022-02-08T18:55:05.557Z"
   },
   {
    "duration": 5,
    "start_time": "2022-02-08T18:58:25.387Z"
   },
   {
    "duration": 2008,
    "start_time": "2022-02-08T18:58:27.718Z"
   },
   {
    "duration": 2317,
    "start_time": "2022-02-08T18:59:55.592Z"
   },
   {
    "duration": 1097,
    "start_time": "2022-02-08T19:00:14.449Z"
   },
   {
    "duration": 33,
    "start_time": "2022-02-08T19:00:17.292Z"
   },
   {
    "duration": 18,
    "start_time": "2022-02-08T19:00:19.049Z"
   },
   {
    "duration": 27,
    "start_time": "2022-02-08T19:00:19.304Z"
   },
   {
    "duration": 12,
    "start_time": "2022-02-08T19:00:19.726Z"
   },
   {
    "duration": 30,
    "start_time": "2022-02-08T19:00:20.023Z"
   },
   {
    "duration": 18,
    "start_time": "2022-02-08T19:00:20.550Z"
   },
   {
    "duration": 1541,
    "start_time": "2022-02-09T13:55:07.689Z"
   },
   {
    "duration": 1126,
    "start_time": "2022-02-09T13:55:09.233Z"
   },
   {
    "duration": 49,
    "start_time": "2022-02-09T13:55:10.362Z"
   },
   {
    "duration": 26,
    "start_time": "2022-02-09T13:55:10.413Z"
   },
   {
    "duration": 439,
    "start_time": "2022-02-09T13:55:10.441Z"
   },
   {
    "duration": -134,
    "start_time": "2022-02-09T13:55:11.017Z"
   },
   {
    "duration": -134,
    "start_time": "2022-02-09T13:55:11.018Z"
   },
   {
    "duration": -145,
    "start_time": "2022-02-09T13:55:11.031Z"
   },
   {
    "duration": -147,
    "start_time": "2022-02-09T13:55:11.034Z"
   },
   {
    "duration": 295,
    "start_time": "2022-02-09T13:55:33.288Z"
   },
   {
    "duration": 14,
    "start_time": "2022-02-09T13:59:26.171Z"
   },
   {
    "duration": 41,
    "start_time": "2022-02-09T13:59:28.316Z"
   },
   {
    "duration": 23,
    "start_time": "2022-02-09T14:01:19.438Z"
   },
   {
    "duration": 7,
    "start_time": "2022-02-09T14:04:12.016Z"
   },
   {
    "duration": 951,
    "start_time": "2022-02-09T14:04:12.026Z"
   },
   {
    "duration": 42,
    "start_time": "2022-02-09T14:04:12.980Z"
   },
   {
    "duration": 45,
    "start_time": "2022-02-09T14:04:13.024Z"
   },
   {
    "duration": 12,
    "start_time": "2022-02-09T14:04:13.072Z"
   },
   {
    "duration": 41,
    "start_time": "2022-02-09T14:04:13.086Z"
   },
   {
    "duration": 58,
    "start_time": "2022-02-09T14:04:13.129Z"
   },
   {
    "duration": 18,
    "start_time": "2022-02-09T14:04:13.189Z"
   },
   {
    "duration": 8,
    "start_time": "2022-02-09T14:04:13.210Z"
   },
   {
    "duration": 24,
    "start_time": "2022-02-09T14:04:13.220Z"
   },
   {
    "duration": 62,
    "start_time": "2022-02-09T14:04:13.247Z"
   },
   {
    "duration": 25,
    "start_time": "2022-02-09T14:04:13.312Z"
   },
   {
    "duration": 151,
    "start_time": "2022-02-09T14:04:13.340Z"
   },
   {
    "duration": -135,
    "start_time": "2022-02-09T14:04:13.628Z"
   },
   {
    "duration": -137,
    "start_time": "2022-02-09T14:04:13.632Z"
   },
   {
    "duration": 18,
    "start_time": "2022-02-09T14:04:50.138Z"
   },
   {
    "duration": 26,
    "start_time": "2022-02-09T14:04:50.456Z"
   },
   {
    "duration": 29,
    "start_time": "2022-02-09T14:52:37.215Z"
   },
   {
    "duration": 13,
    "start_time": "2022-02-09T15:06:08.092Z"
   },
   {
    "duration": 33,
    "start_time": "2022-02-09T15:06:10.878Z"
   },
   {
    "duration": 7,
    "start_time": "2022-02-09T15:06:42.378Z"
   },
   {
    "duration": 32,
    "start_time": "2022-02-09T15:06:43.138Z"
   },
   {
    "duration": 8,
    "start_time": "2022-02-09T15:09:39.033Z"
   },
   {
    "duration": 36,
    "start_time": "2022-02-09T15:09:40.574Z"
   },
   {
    "duration": 8,
    "start_time": "2022-02-09T15:13:12.955Z"
   },
   {
    "duration": 7,
    "start_time": "2022-02-09T15:15:24.857Z"
   },
   {
    "duration": 9,
    "start_time": "2022-02-09T15:18:13.300Z"
   },
   {
    "duration": 8,
    "start_time": "2022-02-09T15:18:14.083Z"
   },
   {
    "duration": 7,
    "start_time": "2022-02-09T15:19:16.990Z"
   },
   {
    "duration": 6,
    "start_time": "2022-02-09T15:19:24.140Z"
   },
   {
    "duration": 118,
    "start_time": "2022-02-09T15:21:00.909Z"
   },
   {
    "duration": 1522,
    "start_time": "2022-02-10T14:46:35.771Z"
   },
   {
    "duration": 840,
    "start_time": "2022-02-10T14:46:37.296Z"
   },
   {
    "duration": 55,
    "start_time": "2022-02-10T14:46:38.139Z"
   },
   {
    "duration": 25,
    "start_time": "2022-02-10T14:46:38.197Z"
   },
   {
    "duration": 37,
    "start_time": "2022-02-10T14:46:38.224Z"
   },
   {
    "duration": 27,
    "start_time": "2022-02-10T14:46:38.264Z"
   },
   {
    "duration": 73,
    "start_time": "2022-02-10T14:46:38.294Z"
   },
   {
    "duration": 17,
    "start_time": "2022-02-10T14:46:38.370Z"
   },
   {
    "duration": 5,
    "start_time": "2022-02-10T14:46:38.392Z"
   },
   {
    "duration": 21,
    "start_time": "2022-02-10T14:46:38.400Z"
   },
   {
    "duration": 80,
    "start_time": "2022-02-10T14:46:38.423Z"
   },
   {
    "duration": 28,
    "start_time": "2022-02-10T14:46:38.506Z"
   },
   {
    "duration": 36,
    "start_time": "2022-02-10T14:46:38.536Z"
   },
   {
    "duration": 28,
    "start_time": "2022-02-10T14:46:38.574Z"
   },
   {
    "duration": 13,
    "start_time": "2022-02-10T14:46:38.604Z"
   },
   {
    "duration": 5,
    "start_time": "2022-02-10T14:46:38.619Z"
   },
   {
    "duration": 6,
    "start_time": "2022-02-10T14:46:57.584Z"
   },
   {
    "duration": 134,
    "start_time": "2022-02-10T14:51:08.308Z"
   },
   {
    "duration": 549,
    "start_time": "2022-02-10T14:51:12.541Z"
   },
   {
    "duration": 6,
    "start_time": "2022-02-10T14:51:45.500Z"
   },
   {
    "duration": 6,
    "start_time": "2022-02-10T14:52:12.279Z"
   },
   {
    "duration": 6,
    "start_time": "2022-02-10T14:52:18.114Z"
   },
   {
    "duration": 8,
    "start_time": "2022-02-10T14:52:30.184Z"
   },
   {
    "duration": 403,
    "start_time": "2022-02-10T14:55:33.737Z"
   },
   {
    "duration": 12,
    "start_time": "2022-02-10T14:55:42.301Z"
   },
   {
    "duration": 6,
    "start_time": "2022-02-10T14:56:58.767Z"
   },
   {
    "duration": 6,
    "start_time": "2022-02-10T14:57:25.559Z"
   },
   {
    "duration": 8,
    "start_time": "2022-02-10T14:57:43.407Z"
   },
   {
    "duration": 7,
    "start_time": "2022-02-10T14:58:13.573Z"
   },
   {
    "duration": 5,
    "start_time": "2022-02-10T14:58:25.481Z"
   },
   {
    "duration": 5,
    "start_time": "2022-02-10T14:58:32.152Z"
   },
   {
    "duration": 9,
    "start_time": "2022-02-10T14:58:32.801Z"
   },
   {
    "duration": 6,
    "start_time": "2022-02-10T14:58:33.822Z"
   },
   {
    "duration": 11,
    "start_time": "2022-02-10T15:18:43.804Z"
   },
   {
    "duration": 881,
    "start_time": "2022-02-10T15:18:43.817Z"
   },
   {
    "duration": 40,
    "start_time": "2022-02-10T15:18:44.701Z"
   },
   {
    "duration": 34,
    "start_time": "2022-02-10T15:18:44.743Z"
   },
   {
    "duration": 3,
    "start_time": "2022-02-10T15:18:44.780Z"
   },
   {
    "duration": 21,
    "start_time": "2022-02-10T15:18:44.786Z"
   },
   {
    "duration": 75,
    "start_time": "2022-02-10T15:18:44.809Z"
   },
   {
    "duration": 16,
    "start_time": "2022-02-10T15:18:44.886Z"
   },
   {
    "duration": 3,
    "start_time": "2022-02-10T15:18:44.906Z"
   },
   {
    "duration": 52,
    "start_time": "2022-02-10T15:18:44.912Z"
   },
   {
    "duration": 42,
    "start_time": "2022-02-10T15:18:44.966Z"
   },
   {
    "duration": 53,
    "start_time": "2022-02-10T15:18:45.011Z"
   },
   {
    "duration": 4,
    "start_time": "2022-02-10T15:18:45.067Z"
   },
   {
    "duration": 23,
    "start_time": "2022-02-10T15:18:45.073Z"
   },
   {
    "duration": 8,
    "start_time": "2022-02-10T15:18:45.099Z"
   },
   {
    "duration": 8,
    "start_time": "2022-02-10T15:18:45.111Z"
   },
   {
    "duration": 5,
    "start_time": "2022-02-10T15:18:45.160Z"
   },
   {
    "duration": 8,
    "start_time": "2022-02-10T15:18:45.169Z"
   },
   {
    "duration": 5,
    "start_time": "2022-02-10T15:18:45.180Z"
   },
   {
    "duration": 71,
    "start_time": "2022-02-10T15:18:45.188Z"
   },
   {
    "duration": 8,
    "start_time": "2022-02-10T15:18:45.262Z"
   },
   {
    "duration": 16,
    "start_time": "2022-02-10T15:18:45.273Z"
   },
   {
    "duration": 466,
    "start_time": "2022-02-10T15:18:45.292Z"
   },
   {
    "duration": 31,
    "start_time": "2022-02-10T15:19:14.951Z"
   },
   {
    "duration": 205,
    "start_time": "2022-02-10T15:19:41.645Z"
   },
   {
    "duration": 27,
    "start_time": "2022-02-10T15:19:46.045Z"
   },
   {
    "duration": 13,
    "start_time": "2022-02-10T15:20:19.899Z"
   },
   {
    "duration": 13,
    "start_time": "2022-02-10T15:20:20.099Z"
   },
   {
    "duration": 5,
    "start_time": "2022-02-10T15:20:20.290Z"
   },
   {
    "duration": 9,
    "start_time": "2022-02-10T15:20:20.645Z"
   },
   {
    "duration": 16,
    "start_time": "2022-02-10T15:20:20.904Z"
   },
   {
    "duration": 13,
    "start_time": "2022-02-10T15:20:21.295Z"
   },
   {
    "duration": 21,
    "start_time": "2022-02-10T15:20:24.191Z"
   },
   {
    "duration": 7,
    "start_time": "2022-02-10T15:35:20.185Z"
   },
   {
    "duration": 9645,
    "start_time": "2022-02-10T15:38:56.336Z"
   },
   {
    "duration": 14192,
    "start_time": "2022-02-10T15:40:31.169Z"
   },
   {
    "duration": 388,
    "start_time": "2022-02-10T15:40:53.814Z"
   },
   {
    "duration": 8,
    "start_time": "2022-02-10T15:44:57.108Z"
   },
   {
    "duration": 5,
    "start_time": "2022-02-10T15:45:05.041Z"
   },
   {
    "duration": 5,
    "start_time": "2022-02-10T15:47:25.575Z"
   },
   {
    "duration": 5,
    "start_time": "2022-02-10T15:47:41.129Z"
   },
   {
    "duration": 4,
    "start_time": "2022-02-10T15:47:41.796Z"
   },
   {
    "duration": 7,
    "start_time": "2022-02-10T16:01:35.555Z"
   },
   {
    "duration": 449,
    "start_time": "2022-02-10T16:01:36.725Z"
   },
   {
    "duration": 7,
    "start_time": "2022-02-10T16:01:42.313Z"
   },
   {
    "duration": 5,
    "start_time": "2022-02-10T16:01:42.415Z"
   },
   {
    "duration": 5,
    "start_time": "2022-02-10T16:01:42.757Z"
   },
   {
    "duration": 6,
    "start_time": "2022-02-10T16:01:43.033Z"
   },
   {
    "duration": 5,
    "start_time": "2022-02-10T16:01:43.481Z"
   },
   {
    "duration": 5,
    "start_time": "2022-02-10T16:01:43.886Z"
   },
   {
    "duration": 5,
    "start_time": "2022-02-10T16:02:13.856Z"
   },
   {
    "duration": 5,
    "start_time": "2022-02-10T16:02:14.366Z"
   },
   {
    "duration": 5,
    "start_time": "2022-02-10T16:02:35.040Z"
   },
   {
    "duration": 5,
    "start_time": "2022-02-10T16:02:35.440Z"
   },
   {
    "duration": 4,
    "start_time": "2022-02-10T16:02:36.226Z"
   },
   {
    "duration": 6,
    "start_time": "2022-02-10T16:03:39.240Z"
   },
   {
    "duration": 5,
    "start_time": "2022-02-10T16:03:39.562Z"
   },
   {
    "duration": 5,
    "start_time": "2022-02-10T16:03:39.817Z"
   },
   {
    "duration": 6,
    "start_time": "2022-02-10T16:03:40.621Z"
   },
   {
    "duration": 6,
    "start_time": "2022-02-10T16:03:48.830Z"
   },
   {
    "duration": 5,
    "start_time": "2022-02-10T16:03:49.105Z"
   },
   {
    "duration": 5,
    "start_time": "2022-02-10T16:03:49.358Z"
   },
   {
    "duration": 5,
    "start_time": "2022-02-10T16:03:49.616Z"
   },
   {
    "duration": 5,
    "start_time": "2022-02-10T16:04:49.621Z"
   },
   {
    "duration": 5,
    "start_time": "2022-02-10T16:04:49.876Z"
   },
   {
    "duration": 5,
    "start_time": "2022-02-10T16:04:50.155Z"
   },
   {
    "duration": 6,
    "start_time": "2022-02-10T16:07:25.894Z"
   },
   {
    "duration": 4,
    "start_time": "2022-02-10T16:07:26.539Z"
   },
   {
    "duration": 4,
    "start_time": "2022-02-10T16:07:26.946Z"
   },
   {
    "duration": 5,
    "start_time": "2022-02-10T16:07:27.286Z"
   },
   {
    "duration": 6,
    "start_time": "2022-02-10T16:20:18.872Z"
   },
   {
    "duration": 8,
    "start_time": "2022-02-10T16:49:28.095Z"
   },
   {
    "duration": 6,
    "start_time": "2022-02-10T17:50:00.927Z"
   },
   {
    "duration": 6,
    "start_time": "2022-02-10T17:50:19.617Z"
   },
   {
    "duration": 7,
    "start_time": "2022-02-10T17:53:16.948Z"
   },
   {
    "duration": 9,
    "start_time": "2022-02-10T17:59:22.758Z"
   },
   {
    "duration": 11,
    "start_time": "2022-02-10T17:59:35.841Z"
   },
   {
    "duration": 373,
    "start_time": "2022-02-10T18:12:18.616Z"
   },
   {
    "duration": 371,
    "start_time": "2022-02-10T18:12:49.287Z"
   },
   {
    "duration": 3565,
    "start_time": "2022-02-10T18:15:55.333Z"
   },
   {
    "duration": 372,
    "start_time": "2022-02-10T18:16:46.697Z"
   },
   {
    "duration": 362,
    "start_time": "2022-02-10T18:19:06.242Z"
   },
   {
    "duration": 384,
    "start_time": "2022-02-10T18:19:15.418Z"
   },
   {
    "duration": 17716,
    "start_time": "2022-02-10T18:20:11.127Z"
   },
   {
    "duration": 4920,
    "start_time": "2022-02-10T18:21:30.945Z"
   },
   {
    "duration": 309,
    "start_time": "2022-02-10T18:21:52.122Z"
   },
   {
    "duration": 431,
    "start_time": "2022-02-10T18:34:45.576Z"
   },
   {
    "duration": 464,
    "start_time": "2022-02-10T18:36:30.752Z"
   },
   {
    "duration": 1919,
    "start_time": "2022-02-10T18:39:45.752Z"
   },
   {
    "duration": 478,
    "start_time": "2022-02-10T18:40:01.215Z"
   },
   {
    "duration": 1393,
    "start_time": "2022-02-11T11:43:53.047Z"
   },
   {
    "duration": 841,
    "start_time": "2022-02-11T11:43:54.442Z"
   },
   {
    "duration": 59,
    "start_time": "2022-02-11T11:43:55.287Z"
   },
   {
    "duration": 23,
    "start_time": "2022-02-11T11:43:55.349Z"
   },
   {
    "duration": 4,
    "start_time": "2022-02-11T11:43:55.375Z"
   },
   {
    "duration": 50,
    "start_time": "2022-02-11T11:43:55.382Z"
   },
   {
    "duration": 39,
    "start_time": "2022-02-11T11:43:55.435Z"
   },
   {
    "duration": 15,
    "start_time": "2022-02-11T11:43:55.477Z"
   },
   {
    "duration": 29,
    "start_time": "2022-02-11T11:43:55.495Z"
   },
   {
    "duration": 15,
    "start_time": "2022-02-11T11:43:55.526Z"
   },
   {
    "duration": 43,
    "start_time": "2022-02-11T11:43:55.543Z"
   },
   {
    "duration": 55,
    "start_time": "2022-02-11T11:43:55.590Z"
   },
   {
    "duration": 4,
    "start_time": "2022-02-11T11:43:55.648Z"
   },
   {
    "duration": 22,
    "start_time": "2022-02-11T11:43:55.655Z"
   },
   {
    "duration": 47,
    "start_time": "2022-02-11T11:43:55.679Z"
   },
   {
    "duration": 6,
    "start_time": "2022-02-11T11:43:55.728Z"
   },
   {
    "duration": 9,
    "start_time": "2022-02-11T11:43:55.737Z"
   },
   {
    "duration": 10,
    "start_time": "2022-02-11T11:43:55.749Z"
   },
   {
    "duration": 5,
    "start_time": "2022-02-11T11:43:55.761Z"
   },
   {
    "duration": 69,
    "start_time": "2022-02-11T11:43:55.769Z"
   },
   {
    "duration": 12,
    "start_time": "2022-02-11T11:43:55.840Z"
   },
   {
    "duration": 10,
    "start_time": "2022-02-11T11:43:55.854Z"
   },
   {
    "duration": 11,
    "start_time": "2022-02-11T11:43:55.871Z"
   },
   {
    "duration": 51,
    "start_time": "2022-02-11T11:43:55.886Z"
   },
   {
    "duration": 18,
    "start_time": "2022-02-11T11:43:55.940Z"
   },
   {
    "duration": 10,
    "start_time": "2022-02-11T11:43:55.961Z"
   },
   {
    "duration": 52,
    "start_time": "2022-02-11T11:43:55.974Z"
   },
   {
    "duration": 7,
    "start_time": "2022-02-11T11:43:56.029Z"
   },
   {
    "duration": 8,
    "start_time": "2022-02-11T11:43:56.039Z"
   },
   {
    "duration": 10,
    "start_time": "2022-02-11T11:43:56.051Z"
   },
   {
    "duration": 7,
    "start_time": "2022-02-11T11:43:56.065Z"
   },
   {
    "duration": 53,
    "start_time": "2022-02-11T11:43:56.075Z"
   },
   {
    "duration": 6,
    "start_time": "2022-02-11T11:43:56.131Z"
   },
   {
    "duration": 7,
    "start_time": "2022-02-11T11:43:56.140Z"
   },
   {
    "duration": 6,
    "start_time": "2022-02-11T11:43:56.150Z"
   },
   {
    "duration": 6,
    "start_time": "2022-02-11T11:43:56.159Z"
   },
   {
    "duration": 6,
    "start_time": "2022-02-11T11:43:56.224Z"
   },
   {
    "duration": 14,
    "start_time": "2022-02-11T11:43:56.233Z"
   },
   {
    "duration": 4995,
    "start_time": "2022-02-11T11:43:56.249Z"
   },
   {
    "duration": 711,
    "start_time": "2022-02-11T11:44:01.246Z"
   },
   {
    "duration": 1777,
    "start_time": "2022-02-11T11:44:01.960Z"
   },
   {
    "duration": 637,
    "start_time": "2022-02-11T11:44:03.740Z"
   },
   {
    "duration": 584,
    "start_time": "2022-02-11T11:45:37.066Z"
   },
   {
    "duration": 1296,
    "start_time": "2022-02-11T11:47:35.551Z"
   },
   {
    "duration": 457,
    "start_time": "2022-02-11T11:47:41.087Z"
   },
   {
    "duration": 683,
    "start_time": "2022-02-11T11:48:03.731Z"
   },
   {
    "duration": 463,
    "start_time": "2022-02-11T11:48:05.116Z"
   },
   {
    "duration": 9,
    "start_time": "2022-02-11T12:07:14.781Z"
   },
   {
    "duration": 8076,
    "start_time": "2022-02-11T12:10:50.109Z"
   },
   {
    "duration": 10,
    "start_time": "2022-02-11T12:11:23.809Z"
   },
   {
    "duration": 10,
    "start_time": "2022-02-11T12:14:10.015Z"
   },
   {
    "duration": 91,
    "start_time": "2022-02-11T12:24:39.866Z"
   },
   {
    "duration": 10,
    "start_time": "2022-02-11T12:25:23.603Z"
   },
   {
    "duration": 8,
    "start_time": "2022-02-11T12:25:24.350Z"
   },
   {
    "duration": 10,
    "start_time": "2022-02-11T12:25:25.838Z"
   },
   {
    "duration": 141,
    "start_time": "2022-02-11T12:25:26.354Z"
   },
   {
    "duration": 132,
    "start_time": "2022-02-11T12:26:00.784Z"
   },
   {
    "duration": 93,
    "start_time": "2022-02-11T12:27:07.105Z"
   },
   {
    "duration": 104,
    "start_time": "2022-02-11T12:34:45.799Z"
   },
   {
    "duration": 16,
    "start_time": "2022-02-11T12:34:52.857Z"
   },
   {
    "duration": 10,
    "start_time": "2022-02-11T12:50:33.518Z"
   },
   {
    "duration": 6,
    "start_time": "2022-02-11T12:50:33.899Z"
   },
   {
    "duration": 8,
    "start_time": "2022-02-11T12:50:34.151Z"
   },
   {
    "duration": 13,
    "start_time": "2022-02-11T12:50:35.168Z"
   },
   {
    "duration": 5,
    "start_time": "2022-02-11T12:53:22.190Z"
   },
   {
    "duration": 9,
    "start_time": "2022-02-11T12:54:59.983Z"
   },
   {
    "duration": 16,
    "start_time": "2022-02-11T12:55:01.236Z"
   },
   {
    "duration": 589,
    "start_time": "2022-02-11T12:55:39.362Z"
   },
   {
    "duration": 17,
    "start_time": "2022-02-11T12:57:36.663Z"
   },
   {
    "duration": 560,
    "start_time": "2022-02-11T13:01:19.463Z"
   },
   {
    "duration": 563,
    "start_time": "2022-02-11T13:01:37.052Z"
   },
   {
    "duration": 21,
    "start_time": "2022-02-11T13:04:34.255Z"
   },
   {
    "duration": 685,
    "start_time": "2022-02-11T13:04:35.422Z"
   },
   {
    "duration": 94,
    "start_time": "2022-02-11T13:10:00.138Z"
   },
   {
    "duration": 363,
    "start_time": "2022-02-11T13:10:09.811Z"
   },
   {
    "duration": 94,
    "start_time": "2022-02-11T13:10:35.461Z"
   },
   {
    "duration": 257,
    "start_time": "2022-02-11T13:10:43.564Z"
   },
   {
    "duration": 378,
    "start_time": "2022-02-11T13:11:27.678Z"
   },
   {
    "duration": 452,
    "start_time": "2022-02-11T13:11:55.765Z"
   },
   {
    "duration": 714,
    "start_time": "2022-02-11T13:12:00.824Z"
   },
   {
    "duration": 1065,
    "start_time": "2022-02-11T13:12:13.035Z"
   },
   {
    "duration": 404,
    "start_time": "2022-02-11T13:12:29.175Z"
   },
   {
    "duration": 260,
    "start_time": "2022-02-11T13:12:37.836Z"
   },
   {
    "duration": 217,
    "start_time": "2022-02-11T13:12:42.232Z"
   },
   {
    "duration": 228,
    "start_time": "2022-02-11T13:12:46.276Z"
   },
   {
    "duration": 223,
    "start_time": "2022-02-11T13:12:49.757Z"
   },
   {
    "duration": 242,
    "start_time": "2022-02-11T13:12:57.217Z"
   },
   {
    "duration": 305,
    "start_time": "2022-02-11T13:13:21.546Z"
   },
   {
    "duration": 385,
    "start_time": "2022-02-11T13:13:27.560Z"
   },
   {
    "duration": 398,
    "start_time": "2022-02-11T13:13:29.798Z"
   },
   {
    "duration": 16,
    "start_time": "2022-02-11T13:13:30.725Z"
   },
   {
    "duration": 401,
    "start_time": "2022-02-11T13:14:50.657Z"
   },
   {
    "duration": 389,
    "start_time": "2022-02-11T13:18:39.741Z"
   },
   {
    "duration": 718,
    "start_time": "2022-02-11T13:19:02.192Z"
   },
   {
    "duration": 679,
    "start_time": "2022-02-11T13:19:19.330Z"
   },
   {
    "duration": 702,
    "start_time": "2022-02-11T13:19:36.410Z"
   },
   {
    "duration": 17,
    "start_time": "2022-02-11T13:22:31.208Z"
   },
   {
    "duration": 810,
    "start_time": "2022-02-11T13:22:33.805Z"
   },
   {
    "duration": 304,
    "start_time": "2022-02-11T13:23:24.927Z"
   },
   {
    "duration": 20,
    "start_time": "2022-02-11T13:23:59.536Z"
   },
   {
    "duration": 997,
    "start_time": "2022-02-11T13:24:01.830Z"
   },
   {
    "duration": 430,
    "start_time": "2022-02-11T13:24:10.059Z"
   },
   {
    "duration": 132,
    "start_time": "2022-02-11T14:00:14.296Z"
   },
   {
    "duration": 97,
    "start_time": "2022-02-11T14:00:26.873Z"
   },
   {
    "duration": 327,
    "start_time": "2022-02-11T14:00:32.721Z"
   },
   {
    "duration": 309,
    "start_time": "2022-02-11T14:00:54.345Z"
   },
   {
    "duration": 314,
    "start_time": "2022-02-11T14:01:39.845Z"
   },
   {
    "duration": 282,
    "start_time": "2022-02-11T14:02:34.670Z"
   },
   {
    "duration": 304,
    "start_time": "2022-02-11T14:04:50.773Z"
   },
   {
    "duration": 419,
    "start_time": "2022-02-11T14:05:47.593Z"
   },
   {
    "duration": 299,
    "start_time": "2022-02-11T14:06:57.768Z"
   },
   {
    "duration": 126,
    "start_time": "2022-02-11T14:15:04.975Z"
   },
   {
    "duration": 48,
    "start_time": "2022-02-11T14:15:26.645Z"
   },
   {
    "duration": 47,
    "start_time": "2022-02-11T14:16:20.968Z"
   },
   {
    "duration": 57,
    "start_time": "2022-02-11T14:19:31.421Z"
   },
   {
    "duration": 27,
    "start_time": "2022-02-11T14:20:10.177Z"
   },
   {
    "duration": 25,
    "start_time": "2022-02-11T14:21:44.474Z"
   },
   {
    "duration": 30,
    "start_time": "2022-02-11T14:21:46.293Z"
   },
   {
    "duration": 30,
    "start_time": "2022-02-11T14:22:01.931Z"
   },
   {
    "duration": 24,
    "start_time": "2022-02-11T14:22:08.087Z"
   },
   {
    "duration": 27,
    "start_time": "2022-02-11T14:22:08.567Z"
   },
   {
    "duration": 7,
    "start_time": "2022-02-11T14:22:36.252Z"
   },
   {
    "duration": 863,
    "start_time": "2022-02-11T14:22:36.262Z"
   },
   {
    "duration": 40,
    "start_time": "2022-02-11T14:22:37.128Z"
   },
   {
    "duration": 24,
    "start_time": "2022-02-11T14:22:37.171Z"
   },
   {
    "duration": 28,
    "start_time": "2022-02-11T14:22:37.197Z"
   },
   {
    "duration": 43,
    "start_time": "2022-02-11T14:22:37.227Z"
   },
   {
    "duration": 60,
    "start_time": "2022-02-11T14:22:37.275Z"
   },
   {
    "duration": 22,
    "start_time": "2022-02-11T14:22:37.339Z"
   },
   {
    "duration": 3,
    "start_time": "2022-02-11T14:22:37.364Z"
   },
   {
    "duration": 53,
    "start_time": "2022-02-11T14:22:37.370Z"
   },
   {
    "duration": 43,
    "start_time": "2022-02-11T14:22:37.426Z"
   },
   {
    "duration": 55,
    "start_time": "2022-02-11T14:22:37.472Z"
   },
   {
    "duration": 4,
    "start_time": "2022-02-11T14:22:37.531Z"
   },
   {
    "duration": 39,
    "start_time": "2022-02-11T14:22:37.538Z"
   },
   {
    "duration": 10,
    "start_time": "2022-02-11T14:22:37.580Z"
   },
   {
    "duration": 7,
    "start_time": "2022-02-11T14:22:37.625Z"
   },
   {
    "duration": 4,
    "start_time": "2022-02-11T14:22:37.635Z"
   },
   {
    "duration": 14,
    "start_time": "2022-02-11T14:22:37.642Z"
   },
   {
    "duration": 9,
    "start_time": "2022-02-11T14:22:37.661Z"
   },
   {
    "duration": 57,
    "start_time": "2022-02-11T14:22:37.674Z"
   },
   {
    "duration": 15,
    "start_time": "2022-02-11T14:22:37.733Z"
   },
   {
    "duration": 7,
    "start_time": "2022-02-11T14:22:37.751Z"
   },
   {
    "duration": 10,
    "start_time": "2022-02-11T14:22:37.760Z"
   },
   {
    "duration": 57,
    "start_time": "2022-02-11T14:22:37.772Z"
   },
   {
    "duration": 14,
    "start_time": "2022-02-11T14:22:37.831Z"
   },
   {
    "duration": 10,
    "start_time": "2022-02-11T14:22:37.849Z"
   },
   {
    "duration": 7,
    "start_time": "2022-02-11T14:22:37.861Z"
   },
   {
    "duration": 9,
    "start_time": "2022-02-11T14:22:37.870Z"
   },
   {
    "duration": 5,
    "start_time": "2022-02-11T14:22:37.923Z"
   },
   {
    "duration": 11,
    "start_time": "2022-02-11T14:22:37.930Z"
   },
   {
    "duration": 15,
    "start_time": "2022-02-11T14:22:37.944Z"
   },
   {
    "duration": 9,
    "start_time": "2022-02-11T14:22:37.961Z"
   },
   {
    "duration": 21,
    "start_time": "2022-02-11T14:22:37.973Z"
   },
   {
    "duration": 32,
    "start_time": "2022-02-11T14:22:37.997Z"
   },
   {
    "duration": 24,
    "start_time": "2022-02-11T14:22:38.032Z"
   },
   {
    "duration": 7,
    "start_time": "2022-02-11T14:22:38.059Z"
   },
   {
    "duration": 12,
    "start_time": "2022-02-11T14:22:38.068Z"
   },
   {
    "duration": 12,
    "start_time": "2022-02-11T14:22:38.083Z"
   },
   {
    "duration": 4744,
    "start_time": "2022-02-11T14:22:38.097Z"
   },
   {
    "duration": 699,
    "start_time": "2022-02-11T14:22:42.843Z"
   },
   {
    "duration": 1701,
    "start_time": "2022-02-11T14:22:43.544Z"
   },
   {
    "duration": 597,
    "start_time": "2022-02-11T14:22:45.247Z"
   },
   {
    "duration": 1496,
    "start_time": "2022-02-11T14:22:45.847Z"
   },
   {
    "duration": 611,
    "start_time": "2022-02-11T14:22:47.345Z"
   },
   {
    "duration": 703,
    "start_time": "2022-02-11T14:22:47.959Z"
   },
   {
    "duration": 749,
    "start_time": "2022-02-11T14:22:48.664Z"
   },
   {
    "duration": 7,
    "start_time": "2022-02-11T14:22:49.423Z"
   },
   {
    "duration": 9,
    "start_time": "2022-02-11T14:22:49.432Z"
   },
   {
    "duration": 7,
    "start_time": "2022-02-11T14:22:49.443Z"
   },
   {
    "duration": 20,
    "start_time": "2022-02-11T14:22:49.452Z"
   },
   {
    "duration": 51,
    "start_time": "2022-02-11T14:22:49.475Z"
   },
   {
    "duration": 721,
    "start_time": "2022-02-11T14:22:49.529Z"
   },
   {
    "duration": 398,
    "start_time": "2022-02-11T14:22:50.252Z"
   },
   {
    "duration": 18,
    "start_time": "2022-02-11T14:22:50.653Z"
   },
   {
    "duration": 819,
    "start_time": "2022-02-11T14:22:50.677Z"
   },
   {
    "duration": 413,
    "start_time": "2022-02-11T14:22:51.499Z"
   },
   {
    "duration": 22,
    "start_time": "2022-02-11T14:22:51.914Z"
   },
   {
    "duration": 996,
    "start_time": "2022-02-11T14:22:51.938Z"
   },
   {
    "duration": 654,
    "start_time": "2022-02-11T14:22:52.937Z"
   },
   {
    "duration": 78,
    "start_time": "2022-02-11T14:22:53.594Z"
   },
   {
    "duration": 89,
    "start_time": "2022-02-11T14:22:53.675Z"
   },
   {
    "duration": 50,
    "start_time": "2022-02-11T14:33:48.666Z"
   },
   {
    "duration": 7141,
    "start_time": "2022-02-11T14:35:01.172Z"
   },
   {
    "duration": 7363,
    "start_time": "2022-02-11T14:36:09.327Z"
   },
   {
    "duration": 41,
    "start_time": "2022-02-11T14:36:48.779Z"
   },
   {
    "duration": 8427,
    "start_time": "2022-02-11T15:00:25.524Z"
   },
   {
    "duration": 46,
    "start_time": "2022-02-11T15:02:27.608Z"
   },
   {
    "duration": 75,
    "start_time": "2022-02-11T15:03:32.316Z"
   },
   {
    "duration": 40,
    "start_time": "2022-02-11T16:05:57.657Z"
   },
   {
    "duration": 40,
    "start_time": "2022-02-11T16:05:58.105Z"
   },
   {
    "duration": 40,
    "start_time": "2022-02-11T16:05:58.386Z"
   },
   {
    "duration": 47,
    "start_time": "2022-02-11T16:13:55.269Z"
   },
   {
    "duration": 43,
    "start_time": "2022-02-11T16:14:36.544Z"
   },
   {
    "duration": 22,
    "start_time": "2022-02-11T16:15:31.990Z"
   },
   {
    "duration": 300,
    "start_time": "2022-02-11T16:33:17.763Z"
   },
   {
    "duration": 304,
    "start_time": "2022-02-11T19:33:05.399Z"
   },
   {
    "duration": 290,
    "start_time": "2022-02-11T19:33:43.771Z"
   },
   {
    "duration": 97,
    "start_time": "2022-02-11T19:33:49.316Z"
   },
   {
    "duration": 16,
    "start_time": "2022-02-11T19:33:54.950Z"
   },
   {
    "duration": 6,
    "start_time": "2022-02-11T19:34:52.271Z"
   },
   {
    "duration": 5,
    "start_time": "2022-02-11T19:35:04.657Z"
   },
   {
    "duration": 5,
    "start_time": "2022-02-11T19:35:04.958Z"
   },
   {
    "duration": 6,
    "start_time": "2022-02-11T19:35:05.172Z"
   },
   {
    "duration": 6,
    "start_time": "2022-02-11T19:35:05.430Z"
   },
   {
    "duration": 5,
    "start_time": "2022-02-11T19:35:05.689Z"
   },
   {
    "duration": 14,
    "start_time": "2022-02-11T19:40:22.019Z"
   },
   {
    "duration": 5,
    "start_time": "2022-02-11T19:40:22.973Z"
   },
   {
    "duration": 8,
    "start_time": "2022-02-11T19:40:23.385Z"
   },
   {
    "duration": 11,
    "start_time": "2022-02-11T19:40:23.699Z"
   },
   {
    "duration": 6,
    "start_time": "2022-02-11T19:40:23.931Z"
   },
   {
    "duration": 5,
    "start_time": "2022-02-11T19:40:24.276Z"
   },
   {
    "duration": 6,
    "start_time": "2022-02-11T19:40:54.117Z"
   },
   {
    "duration": 16,
    "start_time": "2022-02-11T19:47:09.848Z"
   },
   {
    "duration": 17,
    "start_time": "2022-02-11T19:47:38.651Z"
   },
   {
    "duration": 17,
    "start_time": "2022-02-11T19:47:46.053Z"
   },
   {
    "duration": 45,
    "start_time": "2022-02-11T19:47:56.764Z"
   },
   {
    "duration": 47,
    "start_time": "2022-02-11T19:48:22.010Z"
   },
   {
    "duration": 67,
    "start_time": "2022-02-11T19:48:30.291Z"
   },
   {
    "duration": 12,
    "start_time": "2022-02-11T19:55:26.113Z"
   },
   {
    "duration": 974,
    "start_time": "2022-02-11T19:55:26.128Z"
   },
   {
    "duration": 49,
    "start_time": "2022-02-11T19:55:27.105Z"
   },
   {
    "duration": 22,
    "start_time": "2022-02-11T19:55:27.157Z"
   },
   {
    "duration": 3,
    "start_time": "2022-02-11T19:55:27.181Z"
   },
   {
    "duration": 53,
    "start_time": "2022-02-11T19:55:27.186Z"
   },
   {
    "duration": 37,
    "start_time": "2022-02-11T19:55:27.242Z"
   },
   {
    "duration": 47,
    "start_time": "2022-02-11T19:55:27.285Z"
   },
   {
    "duration": 2,
    "start_time": "2022-02-11T19:55:27.335Z"
   },
   {
    "duration": 16,
    "start_time": "2022-02-11T19:55:27.340Z"
   },
   {
    "duration": 39,
    "start_time": "2022-02-11T19:55:27.358Z"
   },
   {
    "duration": 44,
    "start_time": "2022-02-11T19:55:27.399Z"
   },
   {
    "duration": 3,
    "start_time": "2022-02-11T19:55:27.445Z"
   },
   {
    "duration": 21,
    "start_time": "2022-02-11T19:55:27.451Z"
   },
   {
    "duration": 7,
    "start_time": "2022-02-11T19:55:27.474Z"
   },
   {
    "duration": 43,
    "start_time": "2022-02-11T19:55:27.483Z"
   },
   {
    "duration": 4,
    "start_time": "2022-02-11T19:55:27.529Z"
   },
   {
    "duration": 11,
    "start_time": "2022-02-11T19:55:27.535Z"
   },
   {
    "duration": 5,
    "start_time": "2022-02-11T19:55:27.549Z"
   },
   {
    "duration": 75,
    "start_time": "2022-02-11T19:55:27.557Z"
   },
   {
    "duration": 14,
    "start_time": "2022-02-11T19:55:27.634Z"
   },
   {
    "duration": 7,
    "start_time": "2022-02-11T19:55:27.654Z"
   },
   {
    "duration": 10,
    "start_time": "2022-02-11T19:55:27.669Z"
   },
   {
    "duration": 52,
    "start_time": "2022-02-11T19:55:27.683Z"
   },
   {
    "duration": 17,
    "start_time": "2022-02-11T19:55:27.738Z"
   },
   {
    "duration": 10,
    "start_time": "2022-02-11T19:55:27.758Z"
   },
   {
    "duration": 10,
    "start_time": "2022-02-11T19:55:27.771Z"
   },
   {
    "duration": 41,
    "start_time": "2022-02-11T19:55:27.784Z"
   },
   {
    "duration": 6,
    "start_time": "2022-02-11T19:55:27.829Z"
   },
   {
    "duration": 6,
    "start_time": "2022-02-11T19:55:27.837Z"
   },
   {
    "duration": 5,
    "start_time": "2022-02-11T19:55:27.845Z"
   },
   {
    "duration": 7,
    "start_time": "2022-02-11T19:55:27.853Z"
   },
   {
    "duration": 61,
    "start_time": "2022-02-11T19:55:27.863Z"
   },
   {
    "duration": 8,
    "start_time": "2022-02-11T19:55:27.926Z"
   },
   {
    "duration": 9,
    "start_time": "2022-02-11T19:55:27.937Z"
   },
   {
    "duration": 7,
    "start_time": "2022-02-11T19:55:27.949Z"
   },
   {
    "duration": 7,
    "start_time": "2022-02-11T19:55:27.959Z"
   },
   {
    "duration": 10,
    "start_time": "2022-02-11T19:55:27.968Z"
   },
   {
    "duration": 4363,
    "start_time": "2022-02-11T19:55:28.023Z"
   },
   {
    "duration": 658,
    "start_time": "2022-02-11T19:55:32.389Z"
   },
   {
    "duration": 1775,
    "start_time": "2022-02-11T19:55:33.050Z"
   },
   {
    "duration": 604,
    "start_time": "2022-02-11T19:55:34.828Z"
   },
   {
    "duration": 1588,
    "start_time": "2022-02-11T19:55:35.435Z"
   },
   {
    "duration": 573,
    "start_time": "2022-02-11T19:55:37.025Z"
   },
   {
    "duration": 655,
    "start_time": "2022-02-11T19:55:37.601Z"
   },
   {
    "duration": 612,
    "start_time": "2022-02-11T19:55:38.258Z"
   },
   {
    "duration": 6,
    "start_time": "2022-02-11T19:55:38.872Z"
   },
   {
    "duration": 8,
    "start_time": "2022-02-11T19:55:38.880Z"
   },
   {
    "duration": 34,
    "start_time": "2022-02-11T19:55:38.891Z"
   },
   {
    "duration": 14,
    "start_time": "2022-02-11T19:55:38.928Z"
   },
   {
    "duration": 18,
    "start_time": "2022-02-11T19:55:38.945Z"
   },
   {
    "duration": 765,
    "start_time": "2022-02-11T19:55:38.965Z"
   },
   {
    "duration": 396,
    "start_time": "2022-02-11T19:55:39.732Z"
   },
   {
    "duration": 18,
    "start_time": "2022-02-11T19:55:40.130Z"
   },
   {
    "duration": 716,
    "start_time": "2022-02-11T19:55:40.150Z"
   },
   {
    "duration": 573,
    "start_time": "2022-02-11T19:55:40.869Z"
   },
   {
    "duration": 25,
    "start_time": "2022-02-11T19:55:41.445Z"
   },
   {
    "duration": 992,
    "start_time": "2022-02-11T19:55:41.473Z"
   },
   {
    "duration": 616,
    "start_time": "2022-02-11T19:55:42.469Z"
   },
   {
    "duration": 76,
    "start_time": "2022-02-11T19:55:43.088Z"
   },
   {
    "duration": 95,
    "start_time": "2022-02-11T19:55:43.167Z"
   },
   {
    "duration": 68,
    "start_time": "2022-02-11T19:55:43.265Z"
   },
   {
    "duration": 62,
    "start_time": "2022-02-11T19:55:43.335Z"
   },
   {
    "duration": 24,
    "start_time": "2022-02-11T19:55:43.400Z"
   },
   {
    "duration": 65,
    "start_time": "2022-02-11T19:55:43.427Z"
   },
   {
    "duration": 85,
    "start_time": "2022-02-11T19:55:43.496Z"
   },
   {
    "duration": 320,
    "start_time": "2022-02-11T19:55:43.584Z"
   },
   {
    "duration": -469,
    "start_time": "2022-02-11T19:55:44.376Z"
   },
   {
    "duration": -471,
    "start_time": "2022-02-11T19:55:44.380Z"
   },
   {
    "duration": -473,
    "start_time": "2022-02-11T19:55:44.383Z"
   },
   {
    "duration": -476,
    "start_time": "2022-02-11T19:55:44.387Z"
   },
   {
    "duration": -477,
    "start_time": "2022-02-11T19:55:44.390Z"
   },
   {
    "duration": -479,
    "start_time": "2022-02-11T19:55:44.393Z"
   },
   {
    "duration": -481,
    "start_time": "2022-02-11T19:55:44.396Z"
   },
   {
    "duration": -483,
    "start_time": "2022-02-11T19:55:44.400Z"
   },
   {
    "duration": -490,
    "start_time": "2022-02-11T19:55:44.408Z"
   },
   {
    "duration": -493,
    "start_time": "2022-02-11T19:55:44.412Z"
   },
   {
    "duration": -494,
    "start_time": "2022-02-11T19:55:44.415Z"
   },
   {
    "duration": -501,
    "start_time": "2022-02-11T19:55:44.423Z"
   },
   {
    "duration": -502,
    "start_time": "2022-02-11T19:55:44.426Z"
   },
   {
    "duration": -505,
    "start_time": "2022-02-11T19:55:44.430Z"
   },
   {
    "duration": -519,
    "start_time": "2022-02-11T19:55:44.445Z"
   },
   {
    "duration": -526,
    "start_time": "2022-02-11T19:55:44.454Z"
   },
   {
    "duration": -535,
    "start_time": "2022-02-11T19:55:44.464Z"
   },
   {
    "duration": -548,
    "start_time": "2022-02-11T19:55:44.479Z"
   },
   {
    "duration": -563,
    "start_time": "2022-02-11T19:55:44.495Z"
   },
   {
    "duration": 7081,
    "start_time": "2022-02-11T19:57:06.974Z"
   },
   {
    "duration": 7580,
    "start_time": "2022-02-11T19:58:34.678Z"
   },
   {
    "duration": 6924,
    "start_time": "2022-02-11T19:58:45.149Z"
   },
   {
    "duration": 43,
    "start_time": "2022-02-11T19:58:55.427Z"
   },
   {
    "duration": 15,
    "start_time": "2022-02-11T19:59:27.191Z"
   },
   {
    "duration": 7676,
    "start_time": "2022-02-11T20:00:33.484Z"
   },
   {
    "duration": 10,
    "start_time": "2022-02-11T20:02:19.849Z"
   },
   {
    "duration": 292,
    "start_time": "2022-02-11T20:02:54.286Z"
   },
   {
    "duration": 77,
    "start_time": "2022-02-11T20:06:39.187Z"
   },
   {
    "duration": 52,
    "start_time": "2022-02-11T20:08:48.953Z"
   },
   {
    "duration": 8,
    "start_time": "2022-02-11T20:09:11.312Z"
   },
   {
    "duration": 1258,
    "start_time": "2022-02-11T20:09:11.323Z"
   },
   {
    "duration": 73,
    "start_time": "2022-02-11T20:09:12.585Z"
   },
   {
    "duration": 43,
    "start_time": "2022-02-11T20:09:12.662Z"
   },
   {
    "duration": 16,
    "start_time": "2022-02-11T20:09:12.708Z"
   },
   {
    "duration": 35,
    "start_time": "2022-02-11T20:09:12.727Z"
   },
   {
    "duration": 76,
    "start_time": "2022-02-11T20:09:12.765Z"
   },
   {
    "duration": 18,
    "start_time": "2022-02-11T20:09:12.847Z"
   },
   {
    "duration": 3,
    "start_time": "2022-02-11T20:09:12.868Z"
   },
   {
    "duration": 16,
    "start_time": "2022-02-11T20:09:12.873Z"
   },
   {
    "duration": 42,
    "start_time": "2022-02-11T20:09:12.923Z"
   },
   {
    "duration": 25,
    "start_time": "2022-02-11T20:09:12.967Z"
   },
   {
    "duration": 29,
    "start_time": "2022-02-11T20:09:12.994Z"
   },
   {
    "duration": 20,
    "start_time": "2022-02-11T20:09:13.026Z"
   },
   {
    "duration": 7,
    "start_time": "2022-02-11T20:09:13.048Z"
   },
   {
    "duration": 10,
    "start_time": "2022-02-11T20:09:13.058Z"
   },
   {
    "duration": 6,
    "start_time": "2022-02-11T20:09:13.071Z"
   },
   {
    "duration": 51,
    "start_time": "2022-02-11T20:09:13.079Z"
   },
   {
    "duration": 5,
    "start_time": "2022-02-11T20:09:13.134Z"
   },
   {
    "duration": 21,
    "start_time": "2022-02-11T20:09:13.143Z"
   },
   {
    "duration": 60,
    "start_time": "2022-02-11T20:09:13.167Z"
   },
   {
    "duration": 6,
    "start_time": "2022-02-11T20:09:13.230Z"
   },
   {
    "duration": 9,
    "start_time": "2022-02-11T20:09:13.242Z"
   },
   {
    "duration": 15,
    "start_time": "2022-02-11T20:09:13.255Z"
   },
   {
    "duration": 54,
    "start_time": "2022-02-11T20:09:13.272Z"
   },
   {
    "duration": 9,
    "start_time": "2022-02-11T20:09:13.328Z"
   },
   {
    "duration": 7,
    "start_time": "2022-02-11T20:09:13.339Z"
   },
   {
    "duration": 12,
    "start_time": "2022-02-11T20:09:13.348Z"
   },
   {
    "duration": 8,
    "start_time": "2022-02-11T20:09:13.363Z"
   },
   {
    "duration": 7,
    "start_time": "2022-02-11T20:09:13.374Z"
   },
   {
    "duration": 41,
    "start_time": "2022-02-11T20:09:13.383Z"
   },
   {
    "duration": 6,
    "start_time": "2022-02-11T20:09:13.427Z"
   },
   {
    "duration": 7,
    "start_time": "2022-02-11T20:09:13.435Z"
   },
   {
    "duration": 9,
    "start_time": "2022-02-11T20:09:13.444Z"
   },
   {
    "duration": 5,
    "start_time": "2022-02-11T20:09:13.456Z"
   },
   {
    "duration": 10,
    "start_time": "2022-02-11T20:09:13.464Z"
   },
   {
    "duration": 5,
    "start_time": "2022-02-11T20:09:13.524Z"
   },
   {
    "duration": 13,
    "start_time": "2022-02-11T20:09:13.532Z"
   },
   {
    "duration": 4481,
    "start_time": "2022-02-11T20:09:13.548Z"
   },
   {
    "duration": 596,
    "start_time": "2022-02-11T20:09:18.031Z"
   },
   {
    "duration": 1632,
    "start_time": "2022-02-11T20:09:18.629Z"
   },
   {
    "duration": 599,
    "start_time": "2022-02-11T20:09:20.264Z"
   },
   {
    "duration": 1248,
    "start_time": "2022-02-11T20:09:20.865Z"
   },
   {
    "duration": 582,
    "start_time": "2022-02-11T20:09:22.123Z"
   },
   {
    "duration": 646,
    "start_time": "2022-02-11T20:09:22.708Z"
   },
   {
    "duration": 593,
    "start_time": "2022-02-11T20:09:23.356Z"
   },
   {
    "duration": 7,
    "start_time": "2022-02-11T20:09:23.951Z"
   },
   {
    "duration": 7,
    "start_time": "2022-02-11T20:09:23.961Z"
   },
   {
    "duration": 7,
    "start_time": "2022-02-11T20:09:23.971Z"
   },
   {
    "duration": 45,
    "start_time": "2022-02-11T20:09:23.983Z"
   },
   {
    "duration": 17,
    "start_time": "2022-02-11T20:09:24.031Z"
   },
   {
    "duration": 743,
    "start_time": "2022-02-11T20:09:24.051Z"
   },
   {
    "duration": 402,
    "start_time": "2022-02-11T20:09:24.796Z"
   },
   {
    "duration": 32,
    "start_time": "2022-02-11T20:09:25.201Z"
   },
   {
    "duration": 709,
    "start_time": "2022-02-11T20:09:25.235Z"
   },
   {
    "duration": 615,
    "start_time": "2022-02-11T20:09:25.947Z"
   },
   {
    "duration": 22,
    "start_time": "2022-02-11T20:09:26.565Z"
   },
   {
    "duration": 1068,
    "start_time": "2022-02-11T20:09:26.590Z"
   },
   {
    "duration": 568,
    "start_time": "2022-02-11T20:09:27.661Z"
   },
   {
    "duration": 50,
    "start_time": "2022-02-11T20:09:28.232Z"
   },
   {
    "duration": 86,
    "start_time": "2022-02-11T20:09:28.285Z"
   },
   {
    "duration": 70,
    "start_time": "2022-02-11T20:09:28.373Z"
   },
   {
    "duration": 47,
    "start_time": "2022-02-11T20:09:28.446Z"
   },
   {
    "duration": 29,
    "start_time": "2022-02-11T20:09:28.496Z"
   },
   {
    "duration": 43,
    "start_time": "2022-02-11T20:09:28.528Z"
   },
   {
    "duration": 67,
    "start_time": "2022-02-11T20:09:28.574Z"
   },
   {
    "duration": 49,
    "start_time": "2022-02-11T20:09:28.644Z"
   },
   {
    "duration": 64,
    "start_time": "2022-02-11T20:09:28.701Z"
   },
   {
    "duration": 283,
    "start_time": "2022-02-11T20:09:28.768Z"
   },
   {
    "duration": -478,
    "start_time": "2022-02-11T20:09:29.532Z"
   },
   {
    "duration": -494,
    "start_time": "2022-02-11T20:09:29.549Z"
   },
   {
    "duration": -509,
    "start_time": "2022-02-11T20:09:29.566Z"
   },
   {
    "duration": -523,
    "start_time": "2022-02-11T20:09:29.582Z"
   },
   {
    "duration": -532,
    "start_time": "2022-02-11T20:09:29.592Z"
   },
   {
    "duration": -546,
    "start_time": "2022-02-11T20:09:29.607Z"
   },
   {
    "duration": -561,
    "start_time": "2022-02-11T20:09:29.624Z"
   },
   {
    "duration": -577,
    "start_time": "2022-02-11T20:09:29.641Z"
   },
   {
    "duration": -592,
    "start_time": "2022-02-11T20:09:29.658Z"
   },
   {
    "duration": -606,
    "start_time": "2022-02-11T20:09:29.674Z"
   },
   {
    "duration": -623,
    "start_time": "2022-02-11T20:09:29.692Z"
   },
   {
    "duration": -637,
    "start_time": "2022-02-11T20:09:29.707Z"
   },
   {
    "duration": -651,
    "start_time": "2022-02-11T20:09:29.723Z"
   },
   {
    "duration": -660,
    "start_time": "2022-02-11T20:09:29.733Z"
   },
   {
    "duration": -660,
    "start_time": "2022-02-11T20:09:29.736Z"
   },
   {
    "duration": -664,
    "start_time": "2022-02-11T20:09:29.741Z"
   },
   {
    "duration": -665,
    "start_time": "2022-02-11T20:09:29.744Z"
   },
   {
    "duration": -667,
    "start_time": "2022-02-11T20:09:29.747Z"
   },
   {
    "duration": 14,
    "start_time": "2022-02-11T20:12:03.953Z"
   },
   {
    "duration": 5,
    "start_time": "2022-02-11T20:12:04.227Z"
   },
   {
    "duration": 5,
    "start_time": "2022-02-11T20:12:04.418Z"
   },
   {
    "duration": 5,
    "start_time": "2022-02-11T20:12:04.612Z"
   },
   {
    "duration": 5,
    "start_time": "2022-02-11T20:12:04.781Z"
   },
   {
    "duration": 5,
    "start_time": "2022-02-11T20:12:04.972Z"
   },
   {
    "duration": 5,
    "start_time": "2022-02-11T20:12:05.211Z"
   },
   {
    "duration": 11,
    "start_time": "2022-02-11T20:12:05.375Z"
   },
   {
    "duration": 6,
    "start_time": "2022-02-11T20:12:05.587Z"
   },
   {
    "duration": 6,
    "start_time": "2022-02-11T20:12:05.796Z"
   },
   {
    "duration": 5,
    "start_time": "2022-02-11T20:12:05.987Z"
   },
   {
    "duration": 8,
    "start_time": "2022-02-11T20:12:06.196Z"
   },
   {
    "duration": 6,
    "start_time": "2022-02-11T20:12:06.405Z"
   },
   {
    "duration": 5,
    "start_time": "2022-02-11T20:12:06.635Z"
   },
   {
    "duration": 320,
    "start_time": "2022-02-11T20:33:07.056Z"
   },
   {
    "duration": 328,
    "start_time": "2022-02-11T20:34:43.048Z"
   },
   {
    "duration": 307,
    "start_time": "2022-02-11T20:36:53.343Z"
   },
   {
    "duration": 2054,
    "start_time": "2022-02-11T20:37:07.380Z"
   },
   {
    "duration": 1526,
    "start_time": "2022-02-11T20:37:20.299Z"
   },
   {
    "duration": 1942,
    "start_time": "2022-02-11T20:37:25.091Z"
   },
   {
    "duration": 2231,
    "start_time": "2022-02-11T20:37:27.996Z"
   },
   {
    "duration": 1502,
    "start_time": "2022-02-11T20:37:31.224Z"
   },
   {
    "duration": 1781,
    "start_time": "2022-02-11T20:37:34.556Z"
   },
   {
    "duration": 311,
    "start_time": "2022-02-11T20:38:09.094Z"
   },
   {
    "duration": 1548,
    "start_time": "2022-02-11T20:38:30.892Z"
   },
   {
    "duration": 354,
    "start_time": "2022-02-11T20:39:05.508Z"
   },
   {
    "duration": 2720,
    "start_time": "2022-02-11T20:39:24.756Z"
   },
   {
    "duration": 18675,
    "start_time": "2022-02-11T20:39:39.113Z"
   },
   {
    "duration": 342,
    "start_time": "2022-02-11T20:42:47.677Z"
   },
   {
    "duration": 3,
    "start_time": "2022-02-11T20:43:29.319Z"
   },
   {
    "duration": 18123,
    "start_time": "2022-02-11T20:43:36.973Z"
   },
   {
    "duration": 18072,
    "start_time": "2022-02-11T20:44:02.320Z"
   },
   {
    "duration": 7414,
    "start_time": "2022-02-11T20:47:29.169Z"
   },
   {
    "duration": 23938,
    "start_time": "2022-02-11T20:48:10.224Z"
   },
   {
    "duration": 2776,
    "start_time": "2022-02-11T20:48:55.292Z"
   },
   {
    "duration": 291,
    "start_time": "2022-02-11T20:50:05.706Z"
   },
   {
    "duration": 5,
    "start_time": "2022-02-11T20:51:12.498Z"
   },
   {
    "duration": 109,
    "start_time": "2022-02-11T20:51:35.849Z"
   },
   {
    "duration": 6,
    "start_time": "2022-02-11T20:53:22.674Z"
   },
   {
    "duration": 4486,
    "start_time": "2022-02-11T20:53:30.375Z"
   },
   {
    "duration": 3473,
    "start_time": "2022-02-11T20:55:36.056Z"
   },
   {
    "duration": 5,
    "start_time": "2022-02-11T20:58:23.720Z"
   },
   {
    "duration": 3255,
    "start_time": "2022-02-11T20:58:28.964Z"
   },
   {
    "duration": 599,
    "start_time": "2022-02-11T20:58:54.112Z"
   },
   {
    "duration": 5,
    "start_time": "2022-02-11T20:59:28.268Z"
   },
   {
    "duration": 701,
    "start_time": "2022-02-11T20:59:32.992Z"
   },
   {
    "duration": 3129,
    "start_time": "2022-02-11T21:00:18.992Z"
   },
   {
    "duration": 334,
    "start_time": "2022-02-11T21:00:27.020Z"
   },
   {
    "duration": 5151,
    "start_time": "2022-02-11T21:00:38.283Z"
   },
   {
    "duration": -534,
    "start_time": "2022-02-11T21:00:43.971Z"
   },
   {
    "duration": 137,
    "start_time": "2022-02-15T22:07:58.104Z"
   },
   {
    "duration": 439,
    "start_time": "2022-02-15T22:08:24.900Z"
   },
   {
    "duration": 1490,
    "start_time": "2022-02-15T22:08:31.152Z"
   },
   {
    "duration": 4,
    "start_time": "2022-02-15T22:08:32.644Z"
   },
   {
    "duration": 865,
    "start_time": "2022-02-15T22:08:32.651Z"
   },
   {
    "duration": 47,
    "start_time": "2022-02-15T22:08:33.519Z"
   },
   {
    "duration": 55,
    "start_time": "2022-02-15T22:08:33.569Z"
   },
   {
    "duration": 4,
    "start_time": "2022-02-15T22:08:33.627Z"
   },
   {
    "duration": 23,
    "start_time": "2022-02-15T22:08:33.634Z"
   },
   {
    "duration": 68,
    "start_time": "2022-02-15T22:08:33.663Z"
   },
   {
    "duration": 19,
    "start_time": "2022-02-15T22:08:33.735Z"
   },
   {
    "duration": 3,
    "start_time": "2022-02-15T22:08:33.756Z"
   },
   {
    "duration": 16,
    "start_time": "2022-02-15T22:08:33.762Z"
   },
   {
    "duration": 43,
    "start_time": "2022-02-15T22:08:33.811Z"
   },
   {
    "duration": 25,
    "start_time": "2022-02-15T22:08:33.857Z"
   },
   {
    "duration": 27,
    "start_time": "2022-02-15T22:08:33.885Z"
   },
   {
    "duration": 28,
    "start_time": "2022-02-15T22:08:33.915Z"
   },
   {
    "duration": 13,
    "start_time": "2022-02-15T22:08:33.946Z"
   },
   {
    "duration": 6,
    "start_time": "2022-02-15T22:08:33.961Z"
   },
   {
    "duration": 12,
    "start_time": "2022-02-15T22:08:33.969Z"
   },
   {
    "duration": 32,
    "start_time": "2022-02-15T22:08:33.983Z"
   },
   {
    "duration": 8,
    "start_time": "2022-02-15T22:08:34.018Z"
   },
   {
    "duration": 25,
    "start_time": "2022-02-15T22:08:34.029Z"
   },
   {
    "duration": 11,
    "start_time": "2022-02-15T22:08:34.057Z"
   },
   {
    "duration": 5,
    "start_time": "2022-02-15T22:08:34.111Z"
   },
   {
    "duration": 9,
    "start_time": "2022-02-15T22:08:34.120Z"
   },
   {
    "duration": 18,
    "start_time": "2022-02-15T22:08:34.131Z"
   },
   {
    "duration": 16,
    "start_time": "2022-02-15T22:08:34.151Z"
   },
   {
    "duration": 43,
    "start_time": "2022-02-15T22:08:34.169Z"
   },
   {
    "duration": 4,
    "start_time": "2022-02-15T22:08:34.215Z"
   },
   {
    "duration": 4,
    "start_time": "2022-02-15T22:08:34.221Z"
   },
   {
    "duration": 5,
    "start_time": "2022-02-15T22:08:34.228Z"
   },
   {
    "duration": 6,
    "start_time": "2022-02-15T22:08:34.235Z"
   },
   {
    "duration": 5,
    "start_time": "2022-02-15T22:08:34.243Z"
   },
   {
    "duration": 5,
    "start_time": "2022-02-15T22:08:34.250Z"
   },
   {
    "duration": 57,
    "start_time": "2022-02-15T22:08:34.258Z"
   },
   {
    "duration": 7,
    "start_time": "2022-02-15T22:08:34.317Z"
   },
   {
    "duration": 5,
    "start_time": "2022-02-15T22:08:34.327Z"
   },
   {
    "duration": 5,
    "start_time": "2022-02-15T22:08:34.334Z"
   },
   {
    "duration": 6,
    "start_time": "2022-02-15T22:08:34.341Z"
   },
   {
    "duration": 11,
    "start_time": "2022-02-15T22:08:34.350Z"
   },
   {
    "duration": 4601,
    "start_time": "2022-02-15T22:08:34.363Z"
   },
   {
    "duration": 464,
    "start_time": "2022-02-15T22:08:38.966Z"
   },
   {
    "duration": 1804,
    "start_time": "2022-02-15T22:08:39.432Z"
   },
   {
    "duration": 442,
    "start_time": "2022-02-15T22:08:41.239Z"
   },
   {
    "duration": 1241,
    "start_time": "2022-02-15T22:08:41.684Z"
   },
   {
    "duration": 455,
    "start_time": "2022-02-15T22:08:42.927Z"
   },
   {
    "duration": 660,
    "start_time": "2022-02-15T22:08:43.384Z"
   },
   {
    "duration": 467,
    "start_time": "2022-02-15T22:08:44.046Z"
   },
   {
    "duration": 5,
    "start_time": "2022-02-15T22:08:44.516Z"
   },
   {
    "duration": 6,
    "start_time": "2022-02-15T22:08:44.524Z"
   },
   {
    "duration": 6,
    "start_time": "2022-02-15T22:08:44.532Z"
   },
   {
    "duration": 15,
    "start_time": "2022-02-15T22:08:44.540Z"
   },
   {
    "duration": 54,
    "start_time": "2022-02-15T22:08:44.557Z"
   },
   {
    "duration": 580,
    "start_time": "2022-02-15T22:08:44.613Z"
   },
   {
    "duration": 250,
    "start_time": "2022-02-15T22:08:45.196Z"
   },
   {
    "duration": 18,
    "start_time": "2022-02-15T22:08:45.449Z"
   },
   {
    "duration": 874,
    "start_time": "2022-02-15T22:08:45.470Z"
   },
   {
    "duration": 474,
    "start_time": "2022-02-15T22:08:46.347Z"
   },
   {
    "duration": 18,
    "start_time": "2022-02-15T22:08:46.823Z"
   },
   {
    "duration": 725,
    "start_time": "2022-02-15T22:08:46.843Z"
   },
   {
    "duration": 453,
    "start_time": "2022-02-15T22:08:47.571Z"
   },
   {
    "duration": 53,
    "start_time": "2022-02-15T22:08:48.027Z"
   },
   {
    "duration": 90,
    "start_time": "2022-02-15T22:08:48.083Z"
   },
   {
    "duration": 62,
    "start_time": "2022-02-15T22:08:48.176Z"
   },
   {
    "duration": 47,
    "start_time": "2022-02-15T22:08:48.240Z"
   },
   {
    "duration": 21,
    "start_time": "2022-02-15T22:08:48.290Z"
   },
   {
    "duration": 437,
    "start_time": "2022-02-15T22:08:48.314Z"
   },
   {
    "duration": -110,
    "start_time": "2022-02-15T22:08:48.865Z"
   },
   {
    "duration": -120,
    "start_time": "2022-02-15T22:08:48.877Z"
   },
   {
    "duration": -131,
    "start_time": "2022-02-15T22:08:48.890Z"
   },
   {
    "duration": -141,
    "start_time": "2022-02-15T22:08:48.901Z"
   },
   {
    "duration": -151,
    "start_time": "2022-02-15T22:08:48.913Z"
   },
   {
    "duration": -160,
    "start_time": "2022-02-15T22:08:48.923Z"
   },
   {
    "duration": -170,
    "start_time": "2022-02-15T22:08:48.934Z"
   },
   {
    "duration": -179,
    "start_time": "2022-02-15T22:08:48.944Z"
   },
   {
    "duration": -187,
    "start_time": "2022-02-15T22:08:48.954Z"
   },
   {
    "duration": -213,
    "start_time": "2022-02-15T22:08:48.981Z"
   },
   {
    "duration": -223,
    "start_time": "2022-02-15T22:08:48.992Z"
   },
   {
    "duration": -232,
    "start_time": "2022-02-15T22:08:49.002Z"
   },
   {
    "duration": -241,
    "start_time": "2022-02-15T22:08:49.013Z"
   },
   {
    "duration": -250,
    "start_time": "2022-02-15T22:08:49.023Z"
   },
   {
    "duration": -261,
    "start_time": "2022-02-15T22:08:49.035Z"
   },
   {
    "duration": -269,
    "start_time": "2022-02-15T22:08:49.045Z"
   },
   {
    "duration": -280,
    "start_time": "2022-02-15T22:08:49.057Z"
   },
   {
    "duration": -289,
    "start_time": "2022-02-15T22:08:49.067Z"
   },
   {
    "duration": -298,
    "start_time": "2022-02-15T22:08:49.078Z"
   },
   {
    "duration": -325,
    "start_time": "2022-02-15T22:08:49.107Z"
   },
   {
    "duration": -339,
    "start_time": "2022-02-15T22:08:49.122Z"
   },
   {
    "duration": 8,
    "start_time": "2022-02-15T22:09:13.699Z"
   },
   {
    "duration": 7,
    "start_time": "2022-02-15T22:09:13.710Z"
   },
   {
    "duration": 945,
    "start_time": "2022-02-15T22:09:13.720Z"
   },
   {
    "duration": 54,
    "start_time": "2022-02-15T22:09:14.667Z"
   },
   {
    "duration": 25,
    "start_time": "2022-02-15T22:09:14.725Z"
   },
   {
    "duration": 3,
    "start_time": "2022-02-15T22:09:14.754Z"
   },
   {
    "duration": 57,
    "start_time": "2022-02-15T22:09:14.760Z"
   },
   {
    "duration": 39,
    "start_time": "2022-02-15T22:09:14.819Z"
   },
   {
    "duration": 17,
    "start_time": "2022-02-15T22:09:14.861Z"
   },
   {
    "duration": 29,
    "start_time": "2022-02-15T22:09:14.882Z"
   },
   {
    "duration": 14,
    "start_time": "2022-02-15T22:09:14.914Z"
   },
   {
    "duration": 41,
    "start_time": "2022-02-15T22:09:14.931Z"
   },
   {
    "duration": 27,
    "start_time": "2022-02-15T22:09:15.010Z"
   },
   {
    "duration": 3,
    "start_time": "2022-02-15T22:09:15.039Z"
   },
   {
    "duration": 25,
    "start_time": "2022-02-15T22:09:15.044Z"
   },
   {
    "duration": 7,
    "start_time": "2022-02-15T22:09:15.071Z"
   },
   {
    "duration": 34,
    "start_time": "2022-02-15T22:09:15.080Z"
   },
   {
    "duration": 9,
    "start_time": "2022-02-15T22:09:15.116Z"
   },
   {
    "duration": 9,
    "start_time": "2022-02-15T22:09:15.128Z"
   },
   {
    "duration": 5,
    "start_time": "2022-02-15T22:09:15.139Z"
   },
   {
    "duration": 21,
    "start_time": "2022-02-15T22:09:15.146Z"
   },
   {
    "duration": 45,
    "start_time": "2022-02-15T22:09:15.169Z"
   },
   {
    "duration": 5,
    "start_time": "2022-02-15T22:09:15.217Z"
   },
   {
    "duration": 8,
    "start_time": "2022-02-15T22:09:15.225Z"
   },
   {
    "duration": 17,
    "start_time": "2022-02-15T22:09:15.238Z"
   },
   {
    "duration": 53,
    "start_time": "2022-02-15T22:09:15.259Z"
   },
   {
    "duration": 9,
    "start_time": "2022-02-15T22:09:15.314Z"
   },
   {
    "duration": 4,
    "start_time": "2022-02-15T22:09:15.326Z"
   },
   {
    "duration": 5,
    "start_time": "2022-02-15T22:09:15.332Z"
   },
   {
    "duration": 5,
    "start_time": "2022-02-15T22:09:15.339Z"
   },
   {
    "duration": 12,
    "start_time": "2022-02-15T22:09:15.346Z"
   },
   {
    "duration": 52,
    "start_time": "2022-02-15T22:09:15.360Z"
   },
   {
    "duration": 9,
    "start_time": "2022-02-15T22:09:15.414Z"
   },
   {
    "duration": 7,
    "start_time": "2022-02-15T22:09:15.426Z"
   },
   {
    "duration": 7,
    "start_time": "2022-02-15T22:09:15.435Z"
   },
   {
    "duration": 5,
    "start_time": "2022-02-15T22:09:15.445Z"
   },
   {
    "duration": 6,
    "start_time": "2022-02-15T22:09:15.452Z"
   },
   {
    "duration": 52,
    "start_time": "2022-02-15T22:09:15.461Z"
   },
   {
    "duration": 12,
    "start_time": "2022-02-15T22:09:15.516Z"
   },
   {
    "duration": 4246,
    "start_time": "2022-02-15T22:09:15.530Z"
   },
   {
    "duration": 582,
    "start_time": "2022-02-15T22:09:19.779Z"
   },
   {
    "duration": 1807,
    "start_time": "2022-02-15T22:09:20.363Z"
   },
   {
    "duration": 589,
    "start_time": "2022-02-15T22:09:22.174Z"
   },
   {
    "duration": 1226,
    "start_time": "2022-02-15T22:09:22.765Z"
   },
   {
    "duration": 582,
    "start_time": "2022-02-15T22:09:23.993Z"
   },
   {
    "duration": 644,
    "start_time": "2022-02-15T22:09:24.578Z"
   },
   {
    "duration": 745,
    "start_time": "2022-02-15T22:09:25.225Z"
   },
   {
    "duration": 6,
    "start_time": "2022-02-15T22:09:25.972Z"
   },
   {
    "duration": 31,
    "start_time": "2022-02-15T22:09:25.980Z"
   },
   {
    "duration": 6,
    "start_time": "2022-02-15T22:09:26.013Z"
   },
   {
    "duration": 15,
    "start_time": "2022-02-15T22:09:26.021Z"
   },
   {
    "duration": 18,
    "start_time": "2022-02-15T22:09:26.038Z"
   },
   {
    "duration": 723,
    "start_time": "2022-02-15T22:09:26.058Z"
   },
   {
    "duration": 740,
    "start_time": "2022-02-15T22:09:26.783Z"
   },
   {
    "duration": 18,
    "start_time": "2022-02-15T22:09:27.526Z"
   },
   {
    "duration": 788,
    "start_time": "2022-02-15T22:09:27.546Z"
   },
   {
    "duration": 404,
    "start_time": "2022-02-15T22:09:28.338Z"
   },
   {
    "duration": 19,
    "start_time": "2022-02-15T22:09:28.745Z"
   },
   {
    "duration": 728,
    "start_time": "2022-02-15T22:09:28.767Z"
   },
   {
    "duration": 423,
    "start_time": "2022-02-15T22:09:29.497Z"
   },
   {
    "duration": 49,
    "start_time": "2022-02-15T22:09:29.923Z"
   },
   {
    "duration": 88,
    "start_time": "2022-02-15T22:09:29.974Z"
   },
   {
    "duration": 61,
    "start_time": "2022-02-15T22:09:30.065Z"
   },
   {
    "duration": 49,
    "start_time": "2022-02-15T22:09:30.129Z"
   },
   {
    "duration": 30,
    "start_time": "2022-02-15T22:09:30.181Z"
   },
   {
    "duration": 42,
    "start_time": "2022-02-15T22:09:30.215Z"
   },
   {
    "duration": 76,
    "start_time": "2022-02-15T22:09:30.260Z"
   },
   {
    "duration": 15,
    "start_time": "2022-02-15T22:09:30.339Z"
   },
   {
    "duration": 12,
    "start_time": "2022-02-15T22:09:30.356Z"
   },
   {
    "duration": 9,
    "start_time": "2022-02-15T22:09:30.376Z"
   },
   {
    "duration": 5,
    "start_time": "2022-02-15T22:09:30.411Z"
   },
   {
    "duration": 11,
    "start_time": "2022-02-15T22:09:30.419Z"
   },
   {
    "duration": 9,
    "start_time": "2022-02-15T22:09:30.433Z"
   },
   {
    "duration": 8,
    "start_time": "2022-02-15T22:09:30.444Z"
   },
   {
    "duration": 11,
    "start_time": "2022-02-15T22:09:30.455Z"
   },
   {
    "duration": 44,
    "start_time": "2022-02-15T22:09:30.469Z"
   },
   {
    "duration": 15,
    "start_time": "2022-02-15T22:09:30.516Z"
   },
   {
    "duration": 9,
    "start_time": "2022-02-15T22:09:30.534Z"
   },
   {
    "duration": 8,
    "start_time": "2022-02-15T22:09:30.545Z"
   },
   {
    "duration": 8,
    "start_time": "2022-02-15T22:09:30.555Z"
   },
   {
    "duration": 7,
    "start_time": "2022-02-15T22:09:30.566Z"
   },
   {
    "duration": 1238,
    "start_time": "2022-02-15T22:09:30.575Z"
   },
   {
    "duration": 3517,
    "start_time": "2022-02-15T22:09:31.817Z"
   },
   {
    "duration": -90,
    "start_time": "2022-02-15T22:09:35.428Z"
   },
   {
    "duration": -100,
    "start_time": "2022-02-15T22:09:35.440Z"
   },
   {
    "duration": -108,
    "start_time": "2022-02-15T22:09:35.450Z"
   },
   {
    "duration": 2830,
    "start_time": "2022-02-15T22:09:47.300Z"
   },
   {
    "duration": 18518,
    "start_time": "2022-02-15T22:10:50.992Z"
   },
   {
    "duration": 16608,
    "start_time": "2022-02-15T22:11:27.873Z"
   },
   {
    "duration": 3021,
    "start_time": "2022-02-15T22:11:44.484Z"
   },
   {
    "duration": 3421,
    "start_time": "2022-02-15T22:13:55.653Z"
   },
   {
    "duration": 4,
    "start_time": "2022-02-15T22:30:27.265Z"
   },
   {
    "duration": 3493,
    "start_time": "2022-02-15T22:30:38.535Z"
   },
   {
    "duration": 4,
    "start_time": "2022-02-15T22:31:13.959Z"
   },
   {
    "duration": 3407,
    "start_time": "2022-02-15T22:31:20.432Z"
   },
   {
    "duration": 5,
    "start_time": "2022-02-15T22:32:03.165Z"
   },
   {
    "duration": 4,
    "start_time": "2022-02-15T22:32:05.919Z"
   },
   {
    "duration": 9501,
    "start_time": "2022-02-15T22:32:13.255Z"
   },
   {
    "duration": 4,
    "start_time": "2022-02-15T22:34:39.057Z"
   },
   {
    "duration": 22247,
    "start_time": "2022-02-15T22:34:52.235Z"
   },
   {
    "duration": 4,
    "start_time": "2022-02-15T22:36:13.286Z"
   },
   {
    "duration": 22211,
    "start_time": "2022-02-15T22:36:16.492Z"
   },
   {
    "duration": 138,
    "start_time": "2022-02-15T22:39:42.957Z"
   },
   {
    "duration": 4,
    "start_time": "2022-02-15T22:40:12.700Z"
   },
   {
    "duration": 4,
    "start_time": "2022-02-15T22:40:39.536Z"
   },
   {
    "duration": 25110,
    "start_time": "2022-02-15T22:40:44.386Z"
   },
   {
    "duration": 8221,
    "start_time": "2022-02-15T22:48:50.790Z"
   },
   {
    "duration": 9278,
    "start_time": "2022-02-15T22:55:23.863Z"
   },
   {
    "duration": 7,
    "start_time": "2022-02-15T22:57:06.974Z"
   },
   {
    "duration": 416,
    "start_time": "2022-02-15T22:57:40.053Z"
   },
   {
    "duration": 7049,
    "start_time": "2022-02-15T22:58:11.535Z"
   },
   {
    "duration": 7,
    "start_time": "2022-02-15T23:12:25.273Z"
   },
   {
    "duration": 131,
    "start_time": "2022-02-15T23:12:37.221Z"
   },
   {
    "duration": 6,
    "start_time": "2022-02-15T23:12:47.076Z"
   },
   {
    "duration": 1260,
    "start_time": "2022-02-15T23:23:14.744Z"
   },
   {
    "duration": 6,
    "start_time": "2022-02-15T23:24:27.432Z"
   },
   {
    "duration": 2582,
    "start_time": "2022-02-15T23:24:41.937Z"
   },
   {
    "duration": 3102,
    "start_time": "2022-02-15T23:26:47.907Z"
   },
   {
    "duration": 6612,
    "start_time": "2022-02-15T23:40:24.237Z"
   },
   {
    "duration": 7578,
    "start_time": "2022-02-15T23:40:49.609Z"
   },
   {
    "duration": 6471,
    "start_time": "2022-02-15T23:41:10.396Z"
   },
   {
    "duration": 22862,
    "start_time": "2022-02-15T23:42:29.786Z"
   },
   {
    "duration": 9670,
    "start_time": "2022-02-15T23:42:52.651Z"
   },
   {
    "duration": 6911,
    "start_time": "2022-02-15T23:43:02.324Z"
   },
   {
    "duration": 29288,
    "start_time": "2022-02-15T23:50:05.186Z"
   },
   {
    "duration": 146,
    "start_time": "2022-02-15T23:52:23.385Z"
   },
   {
    "duration": 390,
    "start_time": "2022-02-15T23:58:41.249Z"
   },
   {
    "duration": 130,
    "start_time": "2022-02-15T23:59:08.166Z"
   },
   {
    "duration": 7,
    "start_time": "2022-02-15T23:59:18.856Z"
   },
   {
    "duration": 10,
    "start_time": "2022-02-15T23:59:20.700Z"
   },
   {
    "duration": 7,
    "start_time": "2022-02-15T23:59:22.400Z"
   },
   {
    "duration": 379,
    "start_time": "2022-02-15T23:59:33.595Z"
   },
   {
    "duration": 1277,
    "start_time": "2022-02-16T00:00:26.334Z"
   },
   {
    "duration": 1544,
    "start_time": "2022-02-16T00:00:33.670Z"
   },
   {
    "duration": 1072,
    "start_time": "2022-02-16T00:01:08.842Z"
   },
   {
    "duration": 8,
    "start_time": "2022-02-16T00:05:37.055Z"
   },
   {
    "duration": 8,
    "start_time": "2022-02-16T00:10:23.968Z"
   },
   {
    "duration": 1186,
    "start_time": "2022-02-16T10:13:52.809Z"
   },
   {
    "duration": 2,
    "start_time": "2022-02-16T10:13:53.997Z"
   },
   {
    "duration": 651,
    "start_time": "2022-02-16T10:13:54.038Z"
   },
   {
    "duration": 30,
    "start_time": "2022-02-16T10:13:55.094Z"
   },
   {
    "duration": 17,
    "start_time": "2022-02-16T10:13:55.577Z"
   },
   {
    "duration": 3,
    "start_time": "2022-02-16T10:13:56.568Z"
   },
   {
    "duration": 13,
    "start_time": "2022-02-16T10:13:57.021Z"
   },
   {
    "duration": 26,
    "start_time": "2022-02-16T10:13:57.997Z"
   },
   {
    "duration": 11,
    "start_time": "2022-02-16T10:13:58.223Z"
   },
   {
    "duration": 2,
    "start_time": "2022-02-16T10:13:59.718Z"
   },
   {
    "duration": 8,
    "start_time": "2022-02-16T10:14:00.895Z"
   },
   {
    "duration": 29,
    "start_time": "2022-02-16T10:14:01.521Z"
   },
   {
    "duration": 16,
    "start_time": "2022-02-16T10:14:02.126Z"
   },
   {
    "duration": 2,
    "start_time": "2022-02-16T10:14:06.400Z"
   },
   {
    "duration": 14,
    "start_time": "2022-02-16T10:14:06.897Z"
   },
   {
    "duration": 6,
    "start_time": "2022-02-16T10:16:04.198Z"
   },
   {
    "duration": 5,
    "start_time": "2022-02-16T10:16:04.785Z"
   },
   {
    "duration": 4,
    "start_time": "2022-02-16T10:16:21.115Z"
   },
   {
    "duration": 5,
    "start_time": "2022-02-16T10:16:22.694Z"
   },
   {
    "duration": 3,
    "start_time": "2022-02-16T10:27:54.910Z"
   },
   {
    "duration": 19,
    "start_time": "2022-02-16T10:27:58.193Z"
   },
   {
    "duration": 9,
    "start_time": "2022-02-16T10:27:58.215Z"
   },
   {
    "duration": 5,
    "start_time": "2022-02-16T10:27:58.227Z"
   },
   {
    "duration": 8,
    "start_time": "2022-02-16T10:27:58.282Z"
   },
   {
    "duration": 16,
    "start_time": "2022-02-16T10:27:58.503Z"
   },
   {
    "duration": 12,
    "start_time": "2022-02-16T10:28:00.339Z"
   },
   {
    "duration": 6,
    "start_time": "2022-02-16T10:28:41.964Z"
   },
   {
    "duration": 3,
    "start_time": "2022-02-16T10:28:42.541Z"
   },
   {
    "duration": 3,
    "start_time": "2022-02-16T10:28:43.104Z"
   },
   {
    "duration": 3,
    "start_time": "2022-02-16T10:28:43.551Z"
   },
   {
    "duration": 4,
    "start_time": "2022-02-16T10:28:44.143Z"
   },
   {
    "duration": 4,
    "start_time": "2022-02-16T10:28:44.738Z"
   },
   {
    "duration": 3,
    "start_time": "2022-02-16T10:28:45.159Z"
   },
   {
    "duration": 3,
    "start_time": "2022-02-16T10:28:45.320Z"
   },
   {
    "duration": 5,
    "start_time": "2022-02-16T10:28:46.056Z"
   },
   {
    "duration": 4,
    "start_time": "2022-02-16T10:28:46.317Z"
   },
   {
    "duration": 5,
    "start_time": "2022-02-16T10:28:46.595Z"
   },
   {
    "duration": 4,
    "start_time": "2022-02-16T10:28:46.819Z"
   },
   {
    "duration": 6,
    "start_time": "2022-02-16T10:31:28.647Z"
   },
   {
    "duration": 2288,
    "start_time": "2022-02-16T10:31:29.346Z"
   },
   {
    "duration": 285,
    "start_time": "2022-02-16T10:31:31.636Z"
   },
   {
    "duration": 985,
    "start_time": "2022-02-16T10:31:31.930Z"
   },
   {
    "duration": 282,
    "start_time": "2022-02-16T10:31:32.917Z"
   },
   {
    "duration": 661,
    "start_time": "2022-02-16T10:31:33.201Z"
   },
   {
    "duration": 274,
    "start_time": "2022-02-16T10:31:33.863Z"
   },
   {
    "duration": 376,
    "start_time": "2022-02-16T10:31:34.139Z"
   },
   {
    "duration": 271,
    "start_time": "2022-02-16T10:31:34.626Z"
   },
   {
    "duration": 5,
    "start_time": "2022-02-16T10:34:13.808Z"
   },
   {
    "duration": 4,
    "start_time": "2022-02-16T10:34:14.363Z"
   },
   {
    "duration": 5,
    "start_time": "2022-02-16T10:34:14.850Z"
   },
   {
    "duration": 10,
    "start_time": "2022-02-16T10:34:15.491Z"
   },
   {
    "duration": 13,
    "start_time": "2022-02-16T10:34:16.827Z"
   },
   {
    "duration": 370,
    "start_time": "2022-02-16T10:34:18.234Z"
   },
   {
    "duration": 156,
    "start_time": "2022-02-16T10:34:19.222Z"
   },
   {
    "duration": 13,
    "start_time": "2022-02-16T10:34:20.467Z"
   },
   {
    "duration": 571,
    "start_time": "2022-02-16T10:34:20.766Z"
   },
   {
    "duration": 257,
    "start_time": "2022-02-16T10:34:21.340Z"
   },
   {
    "duration": 13,
    "start_time": "2022-02-16T10:34:22.284Z"
   },
   {
    "duration": 427,
    "start_time": "2022-02-16T10:34:22.768Z"
   },
   {
    "duration": 266,
    "start_time": "2022-02-16T10:34:23.277Z"
   },
   {
    "duration": 34,
    "start_time": "2022-02-16T10:34:24.524Z"
   },
   {
    "duration": 45,
    "start_time": "2022-02-16T10:34:24.709Z"
   },
   {
    "duration": 28,
    "start_time": "2022-02-16T10:34:24.928Z"
   },
   {
    "duration": 32,
    "start_time": "2022-02-16T10:34:25.069Z"
   },
   {
    "duration": 4,
    "start_time": "2022-02-16T10:35:41.698Z"
   },
   {
    "duration": 5,
    "start_time": "2022-02-16T10:35:42.223Z"
   },
   {
    "duration": 24,
    "start_time": "2022-02-16T10:38:00.859Z"
   },
   {
    "duration": 34,
    "start_time": "2022-02-16T10:38:06.046Z"
   },
   {
    "duration": 10,
    "start_time": "2022-02-16T10:38:50.662Z"
   },
   {
    "duration": 11,
    "start_time": "2022-02-16T10:39:42.937Z"
   },
   {
    "duration": 6,
    "start_time": "2022-02-16T10:39:44.913Z"
   },
   {
    "duration": 3,
    "start_time": "2022-02-16T10:39:45.293Z"
   },
   {
    "duration": 4,
    "start_time": "2022-02-16T10:39:45.493Z"
   },
   {
    "duration": 4,
    "start_time": "2022-02-16T10:39:45.826Z"
   },
   {
    "duration": 4,
    "start_time": "2022-02-16T10:39:46.858Z"
   },
   {
    "duration": 4,
    "start_time": "2022-02-16T10:39:47.049Z"
   },
   {
    "duration": 8,
    "start_time": "2022-02-16T10:39:47.472Z"
   },
   {
    "duration": 4,
    "start_time": "2022-02-16T10:39:48.248Z"
   },
   {
    "duration": 4,
    "start_time": "2022-02-16T10:39:48.430Z"
   },
   {
    "duration": 4,
    "start_time": "2022-02-16T10:39:48.594Z"
   },
   {
    "duration": 4,
    "start_time": "2022-02-16T10:39:48.764Z"
   },
   {
    "duration": 4,
    "start_time": "2022-02-16T10:39:48.940Z"
   },
   {
    "duration": 4,
    "start_time": "2022-02-16T10:39:49.320Z"
   },
   {
    "duration": 5,
    "start_time": "2022-02-16T10:39:51.744Z"
   },
   {
    "duration": 387,
    "start_time": "2022-02-16T10:39:51.952Z"
   },
   {
    "duration": 320,
    "start_time": "2022-02-16T10:39:52.431Z"
   },
   {
    "duration": -83,
    "start_time": "2022-02-16T10:39:52.837Z"
   },
   {
    "duration": -94,
    "start_time": "2022-02-16T10:39:52.849Z"
   },
   {
    "duration": 274,
    "start_time": "2022-02-16T10:40:00.188Z"
   },
   {
    "duration": 188,
    "start_time": "2022-02-16T10:40:00.680Z"
   },
   {
    "duration": 480,
    "start_time": "2022-02-16T10:42:43.409Z"
   },
   {
    "duration": 4077,
    "start_time": "2022-02-16T10:42:48.936Z"
   },
   {
    "duration": -66,
    "start_time": "2022-02-16T10:42:53.081Z"
   },
   {
    "duration": 202,
    "start_time": "2022-02-16T10:43:54.330Z"
   },
   {
    "duration": 4,
    "start_time": "2022-02-16T10:43:55.630Z"
   },
   {
    "duration": 17037,
    "start_time": "2022-02-16T10:44:00.106Z"
   },
   {
    "duration": 1197,
    "start_time": "2022-02-17T20:24:44.025Z"
   },
   {
    "duration": 2,
    "start_time": "2022-02-17T20:24:45.224Z"
   },
   {
    "duration": 658,
    "start_time": "2022-02-17T20:24:45.228Z"
   },
   {
    "duration": 27,
    "start_time": "2022-02-17T20:24:45.888Z"
   },
   {
    "duration": 22,
    "start_time": "2022-02-17T20:24:45.917Z"
   },
   {
    "duration": 9,
    "start_time": "2022-02-17T20:24:45.940Z"
   },
   {
    "duration": 14,
    "start_time": "2022-02-17T20:24:45.951Z"
   },
   {
    "duration": 21,
    "start_time": "2022-02-17T20:24:45.967Z"
   },
   {
    "duration": 10,
    "start_time": "2022-02-17T20:24:45.990Z"
   },
   {
    "duration": 30,
    "start_time": "2022-02-17T20:24:46.002Z"
   },
   {
    "duration": 9,
    "start_time": "2022-02-17T20:24:46.033Z"
   },
   {
    "duration": 68,
    "start_time": "2022-02-17T20:24:46.044Z"
   },
   {
    "duration": 15,
    "start_time": "2022-02-17T20:24:46.113Z"
   },
   {
    "duration": 2,
    "start_time": "2022-02-17T20:24:46.130Z"
   },
   {
    "duration": 13,
    "start_time": "2022-02-17T20:24:46.134Z"
   },
   {
    "duration": 8,
    "start_time": "2022-02-17T20:24:46.149Z"
   },
   {
    "duration": 7,
    "start_time": "2022-02-17T20:24:46.158Z"
   },
   {
    "duration": 8,
    "start_time": "2022-02-17T20:24:46.166Z"
   },
   {
    "duration": 11,
    "start_time": "2022-02-17T20:24:46.175Z"
   },
   {
    "duration": 8,
    "start_time": "2022-02-17T20:24:46.187Z"
   },
   {
    "duration": 21,
    "start_time": "2022-02-17T20:24:46.197Z"
   },
   {
    "duration": 18,
    "start_time": "2022-02-17T20:24:46.220Z"
   },
   {
    "duration": 4,
    "start_time": "2022-02-17T20:24:46.241Z"
   },
   {
    "duration": 8,
    "start_time": "2022-02-17T20:24:46.247Z"
   },
   {
    "duration": 18,
    "start_time": "2022-02-17T20:24:46.256Z"
   },
   {
    "duration": 10,
    "start_time": "2022-02-17T20:24:46.275Z"
   },
   {
    "duration": 5,
    "start_time": "2022-02-17T20:24:46.286Z"
   },
   {
    "duration": 6,
    "start_time": "2022-02-17T20:24:46.293Z"
   },
   {
    "duration": 33,
    "start_time": "2022-02-17T20:24:46.300Z"
   },
   {
    "duration": 4,
    "start_time": "2022-02-17T20:24:46.335Z"
   },
   {
    "duration": 8,
    "start_time": "2022-02-17T20:24:46.341Z"
   },
   {
    "duration": 8,
    "start_time": "2022-02-17T20:24:46.350Z"
   },
   {
    "duration": 8,
    "start_time": "2022-02-17T20:24:46.359Z"
   },
   {
    "duration": 8,
    "start_time": "2022-02-17T20:24:46.369Z"
   },
   {
    "duration": 9,
    "start_time": "2022-02-17T20:24:46.378Z"
   },
   {
    "duration": 7,
    "start_time": "2022-02-17T20:24:46.389Z"
   },
   {
    "duration": 11,
    "start_time": "2022-02-17T20:24:46.398Z"
   },
   {
    "duration": 8,
    "start_time": "2022-02-17T20:24:46.410Z"
   },
   {
    "duration": 14,
    "start_time": "2022-02-17T20:24:46.420Z"
   },
   {
    "duration": 2459,
    "start_time": "2022-02-17T20:24:46.436Z"
   },
   {
    "duration": 302,
    "start_time": "2022-02-17T20:24:48.896Z"
   },
   {
    "duration": 987,
    "start_time": "2022-02-17T20:24:49.200Z"
   },
   {
    "duration": 254,
    "start_time": "2022-02-17T20:24:50.188Z"
   },
   {
    "duration": 696,
    "start_time": "2022-02-17T20:24:50.444Z"
   },
   {
    "duration": 297,
    "start_time": "2022-02-17T20:24:51.141Z"
   },
   {
    "duration": 361,
    "start_time": "2022-02-17T20:24:51.440Z"
   },
   {
    "duration": 364,
    "start_time": "2022-02-17T20:24:51.803Z"
   },
   {
    "duration": 4,
    "start_time": "2022-02-17T20:24:52.169Z"
   },
   {
    "duration": 6,
    "start_time": "2022-02-17T20:24:52.174Z"
   },
   {
    "duration": 8,
    "start_time": "2022-02-17T20:24:52.181Z"
   },
   {
    "duration": 8,
    "start_time": "2022-02-17T20:24:52.191Z"
   },
   {
    "duration": 31,
    "start_time": "2022-02-17T20:24:52.201Z"
   },
   {
    "duration": 326,
    "start_time": "2022-02-17T20:24:52.235Z"
   },
   {
    "duration": 148,
    "start_time": "2022-02-17T20:24:52.563Z"
   },
   {
    "duration": 20,
    "start_time": "2022-02-17T20:24:52.713Z"
   },
   {
    "duration": 531,
    "start_time": "2022-02-17T20:24:52.734Z"
   },
   {
    "duration": 243,
    "start_time": "2022-02-17T20:24:53.267Z"
   },
   {
    "duration": 20,
    "start_time": "2022-02-17T20:24:53.511Z"
   },
   {
    "duration": 451,
    "start_time": "2022-02-17T20:24:53.533Z"
   },
   {
    "duration": 259,
    "start_time": "2022-02-17T20:24:53.985Z"
   },
   {
    "duration": 31,
    "start_time": "2022-02-17T20:24:54.245Z"
   },
   {
    "duration": 56,
    "start_time": "2022-02-17T20:24:54.277Z"
   },
   {
    "duration": 38,
    "start_time": "2022-02-17T20:24:54.335Z"
   },
   {
    "duration": 61,
    "start_time": "2022-02-17T20:24:54.375Z"
   },
   {
    "duration": 3,
    "start_time": "2022-02-17T20:24:54.438Z"
   },
   {
    "duration": 6,
    "start_time": "2022-02-17T20:24:54.444Z"
   },
   {
    "duration": 26,
    "start_time": "2022-02-17T20:24:54.452Z"
   },
   {
    "duration": 52,
    "start_time": "2022-02-17T20:24:54.483Z"
   },
   {
    "duration": 9,
    "start_time": "2022-02-17T20:24:54.537Z"
   },
   {
    "duration": 9,
    "start_time": "2022-02-17T20:24:54.548Z"
   },
   {
    "duration": 3,
    "start_time": "2022-02-17T20:24:54.558Z"
   },
   {
    "duration": 5,
    "start_time": "2022-02-17T20:24:54.563Z"
   },
   {
    "duration": 5,
    "start_time": "2022-02-17T20:24:54.569Z"
   },
   {
    "duration": 7,
    "start_time": "2022-02-17T20:24:54.575Z"
   },
   {
    "duration": 9,
    "start_time": "2022-02-17T20:24:54.584Z"
   },
   {
    "duration": 15,
    "start_time": "2022-02-17T20:24:54.594Z"
   },
   {
    "duration": 44,
    "start_time": "2022-02-17T20:24:54.610Z"
   },
   {
    "duration": 19,
    "start_time": "2022-02-17T20:24:54.656Z"
   },
   {
    "duration": 12,
    "start_time": "2022-02-17T20:24:54.677Z"
   },
   {
    "duration": 43,
    "start_time": "2022-02-17T20:24:54.690Z"
   },
   {
    "duration": 11,
    "start_time": "2022-02-17T20:24:54.735Z"
   },
   {
    "duration": 24,
    "start_time": "2022-02-17T20:24:54.748Z"
   },
   {
    "duration": 22,
    "start_time": "2022-02-17T20:24:54.774Z"
   },
   {
    "duration": 16,
    "start_time": "2022-02-17T20:24:54.797Z"
   },
   {
    "duration": 816,
    "start_time": "2022-02-17T20:24:54.815Z"
   },
   {
    "duration": 371,
    "start_time": "2022-02-17T20:24:55.633Z"
   },
   {
    "duration": -81,
    "start_time": "2022-02-17T20:24:56.086Z"
   },
   {
    "duration": -83,
    "start_time": "2022-02-17T20:24:56.089Z"
   },
   {
    "duration": -87,
    "start_time": "2022-02-17T20:24:56.094Z"
   },
   {
    "duration": -90,
    "start_time": "2022-02-17T20:24:56.098Z"
   },
   {
    "duration": -98,
    "start_time": "2022-02-17T20:24:56.107Z"
   },
   {
    "duration": -101,
    "start_time": "2022-02-17T20:24:56.111Z"
   },
   {
    "duration": -103,
    "start_time": "2022-02-17T20:24:56.114Z"
   },
   {
    "duration": -106,
    "start_time": "2022-02-17T20:24:56.118Z"
   },
   {
    "duration": -108,
    "start_time": "2022-02-17T20:24:56.121Z"
   },
   {
    "duration": -111,
    "start_time": "2022-02-17T20:24:56.125Z"
   },
   {
    "duration": -113,
    "start_time": "2022-02-17T20:24:56.128Z"
   },
   {
    "duration": 2,
    "start_time": "2022-02-17T20:25:46.471Z"
   },
   {
    "duration": 2,
    "start_time": "2022-02-17T20:25:46.730Z"
   },
   {
    "duration": 3,
    "start_time": "2022-02-17T20:25:46.993Z"
   },
   {
    "duration": 3200,
    "start_time": "2022-02-17T20:25:48.145Z"
   },
   {
    "duration": 25,
    "start_time": "2022-02-17T20:28:24.071Z"
   },
   {
    "duration": 24,
    "start_time": "2022-02-17T20:30:28.983Z"
   },
   {
    "duration": 10,
    "start_time": "2022-02-17T20:32:02.438Z"
   },
   {
    "duration": 24,
    "start_time": "2022-02-17T20:33:18.301Z"
   },
   {
    "duration": 9,
    "start_time": "2022-02-17T20:33:19.951Z"
   },
   {
    "duration": 12,
    "start_time": "2022-02-17T20:38:04.052Z"
   },
   {
    "duration": 5,
    "start_time": "2022-02-17T20:38:05.759Z"
   },
   {
    "duration": 5,
    "start_time": "2022-02-17T20:38:06.768Z"
   },
   {
    "duration": 4,
    "start_time": "2022-02-17T20:38:07.088Z"
   },
   {
    "duration": 3,
    "start_time": "2022-02-17T20:38:07.451Z"
   },
   {
    "duration": 100,
    "start_time": "2022-02-17T20:39:09.545Z"
   },
   {
    "duration": 24,
    "start_time": "2022-02-17T20:42:17.224Z"
   },
   {
    "duration": 63,
    "start_time": "2022-02-17T20:48:25.663Z"
   },
   {
    "duration": 25,
    "start_time": "2022-02-17T20:48:29.500Z"
   },
   {
    "duration": 299,
    "start_time": "2022-02-17T20:52:39.271Z"
   },
   {
    "duration": 6,
    "start_time": "2022-02-17T20:54:44.041Z"
   },
   {
    "duration": 7,
    "start_time": "2022-02-17T20:54:44.049Z"
   },
   {
    "duration": 707,
    "start_time": "2022-02-17T20:54:44.058Z"
   },
   {
    "duration": 24,
    "start_time": "2022-02-17T20:54:44.767Z"
   },
   {
    "duration": 14,
    "start_time": "2022-02-17T20:54:44.793Z"
   },
   {
    "duration": 3,
    "start_time": "2022-02-17T20:54:44.808Z"
   },
   {
    "duration": 13,
    "start_time": "2022-02-17T20:54:44.831Z"
   },
   {
    "duration": 21,
    "start_time": "2022-02-17T20:54:44.846Z"
   },
   {
    "duration": 8,
    "start_time": "2022-02-17T20:54:44.869Z"
   },
   {
    "duration": 2,
    "start_time": "2022-02-17T20:54:44.878Z"
   },
   {
    "duration": 9,
    "start_time": "2022-02-17T20:54:44.881Z"
   },
   {
    "duration": 54,
    "start_time": "2022-02-17T20:54:44.891Z"
   },
   {
    "duration": 14,
    "start_time": "2022-02-17T20:54:44.946Z"
   },
   {
    "duration": 2,
    "start_time": "2022-02-17T20:54:44.962Z"
   },
   {
    "duration": 18,
    "start_time": "2022-02-17T20:54:44.966Z"
   },
   {
    "duration": 6,
    "start_time": "2022-02-17T20:54:44.985Z"
   },
   {
    "duration": 7,
    "start_time": "2022-02-17T20:54:44.993Z"
   },
   {
    "duration": 32,
    "start_time": "2022-02-17T20:54:45.002Z"
   },
   {
    "duration": 6,
    "start_time": "2022-02-17T20:54:45.036Z"
   },
   {
    "duration": 6,
    "start_time": "2022-02-17T20:54:45.044Z"
   },
   {
    "duration": 21,
    "start_time": "2022-02-17T20:54:45.052Z"
   },
   {
    "duration": 7,
    "start_time": "2022-02-17T20:54:45.075Z"
   },
   {
    "duration": 4,
    "start_time": "2022-02-17T20:54:45.086Z"
   },
   {
    "duration": 8,
    "start_time": "2022-02-17T20:54:45.092Z"
   },
   {
    "duration": 38,
    "start_time": "2022-02-17T20:54:45.101Z"
   },
   {
    "duration": 9,
    "start_time": "2022-02-17T20:54:45.140Z"
   },
   {
    "duration": 8,
    "start_time": "2022-02-17T20:54:45.151Z"
   },
   {
    "duration": 4,
    "start_time": "2022-02-17T20:54:45.161Z"
   },
   {
    "duration": 12,
    "start_time": "2022-02-17T20:54:45.167Z"
   },
   {
    "duration": 12,
    "start_time": "2022-02-17T20:54:45.181Z"
   },
   {
    "duration": 7,
    "start_time": "2022-02-17T20:54:45.195Z"
   },
   {
    "duration": 9,
    "start_time": "2022-02-17T20:54:45.204Z"
   },
   {
    "duration": 24,
    "start_time": "2022-02-17T20:54:45.214Z"
   },
   {
    "duration": 11,
    "start_time": "2022-02-17T20:54:45.239Z"
   },
   {
    "duration": 8,
    "start_time": "2022-02-17T20:54:45.252Z"
   },
   {
    "duration": 8,
    "start_time": "2022-02-17T20:54:45.261Z"
   },
   {
    "duration": 10,
    "start_time": "2022-02-17T20:54:45.271Z"
   },
   {
    "duration": 8,
    "start_time": "2022-02-17T20:54:45.282Z"
   },
   {
    "duration": 11,
    "start_time": "2022-02-17T20:54:45.292Z"
   },
   {
    "duration": 2212,
    "start_time": "2022-02-17T20:54:45.305Z"
   },
   {
    "duration": 330,
    "start_time": "2022-02-17T20:54:47.518Z"
   },
   {
    "duration": 1086,
    "start_time": "2022-02-17T20:54:47.849Z"
   },
   {
    "duration": 327,
    "start_time": "2022-02-17T20:54:48.936Z"
   },
   {
    "duration": 630,
    "start_time": "2022-02-17T20:54:49.264Z"
   },
   {
    "duration": 344,
    "start_time": "2022-02-17T20:54:49.896Z"
   },
   {
    "duration": 363,
    "start_time": "2022-02-17T20:54:50.241Z"
   },
   {
    "duration": 336,
    "start_time": "2022-02-17T20:54:50.605Z"
   },
   {
    "duration": 4,
    "start_time": "2022-02-17T20:54:50.942Z"
   },
   {
    "duration": 4,
    "start_time": "2022-02-17T20:54:50.948Z"
   },
   {
    "duration": 10,
    "start_time": "2022-02-17T20:54:50.953Z"
   },
   {
    "duration": 10,
    "start_time": "2022-02-17T20:54:50.964Z"
   },
   {
    "duration": 11,
    "start_time": "2022-02-17T20:54:50.975Z"
   },
   {
    "duration": 476,
    "start_time": "2022-02-17T20:54:50.987Z"
   },
   {
    "duration": 232,
    "start_time": "2022-02-17T20:54:51.465Z"
   },
   {
    "duration": 12,
    "start_time": "2022-02-17T20:54:51.699Z"
   },
   {
    "duration": 433,
    "start_time": "2022-02-17T20:54:51.713Z"
   },
   {
    "duration": 234,
    "start_time": "2022-02-17T20:54:52.147Z"
   },
   {
    "duration": 11,
    "start_time": "2022-02-17T20:54:52.382Z"
   },
   {
    "duration": 421,
    "start_time": "2022-02-17T20:54:52.395Z"
   },
   {
    "duration": 377,
    "start_time": "2022-02-17T20:54:52.818Z"
   },
   {
    "duration": 52,
    "start_time": "2022-02-17T20:54:53.197Z"
   },
   {
    "duration": 58,
    "start_time": "2022-02-17T20:54:53.251Z"
   },
   {
    "duration": 56,
    "start_time": "2022-02-17T20:54:53.311Z"
   },
   {
    "duration": 41,
    "start_time": "2022-02-17T20:54:53.369Z"
   },
   {
    "duration": 3,
    "start_time": "2022-02-17T20:54:53.412Z"
   },
   {
    "duration": 15,
    "start_time": "2022-02-17T20:54:53.431Z"
   },
   {
    "duration": 50,
    "start_time": "2022-02-17T20:54:53.447Z"
   },
   {
    "duration": 28,
    "start_time": "2022-02-17T20:54:53.502Z"
   },
   {
    "duration": 8,
    "start_time": "2022-02-17T20:54:53.532Z"
   },
   {
    "duration": 48,
    "start_time": "2022-02-17T20:54:53.541Z"
   },
   {
    "duration": 23,
    "start_time": "2022-02-17T20:54:53.591Z"
   },
   {
    "duration": 8,
    "start_time": "2022-02-17T20:54:53.616Z"
   },
   {
    "duration": 21,
    "start_time": "2022-02-17T20:54:53.625Z"
   },
   {
    "duration": 18,
    "start_time": "2022-02-17T20:54:53.648Z"
   },
   {
    "duration": 9,
    "start_time": "2022-02-17T20:54:53.668Z"
   },
   {
    "duration": 21,
    "start_time": "2022-02-17T20:54:53.678Z"
   },
   {
    "duration": 70,
    "start_time": "2022-02-17T20:54:53.701Z"
   },
   {
    "duration": 299,
    "start_time": "2022-02-17T20:54:53.773Z"
   },
   {
    "duration": -99,
    "start_time": "2022-02-17T20:54:54.173Z"
   },
   {
    "duration": -104,
    "start_time": "2022-02-17T20:54:54.179Z"
   },
   {
    "duration": -107,
    "start_time": "2022-02-17T20:54:54.183Z"
   },
   {
    "duration": -111,
    "start_time": "2022-02-17T20:54:54.187Z"
   },
   {
    "duration": -119,
    "start_time": "2022-02-17T20:54:54.196Z"
   },
   {
    "duration": -123,
    "start_time": "2022-02-17T20:54:54.200Z"
   },
   {
    "duration": -126,
    "start_time": "2022-02-17T20:54:54.204Z"
   },
   {
    "duration": -130,
    "start_time": "2022-02-17T20:54:54.208Z"
   },
   {
    "duration": -133,
    "start_time": "2022-02-17T20:54:54.212Z"
   },
   {
    "duration": -136,
    "start_time": "2022-02-17T20:54:54.215Z"
   },
   {
    "duration": -140,
    "start_time": "2022-02-17T20:54:54.220Z"
   },
   {
    "duration": -143,
    "start_time": "2022-02-17T20:54:54.223Z"
   },
   {
    "duration": -147,
    "start_time": "2022-02-17T20:54:54.228Z"
   },
   {
    "duration": -150,
    "start_time": "2022-02-17T20:54:54.232Z"
   },
   {
    "duration": -154,
    "start_time": "2022-02-17T20:54:54.236Z"
   },
   {
    "duration": -156,
    "start_time": "2022-02-17T20:54:54.239Z"
   },
   {
    "duration": -160,
    "start_time": "2022-02-17T20:54:54.243Z"
   },
   {
    "duration": 300,
    "start_time": "2022-02-17T20:56:27.233Z"
   },
   {
    "duration": 32,
    "start_time": "2022-02-17T20:56:38.737Z"
   },
   {
    "duration": 50,
    "start_time": "2022-02-17T20:58:28.187Z"
   },
   {
    "duration": 337,
    "start_time": "2022-02-17T21:00:05.639Z"
   },
   {
    "duration": 25,
    "start_time": "2022-02-17T21:00:20.423Z"
   },
   {
    "duration": 29,
    "start_time": "2022-02-17T21:00:39.244Z"
   },
   {
    "duration": 280,
    "start_time": "2022-02-17T21:00:42.353Z"
   },
   {
    "duration": 5,
    "start_time": "2022-02-17T21:01:21.993Z"
   },
   {
    "duration": 4,
    "start_time": "2022-02-17T21:01:22.001Z"
   },
   {
    "duration": 723,
    "start_time": "2022-02-17T21:01:22.008Z"
   },
   {
    "duration": 25,
    "start_time": "2022-02-17T21:01:22.733Z"
   },
   {
    "duration": 13,
    "start_time": "2022-02-17T21:01:22.760Z"
   },
   {
    "duration": 2,
    "start_time": "2022-02-17T21:01:22.775Z"
   },
   {
    "duration": 13,
    "start_time": "2022-02-17T21:01:22.779Z"
   },
   {
    "duration": 51,
    "start_time": "2022-02-17T21:01:22.794Z"
   },
   {
    "duration": 14,
    "start_time": "2022-02-17T21:01:22.847Z"
   },
   {
    "duration": 2,
    "start_time": "2022-02-17T21:01:22.863Z"
   },
   {
    "duration": 12,
    "start_time": "2022-02-17T21:01:22.867Z"
   },
   {
    "duration": 63,
    "start_time": "2022-02-17T21:01:22.881Z"
   },
   {
    "duration": 22,
    "start_time": "2022-02-17T21:01:22.946Z"
   },
   {
    "duration": 3,
    "start_time": "2022-02-17T21:01:22.969Z"
   },
   {
    "duration": 17,
    "start_time": "2022-02-17T21:01:22.974Z"
   },
   {
    "duration": 6,
    "start_time": "2022-02-17T21:01:22.993Z"
   },
   {
    "duration": 32,
    "start_time": "2022-02-17T21:01:23.001Z"
   },
   {
    "duration": 4,
    "start_time": "2022-02-17T21:01:23.035Z"
   },
   {
    "duration": 6,
    "start_time": "2022-02-17T21:01:23.040Z"
   },
   {
    "duration": 4,
    "start_time": "2022-02-17T21:01:23.048Z"
   },
   {
    "duration": 20,
    "start_time": "2022-02-17T21:01:23.053Z"
   },
   {
    "duration": 8,
    "start_time": "2022-02-17T21:01:23.075Z"
   },
   {
    "duration": 4,
    "start_time": "2022-02-17T21:01:23.086Z"
   },
   {
    "duration": 8,
    "start_time": "2022-02-17T21:01:23.093Z"
   },
   {
    "duration": 13,
    "start_time": "2022-02-17T21:01:23.131Z"
   },
   {
    "duration": 11,
    "start_time": "2022-02-17T21:01:23.145Z"
   },
   {
    "duration": 8,
    "start_time": "2022-02-17T21:01:23.158Z"
   },
   {
    "duration": 5,
    "start_time": "2022-02-17T21:01:23.167Z"
   },
   {
    "duration": 13,
    "start_time": "2022-02-17T21:01:23.174Z"
   },
   {
    "duration": 7,
    "start_time": "2022-02-17T21:01:23.189Z"
   },
   {
    "duration": 9,
    "start_time": "2022-02-17T21:01:23.198Z"
   },
   {
    "duration": 24,
    "start_time": "2022-02-17T21:01:23.208Z"
   },
   {
    "duration": 4,
    "start_time": "2022-02-17T21:01:23.233Z"
   },
   {
    "duration": 5,
    "start_time": "2022-02-17T21:01:23.239Z"
   },
   {
    "duration": 8,
    "start_time": "2022-02-17T21:01:23.246Z"
   },
   {
    "duration": 11,
    "start_time": "2022-02-17T21:01:23.255Z"
   },
   {
    "duration": 13,
    "start_time": "2022-02-17T21:01:23.268Z"
   },
   {
    "duration": 8,
    "start_time": "2022-02-17T21:01:23.283Z"
   },
   {
    "duration": 11,
    "start_time": "2022-02-17T21:01:23.292Z"
   },
   {
    "duration": 2439,
    "start_time": "2022-02-17T21:01:23.304Z"
   },
   {
    "duration": 345,
    "start_time": "2022-02-17T21:01:25.744Z"
   },
   {
    "duration": 1150,
    "start_time": "2022-02-17T21:01:26.090Z"
   },
   {
    "duration": 345,
    "start_time": "2022-02-17T21:01:27.241Z"
   },
   {
    "duration": 906,
    "start_time": "2022-02-17T21:01:27.588Z"
   },
   {
    "duration": 342,
    "start_time": "2022-02-17T21:01:28.496Z"
   },
   {
    "duration": 523,
    "start_time": "2022-02-17T21:01:28.840Z"
   },
   {
    "duration": 371,
    "start_time": "2022-02-17T21:01:29.364Z"
   },
   {
    "duration": 5,
    "start_time": "2022-02-17T21:01:29.736Z"
   },
   {
    "duration": 7,
    "start_time": "2022-02-17T21:01:29.742Z"
   },
   {
    "duration": 24,
    "start_time": "2022-02-17T21:01:29.750Z"
   },
   {
    "duration": 18,
    "start_time": "2022-02-17T21:01:29.776Z"
   },
   {
    "duration": 28,
    "start_time": "2022-02-17T21:01:29.795Z"
   },
   {
    "duration": 412,
    "start_time": "2022-02-17T21:01:29.824Z"
   },
   {
    "duration": 241,
    "start_time": "2022-02-17T21:01:30.238Z"
   },
   {
    "duration": 13,
    "start_time": "2022-02-17T21:01:30.480Z"
   },
   {
    "duration": 428,
    "start_time": "2022-02-17T21:01:30.494Z"
   },
   {
    "duration": 235,
    "start_time": "2022-02-17T21:01:30.931Z"
   },
   {
    "duration": 11,
    "start_time": "2022-02-17T21:01:31.168Z"
   },
   {
    "duration": 422,
    "start_time": "2022-02-17T21:01:31.181Z"
   },
   {
    "duration": 255,
    "start_time": "2022-02-17T21:01:31.604Z"
   },
   {
    "duration": 31,
    "start_time": "2022-02-17T21:01:31.860Z"
   },
   {
    "duration": 63,
    "start_time": "2022-02-17T21:01:31.892Z"
   },
   {
    "duration": 24,
    "start_time": "2022-02-17T21:01:31.957Z"
   },
   {
    "duration": 28,
    "start_time": "2022-02-17T21:01:31.982Z"
   },
   {
    "duration": 21,
    "start_time": "2022-02-17T21:01:32.011Z"
   },
   {
    "duration": 8,
    "start_time": "2022-02-17T21:01:32.033Z"
   },
   {
    "duration": 24,
    "start_time": "2022-02-17T21:01:32.043Z"
   },
   {
    "duration": 26,
    "start_time": "2022-02-17T21:01:32.072Z"
   },
   {
    "duration": 36,
    "start_time": "2022-02-17T21:01:32.099Z"
   },
   {
    "duration": 24,
    "start_time": "2022-02-17T21:01:32.136Z"
   },
   {
    "duration": 23,
    "start_time": "2022-02-17T21:01:32.162Z"
   },
   {
    "duration": 305,
    "start_time": "2022-02-17T21:01:32.187Z"
   },
   {
    "duration": -105,
    "start_time": "2022-02-17T21:01:32.599Z"
   },
   {
    "duration": -108,
    "start_time": "2022-02-17T21:01:32.602Z"
   },
   {
    "duration": -119,
    "start_time": "2022-02-17T21:01:32.614Z"
   },
   {
    "duration": -129,
    "start_time": "2022-02-17T21:01:32.625Z"
   },
   {
    "duration": -132,
    "start_time": "2022-02-17T21:01:32.629Z"
   },
   {
    "duration": -136,
    "start_time": "2022-02-17T21:01:32.633Z"
   },
   {
    "duration": -138,
    "start_time": "2022-02-17T21:01:32.636Z"
   },
   {
    "duration": -141,
    "start_time": "2022-02-17T21:01:32.640Z"
   },
   {
    "duration": -143,
    "start_time": "2022-02-17T21:01:32.643Z"
   },
   {
    "duration": -146,
    "start_time": "2022-02-17T21:01:32.647Z"
   },
   {
    "duration": -148,
    "start_time": "2022-02-17T21:01:32.650Z"
   },
   {
    "duration": -151,
    "start_time": "2022-02-17T21:01:32.654Z"
   },
   {
    "duration": -153,
    "start_time": "2022-02-17T21:01:32.657Z"
   },
   {
    "duration": -156,
    "start_time": "2022-02-17T21:01:32.661Z"
   },
   {
    "duration": -158,
    "start_time": "2022-02-17T21:01:32.664Z"
   },
   {
    "duration": -162,
    "start_time": "2022-02-17T21:01:32.668Z"
   },
   {
    "duration": -164,
    "start_time": "2022-02-17T21:01:32.671Z"
   },
   {
    "duration": -167,
    "start_time": "2022-02-17T21:01:32.675Z"
   },
   {
    "duration": -169,
    "start_time": "2022-02-17T21:01:32.678Z"
   },
   {
    "duration": -173,
    "start_time": "2022-02-17T21:01:32.682Z"
   },
   {
    "duration": -175,
    "start_time": "2022-02-17T21:01:32.685Z"
   },
   {
    "duration": -180,
    "start_time": "2022-02-17T21:01:32.691Z"
   },
   {
    "duration": -184,
    "start_time": "2022-02-17T21:01:32.696Z"
   },
   {
    "duration": 9,
    "start_time": "2022-02-17T21:02:43.434Z"
   },
   {
    "duration": 4,
    "start_time": "2022-02-17T21:02:44.885Z"
   },
   {
    "duration": 4,
    "start_time": "2022-02-17T21:02:45.204Z"
   },
   {
    "duration": 3,
    "start_time": "2022-02-17T21:02:45.516Z"
   },
   {
    "duration": 3,
    "start_time": "2022-02-17T21:02:45.817Z"
   },
   {
    "duration": 63,
    "start_time": "2022-02-17T21:02:47.721Z"
   },
   {
    "duration": 307,
    "start_time": "2022-02-17T21:02:48.797Z"
   },
   {
    "duration": 27,
    "start_time": "2022-02-17T21:03:44.052Z"
   },
   {
    "duration": 7479,
    "start_time": "2022-02-17T21:04:45.048Z"
   },
   {
    "duration": 302,
    "start_time": "2022-02-17T21:04:55.402Z"
   },
   {
    "duration": 9,
    "start_time": "2022-02-17T21:05:23.470Z"
   },
   {
    "duration": 307,
    "start_time": "2022-02-17T21:05:32.146Z"
   },
   {
    "duration": 294,
    "start_time": "2022-02-17T21:07:16.660Z"
   },
   {
    "duration": 90,
    "start_time": "2022-02-17T21:13:11.999Z"
   },
   {
    "duration": 89,
    "start_time": "2022-02-17T21:13:22.876Z"
   },
   {
    "duration": 94,
    "start_time": "2022-02-17T21:13:33.619Z"
   },
   {
    "duration": 117,
    "start_time": "2022-02-17T21:13:39.635Z"
   },
   {
    "duration": 292,
    "start_time": "2022-02-17T21:13:51.112Z"
   },
   {
    "duration": 90,
    "start_time": "2022-02-17T21:14:17.989Z"
   },
   {
    "duration": 3,
    "start_time": "2022-02-17T21:14:24.735Z"
   },
   {
    "duration": 3,
    "start_time": "2022-02-17T21:14:31.591Z"
   },
   {
    "duration": 24,
    "start_time": "2022-02-17T21:14:33.574Z"
   },
   {
    "duration": 364,
    "start_time": "2022-02-17T21:14:42.086Z"
   },
   {
    "duration": 23,
    "start_time": "2022-02-17T21:39:17.763Z"
   },
   {
    "duration": 26,
    "start_time": "2022-02-17T21:39:21.817Z"
   },
   {
    "duration": 12,
    "start_time": "2022-02-17T21:39:26.159Z"
   },
   {
    "duration": 9,
    "start_time": "2022-02-17T21:39:29.531Z"
   },
   {
    "duration": 22,
    "start_time": "2022-02-17T21:39:29.870Z"
   },
   {
    "duration": 25,
    "start_time": "2022-02-17T21:39:32.455Z"
   },
   {
    "duration": 4,
    "start_time": "2022-02-17T21:40:10.149Z"
   },
   {
    "duration": 4,
    "start_time": "2022-02-17T21:40:10.471Z"
   },
   {
    "duration": 3,
    "start_time": "2022-02-17T21:42:19.349Z"
   },
   {
    "duration": 8,
    "start_time": "2022-02-17T21:44:11.473Z"
   },
   {
    "duration": 322,
    "start_time": "2022-02-17T21:50:51.034Z"
   },
   {
    "duration": 896,
    "start_time": "2022-02-17T21:51:09.237Z"
   },
   {
    "duration": 2,
    "start_time": "2022-02-17T21:53:55.764Z"
   },
   {
    "duration": 300,
    "start_time": "2022-02-17T21:54:03.950Z"
   },
   {
    "duration": 299,
    "start_time": "2022-02-17T22:24:41.629Z"
   },
   {
    "duration": 3,
    "start_time": "2022-02-17T22:29:48.207Z"
   },
   {
    "duration": 303,
    "start_time": "2022-02-17T22:29:49.863Z"
   },
   {
    "duration": 288,
    "start_time": "2022-02-17T22:29:59.735Z"
   },
   {
    "duration": 3,
    "start_time": "2022-02-17T22:30:35.263Z"
   },
   {
    "duration": 3,
    "start_time": "2022-02-17T22:34:34.711Z"
   },
   {
    "duration": 320,
    "start_time": "2022-02-17T22:34:37.187Z"
   },
   {
    "duration": 2655,
    "start_time": "2022-02-17T22:35:30.030Z"
   },
   {
    "duration": 1738,
    "start_time": "2022-02-17T22:36:53.044Z"
   },
   {
    "duration": 704,
    "start_time": "2022-02-17T22:43:31.229Z"
   },
   {
    "duration": 394,
    "start_time": "2022-02-17T22:43:52.246Z"
   },
   {
    "duration": 713,
    "start_time": "2022-02-17T22:43:54.421Z"
   },
   {
    "duration": 294,
    "start_time": "2022-02-17T22:43:56.194Z"
   },
   {
    "duration": 5622,
    "start_time": "2022-02-17T22:44:52.588Z"
   },
   {
    "duration": 4,
    "start_time": "2022-02-17T22:45:06.742Z"
   },
   {
    "duration": 1363,
    "start_time": "2022-02-17T22:46:12.970Z"
   },
   {
    "duration": 21779,
    "start_time": "2022-02-17T22:46:52.760Z"
   },
   {
    "duration": 299,
    "start_time": "2022-02-17T22:49:34.865Z"
   },
   {
    "duration": 20465,
    "start_time": "2022-02-17T22:50:20.159Z"
   },
   {
    "duration": 307,
    "start_time": "2022-02-17T22:50:40.631Z"
   },
   {
    "duration": -194,
    "start_time": "2022-02-17T22:50:41.133Z"
   },
   {
    "duration": 1366,
    "start_time": "2022-02-17T22:50:59.372Z"
   },
   {
    "duration": 1188,
    "start_time": "2022-02-17T23:04:37.546Z"
   },
   {
    "duration": 3687,
    "start_time": "2022-02-17T23:06:29.645Z"
   },
   {
    "duration": 3,
    "start_time": "2022-02-17T23:13:49.525Z"
   },
   {
    "duration": 314,
    "start_time": "2022-02-17T23:13:50.547Z"
   },
   {
    "duration": 319,
    "start_time": "2022-02-17T23:14:01.687Z"
   },
   {
    "duration": 317,
    "start_time": "2022-02-17T23:14:49.220Z"
   },
   {
    "duration": 306,
    "start_time": "2022-02-17T23:15:03.554Z"
   },
   {
    "duration": 298,
    "start_time": "2022-02-17T23:15:13.327Z"
   },
   {
    "duration": 295,
    "start_time": "2022-02-17T23:17:17.383Z"
   },
   {
    "duration": 311,
    "start_time": "2022-02-17T23:17:33.686Z"
   },
   {
    "duration": 304,
    "start_time": "2022-02-17T23:17:39.759Z"
   },
   {
    "duration": 3,
    "start_time": "2022-02-17T23:25:40.245Z"
   },
   {
    "duration": 6242,
    "start_time": "2022-02-17T23:25:40.890Z"
   },
   {
    "duration": 13,
    "start_time": "2022-02-17T23:25:54.500Z"
   },
   {
    "duration": 21,
    "start_time": "2022-02-17T23:26:00.945Z"
   },
   {
    "duration": 4,
    "start_time": "2022-02-17T23:26:11.510Z"
   },
   {
    "duration": 5,
    "start_time": "2022-02-17T23:26:12.250Z"
   },
   {
    "duration": 4,
    "start_time": "2022-02-17T23:26:12.678Z"
   },
   {
    "duration": 13,
    "start_time": "2022-02-17T23:28:17.895Z"
   },
   {
    "duration": 656,
    "start_time": "2022-02-17T23:28:18.274Z"
   },
   {
    "duration": 22,
    "start_time": "2022-02-17T23:28:40.892Z"
   },
   {
    "duration": 5,
    "start_time": "2022-02-17T23:28:43.677Z"
   },
   {
    "duration": 4,
    "start_time": "2022-02-17T23:28:43.936Z"
   },
   {
    "duration": 4,
    "start_time": "2022-02-17T23:28:44.277Z"
   },
   {
    "duration": 13,
    "start_time": "2022-02-17T23:30:11.640Z"
   },
   {
    "duration": 21,
    "start_time": "2022-02-17T23:30:11.938Z"
   },
   {
    "duration": 5,
    "start_time": "2022-02-17T23:30:12.253Z"
   },
   {
    "duration": 5,
    "start_time": "2022-02-17T23:30:12.445Z"
   },
   {
    "duration": 5,
    "start_time": "2022-02-17T23:30:12.617Z"
   },
   {
    "duration": 12,
    "start_time": "2022-02-17T23:30:15.590Z"
   },
   {
    "duration": 19,
    "start_time": "2022-02-17T23:30:15.951Z"
   },
   {
    "duration": 5,
    "start_time": "2022-02-17T23:30:17.905Z"
   },
   {
    "duration": 4,
    "start_time": "2022-02-17T23:30:19.111Z"
   },
   {
    "duration": 5,
    "start_time": "2022-02-17T23:30:20.370Z"
   },
   {
    "duration": 1143,
    "start_time": "2022-02-17T23:32:19.293Z"
   },
   {
    "duration": 2,
    "start_time": "2022-02-17T23:46:29.619Z"
   },
   {
    "duration": 304,
    "start_time": "2022-02-17T23:47:57.491Z"
   },
   {
    "duration": 1380,
    "start_time": "2022-02-17T23:51:48.294Z"
   },
   {
    "duration": 20,
    "start_time": "2022-02-17T23:51:49.676Z"
   },
   {
    "duration": 2,
    "start_time": "2022-02-17T23:51:49.698Z"
   },
   {
    "duration": 691,
    "start_time": "2022-02-17T23:51:49.702Z"
   },
   {
    "duration": 26,
    "start_time": "2022-02-17T23:51:50.395Z"
   },
   {
    "duration": 17,
    "start_time": "2022-02-17T23:51:50.423Z"
   },
   {
    "duration": 2,
    "start_time": "2022-02-17T23:51:50.442Z"
   },
   {
    "duration": 13,
    "start_time": "2022-02-17T23:51:50.447Z"
   },
   {
    "duration": 23,
    "start_time": "2022-02-17T23:51:50.462Z"
   },
   {
    "duration": 46,
    "start_time": "2022-02-17T23:51:50.486Z"
   },
   {
    "duration": 2,
    "start_time": "2022-02-17T23:51:50.534Z"
   },
   {
    "duration": 10,
    "start_time": "2022-02-17T23:51:50.538Z"
   },
   {
    "duration": 23,
    "start_time": "2022-02-17T23:51:50.549Z"
   },
   {
    "duration": 14,
    "start_time": "2022-02-17T23:51:50.574Z"
   },
   {
    "duration": 2,
    "start_time": "2022-02-17T23:51:50.589Z"
   },
   {
    "duration": 14,
    "start_time": "2022-02-17T23:51:50.592Z"
   },
   {
    "duration": 4,
    "start_time": "2022-02-17T23:51:50.632Z"
   },
   {
    "duration": 7,
    "start_time": "2022-02-17T23:51:50.638Z"
   },
   {
    "duration": 6,
    "start_time": "2022-02-17T23:51:50.647Z"
   },
   {
    "duration": 7,
    "start_time": "2022-02-17T23:51:50.655Z"
   },
   {
    "duration": 11,
    "start_time": "2022-02-17T23:51:50.664Z"
   },
   {
    "duration": 18,
    "start_time": "2022-02-17T23:51:50.676Z"
   },
   {
    "duration": 8,
    "start_time": "2022-02-17T23:51:50.697Z"
   },
   {
    "duration": 4,
    "start_time": "2022-02-17T23:51:50.707Z"
   },
   {
    "duration": 23,
    "start_time": "2022-02-17T23:51:50.713Z"
   },
   {
    "duration": 15,
    "start_time": "2022-02-17T23:51:50.738Z"
   },
   {
    "duration": 9,
    "start_time": "2022-02-17T23:51:50.754Z"
   },
   {
    "duration": 5,
    "start_time": "2022-02-17T23:51:50.764Z"
   },
   {
    "duration": 8,
    "start_time": "2022-02-17T23:51:50.771Z"
   },
   {
    "duration": 10,
    "start_time": "2022-02-17T23:51:50.780Z"
   },
   {
    "duration": 8,
    "start_time": "2022-02-17T23:51:50.792Z"
   },
   {
    "duration": 10,
    "start_time": "2022-02-17T23:51:50.801Z"
   },
   {
    "duration": 19,
    "start_time": "2022-02-17T23:51:50.812Z"
   },
   {
    "duration": 3,
    "start_time": "2022-02-17T23:51:50.833Z"
   },
   {
    "duration": 8,
    "start_time": "2022-02-17T23:51:50.837Z"
   },
   {
    "duration": 9,
    "start_time": "2022-02-17T23:51:50.846Z"
   },
   {
    "duration": 9,
    "start_time": "2022-02-17T23:51:50.856Z"
   },
   {
    "duration": 12,
    "start_time": "2022-02-17T23:51:50.866Z"
   },
   {
    "duration": 7,
    "start_time": "2022-02-17T23:51:50.880Z"
   },
   {
    "duration": 9,
    "start_time": "2022-02-17T23:51:50.888Z"
   },
   {
    "duration": 2424,
    "start_time": "2022-02-17T23:51:50.899Z"
   },
   {
    "duration": 345,
    "start_time": "2022-02-17T23:51:53.325Z"
   },
   {
    "duration": 917,
    "start_time": "2022-02-17T23:51:53.672Z"
   },
   {
    "duration": 344,
    "start_time": "2022-02-17T23:51:54.590Z"
   },
   {
    "duration": 654,
    "start_time": "2022-02-17T23:51:54.935Z"
   },
   {
    "duration": 683,
    "start_time": "2022-02-17T23:51:55.590Z"
   },
   {
    "duration": 380,
    "start_time": "2022-02-17T23:51:56.275Z"
   },
   {
    "duration": 329,
    "start_time": "2022-02-17T23:51:56.657Z"
   },
   {
    "duration": 5,
    "start_time": "2022-02-17T23:51:56.987Z"
   },
   {
    "duration": 6,
    "start_time": "2022-02-17T23:51:56.994Z"
   },
   {
    "duration": 6,
    "start_time": "2022-02-17T23:51:57.002Z"
   },
   {
    "duration": 30,
    "start_time": "2022-02-17T23:51:57.009Z"
   },
   {
    "duration": 15,
    "start_time": "2022-02-17T23:51:57.040Z"
   },
   {
    "duration": 407,
    "start_time": "2022-02-17T23:51:57.056Z"
   },
   {
    "duration": 241,
    "start_time": "2022-02-17T23:51:57.465Z"
   },
   {
    "duration": 20,
    "start_time": "2022-02-17T23:51:57.712Z"
   },
   {
    "duration": 404,
    "start_time": "2022-02-17T23:51:57.734Z"
   },
   {
    "duration": 240,
    "start_time": "2022-02-17T23:51:58.140Z"
   },
   {
    "duration": 11,
    "start_time": "2022-02-17T23:51:58.382Z"
   },
   {
    "duration": 422,
    "start_time": "2022-02-17T23:51:58.394Z"
   },
   {
    "duration": 251,
    "start_time": "2022-02-17T23:51:58.817Z"
   },
   {
    "duration": 29,
    "start_time": "2022-02-17T23:51:59.070Z"
   },
   {
    "duration": 58,
    "start_time": "2022-02-17T23:51:59.101Z"
   },
   {
    "duration": 25,
    "start_time": "2022-02-17T23:51:59.160Z"
   },
   {
    "duration": 27,
    "start_time": "2022-02-17T23:51:59.186Z"
   },
   {
    "duration": 3,
    "start_time": "2022-02-17T23:51:59.231Z"
   },
   {
    "duration": -309,
    "start_time": "2022-02-17T23:51:59.545Z"
   },
   {
    "duration": -311,
    "start_time": "2022-02-17T23:51:59.548Z"
   },
   {
    "duration": -315,
    "start_time": "2022-02-17T23:51:59.553Z"
   },
   {
    "duration": -319,
    "start_time": "2022-02-17T23:51:59.558Z"
   },
   {
    "duration": -322,
    "start_time": "2022-02-17T23:51:59.562Z"
   },
   {
    "duration": -326,
    "start_time": "2022-02-17T23:51:59.567Z"
   },
   {
    "duration": -329,
    "start_time": "2022-02-17T23:51:59.571Z"
   },
   {
    "duration": -332,
    "start_time": "2022-02-17T23:51:59.575Z"
   },
   {
    "duration": -335,
    "start_time": "2022-02-17T23:51:59.579Z"
   },
   {
    "duration": -338,
    "start_time": "2022-02-17T23:51:59.583Z"
   },
   {
    "duration": -341,
    "start_time": "2022-02-17T23:51:59.587Z"
   },
   {
    "duration": -344,
    "start_time": "2022-02-17T23:51:59.591Z"
   },
   {
    "duration": -347,
    "start_time": "2022-02-17T23:51:59.595Z"
   },
   {
    "duration": -349,
    "start_time": "2022-02-17T23:51:59.598Z"
   },
   {
    "duration": -352,
    "start_time": "2022-02-17T23:51:59.602Z"
   },
   {
    "duration": -354,
    "start_time": "2022-02-17T23:51:59.605Z"
   },
   {
    "duration": -357,
    "start_time": "2022-02-17T23:51:59.609Z"
   },
   {
    "duration": -360,
    "start_time": "2022-02-17T23:51:59.612Z"
   },
   {
    "duration": -363,
    "start_time": "2022-02-17T23:51:59.616Z"
   },
   {
    "duration": -366,
    "start_time": "2022-02-17T23:51:59.620Z"
   },
   {
    "duration": -376,
    "start_time": "2022-02-17T23:51:59.631Z"
   },
   {
    "duration": -379,
    "start_time": "2022-02-17T23:51:59.635Z"
   },
   {
    "duration": -382,
    "start_time": "2022-02-17T23:51:59.638Z"
   },
   {
    "duration": -385,
    "start_time": "2022-02-17T23:51:59.642Z"
   },
   {
    "duration": -388,
    "start_time": "2022-02-17T23:51:59.646Z"
   },
   {
    "duration": -390,
    "start_time": "2022-02-17T23:51:59.649Z"
   },
   {
    "duration": -393,
    "start_time": "2022-02-17T23:51:59.653Z"
   },
   {
    "duration": -404,
    "start_time": "2022-02-17T23:51:59.665Z"
   },
   {
    "duration": -407,
    "start_time": "2022-02-17T23:51:59.669Z"
   },
   {
    "duration": -410,
    "start_time": "2022-02-17T23:51:59.673Z"
   },
   {
    "duration": -412,
    "start_time": "2022-02-17T23:51:59.676Z"
   },
   {
    "duration": -415,
    "start_time": "2022-02-17T23:51:59.680Z"
   },
   {
    "duration": -418,
    "start_time": "2022-02-17T23:51:59.684Z"
   },
   {
    "duration": -420,
    "start_time": "2022-02-17T23:51:59.687Z"
   },
   {
    "duration": -423,
    "start_time": "2022-02-17T23:51:59.690Z"
   },
   {
    "duration": -426,
    "start_time": "2022-02-17T23:51:59.694Z"
   },
   {
    "duration": -429,
    "start_time": "2022-02-17T23:51:59.698Z"
   },
   {
    "duration": 3,
    "start_time": "2022-02-17T23:52:26.561Z"
   },
   {
    "duration": 3,
    "start_time": "2022-02-17T23:52:37.377Z"
   },
   {
    "duration": 3,
    "start_time": "2022-02-17T23:52:39.128Z"
   },
   {
    "duration": 3,
    "start_time": "2022-02-17T23:52:39.356Z"
   },
   {
    "duration": 25,
    "start_time": "2022-02-17T23:52:40.120Z"
   },
   {
    "duration": 29,
    "start_time": "2022-02-17T23:52:40.288Z"
   },
   {
    "duration": 10,
    "start_time": "2022-02-17T23:52:40.436Z"
   },
   {
    "duration": 23,
    "start_time": "2022-02-17T23:52:41.007Z"
   },
   {
    "duration": 25,
    "start_time": "2022-02-17T23:52:41.182Z"
   },
   {
    "duration": 10,
    "start_time": "2022-02-17T23:52:41.733Z"
   },
   {
    "duration": 22,
    "start_time": "2022-02-17T23:52:41.884Z"
   },
   {
    "duration": 4,
    "start_time": "2022-02-17T23:52:42.075Z"
   },
   {
    "duration": 4,
    "start_time": "2022-02-17T23:52:42.244Z"
   },
   {
    "duration": 4,
    "start_time": "2022-02-17T23:52:42.417Z"
   },
   {
    "duration": 58,
    "start_time": "2022-02-17T23:52:42.905Z"
   },
   {
    "duration": 24,
    "start_time": "2022-02-17T23:52:43.097Z"
   },
   {
    "duration": 26,
    "start_time": "2022-02-17T23:52:43.247Z"
   },
   {
    "duration": 8,
    "start_time": "2022-02-17T23:52:43.763Z"
   },
   {
    "duration": 3,
    "start_time": "2022-02-17T23:52:45.481Z"
   },
   {
    "duration": 4,
    "start_time": "2022-02-17T23:52:45.841Z"
   },
   {
    "duration": 3,
    "start_time": "2022-02-17T23:52:48.444Z"
   },
   {
    "duration": 6216,
    "start_time": "2022-02-17T23:52:48.615Z"
   },
   {
    "duration": 111,
    "start_time": "2022-02-17T23:52:54.834Z"
   },
   {
    "duration": 183,
    "start_time": "2022-02-17T23:52:54.949Z"
   },
   {
    "duration": 5,
    "start_time": "2022-02-17T23:52:55.134Z"
   },
   {
    "duration": 5,
    "start_time": "2022-02-17T23:52:55.140Z"
   },
   {
    "duration": 5,
    "start_time": "2022-02-17T23:52:55.146Z"
   },
   {
    "duration": 1087,
    "start_time": "2022-02-17T23:52:55.153Z"
   },
   {
    "duration": 2,
    "start_time": "2022-02-17T23:52:56.242Z"
   },
   {
    "duration": 1191,
    "start_time": "2022-02-17T23:52:56.247Z"
   },
   {
    "duration": 500,
    "start_time": "2022-02-17T23:52:57.441Z"
   },
   {
    "duration": -1587,
    "start_time": "2022-02-17T23:52:59.530Z"
   },
   {
    "duration": -1603,
    "start_time": "2022-02-17T23:52:59.547Z"
   },
   {
    "duration": -1627,
    "start_time": "2022-02-17T23:52:59.571Z"
   },
   {
    "duration": 3,
    "start_time": "2022-02-17T23:53:15.072Z"
   },
   {
    "duration": 20061,
    "start_time": "2022-02-17T23:53:18.479Z"
   },
   {
    "duration": 1297,
    "start_time": "2022-02-17T23:53:38.541Z"
   },
   {
    "duration": 3639,
    "start_time": "2022-02-17T23:53:39.843Z"
   },
   {
    "duration": 788,
    "start_time": "2022-02-18T00:02:56.383Z"
   },
   {
    "duration": 157,
    "start_time": "2022-02-18T00:03:14.576Z"
   },
   {
    "duration": 282,
    "start_time": "2022-02-18T00:03:41.456Z"
   },
   {
    "duration": 207,
    "start_time": "2022-02-18T00:03:45.230Z"
   },
   {
    "duration": 97,
    "start_time": "2022-02-18T00:09:01.501Z"
   },
   {
    "duration": 4,
    "start_time": "2022-02-18T00:14:12.531Z"
   },
   {
    "duration": 2488,
    "start_time": "2022-02-18T00:14:23.923Z"
   },
   {
    "duration": 2045,
    "start_time": "2022-02-18T00:14:54.317Z"
   },
   {
    "duration": 333,
    "start_time": "2022-02-18T00:15:12.130Z"
   },
   {
    "duration": 7496,
    "start_time": "2022-02-18T00:15:25.032Z"
   },
   {
    "duration": 4,
    "start_time": "2022-02-18T00:18:54.016Z"
   },
   {
    "duration": 703,
    "start_time": "2022-02-18T00:18:59.357Z"
   },
   {
    "duration": 3,
    "start_time": "2022-02-18T00:19:58.440Z"
   },
   {
    "duration": 2474,
    "start_time": "2022-02-18T00:20:05.382Z"
   },
   {
    "duration": 4,
    "start_time": "2022-02-18T00:22:07.648Z"
   },
   {
    "duration": 2465,
    "start_time": "2022-02-18T00:22:10.542Z"
   },
   {
    "duration": 135,
    "start_time": "2022-02-18T00:25:32.396Z"
   },
   {
    "duration": 8203,
    "start_time": "2022-02-18T00:27:21.715Z"
   },
   {
    "duration": 113,
    "start_time": "2022-02-18T00:27:56.121Z"
   },
   {
    "duration": 352,
    "start_time": "2022-02-18T00:28:09.591Z"
   },
   {
    "duration": 132,
    "start_time": "2022-02-18T00:28:54.908Z"
   },
   {
    "duration": 246,
    "start_time": "2022-02-18T00:29:03.394Z"
   },
   {
    "duration": 304,
    "start_time": "2022-02-18T00:29:37.802Z"
   },
   {
    "duration": 5395,
    "start_time": "2022-02-18T00:29:54.149Z"
   },
   {
    "duration": 5462,
    "start_time": "2022-02-18T00:31:50.888Z"
   },
   {
    "duration": 256,
    "start_time": "2022-02-18T00:33:05.976Z"
   },
   {
    "duration": 4,
    "start_time": "2022-02-18T00:33:24.591Z"
   },
   {
    "duration": 247,
    "start_time": "2022-02-18T00:36:35.693Z"
   },
   {
    "duration": 4,
    "start_time": "2022-02-18T00:36:36.558Z"
   },
   {
    "duration": 20163,
    "start_time": "2022-02-18T00:37:45.168Z"
   },
   {
    "duration": 3532,
    "start_time": "2022-02-18T00:38:05.333Z"
   },
   {
    "duration": 20195,
    "start_time": "2022-02-18T00:39:04.539Z"
   },
   {
    "duration": 20165,
    "start_time": "2022-02-18T00:39:24.735Z"
   },
   {
    "duration": 4,
    "start_time": "2022-02-18T00:40:22.562Z"
   },
   {
    "duration": 4,
    "start_time": "2022-02-18T00:40:23.003Z"
   },
   {
    "duration": 20086,
    "start_time": "2022-02-18T00:40:30.704Z"
   },
   {
    "duration": 1466,
    "start_time": "2022-02-18T00:41:33.802Z"
   },
   {
    "duration": 6,
    "start_time": "2022-02-18T00:41:35.270Z"
   },
   {
    "duration": 7,
    "start_time": "2022-02-18T00:41:35.277Z"
   },
   {
    "duration": 726,
    "start_time": "2022-02-18T00:41:35.285Z"
   },
   {
    "duration": 32,
    "start_time": "2022-02-18T00:41:36.013Z"
   },
   {
    "duration": 16,
    "start_time": "2022-02-18T00:41:36.047Z"
   },
   {
    "duration": 2,
    "start_time": "2022-02-18T00:41:36.065Z"
   },
   {
    "duration": 14,
    "start_time": "2022-02-18T00:41:36.069Z"
   },
   {
    "duration": 48,
    "start_time": "2022-02-18T00:41:36.085Z"
   },
   {
    "duration": 10,
    "start_time": "2022-02-18T00:41:36.134Z"
   },
   {
    "duration": 2,
    "start_time": "2022-02-18T00:41:36.145Z"
   },
   {
    "duration": 10,
    "start_time": "2022-02-18T00:41:36.149Z"
   },
   {
    "duration": 23,
    "start_time": "2022-02-18T00:41:36.161Z"
   },
   {
    "duration": 14,
    "start_time": "2022-02-18T00:41:36.185Z"
   },
   {
    "duration": 30,
    "start_time": "2022-02-18T00:41:36.201Z"
   },
   {
    "duration": 16,
    "start_time": "2022-02-18T00:41:36.233Z"
   },
   {
    "duration": 5,
    "start_time": "2022-02-18T00:41:36.251Z"
   },
   {
    "duration": 13,
    "start_time": "2022-02-18T00:41:36.258Z"
   },
   {
    "duration": 10,
    "start_time": "2022-02-18T00:41:36.272Z"
   },
   {
    "duration": 14,
    "start_time": "2022-02-18T00:41:36.283Z"
   },
   {
    "duration": 8,
    "start_time": "2022-02-18T00:41:36.299Z"
   },
   {
    "duration": 18,
    "start_time": "2022-02-18T00:41:36.308Z"
   },
   {
    "duration": 9,
    "start_time": "2022-02-18T00:41:36.330Z"
   },
   {
    "duration": 4,
    "start_time": "2022-02-18T00:41:36.341Z"
   },
   {
    "duration": 9,
    "start_time": "2022-02-18T00:41:36.347Z"
   },
   {
    "duration": 19,
    "start_time": "2022-02-18T00:41:36.357Z"
   },
   {
    "duration": 10,
    "start_time": "2022-02-18T00:41:36.378Z"
   },
   {
    "duration": 14,
    "start_time": "2022-02-18T00:41:36.389Z"
   },
   {
    "duration": 6,
    "start_time": "2022-02-18T00:41:36.405Z"
   },
   {
    "duration": 21,
    "start_time": "2022-02-18T00:41:36.412Z"
   },
   {
    "duration": 8,
    "start_time": "2022-02-18T00:41:36.435Z"
   },
   {
    "duration": 9,
    "start_time": "2022-02-18T00:41:36.444Z"
   },
   {
    "duration": 8,
    "start_time": "2022-02-18T00:41:36.454Z"
   },
   {
    "duration": 10,
    "start_time": "2022-02-18T00:41:36.463Z"
   },
   {
    "duration": 12,
    "start_time": "2022-02-18T00:41:36.475Z"
   },
   {
    "duration": 8,
    "start_time": "2022-02-18T00:41:36.489Z"
   },
   {
    "duration": 11,
    "start_time": "2022-02-18T00:41:36.498Z"
   },
   {
    "duration": 14,
    "start_time": "2022-02-18T00:41:36.510Z"
   },
   {
    "duration": 8,
    "start_time": "2022-02-18T00:41:36.526Z"
   },
   {
    "duration": 9,
    "start_time": "2022-02-18T00:41:36.536Z"
   },
   {
    "duration": 1998,
    "start_time": "2022-02-18T00:41:36.547Z"
   },
   {
    "duration": 341,
    "start_time": "2022-02-18T00:41:38.547Z"
   },
   {
    "duration": 936,
    "start_time": "2022-02-18T00:41:38.890Z"
   },
   {
    "duration": 329,
    "start_time": "2022-02-18T00:41:39.827Z"
   },
   {
    "duration": 1121,
    "start_time": "2022-02-18T00:41:40.158Z"
   },
   {
    "duration": 353,
    "start_time": "2022-02-18T00:41:41.280Z"
   },
   {
    "duration": 344,
    "start_time": "2022-02-18T00:41:41.635Z"
   },
   {
    "duration": 335,
    "start_time": "2022-02-18T00:41:41.980Z"
   },
   {
    "duration": 14,
    "start_time": "2022-02-18T00:41:42.317Z"
   },
   {
    "duration": 5,
    "start_time": "2022-02-18T00:41:42.333Z"
   },
   {
    "duration": 5,
    "start_time": "2022-02-18T00:41:42.340Z"
   },
   {
    "duration": 10,
    "start_time": "2022-02-18T00:41:42.346Z"
   },
   {
    "duration": 12,
    "start_time": "2022-02-18T00:41:42.358Z"
   },
   {
    "duration": 434,
    "start_time": "2022-02-18T00:41:42.371Z"
   },
   {
    "duration": 227,
    "start_time": "2022-02-18T00:41:42.807Z"
   },
   {
    "duration": 12,
    "start_time": "2022-02-18T00:41:43.036Z"
   },
   {
    "duration": 411,
    "start_time": "2022-02-18T00:41:43.049Z"
   },
   {
    "duration": 236,
    "start_time": "2022-02-18T00:41:43.461Z"
   },
   {
    "duration": 13,
    "start_time": "2022-02-18T00:41:43.699Z"
   },
   {
    "duration": 430,
    "start_time": "2022-02-18T00:41:43.714Z"
   },
   {
    "duration": 247,
    "start_time": "2022-02-18T00:41:44.146Z"
   },
   {
    "duration": 43,
    "start_time": "2022-02-18T00:41:44.395Z"
   },
   {
    "duration": 41,
    "start_time": "2022-02-18T00:41:44.440Z"
   },
   {
    "duration": 24,
    "start_time": "2022-02-18T00:41:44.482Z"
   },
   {
    "duration": 43,
    "start_time": "2022-02-18T00:41:44.507Z"
   },
   {
    "duration": 3,
    "start_time": "2022-02-18T00:41:44.551Z"
   },
   {
    "duration": 6,
    "start_time": "2022-02-18T00:41:44.555Z"
   },
   {
    "duration": 2,
    "start_time": "2022-02-18T00:41:44.566Z"
   },
   {
    "duration": 23,
    "start_time": "2022-02-18T00:41:44.570Z"
   },
   {
    "duration": 51,
    "start_time": "2022-02-18T00:41:44.594Z"
   },
   {
    "duration": 7,
    "start_time": "2022-02-18T00:41:44.647Z"
   },
   {
    "duration": 22,
    "start_time": "2022-02-18T00:41:44.656Z"
   },
   {
    "duration": 22,
    "start_time": "2022-02-18T00:41:44.679Z"
   },
   {
    "duration": 29,
    "start_time": "2022-02-18T00:41:44.702Z"
   },
   {
    "duration": 21,
    "start_time": "2022-02-18T00:41:44.733Z"
   },
   {
    "duration": 3,
    "start_time": "2022-02-18T00:41:44.756Z"
   },
   {
    "duration": 7,
    "start_time": "2022-02-18T00:41:44.760Z"
   },
   {
    "duration": 4,
    "start_time": "2022-02-18T00:41:44.768Z"
   },
   {
    "duration": 81,
    "start_time": "2022-02-18T00:41:44.774Z"
   },
   {
    "duration": 22,
    "start_time": "2022-02-18T00:41:44.857Z"
   },
   {
    "duration": 26,
    "start_time": "2022-02-18T00:41:44.881Z"
   },
   {
    "duration": 28,
    "start_time": "2022-02-18T00:41:44.909Z"
   },
   {
    "duration": 4,
    "start_time": "2022-02-18T00:41:44.938Z"
   },
   {
    "duration": 4,
    "start_time": "2022-02-18T00:41:44.944Z"
   },
   {
    "duration": 4,
    "start_time": "2022-02-18T00:41:44.949Z"
   },
   {
    "duration": 6083,
    "start_time": "2022-02-18T00:41:44.954Z"
   },
   {
    "duration": 107,
    "start_time": "2022-02-18T00:41:51.039Z"
   },
   {
    "duration": 184,
    "start_time": "2022-02-18T00:41:51.148Z"
   },
   {
    "duration": 4,
    "start_time": "2022-02-18T00:41:51.334Z"
   },
   {
    "duration": 4,
    "start_time": "2022-02-18T00:41:51.340Z"
   },
   {
    "duration": 7,
    "start_time": "2022-02-18T00:41:51.346Z"
   },
   {
    "duration": 20557,
    "start_time": "2022-02-18T00:41:51.354Z"
   },
   {
    "duration": 3498,
    "start_time": "2022-02-18T00:42:11.913Z"
   },
   {
    "duration": 1521,
    "start_time": "2022-02-18T00:42:15.412Z"
   },
   {
    "duration": 3,
    "start_time": "2022-02-18T00:42:16.936Z"
   },
   {
    "duration": 4,
    "start_time": "2022-02-18T00:42:16.941Z"
   },
   {
    "duration": 384,
    "start_time": "2022-02-18T00:42:16.947Z"
   },
   {
    "duration": -328,
    "start_time": "2022-02-18T00:42:17.661Z"
   },
   {
    "duration": -341,
    "start_time": "2022-02-18T00:42:17.674Z"
   },
   {
    "duration": -344,
    "start_time": "2022-02-18T00:42:17.678Z"
   },
   {
    "duration": -352,
    "start_time": "2022-02-18T00:42:17.687Z"
   },
   {
    "duration": -359,
    "start_time": "2022-02-18T00:42:17.695Z"
   },
   {
    "duration": -374,
    "start_time": "2022-02-18T00:42:17.711Z"
   },
   {
    "duration": 313,
    "start_time": "2022-02-18T00:48:12.214Z"
   },
   {
    "duration": 404,
    "start_time": "2022-02-18T00:49:37.831Z"
   },
   {
    "duration": 291,
    "start_time": "2022-02-18T00:49:55.688Z"
   },
   {
    "duration": 392,
    "start_time": "2022-02-18T00:50:43.250Z"
   },
   {
    "duration": 8156,
    "start_time": "2022-02-18T00:53:09.967Z"
   },
   {
    "duration": 1519,
    "start_time": "2022-02-18T00:53:58.634Z"
   },
   {
    "duration": 1433,
    "start_time": "2022-02-18T00:55:31.886Z"
   },
   {
    "duration": 1107,
    "start_time": "2022-02-18T00:56:15.130Z"
   },
   {
    "duration": 1211,
    "start_time": "2022-02-18T00:57:14.227Z"
   },
   {
    "duration": 1110,
    "start_time": "2022-02-18T00:57:47.923Z"
   },
   {
    "duration": 1113,
    "start_time": "2022-02-18T00:58:04.020Z"
   },
   {
    "duration": 71,
    "start_time": "2022-02-18T01:00:31.337Z"
   },
   {
    "duration": 11995,
    "start_time": "2022-02-18T01:01:07.164Z"
   },
   {
    "duration": 2143,
    "start_time": "2022-02-18T01:01:49.773Z"
   },
   {
    "duration": 1449,
    "start_time": "2022-02-18T01:03:43.102Z"
   },
   {
    "duration": 6,
    "start_time": "2022-02-18T01:03:44.553Z"
   },
   {
    "duration": 6,
    "start_time": "2022-02-18T01:03:44.561Z"
   },
   {
    "duration": 675,
    "start_time": "2022-02-18T01:03:44.569Z"
   },
   {
    "duration": 25,
    "start_time": "2022-02-18T01:03:45.245Z"
   },
   {
    "duration": 15,
    "start_time": "2022-02-18T01:03:45.271Z"
   },
   {
    "duration": 2,
    "start_time": "2022-02-18T01:03:45.287Z"
   },
   {
    "duration": 13,
    "start_time": "2022-02-18T01:03:45.291Z"
   },
   {
    "duration": 46,
    "start_time": "2022-02-18T01:03:45.305Z"
   },
   {
    "duration": 8,
    "start_time": "2022-02-18T01:03:45.353Z"
   },
   {
    "duration": 2,
    "start_time": "2022-02-18T01:03:45.362Z"
   },
   {
    "duration": 11,
    "start_time": "2022-02-18T01:03:45.365Z"
   },
   {
    "duration": 23,
    "start_time": "2022-02-18T01:03:45.378Z"
   },
   {
    "duration": 34,
    "start_time": "2022-02-18T01:03:45.403Z"
   },
   {
    "duration": 1,
    "start_time": "2022-02-18T01:03:45.439Z"
   },
   {
    "duration": 14,
    "start_time": "2022-02-18T01:03:45.442Z"
   },
   {
    "duration": 4,
    "start_time": "2022-02-18T01:03:45.457Z"
   },
   {
    "duration": 15,
    "start_time": "2022-02-18T01:03:45.462Z"
   },
   {
    "duration": 7,
    "start_time": "2022-02-18T01:03:45.478Z"
   },
   {
    "duration": 11,
    "start_time": "2022-02-18T01:03:45.486Z"
   },
   {
    "duration": 10,
    "start_time": "2022-02-18T01:03:45.498Z"
   },
   {
    "duration": 24,
    "start_time": "2022-02-18T01:03:45.509Z"
   },
   {
    "duration": 7,
    "start_time": "2022-02-18T01:03:45.537Z"
   },
   {
    "duration": 4,
    "start_time": "2022-02-18T01:03:45.547Z"
   },
   {
    "duration": 8,
    "start_time": "2022-02-18T01:03:45.553Z"
   },
   {
    "duration": 19,
    "start_time": "2022-02-18T01:03:45.562Z"
   },
   {
    "duration": 8,
    "start_time": "2022-02-18T01:03:45.583Z"
   },
   {
    "duration": 5,
    "start_time": "2022-02-18T01:03:45.593Z"
   },
   {
    "duration": 32,
    "start_time": "2022-02-18T01:03:45.600Z"
   },
   {
    "duration": 8,
    "start_time": "2022-02-18T01:03:45.634Z"
   },
   {
    "duration": 9,
    "start_time": "2022-02-18T01:03:45.644Z"
   },
   {
    "duration": 13,
    "start_time": "2022-02-18T01:03:45.654Z"
   },
   {
    "duration": 11,
    "start_time": "2022-02-18T01:03:45.668Z"
   },
   {
    "duration": 8,
    "start_time": "2022-02-18T01:03:45.681Z"
   },
   {
    "duration": 9,
    "start_time": "2022-02-18T01:03:45.691Z"
   },
   {
    "duration": 9,
    "start_time": "2022-02-18T01:03:45.701Z"
   },
   {
    "duration": 8,
    "start_time": "2022-02-18T01:03:45.711Z"
   },
   {
    "duration": 12,
    "start_time": "2022-02-18T01:03:45.720Z"
   },
   {
    "duration": 9,
    "start_time": "2022-02-18T01:03:45.733Z"
   },
   {
    "duration": 12,
    "start_time": "2022-02-18T01:03:45.743Z"
   },
   {
    "duration": 1900,
    "start_time": "2022-02-18T01:03:45.757Z"
   },
   {
    "duration": 333,
    "start_time": "2022-02-18T01:03:47.658Z"
   },
   {
    "duration": 848,
    "start_time": "2022-02-18T01:03:47.993Z"
   },
   {
    "duration": 326,
    "start_time": "2022-02-18T01:03:48.843Z"
   },
   {
    "duration": 1216,
    "start_time": "2022-02-18T01:03:49.170Z"
   },
   {
    "duration": 341,
    "start_time": "2022-02-18T01:03:50.387Z"
   },
   {
    "duration": 353,
    "start_time": "2022-02-18T01:03:50.729Z"
   },
   {
    "duration": 340,
    "start_time": "2022-02-18T01:03:51.084Z"
   },
   {
    "duration": 9,
    "start_time": "2022-02-18T01:03:51.425Z"
   },
   {
    "duration": 22,
    "start_time": "2022-02-18T01:03:51.435Z"
   },
   {
    "duration": 18,
    "start_time": "2022-02-18T01:03:51.458Z"
   },
   {
    "duration": 18,
    "start_time": "2022-02-18T01:03:51.477Z"
   },
   {
    "duration": 12,
    "start_time": "2022-02-18T01:03:51.496Z"
   },
   {
    "duration": 414,
    "start_time": "2022-02-18T01:03:51.509Z"
   },
   {
    "duration": 235,
    "start_time": "2022-02-18T01:03:51.924Z"
   },
   {
    "duration": 11,
    "start_time": "2022-02-18T01:03:52.160Z"
   },
   {
    "duration": 410,
    "start_time": "2022-02-18T01:03:52.173Z"
   },
   {
    "duration": 221,
    "start_time": "2022-02-18T01:03:52.585Z"
   },
   {
    "duration": 11,
    "start_time": "2022-02-18T01:03:52.808Z"
   },
   {
    "duration": 411,
    "start_time": "2022-02-18T01:03:52.832Z"
   },
   {
    "duration": 243,
    "start_time": "2022-02-18T01:03:53.245Z"
   },
   {
    "duration": 28,
    "start_time": "2022-02-18T01:03:53.490Z"
   },
   {
    "duration": 53,
    "start_time": "2022-02-18T01:03:53.519Z"
   },
   {
    "duration": 24,
    "start_time": "2022-02-18T01:03:53.573Z"
   },
   {
    "duration": 44,
    "start_time": "2022-02-18T01:03:53.598Z"
   },
   {
    "duration": 3,
    "start_time": "2022-02-18T01:03:53.644Z"
   },
   {
    "duration": 6,
    "start_time": "2022-02-18T01:03:53.648Z"
   },
   {
    "duration": 3,
    "start_time": "2022-02-18T01:03:53.661Z"
   },
   {
    "duration": 32,
    "start_time": "2022-02-18T01:03:53.667Z"
   },
   {
    "duration": 55,
    "start_time": "2022-02-18T01:03:53.700Z"
   },
   {
    "duration": 8,
    "start_time": "2022-02-18T01:03:53.756Z"
   },
   {
    "duration": 23,
    "start_time": "2022-02-18T01:03:53.765Z"
   },
   {
    "duration": 42,
    "start_time": "2022-02-18T01:03:53.789Z"
   },
   {
    "duration": 8,
    "start_time": "2022-02-18T01:03:53.833Z"
   },
   {
    "duration": 21,
    "start_time": "2022-02-18T01:03:53.842Z"
   },
   {
    "duration": 3,
    "start_time": "2022-02-18T01:03:53.864Z"
   },
   {
    "duration": 5,
    "start_time": "2022-02-18T01:03:53.868Z"
   },
   {
    "duration": 4,
    "start_time": "2022-02-18T01:03:53.874Z"
   },
   {
    "duration": 91,
    "start_time": "2022-02-18T01:03:53.879Z"
   },
   {
    "duration": 23,
    "start_time": "2022-02-18T01:03:53.971Z"
   },
   {
    "duration": 37,
    "start_time": "2022-02-18T01:03:53.995Z"
   },
   {
    "duration": 7,
    "start_time": "2022-02-18T01:03:54.034Z"
   },
   {
    "duration": 6,
    "start_time": "2022-02-18T01:03:54.042Z"
   },
   {
    "duration": 4,
    "start_time": "2022-02-18T01:03:54.049Z"
   },
   {
    "duration": 3,
    "start_time": "2022-02-18T01:03:54.055Z"
   },
   {
    "duration": 6274,
    "start_time": "2022-02-18T01:03:54.060Z"
   },
   {
    "duration": 104,
    "start_time": "2022-02-18T01:04:00.339Z"
   },
   {
    "duration": 94,
    "start_time": "2022-02-18T01:04:00.446Z"
   },
   {
    "duration": 91,
    "start_time": "2022-02-18T01:04:00.542Z"
   },
   {
    "duration": 9,
    "start_time": "2022-02-18T01:04:00.635Z"
   },
   {
    "duration": 7,
    "start_time": "2022-02-18T01:04:00.645Z"
   },
   {
    "duration": 20801,
    "start_time": "2022-02-18T01:04:00.653Z"
   },
   {
    "duration": 3600,
    "start_time": "2022-02-18T01:04:21.455Z"
   },
   {
    "duration": 1077,
    "start_time": "2022-02-18T01:04:25.056Z"
   },
   {
    "duration": 3,
    "start_time": "2022-02-18T01:04:26.135Z"
   },
   {
    "duration": 4,
    "start_time": "2022-02-18T01:04:26.140Z"
   },
   {
    "duration": 1187,
    "start_time": "2022-02-18T01:04:26.146Z"
   },
   {
    "duration": 2164,
    "start_time": "2022-02-18T01:04:27.335Z"
   },
   {
    "duration": 12148,
    "start_time": "2022-02-18T01:04:29.500Z"
   },
   {
    "duration": 82,
    "start_time": "2022-02-18T01:04:41.649Z"
   },
   {
    "duration": 109,
    "start_time": "2022-02-18T01:04:41.733Z"
   },
   {
    "duration": -293,
    "start_time": "2022-02-18T01:04:42.136Z"
   },
   {
    "duration": -295,
    "start_time": "2022-02-18T01:04:42.140Z"
   },
   {
    "duration": 173,
    "start_time": "2022-02-18T01:05:50.467Z"
   },
   {
    "duration": 5,
    "start_time": "2022-02-18T01:05:50.642Z"
   },
   {
    "duration": 152,
    "start_time": "2022-02-18T01:06:01.785Z"
   },
   {
    "duration": 4,
    "start_time": "2022-02-18T01:06:02.819Z"
   },
   {
    "duration": 212,
    "start_time": "2022-02-18T01:07:53.077Z"
   },
   {
    "duration": 94,
    "start_time": "2022-02-18T01:17:05.738Z"
   },
   {
    "duration": 1703,
    "start_time": "2022-02-18T01:17:22.072Z"
   },
   {
    "duration": 6,
    "start_time": "2022-02-18T01:17:23.777Z"
   },
   {
    "duration": 12,
    "start_time": "2022-02-18T01:17:23.785Z"
   },
   {
    "duration": 709,
    "start_time": "2022-02-18T01:17:23.799Z"
   },
   {
    "duration": 32,
    "start_time": "2022-02-18T01:17:24.510Z"
   },
   {
    "duration": 15,
    "start_time": "2022-02-18T01:17:24.544Z"
   },
   {
    "duration": 2,
    "start_time": "2022-02-18T01:17:24.560Z"
   },
   {
    "duration": 11,
    "start_time": "2022-02-18T01:17:24.566Z"
   },
   {
    "duration": 60,
    "start_time": "2022-02-18T01:17:24.580Z"
   },
   {
    "duration": 14,
    "start_time": "2022-02-18T01:17:24.642Z"
   },
   {
    "duration": 3,
    "start_time": "2022-02-18T01:17:24.657Z"
   },
   {
    "duration": 13,
    "start_time": "2022-02-18T01:17:24.662Z"
   },
   {
    "duration": 64,
    "start_time": "2022-02-18T01:17:24.677Z"
   },
   {
    "duration": 22,
    "start_time": "2022-02-18T01:17:24.743Z"
   },
   {
    "duration": 2,
    "start_time": "2022-02-18T01:17:24.767Z"
   },
   {
    "duration": 14,
    "start_time": "2022-02-18T01:17:24.770Z"
   },
   {
    "duration": 4,
    "start_time": "2022-02-18T01:17:24.786Z"
   },
   {
    "duration": 7,
    "start_time": "2022-02-18T01:17:24.792Z"
   },
   {
    "duration": 31,
    "start_time": "2022-02-18T01:17:24.801Z"
   },
   {
    "duration": 5,
    "start_time": "2022-02-18T01:17:24.833Z"
   },
   {
    "duration": 5,
    "start_time": "2022-02-18T01:17:24.839Z"
   },
   {
    "duration": 21,
    "start_time": "2022-02-18T01:17:24.846Z"
   },
   {
    "duration": 8,
    "start_time": "2022-02-18T01:17:24.871Z"
   },
   {
    "duration": 4,
    "start_time": "2022-02-18T01:17:24.882Z"
   },
   {
    "duration": 14,
    "start_time": "2022-02-18T01:17:24.887Z"
   },
   {
    "duration": 12,
    "start_time": "2022-02-18T01:17:24.931Z"
   },
   {
    "duration": 12,
    "start_time": "2022-02-18T01:17:24.945Z"
   },
   {
    "duration": 7,
    "start_time": "2022-02-18T01:17:24.959Z"
   },
   {
    "duration": 4,
    "start_time": "2022-02-18T01:17:24.968Z"
   },
   {
    "duration": 15,
    "start_time": "2022-02-18T01:17:24.974Z"
   },
   {
    "duration": 9,
    "start_time": "2022-02-18T01:17:24.990Z"
   },
   {
    "duration": 9,
    "start_time": "2022-02-18T01:17:25.000Z"
   },
   {
    "duration": 21,
    "start_time": "2022-02-18T01:17:25.011Z"
   },
   {
    "duration": 8,
    "start_time": "2022-02-18T01:17:25.034Z"
   },
   {
    "duration": 8,
    "start_time": "2022-02-18T01:17:25.044Z"
   },
   {
    "duration": 9,
    "start_time": "2022-02-18T01:17:25.053Z"
   },
   {
    "duration": 8,
    "start_time": "2022-02-18T01:17:25.063Z"
   },
   {
    "duration": 14,
    "start_time": "2022-02-18T01:17:25.072Z"
   },
   {
    "duration": 10,
    "start_time": "2022-02-18T01:17:25.088Z"
   },
   {
    "duration": 11,
    "start_time": "2022-02-18T01:17:25.099Z"
   },
   {
    "duration": 2099,
    "start_time": "2022-02-18T01:17:25.111Z"
   },
   {
    "duration": 340,
    "start_time": "2022-02-18T01:17:27.212Z"
   },
   {
    "duration": 822,
    "start_time": "2022-02-18T01:17:27.553Z"
   },
   {
    "duration": 347,
    "start_time": "2022-02-18T01:17:28.377Z"
   },
   {
    "duration": 654,
    "start_time": "2022-02-18T01:17:28.725Z"
   },
   {
    "duration": 334,
    "start_time": "2022-02-18T01:17:29.381Z"
   },
   {
    "duration": 354,
    "start_time": "2022-02-18T01:17:29.716Z"
   },
   {
    "duration": 337,
    "start_time": "2022-02-18T01:17:30.072Z"
   },
   {
    "duration": 5,
    "start_time": "2022-02-18T01:17:30.411Z"
   },
   {
    "duration": 15,
    "start_time": "2022-02-18T01:17:30.418Z"
   },
   {
    "duration": 17,
    "start_time": "2022-02-18T01:17:30.435Z"
   },
   {
    "duration": 11,
    "start_time": "2022-02-18T01:17:30.454Z"
   },
   {
    "duration": 16,
    "start_time": "2022-02-18T01:17:30.467Z"
   },
   {
    "duration": 421,
    "start_time": "2022-02-18T01:17:30.484Z"
   },
   {
    "duration": 239,
    "start_time": "2022-02-18T01:17:30.907Z"
   },
   {
    "duration": 13,
    "start_time": "2022-02-18T01:17:31.148Z"
   },
   {
    "duration": 422,
    "start_time": "2022-02-18T01:17:31.162Z"
   },
   {
    "duration": 234,
    "start_time": "2022-02-18T01:17:31.586Z"
   },
   {
    "duration": 19,
    "start_time": "2022-02-18T01:17:31.822Z"
   },
   {
    "duration": 417,
    "start_time": "2022-02-18T01:17:31.842Z"
   },
   {
    "duration": 246,
    "start_time": "2022-02-18T01:17:32.261Z"
   },
   {
    "duration": 42,
    "start_time": "2022-02-18T01:17:32.509Z"
   },
   {
    "duration": 44,
    "start_time": "2022-02-18T01:17:32.553Z"
   },
   {
    "duration": 37,
    "start_time": "2022-02-18T01:17:32.599Z"
   },
   {
    "duration": 28,
    "start_time": "2022-02-18T01:17:32.637Z"
   },
   {
    "duration": 2,
    "start_time": "2022-02-18T01:17:32.667Z"
   },
   {
    "duration": 6,
    "start_time": "2022-02-18T01:17:32.671Z"
   },
   {
    "duration": 2,
    "start_time": "2022-02-18T01:17:32.682Z"
   },
   {
    "duration": 47,
    "start_time": "2022-02-18T01:17:32.686Z"
   },
   {
    "duration": 26,
    "start_time": "2022-02-18T01:17:32.734Z"
   },
   {
    "duration": 8,
    "start_time": "2022-02-18T01:17:32.762Z"
   },
   {
    "duration": 22,
    "start_time": "2022-02-18T01:17:32.772Z"
   },
   {
    "duration": 49,
    "start_time": "2022-02-18T01:17:32.795Z"
   },
   {
    "duration": 7,
    "start_time": "2022-02-18T01:17:32.846Z"
   },
   {
    "duration": 21,
    "start_time": "2022-02-18T01:17:32.855Z"
   },
   {
    "duration": 3,
    "start_time": "2022-02-18T01:17:32.877Z"
   },
   {
    "duration": 4,
    "start_time": "2022-02-18T01:17:32.882Z"
   },
   {
    "duration": 4,
    "start_time": "2022-02-18T01:17:32.888Z"
   },
   {
    "duration": 91,
    "start_time": "2022-02-18T01:17:32.893Z"
   },
   {
    "duration": 23,
    "start_time": "2022-02-18T01:17:32.986Z"
   },
   {
    "duration": 38,
    "start_time": "2022-02-18T01:17:33.010Z"
   },
   {
    "duration": 8,
    "start_time": "2022-02-18T01:17:33.050Z"
   },
   {
    "duration": 4,
    "start_time": "2022-02-18T01:17:33.060Z"
   },
   {
    "duration": 4,
    "start_time": "2022-02-18T01:17:33.065Z"
   },
   {
    "duration": 3,
    "start_time": "2022-02-18T01:17:33.071Z"
   },
   {
    "duration": 6365,
    "start_time": "2022-02-18T01:17:33.076Z"
   },
   {
    "duration": 196,
    "start_time": "2022-02-18T01:17:39.444Z"
   },
   {
    "duration": 100,
    "start_time": "2022-02-18T01:17:39.643Z"
   },
   {
    "duration": 89,
    "start_time": "2022-02-18T01:17:39.745Z"
   },
   {
    "duration": 5,
    "start_time": "2022-02-18T01:17:39.836Z"
   },
   {
    "duration": 5,
    "start_time": "2022-02-18T01:17:39.843Z"
   },
   {
    "duration": 20350,
    "start_time": "2022-02-18T01:17:39.849Z"
   },
   {
    "duration": 3665,
    "start_time": "2022-02-18T01:18:00.200Z"
   },
   {
    "duration": 1466,
    "start_time": "2022-02-18T01:18:03.867Z"
   },
   {
    "duration": 3,
    "start_time": "2022-02-18T01:18:05.335Z"
   },
   {
    "duration": 5,
    "start_time": "2022-02-18T01:18:05.340Z"
   },
   {
    "duration": 1186,
    "start_time": "2022-02-18T01:18:05.347Z"
   },
   {
    "duration": 2203,
    "start_time": "2022-02-18T01:18:06.536Z"
   },
   {
    "duration": 12035,
    "start_time": "2022-02-18T01:18:08.741Z"
   },
   {
    "duration": 84,
    "start_time": "2022-02-18T01:18:20.777Z"
   },
   {
    "duration": 172,
    "start_time": "2022-02-18T01:18:20.862Z"
   },
   {
    "duration": 5,
    "start_time": "2022-02-18T01:18:21.036Z"
   },
   {
    "duration": 477,
    "start_time": "2022-02-18T01:23:34.463Z"
   },
   {
    "duration": 1236,
    "start_time": "2022-02-18T01:24:05.396Z"
   },
   {
    "duration": 1083,
    "start_time": "2022-02-18T01:24:45.354Z"
   },
   {
    "duration": 1555,
    "start_time": "2022-02-18T01:27:48.986Z"
   },
   {
    "duration": 1441,
    "start_time": "2022-02-18T01:29:19.510Z"
   },
   {
    "duration": 5,
    "start_time": "2022-02-18T01:29:20.953Z"
   },
   {
    "duration": 9,
    "start_time": "2022-02-18T01:29:20.960Z"
   },
   {
    "duration": 660,
    "start_time": "2022-02-18T01:29:20.971Z"
   },
   {
    "duration": 27,
    "start_time": "2022-02-18T01:29:21.632Z"
   },
   {
    "duration": 14,
    "start_time": "2022-02-18T01:29:21.660Z"
   },
   {
    "duration": 2,
    "start_time": "2022-02-18T01:29:21.676Z"
   },
   {
    "duration": 12,
    "start_time": "2022-02-18T01:29:21.680Z"
   },
   {
    "duration": 55,
    "start_time": "2022-02-18T01:29:21.694Z"
   },
   {
    "duration": 10,
    "start_time": "2022-02-18T01:29:21.751Z"
   },
   {
    "duration": 2,
    "start_time": "2022-02-18T01:29:21.763Z"
   },
   {
    "duration": 11,
    "start_time": "2022-02-18T01:29:21.766Z"
   },
   {
    "duration": 55,
    "start_time": "2022-02-18T01:29:21.778Z"
   },
   {
    "duration": 15,
    "start_time": "2022-02-18T01:29:21.834Z"
   },
   {
    "duration": 2,
    "start_time": "2022-02-18T01:29:21.851Z"
   },
   {
    "duration": 13,
    "start_time": "2022-02-18T01:29:21.855Z"
   },
   {
    "duration": 4,
    "start_time": "2022-02-18T01:29:21.870Z"
   },
   {
    "duration": 6,
    "start_time": "2022-02-18T01:29:21.875Z"
   },
   {
    "duration": 5,
    "start_time": "2022-02-18T01:29:21.882Z"
   },
   {
    "duration": 10,
    "start_time": "2022-02-18T01:29:21.889Z"
   },
   {
    "duration": 3,
    "start_time": "2022-02-18T01:29:21.931Z"
   },
   {
    "duration": 14,
    "start_time": "2022-02-18T01:29:21.936Z"
   },
   {
    "duration": 8,
    "start_time": "2022-02-18T01:29:21.954Z"
   },
   {
    "duration": 4,
    "start_time": "2022-02-18T01:29:21.964Z"
   },
   {
    "duration": 10,
    "start_time": "2022-02-18T01:29:21.969Z"
   },
   {
    "duration": 13,
    "start_time": "2022-02-18T01:29:21.980Z"
   },
   {
    "duration": 8,
    "start_time": "2022-02-18T01:29:21.995Z"
   },
   {
    "duration": 31,
    "start_time": "2022-02-18T01:29:22.004Z"
   },
   {
    "duration": 4,
    "start_time": "2022-02-18T01:29:22.036Z"
   },
   {
    "duration": 12,
    "start_time": "2022-02-18T01:29:22.041Z"
   },
   {
    "duration": 9,
    "start_time": "2022-02-18T01:29:22.054Z"
   },
   {
    "duration": 10,
    "start_time": "2022-02-18T01:29:22.065Z"
   },
   {
    "duration": 7,
    "start_time": "2022-02-18T01:29:22.077Z"
   },
   {
    "duration": 8,
    "start_time": "2022-02-18T01:29:22.086Z"
   },
   {
    "duration": 8,
    "start_time": "2022-02-18T01:29:22.096Z"
   },
   {
    "duration": 8,
    "start_time": "2022-02-18T01:29:22.106Z"
   },
   {
    "duration": 7,
    "start_time": "2022-02-18T01:29:22.116Z"
   },
   {
    "duration": 4,
    "start_time": "2022-02-18T01:29:22.132Z"
   },
   {
    "duration": 8,
    "start_time": "2022-02-18T01:29:22.138Z"
   },
   {
    "duration": 10,
    "start_time": "2022-02-18T01:29:22.148Z"
   },
   {
    "duration": 4649,
    "start_time": "2022-02-18T01:29:22.160Z"
   },
   {
    "duration": 540,
    "start_time": "2022-02-18T01:29:26.811Z"
   },
   {
    "duration": 1460,
    "start_time": "2022-02-18T01:29:27.353Z"
   },
   {
    "duration": 514,
    "start_time": "2022-02-18T01:29:28.815Z"
   },
   {
    "duration": 689,
    "start_time": "2022-02-18T01:29:29.330Z"
   },
   {
    "duration": 366,
    "start_time": "2022-02-18T01:29:30.021Z"
   },
   {
    "duration": 358,
    "start_time": "2022-02-18T01:29:30.389Z"
   },
   {
    "duration": 335,
    "start_time": "2022-02-18T01:29:30.749Z"
   },
   {
    "duration": 4,
    "start_time": "2022-02-18T01:29:31.086Z"
   },
   {
    "duration": 6,
    "start_time": "2022-02-18T01:29:31.092Z"
   },
   {
    "duration": 6,
    "start_time": "2022-02-18T01:29:31.100Z"
   },
   {
    "duration": 31,
    "start_time": "2022-02-18T01:29:31.108Z"
   },
   {
    "duration": 16,
    "start_time": "2022-02-18T01:29:31.141Z"
   },
   {
    "duration": 653,
    "start_time": "2022-02-18T01:29:31.158Z"
   },
   {
    "duration": 439,
    "start_time": "2022-02-18T01:29:31.812Z"
   },
   {
    "duration": 15,
    "start_time": "2022-02-18T01:29:32.253Z"
   },
   {
    "duration": 411,
    "start_time": "2022-02-18T01:29:32.270Z"
   },
   {
    "duration": 231,
    "start_time": "2022-02-18T01:29:32.682Z"
   },
   {
    "duration": 23,
    "start_time": "2022-02-18T01:29:32.914Z"
   },
   {
    "duration": 405,
    "start_time": "2022-02-18T01:29:32.938Z"
   },
   {
    "duration": 246,
    "start_time": "2022-02-18T01:29:33.344Z"
   },
   {
    "duration": 44,
    "start_time": "2022-02-18T01:29:33.592Z"
   },
   {
    "duration": 61,
    "start_time": "2022-02-18T01:29:33.638Z"
   },
   {
    "duration": 56,
    "start_time": "2022-02-18T01:29:33.701Z"
   },
   {
    "duration": 29,
    "start_time": "2022-02-18T01:29:33.758Z"
   },
   {
    "duration": 3,
    "start_time": "2022-02-18T01:29:33.788Z"
   },
   {
    "duration": 6,
    "start_time": "2022-02-18T01:29:33.792Z"
   },
   {
    "duration": 2,
    "start_time": "2022-02-18T01:29:33.804Z"
   },
   {
    "duration": 47,
    "start_time": "2022-02-18T01:29:33.808Z"
   },
   {
    "duration": 28,
    "start_time": "2022-02-18T01:29:33.857Z"
   },
   {
    "duration": 9,
    "start_time": "2022-02-18T01:29:33.886Z"
   },
   {
    "duration": 48,
    "start_time": "2022-02-18T01:29:33.897Z"
   },
   {
    "duration": 24,
    "start_time": "2022-02-18T01:29:33.946Z"
   },
   {
    "duration": 8,
    "start_time": "2022-02-18T01:29:33.972Z"
   },
   {
    "duration": 50,
    "start_time": "2022-02-18T01:29:33.982Z"
   },
   {
    "duration": 3,
    "start_time": "2022-02-18T01:29:34.033Z"
   },
   {
    "duration": 5,
    "start_time": "2022-02-18T01:29:34.038Z"
   },
   {
    "duration": 5,
    "start_time": "2022-02-18T01:29:34.044Z"
   },
   {
    "duration": 83,
    "start_time": "2022-02-18T01:29:34.051Z"
   },
   {
    "duration": 23,
    "start_time": "2022-02-18T01:29:34.136Z"
   },
   {
    "duration": 25,
    "start_time": "2022-02-18T01:29:34.161Z"
   },
   {
    "duration": 7,
    "start_time": "2022-02-18T01:29:34.188Z"
   },
   {
    "duration": 4,
    "start_time": "2022-02-18T01:29:34.196Z"
   },
   {
    "duration": 3,
    "start_time": "2022-02-18T01:29:34.232Z"
   },
   {
    "duration": 3,
    "start_time": "2022-02-18T01:29:34.237Z"
   },
   {
    "duration": 6300,
    "start_time": "2022-02-18T01:29:34.241Z"
   },
   {
    "duration": 113,
    "start_time": "2022-02-18T01:29:40.633Z"
   },
   {
    "duration": 188,
    "start_time": "2022-02-18T01:29:40.748Z"
   },
   {
    "duration": 4,
    "start_time": "2022-02-18T01:29:40.938Z"
   },
   {
    "duration": 6,
    "start_time": "2022-02-18T01:29:40.943Z"
   },
   {
    "duration": 5,
    "start_time": "2022-02-18T01:29:40.950Z"
   },
   {
    "duration": 20276,
    "start_time": "2022-02-18T01:29:40.957Z"
   },
   {
    "duration": 3669,
    "start_time": "2022-02-18T01:30:01.234Z"
   },
   {
    "duration": 1529,
    "start_time": "2022-02-18T01:30:04.905Z"
   },
   {
    "duration": 3,
    "start_time": "2022-02-18T01:30:06.436Z"
   },
   {
    "duration": 6,
    "start_time": "2022-02-18T01:30:06.441Z"
   },
   {
    "duration": 1989,
    "start_time": "2022-02-18T01:30:06.449Z"
   },
   {
    "duration": 1493,
    "start_time": "2022-02-18T01:30:08.440Z"
   },
   {
    "duration": 2127,
    "start_time": "2022-02-18T01:30:09.935Z"
   },
   {
    "duration": 12312,
    "start_time": "2022-02-18T01:30:12.064Z"
   },
   {
    "duration": 89,
    "start_time": "2022-02-18T01:30:24.378Z"
   },
   {
    "duration": 104,
    "start_time": "2022-02-18T01:30:24.468Z"
   },
   {
    "duration": -314,
    "start_time": "2022-02-18T01:30:24.888Z"
   },
   {
    "duration": -318,
    "start_time": "2022-02-18T01:30:24.893Z"
   },
   {
    "duration": 219,
    "start_time": "2022-02-18T01:30:32.414Z"
   },
   {
    "duration": 3,
    "start_time": "2022-02-18T01:30:32.635Z"
   },
   {
    "duration": 1235,
    "start_time": "2022-02-18T05:32:42.693Z"
   },
   {
    "duration": 3,
    "start_time": "2022-02-18T05:32:43.930Z"
   },
   {
    "duration": 751,
    "start_time": "2022-02-18T05:32:44.605Z"
   },
   {
    "duration": 36,
    "start_time": "2022-02-18T05:32:45.358Z"
   },
   {
    "duration": 17,
    "start_time": "2022-02-18T05:32:46.158Z"
   },
   {
    "duration": 3,
    "start_time": "2022-02-18T05:32:46.625Z"
   },
   {
    "duration": 13,
    "start_time": "2022-02-18T05:32:46.805Z"
   },
   {
    "duration": 28,
    "start_time": "2022-02-18T05:32:46.989Z"
   },
   {
    "duration": 11,
    "start_time": "2022-02-18T05:32:47.186Z"
   },
   {
    "duration": 2,
    "start_time": "2022-02-18T05:32:47.501Z"
   },
   {
    "duration": 10,
    "start_time": "2022-02-18T05:32:47.704Z"
   },
   {
    "duration": 35,
    "start_time": "2022-02-18T05:32:47.944Z"
   },
   {
    "duration": 18,
    "start_time": "2022-02-18T05:32:48.155Z"
   },
   {
    "duration": 2,
    "start_time": "2022-02-18T05:32:48.559Z"
   },
   {
    "duration": 16,
    "start_time": "2022-02-18T05:32:48.788Z"
   },
   {
    "duration": 7,
    "start_time": "2022-02-18T05:32:50.892Z"
   },
   {
    "duration": 5,
    "start_time": "2022-02-18T05:32:51.610Z"
   },
   {
    "duration": 3,
    "start_time": "2022-02-18T05:32:52.828Z"
   },
   {
    "duration": 5,
    "start_time": "2022-02-18T05:32:53.005Z"
   },
   {
    "duration": 3,
    "start_time": "2022-02-18T05:32:53.183Z"
   },
   {
    "duration": 22,
    "start_time": "2022-02-18T05:32:55.110Z"
   },
   {
    "duration": 10,
    "start_time": "2022-02-18T05:32:55.749Z"
   },
   {
    "duration": 5,
    "start_time": "2022-02-18T05:32:55.989Z"
   },
   {
    "duration": 8,
    "start_time": "2022-02-18T05:32:56.480Z"
   },
   {
    "duration": 16,
    "start_time": "2022-02-18T05:32:56.700Z"
   },
   {
    "duration": 13,
    "start_time": "2022-02-18T05:32:57.105Z"
   },
   {
    "duration": 7,
    "start_time": "2022-02-18T05:33:00.252Z"
   },
   {
    "duration": 3,
    "start_time": "2022-02-18T05:33:00.492Z"
   },
   {
    "duration": 3,
    "start_time": "2022-02-18T05:33:00.655Z"
   },
   {
    "duration": 3,
    "start_time": "2022-02-18T05:33:00.838Z"
   },
   {
    "duration": 5,
    "start_time": "2022-02-18T05:33:01.163Z"
   },
   {
    "duration": 3,
    "start_time": "2022-02-18T05:33:01.338Z"
   },
   {
    "duration": 4,
    "start_time": "2022-02-18T05:33:01.526Z"
   },
   {
    "duration": 4,
    "start_time": "2022-02-18T05:33:01.966Z"
   },
   {
    "duration": 5,
    "start_time": "2022-02-18T05:33:02.653Z"
   },
   {
    "duration": 3,
    "start_time": "2022-02-18T05:33:02.836Z"
   },
   {
    "duration": 4,
    "start_time": "2022-02-18T05:33:03.019Z"
   },
   {
    "duration": 3,
    "start_time": "2022-02-18T05:33:03.206Z"
   },
   {
    "duration": 8,
    "start_time": "2022-02-18T05:33:04.743Z"
   },
   {
    "duration": 2687,
    "start_time": "2022-02-18T05:33:04.931Z"
   },
   {
    "duration": 343,
    "start_time": "2022-02-18T05:33:07.620Z"
   },
   {
    "duration": 1163,
    "start_time": "2022-02-18T05:33:07.965Z"
   },
   {
    "duration": 341,
    "start_time": "2022-02-18T05:33:09.130Z"
   },
   {
    "duration": 793,
    "start_time": "2022-02-18T05:33:09.472Z"
   },
   {
    "duration": 325,
    "start_time": "2022-02-18T05:33:10.266Z"
   },
   {
    "duration": 433,
    "start_time": "2022-02-18T05:33:10.593Z"
   },
   {
    "duration": 337,
    "start_time": "2022-02-18T05:33:11.028Z"
   },
   {
    "duration": 5,
    "start_time": "2022-02-18T05:33:11.369Z"
   },
   {
    "duration": 8,
    "start_time": "2022-02-18T05:33:11.375Z"
   },
   {
    "duration": 5,
    "start_time": "2022-02-18T05:33:14.371Z"
   },
   {
    "duration": 11,
    "start_time": "2022-02-18T05:33:15.148Z"
   },
   {
    "duration": 14,
    "start_time": "2022-02-18T05:33:16.651Z"
   },
   {
    "duration": 410,
    "start_time": "2022-02-18T05:33:17.477Z"
   },
   {
    "duration": 170,
    "start_time": "2022-02-18T05:33:18.308Z"
   },
   {
    "duration": 13,
    "start_time": "2022-02-18T05:33:19.290Z"
   },
   {
    "duration": 663,
    "start_time": "2022-02-18T05:33:19.504Z"
   },
   {
    "duration": 294,
    "start_time": "2022-02-18T05:33:20.170Z"
   },
   {
    "duration": 13,
    "start_time": "2022-02-18T05:33:20.469Z"
   },
   {
    "duration": 528,
    "start_time": "2022-02-18T05:33:20.820Z"
   },
   {
    "duration": 306,
    "start_time": "2022-02-18T05:33:21.351Z"
   },
   {
    "duration": 37,
    "start_time": "2022-02-18T05:33:23.299Z"
   },
   {
    "duration": 54,
    "start_time": "2022-02-18T05:33:24.028Z"
   },
   {
    "duration": 33,
    "start_time": "2022-02-18T05:33:24.653Z"
   },
   {
    "duration": 37,
    "start_time": "2022-02-18T05:33:25.207Z"
   },
   {
    "duration": 3,
    "start_time": "2022-02-18T05:33:29.373Z"
   },
   {
    "duration": 4,
    "start_time": "2022-02-18T05:33:32.805Z"
   },
   {
    "duration": 3,
    "start_time": "2022-02-18T05:33:33.740Z"
   },
   {
    "duration": 3,
    "start_time": "2022-02-18T05:36:26.549Z"
   },
   {
    "duration": 4,
    "start_time": "2022-02-18T05:36:27.294Z"
   },
   {
    "duration": 30,
    "start_time": "2022-02-18T05:36:36.133Z"
   },
   {
    "duration": 34,
    "start_time": "2022-02-18T05:36:46.024Z"
   },
   {
    "duration": 11,
    "start_time": "2022-02-18T05:36:50.641Z"
   },
   {
    "duration": 27,
    "start_time": "2022-02-18T05:37:00.473Z"
   },
   {
    "duration": 34,
    "start_time": "2022-02-18T05:37:03.893Z"
   },
   {
    "duration": 3,
    "start_time": "2022-02-18T05:37:45.415Z"
   },
   {
    "duration": 398,
    "start_time": "2022-02-18T05:37:46.135Z"
   },
   {
    "duration": 10,
    "start_time": "2022-02-18T05:38:04.400Z"
   },
   {
    "duration": 4,
    "start_time": "2022-02-18T05:38:06.082Z"
   },
   {
    "duration": 4,
    "start_time": "2022-02-18T05:38:06.812Z"
   },
   {
    "duration": 11049,
    "start_time": "2022-02-18T05:38:10.722Z"
   },
   {
    "duration": 296,
    "start_time": "2022-02-18T05:38:21.773Z"
   },
   {
    "duration": -140,
    "start_time": "2022-02-18T05:38:22.212Z"
   },
   {
    "duration": -200,
    "start_time": "2022-02-18T05:38:22.274Z"
   },
   {
    "duration": -254,
    "start_time": "2022-02-18T05:38:22.329Z"
   },
   {
    "duration": -292,
    "start_time": "2022-02-18T05:38:22.369Z"
   },
   {
    "duration": 10,
    "start_time": "2022-02-18T05:39:11.010Z"
   },
   {
    "duration": 27,
    "start_time": "2022-02-18T05:39:11.732Z"
   },
   {
    "duration": 4,
    "start_time": "2022-02-18T05:39:13.104Z"
   },
   {
    "duration": 4,
    "start_time": "2022-02-18T05:39:13.640Z"
   },
   {
    "duration": 3,
    "start_time": "2022-02-18T05:39:16.133Z"
   },
   {
    "duration": 75,
    "start_time": "2022-02-18T05:39:17.599Z"
   },
   {
    "duration": 34,
    "start_time": "2022-02-18T05:39:17.782Z"
   },
   {
    "duration": 32,
    "start_time": "2022-02-18T05:39:18.449Z"
   },
   {
    "duration": 12,
    "start_time": "2022-02-18T05:39:19.923Z"
   },
   {
    "duration": 4,
    "start_time": "2022-02-18T05:39:20.508Z"
   },
   {
    "duration": 3,
    "start_time": "2022-02-18T05:39:20.683Z"
   },
   {
    "duration": 293,
    "start_time": "2022-02-18T05:39:24.698Z"
   },
   {
    "duration": 3,
    "start_time": "2022-02-18T05:39:32.900Z"
   },
   {
    "duration": 7128,
    "start_time": "2022-02-18T05:39:33.543Z"
   },
   {
    "duration": 107,
    "start_time": "2022-02-18T05:39:40.673Z"
   },
   {
    "duration": 19,
    "start_time": "2022-02-18T05:39:44.447Z"
   },
   {
    "duration": 5,
    "start_time": "2022-02-18T05:39:45.887Z"
   },
   {
    "duration": 5,
    "start_time": "2022-02-18T05:39:47.221Z"
   },
   {
    "duration": 5,
    "start_time": "2022-02-18T05:39:50.434Z"
   },
   {
    "duration": 24369,
    "start_time": "2022-02-18T05:39:55.272Z"
   },
   {
    "duration": 4217,
    "start_time": "2022-02-18T05:40:19.643Z"
   },
   {
    "duration": 1309,
    "start_time": "2022-02-18T05:40:23.863Z"
   },
   {
    "duration": 4,
    "start_time": "2022-02-18T05:40:25.174Z"
   },
   {
    "duration": 88,
    "start_time": "2022-02-18T05:40:25.181Z"
   },
   {
    "duration": 280,
    "start_time": "2022-02-18T05:41:19.863Z"
   },
   {
    "duration": 599,
    "start_time": "2022-02-19T18:53:35.741Z"
   },
   {
    "duration": 2179,
    "start_time": "2022-02-19T18:53:44.965Z"
   },
   {
    "duration": 1229,
    "start_time": "2022-02-19T18:53:47.146Z"
   },
   {
    "duration": 2,
    "start_time": "2022-02-19T18:53:48.377Z"
   },
   {
    "duration": 14546,
    "start_time": "2022-02-19T18:53:48.381Z"
   },
   {
    "duration": 27,
    "start_time": "2022-02-19T18:54:02.929Z"
   },
   {
    "duration": 13,
    "start_time": "2022-02-19T18:54:02.958Z"
   },
   {
    "duration": 2,
    "start_time": "2022-02-19T18:54:02.973Z"
   },
   {
    "duration": 17,
    "start_time": "2022-02-19T18:54:02.977Z"
   },
   {
    "duration": 23,
    "start_time": "2022-02-19T18:54:02.996Z"
   },
   {
    "duration": 33,
    "start_time": "2022-02-19T18:54:03.021Z"
   },
   {
    "duration": 3,
    "start_time": "2022-02-19T18:54:03.055Z"
   },
   {
    "duration": 14,
    "start_time": "2022-02-19T18:54:03.060Z"
   },
   {
    "duration": 30,
    "start_time": "2022-02-19T18:54:03.076Z"
   },
   {
    "duration": 38,
    "start_time": "2022-02-19T18:54:03.108Z"
   },
   {
    "duration": 2,
    "start_time": "2022-02-19T18:54:03.147Z"
   },
   {
    "duration": 17,
    "start_time": "2022-02-19T18:54:03.151Z"
   },
   {
    "duration": 8,
    "start_time": "2022-02-19T18:54:03.170Z"
   },
   {
    "duration": 5,
    "start_time": "2022-02-19T18:54:03.179Z"
   },
   {
    "duration": 14,
    "start_time": "2022-02-19T18:54:03.186Z"
   },
   {
    "duration": 11,
    "start_time": "2022-02-19T18:54:03.201Z"
   },
   {
    "duration": 16,
    "start_time": "2022-02-19T18:54:03.214Z"
   },
   {
    "duration": 36,
    "start_time": "2022-02-19T18:54:03.231Z"
   },
   {
    "duration": 8,
    "start_time": "2022-02-19T18:54:03.271Z"
   },
   {
    "duration": 45,
    "start_time": "2022-02-19T18:54:03.282Z"
   },
   {
    "duration": 13,
    "start_time": "2022-02-19T18:54:03.329Z"
   },
   {
    "duration": 19,
    "start_time": "2022-02-19T18:54:03.343Z"
   },
   {
    "duration": 13,
    "start_time": "2022-02-19T18:54:03.364Z"
   },
   {
    "duration": 7,
    "start_time": "2022-02-19T18:54:03.379Z"
   },
   {
    "duration": 5,
    "start_time": "2022-02-19T18:54:03.387Z"
   },
   {
    "duration": 10,
    "start_time": "2022-02-19T18:54:03.394Z"
   },
   {
    "duration": 5,
    "start_time": "2022-02-19T18:54:03.405Z"
   },
   {
    "duration": 5,
    "start_time": "2022-02-19T18:54:03.411Z"
   },
   {
    "duration": 4,
    "start_time": "2022-02-19T18:54:03.418Z"
   },
   {
    "duration": 3,
    "start_time": "2022-02-19T18:54:03.446Z"
   },
   {
    "duration": 5,
    "start_time": "2022-02-19T18:54:03.451Z"
   },
   {
    "duration": 6,
    "start_time": "2022-02-19T18:54:03.457Z"
   },
   {
    "duration": 7,
    "start_time": "2022-02-19T18:54:03.464Z"
   },
   {
    "duration": 8,
    "start_time": "2022-02-19T18:54:03.473Z"
   },
   {
    "duration": 7,
    "start_time": "2022-02-19T18:54:03.482Z"
   },
   {
    "duration": 10,
    "start_time": "2022-02-19T18:54:03.490Z"
   },
   {
    "duration": 2405,
    "start_time": "2022-02-19T18:54:03.502Z"
   },
   {
    "duration": 272,
    "start_time": "2022-02-19T18:54:05.909Z"
   },
   {
    "duration": 1181,
    "start_time": "2022-02-19T18:54:06.183Z"
   },
   {
    "duration": 284,
    "start_time": "2022-02-19T18:54:07.366Z"
   },
   {
    "duration": 636,
    "start_time": "2022-02-19T18:54:07.651Z"
   },
   {
    "duration": 272,
    "start_time": "2022-02-19T18:54:08.289Z"
   },
   {
    "duration": 372,
    "start_time": "2022-02-19T18:54:08.563Z"
   },
   {
    "duration": 279,
    "start_time": "2022-02-19T18:54:08.937Z"
   },
   {
    "duration": 4,
    "start_time": "2022-02-19T18:54:09.218Z"
   },
   {
    "duration": 10,
    "start_time": "2022-02-19T18:54:09.223Z"
   },
   {
    "duration": 17,
    "start_time": "2022-02-19T18:54:09.234Z"
   },
   {
    "duration": 18,
    "start_time": "2022-02-19T18:54:09.252Z"
   },
   {
    "duration": 19,
    "start_time": "2022-02-19T18:54:09.271Z"
   },
   {
    "duration": 329,
    "start_time": "2022-02-19T18:54:09.292Z"
   },
   {
    "duration": 147,
    "start_time": "2022-02-19T18:54:09.623Z"
   },
   {
    "duration": 11,
    "start_time": "2022-02-19T18:54:09.772Z"
   },
   {
    "duration": 549,
    "start_time": "2022-02-19T18:54:09.784Z"
   },
   {
    "duration": 239,
    "start_time": "2022-02-19T18:54:10.334Z"
   },
   {
    "duration": 12,
    "start_time": "2022-02-19T18:54:10.575Z"
   },
   {
    "duration": 437,
    "start_time": "2022-02-19T18:54:10.588Z"
   },
   {
    "duration": 241,
    "start_time": "2022-02-19T18:54:11.026Z"
   },
   {
    "duration": 29,
    "start_time": "2022-02-19T18:54:11.268Z"
   },
   {
    "duration": 59,
    "start_time": "2022-02-19T18:54:11.298Z"
   },
   {
    "duration": 23,
    "start_time": "2022-02-19T18:54:11.359Z"
   },
   {
    "duration": 27,
    "start_time": "2022-02-19T18:54:11.384Z"
   },
   {
    "duration": 3,
    "start_time": "2022-02-19T18:54:11.413Z"
   },
   {
    "duration": 27,
    "start_time": "2022-02-19T18:54:11.418Z"
   },
   {
    "duration": 2,
    "start_time": "2022-02-19T18:54:11.451Z"
   },
   {
    "duration": 3,
    "start_time": "2022-02-19T18:54:11.455Z"
   },
   {
    "duration": 5,
    "start_time": "2022-02-19T18:54:11.460Z"
   },
   {
    "duration": 26,
    "start_time": "2022-02-19T18:54:11.466Z"
   },
   {
    "duration": 27,
    "start_time": "2022-02-19T18:54:11.493Z"
   },
   {
    "duration": 30,
    "start_time": "2022-02-19T18:54:11.522Z"
   },
   {
    "duration": 27,
    "start_time": "2022-02-19T18:54:11.553Z"
   },
   {
    "duration": 23,
    "start_time": "2022-02-19T18:54:11.582Z"
   },
   {
    "duration": 7,
    "start_time": "2022-02-19T18:54:11.606Z"
   },
   {
    "duration": 42,
    "start_time": "2022-02-19T18:54:11.614Z"
   },
   {
    "duration": 3,
    "start_time": "2022-02-19T18:54:11.657Z"
   },
   {
    "duration": 5,
    "start_time": "2022-02-19T18:54:11.662Z"
   },
   {
    "duration": 5,
    "start_time": "2022-02-19T18:54:11.668Z"
   },
   {
    "duration": 77,
    "start_time": "2022-02-19T18:54:11.675Z"
   },
   {
    "duration": 22,
    "start_time": "2022-02-19T18:54:11.753Z"
   },
   {
    "duration": 24,
    "start_time": "2022-02-19T18:54:11.776Z"
   },
   {
    "duration": 7,
    "start_time": "2022-02-19T18:54:11.801Z"
   },
   {
    "duration": 3,
    "start_time": "2022-02-19T18:54:11.809Z"
   },
   {
    "duration": 5,
    "start_time": "2022-02-19T18:54:11.814Z"
   },
   {
    "duration": 25,
    "start_time": "2022-02-19T18:54:11.821Z"
   },
   {
    "duration": 6499,
    "start_time": "2022-02-19T18:54:11.848Z"
   },
   {
    "duration": 103,
    "start_time": "2022-02-19T18:54:18.352Z"
   },
   {
    "duration": 192,
    "start_time": "2022-02-19T18:54:18.457Z"
   },
   {
    "duration": 4,
    "start_time": "2022-02-19T18:54:18.651Z"
   },
   {
    "duration": 6,
    "start_time": "2022-02-19T18:54:18.657Z"
   },
   {
    "duration": 7,
    "start_time": "2022-02-19T18:54:18.664Z"
   },
   {
    "duration": 390,
    "start_time": "2022-02-19T18:54:18.672Z"
   },
   {
    "duration": -164,
    "start_time": "2022-02-19T18:54:19.228Z"
   },
   {
    "duration": -178,
    "start_time": "2022-02-19T18:54:19.243Z"
   },
   {
    "duration": -189,
    "start_time": "2022-02-19T18:54:19.255Z"
   },
   {
    "duration": -193,
    "start_time": "2022-02-19T18:54:19.260Z"
   },
   {
    "duration": -197,
    "start_time": "2022-02-19T18:54:19.264Z"
   },
   {
    "duration": -200,
    "start_time": "2022-02-19T18:54:19.268Z"
   },
   {
    "duration": -203,
    "start_time": "2022-02-19T18:54:19.272Z"
   },
   {
    "duration": -206,
    "start_time": "2022-02-19T18:54:19.276Z"
   },
   {
    "duration": -209,
    "start_time": "2022-02-19T18:54:19.280Z"
   },
   {
    "duration": -212,
    "start_time": "2022-02-19T18:54:19.284Z"
   },
   {
    "duration": -215,
    "start_time": "2022-02-19T18:54:19.288Z"
   },
   {
    "duration": -219,
    "start_time": "2022-02-19T18:54:19.293Z"
   },
   {
    "duration": 362,
    "start_time": "2022-02-19T19:13:49.643Z"
   },
   {
    "duration": 6,
    "start_time": "2022-02-19T19:13:52.463Z"
   },
   {
    "duration": 3,
    "start_time": "2022-02-19T19:13:54.249Z"
   },
   {
    "duration": 3,
    "start_time": "2022-02-19T19:13:54.901Z"
   },
   {
    "duration": 4,
    "start_time": "2022-02-19T19:13:55.424Z"
   },
   {
    "duration": 25,
    "start_time": "2022-02-19T19:15:41.372Z"
   },
   {
    "duration": 28,
    "start_time": "2022-02-19T19:15:45.711Z"
   },
   {
    "duration": 1409,
    "start_time": "2022-02-19T19:15:53.704Z"
   },
   {
    "duration": 6,
    "start_time": "2022-02-19T19:15:55.115Z"
   },
   {
    "duration": 6,
    "start_time": "2022-02-19T19:15:55.122Z"
   },
   {
    "duration": 700,
    "start_time": "2022-02-19T19:15:55.130Z"
   },
   {
    "duration": 33,
    "start_time": "2022-02-19T19:15:55.831Z"
   },
   {
    "duration": 13,
    "start_time": "2022-02-19T19:15:55.866Z"
   },
   {
    "duration": 2,
    "start_time": "2022-02-19T19:15:55.880Z"
   },
   {
    "duration": 13,
    "start_time": "2022-02-19T19:15:55.883Z"
   },
   {
    "duration": 21,
    "start_time": "2022-02-19T19:15:55.899Z"
   },
   {
    "duration": 32,
    "start_time": "2022-02-19T19:15:55.922Z"
   },
   {
    "duration": 2,
    "start_time": "2022-02-19T19:15:55.956Z"
   },
   {
    "duration": 10,
    "start_time": "2022-02-19T19:15:55.960Z"
   },
   {
    "duration": 23,
    "start_time": "2022-02-19T19:15:55.972Z"
   },
   {
    "duration": 15,
    "start_time": "2022-02-19T19:15:55.997Z"
   },
   {
    "duration": 33,
    "start_time": "2022-02-19T19:15:56.014Z"
   },
   {
    "duration": 14,
    "start_time": "2022-02-19T19:15:56.049Z"
   },
   {
    "duration": 6,
    "start_time": "2022-02-19T19:15:56.065Z"
   },
   {
    "duration": 7,
    "start_time": "2022-02-19T19:15:56.072Z"
   },
   {
    "duration": 4,
    "start_time": "2022-02-19T19:15:56.080Z"
   },
   {
    "duration": 6,
    "start_time": "2022-02-19T19:15:56.085Z"
   },
   {
    "duration": 4,
    "start_time": "2022-02-19T19:15:56.093Z"
   },
   {
    "duration": 47,
    "start_time": "2022-02-19T19:15:56.099Z"
   },
   {
    "duration": 8,
    "start_time": "2022-02-19T19:15:56.147Z"
   },
   {
    "duration": 3,
    "start_time": "2022-02-19T19:15:56.157Z"
   },
   {
    "duration": 5,
    "start_time": "2022-02-19T19:15:56.162Z"
   },
   {
    "duration": 11,
    "start_time": "2022-02-19T19:15:56.169Z"
   },
   {
    "duration": 9,
    "start_time": "2022-02-19T19:15:56.185Z"
   },
   {
    "duration": 5,
    "start_time": "2022-02-19T19:15:56.196Z"
   },
   {
    "duration": 4,
    "start_time": "2022-02-19T19:15:56.203Z"
   },
   {
    "duration": 38,
    "start_time": "2022-02-19T19:15:56.208Z"
   },
   {
    "duration": 3,
    "start_time": "2022-02-19T19:15:56.248Z"
   },
   {
    "duration": 5,
    "start_time": "2022-02-19T19:15:56.252Z"
   },
   {
    "duration": 6,
    "start_time": "2022-02-19T19:15:56.259Z"
   },
   {
    "duration": 4,
    "start_time": "2022-02-19T19:15:56.266Z"
   },
   {
    "duration": 7,
    "start_time": "2022-02-19T19:15:56.272Z"
   },
   {
    "duration": 9,
    "start_time": "2022-02-19T19:15:56.280Z"
   },
   {
    "duration": 5,
    "start_time": "2022-02-19T19:15:56.291Z"
   },
   {
    "duration": 10,
    "start_time": "2022-02-19T19:15:56.297Z"
   },
   {
    "duration": 6,
    "start_time": "2022-02-19T19:15:56.308Z"
   },
   {
    "duration": 8,
    "start_time": "2022-02-19T19:15:56.315Z"
   },
   {
    "duration": 2243,
    "start_time": "2022-02-19T19:15:56.346Z"
   },
   {
    "duration": 335,
    "start_time": "2022-02-19T19:15:58.591Z"
   },
   {
    "duration": 1077,
    "start_time": "2022-02-19T19:15:58.927Z"
   },
   {
    "duration": 366,
    "start_time": "2022-02-19T19:16:00.006Z"
   },
   {
    "duration": 668,
    "start_time": "2022-02-19T19:16:00.374Z"
   },
   {
    "duration": 349,
    "start_time": "2022-02-19T19:16:01.046Z"
   },
   {
    "duration": 334,
    "start_time": "2022-02-19T19:16:01.396Z"
   },
   {
    "duration": 333,
    "start_time": "2022-02-19T19:16:01.731Z"
   },
   {
    "duration": 4,
    "start_time": "2022-02-19T19:16:02.065Z"
   },
   {
    "duration": 9,
    "start_time": "2022-02-19T19:16:02.071Z"
   },
   {
    "duration": 17,
    "start_time": "2022-02-19T19:16:02.081Z"
   },
   {
    "duration": 17,
    "start_time": "2022-02-19T19:16:02.100Z"
   },
   {
    "duration": 19,
    "start_time": "2022-02-19T19:16:02.119Z"
   },
   {
    "duration": 401,
    "start_time": "2022-02-19T19:16:02.139Z"
   },
   {
    "duration": 215,
    "start_time": "2022-02-19T19:16:02.541Z"
   },
   {
    "duration": 11,
    "start_time": "2022-02-19T19:16:02.758Z"
   },
   {
    "duration": 404,
    "start_time": "2022-02-19T19:16:02.771Z"
   },
   {
    "duration": 228,
    "start_time": "2022-02-19T19:16:03.177Z"
   },
   {
    "duration": 12,
    "start_time": "2022-02-19T19:16:03.406Z"
   },
   {
    "duration": 498,
    "start_time": "2022-02-19T19:16:03.420Z"
   },
   {
    "duration": 262,
    "start_time": "2022-02-19T19:16:03.920Z"
   },
   {
    "duration": 30,
    "start_time": "2022-02-19T19:16:04.184Z"
   },
   {
    "duration": 61,
    "start_time": "2022-02-19T19:16:04.216Z"
   },
   {
    "duration": 26,
    "start_time": "2022-02-19T19:16:04.279Z"
   },
   {
    "duration": 49,
    "start_time": "2022-02-19T19:16:04.307Z"
   },
   {
    "duration": 3,
    "start_time": "2022-02-19T19:16:04.358Z"
   },
   {
    "duration": 8,
    "start_time": "2022-02-19T19:16:04.362Z"
   },
   {
    "duration": 7,
    "start_time": "2022-02-19T19:16:04.371Z"
   },
   {
    "duration": 26,
    "start_time": "2022-02-19T19:16:04.380Z"
   },
   {
    "duration": 39,
    "start_time": "2022-02-19T19:16:04.407Z"
   },
   {
    "duration": 114,
    "start_time": "2022-02-19T19:16:04.448Z"
   },
   {
    "duration": -449,
    "start_time": "2022-02-19T19:16:05.014Z"
   },
   {
    "duration": -456,
    "start_time": "2022-02-19T19:16:05.022Z"
   },
   {
    "duration": -533,
    "start_time": "2022-02-19T19:16:05.101Z"
   },
   {
    "duration": -541,
    "start_time": "2022-02-19T19:16:05.110Z"
   },
   {
    "duration": -551,
    "start_time": "2022-02-19T19:16:05.121Z"
   },
   {
    "duration": -557,
    "start_time": "2022-02-19T19:16:05.129Z"
   },
   {
    "duration": -565,
    "start_time": "2022-02-19T19:16:05.138Z"
   },
   {
    "duration": -571,
    "start_time": "2022-02-19T19:16:05.146Z"
   },
   {
    "duration": -579,
    "start_time": "2022-02-19T19:16:05.155Z"
   },
   {
    "duration": -584,
    "start_time": "2022-02-19T19:16:05.162Z"
   },
   {
    "duration": -592,
    "start_time": "2022-02-19T19:16:05.171Z"
   },
   {
    "duration": -598,
    "start_time": "2022-02-19T19:16:05.178Z"
   },
   {
    "duration": -605,
    "start_time": "2022-02-19T19:16:05.187Z"
   },
   {
    "duration": -610,
    "start_time": "2022-02-19T19:16:05.193Z"
   },
   {
    "duration": -625,
    "start_time": "2022-02-19T19:16:05.210Z"
   },
   {
    "duration": -630,
    "start_time": "2022-02-19T19:16:05.216Z"
   },
   {
    "duration": -638,
    "start_time": "2022-02-19T19:16:05.225Z"
   },
   {
    "duration": -670,
    "start_time": "2022-02-19T19:16:05.259Z"
   },
   {
    "duration": -677,
    "start_time": "2022-02-19T19:16:05.267Z"
   },
   {
    "duration": -681,
    "start_time": "2022-02-19T19:16:05.272Z"
   },
   {
    "duration": -685,
    "start_time": "2022-02-19T19:16:05.278Z"
   },
   {
    "duration": -688,
    "start_time": "2022-02-19T19:16:05.282Z"
   },
   {
    "duration": -691,
    "start_time": "2022-02-19T19:16:05.286Z"
   },
   {
    "duration": -693,
    "start_time": "2022-02-19T19:16:05.290Z"
   },
   {
    "duration": -696,
    "start_time": "2022-02-19T19:16:05.294Z"
   },
   {
    "duration": -699,
    "start_time": "2022-02-19T19:16:05.298Z"
   },
   {
    "duration": -702,
    "start_time": "2022-02-19T19:16:05.303Z"
   },
   {
    "duration": -704,
    "start_time": "2022-02-19T19:16:05.306Z"
   },
   {
    "duration": -722,
    "start_time": "2022-02-19T19:16:05.325Z"
   },
   {
    "duration": 26,
    "start_time": "2022-02-19T19:20:50.124Z"
   },
   {
    "duration": 1589,
    "start_time": "2022-02-19T19:21:02.250Z"
   },
   {
    "duration": 6,
    "start_time": "2022-02-19T19:21:03.841Z"
   },
   {
    "duration": 10,
    "start_time": "2022-02-19T19:21:03.849Z"
   },
   {
    "duration": 696,
    "start_time": "2022-02-19T19:21:03.860Z"
   },
   {
    "duration": 24,
    "start_time": "2022-02-19T19:21:04.557Z"
   },
   {
    "duration": 14,
    "start_time": "2022-02-19T19:21:04.583Z"
   },
   {
    "duration": 2,
    "start_time": "2022-02-19T19:21:04.599Z"
   },
   {
    "duration": 11,
    "start_time": "2022-02-19T19:21:04.604Z"
   },
   {
    "duration": 49,
    "start_time": "2022-02-19T19:21:04.617Z"
   },
   {
    "duration": 9,
    "start_time": "2022-02-19T19:21:04.668Z"
   },
   {
    "duration": 2,
    "start_time": "2022-02-19T19:21:04.678Z"
   },
   {
    "duration": 10,
    "start_time": "2022-02-19T19:21:04.682Z"
   },
   {
    "duration": 25,
    "start_time": "2022-02-19T19:21:04.694Z"
   },
   {
    "duration": 36,
    "start_time": "2022-02-19T19:21:04.721Z"
   },
   {
    "duration": 2,
    "start_time": "2022-02-19T19:21:04.758Z"
   },
   {
    "duration": 14,
    "start_time": "2022-02-19T19:21:04.762Z"
   },
   {
    "duration": 5,
    "start_time": "2022-02-19T19:21:04.777Z"
   },
   {
    "duration": 7,
    "start_time": "2022-02-19T19:21:04.783Z"
   },
   {
    "duration": 4,
    "start_time": "2022-02-19T19:21:04.792Z"
   },
   {
    "duration": 7,
    "start_time": "2022-02-19T19:21:04.797Z"
   },
   {
    "duration": 7,
    "start_time": "2022-02-19T19:21:04.805Z"
   },
   {
    "duration": 16,
    "start_time": "2022-02-19T19:21:04.846Z"
   },
   {
    "duration": 8,
    "start_time": "2022-02-19T19:21:04.866Z"
   },
   {
    "duration": 4,
    "start_time": "2022-02-19T19:21:04.876Z"
   },
   {
    "duration": 7,
    "start_time": "2022-02-19T19:21:04.881Z"
   },
   {
    "duration": 10,
    "start_time": "2022-02-19T19:21:04.890Z"
   },
   {
    "duration": 8,
    "start_time": "2022-02-19T19:21:04.902Z"
   },
   {
    "duration": 5,
    "start_time": "2022-02-19T19:21:04.912Z"
   },
   {
    "duration": 29,
    "start_time": "2022-02-19T19:21:04.918Z"
   },
   {
    "duration": 6,
    "start_time": "2022-02-19T19:21:04.949Z"
   },
   {
    "duration": 4,
    "start_time": "2022-02-19T19:21:04.956Z"
   },
   {
    "duration": 6,
    "start_time": "2022-02-19T19:21:04.962Z"
   },
   {
    "duration": 4,
    "start_time": "2022-02-19T19:21:04.970Z"
   },
   {
    "duration": 6,
    "start_time": "2022-02-19T19:21:04.975Z"
   },
   {
    "duration": 5,
    "start_time": "2022-02-19T19:21:04.982Z"
   },
   {
    "duration": 5,
    "start_time": "2022-02-19T19:21:04.989Z"
   },
   {
    "duration": 4,
    "start_time": "2022-02-19T19:21:04.995Z"
   },
   {
    "duration": 6,
    "start_time": "2022-02-19T19:21:05.001Z"
   },
   {
    "duration": 39,
    "start_time": "2022-02-19T19:21:05.009Z"
   },
   {
    "duration": 7,
    "start_time": "2022-02-19T19:21:05.050Z"
   },
   {
    "duration": 2214,
    "start_time": "2022-02-19T19:21:05.058Z"
   },
   {
    "duration": 328,
    "start_time": "2022-02-19T19:21:07.274Z"
   },
   {
    "duration": 1112,
    "start_time": "2022-02-19T19:21:07.604Z"
   },
   {
    "duration": 331,
    "start_time": "2022-02-19T19:21:08.718Z"
   },
   {
    "duration": 725,
    "start_time": "2022-02-19T19:21:09.051Z"
   },
   {
    "duration": 335,
    "start_time": "2022-02-19T19:21:09.778Z"
   },
   {
    "duration": 339,
    "start_time": "2022-02-19T19:21:10.114Z"
   },
   {
    "duration": 336,
    "start_time": "2022-02-19T19:21:10.454Z"
   },
   {
    "duration": 6,
    "start_time": "2022-02-19T19:21:10.792Z"
   },
   {
    "duration": 5,
    "start_time": "2022-02-19T19:21:10.799Z"
   },
   {
    "duration": 11,
    "start_time": "2022-02-19T19:21:10.806Z"
   },
   {
    "duration": 11,
    "start_time": "2022-02-19T19:21:10.819Z"
   },
   {
    "duration": 12,
    "start_time": "2022-02-19T19:21:10.846Z"
   },
   {
    "duration": 413,
    "start_time": "2022-02-19T19:21:10.859Z"
   },
   {
    "duration": 216,
    "start_time": "2022-02-19T19:21:11.274Z"
   },
   {
    "duration": 12,
    "start_time": "2022-02-19T19:21:11.491Z"
   },
   {
    "duration": 403,
    "start_time": "2022-02-19T19:21:11.504Z"
   },
   {
    "duration": 230,
    "start_time": "2022-02-19T19:21:11.909Z"
   },
   {
    "duration": 13,
    "start_time": "2022-02-19T19:21:12.141Z"
   },
   {
    "duration": 409,
    "start_time": "2022-02-19T19:21:12.156Z"
   },
   {
    "duration": 246,
    "start_time": "2022-02-19T19:21:12.566Z"
   },
   {
    "duration": 33,
    "start_time": "2022-02-19T19:21:12.814Z"
   },
   {
    "duration": 42,
    "start_time": "2022-02-19T19:21:12.849Z"
   },
   {
    "duration": 24,
    "start_time": "2022-02-19T19:21:12.893Z"
   },
   {
    "duration": 47,
    "start_time": "2022-02-19T19:21:12.918Z"
   },
   {
    "duration": 3,
    "start_time": "2022-02-19T19:21:12.974Z"
   },
   {
    "duration": 7,
    "start_time": "2022-02-19T19:21:12.978Z"
   },
   {
    "duration": 2,
    "start_time": "2022-02-19T19:21:12.990Z"
   },
   {
    "duration": 24,
    "start_time": "2022-02-19T19:21:12.994Z"
   },
   {
    "duration": 47,
    "start_time": "2022-02-19T19:21:13.019Z"
   },
   {
    "duration": 3,
    "start_time": "2022-02-19T19:21:13.068Z"
   },
   {
    "duration": 67,
    "start_time": "2022-02-19T19:21:13.072Z"
   },
   {
    "duration": 23,
    "start_time": "2022-02-19T19:21:13.145Z"
   },
   {
    "duration": 24,
    "start_time": "2022-02-19T19:21:13.170Z"
   },
   {
    "duration": 6,
    "start_time": "2022-02-19T19:21:13.196Z"
   },
   {
    "duration": 4,
    "start_time": "2022-02-19T19:21:13.204Z"
   },
   {
    "duration": 8,
    "start_time": "2022-02-19T19:21:13.209Z"
   },
   {
    "duration": 29,
    "start_time": "2022-02-19T19:21:13.218Z"
   },
   {
    "duration": 3,
    "start_time": "2022-02-19T19:21:13.248Z"
   },
   {
    "duration": 6193,
    "start_time": "2022-02-19T19:21:13.252Z"
   },
   {
    "duration": 103,
    "start_time": "2022-02-19T19:21:19.448Z"
   },
   {
    "duration": 196,
    "start_time": "2022-02-19T19:21:19.553Z"
   },
   {
    "duration": 4,
    "start_time": "2022-02-19T19:21:19.751Z"
   },
   {
    "duration": 6,
    "start_time": "2022-02-19T19:21:19.756Z"
   },
   {
    "duration": 7,
    "start_time": "2022-02-19T19:21:19.763Z"
   },
   {
    "duration": 1076,
    "start_time": "2022-02-19T19:21:19.772Z"
   },
   {
    "duration": -240,
    "start_time": "2022-02-19T19:21:21.090Z"
   },
   {
    "duration": -245,
    "start_time": "2022-02-19T19:21:21.096Z"
   },
   {
    "duration": -248,
    "start_time": "2022-02-19T19:21:21.100Z"
   },
   {
    "duration": -251,
    "start_time": "2022-02-19T19:21:21.104Z"
   },
   {
    "duration": -254,
    "start_time": "2022-02-19T19:21:21.108Z"
   },
   {
    "duration": -258,
    "start_time": "2022-02-19T19:21:21.113Z"
   },
   {
    "duration": -262,
    "start_time": "2022-02-19T19:21:21.117Z"
   },
   {
    "duration": -267,
    "start_time": "2022-02-19T19:21:21.123Z"
   },
   {
    "duration": -270,
    "start_time": "2022-02-19T19:21:21.127Z"
   },
   {
    "duration": -274,
    "start_time": "2022-02-19T19:21:21.132Z"
   },
   {
    "duration": -277,
    "start_time": "2022-02-19T19:21:21.136Z"
   },
   {
    "duration": -281,
    "start_time": "2022-02-19T19:21:21.141Z"
   },
   {
    "duration": 3,
    "start_time": "2022-02-19T19:24:38.048Z"
   },
   {
    "duration": 106,
    "start_time": "2022-02-19T19:24:38.635Z"
   },
   {
    "duration": 3,
    "start_time": "2022-02-19T19:24:51.141Z"
   },
   {
    "duration": 3,
    "start_time": "2022-02-19T19:24:59.668Z"
   },
   {
    "duration": 51574,
    "start_time": "2022-02-19T19:25:04.774Z"
   },
   {
    "duration": 21008,
    "start_time": "2022-02-19T19:28:43.975Z"
   },
   {
    "duration": 3526,
    "start_time": "2022-02-19T19:29:04.985Z"
   },
   {
    "duration": 1233,
    "start_time": "2022-02-19T19:29:08.513Z"
   },
   {
    "duration": 5401,
    "start_time": "2022-02-19T19:31:24.540Z"
   },
   {
    "duration": 337,
    "start_time": "2022-02-19T19:38:22.949Z"
   },
   {
    "duration": 39,
    "start_time": "2022-02-19T19:39:28.915Z"
   },
   {
    "duration": 51334,
    "start_time": "2022-02-19T19:39:36.227Z"
   },
   {
    "duration": 23148,
    "start_time": "2022-02-19T19:41:47.727Z"
   },
   {
    "duration": 51818,
    "start_time": "2022-02-19T19:47:28.238Z"
   },
   {
    "duration": 24112,
    "start_time": "2022-02-19T19:49:45.065Z"
   },
   {
    "duration": 22857,
    "start_time": "2022-02-19T19:50:33.013Z"
   },
   {
    "duration": 5020,
    "start_time": "2022-02-19T20:16:16.779Z"
   },
   {
    "duration": 10661,
    "start_time": "2022-02-19T20:17:15.958Z"
   },
   {
    "duration": 11120,
    "start_time": "2022-02-19T20:18:20.872Z"
   },
   {
    "duration": 1484,
    "start_time": "2022-02-19T20:19:02.157Z"
   },
   {
    "duration": 5,
    "start_time": "2022-02-19T20:19:03.643Z"
   },
   {
    "duration": 7,
    "start_time": "2022-02-19T20:19:03.650Z"
   },
   {
    "duration": 668,
    "start_time": "2022-02-19T20:19:03.659Z"
   },
   {
    "duration": 28,
    "start_time": "2022-02-19T20:19:04.329Z"
   },
   {
    "duration": 14,
    "start_time": "2022-02-19T20:19:04.359Z"
   },
   {
    "duration": 2,
    "start_time": "2022-02-19T20:19:04.375Z"
   },
   {
    "duration": 17,
    "start_time": "2022-02-19T20:19:04.380Z"
   },
   {
    "duration": 22,
    "start_time": "2022-02-19T20:19:04.399Z"
   },
   {
    "duration": 30,
    "start_time": "2022-02-19T20:19:04.423Z"
   },
   {
    "duration": 2,
    "start_time": "2022-02-19T20:19:04.454Z"
   },
   {
    "duration": 16,
    "start_time": "2022-02-19T20:19:04.457Z"
   },
   {
    "duration": 24,
    "start_time": "2022-02-19T20:19:04.474Z"
   },
   {
    "duration": 14,
    "start_time": "2022-02-19T20:19:04.499Z"
   },
   {
    "duration": 2,
    "start_time": "2022-02-19T20:19:04.515Z"
   },
   {
    "duration": 39,
    "start_time": "2022-02-19T20:19:04.518Z"
   },
   {
    "duration": 4,
    "start_time": "2022-02-19T20:19:04.559Z"
   },
   {
    "duration": 10,
    "start_time": "2022-02-19T20:19:04.565Z"
   },
   {
    "duration": 6,
    "start_time": "2022-02-19T20:19:04.577Z"
   },
   {
    "duration": 11,
    "start_time": "2022-02-19T20:19:04.584Z"
   },
   {
    "duration": 10,
    "start_time": "2022-02-19T20:19:04.597Z"
   },
   {
    "duration": 17,
    "start_time": "2022-02-19T20:19:04.608Z"
   },
   {
    "duration": 17,
    "start_time": "2022-02-19T20:19:04.630Z"
   },
   {
    "duration": 4,
    "start_time": "2022-02-19T20:19:04.650Z"
   },
   {
    "duration": 9,
    "start_time": "2022-02-19T20:19:04.655Z"
   },
   {
    "duration": 13,
    "start_time": "2022-02-19T20:19:04.666Z"
   },
   {
    "duration": 9,
    "start_time": "2022-02-19T20:19:04.681Z"
   },
   {
    "duration": 6,
    "start_time": "2022-02-19T20:19:04.691Z"
   },
   {
    "duration": 4,
    "start_time": "2022-02-19T20:19:04.698Z"
   },
   {
    "duration": 13,
    "start_time": "2022-02-19T20:19:04.703Z"
   },
   {
    "duration": 3,
    "start_time": "2022-02-19T20:19:04.746Z"
   },
   {
    "duration": 11,
    "start_time": "2022-02-19T20:19:04.750Z"
   },
   {
    "duration": 5,
    "start_time": "2022-02-19T20:19:04.763Z"
   },
   {
    "duration": 6,
    "start_time": "2022-02-19T20:19:04.769Z"
   },
   {
    "duration": 7,
    "start_time": "2022-02-19T20:19:04.776Z"
   },
   {
    "duration": 9,
    "start_time": "2022-02-19T20:19:04.784Z"
   },
   {
    "duration": 8,
    "start_time": "2022-02-19T20:19:04.795Z"
   },
   {
    "duration": 8,
    "start_time": "2022-02-19T20:19:04.805Z"
   },
   {
    "duration": 33,
    "start_time": "2022-02-19T20:19:04.815Z"
   },
   {
    "duration": 10,
    "start_time": "2022-02-19T20:19:04.849Z"
   },
   {
    "duration": 2359,
    "start_time": "2022-02-19T20:19:04.861Z"
   },
   {
    "duration": 343,
    "start_time": "2022-02-19T20:19:07.222Z"
   },
   {
    "duration": 835,
    "start_time": "2022-02-19T20:19:07.567Z"
   },
   {
    "duration": 516,
    "start_time": "2022-02-19T20:19:08.404Z"
   },
   {
    "duration": 742,
    "start_time": "2022-02-19T20:19:08.922Z"
   },
   {
    "duration": 332,
    "start_time": "2022-02-19T20:19:09.666Z"
   },
   {
    "duration": 327,
    "start_time": "2022-02-19T20:19:09.999Z"
   },
   {
    "duration": 342,
    "start_time": "2022-02-19T20:19:10.328Z"
   },
   {
    "duration": 5,
    "start_time": "2022-02-19T20:19:10.672Z"
   },
   {
    "duration": 5,
    "start_time": "2022-02-19T20:19:10.678Z"
   },
   {
    "duration": 6,
    "start_time": "2022-02-19T20:19:10.684Z"
   },
   {
    "duration": 9,
    "start_time": "2022-02-19T20:19:10.692Z"
   },
   {
    "duration": 12,
    "start_time": "2022-02-19T20:19:10.703Z"
   },
   {
    "duration": 1151,
    "start_time": "2022-02-19T20:19:10.746Z"
   },
   {
    "duration": 370,
    "start_time": "2022-02-19T20:19:11.900Z"
   },
   {
    "duration": 13,
    "start_time": "2022-02-19T20:19:12.272Z"
   },
   {
    "duration": 420,
    "start_time": "2022-02-19T20:19:12.286Z"
   },
   {
    "duration": 238,
    "start_time": "2022-02-19T20:19:12.708Z"
   },
   {
    "duration": 12,
    "start_time": "2022-02-19T20:19:12.947Z"
   },
   {
    "duration": 446,
    "start_time": "2022-02-19T20:19:12.960Z"
   },
   {
    "duration": 279,
    "start_time": "2022-02-19T20:19:13.408Z"
   },
   {
    "duration": 35,
    "start_time": "2022-02-19T20:19:13.688Z"
   },
   {
    "duration": 65,
    "start_time": "2022-02-19T20:19:13.725Z"
   },
   {
    "duration": 26,
    "start_time": "2022-02-19T20:19:13.792Z"
   },
   {
    "duration": 51,
    "start_time": "2022-02-19T20:19:13.820Z"
   },
   {
    "duration": 4,
    "start_time": "2022-02-19T20:19:13.874Z"
   },
   {
    "duration": 6,
    "start_time": "2022-02-19T20:19:13.880Z"
   },
   {
    "duration": 6,
    "start_time": "2022-02-19T20:19:13.891Z"
   },
   {
    "duration": 28,
    "start_time": "2022-02-19T20:19:13.899Z"
   },
   {
    "duration": 48,
    "start_time": "2022-02-19T20:19:13.928Z"
   },
   {
    "duration": 6,
    "start_time": "2022-02-19T20:19:13.979Z"
   },
   {
    "duration": 97,
    "start_time": "2022-02-19T20:19:13.987Z"
   },
   {
    "duration": 35,
    "start_time": "2022-02-19T20:19:14.086Z"
   },
   {
    "duration": 59,
    "start_time": "2022-02-19T20:19:14.123Z"
   },
   {
    "duration": 9,
    "start_time": "2022-02-19T20:19:14.185Z"
   },
   {
    "duration": 6,
    "start_time": "2022-02-19T20:19:14.196Z"
   },
   {
    "duration": 5,
    "start_time": "2022-02-19T20:19:14.204Z"
   },
   {
    "duration": 7,
    "start_time": "2022-02-19T20:19:14.211Z"
   },
   {
    "duration": 58632,
    "start_time": "2022-02-19T20:19:14.219Z"
   },
   {
    "duration": 10844,
    "start_time": "2022-02-19T20:20:12.853Z"
   },
   {
    "duration": 3356,
    "start_time": "2022-02-19T20:20:23.699Z"
   },
   {
    "duration": -243,
    "start_time": "2022-02-19T20:20:27.300Z"
   },
   {
    "duration": -246,
    "start_time": "2022-02-19T20:20:27.304Z"
   },
   {
    "duration": 106,
    "start_time": "2022-02-19T20:23:05.910Z"
   },
   {
    "duration": 115,
    "start_time": "2022-02-19T20:24:12.846Z"
   },
   {
    "duration": 115,
    "start_time": "2022-02-19T20:27:34.396Z"
   },
   {
    "duration": 5,
    "start_time": "2022-02-19T20:33:57.124Z"
   },
   {
    "duration": 7,
    "start_time": "2022-02-19T20:33:57.130Z"
   },
   {
    "duration": 676,
    "start_time": "2022-02-19T20:33:57.140Z"
   },
   {
    "duration": 33,
    "start_time": "2022-02-19T20:33:57.818Z"
   },
   {
    "duration": 15,
    "start_time": "2022-02-19T20:33:57.853Z"
   },
   {
    "duration": 2,
    "start_time": "2022-02-19T20:33:57.870Z"
   },
   {
    "duration": 14,
    "start_time": "2022-02-19T20:33:57.874Z"
   },
   {
    "duration": 22,
    "start_time": "2022-02-19T20:33:57.891Z"
   },
   {
    "duration": 38,
    "start_time": "2022-02-19T20:33:57.916Z"
   },
   {
    "duration": 2,
    "start_time": "2022-02-19T20:33:57.956Z"
   },
   {
    "duration": 9,
    "start_time": "2022-02-19T20:33:57.960Z"
   },
   {
    "duration": 25,
    "start_time": "2022-02-19T20:33:57.970Z"
   },
   {
    "duration": 16,
    "start_time": "2022-02-19T20:33:57.997Z"
   },
   {
    "duration": 32,
    "start_time": "2022-02-19T20:33:58.014Z"
   },
   {
    "duration": 13,
    "start_time": "2022-02-19T20:33:58.048Z"
   },
   {
    "duration": 5,
    "start_time": "2022-02-19T20:33:58.062Z"
   },
   {
    "duration": 9,
    "start_time": "2022-02-19T20:33:58.068Z"
   },
   {
    "duration": 6,
    "start_time": "2022-02-19T20:33:58.078Z"
   },
   {
    "duration": 7,
    "start_time": "2022-02-19T20:33:58.085Z"
   },
   {
    "duration": 7,
    "start_time": "2022-02-19T20:33:58.093Z"
   },
   {
    "duration": 16,
    "start_time": "2022-02-19T20:33:58.101Z"
   },
   {
    "duration": 32,
    "start_time": "2022-02-19T20:33:58.119Z"
   },
   {
    "duration": 4,
    "start_time": "2022-02-19T20:33:58.155Z"
   },
   {
    "duration": 6,
    "start_time": "2022-02-19T20:33:58.162Z"
   },
   {
    "duration": 14,
    "start_time": "2022-02-19T20:33:58.170Z"
   },
   {
    "duration": 10,
    "start_time": "2022-02-19T20:33:58.185Z"
   },
   {
    "duration": 7,
    "start_time": "2022-02-19T20:33:58.197Z"
   },
   {
    "duration": 42,
    "start_time": "2022-02-19T20:33:58.205Z"
   },
   {
    "duration": 3,
    "start_time": "2022-02-19T20:33:58.249Z"
   },
   {
    "duration": 4,
    "start_time": "2022-02-19T20:33:58.254Z"
   },
   {
    "duration": 6,
    "start_time": "2022-02-19T20:33:58.260Z"
   },
   {
    "duration": 4,
    "start_time": "2022-02-19T20:33:58.268Z"
   },
   {
    "duration": 7,
    "start_time": "2022-02-19T20:33:58.274Z"
   },
   {
    "duration": 5,
    "start_time": "2022-02-19T20:33:58.282Z"
   },
   {
    "duration": 5,
    "start_time": "2022-02-19T20:33:58.289Z"
   },
   {
    "duration": 4,
    "start_time": "2022-02-19T20:33:58.295Z"
   },
   {
    "duration": 9,
    "start_time": "2022-02-19T20:33:58.300Z"
   },
   {
    "duration": 7,
    "start_time": "2022-02-19T20:33:58.347Z"
   },
   {
    "duration": 12,
    "start_time": "2022-02-19T20:33:58.356Z"
   },
   {
    "duration": 2178,
    "start_time": "2022-02-19T20:33:58.369Z"
   },
   {
    "duration": 345,
    "start_time": "2022-02-19T20:34:00.548Z"
   },
   {
    "duration": 859,
    "start_time": "2022-02-19T20:34:00.895Z"
   },
   {
    "duration": 352,
    "start_time": "2022-02-19T20:34:01.755Z"
   },
   {
    "duration": 1066,
    "start_time": "2022-02-19T20:34:02.109Z"
   },
   {
    "duration": 340,
    "start_time": "2022-02-19T20:34:03.176Z"
   },
   {
    "duration": 330,
    "start_time": "2022-02-19T20:34:03.518Z"
   },
   {
    "duration": 333,
    "start_time": "2022-02-19T20:34:03.850Z"
   },
   {
    "duration": 5,
    "start_time": "2022-02-19T20:34:04.185Z"
   },
   {
    "duration": 26,
    "start_time": "2022-02-19T20:34:04.191Z"
   },
   {
    "duration": 42,
    "start_time": "2022-02-19T20:34:04.218Z"
   },
   {
    "duration": 12,
    "start_time": "2022-02-19T20:34:04.262Z"
   },
   {
    "duration": 15,
    "start_time": "2022-02-19T20:34:04.276Z"
   },
   {
    "duration": 412,
    "start_time": "2022-02-19T20:34:04.293Z"
   },
   {
    "duration": 217,
    "start_time": "2022-02-19T20:34:04.706Z"
   },
   {
    "duration": 23,
    "start_time": "2022-02-19T20:34:04.924Z"
   },
   {
    "duration": 402,
    "start_time": "2022-02-19T20:34:04.948Z"
   },
   {
    "duration": 236,
    "start_time": "2022-02-19T20:34:05.352Z"
   },
   {
    "duration": 12,
    "start_time": "2022-02-19T20:34:05.590Z"
   },
   {
    "duration": 417,
    "start_time": "2022-02-19T20:34:05.604Z"
   },
   {
    "duration": 247,
    "start_time": "2022-02-19T20:34:06.022Z"
   },
   {
    "duration": 31,
    "start_time": "2022-02-19T20:34:06.270Z"
   },
   {
    "duration": 58,
    "start_time": "2022-02-19T20:34:06.303Z"
   },
   {
    "duration": 23,
    "start_time": "2022-02-19T20:34:06.363Z"
   },
   {
    "duration": 28,
    "start_time": "2022-02-19T20:34:06.388Z"
   },
   {
    "duration": 3,
    "start_time": "2022-02-19T20:34:06.417Z"
   },
   {
    "duration": 25,
    "start_time": "2022-02-19T20:34:06.422Z"
   },
   {
    "duration": 25,
    "start_time": "2022-02-19T20:34:06.448Z"
   },
   {
    "duration": 27,
    "start_time": "2022-02-19T20:34:06.478Z"
   },
   {
    "duration": 4,
    "start_time": "2022-02-19T20:34:06.507Z"
   },
   {
    "duration": 77,
    "start_time": "2022-02-19T20:34:06.512Z"
   },
   {
    "duration": 23,
    "start_time": "2022-02-19T20:34:06.591Z"
   },
   {
    "duration": 49,
    "start_time": "2022-02-19T20:34:06.615Z"
   },
   {
    "duration": 6,
    "start_time": "2022-02-19T20:34:06.666Z"
   },
   {
    "duration": 14,
    "start_time": "2022-02-19T20:34:06.674Z"
   },
   {
    "duration": 8,
    "start_time": "2022-02-19T20:34:06.690Z"
   },
   {
    "duration": 6,
    "start_time": "2022-02-19T20:34:06.699Z"
   },
   {
    "duration": 50767,
    "start_time": "2022-02-19T20:34:06.707Z"
   },
   {
    "duration": 10836,
    "start_time": "2022-02-19T20:34:57.476Z"
   },
   {
    "duration": 1544,
    "start_time": "2022-03-10T22:29:14.055Z"
   },
   {
    "duration": 3,
    "start_time": "2022-03-10T22:29:15.601Z"
   },
   {
    "duration": 873,
    "start_time": "2022-03-10T22:29:15.607Z"
   },
   {
    "duration": 35,
    "start_time": "2022-03-10T22:29:16.483Z"
   },
   {
    "duration": 45,
    "start_time": "2022-03-10T22:29:16.521Z"
   },
   {
    "duration": 30,
    "start_time": "2022-03-10T22:29:16.569Z"
   },
   {
    "duration": 15,
    "start_time": "2022-03-10T22:29:16.602Z"
   },
   {
    "duration": 58,
    "start_time": "2022-03-10T22:29:16.621Z"
   },
   {
    "duration": 24,
    "start_time": "2022-03-10T22:29:16.682Z"
   },
   {
    "duration": 11,
    "start_time": "2022-03-10T22:29:16.708Z"
   },
   {
    "duration": 33,
    "start_time": "2022-03-10T22:29:16.721Z"
   },
   {
    "duration": 5,
    "start_time": "2022-03-10T22:29:16.756Z"
   },
   {
    "duration": 9,
    "start_time": "2022-03-10T22:29:16.764Z"
   },
   {
    "duration": 7,
    "start_time": "2022-03-10T22:29:16.775Z"
   },
   {
    "duration": 21,
    "start_time": "2022-03-10T22:29:16.784Z"
   },
   {
    "duration": 52,
    "start_time": "2022-03-10T22:29:16.807Z"
   },
   {
    "duration": 6,
    "start_time": "2022-03-10T22:29:16.861Z"
   },
   {
    "duration": 9,
    "start_time": "2022-03-10T22:29:16.869Z"
   },
   {
    "duration": 15,
    "start_time": "2022-03-10T22:29:16.880Z"
   },
   {
    "duration": 58,
    "start_time": "2022-03-10T22:29:16.897Z"
   },
   {
    "duration": 8,
    "start_time": "2022-03-10T22:29:16.957Z"
   },
   {
    "duration": 7,
    "start_time": "2022-03-10T22:29:16.967Z"
   },
   {
    "duration": 5,
    "start_time": "2022-03-10T22:29:16.980Z"
   },
   {
    "duration": 5,
    "start_time": "2022-03-10T22:29:16.989Z"
   },
   {
    "duration": 5,
    "start_time": "2022-03-10T22:29:16.997Z"
   },
   {
    "duration": 5,
    "start_time": "2022-03-10T22:29:17.051Z"
   },
   {
    "duration": 6,
    "start_time": "2022-03-10T22:29:17.059Z"
   },
   {
    "duration": 6,
    "start_time": "2022-03-10T22:29:17.067Z"
   },
   {
    "duration": 8,
    "start_time": "2022-03-10T22:29:17.075Z"
   },
   {
    "duration": 6,
    "start_time": "2022-03-10T22:29:17.085Z"
   },
   {
    "duration": 58,
    "start_time": "2022-03-10T22:29:17.093Z"
   },
   {
    "duration": 6,
    "start_time": "2022-03-10T22:29:17.154Z"
   },
   {
    "duration": 10,
    "start_time": "2022-03-10T22:29:17.163Z"
   },
   {
    "duration": 5085,
    "start_time": "2022-03-10T22:29:17.176Z"
   },
   {
    "duration": 5,
    "start_time": "2022-03-10T22:29:22.264Z"
   },
   {
    "duration": 451,
    "start_time": "2022-03-10T22:29:22.271Z"
   },
   {
    "duration": 1985,
    "start_time": "2022-03-10T22:29:22.724Z"
   },
   {
    "duration": 4,
    "start_time": "2022-03-10T22:29:24.712Z"
   },
   {
    "duration": 435,
    "start_time": "2022-03-10T22:29:24.719Z"
   },
   {
    "duration": 1149,
    "start_time": "2022-03-10T22:29:25.157Z"
   },
   {
    "duration": 5,
    "start_time": "2022-03-10T22:29:26.309Z"
   },
   {
    "duration": 444,
    "start_time": "2022-03-10T22:29:26.316Z"
   },
   {
    "duration": 561,
    "start_time": "2022-03-10T22:29:26.763Z"
   },
   {
    "duration": 5,
    "start_time": "2022-03-10T22:29:27.326Z"
   },
   {
    "duration": 439,
    "start_time": "2022-03-10T22:29:27.333Z"
   },
   {
    "duration": 7,
    "start_time": "2022-03-10T22:29:27.774Z"
   },
   {
    "duration": 7,
    "start_time": "2022-03-10T22:29:27.783Z"
   },
   {
    "duration": 10,
    "start_time": "2022-03-10T22:29:27.792Z"
   },
   {
    "duration": 14,
    "start_time": "2022-03-10T22:29:27.804Z"
   },
   {
    "duration": 40,
    "start_time": "2022-03-10T22:29:27.820Z"
   },
   {
    "duration": 8,
    "start_time": "2022-03-10T22:29:27.862Z"
   },
   {
    "duration": 565,
    "start_time": "2022-03-10T22:29:27.873Z"
   },
   {
    "duration": 251,
    "start_time": "2022-03-10T22:29:28.440Z"
   },
   {
    "duration": 17,
    "start_time": "2022-03-10T22:29:28.694Z"
   },
   {
    "duration": 6,
    "start_time": "2022-03-10T22:29:28.713Z"
   },
   {
    "duration": 847,
    "start_time": "2022-03-10T22:29:28.722Z"
   },
   {
    "duration": 390,
    "start_time": "2022-03-10T22:29:29.572Z"
   },
   {
    "duration": 14,
    "start_time": "2022-03-10T22:29:29.964Z"
   },
   {
    "duration": 7,
    "start_time": "2022-03-10T22:29:29.980Z"
   },
   {
    "duration": 729,
    "start_time": "2022-03-10T22:29:29.989Z"
   },
   {
    "duration": 420,
    "start_time": "2022-03-10T22:29:30.721Z"
   },
   {
    "duration": 40,
    "start_time": "2022-03-10T22:29:31.151Z"
   },
   {
    "duration": 6,
    "start_time": "2022-03-10T22:29:31.193Z"
   },
   {
    "duration": 90,
    "start_time": "2022-03-10T22:29:31.201Z"
   },
   {
    "duration": 5,
    "start_time": "2022-03-10T22:29:31.294Z"
   },
   {
    "duration": 52,
    "start_time": "2022-03-10T22:29:31.301Z"
   },
   {
    "duration": 5,
    "start_time": "2022-03-10T22:29:31.355Z"
   },
   {
    "duration": 42,
    "start_time": "2022-03-10T22:29:31.368Z"
   },
   {
    "duration": 5,
    "start_time": "2022-03-10T22:29:31.413Z"
   },
   {
    "duration": 4,
    "start_time": "2022-03-10T22:29:31.452Z"
   },
   {
    "duration": 7,
    "start_time": "2022-03-10T22:29:31.459Z"
   },
   {
    "duration": 57,
    "start_time": "2022-03-10T22:29:31.468Z"
   },
   {
    "duration": 52,
    "start_time": "2022-03-10T22:29:31.528Z"
   },
   {
    "duration": 5,
    "start_time": "2022-03-10T22:29:31.583Z"
   },
   {
    "duration": 98,
    "start_time": "2022-03-10T22:29:31.590Z"
   },
   {
    "duration": 37,
    "start_time": "2022-03-10T22:29:31.691Z"
   },
   {
    "duration": 47,
    "start_time": "2022-03-10T22:29:31.730Z"
   },
   {
    "duration": 5,
    "start_time": "2022-03-10T22:29:31.779Z"
   },
   {
    "duration": 11,
    "start_time": "2022-03-10T22:29:31.786Z"
   },
   {
    "duration": 5,
    "start_time": "2022-03-10T22:29:31.799Z"
   },
   {
    "duration": 46,
    "start_time": "2022-03-10T22:29:31.807Z"
   },
   {
    "duration": 7,
    "start_time": "2022-03-10T22:29:31.855Z"
   },
   {
    "duration": 68086,
    "start_time": "2022-03-10T22:29:31.865Z"
   },
   {
    "duration": 13584,
    "start_time": "2022-03-10T22:30:39.953Z"
   }
  ],
  "kernelspec": {
   "display_name": "Python 3",
   "language": "python",
   "name": "python3"
  },
  "language_info": {
   "codemirror_mode": {
    "name": "ipython",
    "version": 3
   },
   "file_extension": ".py",
   "mimetype": "text/x-python",
   "name": "python",
   "nbconvert_exporter": "python",
   "pygments_lexer": "ipython3",
   "version": "3.7.8"
  },
  "toc": {
   "base_numbering": 1,
   "nav_menu": {},
   "number_sections": true,
   "sideBar": true,
   "skip_h1_title": true,
   "title_cell": "Содержание",
   "title_sidebar": "Contents",
   "toc_cell": true,
   "toc_position": {
    "height": "calc(100% - 180px)",
    "left": "10px",
    "top": "150px",
    "width": "409.047px"
   },
   "toc_section_display": true,
   "toc_window_display": true
  }
 },
 "nbformat": 4,
 "nbformat_minor": 2
}
