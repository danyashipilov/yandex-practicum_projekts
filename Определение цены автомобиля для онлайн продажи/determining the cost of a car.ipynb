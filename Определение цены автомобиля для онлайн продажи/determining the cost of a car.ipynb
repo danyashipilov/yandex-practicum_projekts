{
 "cells": [
  {
   "cell_type": "markdown",
   "metadata": {},
   "source": [
    "# Определение стоимости автомобилей"
   ]
  },
  {
   "cell_type": "markdown",
   "metadata": {},
   "source": [
    "## Подготовка данных"
   ]
  },
  {
   "cell_type": "markdown",
   "metadata": {},
   "source": [
    "Импортируем библиотеки"
   ]
  },
  {
   "cell_type": "code",
   "execution_count": 1,
   "metadata": {},
   "outputs": [],
   "source": [
    "import pandas as pd\n",
    "import numpy as np\n",
    "import matplotlib.pyplot as plt\n",
    "from sklearn.model_selection import train_test_split\n",
    "from catboost import CatBoostRegressor\n",
    "from sklearn.metrics import roc_auc_score\n",
    "from sklearn.linear_model import LogisticRegression\n",
    "from sklearn.linear_model import LinearRegression\n",
    "from sklearn.tree import DecisionTreeRegressor\n",
    "from sklearn.ensemble import RandomForestRegressor\n",
    "from sklearn.preprocessing import OrdinalEncoder \n",
    "from sklearn.metrics import accuracy_score\n",
    "from sklearn.metrics import mean_squared_error\n",
    "from sklearn.metrics import fbeta_score, make_scorer\n",
    "from sklearn.model_selection import GridSearchCV\n",
    "from lightgbm import LGBMRegressor\n",
    "import time"
   ]
  },
  {
   "cell_type": "code",
   "execution_count": 2,
   "metadata": {},
   "outputs": [],
   "source": [
    "import warnings\n",
    "warnings.filterwarnings(\"ignore\")"
   ]
  },
  {
   "cell_type": "code",
   "execution_count": 3,
   "metadata": {},
   "outputs": [
    {
     "name": "stdout",
     "output_type": "stream",
     "text": [
      "<class 'pandas.core.frame.DataFrame'>\n",
      "RangeIndex: 354369 entries, 0 to 354368\n",
      "Data columns (total 16 columns):\n",
      " #   Column             Non-Null Count   Dtype \n",
      "---  ------             --------------   ----- \n",
      " 0   DateCrawled        354369 non-null  object\n",
      " 1   Price              354369 non-null  int64 \n",
      " 2   VehicleType        316879 non-null  object\n",
      " 3   RegistrationYear   354369 non-null  int64 \n",
      " 4   Gearbox            334536 non-null  object\n",
      " 5   Power              354369 non-null  int64 \n",
      " 6   Model              334664 non-null  object\n",
      " 7   Kilometer          354369 non-null  int64 \n",
      " 8   RegistrationMonth  354369 non-null  int64 \n",
      " 9   FuelType           321474 non-null  object\n",
      " 10  Brand              354369 non-null  object\n",
      " 11  NotRepaired        283215 non-null  object\n",
      " 12  DateCreated        354369 non-null  object\n",
      " 13  NumberOfPictures   354369 non-null  int64 \n",
      " 14  PostalCode         354369 non-null  int64 \n",
      " 15  LastSeen           354369 non-null  object\n",
      "dtypes: int64(7), object(9)\n",
      "memory usage: 43.3+ MB\n"
     ]
    }
   ],
   "source": [
    "df = pd.read_csv('/datasets/autos.csv')\n",
    "df.info()"
   ]
  },
  {
   "cell_type": "code",
   "execution_count": 4,
   "metadata": {},
   "outputs": [
    {
     "data": {
      "text/html": [
       "<div>\n",
       "<style scoped>\n",
       "    .dataframe tbody tr th:only-of-type {\n",
       "        vertical-align: middle;\n",
       "    }\n",
       "\n",
       "    .dataframe tbody tr th {\n",
       "        vertical-align: top;\n",
       "    }\n",
       "\n",
       "    .dataframe thead th {\n",
       "        text-align: right;\n",
       "    }\n",
       "</style>\n",
       "<table border=\"1\" class=\"dataframe\">\n",
       "  <thead>\n",
       "    <tr style=\"text-align: right;\">\n",
       "      <th></th>\n",
       "      <th>DateCrawled</th>\n",
       "      <th>Price</th>\n",
       "      <th>VehicleType</th>\n",
       "      <th>RegistrationYear</th>\n",
       "      <th>Gearbox</th>\n",
       "      <th>Power</th>\n",
       "      <th>Model</th>\n",
       "      <th>Kilometer</th>\n",
       "      <th>RegistrationMonth</th>\n",
       "      <th>FuelType</th>\n",
       "      <th>Brand</th>\n",
       "      <th>NotRepaired</th>\n",
       "      <th>DateCreated</th>\n",
       "      <th>NumberOfPictures</th>\n",
       "      <th>PostalCode</th>\n",
       "      <th>LastSeen</th>\n",
       "    </tr>\n",
       "  </thead>\n",
       "  <tbody>\n",
       "    <tr>\n",
       "      <th>0</th>\n",
       "      <td>2016-03-24 11:52:17</td>\n",
       "      <td>480</td>\n",
       "      <td>NaN</td>\n",
       "      <td>1993</td>\n",
       "      <td>manual</td>\n",
       "      <td>0</td>\n",
       "      <td>golf</td>\n",
       "      <td>150000</td>\n",
       "      <td>0</td>\n",
       "      <td>petrol</td>\n",
       "      <td>volkswagen</td>\n",
       "      <td>NaN</td>\n",
       "      <td>2016-03-24 00:00:00</td>\n",
       "      <td>0</td>\n",
       "      <td>70435</td>\n",
       "      <td>2016-04-07 03:16:57</td>\n",
       "    </tr>\n",
       "    <tr>\n",
       "      <th>1</th>\n",
       "      <td>2016-03-24 10:58:45</td>\n",
       "      <td>18300</td>\n",
       "      <td>coupe</td>\n",
       "      <td>2011</td>\n",
       "      <td>manual</td>\n",
       "      <td>190</td>\n",
       "      <td>NaN</td>\n",
       "      <td>125000</td>\n",
       "      <td>5</td>\n",
       "      <td>gasoline</td>\n",
       "      <td>audi</td>\n",
       "      <td>yes</td>\n",
       "      <td>2016-03-24 00:00:00</td>\n",
       "      <td>0</td>\n",
       "      <td>66954</td>\n",
       "      <td>2016-04-07 01:46:50</td>\n",
       "    </tr>\n",
       "    <tr>\n",
       "      <th>2</th>\n",
       "      <td>2016-03-14 12:52:21</td>\n",
       "      <td>9800</td>\n",
       "      <td>suv</td>\n",
       "      <td>2004</td>\n",
       "      <td>auto</td>\n",
       "      <td>163</td>\n",
       "      <td>grand</td>\n",
       "      <td>125000</td>\n",
       "      <td>8</td>\n",
       "      <td>gasoline</td>\n",
       "      <td>jeep</td>\n",
       "      <td>NaN</td>\n",
       "      <td>2016-03-14 00:00:00</td>\n",
       "      <td>0</td>\n",
       "      <td>90480</td>\n",
       "      <td>2016-04-05 12:47:46</td>\n",
       "    </tr>\n",
       "    <tr>\n",
       "      <th>3</th>\n",
       "      <td>2016-03-17 16:54:04</td>\n",
       "      <td>1500</td>\n",
       "      <td>small</td>\n",
       "      <td>2001</td>\n",
       "      <td>manual</td>\n",
       "      <td>75</td>\n",
       "      <td>golf</td>\n",
       "      <td>150000</td>\n",
       "      <td>6</td>\n",
       "      <td>petrol</td>\n",
       "      <td>volkswagen</td>\n",
       "      <td>no</td>\n",
       "      <td>2016-03-17 00:00:00</td>\n",
       "      <td>0</td>\n",
       "      <td>91074</td>\n",
       "      <td>2016-03-17 17:40:17</td>\n",
       "    </tr>\n",
       "    <tr>\n",
       "      <th>4</th>\n",
       "      <td>2016-03-31 17:25:20</td>\n",
       "      <td>3600</td>\n",
       "      <td>small</td>\n",
       "      <td>2008</td>\n",
       "      <td>manual</td>\n",
       "      <td>69</td>\n",
       "      <td>fabia</td>\n",
       "      <td>90000</td>\n",
       "      <td>7</td>\n",
       "      <td>gasoline</td>\n",
       "      <td>skoda</td>\n",
       "      <td>no</td>\n",
       "      <td>2016-03-31 00:00:00</td>\n",
       "      <td>0</td>\n",
       "      <td>60437</td>\n",
       "      <td>2016-04-06 10:17:21</td>\n",
       "    </tr>\n",
       "  </tbody>\n",
       "</table>\n",
       "</div>"
      ],
      "text/plain": [
       "           DateCrawled  Price VehicleType  RegistrationYear Gearbox  Power  \\\n",
       "0  2016-03-24 11:52:17    480         NaN              1993  manual      0   \n",
       "1  2016-03-24 10:58:45  18300       coupe              2011  manual    190   \n",
       "2  2016-03-14 12:52:21   9800         suv              2004    auto    163   \n",
       "3  2016-03-17 16:54:04   1500       small              2001  manual     75   \n",
       "4  2016-03-31 17:25:20   3600       small              2008  manual     69   \n",
       "\n",
       "   Model  Kilometer  RegistrationMonth  FuelType       Brand NotRepaired  \\\n",
       "0   golf     150000                  0    petrol  volkswagen         NaN   \n",
       "1    NaN     125000                  5  gasoline        audi         yes   \n",
       "2  grand     125000                  8  gasoline        jeep         NaN   \n",
       "3   golf     150000                  6    petrol  volkswagen          no   \n",
       "4  fabia      90000                  7  gasoline       skoda          no   \n",
       "\n",
       "           DateCreated  NumberOfPictures  PostalCode             LastSeen  \n",
       "0  2016-03-24 00:00:00                 0       70435  2016-04-07 03:16:57  \n",
       "1  2016-03-24 00:00:00                 0       66954  2016-04-07 01:46:50  \n",
       "2  2016-03-14 00:00:00                 0       90480  2016-04-05 12:47:46  \n",
       "3  2016-03-17 00:00:00                 0       91074  2016-03-17 17:40:17  \n",
       "4  2016-03-31 00:00:00                 0       60437  2016-04-06 10:17:21  "
      ]
     },
     "execution_count": 4,
     "metadata": {},
     "output_type": "execute_result"
    }
   ],
   "source": [
    "df.head()"
   ]
  },
  {
   "cell_type": "code",
   "execution_count": 5,
   "metadata": {},
   "outputs": [
    {
     "data": {
      "text/plain": [
       "10772"
      ]
     },
     "execution_count": 5,
     "metadata": {},
     "output_type": "execute_result"
    }
   ],
   "source": [
    "len(df.query(\"Price < 1\"))"
   ]
  },
  {
   "cell_type": "code",
   "execution_count": 6,
   "metadata": {},
   "outputs": [],
   "source": [
    "df = df.query(\"Price > 1\")"
   ]
  },
  {
   "cell_type": "code",
   "execution_count": 7,
   "metadata": {},
   "outputs": [
    {
     "data": {
      "text/html": [
       "<div>\n",
       "<style scoped>\n",
       "    .dataframe tbody tr th:only-of-type {\n",
       "        vertical-align: middle;\n",
       "    }\n",
       "\n",
       "    .dataframe tbody tr th {\n",
       "        vertical-align: top;\n",
       "    }\n",
       "\n",
       "    .dataframe thead th {\n",
       "        text-align: right;\n",
       "    }\n",
       "</style>\n",
       "<table border=\"1\" class=\"dataframe\">\n",
       "  <thead>\n",
       "    <tr style=\"text-align: right;\">\n",
       "      <th></th>\n",
       "      <th>DateCrawled</th>\n",
       "      <th>Price</th>\n",
       "      <th>VehicleType</th>\n",
       "      <th>RegistrationYear</th>\n",
       "      <th>Gearbox</th>\n",
       "      <th>Power</th>\n",
       "      <th>Model</th>\n",
       "      <th>Kilometer</th>\n",
       "      <th>RegistrationMonth</th>\n",
       "      <th>FuelType</th>\n",
       "      <th>Brand</th>\n",
       "      <th>NotRepaired</th>\n",
       "      <th>DateCreated</th>\n",
       "      <th>NumberOfPictures</th>\n",
       "      <th>PostalCode</th>\n",
       "      <th>LastSeen</th>\n",
       "    </tr>\n",
       "  </thead>\n",
       "  <tbody>\n",
       "    <tr>\n",
       "      <th>0</th>\n",
       "      <td>2016-03-24 11:52:17</td>\n",
       "      <td>480</td>\n",
       "      <td>NaN</td>\n",
       "      <td>1993</td>\n",
       "      <td>manual</td>\n",
       "      <td>0</td>\n",
       "      <td>golf</td>\n",
       "      <td>150000</td>\n",
       "      <td>0</td>\n",
       "      <td>petrol</td>\n",
       "      <td>volkswagen</td>\n",
       "      <td>NaN</td>\n",
       "      <td>2016-03-24 00:00:00</td>\n",
       "      <td>0</td>\n",
       "      <td>70435</td>\n",
       "      <td>2016-04-07 03:16:57</td>\n",
       "    </tr>\n",
       "    <tr>\n",
       "      <th>1</th>\n",
       "      <td>2016-03-24 10:58:45</td>\n",
       "      <td>18300</td>\n",
       "      <td>coupe</td>\n",
       "      <td>2011</td>\n",
       "      <td>manual</td>\n",
       "      <td>190</td>\n",
       "      <td>NaN</td>\n",
       "      <td>125000</td>\n",
       "      <td>5</td>\n",
       "      <td>gasoline</td>\n",
       "      <td>audi</td>\n",
       "      <td>yes</td>\n",
       "      <td>2016-03-24 00:00:00</td>\n",
       "      <td>0</td>\n",
       "      <td>66954</td>\n",
       "      <td>2016-04-07 01:46:50</td>\n",
       "    </tr>\n",
       "    <tr>\n",
       "      <th>2</th>\n",
       "      <td>2016-03-14 12:52:21</td>\n",
       "      <td>9800</td>\n",
       "      <td>suv</td>\n",
       "      <td>2004</td>\n",
       "      <td>auto</td>\n",
       "      <td>163</td>\n",
       "      <td>grand</td>\n",
       "      <td>125000</td>\n",
       "      <td>8</td>\n",
       "      <td>gasoline</td>\n",
       "      <td>jeep</td>\n",
       "      <td>NaN</td>\n",
       "      <td>2016-03-14 00:00:00</td>\n",
       "      <td>0</td>\n",
       "      <td>90480</td>\n",
       "      <td>2016-04-05 12:47:46</td>\n",
       "    </tr>\n",
       "    <tr>\n",
       "      <th>3</th>\n",
       "      <td>2016-03-17 16:54:04</td>\n",
       "      <td>1500</td>\n",
       "      <td>small</td>\n",
       "      <td>2001</td>\n",
       "      <td>manual</td>\n",
       "      <td>75</td>\n",
       "      <td>golf</td>\n",
       "      <td>150000</td>\n",
       "      <td>6</td>\n",
       "      <td>petrol</td>\n",
       "      <td>volkswagen</td>\n",
       "      <td>no</td>\n",
       "      <td>2016-03-17 00:00:00</td>\n",
       "      <td>0</td>\n",
       "      <td>91074</td>\n",
       "      <td>2016-03-17 17:40:17</td>\n",
       "    </tr>\n",
       "    <tr>\n",
       "      <th>4</th>\n",
       "      <td>2016-03-31 17:25:20</td>\n",
       "      <td>3600</td>\n",
       "      <td>small</td>\n",
       "      <td>2008</td>\n",
       "      <td>manual</td>\n",
       "      <td>69</td>\n",
       "      <td>fabia</td>\n",
       "      <td>90000</td>\n",
       "      <td>7</td>\n",
       "      <td>gasoline</td>\n",
       "      <td>skoda</td>\n",
       "      <td>no</td>\n",
       "      <td>2016-03-31 00:00:00</td>\n",
       "      <td>0</td>\n",
       "      <td>60437</td>\n",
       "      <td>2016-04-06 10:17:21</td>\n",
       "    </tr>\n",
       "  </tbody>\n",
       "</table>\n",
       "</div>"
      ],
      "text/plain": [
       "           DateCrawled  Price VehicleType  RegistrationYear Gearbox  Power  \\\n",
       "0  2016-03-24 11:52:17    480         NaN              1993  manual      0   \n",
       "1  2016-03-24 10:58:45  18300       coupe              2011  manual    190   \n",
       "2  2016-03-14 12:52:21   9800         suv              2004    auto    163   \n",
       "3  2016-03-17 16:54:04   1500       small              2001  manual     75   \n",
       "4  2016-03-31 17:25:20   3600       small              2008  manual     69   \n",
       "\n",
       "   Model  Kilometer  RegistrationMonth  FuelType       Brand NotRepaired  \\\n",
       "0   golf     150000                  0    petrol  volkswagen         NaN   \n",
       "1    NaN     125000                  5  gasoline        audi         yes   \n",
       "2  grand     125000                  8  gasoline        jeep         NaN   \n",
       "3   golf     150000                  6    petrol  volkswagen          no   \n",
       "4  fabia      90000                  7  gasoline       skoda          no   \n",
       "\n",
       "           DateCreated  NumberOfPictures  PostalCode             LastSeen  \n",
       "0  2016-03-24 00:00:00                 0       70435  2016-04-07 03:16:57  \n",
       "1  2016-03-24 00:00:00                 0       66954  2016-04-07 01:46:50  \n",
       "2  2016-03-14 00:00:00                 0       90480  2016-04-05 12:47:46  \n",
       "3  2016-03-17 00:00:00                 0       91074  2016-03-17 17:40:17  \n",
       "4  2016-03-31 00:00:00                 0       60437  2016-04-06 10:17:21  "
      ]
     },
     "execution_count": 7,
     "metadata": {},
     "output_type": "execute_result"
    }
   ],
   "source": [
    "df.head()"
   ]
  },
  {
   "cell_type": "markdown",
   "metadata": {},
   "source": [
    "Удаим строки с нулевой ценой, так как это похоже на ошибки."
   ]
  },
  {
   "cell_type": "code",
   "execution_count": 8,
   "metadata": {},
   "outputs": [
    {
     "name": "stdout",
     "output_type": "stream",
     "text": [
      "<class 'pandas.core.frame.DataFrame'>\n",
      "Int64Index: 342408 entries, 0 to 354368\n",
      "Data columns (total 16 columns):\n",
      " #   Column             Non-Null Count   Dtype \n",
      "---  ------             --------------   ----- \n",
      " 0   DateCrawled        342408 non-null  object\n",
      " 1   Price              342408 non-null  int64 \n",
      " 2   VehicleType        309126 non-null  object\n",
      " 3   RegistrationYear   342408 non-null  int64 \n",
      " 4   Gearbox            325424 non-null  object\n",
      " 5   Power              342408 non-null  int64 \n",
      " 6   Model              325140 non-null  object\n",
      " 7   Kilometer          342408 non-null  int64 \n",
      " 8   RegistrationMonth  342408 non-null  int64 \n",
      " 9   FuelType           313389 non-null  object\n",
      " 10  Brand              342408 non-null  object\n",
      " 11  NotRepaired        277177 non-null  object\n",
      " 12  DateCreated        342408 non-null  object\n",
      " 13  NumberOfPictures   342408 non-null  int64 \n",
      " 14  PostalCode         342408 non-null  int64 \n",
      " 15  LastSeen           342408 non-null  object\n",
      "dtypes: int64(7), object(9)\n",
      "memory usage: 44.4+ MB\n"
     ]
    }
   ],
   "source": [
    "df.info()"
   ]
  },
  {
   "cell_type": "code",
   "execution_count": 9,
   "metadata": {},
   "outputs": [
    {
     "data": {
      "text/plain": [
       "0"
      ]
     },
     "execution_count": 9,
     "metadata": {},
     "output_type": "execute_result"
    }
   ],
   "source": [
    "# проверим есть ли вообще анкеты с фотографиями \n",
    "\n",
    "\n",
    "df[\"NumberOfPictures\"].sum()"
   ]
  },
  {
   "cell_type": "markdown",
   "metadata": {},
   "source": [
    "Везьде по нулям, эти данные загрузились неправильно. Сообщим об этом коллегам для доработок."
   ]
  },
  {
   "cell_type": "code",
   "execution_count": 10,
   "metadata": {},
   "outputs": [
    {
     "data": {
      "image/png": "[encoded data removed]",
      "text/plain": [
       "<Figure size 432x288 with 1 Axes>"
      ]
     },
     "metadata": {
      "needs_background": "light"
     },
     "output_type": "display_data"
    }
   ],
   "source": [
    "# проверим выбросы в столбце цены авто\n",
    "\n",
    "\n",
    "ax = df.boxplot(column='Power')\n",
    "ax.set_ylim(0, 500)\n",
    "plt.show()"
   ]
  },
  {
   "cell_type": "code",
   "execution_count": 11,
   "metadata": {},
   "outputs": [
    {
     "data": {
      "text/plain": [
       "36271"
      ]
     },
     "execution_count": 11,
     "metadata": {},
     "output_type": "execute_result"
    }
   ],
   "source": [
    "# посмотрим сколько авто с подозрительно малой мощьностью\n",
    "\n",
    "\n",
    "len(df.query('Power < 20'))"
   ]
  },
  {
   "cell_type": "markdown",
   "metadata": {},
   "source": [
    "Многовато"
   ]
  },
  {
   "cell_type": "code",
   "execution_count": 12,
   "metadata": {},
   "outputs": [
    {
     "data": {
      "text/plain": [
       "35877"
      ]
     },
     "execution_count": 12,
     "metadata": {},
     "output_type": "execute_result"
    }
   ],
   "source": [
    "# Сколько из них не поедут\n",
    "\n",
    "\n",
    "len(df.query('Power < 1'))"
   ]
  },
  {
   "cell_type": "markdown",
   "metadata": {},
   "source": [
    "Теперь понятно"
   ]
  },
  {
   "cell_type": "code",
   "execution_count": 13,
   "metadata": {},
   "outputs": [],
   "source": [
    "# удалим строки с нулевой мощностью, так как это похоже на ошибки\n",
    "\n",
    "df = df.query('Power > 1').reset_index()"
   ]
  },
  {
   "cell_type": "code",
   "execution_count": 14,
   "metadata": {},
   "outputs": [
    {
     "name": "stdout",
     "output_type": "stream",
     "text": [
      "<class 'pandas.core.frame.DataFrame'>\n",
      "RangeIndex: 306506 entries, 0 to 306505\n",
      "Data columns (total 17 columns):\n",
      " #   Column             Non-Null Count   Dtype \n",
      "---  ------             --------------   ----- \n",
      " 0   index              306506 non-null  int64 \n",
      " 1   DateCrawled        306506 non-null  object\n",
      " 2   Price              306506 non-null  int64 \n",
      " 3   VehicleType        285282 non-null  object\n",
      " 4   RegistrationYear   306506 non-null  int64 \n",
      " 5   Gearbox            300458 non-null  object\n",
      " 6   Power              306506 non-null  int64 \n",
      " 7   Model              294103 non-null  object\n",
      " 8   Kilometer          306506 non-null  int64 \n",
      " 9   RegistrationMonth  306506 non-null  int64 \n",
      " 10  FuelType           286839 non-null  object\n",
      " 11  Brand              306506 non-null  object\n",
      " 12  NotRepaired        259575 non-null  object\n",
      " 13  DateCreated        306506 non-null  object\n",
      " 14  NumberOfPictures   306506 non-null  int64 \n",
      " 15  PostalCode         306506 non-null  int64 \n",
      " 16  LastSeen           306506 non-null  object\n",
      "dtypes: int64(8), object(9)\n",
      "memory usage: 39.8+ MB\n"
     ]
    }
   ],
   "source": [
    "df.info()"
   ]
  },
  {
   "cell_type": "code",
   "execution_count": 15,
   "metadata": {},
   "outputs": [
    {
     "data": {
      "text/plain": [
       "423"
      ]
     },
     "execution_count": 15,
     "metadata": {},
     "output_type": "execute_result"
    }
   ],
   "source": [
    "# посмотрим сколько авто с подозрительно большой мощьностью\n",
    "\n",
    "len(df.query('Power > 500 '))"
   ]
  },
  {
   "cell_type": "markdown",
   "metadata": {},
   "source": [
    "Людям с дорогими авто тоже нужно определять их рыночную цену. Оставим эти данные"
   ]
  },
  {
   "cell_type": "code",
   "execution_count": 16,
   "metadata": {},
   "outputs": [
    {
     "name": "stdout",
     "output_type": "stream",
     "text": [
      "<class 'pandas.core.frame.DataFrame'>\n",
      "RangeIndex: 306506 entries, 0 to 306505\n",
      "Data columns (total 17 columns):\n",
      " #   Column             Non-Null Count   Dtype \n",
      "---  ------             --------------   ----- \n",
      " 0   index              306506 non-null  int64 \n",
      " 1   DateCrawled        306506 non-null  object\n",
      " 2   Price              306506 non-null  int64 \n",
      " 3   VehicleType        285282 non-null  object\n",
      " 4   RegistrationYear   306506 non-null  int64 \n",
      " 5   Gearbox            300458 non-null  object\n",
      " 6   Power              306506 non-null  int64 \n",
      " 7   Model              294103 non-null  object\n",
      " 8   Kilometer          306506 non-null  int64 \n",
      " 9   RegistrationMonth  306506 non-null  int64 \n",
      " 10  FuelType           286839 non-null  object\n",
      " 11  Brand              306506 non-null  object\n",
      " 12  NotRepaired        259575 non-null  object\n",
      " 13  DateCreated        306506 non-null  object\n",
      " 14  NumberOfPictures   306506 non-null  int64 \n",
      " 15  PostalCode         306506 non-null  int64 \n",
      " 16  LastSeen           306506 non-null  object\n",
      "dtypes: int64(8), object(9)\n",
      "memory usage: 39.8+ MB\n"
     ]
    }
   ],
   "source": [
    "df.info()"
   ]
  },
  {
   "cell_type": "code",
   "execution_count": 17,
   "metadata": {},
   "outputs": [],
   "source": [
    "# оставим пропуски, так как это тоже важная информация, но заменим их на другое значение, с которым будет работать модель\n",
    "\n",
    "\n",
    "df = df.fillna('unknown')"
   ]
  },
  {
   "cell_type": "code",
   "execution_count": 18,
   "metadata": {},
   "outputs": [],
   "source": [
    "# удалим дубликаты\n",
    "\n",
    "\n",
    "df = df.drop_duplicates().reset_index(drop= True)"
   ]
  },
  {
   "cell_type": "code",
   "execution_count": 19,
   "metadata": {},
   "outputs": [
    {
     "name": "stdout",
     "output_type": "stream",
     "text": [
      "<class 'pandas.core.frame.DataFrame'>\n",
      "RangeIndex: 306506 entries, 0 to 306505\n",
      "Data columns (total 17 columns):\n",
      " #   Column             Non-Null Count   Dtype \n",
      "---  ------             --------------   ----- \n",
      " 0   index              306506 non-null  int64 \n",
      " 1   DateCrawled        306506 non-null  object\n",
      " 2   Price              306506 non-null  int64 \n",
      " 3   VehicleType        306506 non-null  object\n",
      " 4   RegistrationYear   306506 non-null  int64 \n",
      " 5   Gearbox            306506 non-null  object\n",
      " 6   Power              306506 non-null  int64 \n",
      " 7   Model              306506 non-null  object\n",
      " 8   Kilometer          306506 non-null  int64 \n",
      " 9   RegistrationMonth  306506 non-null  int64 \n",
      " 10  FuelType           306506 non-null  object\n",
      " 11  Brand              306506 non-null  object\n",
      " 12  NotRepaired        306506 non-null  object\n",
      " 13  DateCreated        306506 non-null  object\n",
      " 14  NumberOfPictures   306506 non-null  int64 \n",
      " 15  PostalCode         306506 non-null  int64 \n",
      " 16  LastSeen           306506 non-null  object\n",
      "dtypes: int64(8), object(9)\n",
      "memory usage: 39.8+ MB\n"
     ]
    }
   ],
   "source": [
    "df.info()"
   ]
  },
  {
   "cell_type": "markdown",
   "metadata": {},
   "source": [
    "## Обучение моделей"
   ]
  },
  {
   "cell_type": "code",
   "execution_count": 20,
   "metadata": {},
   "outputs": [],
   "source": [
    "# удаим не нужные столбцы (c коичеством фотографий, индексом почты и тд.)\n",
    "# и создадим еще одну таблицу для модели градиентного бустинга\n",
    "\n",
    "df_new = df.drop(['DateCrawled','DateCreated','PostalCode','LastSeen','NumberOfPictures'], axis=1)\n",
    "df_cat = df.drop(['DateCrawled','DateCreated','PostalCode','LastSeen','NumberOfPictures'], axis=1)"
   ]
  },
  {
   "cell_type": "code",
   "execution_count": 21,
   "metadata": {},
   "outputs": [],
   "source": [
    "enc = OrdinalEncoder()\n",
    "df_new[['VehicleType','Gearbox','Model','FuelType','Brand' ,'NotRepaired']] = enc.fit_transform(df_new[['VehicleType','Gearbox','Model','FuelType','Brand' ,'NotRepaired']])"
   ]
  },
  {
   "cell_type": "code",
   "execution_count": 22,
   "metadata": {},
   "outputs": [
    {
     "data": {
      "text/html": [
       "<div>\n",
       "<style scoped>\n",
       "    .dataframe tbody tr th:only-of-type {\n",
       "        vertical-align: middle;\n",
       "    }\n",
       "\n",
       "    .dataframe tbody tr th {\n",
       "        vertical-align: top;\n",
       "    }\n",
       "\n",
       "    .dataframe thead th {\n",
       "        text-align: right;\n",
       "    }\n",
       "</style>\n",
       "<table border=\"1\" class=\"dataframe\">\n",
       "  <thead>\n",
       "    <tr style=\"text-align: right;\">\n",
       "      <th></th>\n",
       "      <th>index</th>\n",
       "      <th>Price</th>\n",
       "      <th>VehicleType</th>\n",
       "      <th>RegistrationYear</th>\n",
       "      <th>Gearbox</th>\n",
       "      <th>Power</th>\n",
       "      <th>Model</th>\n",
       "      <th>Kilometer</th>\n",
       "      <th>RegistrationMonth</th>\n",
       "      <th>FuelType</th>\n",
       "      <th>Brand</th>\n",
       "      <th>NotRepaired</th>\n",
       "    </tr>\n",
       "  </thead>\n",
       "  <tbody>\n",
       "    <tr>\n",
       "      <th>0</th>\n",
       "      <td>1</td>\n",
       "      <td>18300</td>\n",
       "      <td>2.0</td>\n",
       "      <td>2011</td>\n",
       "      <td>1.0</td>\n",
       "      <td>190</td>\n",
       "      <td>227.0</td>\n",
       "      <td>125000</td>\n",
       "      <td>5</td>\n",
       "      <td>2.0</td>\n",
       "      <td>1.0</td>\n",
       "      <td>2.0</td>\n",
       "    </tr>\n",
       "    <tr>\n",
       "      <th>1</th>\n",
       "      <td>2</td>\n",
       "      <td>9800</td>\n",
       "      <td>6.0</td>\n",
       "      <td>2004</td>\n",
       "      <td>0.0</td>\n",
       "      <td>163</td>\n",
       "      <td>117.0</td>\n",
       "      <td>125000</td>\n",
       "      <td>8</td>\n",
       "      <td>2.0</td>\n",
       "      <td>14.0</td>\n",
       "      <td>1.0</td>\n",
       "    </tr>\n",
       "    <tr>\n",
       "      <th>2</th>\n",
       "      <td>3</td>\n",
       "      <td>1500</td>\n",
       "      <td>5.0</td>\n",
       "      <td>2001</td>\n",
       "      <td>1.0</td>\n",
       "      <td>75</td>\n",
       "      <td>116.0</td>\n",
       "      <td>150000</td>\n",
       "      <td>6</td>\n",
       "      <td>6.0</td>\n",
       "      <td>38.0</td>\n",
       "      <td>0.0</td>\n",
       "    </tr>\n",
       "    <tr>\n",
       "      <th>3</th>\n",
       "      <td>4</td>\n",
       "      <td>3600</td>\n",
       "      <td>5.0</td>\n",
       "      <td>2008</td>\n",
       "      <td>1.0</td>\n",
       "      <td>69</td>\n",
       "      <td>101.0</td>\n",
       "      <td>90000</td>\n",
       "      <td>7</td>\n",
       "      <td>2.0</td>\n",
       "      <td>31.0</td>\n",
       "      <td>0.0</td>\n",
       "    </tr>\n",
       "    <tr>\n",
       "      <th>4</th>\n",
       "      <td>5</td>\n",
       "      <td>650</td>\n",
       "      <td>4.0</td>\n",
       "      <td>1995</td>\n",
       "      <td>1.0</td>\n",
       "      <td>102</td>\n",
       "      <td>11.0</td>\n",
       "      <td>150000</td>\n",
       "      <td>10</td>\n",
       "      <td>6.0</td>\n",
       "      <td>2.0</td>\n",
       "      <td>2.0</td>\n",
       "    </tr>\n",
       "  </tbody>\n",
       "</table>\n",
       "</div>"
      ],
      "text/plain": [
       "   index  Price  VehicleType  RegistrationYear  Gearbox  Power  Model  \\\n",
       "0      1  18300          2.0              2011      1.0    190  227.0   \n",
       "1      2   9800          6.0              2004      0.0    163  117.0   \n",
       "2      3   1500          5.0              2001      1.0     75  116.0   \n",
       "3      4   3600          5.0              2008      1.0     69  101.0   \n",
       "4      5    650          4.0              1995      1.0    102   11.0   \n",
       "\n",
       "   Kilometer  RegistrationMonth  FuelType  Brand  NotRepaired  \n",
       "0     125000                  5       2.0    1.0          2.0  \n",
       "1     125000                  8       2.0   14.0          1.0  \n",
       "2     150000                  6       6.0   38.0          0.0  \n",
       "3      90000                  7       2.0   31.0          0.0  \n",
       "4     150000                 10       6.0    2.0          2.0  "
      ]
     },
     "execution_count": 22,
     "metadata": {},
     "output_type": "execute_result"
    }
   ],
   "source": [
    "df_new.head()"
   ]
  },
  {
   "cell_type": "code",
   "execution_count": 23,
   "metadata": {},
   "outputs": [
    {
     "name": "stdout",
     "output_type": "stream",
     "text": [
      "<class 'pandas.core.frame.DataFrame'>\n",
      "RangeIndex: 306506 entries, 0 to 306505\n",
      "Data columns (total 12 columns):\n",
      " #   Column             Non-Null Count   Dtype  \n",
      "---  ------             --------------   -----  \n",
      " 0   index              306506 non-null  int64  \n",
      " 1   Price              306506 non-null  int64  \n",
      " 2   VehicleType        306506 non-null  float64\n",
      " 3   RegistrationYear   306506 non-null  int64  \n",
      " 4   Gearbox            306506 non-null  float64\n",
      " 5   Power              306506 non-null  int64  \n",
      " 6   Model              306506 non-null  float64\n",
      " 7   Kilometer          306506 non-null  int64  \n",
      " 8   RegistrationMonth  306506 non-null  int64  \n",
      " 9   FuelType           306506 non-null  float64\n",
      " 10  Brand              306506 non-null  float64\n",
      " 11  NotRepaired        306506 non-null  float64\n",
      "dtypes: float64(6), int64(6)\n",
      "memory usage: 28.1 MB\n"
     ]
    }
   ],
   "source": [
    "df_new.info()"
   ]
  },
  {
   "cell_type": "code",
   "execution_count": 24,
   "metadata": {},
   "outputs": [],
   "source": [
    "# создадим обучающую и валидацинные выборки \n",
    "\n",
    "\n",
    "features = df_new.drop(['Price'], axis=1)\n",
    "target = df_new['Price']"
   ]
  },
  {
   "cell_type": "code",
   "execution_count": 25,
   "metadata": {},
   "outputs": [
    {
     "data": {
      "text/plain": [
       "(306506, 11)"
      ]
     },
     "execution_count": 25,
     "metadata": {},
     "output_type": "execute_result"
    }
   ],
   "source": [
    "features.shape"
   ]
  },
  {
   "cell_type": "code",
   "execution_count": 26,
   "metadata": {},
   "outputs": [
    {
     "data": {
      "text/plain": [
       "(306506,)"
      ]
     },
     "execution_count": 26,
     "metadata": {},
     "output_type": "execute_result"
    }
   ],
   "source": [
    "target.shape"
   ]
  },
  {
   "cell_type": "code",
   "execution_count": 27,
   "metadata": {},
   "outputs": [],
   "source": [
    "features_train, features_valid, target_train, target_valid = train_test_split(\n",
    "    features, target, test_size=0.25, random_state=12345)"
   ]
  },
  {
   "cell_type": "code",
   "execution_count": 28,
   "metadata": {},
   "outputs": [
    {
     "data": {
      "text/plain": [
       "(229879, 11)"
      ]
     },
     "execution_count": 28,
     "metadata": {},
     "output_type": "execute_result"
    }
   ],
   "source": [
    "features_train.shape"
   ]
  },
  {
   "cell_type": "code",
   "execution_count": 29,
   "metadata": {},
   "outputs": [
    {
     "data": {
      "text/plain": [
       "(76627, 11)"
      ]
     },
     "execution_count": 29,
     "metadata": {},
     "output_type": "execute_result"
    }
   ],
   "source": [
    "features_valid.shape"
   ]
  },
  {
   "cell_type": "code",
   "execution_count": 30,
   "metadata": {},
   "outputs": [
    {
     "data": {
      "text/plain": [
       "(229879,)"
      ]
     },
     "execution_count": 30,
     "metadata": {},
     "output_type": "execute_result"
    }
   ],
   "source": [
    "#target_train = np.array(target_train)\n",
    "target_train.shape"
   ]
  },
  {
   "cell_type": "code",
   "execution_count": 31,
   "metadata": {},
   "outputs": [
    {
     "data": {
      "text/plain": [
       "(76627,)"
      ]
     },
     "execution_count": 31,
     "metadata": {},
     "output_type": "execute_result"
    }
   ],
   "source": [
    "#target_valid = np.array(target_valid)\n",
    "target_valid.shape"
   ]
  },
  {
   "cell_type": "code",
   "execution_count": 32,
   "metadata": {},
   "outputs": [
    {
     "data": {
      "text/html": [
       "<div>\n",
       "<style scoped>\n",
       "    .dataframe tbody tr th:only-of-type {\n",
       "        vertical-align: middle;\n",
       "    }\n",
       "\n",
       "    .dataframe tbody tr th {\n",
       "        vertical-align: top;\n",
       "    }\n",
       "\n",
       "    .dataframe thead th {\n",
       "        text-align: right;\n",
       "    }\n",
       "</style>\n",
       "<table border=\"1\" class=\"dataframe\">\n",
       "  <thead>\n",
       "    <tr style=\"text-align: right;\">\n",
       "      <th></th>\n",
       "      <th>index</th>\n",
       "      <th>VehicleType</th>\n",
       "      <th>RegistrationYear</th>\n",
       "      <th>Gearbox</th>\n",
       "      <th>Power</th>\n",
       "      <th>Model</th>\n",
       "      <th>Kilometer</th>\n",
       "      <th>RegistrationMonth</th>\n",
       "      <th>FuelType</th>\n",
       "      <th>Brand</th>\n",
       "      <th>NotRepaired</th>\n",
       "    </tr>\n",
       "  </thead>\n",
       "  <tbody>\n",
       "    <tr>\n",
       "      <th>92968</th>\n",
       "      <td>107609</td>\n",
       "      <td>7.0</td>\n",
       "      <td>1995</td>\n",
       "      <td>1.0</td>\n",
       "      <td>75</td>\n",
       "      <td>42.0</td>\n",
       "      <td>150000</td>\n",
       "      <td>0</td>\n",
       "      <td>6.0</td>\n",
       "      <td>24.0</td>\n",
       "      <td>0.0</td>\n",
       "    </tr>\n",
       "    <tr>\n",
       "      <th>81702</th>\n",
       "      <td>94613</td>\n",
       "      <td>5.0</td>\n",
       "      <td>1999</td>\n",
       "      <td>1.0</td>\n",
       "      <td>45</td>\n",
       "      <td>5.0</td>\n",
       "      <td>150000</td>\n",
       "      <td>6</td>\n",
       "      <td>6.0</td>\n",
       "      <td>25.0</td>\n",
       "      <td>1.0</td>\n",
       "    </tr>\n",
       "    <tr>\n",
       "      <th>240328</th>\n",
       "      <td>277737</td>\n",
       "      <td>1.0</td>\n",
       "      <td>1979</td>\n",
       "      <td>1.0</td>\n",
       "      <td>90</td>\n",
       "      <td>199.0</td>\n",
       "      <td>100000</td>\n",
       "      <td>6</td>\n",
       "      <td>6.0</td>\n",
       "      <td>38.0</td>\n",
       "      <td>0.0</td>\n",
       "    </tr>\n",
       "    <tr>\n",
       "      <th>135446</th>\n",
       "      <td>156635</td>\n",
       "      <td>7.0</td>\n",
       "      <td>2009</td>\n",
       "      <td>1.0</td>\n",
       "      <td>68</td>\n",
       "      <td>46.0</td>\n",
       "      <td>125000</td>\n",
       "      <td>0</td>\n",
       "      <td>6.0</td>\n",
       "      <td>36.0</td>\n",
       "      <td>1.0</td>\n",
       "    </tr>\n",
       "    <tr>\n",
       "      <th>195475</th>\n",
       "      <td>226078</td>\n",
       "      <td>0.0</td>\n",
       "      <td>2011</td>\n",
       "      <td>1.0</td>\n",
       "      <td>109</td>\n",
       "      <td>212.0</td>\n",
       "      <td>150000</td>\n",
       "      <td>4</td>\n",
       "      <td>2.0</td>\n",
       "      <td>20.0</td>\n",
       "      <td>0.0</td>\n",
       "    </tr>\n",
       "  </tbody>\n",
       "</table>\n",
       "</div>"
      ],
      "text/plain": [
       "         index  VehicleType  RegistrationYear  Gearbox  Power  Model  \\\n",
       "92968   107609          7.0              1995      1.0     75   42.0   \n",
       "81702    94613          5.0              1999      1.0     45    5.0   \n",
       "240328  277737          1.0              1979      1.0     90  199.0   \n",
       "135446  156635          7.0              2009      1.0     68   46.0   \n",
       "195475  226078          0.0              2011      1.0    109  212.0   \n",
       "\n",
       "        Kilometer  RegistrationMonth  FuelType  Brand  NotRepaired  \n",
       "92968      150000                  0       6.0   24.0          0.0  \n",
       "81702      150000                  6       6.0   25.0          1.0  \n",
       "240328     100000                  6       6.0   38.0          0.0  \n",
       "135446     125000                  0       6.0   36.0          1.0  \n",
       "195475     150000                  4       2.0   20.0          0.0  "
      ]
     },
     "execution_count": 32,
     "metadata": {},
     "output_type": "execute_result"
    }
   ],
   "source": [
    "features_train.head()"
   ]
  },
  {
   "cell_type": "code",
   "execution_count": 33,
   "metadata": {},
   "outputs": [],
   "source": [
    "# создадим таблицу в которую будем заносить результаты моделей\n",
    "\n",
    "models_rating=[]"
   ]
  },
  {
   "cell_type": "code",
   "execution_count": 34,
   "metadata": {},
   "outputs": [],
   "source": [
    "# проверим модель решающего дерева\n",
    "\n",
    "\n",
    "start_1 = time.time()\n",
    "\n",
    "model = DecisionTreeRegressor(random_state=0)\n",
    " \n",
    "model.fit(features_train,target_train)\n",
    "\n",
    "end_1 = time.time()"
   ]
  },
  {
   "cell_type": "code",
   "execution_count": 35,
   "metadata": {},
   "outputs": [
    {
     "name": "stdout",
     "output_type": "stream",
     "text": [
      "rmse модели: 2212.8190602791988\n"
     ]
    }
   ],
   "source": [
    "start_2 = time.time()\n",
    "predictions = model.predict(features_valid) \n",
    "end_2 = time.time()\n",
    "\n",
    "mse = mean_squared_error(target_valid, predictions)\n",
    "rmse = mse ** 0.5\n",
    "print(\"rmse модели:\", rmse)"
   ]
  },
  {
   "cell_type": "code",
   "execution_count": 36,
   "metadata": {},
   "outputs": [],
   "source": [
    "def toFixed(numObj, digits=0):\n",
    "    return f\"{numObj:.{digits}f}\""
   ]
  },
  {
   "cell_type": "code",
   "execution_count": 37,
   "metadata": {},
   "outputs": [],
   "source": [
    "# добавим резуьтаты первой модели\n",
    "\n",
    "\n",
    "models_rating.append({'model name': model.__class__.__name__, \n",
    "                              'rmse модели': rmse, \n",
    "                              'время обучения,c': toFixed(end_1 - start_1,2),\n",
    "                              'время предсказания,c':toFixed(end_2 - start_2,2)}) "
   ]
  },
  {
   "cell_type": "code",
   "execution_count": 38,
   "metadata": {},
   "outputs": [
    {
     "data": {
      "text/plain": [
       "[{'model name': 'DecisionTreeRegressor',\n",
       "  'rmse модели': 2212.8190602791988,\n",
       "  'время обучения,c': '1.82',\n",
       "  'время предсказания,c': '0.06'}]"
      ]
     },
     "execution_count": 38,
     "metadata": {},
     "output_type": "execute_result"
    }
   ],
   "source": [
    "models_rating"
   ]
  },
  {
   "cell_type": "code",
   "execution_count": 39,
   "metadata": {},
   "outputs": [],
   "source": [
    "# проверим модель линейной регрессии\n",
    "\n",
    "\n",
    "\n",
    "model = LinearRegression()\n",
    "\n",
    "start_1 = time.time()\n",
    "model.fit(features_train,target_train) \n",
    "end_1 = time.time()"
   ]
  },
  {
   "cell_type": "code",
   "execution_count": 40,
   "metadata": {},
   "outputs": [
    {
     "name": "stdout",
     "output_type": "stream",
     "text": [
      "rmse модели: 3610.335710335028\n"
     ]
    }
   ],
   "source": [
    "start_2 = time.time()\n",
    "predictions = model.predict(features_valid) \n",
    "end_2 = time.time()\n",
    "\n",
    "mse = mean_squared_error(target_valid, predictions)\n",
    "rmse = mse ** 0.5\n",
    "print(\"rmse модели:\", rmse)"
   ]
  },
  {
   "cell_type": "code",
   "execution_count": 41,
   "metadata": {},
   "outputs": [],
   "source": [
    "models_rating.append({'model name': model.__class__.__name__, \n",
    "                              'rmse модели': rmse, \n",
    "                              'время обучения,c': toFixed(end_1 - start_1,2),\n",
    "                              'время предсказания,c':toFixed(end_2 - start_2,2)}) "
   ]
  },
  {
   "cell_type": "markdown",
   "metadata": {},
   "source": [
    "Результат хуже чем у дерева решений."
   ]
  },
  {
   "cell_type": "code",
   "execution_count": 42,
   "metadata": {},
   "outputs": [],
   "source": [
    "# проверим модель рандомного леса\n",
    "\n",
    "\n",
    "model = RandomForestRegressor(random_state=0)\n",
    "start_1 = time.time()\n",
    "model.fit(features_train,target_train) \n",
    "end_1 = time.time()"
   ]
  },
  {
   "cell_type": "code",
   "execution_count": 43,
   "metadata": {},
   "outputs": [
    {
     "name": "stdout",
     "output_type": "stream",
     "text": [
      "rmse модели: 1622.715842521034\n"
     ]
    }
   ],
   "source": [
    "start_2 = time.time()\n",
    "predictions = model.predict(features_valid) \n",
    "end_2 = time.time()\n",
    "\n",
    "\n",
    "mse = mean_squared_error(target_valid, predictions)\n",
    "rmse = mse ** 0.5\n",
    "print(\"rmse модели:\", rmse)"
   ]
  },
  {
   "cell_type": "code",
   "execution_count": 44,
   "metadata": {},
   "outputs": [],
   "source": [
    "models_rating.append({'model name': model.__class__.__name__, \n",
    "                              'rmse модели': rmse, \n",
    "                              'время обучения,c': toFixed(end_1 - start_1,2),\n",
    "                              'время предсказания,c':toFixed(end_2 - start_2,2)}) "
   ]
  },
  {
   "cell_type": "markdown",
   "metadata": {},
   "source": [
    "Имеем пока лучший результат в 1622 со временем обучения: 1м 23с, и временем предсказания: 4.5с."
   ]
  },
  {
   "cell_type": "code",
   "execution_count": 45,
   "metadata": {},
   "outputs": [],
   "source": [
    "# создадим обучающую выборку без кодирования категориальных признаков \n",
    "\n",
    "\n",
    "CatBoost_features = df_cat.drop(['Price'], axis=1)\n",
    "CatBoost_target = df_cat['Price']\n",
    "\n",
    "features_train_CatBoost, features_valid_CatBoost, target_train_CatBoost, target_valid_CatBoost = train_test_split(\n",
    "    CatBoost_features, CatBoost_target, test_size=0.25, random_state=12345)"
   ]
  },
  {
   "cell_type": "code",
   "execution_count": 46,
   "metadata": {},
   "outputs": [
    {
     "data": {
      "text/html": [
       "<div>\n",
       "<style scoped>\n",
       "    .dataframe tbody tr th:only-of-type {\n",
       "        vertical-align: middle;\n",
       "    }\n",
       "\n",
       "    .dataframe tbody tr th {\n",
       "        vertical-align: top;\n",
       "    }\n",
       "\n",
       "    .dataframe thead th {\n",
       "        text-align: right;\n",
       "    }\n",
       "</style>\n",
       "<table border=\"1\" class=\"dataframe\">\n",
       "  <thead>\n",
       "    <tr style=\"text-align: right;\">\n",
       "      <th></th>\n",
       "      <th>index</th>\n",
       "      <th>VehicleType</th>\n",
       "      <th>RegistrationYear</th>\n",
       "      <th>Gearbox</th>\n",
       "      <th>Power</th>\n",
       "      <th>Model</th>\n",
       "      <th>Kilometer</th>\n",
       "      <th>RegistrationMonth</th>\n",
       "      <th>FuelType</th>\n",
       "      <th>Brand</th>\n",
       "      <th>NotRepaired</th>\n",
       "    </tr>\n",
       "  </thead>\n",
       "  <tbody>\n",
       "    <tr>\n",
       "      <th>0</th>\n",
       "      <td>1</td>\n",
       "      <td>coupe</td>\n",
       "      <td>2011</td>\n",
       "      <td>manual</td>\n",
       "      <td>190</td>\n",
       "      <td>unknown</td>\n",
       "      <td>125000</td>\n",
       "      <td>5</td>\n",
       "      <td>gasoline</td>\n",
       "      <td>audi</td>\n",
       "      <td>yes</td>\n",
       "    </tr>\n",
       "    <tr>\n",
       "      <th>1</th>\n",
       "      <td>2</td>\n",
       "      <td>suv</td>\n",
       "      <td>2004</td>\n",
       "      <td>auto</td>\n",
       "      <td>163</td>\n",
       "      <td>grand</td>\n",
       "      <td>125000</td>\n",
       "      <td>8</td>\n",
       "      <td>gasoline</td>\n",
       "      <td>jeep</td>\n",
       "      <td>unknown</td>\n",
       "    </tr>\n",
       "    <tr>\n",
       "      <th>2</th>\n",
       "      <td>3</td>\n",
       "      <td>small</td>\n",
       "      <td>2001</td>\n",
       "      <td>manual</td>\n",
       "      <td>75</td>\n",
       "      <td>golf</td>\n",
       "      <td>150000</td>\n",
       "      <td>6</td>\n",
       "      <td>petrol</td>\n",
       "      <td>volkswagen</td>\n",
       "      <td>no</td>\n",
       "    </tr>\n",
       "    <tr>\n",
       "      <th>3</th>\n",
       "      <td>4</td>\n",
       "      <td>small</td>\n",
       "      <td>2008</td>\n",
       "      <td>manual</td>\n",
       "      <td>69</td>\n",
       "      <td>fabia</td>\n",
       "      <td>90000</td>\n",
       "      <td>7</td>\n",
       "      <td>gasoline</td>\n",
       "      <td>skoda</td>\n",
       "      <td>no</td>\n",
       "    </tr>\n",
       "    <tr>\n",
       "      <th>4</th>\n",
       "      <td>5</td>\n",
       "      <td>sedan</td>\n",
       "      <td>1995</td>\n",
       "      <td>manual</td>\n",
       "      <td>102</td>\n",
       "      <td>3er</td>\n",
       "      <td>150000</td>\n",
       "      <td>10</td>\n",
       "      <td>petrol</td>\n",
       "      <td>bmw</td>\n",
       "      <td>yes</td>\n",
       "    </tr>\n",
       "  </tbody>\n",
       "</table>\n",
       "</div>"
      ],
      "text/plain": [
       "   index VehicleType  RegistrationYear Gearbox  Power    Model  Kilometer  \\\n",
       "0      1       coupe              2011  manual    190  unknown     125000   \n",
       "1      2         suv              2004    auto    163    grand     125000   \n",
       "2      3       small              2001  manual     75     golf     150000   \n",
       "3      4       small              2008  manual     69    fabia      90000   \n",
       "4      5       sedan              1995  manual    102      3er     150000   \n",
       "\n",
       "   RegistrationMonth  FuelType       Brand NotRepaired  \n",
       "0                  5  gasoline        audi         yes  \n",
       "1                  8  gasoline        jeep     unknown  \n",
       "2                  6    petrol  volkswagen          no  \n",
       "3                  7  gasoline       skoda          no  \n",
       "4                 10    petrol         bmw         yes  "
      ]
     },
     "execution_count": 46,
     "metadata": {},
     "output_type": "execute_result"
    }
   ],
   "source": [
    "CatBoost_features.head()"
   ]
  },
  {
   "cell_type": "code",
   "execution_count": 47,
   "metadata": {},
   "outputs": [
    {
     "data": {
      "text/plain": [
       "dtype('int64')"
      ]
     },
     "execution_count": 47,
     "metadata": {},
     "output_type": "execute_result"
    }
   ],
   "source": [
    "CatBoost_target.dtype"
   ]
  },
  {
   "cell_type": "code",
   "execution_count": 48,
   "metadata": {},
   "outputs": [],
   "source": [
    "# обучим CatBoost бустинг без подбора параметров\n",
    "\n",
    "\n",
    "\n",
    "\n",
    "cat_features = ['VehicleType', 'Gearbox', 'Model',\n",
    "                'FuelType', 'Brand', 'NotRepaired']\n",
    "\n",
    "\n",
    "model = CatBoostRegressor(loss_function='RMSE', iterations =10, verbose=False,random_state=0)\n",
    "\n",
    "start_1 = time.time()\n",
    "model.fit(features_train_CatBoost, target_train_CatBoost, cat_features=cat_features)\n",
    "end_1 = time.time()"
   ]
  },
  {
   "cell_type": "code",
   "execution_count": 49,
   "metadata": {},
   "outputs": [
    {
     "name": "stdout",
     "output_type": "stream",
     "text": [
      "rmse модели: 1936.576605587318\n"
     ]
    }
   ],
   "source": [
    "start_2 = time.time()\n",
    "predictions = model.predict(features_valid_CatBoost) \n",
    "end_2 = time.time()\n",
    "\n",
    "\n",
    "mse = mean_squared_error(target_valid_CatBoost, predictions)\n",
    "rmse = mse ** 0.5\n",
    "print(\"rmse модели:\", rmse)"
   ]
  },
  {
   "cell_type": "code",
   "execution_count": 50,
   "metadata": {},
   "outputs": [],
   "source": [
    "models_rating.append({'model name': model.__class__.__name__, \n",
    "                              'rmse модели': rmse, \n",
    "                              'время обучения,c': toFixed(end_1 - start_1,2),\n",
    "                              'время предсказания,c':toFixed(end_2 - start_2,2)})  "
   ]
  },
  {
   "cell_type": "markdown",
   "metadata": {},
   "source": [
    "Здесь результат лучше дерева решений -  1936."
   ]
  },
  {
   "cell_type": "code",
   "execution_count": 51,
   "metadata": {},
   "outputs": [],
   "source": [
    "# обучим LGBM бустинг без подбора параметров\n",
    "\n",
    "\n",
    "\n",
    "start_1 = time.time()\n",
    "model = LGBMRegressor(random_state=0 )\n",
    "model.fit(features_train, target_train)\n",
    "end_1 = time.time()"
   ]
  },
  {
   "cell_type": "code",
   "execution_count": 52,
   "metadata": {},
   "outputs": [
    {
     "name": "stdout",
     "output_type": "stream",
     "text": [
      "rmse модели: 1720.3661487336983\n"
     ]
    }
   ],
   "source": [
    "# получим предсказания и проверим метрику\n",
    "\n",
    "\n",
    "start_2 = time.time()\n",
    "predictions = model.predict(features_valid)\n",
    "end_2 = time.time()\n",
    "\n",
    "mse = mean_squared_error(target_valid, predictions)\n",
    "rmse = mse ** 0.5\n",
    "print(\"rmse модели:\", rmse)"
   ]
  },
  {
   "cell_type": "code",
   "execution_count": 53,
   "metadata": {},
   "outputs": [],
   "source": [
    "models_rating.append({'model name': model.__class__.__name__, \n",
    "                              'rmse модели': rmse, \n",
    "                              'время обучения,c': toFixed(end_1 - start_1,2),\n",
    "                              'время предсказания,c':toFixed(end_2 - start_2,2)}) "
   ]
  },
  {
   "cell_type": "markdown",
   "metadata": {},
   "source": [
    "Этот бустинг дал результат лучше лучше модели CatBoostRegressor  -  1720."
   ]
  },
  {
   "cell_type": "code",
   "execution_count": 54,
   "metadata": {},
   "outputs": [
    {
     "name": "stdout",
     "output_type": "stream",
     "text": [
      "Лучшие параметры: {'learning_rate': 0.01, 'n_estimators': 30}\n"
     ]
    }
   ],
   "source": [
    "# теперь подберем параметры для бустинга, сравним результаты\n",
    "\n",
    "\n",
    "\n",
    "\n",
    "\n",
    "\n",
    "estimator = LGBMRegressor(num_leaves=10,max_depth =3)\n",
    "\n",
    "param_grid = {\n",
    "\n",
    "    'learning_rate': [0.01, 0.1],\n",
    "\n",
    "    'n_estimators': [30, 50]\n",
    "\n",
    "}\n",
    "def rmse(actual, predict):\n",
    "\n",
    "    mse = mean_squared_error(actual, predict)\n",
    "    rmse = mse ** 0.5\n",
    "    return score\n",
    "\n",
    "rmse_score = make_scorer(rmse, greater_is_better = False)\n",
    "\n",
    "\n",
    "gbm = GridSearchCV(estimator, param_grid,scoring=rmse_score)\n",
    "\n",
    "gbm.fit(features_train, target_train)\n",
    "\n",
    "print('Лучшие параметры:', gbm.best_params_)"
   ]
  },
  {
   "cell_type": "markdown",
   "metadata": {},
   "source": [
    "Мы подобрали лучшие параметры для этой модели."
   ]
  },
  {
   "cell_type": "code",
   "execution_count": 55,
   "metadata": {},
   "outputs": [],
   "source": [
    "# обучим модель с подобранными параметрами\n",
    "\n",
    "\n",
    "\n",
    "start_1 = time.time()\n",
    "model = LGBMRegressor(num_leaves=10,max_depth =3,learning_rate=0.1,n_estimators=30)\n",
    "model.fit(features_train, target_train)\n",
    "end_1 = time.time()"
   ]
  },
  {
   "cell_type": "code",
   "execution_count": 56,
   "metadata": {},
   "outputs": [
    {
     "name": "stdout",
     "output_type": "stream",
     "text": [
      "rmse модели: 2253.8445694770285\n"
     ]
    }
   ],
   "source": [
    "# получим предсказания и проверим метрику\n",
    "\n",
    "\n",
    "start_2 = time.time()\n",
    "predictions = model.predict(features_valid)\n",
    "end_2 = time.time()\n",
    "\n",
    "mse = mean_squared_error(target_valid, predictions)\n",
    "rmse = mse ** 0.5\n",
    "print(\"rmse модели:\", rmse)"
   ]
  },
  {
   "cell_type": "code",
   "execution_count": 57,
   "metadata": {},
   "outputs": [],
   "source": [
    "models_rating.append({'model name': model.__class__.__name__, \n",
    "                              'rmse модели': rmse, \n",
    "                              'время обучения,c': toFixed(end_1 - start_1,2),\n",
    "                              'время предсказания,c':toFixed(end_2 - start_2,2)}) "
   ]
  },
  {
   "cell_type": "markdown",
   "metadata": {},
   "source": [
    "Тут у нас не лучший результат в 2253. Результат ухудшился, было 1720."
   ]
  },
  {
   "cell_type": "code",
   "execution_count": 58,
   "metadata": {},
   "outputs": [
    {
     "name": "stdout",
     "output_type": "stream",
     "text": [
      "Fitting 5 folds for each of 6 candidates, totalling 30 fits\n",
      "Best parameters found by grid search are: {'learning_rate': 1, 'n_estimators': 350}\n"
     ]
    }
   ],
   "source": [
    "# подберем параметры для CatBoost бустинга\n",
    "\n",
    "\n",
    "\n",
    "\n",
    "estimator = CatBoostRegressor(verbose=False)\n",
    "\n",
    "param_grid = {\n",
    "\n",
    "    'learning_rate': [0.1, 1],\n",
    "\n",
    "    'n_estimators': [300,350,400]\n",
    "\n",
    "}\n",
    "\n",
    "gbm = GridSearchCV(estimator, param_grid,verbose=1)\n",
    "\n",
    "gbm.fit(features_train, target_train)\n",
    "\n",
    "print('Best parameters found by grid search are:', gbm.best_params_)"
   ]
  },
  {
   "cell_type": "markdown",
   "metadata": {},
   "source": [
    "Подобрали параметры для CatBoostRegressor"
   ]
  },
  {
   "cell_type": "code",
   "execution_count": 59,
   "metadata": {},
   "outputs": [],
   "source": [
    "# обучим модель с подобранными параметрами\n",
    "\n",
    "\n",
    "start_1 = time.time()\n",
    "model = CatBoostRegressor(learning_rate=1,n_estimators=350,verbose=False)\n",
    "model.fit(features_train, target_train)\n",
    "end_1 = time.time()"
   ]
  },
  {
   "cell_type": "code",
   "execution_count": 60,
   "metadata": {},
   "outputs": [
    {
     "name": "stdout",
     "output_type": "stream",
     "text": [
      "rmse модели: 1668.9727577824292\n"
     ]
    }
   ],
   "source": [
    "# получим предсказания и проверим метрику\n",
    "\n",
    "\n",
    "start_2 = time.time()\n",
    "predictions = model.predict(features_valid)\n",
    "end_2 = time.time()\n",
    "\n",
    "mse = mean_squared_error(target_valid, predictions)\n",
    "rmse = mse ** 0.5\n",
    "print(\"rmse модели:\", rmse)"
   ]
  },
  {
   "cell_type": "code",
   "execution_count": 61,
   "metadata": {},
   "outputs": [],
   "source": [
    "models_rating.append({'model name': model.__class__.__name__, \n",
    "                              'rmse модели': rmse, \n",
    "                              'время обучения,c': toFixed(end_1 - start_1,2),\n",
    "                              'время предсказания,c':toFixed(end_2 - start_2,2)}) "
   ]
  },
  {
   "cell_type": "markdown",
   "metadata": {},
   "source": [
    "В результате имеем метрику в 1822 при времени обучения 5 с и предсказания 1 с соотвецтвенно. Результат улучшился после подбора параметров. Было 2044."
   ]
  },
  {
   "cell_type": "markdown",
   "metadata": {},
   "source": [
    "## Анализ моделей"
   ]
  },
  {
   "cell_type": "code",
   "execution_count": 62,
   "metadata": {},
   "outputs": [
    {
     "data": {
      "text/html": [
       "<div>\n",
       "<style scoped>\n",
       "    .dataframe tbody tr th:only-of-type {\n",
       "        vertical-align: middle;\n",
       "    }\n",
       "\n",
       "    .dataframe tbody tr th {\n",
       "        vertical-align: top;\n",
       "    }\n",
       "\n",
       "    .dataframe thead th {\n",
       "        text-align: right;\n",
       "    }\n",
       "</style>\n",
       "<table border=\"1\" class=\"dataframe\">\n",
       "  <thead>\n",
       "    <tr style=\"text-align: right;\">\n",
       "      <th></th>\n",
       "      <th>model name</th>\n",
       "      <th>rmse модели</th>\n",
       "      <th>время обучения,c</th>\n",
       "      <th>время предсказания,c</th>\n",
       "    </tr>\n",
       "  </thead>\n",
       "  <tbody>\n",
       "    <tr>\n",
       "      <th>2</th>\n",
       "      <td>RandomForestRegressor</td>\n",
       "      <td>1622.715843</td>\n",
       "      <td>110.43</td>\n",
       "      <td>4.27</td>\n",
       "    </tr>\n",
       "    <tr>\n",
       "      <th>6</th>\n",
       "      <td>CatBoostRegressor</td>\n",
       "      <td>1668.972758</td>\n",
       "      <td>12.79</td>\n",
       "      <td>0.04</td>\n",
       "    </tr>\n",
       "    <tr>\n",
       "      <th>4</th>\n",
       "      <td>LGBMRegressor</td>\n",
       "      <td>1720.366149</td>\n",
       "      <td>374.37</td>\n",
       "      <td>0.61</td>\n",
       "    </tr>\n",
       "    <tr>\n",
       "      <th>3</th>\n",
       "      <td>CatBoostRegressor</td>\n",
       "      <td>1936.576606</td>\n",
       "      <td>2.16</td>\n",
       "      <td>0.08</td>\n",
       "    </tr>\n",
       "    <tr>\n",
       "      <th>0</th>\n",
       "      <td>DecisionTreeRegressor</td>\n",
       "      <td>2212.819060</td>\n",
       "      <td>1.82</td>\n",
       "      <td>0.06</td>\n",
       "    </tr>\n",
       "    <tr>\n",
       "      <th>5</th>\n",
       "      <td>LGBMRegressor</td>\n",
       "      <td>2253.844569</td>\n",
       "      <td>1.31</td>\n",
       "      <td>0.10</td>\n",
       "    </tr>\n",
       "    <tr>\n",
       "      <th>1</th>\n",
       "      <td>LinearRegression</td>\n",
       "      <td>3610.335710</td>\n",
       "      <td>0.08</td>\n",
       "      <td>0.11</td>\n",
       "    </tr>\n",
       "  </tbody>\n",
       "</table>\n",
       "</div>"
      ],
      "text/plain": [
       "              model name  rmse модели время обучения,c время предсказания,c\n",
       "2  RandomForestRegressor  1622.715843           110.43                 4.27\n",
       "6      CatBoostRegressor  1668.972758            12.79                 0.04\n",
       "4          LGBMRegressor  1720.366149           374.37                 0.61\n",
       "3      CatBoostRegressor  1936.576606             2.16                 0.08\n",
       "0  DecisionTreeRegressor  2212.819060             1.82                 0.06\n",
       "5          LGBMRegressor  2253.844569             1.31                 0.10\n",
       "1       LinearRegression  3610.335710             0.08                 0.11"
      ]
     },
     "execution_count": 62,
     "metadata": {},
     "output_type": "execute_result"
    }
   ],
   "source": [
    "pd.DataFrame(models_rating).sort_values(by=['rmse модели'])"
   ]
  },
  {
   "cell_type": "markdown",
   "metadata": {},
   "source": [
    "Тройка лидеров по результату метрики:\n",
    "\n",
    "\n",
    "- RandomForestRegressor : 1622 (обучение:130с, предсказание:4.5с)\n",
    "- CatBoostRegressor : 1668 (обучение:22с, предсказание:<1)\n",
    "- LGBMRegressor : 1720 (обучение:7c, предсказание:<1)\n"
   ]
  },
  {
   "cell_type": "markdown",
   "metadata": {},
   "source": [
    "Можно сделать вывод, что при требовании наилучшей метрики целесообразно выбрать RandomForestRegressor.\n",
    "\n",
    "А для баланса в свою очередь стоит использовать CatBoostRegressor, если требуется быстрое обучение."
   ]
  },
  {
   "cell_type": "markdown",
   "metadata": {},
   "source": [
    "Сообщить коллегам что данные о фото не загрузились."
   ]
  }
 ],
 "metadata": {
  "ExecuteTimeLog": [
   {
    "duration": 518,
    "start_time": "2022-03-19T14:08:59.473Z"
   },
   {
    "duration": 108,
    "start_time": "2022-03-19T14:08:59.994Z"
   },
   {
    "duration": 1334,
    "start_time": "2022-03-19T14:09:22.433Z"
   },
   {
    "duration": 42,
    "start_time": "2022-03-19T14:09:30.525Z"
   },
   {
    "duration": 7,
    "start_time": "2022-03-19T14:12:34.331Z"
   },
   {
    "duration": 7,
    "start_time": "2022-03-19T14:12:41.036Z"
   },
   {
    "duration": 33,
    "start_time": "2022-03-19T14:18:34.851Z"
   },
   {
    "duration": 13,
    "start_time": "2022-03-19T15:04:30.763Z"
   },
   {
    "duration": 10,
    "start_time": "2022-03-19T15:04:36.232Z"
   },
   {
    "duration": 15,
    "start_time": "2022-03-19T15:04:45.137Z"
   },
   {
    "duration": 9,
    "start_time": "2022-03-19T15:05:02.632Z"
   },
   {
    "duration": 7,
    "start_time": "2022-03-19T15:07:13.297Z"
   },
   {
    "duration": 165,
    "start_time": "2022-03-19T15:07:26.573Z"
   },
   {
    "duration": 13,
    "start_time": "2022-03-19T15:09:35.753Z"
   },
   {
    "duration": 95,
    "start_time": "2022-03-19T15:10:22.107Z"
   },
   {
    "duration": 276,
    "start_time": "2022-03-19T15:10:28.227Z"
   },
   {
    "duration": 124,
    "start_time": "2022-03-19T15:11:02.295Z"
   },
   {
    "duration": 180,
    "start_time": "2022-03-19T15:11:10.870Z"
   },
   {
    "duration": 214,
    "start_time": "2022-03-19T15:11:38.044Z"
   },
   {
    "duration": 282,
    "start_time": "2022-03-19T15:11:47.078Z"
   },
   {
    "duration": 145,
    "start_time": "2022-03-19T15:12:25.160Z"
   },
   {
    "duration": 175,
    "start_time": "2022-03-19T15:12:29.553Z"
   },
   {
    "duration": 22,
    "start_time": "2022-03-19T15:15:24.059Z"
   },
   {
    "duration": 39,
    "start_time": "2022-03-19T15:15:24.608Z"
   },
   {
    "duration": 12,
    "start_time": "2022-03-19T15:16:06.934Z"
   },
   {
    "duration": 39,
    "start_time": "2022-03-19T15:16:07.803Z"
   },
   {
    "duration": 11,
    "start_time": "2022-03-19T15:16:17.876Z"
   },
   {
    "duration": 37,
    "start_time": "2022-03-19T15:16:18.361Z"
   },
   {
    "duration": 15,
    "start_time": "2022-03-19T15:16:30.589Z"
   },
   {
    "duration": 37,
    "start_time": "2022-03-19T15:16:30.863Z"
   },
   {
    "duration": 49,
    "start_time": "2022-03-19T15:17:31.777Z"
   },
   {
    "duration": 39,
    "start_time": "2022-03-19T15:17:32.505Z"
   },
   {
    "duration": 6,
    "start_time": "2022-03-19T15:18:17.572Z"
   },
   {
    "duration": 8,
    "start_time": "2022-03-19T15:19:02.239Z"
   },
   {
    "duration": 13,
    "start_time": "2022-03-19T15:19:02.919Z"
   },
   {
    "duration": 87,
    "start_time": "2022-03-19T15:19:57.022Z"
   },
   {
    "duration": 56,
    "start_time": "2022-03-19T15:19:57.339Z"
   },
   {
    "duration": 18,
    "start_time": "2022-03-19T15:20:06.070Z"
   },
   {
    "duration": 36,
    "start_time": "2022-03-19T15:20:06.327Z"
   },
   {
    "duration": 43,
    "start_time": "2022-03-19T15:21:24.104Z"
   },
   {
    "duration": 19,
    "start_time": "2022-03-19T15:21:40.253Z"
   },
   {
    "duration": 14,
    "start_time": "2022-03-19T15:21:52.102Z"
   },
   {
    "duration": 21,
    "start_time": "2022-03-19T15:22:17.229Z"
   },
   {
    "duration": 163,
    "start_time": "2022-03-19T15:22:56.124Z"
   },
   {
    "duration": 78,
    "start_time": "2022-03-19T15:22:56.976Z"
   },
   {
    "duration": 1832,
    "start_time": "2022-03-19T15:23:39.124Z"
   },
   {
    "duration": 38,
    "start_time": "2022-03-19T15:23:40.959Z"
   },
   {
    "duration": 45,
    "start_time": "2022-03-19T15:23:42.799Z"
   },
   {
    "duration": 22,
    "start_time": "2022-03-19T15:23:43.391Z"
   },
   {
    "duration": 167,
    "start_time": "2022-03-19T15:25:12.206Z"
   },
   {
    "duration": 43,
    "start_time": "2022-03-19T15:25:24.450Z"
   },
   {
    "duration": 160,
    "start_time": "2022-03-19T15:25:26.886Z"
   },
   {
    "duration": 42,
    "start_time": "2022-03-19T15:25:28.547Z"
   },
   {
    "duration": 178,
    "start_time": "2022-03-19T15:25:32.009Z"
   },
   {
    "duration": 4,
    "start_time": "2022-03-19T16:10:40.885Z"
   },
   {
    "duration": 1494,
    "start_time": "2022-03-19T16:10:40.893Z"
   },
   {
    "duration": 22,
    "start_time": "2022-03-19T16:10:42.389Z"
   },
   {
    "duration": 29,
    "start_time": "2022-03-19T16:10:42.413Z"
   },
   {
    "duration": 52,
    "start_time": "2022-03-19T16:10:42.445Z"
   },
   {
    "duration": 177,
    "start_time": "2022-03-19T16:10:42.499Z"
   },
   {
    "duration": 40,
    "start_time": "2022-03-19T16:10:42.679Z"
   },
   {
    "duration": 12,
    "start_time": "2022-03-19T16:10:42.722Z"
   },
   {
    "duration": 0,
    "start_time": "2022-03-19T16:10:42.737Z"
   },
   {
    "duration": 12,
    "start_time": "2022-03-19T16:14:05.696Z"
   },
   {
    "duration": 10,
    "start_time": "2022-03-19T16:16:21.943Z"
   },
   {
    "duration": 26,
    "start_time": "2022-03-19T16:17:41.081Z"
   },
   {
    "duration": 10,
    "start_time": "2022-03-19T16:17:51.422Z"
   },
   {
    "duration": 4,
    "start_time": "2022-03-19T16:18:54.017Z"
   },
   {
    "duration": 8,
    "start_time": "2022-03-19T16:18:57.814Z"
   },
   {
    "duration": 13,
    "start_time": "2022-03-19T16:18:58.654Z"
   },
   {
    "duration": 6,
    "start_time": "2022-03-19T16:20:23.487Z"
   },
   {
    "duration": 27,
    "start_time": "2022-03-19T16:22:32.313Z"
   },
   {
    "duration": 36,
    "start_time": "2022-03-19T16:22:32.797Z"
   },
   {
    "duration": 8,
    "start_time": "2022-03-19T16:22:33.588Z"
   },
   {
    "duration": 29,
    "start_time": "2022-03-19T16:22:34.159Z"
   },
   {
    "duration": 26,
    "start_time": "2022-03-19T16:22:38.539Z"
   },
   {
    "duration": 29,
    "start_time": "2022-03-19T16:22:38.707Z"
   },
   {
    "duration": 11,
    "start_time": "2022-03-19T16:22:38.887Z"
   },
   {
    "duration": 25,
    "start_time": "2022-03-19T16:22:39.044Z"
   },
   {
    "duration": 26,
    "start_time": "2022-03-19T16:22:40.742Z"
   },
   {
    "duration": 26,
    "start_time": "2022-03-19T16:22:41.358Z"
   },
   {
    "duration": 24,
    "start_time": "2022-03-19T16:22:42.844Z"
   },
   {
    "duration": 615,
    "start_time": "2022-03-19T16:30:55.109Z"
   },
   {
    "duration": 489,
    "start_time": "2022-03-19T16:31:12.185Z"
   },
   {
    "duration": 214,
    "start_time": "2022-03-19T16:31:36.155Z"
   },
   {
    "duration": 441,
    "start_time": "2022-03-19T16:31:55.355Z"
   },
   {
    "duration": 76,
    "start_time": "2022-03-19T16:32:42.642Z"
   },
   {
    "duration": 45,
    "start_time": "2022-03-19T16:32:58.055Z"
   },
   {
    "duration": 43,
    "start_time": "2022-03-19T16:33:14.542Z"
   },
   {
    "duration": 42,
    "start_time": "2022-03-19T17:08:29.499Z"
   },
   {
    "duration": 40,
    "start_time": "2022-03-19T17:08:56.610Z"
   },
   {
    "duration": 63,
    "start_time": "2022-03-19T17:09:19.346Z"
   },
   {
    "duration": 84,
    "start_time": "2022-03-19T17:09:47.155Z"
   },
   {
    "duration": 68,
    "start_time": "2022-03-19T17:09:59.655Z"
   },
   {
    "duration": 60,
    "start_time": "2022-03-19T17:10:31.256Z"
   },
   {
    "duration": 72,
    "start_time": "2022-03-19T17:10:51.774Z"
   },
   {
    "duration": 47,
    "start_time": "2022-03-19T17:11:05.489Z"
   },
   {
    "duration": 49,
    "start_time": "2022-03-19T17:11:45.739Z"
   },
   {
    "duration": 42,
    "start_time": "2022-03-19T17:12:58.140Z"
   },
   {
    "duration": 12,
    "start_time": "2022-03-19T17:14:51.236Z"
   },
   {
    "duration": 26,
    "start_time": "2022-03-19T17:15:03.484Z"
   },
   {
    "duration": 27,
    "start_time": "2022-03-19T17:15:56.792Z"
   },
   {
    "duration": 11,
    "start_time": "2022-03-19T17:16:45.561Z"
   },
   {
    "duration": 78,
    "start_time": "2022-03-19T17:20:03.632Z"
   },
   {
    "duration": 248,
    "start_time": "2022-03-19T17:39:31.359Z"
   },
   {
    "duration": 171,
    "start_time": "2022-03-19T17:40:20.307Z"
   },
   {
    "duration": 158,
    "start_time": "2022-03-19T17:40:23.846Z"
   },
   {
    "duration": 234,
    "start_time": "2022-03-19T17:45:57.092Z"
   },
   {
    "duration": 211,
    "start_time": "2022-03-19T17:48:16.540Z"
   },
   {
    "duration": 128,
    "start_time": "2022-03-19T17:48:20.047Z"
   },
   {
    "duration": 223,
    "start_time": "2022-03-19T17:48:30.938Z"
   },
   {
    "duration": 200,
    "start_time": "2022-03-19T17:49:03.527Z"
   },
   {
    "duration": 11,
    "start_time": "2022-03-19T17:49:05.103Z"
   },
   {
    "duration": 9,
    "start_time": "2022-03-19T17:49:08.604Z"
   },
   {
    "duration": 4,
    "start_time": "2022-03-19T17:49:14.415Z"
   },
   {
    "duration": 1468,
    "start_time": "2022-03-19T17:49:14.422Z"
   },
   {
    "duration": 26,
    "start_time": "2022-03-19T17:49:15.893Z"
   },
   {
    "duration": 53,
    "start_time": "2022-03-19T17:49:15.921Z"
   },
   {
    "duration": 118,
    "start_time": "2022-03-19T17:49:15.987Z"
   },
   {
    "duration": 42,
    "start_time": "2022-03-19T17:49:16.108Z"
   },
   {
    "duration": 191,
    "start_time": "2022-03-19T17:49:16.152Z"
   },
   {
    "duration": 6,
    "start_time": "2022-03-19T17:49:16.346Z"
   },
   {
    "duration": 49,
    "start_time": "2022-03-19T17:49:16.354Z"
   },
   {
    "duration": 26,
    "start_time": "2022-03-19T17:49:16.405Z"
   },
   {
    "duration": 532,
    "start_time": "2022-03-19T17:49:16.433Z"
   },
   {
    "duration": 40,
    "start_time": "2022-03-19T17:49:16.967Z"
   },
   {
    "duration": 11,
    "start_time": "2022-03-19T17:49:17.009Z"
   },
   {
    "duration": 174,
    "start_time": "2022-03-19T17:49:17.025Z"
   },
   {
    "duration": 25,
    "start_time": "2022-03-19T17:49:17.202Z"
   },
   {
    "duration": 44,
    "start_time": "2022-03-19T17:49:17.229Z"
   },
   {
    "duration": 28,
    "start_time": "2022-03-19T17:49:17.276Z"
   },
   {
    "duration": 251,
    "start_time": "2022-03-19T17:49:17.306Z"
   },
   {
    "duration": 20,
    "start_time": "2022-03-19T17:49:17.560Z"
   },
   {
    "duration": 11,
    "start_time": "2022-03-19T17:50:29.130Z"
   },
   {
    "duration": 10,
    "start_time": "2022-03-19T17:50:48.747Z"
   },
   {
    "duration": 10,
    "start_time": "2022-03-19T17:51:09.611Z"
   },
   {
    "duration": 4,
    "start_time": "2022-03-19T17:51:13.613Z"
   },
   {
    "duration": 1283,
    "start_time": "2022-03-19T17:51:13.619Z"
   },
   {
    "duration": 23,
    "start_time": "2022-03-19T17:51:14.904Z"
   },
   {
    "duration": 27,
    "start_time": "2022-03-19T17:51:14.930Z"
   },
   {
    "duration": 159,
    "start_time": "2022-03-19T17:51:14.959Z"
   },
   {
    "duration": 60,
    "start_time": "2022-03-19T17:51:15.120Z"
   },
   {
    "duration": 220,
    "start_time": "2022-03-19T17:51:15.182Z"
   },
   {
    "duration": 75,
    "start_time": "2022-03-19T17:51:15.404Z"
   },
   {
    "duration": 36,
    "start_time": "2022-03-19T17:51:15.483Z"
   },
   {
    "duration": 29,
    "start_time": "2022-03-19T17:51:15.521Z"
   },
   {
    "duration": 532,
    "start_time": "2022-03-19T17:51:15.553Z"
   },
   {
    "duration": 37,
    "start_time": "2022-03-19T17:51:16.087Z"
   },
   {
    "duration": 11,
    "start_time": "2022-03-19T17:51:16.127Z"
   },
   {
    "duration": 192,
    "start_time": "2022-03-19T17:51:16.140Z"
   },
   {
    "duration": 43,
    "start_time": "2022-03-19T17:51:16.334Z"
   },
   {
    "duration": 41,
    "start_time": "2022-03-19T17:51:16.379Z"
   },
   {
    "duration": 35,
    "start_time": "2022-03-19T17:51:16.423Z"
   },
   {
    "duration": 306,
    "start_time": "2022-03-19T17:51:16.460Z"
   },
   {
    "duration": 0,
    "start_time": "2022-03-19T17:51:16.769Z"
   },
   {
    "duration": 312,
    "start_time": "2022-03-19T17:51:29.361Z"
   },
   {
    "duration": 242,
    "start_time": "2022-03-19T17:52:29.769Z"
   },
   {
    "duration": 122,
    "start_time": "2022-03-19T17:52:33.240Z"
   },
   {
    "duration": 658,
    "start_time": "2022-03-19T17:54:16.587Z"
   },
   {
    "duration": 113,
    "start_time": "2022-03-19T17:54:19.307Z"
   },
   {
    "duration": 29,
    "start_time": "2022-03-19T17:55:09.930Z"
   },
   {
    "duration": 29,
    "start_time": "2022-03-19T17:55:16.661Z"
   },
   {
    "duration": 401,
    "start_time": "2022-03-19T17:55:59.716Z"
   },
   {
    "duration": 4,
    "start_time": "2022-03-19T17:57:55.140Z"
   },
   {
    "duration": 1232,
    "start_time": "2022-03-19T17:57:55.146Z"
   },
   {
    "duration": 22,
    "start_time": "2022-03-19T17:57:56.380Z"
   },
   {
    "duration": 24,
    "start_time": "2022-03-19T17:57:56.404Z"
   },
   {
    "duration": 181,
    "start_time": "2022-03-19T17:57:56.432Z"
   },
   {
    "duration": 39,
    "start_time": "2022-03-19T17:57:56.615Z"
   },
   {
    "duration": 188,
    "start_time": "2022-03-19T17:57:56.657Z"
   },
   {
    "duration": 6,
    "start_time": "2022-03-19T17:57:56.847Z"
   },
   {
    "duration": 490,
    "start_time": "2022-03-19T17:57:56.874Z"
   },
   {
    "duration": 40,
    "start_time": "2022-03-19T17:57:57.366Z"
   },
   {
    "duration": 10,
    "start_time": "2022-03-19T17:57:57.408Z"
   },
   {
    "duration": 0,
    "start_time": "2022-03-19T17:57:57.420Z"
   },
   {
    "duration": 0,
    "start_time": "2022-03-19T17:57:57.423Z"
   },
   {
    "duration": 0,
    "start_time": "2022-03-19T17:57:57.424Z"
   },
   {
    "duration": 0,
    "start_time": "2022-03-19T17:57:57.425Z"
   },
   {
    "duration": 0,
    "start_time": "2022-03-19T17:57:57.427Z"
   },
   {
    "duration": 0,
    "start_time": "2022-03-19T17:57:57.428Z"
   },
   {
    "duration": 0,
    "start_time": "2022-03-19T17:57:57.430Z"
   },
   {
    "duration": 0,
    "start_time": "2022-03-19T17:57:57.432Z"
   },
   {
    "duration": 0,
    "start_time": "2022-03-19T17:57:57.433Z"
   },
   {
    "duration": 37,
    "start_time": "2022-03-19T17:58:09.123Z"
   },
   {
    "duration": 11,
    "start_time": "2022-03-19T17:58:25.955Z"
   },
   {
    "duration": 25,
    "start_time": "2022-03-19T17:58:34.710Z"
   },
   {
    "duration": 12,
    "start_time": "2022-03-19T18:00:12.094Z"
   },
   {
    "duration": 12,
    "start_time": "2022-03-19T18:00:35.444Z"
   },
   {
    "duration": 25,
    "start_time": "2022-03-19T18:00:43.020Z"
   },
   {
    "duration": 26,
    "start_time": "2022-03-19T18:00:44.135Z"
   },
   {
    "duration": 26,
    "start_time": "2022-03-19T18:00:44.522Z"
   },
   {
    "duration": 140,
    "start_time": "2022-03-19T18:01:12.467Z"
   },
   {
    "duration": 270,
    "start_time": "2022-03-19T18:01:15.220Z"
   },
   {
    "duration": 673,
    "start_time": "2022-03-19T18:01:15.493Z"
   },
   {
    "duration": 118,
    "start_time": "2022-03-19T18:01:16.614Z"
   },
   {
    "duration": 12,
    "start_time": "2022-03-19T18:52:32.019Z"
   },
   {
    "duration": 25,
    "start_time": "2022-03-19T18:53:06.791Z"
   },
   {
    "duration": 8,
    "start_time": "2022-03-19T18:53:08.371Z"
   },
   {
    "duration": 6,
    "start_time": "2022-03-19T18:53:10.247Z"
   },
   {
    "duration": 30,
    "start_time": "2022-03-19T18:55:53.847Z"
   },
   {
    "duration": 105,
    "start_time": "2022-03-19T18:56:29.721Z"
   },
   {
    "duration": 31,
    "start_time": "2022-03-19T18:57:25.067Z"
   },
   {
    "duration": 16,
    "start_time": "2022-03-19T19:06:03.750Z"
   },
   {
    "duration": 23,
    "start_time": "2022-03-19T19:08:34.096Z"
   },
   {
    "duration": 5,
    "start_time": "2022-03-19T19:08:41.768Z"
   },
   {
    "duration": 5,
    "start_time": "2022-03-19T19:08:42.327Z"
   },
   {
    "duration": 9,
    "start_time": "2022-03-19T19:08:43.963Z"
   },
   {
    "duration": 1482,
    "start_time": "2022-03-19T19:08:53.046Z"
   },
   {
    "duration": 107,
    "start_time": "2022-03-19T19:09:09.407Z"
   },
   {
    "duration": 5,
    "start_time": "2022-03-19T19:09:27.007Z"
   },
   {
    "duration": 7,
    "start_time": "2022-03-19T19:09:27.344Z"
   },
   {
    "duration": 5,
    "start_time": "2022-03-19T19:09:27.645Z"
   },
   {
    "duration": 6,
    "start_time": "2022-03-19T19:09:27.950Z"
   },
   {
    "duration": 18,
    "start_time": "2022-03-19T19:09:50.387Z"
   },
   {
    "duration": 2080,
    "start_time": "2022-03-19T19:12:40.827Z"
   },
   {
    "duration": 12,
    "start_time": "2022-03-19T19:17:38.588Z"
   },
   {
    "duration": 4,
    "start_time": "2022-03-19T19:17:56.079Z"
   },
   {
    "duration": 109,
    "start_time": "2022-03-19T19:18:09.759Z"
   },
   {
    "duration": 308754,
    "start_time": "2022-03-19T19:19:10.887Z"
   },
   {
    "duration": 15411,
    "start_time": "2022-03-19T19:33:35.874Z"
   },
   {
    "duration": 26,
    "start_time": "2022-03-19T19:38:04.537Z"
   },
   {
    "duration": 5,
    "start_time": "2022-03-19T19:38:05.808Z"
   },
   {
    "duration": 9,
    "start_time": "2022-03-19T19:38:06.534Z"
   },
   {
    "duration": 130,
    "start_time": "2022-03-19T19:38:07.192Z"
   },
   {
    "duration": 6,
    "start_time": "2022-03-19T19:38:07.518Z"
   },
   {
    "duration": 7,
    "start_time": "2022-03-19T19:38:07.998Z"
   },
   {
    "duration": 6,
    "start_time": "2022-03-19T19:38:08.295Z"
   },
   {
    "duration": 5,
    "start_time": "2022-03-19T19:38:09.235Z"
   },
   {
    "duration": 15598,
    "start_time": "2022-03-19T19:38:11.559Z"
   },
   {
    "duration": 14,
    "start_time": "2022-03-19T19:39:44.401Z"
   },
   {
    "duration": 15,
    "start_time": "2022-03-19T19:40:03.467Z"
   },
   {
    "duration": 7,
    "start_time": "2022-03-19T19:40:48.113Z"
   },
   {
    "duration": 8,
    "start_time": "2022-03-19T19:42:37.753Z"
   },
   {
    "duration": 15835,
    "start_time": "2022-03-19T19:42:43.872Z"
   },
   {
    "duration": 15,
    "start_time": "2022-03-19T19:44:35.393Z"
   },
   {
    "duration": 12,
    "start_time": "2022-03-19T19:52:56.409Z"
   },
   {
    "duration": 5,
    "start_time": "2022-03-19T19:53:16.185Z"
   },
   {
    "duration": 13,
    "start_time": "2022-03-19T19:53:27.302Z"
   },
   {
    "duration": 9,
    "start_time": "2022-03-19T19:53:37.165Z"
   },
   {
    "duration": 7,
    "start_time": "2022-03-19T19:53:49.852Z"
   },
   {
    "duration": 2835,
    "start_time": "2022-03-19T19:53:58.054Z"
   },
   {
    "duration": 16,
    "start_time": "2022-03-19T19:58:08.079Z"
   },
   {
    "duration": 110,
    "start_time": "2022-03-19T19:59:21.742Z"
   },
   {
    "duration": 33,
    "start_time": "2022-03-19T19:59:28.553Z"
   },
   {
    "duration": 69,
    "start_time": "2022-03-19T19:59:34.287Z"
   },
   {
    "duration": 5,
    "start_time": "2022-03-19T20:16:43.189Z"
   },
   {
    "duration": 89,
    "start_time": "2022-03-19T20:17:26.805Z"
   },
   {
    "duration": 92,
    "start_time": "2022-03-19T20:17:46.820Z"
   },
   {
    "duration": 3210,
    "start_time": "2022-03-19T20:17:55.796Z"
   },
   {
    "duration": 84,
    "start_time": "2022-03-19T20:18:01.695Z"
   },
   {
    "duration": 3126,
    "start_time": "2022-03-19T20:19:44.509Z"
   },
   {
    "duration": 28,
    "start_time": "2022-03-19T20:19:53.606Z"
   },
   {
    "duration": 5,
    "start_time": "2022-03-19T20:19:55.044Z"
   },
   {
    "duration": 5,
    "start_time": "2022-03-19T20:19:55.535Z"
   },
   {
    "duration": 111,
    "start_time": "2022-03-19T20:19:56.359Z"
   },
   {
    "duration": 6,
    "start_time": "2022-03-19T20:19:56.631Z"
   },
   {
    "duration": 6,
    "start_time": "2022-03-19T20:19:56.884Z"
   },
   {
    "duration": 7,
    "start_time": "2022-03-19T20:19:57.862Z"
   },
   {
    "duration": 7,
    "start_time": "2022-03-19T20:20:10.300Z"
   },
   {
    "duration": 68,
    "start_time": "2022-03-19T20:20:14.657Z"
   },
   {
    "duration": 26,
    "start_time": "2022-03-19T20:20:39.531Z"
   },
   {
    "duration": 18,
    "start_time": "2022-03-19T20:21:19.521Z"
   },
   {
    "duration": 5,
    "start_time": "2022-03-19T20:21:22.099Z"
   },
   {
    "duration": 5,
    "start_time": "2022-03-19T20:21:22.528Z"
   },
   {
    "duration": 52,
    "start_time": "2022-03-19T20:21:22.761Z"
   },
   {
    "duration": 5,
    "start_time": "2022-03-19T20:21:24.001Z"
   },
   {
    "duration": 6,
    "start_time": "2022-03-19T20:21:24.255Z"
   },
   {
    "duration": 7,
    "start_time": "2022-03-19T20:21:24.465Z"
   },
   {
    "duration": 7,
    "start_time": "2022-03-19T20:21:25.371Z"
   },
   {
    "duration": 1970,
    "start_time": "2022-03-19T20:22:38.401Z"
   },
   {
    "duration": 1353,
    "start_time": "2022-03-19T20:22:40.374Z"
   },
   {
    "duration": 27,
    "start_time": "2022-03-19T20:22:41.729Z"
   },
   {
    "duration": 33,
    "start_time": "2022-03-19T20:22:41.774Z"
   },
   {
    "duration": 185,
    "start_time": "2022-03-19T20:22:41.810Z"
   },
   {
    "duration": 178,
    "start_time": "2022-03-19T20:22:41.997Z"
   },
   {
    "duration": 6,
    "start_time": "2022-03-19T20:22:42.177Z"
   },
   {
    "duration": 514,
    "start_time": "2022-03-19T20:22:42.186Z"
   },
   {
    "duration": 40,
    "start_time": "2022-03-19T20:22:42.702Z"
   },
   {
    "duration": 54,
    "start_time": "2022-03-19T20:22:42.745Z"
   },
   {
    "duration": 10,
    "start_time": "2022-03-19T20:22:42.802Z"
   },
   {
    "duration": 193,
    "start_time": "2022-03-19T20:22:42.814Z"
   },
   {
    "duration": 265,
    "start_time": "2022-03-19T20:22:43.009Z"
   },
   {
    "duration": 649,
    "start_time": "2022-03-19T20:22:43.285Z"
   },
   {
    "duration": 125,
    "start_time": "2022-03-19T20:22:43.936Z"
   },
   {
    "duration": 3329,
    "start_time": "2022-03-19T20:22:44.074Z"
   },
   {
    "duration": 14,
    "start_time": "2022-03-19T20:22:47.405Z"
   },
   {
    "duration": 8,
    "start_time": "2022-03-19T20:22:47.421Z"
   },
   {
    "duration": 6,
    "start_time": "2022-03-19T20:22:47.431Z"
   },
   {
    "duration": 88,
    "start_time": "2022-03-19T20:22:47.439Z"
   },
   {
    "duration": 5,
    "start_time": "2022-03-19T20:22:47.530Z"
   },
   {
    "duration": 7,
    "start_time": "2022-03-19T20:22:47.537Z"
   },
   {
    "duration": 29,
    "start_time": "2022-03-19T20:22:47.546Z"
   },
   {
    "duration": 6,
    "start_time": "2022-03-19T20:22:47.577Z"
   },
   {
    "duration": 32,
    "start_time": "2022-03-19T20:22:47.586Z"
   },
   {
    "duration": 2618,
    "start_time": "2022-03-19T20:25:11.769Z"
   },
   {
    "duration": 174,
    "start_time": "2022-03-19T20:26:37.174Z"
   },
   {
    "duration": 5,
    "start_time": "2022-03-19T20:27:25.394Z"
   },
   {
    "duration": 1352,
    "start_time": "2022-03-19T20:27:25.402Z"
   },
   {
    "duration": 32,
    "start_time": "2022-03-19T20:27:26.757Z"
   },
   {
    "duration": 52,
    "start_time": "2022-03-19T20:27:26.791Z"
   },
   {
    "duration": 174,
    "start_time": "2022-03-19T20:27:26.846Z"
   },
   {
    "duration": 185,
    "start_time": "2022-03-19T20:27:27.022Z"
   },
   {
    "duration": 7,
    "start_time": "2022-03-19T20:27:27.209Z"
   },
   {
    "duration": 530,
    "start_time": "2022-03-19T20:27:27.218Z"
   },
   {
    "duration": 48,
    "start_time": "2022-03-19T20:27:27.750Z"
   },
   {
    "duration": 28,
    "start_time": "2022-03-19T20:27:27.800Z"
   },
   {
    "duration": 33,
    "start_time": "2022-03-19T20:27:27.830Z"
   },
   {
    "duration": 198,
    "start_time": "2022-03-19T20:27:27.866Z"
   },
   {
    "duration": 275,
    "start_time": "2022-03-19T20:27:28.066Z"
   },
   {
    "duration": 662,
    "start_time": "2022-03-19T20:27:28.344Z"
   },
   {
    "duration": 129,
    "start_time": "2022-03-19T20:27:29.008Z"
   },
   {
    "duration": 3310,
    "start_time": "2022-03-19T20:27:29.139Z"
   },
   {
    "duration": 13,
    "start_time": "2022-03-19T20:27:32.451Z"
   },
   {
    "duration": 17,
    "start_time": "2022-03-19T20:27:32.479Z"
   },
   {
    "duration": 39,
    "start_time": "2022-03-19T20:27:32.498Z"
   },
   {
    "duration": 80,
    "start_time": "2022-03-19T20:27:32.540Z"
   },
   {
    "duration": 7,
    "start_time": "2022-03-19T20:27:32.622Z"
   },
   {
    "duration": 27,
    "start_time": "2022-03-19T20:27:32.631Z"
   },
   {
    "duration": 34,
    "start_time": "2022-03-19T20:27:32.660Z"
   },
   {
    "duration": 22,
    "start_time": "2022-03-19T20:27:32.696Z"
   },
   {
    "duration": 44,
    "start_time": "2022-03-19T20:27:32.720Z"
   },
   {
    "duration": 792,
    "start_time": "2022-03-19T20:27:32.766Z"
   },
   {
    "duration": 0,
    "start_time": "2022-03-19T20:27:33.561Z"
   },
   {
    "duration": 4,
    "start_time": "2022-03-19T20:28:23.188Z"
   },
   {
    "duration": 6,
    "start_time": "2022-03-19T20:28:54.662Z"
   },
   {
    "duration": 750,
    "start_time": "2022-03-19T20:28:59.812Z"
   },
   {
    "duration": 760,
    "start_time": "2022-03-19T20:29:28.467Z"
   },
   {
    "duration": 750,
    "start_time": "2022-03-19T20:29:44.924Z"
   },
   {
    "duration": 15,
    "start_time": "2022-03-19T20:34:52.636Z"
   },
   {
    "duration": 5,
    "start_time": "2022-03-19T20:34:57.731Z"
   },
   {
    "duration": 13,
    "start_time": "2022-03-19T20:35:03.289Z"
   },
   {
    "duration": 139,
    "start_time": "2022-03-19T20:35:09.143Z"
   },
   {
    "duration": 2240,
    "start_time": "2022-03-19T20:37:20.465Z"
   },
   {
    "duration": 174,
    "start_time": "2022-03-19T20:38:11.169Z"
   },
   {
    "duration": 5,
    "start_time": "2022-03-19T20:38:16.205Z"
   },
   {
    "duration": 1368,
    "start_time": "2022-03-19T20:38:16.213Z"
   },
   {
    "duration": 30,
    "start_time": "2022-03-19T20:38:17.584Z"
   },
   {
    "duration": 33,
    "start_time": "2022-03-19T20:38:17.617Z"
   },
   {
    "duration": 173,
    "start_time": "2022-03-19T20:38:17.681Z"
   },
   {
    "duration": 198,
    "start_time": "2022-03-19T20:38:17.856Z"
   },
   {
    "duration": 21,
    "start_time": "2022-03-19T20:38:18.057Z"
   },
   {
    "duration": 635,
    "start_time": "2022-03-19T20:38:18.081Z"
   },
   {
    "duration": 37,
    "start_time": "2022-03-19T20:38:18.718Z"
   },
   {
    "duration": 35,
    "start_time": "2022-03-19T20:38:18.775Z"
   },
   {
    "duration": 11,
    "start_time": "2022-03-19T20:38:18.813Z"
   },
   {
    "duration": 200,
    "start_time": "2022-03-19T20:38:18.828Z"
   },
   {
    "duration": 291,
    "start_time": "2022-03-19T20:38:19.031Z"
   },
   {
    "duration": 668,
    "start_time": "2022-03-19T20:38:19.325Z"
   },
   {
    "duration": 136,
    "start_time": "2022-03-19T20:38:19.996Z"
   },
   {
    "duration": 3334,
    "start_time": "2022-03-19T20:38:20.135Z"
   },
   {
    "duration": 14,
    "start_time": "2022-03-19T20:38:23.474Z"
   },
   {
    "duration": 9,
    "start_time": "2022-03-19T20:38:23.491Z"
   },
   {
    "duration": 8,
    "start_time": "2022-03-19T20:38:23.503Z"
   },
   {
    "duration": 95,
    "start_time": "2022-03-19T20:38:23.514Z"
   },
   {
    "duration": 6,
    "start_time": "2022-03-19T20:38:23.611Z"
   },
   {
    "duration": 9,
    "start_time": "2022-03-19T20:38:23.619Z"
   },
   {
    "duration": 12,
    "start_time": "2022-03-19T20:38:23.630Z"
   },
   {
    "duration": 41,
    "start_time": "2022-03-19T20:38:23.644Z"
   },
   {
    "duration": 34,
    "start_time": "2022-03-19T20:38:23.687Z"
   },
   {
    "duration": 781,
    "start_time": "2022-03-19T20:38:23.723Z"
   },
   {
    "duration": 175,
    "start_time": "2022-03-19T20:38:24.507Z"
   },
   {
    "duration": 9801,
    "start_time": "2022-03-19T20:38:24.693Z"
   },
   {
    "duration": 3211,
    "start_time": "2022-03-19T20:38:34.497Z"
   },
   {
    "duration": 1087,
    "start_time": "2022-03-19T20:39:38.819Z"
   },
   {
    "duration": 88,
    "start_time": "2022-03-19T20:39:42.589Z"
   },
   {
    "duration": 53509,
    "start_time": "2022-03-19T20:39:48.658Z"
   },
   {
    "duration": 138,
    "start_time": "2022-03-19T21:00:14.990Z"
   },
   {
    "duration": 3680,
    "start_time": "2022-03-19T21:00:17.291Z"
   },
   {
    "duration": 15687,
    "start_time": "2022-03-19T21:00:50.125Z"
   },
   {
    "duration": 12,
    "start_time": "2022-03-19T21:07:31.548Z"
   },
   {
    "duration": 6,
    "start_time": "2022-03-19T21:09:50.366Z"
   },
   {
    "duration": 1278,
    "start_time": "2022-03-19T21:09:50.554Z"
   },
   {
    "duration": 20,
    "start_time": "2022-03-19T21:09:51.835Z"
   },
   {
    "duration": 44,
    "start_time": "2022-03-19T21:09:51.857Z"
   },
   {
    "duration": 136,
    "start_time": "2022-03-19T21:09:51.904Z"
   },
   {
    "duration": 181,
    "start_time": "2022-03-19T21:09:52.042Z"
   },
   {
    "duration": 7,
    "start_time": "2022-03-19T21:09:52.225Z"
   },
   {
    "duration": 472,
    "start_time": "2022-03-19T21:09:53.260Z"
   },
   {
    "duration": 42,
    "start_time": "2022-03-19T21:09:55.742Z"
   },
   {
    "duration": 29,
    "start_time": "2022-03-19T21:09:56.146Z"
   },
   {
    "duration": 11,
    "start_time": "2022-03-19T21:09:57.930Z"
   },
   {
    "duration": 119,
    "start_time": "2022-03-19T21:09:58.140Z"
   },
   {
    "duration": 253,
    "start_time": "2022-03-19T21:09:58.413Z"
   },
   {
    "duration": 147,
    "start_time": "2022-03-19T21:09:59.371Z"
   },
   {
    "duration": 6,
    "start_time": "2022-03-19T21:10:13.828Z"
   },
   {
    "duration": 1297,
    "start_time": "2022-03-19T21:10:13.993Z"
   },
   {
    "duration": 22,
    "start_time": "2022-03-19T21:10:15.293Z"
   },
   {
    "duration": 28,
    "start_time": "2022-03-19T21:10:15.317Z"
   },
   {
    "duration": 147,
    "start_time": "2022-03-19T21:10:15.348Z"
   },
   {
    "duration": 188,
    "start_time": "2022-03-19T21:10:15.498Z"
   },
   {
    "duration": 6,
    "start_time": "2022-03-19T21:10:15.689Z"
   },
   {
    "duration": 494,
    "start_time": "2022-03-19T21:10:15.697Z"
   },
   {
    "duration": 39,
    "start_time": "2022-03-19T21:10:16.194Z"
   },
   {
    "duration": 28,
    "start_time": "2022-03-19T21:10:18.817Z"
   },
   {
    "duration": 12,
    "start_time": "2022-03-19T21:10:19.327Z"
   },
   {
    "duration": 128,
    "start_time": "2022-03-19T21:10:19.587Z"
   },
   {
    "duration": 7,
    "start_time": "2022-03-19T21:10:20.272Z"
   },
   {
    "duration": 157,
    "start_time": "2022-03-19T21:10:20.702Z"
   },
   {
    "duration": 123,
    "start_time": "2022-03-19T21:13:14.288Z"
   },
   {
    "duration": 22,
    "start_time": "2022-03-19T21:13:56.279Z"
   },
   {
    "duration": 7,
    "start_time": "2022-03-19T21:14:11.066Z"
   },
   {
    "duration": 1246,
    "start_time": "2022-03-19T21:14:11.344Z"
   },
   {
    "duration": 21,
    "start_time": "2022-03-19T21:14:12.593Z"
   },
   {
    "duration": 23,
    "start_time": "2022-03-19T21:14:12.617Z"
   },
   {
    "duration": 6,
    "start_time": "2022-03-19T23:01:17.348Z"
   },
   {
    "duration": 1182,
    "start_time": "2022-03-19T23:01:17.356Z"
   },
   {
    "duration": 19,
    "start_time": "2022-03-19T23:01:18.541Z"
   },
   {
    "duration": 21,
    "start_time": "2022-03-19T23:01:18.573Z"
   },
   {
    "duration": 132,
    "start_time": "2022-03-19T23:01:18.597Z"
   },
   {
    "duration": 157,
    "start_time": "2022-03-19T23:01:18.731Z"
   },
   {
    "duration": 6,
    "start_time": "2022-03-19T23:01:18.890Z"
   },
   {
    "duration": 468,
    "start_time": "2022-03-19T23:01:18.898Z"
   },
   {
    "duration": 36,
    "start_time": "2022-03-19T23:01:19.373Z"
   },
   {
    "duration": 27,
    "start_time": "2022-03-19T23:01:19.411Z"
   },
   {
    "duration": 35,
    "start_time": "2022-03-19T23:01:19.442Z"
   },
   {
    "duration": 136,
    "start_time": "2022-03-19T23:01:19.479Z"
   },
   {
    "duration": 3,
    "start_time": "2022-03-19T23:01:19.618Z"
   },
   {
    "duration": 157,
    "start_time": "2022-03-19T23:01:19.623Z"
   },
   {
    "duration": 205,
    "start_time": "2022-03-19T23:01:19.782Z"
   },
   {
    "duration": 771,
    "start_time": "2022-03-19T23:01:19.989Z"
   },
   {
    "duration": 149,
    "start_time": "2022-03-19T23:01:20.763Z"
   },
   {
    "duration": 63,
    "start_time": "2022-03-19T23:01:20.914Z"
   },
   {
    "duration": 0,
    "start_time": "2022-03-19T23:01:20.979Z"
   },
   {
    "duration": 0,
    "start_time": "2022-03-19T23:01:20.981Z"
   },
   {
    "duration": 0,
    "start_time": "2022-03-19T23:01:20.982Z"
   },
   {
    "duration": 0,
    "start_time": "2022-03-19T23:01:20.984Z"
   },
   {
    "duration": 0,
    "start_time": "2022-03-19T23:01:20.985Z"
   },
   {
    "duration": 0,
    "start_time": "2022-03-19T23:01:20.986Z"
   },
   {
    "duration": 0,
    "start_time": "2022-03-19T23:01:20.988Z"
   },
   {
    "duration": 0,
    "start_time": "2022-03-19T23:01:20.989Z"
   },
   {
    "duration": 0,
    "start_time": "2022-03-19T23:01:20.991Z"
   },
   {
    "duration": 0,
    "start_time": "2022-03-19T23:01:20.992Z"
   },
   {
    "duration": 0,
    "start_time": "2022-03-19T23:01:20.994Z"
   },
   {
    "duration": 0,
    "start_time": "2022-03-19T23:01:20.995Z"
   },
   {
    "duration": 0,
    "start_time": "2022-03-19T23:01:20.996Z"
   },
   {
    "duration": 0,
    "start_time": "2022-03-19T23:01:20.997Z"
   },
   {
    "duration": 38,
    "start_time": "2022-03-19T23:02:08.142Z"
   },
   {
    "duration": 139,
    "start_time": "2022-03-19T23:03:00.057Z"
   },
   {
    "duration": 155,
    "start_time": "2022-03-19T23:03:27.391Z"
   },
   {
    "duration": 9,
    "start_time": "2022-03-19T23:03:33.236Z"
   },
   {
    "duration": 1999,
    "start_time": "2022-03-19T23:03:33.248Z"
   },
   {
    "duration": 38,
    "start_time": "2022-03-19T23:03:35.250Z"
   },
   {
    "duration": 29,
    "start_time": "2022-03-19T23:03:35.292Z"
   },
   {
    "duration": 157,
    "start_time": "2022-03-19T23:03:35.324Z"
   },
   {
    "duration": 302,
    "start_time": "2022-03-19T23:03:35.484Z"
   },
   {
    "duration": 8,
    "start_time": "2022-03-19T23:03:35.789Z"
   },
   {
    "duration": 773,
    "start_time": "2022-03-19T23:03:35.800Z"
   },
   {
    "duration": 46,
    "start_time": "2022-03-19T23:03:36.577Z"
   },
   {
    "duration": 58,
    "start_time": "2022-03-19T23:03:36.629Z"
   },
   {
    "duration": 12,
    "start_time": "2022-03-19T23:03:36.689Z"
   },
   {
    "duration": 144,
    "start_time": "2022-03-19T23:03:36.704Z"
   },
   {
    "duration": 4,
    "start_time": "2022-03-19T23:03:36.850Z"
   },
   {
    "duration": 159,
    "start_time": "2022-03-19T23:03:36.857Z"
   },
   {
    "duration": 207,
    "start_time": "2022-03-19T23:03:37.018Z"
   },
   {
    "duration": 946,
    "start_time": "2022-03-19T23:03:37.227Z"
   },
   {
    "duration": 147,
    "start_time": "2022-03-19T23:03:38.176Z"
   },
   {
    "duration": 157,
    "start_time": "2022-03-19T23:03:38.326Z"
   },
   {
    "duration": 6303,
    "start_time": "2022-03-19T23:03:38.485Z"
   },
   {
    "duration": 19,
    "start_time": "2022-03-19T23:03:44.791Z"
   },
   {
    "duration": 12,
    "start_time": "2022-03-19T23:03:44.813Z"
   },
   {
    "duration": 9,
    "start_time": "2022-03-19T23:03:44.827Z"
   },
   {
    "duration": 132,
    "start_time": "2022-03-19T23:03:44.838Z"
   },
   {
    "duration": 5,
    "start_time": "2022-03-19T23:03:44.972Z"
   },
   {
    "duration": 10,
    "start_time": "2022-03-19T23:03:44.979Z"
   },
   {
    "duration": 21,
    "start_time": "2022-03-19T23:03:44.991Z"
   },
   {
    "duration": 31,
    "start_time": "2022-03-19T23:03:45.015Z"
   },
   {
    "duration": 47,
    "start_time": "2022-03-19T23:03:45.053Z"
   },
   {
    "duration": 1153,
    "start_time": "2022-03-19T23:03:45.102Z"
   },
   {
    "duration": 126,
    "start_time": "2022-03-19T23:03:46.258Z"
   },
   {
    "duration": 78230,
    "start_time": "2022-03-19T23:03:46.388Z"
   },
   {
    "duration": 193,
    "start_time": "2022-03-19T23:05:04.620Z"
   },
   {
    "duration": 25733,
    "start_time": "2022-03-19T23:05:04.816Z"
   },
   {
    "duration": 46,
    "start_time": "2022-03-19T23:12:27.966Z"
   },
   {
    "duration": 99,
    "start_time": "2022-03-19T23:12:35.087Z"
   },
   {
    "duration": 92,
    "start_time": "2022-03-19T23:12:55.143Z"
   },
   {
    "duration": 502,
    "start_time": "2022-03-19T23:18:55.576Z"
   },
   {
    "duration": 6,
    "start_time": "2022-03-19T23:22:30.219Z"
   },
   {
    "duration": 1287,
    "start_time": "2022-03-19T23:22:30.227Z"
   },
   {
    "duration": 21,
    "start_time": "2022-03-19T23:22:31.516Z"
   },
   {
    "duration": 46,
    "start_time": "2022-03-19T23:22:31.540Z"
   },
   {
    "duration": 153,
    "start_time": "2022-03-19T23:22:31.589Z"
   },
   {
    "duration": 168,
    "start_time": "2022-03-19T23:22:31.744Z"
   },
   {
    "duration": 6,
    "start_time": "2022-03-19T23:22:31.915Z"
   },
   {
    "duration": 472,
    "start_time": "2022-03-19T23:22:31.923Z"
   },
   {
    "duration": 37,
    "start_time": "2022-03-19T23:22:32.397Z"
   },
   {
    "duration": 52,
    "start_time": "2022-03-19T23:22:32.437Z"
   },
   {
    "duration": 11,
    "start_time": "2022-03-19T23:22:32.491Z"
   },
   {
    "duration": 187,
    "start_time": "2022-03-19T23:22:32.504Z"
   },
   {
    "duration": 4,
    "start_time": "2022-03-19T23:22:32.693Z"
   },
   {
    "duration": 160,
    "start_time": "2022-03-19T23:22:32.699Z"
   },
   {
    "duration": 196,
    "start_time": "2022-03-19T23:22:32.862Z"
   },
   {
    "duration": 902,
    "start_time": "2022-03-19T23:22:33.060Z"
   },
   {
    "duration": 150,
    "start_time": "2022-03-19T23:22:33.964Z"
   },
   {
    "duration": 157,
    "start_time": "2022-03-19T23:22:34.116Z"
   },
   {
    "duration": 4415,
    "start_time": "2022-03-19T23:22:34.278Z"
   },
   {
    "duration": 14,
    "start_time": "2022-03-19T23:22:38.696Z"
   },
   {
    "duration": 63,
    "start_time": "2022-03-19T23:22:38.712Z"
   },
   {
    "duration": 8,
    "start_time": "2022-03-19T23:22:38.778Z"
   },
   {
    "duration": 132,
    "start_time": "2022-03-19T23:22:38.788Z"
   },
   {
    "duration": 6,
    "start_time": "2022-03-19T23:22:38.974Z"
   },
   {
    "duration": 9,
    "start_time": "2022-03-19T23:22:38.982Z"
   },
   {
    "duration": 8,
    "start_time": "2022-03-19T23:22:38.993Z"
   },
   {
    "duration": 6,
    "start_time": "2022-03-19T23:22:39.003Z"
   },
   {
    "duration": 77,
    "start_time": "2022-03-19T23:22:39.011Z"
   },
   {
    "duration": 2019,
    "start_time": "2022-03-19T23:22:39.090Z"
   },
   {
    "duration": 179,
    "start_time": "2022-03-19T23:22:41.111Z"
   },
   {
    "duration": 75433,
    "start_time": "2022-03-19T23:22:41.375Z"
   },
   {
    "duration": 3794,
    "start_time": "2022-03-19T23:23:56.810Z"
   },
   {
    "duration": 1986,
    "start_time": "2022-03-20T00:16:14.264Z"
   },
   {
    "duration": 5,
    "start_time": "2022-03-20T00:22:59.599Z"
   },
   {
    "duration": 1373,
    "start_time": "2022-03-20T00:22:59.607Z"
   },
   {
    "duration": 26,
    "start_time": "2022-03-20T00:23:00.982Z"
   },
   {
    "duration": 34,
    "start_time": "2022-03-20T00:23:01.010Z"
   },
   {
    "duration": 206,
    "start_time": "2022-03-20T00:23:01.047Z"
   },
   {
    "duration": 168,
    "start_time": "2022-03-20T00:23:01.256Z"
   },
   {
    "duration": 7,
    "start_time": "2022-03-20T00:23:01.427Z"
   },
   {
    "duration": 534,
    "start_time": "2022-03-20T00:23:01.437Z"
   },
   {
    "duration": 42,
    "start_time": "2022-03-20T00:23:01.974Z"
   },
   {
    "duration": 60,
    "start_time": "2022-03-20T00:23:02.019Z"
   },
   {
    "duration": 13,
    "start_time": "2022-03-20T00:23:02.082Z"
   },
   {
    "duration": 212,
    "start_time": "2022-03-20T00:23:02.098Z"
   },
   {
    "duration": 4,
    "start_time": "2022-03-20T00:23:02.312Z"
   },
   {
    "duration": 163,
    "start_time": "2022-03-20T00:23:02.321Z"
   },
   {
    "duration": 196,
    "start_time": "2022-03-20T00:23:02.487Z"
   },
   {
    "duration": 924,
    "start_time": "2022-03-20T00:23:02.685Z"
   },
   {
    "duration": 151,
    "start_time": "2022-03-20T00:23:03.611Z"
   },
   {
    "duration": 161,
    "start_time": "2022-03-20T00:23:03.763Z"
   },
   {
    "duration": 3835,
    "start_time": "2022-03-20T00:23:03.926Z"
   },
   {
    "duration": 23,
    "start_time": "2022-03-20T00:23:07.763Z"
   },
   {
    "duration": 10,
    "start_time": "2022-03-20T00:23:07.788Z"
   },
   {
    "duration": 9,
    "start_time": "2022-03-20T00:23:07.800Z"
   },
   {
    "duration": 89,
    "start_time": "2022-03-20T00:23:07.810Z"
   },
   {
    "duration": 5,
    "start_time": "2022-03-20T00:23:07.901Z"
   },
   {
    "duration": 9,
    "start_time": "2022-03-20T00:23:07.908Z"
   },
   {
    "duration": 9,
    "start_time": "2022-03-20T00:23:07.919Z"
   },
   {
    "duration": 7,
    "start_time": "2022-03-20T00:23:07.930Z"
   },
   {
    "duration": 55,
    "start_time": "2022-03-20T00:23:07.939Z"
   },
   {
    "duration": 1113,
    "start_time": "2022-03-20T00:23:07.996Z"
   },
   {
    "duration": 169,
    "start_time": "2022-03-20T00:23:09.111Z"
   },
   {
    "duration": 71054,
    "start_time": "2022-03-20T00:23:09.373Z"
   },
   {
    "duration": 3775,
    "start_time": "2022-03-20T00:24:20.429Z"
   },
   {
    "duration": 191,
    "start_time": "2022-03-20T00:24:24.207Z"
   },
   {
    "duration": 7,
    "start_time": "2022-03-20T00:24:24.400Z"
   },
   {
    "duration": 406408,
    "start_time": "2022-03-20T00:24:24.409Z"
   },
   {
    "duration": 1555,
    "start_time": "2022-03-21T14:38:40.381Z"
   },
   {
    "duration": 970,
    "start_time": "2022-03-21T14:38:41.938Z"
   },
   {
    "duration": 18,
    "start_time": "2022-03-21T14:38:42.909Z"
   },
   {
    "duration": 19,
    "start_time": "2022-03-21T14:38:42.938Z"
   },
   {
    "duration": 132,
    "start_time": "2022-03-21T14:38:42.959Z"
   },
   {
    "duration": 135,
    "start_time": "2022-03-21T14:38:43.093Z"
   },
   {
    "duration": 10,
    "start_time": "2022-03-21T14:38:43.230Z"
   },
   {
    "duration": 350,
    "start_time": "2022-03-21T14:38:43.241Z"
   },
   {
    "duration": 31,
    "start_time": "2022-03-21T14:38:43.593Z"
   },
   {
    "duration": 21,
    "start_time": "2022-03-21T14:38:43.638Z"
   },
   {
    "duration": 9,
    "start_time": "2022-03-21T14:38:43.661Z"
   },
   {
    "duration": 138,
    "start_time": "2022-03-21T14:38:43.671Z"
   },
   {
    "duration": 2,
    "start_time": "2022-03-21T14:38:43.811Z"
   },
   {
    "duration": 139,
    "start_time": "2022-03-21T14:38:43.816Z"
   },
   {
    "duration": 154,
    "start_time": "2022-03-21T14:38:43.957Z"
   },
   {
    "duration": 536,
    "start_time": "2022-03-21T14:38:44.113Z"
   },
   {
    "duration": 119,
    "start_time": "2022-03-21T14:38:44.651Z"
   },
   {
    "duration": 139,
    "start_time": "2022-03-21T14:38:44.772Z"
   },
   {
    "duration": 2827,
    "start_time": "2022-03-21T14:38:44.913Z"
   },
   {
    "duration": 11,
    "start_time": "2022-03-21T14:38:47.742Z"
   },
   {
    "duration": 11,
    "start_time": "2022-03-21T14:38:47.755Z"
   },
   {
    "duration": 6,
    "start_time": "2022-03-21T14:38:47.768Z"
   },
   {
    "duration": 66,
    "start_time": "2022-03-21T14:38:47.775Z"
   },
   {
    "duration": 4,
    "start_time": "2022-03-21T14:38:47.843Z"
   },
   {
    "duration": 9,
    "start_time": "2022-03-21T14:38:47.848Z"
   },
   {
    "duration": 7,
    "start_time": "2022-03-21T14:38:47.859Z"
   },
   {
    "duration": 21,
    "start_time": "2022-03-21T14:38:47.867Z"
   },
   {
    "duration": 28,
    "start_time": "2022-03-21T14:38:47.890Z"
   },
   {
    "duration": 812,
    "start_time": "2022-03-21T14:38:47.920Z"
   },
   {
    "duration": 111,
    "start_time": "2022-03-21T14:38:48.734Z"
   },
   {
    "duration": 51784,
    "start_time": "2022-03-21T14:38:48.847Z"
   },
   {
    "duration": 3275,
    "start_time": "2022-03-21T14:39:40.633Z"
   },
   {
    "duration": 151,
    "start_time": "2022-03-21T14:39:43.910Z"
   },
   {
    "duration": 5,
    "start_time": "2022-03-21T14:39:44.063Z"
   },
   {
    "duration": 166159,
    "start_time": "2022-03-21T14:39:44.070Z"
   },
   {
    "duration": 13,
    "start_time": "2022-03-21T14:44:56.093Z"
   },
   {
    "duration": 128,
    "start_time": "2022-03-21T14:47:51.762Z"
   },
   {
    "duration": 131,
    "start_time": "2022-03-21T14:48:50.899Z"
   },
   {
    "duration": 162755,
    "start_time": "2022-03-21T14:51:51.955Z"
   },
   {
    "duration": 1482,
    "start_time": "2022-03-21T14:54:34.712Z"
   },
   {
    "duration": 163193,
    "start_time": "2022-03-21T15:02:20.956Z"
   },
   {
    "duration": 6279,
    "start_time": "2022-03-21T15:20:36.164Z"
   },
   {
    "duration": 157,
    "start_time": "2022-03-21T15:21:55.151Z"
   },
   {
    "duration": 78,
    "start_time": "2022-03-21T15:22:34.747Z"
   },
   {
    "duration": 14,
    "start_time": "2022-03-21T15:22:37.652Z"
   },
   {
    "duration": 4,
    "start_time": "2022-03-21T15:22:50.116Z"
   },
   {
    "duration": 339,
    "start_time": "2022-03-21T15:23:03.586Z"
   },
   {
    "duration": 18,
    "start_time": "2022-03-21T15:23:05.867Z"
   },
   {
    "duration": 76,
    "start_time": "2022-03-21T15:23:39.644Z"
   },
   {
    "duration": 73,
    "start_time": "2022-03-21T15:23:48.623Z"
   },
   {
    "duration": 21,
    "start_time": "2022-03-21T15:23:50.143Z"
   },
   {
    "duration": 4,
    "start_time": "2022-03-21T15:23:53.655Z"
   },
   {
    "duration": 4762,
    "start_time": "2022-03-21T15:23:57.264Z"
   },
   {
    "duration": 19,
    "start_time": "2022-03-21T15:24:47.091Z"
   },
   {
    "duration": 17,
    "start_time": "2022-03-21T15:25:30.813Z"
   },
   {
    "duration": 18,
    "start_time": "2022-03-21T15:25:35.356Z"
   },
   {
    "duration": 4077,
    "start_time": "2022-03-21T15:26:33.638Z"
   },
   {
    "duration": 132,
    "start_time": "2022-03-21T15:29:07.286Z"
   },
   {
    "duration": 16,
    "start_time": "2022-03-21T15:29:09.343Z"
   },
   {
    "duration": 2218,
    "start_time": "2022-03-21T15:29:44.308Z"
   },
   {
    "duration": 2403,
    "start_time": "2022-03-22T15:24:57.004Z"
   },
   {
    "duration": 1316,
    "start_time": "2022-03-22T15:24:59.409Z"
   },
   {
    "duration": 26,
    "start_time": "2022-03-22T15:25:00.727Z"
   },
   {
    "duration": 51,
    "start_time": "2022-03-22T15:25:00.756Z"
   },
   {
    "duration": 170,
    "start_time": "2022-03-22T15:25:00.809Z"
   },
   {
    "duration": 164,
    "start_time": "2022-03-22T15:25:00.981Z"
   },
   {
    "duration": 7,
    "start_time": "2022-03-22T15:25:01.148Z"
   },
   {
    "duration": 511,
    "start_time": "2022-03-22T15:25:01.158Z"
   },
   {
    "duration": 47,
    "start_time": "2022-03-22T15:25:01.672Z"
   },
   {
    "duration": 29,
    "start_time": "2022-03-22T15:25:01.723Z"
   },
   {
    "duration": 31,
    "start_time": "2022-03-22T15:25:01.754Z"
   },
   {
    "duration": 184,
    "start_time": "2022-03-22T15:25:01.788Z"
   },
   {
    "duration": 147,
    "start_time": "2022-03-22T15:25:01.975Z"
   },
   {
    "duration": 356,
    "start_time": "2022-03-22T15:25:02.125Z"
   },
   {
    "duration": 1004,
    "start_time": "2022-03-22T15:25:02.483Z"
   },
   {
    "duration": 180,
    "start_time": "2022-03-22T15:25:03.489Z"
   },
   {
    "duration": 189,
    "start_time": "2022-03-22T15:25:03.683Z"
   },
   {
    "duration": 4708,
    "start_time": "2022-03-22T15:25:03.875Z"
   },
   {
    "duration": 16,
    "start_time": "2022-03-22T15:25:08.586Z"
   },
   {
    "duration": 9,
    "start_time": "2022-03-22T15:25:08.604Z"
   },
   {
    "duration": 8,
    "start_time": "2022-03-22T15:25:08.615Z"
   },
   {
    "duration": 106,
    "start_time": "2022-03-22T15:25:08.625Z"
   },
   {
    "duration": 6,
    "start_time": "2022-03-22T15:25:08.734Z"
   },
   {
    "duration": 15,
    "start_time": "2022-03-22T15:25:08.744Z"
   },
   {
    "duration": 24,
    "start_time": "2022-03-22T15:25:08.761Z"
   },
   {
    "duration": 15,
    "start_time": "2022-03-22T15:25:08.788Z"
   },
   {
    "duration": 38,
    "start_time": "2022-03-22T15:25:08.805Z"
   },
   {
    "duration": 1154,
    "start_time": "2022-03-22T15:25:08.848Z"
   },
   {
    "duration": 185,
    "start_time": "2022-03-22T15:25:10.004Z"
   },
   {
    "duration": 77611,
    "start_time": "2022-03-22T15:25:10.192Z"
   },
   {
    "duration": 4138,
    "start_time": "2022-03-22T15:26:27.806Z"
   },
   {
    "duration": 208,
    "start_time": "2022-03-22T15:26:31.946Z"
   },
   {
    "duration": 41,
    "start_time": "2022-03-22T15:26:32.157Z"
   },
   {
    "duration": 8,
    "start_time": "2022-03-22T15:26:32.201Z"
   },
   {
    "duration": 4060,
    "start_time": "2022-03-22T15:26:32.212Z"
   },
   {
    "duration": 1211,
    "start_time": "2022-03-22T15:26:36.274Z"
   },
   {
    "duration": 6,
    "start_time": "2022-03-22T21:01:48.379Z"
   },
   {
    "duration": 5048,
    "start_time": "2022-03-22T21:01:48.388Z"
   },
   {
    "duration": 22,
    "start_time": "2022-03-22T21:01:53.439Z"
   },
   {
    "duration": 43,
    "start_time": "2022-03-22T21:01:53.463Z"
   },
   {
    "duration": 164,
    "start_time": "2022-03-22T21:01:53.509Z"
   },
   {
    "duration": 166,
    "start_time": "2022-03-22T21:01:53.675Z"
   },
   {
    "duration": 7,
    "start_time": "2022-03-22T21:01:53.844Z"
   },
   {
    "duration": 481,
    "start_time": "2022-03-22T21:01:53.854Z"
   },
   {
    "duration": 50,
    "start_time": "2022-03-22T21:01:54.337Z"
   },
   {
    "duration": 28,
    "start_time": "2022-03-22T21:01:54.389Z"
   },
   {
    "duration": 11,
    "start_time": "2022-03-22T21:01:54.419Z"
   },
   {
    "duration": 190,
    "start_time": "2022-03-22T21:01:54.433Z"
   },
   {
    "duration": 151,
    "start_time": "2022-03-22T21:01:54.626Z"
   },
   {
    "duration": 194,
    "start_time": "2022-03-22T21:01:54.786Z"
   },
   {
    "duration": 977,
    "start_time": "2022-03-22T21:01:54.982Z"
   },
   {
    "duration": 149,
    "start_time": "2022-03-22T21:01:55.962Z"
   },
   {
    "duration": 154,
    "start_time": "2022-03-22T21:01:56.114Z"
   },
   {
    "duration": 4207,
    "start_time": "2022-03-22T21:01:56.271Z"
   },
   {
    "duration": 16,
    "start_time": "2022-03-22T21:02:00.480Z"
   },
   {
    "duration": 19,
    "start_time": "2022-03-22T21:02:00.499Z"
   },
   {
    "duration": 19,
    "start_time": "2022-03-22T21:02:00.521Z"
   },
   {
    "duration": 79,
    "start_time": "2022-03-22T21:02:00.542Z"
   },
   {
    "duration": 5,
    "start_time": "2022-03-22T21:02:00.624Z"
   },
   {
    "duration": 12,
    "start_time": "2022-03-22T21:02:00.631Z"
   },
   {
    "duration": 9,
    "start_time": "2022-03-22T21:02:00.645Z"
   },
   {
    "duration": 28,
    "start_time": "2022-03-22T21:02:00.656Z"
   },
   {
    "duration": 35,
    "start_time": "2022-03-22T21:02:00.687Z"
   },
   {
    "duration": 1189,
    "start_time": "2022-03-22T21:02:00.725Z"
   },
   {
    "duration": 170,
    "start_time": "2022-03-22T21:02:01.916Z"
   },
   {
    "duration": 79026,
    "start_time": "2022-03-22T21:02:02.090Z"
   },
   {
    "duration": 4019,
    "start_time": "2022-03-22T21:03:21.119Z"
   },
   {
    "duration": 207,
    "start_time": "2022-03-22T21:03:25.141Z"
   },
   {
    "duration": 36,
    "start_time": "2022-03-22T21:03:25.350Z"
   },
   {
    "duration": 17,
    "start_time": "2022-03-22T21:03:25.390Z"
   },
   {
    "duration": 4085,
    "start_time": "2022-03-22T21:03:25.409Z"
   },
   {
    "duration": 45,
    "start_time": "2022-03-22T21:09:57.324Z"
   },
   {
    "duration": 4,
    "start_time": "2022-03-22T21:26:26.490Z"
   },
   {
    "duration": 18,
    "start_time": "2022-03-22T21:26:27.204Z"
   },
   {
    "duration": 12,
    "start_time": "2022-03-22T21:30:11.683Z"
   },
   {
    "duration": 22,
    "start_time": "2022-03-22T21:30:29.843Z"
   },
   {
    "duration": 5,
    "start_time": "2022-03-22T21:39:17.816Z"
   },
   {
    "duration": 8288,
    "start_time": "2022-03-22T21:41:20.016Z"
   },
   {
    "duration": 8221,
    "start_time": "2022-03-22T21:41:54.775Z"
   },
   {
    "duration": 171380,
    "start_time": "2022-03-22T21:43:44.706Z"
   },
   {
    "duration": 53,
    "start_time": "2022-03-22T21:52:31.444Z"
   },
   {
    "duration": 12,
    "start_time": "2022-03-22T21:53:59.054Z"
   },
   {
    "duration": 1490940,
    "start_time": "2022-03-22T21:54:03.388Z"
   },
   {
    "duration": 345862,
    "start_time": "2022-03-22T22:19:14.830Z"
   },
   {
    "duration": 107,
    "start_time": "2022-03-22T22:25:44.117Z"
   },
   {
    "duration": 119,
    "start_time": "2022-03-22T22:26:03.294Z"
   },
   {
    "duration": 135,
    "start_time": "2022-03-22T22:27:07.341Z"
   },
   {
    "duration": 37923,
    "start_time": "2022-03-22T22:28:21.278Z"
   },
   {
    "duration": 219,
    "start_time": "2022-03-22T22:28:59.286Z"
   },
   {
    "duration": 61,
    "start_time": "2022-03-22T22:29:49.178Z"
   },
   {
    "duration": 5016,
    "start_time": "2022-03-22T22:30:12.493Z"
   },
   {
    "duration": 80575,
    "start_time": "2022-03-22T22:30:42.742Z"
   },
   {
    "duration": 101703,
    "start_time": "2022-03-22T22:32:41.483Z"
   },
   {
    "duration": 116,
    "start_time": "2022-03-22T22:34:23.189Z"
   },
   {
    "duration": 3563,
    "start_time": "2022-03-22T22:35:10.774Z"
   },
   {
    "duration": 23,
    "start_time": "2022-03-22T22:35:14.340Z"
   },
   {
    "duration": 7524,
    "start_time": "2022-03-22T22:41:04.861Z"
   },
   {
    "duration": 908,
    "start_time": "2022-03-22T22:41:12.387Z"
   },
   {
    "duration": 104,
    "start_time": "2022-03-22T22:41:13.298Z"
   },
   {
    "duration": 105,
    "start_time": "2022-03-22T22:55:20.914Z"
   },
   {
    "duration": 16,
    "start_time": "2022-03-22T22:57:12.866Z"
   },
   {
    "duration": 5,
    "start_time": "2022-03-22T22:57:13.907Z"
   },
   {
    "duration": 107,
    "start_time": "2022-03-22T22:57:57.264Z"
   },
   {
    "duration": 5,
    "start_time": "2022-03-22T22:58:16.665Z"
   },
   {
    "duration": 6821,
    "start_time": "2022-03-22T22:58:16.673Z"
   },
   {
    "duration": 20,
    "start_time": "2022-03-22T22:58:23.497Z"
   },
   {
    "duration": 25,
    "start_time": "2022-03-22T22:58:23.520Z"
   },
   {
    "duration": 189,
    "start_time": "2022-03-22T22:58:23.547Z"
   },
   {
    "duration": 164,
    "start_time": "2022-03-22T22:58:23.739Z"
   },
   {
    "duration": 6,
    "start_time": "2022-03-22T22:58:23.905Z"
   },
   {
    "duration": 463,
    "start_time": "2022-03-22T22:58:23.913Z"
   },
   {
    "duration": 37,
    "start_time": "2022-03-22T22:58:24.384Z"
   },
   {
    "duration": 28,
    "start_time": "2022-03-22T22:58:24.425Z"
   },
   {
    "duration": 38,
    "start_time": "2022-03-22T22:58:24.455Z"
   },
   {
    "duration": 169,
    "start_time": "2022-03-22T22:58:24.495Z"
   },
   {
    "duration": 148,
    "start_time": "2022-03-22T22:58:24.666Z"
   },
   {
    "duration": 204,
    "start_time": "2022-03-22T22:58:24.817Z"
   },
   {
    "duration": 927,
    "start_time": "2022-03-22T22:58:25.023Z"
   },
   {
    "duration": 153,
    "start_time": "2022-03-22T22:58:25.952Z"
   },
   {
    "duration": 155,
    "start_time": "2022-03-22T22:58:26.108Z"
   },
   {
    "duration": 4335,
    "start_time": "2022-03-22T22:58:26.266Z"
   },
   {
    "duration": 14,
    "start_time": "2022-03-22T22:58:30.604Z"
   },
   {
    "duration": 21,
    "start_time": "2022-03-22T22:58:30.621Z"
   },
   {
    "duration": 9,
    "start_time": "2022-03-22T22:58:30.644Z"
   },
   {
    "duration": 90,
    "start_time": "2022-03-22T22:58:30.655Z"
   },
   {
    "duration": 5,
    "start_time": "2022-03-22T22:58:30.747Z"
   },
   {
    "duration": 10,
    "start_time": "2022-03-22T22:58:30.754Z"
   },
   {
    "duration": 21,
    "start_time": "2022-03-22T22:58:30.767Z"
   },
   {
    "duration": 14,
    "start_time": "2022-03-22T22:58:30.791Z"
   },
   {
    "duration": 22,
    "start_time": "2022-03-22T22:58:30.808Z"
   },
   {
    "duration": 6,
    "start_time": "2022-03-22T22:58:30.838Z"
   },
   {
    "duration": 0,
    "start_time": "2022-03-22T22:58:30.847Z"
   },
   {
    "duration": 0,
    "start_time": "2022-03-22T22:58:30.884Z"
   },
   {
    "duration": 0,
    "start_time": "2022-03-22T22:58:30.887Z"
   },
   {
    "duration": 0,
    "start_time": "2022-03-22T22:58:30.888Z"
   },
   {
    "duration": 0,
    "start_time": "2022-03-22T22:58:30.890Z"
   },
   {
    "duration": 0,
    "start_time": "2022-03-22T22:58:30.892Z"
   },
   {
    "duration": 0,
    "start_time": "2022-03-22T22:58:30.894Z"
   },
   {
    "duration": 0,
    "start_time": "2022-03-22T22:58:30.896Z"
   },
   {
    "duration": 0,
    "start_time": "2022-03-22T22:58:30.897Z"
   },
   {
    "duration": 0,
    "start_time": "2022-03-22T22:58:30.899Z"
   },
   {
    "duration": 0,
    "start_time": "2022-03-22T22:58:30.900Z"
   },
   {
    "duration": 0,
    "start_time": "2022-03-22T22:58:30.902Z"
   },
   {
    "duration": 0,
    "start_time": "2022-03-22T22:58:30.904Z"
   },
   {
    "duration": 0,
    "start_time": "2022-03-22T22:58:30.905Z"
   },
   {
    "duration": 0,
    "start_time": "2022-03-22T22:58:30.906Z"
   },
   {
    "duration": 1071,
    "start_time": "2022-03-22T23:07:52.465Z"
   },
   {
    "duration": 90,
    "start_time": "2022-03-22T23:07:53.539Z"
   },
   {
    "duration": 73317,
    "start_time": "2022-03-22T23:07:53.690Z"
   },
   {
    "duration": 4677,
    "start_time": "2022-03-22T23:09:07.010Z"
   },
   {
    "duration": 641,
    "start_time": "2022-03-22T23:09:11.690Z"
   },
   {
    "duration": 21,
    "start_time": "2022-03-22T23:09:12.334Z"
   },
   {
    "duration": 64,
    "start_time": "2022-03-22T23:09:12.357Z"
   },
   {
    "duration": 4169,
    "start_time": "2022-03-22T23:09:12.423Z"
   },
   {
    "duration": 487235,
    "start_time": "2022-03-22T23:09:16.595Z"
   },
   {
    "duration": 980,
    "start_time": "2022-03-22T23:17:23.844Z"
   },
   {
    "duration": 167,
    "start_time": "2022-03-22T23:19:22.364Z"
   },
   {
    "duration": 2167,
    "start_time": "2022-03-22T23:19:34.396Z"
   },
   {
    "duration": 6974,
    "start_time": "2022-03-22T23:19:36.566Z"
   },
   {
    "duration": 43,
    "start_time": "2022-03-22T23:19:43.543Z"
   },
   {
    "duration": 33,
    "start_time": "2022-03-22T23:19:43.589Z"
   },
   {
    "duration": 211,
    "start_time": "2022-03-22T23:19:43.625Z"
   },
   {
    "duration": 274,
    "start_time": "2022-03-22T23:19:43.838Z"
   },
   {
    "duration": 6,
    "start_time": "2022-03-22T23:19:44.115Z"
   },
   {
    "duration": 769,
    "start_time": "2022-03-22T23:19:44.124Z"
   },
   {
    "duration": 40,
    "start_time": "2022-03-22T23:19:44.895Z"
   },
   {
    "duration": 50,
    "start_time": "2022-03-22T23:19:44.939Z"
   },
   {
    "duration": 12,
    "start_time": "2022-03-22T23:19:44.991Z"
   },
   {
    "duration": 196,
    "start_time": "2022-03-22T23:19:45.005Z"
   },
   {
    "duration": 149,
    "start_time": "2022-03-22T23:19:45.204Z"
   },
   {
    "duration": 193,
    "start_time": "2022-03-22T23:19:45.355Z"
   },
   {
    "duration": 1007,
    "start_time": "2022-03-22T23:19:45.550Z"
   },
   {
    "duration": 147,
    "start_time": "2022-03-22T23:19:46.560Z"
   },
   {
    "duration": 154,
    "start_time": "2022-03-22T23:19:46.709Z"
   },
   {
    "duration": 4076,
    "start_time": "2022-03-22T23:19:46.865Z"
   },
   {
    "duration": 15,
    "start_time": "2022-03-22T23:19:50.943Z"
   },
   {
    "duration": 24,
    "start_time": "2022-03-22T23:19:50.960Z"
   },
   {
    "duration": 6,
    "start_time": "2022-03-22T23:19:50.986Z"
   },
   {
    "duration": 90,
    "start_time": "2022-03-22T23:19:50.994Z"
   },
   {
    "duration": 5,
    "start_time": "2022-03-22T23:19:51.087Z"
   },
   {
    "duration": 19,
    "start_time": "2022-03-22T23:19:51.094Z"
   },
   {
    "duration": 20,
    "start_time": "2022-03-22T23:19:51.115Z"
   },
   {
    "duration": 11,
    "start_time": "2022-03-22T23:19:51.137Z"
   },
   {
    "duration": 42,
    "start_time": "2022-03-22T23:19:51.149Z"
   },
   {
    "duration": 1124,
    "start_time": "2022-03-22T23:19:51.196Z"
   },
   {
    "duration": 100,
    "start_time": "2022-03-22T23:19:52.322Z"
   },
   {
    "duration": 73527,
    "start_time": "2022-03-22T23:19:52.489Z"
   },
   {
    "duration": 4071,
    "start_time": "2022-03-22T23:21:06.018Z"
   },
   {
    "duration": 198,
    "start_time": "2022-03-22T23:21:10.092Z"
   },
   {
    "duration": 16,
    "start_time": "2022-03-22T23:21:10.292Z"
   },
   {
    "duration": 7,
    "start_time": "2022-03-22T23:21:10.310Z"
   },
   {
    "duration": 4048,
    "start_time": "2022-03-22T23:21:10.319Z"
   },
   {
    "duration": 1632,
    "start_time": "2022-03-25T16:21:01.771Z"
   },
   {
    "duration": 5832,
    "start_time": "2022-03-25T16:21:03.405Z"
   },
   {
    "duration": 19,
    "start_time": "2022-03-25T16:21:09.238Z"
   },
   {
    "duration": 17,
    "start_time": "2022-03-25T16:21:09.260Z"
   },
   {
    "duration": 130,
    "start_time": "2022-03-25T16:21:09.279Z"
   },
   {
    "duration": 138,
    "start_time": "2022-03-25T16:21:09.410Z"
   },
   {
    "duration": 4,
    "start_time": "2022-03-25T16:21:09.550Z"
   },
   {
    "duration": 369,
    "start_time": "2022-03-25T16:21:09.555Z"
   },
   {
    "duration": 28,
    "start_time": "2022-03-25T16:21:09.926Z"
   },
   {
    "duration": 18,
    "start_time": "2022-03-25T16:21:09.957Z"
   },
   {
    "duration": 8,
    "start_time": "2022-03-25T16:21:09.976Z"
   },
   {
    "duration": 117,
    "start_time": "2022-03-25T16:21:10.009Z"
   },
   {
    "duration": 122,
    "start_time": "2022-03-25T16:21:10.128Z"
   },
   {
    "duration": 153,
    "start_time": "2022-03-25T16:21:10.252Z"
   },
   {
    "duration": 543,
    "start_time": "2022-03-25T16:21:10.406Z"
   },
   {
    "duration": 125,
    "start_time": "2022-03-25T16:21:10.950Z"
   },
   {
    "duration": 133,
    "start_time": "2022-03-25T16:21:11.077Z"
   },
   {
    "duration": 2850,
    "start_time": "2022-03-25T16:21:11.212Z"
   },
   {
    "duration": 11,
    "start_time": "2022-03-25T16:21:14.064Z"
   },
   {
    "duration": 7,
    "start_time": "2022-03-25T16:21:14.077Z"
   },
   {
    "duration": 7,
    "start_time": "2022-03-25T16:21:14.086Z"
   },
   {
    "duration": 52,
    "start_time": "2022-03-25T16:21:14.095Z"
   },
   {
    "duration": 4,
    "start_time": "2022-03-25T16:21:14.149Z"
   },
   {
    "duration": 4,
    "start_time": "2022-03-25T16:21:14.155Z"
   },
   {
    "duration": 5,
    "start_time": "2022-03-25T16:21:14.161Z"
   },
   {
    "duration": 3,
    "start_time": "2022-03-25T16:21:14.168Z"
   },
   {
    "duration": 46,
    "start_time": "2022-03-25T16:21:14.173Z"
   },
   {
    "duration": 887,
    "start_time": "2022-03-25T16:21:14.224Z"
   },
   {
    "duration": 196,
    "start_time": "2022-03-25T16:21:15.113Z"
   },
   {
    "duration": 54808,
    "start_time": "2022-03-25T16:21:15.312Z"
   },
   {
    "duration": 3200,
    "start_time": "2022-03-25T16:22:10.121Z"
   },
   {
    "duration": 92,
    "start_time": "2022-03-25T16:22:13.323Z"
   },
   {
    "duration": 11,
    "start_time": "2022-03-25T16:22:13.416Z"
   },
   {
    "duration": 22,
    "start_time": "2022-03-25T16:22:13.429Z"
   },
   {
    "duration": 7786,
    "start_time": "2022-03-25T16:22:13.453Z"
   },
   {
    "duration": 45,
    "start_time": "2022-03-25T16:22:21.241Z"
   },
   {
    "duration": 0,
    "start_time": "2022-03-25T16:22:21.288Z"
   },
   {
    "duration": 0,
    "start_time": "2022-03-25T16:22:21.290Z"
   },
   {
    "duration": 0,
    "start_time": "2022-03-25T16:22:21.291Z"
   },
   {
    "duration": 0,
    "start_time": "2022-03-25T16:22:21.292Z"
   },
   {
    "duration": 0,
    "start_time": "2022-03-25T16:22:21.294Z"
   },
   {
    "duration": 0,
    "start_time": "2022-03-25T16:22:21.295Z"
   },
   {
    "duration": 0,
    "start_time": "2022-03-25T16:22:21.297Z"
   },
   {
    "duration": 156,
    "start_time": "2022-03-25T16:23:49.946Z"
   },
   {
    "duration": 4,
    "start_time": "2022-03-25T16:37:45.492Z"
   },
   {
    "duration": 922,
    "start_time": "2022-03-25T16:37:45.498Z"
   },
   {
    "duration": 12,
    "start_time": "2022-03-25T16:37:46.422Z"
   },
   {
    "duration": 16,
    "start_time": "2022-03-25T16:37:46.436Z"
   },
   {
    "duration": 140,
    "start_time": "2022-03-25T16:37:46.453Z"
   },
   {
    "duration": 15,
    "start_time": "2022-03-25T16:37:46.595Z"
   },
   {
    "duration": 331,
    "start_time": "2022-03-25T16:37:46.611Z"
   },
   {
    "duration": 18,
    "start_time": "2022-03-25T16:37:46.944Z"
   },
   {
    "duration": 17,
    "start_time": "2022-03-25T16:37:46.963Z"
   },
   {
    "duration": 30,
    "start_time": "2022-03-25T16:37:46.982Z"
   },
   {
    "duration": 96,
    "start_time": "2022-03-25T16:37:47.013Z"
   },
   {
    "duration": 121,
    "start_time": "2022-03-25T16:37:47.110Z"
   },
   {
    "duration": 171,
    "start_time": "2022-03-25T16:37:47.232Z"
   },
   {
    "duration": 518,
    "start_time": "2022-03-25T16:37:47.405Z"
   },
   {
    "duration": 213,
    "start_time": "2022-03-25T16:37:47.925Z"
   },
   {
    "duration": 270,
    "start_time": "2022-03-25T16:37:48.139Z"
   },
   {
    "duration": 3227,
    "start_time": "2022-03-25T16:37:48.411Z"
   },
   {
    "duration": 123,
    "start_time": "2022-03-25T16:37:51.639Z"
   },
   {
    "duration": 0,
    "start_time": "2022-03-25T16:37:51.764Z"
   },
   {
    "duration": 0,
    "start_time": "2022-03-25T16:37:51.766Z"
   },
   {
    "duration": 0,
    "start_time": "2022-03-25T16:37:51.767Z"
   },
   {
    "duration": 0,
    "start_time": "2022-03-25T16:37:51.768Z"
   },
   {
    "duration": 0,
    "start_time": "2022-03-25T16:37:51.769Z"
   },
   {
    "duration": 0,
    "start_time": "2022-03-25T16:37:51.770Z"
   },
   {
    "duration": 0,
    "start_time": "2022-03-25T16:37:51.770Z"
   },
   {
    "duration": 0,
    "start_time": "2022-03-25T16:37:51.771Z"
   },
   {
    "duration": 0,
    "start_time": "2022-03-25T16:37:51.772Z"
   },
   {
    "duration": 0,
    "start_time": "2022-03-25T16:37:51.774Z"
   },
   {
    "duration": 0,
    "start_time": "2022-03-25T16:37:51.774Z"
   },
   {
    "duration": 0,
    "start_time": "2022-03-25T16:37:51.775Z"
   },
   {
    "duration": 0,
    "start_time": "2022-03-25T16:37:51.776Z"
   },
   {
    "duration": 0,
    "start_time": "2022-03-25T16:37:51.778Z"
   },
   {
    "duration": 0,
    "start_time": "2022-03-25T16:37:51.778Z"
   },
   {
    "duration": 0,
    "start_time": "2022-03-25T16:37:51.809Z"
   },
   {
    "duration": 0,
    "start_time": "2022-03-25T16:37:51.810Z"
   },
   {
    "duration": 0,
    "start_time": "2022-03-25T16:37:51.811Z"
   },
   {
    "duration": 0,
    "start_time": "2022-03-25T16:37:51.812Z"
   },
   {
    "duration": 0,
    "start_time": "2022-03-25T16:37:51.813Z"
   },
   {
    "duration": 0,
    "start_time": "2022-03-25T16:37:51.814Z"
   },
   {
    "duration": 0,
    "start_time": "2022-03-25T16:37:51.815Z"
   },
   {
    "duration": 0,
    "start_time": "2022-03-25T16:37:51.815Z"
   },
   {
    "duration": 0,
    "start_time": "2022-03-25T16:37:51.816Z"
   },
   {
    "duration": 4,
    "start_time": "2022-03-25T16:38:10.684Z"
   },
   {
    "duration": 911,
    "start_time": "2022-03-25T16:38:12.628Z"
   },
   {
    "duration": 14,
    "start_time": "2022-03-25T16:38:13.541Z"
   },
   {
    "duration": 19,
    "start_time": "2022-03-25T16:38:13.558Z"
   },
   {
    "duration": 127,
    "start_time": "2022-03-25T16:38:14.142Z"
   },
   {
    "duration": 5,
    "start_time": "2022-03-25T16:38:14.330Z"
   },
   {
    "duration": 330,
    "start_time": "2022-03-25T16:38:15.129Z"
   },
   {
    "duration": 127,
    "start_time": "2022-03-25T16:47:13.816Z"
   },
   {
    "duration": 4,
    "start_time": "2022-03-25T16:48:35.192Z"
   },
   {
    "duration": 833,
    "start_time": "2022-03-25T16:48:35.198Z"
   },
   {
    "duration": 12,
    "start_time": "2022-03-25T16:48:36.033Z"
   },
   {
    "duration": 17,
    "start_time": "2022-03-25T16:48:36.046Z"
   },
   {
    "duration": 150,
    "start_time": "2022-03-25T16:48:36.065Z"
   },
   {
    "duration": 4,
    "start_time": "2022-03-25T16:48:36.217Z"
   },
   {
    "duration": 329,
    "start_time": "2022-03-25T16:48:36.222Z"
   },
   {
    "duration": 18,
    "start_time": "2022-03-25T16:48:36.553Z"
   },
   {
    "duration": 37,
    "start_time": "2022-03-25T16:48:36.572Z"
   },
   {
    "duration": 8,
    "start_time": "2022-03-25T16:48:36.611Z"
   },
   {
    "duration": 139,
    "start_time": "2022-03-25T16:48:36.620Z"
   },
   {
    "duration": 175,
    "start_time": "2022-03-25T16:48:36.760Z"
   },
   {
    "duration": 605,
    "start_time": "2022-03-25T16:48:36.936Z"
   },
   {
    "duration": 130,
    "start_time": "2022-03-25T16:48:37.544Z"
   },
   {
    "duration": 141,
    "start_time": "2022-03-25T16:48:37.675Z"
   },
   {
    "duration": 136,
    "start_time": "2022-03-25T16:48:37.818Z"
   },
   {
    "duration": 89,
    "start_time": "2022-03-25T16:48:37.956Z"
   },
   {
    "duration": 9,
    "start_time": "2022-03-25T16:48:38.047Z"
   },
   {
    "duration": 0,
    "start_time": "2022-03-25T16:48:38.058Z"
   },
   {
    "duration": 0,
    "start_time": "2022-03-25T16:48:38.059Z"
   },
   {
    "duration": 0,
    "start_time": "2022-03-25T16:48:38.061Z"
   },
   {
    "duration": 0,
    "start_time": "2022-03-25T16:48:38.062Z"
   },
   {
    "duration": 0,
    "start_time": "2022-03-25T16:48:38.062Z"
   },
   {
    "duration": 0,
    "start_time": "2022-03-25T16:48:38.063Z"
   },
   {
    "duration": 0,
    "start_time": "2022-03-25T16:48:38.064Z"
   },
   {
    "duration": 0,
    "start_time": "2022-03-25T16:48:38.065Z"
   },
   {
    "duration": 0,
    "start_time": "2022-03-25T16:48:38.066Z"
   },
   {
    "duration": 0,
    "start_time": "2022-03-25T16:48:38.067Z"
   },
   {
    "duration": 0,
    "start_time": "2022-03-25T16:48:38.068Z"
   },
   {
    "duration": 0,
    "start_time": "2022-03-25T16:48:38.069Z"
   },
   {
    "duration": 0,
    "start_time": "2022-03-25T16:48:38.070Z"
   },
   {
    "duration": 1,
    "start_time": "2022-03-25T16:48:38.071Z"
   },
   {
    "duration": 0,
    "start_time": "2022-03-25T16:48:38.072Z"
   },
   {
    "duration": 0,
    "start_time": "2022-03-25T16:48:38.073Z"
   },
   {
    "duration": 0,
    "start_time": "2022-03-25T16:48:38.074Z"
   },
   {
    "duration": 0,
    "start_time": "2022-03-25T16:48:38.110Z"
   },
   {
    "duration": 0,
    "start_time": "2022-03-25T16:48:38.111Z"
   },
   {
    "duration": 0,
    "start_time": "2022-03-25T16:48:38.112Z"
   },
   {
    "duration": 0,
    "start_time": "2022-03-25T16:48:38.112Z"
   },
   {
    "duration": 0,
    "start_time": "2022-03-25T16:48:38.114Z"
   },
   {
    "duration": 0,
    "start_time": "2022-03-25T16:48:38.115Z"
   },
   {
    "duration": 0,
    "start_time": "2022-03-25T16:48:38.116Z"
   },
   {
    "duration": 0,
    "start_time": "2022-03-25T16:48:38.118Z"
   },
   {
    "duration": 25,
    "start_time": "2022-03-25T16:51:25.628Z"
   },
   {
    "duration": 3151,
    "start_time": "2022-03-25T16:51:27.878Z"
   },
   {
    "duration": 124,
    "start_time": "2022-03-25T16:51:53.259Z"
   },
   {
    "duration": 88,
    "start_time": "2022-03-25T16:52:00.272Z"
   },
   {
    "duration": 758,
    "start_time": "2022-03-25T16:52:29.285Z"
   },
   {
    "duration": 18,
    "start_time": "2022-03-25T16:53:47.387Z"
   },
   {
    "duration": 165,
    "start_time": "2022-03-25T16:53:47.850Z"
   },
   {
    "duration": 687,
    "start_time": "2022-03-25T16:53:50.806Z"
   },
   {
    "duration": 931,
    "start_time": "2022-03-25T17:01:23.033Z"
   },
   {
    "duration": 22,
    "start_time": "2022-03-25T17:01:32.785Z"
   },
   {
    "duration": 18,
    "start_time": "2022-03-25T17:02:42.735Z"
   },
   {
    "duration": 13,
    "start_time": "2022-03-25T17:03:18.395Z"
   },
   {
    "duration": 4,
    "start_time": "2022-03-25T17:03:19.683Z"
   },
   {
    "duration": 4,
    "start_time": "2022-03-25T17:03:20.111Z"
   },
   {
    "duration": 57,
    "start_time": "2022-03-25T17:03:20.897Z"
   },
   {
    "duration": 16,
    "start_time": "2022-03-25T17:03:43.642Z"
   },
   {
    "duration": 4,
    "start_time": "2022-03-25T17:03:44.652Z"
   },
   {
    "duration": 4,
    "start_time": "2022-03-25T17:03:45.608Z"
   },
   {
    "duration": 47,
    "start_time": "2022-03-25T17:03:45.838Z"
   },
   {
    "duration": 4,
    "start_time": "2022-03-25T17:03:46.091Z"
   },
   {
    "duration": 4,
    "start_time": "2022-03-25T17:03:46.590Z"
   },
   {
    "duration": 5,
    "start_time": "2022-03-25T17:03:46.783Z"
   },
   {
    "duration": 4,
    "start_time": "2022-03-25T17:03:46.993Z"
   },
   {
    "duration": 13,
    "start_time": "2022-03-25T17:03:47.884Z"
   },
   {
    "duration": 10,
    "start_time": "2022-03-25T17:04:24.990Z"
   },
   {
    "duration": 4,
    "start_time": "2022-03-25T17:04:25.775Z"
   },
   {
    "duration": 5,
    "start_time": "2022-03-25T17:04:26.048Z"
   },
   {
    "duration": 46,
    "start_time": "2022-03-25T17:04:26.257Z"
   },
   {
    "duration": 4,
    "start_time": "2022-03-25T17:04:26.432Z"
   },
   {
    "duration": 5,
    "start_time": "2022-03-25T17:04:26.636Z"
   },
   {
    "duration": 5,
    "start_time": "2022-03-25T17:04:26.976Z"
   },
   {
    "duration": 4,
    "start_time": "2022-03-25T17:04:27.741Z"
   },
   {
    "duration": 14,
    "start_time": "2022-03-25T17:04:29.488Z"
   },
   {
    "duration": 1318,
    "start_time": "2022-03-25T17:04:34.804Z"
   },
   {
    "duration": 99,
    "start_time": "2022-03-25T17:04:38.322Z"
   },
   {
    "duration": 83908,
    "start_time": "2022-03-25T17:04:51.273Z"
   },
   {
    "duration": 4350,
    "start_time": "2022-03-25T17:06:15.183Z"
   },
   {
    "duration": 14,
    "start_time": "2022-03-25T17:06:19.535Z"
   },
   {
    "duration": 0,
    "start_time": "2022-03-25T17:06:19.551Z"
   },
   {
    "duration": 0,
    "start_time": "2022-03-25T17:06:19.553Z"
   },
   {
    "duration": 0,
    "start_time": "2022-03-25T17:06:19.554Z"
   },
   {
    "duration": 66,
    "start_time": "2022-03-25T17:11:18.952Z"
   },
   {
    "duration": 12,
    "start_time": "2022-03-25T17:11:20.240Z"
   },
   {
    "duration": 4,
    "start_time": "2022-03-25T17:11:23.041Z"
   },
   {
    "duration": 2062,
    "start_time": "2022-03-25T17:11:32.329Z"
   },
   {
    "duration": 46,
    "start_time": "2022-03-25T17:13:27.027Z"
   },
   {
    "duration": 1942,
    "start_time": "2022-03-25T17:13:34.238Z"
   },
   {
    "duration": 107,
    "start_time": "2022-03-25T17:14:01.199Z"
   },
   {
    "duration": 12,
    "start_time": "2022-03-25T17:14:02.030Z"
   },
   {
    "duration": 4,
    "start_time": "2022-03-25T17:14:02.980Z"
   },
   {
    "duration": 2397,
    "start_time": "2022-03-25T17:14:03.530Z"
   },
   {
    "duration": 51021,
    "start_time": "2022-03-25T17:14:55.106Z"
   },
   {
    "duration": 703,
    "start_time": "2022-03-25T17:15:46.129Z"
   },
   {
    "duration": 92,
    "start_time": "2022-03-25T17:16:27.731Z"
   },
   {
    "duration": 91,
    "start_time": "2022-03-25T17:17:51.896Z"
   },
   {
    "duration": 69,
    "start_time": "2022-03-25T17:18:33.377Z"
   },
   {
    "duration": 4,
    "start_time": "2022-03-25T17:22:47.906Z"
   },
   {
    "duration": 77,
    "start_time": "2022-03-25T17:23:09.407Z"
   },
   {
    "duration": 50254,
    "start_time": "2022-03-25T17:23:21.964Z"
   },
   {
    "duration": 3,
    "start_time": "2022-03-25T17:28:39.056Z"
   },
   {
    "duration": 79956,
    "start_time": "2022-03-25T17:28:48.260Z"
   },
   {
    "duration": 17142,
    "start_time": "2022-03-25T17:31:53.189Z"
   },
   {
    "duration": 185,
    "start_time": "2022-03-25T17:32:10.333Z"
   },
   {
    "duration": 46422,
    "start_time": "2022-03-25T17:33:13.666Z"
   },
   {
    "duration": 2231,
    "start_time": "2022-03-25T17:34:14.472Z"
   },
   {
    "duration": 22,
    "start_time": "2022-03-25T17:34:16.705Z"
   },
   {
    "duration": 94,
    "start_time": "2022-03-26T18:47:59.706Z"
   },
   {
    "duration": 1694,
    "start_time": "2022-03-26T18:48:03.761Z"
   },
   {
    "duration": 3,
    "start_time": "2022-03-26T18:48:05.457Z"
   },
   {
    "duration": 1084,
    "start_time": "2022-03-26T18:48:05.461Z"
   },
   {
    "duration": 32,
    "start_time": "2022-03-26T18:48:06.549Z"
   },
   {
    "duration": 20,
    "start_time": "2022-03-26T18:48:06.582Z"
   },
   {
    "duration": 146,
    "start_time": "2022-03-26T18:48:06.603Z"
   },
   {
    "duration": 4,
    "start_time": "2022-03-26T18:48:06.751Z"
   },
   {
    "duration": 350,
    "start_time": "2022-03-26T18:48:06.757Z"
   },
   {
    "duration": 30,
    "start_time": "2022-03-26T18:48:07.109Z"
   },
   {
    "duration": 17,
    "start_time": "2022-03-26T18:48:07.142Z"
   },
   {
    "duration": 14,
    "start_time": "2022-03-26T18:48:07.161Z"
   },
   {
    "duration": 141,
    "start_time": "2022-03-26T18:48:07.177Z"
   },
   {
    "duration": 180,
    "start_time": "2022-03-26T18:48:07.320Z"
   },
   {
    "duration": 650,
    "start_time": "2022-03-26T18:48:07.501Z"
   },
   {
    "duration": 127,
    "start_time": "2022-03-26T18:48:08.153Z"
   },
   {
    "duration": 147,
    "start_time": "2022-03-26T18:48:08.282Z"
   },
   {
    "duration": 267,
    "start_time": "2022-03-26T18:48:08.434Z"
   },
   {
    "duration": 67,
    "start_time": "2022-03-26T18:48:08.703Z"
   },
   {
    "duration": 2125,
    "start_time": "2022-03-26T18:48:08.773Z"
   },
   {
    "duration": 33,
    "start_time": "2022-03-26T18:48:10.901Z"
   },
   {
    "duration": 31,
    "start_time": "2022-03-26T18:48:10.937Z"
   },
   {
    "duration": 22,
    "start_time": "2022-03-26T18:48:10.971Z"
   },
   {
    "duration": 5,
    "start_time": "2022-03-26T18:48:10.996Z"
   },
   {
    "duration": 33,
    "start_time": "2022-03-26T18:48:11.004Z"
   },
   {
    "duration": 118,
    "start_time": "2022-03-26T18:48:11.039Z"
   },
   {
    "duration": 5,
    "start_time": "2022-03-26T18:48:11.160Z"
   },
   {
    "duration": 20,
    "start_time": "2022-03-26T18:48:11.167Z"
   },
   {
    "duration": 9,
    "start_time": "2022-03-26T18:48:11.191Z"
   },
   {
    "duration": 11,
    "start_time": "2022-03-26T18:48:11.202Z"
   },
   {
    "duration": 25,
    "start_time": "2022-03-26T18:48:11.215Z"
   },
   {
    "duration": 1359,
    "start_time": "2022-03-26T18:48:11.242Z"
   },
   {
    "duration": 233,
    "start_time": "2022-03-26T18:48:12.602Z"
   },
   {
    "duration": 87485,
    "start_time": "2022-03-26T18:48:12.838Z"
   },
   {
    "duration": 4511,
    "start_time": "2022-03-26T18:49:40.333Z"
   },
   {
    "duration": 97,
    "start_time": "2022-03-26T18:49:44.846Z"
   },
   {
    "duration": 10,
    "start_time": "2022-03-26T18:49:44.945Z"
   },
   {
    "duration": 8,
    "start_time": "2022-03-26T18:49:44.957Z"
   },
   {
    "duration": 2472,
    "start_time": "2022-03-26T18:49:44.967Z"
   },
   {
    "duration": 250030,
    "start_time": "2022-03-26T18:49:47.441Z"
   },
   {
    "duration": 0,
    "start_time": "2022-03-26T18:53:57.474Z"
   },
   {
    "duration": 0,
    "start_time": "2022-03-26T18:53:57.475Z"
   },
   {
    "duration": 0,
    "start_time": "2022-03-26T18:53:57.476Z"
   },
   {
    "duration": 0,
    "start_time": "2022-03-26T18:53:57.477Z"
   },
   {
    "duration": 0,
    "start_time": "2022-03-26T18:53:57.478Z"
   },
   {
    "duration": 0,
    "start_time": "2022-03-26T18:53:57.479Z"
   },
   {
    "duration": 0,
    "start_time": "2022-03-26T18:53:57.480Z"
   },
   {
    "duration": 0,
    "start_time": "2022-03-26T18:53:57.481Z"
   },
   {
    "duration": 0,
    "start_time": "2022-03-26T18:53:57.482Z"
   },
   {
    "duration": 67963,
    "start_time": "2022-03-26T18:54:12.486Z"
   },
   {
    "duration": 783,
    "start_time": "2022-03-26T18:55:20.451Z"
   },
   {
    "duration": 51097,
    "start_time": "2022-03-26T18:55:21.236Z"
   },
   {
    "duration": 1207,
    "start_time": "2022-03-26T18:56:12.335Z"
   },
   {
    "duration": 193,
    "start_time": "2022-03-26T18:56:13.544Z"
   },
   {
    "duration": 53054,
    "start_time": "2022-03-26T18:56:13.739Z"
   },
   {
    "duration": 2443,
    "start_time": "2022-03-26T18:57:06.795Z"
   },
   {
    "duration": 17,
    "start_time": "2022-03-26T18:57:09.240Z"
   },
   {
    "duration": 86715,
    "start_time": "2022-03-26T19:00:25.204Z"
   },
   {
    "duration": 4513,
    "start_time": "2022-03-26T19:01:51.921Z"
   },
   {
    "duration": 4,
    "start_time": "2022-03-26T19:12:11.179Z"
   },
   {
    "duration": 7,
    "start_time": "2022-03-26T19:12:11.184Z"
   },
   {
    "duration": 1509,
    "start_time": "2022-03-26T19:12:24.167Z"
   },
   {
    "duration": 3,
    "start_time": "2022-03-26T19:12:25.678Z"
   },
   {
    "duration": 1036,
    "start_time": "2022-03-26T19:12:25.682Z"
   },
   {
    "duration": 20,
    "start_time": "2022-03-26T19:12:26.720Z"
   },
   {
    "duration": 16,
    "start_time": "2022-03-26T19:12:26.742Z"
   },
   {
    "duration": 133,
    "start_time": "2022-03-26T19:12:26.760Z"
   },
   {
    "duration": 4,
    "start_time": "2022-03-26T19:12:26.895Z"
   },
   {
    "duration": 321,
    "start_time": "2022-03-26T19:12:26.900Z"
   },
   {
    "duration": 22,
    "start_time": "2022-03-26T19:12:27.223Z"
   },
   {
    "duration": 18,
    "start_time": "2022-03-26T19:12:27.246Z"
   },
   {
    "duration": 8,
    "start_time": "2022-03-26T19:12:27.265Z"
   },
   {
    "duration": 139,
    "start_time": "2022-03-26T19:12:27.274Z"
   },
   {
    "duration": 171,
    "start_time": "2022-03-26T19:12:27.414Z"
   },
   {
    "duration": 865,
    "start_time": "2022-03-26T19:12:27.588Z"
   },
   {
    "duration": 279,
    "start_time": "2022-03-26T19:12:28.454Z"
   },
   {
    "duration": 219,
    "start_time": "2022-03-26T19:12:28.734Z"
   },
   {
    "duration": 94,
    "start_time": "2022-03-26T19:12:28.955Z"
   },
   {
    "duration": 1303,
    "start_time": "2022-03-26T19:12:29.050Z"
   },
   {
    "duration": 12,
    "start_time": "2022-03-26T19:12:30.355Z"
   },
   {
    "duration": 36,
    "start_time": "2022-03-26T19:12:30.369Z"
   },
   {
    "duration": 32,
    "start_time": "2022-03-26T19:12:30.407Z"
   },
   {
    "duration": 7,
    "start_time": "2022-03-26T19:12:30.441Z"
   },
   {
    "duration": 22,
    "start_time": "2022-03-26T19:12:30.450Z"
   },
   {
    "duration": 64,
    "start_time": "2022-03-26T19:12:30.473Z"
   },
   {
    "duration": 4,
    "start_time": "2022-03-26T19:12:30.539Z"
   },
   {
    "duration": 21,
    "start_time": "2022-03-26T19:12:30.544Z"
   },
   {
    "duration": 24,
    "start_time": "2022-03-26T19:12:30.567Z"
   },
   {
    "duration": 28,
    "start_time": "2022-03-26T19:12:30.593Z"
   },
   {
    "duration": 26,
    "start_time": "2022-03-26T19:12:30.622Z"
   },
   {
    "duration": 1344,
    "start_time": "2022-03-26T19:12:30.650Z"
   },
   {
    "duration": 238,
    "start_time": "2022-03-26T19:12:31.995Z"
   },
   {
    "duration": 83842,
    "start_time": "2022-03-26T19:12:32.235Z"
   },
   {
    "duration": 4508,
    "start_time": "2022-03-26T19:13:56.079Z"
   },
   {
    "duration": 107,
    "start_time": "2022-03-26T19:14:00.589Z"
   },
   {
    "duration": 10,
    "start_time": "2022-03-26T19:14:00.698Z"
   },
   {
    "duration": 12,
    "start_time": "2022-03-26T19:14:00.710Z"
   },
   {
    "duration": 2638,
    "start_time": "2022-03-26T19:14:00.725Z"
   },
   {
    "duration": 5279,
    "start_time": "2022-03-26T19:14:03.365Z"
   },
   {
    "duration": 795,
    "start_time": "2022-03-26T19:14:08.645Z"
   },
   {
    "duration": 950995,
    "start_time": "2022-03-26T19:14:09.442Z"
   },
   {
    "duration": 1299,
    "start_time": "2022-03-26T19:30:00.441Z"
   },
   {
    "duration": 102,
    "start_time": "2022-03-26T19:30:01.741Z"
   },
   {
    "duration": 160633,
    "start_time": "2022-03-26T19:30:01.845Z"
   },
   {
    "duration": 2303,
    "start_time": "2022-03-26T19:32:42.480Z"
   },
   {
    "duration": 25,
    "start_time": "2022-03-26T19:32:44.786Z"
   },
   {
    "duration": 6879,
    "start_time": "2022-03-26T19:41:10.861Z"
   },
   {
    "duration": 104,
    "start_time": "2022-03-26T19:41:17.742Z"
   },
   {
    "duration": 1409,
    "start_time": "2022-03-26T19:41:28.732Z"
   },
   {
    "duration": 103,
    "start_time": "2022-03-26T19:41:30.142Z"
   },
   {
    "duration": 836,
    "start_time": "2022-03-26T19:41:36.503Z"
   },
   {
    "duration": 98,
    "start_time": "2022-03-26T19:41:37.341Z"
   },
   {
    "duration": 1400,
    "start_time": "2022-03-26T19:41:41.444Z"
   },
   {
    "duration": 199,
    "start_time": "2022-03-26T19:41:42.847Z"
   },
   {
    "duration": 1438,
    "start_time": "2022-03-26T19:42:37.696Z"
   },
   {
    "duration": 103,
    "start_time": "2022-03-26T19:42:39.136Z"
   },
   {
    "duration": 56552,
    "start_time": "2022-03-26T19:42:52.282Z"
   },
   {
    "duration": 1283,
    "start_time": "2022-03-26T19:46:58.322Z"
   },
   {
    "duration": 71,
    "start_time": "2022-03-26T19:46:59.607Z"
   },
   {
    "duration": 1280,
    "start_time": "2022-03-26T19:47:08.600Z"
   },
   {
    "duration": 73,
    "start_time": "2022-03-26T19:47:09.883Z"
   },
   {
    "duration": 3,
    "start_time": "2022-03-26T19:48:41.153Z"
   },
   {
    "duration": 277,
    "start_time": "2022-03-26T19:48:43.982Z"
   },
   {
    "duration": 2,
    "start_time": "2022-03-26T19:48:50.438Z"
   },
   {
    "duration": 4,
    "start_time": "2022-03-26T19:48:51.360Z"
   },
   {
    "duration": 9,
    "start_time": "2022-03-26T19:49:12.512Z"
   },
   {
    "duration": 68,
    "start_time": "2022-03-26T19:50:04.276Z"
   },
   {
    "duration": 11,
    "start_time": "2022-03-26T19:50:04.489Z"
   },
   {
    "duration": 3,
    "start_time": "2022-03-26T19:50:25.556Z"
   },
   {
    "duration": 8,
    "start_time": "2022-03-26T19:50:25.989Z"
   },
   {
    "duration": 90230,
    "start_time": "2022-03-26T19:51:18.204Z"
   },
   {
    "duration": 5678,
    "start_time": "2022-03-26T19:52:48.901Z"
   },
   {
    "duration": 5,
    "start_time": "2022-03-26T19:52:54.581Z"
   },
   {
    "duration": 2702,
    "start_time": "2022-03-26T19:53:51.003Z"
   },
   {
    "duration": 152,
    "start_time": "2022-03-26T19:57:41.153Z"
   },
   {
    "duration": 1581,
    "start_time": "2022-03-26T19:58:05.331Z"
   },
   {
    "duration": 5,
    "start_time": "2022-03-26T19:58:06.914Z"
   },
   {
    "duration": 1126,
    "start_time": "2022-03-26T19:58:06.921Z"
   },
   {
    "duration": 15,
    "start_time": "2022-03-26T19:58:08.049Z"
   },
   {
    "duration": 23,
    "start_time": "2022-03-26T19:58:08.066Z"
   },
   {
    "duration": 150,
    "start_time": "2022-03-26T19:58:08.091Z"
   },
   {
    "duration": 4,
    "start_time": "2022-03-26T19:58:08.243Z"
   },
   {
    "duration": 551,
    "start_time": "2022-03-26T19:58:08.248Z"
   },
   {
    "duration": 33,
    "start_time": "2022-03-26T19:58:08.801Z"
   },
   {
    "duration": 19,
    "start_time": "2022-03-26T19:58:08.836Z"
   },
   {
    "duration": 8,
    "start_time": "2022-03-26T19:58:08.857Z"
   },
   {
    "duration": 153,
    "start_time": "2022-03-26T19:58:08.867Z"
   },
   {
    "duration": 196,
    "start_time": "2022-03-26T19:58:09.022Z"
   },
   {
    "duration": 673,
    "start_time": "2022-03-26T19:58:09.220Z"
   },
   {
    "duration": 139,
    "start_time": "2022-03-26T19:58:09.895Z"
   },
   {
    "duration": 133,
    "start_time": "2022-03-26T19:58:10.036Z"
   },
   {
    "duration": 36,
    "start_time": "2022-03-26T19:58:10.171Z"
   },
   {
    "duration": 1056,
    "start_time": "2022-03-26T19:58:10.209Z"
   },
   {
    "duration": 12,
    "start_time": "2022-03-26T19:58:11.267Z"
   },
   {
    "duration": 19,
    "start_time": "2022-03-26T19:58:11.281Z"
   },
   {
    "duration": 32,
    "start_time": "2022-03-26T19:58:11.302Z"
   },
   {
    "duration": 4,
    "start_time": "2022-03-26T19:58:11.336Z"
   },
   {
    "duration": 8,
    "start_time": "2022-03-26T19:58:11.341Z"
   },
   {
    "duration": 62,
    "start_time": "2022-03-26T19:58:11.351Z"
   },
   {
    "duration": 19,
    "start_time": "2022-03-26T19:58:11.415Z"
   },
   {
    "duration": 4,
    "start_time": "2022-03-26T19:58:11.435Z"
   },
   {
    "duration": 5,
    "start_time": "2022-03-26T19:58:11.441Z"
   },
   {
    "duration": 6,
    "start_time": "2022-03-26T19:58:11.449Z"
   },
   {
    "duration": 14,
    "start_time": "2022-03-26T19:58:11.457Z"
   },
   {
    "duration": 5,
    "start_time": "2022-03-26T19:58:11.473Z"
   },
   {
    "duration": 1319,
    "start_time": "2022-03-26T19:58:11.479Z"
   },
   {
    "duration": 85,
    "start_time": "2022-03-26T19:58:12.800Z"
   },
   {
    "duration": 3,
    "start_time": "2022-03-26T19:58:12.886Z"
   },
   {
    "duration": 80,
    "start_time": "2022-03-26T19:58:12.891Z"
   },
   {
    "duration": 12,
    "start_time": "2022-03-26T19:58:13.032Z"
   },
   {
    "duration": 101,
    "start_time": "2022-03-26T19:58:13.046Z"
   },
   {
    "duration": 83200,
    "start_time": "2022-03-26T19:58:13.234Z"
   },
   {
    "duration": 4402,
    "start_time": "2022-03-26T19:59:36.435Z"
   },
   {
    "duration": 3,
    "start_time": "2022-03-26T19:59:40.839Z"
   },
   {
    "duration": 99,
    "start_time": "2022-03-26T19:59:40.843Z"
   },
   {
    "duration": 9,
    "start_time": "2022-03-26T19:59:40.944Z"
   },
   {
    "duration": 6,
    "start_time": "2022-03-26T19:59:40.955Z"
   },
   {
    "duration": 2223,
    "start_time": "2022-03-26T19:59:40.962Z"
   },
   {
    "duration": 95,
    "start_time": "2022-03-26T19:59:43.186Z"
   },
   {
    "duration": 4,
    "start_time": "2022-03-26T19:59:43.283Z"
   },
   {
    "duration": 5456,
    "start_time": "2022-03-26T19:59:43.289Z"
   },
   {
    "duration": 702,
    "start_time": "2022-03-26T19:59:48.833Z"
   },
   {
    "duration": 59400,
    "start_time": "2022-03-26T19:59:49.537Z"
   },
   {
    "duration": 1701,
    "start_time": "2022-03-26T20:00:48.939Z"
   },
   {
    "duration": 192,
    "start_time": "2022-03-26T20:00:50.642Z"
   },
   {
    "duration": 122744,
    "start_time": "2022-03-26T20:00:50.836Z"
   },
   {
    "duration": 3809,
    "start_time": "2022-03-26T20:02:53.581Z"
   },
   {
    "duration": 20,
    "start_time": "2022-03-26T20:02:57.392Z"
   },
   {
    "duration": 3,
    "start_time": "2022-03-26T20:07:00.656Z"
   },
   {
    "duration": 14,
    "start_time": "2022-03-26T20:07:00.661Z"
   },
   {
    "duration": 859,
    "start_time": "2022-03-26T20:07:00.677Z"
   },
   {
    "duration": 13,
    "start_time": "2022-03-26T20:07:01.537Z"
   },
   {
    "duration": 26,
    "start_time": "2022-03-26T20:07:01.551Z"
   },
   {
    "duration": 132,
    "start_time": "2022-03-26T20:07:01.579Z"
   },
   {
    "duration": 20,
    "start_time": "2022-03-26T20:07:01.713Z"
   },
   {
    "duration": 318,
    "start_time": "2022-03-26T20:07:01.735Z"
   },
   {
    "duration": 19,
    "start_time": "2022-03-26T20:07:02.055Z"
   },
   {
    "duration": 18,
    "start_time": "2022-03-26T20:07:02.076Z"
   },
   {
    "duration": 8,
    "start_time": "2022-03-26T20:07:02.097Z"
   },
   {
    "duration": 128,
    "start_time": "2022-03-26T20:07:02.106Z"
   },
   {
    "duration": 143,
    "start_time": "2022-03-26T20:07:02.236Z"
   },
   {
    "duration": 616,
    "start_time": "2022-03-26T20:07:02.381Z"
   },
   {
    "duration": 123,
    "start_time": "2022-03-26T20:07:02.999Z"
   },
   {
    "duration": 126,
    "start_time": "2022-03-26T20:07:03.132Z"
   },
   {
    "duration": 31,
    "start_time": "2022-03-26T20:07:03.260Z"
   },
   {
    "duration": 981,
    "start_time": "2022-03-26T20:07:03.293Z"
   },
   {
    "duration": 11,
    "start_time": "2022-03-26T20:07:04.276Z"
   },
   {
    "duration": 22,
    "start_time": "2022-03-26T20:07:04.289Z"
   },
   {
    "duration": 28,
    "start_time": "2022-03-26T20:07:04.313Z"
   },
   {
    "duration": 3,
    "start_time": "2022-03-26T20:07:04.343Z"
   },
   {
    "duration": 7,
    "start_time": "2022-03-26T20:07:04.348Z"
   },
   {
    "duration": 55,
    "start_time": "2022-03-26T20:07:04.357Z"
   },
   {
    "duration": 4,
    "start_time": "2022-03-26T20:07:04.414Z"
   },
   {
    "duration": 4,
    "start_time": "2022-03-26T20:07:04.433Z"
   },
   {
    "duration": 6,
    "start_time": "2022-03-26T20:07:04.438Z"
   },
   {
    "duration": 5,
    "start_time": "2022-03-26T20:07:04.445Z"
   },
   {
    "duration": 13,
    "start_time": "2022-03-26T20:07:04.453Z"
   },
   {
    "duration": 6,
    "start_time": "2022-03-26T20:07:04.467Z"
   },
   {
    "duration": 1270,
    "start_time": "2022-03-26T20:07:04.474Z"
   },
   {
    "duration": 58,
    "start_time": "2022-03-26T20:07:05.746Z"
   },
   {
    "duration": 3,
    "start_time": "2022-03-26T20:07:05.806Z"
   },
   {
    "duration": 127,
    "start_time": "2022-03-26T20:07:05.810Z"
   },
   {
    "duration": 99,
    "start_time": "2022-03-26T20:07:05.939Z"
   },
   {
    "duration": 94,
    "start_time": "2022-03-26T20:07:06.040Z"
   },
   {
    "duration": 1514,
    "start_time": "2022-03-26T20:11:38.744Z"
   },
   {
    "duration": 3,
    "start_time": "2022-03-26T20:11:40.261Z"
   },
   {
    "duration": 1140,
    "start_time": "2022-03-26T20:11:40.266Z"
   },
   {
    "duration": 15,
    "start_time": "2022-03-26T20:11:41.408Z"
   },
   {
    "duration": 18,
    "start_time": "2022-03-26T20:11:41.432Z"
   },
   {
    "duration": 127,
    "start_time": "2022-03-26T20:11:41.451Z"
   },
   {
    "duration": 4,
    "start_time": "2022-03-26T20:11:41.580Z"
   },
   {
    "duration": 473,
    "start_time": "2022-03-26T20:11:41.585Z"
   },
   {
    "duration": 19,
    "start_time": "2022-03-26T20:11:42.060Z"
   },
   {
    "duration": 68,
    "start_time": "2022-03-26T20:11:42.081Z"
   },
   {
    "duration": 9,
    "start_time": "2022-03-26T20:11:42.151Z"
   },
   {
    "duration": 396,
    "start_time": "2022-03-26T20:11:42.162Z"
   },
   {
    "duration": 508,
    "start_time": "2022-03-26T20:11:42.560Z"
   },
   {
    "duration": 1068,
    "start_time": "2022-03-26T20:11:43.070Z"
   },
   {
    "duration": 128,
    "start_time": "2022-03-26T20:11:44.139Z"
   },
   {
    "duration": 126,
    "start_time": "2022-03-26T20:11:44.269Z"
   },
   {
    "duration": 50,
    "start_time": "2022-03-26T20:11:44.397Z"
   },
   {
    "duration": 1016,
    "start_time": "2022-03-26T20:11:44.449Z"
   },
   {
    "duration": 12,
    "start_time": "2022-03-26T20:11:45.466Z"
   },
   {
    "duration": 23,
    "start_time": "2022-03-26T20:11:45.480Z"
   },
   {
    "duration": 30,
    "start_time": "2022-03-26T20:11:45.505Z"
   },
   {
    "duration": 4,
    "start_time": "2022-03-26T20:11:45.537Z"
   },
   {
    "duration": 6,
    "start_time": "2022-03-26T20:11:45.542Z"
   },
   {
    "duration": 55,
    "start_time": "2022-03-26T20:11:45.549Z"
   },
   {
    "duration": 3,
    "start_time": "2022-03-26T20:11:45.606Z"
   },
   {
    "duration": 22,
    "start_time": "2022-03-26T20:11:45.611Z"
   },
   {
    "duration": 3,
    "start_time": "2022-03-26T20:11:45.635Z"
   },
   {
    "duration": 3,
    "start_time": "2022-03-26T20:11:45.642Z"
   },
   {
    "duration": 13,
    "start_time": "2022-03-26T20:11:45.647Z"
   },
   {
    "duration": 5,
    "start_time": "2022-03-26T20:11:45.662Z"
   },
   {
    "duration": 1269,
    "start_time": "2022-03-26T20:11:45.668Z"
   },
   {
    "duration": 60,
    "start_time": "2022-03-26T20:11:46.939Z"
   },
   {
    "duration": 3,
    "start_time": "2022-03-26T20:11:47.001Z"
   },
   {
    "duration": 137,
    "start_time": "2022-03-26T20:11:47.006Z"
   },
   {
    "duration": 97,
    "start_time": "2022-03-26T20:11:47.144Z"
   },
   {
    "duration": 89,
    "start_time": "2022-03-26T20:11:47.244Z"
   },
   {
    "duration": 87235,
    "start_time": "2022-03-26T20:11:47.335Z"
   },
   {
    "duration": 4468,
    "start_time": "2022-03-26T20:13:14.571Z"
   },
   {
    "duration": 3,
    "start_time": "2022-03-26T20:13:19.040Z"
   },
   {
    "duration": 107,
    "start_time": "2022-03-26T20:13:19.044Z"
   },
   {
    "duration": 10,
    "start_time": "2022-03-26T20:13:19.153Z"
   },
   {
    "duration": 6,
    "start_time": "2022-03-26T20:13:19.165Z"
   },
   {
    "duration": 2235,
    "start_time": "2022-03-26T20:13:19.172Z"
   },
   {
    "duration": 94,
    "start_time": "2022-03-26T20:13:21.408Z"
   },
   {
    "duration": 3,
    "start_time": "2022-03-26T20:13:21.504Z"
   },
   {
    "duration": 5434,
    "start_time": "2022-03-26T20:13:21.508Z"
   },
   {
    "duration": 699,
    "start_time": "2022-03-26T20:13:26.943Z"
   },
   {
    "duration": 3,
    "start_time": "2022-03-26T20:13:27.644Z"
   },
   {
    "duration": 43692,
    "start_time": "2022-03-26T20:13:27.649Z"
   },
   {
    "duration": 2294,
    "start_time": "2022-03-26T20:14:11.343Z"
   },
   {
    "duration": 106,
    "start_time": "2022-03-26T20:14:13.638Z"
   },
   {
    "duration": 87,
    "start_time": "2022-03-26T20:14:13.746Z"
   },
   {
    "duration": 121002,
    "start_time": "2022-03-26T20:14:13.835Z"
   },
   {
    "duration": 3668,
    "start_time": "2022-03-26T20:16:14.839Z"
   },
   {
    "duration": 21,
    "start_time": "2022-03-26T20:16:18.509Z"
   },
   {
    "duration": 3,
    "start_time": "2022-03-26T20:16:18.532Z"
   },
   {
    "duration": 10,
    "start_time": "2022-03-26T20:16:18.537Z"
   },
   {
    "duration": 10,
    "start_time": "2022-03-26T20:31:25.484Z"
   },
   {
    "duration": 815,
    "start_time": "2022-03-26T20:33:26.722Z"
   },
   {
    "duration": 98,
    "start_time": "2022-03-26T20:33:27.539Z"
   },
   {
    "duration": 41622,
    "start_time": "2022-03-26T20:33:42.620Z"
   },
   {
    "duration": 1499,
    "start_time": "2022-03-26T20:34:24.244Z"
   },
   {
    "duration": 194,
    "start_time": "2022-03-26T20:34:25.744Z"
   },
   {
    "duration": 5171,
    "start_time": "2022-03-26T20:34:51.121Z"
   },
   {
    "duration": 23,
    "start_time": "2022-03-26T20:34:56.294Z"
   },
   {
    "duration": 4,
    "start_time": "2022-03-26T20:36:15.429Z"
   },
   {
    "duration": 7,
    "start_time": "2022-03-26T20:36:15.435Z"
   },
   {
    "duration": 868,
    "start_time": "2022-03-26T20:36:15.443Z"
   },
   {
    "duration": 13,
    "start_time": "2022-03-26T20:36:16.312Z"
   },
   {
    "duration": 15,
    "start_time": "2022-03-26T20:36:16.334Z"
   },
   {
    "duration": 135,
    "start_time": "2022-03-26T20:36:16.350Z"
   },
   {
    "duration": 4,
    "start_time": "2022-03-26T20:36:16.486Z"
   },
   {
    "duration": 319,
    "start_time": "2022-03-26T20:36:16.492Z"
   },
   {
    "duration": 27,
    "start_time": "2022-03-26T20:36:16.812Z"
   },
   {
    "duration": 19,
    "start_time": "2022-03-26T20:36:16.841Z"
   },
   {
    "duration": 8,
    "start_time": "2022-03-26T20:36:16.861Z"
   },
   {
    "duration": 133,
    "start_time": "2022-03-26T20:36:16.871Z"
   },
   {
    "duration": 144,
    "start_time": "2022-03-26T20:36:17.006Z"
   },
   {
    "duration": 520,
    "start_time": "2022-03-26T20:36:17.153Z"
   },
   {
    "duration": 120,
    "start_time": "2022-03-26T20:36:17.675Z"
   },
   {
    "duration": 124,
    "start_time": "2022-03-26T20:36:17.797Z"
   },
   {
    "duration": 35,
    "start_time": "2022-03-26T20:36:17.923Z"
   },
   {
    "duration": 1004,
    "start_time": "2022-03-26T20:36:17.960Z"
   },
   {
    "duration": 12,
    "start_time": "2022-03-26T20:36:18.966Z"
   },
   {
    "duration": 18,
    "start_time": "2022-03-26T20:36:18.980Z"
   },
   {
    "duration": 37,
    "start_time": "2022-03-26T20:36:19.000Z"
   },
   {
    "duration": 4,
    "start_time": "2022-03-26T20:36:19.039Z"
   },
   {
    "duration": 7,
    "start_time": "2022-03-26T20:36:19.045Z"
   },
   {
    "duration": 48,
    "start_time": "2022-03-26T20:36:19.055Z"
   },
   {
    "duration": 4,
    "start_time": "2022-03-26T20:36:19.105Z"
   },
   {
    "duration": 24,
    "start_time": "2022-03-26T20:36:19.110Z"
   },
   {
    "duration": 7,
    "start_time": "2022-03-26T20:36:19.135Z"
   },
   {
    "duration": 8,
    "start_time": "2022-03-26T20:36:19.143Z"
   },
   {
    "duration": 14,
    "start_time": "2022-03-26T20:36:19.152Z"
   },
   {
    "duration": 6,
    "start_time": "2022-03-26T20:36:19.167Z"
   },
   {
    "duration": 1260,
    "start_time": "2022-03-26T20:36:19.175Z"
   },
   {
    "duration": 61,
    "start_time": "2022-03-26T20:36:20.437Z"
   },
   {
    "duration": 3,
    "start_time": "2022-03-26T20:36:20.500Z"
   },
   {
    "duration": 131,
    "start_time": "2022-03-26T20:36:20.505Z"
   },
   {
    "duration": 99,
    "start_time": "2022-03-26T20:36:20.638Z"
   },
   {
    "duration": 3,
    "start_time": "2022-03-26T20:36:20.739Z"
   },
   {
    "duration": 1618,
    "start_time": "2022-03-26T20:39:23.796Z"
   },
   {
    "duration": 3,
    "start_time": "2022-03-26T20:39:25.416Z"
   },
   {
    "duration": 1612,
    "start_time": "2022-03-26T20:39:25.421Z"
   },
   {
    "duration": 15,
    "start_time": "2022-03-26T20:39:27.035Z"
   },
   {
    "duration": 16,
    "start_time": "2022-03-26T20:39:27.052Z"
   },
   {
    "duration": 276,
    "start_time": "2022-03-26T20:39:27.070Z"
   },
   {
    "duration": 4,
    "start_time": "2022-03-26T20:39:27.347Z"
   },
   {
    "duration": 319,
    "start_time": "2022-03-26T20:39:27.353Z"
   },
   {
    "duration": 20,
    "start_time": "2022-03-26T20:39:27.673Z"
   },
   {
    "duration": 19,
    "start_time": "2022-03-26T20:39:27.694Z"
   },
   {
    "duration": 25,
    "start_time": "2022-03-26T20:39:27.715Z"
   },
   {
    "duration": 139,
    "start_time": "2022-03-26T20:39:27.741Z"
   },
   {
    "duration": 175,
    "start_time": "2022-03-26T20:39:27.881Z"
   },
   {
    "duration": 656,
    "start_time": "2022-03-26T20:39:28.057Z"
   },
   {
    "duration": 128,
    "start_time": "2022-03-26T20:39:28.715Z"
   },
   {
    "duration": 130,
    "start_time": "2022-03-26T20:39:28.845Z"
   },
   {
    "duration": 56,
    "start_time": "2022-03-26T20:39:28.977Z"
   },
   {
    "duration": 1021,
    "start_time": "2022-03-26T20:39:29.037Z"
   },
   {
    "duration": 13,
    "start_time": "2022-03-26T20:39:30.060Z"
   },
   {
    "duration": 26,
    "start_time": "2022-03-26T20:39:30.076Z"
   },
   {
    "duration": 35,
    "start_time": "2022-03-26T20:39:30.104Z"
   },
   {
    "duration": 5,
    "start_time": "2022-03-26T20:39:30.140Z"
   },
   {
    "duration": 24,
    "start_time": "2022-03-26T20:39:30.147Z"
   },
   {
    "duration": 61,
    "start_time": "2022-03-26T20:39:30.173Z"
   },
   {
    "duration": 4,
    "start_time": "2022-03-26T20:39:30.236Z"
   },
   {
    "duration": 16,
    "start_time": "2022-03-26T20:39:30.241Z"
   },
   {
    "duration": 9,
    "start_time": "2022-03-26T20:39:30.259Z"
   },
   {
    "duration": 21,
    "start_time": "2022-03-26T20:39:30.270Z"
   },
   {
    "duration": 25,
    "start_time": "2022-03-26T20:39:30.293Z"
   },
   {
    "duration": 17,
    "start_time": "2022-03-26T20:39:30.319Z"
   },
   {
    "duration": 1276,
    "start_time": "2022-03-26T20:39:30.338Z"
   },
   {
    "duration": 71,
    "start_time": "2022-03-26T20:39:31.615Z"
   },
   {
    "duration": 3,
    "start_time": "2022-03-26T20:39:31.688Z"
   },
   {
    "duration": 78,
    "start_time": "2022-03-26T20:39:31.692Z"
   },
   {
    "duration": 160,
    "start_time": "2022-03-26T20:39:31.772Z"
   },
   {
    "duration": 4,
    "start_time": "2022-03-26T20:39:31.934Z"
   },
   {
    "duration": 86385,
    "start_time": "2022-03-26T20:39:31.940Z"
   },
   {
    "duration": 4828,
    "start_time": "2022-03-26T20:40:58.327Z"
   },
   {
    "duration": 3,
    "start_time": "2022-03-26T20:41:03.157Z"
   },
   {
    "duration": 107,
    "start_time": "2022-03-26T20:41:03.161Z"
   },
   {
    "duration": 10,
    "start_time": "2022-03-26T20:41:03.270Z"
   },
   {
    "duration": 9,
    "start_time": "2022-03-26T20:41:03.282Z"
   },
   {
    "duration": 2500,
    "start_time": "2022-03-26T20:41:03.292Z"
   },
   {
    "duration": 95,
    "start_time": "2022-03-26T20:41:05.793Z"
   },
   {
    "duration": 3,
    "start_time": "2022-03-26T20:41:05.890Z"
   },
   {
    "duration": 5451,
    "start_time": "2022-03-26T20:41:05.894Z"
   },
   {
    "duration": 796,
    "start_time": "2022-03-26T20:41:11.346Z"
   },
   {
    "duration": 3,
    "start_time": "2022-03-26T20:41:12.144Z"
   },
   {
    "duration": 38489,
    "start_time": "2022-03-26T20:41:12.149Z"
   },
   {
    "duration": 1397,
    "start_time": "2022-03-26T20:41:50.640Z"
   },
   {
    "duration": 196,
    "start_time": "2022-03-26T20:41:52.039Z"
   },
   {
    "duration": 3,
    "start_time": "2022-03-26T20:41:52.236Z"
   },
   {
    "duration": 116665,
    "start_time": "2022-03-26T20:41:52.241Z"
   },
   {
    "duration": 5098,
    "start_time": "2022-03-26T20:43:48.910Z"
   },
   {
    "duration": 23,
    "start_time": "2022-03-26T20:43:54.009Z"
   },
   {
    "duration": 3,
    "start_time": "2022-03-26T20:43:54.033Z"
   },
   {
    "duration": 17,
    "start_time": "2022-03-26T20:43:54.038Z"
   },
   {
    "duration": 1749,
    "start_time": "2022-03-28T19:15:41.155Z"
   },
   {
    "duration": 3,
    "start_time": "2022-03-28T19:15:44.073Z"
   },
   {
    "duration": 890,
    "start_time": "2022-03-28T19:15:44.662Z"
   },
   {
    "duration": 16,
    "start_time": "2022-03-28T19:15:45.554Z"
   },
   {
    "duration": 30,
    "start_time": "2022-03-28T19:15:45.572Z"
   },
   {
    "duration": 143,
    "start_time": "2022-03-28T19:15:46.941Z"
   },
   {
    "duration": 38,
    "start_time": "2022-03-28T19:15:47.142Z"
   },
   {
    "duration": 315,
    "start_time": "2022-03-28T19:15:47.561Z"
   },
   {
    "duration": 24,
    "start_time": "2022-03-28T19:15:47.878Z"
   },
   {
    "duration": 17,
    "start_time": "2022-03-28T19:15:48.089Z"
   },
   {
    "duration": 9,
    "start_time": "2022-03-28T19:15:48.451Z"
   },
   {
    "duration": 122,
    "start_time": "2022-03-28T19:15:49.284Z"
   },
   {
    "duration": 155,
    "start_time": "2022-03-28T19:15:49.434Z"
   },
   {
    "duration": 632,
    "start_time": "2022-03-28T19:15:49.776Z"
   },
   {
    "duration": 137,
    "start_time": "2022-03-28T19:15:50.410Z"
   },
   {
    "duration": 137,
    "start_time": "2022-03-28T19:15:50.549Z"
   },
   {
    "duration": 45,
    "start_time": "2022-03-28T19:15:50.688Z"
   },
   {
    "duration": 1027,
    "start_time": "2022-03-28T19:15:50.828Z"
   },
   {
    "duration": 13,
    "start_time": "2022-03-28T19:15:52.075Z"
   },
   {
    "duration": 17,
    "start_time": "2022-03-28T19:15:54.079Z"
   },
   {
    "duration": 16,
    "start_time": "2022-03-28T19:15:54.971Z"
   },
   {
    "duration": 4,
    "start_time": "2022-03-28T19:15:55.547Z"
   },
   {
    "duration": 3,
    "start_time": "2022-03-28T19:15:55.762Z"
   },
   {
    "duration": 49,
    "start_time": "2022-03-28T19:15:55.952Z"
   },
   {
    "duration": 4,
    "start_time": "2022-03-28T19:15:56.142Z"
   },
   {
    "duration": 4,
    "start_time": "2022-03-28T19:15:56.405Z"
   },
   {
    "duration": 4,
    "start_time": "2022-03-28T19:15:58.295Z"
   },
   {
    "duration": 4,
    "start_time": "2022-03-28T19:15:58.574Z"
   },
   {
    "duration": 12,
    "start_time": "2022-03-28T19:15:59.354Z"
   },
   {
    "duration": 3,
    "start_time": "2022-03-28T19:16:00.753Z"
   },
   {
    "duration": 1407,
    "start_time": "2022-03-28T19:16:07.396Z"
   },
   {
    "duration": 79,
    "start_time": "2022-03-28T19:16:12.144Z"
   },
   {
    "duration": 3,
    "start_time": "2022-03-28T19:16:36.918Z"
   },
   {
    "duration": 3,
    "start_time": "2022-03-28T19:16:49.585Z"
   },
   {
    "duration": 3,
    "start_time": "2022-03-28T19:20:42.917Z"
   },
   {
    "duration": 3,
    "start_time": "2022-03-28T19:21:33.255Z"
   },
   {
    "duration": 4,
    "start_time": "2022-03-28T19:21:34.192Z"
   },
   {
    "duration": 3,
    "start_time": "2022-03-28T19:21:45.293Z"
   },
   {
    "duration": 3,
    "start_time": "2022-03-28T19:21:47.111Z"
   },
   {
    "duration": 4,
    "start_time": "2022-03-28T19:21:47.488Z"
   },
   {
    "duration": 4,
    "start_time": "2022-03-28T19:30:02.951Z"
   },
   {
    "duration": 7,
    "start_time": "2022-03-28T19:30:02.957Z"
   },
   {
    "duration": 877,
    "start_time": "2022-03-28T19:30:02.965Z"
   },
   {
    "duration": 14,
    "start_time": "2022-03-28T19:30:03.844Z"
   },
   {
    "duration": 17,
    "start_time": "2022-03-28T19:30:03.859Z"
   },
   {
    "duration": 146,
    "start_time": "2022-03-28T19:30:03.878Z"
   },
   {
    "duration": 4,
    "start_time": "2022-03-28T19:30:04.026Z"
   },
   {
    "duration": 329,
    "start_time": "2022-03-28T19:30:04.032Z"
   },
   {
    "duration": 20,
    "start_time": "2022-03-28T19:30:04.362Z"
   },
   {
    "duration": 20,
    "start_time": "2022-03-28T19:30:04.400Z"
   },
   {
    "duration": 9,
    "start_time": "2022-03-28T19:30:04.422Z"
   },
   {
    "duration": 147,
    "start_time": "2022-03-28T19:30:04.434Z"
   },
   {
    "duration": 154,
    "start_time": "2022-03-28T19:30:04.582Z"
   },
   {
    "duration": 573,
    "start_time": "2022-03-28T19:30:04.738Z"
   },
   {
    "duration": 132,
    "start_time": "2022-03-28T19:30:05.313Z"
   },
   {
    "duration": 135,
    "start_time": "2022-03-28T19:30:05.447Z"
   },
   {
    "duration": 39,
    "start_time": "2022-03-28T19:30:05.584Z"
   },
   {
    "duration": 1031,
    "start_time": "2022-03-28T19:30:05.625Z"
   },
   {
    "duration": 14,
    "start_time": "2022-03-28T19:30:06.658Z"
   },
   {
    "duration": 28,
    "start_time": "2022-03-28T19:30:06.674Z"
   },
   {
    "duration": 16,
    "start_time": "2022-03-28T19:30:06.704Z"
   },
   {
    "duration": 4,
    "start_time": "2022-03-28T19:30:06.721Z"
   },
   {
    "duration": 5,
    "start_time": "2022-03-28T19:30:06.727Z"
   },
   {
    "duration": 71,
    "start_time": "2022-03-28T19:30:06.734Z"
   },
   {
    "duration": 3,
    "start_time": "2022-03-28T19:30:06.807Z"
   },
   {
    "duration": 5,
    "start_time": "2022-03-28T19:30:06.812Z"
   },
   {
    "duration": 4,
    "start_time": "2022-03-28T19:30:06.819Z"
   },
   {
    "duration": 4,
    "start_time": "2022-03-28T19:30:06.827Z"
   },
   {
    "duration": 23,
    "start_time": "2022-03-28T19:30:06.833Z"
   },
   {
    "duration": 18,
    "start_time": "2022-03-28T19:30:06.858Z"
   },
   {
    "duration": 1267,
    "start_time": "2022-03-28T19:30:06.878Z"
   },
   {
    "duration": 69,
    "start_time": "2022-03-28T19:30:08.147Z"
   },
   {
    "duration": 2,
    "start_time": "2022-03-28T19:30:08.218Z"
   },
   {
    "duration": 6,
    "start_time": "2022-03-28T19:30:08.222Z"
   },
   {
    "duration": 8,
    "start_time": "2022-03-28T19:30:08.229Z"
   },
   {
    "duration": 90,
    "start_time": "2022-03-28T19:30:08.239Z"
   },
   {
    "duration": 269,
    "start_time": "2022-03-28T19:30:08.332Z"
   },
   {
    "duration": 3,
    "start_time": "2022-03-28T19:30:08.603Z"
   },
   {
    "duration": 83340,
    "start_time": "2022-03-28T19:30:08.608Z"
   },
   {
    "duration": 4211,
    "start_time": "2022-03-28T19:31:31.950Z"
   },
   {
    "duration": 4,
    "start_time": "2022-03-28T19:31:36.163Z"
   },
   {
    "duration": 106,
    "start_time": "2022-03-28T19:31:36.169Z"
   },
   {
    "duration": 12,
    "start_time": "2022-03-28T19:31:36.276Z"
   },
   {
    "duration": 10,
    "start_time": "2022-03-28T19:31:36.302Z"
   },
   {
    "duration": 2997,
    "start_time": "2022-03-28T19:31:36.313Z"
   },
   {
    "duration": 104,
    "start_time": "2022-03-28T19:31:39.312Z"
   },
   {
    "duration": 5,
    "start_time": "2022-03-28T19:31:39.418Z"
   },
   {
    "duration": 5180,
    "start_time": "2022-03-28T19:31:39.424Z"
   },
   {
    "duration": 713,
    "start_time": "2022-03-28T19:31:44.606Z"
   },
   {
    "duration": 3,
    "start_time": "2022-03-28T19:31:45.321Z"
   },
   {
    "duration": 35675,
    "start_time": "2022-03-28T19:31:45.326Z"
   },
   {
    "duration": 1699,
    "start_time": "2022-03-28T19:32:21.004Z"
   },
   {
    "duration": 197,
    "start_time": "2022-03-28T19:32:22.705Z"
   },
   {
    "duration": 4,
    "start_time": "2022-03-28T19:32:22.904Z"
   },
   {
    "duration": 136699,
    "start_time": "2022-03-28T19:32:22.909Z"
   },
   {
    "duration": 5813,
    "start_time": "2022-03-28T19:34:39.610Z"
   },
   {
    "duration": 24,
    "start_time": "2022-03-28T19:34:45.426Z"
   },
   {
    "duration": 3,
    "start_time": "2022-03-28T19:34:45.451Z"
   },
   {
    "duration": 10,
    "start_time": "2022-03-28T19:34:45.456Z"
   },
   {
    "duration": 72,
    "start_time": "2022-03-29T10:46:28.475Z"
   },
   {
    "duration": 2242,
    "start_time": "2022-03-29T10:47:26.921Z"
   },
   {
    "duration": 4,
    "start_time": "2022-03-29T10:47:31.384Z"
   },
   {
    "duration": 1266,
    "start_time": "2022-03-29T10:47:32.410Z"
   },
   {
    "duration": 26,
    "start_time": "2022-03-29T10:47:33.678Z"
   },
   {
    "duration": 28,
    "start_time": "2022-03-29T10:47:34.332Z"
   },
   {
    "duration": 72,
    "start_time": "2022-03-29T10:47:34.539Z"
   },
   {
    "duration": 34,
    "start_time": "2022-03-29T10:47:34.712Z"
   },
   {
    "duration": 171,
    "start_time": "2022-03-29T10:47:35.756Z"
   },
   {
    "duration": 6,
    "start_time": "2022-03-29T10:47:35.930Z"
   },
   {
    "duration": 447,
    "start_time": "2022-03-29T10:47:36.408Z"
   },
   {
    "duration": 31,
    "start_time": "2022-03-29T10:47:36.858Z"
   },
   {
    "duration": 24,
    "start_time": "2022-03-29T10:47:43.273Z"
   },
   {
    "duration": 20,
    "start_time": "2022-03-29T10:47:44.558Z"
   },
   {
    "duration": 41,
    "start_time": "2022-03-29T10:47:59.189Z"
   },
   {
    "duration": 1246,
    "start_time": "2022-03-29T10:48:34.585Z"
   },
   {
    "duration": 41,
    "start_time": "2022-03-29T10:48:35.834Z"
   },
   {
    "duration": 24,
    "start_time": "2022-03-29T10:48:36.481Z"
   },
   {
    "duration": 73,
    "start_time": "2022-03-29T10:48:36.695Z"
   },
   {
    "duration": 34,
    "start_time": "2022-03-29T10:48:36.908Z"
   },
   {
    "duration": 20,
    "start_time": "2022-03-29T10:49:06.439Z"
   },
   {
    "duration": 165,
    "start_time": "2022-03-29T10:49:11.408Z"
   },
   {
    "duration": 6,
    "start_time": "2022-03-29T10:49:13.459Z"
   },
   {
    "duration": 431,
    "start_time": "2022-03-29T10:49:15.150Z"
   },
   {
    "duration": 24,
    "start_time": "2022-03-29T10:49:21.016Z"
   },
   {
    "duration": 24,
    "start_time": "2022-03-29T10:49:24.339Z"
   },
   {
    "duration": 68,
    "start_time": "2022-03-29T10:49:33.220Z"
   },
   {
    "duration": 147,
    "start_time": "2022-03-29T10:49:33.681Z"
   },
   {
    "duration": 153,
    "start_time": "2022-03-29T10:49:51.115Z"
   },
   {
    "duration": 148,
    "start_time": "2022-03-29T10:49:52.206Z"
   },
   {
    "duration": 30,
    "start_time": "2022-03-29T10:50:02.711Z"
   },
   {
    "duration": 14,
    "start_time": "2022-03-29T10:50:04.501Z"
   },
   {
    "duration": 146,
    "start_time": "2022-03-29T10:50:08.327Z"
   },
   {
    "duration": 198,
    "start_time": "2022-03-29T10:50:40.332Z"
   },
   {
    "duration": 835,
    "start_time": "2022-03-29T10:50:42.479Z"
   },
   {
    "duration": 162,
    "start_time": "2022-03-29T10:50:43.317Z"
   },
   {
    "duration": 143,
    "start_time": "2022-03-29T10:50:47.418Z"
   },
   {
    "duration": 45,
    "start_time": "2022-03-29T10:51:34.731Z"
   },
   {
    "duration": 1259,
    "start_time": "2022-03-29T10:51:35.422Z"
   },
   {
    "duration": 19,
    "start_time": "2022-03-29T10:51:36.683Z"
   },
   {
    "duration": 24,
    "start_time": "2022-03-29T10:51:37.315Z"
   },
   {
    "duration": 23,
    "start_time": "2022-03-29T10:51:37.526Z"
   },
   {
    "duration": 5,
    "start_time": "2022-03-29T10:51:38.097Z"
   },
   {
    "duration": 5,
    "start_time": "2022-03-29T10:51:38.308Z"
   },
   {
    "duration": 54,
    "start_time": "2022-03-29T10:51:38.515Z"
   },
   {
    "duration": 5,
    "start_time": "2022-03-29T10:51:38.730Z"
   },
   {
    "duration": 6,
    "start_time": "2022-03-29T10:51:38.921Z"
   },
   {
    "duration": 6,
    "start_time": "2022-03-29T10:51:39.130Z"
   },
   {
    "duration": 4,
    "start_time": "2022-03-29T10:51:39.322Z"
   },
   {
    "duration": 18,
    "start_time": "2022-03-29T10:51:39.530Z"
   },
   {
    "duration": 3,
    "start_time": "2022-03-29T10:51:39.745Z"
   },
   {
    "duration": 2121,
    "start_time": "2022-03-29T10:51:39.935Z"
   },
   {
    "duration": 71,
    "start_time": "2022-03-29T10:51:42.059Z"
   },
   {
    "duration": 4,
    "start_time": "2022-03-29T10:51:42.132Z"
   },
   {
    "duration": 6,
    "start_time": "2022-03-29T10:51:42.138Z"
   },
   {
    "duration": 29,
    "start_time": "2022-03-29T10:51:42.146Z"
   },
   {
    "duration": 101,
    "start_time": "2022-03-29T10:51:42.177Z"
   },
   {
    "duration": 18,
    "start_time": "2022-03-29T10:51:45.666Z"
   },
   {
    "duration": 5,
    "start_time": "2022-03-29T10:51:45.875Z"
   },
   {
    "duration": 137260,
    "start_time": "2022-03-29T10:51:46.321Z"
   },
   {
    "duration": 4705,
    "start_time": "2022-03-29T10:54:03.584Z"
   },
   {
    "duration": 4,
    "start_time": "2022-03-29T10:54:08.292Z"
   },
   {
    "duration": 158,
    "start_time": "2022-03-29T10:55:24.733Z"
   },
   {
    "duration": 16,
    "start_time": "2022-03-29T10:55:25.088Z"
   },
   {
    "duration": 5,
    "start_time": "2022-03-29T10:55:25.640Z"
   },
   {
    "duration": 4143,
    "start_time": "2022-03-29T10:55:29.163Z"
   },
   {
    "duration": 123,
    "start_time": "2022-03-29T10:55:33.309Z"
   },
   {
    "duration": 4,
    "start_time": "2022-03-29T10:55:33.435Z"
   },
   {
    "duration": 8124,
    "start_time": "2022-03-29T10:55:46.853Z"
   },
   {
    "duration": 903,
    "start_time": "2022-03-29T10:55:54.980Z"
   },
   {
    "duration": 4,
    "start_time": "2022-03-29T10:55:55.885Z"
   },
   {
    "duration": 110962,
    "start_time": "2022-03-29T10:56:31.812Z"
   },
   {
    "duration": 2898,
    "start_time": "2022-03-29T10:58:22.777Z"
   },
   {
    "duration": 198,
    "start_time": "2022-03-29T10:58:25.678Z"
   },
   {
    "duration": 4,
    "start_time": "2022-03-29T10:58:25.879Z"
   },
   {
    "duration": 203356,
    "start_time": "2022-03-29T10:59:49.498Z"
   },
   {
    "duration": 8759,
    "start_time": "2022-03-29T11:03:12.857Z"
   },
   {
    "duration": 30,
    "start_time": "2022-03-29T11:03:21.618Z"
   },
   {
    "duration": 5,
    "start_time": "2022-03-29T11:03:21.651Z"
   },
   {
    "duration": 296182,
    "start_time": "2022-03-29T11:03:30.919Z"
   },
   {
    "duration": 14118,
    "start_time": "2022-03-29T11:11:26.382Z"
   },
   {
    "duration": 39,
    "start_time": "2022-03-29T11:11:40.503Z"
   },
   {
    "duration": 4,
    "start_time": "2022-03-29T11:11:40.544Z"
   },
   {
    "duration": 872602,
    "start_time": "2022-03-29T11:13:24.179Z"
   },
   {
    "duration": 68,
    "start_time": "2022-03-29T12:11:20.364Z"
   },
   {
    "duration": 9,
    "start_time": "2022-03-29T12:11:20.689Z"
   },
   {
    "duration": 10,
    "start_time": "2022-03-29T12:11:21.075Z"
   },
   {
    "duration": 2293,
    "start_time": "2022-03-29T12:11:31.288Z"
   },
   {
    "duration": 4,
    "start_time": "2022-03-29T12:11:33.585Z"
   },
   {
    "duration": 1191,
    "start_time": "2022-03-29T12:11:33.591Z"
   },
   {
    "duration": 26,
    "start_time": "2022-03-29T12:11:34.785Z"
   },
   {
    "duration": 30,
    "start_time": "2022-03-29T12:11:34.813Z"
   },
   {
    "duration": 74,
    "start_time": "2022-03-29T12:11:34.867Z"
   },
   {
    "duration": 33,
    "start_time": "2022-03-29T12:11:34.943Z"
   },
   {
    "duration": 169,
    "start_time": "2022-03-29T12:11:34.978Z"
   },
   {
    "duration": 6,
    "start_time": "2022-03-29T12:11:35.149Z"
   },
   {
    "duration": 471,
    "start_time": "2022-03-29T12:11:35.172Z"
   },
   {
    "duration": 34,
    "start_time": "2022-03-29T12:11:35.645Z"
   },
   {
    "duration": 23,
    "start_time": "2022-03-29T12:11:35.681Z"
   },
   {
    "duration": 171,
    "start_time": "2022-03-29T12:11:35.706Z"
   },
   {
    "duration": 160,
    "start_time": "2022-03-29T12:11:35.879Z"
   },
   {
    "duration": 53,
    "start_time": "2022-03-29T12:11:36.041Z"
   },
   {
    "duration": 173,
    "start_time": "2022-03-29T12:11:36.097Z"
   },
   {
    "duration": 213,
    "start_time": "2022-03-29T12:11:36.272Z"
   },
   {
    "duration": 848,
    "start_time": "2022-03-29T12:11:36.488Z"
   },
   {
    "duration": 153,
    "start_time": "2022-03-29T12:11:37.338Z"
   },
   {
    "duration": 74,
    "start_time": "2022-03-29T12:11:37.494Z"
   },
   {
    "duration": 1284,
    "start_time": "2022-03-29T12:11:37.570Z"
   },
   {
    "duration": 23,
    "start_time": "2022-03-29T12:11:38.856Z"
   },
   {
    "duration": 42,
    "start_time": "2022-03-29T12:11:38.882Z"
   },
   {
    "duration": 22,
    "start_time": "2022-03-29T12:11:38.927Z"
   },
   {
    "duration": 20,
    "start_time": "2022-03-29T12:11:38.952Z"
   },
   {
    "duration": 34,
    "start_time": "2022-03-29T12:11:38.975Z"
   },
   {
    "duration": 92,
    "start_time": "2022-03-29T12:11:39.012Z"
   },
   {
    "duration": 6,
    "start_time": "2022-03-29T12:11:39.111Z"
   },
   {
    "duration": 42,
    "start_time": "2022-03-29T12:11:39.120Z"
   },
   {
    "duration": 35,
    "start_time": "2022-03-29T12:11:39.164Z"
   },
   {
    "duration": 50,
    "start_time": "2022-03-29T12:11:39.201Z"
   },
   {
    "duration": 42,
    "start_time": "2022-03-29T12:11:39.254Z"
   },
   {
    "duration": 29,
    "start_time": "2022-03-29T12:11:39.299Z"
   },
   {
    "duration": 2502,
    "start_time": "2022-03-29T12:11:39.331Z"
   },
   {
    "duration": 85,
    "start_time": "2022-03-29T12:11:41.836Z"
   },
   {
    "duration": 4,
    "start_time": "2022-03-29T12:11:41.924Z"
   },
   {
    "duration": 6,
    "start_time": "2022-03-29T12:11:41.931Z"
   },
   {
    "duration": 29,
    "start_time": "2022-03-29T12:11:41.940Z"
   },
   {
    "duration": 122,
    "start_time": "2022-03-29T12:11:41.971Z"
   },
   {
    "duration": 174,
    "start_time": "2022-03-29T12:11:42.098Z"
   },
   {
    "duration": 101,
    "start_time": "2022-03-29T12:11:42.275Z"
   },
   {
    "duration": 130055,
    "start_time": "2022-03-29T12:11:42.378Z"
   },
   {
    "duration": 4423,
    "start_time": "2022-03-29T12:13:52.435Z"
   },
   {
    "duration": 5,
    "start_time": "2022-03-29T12:13:56.867Z"
   },
   {
    "duration": 159,
    "start_time": "2022-03-29T12:13:56.874Z"
   },
   {
    "duration": 15,
    "start_time": "2022-03-29T12:13:57.036Z"
   },
   {
    "duration": 5,
    "start_time": "2022-03-29T12:13:57.068Z"
   },
   {
    "duration": 4034,
    "start_time": "2022-03-29T12:13:57.076Z"
   },
   {
    "duration": 124,
    "start_time": "2022-03-29T12:14:01.113Z"
   },
   {
    "duration": 5,
    "start_time": "2022-03-29T12:14:01.239Z"
   },
   {
    "duration": 7528,
    "start_time": "2022-03-29T12:14:01.246Z"
   },
   {
    "duration": 897,
    "start_time": "2022-03-29T12:14:08.777Z"
   },
   {
    "duration": 5,
    "start_time": "2022-03-29T12:14:09.676Z"
   },
   {
    "duration": 89685,
    "start_time": "2022-03-29T12:14:09.683Z"
   },
   {
    "duration": 2005,
    "start_time": "2022-03-29T12:15:39.371Z"
   },
   {
    "duration": 216,
    "start_time": "2022-03-29T12:15:41.467Z"
   },
   {
    "duration": 4,
    "start_time": "2022-03-29T12:15:41.686Z"
   },
   {
    "duration": 581098,
    "start_time": "2022-03-29T12:15:41.692Z"
   },
   {
    "duration": 22628,
    "start_time": "2022-03-29T12:25:22.792Z"
   },
   {
    "duration": 52,
    "start_time": "2022-03-29T12:25:45.422Z"
   },
   {
    "duration": 4,
    "start_time": "2022-03-29T12:25:45.477Z"
   },
   {
    "duration": 17,
    "start_time": "2022-03-29T12:25:45.484Z"
   },
   {
    "duration": 1701,
    "start_time": "2022-04-02T14:28:52.678Z"
   },
   {
    "duration": 3,
    "start_time": "2022-04-02T14:28:54.381Z"
   },
   {
    "duration": 1019,
    "start_time": "2022-04-02T14:28:54.386Z"
   },
   {
    "duration": 17,
    "start_time": "2022-04-02T14:28:55.407Z"
   },
   {
    "duration": 34,
    "start_time": "2022-04-02T14:28:55.426Z"
   },
   {
    "duration": 50,
    "start_time": "2022-04-02T14:28:55.462Z"
   },
   {
    "duration": 32,
    "start_time": "2022-04-02T14:28:55.514Z"
   },
   {
    "duration": 134,
    "start_time": "2022-04-02T14:28:55.549Z"
   },
   {
    "duration": 4,
    "start_time": "2022-04-02T14:28:55.685Z"
   },
   {
    "duration": 331,
    "start_time": "2022-04-02T14:28:55.692Z"
   },
   {
    "duration": 27,
    "start_time": "2022-04-02T14:28:56.024Z"
   },
   {
    "duration": 21,
    "start_time": "2022-04-02T14:28:56.053Z"
   },
   {
    "duration": 135,
    "start_time": "2022-04-02T14:28:56.076Z"
   },
   {
    "duration": 126,
    "start_time": "2022-04-02T14:28:56.213Z"
   },
   {
    "duration": 30,
    "start_time": "2022-04-02T14:28:56.342Z"
   },
   {
    "duration": 141,
    "start_time": "2022-04-02T14:28:56.373Z"
   },
   {
    "duration": 190,
    "start_time": "2022-04-02T14:28:56.516Z"
   },
   {
    "duration": 584,
    "start_time": "2022-04-02T14:28:56.708Z"
   },
   {
    "duration": 113,
    "start_time": "2022-04-02T14:28:57.293Z"
   },
   {
    "duration": 41,
    "start_time": "2022-04-02T14:28:57.408Z"
   },
   {
    "duration": 918,
    "start_time": "2022-04-02T14:28:57.451Z"
   },
   {
    "duration": 13,
    "start_time": "2022-04-02T14:28:58.371Z"
   },
   {
    "duration": 20,
    "start_time": "2022-04-02T14:28:58.386Z"
   },
   {
    "duration": 39,
    "start_time": "2022-04-02T14:28:58.408Z"
   },
   {
    "duration": 5,
    "start_time": "2022-04-02T14:28:58.449Z"
   },
   {
    "duration": 10,
    "start_time": "2022-04-02T14:28:58.456Z"
   },
   {
    "duration": 74,
    "start_time": "2022-04-02T14:28:58.468Z"
   },
   {
    "duration": 5,
    "start_time": "2022-04-02T14:28:58.552Z"
   },
   {
    "duration": 9,
    "start_time": "2022-04-02T14:28:58.559Z"
   },
   {
    "duration": 10,
    "start_time": "2022-04-02T14:28:58.570Z"
   },
   {
    "duration": 6,
    "start_time": "2022-04-02T14:28:58.582Z"
   },
   {
    "duration": 21,
    "start_time": "2022-04-02T14:28:58.590Z"
   },
   {
    "duration": 7,
    "start_time": "2022-04-02T14:28:58.613Z"
   },
   {
    "duration": 1829,
    "start_time": "2022-04-02T14:28:58.642Z"
   },
   {
    "duration": 71,
    "start_time": "2022-04-02T14:29:00.473Z"
   },
   {
    "duration": 13,
    "start_time": "2022-04-02T14:29:00.546Z"
   },
   {
    "duration": 16,
    "start_time": "2022-04-02T14:29:00.561Z"
   },
   {
    "duration": 20,
    "start_time": "2022-04-02T14:29:00.579Z"
   },
   {
    "duration": 137,
    "start_time": "2022-04-02T14:29:00.601Z"
   },
   {
    "duration": 205,
    "start_time": "2022-04-02T14:29:00.740Z"
   },
   {
    "duration": 4,
    "start_time": "2022-04-02T14:29:00.948Z"
   },
   {
    "duration": 110463,
    "start_time": "2022-04-02T14:29:00.954Z"
   },
   {
    "duration": 4274,
    "start_time": "2022-04-02T14:30:51.419Z"
   },
   {
    "duration": 4,
    "start_time": "2022-04-02T14:30:55.694Z"
   },
   {
    "duration": 99,
    "start_time": "2022-04-02T14:30:55.700Z"
   },
   {
    "duration": 11,
    "start_time": "2022-04-02T14:30:55.801Z"
   },
   {
    "duration": 8,
    "start_time": "2022-04-02T14:30:55.814Z"
   },
   {
    "duration": 2252,
    "start_time": "2022-04-02T14:30:55.823Z"
   },
   {
    "duration": 83,
    "start_time": "2022-04-02T14:30:58.076Z"
   },
   {
    "duration": 3,
    "start_time": "2022-04-02T14:30:58.161Z"
   },
   {
    "duration": 374376,
    "start_time": "2022-04-02T14:30:58.165Z"
   },
   {
    "duration": 620,
    "start_time": "2022-04-02T14:37:12.543Z"
   },
   {
    "duration": 4,
    "start_time": "2022-04-02T14:37:13.164Z"
   },
   {
    "duration": 228969,
    "start_time": "2022-04-02T14:37:13.169Z"
   },
   {
    "duration": 1399,
    "start_time": "2022-04-02T14:41:02.139Z"
   },
   {
    "duration": 103,
    "start_time": "2022-04-02T14:41:03.540Z"
   },
   {
    "duration": 3,
    "start_time": "2022-04-02T14:41:03.645Z"
   },
   {
    "duration": 315845,
    "start_time": "2022-04-02T14:41:03.649Z"
   },
   {
    "duration": 12789,
    "start_time": "2022-04-02T14:46:19.496Z"
   },
   {
    "duration": 40,
    "start_time": "2022-04-02T14:46:32.287Z"
   },
   {
    "duration": 3,
    "start_time": "2022-04-02T14:46:32.328Z"
   },
   {
    "duration": 19,
    "start_time": "2022-04-02T14:46:32.332Z"
   }
  ],
  "kernelspec": {
   "display_name": "Python 3 (ipykernel)",
   "language": "python",
   "name": "python3"
  },
  "language_info": {
   "codemirror_mode": {
    "name": "ipython",
    "version": 3
   },
   "file_extension": ".py",
   "mimetype": "text/x-python",
   "name": "python",
   "nbconvert_exporter": "python",
   "pygments_lexer": "ipython3",
   "version": "3.9.5"
  },
  "toc": {
   "base_numbering": 1,
   "nav_menu": {},
   "number_sections": true,
   "sideBar": true,
   "skip_h1_title": true,
   "title_cell": "Table of Contents",
   "title_sidebar": "Contents",
   "toc_cell": false,
   "toc_position": {
    "height": "calc(100% - 180px)",
    "left": "10px",
    "top": "150px",
    "width": "366.391px"
   },
   "toc_section_display": true,
   "toc_window_display": true
  }
 },
 "nbformat": 4,
 "nbformat_minor": 2
}
