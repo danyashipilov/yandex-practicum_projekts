{
 "cells": [
  {
   "cell_type": "markdown",
   "metadata": {
    "toc": true
   },
   "source": [
    "<h1>Содержание<span class=\"tocSkip\"></span></h1>\n",
    "<div class=\"toc\"><ul class=\"toc-item\"><li><span><a href=\"#Изучение-данных-из-файла\" data-toc-modified-id=\"Изучение-данных-из-файла-1\"><span class=\"toc-item-num\">1&nbsp;&nbsp;</span>Изучение данных из файла</a></span><ul class=\"toc-item\"><li><span><a href=\"#Вывод\" data-toc-modified-id=\"Вывод-1.1\"><span class=\"toc-item-num\">1.1&nbsp;&nbsp;</span>Вывод</a></span></li></ul></li><li><span><a href=\"#Предобработка-данных\" data-toc-modified-id=\"Предобработка-данных-2\"><span class=\"toc-item-num\">2&nbsp;&nbsp;</span>Предобработка данных</a></span></li><li><span><a href=\"#Расчёты-и-добавление-результатов-в-таблицу\" data-toc-modified-id=\"Расчёты-и-добавление-результатов-в-таблицу-3\"><span class=\"toc-item-num\">3&nbsp;&nbsp;</span>Расчёты и добавление результатов в таблицу</a></span></li><li><span><a href=\"#Исследовательский-анализ-данных\" data-toc-modified-id=\"Исследовательский-анализ-данных-4\"><span class=\"toc-item-num\">4&nbsp;&nbsp;</span>Исследовательский анализ данных</a></span></li><li><span><a href=\"#Общий-вывод\" data-toc-modified-id=\"Общий-вывод-5\"><span class=\"toc-item-num\">5&nbsp;&nbsp;</span>Общий вывод</a></span></li><li><span><a href=\"#Чек-лист-готовности-проекта\" data-toc-modified-id=\"Чек-лист-готовности-проекта-6\"><span class=\"toc-item-num\">6&nbsp;&nbsp;</span>Чек-лист готовности проекта</a></span></li></ul></div>"
   ]
  },
  {
   "cell_type": "markdown",
   "metadata": {},
   "source": [
    "# Исследование объявлений о продаже квартир\n",
    "\n",
    "В вашем распоряжении данные сервиса Яндекс.Недвижимость — архив объявлений о продаже квартир в Санкт-Петербурге и соседних населённых пунктах за несколько лет. Нужно научиться определять рыночную стоимость объектов недвижимости. Ваша задача — установить параметры. Это позволит построить автоматизированную систему: она отследит аномалии и мошенническую деятельность. \n",
    "\n",
    "По каждой квартире на продажу доступны два вида данных. Первые вписаны пользователем, вторые получены автоматически на основе картографических данных. Например, расстояние до центра, аэропорта, ближайшего парка и водоёма. "
   ]
  },
  {
   "cell_type": "markdown",
   "metadata": {},
   "source": [
    "## Изучение данных из файла"
   ]
  },
  {
   "cell_type": "code",
   "execution_count": 1,
   "metadata": {},
   "outputs": [
    {
     "data": {
      "text/html": [
       "<div>\n",
       "<style scoped>\n",
       "    .dataframe tbody tr th:only-of-type {\n",
       "        vertical-align: middle;\n",
       "    }\n",
       "\n",
       "    .dataframe tbody tr th {\n",
       "        vertical-align: top;\n",
       "    }\n",
       "\n",
       "    .dataframe thead th {\n",
       "        text-align: right;\n",
       "    }\n",
       "</style>\n",
       "<table border=\"1\" class=\"dataframe\">\n",
       "  <thead>\n",
       "    <tr style=\"text-align: right;\">\n",
       "      <th></th>\n",
       "      <th>total_images</th>\n",
       "      <th>last_price</th>\n",
       "      <th>total_area</th>\n",
       "      <th>first_day_exposition</th>\n",
       "      <th>rooms</th>\n",
       "      <th>ceiling_height</th>\n",
       "      <th>floors_total</th>\n",
       "      <th>living_area</th>\n",
       "      <th>floor</th>\n",
       "      <th>is_apartment</th>\n",
       "      <th>studio</th>\n",
       "      <th>open_plan</th>\n",
       "      <th>kitchen_area</th>\n",
       "      <th>balcony</th>\n",
       "      <th>locality_name</th>\n",
       "      <th>airports_nearest</th>\n",
       "      <th>cityCenters_nearest</th>\n",
       "      <th>parks_around3000</th>\n",
       "      <th>parks_nearest</th>\n",
       "      <th>ponds_around3000</th>\n",
       "      <th>ponds_nearest</th>\n",
       "      <th>days_exposition</th>\n",
       "    </tr>\n",
       "  </thead>\n",
       "  <tbody>\n",
       "    <tr>\n",
       "      <td>0</td>\n",
       "      <td>20</td>\n",
       "      <td>13000000.0</td>\n",
       "      <td>108.0</td>\n",
       "      <td>2019-03-07T00:00:00</td>\n",
       "      <td>3</td>\n",
       "      <td>2.70</td>\n",
       "      <td>16.0</td>\n",
       "      <td>51.0</td>\n",
       "      <td>8</td>\n",
       "      <td>NaN</td>\n",
       "      <td>False</td>\n",
       "      <td>False</td>\n",
       "      <td>25.0</td>\n",
       "      <td>NaN</td>\n",
       "      <td>Санкт-Петербург</td>\n",
       "      <td>18863.0</td>\n",
       "      <td>16028.0</td>\n",
       "      <td>1.0</td>\n",
       "      <td>482.0</td>\n",
       "      <td>2.0</td>\n",
       "      <td>755.0</td>\n",
       "      <td>NaN</td>\n",
       "    </tr>\n",
       "    <tr>\n",
       "      <td>1</td>\n",
       "      <td>7</td>\n",
       "      <td>3350000.0</td>\n",
       "      <td>40.4</td>\n",
       "      <td>2018-12-04T00:00:00</td>\n",
       "      <td>1</td>\n",
       "      <td>NaN</td>\n",
       "      <td>11.0</td>\n",
       "      <td>18.6</td>\n",
       "      <td>1</td>\n",
       "      <td>NaN</td>\n",
       "      <td>False</td>\n",
       "      <td>False</td>\n",
       "      <td>11.0</td>\n",
       "      <td>2.0</td>\n",
       "      <td>посёлок Шушары</td>\n",
       "      <td>12817.0</td>\n",
       "      <td>18603.0</td>\n",
       "      <td>0.0</td>\n",
       "      <td>NaN</td>\n",
       "      <td>0.0</td>\n",
       "      <td>NaN</td>\n",
       "      <td>81.0</td>\n",
       "    </tr>\n",
       "    <tr>\n",
       "      <td>2</td>\n",
       "      <td>10</td>\n",
       "      <td>5196000.0</td>\n",
       "      <td>56.0</td>\n",
       "      <td>2015-08-20T00:00:00</td>\n",
       "      <td>2</td>\n",
       "      <td>NaN</td>\n",
       "      <td>5.0</td>\n",
       "      <td>34.3</td>\n",
       "      <td>4</td>\n",
       "      <td>NaN</td>\n",
       "      <td>False</td>\n",
       "      <td>False</td>\n",
       "      <td>8.3</td>\n",
       "      <td>0.0</td>\n",
       "      <td>Санкт-Петербург</td>\n",
       "      <td>21741.0</td>\n",
       "      <td>13933.0</td>\n",
       "      <td>1.0</td>\n",
       "      <td>90.0</td>\n",
       "      <td>2.0</td>\n",
       "      <td>574.0</td>\n",
       "      <td>558.0</td>\n",
       "    </tr>\n",
       "    <tr>\n",
       "      <td>3</td>\n",
       "      <td>0</td>\n",
       "      <td>64900000.0</td>\n",
       "      <td>159.0</td>\n",
       "      <td>2015-07-24T00:00:00</td>\n",
       "      <td>3</td>\n",
       "      <td>NaN</td>\n",
       "      <td>14.0</td>\n",
       "      <td>NaN</td>\n",
       "      <td>9</td>\n",
       "      <td>NaN</td>\n",
       "      <td>False</td>\n",
       "      <td>False</td>\n",
       "      <td>NaN</td>\n",
       "      <td>0.0</td>\n",
       "      <td>Санкт-Петербург</td>\n",
       "      <td>28098.0</td>\n",
       "      <td>6800.0</td>\n",
       "      <td>2.0</td>\n",
       "      <td>84.0</td>\n",
       "      <td>3.0</td>\n",
       "      <td>234.0</td>\n",
       "      <td>424.0</td>\n",
       "    </tr>\n",
       "    <tr>\n",
       "      <td>4</td>\n",
       "      <td>2</td>\n",
       "      <td>10000000.0</td>\n",
       "      <td>100.0</td>\n",
       "      <td>2018-06-19T00:00:00</td>\n",
       "      <td>2</td>\n",
       "      <td>3.03</td>\n",
       "      <td>14.0</td>\n",
       "      <td>32.0</td>\n",
       "      <td>13</td>\n",
       "      <td>NaN</td>\n",
       "      <td>False</td>\n",
       "      <td>False</td>\n",
       "      <td>41.0</td>\n",
       "      <td>NaN</td>\n",
       "      <td>Санкт-Петербург</td>\n",
       "      <td>31856.0</td>\n",
       "      <td>8098.0</td>\n",
       "      <td>2.0</td>\n",
       "      <td>112.0</td>\n",
       "      <td>1.0</td>\n",
       "      <td>48.0</td>\n",
       "      <td>121.0</td>\n",
       "    </tr>\n",
       "  </tbody>\n",
       "</table>\n",
       "</div>"
      ],
      "text/plain": [
       "   total_images  last_price  total_area first_day_exposition  rooms  \\\n",
       "0            20  13000000.0       108.0  2019-03-07T00:00:00      3   \n",
       "1             7   3350000.0        40.4  2018-12-04T00:00:00      1   \n",
       "2            10   5196000.0        56.0  2015-08-20T00:00:00      2   \n",
       "3             0  64900000.0       159.0  2015-07-24T00:00:00      3   \n",
       "4             2  10000000.0       100.0  2018-06-19T00:00:00      2   \n",
       "\n",
       "   ceiling_height  floors_total  living_area  floor is_apartment  studio  \\\n",
       "0            2.70          16.0         51.0      8          NaN   False   \n",
       "1             NaN          11.0         18.6      1          NaN   False   \n",
       "2             NaN           5.0         34.3      4          NaN   False   \n",
       "3             NaN          14.0          NaN      9          NaN   False   \n",
       "4            3.03          14.0         32.0     13          NaN   False   \n",
       "\n",
       "   open_plan  kitchen_area  balcony    locality_name  airports_nearest  \\\n",
       "0      False          25.0      NaN  Санкт-Петербург           18863.0   \n",
       "1      False          11.0      2.0   посёлок Шушары           12817.0   \n",
       "2      False           8.3      0.0  Санкт-Петербург           21741.0   \n",
       "3      False           NaN      0.0  Санкт-Петербург           28098.0   \n",
       "4      False          41.0      NaN  Санкт-Петербург           31856.0   \n",
       "\n",
       "   cityCenters_nearest  parks_around3000  parks_nearest  ponds_around3000  \\\n",
       "0              16028.0               1.0          482.0               2.0   \n",
       "1              18603.0               0.0            NaN               0.0   \n",
       "2              13933.0               1.0           90.0               2.0   \n",
       "3               6800.0               2.0           84.0               3.0   \n",
       "4               8098.0               2.0          112.0               1.0   \n",
       "\n",
       "   ponds_nearest  days_exposition  \n",
       "0          755.0              NaN  \n",
       "1            NaN             81.0  \n",
       "2          574.0            558.0  \n",
       "3          234.0            424.0  \n",
       "4           48.0            121.0  "
      ]
     },
     "execution_count": 1,
     "metadata": {},
     "output_type": "execute_result"
    }
   ],
   "source": [
    "import pandas as pd\n",
    "import numpy as np\n",
    "import matplotlib.pyplot as plt\n",
    "df = pd.read_csv('/datasets/real_estate_data.csv',sep='\\t' , decimal='.' ) #читаем файл и выводим певые 5 строк\n",
    "pd.set_option('display.max_columns', None)\n",
    "df.head()"
   ]
  },
  {
   "cell_type": "code",
   "execution_count": 2,
   "metadata": {},
   "outputs": [
    {
     "name": "stdout",
     "output_type": "stream",
     "text": [
      "<class 'pandas.core.frame.DataFrame'>\n",
      "RangeIndex: 23699 entries, 0 to 23698\n",
      "Data columns (total 22 columns):\n",
      "total_images            23699 non-null int64\n",
      "last_price              23699 non-null float64\n",
      "total_area              23699 non-null float64\n",
      "first_day_exposition    23699 non-null object\n",
      "rooms                   23699 non-null int64\n",
      "ceiling_height          14504 non-null float64\n",
      "floors_total            23613 non-null float64\n",
      "living_area             21796 non-null float64\n",
      "floor                   23699 non-null int64\n",
      "is_apartment            2775 non-null object\n",
      "studio                  23699 non-null bool\n",
      "open_plan               23699 non-null bool\n",
      "kitchen_area            21421 non-null float64\n",
      "balcony                 12180 non-null float64\n",
      "locality_name           23650 non-null object\n",
      "airports_nearest        18157 non-null float64\n",
      "cityCenters_nearest     18180 non-null float64\n",
      "parks_around3000        18181 non-null float64\n",
      "parks_nearest           8079 non-null float64\n",
      "ponds_around3000        18181 non-null float64\n",
      "ponds_nearest           9110 non-null float64\n",
      "days_exposition         20518 non-null float64\n",
      "dtypes: bool(2), float64(14), int64(3), object(3)\n",
      "memory usage: 3.7+ MB\n"
     ]
    }
   ],
   "source": [
    "df.info() #тип данных (is_apartment object вместо нужного bool)"
   ]
  },
  {
   "cell_type": "markdown",
   "metadata": {},
   "source": [
    "### Вывод"
   ]
  },
  {
   "cell_type": "markdown",
   "metadata": {},
   "source": [
    "Только 8 полных столбцов (без пропусков), удалить можем строки с пропусками в стобце \"названия насеенного пункта\", ведь если не ясно местоположение то и непонятно с чем сравнивать и впринципе непонятно где это.\n",
    "Много столбцов с типом object которые нужно перевести в числовой тип."
   ]
  },
  {
   "cell_type": "markdown",
   "metadata": {},
   "source": [
    "## Предобработка данных"
   ]
  },
  {
   "cell_type": "code",
   "execution_count": 3,
   "metadata": {},
   "outputs": [
    {
     "data": {
      "text/plain": [
       "total_images                0\n",
       "last_price                  0\n",
       "total_area                  0\n",
       "first_day_exposition        0\n",
       "rooms                       0\n",
       "ceiling_height           9195\n",
       "floors_total               86\n",
       "living_area              1903\n",
       "floor                       0\n",
       "is_apartment            20924\n",
       "studio                      0\n",
       "open_plan                   0\n",
       "kitchen_area             2278\n",
       "balcony                 11519\n",
       "locality_name              49\n",
       "airports_nearest         5542\n",
       "cityCenters_nearest      5519\n",
       "parks_around3000         5518\n",
       "parks_nearest           15620\n",
       "ponds_around3000         5518\n",
       "ponds_nearest           14589\n",
       "days_exposition          3181\n",
       "dtype: int64"
      ]
     },
     "execution_count": 3,
     "metadata": {},
     "output_type": "execute_result"
    }
   ],
   "source": [
    "df.isna().sum() #Количество пропусков"
   ]
  },
  {
   "cell_type": "code",
   "execution_count": 4,
   "metadata": {
    "scrolled": true
   },
   "outputs": [
    {
     "name": "stdout",
     "output_type": "stream",
     "text": [
      "<class 'pandas.core.frame.DataFrame'>\n",
      "RangeIndex: 23650 entries, 0 to 23649\n",
      "Data columns (total 23 columns):\n",
      "index                   23650 non-null int64\n",
      "total_images            23650 non-null int64\n",
      "last_price              23650 non-null float64\n",
      "total_area              23650 non-null float64\n",
      "first_day_exposition    23650 non-null object\n",
      "rooms                   23650 non-null int64\n",
      "ceiling_height          14490 non-null float64\n",
      "floors_total            23565 non-null float64\n",
      "living_area             21752 non-null float64\n",
      "floor                   23650 non-null int64\n",
      "is_apartment            2760 non-null object\n",
      "studio                  23650 non-null bool\n",
      "open_plan               23650 non-null bool\n",
      "kitchen_area            21381 non-null float64\n",
      "balcony                 12137 non-null float64\n",
      "locality_name           23650 non-null object\n",
      "airports_nearest        18116 non-null float64\n",
      "cityCenters_nearest     18139 non-null float64\n",
      "parks_around3000        18140 non-null float64\n",
      "parks_nearest           8064 non-null float64\n",
      "ponds_around3000        18140 non-null float64\n",
      "ponds_nearest           9085 non-null float64\n",
      "days_exposition         20470 non-null float64\n",
      "dtypes: bool(2), float64(14), int64(4), object(3)\n",
      "memory usage: 3.8+ MB\n"
     ]
    }
   ],
   "source": [
    "#удаляем строки с пропусками в столбце \"местонахождение\", это самый важный столбец\n",
    "df = df.dropna(subset = ['locality_name']).reset_index()  \n",
    "df.info()"
   ]
  },
  {
   "cell_type": "code",
   "execution_count": 5,
   "metadata": {},
   "outputs": [],
   "source": [
    "#там где кол-во балконов не указано скорее всего их и нет - можем заменить пропуски нулем(как подсказали в описании проекта)\n",
    "df['balcony'] = df['balcony'].fillna(0) "
   ]
  },
  {
   "cell_type": "code",
   "execution_count": 6,
   "metadata": {},
   "outputs": [
    {
     "data": {
      "text/plain": [
       "0"
      ]
     },
     "execution_count": 6,
     "metadata": {},
     "output_type": "execute_result"
    }
   ],
   "source": [
    "#приводим к нижнему регистру текстовый солбец и не находим дубликатов\n",
    "df['locality_name'].str.lower()\n",
    "df.duplicated().sum()"
   ]
  },
  {
   "cell_type": "code",
   "execution_count": 7,
   "metadata": {},
   "outputs": [
    {
     "name": "stdout",
     "output_type": "stream",
     "text": [
      "float64 float64\n"
     ]
    }
   ],
   "source": [
    "#проверяем тип данных\n",
    "print(df['balcony'].dtype,df['last_price'].dtype)"
   ]
  },
  {
   "cell_type": "code",
   "execution_count": 8,
   "metadata": {},
   "outputs": [
    {
     "name": "stdout",
     "output_type": "stream",
     "text": [
      "int64 int64\n"
     ]
    }
   ],
   "source": [
    "#переводим столбцы без пропусков в целочисленный  тип данных\n",
    "\n",
    "df['balcony'] =  df['balcony'].astype('int')\n",
    "\n",
    "df['last_price'] =  df['last_price'].astype('int')\n",
    "\n",
    "#проверяем тип данных\n",
    "print(df['balcony'].dtype,df['last_price'].dtype)"
   ]
  },
  {
   "cell_type": "markdown",
   "metadata": {},
   "source": [
    "Столбец floors_total не удастся перевести в целочисленный тип из-за пропусков (а заменить их нулями как для балконов мы не можем, ведь это количество этажей), оставим его в типе float64"
   ]
  },
  {
   "cell_type": "code",
   "execution_count": 9,
   "metadata": {},
   "outputs": [
    {
     "data": {
      "text/plain": [
       "index                       0\n",
       "total_images                0\n",
       "last_price                  0\n",
       "total_area                  0\n",
       "first_day_exposition        0\n",
       "rooms                       0\n",
       "ceiling_height           9160\n",
       "floors_total               85\n",
       "living_area              1898\n",
       "floor                       0\n",
       "is_apartment            20890\n",
       "studio                      0\n",
       "open_plan                   0\n",
       "kitchen_area             2269\n",
       "balcony                     0\n",
       "locality_name               0\n",
       "airports_nearest         5534\n",
       "cityCenters_nearest      5511\n",
       "parks_around3000         5510\n",
       "parks_nearest           15586\n",
       "ponds_around3000         5510\n",
       "ponds_nearest           14565\n",
       "days_exposition          3180\n",
       "dtype: int64"
      ]
     },
     "execution_count": 9,
     "metadata": {},
     "output_type": "execute_result"
    }
   ],
   "source": [
    "df.isna().sum()"
   ]
  },
  {
   "cell_type": "markdown",
   "metadata": {},
   "source": [
    "Данные столбцы с пропусками для которых нет замены, поэтому пропуски в них мы оставляем"
   ]
  },
  {
   "cell_type": "code",
   "execution_count": 10,
   "metadata": {},
   "outputs": [],
   "source": [
    "#переводим в тип int автомтически созданные столбцы\n",
    "\n",
    "\n",
    "\n",
    "df['airports_nearest'].fillna(-1)\n",
    "df['cityCenters_nearest'].fillna(-1)\n",
    "df['parks_around3000'].fillna(-1)\n",
    "df['parks_nearest'].fillna(-1)\n",
    "df['ponds_around3000'].fillna(-1)\n",
    "df['ponds_nearest'].fillna(-1)\n",
    "\n",
    "df['airports_nearest'] = df['airports_nearest'].astype('Int64')\n",
    "df['cityCenters_nearest'] = df['cityCenters_nearest'].astype('Int64')\n",
    "df['parks_around3000'] = df['parks_around3000'].astype('Int64')\n",
    "df['parks_nearest'] = df['parks_nearest'].astype('Int64')\n",
    "df['ponds_around3000'] = df['ponds_around3000'].astype('Int64')\n",
    "df['ponds_nearest'] = df['ponds_nearest'].astype('Int64')\n",
    "\n",
    "df.loc[df['airports_nearest'] < 0, 'airports_nearest'] = np.nan\n",
    "df.loc[df['cityCenters_nearest'] < 0, 'cityCenters_nearest'] = np.nan\n",
    "df.loc[df['parks_around3000'] < 0, 'parks_around3000'] = np.nan\n",
    "df.loc[df['parks_nearest'] < 0, 'parks_nearest'] = np.nan\n",
    "df.loc[df['ponds_around3000'] < 0, 'ponds_around3000'] = np.nan\n",
    "df.loc[df['ponds_nearest'] < 0, 'ponds_nearest'] = np.nan"
   ]
  },
  {
   "cell_type": "code",
   "execution_count": 11,
   "metadata": {},
   "outputs": [
    {
     "data": {
      "text/html": [
       "<div>\n",
       "<style scoped>\n",
       "    .dataframe tbody tr th:only-of-type {\n",
       "        vertical-align: middle;\n",
       "    }\n",
       "\n",
       "    .dataframe tbody tr th {\n",
       "        vertical-align: top;\n",
       "    }\n",
       "\n",
       "    .dataframe thead th {\n",
       "        text-align: right;\n",
       "    }\n",
       "</style>\n",
       "<table border=\"1\" class=\"dataframe\">\n",
       "  <thead>\n",
       "    <tr style=\"text-align: right;\">\n",
       "      <th></th>\n",
       "      <th>index</th>\n",
       "      <th>total_images</th>\n",
       "      <th>last_price</th>\n",
       "      <th>total_area</th>\n",
       "      <th>first_day_exposition</th>\n",
       "      <th>rooms</th>\n",
       "      <th>ceiling_height</th>\n",
       "      <th>floors_total</th>\n",
       "      <th>living_area</th>\n",
       "      <th>floor</th>\n",
       "      <th>is_apartment</th>\n",
       "      <th>studio</th>\n",
       "      <th>open_plan</th>\n",
       "      <th>kitchen_area</th>\n",
       "      <th>balcony</th>\n",
       "      <th>locality_name</th>\n",
       "      <th>airports_nearest</th>\n",
       "      <th>cityCenters_nearest</th>\n",
       "      <th>parks_around3000</th>\n",
       "      <th>parks_nearest</th>\n",
       "      <th>ponds_around3000</th>\n",
       "      <th>ponds_nearest</th>\n",
       "      <th>days_exposition</th>\n",
       "    </tr>\n",
       "  </thead>\n",
       "  <tbody>\n",
       "    <tr>\n",
       "      <td>23645</td>\n",
       "      <td>23694</td>\n",
       "      <td>9</td>\n",
       "      <td>9700000</td>\n",
       "      <td>133.81</td>\n",
       "      <td>2017-03-21T00:00:00</td>\n",
       "      <td>3</td>\n",
       "      <td>3.7</td>\n",
       "      <td>5.0</td>\n",
       "      <td>73.3</td>\n",
       "      <td>3</td>\n",
       "      <td>NaN</td>\n",
       "      <td>False</td>\n",
       "      <td>False</td>\n",
       "      <td>13.83</td>\n",
       "      <td>0</td>\n",
       "      <td>Санкт-Петербург</td>\n",
       "      <td>24665</td>\n",
       "      <td>4232</td>\n",
       "      <td>1</td>\n",
       "      <td>796</td>\n",
       "      <td>3</td>\n",
       "      <td>381</td>\n",
       "      <td>NaN</td>\n",
       "    </tr>\n",
       "    <tr>\n",
       "      <td>23646</td>\n",
       "      <td>23695</td>\n",
       "      <td>14</td>\n",
       "      <td>3100000</td>\n",
       "      <td>59.00</td>\n",
       "      <td>2018-01-15T00:00:00</td>\n",
       "      <td>3</td>\n",
       "      <td>NaN</td>\n",
       "      <td>5.0</td>\n",
       "      <td>38.0</td>\n",
       "      <td>4</td>\n",
       "      <td>NaN</td>\n",
       "      <td>False</td>\n",
       "      <td>False</td>\n",
       "      <td>8.50</td>\n",
       "      <td>0</td>\n",
       "      <td>Тосно</td>\n",
       "      <td>NaN</td>\n",
       "      <td>NaN</td>\n",
       "      <td>NaN</td>\n",
       "      <td>NaN</td>\n",
       "      <td>NaN</td>\n",
       "      <td>NaN</td>\n",
       "      <td>45.0</td>\n",
       "    </tr>\n",
       "    <tr>\n",
       "      <td>23647</td>\n",
       "      <td>23696</td>\n",
       "      <td>18</td>\n",
       "      <td>2500000</td>\n",
       "      <td>56.70</td>\n",
       "      <td>2018-02-11T00:00:00</td>\n",
       "      <td>2</td>\n",
       "      <td>NaN</td>\n",
       "      <td>3.0</td>\n",
       "      <td>29.7</td>\n",
       "      <td>1</td>\n",
       "      <td>NaN</td>\n",
       "      <td>False</td>\n",
       "      <td>False</td>\n",
       "      <td>NaN</td>\n",
       "      <td>0</td>\n",
       "      <td>село Рождествено</td>\n",
       "      <td>NaN</td>\n",
       "      <td>NaN</td>\n",
       "      <td>NaN</td>\n",
       "      <td>NaN</td>\n",
       "      <td>NaN</td>\n",
       "      <td>NaN</td>\n",
       "      <td>NaN</td>\n",
       "    </tr>\n",
       "    <tr>\n",
       "      <td>23648</td>\n",
       "      <td>23697</td>\n",
       "      <td>13</td>\n",
       "      <td>11475000</td>\n",
       "      <td>76.75</td>\n",
       "      <td>2017-03-28T00:00:00</td>\n",
       "      <td>2</td>\n",
       "      <td>3.0</td>\n",
       "      <td>17.0</td>\n",
       "      <td>NaN</td>\n",
       "      <td>12</td>\n",
       "      <td>NaN</td>\n",
       "      <td>False</td>\n",
       "      <td>False</td>\n",
       "      <td>23.30</td>\n",
       "      <td>2</td>\n",
       "      <td>Санкт-Петербург</td>\n",
       "      <td>39140</td>\n",
       "      <td>10364</td>\n",
       "      <td>2</td>\n",
       "      <td>173</td>\n",
       "      <td>3</td>\n",
       "      <td>196</td>\n",
       "      <td>602.0</td>\n",
       "    </tr>\n",
       "    <tr>\n",
       "      <td>23649</td>\n",
       "      <td>23698</td>\n",
       "      <td>4</td>\n",
       "      <td>1350000</td>\n",
       "      <td>32.30</td>\n",
       "      <td>2017-07-21T00:00:00</td>\n",
       "      <td>1</td>\n",
       "      <td>2.5</td>\n",
       "      <td>5.0</td>\n",
       "      <td>12.3</td>\n",
       "      <td>1</td>\n",
       "      <td>NaN</td>\n",
       "      <td>False</td>\n",
       "      <td>False</td>\n",
       "      <td>9.00</td>\n",
       "      <td>0</td>\n",
       "      <td>поселок Новый Учхоз</td>\n",
       "      <td>NaN</td>\n",
       "      <td>NaN</td>\n",
       "      <td>NaN</td>\n",
       "      <td>NaN</td>\n",
       "      <td>NaN</td>\n",
       "      <td>NaN</td>\n",
       "      <td>NaN</td>\n",
       "    </tr>\n",
       "  </tbody>\n",
       "</table>\n",
       "</div>"
      ],
      "text/plain": [
       "       index  total_images  last_price  total_area first_day_exposition  \\\n",
       "23645  23694             9     9700000      133.81  2017-03-21T00:00:00   \n",
       "23646  23695            14     3100000       59.00  2018-01-15T00:00:00   \n",
       "23647  23696            18     2500000       56.70  2018-02-11T00:00:00   \n",
       "23648  23697            13    11475000       76.75  2017-03-28T00:00:00   \n",
       "23649  23698             4     1350000       32.30  2017-07-21T00:00:00   \n",
       "\n",
       "       rooms  ceiling_height  floors_total  living_area  floor is_apartment  \\\n",
       "23645      3             3.7           5.0         73.3      3          NaN   \n",
       "23646      3             NaN           5.0         38.0      4          NaN   \n",
       "23647      2             NaN           3.0         29.7      1          NaN   \n",
       "23648      2             3.0          17.0          NaN     12          NaN   \n",
       "23649      1             2.5           5.0         12.3      1          NaN   \n",
       "\n",
       "       studio  open_plan  kitchen_area  balcony        locality_name  \\\n",
       "23645   False      False         13.83        0      Санкт-Петербург   \n",
       "23646   False      False          8.50        0                Тосно   \n",
       "23647   False      False           NaN        0     село Рождествено   \n",
       "23648   False      False         23.30        2      Санкт-Петербург   \n",
       "23649   False      False          9.00        0  поселок Новый Учхоз   \n",
       "\n",
       "       airports_nearest  cityCenters_nearest  parks_around3000  parks_nearest  \\\n",
       "23645             24665                 4232                 1            796   \n",
       "23646               NaN                  NaN               NaN            NaN   \n",
       "23647               NaN                  NaN               NaN            NaN   \n",
       "23648             39140                10364                 2            173   \n",
       "23649               NaN                  NaN               NaN            NaN   \n",
       "\n",
       "       ponds_around3000  ponds_nearest  days_exposition  \n",
       "23645                 3            381              NaN  \n",
       "23646               NaN            NaN             45.0  \n",
       "23647               NaN            NaN              NaN  \n",
       "23648                 3            196            602.0  \n",
       "23649               NaN            NaN              NaN  "
      ]
     },
     "execution_count": 11,
     "metadata": {},
     "output_type": "execute_result"
    }
   ],
   "source": [
    "df.tail()"
   ]
  },
  {
   "cell_type": "markdown",
   "metadata": {},
   "source": [
    "## Расчёты и добавление результатов в таблицу"
   ]
  },
  {
   "cell_type": "code",
   "execution_count": 12,
   "metadata": {
    "scrolled": true
   },
   "outputs": [
    {
     "data": {
      "text/html": [
       "<div>\n",
       "<style scoped>\n",
       "    .dataframe tbody tr th:only-of-type {\n",
       "        vertical-align: middle;\n",
       "    }\n",
       "\n",
       "    .dataframe tbody tr th {\n",
       "        vertical-align: top;\n",
       "    }\n",
       "\n",
       "    .dataframe thead th {\n",
       "        text-align: right;\n",
       "    }\n",
       "</style>\n",
       "<table border=\"1\" class=\"dataframe\">\n",
       "  <thead>\n",
       "    <tr style=\"text-align: right;\">\n",
       "      <th></th>\n",
       "      <th>index</th>\n",
       "      <th>total_images</th>\n",
       "      <th>last_price</th>\n",
       "      <th>total_area</th>\n",
       "      <th>first_day_exposition</th>\n",
       "      <th>rooms</th>\n",
       "      <th>ceiling_height</th>\n",
       "      <th>floors_total</th>\n",
       "      <th>living_area</th>\n",
       "      <th>floor</th>\n",
       "      <th>is_apartment</th>\n",
       "      <th>studio</th>\n",
       "      <th>open_plan</th>\n",
       "      <th>kitchen_area</th>\n",
       "      <th>balcony</th>\n",
       "      <th>locality_name</th>\n",
       "      <th>airports_nearest</th>\n",
       "      <th>cityCenters_nearest</th>\n",
       "      <th>parks_around3000</th>\n",
       "      <th>parks_nearest</th>\n",
       "      <th>ponds_around3000</th>\n",
       "      <th>ponds_nearest</th>\n",
       "      <th>days_exposition</th>\n",
       "      <th>price_for_meter</th>\n",
       "    </tr>\n",
       "  </thead>\n",
       "  <tbody>\n",
       "    <tr>\n",
       "      <td>23645</td>\n",
       "      <td>23694</td>\n",
       "      <td>9</td>\n",
       "      <td>9700000</td>\n",
       "      <td>133.81</td>\n",
       "      <td>2017-03-21T00:00:00</td>\n",
       "      <td>3</td>\n",
       "      <td>3.7</td>\n",
       "      <td>5.0</td>\n",
       "      <td>73.3</td>\n",
       "      <td>3</td>\n",
       "      <td>NaN</td>\n",
       "      <td>False</td>\n",
       "      <td>False</td>\n",
       "      <td>13.83</td>\n",
       "      <td>0</td>\n",
       "      <td>Санкт-Петербург</td>\n",
       "      <td>24665</td>\n",
       "      <td>4232</td>\n",
       "      <td>1</td>\n",
       "      <td>796</td>\n",
       "      <td>3</td>\n",
       "      <td>381</td>\n",
       "      <td>NaN</td>\n",
       "      <td>72490.845228</td>\n",
       "    </tr>\n",
       "    <tr>\n",
       "      <td>23646</td>\n",
       "      <td>23695</td>\n",
       "      <td>14</td>\n",
       "      <td>3100000</td>\n",
       "      <td>59.00</td>\n",
       "      <td>2018-01-15T00:00:00</td>\n",
       "      <td>3</td>\n",
       "      <td>NaN</td>\n",
       "      <td>5.0</td>\n",
       "      <td>38.0</td>\n",
       "      <td>4</td>\n",
       "      <td>NaN</td>\n",
       "      <td>False</td>\n",
       "      <td>False</td>\n",
       "      <td>8.50</td>\n",
       "      <td>0</td>\n",
       "      <td>Тосно</td>\n",
       "      <td>NaN</td>\n",
       "      <td>NaN</td>\n",
       "      <td>NaN</td>\n",
       "      <td>NaN</td>\n",
       "      <td>NaN</td>\n",
       "      <td>NaN</td>\n",
       "      <td>45.0</td>\n",
       "      <td>52542.372881</td>\n",
       "    </tr>\n",
       "    <tr>\n",
       "      <td>23647</td>\n",
       "      <td>23696</td>\n",
       "      <td>18</td>\n",
       "      <td>2500000</td>\n",
       "      <td>56.70</td>\n",
       "      <td>2018-02-11T00:00:00</td>\n",
       "      <td>2</td>\n",
       "      <td>NaN</td>\n",
       "      <td>3.0</td>\n",
       "      <td>29.7</td>\n",
       "      <td>1</td>\n",
       "      <td>NaN</td>\n",
       "      <td>False</td>\n",
       "      <td>False</td>\n",
       "      <td>NaN</td>\n",
       "      <td>0</td>\n",
       "      <td>село Рождествено</td>\n",
       "      <td>NaN</td>\n",
       "      <td>NaN</td>\n",
       "      <td>NaN</td>\n",
       "      <td>NaN</td>\n",
       "      <td>NaN</td>\n",
       "      <td>NaN</td>\n",
       "      <td>NaN</td>\n",
       "      <td>44091.710758</td>\n",
       "    </tr>\n",
       "    <tr>\n",
       "      <td>23648</td>\n",
       "      <td>23697</td>\n",
       "      <td>13</td>\n",
       "      <td>11475000</td>\n",
       "      <td>76.75</td>\n",
       "      <td>2017-03-28T00:00:00</td>\n",
       "      <td>2</td>\n",
       "      <td>3.0</td>\n",
       "      <td>17.0</td>\n",
       "      <td>NaN</td>\n",
       "      <td>12</td>\n",
       "      <td>NaN</td>\n",
       "      <td>False</td>\n",
       "      <td>False</td>\n",
       "      <td>23.30</td>\n",
       "      <td>2</td>\n",
       "      <td>Санкт-Петербург</td>\n",
       "      <td>39140</td>\n",
       "      <td>10364</td>\n",
       "      <td>2</td>\n",
       "      <td>173</td>\n",
       "      <td>3</td>\n",
       "      <td>196</td>\n",
       "      <td>602.0</td>\n",
       "      <td>149511.400651</td>\n",
       "    </tr>\n",
       "    <tr>\n",
       "      <td>23649</td>\n",
       "      <td>23698</td>\n",
       "      <td>4</td>\n",
       "      <td>1350000</td>\n",
       "      <td>32.30</td>\n",
       "      <td>2017-07-21T00:00:00</td>\n",
       "      <td>1</td>\n",
       "      <td>2.5</td>\n",
       "      <td>5.0</td>\n",
       "      <td>12.3</td>\n",
       "      <td>1</td>\n",
       "      <td>NaN</td>\n",
       "      <td>False</td>\n",
       "      <td>False</td>\n",
       "      <td>9.00</td>\n",
       "      <td>0</td>\n",
       "      <td>поселок Новый Учхоз</td>\n",
       "      <td>NaN</td>\n",
       "      <td>NaN</td>\n",
       "      <td>NaN</td>\n",
       "      <td>NaN</td>\n",
       "      <td>NaN</td>\n",
       "      <td>NaN</td>\n",
       "      <td>NaN</td>\n",
       "      <td>41795.665635</td>\n",
       "    </tr>\n",
       "  </tbody>\n",
       "</table>\n",
       "</div>"
      ],
      "text/plain": [
       "       index  total_images  last_price  total_area first_day_exposition  \\\n",
       "23645  23694             9     9700000      133.81  2017-03-21T00:00:00   \n",
       "23646  23695            14     3100000       59.00  2018-01-15T00:00:00   \n",
       "23647  23696            18     2500000       56.70  2018-02-11T00:00:00   \n",
       "23648  23697            13    11475000       76.75  2017-03-28T00:00:00   \n",
       "23649  23698             4     1350000       32.30  2017-07-21T00:00:00   \n",
       "\n",
       "       rooms  ceiling_height  floors_total  living_area  floor is_apartment  \\\n",
       "23645      3             3.7           5.0         73.3      3          NaN   \n",
       "23646      3             NaN           5.0         38.0      4          NaN   \n",
       "23647      2             NaN           3.0         29.7      1          NaN   \n",
       "23648      2             3.0          17.0          NaN     12          NaN   \n",
       "23649      1             2.5           5.0         12.3      1          NaN   \n",
       "\n",
       "       studio  open_plan  kitchen_area  balcony        locality_name  \\\n",
       "23645   False      False         13.83        0      Санкт-Петербург   \n",
       "23646   False      False          8.50        0                Тосно   \n",
       "23647   False      False           NaN        0     село Рождествено   \n",
       "23648   False      False         23.30        2      Санкт-Петербург   \n",
       "23649   False      False          9.00        0  поселок Новый Учхоз   \n",
       "\n",
       "       airports_nearest  cityCenters_nearest  parks_around3000  parks_nearest  \\\n",
       "23645             24665                 4232                 1            796   \n",
       "23646               NaN                  NaN               NaN            NaN   \n",
       "23647               NaN                  NaN               NaN            NaN   \n",
       "23648             39140                10364                 2            173   \n",
       "23649               NaN                  NaN               NaN            NaN   \n",
       "\n",
       "       ponds_around3000  ponds_nearest  days_exposition  price_for_meter  \n",
       "23645                 3            381              NaN     72490.845228  \n",
       "23646               NaN            NaN             45.0     52542.372881  \n",
       "23647               NaN            NaN              NaN     44091.710758  \n",
       "23648                 3            196            602.0    149511.400651  \n",
       "23649               NaN            NaN              NaN     41795.665635  "
      ]
     },
     "execution_count": 12,
     "metadata": {},
     "output_type": "execute_result"
    }
   ],
   "source": [
    "#вычисляем и довавляем в таблицу цену квадратного метра\n",
    "\n",
    "df['price_for_meter'] = df['last_price'] /df['total_area']\n",
    "df.tail(5)"
   ]
  },
  {
   "cell_type": "code",
   "execution_count": 13,
   "metadata": {},
   "outputs": [
    {
     "data": {
      "text/html": [
       "<div>\n",
       "<style scoped>\n",
       "    .dataframe tbody tr th:only-of-type {\n",
       "        vertical-align: middle;\n",
       "    }\n",
       "\n",
       "    .dataframe tbody tr th {\n",
       "        vertical-align: top;\n",
       "    }\n",
       "\n",
       "    .dataframe thead th {\n",
       "        text-align: right;\n",
       "    }\n",
       "</style>\n",
       "<table border=\"1\" class=\"dataframe\">\n",
       "  <thead>\n",
       "    <tr style=\"text-align: right;\">\n",
       "      <th></th>\n",
       "      <th>index</th>\n",
       "      <th>total_images</th>\n",
       "      <th>last_price</th>\n",
       "      <th>total_area</th>\n",
       "      <th>first_day_exposition</th>\n",
       "      <th>rooms</th>\n",
       "      <th>ceiling_height</th>\n",
       "      <th>floors_total</th>\n",
       "      <th>living_area</th>\n",
       "      <th>floor</th>\n",
       "      <th>is_apartment</th>\n",
       "      <th>studio</th>\n",
       "      <th>open_plan</th>\n",
       "      <th>kitchen_area</th>\n",
       "      <th>balcony</th>\n",
       "      <th>locality_name</th>\n",
       "      <th>airports_nearest</th>\n",
       "      <th>cityCenters_nearest</th>\n",
       "      <th>parks_around3000</th>\n",
       "      <th>parks_nearest</th>\n",
       "      <th>ponds_around3000</th>\n",
       "      <th>ponds_nearest</th>\n",
       "      <th>days_exposition</th>\n",
       "      <th>price_for_meter</th>\n",
       "      <th>datetime_exposition</th>\n",
       "      <th>weekday</th>\n",
       "      <th>year</th>\n",
       "      <th>month</th>\n",
       "    </tr>\n",
       "  </thead>\n",
       "  <tbody>\n",
       "    <tr>\n",
       "      <td>23645</td>\n",
       "      <td>23694</td>\n",
       "      <td>9</td>\n",
       "      <td>9700000</td>\n",
       "      <td>133.81</td>\n",
       "      <td>2017-03-21T00:00:00</td>\n",
       "      <td>3</td>\n",
       "      <td>3.7</td>\n",
       "      <td>5.0</td>\n",
       "      <td>73.3</td>\n",
       "      <td>3</td>\n",
       "      <td>NaN</td>\n",
       "      <td>False</td>\n",
       "      <td>False</td>\n",
       "      <td>13.83</td>\n",
       "      <td>0</td>\n",
       "      <td>Санкт-Петербург</td>\n",
       "      <td>24665</td>\n",
       "      <td>4232</td>\n",
       "      <td>1</td>\n",
       "      <td>796</td>\n",
       "      <td>3</td>\n",
       "      <td>381</td>\n",
       "      <td>NaN</td>\n",
       "      <td>72490.845228</td>\n",
       "      <td>2017-03-21</td>\n",
       "      <td>1</td>\n",
       "      <td>2017</td>\n",
       "      <td>3</td>\n",
       "    </tr>\n",
       "    <tr>\n",
       "      <td>23646</td>\n",
       "      <td>23695</td>\n",
       "      <td>14</td>\n",
       "      <td>3100000</td>\n",
       "      <td>59.00</td>\n",
       "      <td>2018-01-15T00:00:00</td>\n",
       "      <td>3</td>\n",
       "      <td>NaN</td>\n",
       "      <td>5.0</td>\n",
       "      <td>38.0</td>\n",
       "      <td>4</td>\n",
       "      <td>NaN</td>\n",
       "      <td>False</td>\n",
       "      <td>False</td>\n",
       "      <td>8.50</td>\n",
       "      <td>0</td>\n",
       "      <td>Тосно</td>\n",
       "      <td>NaN</td>\n",
       "      <td>NaN</td>\n",
       "      <td>NaN</td>\n",
       "      <td>NaN</td>\n",
       "      <td>NaN</td>\n",
       "      <td>NaN</td>\n",
       "      <td>45.0</td>\n",
       "      <td>52542.372881</td>\n",
       "      <td>2018-01-15</td>\n",
       "      <td>0</td>\n",
       "      <td>2018</td>\n",
       "      <td>1</td>\n",
       "    </tr>\n",
       "    <tr>\n",
       "      <td>23647</td>\n",
       "      <td>23696</td>\n",
       "      <td>18</td>\n",
       "      <td>2500000</td>\n",
       "      <td>56.70</td>\n",
       "      <td>2018-02-11T00:00:00</td>\n",
       "      <td>2</td>\n",
       "      <td>NaN</td>\n",
       "      <td>3.0</td>\n",
       "      <td>29.7</td>\n",
       "      <td>1</td>\n",
       "      <td>NaN</td>\n",
       "      <td>False</td>\n",
       "      <td>False</td>\n",
       "      <td>NaN</td>\n",
       "      <td>0</td>\n",
       "      <td>село Рождествено</td>\n",
       "      <td>NaN</td>\n",
       "      <td>NaN</td>\n",
       "      <td>NaN</td>\n",
       "      <td>NaN</td>\n",
       "      <td>NaN</td>\n",
       "      <td>NaN</td>\n",
       "      <td>NaN</td>\n",
       "      <td>44091.710758</td>\n",
       "      <td>2018-02-11</td>\n",
       "      <td>6</td>\n",
       "      <td>2018</td>\n",
       "      <td>2</td>\n",
       "    </tr>\n",
       "    <tr>\n",
       "      <td>23648</td>\n",
       "      <td>23697</td>\n",
       "      <td>13</td>\n",
       "      <td>11475000</td>\n",
       "      <td>76.75</td>\n",
       "      <td>2017-03-28T00:00:00</td>\n",
       "      <td>2</td>\n",
       "      <td>3.0</td>\n",
       "      <td>17.0</td>\n",
       "      <td>NaN</td>\n",
       "      <td>12</td>\n",
       "      <td>NaN</td>\n",
       "      <td>False</td>\n",
       "      <td>False</td>\n",
       "      <td>23.30</td>\n",
       "      <td>2</td>\n",
       "      <td>Санкт-Петербург</td>\n",
       "      <td>39140</td>\n",
       "      <td>10364</td>\n",
       "      <td>2</td>\n",
       "      <td>173</td>\n",
       "      <td>3</td>\n",
       "      <td>196</td>\n",
       "      <td>602.0</td>\n",
       "      <td>149511.400651</td>\n",
       "      <td>2017-03-28</td>\n",
       "      <td>1</td>\n",
       "      <td>2017</td>\n",
       "      <td>3</td>\n",
       "    </tr>\n",
       "    <tr>\n",
       "      <td>23649</td>\n",
       "      <td>23698</td>\n",
       "      <td>4</td>\n",
       "      <td>1350000</td>\n",
       "      <td>32.30</td>\n",
       "      <td>2017-07-21T00:00:00</td>\n",
       "      <td>1</td>\n",
       "      <td>2.5</td>\n",
       "      <td>5.0</td>\n",
       "      <td>12.3</td>\n",
       "      <td>1</td>\n",
       "      <td>NaN</td>\n",
       "      <td>False</td>\n",
       "      <td>False</td>\n",
       "      <td>9.00</td>\n",
       "      <td>0</td>\n",
       "      <td>поселок Новый Учхоз</td>\n",
       "      <td>NaN</td>\n",
       "      <td>NaN</td>\n",
       "      <td>NaN</td>\n",
       "      <td>NaN</td>\n",
       "      <td>NaN</td>\n",
       "      <td>NaN</td>\n",
       "      <td>NaN</td>\n",
       "      <td>41795.665635</td>\n",
       "      <td>2017-07-21</td>\n",
       "      <td>4</td>\n",
       "      <td>2017</td>\n",
       "      <td>7</td>\n",
       "    </tr>\n",
       "  </tbody>\n",
       "</table>\n",
       "</div>"
      ],
      "text/plain": [
       "       index  total_images  last_price  total_area first_day_exposition  \\\n",
       "23645  23694             9     9700000      133.81  2017-03-21T00:00:00   \n",
       "23646  23695            14     3100000       59.00  2018-01-15T00:00:00   \n",
       "23647  23696            18     2500000       56.70  2018-02-11T00:00:00   \n",
       "23648  23697            13    11475000       76.75  2017-03-28T00:00:00   \n",
       "23649  23698             4     1350000       32.30  2017-07-21T00:00:00   \n",
       "\n",
       "       rooms  ceiling_height  floors_total  living_area  floor is_apartment  \\\n",
       "23645      3             3.7           5.0         73.3      3          NaN   \n",
       "23646      3             NaN           5.0         38.0      4          NaN   \n",
       "23647      2             NaN           3.0         29.7      1          NaN   \n",
       "23648      2             3.0          17.0          NaN     12          NaN   \n",
       "23649      1             2.5           5.0         12.3      1          NaN   \n",
       "\n",
       "       studio  open_plan  kitchen_area  balcony        locality_name  \\\n",
       "23645   False      False         13.83        0      Санкт-Петербург   \n",
       "23646   False      False          8.50        0                Тосно   \n",
       "23647   False      False           NaN        0     село Рождествено   \n",
       "23648   False      False         23.30        2      Санкт-Петербург   \n",
       "23649   False      False          9.00        0  поселок Новый Учхоз   \n",
       "\n",
       "       airports_nearest  cityCenters_nearest  parks_around3000  parks_nearest  \\\n",
       "23645             24665                 4232                 1            796   \n",
       "23646               NaN                  NaN               NaN            NaN   \n",
       "23647               NaN                  NaN               NaN            NaN   \n",
       "23648             39140                10364                 2            173   \n",
       "23649               NaN                  NaN               NaN            NaN   \n",
       "\n",
       "       ponds_around3000  ponds_nearest  days_exposition  price_for_meter  \\\n",
       "23645                 3            381              NaN     72490.845228   \n",
       "23646               NaN            NaN             45.0     52542.372881   \n",
       "23647               NaN            NaN              NaN     44091.710758   \n",
       "23648                 3            196            602.0    149511.400651   \n",
       "23649               NaN            NaN              NaN     41795.665635   \n",
       "\n",
       "      datetime_exposition  weekday  year  month  \n",
       "23645          2017-03-21        1  2017      3  \n",
       "23646          2018-01-15        0  2018      1  \n",
       "23647          2018-02-11        6  2018      2  \n",
       "23648          2017-03-28        1  2017      3  \n",
       "23649          2017-07-21        4  2017      7  "
      ]
     },
     "execution_count": 13,
     "metadata": {},
     "output_type": "execute_result"
    }
   ],
   "source": [
    "#создаем столбцы с датой и отдельно днем недели, месяцем и годом\n",
    "\n",
    "df['datetime_exposition'] = pd.to_datetime(df['first_day_exposition'],format='%Y-%m-%dT%H:%M:%S')\n",
    "df['weekday'] =df['datetime_exposition'].dt.weekday\n",
    "df['year'] = df['datetime_exposition'].dt.year\n",
    "df['month'] = df['datetime_exposition'].dt.month\n",
    "\n",
    "df.tail(5)"
   ]
  },
  {
   "cell_type": "code",
   "execution_count": 14,
   "metadata": {},
   "outputs": [
    {
     "data": {
      "text/html": [
       "<div>\n",
       "<style scoped>\n",
       "    .dataframe tbody tr th:only-of-type {\n",
       "        vertical-align: middle;\n",
       "    }\n",
       "\n",
       "    .dataframe tbody tr th {\n",
       "        vertical-align: top;\n",
       "    }\n",
       "\n",
       "    .dataframe thead th {\n",
       "        text-align: right;\n",
       "    }\n",
       "</style>\n",
       "<table border=\"1\" class=\"dataframe\">\n",
       "  <thead>\n",
       "    <tr style=\"text-align: right;\">\n",
       "      <th></th>\n",
       "      <th>index</th>\n",
       "      <th>total_images</th>\n",
       "      <th>last_price</th>\n",
       "      <th>total_area</th>\n",
       "      <th>first_day_exposition</th>\n",
       "      <th>rooms</th>\n",
       "      <th>ceiling_height</th>\n",
       "      <th>floors_total</th>\n",
       "      <th>living_area</th>\n",
       "      <th>floor</th>\n",
       "      <th>is_apartment</th>\n",
       "      <th>studio</th>\n",
       "      <th>open_plan</th>\n",
       "      <th>kitchen_area</th>\n",
       "      <th>balcony</th>\n",
       "      <th>locality_name</th>\n",
       "      <th>airports_nearest</th>\n",
       "      <th>cityCenters_nearest</th>\n",
       "      <th>parks_around3000</th>\n",
       "      <th>parks_nearest</th>\n",
       "      <th>ponds_around3000</th>\n",
       "      <th>ponds_nearest</th>\n",
       "      <th>days_exposition</th>\n",
       "      <th>price_for_meter</th>\n",
       "      <th>datetime_exposition</th>\n",
       "      <th>weekday</th>\n",
       "      <th>year</th>\n",
       "      <th>month</th>\n",
       "      <th>floor_group</th>\n",
       "    </tr>\n",
       "  </thead>\n",
       "  <tbody>\n",
       "    <tr>\n",
       "      <td>23645</td>\n",
       "      <td>23694</td>\n",
       "      <td>9</td>\n",
       "      <td>9700000</td>\n",
       "      <td>133.81</td>\n",
       "      <td>2017-03-21T00:00:00</td>\n",
       "      <td>3</td>\n",
       "      <td>3.7</td>\n",
       "      <td>5.0</td>\n",
       "      <td>73.3</td>\n",
       "      <td>3</td>\n",
       "      <td>NaN</td>\n",
       "      <td>False</td>\n",
       "      <td>False</td>\n",
       "      <td>13.83</td>\n",
       "      <td>0</td>\n",
       "      <td>Санкт-Петербург</td>\n",
       "      <td>24665</td>\n",
       "      <td>4232</td>\n",
       "      <td>1</td>\n",
       "      <td>796</td>\n",
       "      <td>3</td>\n",
       "      <td>381</td>\n",
       "      <td>NaN</td>\n",
       "      <td>72490.845228</td>\n",
       "      <td>2017-03-21</td>\n",
       "      <td>1</td>\n",
       "      <td>2017</td>\n",
       "      <td>3</td>\n",
       "      <td>1.0</td>\n",
       "    </tr>\n",
       "    <tr>\n",
       "      <td>23646</td>\n",
       "      <td>23695</td>\n",
       "      <td>14</td>\n",
       "      <td>3100000</td>\n",
       "      <td>59.00</td>\n",
       "      <td>2018-01-15T00:00:00</td>\n",
       "      <td>3</td>\n",
       "      <td>NaN</td>\n",
       "      <td>5.0</td>\n",
       "      <td>38.0</td>\n",
       "      <td>4</td>\n",
       "      <td>NaN</td>\n",
       "      <td>False</td>\n",
       "      <td>False</td>\n",
       "      <td>8.50</td>\n",
       "      <td>0</td>\n",
       "      <td>Тосно</td>\n",
       "      <td>NaN</td>\n",
       "      <td>NaN</td>\n",
       "      <td>NaN</td>\n",
       "      <td>NaN</td>\n",
       "      <td>NaN</td>\n",
       "      <td>NaN</td>\n",
       "      <td>45.0</td>\n",
       "      <td>52542.372881</td>\n",
       "      <td>2018-01-15</td>\n",
       "      <td>0</td>\n",
       "      <td>2018</td>\n",
       "      <td>1</td>\n",
       "      <td>1.0</td>\n",
       "    </tr>\n",
       "    <tr>\n",
       "      <td>23647</td>\n",
       "      <td>23696</td>\n",
       "      <td>18</td>\n",
       "      <td>2500000</td>\n",
       "      <td>56.70</td>\n",
       "      <td>2018-02-11T00:00:00</td>\n",
       "      <td>2</td>\n",
       "      <td>NaN</td>\n",
       "      <td>3.0</td>\n",
       "      <td>29.7</td>\n",
       "      <td>1</td>\n",
       "      <td>NaN</td>\n",
       "      <td>False</td>\n",
       "      <td>False</td>\n",
       "      <td>NaN</td>\n",
       "      <td>0</td>\n",
       "      <td>село Рождествено</td>\n",
       "      <td>NaN</td>\n",
       "      <td>NaN</td>\n",
       "      <td>NaN</td>\n",
       "      <td>NaN</td>\n",
       "      <td>NaN</td>\n",
       "      <td>NaN</td>\n",
       "      <td>NaN</td>\n",
       "      <td>44091.710758</td>\n",
       "      <td>2018-02-11</td>\n",
       "      <td>6</td>\n",
       "      <td>2018</td>\n",
       "      <td>2</td>\n",
       "      <td>0.0</td>\n",
       "    </tr>\n",
       "    <tr>\n",
       "      <td>23648</td>\n",
       "      <td>23697</td>\n",
       "      <td>13</td>\n",
       "      <td>11475000</td>\n",
       "      <td>76.75</td>\n",
       "      <td>2017-03-28T00:00:00</td>\n",
       "      <td>2</td>\n",
       "      <td>3.0</td>\n",
       "      <td>17.0</td>\n",
       "      <td>NaN</td>\n",
       "      <td>12</td>\n",
       "      <td>NaN</td>\n",
       "      <td>False</td>\n",
       "      <td>False</td>\n",
       "      <td>23.30</td>\n",
       "      <td>2</td>\n",
       "      <td>Санкт-Петербург</td>\n",
       "      <td>39140</td>\n",
       "      <td>10364</td>\n",
       "      <td>2</td>\n",
       "      <td>173</td>\n",
       "      <td>3</td>\n",
       "      <td>196</td>\n",
       "      <td>602.0</td>\n",
       "      <td>149511.400651</td>\n",
       "      <td>2017-03-28</td>\n",
       "      <td>1</td>\n",
       "      <td>2017</td>\n",
       "      <td>3</td>\n",
       "      <td>1.0</td>\n",
       "    </tr>\n",
       "    <tr>\n",
       "      <td>23649</td>\n",
       "      <td>23698</td>\n",
       "      <td>4</td>\n",
       "      <td>1350000</td>\n",
       "      <td>32.30</td>\n",
       "      <td>2017-07-21T00:00:00</td>\n",
       "      <td>1</td>\n",
       "      <td>2.5</td>\n",
       "      <td>5.0</td>\n",
       "      <td>12.3</td>\n",
       "      <td>1</td>\n",
       "      <td>NaN</td>\n",
       "      <td>False</td>\n",
       "      <td>False</td>\n",
       "      <td>9.00</td>\n",
       "      <td>0</td>\n",
       "      <td>поселок Новый Учхоз</td>\n",
       "      <td>NaN</td>\n",
       "      <td>NaN</td>\n",
       "      <td>NaN</td>\n",
       "      <td>NaN</td>\n",
       "      <td>NaN</td>\n",
       "      <td>NaN</td>\n",
       "      <td>NaN</td>\n",
       "      <td>41795.665635</td>\n",
       "      <td>2017-07-21</td>\n",
       "      <td>4</td>\n",
       "      <td>2017</td>\n",
       "      <td>7</td>\n",
       "      <td>0.0</td>\n",
       "    </tr>\n",
       "  </tbody>\n",
       "</table>\n",
       "</div>"
      ],
      "text/plain": [
       "       index  total_images  last_price  total_area first_day_exposition  \\\n",
       "23645  23694             9     9700000      133.81  2017-03-21T00:00:00   \n",
       "23646  23695            14     3100000       59.00  2018-01-15T00:00:00   \n",
       "23647  23696            18     2500000       56.70  2018-02-11T00:00:00   \n",
       "23648  23697            13    11475000       76.75  2017-03-28T00:00:00   \n",
       "23649  23698             4     1350000       32.30  2017-07-21T00:00:00   \n",
       "\n",
       "       rooms  ceiling_height  floors_total  living_area  floor is_apartment  \\\n",
       "23645      3             3.7           5.0         73.3      3          NaN   \n",
       "23646      3             NaN           5.0         38.0      4          NaN   \n",
       "23647      2             NaN           3.0         29.7      1          NaN   \n",
       "23648      2             3.0          17.0          NaN     12          NaN   \n",
       "23649      1             2.5           5.0         12.3      1          NaN   \n",
       "\n",
       "       studio  open_plan  kitchen_area  balcony        locality_name  \\\n",
       "23645   False      False         13.83        0      Санкт-Петербург   \n",
       "23646   False      False          8.50        0                Тосно   \n",
       "23647   False      False           NaN        0     село Рождествено   \n",
       "23648   False      False         23.30        2      Санкт-Петербург   \n",
       "23649   False      False          9.00        0  поселок Новый Учхоз   \n",
       "\n",
       "       airports_nearest  cityCenters_nearest  parks_around3000  parks_nearest  \\\n",
       "23645             24665                 4232                 1            796   \n",
       "23646               NaN                  NaN               NaN            NaN   \n",
       "23647               NaN                  NaN               NaN            NaN   \n",
       "23648             39140                10364                 2            173   \n",
       "23649               NaN                  NaN               NaN            NaN   \n",
       "\n",
       "       ponds_around3000  ponds_nearest  days_exposition  price_for_meter  \\\n",
       "23645                 3            381              NaN     72490.845228   \n",
       "23646               NaN            NaN             45.0     52542.372881   \n",
       "23647               NaN            NaN              NaN     44091.710758   \n",
       "23648                 3            196            602.0    149511.400651   \n",
       "23649               NaN            NaN              NaN     41795.665635   \n",
       "\n",
       "      datetime_exposition  weekday  year  month  floor_group  \n",
       "23645          2017-03-21        1  2017      3          1.0  \n",
       "23646          2018-01-15        0  2018      1          1.0  \n",
       "23647          2018-02-11        6  2018      2          0.0  \n",
       "23648          2017-03-28        1  2017      3          1.0  \n",
       "23649          2017-07-21        4  2017      7          0.0  "
      ]
     },
     "execution_count": 14,
     "metadata": {},
     "output_type": "execute_result"
    }
   ],
   "source": [
    "#категоризация этажей первый =0, последний =2, другой =1\n",
    "\n",
    "def floor_group(row):\n",
    "    last_floor = row['floors_total']\n",
    "    floor = row['floor']\n",
    "    if floor == 1:\n",
    "        return '0'\n",
    "    if floor == last_floor:\n",
    "        return '2'\n",
    "    return '1'\n",
    "df['floor_group'] = df.apply(floor_group, axis=1)\n",
    "df['floor_group'] = pd.to_numeric(df['floor_group']).astype('float')\n",
    "df.tail(5)"
   ]
  },
  {
   "cell_type": "code",
   "execution_count": 15,
   "metadata": {},
   "outputs": [],
   "source": [
    "#соотношение жилой и общей площади, а также отношение площади кухни к общей\n",
    "\n",
    "df['living_area_for_total'] = df['living_area'] / df['total_area']\n",
    "df['kitchen_area_for_total'] = df['kitchen_area']/ df['total_area']"
   ]
  },
  {
   "cell_type": "code",
   "execution_count": 16,
   "metadata": {},
   "outputs": [
    {
     "data": {
      "text/html": [
       "<div>\n",
       "<style scoped>\n",
       "    .dataframe tbody tr th:only-of-type {\n",
       "        vertical-align: middle;\n",
       "    }\n",
       "\n",
       "    .dataframe tbody tr th {\n",
       "        vertical-align: top;\n",
       "    }\n",
       "\n",
       "    .dataframe thead th {\n",
       "        text-align: right;\n",
       "    }\n",
       "</style>\n",
       "<table border=\"1\" class=\"dataframe\">\n",
       "  <thead>\n",
       "    <tr style=\"text-align: right;\">\n",
       "      <th></th>\n",
       "      <th>index</th>\n",
       "      <th>total_images</th>\n",
       "      <th>last_price</th>\n",
       "      <th>total_area</th>\n",
       "      <th>first_day_exposition</th>\n",
       "      <th>rooms</th>\n",
       "      <th>ceiling_height</th>\n",
       "      <th>floors_total</th>\n",
       "      <th>living_area</th>\n",
       "      <th>floor</th>\n",
       "      <th>is_apartment</th>\n",
       "      <th>studio</th>\n",
       "      <th>open_plan</th>\n",
       "      <th>kitchen_area</th>\n",
       "      <th>balcony</th>\n",
       "      <th>locality_name</th>\n",
       "      <th>airports_nearest</th>\n",
       "      <th>cityCenters_nearest</th>\n",
       "      <th>parks_around3000</th>\n",
       "      <th>parks_nearest</th>\n",
       "      <th>ponds_around3000</th>\n",
       "      <th>ponds_nearest</th>\n",
       "      <th>days_exposition</th>\n",
       "      <th>price_for_meter</th>\n",
       "      <th>datetime_exposition</th>\n",
       "      <th>weekday</th>\n",
       "      <th>year</th>\n",
       "      <th>month</th>\n",
       "      <th>floor_group</th>\n",
       "      <th>living_area_for_total</th>\n",
       "      <th>kitchen_area_for_total</th>\n",
       "    </tr>\n",
       "  </thead>\n",
       "  <tbody>\n",
       "    <tr>\n",
       "      <td>23640</td>\n",
       "      <td>23689</td>\n",
       "      <td>13</td>\n",
       "      <td>3550000</td>\n",
       "      <td>35.30</td>\n",
       "      <td>2018-02-28T00:00:00</td>\n",
       "      <td>1</td>\n",
       "      <td>2.86</td>\n",
       "      <td>15.0</td>\n",
       "      <td>16.3</td>\n",
       "      <td>4</td>\n",
       "      <td>NaN</td>\n",
       "      <td>False</td>\n",
       "      <td>False</td>\n",
       "      <td>9.10</td>\n",
       "      <td>2</td>\n",
       "      <td>Санкт-Петербург</td>\n",
       "      <td>17284</td>\n",
       "      <td>16081</td>\n",
       "      <td>1</td>\n",
       "      <td>353</td>\n",
       "      <td>2</td>\n",
       "      <td>652</td>\n",
       "      <td>29.0</td>\n",
       "      <td>100566.572238</td>\n",
       "      <td>2018-02-28</td>\n",
       "      <td>2</td>\n",
       "      <td>2018</td>\n",
       "      <td>2</td>\n",
       "      <td>1.0</td>\n",
       "      <td>0.461756</td>\n",
       "      <td>0.257790</td>\n",
       "    </tr>\n",
       "    <tr>\n",
       "      <td>23641</td>\n",
       "      <td>23690</td>\n",
       "      <td>3</td>\n",
       "      <td>5500000</td>\n",
       "      <td>52.00</td>\n",
       "      <td>2018-07-19T00:00:00</td>\n",
       "      <td>2</td>\n",
       "      <td>NaN</td>\n",
       "      <td>5.0</td>\n",
       "      <td>31.0</td>\n",
       "      <td>2</td>\n",
       "      <td>NaN</td>\n",
       "      <td>False</td>\n",
       "      <td>False</td>\n",
       "      <td>6.00</td>\n",
       "      <td>0</td>\n",
       "      <td>Санкт-Петербург</td>\n",
       "      <td>20151</td>\n",
       "      <td>6263</td>\n",
       "      <td>1</td>\n",
       "      <td>300</td>\n",
       "      <td>0</td>\n",
       "      <td>NaN</td>\n",
       "      <td>15.0</td>\n",
       "      <td>105769.230769</td>\n",
       "      <td>2018-07-19</td>\n",
       "      <td>3</td>\n",
       "      <td>2018</td>\n",
       "      <td>7</td>\n",
       "      <td>1.0</td>\n",
       "      <td>0.596154</td>\n",
       "      <td>0.115385</td>\n",
       "    </tr>\n",
       "    <tr>\n",
       "      <td>23642</td>\n",
       "      <td>23691</td>\n",
       "      <td>11</td>\n",
       "      <td>9470000</td>\n",
       "      <td>72.90</td>\n",
       "      <td>2016-10-13T00:00:00</td>\n",
       "      <td>2</td>\n",
       "      <td>2.75</td>\n",
       "      <td>25.0</td>\n",
       "      <td>40.3</td>\n",
       "      <td>7</td>\n",
       "      <td>NaN</td>\n",
       "      <td>False</td>\n",
       "      <td>False</td>\n",
       "      <td>10.60</td>\n",
       "      <td>1</td>\n",
       "      <td>Санкт-Петербург</td>\n",
       "      <td>19424</td>\n",
       "      <td>4489</td>\n",
       "      <td>0</td>\n",
       "      <td>NaN</td>\n",
       "      <td>1</td>\n",
       "      <td>806</td>\n",
       "      <td>519.0</td>\n",
       "      <td>129903.978052</td>\n",
       "      <td>2016-10-13</td>\n",
       "      <td>3</td>\n",
       "      <td>2016</td>\n",
       "      <td>10</td>\n",
       "      <td>1.0</td>\n",
       "      <td>0.552812</td>\n",
       "      <td>0.145405</td>\n",
       "    </tr>\n",
       "    <tr>\n",
       "      <td>23643</td>\n",
       "      <td>23692</td>\n",
       "      <td>2</td>\n",
       "      <td>1350000</td>\n",
       "      <td>30.00</td>\n",
       "      <td>2017-07-07T00:00:00</td>\n",
       "      <td>1</td>\n",
       "      <td>NaN</td>\n",
       "      <td>5.0</td>\n",
       "      <td>17.5</td>\n",
       "      <td>4</td>\n",
       "      <td>NaN</td>\n",
       "      <td>False</td>\n",
       "      <td>False</td>\n",
       "      <td>6.00</td>\n",
       "      <td>0</td>\n",
       "      <td>Тихвин</td>\n",
       "      <td>NaN</td>\n",
       "      <td>NaN</td>\n",
       "      <td>NaN</td>\n",
       "      <td>NaN</td>\n",
       "      <td>NaN</td>\n",
       "      <td>NaN</td>\n",
       "      <td>413.0</td>\n",
       "      <td>45000.000000</td>\n",
       "      <td>2017-07-07</td>\n",
       "      <td>4</td>\n",
       "      <td>2017</td>\n",
       "      <td>7</td>\n",
       "      <td>1.0</td>\n",
       "      <td>0.583333</td>\n",
       "      <td>0.200000</td>\n",
       "    </tr>\n",
       "    <tr>\n",
       "      <td>23644</td>\n",
       "      <td>23693</td>\n",
       "      <td>9</td>\n",
       "      <td>4600000</td>\n",
       "      <td>62.40</td>\n",
       "      <td>2016-08-05T00:00:00</td>\n",
       "      <td>3</td>\n",
       "      <td>2.60</td>\n",
       "      <td>9.0</td>\n",
       "      <td>40.0</td>\n",
       "      <td>8</td>\n",
       "      <td>NaN</td>\n",
       "      <td>False</td>\n",
       "      <td>False</td>\n",
       "      <td>8.00</td>\n",
       "      <td>0</td>\n",
       "      <td>Петергоф</td>\n",
       "      <td>45602</td>\n",
       "      <td>34104</td>\n",
       "      <td>1</td>\n",
       "      <td>352</td>\n",
       "      <td>1</td>\n",
       "      <td>675</td>\n",
       "      <td>239.0</td>\n",
       "      <td>73717.948718</td>\n",
       "      <td>2016-08-05</td>\n",
       "      <td>4</td>\n",
       "      <td>2016</td>\n",
       "      <td>8</td>\n",
       "      <td>1.0</td>\n",
       "      <td>0.641026</td>\n",
       "      <td>0.128205</td>\n",
       "    </tr>\n",
       "    <tr>\n",
       "      <td>23645</td>\n",
       "      <td>23694</td>\n",
       "      <td>9</td>\n",
       "      <td>9700000</td>\n",
       "      <td>133.81</td>\n",
       "      <td>2017-03-21T00:00:00</td>\n",
       "      <td>3</td>\n",
       "      <td>3.70</td>\n",
       "      <td>5.0</td>\n",
       "      <td>73.3</td>\n",
       "      <td>3</td>\n",
       "      <td>NaN</td>\n",
       "      <td>False</td>\n",
       "      <td>False</td>\n",
       "      <td>13.83</td>\n",
       "      <td>0</td>\n",
       "      <td>Санкт-Петербург</td>\n",
       "      <td>24665</td>\n",
       "      <td>4232</td>\n",
       "      <td>1</td>\n",
       "      <td>796</td>\n",
       "      <td>3</td>\n",
       "      <td>381</td>\n",
       "      <td>NaN</td>\n",
       "      <td>72490.845228</td>\n",
       "      <td>2017-03-21</td>\n",
       "      <td>1</td>\n",
       "      <td>2017</td>\n",
       "      <td>3</td>\n",
       "      <td>1.0</td>\n",
       "      <td>0.547792</td>\n",
       "      <td>0.103356</td>\n",
       "    </tr>\n",
       "    <tr>\n",
       "      <td>23646</td>\n",
       "      <td>23695</td>\n",
       "      <td>14</td>\n",
       "      <td>3100000</td>\n",
       "      <td>59.00</td>\n",
       "      <td>2018-01-15T00:00:00</td>\n",
       "      <td>3</td>\n",
       "      <td>NaN</td>\n",
       "      <td>5.0</td>\n",
       "      <td>38.0</td>\n",
       "      <td>4</td>\n",
       "      <td>NaN</td>\n",
       "      <td>False</td>\n",
       "      <td>False</td>\n",
       "      <td>8.50</td>\n",
       "      <td>0</td>\n",
       "      <td>Тосно</td>\n",
       "      <td>NaN</td>\n",
       "      <td>NaN</td>\n",
       "      <td>NaN</td>\n",
       "      <td>NaN</td>\n",
       "      <td>NaN</td>\n",
       "      <td>NaN</td>\n",
       "      <td>45.0</td>\n",
       "      <td>52542.372881</td>\n",
       "      <td>2018-01-15</td>\n",
       "      <td>0</td>\n",
       "      <td>2018</td>\n",
       "      <td>1</td>\n",
       "      <td>1.0</td>\n",
       "      <td>0.644068</td>\n",
       "      <td>0.144068</td>\n",
       "    </tr>\n",
       "    <tr>\n",
       "      <td>23647</td>\n",
       "      <td>23696</td>\n",
       "      <td>18</td>\n",
       "      <td>2500000</td>\n",
       "      <td>56.70</td>\n",
       "      <td>2018-02-11T00:00:00</td>\n",
       "      <td>2</td>\n",
       "      <td>NaN</td>\n",
       "      <td>3.0</td>\n",
       "      <td>29.7</td>\n",
       "      <td>1</td>\n",
       "      <td>NaN</td>\n",
       "      <td>False</td>\n",
       "      <td>False</td>\n",
       "      <td>NaN</td>\n",
       "      <td>0</td>\n",
       "      <td>село Рождествено</td>\n",
       "      <td>NaN</td>\n",
       "      <td>NaN</td>\n",
       "      <td>NaN</td>\n",
       "      <td>NaN</td>\n",
       "      <td>NaN</td>\n",
       "      <td>NaN</td>\n",
       "      <td>NaN</td>\n",
       "      <td>44091.710758</td>\n",
       "      <td>2018-02-11</td>\n",
       "      <td>6</td>\n",
       "      <td>2018</td>\n",
       "      <td>2</td>\n",
       "      <td>0.0</td>\n",
       "      <td>0.523810</td>\n",
       "      <td>NaN</td>\n",
       "    </tr>\n",
       "    <tr>\n",
       "      <td>23648</td>\n",
       "      <td>23697</td>\n",
       "      <td>13</td>\n",
       "      <td>11475000</td>\n",
       "      <td>76.75</td>\n",
       "      <td>2017-03-28T00:00:00</td>\n",
       "      <td>2</td>\n",
       "      <td>3.00</td>\n",
       "      <td>17.0</td>\n",
       "      <td>NaN</td>\n",
       "      <td>12</td>\n",
       "      <td>NaN</td>\n",
       "      <td>False</td>\n",
       "      <td>False</td>\n",
       "      <td>23.30</td>\n",
       "      <td>2</td>\n",
       "      <td>Санкт-Петербург</td>\n",
       "      <td>39140</td>\n",
       "      <td>10364</td>\n",
       "      <td>2</td>\n",
       "      <td>173</td>\n",
       "      <td>3</td>\n",
       "      <td>196</td>\n",
       "      <td>602.0</td>\n",
       "      <td>149511.400651</td>\n",
       "      <td>2017-03-28</td>\n",
       "      <td>1</td>\n",
       "      <td>2017</td>\n",
       "      <td>3</td>\n",
       "      <td>1.0</td>\n",
       "      <td>NaN</td>\n",
       "      <td>0.303583</td>\n",
       "    </tr>\n",
       "    <tr>\n",
       "      <td>23649</td>\n",
       "      <td>23698</td>\n",
       "      <td>4</td>\n",
       "      <td>1350000</td>\n",
       "      <td>32.30</td>\n",
       "      <td>2017-07-21T00:00:00</td>\n",
       "      <td>1</td>\n",
       "      <td>2.50</td>\n",
       "      <td>5.0</td>\n",
       "      <td>12.3</td>\n",
       "      <td>1</td>\n",
       "      <td>NaN</td>\n",
       "      <td>False</td>\n",
       "      <td>False</td>\n",
       "      <td>9.00</td>\n",
       "      <td>0</td>\n",
       "      <td>поселок Новый Учхоз</td>\n",
       "      <td>NaN</td>\n",
       "      <td>NaN</td>\n",
       "      <td>NaN</td>\n",
       "      <td>NaN</td>\n",
       "      <td>NaN</td>\n",
       "      <td>NaN</td>\n",
       "      <td>NaN</td>\n",
       "      <td>41795.665635</td>\n",
       "      <td>2017-07-21</td>\n",
       "      <td>4</td>\n",
       "      <td>2017</td>\n",
       "      <td>7</td>\n",
       "      <td>0.0</td>\n",
       "      <td>0.380805</td>\n",
       "      <td>0.278638</td>\n",
       "    </tr>\n",
       "  </tbody>\n",
       "</table>\n",
       "</div>"
      ],
      "text/plain": [
       "       index  total_images  last_price  total_area first_day_exposition  \\\n",
       "23640  23689            13     3550000       35.30  2018-02-28T00:00:00   \n",
       "23641  23690             3     5500000       52.00  2018-07-19T00:00:00   \n",
       "23642  23691            11     9470000       72.90  2016-10-13T00:00:00   \n",
       "23643  23692             2     1350000       30.00  2017-07-07T00:00:00   \n",
       "23644  23693             9     4600000       62.40  2016-08-05T00:00:00   \n",
       "23645  23694             9     9700000      133.81  2017-03-21T00:00:00   \n",
       "23646  23695            14     3100000       59.00  2018-01-15T00:00:00   \n",
       "23647  23696            18     2500000       56.70  2018-02-11T00:00:00   \n",
       "23648  23697            13    11475000       76.75  2017-03-28T00:00:00   \n",
       "23649  23698             4     1350000       32.30  2017-07-21T00:00:00   \n",
       "\n",
       "       rooms  ceiling_height  floors_total  living_area  floor is_apartment  \\\n",
       "23640      1            2.86          15.0         16.3      4          NaN   \n",
       "23641      2             NaN           5.0         31.0      2          NaN   \n",
       "23642      2            2.75          25.0         40.3      7          NaN   \n",
       "23643      1             NaN           5.0         17.5      4          NaN   \n",
       "23644      3            2.60           9.0         40.0      8          NaN   \n",
       "23645      3            3.70           5.0         73.3      3          NaN   \n",
       "23646      3             NaN           5.0         38.0      4          NaN   \n",
       "23647      2             NaN           3.0         29.7      1          NaN   \n",
       "23648      2            3.00          17.0          NaN     12          NaN   \n",
       "23649      1            2.50           5.0         12.3      1          NaN   \n",
       "\n",
       "       studio  open_plan  kitchen_area  balcony        locality_name  \\\n",
       "23640   False      False          9.10        2      Санкт-Петербург   \n",
       "23641   False      False          6.00        0      Санкт-Петербург   \n",
       "23642   False      False         10.60        1      Санкт-Петербург   \n",
       "23643   False      False          6.00        0               Тихвин   \n",
       "23644   False      False          8.00        0             Петергоф   \n",
       "23645   False      False         13.83        0      Санкт-Петербург   \n",
       "23646   False      False          8.50        0                Тосно   \n",
       "23647   False      False           NaN        0     село Рождествено   \n",
       "23648   False      False         23.30        2      Санкт-Петербург   \n",
       "23649   False      False          9.00        0  поселок Новый Учхоз   \n",
       "\n",
       "       airports_nearest  cityCenters_nearest  parks_around3000  parks_nearest  \\\n",
       "23640             17284                16081                 1            353   \n",
       "23641             20151                 6263                 1            300   \n",
       "23642             19424                 4489                 0            NaN   \n",
       "23643               NaN                  NaN               NaN            NaN   \n",
       "23644             45602                34104                 1            352   \n",
       "23645             24665                 4232                 1            796   \n",
       "23646               NaN                  NaN               NaN            NaN   \n",
       "23647               NaN                  NaN               NaN            NaN   \n",
       "23648             39140                10364                 2            173   \n",
       "23649               NaN                  NaN               NaN            NaN   \n",
       "\n",
       "       ponds_around3000  ponds_nearest  days_exposition  price_for_meter  \\\n",
       "23640                 2            652             29.0    100566.572238   \n",
       "23641                 0            NaN             15.0    105769.230769   \n",
       "23642                 1            806            519.0    129903.978052   \n",
       "23643               NaN            NaN            413.0     45000.000000   \n",
       "23644                 1            675            239.0     73717.948718   \n",
       "23645                 3            381              NaN     72490.845228   \n",
       "23646               NaN            NaN             45.0     52542.372881   \n",
       "23647               NaN            NaN              NaN     44091.710758   \n",
       "23648                 3            196            602.0    149511.400651   \n",
       "23649               NaN            NaN              NaN     41795.665635   \n",
       "\n",
       "      datetime_exposition  weekday  year  month  floor_group  \\\n",
       "23640          2018-02-28        2  2018      2          1.0   \n",
       "23641          2018-07-19        3  2018      7          1.0   \n",
       "23642          2016-10-13        3  2016     10          1.0   \n",
       "23643          2017-07-07        4  2017      7          1.0   \n",
       "23644          2016-08-05        4  2016      8          1.0   \n",
       "23645          2017-03-21        1  2017      3          1.0   \n",
       "23646          2018-01-15        0  2018      1          1.0   \n",
       "23647          2018-02-11        6  2018      2          0.0   \n",
       "23648          2017-03-28        1  2017      3          1.0   \n",
       "23649          2017-07-21        4  2017      7          0.0   \n",
       "\n",
       "       living_area_for_total  kitchen_area_for_total  \n",
       "23640               0.461756                0.257790  \n",
       "23641               0.596154                0.115385  \n",
       "23642               0.552812                0.145405  \n",
       "23643               0.583333                0.200000  \n",
       "23644               0.641026                0.128205  \n",
       "23645               0.547792                0.103356  \n",
       "23646               0.644068                0.144068  \n",
       "23647               0.523810                     NaN  \n",
       "23648                    NaN                0.303583  \n",
       "23649               0.380805                0.278638  "
      ]
     },
     "execution_count": 16,
     "metadata": {},
     "output_type": "execute_result"
    }
   ],
   "source": [
    "df.tail(10)"
   ]
  },
  {
   "cell_type": "code",
   "execution_count": 17,
   "metadata": {},
   "outputs": [
    {
     "data": {
      "text/html": [
       "<div>\n",
       "<style scoped>\n",
       "    .dataframe tbody tr th:only-of-type {\n",
       "        vertical-align: middle;\n",
       "    }\n",
       "\n",
       "    .dataframe tbody tr th {\n",
       "        vertical-align: top;\n",
       "    }\n",
       "\n",
       "    .dataframe thead th {\n",
       "        text-align: right;\n",
       "    }\n",
       "</style>\n",
       "<table border=\"1\" class=\"dataframe\">\n",
       "  <thead>\n",
       "    <tr style=\"text-align: right;\">\n",
       "      <th></th>\n",
       "      <th>index</th>\n",
       "      <th>total_images</th>\n",
       "      <th>last_price</th>\n",
       "      <th>total_area</th>\n",
       "      <th>first_day_exposition</th>\n",
       "      <th>rooms</th>\n",
       "      <th>ceiling_height</th>\n",
       "      <th>floors_total</th>\n",
       "      <th>living_area</th>\n",
       "      <th>floor</th>\n",
       "      <th>is_apartment</th>\n",
       "      <th>studio</th>\n",
       "      <th>open_plan</th>\n",
       "      <th>kitchen_area</th>\n",
       "      <th>balcony</th>\n",
       "      <th>locality_name</th>\n",
       "      <th>airports_nearest</th>\n",
       "      <th>cityCenters_nearest</th>\n",
       "      <th>parks_around3000</th>\n",
       "      <th>parks_nearest</th>\n",
       "      <th>ponds_around3000</th>\n",
       "      <th>ponds_nearest</th>\n",
       "      <th>days_exposition</th>\n",
       "      <th>price_for_meter</th>\n",
       "      <th>datetime_exposition</th>\n",
       "      <th>weekday</th>\n",
       "      <th>year</th>\n",
       "      <th>month</th>\n",
       "      <th>floor_group</th>\n",
       "      <th>living_area_for_total</th>\n",
       "      <th>kitchen_area_for_total</th>\n",
       "    </tr>\n",
       "  </thead>\n",
       "  <tbody>\n",
       "    <tr>\n",
       "      <td>0</td>\n",
       "      <td>0</td>\n",
       "      <td>20</td>\n",
       "      <td>13000000</td>\n",
       "      <td>108.0</td>\n",
       "      <td>2019-03-07T00:00:00</td>\n",
       "      <td>3</td>\n",
       "      <td>2.70</td>\n",
       "      <td>16.0</td>\n",
       "      <td>51.0</td>\n",
       "      <td>8</td>\n",
       "      <td>NaN</td>\n",
       "      <td>False</td>\n",
       "      <td>False</td>\n",
       "      <td>25.0</td>\n",
       "      <td>0</td>\n",
       "      <td>Санкт-Петербург</td>\n",
       "      <td>18863</td>\n",
       "      <td>16028</td>\n",
       "      <td>1</td>\n",
       "      <td>482</td>\n",
       "      <td>2</td>\n",
       "      <td>755</td>\n",
       "      <td>NaN</td>\n",
       "      <td>120370.370370</td>\n",
       "      <td>2019-03-07</td>\n",
       "      <td>3</td>\n",
       "      <td>2019</td>\n",
       "      <td>3</td>\n",
       "      <td>1.0</td>\n",
       "      <td>0.472222</td>\n",
       "      <td>0.231481</td>\n",
       "    </tr>\n",
       "    <tr>\n",
       "      <td>1</td>\n",
       "      <td>1</td>\n",
       "      <td>7</td>\n",
       "      <td>3350000</td>\n",
       "      <td>40.4</td>\n",
       "      <td>2018-12-04T00:00:00</td>\n",
       "      <td>1</td>\n",
       "      <td>NaN</td>\n",
       "      <td>11.0</td>\n",
       "      <td>18.6</td>\n",
       "      <td>1</td>\n",
       "      <td>NaN</td>\n",
       "      <td>False</td>\n",
       "      <td>False</td>\n",
       "      <td>11.0</td>\n",
       "      <td>2</td>\n",
       "      <td>посёлок Шушары</td>\n",
       "      <td>12817</td>\n",
       "      <td>18603</td>\n",
       "      <td>0</td>\n",
       "      <td>NaN</td>\n",
       "      <td>0</td>\n",
       "      <td>NaN</td>\n",
       "      <td>81.0</td>\n",
       "      <td>82920.792079</td>\n",
       "      <td>2018-12-04</td>\n",
       "      <td>1</td>\n",
       "      <td>2018</td>\n",
       "      <td>12</td>\n",
       "      <td>0.0</td>\n",
       "      <td>0.460396</td>\n",
       "      <td>0.272277</td>\n",
       "    </tr>\n",
       "    <tr>\n",
       "      <td>2</td>\n",
       "      <td>2</td>\n",
       "      <td>10</td>\n",
       "      <td>5196000</td>\n",
       "      <td>56.0</td>\n",
       "      <td>2015-08-20T00:00:00</td>\n",
       "      <td>2</td>\n",
       "      <td>NaN</td>\n",
       "      <td>5.0</td>\n",
       "      <td>34.3</td>\n",
       "      <td>4</td>\n",
       "      <td>NaN</td>\n",
       "      <td>False</td>\n",
       "      <td>False</td>\n",
       "      <td>8.3</td>\n",
       "      <td>0</td>\n",
       "      <td>Санкт-Петербург</td>\n",
       "      <td>21741</td>\n",
       "      <td>13933</td>\n",
       "      <td>1</td>\n",
       "      <td>90</td>\n",
       "      <td>2</td>\n",
       "      <td>574</td>\n",
       "      <td>558.0</td>\n",
       "      <td>92785.714286</td>\n",
       "      <td>2015-08-20</td>\n",
       "      <td>3</td>\n",
       "      <td>2015</td>\n",
       "      <td>8</td>\n",
       "      <td>1.0</td>\n",
       "      <td>0.612500</td>\n",
       "      <td>0.148214</td>\n",
       "    </tr>\n",
       "    <tr>\n",
       "      <td>3</td>\n",
       "      <td>3</td>\n",
       "      <td>0</td>\n",
       "      <td>64900000</td>\n",
       "      <td>159.0</td>\n",
       "      <td>2015-07-24T00:00:00</td>\n",
       "      <td>3</td>\n",
       "      <td>NaN</td>\n",
       "      <td>14.0</td>\n",
       "      <td>NaN</td>\n",
       "      <td>9</td>\n",
       "      <td>NaN</td>\n",
       "      <td>False</td>\n",
       "      <td>False</td>\n",
       "      <td>NaN</td>\n",
       "      <td>0</td>\n",
       "      <td>Санкт-Петербург</td>\n",
       "      <td>28098</td>\n",
       "      <td>6800</td>\n",
       "      <td>2</td>\n",
       "      <td>84</td>\n",
       "      <td>3</td>\n",
       "      <td>234</td>\n",
       "      <td>424.0</td>\n",
       "      <td>408176.100629</td>\n",
       "      <td>2015-07-24</td>\n",
       "      <td>4</td>\n",
       "      <td>2015</td>\n",
       "      <td>7</td>\n",
       "      <td>1.0</td>\n",
       "      <td>NaN</td>\n",
       "      <td>NaN</td>\n",
       "    </tr>\n",
       "    <tr>\n",
       "      <td>4</td>\n",
       "      <td>4</td>\n",
       "      <td>2</td>\n",
       "      <td>10000000</td>\n",
       "      <td>100.0</td>\n",
       "      <td>2018-06-19T00:00:00</td>\n",
       "      <td>2</td>\n",
       "      <td>3.03</td>\n",
       "      <td>14.0</td>\n",
       "      <td>32.0</td>\n",
       "      <td>13</td>\n",
       "      <td>NaN</td>\n",
       "      <td>False</td>\n",
       "      <td>False</td>\n",
       "      <td>41.0</td>\n",
       "      <td>0</td>\n",
       "      <td>Санкт-Петербург</td>\n",
       "      <td>31856</td>\n",
       "      <td>8098</td>\n",
       "      <td>2</td>\n",
       "      <td>112</td>\n",
       "      <td>1</td>\n",
       "      <td>48</td>\n",
       "      <td>121.0</td>\n",
       "      <td>100000.000000</td>\n",
       "      <td>2018-06-19</td>\n",
       "      <td>1</td>\n",
       "      <td>2018</td>\n",
       "      <td>6</td>\n",
       "      <td>1.0</td>\n",
       "      <td>0.320000</td>\n",
       "      <td>0.410000</td>\n",
       "    </tr>\n",
       "  </tbody>\n",
       "</table>\n",
       "</div>"
      ],
      "text/plain": [
       "   index  total_images  last_price  total_area first_day_exposition  rooms  \\\n",
       "0      0            20    13000000       108.0  2019-03-07T00:00:00      3   \n",
       "1      1             7     3350000        40.4  2018-12-04T00:00:00      1   \n",
       "2      2            10     5196000        56.0  2015-08-20T00:00:00      2   \n",
       "3      3             0    64900000       159.0  2015-07-24T00:00:00      3   \n",
       "4      4             2    10000000       100.0  2018-06-19T00:00:00      2   \n",
       "\n",
       "   ceiling_height  floors_total  living_area  floor is_apartment  studio  \\\n",
       "0            2.70          16.0         51.0      8          NaN   False   \n",
       "1             NaN          11.0         18.6      1          NaN   False   \n",
       "2             NaN           5.0         34.3      4          NaN   False   \n",
       "3             NaN          14.0          NaN      9          NaN   False   \n",
       "4            3.03          14.0         32.0     13          NaN   False   \n",
       "\n",
       "   open_plan  kitchen_area  balcony    locality_name  airports_nearest  \\\n",
       "0      False          25.0        0  Санкт-Петербург             18863   \n",
       "1      False          11.0        2   посёлок Шушары             12817   \n",
       "2      False           8.3        0  Санкт-Петербург             21741   \n",
       "3      False           NaN        0  Санкт-Петербург             28098   \n",
       "4      False          41.0        0  Санкт-Петербург             31856   \n",
       "\n",
       "   cityCenters_nearest  parks_around3000  parks_nearest  ponds_around3000  \\\n",
       "0                16028                 1            482                 2   \n",
       "1                18603                 0            NaN                 0   \n",
       "2                13933                 1             90                 2   \n",
       "3                 6800                 2             84                 3   \n",
       "4                 8098                 2            112                 1   \n",
       "\n",
       "   ponds_nearest  days_exposition  price_for_meter datetime_exposition  \\\n",
       "0            755              NaN    120370.370370          2019-03-07   \n",
       "1            NaN             81.0     82920.792079          2018-12-04   \n",
       "2            574            558.0     92785.714286          2015-08-20   \n",
       "3            234            424.0    408176.100629          2015-07-24   \n",
       "4             48            121.0    100000.000000          2018-06-19   \n",
       "\n",
       "   weekday  year  month  floor_group  living_area_for_total  \\\n",
       "0        3  2019      3          1.0               0.472222   \n",
       "1        1  2018     12          0.0               0.460396   \n",
       "2        3  2015      8          1.0               0.612500   \n",
       "3        4  2015      7          1.0                    NaN   \n",
       "4        1  2018      6          1.0               0.320000   \n",
       "\n",
       "   kitchen_area_for_total  \n",
       "0                0.231481  \n",
       "1                0.272277  \n",
       "2                0.148214  \n",
       "3                     NaN  \n",
       "4                0.410000  "
      ]
     },
     "execution_count": 17,
     "metadata": {},
     "output_type": "execute_result"
    }
   ],
   "source": [
    "df.head()\n"
   ]
  },
  {
   "cell_type": "markdown",
   "metadata": {},
   "source": [
    "## Исследовательский анализ данных"
   ]
  },
  {
   "cell_type": "code",
   "execution_count": 18,
   "metadata": {},
   "outputs": [
    {
     "name": "stdout",
     "output_type": "stream",
     "text": [
      "максимальная площадь: 900\n",
      "максимальная цена: 763000000\n",
      "максимальное число комнат: 19\n",
      "максимальная выстота потолков: 100\n",
      "\n",
      "медианная площадь: 52\n",
      "медианная цена: 4650000\n",
      "медианное число комнат: 2\n",
      "медианная выстота потолков: 2.65\n",
      "\n",
      "средняя площадь: 60.33\n",
      "средняя цена: 6541126.9\n",
      "средняя число комнат: 2.07\n",
      "средняя выстота потолков: 2.77\n"
     ]
    }
   ],
   "source": [
    "#строим гистограммы для параметров: площадь(total_area), цена(last_price), число комнат(rooms), высота потолков(ceiling_height)\n",
    "print('максимальная площадь:', df['total_area'].max().astype('int'))\n",
    "print('максимальная цена:',df['last_price'].max())\n",
    "print('максимальное число комнат:',df['rooms'].max())\n",
    "print('максимальная выстота потолков:',df['ceiling_height'].max().astype('int'))\n",
    "print('')\n",
    "print('медианная площадь:', df['total_area'].median().astype('int'))\n",
    "print('медианная цена:', df['last_price'].median().astype('int'))\n",
    "print('медианное число комнат:', df['rooms'].median().astype('int'))\n",
    "print('медианная выстота потолков:', df['ceiling_height'].median())\n",
    "print('')\n",
    "print('средняя площадь:', df['total_area'].mean().round(2))\n",
    "print('средняя цена:', df['last_price'].mean().round(2))\n",
    "print('средняя число комнат:', df['rooms'].mean().round(2))\n",
    "print('средняя выстота потолков:', df['ceiling_height'].mean().round(2))"
   ]
  },
  {
   "cell_type": "code",
   "execution_count": 19,
   "metadata": {
    "scrolled": true
   },
   "outputs": [
    {
     "data": {
      "text/plain": [
       "<matplotlib.axes._subplots.AxesSubplot at 0x7fa9d4a518d0>"
      ]
     },
     "execution_count": 19,
     "metadata": {},
     "output_type": "execute_result"
    },
    {
     "data": {
      "image/png": "[encoded data removed]",
      "text/plain": [
       "<Figure size 432x288 with 1 Axes>"
      ]
     },
     "metadata": {
      "needs_background": "light"
     },
     "output_type": "display_data"
    }
   ],
   "source": [
    "#гистограмма площади\n",
    "df['total_area'].hist(bins=50, range=(0, 250))"
   ]
  },
  {
   "cell_type": "code",
   "execution_count": 20,
   "metadata": {},
   "outputs": [
    {
     "data": {
      "text/plain": [
       "<matplotlib.axes._subplots.AxesSubplot at 0x7fa9d4995190>"
      ]
     },
     "execution_count": 20,
     "metadata": {},
     "output_type": "execute_result"
    },
    {
     "data": {
      "image/png": "[encoded data removed]",
      "text/plain": [
       "<Figure size 432x288 with 1 Axes>"
      ]
     },
     "metadata": {
      "needs_background": "light"
     },
     "output_type": "display_data"
    }
   ],
   "source": [
    "#гистограмма цены\n",
    "df['last_price'].hist(bins=50, range=(0, 30000000))"
   ]
  },
  {
   "cell_type": "code",
   "execution_count": 21,
   "metadata": {},
   "outputs": [
    {
     "data": {
      "text/plain": [
       "<matplotlib.axes._subplots.AxesSubplot at 0x7fa9d4a84a50>"
      ]
     },
     "execution_count": 21,
     "metadata": {},
     "output_type": "execute_result"
    },
    {
     "data": {
      "image/png": "[encoded data removed]",
      "text/plain": [
       "<Figure size 432x288 with 1 Axes>"
      ]
     },
     "metadata": {
      "needs_background": "light"
     },
     "output_type": "display_data"
    }
   ],
   "source": [
    "#гистограмма числа комнат\n",
    "df['rooms'].hist(bins=7, range=(0, 6))"
   ]
  },
  {
   "cell_type": "code",
   "execution_count": 22,
   "metadata": {},
   "outputs": [
    {
     "data": {
      "text/plain": [
       "<matplotlib.axes._subplots.AxesSubplot at 0x7fa9d41664d0>"
      ]
     },
     "execution_count": 22,
     "metadata": {},
     "output_type": "execute_result"
    },
    {
     "data": {
      "image/png": "[encoded data removed]",
      "text/plain": [
       "<Figure size 432x288 with 1 Axes>"
      ]
     },
     "metadata": {
      "needs_background": "light"
     },
     "output_type": "display_data"
    }
   ],
   "source": [
    "#гистограмма высоты полоков\n",
    "df['ceiling_height'].hist(bins= 5, range=(2, 5))"
   ]
  },
  {
   "cell_type": "code",
   "execution_count": 23,
   "metadata": {},
   "outputs": [
    {
     "name": "stdout",
     "output_type": "stream",
     "text": [
      "медианное время продажи: 95 дней\n",
      "среднее время продажи: 180 дней\n"
     ]
    }
   ],
   "source": [
    "#гистограмма времени продажи квартиры\n",
    "df['days_exposition'] = pd.to_numeric(df['days_exposition']).astype('float') \n",
    "print('медианное время продажи:', df['days_exposition'].median().astype('int'),'дней')\n",
    "print('среднее время продажи:', df['days_exposition'].mean().astype('int'), 'дней')"
   ]
  },
  {
   "cell_type": "code",
   "execution_count": 24,
   "metadata": {},
   "outputs": [
    {
     "data": {
      "text/plain": [
       "<matplotlib.axes._subplots.AxesSubplot at 0x7fa9d4a23a10>"
      ]
     },
     "execution_count": 24,
     "metadata": {},
     "output_type": "execute_result"
    },
    {
     "data": {
      "image/png": "[encoded data removed]",
      "text/plain": [
       "<Figure size 432x288 with 1 Axes>"
      ]
     },
     "metadata": {
      "needs_background": "light"
     },
     "output_type": "display_data"
    }
   ],
   "source": [
    "df['days_exposition'].hist(bins= 100, range=(0, 1000)) "
   ]
  },
  {
   "cell_type": "code",
   "execution_count": 25,
   "metadata": {},
   "outputs": [
    {
     "data": {
      "image/png": "[encoded data removed]",
      "text/plain": [
       "<Figure size 432x288 with 1 Axes>"
      ]
     },
     "metadata": {
      "needs_background": "light"
     },
     "output_type": "display_data"
    }
   ],
   "source": [
    "ax = df.boxplot(column='days_exposition')\n",
    "ax.set_ylim(0, 700)\n",
    "plt.show()\n",
    "#из графика видно, что обычно продажа занимает от 45 до 231 дней\n",
    "#если продажа прошла позже 500 дней, то это необычно долго\n",
    "#а если продажа прошла раньше полутора дней, то это очень быстро"
   ]
  },
  {
   "cell_type": "code",
   "execution_count": 26,
   "metadata": {},
   "outputs": [
    {
     "data": {
      "text/plain": [
       "count    20470.000000\n",
       "mean       180.753200\n",
       "std        219.777916\n",
       "min          1.000000\n",
       "25%         45.000000\n",
       "50%         95.000000\n",
       "75%        231.000000\n",
       "max       1580.000000\n",
       "Name: days_exposition, dtype: float64"
      ]
     },
     "execution_count": 26,
     "metadata": {},
     "output_type": "execute_result"
    }
   ],
   "source": [
    "df['days_exposition'].describe()"
   ]
  },
  {
   "cell_type": "markdown",
   "metadata": {},
   "source": [
    "из графиков видно, что обычно продажа занимает от 45 до 231 дня, \n",
    "если продажа прошла позже 500 дней, то это необычно долго, \n",
    "а если продажа прошла раньше полутора дней, то это очень быстро"
   ]
  },
  {
   "cell_type": "code",
   "execution_count": 27,
   "metadata": {},
   "outputs": [
    {
     "name": "stdout",
     "output_type": "stream",
     "text": [
      "<class 'pandas.core.frame.DataFrame'>\n",
      "Int64Index: 13711 entries, 0 to 23647\n",
      "Data columns (total 31 columns):\n",
      "index                     13711 non-null int64\n",
      "total_images              13711 non-null int64\n",
      "last_price                13711 non-null int64\n",
      "total_area                13711 non-null float64\n",
      "first_day_exposition      13711 non-null object\n",
      "rooms                     13711 non-null int64\n",
      "ceiling_height            8637 non-null float64\n",
      "floors_total              13667 non-null float64\n",
      "living_area               12629 non-null float64\n",
      "floor                     13711 non-null int64\n",
      "is_apartment              1603 non-null object\n",
      "studio                    13711 non-null bool\n",
      "open_plan                 13711 non-null bool\n",
      "kitchen_area              12607 non-null float64\n",
      "balcony                   13711 non-null int64\n",
      "locality_name             13711 non-null object\n",
      "airports_nearest          10601 non-null Int64\n",
      "cityCenters_nearest       10613 non-null Int64\n",
      "parks_around3000          10614 non-null Int64\n",
      "parks_nearest             4811 non-null Int64\n",
      "ponds_around3000          10614 non-null Int64\n",
      "ponds_nearest             5171 non-null Int64\n",
      "days_exposition           11573 non-null float64\n",
      "price_for_meter           13711 non-null float64\n",
      "datetime_exposition       13711 non-null datetime64[ns]\n",
      "weekday                   13711 non-null int64\n",
      "year                      13711 non-null int64\n",
      "month                     13711 non-null int64\n",
      "floor_group               13711 non-null float64\n",
      "living_area_for_total     12629 non-null float64\n",
      "kitchen_area_for_total    12607 non-null float64\n",
      "dtypes: Int64(6), bool(2), datetime64[ns](1), float64(10), int64(9), object(3)\n",
      "memory usage: 3.2+ MB\n"
     ]
    }
   ],
   "source": [
    "#уберем редкие и выбивающиеся значения \n",
    "df = df.query('(days_exposition < 600 or days_exposition.isna()) and 1<rooms<6 and 400000<last_price<20000000 and 20<total_area<150')\n",
    "df.info()"
   ]
  },
  {
   "cell_type": "code",
   "execution_count": 28,
   "metadata": {},
   "outputs": [
    {
     "data": {
      "text/plain": [
       "0.7359615332729642"
      ]
     },
     "execution_count": 28,
     "metadata": {},
     "output_type": "execute_result"
    },
    {
     "data": {
      "image/png": "[encoded data removed]",
      "text/plain": [
       "<Figure size 576x432 with 2 Axes>"
      ]
     },
     "metadata": {
      "needs_background": "light"
     },
     "output_type": "display_data"
    }
   ],
   "source": [
    "df.plot(x='last_price', y='total_area', kind='hexbin', gridsize=20, figsize=(8, 6), sharex=False, grid=True) \n",
    "df['last_price'].corr(df['total_area'])\n",
    "\n",
    "#зависимость цены от площади есть и значительная"
   ]
  },
  {
   "cell_type": "code",
   "execution_count": 29,
   "metadata": {},
   "outputs": [
    {
     "data": {
      "text/plain": [
       "0.31614419756060264"
      ]
     },
     "execution_count": 29,
     "metadata": {},
     "output_type": "execute_result"
    },
    {
     "data": {
      "image/png": "[encoded data removed]",
      "text/plain": [
       "<Figure size 576x432 with 2 Axes>"
      ]
     },
     "metadata": {
      "needs_background": "light"
     },
     "output_type": "display_data"
    },
    {
     "data": {
      "image/png": "[encoded data removed]",
      "text/plain": [
       "<Figure size 432x288 with 1 Axes>"
      ]
     },
     "metadata": {
      "needs_background": "light"
     },
     "output_type": "display_data"
    }
   ],
   "source": [
    "df.plot(x='last_price', y='rooms', kind='hexbin', gridsize=20, figsize=(8, 6), sharex=False, grid=True) \n",
    "df.plot(x='last_price', y='rooms', kind='scatter', alpha=0.3)\n",
    "df['last_price'].corr(df['rooms'])\n",
    "\n",
    "#зависимость цены от кол-ва комнат очень слабая, но прослеживается"
   ]
  },
  {
   "cell_type": "code",
   "execution_count": 30,
   "metadata": {},
   "outputs": [
    {
     "data": {
      "text/html": [
       "<div>\n",
       "<style scoped>\n",
       "    .dataframe tbody tr th:only-of-type {\n",
       "        vertical-align: middle;\n",
       "    }\n",
       "\n",
       "    .dataframe tbody tr th {\n",
       "        vertical-align: top;\n",
       "    }\n",
       "\n",
       "    .dataframe thead th {\n",
       "        text-align: right;\n",
       "    }\n",
       "</style>\n",
       "<table border=\"1\" class=\"dataframe\">\n",
       "  <thead>\n",
       "    <tr style=\"text-align: right;\">\n",
       "      <th></th>\n",
       "      <th>last_price</th>\n",
       "      <th>cityCenters_nearest</th>\n",
       "    </tr>\n",
       "  </thead>\n",
       "  <tbody>\n",
       "    <tr>\n",
       "      <td>last_price</td>\n",
       "      <td>1.000000</td>\n",
       "      <td>-0.352784</td>\n",
       "    </tr>\n",
       "    <tr>\n",
       "      <td>cityCenters_nearest</td>\n",
       "      <td>-0.352784</td>\n",
       "      <td>1.000000</td>\n",
       "    </tr>\n",
       "  </tbody>\n",
       "</table>\n",
       "</div>"
      ],
      "text/plain": [
       "                     last_price  cityCenters_nearest\n",
       "last_price             1.000000            -0.352784\n",
       "cityCenters_nearest   -0.352784             1.000000"
      ]
     },
     "execution_count": 30,
     "metadata": {},
     "output_type": "execute_result"
    },
    {
     "data": {
      "image/png": "[encoded data removed]",
      "text/plain": [
       "<Figure size 576x432 with 1 Axes>"
      ]
     },
     "metadata": {
      "needs_background": "light"
     },
     "output_type": "display_data"
    }
   ],
   "source": [
    "df.plot(x='last_price', y='cityCenters_nearest', kind='scatter',figsize=(8, 6), grid=True);\n",
    "df[['last_price','cityCenters_nearest']].corr()\n",
    "\n",
    "\n",
    "#зависимость цены от расстояния до центра есть, но слабая и обратная (чем больше число расстояния тем дешевле жилье)"
   ]
  },
  {
   "cell_type": "markdown",
   "metadata": {},
   "source": [
    "ничего не менял, но начало выдавать ошибку"
   ]
  },
  {
   "cell_type": "code",
   "execution_count": 31,
   "metadata": {},
   "outputs": [
    {
     "name": "stdout",
     "output_type": "stream",
     "text": [
      "<class 'pandas.core.frame.DataFrame'>\n",
      "Int64Index: 13711 entries, 0 to 23647\n",
      "Data columns (total 31 columns):\n",
      "index                     13711 non-null int64\n",
      "total_images              13711 non-null int64\n",
      "last_price                13711 non-null int64\n",
      "total_area                13711 non-null float64\n",
      "first_day_exposition      13711 non-null object\n",
      "rooms                     13711 non-null int64\n",
      "ceiling_height            8637 non-null float64\n",
      "floors_total              13667 non-null float64\n",
      "living_area               12629 non-null float64\n",
      "floor                     13711 non-null int64\n",
      "is_apartment              1603 non-null object\n",
      "studio                    13711 non-null bool\n",
      "open_plan                 13711 non-null bool\n",
      "kitchen_area              12607 non-null float64\n",
      "balcony                   13711 non-null int64\n",
      "locality_name             13711 non-null object\n",
      "airports_nearest          10601 non-null Int64\n",
      "cityCenters_nearest       10613 non-null Int64\n",
      "parks_around3000          10614 non-null Int64\n",
      "parks_nearest             4811 non-null Int64\n",
      "ponds_around3000          10614 non-null Int64\n",
      "ponds_nearest             5171 non-null Int64\n",
      "days_exposition           11573 non-null float64\n",
      "price_for_meter           13711 non-null float64\n",
      "datetime_exposition       13711 non-null datetime64[ns]\n",
      "weekday                   13711 non-null int64\n",
      "year                      13711 non-null int64\n",
      "month                     13711 non-null int64\n",
      "floor_group               13711 non-null float64\n",
      "living_area_for_total     12629 non-null float64\n",
      "kitchen_area_for_total    12607 non-null float64\n",
      "dtypes: Int64(6), bool(2), datetime64[ns](1), float64(10), int64(9), object(3)\n",
      "memory usage: 3.2+ MB\n"
     ]
    }
   ],
   "source": [
    "df.info()"
   ]
  },
  {
   "cell_type": "code",
   "execution_count": 32,
   "metadata": {},
   "outputs": [
    {
     "data": {
      "text/plain": [
       "<matplotlib.axes._subplots.AxesSubplot at 0x7fa9d3e31f10>"
      ]
     },
     "execution_count": 32,
     "metadata": {},
     "output_type": "execute_result"
    },
    {
     "data": {
      "image/png": "[encoded data removed]",
      "text/plain": [
       "<Figure size 432x288 with 1 Axes>"
      ]
     },
     "metadata": {
      "needs_background": "light"
     },
     "output_type": "display_data"
    }
   ],
   "source": [
    "price_floor_group_med = df.pivot_table(index = 'floor_group',values = 'last_price', aggfunc = 'median')\n",
    "price_floor_group_med.plot()\n",
    "#зависимости цены от этажа"
   ]
  },
  {
   "cell_type": "markdown",
   "metadata": {},
   "source": [
    "зависимости цены от этажа есть: на первых и последних этажах в среднем жилье дешевле чем на других (на послений долго добираться, а на первом шумно с улицы)"
   ]
  },
  {
   "cell_type": "code",
   "execution_count": 33,
   "metadata": {},
   "outputs": [
    {
     "data": {
      "text/plain": [
       "<matplotlib.axes._subplots.AxesSubplot at 0x7fa9d3dd79d0>"
      ]
     },
     "execution_count": 33,
     "metadata": {},
     "output_type": "execute_result"
    },
    {
     "data": {
      "image/png": "[encoded data removed]",
      "text/plain": [
       "<Figure size 432x288 with 1 Axes>"
      ]
     },
     "metadata": {
      "needs_background": "light"
     },
     "output_type": "display_data"
    }
   ],
   "source": [
    "price_weekday_med = df.pivot_table(index = 'weekday',values = 'last_price', aggfunc = 'median')\n",
    "price_weekday_med.plot()\n",
    "#зависимость цены от дня недели публикации "
   ]
  },
  {
   "cell_type": "markdown",
   "metadata": {},
   "source": [
    "как ни странно есть зависимость цены от дня недели публикации: ниже всего в среднем цены у публикаций сделанных в воскресенье, в понедельник, среду и пятницу цена примерно одинаковая, а вот во вторник и четверг цены в среднем выше, причем одинаково выше."
   ]
  },
  {
   "cell_type": "code",
   "execution_count": 34,
   "metadata": {},
   "outputs": [
    {
     "data": {
      "text/plain": [
       "<matplotlib.axes._subplots.AxesSubplot at 0x7fa9d3c45f10>"
      ]
     },
     "execution_count": 34,
     "metadata": {},
     "output_type": "execute_result"
    },
    {
     "data": {
      "image/png": "[encoded data removed]",
      "text/plain": [
       "<Figure size 432x288 with 1 Axes>"
      ]
     },
     "metadata": {
      "needs_background": "light"
     },
     "output_type": "display_data"
    }
   ],
   "source": [
    "price_month_med = df.pivot_table(index = 'month',values = 'last_price', aggfunc = 'median')\n",
    "price_month_med.plot()\n",
    "#зависимость цены от месяца публикации "
   ]
  },
  {
   "cell_type": "markdown",
   "metadata": {},
   "source": [
    "зависимость цены от дня месяца публикации есть, видно что в июне в среднем цены на 5% ниже чем в остальнное время. "
   ]
  },
  {
   "cell_type": "code",
   "execution_count": 35,
   "metadata": {},
   "outputs": [
    {
     "data": {
      "text/plain": [
       "<matplotlib.axes._subplots.AxesSubplot at 0x7fa9d3d30d10>"
      ]
     },
     "execution_count": 35,
     "metadata": {},
     "output_type": "execute_result"
    },
    {
     "data": {
      "image/png": "[encoded data removed]",
      "text/plain": [
       "<Figure size 432x288 with 1 Axes>"
      ]
     },
     "metadata": {
      "needs_background": "light"
     },
     "output_type": "display_data"
    }
   ],
   "source": [
    "price_year_med = df.pivot_table(index = 'year',values = 'last_price', aggfunc = 'median')\n",
    "price_year_med.plot()\n",
    "#зависимость цены от года публикации нет"
   ]
  },
  {
   "cell_type": "markdown",
   "metadata": {},
   "source": [
    "зависимость цены от года публикации  есть:с 2014 по 2016 год цены в среднем падали, а после 2016 до 2019 стали в среднем рости."
   ]
  },
  {
   "cell_type": "code",
   "execution_count": 36,
   "metadata": {
    "scrolled": false
   },
   "outputs": [
    {
     "name": "stdout",
     "output_type": "stream",
     "text": [
      "Санкт-Петербург      9232\n",
      "посёлок Шушары        247\n",
      "Всеволожск            234\n",
      "Колпино               226\n",
      "Пушкин                206\n",
      "Гатчина               197\n",
      "посёлок Мурино        160\n",
      "Выборг                159\n",
      "посёлок Парголово     133\n",
      "Петергоф              120\n",
      "Name: locality_name, dtype: int64\n"
     ]
    }
   ],
   "source": [
    "#Выбераем 10 населённых пунктов с наибольшим числом объявлений\n",
    "locality_top10 = df['locality_name'].value_counts().head(10)\n",
    "print(locality_top10)"
   ]
  },
  {
   "cell_type": "code",
   "execution_count": 37,
   "metadata": {},
   "outputs": [
    {
     "data": {
      "text/html": [
       "<div>\n",
       "<style scoped>\n",
       "    .dataframe tbody tr th:only-of-type {\n",
       "        vertical-align: middle;\n",
       "    }\n",
       "\n",
       "    .dataframe tbody tr th {\n",
       "        vertical-align: top;\n",
       "    }\n",
       "\n",
       "    .dataframe thead th {\n",
       "        text-align: right;\n",
       "    }\n",
       "</style>\n",
       "<table border=\"1\" class=\"dataframe\">\n",
       "  <thead>\n",
       "    <tr style=\"text-align: right;\">\n",
       "      <th></th>\n",
       "      <th>index</th>\n",
       "      <th>total_images</th>\n",
       "      <th>last_price</th>\n",
       "      <th>total_area</th>\n",
       "      <th>first_day_exposition</th>\n",
       "      <th>rooms</th>\n",
       "      <th>ceiling_height</th>\n",
       "      <th>floors_total</th>\n",
       "      <th>living_area</th>\n",
       "      <th>floor</th>\n",
       "      <th>is_apartment</th>\n",
       "      <th>studio</th>\n",
       "      <th>open_plan</th>\n",
       "      <th>kitchen_area</th>\n",
       "      <th>balcony</th>\n",
       "      <th>locality_name</th>\n",
       "      <th>airports_nearest</th>\n",
       "      <th>cityCenters_nearest</th>\n",
       "      <th>parks_around3000</th>\n",
       "      <th>parks_nearest</th>\n",
       "      <th>ponds_around3000</th>\n",
       "      <th>ponds_nearest</th>\n",
       "      <th>days_exposition</th>\n",
       "      <th>price_for_meter</th>\n",
       "      <th>datetime_exposition</th>\n",
       "      <th>weekday</th>\n",
       "      <th>year</th>\n",
       "      <th>month</th>\n",
       "      <th>floor_group</th>\n",
       "      <th>living_area_for_total</th>\n",
       "      <th>kitchen_area_for_total</th>\n",
       "    </tr>\n",
       "  </thead>\n",
       "  <tbody>\n",
       "    <tr>\n",
       "      <td>0</td>\n",
       "      <td>0</td>\n",
       "      <td>20</td>\n",
       "      <td>13000000</td>\n",
       "      <td>108.00</td>\n",
       "      <td>2019-03-07T00:00:00</td>\n",
       "      <td>3</td>\n",
       "      <td>2.70</td>\n",
       "      <td>16.0</td>\n",
       "      <td>51.0</td>\n",
       "      <td>8</td>\n",
       "      <td>NaN</td>\n",
       "      <td>False</td>\n",
       "      <td>False</td>\n",
       "      <td>25.00</td>\n",
       "      <td>0</td>\n",
       "      <td>Санкт-Петербург</td>\n",
       "      <td>18863</td>\n",
       "      <td>16028</td>\n",
       "      <td>1</td>\n",
       "      <td>482</td>\n",
       "      <td>2</td>\n",
       "      <td>755</td>\n",
       "      <td>NaN</td>\n",
       "      <td>120370.370370</td>\n",
       "      <td>2019-03-07</td>\n",
       "      <td>3</td>\n",
       "      <td>2019</td>\n",
       "      <td>3</td>\n",
       "      <td>1.0</td>\n",
       "      <td>0.472222</td>\n",
       "      <td>0.231481</td>\n",
       "    </tr>\n",
       "    <tr>\n",
       "      <td>2</td>\n",
       "      <td>2</td>\n",
       "      <td>10</td>\n",
       "      <td>5196000</td>\n",
       "      <td>56.00</td>\n",
       "      <td>2015-08-20T00:00:00</td>\n",
       "      <td>2</td>\n",
       "      <td>NaN</td>\n",
       "      <td>5.0</td>\n",
       "      <td>34.3</td>\n",
       "      <td>4</td>\n",
       "      <td>NaN</td>\n",
       "      <td>False</td>\n",
       "      <td>False</td>\n",
       "      <td>8.30</td>\n",
       "      <td>0</td>\n",
       "      <td>Санкт-Петербург</td>\n",
       "      <td>21741</td>\n",
       "      <td>13933</td>\n",
       "      <td>1</td>\n",
       "      <td>90</td>\n",
       "      <td>2</td>\n",
       "      <td>574</td>\n",
       "      <td>558.0</td>\n",
       "      <td>92785.714286</td>\n",
       "      <td>2015-08-20</td>\n",
       "      <td>3</td>\n",
       "      <td>2015</td>\n",
       "      <td>8</td>\n",
       "      <td>1.0</td>\n",
       "      <td>0.612500</td>\n",
       "      <td>0.148214</td>\n",
       "    </tr>\n",
       "    <tr>\n",
       "      <td>4</td>\n",
       "      <td>4</td>\n",
       "      <td>2</td>\n",
       "      <td>10000000</td>\n",
       "      <td>100.00</td>\n",
       "      <td>2018-06-19T00:00:00</td>\n",
       "      <td>2</td>\n",
       "      <td>3.03</td>\n",
       "      <td>14.0</td>\n",
       "      <td>32.0</td>\n",
       "      <td>13</td>\n",
       "      <td>NaN</td>\n",
       "      <td>False</td>\n",
       "      <td>False</td>\n",
       "      <td>41.00</td>\n",
       "      <td>0</td>\n",
       "      <td>Санкт-Петербург</td>\n",
       "      <td>31856</td>\n",
       "      <td>8098</td>\n",
       "      <td>2</td>\n",
       "      <td>112</td>\n",
       "      <td>1</td>\n",
       "      <td>48</td>\n",
       "      <td>121.0</td>\n",
       "      <td>100000.000000</td>\n",
       "      <td>2018-06-19</td>\n",
       "      <td>1</td>\n",
       "      <td>2018</td>\n",
       "      <td>6</td>\n",
       "      <td>1.0</td>\n",
       "      <td>0.320000</td>\n",
       "      <td>0.410000</td>\n",
       "    </tr>\n",
       "    <tr>\n",
       "      <td>7</td>\n",
       "      <td>7</td>\n",
       "      <td>5</td>\n",
       "      <td>7915000</td>\n",
       "      <td>71.60</td>\n",
       "      <td>2019-04-18T00:00:00</td>\n",
       "      <td>2</td>\n",
       "      <td>NaN</td>\n",
       "      <td>24.0</td>\n",
       "      <td>NaN</td>\n",
       "      <td>22</td>\n",
       "      <td>NaN</td>\n",
       "      <td>False</td>\n",
       "      <td>False</td>\n",
       "      <td>18.90</td>\n",
       "      <td>2</td>\n",
       "      <td>Санкт-Петербург</td>\n",
       "      <td>23982</td>\n",
       "      <td>11634</td>\n",
       "      <td>0</td>\n",
       "      <td>NaN</td>\n",
       "      <td>0</td>\n",
       "      <td>NaN</td>\n",
       "      <td>NaN</td>\n",
       "      <td>110544.692737</td>\n",
       "      <td>2019-04-18</td>\n",
       "      <td>3</td>\n",
       "      <td>2019</td>\n",
       "      <td>4</td>\n",
       "      <td>1.0</td>\n",
       "      <td>NaN</td>\n",
       "      <td>0.263966</td>\n",
       "    </tr>\n",
       "    <tr>\n",
       "      <td>9</td>\n",
       "      <td>9</td>\n",
       "      <td>18</td>\n",
       "      <td>5400000</td>\n",
       "      <td>61.00</td>\n",
       "      <td>2017-02-26T00:00:00</td>\n",
       "      <td>3</td>\n",
       "      <td>2.50</td>\n",
       "      <td>9.0</td>\n",
       "      <td>43.6</td>\n",
       "      <td>7</td>\n",
       "      <td>NaN</td>\n",
       "      <td>False</td>\n",
       "      <td>False</td>\n",
       "      <td>6.50</td>\n",
       "      <td>2</td>\n",
       "      <td>Санкт-Петербург</td>\n",
       "      <td>50898</td>\n",
       "      <td>15008</td>\n",
       "      <td>0</td>\n",
       "      <td>NaN</td>\n",
       "      <td>0</td>\n",
       "      <td>NaN</td>\n",
       "      <td>289.0</td>\n",
       "      <td>88524.590164</td>\n",
       "      <td>2017-02-26</td>\n",
       "      <td>6</td>\n",
       "      <td>2017</td>\n",
       "      <td>2</td>\n",
       "      <td>1.0</td>\n",
       "      <td>0.714754</td>\n",
       "      <td>0.106557</td>\n",
       "    </tr>\n",
       "    <tr>\n",
       "      <td>...</td>\n",
       "      <td>...</td>\n",
       "      <td>...</td>\n",
       "      <td>...</td>\n",
       "      <td>...</td>\n",
       "      <td>...</td>\n",
       "      <td>...</td>\n",
       "      <td>...</td>\n",
       "      <td>...</td>\n",
       "      <td>...</td>\n",
       "      <td>...</td>\n",
       "      <td>...</td>\n",
       "      <td>...</td>\n",
       "      <td>...</td>\n",
       "      <td>...</td>\n",
       "      <td>...</td>\n",
       "      <td>...</td>\n",
       "      <td>...</td>\n",
       "      <td>...</td>\n",
       "      <td>...</td>\n",
       "      <td>...</td>\n",
       "      <td>...</td>\n",
       "      <td>...</td>\n",
       "      <td>...</td>\n",
       "      <td>...</td>\n",
       "      <td>...</td>\n",
       "      <td>...</td>\n",
       "      <td>...</td>\n",
       "      <td>...</td>\n",
       "      <td>...</td>\n",
       "      <td>...</td>\n",
       "      <td>...</td>\n",
       "    </tr>\n",
       "    <tr>\n",
       "      <td>23639</td>\n",
       "      <td>23688</td>\n",
       "      <td>19</td>\n",
       "      <td>9200000</td>\n",
       "      <td>101.00</td>\n",
       "      <td>2019-04-01T00:00:00</td>\n",
       "      <td>3</td>\n",
       "      <td>3.05</td>\n",
       "      <td>15.0</td>\n",
       "      <td>63.0</td>\n",
       "      <td>12</td>\n",
       "      <td>NaN</td>\n",
       "      <td>False</td>\n",
       "      <td>False</td>\n",
       "      <td>15.00</td>\n",
       "      <td>0</td>\n",
       "      <td>Санкт-Петербург</td>\n",
       "      <td>15632</td>\n",
       "      <td>14428</td>\n",
       "      <td>0</td>\n",
       "      <td>NaN</td>\n",
       "      <td>0</td>\n",
       "      <td>NaN</td>\n",
       "      <td>23.0</td>\n",
       "      <td>91089.108911</td>\n",
       "      <td>2019-04-01</td>\n",
       "      <td>0</td>\n",
       "      <td>2019</td>\n",
       "      <td>4</td>\n",
       "      <td>1.0</td>\n",
       "      <td>0.623762</td>\n",
       "      <td>0.148515</td>\n",
       "    </tr>\n",
       "    <tr>\n",
       "      <td>23641</td>\n",
       "      <td>23690</td>\n",
       "      <td>3</td>\n",
       "      <td>5500000</td>\n",
       "      <td>52.00</td>\n",
       "      <td>2018-07-19T00:00:00</td>\n",
       "      <td>2</td>\n",
       "      <td>NaN</td>\n",
       "      <td>5.0</td>\n",
       "      <td>31.0</td>\n",
       "      <td>2</td>\n",
       "      <td>NaN</td>\n",
       "      <td>False</td>\n",
       "      <td>False</td>\n",
       "      <td>6.00</td>\n",
       "      <td>0</td>\n",
       "      <td>Санкт-Петербург</td>\n",
       "      <td>20151</td>\n",
       "      <td>6263</td>\n",
       "      <td>1</td>\n",
       "      <td>300</td>\n",
       "      <td>0</td>\n",
       "      <td>NaN</td>\n",
       "      <td>15.0</td>\n",
       "      <td>105769.230769</td>\n",
       "      <td>2018-07-19</td>\n",
       "      <td>3</td>\n",
       "      <td>2018</td>\n",
       "      <td>7</td>\n",
       "      <td>1.0</td>\n",
       "      <td>0.596154</td>\n",
       "      <td>0.115385</td>\n",
       "    </tr>\n",
       "    <tr>\n",
       "      <td>23642</td>\n",
       "      <td>23691</td>\n",
       "      <td>11</td>\n",
       "      <td>9470000</td>\n",
       "      <td>72.90</td>\n",
       "      <td>2016-10-13T00:00:00</td>\n",
       "      <td>2</td>\n",
       "      <td>2.75</td>\n",
       "      <td>25.0</td>\n",
       "      <td>40.3</td>\n",
       "      <td>7</td>\n",
       "      <td>NaN</td>\n",
       "      <td>False</td>\n",
       "      <td>False</td>\n",
       "      <td>10.60</td>\n",
       "      <td>1</td>\n",
       "      <td>Санкт-Петербург</td>\n",
       "      <td>19424</td>\n",
       "      <td>4489</td>\n",
       "      <td>0</td>\n",
       "      <td>NaN</td>\n",
       "      <td>1</td>\n",
       "      <td>806</td>\n",
       "      <td>519.0</td>\n",
       "      <td>129903.978052</td>\n",
       "      <td>2016-10-13</td>\n",
       "      <td>3</td>\n",
       "      <td>2016</td>\n",
       "      <td>10</td>\n",
       "      <td>1.0</td>\n",
       "      <td>0.552812</td>\n",
       "      <td>0.145405</td>\n",
       "    </tr>\n",
       "    <tr>\n",
       "      <td>23644</td>\n",
       "      <td>23693</td>\n",
       "      <td>9</td>\n",
       "      <td>4600000</td>\n",
       "      <td>62.40</td>\n",
       "      <td>2016-08-05T00:00:00</td>\n",
       "      <td>3</td>\n",
       "      <td>2.60</td>\n",
       "      <td>9.0</td>\n",
       "      <td>40.0</td>\n",
       "      <td>8</td>\n",
       "      <td>NaN</td>\n",
       "      <td>False</td>\n",
       "      <td>False</td>\n",
       "      <td>8.00</td>\n",
       "      <td>0</td>\n",
       "      <td>Петергоф</td>\n",
       "      <td>45602</td>\n",
       "      <td>34104</td>\n",
       "      <td>1</td>\n",
       "      <td>352</td>\n",
       "      <td>1</td>\n",
       "      <td>675</td>\n",
       "      <td>239.0</td>\n",
       "      <td>73717.948718</td>\n",
       "      <td>2016-08-05</td>\n",
       "      <td>4</td>\n",
       "      <td>2016</td>\n",
       "      <td>8</td>\n",
       "      <td>1.0</td>\n",
       "      <td>0.641026</td>\n",
       "      <td>0.128205</td>\n",
       "    </tr>\n",
       "    <tr>\n",
       "      <td>23645</td>\n",
       "      <td>23694</td>\n",
       "      <td>9</td>\n",
       "      <td>9700000</td>\n",
       "      <td>133.81</td>\n",
       "      <td>2017-03-21T00:00:00</td>\n",
       "      <td>3</td>\n",
       "      <td>3.70</td>\n",
       "      <td>5.0</td>\n",
       "      <td>73.3</td>\n",
       "      <td>3</td>\n",
       "      <td>NaN</td>\n",
       "      <td>False</td>\n",
       "      <td>False</td>\n",
       "      <td>13.83</td>\n",
       "      <td>0</td>\n",
       "      <td>Санкт-Петербург</td>\n",
       "      <td>24665</td>\n",
       "      <td>4232</td>\n",
       "      <td>1</td>\n",
       "      <td>796</td>\n",
       "      <td>3</td>\n",
       "      <td>381</td>\n",
       "      <td>NaN</td>\n",
       "      <td>72490.845228</td>\n",
       "      <td>2017-03-21</td>\n",
       "      <td>1</td>\n",
       "      <td>2017</td>\n",
       "      <td>3</td>\n",
       "      <td>1.0</td>\n",
       "      <td>0.547792</td>\n",
       "      <td>0.103356</td>\n",
       "    </tr>\n",
       "  </tbody>\n",
       "</table>\n",
       "<p>10914 rows × 31 columns</p>\n",
       "</div>"
      ],
      "text/plain": [
       "       index  total_images  last_price  total_area first_day_exposition  \\\n",
       "0          0            20    13000000      108.00  2019-03-07T00:00:00   \n",
       "2          2            10     5196000       56.00  2015-08-20T00:00:00   \n",
       "4          4             2    10000000      100.00  2018-06-19T00:00:00   \n",
       "7          7             5     7915000       71.60  2019-04-18T00:00:00   \n",
       "9          9            18     5400000       61.00  2017-02-26T00:00:00   \n",
       "...      ...           ...         ...         ...                  ...   \n",
       "23639  23688            19     9200000      101.00  2019-04-01T00:00:00   \n",
       "23641  23690             3     5500000       52.00  2018-07-19T00:00:00   \n",
       "23642  23691            11     9470000       72.90  2016-10-13T00:00:00   \n",
       "23644  23693             9     4600000       62.40  2016-08-05T00:00:00   \n",
       "23645  23694             9     9700000      133.81  2017-03-21T00:00:00   \n",
       "\n",
       "       rooms  ceiling_height  floors_total  living_area  floor is_apartment  \\\n",
       "0          3            2.70          16.0         51.0      8          NaN   \n",
       "2          2             NaN           5.0         34.3      4          NaN   \n",
       "4          2            3.03          14.0         32.0     13          NaN   \n",
       "7          2             NaN          24.0          NaN     22          NaN   \n",
       "9          3            2.50           9.0         43.6      7          NaN   \n",
       "...      ...             ...           ...          ...    ...          ...   \n",
       "23639      3            3.05          15.0         63.0     12          NaN   \n",
       "23641      2             NaN           5.0         31.0      2          NaN   \n",
       "23642      2            2.75          25.0         40.3      7          NaN   \n",
       "23644      3            2.60           9.0         40.0      8          NaN   \n",
       "23645      3            3.70           5.0         73.3      3          NaN   \n",
       "\n",
       "       studio  open_plan  kitchen_area  balcony    locality_name  \\\n",
       "0       False      False         25.00        0  Санкт-Петербург   \n",
       "2       False      False          8.30        0  Санкт-Петербург   \n",
       "4       False      False         41.00        0  Санкт-Петербург   \n",
       "7       False      False         18.90        2  Санкт-Петербург   \n",
       "9       False      False          6.50        2  Санкт-Петербург   \n",
       "...       ...        ...           ...      ...              ...   \n",
       "23639   False      False         15.00        0  Санкт-Петербург   \n",
       "23641   False      False          6.00        0  Санкт-Петербург   \n",
       "23642   False      False         10.60        1  Санкт-Петербург   \n",
       "23644   False      False          8.00        0         Петергоф   \n",
       "23645   False      False         13.83        0  Санкт-Петербург   \n",
       "\n",
       "       airports_nearest  cityCenters_nearest  parks_around3000  parks_nearest  \\\n",
       "0                 18863                16028                 1            482   \n",
       "2                 21741                13933                 1             90   \n",
       "4                 31856                 8098                 2            112   \n",
       "7                 23982                11634                 0            NaN   \n",
       "9                 50898                15008                 0            NaN   \n",
       "...                 ...                  ...               ...            ...   \n",
       "23639             15632                14428                 0            NaN   \n",
       "23641             20151                 6263                 1            300   \n",
       "23642             19424                 4489                 0            NaN   \n",
       "23644             45602                34104                 1            352   \n",
       "23645             24665                 4232                 1            796   \n",
       "\n",
       "       ponds_around3000  ponds_nearest  days_exposition  price_for_meter  \\\n",
       "0                     2            755              NaN    120370.370370   \n",
       "2                     2            574            558.0     92785.714286   \n",
       "4                     1             48            121.0    100000.000000   \n",
       "7                     0            NaN              NaN    110544.692737   \n",
       "9                     0            NaN            289.0     88524.590164   \n",
       "...                 ...            ...              ...              ...   \n",
       "23639                 0            NaN             23.0     91089.108911   \n",
       "23641                 0            NaN             15.0    105769.230769   \n",
       "23642                 1            806            519.0    129903.978052   \n",
       "23644                 1            675            239.0     73717.948718   \n",
       "23645                 3            381              NaN     72490.845228   \n",
       "\n",
       "      datetime_exposition  weekday  year  month  floor_group  \\\n",
       "0              2019-03-07        3  2019      3          1.0   \n",
       "2              2015-08-20        3  2015      8          1.0   \n",
       "4              2018-06-19        1  2018      6          1.0   \n",
       "7              2019-04-18        3  2019      4          1.0   \n",
       "9              2017-02-26        6  2017      2          1.0   \n",
       "...                   ...      ...   ...    ...          ...   \n",
       "23639          2019-04-01        0  2019      4          1.0   \n",
       "23641          2018-07-19        3  2018      7          1.0   \n",
       "23642          2016-10-13        3  2016     10          1.0   \n",
       "23644          2016-08-05        4  2016      8          1.0   \n",
       "23645          2017-03-21        1  2017      3          1.0   \n",
       "\n",
       "       living_area_for_total  kitchen_area_for_total  \n",
       "0                   0.472222                0.231481  \n",
       "2                   0.612500                0.148214  \n",
       "4                   0.320000                0.410000  \n",
       "7                        NaN                0.263966  \n",
       "9                   0.714754                0.106557  \n",
       "...                      ...                     ...  \n",
       "23639               0.623762                0.148515  \n",
       "23641               0.596154                0.115385  \n",
       "23642               0.552812                0.145405  \n",
       "23644               0.641026                0.128205  \n",
       "23645               0.547792                0.103356  \n",
       "\n",
       "[10914 rows x 31 columns]"
      ]
     },
     "execution_count": 37,
     "metadata": {},
     "output_type": "execute_result"
    }
   ],
   "source": [
    "#создаем новую таблицу 10 населённых пунктов с наибольшим числом объявлений\n",
    "df_top10loc = df.query('locality_name in @locality_top10.index')\n",
    "df_top10loc"
   ]
  },
  {
   "cell_type": "code",
   "execution_count": 38,
   "metadata": {},
   "outputs": [
    {
     "data": {
      "text/html": [
       "<div>\n",
       "<style scoped>\n",
       "    .dataframe tbody tr th:only-of-type {\n",
       "        vertical-align: middle;\n",
       "    }\n",
       "\n",
       "    .dataframe tbody tr th {\n",
       "        vertical-align: top;\n",
       "    }\n",
       "\n",
       "    .dataframe thead th {\n",
       "        text-align: right;\n",
       "    }\n",
       "</style>\n",
       "<table border=\"1\" class=\"dataframe\">\n",
       "  <thead>\n",
       "    <tr style=\"text-align: right;\">\n",
       "      <th></th>\n",
       "      <th>price_for_meter</th>\n",
       "    </tr>\n",
       "    <tr>\n",
       "      <th>locality_name</th>\n",
       "      <th></th>\n",
       "    </tr>\n",
       "  </thead>\n",
       "  <tbody>\n",
       "    <tr>\n",
       "      <td>Санкт-Петербург</td>\n",
       "      <td>105424.660450</td>\n",
       "    </tr>\n",
       "    <tr>\n",
       "      <td>Пушкин</td>\n",
       "      <td>100689.170599</td>\n",
       "    </tr>\n",
       "    <tr>\n",
       "      <td>посёлок Парголово</td>\n",
       "      <td>84395.192687</td>\n",
       "    </tr>\n",
       "    <tr>\n",
       "      <td>Петергоф</td>\n",
       "      <td>83592.312994</td>\n",
       "    </tr>\n",
       "    <tr>\n",
       "      <td>посёлок Мурино</td>\n",
       "      <td>77219.334622</td>\n",
       "    </tr>\n",
       "    <tr>\n",
       "      <td>посёлок Шушары</td>\n",
       "      <td>73965.084270</td>\n",
       "    </tr>\n",
       "    <tr>\n",
       "      <td>Колпино</td>\n",
       "      <td>71651.870102</td>\n",
       "    </tr>\n",
       "    <tr>\n",
       "      <td>Гатчина</td>\n",
       "      <td>67230.638193</td>\n",
       "    </tr>\n",
       "    <tr>\n",
       "      <td>Всеволожск</td>\n",
       "      <td>65699.410405</td>\n",
       "    </tr>\n",
       "    <tr>\n",
       "      <td>Выборг</td>\n",
       "      <td>56424.581964</td>\n",
       "    </tr>\n",
       "  </tbody>\n",
       "</table>\n",
       "</div>"
      ],
      "text/plain": [
       "                   price_for_meter\n",
       "locality_name                     \n",
       "Санкт-Петербург      105424.660450\n",
       "Пушкин               100689.170599\n",
       "посёлок Парголово     84395.192687\n",
       "Петергоф              83592.312994\n",
       "посёлок Мурино        77219.334622\n",
       "посёлок Шушары        73965.084270\n",
       "Колпино               71651.870102\n",
       "Гатчина               67230.638193\n",
       "Всеволожск            65699.410405\n",
       "Выборг                56424.581964"
      ]
     },
     "execution_count": 38,
     "metadata": {},
     "output_type": "execute_result"
    }
   ],
   "source": [
    "#средняя цена квадратного метра в топ 10 нас. пунктах\n",
    "df_top10loc_pivot_price = df_top10loc.pivot_table(index = 'locality_name',values = 'price_for_meter')\n",
    "df_top10loc_pivot_price.sort_values(by ='price_for_meter',ascending = False)"
   ]
  },
  {
   "cell_type": "code",
   "execution_count": 39,
   "metadata": {},
   "outputs": [
    {
     "data": {
      "text/html": [
       "<div>\n",
       "<style scoped>\n",
       "    .dataframe tbody tr th:only-of-type {\n",
       "        vertical-align: middle;\n",
       "    }\n",
       "\n",
       "    .dataframe tbody tr th {\n",
       "        vertical-align: top;\n",
       "    }\n",
       "\n",
       "    .dataframe thead th {\n",
       "        text-align: right;\n",
       "    }\n",
       "</style>\n",
       "<table border=\"1\" class=\"dataframe\">\n",
       "  <thead>\n",
       "    <tr style=\"text-align: right;\">\n",
       "      <th></th>\n",
       "      <th>price_for_meter</th>\n",
       "    </tr>\n",
       "    <tr>\n",
       "      <th>locality_name</th>\n",
       "      <th></th>\n",
       "    </tr>\n",
       "  </thead>\n",
       "  <tbody>\n",
       "    <tr>\n",
       "      <td>Санкт-Петербург</td>\n",
       "      <td>105424.660450</td>\n",
       "    </tr>\n",
       "    <tr>\n",
       "      <td>Пушкин</td>\n",
       "      <td>100689.170599</td>\n",
       "    </tr>\n",
       "    <tr>\n",
       "      <td>посёлок Парголово</td>\n",
       "      <td>84395.192687</td>\n",
       "    </tr>\n",
       "  </tbody>\n",
       "</table>\n",
       "</div>"
      ],
      "text/plain": [
       "                   price_for_meter\n",
       "locality_name                     \n",
       "Санкт-Петербург      105424.660450\n",
       "Пушкин               100689.170599\n",
       "посёлок Парголово     84395.192687"
      ]
     },
     "execution_count": 39,
     "metadata": {},
     "output_type": "execute_result"
    }
   ],
   "source": [
    "#топ 3 с самой высокой стоимостью жилья\n",
    "df_top10loc_pivot_price.sort_values(by ='price_for_meter',ascending = False).head(3)"
   ]
  },
  {
   "cell_type": "code",
   "execution_count": 40,
   "metadata": {},
   "outputs": [
    {
     "data": {
      "text/html": [
       "<div>\n",
       "<style scoped>\n",
       "    .dataframe tbody tr th:only-of-type {\n",
       "        vertical-align: middle;\n",
       "    }\n",
       "\n",
       "    .dataframe tbody tr th {\n",
       "        vertical-align: top;\n",
       "    }\n",
       "\n",
       "    .dataframe thead th {\n",
       "        text-align: right;\n",
       "    }\n",
       "</style>\n",
       "<table border=\"1\" class=\"dataframe\">\n",
       "  <thead>\n",
       "    <tr style=\"text-align: right;\">\n",
       "      <th></th>\n",
       "      <th>price_for_meter</th>\n",
       "    </tr>\n",
       "    <tr>\n",
       "      <th>locality_name</th>\n",
       "      <th></th>\n",
       "    </tr>\n",
       "  </thead>\n",
       "  <tbody>\n",
       "    <tr>\n",
       "      <td>Гатчина</td>\n",
       "      <td>67230.638193</td>\n",
       "    </tr>\n",
       "    <tr>\n",
       "      <td>Всеволожск</td>\n",
       "      <td>65699.410405</td>\n",
       "    </tr>\n",
       "    <tr>\n",
       "      <td>Выборг</td>\n",
       "      <td>56424.581964</td>\n",
       "    </tr>\n",
       "  </tbody>\n",
       "</table>\n",
       "</div>"
      ],
      "text/plain": [
       "               price_for_meter\n",
       "locality_name                 \n",
       "Гатчина           67230.638193\n",
       "Всеволожск        65699.410405\n",
       "Выборг            56424.581964"
      ]
     },
     "execution_count": 40,
     "metadata": {},
     "output_type": "execute_result"
    }
   ],
   "source": [
    "#топ 3 с самой низкой стоимостью жилья\n",
    "df_top10loc_pivot_price.sort_values(by ='price_for_meter',ascending = False).tail(3)"
   ]
  },
  {
   "cell_type": "code",
   "execution_count": 41,
   "metadata": {
    "scrolled": false
   },
   "outputs": [
    {
     "data": {
      "text/html": [
       "<div>\n",
       "<style scoped>\n",
       "    .dataframe tbody tr th:only-of-type {\n",
       "        vertical-align: middle;\n",
       "    }\n",
       "\n",
       "    .dataframe tbody tr th {\n",
       "        vertical-align: top;\n",
       "    }\n",
       "\n",
       "    .dataframe thead th {\n",
       "        text-align: right;\n",
       "    }\n",
       "</style>\n",
       "<table border=\"1\" class=\"dataframe\">\n",
       "  <thead>\n",
       "    <tr style=\"text-align: right;\">\n",
       "      <th></th>\n",
       "      <th>index</th>\n",
       "      <th>total_images</th>\n",
       "      <th>last_price</th>\n",
       "      <th>total_area</th>\n",
       "      <th>first_day_exposition</th>\n",
       "      <th>rooms</th>\n",
       "      <th>ceiling_height</th>\n",
       "      <th>floors_total</th>\n",
       "      <th>living_area</th>\n",
       "      <th>floor</th>\n",
       "      <th>is_apartment</th>\n",
       "      <th>studio</th>\n",
       "      <th>open_plan</th>\n",
       "      <th>kitchen_area</th>\n",
       "      <th>balcony</th>\n",
       "      <th>locality_name</th>\n",
       "      <th>airports_nearest</th>\n",
       "      <th>cityCenters_nearest</th>\n",
       "      <th>parks_around3000</th>\n",
       "      <th>parks_nearest</th>\n",
       "      <th>ponds_around3000</th>\n",
       "      <th>ponds_nearest</th>\n",
       "      <th>days_exposition</th>\n",
       "      <th>price_for_meter</th>\n",
       "      <th>datetime_exposition</th>\n",
       "      <th>weekday</th>\n",
       "      <th>year</th>\n",
       "      <th>month</th>\n",
       "      <th>floor_group</th>\n",
       "      <th>living_area_for_total</th>\n",
       "      <th>kitchen_area_for_total</th>\n",
       "    </tr>\n",
       "  </thead>\n",
       "  <tbody>\n",
       "    <tr>\n",
       "      <td>0</td>\n",
       "      <td>0</td>\n",
       "      <td>20</td>\n",
       "      <td>13000000</td>\n",
       "      <td>108.00</td>\n",
       "      <td>2019-03-07T00:00:00</td>\n",
       "      <td>3</td>\n",
       "      <td>2.70</td>\n",
       "      <td>16.0</td>\n",
       "      <td>51.0</td>\n",
       "      <td>8</td>\n",
       "      <td>NaN</td>\n",
       "      <td>False</td>\n",
       "      <td>False</td>\n",
       "      <td>25.00</td>\n",
       "      <td>0</td>\n",
       "      <td>Санкт-Петербург</td>\n",
       "      <td>18863</td>\n",
       "      <td>16028</td>\n",
       "      <td>1</td>\n",
       "      <td>482</td>\n",
       "      <td>2</td>\n",
       "      <td>755</td>\n",
       "      <td>NaN</td>\n",
       "      <td>120370.370370</td>\n",
       "      <td>2019-03-07</td>\n",
       "      <td>3</td>\n",
       "      <td>2019</td>\n",
       "      <td>3</td>\n",
       "      <td>1.0</td>\n",
       "      <td>0.472222</td>\n",
       "      <td>0.231481</td>\n",
       "    </tr>\n",
       "    <tr>\n",
       "      <td>2</td>\n",
       "      <td>2</td>\n",
       "      <td>10</td>\n",
       "      <td>5196000</td>\n",
       "      <td>56.00</td>\n",
       "      <td>2015-08-20T00:00:00</td>\n",
       "      <td>2</td>\n",
       "      <td>NaN</td>\n",
       "      <td>5.0</td>\n",
       "      <td>34.3</td>\n",
       "      <td>4</td>\n",
       "      <td>NaN</td>\n",
       "      <td>False</td>\n",
       "      <td>False</td>\n",
       "      <td>8.30</td>\n",
       "      <td>0</td>\n",
       "      <td>Санкт-Петербург</td>\n",
       "      <td>21741</td>\n",
       "      <td>13933</td>\n",
       "      <td>1</td>\n",
       "      <td>90</td>\n",
       "      <td>2</td>\n",
       "      <td>574</td>\n",
       "      <td>558.0</td>\n",
       "      <td>92785.714286</td>\n",
       "      <td>2015-08-20</td>\n",
       "      <td>3</td>\n",
       "      <td>2015</td>\n",
       "      <td>8</td>\n",
       "      <td>1.0</td>\n",
       "      <td>0.612500</td>\n",
       "      <td>0.148214</td>\n",
       "    </tr>\n",
       "    <tr>\n",
       "      <td>4</td>\n",
       "      <td>4</td>\n",
       "      <td>2</td>\n",
       "      <td>10000000</td>\n",
       "      <td>100.00</td>\n",
       "      <td>2018-06-19T00:00:00</td>\n",
       "      <td>2</td>\n",
       "      <td>3.03</td>\n",
       "      <td>14.0</td>\n",
       "      <td>32.0</td>\n",
       "      <td>13</td>\n",
       "      <td>NaN</td>\n",
       "      <td>False</td>\n",
       "      <td>False</td>\n",
       "      <td>41.00</td>\n",
       "      <td>0</td>\n",
       "      <td>Санкт-Петербург</td>\n",
       "      <td>31856</td>\n",
       "      <td>8098</td>\n",
       "      <td>2</td>\n",
       "      <td>112</td>\n",
       "      <td>1</td>\n",
       "      <td>48</td>\n",
       "      <td>121.0</td>\n",
       "      <td>100000.000000</td>\n",
       "      <td>2018-06-19</td>\n",
       "      <td>1</td>\n",
       "      <td>2018</td>\n",
       "      <td>6</td>\n",
       "      <td>1.0</td>\n",
       "      <td>0.320000</td>\n",
       "      <td>0.410000</td>\n",
       "    </tr>\n",
       "    <tr>\n",
       "      <td>7</td>\n",
       "      <td>7</td>\n",
       "      <td>5</td>\n",
       "      <td>7915000</td>\n",
       "      <td>71.60</td>\n",
       "      <td>2019-04-18T00:00:00</td>\n",
       "      <td>2</td>\n",
       "      <td>NaN</td>\n",
       "      <td>24.0</td>\n",
       "      <td>NaN</td>\n",
       "      <td>22</td>\n",
       "      <td>NaN</td>\n",
       "      <td>False</td>\n",
       "      <td>False</td>\n",
       "      <td>18.90</td>\n",
       "      <td>2</td>\n",
       "      <td>Санкт-Петербург</td>\n",
       "      <td>23982</td>\n",
       "      <td>11634</td>\n",
       "      <td>0</td>\n",
       "      <td>NaN</td>\n",
       "      <td>0</td>\n",
       "      <td>NaN</td>\n",
       "      <td>NaN</td>\n",
       "      <td>110544.692737</td>\n",
       "      <td>2019-04-18</td>\n",
       "      <td>3</td>\n",
       "      <td>2019</td>\n",
       "      <td>4</td>\n",
       "      <td>1.0</td>\n",
       "      <td>NaN</td>\n",
       "      <td>0.263966</td>\n",
       "    </tr>\n",
       "    <tr>\n",
       "      <td>9</td>\n",
       "      <td>9</td>\n",
       "      <td>18</td>\n",
       "      <td>5400000</td>\n",
       "      <td>61.00</td>\n",
       "      <td>2017-02-26T00:00:00</td>\n",
       "      <td>3</td>\n",
       "      <td>2.50</td>\n",
       "      <td>9.0</td>\n",
       "      <td>43.6</td>\n",
       "      <td>7</td>\n",
       "      <td>NaN</td>\n",
       "      <td>False</td>\n",
       "      <td>False</td>\n",
       "      <td>6.50</td>\n",
       "      <td>2</td>\n",
       "      <td>Санкт-Петербург</td>\n",
       "      <td>50898</td>\n",
       "      <td>15008</td>\n",
       "      <td>0</td>\n",
       "      <td>NaN</td>\n",
       "      <td>0</td>\n",
       "      <td>NaN</td>\n",
       "      <td>289.0</td>\n",
       "      <td>88524.590164</td>\n",
       "      <td>2017-02-26</td>\n",
       "      <td>6</td>\n",
       "      <td>2017</td>\n",
       "      <td>2</td>\n",
       "      <td>1.0</td>\n",
       "      <td>0.714754</td>\n",
       "      <td>0.106557</td>\n",
       "    </tr>\n",
       "    <tr>\n",
       "      <td>...</td>\n",
       "      <td>...</td>\n",
       "      <td>...</td>\n",
       "      <td>...</td>\n",
       "      <td>...</td>\n",
       "      <td>...</td>\n",
       "      <td>...</td>\n",
       "      <td>...</td>\n",
       "      <td>...</td>\n",
       "      <td>...</td>\n",
       "      <td>...</td>\n",
       "      <td>...</td>\n",
       "      <td>...</td>\n",
       "      <td>...</td>\n",
       "      <td>...</td>\n",
       "      <td>...</td>\n",
       "      <td>...</td>\n",
       "      <td>...</td>\n",
       "      <td>...</td>\n",
       "      <td>...</td>\n",
       "      <td>...</td>\n",
       "      <td>...</td>\n",
       "      <td>...</td>\n",
       "      <td>...</td>\n",
       "      <td>...</td>\n",
       "      <td>...</td>\n",
       "      <td>...</td>\n",
       "      <td>...</td>\n",
       "      <td>...</td>\n",
       "      <td>...</td>\n",
       "      <td>...</td>\n",
       "      <td>...</td>\n",
       "    </tr>\n",
       "    <tr>\n",
       "      <td>23632</td>\n",
       "      <td>23681</td>\n",
       "      <td>13</td>\n",
       "      <td>5250000</td>\n",
       "      <td>43.00</td>\n",
       "      <td>2018-05-11T00:00:00</td>\n",
       "      <td>2</td>\n",
       "      <td>2.50</td>\n",
       "      <td>5.0</td>\n",
       "      <td>29.0</td>\n",
       "      <td>2</td>\n",
       "      <td>NaN</td>\n",
       "      <td>False</td>\n",
       "      <td>False</td>\n",
       "      <td>6.00</td>\n",
       "      <td>0</td>\n",
       "      <td>Санкт-Петербург</td>\n",
       "      <td>28323</td>\n",
       "      <td>7262</td>\n",
       "      <td>1</td>\n",
       "      <td>497</td>\n",
       "      <td>2</td>\n",
       "      <td>660</td>\n",
       "      <td>80.0</td>\n",
       "      <td>122093.023256</td>\n",
       "      <td>2018-05-11</td>\n",
       "      <td>4</td>\n",
       "      <td>2018</td>\n",
       "      <td>5</td>\n",
       "      <td>1.0</td>\n",
       "      <td>0.674419</td>\n",
       "      <td>0.139535</td>\n",
       "    </tr>\n",
       "    <tr>\n",
       "      <td>23639</td>\n",
       "      <td>23688</td>\n",
       "      <td>19</td>\n",
       "      <td>9200000</td>\n",
       "      <td>101.00</td>\n",
       "      <td>2019-04-01T00:00:00</td>\n",
       "      <td>3</td>\n",
       "      <td>3.05</td>\n",
       "      <td>15.0</td>\n",
       "      <td>63.0</td>\n",
       "      <td>12</td>\n",
       "      <td>NaN</td>\n",
       "      <td>False</td>\n",
       "      <td>False</td>\n",
       "      <td>15.00</td>\n",
       "      <td>0</td>\n",
       "      <td>Санкт-Петербург</td>\n",
       "      <td>15632</td>\n",
       "      <td>14428</td>\n",
       "      <td>0</td>\n",
       "      <td>NaN</td>\n",
       "      <td>0</td>\n",
       "      <td>NaN</td>\n",
       "      <td>23.0</td>\n",
       "      <td>91089.108911</td>\n",
       "      <td>2019-04-01</td>\n",
       "      <td>0</td>\n",
       "      <td>2019</td>\n",
       "      <td>4</td>\n",
       "      <td>1.0</td>\n",
       "      <td>0.623762</td>\n",
       "      <td>0.148515</td>\n",
       "    </tr>\n",
       "    <tr>\n",
       "      <td>23641</td>\n",
       "      <td>23690</td>\n",
       "      <td>3</td>\n",
       "      <td>5500000</td>\n",
       "      <td>52.00</td>\n",
       "      <td>2018-07-19T00:00:00</td>\n",
       "      <td>2</td>\n",
       "      <td>NaN</td>\n",
       "      <td>5.0</td>\n",
       "      <td>31.0</td>\n",
       "      <td>2</td>\n",
       "      <td>NaN</td>\n",
       "      <td>False</td>\n",
       "      <td>False</td>\n",
       "      <td>6.00</td>\n",
       "      <td>0</td>\n",
       "      <td>Санкт-Петербург</td>\n",
       "      <td>20151</td>\n",
       "      <td>6263</td>\n",
       "      <td>1</td>\n",
       "      <td>300</td>\n",
       "      <td>0</td>\n",
       "      <td>NaN</td>\n",
       "      <td>15.0</td>\n",
       "      <td>105769.230769</td>\n",
       "      <td>2018-07-19</td>\n",
       "      <td>3</td>\n",
       "      <td>2018</td>\n",
       "      <td>7</td>\n",
       "      <td>1.0</td>\n",
       "      <td>0.596154</td>\n",
       "      <td>0.115385</td>\n",
       "    </tr>\n",
       "    <tr>\n",
       "      <td>23642</td>\n",
       "      <td>23691</td>\n",
       "      <td>11</td>\n",
       "      <td>9470000</td>\n",
       "      <td>72.90</td>\n",
       "      <td>2016-10-13T00:00:00</td>\n",
       "      <td>2</td>\n",
       "      <td>2.75</td>\n",
       "      <td>25.0</td>\n",
       "      <td>40.3</td>\n",
       "      <td>7</td>\n",
       "      <td>NaN</td>\n",
       "      <td>False</td>\n",
       "      <td>False</td>\n",
       "      <td>10.60</td>\n",
       "      <td>1</td>\n",
       "      <td>Санкт-Петербург</td>\n",
       "      <td>19424</td>\n",
       "      <td>4489</td>\n",
       "      <td>0</td>\n",
       "      <td>NaN</td>\n",
       "      <td>1</td>\n",
       "      <td>806</td>\n",
       "      <td>519.0</td>\n",
       "      <td>129903.978052</td>\n",
       "      <td>2016-10-13</td>\n",
       "      <td>3</td>\n",
       "      <td>2016</td>\n",
       "      <td>10</td>\n",
       "      <td>1.0</td>\n",
       "      <td>0.552812</td>\n",
       "      <td>0.145405</td>\n",
       "    </tr>\n",
       "    <tr>\n",
       "      <td>23645</td>\n",
       "      <td>23694</td>\n",
       "      <td>9</td>\n",
       "      <td>9700000</td>\n",
       "      <td>133.81</td>\n",
       "      <td>2017-03-21T00:00:00</td>\n",
       "      <td>3</td>\n",
       "      <td>3.70</td>\n",
       "      <td>5.0</td>\n",
       "      <td>73.3</td>\n",
       "      <td>3</td>\n",
       "      <td>NaN</td>\n",
       "      <td>False</td>\n",
       "      <td>False</td>\n",
       "      <td>13.83</td>\n",
       "      <td>0</td>\n",
       "      <td>Санкт-Петербург</td>\n",
       "      <td>24665</td>\n",
       "      <td>4232</td>\n",
       "      <td>1</td>\n",
       "      <td>796</td>\n",
       "      <td>3</td>\n",
       "      <td>381</td>\n",
       "      <td>NaN</td>\n",
       "      <td>72490.845228</td>\n",
       "      <td>2017-03-21</td>\n",
       "      <td>1</td>\n",
       "      <td>2017</td>\n",
       "      <td>3</td>\n",
       "      <td>1.0</td>\n",
       "      <td>0.547792</td>\n",
       "      <td>0.103356</td>\n",
       "    </tr>\n",
       "  </tbody>\n",
       "</table>\n",
       "<p>9232 rows × 31 columns</p>\n",
       "</div>"
      ],
      "text/plain": [
       "       index  total_images  last_price  total_area first_day_exposition  \\\n",
       "0          0            20    13000000      108.00  2019-03-07T00:00:00   \n",
       "2          2            10     5196000       56.00  2015-08-20T00:00:00   \n",
       "4          4             2    10000000      100.00  2018-06-19T00:00:00   \n",
       "7          7             5     7915000       71.60  2019-04-18T00:00:00   \n",
       "9          9            18     5400000       61.00  2017-02-26T00:00:00   \n",
       "...      ...           ...         ...         ...                  ...   \n",
       "23632  23681            13     5250000       43.00  2018-05-11T00:00:00   \n",
       "23639  23688            19     9200000      101.00  2019-04-01T00:00:00   \n",
       "23641  23690             3     5500000       52.00  2018-07-19T00:00:00   \n",
       "23642  23691            11     9470000       72.90  2016-10-13T00:00:00   \n",
       "23645  23694             9     9700000      133.81  2017-03-21T00:00:00   \n",
       "\n",
       "       rooms  ceiling_height  floors_total  living_area  floor is_apartment  \\\n",
       "0          3            2.70          16.0         51.0      8          NaN   \n",
       "2          2             NaN           5.0         34.3      4          NaN   \n",
       "4          2            3.03          14.0         32.0     13          NaN   \n",
       "7          2             NaN          24.0          NaN     22          NaN   \n",
       "9          3            2.50           9.0         43.6      7          NaN   \n",
       "...      ...             ...           ...          ...    ...          ...   \n",
       "23632      2            2.50           5.0         29.0      2          NaN   \n",
       "23639      3            3.05          15.0         63.0     12          NaN   \n",
       "23641      2             NaN           5.0         31.0      2          NaN   \n",
       "23642      2            2.75          25.0         40.3      7          NaN   \n",
       "23645      3            3.70           5.0         73.3      3          NaN   \n",
       "\n",
       "       studio  open_plan  kitchen_area  balcony    locality_name  \\\n",
       "0       False      False         25.00        0  Санкт-Петербург   \n",
       "2       False      False          8.30        0  Санкт-Петербург   \n",
       "4       False      False         41.00        0  Санкт-Петербург   \n",
       "7       False      False         18.90        2  Санкт-Петербург   \n",
       "9       False      False          6.50        2  Санкт-Петербург   \n",
       "...       ...        ...           ...      ...              ...   \n",
       "23632   False      False          6.00        0  Санкт-Петербург   \n",
       "23639   False      False         15.00        0  Санкт-Петербург   \n",
       "23641   False      False          6.00        0  Санкт-Петербург   \n",
       "23642   False      False         10.60        1  Санкт-Петербург   \n",
       "23645   False      False         13.83        0  Санкт-Петербург   \n",
       "\n",
       "       airports_nearest  cityCenters_nearest  parks_around3000  parks_nearest  \\\n",
       "0                 18863                16028                 1            482   \n",
       "2                 21741                13933                 1             90   \n",
       "4                 31856                 8098                 2            112   \n",
       "7                 23982                11634                 0            NaN   \n",
       "9                 50898                15008                 0            NaN   \n",
       "...                 ...                  ...               ...            ...   \n",
       "23632             28323                 7262                 1            497   \n",
       "23639             15632                14428                 0            NaN   \n",
       "23641             20151                 6263                 1            300   \n",
       "23642             19424                 4489                 0            NaN   \n",
       "23645             24665                 4232                 1            796   \n",
       "\n",
       "       ponds_around3000  ponds_nearest  days_exposition  price_for_meter  \\\n",
       "0                     2            755              NaN    120370.370370   \n",
       "2                     2            574            558.0     92785.714286   \n",
       "4                     1             48            121.0    100000.000000   \n",
       "7                     0            NaN              NaN    110544.692737   \n",
       "9                     0            NaN            289.0     88524.590164   \n",
       "...                 ...            ...              ...              ...   \n",
       "23632                 2            660             80.0    122093.023256   \n",
       "23639                 0            NaN             23.0     91089.108911   \n",
       "23641                 0            NaN             15.0    105769.230769   \n",
       "23642                 1            806            519.0    129903.978052   \n",
       "23645                 3            381              NaN     72490.845228   \n",
       "\n",
       "      datetime_exposition  weekday  year  month  floor_group  \\\n",
       "0              2019-03-07        3  2019      3          1.0   \n",
       "2              2015-08-20        3  2015      8          1.0   \n",
       "4              2018-06-19        1  2018      6          1.0   \n",
       "7              2019-04-18        3  2019      4          1.0   \n",
       "9              2017-02-26        6  2017      2          1.0   \n",
       "...                   ...      ...   ...    ...          ...   \n",
       "23632          2018-05-11        4  2018      5          1.0   \n",
       "23639          2019-04-01        0  2019      4          1.0   \n",
       "23641          2018-07-19        3  2018      7          1.0   \n",
       "23642          2016-10-13        3  2016     10          1.0   \n",
       "23645          2017-03-21        1  2017      3          1.0   \n",
       "\n",
       "       living_area_for_total  kitchen_area_for_total  \n",
       "0                   0.472222                0.231481  \n",
       "2                   0.612500                0.148214  \n",
       "4                   0.320000                0.410000  \n",
       "7                        NaN                0.263966  \n",
       "9                   0.714754                0.106557  \n",
       "...                      ...                     ...  \n",
       "23632               0.674419                0.139535  \n",
       "23639               0.623762                0.148515  \n",
       "23641               0.596154                0.115385  \n",
       "23642               0.552812                0.145405  \n",
       "23645               0.547792                0.103356  \n",
       "\n",
       "[9232 rows x 31 columns]"
      ]
     },
     "execution_count": 41,
     "metadata": {},
     "output_type": "execute_result"
    }
   ],
   "source": [
    "#выясняем, какая область входит в центр\n",
    "#для начала выделяем квартиры в Санкт-Петербурге и создаем столбец с расстоянием до центра в километрах,\n",
    "#округляем до целых значений\n",
    "\n",
    "df_SPB = df.query('locality_name in (\"Санкт-Петербург\")')\n",
    "df_SPB"
   ]
  },
  {
   "cell_type": "code",
   "execution_count": 42,
   "metadata": {},
   "outputs": [
    {
     "name": "stderr",
     "output_type": "stream",
     "text": [
      "/opt/conda/lib/python3.7/site-packages/ipykernel_launcher.py:2: SettingWithCopyWarning: \n",
      "A value is trying to be set on a copy of a slice from a DataFrame.\n",
      "Try using .loc[row_indexer,col_indexer] = value instead\n",
      "\n",
      "See the caveats in the documentation: http://pandas.pydata.org/pandas-docs/stable/user_guide/indexing.html#returning-a-view-versus-a-copy\n",
      "  \n",
      "/opt/conda/lib/python3.7/site-packages/ipykernel_launcher.py:3: SettingWithCopyWarning: \n",
      "A value is trying to be set on a copy of a slice from a DataFrame.\n",
      "Try using .loc[row_indexer,col_indexer] = value instead\n",
      "\n",
      "See the caveats in the documentation: http://pandas.pydata.org/pandas-docs/stable/user_guide/indexing.html#returning-a-view-versus-a-copy\n",
      "  This is separate from the ipykernel package so we can avoid doing imports until\n",
      "/opt/conda/lib/python3.7/site-packages/ipykernel_launcher.py:4: SettingWithCopyWarning: \n",
      "A value is trying to be set on a copy of a slice from a DataFrame.\n",
      "Try using .loc[row_indexer,col_indexer] = value instead\n",
      "\n",
      "See the caveats in the documentation: http://pandas.pydata.org/pandas-docs/stable/user_guide/indexing.html#returning-a-view-versus-a-copy\n",
      "  after removing the cwd from sys.path.\n"
     ]
    },
    {
     "data": {
      "text/html": [
       "<div>\n",
       "<style scoped>\n",
       "    .dataframe tbody tr th:only-of-type {\n",
       "        vertical-align: middle;\n",
       "    }\n",
       "\n",
       "    .dataframe tbody tr th {\n",
       "        vertical-align: top;\n",
       "    }\n",
       "\n",
       "    .dataframe thead th {\n",
       "        text-align: right;\n",
       "    }\n",
       "</style>\n",
       "<table border=\"1\" class=\"dataframe\">\n",
       "  <thead>\n",
       "    <tr style=\"text-align: right;\">\n",
       "      <th></th>\n",
       "      <th>index</th>\n",
       "      <th>total_images</th>\n",
       "      <th>last_price</th>\n",
       "      <th>total_area</th>\n",
       "      <th>first_day_exposition</th>\n",
       "      <th>rooms</th>\n",
       "      <th>ceiling_height</th>\n",
       "      <th>floors_total</th>\n",
       "      <th>living_area</th>\n",
       "      <th>floor</th>\n",
       "      <th>is_apartment</th>\n",
       "      <th>studio</th>\n",
       "      <th>open_plan</th>\n",
       "      <th>kitchen_area</th>\n",
       "      <th>balcony</th>\n",
       "      <th>locality_name</th>\n",
       "      <th>airports_nearest</th>\n",
       "      <th>cityCenters_nearest</th>\n",
       "      <th>parks_around3000</th>\n",
       "      <th>parks_nearest</th>\n",
       "      <th>ponds_around3000</th>\n",
       "      <th>ponds_nearest</th>\n",
       "      <th>days_exposition</th>\n",
       "      <th>price_for_meter</th>\n",
       "      <th>datetime_exposition</th>\n",
       "      <th>weekday</th>\n",
       "      <th>year</th>\n",
       "      <th>month</th>\n",
       "      <th>floor_group</th>\n",
       "      <th>living_area_for_total</th>\n",
       "      <th>kitchen_area_for_total</th>\n",
       "      <th>dist_to_center</th>\n",
       "    </tr>\n",
       "  </thead>\n",
       "  <tbody>\n",
       "    <tr>\n",
       "      <td>0</td>\n",
       "      <td>0</td>\n",
       "      <td>20</td>\n",
       "      <td>13000000</td>\n",
       "      <td>108.00</td>\n",
       "      <td>2019-03-07T00:00:00</td>\n",
       "      <td>3</td>\n",
       "      <td>2.70</td>\n",
       "      <td>16.0</td>\n",
       "      <td>51.0</td>\n",
       "      <td>8</td>\n",
       "      <td>NaN</td>\n",
       "      <td>False</td>\n",
       "      <td>False</td>\n",
       "      <td>25.00</td>\n",
       "      <td>0</td>\n",
       "      <td>Санкт-Петербург</td>\n",
       "      <td>18863</td>\n",
       "      <td>16028</td>\n",
       "      <td>1</td>\n",
       "      <td>482</td>\n",
       "      <td>2</td>\n",
       "      <td>755</td>\n",
       "      <td>NaN</td>\n",
       "      <td>120370.370370</td>\n",
       "      <td>2019-03-07</td>\n",
       "      <td>3</td>\n",
       "      <td>2019</td>\n",
       "      <td>3</td>\n",
       "      <td>1.0</td>\n",
       "      <td>0.472222</td>\n",
       "      <td>0.231481</td>\n",
       "      <td>16.0</td>\n",
       "    </tr>\n",
       "    <tr>\n",
       "      <td>2</td>\n",
       "      <td>2</td>\n",
       "      <td>10</td>\n",
       "      <td>5196000</td>\n",
       "      <td>56.00</td>\n",
       "      <td>2015-08-20T00:00:00</td>\n",
       "      <td>2</td>\n",
       "      <td>NaN</td>\n",
       "      <td>5.0</td>\n",
       "      <td>34.3</td>\n",
       "      <td>4</td>\n",
       "      <td>NaN</td>\n",
       "      <td>False</td>\n",
       "      <td>False</td>\n",
       "      <td>8.30</td>\n",
       "      <td>0</td>\n",
       "      <td>Санкт-Петербург</td>\n",
       "      <td>21741</td>\n",
       "      <td>13933</td>\n",
       "      <td>1</td>\n",
       "      <td>90</td>\n",
       "      <td>2</td>\n",
       "      <td>574</td>\n",
       "      <td>558.0</td>\n",
       "      <td>92785.714286</td>\n",
       "      <td>2015-08-20</td>\n",
       "      <td>3</td>\n",
       "      <td>2015</td>\n",
       "      <td>8</td>\n",
       "      <td>1.0</td>\n",
       "      <td>0.612500</td>\n",
       "      <td>0.148214</td>\n",
       "      <td>14.0</td>\n",
       "    </tr>\n",
       "    <tr>\n",
       "      <td>4</td>\n",
       "      <td>4</td>\n",
       "      <td>2</td>\n",
       "      <td>10000000</td>\n",
       "      <td>100.00</td>\n",
       "      <td>2018-06-19T00:00:00</td>\n",
       "      <td>2</td>\n",
       "      <td>3.03</td>\n",
       "      <td>14.0</td>\n",
       "      <td>32.0</td>\n",
       "      <td>13</td>\n",
       "      <td>NaN</td>\n",
       "      <td>False</td>\n",
       "      <td>False</td>\n",
       "      <td>41.00</td>\n",
       "      <td>0</td>\n",
       "      <td>Санкт-Петербург</td>\n",
       "      <td>31856</td>\n",
       "      <td>8098</td>\n",
       "      <td>2</td>\n",
       "      <td>112</td>\n",
       "      <td>1</td>\n",
       "      <td>48</td>\n",
       "      <td>121.0</td>\n",
       "      <td>100000.000000</td>\n",
       "      <td>2018-06-19</td>\n",
       "      <td>1</td>\n",
       "      <td>2018</td>\n",
       "      <td>6</td>\n",
       "      <td>1.0</td>\n",
       "      <td>0.320000</td>\n",
       "      <td>0.410000</td>\n",
       "      <td>8.0</td>\n",
       "    </tr>\n",
       "    <tr>\n",
       "      <td>7</td>\n",
       "      <td>7</td>\n",
       "      <td>5</td>\n",
       "      <td>7915000</td>\n",
       "      <td>71.60</td>\n",
       "      <td>2019-04-18T00:00:00</td>\n",
       "      <td>2</td>\n",
       "      <td>NaN</td>\n",
       "      <td>24.0</td>\n",
       "      <td>NaN</td>\n",
       "      <td>22</td>\n",
       "      <td>NaN</td>\n",
       "      <td>False</td>\n",
       "      <td>False</td>\n",
       "      <td>18.90</td>\n",
       "      <td>2</td>\n",
       "      <td>Санкт-Петербург</td>\n",
       "      <td>23982</td>\n",
       "      <td>11634</td>\n",
       "      <td>0</td>\n",
       "      <td>NaN</td>\n",
       "      <td>0</td>\n",
       "      <td>NaN</td>\n",
       "      <td>NaN</td>\n",
       "      <td>110544.692737</td>\n",
       "      <td>2019-04-18</td>\n",
       "      <td>3</td>\n",
       "      <td>2019</td>\n",
       "      <td>4</td>\n",
       "      <td>1.0</td>\n",
       "      <td>NaN</td>\n",
       "      <td>0.263966</td>\n",
       "      <td>12.0</td>\n",
       "    </tr>\n",
       "    <tr>\n",
       "      <td>9</td>\n",
       "      <td>9</td>\n",
       "      <td>18</td>\n",
       "      <td>5400000</td>\n",
       "      <td>61.00</td>\n",
       "      <td>2017-02-26T00:00:00</td>\n",
       "      <td>3</td>\n",
       "      <td>2.50</td>\n",
       "      <td>9.0</td>\n",
       "      <td>43.6</td>\n",
       "      <td>7</td>\n",
       "      <td>NaN</td>\n",
       "      <td>False</td>\n",
       "      <td>False</td>\n",
       "      <td>6.50</td>\n",
       "      <td>2</td>\n",
       "      <td>Санкт-Петербург</td>\n",
       "      <td>50898</td>\n",
       "      <td>15008</td>\n",
       "      <td>0</td>\n",
       "      <td>NaN</td>\n",
       "      <td>0</td>\n",
       "      <td>NaN</td>\n",
       "      <td>289.0</td>\n",
       "      <td>88524.590164</td>\n",
       "      <td>2017-02-26</td>\n",
       "      <td>6</td>\n",
       "      <td>2017</td>\n",
       "      <td>2</td>\n",
       "      <td>1.0</td>\n",
       "      <td>0.714754</td>\n",
       "      <td>0.106557</td>\n",
       "      <td>15.0</td>\n",
       "    </tr>\n",
       "    <tr>\n",
       "      <td>...</td>\n",
       "      <td>...</td>\n",
       "      <td>...</td>\n",
       "      <td>...</td>\n",
       "      <td>...</td>\n",
       "      <td>...</td>\n",
       "      <td>...</td>\n",
       "      <td>...</td>\n",
       "      <td>...</td>\n",
       "      <td>...</td>\n",
       "      <td>...</td>\n",
       "      <td>...</td>\n",
       "      <td>...</td>\n",
       "      <td>...</td>\n",
       "      <td>...</td>\n",
       "      <td>...</td>\n",
       "      <td>...</td>\n",
       "      <td>...</td>\n",
       "      <td>...</td>\n",
       "      <td>...</td>\n",
       "      <td>...</td>\n",
       "      <td>...</td>\n",
       "      <td>...</td>\n",
       "      <td>...</td>\n",
       "      <td>...</td>\n",
       "      <td>...</td>\n",
       "      <td>...</td>\n",
       "      <td>...</td>\n",
       "      <td>...</td>\n",
       "      <td>...</td>\n",
       "      <td>...</td>\n",
       "      <td>...</td>\n",
       "      <td>...</td>\n",
       "    </tr>\n",
       "    <tr>\n",
       "      <td>23632</td>\n",
       "      <td>23681</td>\n",
       "      <td>13</td>\n",
       "      <td>5250000</td>\n",
       "      <td>43.00</td>\n",
       "      <td>2018-05-11T00:00:00</td>\n",
       "      <td>2</td>\n",
       "      <td>2.50</td>\n",
       "      <td>5.0</td>\n",
       "      <td>29.0</td>\n",
       "      <td>2</td>\n",
       "      <td>NaN</td>\n",
       "      <td>False</td>\n",
       "      <td>False</td>\n",
       "      <td>6.00</td>\n",
       "      <td>0</td>\n",
       "      <td>Санкт-Петербург</td>\n",
       "      <td>28323</td>\n",
       "      <td>7262</td>\n",
       "      <td>1</td>\n",
       "      <td>497</td>\n",
       "      <td>2</td>\n",
       "      <td>660</td>\n",
       "      <td>80.0</td>\n",
       "      <td>122093.023256</td>\n",
       "      <td>2018-05-11</td>\n",
       "      <td>4</td>\n",
       "      <td>2018</td>\n",
       "      <td>5</td>\n",
       "      <td>1.0</td>\n",
       "      <td>0.674419</td>\n",
       "      <td>0.139535</td>\n",
       "      <td>7.0</td>\n",
       "    </tr>\n",
       "    <tr>\n",
       "      <td>23639</td>\n",
       "      <td>23688</td>\n",
       "      <td>19</td>\n",
       "      <td>9200000</td>\n",
       "      <td>101.00</td>\n",
       "      <td>2019-04-01T00:00:00</td>\n",
       "      <td>3</td>\n",
       "      <td>3.05</td>\n",
       "      <td>15.0</td>\n",
       "      <td>63.0</td>\n",
       "      <td>12</td>\n",
       "      <td>NaN</td>\n",
       "      <td>False</td>\n",
       "      <td>False</td>\n",
       "      <td>15.00</td>\n",
       "      <td>0</td>\n",
       "      <td>Санкт-Петербург</td>\n",
       "      <td>15632</td>\n",
       "      <td>14428</td>\n",
       "      <td>0</td>\n",
       "      <td>NaN</td>\n",
       "      <td>0</td>\n",
       "      <td>NaN</td>\n",
       "      <td>23.0</td>\n",
       "      <td>91089.108911</td>\n",
       "      <td>2019-04-01</td>\n",
       "      <td>0</td>\n",
       "      <td>2019</td>\n",
       "      <td>4</td>\n",
       "      <td>1.0</td>\n",
       "      <td>0.623762</td>\n",
       "      <td>0.148515</td>\n",
       "      <td>14.0</td>\n",
       "    </tr>\n",
       "    <tr>\n",
       "      <td>23641</td>\n",
       "      <td>23690</td>\n",
       "      <td>3</td>\n",
       "      <td>5500000</td>\n",
       "      <td>52.00</td>\n",
       "      <td>2018-07-19T00:00:00</td>\n",
       "      <td>2</td>\n",
       "      <td>NaN</td>\n",
       "      <td>5.0</td>\n",
       "      <td>31.0</td>\n",
       "      <td>2</td>\n",
       "      <td>NaN</td>\n",
       "      <td>False</td>\n",
       "      <td>False</td>\n",
       "      <td>6.00</td>\n",
       "      <td>0</td>\n",
       "      <td>Санкт-Петербург</td>\n",
       "      <td>20151</td>\n",
       "      <td>6263</td>\n",
       "      <td>1</td>\n",
       "      <td>300</td>\n",
       "      <td>0</td>\n",
       "      <td>NaN</td>\n",
       "      <td>15.0</td>\n",
       "      <td>105769.230769</td>\n",
       "      <td>2018-07-19</td>\n",
       "      <td>3</td>\n",
       "      <td>2018</td>\n",
       "      <td>7</td>\n",
       "      <td>1.0</td>\n",
       "      <td>0.596154</td>\n",
       "      <td>0.115385</td>\n",
       "      <td>6.0</td>\n",
       "    </tr>\n",
       "    <tr>\n",
       "      <td>23642</td>\n",
       "      <td>23691</td>\n",
       "      <td>11</td>\n",
       "      <td>9470000</td>\n",
       "      <td>72.90</td>\n",
       "      <td>2016-10-13T00:00:00</td>\n",
       "      <td>2</td>\n",
       "      <td>2.75</td>\n",
       "      <td>25.0</td>\n",
       "      <td>40.3</td>\n",
       "      <td>7</td>\n",
       "      <td>NaN</td>\n",
       "      <td>False</td>\n",
       "      <td>False</td>\n",
       "      <td>10.60</td>\n",
       "      <td>1</td>\n",
       "      <td>Санкт-Петербург</td>\n",
       "      <td>19424</td>\n",
       "      <td>4489</td>\n",
       "      <td>0</td>\n",
       "      <td>NaN</td>\n",
       "      <td>1</td>\n",
       "      <td>806</td>\n",
       "      <td>519.0</td>\n",
       "      <td>129903.978052</td>\n",
       "      <td>2016-10-13</td>\n",
       "      <td>3</td>\n",
       "      <td>2016</td>\n",
       "      <td>10</td>\n",
       "      <td>1.0</td>\n",
       "      <td>0.552812</td>\n",
       "      <td>0.145405</td>\n",
       "      <td>4.0</td>\n",
       "    </tr>\n",
       "    <tr>\n",
       "      <td>23645</td>\n",
       "      <td>23694</td>\n",
       "      <td>9</td>\n",
       "      <td>9700000</td>\n",
       "      <td>133.81</td>\n",
       "      <td>2017-03-21T00:00:00</td>\n",
       "      <td>3</td>\n",
       "      <td>3.70</td>\n",
       "      <td>5.0</td>\n",
       "      <td>73.3</td>\n",
       "      <td>3</td>\n",
       "      <td>NaN</td>\n",
       "      <td>False</td>\n",
       "      <td>False</td>\n",
       "      <td>13.83</td>\n",
       "      <td>0</td>\n",
       "      <td>Санкт-Петербург</td>\n",
       "      <td>24665</td>\n",
       "      <td>4232</td>\n",
       "      <td>1</td>\n",
       "      <td>796</td>\n",
       "      <td>3</td>\n",
       "      <td>381</td>\n",
       "      <td>NaN</td>\n",
       "      <td>72490.845228</td>\n",
       "      <td>2017-03-21</td>\n",
       "      <td>1</td>\n",
       "      <td>2017</td>\n",
       "      <td>3</td>\n",
       "      <td>1.0</td>\n",
       "      <td>0.547792</td>\n",
       "      <td>0.103356</td>\n",
       "      <td>4.0</td>\n",
       "    </tr>\n",
       "  </tbody>\n",
       "</table>\n",
       "<p>9232 rows × 32 columns</p>\n",
       "</div>"
      ],
      "text/plain": [
       "       index  total_images  last_price  total_area first_day_exposition  \\\n",
       "0          0            20    13000000      108.00  2019-03-07T00:00:00   \n",
       "2          2            10     5196000       56.00  2015-08-20T00:00:00   \n",
       "4          4             2    10000000      100.00  2018-06-19T00:00:00   \n",
       "7          7             5     7915000       71.60  2019-04-18T00:00:00   \n",
       "9          9            18     5400000       61.00  2017-02-26T00:00:00   \n",
       "...      ...           ...         ...         ...                  ...   \n",
       "23632  23681            13     5250000       43.00  2018-05-11T00:00:00   \n",
       "23639  23688            19     9200000      101.00  2019-04-01T00:00:00   \n",
       "23641  23690             3     5500000       52.00  2018-07-19T00:00:00   \n",
       "23642  23691            11     9470000       72.90  2016-10-13T00:00:00   \n",
       "23645  23694             9     9700000      133.81  2017-03-21T00:00:00   \n",
       "\n",
       "       rooms  ceiling_height  floors_total  living_area  floor is_apartment  \\\n",
       "0          3            2.70          16.0         51.0      8          NaN   \n",
       "2          2             NaN           5.0         34.3      4          NaN   \n",
       "4          2            3.03          14.0         32.0     13          NaN   \n",
       "7          2             NaN          24.0          NaN     22          NaN   \n",
       "9          3            2.50           9.0         43.6      7          NaN   \n",
       "...      ...             ...           ...          ...    ...          ...   \n",
       "23632      2            2.50           5.0         29.0      2          NaN   \n",
       "23639      3            3.05          15.0         63.0     12          NaN   \n",
       "23641      2             NaN           5.0         31.0      2          NaN   \n",
       "23642      2            2.75          25.0         40.3      7          NaN   \n",
       "23645      3            3.70           5.0         73.3      3          NaN   \n",
       "\n",
       "       studio  open_plan  kitchen_area  balcony    locality_name  \\\n",
       "0       False      False         25.00        0  Санкт-Петербург   \n",
       "2       False      False          8.30        0  Санкт-Петербург   \n",
       "4       False      False         41.00        0  Санкт-Петербург   \n",
       "7       False      False         18.90        2  Санкт-Петербург   \n",
       "9       False      False          6.50        2  Санкт-Петербург   \n",
       "...       ...        ...           ...      ...              ...   \n",
       "23632   False      False          6.00        0  Санкт-Петербург   \n",
       "23639   False      False         15.00        0  Санкт-Петербург   \n",
       "23641   False      False          6.00        0  Санкт-Петербург   \n",
       "23642   False      False         10.60        1  Санкт-Петербург   \n",
       "23645   False      False         13.83        0  Санкт-Петербург   \n",
       "\n",
       "       airports_nearest  cityCenters_nearest  parks_around3000  parks_nearest  \\\n",
       "0                 18863                16028                 1            482   \n",
       "2                 21741                13933                 1             90   \n",
       "4                 31856                 8098                 2            112   \n",
       "7                 23982                11634                 0            NaN   \n",
       "9                 50898                15008                 0            NaN   \n",
       "...                 ...                  ...               ...            ...   \n",
       "23632             28323                 7262                 1            497   \n",
       "23639             15632                14428                 0            NaN   \n",
       "23641             20151                 6263                 1            300   \n",
       "23642             19424                 4489                 0            NaN   \n",
       "23645             24665                 4232                 1            796   \n",
       "\n",
       "       ponds_around3000  ponds_nearest  days_exposition  price_for_meter  \\\n",
       "0                     2            755              NaN    120370.370370   \n",
       "2                     2            574            558.0     92785.714286   \n",
       "4                     1             48            121.0    100000.000000   \n",
       "7                     0            NaN              NaN    110544.692737   \n",
       "9                     0            NaN            289.0     88524.590164   \n",
       "...                 ...            ...              ...              ...   \n",
       "23632                 2            660             80.0    122093.023256   \n",
       "23639                 0            NaN             23.0     91089.108911   \n",
       "23641                 0            NaN             15.0    105769.230769   \n",
       "23642                 1            806            519.0    129903.978052   \n",
       "23645                 3            381              NaN     72490.845228   \n",
       "\n",
       "      datetime_exposition  weekday  year  month  floor_group  \\\n",
       "0              2019-03-07        3  2019      3          1.0   \n",
       "2              2015-08-20        3  2015      8          1.0   \n",
       "4              2018-06-19        1  2018      6          1.0   \n",
       "7              2019-04-18        3  2019      4          1.0   \n",
       "9              2017-02-26        6  2017      2          1.0   \n",
       "...                   ...      ...   ...    ...          ...   \n",
       "23632          2018-05-11        4  2018      5          1.0   \n",
       "23639          2019-04-01        0  2019      4          1.0   \n",
       "23641          2018-07-19        3  2018      7          1.0   \n",
       "23642          2016-10-13        3  2016     10          1.0   \n",
       "23645          2017-03-21        1  2017      3          1.0   \n",
       "\n",
       "       living_area_for_total  kitchen_area_for_total  dist_to_center  \n",
       "0                   0.472222                0.231481            16.0  \n",
       "2                   0.612500                0.148214            14.0  \n",
       "4                   0.320000                0.410000             8.0  \n",
       "7                        NaN                0.263966            12.0  \n",
       "9                   0.714754                0.106557            15.0  \n",
       "...                      ...                     ...             ...  \n",
       "23632               0.674419                0.139535             7.0  \n",
       "23639               0.623762                0.148515            14.0  \n",
       "23641               0.596154                0.115385             6.0  \n",
       "23642               0.552812                0.145405             4.0  \n",
       "23645               0.547792                0.103356             4.0  \n",
       "\n",
       "[9232 rows x 32 columns]"
      ]
     },
     "execution_count": 42,
     "metadata": {},
     "output_type": "execute_result"
    }
   ],
   "source": [
    "#и создаем столбец с расстоянием до центра в километрах, округляем до целых значений\n",
    "df_SPB['dist_to_center'] = df_SPB['cityCenters_nearest']\n",
    "df_SPB['dist_to_center'] = df_SPB['dist_to_center']/1000 \n",
    "df_SPB['dist_to_center'] = df_SPB['dist_to_center'].round() \n",
    "df_SPB"
   ]
  },
  {
   "cell_type": "code",
   "execution_count": 43,
   "metadata": {},
   "outputs": [
    {
     "data": {
      "text/html": [
       "<div>\n",
       "<style scoped>\n",
       "    .dataframe tbody tr th:only-of-type {\n",
       "        vertical-align: middle;\n",
       "    }\n",
       "\n",
       "    .dataframe tbody tr th {\n",
       "        vertical-align: top;\n",
       "    }\n",
       "\n",
       "    .dataframe thead th {\n",
       "        text-align: right;\n",
       "    }\n",
       "</style>\n",
       "<table border=\"1\" class=\"dataframe\">\n",
       "  <thead>\n",
       "    <tr style=\"text-align: right;\">\n",
       "      <th></th>\n",
       "      <th>last_price</th>\n",
       "    </tr>\n",
       "    <tr>\n",
       "      <th>dist_to_center</th>\n",
       "      <th></th>\n",
       "    </tr>\n",
       "  </thead>\n",
       "  <tbody>\n",
       "    <tr>\n",
       "      <td>0.0</td>\n",
       "      <td>9368000</td>\n",
       "    </tr>\n",
       "    <tr>\n",
       "      <td>1.0</td>\n",
       "      <td>10618120</td>\n",
       "    </tr>\n",
       "    <tr>\n",
       "      <td>2.0</td>\n",
       "      <td>9970032</td>\n",
       "    </tr>\n",
       "    <tr>\n",
       "      <td>3.0</td>\n",
       "      <td>9017416</td>\n",
       "    </tr>\n",
       "    <tr>\n",
       "      <td>4.0</td>\n",
       "      <td>9524947</td>\n",
       "    </tr>\n",
       "    <tr>\n",
       "      <td>5.0</td>\n",
       "      <td>9589446</td>\n",
       "    </tr>\n",
       "    <tr>\n",
       "      <td>6.0</td>\n",
       "      <td>8997919</td>\n",
       "    </tr>\n",
       "    <tr>\n",
       "      <td>7.0</td>\n",
       "      <td>8272629</td>\n",
       "    </tr>\n",
       "    <tr>\n",
       "      <td>8.0</td>\n",
       "      <td>8714977</td>\n",
       "    </tr>\n",
       "    <tr>\n",
       "      <td>9.0</td>\n",
       "      <td>7488454</td>\n",
       "    </tr>\n",
       "    <tr>\n",
       "      <td>10.0</td>\n",
       "      <td>6969891</td>\n",
       "    </tr>\n",
       "    <tr>\n",
       "      <td>11.0</td>\n",
       "      <td>6576276</td>\n",
       "    </tr>\n",
       "    <tr>\n",
       "      <td>12.0</td>\n",
       "      <td>6557613</td>\n",
       "    </tr>\n",
       "    <tr>\n",
       "      <td>13.0</td>\n",
       "      <td>6675905</td>\n",
       "    </tr>\n",
       "    <tr>\n",
       "      <td>14.0</td>\n",
       "      <td>6470479</td>\n",
       "    </tr>\n",
       "    <tr>\n",
       "      <td>15.0</td>\n",
       "      <td>6676242</td>\n",
       "    </tr>\n",
       "    <tr>\n",
       "      <td>16.0</td>\n",
       "      <td>6035407</td>\n",
       "    </tr>\n",
       "    <tr>\n",
       "      <td>17.0</td>\n",
       "      <td>5901483</td>\n",
       "    </tr>\n",
       "    <tr>\n",
       "      <td>18.0</td>\n",
       "      <td>5591688</td>\n",
       "    </tr>\n",
       "    <tr>\n",
       "      <td>19.0</td>\n",
       "      <td>5914379</td>\n",
       "    </tr>\n",
       "    <tr>\n",
       "      <td>20.0</td>\n",
       "      <td>6861296</td>\n",
       "    </tr>\n",
       "    <tr>\n",
       "      <td>21.0</td>\n",
       "      <td>6157999</td>\n",
       "    </tr>\n",
       "    <tr>\n",
       "      <td>22.0</td>\n",
       "      <td>6299723</td>\n",
       "    </tr>\n",
       "    <tr>\n",
       "      <td>23.0</td>\n",
       "      <td>5667659</td>\n",
       "    </tr>\n",
       "    <tr>\n",
       "      <td>24.0</td>\n",
       "      <td>4894200</td>\n",
       "    </tr>\n",
       "    <tr>\n",
       "      <td>25.0</td>\n",
       "      <td>4910909</td>\n",
       "    </tr>\n",
       "    <tr>\n",
       "      <td>26.0</td>\n",
       "      <td>5371846</td>\n",
       "    </tr>\n",
       "    <tr>\n",
       "      <td>27.0</td>\n",
       "      <td>14350000</td>\n",
       "    </tr>\n",
       "    <tr>\n",
       "      <td>28.0</td>\n",
       "      <td>6008500</td>\n",
       "    </tr>\n",
       "    <tr>\n",
       "      <td>29.0</td>\n",
       "      <td>4650000</td>\n",
       "    </tr>\n",
       "  </tbody>\n",
       "</table>\n",
       "</div>"
      ],
      "text/plain": [
       "                last_price\n",
       "dist_to_center            \n",
       "0.0                9368000\n",
       "1.0               10618120\n",
       "2.0                9970032\n",
       "3.0                9017416\n",
       "4.0                9524947\n",
       "5.0                9589446\n",
       "6.0                8997919\n",
       "7.0                8272629\n",
       "8.0                8714977\n",
       "9.0                7488454\n",
       "10.0               6969891\n",
       "11.0               6576276\n",
       "12.0               6557613\n",
       "13.0               6675905\n",
       "14.0               6470479\n",
       "15.0               6676242\n",
       "16.0               6035407\n",
       "17.0               5901483\n",
       "18.0               5591688\n",
       "19.0               5914379\n",
       "20.0               6861296\n",
       "21.0               6157999\n",
       "22.0               6299723\n",
       "23.0               5667659\n",
       "24.0               4894200\n",
       "25.0               4910909\n",
       "26.0               5371846\n",
       "27.0              14350000\n",
       "28.0               6008500\n",
       "29.0               4650000"
      ]
     },
     "execution_count": 43,
     "metadata": {},
     "output_type": "execute_result"
    }
   ],
   "source": [
    "#посчитаем среднюю цену для каждого километра с помощью сводной таблицы\n",
    "price_for_km = df_SPB.pivot_table(index = 'dist_to_center',values = 'last_price')\n",
    "price_for_km['last_price'] = price_for_km['last_price'].round().astype('int')\n",
    "price_for_km"
   ]
  },
  {
   "cell_type": "code",
   "execution_count": 44,
   "metadata": {},
   "outputs": [
    {
     "data": {
      "text/plain": [
       "<matplotlib.axes._subplots.AxesSubplot at 0x7fa9cba9c710>"
      ]
     },
     "execution_count": 44,
     "metadata": {},
     "output_type": "execute_result"
    },
    {
     "data": {
      "image/png": "[encoded data removed]",
      "text/plain": [
       "<Figure size 432x288 with 1 Axes>"
      ]
     },
     "metadata": {
      "needs_background": "light"
     },
     "output_type": "display_data"
    }
   ],
   "source": [
    "#Построим график: он должен показывать, как цена зависит от удалённости от центра\n",
    "price_for_km.plot()"
   ]
  },
  {
   "cell_type": "markdown",
   "metadata": {},
   "source": [
    "из графика видно что центр находится на расстоянии до 8 километров"
   ]
  },
  {
   "cell_type": "code",
   "execution_count": 45,
   "metadata": {},
   "outputs": [
    {
     "data": {
      "text/html": [
       "<div>\n",
       "<style scoped>\n",
       "    .dataframe tbody tr th:only-of-type {\n",
       "        vertical-align: middle;\n",
       "    }\n",
       "\n",
       "    .dataframe tbody tr th {\n",
       "        vertical-align: top;\n",
       "    }\n",
       "\n",
       "    .dataframe thead th {\n",
       "        text-align: right;\n",
       "    }\n",
       "</style>\n",
       "<table border=\"1\" class=\"dataframe\">\n",
       "  <thead>\n",
       "    <tr style=\"text-align: right;\">\n",
       "      <th></th>\n",
       "      <th>index</th>\n",
       "      <th>total_images</th>\n",
       "      <th>last_price</th>\n",
       "      <th>total_area</th>\n",
       "      <th>first_day_exposition</th>\n",
       "      <th>rooms</th>\n",
       "      <th>ceiling_height</th>\n",
       "      <th>floors_total</th>\n",
       "      <th>living_area</th>\n",
       "      <th>floor</th>\n",
       "      <th>is_apartment</th>\n",
       "      <th>studio</th>\n",
       "      <th>open_plan</th>\n",
       "      <th>kitchen_area</th>\n",
       "      <th>balcony</th>\n",
       "      <th>locality_name</th>\n",
       "      <th>airports_nearest</th>\n",
       "      <th>cityCenters_nearest</th>\n",
       "      <th>parks_around3000</th>\n",
       "      <th>parks_nearest</th>\n",
       "      <th>ponds_around3000</th>\n",
       "      <th>ponds_nearest</th>\n",
       "      <th>days_exposition</th>\n",
       "      <th>price_for_meter</th>\n",
       "      <th>datetime_exposition</th>\n",
       "      <th>weekday</th>\n",
       "      <th>year</th>\n",
       "      <th>month</th>\n",
       "      <th>floor_group</th>\n",
       "      <th>living_area_for_total</th>\n",
       "      <th>kitchen_area_for_total</th>\n",
       "      <th>dist_to_center</th>\n",
       "    </tr>\n",
       "  </thead>\n",
       "  <tbody>\n",
       "    <tr>\n",
       "      <td>4</td>\n",
       "      <td>4</td>\n",
       "      <td>2</td>\n",
       "      <td>10000000</td>\n",
       "      <td>100.00</td>\n",
       "      <td>2018-06-19T00:00:00</td>\n",
       "      <td>2</td>\n",
       "      <td>3.03</td>\n",
       "      <td>14.0</td>\n",
       "      <td>32.0</td>\n",
       "      <td>13</td>\n",
       "      <td>NaN</td>\n",
       "      <td>False</td>\n",
       "      <td>False</td>\n",
       "      <td>41.00</td>\n",
       "      <td>0</td>\n",
       "      <td>Санкт-Петербург</td>\n",
       "      <td>31856</td>\n",
       "      <td>8098</td>\n",
       "      <td>2</td>\n",
       "      <td>112</td>\n",
       "      <td>1</td>\n",
       "      <td>48</td>\n",
       "      <td>121.0</td>\n",
       "      <td>100000.000000</td>\n",
       "      <td>2018-06-19</td>\n",
       "      <td>1</td>\n",
       "      <td>2018</td>\n",
       "      <td>6</td>\n",
       "      <td>1.0</td>\n",
       "      <td>0.320000</td>\n",
       "      <td>0.410000</td>\n",
       "      <td>8.0</td>\n",
       "    </tr>\n",
       "    <tr>\n",
       "      <td>24</td>\n",
       "      <td>24</td>\n",
       "      <td>8</td>\n",
       "      <td>6500000</td>\n",
       "      <td>97.20</td>\n",
       "      <td>2015-10-31T00:00:00</td>\n",
       "      <td>2</td>\n",
       "      <td>NaN</td>\n",
       "      <td>3.0</td>\n",
       "      <td>46.5</td>\n",
       "      <td>1</td>\n",
       "      <td>NaN</td>\n",
       "      <td>False</td>\n",
       "      <td>False</td>\n",
       "      <td>19.60</td>\n",
       "      <td>0</td>\n",
       "      <td>Санкт-Петербург</td>\n",
       "      <td>20052</td>\n",
       "      <td>2336</td>\n",
       "      <td>3</td>\n",
       "      <td>411</td>\n",
       "      <td>3</td>\n",
       "      <td>124</td>\n",
       "      <td>265.0</td>\n",
       "      <td>66872.427984</td>\n",
       "      <td>2015-10-31</td>\n",
       "      <td>5</td>\n",
       "      <td>2015</td>\n",
       "      <td>10</td>\n",
       "      <td>0.0</td>\n",
       "      <td>0.478395</td>\n",
       "      <td>0.201646</td>\n",
       "      <td>2.0</td>\n",
       "    </tr>\n",
       "    <tr>\n",
       "      <td>99</td>\n",
       "      <td>99</td>\n",
       "      <td>32</td>\n",
       "      <td>9600000</td>\n",
       "      <td>90.00</td>\n",
       "      <td>2017-09-26T00:00:00</td>\n",
       "      <td>4</td>\n",
       "      <td>NaN</td>\n",
       "      <td>5.0</td>\n",
       "      <td>67.0</td>\n",
       "      <td>2</td>\n",
       "      <td>NaN</td>\n",
       "      <td>False</td>\n",
       "      <td>False</td>\n",
       "      <td>8.00</td>\n",
       "      <td>0</td>\n",
       "      <td>Санкт-Петербург</td>\n",
       "      <td>23277</td>\n",
       "      <td>2818</td>\n",
       "      <td>0</td>\n",
       "      <td>NaN</td>\n",
       "      <td>0</td>\n",
       "      <td>NaN</td>\n",
       "      <td>104.0</td>\n",
       "      <td>106666.666667</td>\n",
       "      <td>2017-09-26</td>\n",
       "      <td>1</td>\n",
       "      <td>2017</td>\n",
       "      <td>9</td>\n",
       "      <td>1.0</td>\n",
       "      <td>0.744444</td>\n",
       "      <td>0.088889</td>\n",
       "      <td>3.0</td>\n",
       "    </tr>\n",
       "    <tr>\n",
       "      <td>106</td>\n",
       "      <td>106</td>\n",
       "      <td>9</td>\n",
       "      <td>10500000</td>\n",
       "      <td>124.10</td>\n",
       "      <td>2017-05-25T00:00:00</td>\n",
       "      <td>5</td>\n",
       "      <td>3.20</td>\n",
       "      <td>4.0</td>\n",
       "      <td>79.4</td>\n",
       "      <td>3</td>\n",
       "      <td>NaN</td>\n",
       "      <td>False</td>\n",
       "      <td>False</td>\n",
       "      <td>20.00</td>\n",
       "      <td>0</td>\n",
       "      <td>Санкт-Петербург</td>\n",
       "      <td>26825</td>\n",
       "      <td>5527</td>\n",
       "      <td>1</td>\n",
       "      <td>384</td>\n",
       "      <td>0</td>\n",
       "      <td>NaN</td>\n",
       "      <td>6.0</td>\n",
       "      <td>84609.186140</td>\n",
       "      <td>2017-05-25</td>\n",
       "      <td>3</td>\n",
       "      <td>2017</td>\n",
       "      <td>5</td>\n",
       "      <td>1.0</td>\n",
       "      <td>0.639807</td>\n",
       "      <td>0.161160</td>\n",
       "      <td>6.0</td>\n",
       "    </tr>\n",
       "    <tr>\n",
       "      <td>136</td>\n",
       "      <td>136</td>\n",
       "      <td>16</td>\n",
       "      <td>6500000</td>\n",
       "      <td>51.80</td>\n",
       "      <td>2018-08-01T00:00:00</td>\n",
       "      <td>2</td>\n",
       "      <td>3.45</td>\n",
       "      <td>6.0</td>\n",
       "      <td>25.6</td>\n",
       "      <td>2</td>\n",
       "      <td>NaN</td>\n",
       "      <td>False</td>\n",
       "      <td>False</td>\n",
       "      <td>7.30</td>\n",
       "      <td>1</td>\n",
       "      <td>Санкт-Петербург</td>\n",
       "      <td>20502</td>\n",
       "      <td>3618</td>\n",
       "      <td>2</td>\n",
       "      <td>533</td>\n",
       "      <td>1</td>\n",
       "      <td>812</td>\n",
       "      <td>163.0</td>\n",
       "      <td>125482.625483</td>\n",
       "      <td>2018-08-01</td>\n",
       "      <td>2</td>\n",
       "      <td>2018</td>\n",
       "      <td>8</td>\n",
       "      <td>1.0</td>\n",
       "      <td>0.494208</td>\n",
       "      <td>0.140927</td>\n",
       "      <td>4.0</td>\n",
       "    </tr>\n",
       "    <tr>\n",
       "      <td>...</td>\n",
       "      <td>...</td>\n",
       "      <td>...</td>\n",
       "      <td>...</td>\n",
       "      <td>...</td>\n",
       "      <td>...</td>\n",
       "      <td>...</td>\n",
       "      <td>...</td>\n",
       "      <td>...</td>\n",
       "      <td>...</td>\n",
       "      <td>...</td>\n",
       "      <td>...</td>\n",
       "      <td>...</td>\n",
       "      <td>...</td>\n",
       "      <td>...</td>\n",
       "      <td>...</td>\n",
       "      <td>...</td>\n",
       "      <td>...</td>\n",
       "      <td>...</td>\n",
       "      <td>...</td>\n",
       "      <td>...</td>\n",
       "      <td>...</td>\n",
       "      <td>...</td>\n",
       "      <td>...</td>\n",
       "      <td>...</td>\n",
       "      <td>...</td>\n",
       "      <td>...</td>\n",
       "      <td>...</td>\n",
       "      <td>...</td>\n",
       "      <td>...</td>\n",
       "      <td>...</td>\n",
       "      <td>...</td>\n",
       "      <td>...</td>\n",
       "    </tr>\n",
       "    <tr>\n",
       "      <td>23595</td>\n",
       "      <td>23644</td>\n",
       "      <td>7</td>\n",
       "      <td>4990000</td>\n",
       "      <td>62.50</td>\n",
       "      <td>2018-04-26T00:00:00</td>\n",
       "      <td>2</td>\n",
       "      <td>2.70</td>\n",
       "      <td>4.0</td>\n",
       "      <td>32.3</td>\n",
       "      <td>4</td>\n",
       "      <td>NaN</td>\n",
       "      <td>False</td>\n",
       "      <td>False</td>\n",
       "      <td>12.10</td>\n",
       "      <td>0</td>\n",
       "      <td>Санкт-Петербург</td>\n",
       "      <td>20141</td>\n",
       "      <td>4415</td>\n",
       "      <td>1</td>\n",
       "      <td>560</td>\n",
       "      <td>1</td>\n",
       "      <td>171</td>\n",
       "      <td>166.0</td>\n",
       "      <td>79840.000000</td>\n",
       "      <td>2018-04-26</td>\n",
       "      <td>3</td>\n",
       "      <td>2018</td>\n",
       "      <td>4</td>\n",
       "      <td>2.0</td>\n",
       "      <td>0.516800</td>\n",
       "      <td>0.193600</td>\n",
       "      <td>4.0</td>\n",
       "    </tr>\n",
       "    <tr>\n",
       "      <td>23632</td>\n",
       "      <td>23681</td>\n",
       "      <td>13</td>\n",
       "      <td>5250000</td>\n",
       "      <td>43.00</td>\n",
       "      <td>2018-05-11T00:00:00</td>\n",
       "      <td>2</td>\n",
       "      <td>2.50</td>\n",
       "      <td>5.0</td>\n",
       "      <td>29.0</td>\n",
       "      <td>2</td>\n",
       "      <td>NaN</td>\n",
       "      <td>False</td>\n",
       "      <td>False</td>\n",
       "      <td>6.00</td>\n",
       "      <td>0</td>\n",
       "      <td>Санкт-Петербург</td>\n",
       "      <td>28323</td>\n",
       "      <td>7262</td>\n",
       "      <td>1</td>\n",
       "      <td>497</td>\n",
       "      <td>2</td>\n",
       "      <td>660</td>\n",
       "      <td>80.0</td>\n",
       "      <td>122093.023256</td>\n",
       "      <td>2018-05-11</td>\n",
       "      <td>4</td>\n",
       "      <td>2018</td>\n",
       "      <td>5</td>\n",
       "      <td>1.0</td>\n",
       "      <td>0.674419</td>\n",
       "      <td>0.139535</td>\n",
       "      <td>7.0</td>\n",
       "    </tr>\n",
       "    <tr>\n",
       "      <td>23641</td>\n",
       "      <td>23690</td>\n",
       "      <td>3</td>\n",
       "      <td>5500000</td>\n",
       "      <td>52.00</td>\n",
       "      <td>2018-07-19T00:00:00</td>\n",
       "      <td>2</td>\n",
       "      <td>NaN</td>\n",
       "      <td>5.0</td>\n",
       "      <td>31.0</td>\n",
       "      <td>2</td>\n",
       "      <td>NaN</td>\n",
       "      <td>False</td>\n",
       "      <td>False</td>\n",
       "      <td>6.00</td>\n",
       "      <td>0</td>\n",
       "      <td>Санкт-Петербург</td>\n",
       "      <td>20151</td>\n",
       "      <td>6263</td>\n",
       "      <td>1</td>\n",
       "      <td>300</td>\n",
       "      <td>0</td>\n",
       "      <td>NaN</td>\n",
       "      <td>15.0</td>\n",
       "      <td>105769.230769</td>\n",
       "      <td>2018-07-19</td>\n",
       "      <td>3</td>\n",
       "      <td>2018</td>\n",
       "      <td>7</td>\n",
       "      <td>1.0</td>\n",
       "      <td>0.596154</td>\n",
       "      <td>0.115385</td>\n",
       "      <td>6.0</td>\n",
       "    </tr>\n",
       "    <tr>\n",
       "      <td>23642</td>\n",
       "      <td>23691</td>\n",
       "      <td>11</td>\n",
       "      <td>9470000</td>\n",
       "      <td>72.90</td>\n",
       "      <td>2016-10-13T00:00:00</td>\n",
       "      <td>2</td>\n",
       "      <td>2.75</td>\n",
       "      <td>25.0</td>\n",
       "      <td>40.3</td>\n",
       "      <td>7</td>\n",
       "      <td>NaN</td>\n",
       "      <td>False</td>\n",
       "      <td>False</td>\n",
       "      <td>10.60</td>\n",
       "      <td>1</td>\n",
       "      <td>Санкт-Петербург</td>\n",
       "      <td>19424</td>\n",
       "      <td>4489</td>\n",
       "      <td>0</td>\n",
       "      <td>NaN</td>\n",
       "      <td>1</td>\n",
       "      <td>806</td>\n",
       "      <td>519.0</td>\n",
       "      <td>129903.978052</td>\n",
       "      <td>2016-10-13</td>\n",
       "      <td>3</td>\n",
       "      <td>2016</td>\n",
       "      <td>10</td>\n",
       "      <td>1.0</td>\n",
       "      <td>0.552812</td>\n",
       "      <td>0.145405</td>\n",
       "      <td>4.0</td>\n",
       "    </tr>\n",
       "    <tr>\n",
       "      <td>23645</td>\n",
       "      <td>23694</td>\n",
       "      <td>9</td>\n",
       "      <td>9700000</td>\n",
       "      <td>133.81</td>\n",
       "      <td>2017-03-21T00:00:00</td>\n",
       "      <td>3</td>\n",
       "      <td>3.70</td>\n",
       "      <td>5.0</td>\n",
       "      <td>73.3</td>\n",
       "      <td>3</td>\n",
       "      <td>NaN</td>\n",
       "      <td>False</td>\n",
       "      <td>False</td>\n",
       "      <td>13.83</td>\n",
       "      <td>0</td>\n",
       "      <td>Санкт-Петербург</td>\n",
       "      <td>24665</td>\n",
       "      <td>4232</td>\n",
       "      <td>1</td>\n",
       "      <td>796</td>\n",
       "      <td>3</td>\n",
       "      <td>381</td>\n",
       "      <td>NaN</td>\n",
       "      <td>72490.845228</td>\n",
       "      <td>2017-03-21</td>\n",
       "      <td>1</td>\n",
       "      <td>2017</td>\n",
       "      <td>3</td>\n",
       "      <td>1.0</td>\n",
       "      <td>0.547792</td>\n",
       "      <td>0.103356</td>\n",
       "      <td>4.0</td>\n",
       "    </tr>\n",
       "  </tbody>\n",
       "</table>\n",
       "<p>2475 rows × 32 columns</p>\n",
       "</div>"
      ],
      "text/plain": [
       "       index  total_images  last_price  total_area first_day_exposition  \\\n",
       "4          4             2    10000000      100.00  2018-06-19T00:00:00   \n",
       "24        24             8     6500000       97.20  2015-10-31T00:00:00   \n",
       "99        99            32     9600000       90.00  2017-09-26T00:00:00   \n",
       "106      106             9    10500000      124.10  2017-05-25T00:00:00   \n",
       "136      136            16     6500000       51.80  2018-08-01T00:00:00   \n",
       "...      ...           ...         ...         ...                  ...   \n",
       "23595  23644             7     4990000       62.50  2018-04-26T00:00:00   \n",
       "23632  23681            13     5250000       43.00  2018-05-11T00:00:00   \n",
       "23641  23690             3     5500000       52.00  2018-07-19T00:00:00   \n",
       "23642  23691            11     9470000       72.90  2016-10-13T00:00:00   \n",
       "23645  23694             9     9700000      133.81  2017-03-21T00:00:00   \n",
       "\n",
       "       rooms  ceiling_height  floors_total  living_area  floor is_apartment  \\\n",
       "4          2            3.03          14.0         32.0     13          NaN   \n",
       "24         2             NaN           3.0         46.5      1          NaN   \n",
       "99         4             NaN           5.0         67.0      2          NaN   \n",
       "106        5            3.20           4.0         79.4      3          NaN   \n",
       "136        2            3.45           6.0         25.6      2          NaN   \n",
       "...      ...             ...           ...          ...    ...          ...   \n",
       "23595      2            2.70           4.0         32.3      4          NaN   \n",
       "23632      2            2.50           5.0         29.0      2          NaN   \n",
       "23641      2             NaN           5.0         31.0      2          NaN   \n",
       "23642      2            2.75          25.0         40.3      7          NaN   \n",
       "23645      3            3.70           5.0         73.3      3          NaN   \n",
       "\n",
       "       studio  open_plan  kitchen_area  balcony    locality_name  \\\n",
       "4       False      False         41.00        0  Санкт-Петербург   \n",
       "24      False      False         19.60        0  Санкт-Петербург   \n",
       "99      False      False          8.00        0  Санкт-Петербург   \n",
       "106     False      False         20.00        0  Санкт-Петербург   \n",
       "136     False      False          7.30        1  Санкт-Петербург   \n",
       "...       ...        ...           ...      ...              ...   \n",
       "23595   False      False         12.10        0  Санкт-Петербург   \n",
       "23632   False      False          6.00        0  Санкт-Петербург   \n",
       "23641   False      False          6.00        0  Санкт-Петербург   \n",
       "23642   False      False         10.60        1  Санкт-Петербург   \n",
       "23645   False      False         13.83        0  Санкт-Петербург   \n",
       "\n",
       "       airports_nearest  cityCenters_nearest  parks_around3000  parks_nearest  \\\n",
       "4                 31856                 8098                 2            112   \n",
       "24                20052                 2336                 3            411   \n",
       "99                23277                 2818                 0            NaN   \n",
       "106               26825                 5527                 1            384   \n",
       "136               20502                 3618                 2            533   \n",
       "...                 ...                  ...               ...            ...   \n",
       "23595             20141                 4415                 1            560   \n",
       "23632             28323                 7262                 1            497   \n",
       "23641             20151                 6263                 1            300   \n",
       "23642             19424                 4489                 0            NaN   \n",
       "23645             24665                 4232                 1            796   \n",
       "\n",
       "       ponds_around3000  ponds_nearest  days_exposition  price_for_meter  \\\n",
       "4                     1             48            121.0    100000.000000   \n",
       "24                    3            124            265.0     66872.427984   \n",
       "99                    0            NaN            104.0    106666.666667   \n",
       "106                   0            NaN              6.0     84609.186140   \n",
       "136                   1            812            163.0    125482.625483   \n",
       "...                 ...            ...              ...              ...   \n",
       "23595                 1            171            166.0     79840.000000   \n",
       "23632                 2            660             80.0    122093.023256   \n",
       "23641                 0            NaN             15.0    105769.230769   \n",
       "23642                 1            806            519.0    129903.978052   \n",
       "23645                 3            381              NaN     72490.845228   \n",
       "\n",
       "      datetime_exposition  weekday  year  month  floor_group  \\\n",
       "4              2018-06-19        1  2018      6          1.0   \n",
       "24             2015-10-31        5  2015     10          0.0   \n",
       "99             2017-09-26        1  2017      9          1.0   \n",
       "106            2017-05-25        3  2017      5          1.0   \n",
       "136            2018-08-01        2  2018      8          1.0   \n",
       "...                   ...      ...   ...    ...          ...   \n",
       "23595          2018-04-26        3  2018      4          2.0   \n",
       "23632          2018-05-11        4  2018      5          1.0   \n",
       "23641          2018-07-19        3  2018      7          1.0   \n",
       "23642          2016-10-13        3  2016     10          1.0   \n",
       "23645          2017-03-21        1  2017      3          1.0   \n",
       "\n",
       "       living_area_for_total  kitchen_area_for_total  dist_to_center  \n",
       "4                   0.320000                0.410000             8.0  \n",
       "24                  0.478395                0.201646             2.0  \n",
       "99                  0.744444                0.088889             3.0  \n",
       "106                 0.639807                0.161160             6.0  \n",
       "136                 0.494208                0.140927             4.0  \n",
       "...                      ...                     ...             ...  \n",
       "23595               0.516800                0.193600             4.0  \n",
       "23632               0.674419                0.139535             7.0  \n",
       "23641               0.596154                0.115385             6.0  \n",
       "23642               0.552812                0.145405             4.0  \n",
       "23645               0.547792                0.103356             4.0  \n",
       "\n",
       "[2475 rows x 32 columns]"
      ]
     },
     "execution_count": 45,
     "metadata": {},
     "output_type": "execute_result"
    }
   ],
   "source": [
    "#Выделим сегмент квартир в центре\n",
    "center_spb = df_SPB.query('dist_to_center < 8.5')\n",
    "center_spb"
   ]
  },
  {
   "cell_type": "code",
   "execution_count": 46,
   "metadata": {},
   "outputs": [
    {
     "name": "stdout",
     "output_type": "stream",
     "text": [
      "максимальная площадь: 149\n",
      "максимальная цена: 19999000\n",
      "максимальное число комнат: 5\n",
      "максимальная выстота потолков: 32\n",
      "\n",
      "медианная площадь: 75.0\n",
      "медианная цена: 8500000\n",
      "медианное число комнат: 3\n",
      "медианная выстота потолков: 3.0\n",
      "\n",
      "средняя площадь: 78.28\n",
      "средняя цена: 9253199.19\n",
      "средняя число комнат: 2.76\n",
      "средняя выстота потолков: 3.07\n"
     ]
    }
   ],
   "source": [
    "# изучаем и строим гистограммы для параметров: площадь(total_area), цена(last_price), число комнат(rooms), высота потолков(ceiling_height)\n",
    "print('максимальная площадь:', center_spb['total_area'].max().astype('int'))\n",
    "print('максимальная цена:',center_spb['last_price'].max())\n",
    "print('максимальное число комнат:',center_spb['rooms'].max())\n",
    "print('максимальная выстота потолков:',center_spb['ceiling_height'].max().astype('int'))\n",
    "print('')\n",
    "print('медианная площадь:', center_spb['total_area'].median())\n",
    "print('медианная цена:', center_spb['last_price'].median().astype('int'))\n",
    "print('медианное число комнат:', center_spb['rooms'].median().astype('int'))\n",
    "print('медианная выстота потолков:', center_spb['ceiling_height'].median())\n",
    "print('')\n",
    "print('средняя площадь:', center_spb['total_area'].mean().round(2))\n",
    "print('средняя цена:', center_spb['last_price'].mean().round(2))\n",
    "print('средняя число комнат:', center_spb['rooms'].mean().round(2))\n",
    "print('средняя выстота потолков:', center_spb['ceiling_height'].mean().round(2))"
   ]
  },
  {
   "cell_type": "code",
   "execution_count": 47,
   "metadata": {},
   "outputs": [
    {
     "data": {
      "text/plain": [
       "<matplotlib.axes._subplots.AxesSubplot at 0x7fa9cbaed2d0>"
      ]
     },
     "execution_count": 47,
     "metadata": {},
     "output_type": "execute_result"
    },
    {
     "data": {
      "image/png": "[encoded data removed]",
      "text/plain": [
       "<Figure size 432x288 with 1 Axes>"
      ]
     },
     "metadata": {
      "needs_background": "light"
     },
     "output_type": "display_data"
    }
   ],
   "source": [
    "#гистограмма площади\n",
    "center_spb['total_area'].hist(bins=30, range=(30, 160))"
   ]
  },
  {
   "cell_type": "markdown",
   "metadata": {},
   "source": [
    "площадь в центре в среднем больше чем на окраине"
   ]
  },
  {
   "cell_type": "code",
   "execution_count": 48,
   "metadata": {},
   "outputs": [
    {
     "data": {
      "text/plain": [
       "<matplotlib.axes._subplots.AxesSubplot at 0x7fa9cbacf910>"
      ]
     },
     "execution_count": 48,
     "metadata": {},
     "output_type": "execute_result"
    },
    {
     "data": {
      "image/png": "[encoded data removed]",
      "text/plain": [
       "<Figure size 432x288 with 1 Axes>"
      ]
     },
     "metadata": {
      "needs_background": "light"
     },
     "output_type": "display_data"
    }
   ],
   "source": [
    "#гистограмма цены\n",
    "center_spb['last_price'].hist(bins=20, range=(2500000, 21000000))"
   ]
  },
  {
   "cell_type": "markdown",
   "metadata": {},
   "source": [
    "цены в центре довольно высокие: в среднем от 5 до 10 млн"
   ]
  },
  {
   "cell_type": "code",
   "execution_count": 49,
   "metadata": {},
   "outputs": [
    {
     "data": {
      "text/plain": [
       "<matplotlib.axes._subplots.AxesSubplot at 0x7fa9cb95d490>"
      ]
     },
     "execution_count": 49,
     "metadata": {},
     "output_type": "execute_result"
    },
    {
     "data": {
      "image/png": "[encoded data removed]",
      "text/plain": [
       "<Figure size 432x288 with 1 Axes>"
      ]
     },
     "metadata": {
      "needs_background": "light"
     },
     "output_type": "display_data"
    }
   ],
   "source": [
    "#гистограмма количества комнат\n",
    "center_spb['rooms'].hist(bins=5, range=(1, 6))"
   ]
  },
  {
   "cell_type": "markdown",
   "metadata": {},
   "source": [
    "количество комнат в центре от 2 до 5"
   ]
  },
  {
   "cell_type": "code",
   "execution_count": 50,
   "metadata": {},
   "outputs": [
    {
     "data": {
      "text/plain": [
       "<matplotlib.axes._subplots.AxesSubplot at 0x7fa9cb8fbc90>"
      ]
     },
     "execution_count": 50,
     "metadata": {},
     "output_type": "execute_result"
    },
    {
     "data": {
      "image/png": "[encoded data removed]",
      "text/plain": [
       "<Figure size 432x288 with 1 Axes>"
      ]
     },
     "metadata": {
      "needs_background": "light"
     },
     "output_type": "display_data"
    }
   ],
   "source": [
    "#гистограмма высоты потолков\n",
    "center_spb['ceiling_height'].hist(bins=20, range=(2, 5))"
   ]
  },
  {
   "cell_type": "markdown",
   "metadata": {},
   "source": [
    "потолки в центре выше"
   ]
  },
  {
   "cell_type": "code",
   "execution_count": 51,
   "metadata": {},
   "outputs": [
    {
     "data": {
      "text/plain": [
       "0.6711133350549713"
      ]
     },
     "execution_count": 51,
     "metadata": {},
     "output_type": "execute_result"
    },
    {
     "data": {
      "image/png": "[encoded data removed]",
      "text/plain": [
       "<Figure size 576x432 with 2 Axes>"
      ]
     },
     "metadata": {
      "needs_background": "light"
     },
     "output_type": "display_data"
    }
   ],
   "source": [
    "center_spb.plot(x='last_price', y='total_area', kind='hexbin', gridsize=20, figsize=(8, 6), sharex=False, grid=True) \n",
    "center_spb['last_price'].corr(center_spb['total_area'])\n",
    "#зависимость цены от площади есть и значительная"
   ]
  },
  {
   "cell_type": "markdown",
   "metadata": {},
   "source": [
    "зависимость цены от площади почти не отличаются от общих значений по всему городу, однако в центре эта зависимость меньше"
   ]
  },
  {
   "cell_type": "code",
   "execution_count": 52,
   "metadata": {},
   "outputs": [
    {
     "data": {
      "text/plain": [
       "0.31458521552541285"
      ]
     },
     "execution_count": 52,
     "metadata": {},
     "output_type": "execute_result"
    },
    {
     "data": {
      "image/png": "[encoded data removed]",
      "text/plain": [
       "<Figure size 576x432 with 2 Axes>"
      ]
     },
     "metadata": {
      "needs_background": "light"
     },
     "output_type": "display_data"
    }
   ],
   "source": [
    "center_spb.plot(x='last_price', y='rooms', kind='hexbin', gridsize=20, figsize=(8, 6), sharex=False, grid=True) \n",
    "center_spb['last_price'].corr(center_spb['rooms'])\n",
    "#зависимость цены от кол-ва комнат очень слабая, но прослеживается"
   ]
  },
  {
   "cell_type": "markdown",
   "metadata": {},
   "source": [
    "зависимость цены от кол-ва комнат абсолютно не отличаются от общих значений по всему городу"
   ]
  },
  {
   "cell_type": "code",
   "execution_count": 53,
   "metadata": {},
   "outputs": [
    {
     "data": {
      "text/html": [
       "<div>\n",
       "<style scoped>\n",
       "    .dataframe tbody tr th:only-of-type {\n",
       "        vertical-align: middle;\n",
       "    }\n",
       "\n",
       "    .dataframe tbody tr th {\n",
       "        vertical-align: top;\n",
       "    }\n",
       "\n",
       "    .dataframe thead th {\n",
       "        text-align: right;\n",
       "    }\n",
       "</style>\n",
       "<table border=\"1\" class=\"dataframe\">\n",
       "  <thead>\n",
       "    <tr style=\"text-align: right;\">\n",
       "      <th></th>\n",
       "      <th>index</th>\n",
       "      <th>total_images</th>\n",
       "      <th>last_price</th>\n",
       "      <th>total_area</th>\n",
       "      <th>first_day_exposition</th>\n",
       "      <th>rooms</th>\n",
       "      <th>ceiling_height</th>\n",
       "      <th>floors_total</th>\n",
       "      <th>living_area</th>\n",
       "      <th>floor</th>\n",
       "      <th>is_apartment</th>\n",
       "      <th>studio</th>\n",
       "      <th>open_plan</th>\n",
       "      <th>kitchen_area</th>\n",
       "      <th>balcony</th>\n",
       "      <th>locality_name</th>\n",
       "      <th>airports_nearest</th>\n",
       "      <th>cityCenters_nearest</th>\n",
       "      <th>parks_around3000</th>\n",
       "      <th>parks_nearest</th>\n",
       "      <th>ponds_around3000</th>\n",
       "      <th>ponds_nearest</th>\n",
       "      <th>days_exposition</th>\n",
       "      <th>price_for_meter</th>\n",
       "      <th>datetime_exposition</th>\n",
       "      <th>weekday</th>\n",
       "      <th>year</th>\n",
       "      <th>month</th>\n",
       "      <th>floor_group</th>\n",
       "      <th>living_area_for_total</th>\n",
       "      <th>kitchen_area_for_total</th>\n",
       "    </tr>\n",
       "  </thead>\n",
       "  <tbody>\n",
       "    <tr>\n",
       "      <td>23642</td>\n",
       "      <td>23691</td>\n",
       "      <td>11</td>\n",
       "      <td>9470000</td>\n",
       "      <td>72.90</td>\n",
       "      <td>2016-10-13T00:00:00</td>\n",
       "      <td>2</td>\n",
       "      <td>2.75</td>\n",
       "      <td>25.0</td>\n",
       "      <td>40.3</td>\n",
       "      <td>7</td>\n",
       "      <td>NaN</td>\n",
       "      <td>False</td>\n",
       "      <td>False</td>\n",
       "      <td>10.60</td>\n",
       "      <td>1</td>\n",
       "      <td>Санкт-Петербург</td>\n",
       "      <td>19424</td>\n",
       "      <td>4489</td>\n",
       "      <td>0</td>\n",
       "      <td>NaN</td>\n",
       "      <td>1</td>\n",
       "      <td>806</td>\n",
       "      <td>519.0</td>\n",
       "      <td>129903.978052</td>\n",
       "      <td>2016-10-13</td>\n",
       "      <td>3</td>\n",
       "      <td>2016</td>\n",
       "      <td>10</td>\n",
       "      <td>1.0</td>\n",
       "      <td>0.552812</td>\n",
       "      <td>0.145405</td>\n",
       "    </tr>\n",
       "    <tr>\n",
       "      <td>23644</td>\n",
       "      <td>23693</td>\n",
       "      <td>9</td>\n",
       "      <td>4600000</td>\n",
       "      <td>62.40</td>\n",
       "      <td>2016-08-05T00:00:00</td>\n",
       "      <td>3</td>\n",
       "      <td>2.60</td>\n",
       "      <td>9.0</td>\n",
       "      <td>40.0</td>\n",
       "      <td>8</td>\n",
       "      <td>NaN</td>\n",
       "      <td>False</td>\n",
       "      <td>False</td>\n",
       "      <td>8.00</td>\n",
       "      <td>0</td>\n",
       "      <td>Петергоф</td>\n",
       "      <td>45602</td>\n",
       "      <td>34104</td>\n",
       "      <td>1</td>\n",
       "      <td>352</td>\n",
       "      <td>1</td>\n",
       "      <td>675</td>\n",
       "      <td>239.0</td>\n",
       "      <td>73717.948718</td>\n",
       "      <td>2016-08-05</td>\n",
       "      <td>4</td>\n",
       "      <td>2016</td>\n",
       "      <td>8</td>\n",
       "      <td>1.0</td>\n",
       "      <td>0.641026</td>\n",
       "      <td>0.128205</td>\n",
       "    </tr>\n",
       "    <tr>\n",
       "      <td>23645</td>\n",
       "      <td>23694</td>\n",
       "      <td>9</td>\n",
       "      <td>9700000</td>\n",
       "      <td>133.81</td>\n",
       "      <td>2017-03-21T00:00:00</td>\n",
       "      <td>3</td>\n",
       "      <td>3.70</td>\n",
       "      <td>5.0</td>\n",
       "      <td>73.3</td>\n",
       "      <td>3</td>\n",
       "      <td>NaN</td>\n",
       "      <td>False</td>\n",
       "      <td>False</td>\n",
       "      <td>13.83</td>\n",
       "      <td>0</td>\n",
       "      <td>Санкт-Петербург</td>\n",
       "      <td>24665</td>\n",
       "      <td>4232</td>\n",
       "      <td>1</td>\n",
       "      <td>796</td>\n",
       "      <td>3</td>\n",
       "      <td>381</td>\n",
       "      <td>NaN</td>\n",
       "      <td>72490.845228</td>\n",
       "      <td>2017-03-21</td>\n",
       "      <td>1</td>\n",
       "      <td>2017</td>\n",
       "      <td>3</td>\n",
       "      <td>1.0</td>\n",
       "      <td>0.547792</td>\n",
       "      <td>0.103356</td>\n",
       "    </tr>\n",
       "    <tr>\n",
       "      <td>23646</td>\n",
       "      <td>23695</td>\n",
       "      <td>14</td>\n",
       "      <td>3100000</td>\n",
       "      <td>59.00</td>\n",
       "      <td>2018-01-15T00:00:00</td>\n",
       "      <td>3</td>\n",
       "      <td>NaN</td>\n",
       "      <td>5.0</td>\n",
       "      <td>38.0</td>\n",
       "      <td>4</td>\n",
       "      <td>NaN</td>\n",
       "      <td>False</td>\n",
       "      <td>False</td>\n",
       "      <td>8.50</td>\n",
       "      <td>0</td>\n",
       "      <td>Тосно</td>\n",
       "      <td>NaN</td>\n",
       "      <td>NaN</td>\n",
       "      <td>NaN</td>\n",
       "      <td>NaN</td>\n",
       "      <td>NaN</td>\n",
       "      <td>NaN</td>\n",
       "      <td>45.0</td>\n",
       "      <td>52542.372881</td>\n",
       "      <td>2018-01-15</td>\n",
       "      <td>0</td>\n",
       "      <td>2018</td>\n",
       "      <td>1</td>\n",
       "      <td>1.0</td>\n",
       "      <td>0.644068</td>\n",
       "      <td>0.144068</td>\n",
       "    </tr>\n",
       "    <tr>\n",
       "      <td>23647</td>\n",
       "      <td>23696</td>\n",
       "      <td>18</td>\n",
       "      <td>2500000</td>\n",
       "      <td>56.70</td>\n",
       "      <td>2018-02-11T00:00:00</td>\n",
       "      <td>2</td>\n",
       "      <td>NaN</td>\n",
       "      <td>3.0</td>\n",
       "      <td>29.7</td>\n",
       "      <td>1</td>\n",
       "      <td>NaN</td>\n",
       "      <td>False</td>\n",
       "      <td>False</td>\n",
       "      <td>NaN</td>\n",
       "      <td>0</td>\n",
       "      <td>село Рождествено</td>\n",
       "      <td>NaN</td>\n",
       "      <td>NaN</td>\n",
       "      <td>NaN</td>\n",
       "      <td>NaN</td>\n",
       "      <td>NaN</td>\n",
       "      <td>NaN</td>\n",
       "      <td>NaN</td>\n",
       "      <td>44091.710758</td>\n",
       "      <td>2018-02-11</td>\n",
       "      <td>6</td>\n",
       "      <td>2018</td>\n",
       "      <td>2</td>\n",
       "      <td>0.0</td>\n",
       "      <td>0.523810</td>\n",
       "      <td>NaN</td>\n",
       "    </tr>\n",
       "  </tbody>\n",
       "</table>\n",
       "</div>"
      ],
      "text/plain": [
       "       index  total_images  last_price  total_area first_day_exposition  \\\n",
       "23642  23691            11     9470000       72.90  2016-10-13T00:00:00   \n",
       "23644  23693             9     4600000       62.40  2016-08-05T00:00:00   \n",
       "23645  23694             9     9700000      133.81  2017-03-21T00:00:00   \n",
       "23646  23695            14     3100000       59.00  2018-01-15T00:00:00   \n",
       "23647  23696            18     2500000       56.70  2018-02-11T00:00:00   \n",
       "\n",
       "       rooms  ceiling_height  floors_total  living_area  floor is_apartment  \\\n",
       "23642      2            2.75          25.0         40.3      7          NaN   \n",
       "23644      3            2.60           9.0         40.0      8          NaN   \n",
       "23645      3            3.70           5.0         73.3      3          NaN   \n",
       "23646      3             NaN           5.0         38.0      4          NaN   \n",
       "23647      2             NaN           3.0         29.7      1          NaN   \n",
       "\n",
       "       studio  open_plan  kitchen_area  balcony     locality_name  \\\n",
       "23642   False      False         10.60        1   Санкт-Петербург   \n",
       "23644   False      False          8.00        0          Петергоф   \n",
       "23645   False      False         13.83        0   Санкт-Петербург   \n",
       "23646   False      False          8.50        0             Тосно   \n",
       "23647   False      False           NaN        0  село Рождествено   \n",
       "\n",
       "       airports_nearest  cityCenters_nearest  parks_around3000  parks_nearest  \\\n",
       "23642             19424                 4489                 0            NaN   \n",
       "23644             45602                34104                 1            352   \n",
       "23645             24665                 4232                 1            796   \n",
       "23646               NaN                  NaN               NaN            NaN   \n",
       "23647               NaN                  NaN               NaN            NaN   \n",
       "\n",
       "       ponds_around3000  ponds_nearest  days_exposition  price_for_meter  \\\n",
       "23642                 1            806            519.0    129903.978052   \n",
       "23644                 1            675            239.0     73717.948718   \n",
       "23645                 3            381              NaN     72490.845228   \n",
       "23646               NaN            NaN             45.0     52542.372881   \n",
       "23647               NaN            NaN              NaN     44091.710758   \n",
       "\n",
       "      datetime_exposition  weekday  year  month  floor_group  \\\n",
       "23642          2016-10-13        3  2016     10          1.0   \n",
       "23644          2016-08-05        4  2016      8          1.0   \n",
       "23645          2017-03-21        1  2017      3          1.0   \n",
       "23646          2018-01-15        0  2018      1          1.0   \n",
       "23647          2018-02-11        6  2018      2          0.0   \n",
       "\n",
       "       living_area_for_total  kitchen_area_for_total  \n",
       "23642               0.552812                0.145405  \n",
       "23644               0.641026                0.128205  \n",
       "23645               0.547792                0.103356  \n",
       "23646               0.644068                0.144068  \n",
       "23647               0.523810                     NaN  "
      ]
     },
     "execution_count": 53,
     "metadata": {},
     "output_type": "execute_result"
    }
   ],
   "source": [
    "df.tail()"
   ]
  },
  {
   "cell_type": "code",
   "execution_count": 54,
   "metadata": {},
   "outputs": [
    {
     "data": {
      "text/html": [
       "<div>\n",
       "<style scoped>\n",
       "    .dataframe tbody tr th:only-of-type {\n",
       "        vertical-align: middle;\n",
       "    }\n",
       "\n",
       "    .dataframe tbody tr th {\n",
       "        vertical-align: top;\n",
       "    }\n",
       "\n",
       "    .dataframe thead th {\n",
       "        text-align: right;\n",
       "    }\n",
       "</style>\n",
       "<table border=\"1\" class=\"dataframe\">\n",
       "  <thead>\n",
       "    <tr style=\"text-align: right;\">\n",
       "      <th></th>\n",
       "      <th>last_price</th>\n",
       "      <th>cityCenters_nearest</th>\n",
       "    </tr>\n",
       "  </thead>\n",
       "  <tbody>\n",
       "    <tr>\n",
       "      <td>last_price</td>\n",
       "      <td>1.000000</td>\n",
       "      <td>-0.120367</td>\n",
       "    </tr>\n",
       "    <tr>\n",
       "      <td>cityCenters_nearest</td>\n",
       "      <td>-0.120367</td>\n",
       "      <td>1.000000</td>\n",
       "    </tr>\n",
       "  </tbody>\n",
       "</table>\n",
       "</div>"
      ],
      "text/plain": [
       "                     last_price  cityCenters_nearest\n",
       "last_price             1.000000            -0.120367\n",
       "cityCenters_nearest   -0.120367             1.000000"
      ]
     },
     "execution_count": 54,
     "metadata": {},
     "output_type": "execute_result"
    },
    {
     "data": {
      "image/png": "[encoded data removed]",
      "text/plain": [
       "<Figure size 576x432 with 2 Axes>"
      ]
     },
     "metadata": {
      "needs_background": "light"
     },
     "output_type": "display_data"
    }
   ],
   "source": [
    "center_spb.plot(x='last_price', y='cityCenters_nearest', kind='hexbin', gridsize=20, figsize=(8, 6), sharex=False, grid=True) \n",
    "center_spb[['last_price','cityCenters_nearest']].corr()\n",
    "\n",
    "#зависимость цены от расстояния до центра есть, но слабая и обратная (чем больше число расстояния тем дешевле жилье)"
   ]
  },
  {
   "cell_type": "markdown",
   "metadata": {},
   "source": [
    "зависимость цены от расстояния до центра сильно отличаются от общих значений по всему городу, тут эта зависимость в 3 раза ниже"
   ]
  },
  {
   "cell_type": "markdown",
   "metadata": {},
   "source": [
    "Так как этой зависимости почти нет мы можем сделать вывод что правильно определили центр городоа"
   ]
  },
  {
   "cell_type": "code",
   "execution_count": 55,
   "metadata": {},
   "outputs": [
    {
     "data": {
      "text/plain": [
       "<matplotlib.axes._subplots.AxesSubplot at 0x7fa9d5048a10>"
      ]
     },
     "execution_count": 55,
     "metadata": {},
     "output_type": "execute_result"
    },
    {
     "data": {
      "image/png": "[encoded data removed]",
      "text/plain": [
       "<Figure size 432x288 with 1 Axes>"
      ]
     },
     "metadata": {
      "needs_background": "light"
     },
     "output_type": "display_data"
    }
   ],
   "source": [
    "price_floor_group_med = center_spb.pivot_table(index = 'floor_group',values = 'last_price', aggfunc = 'median')\n",
    "price_floor_group_med.plot()\n",
    "#зависимость цены от этажа"
   ]
  },
  {
   "cell_type": "markdown",
   "metadata": {},
   "source": [
    "зависимость цены от этажа есть, она отличается от значений по всему городу тем что на последних этажах в среднем не сильно дешевле жилье(либо низкие дома, либо в них есть лифты), а так же в абсолютном значении больше разница в цене жилья на первых и не на первых этажах."
   ]
  },
  {
   "cell_type": "code",
   "execution_count": 56,
   "metadata": {},
   "outputs": [
    {
     "data": {
      "text/plain": [
       "<matplotlib.axes._subplots.AxesSubplot at 0x7fa9c9e8d890>"
      ]
     },
     "execution_count": 56,
     "metadata": {},
     "output_type": "execute_result"
    },
    {
     "data": {
      "image/png": "[encoded data removed]",
      "text/plain": [
       "<Figure size 432x288 with 1 Axes>"
      ]
     },
     "metadata": {
      "needs_background": "light"
     },
     "output_type": "display_data"
    }
   ],
   "source": [
    "price_floor_group_med = center_spb.pivot_table(index = 'weekday',values = 'last_price', aggfunc = 'median')\n",
    "price_floor_group_med.plot()\n",
    "#зависимость цены от дня недели публикации "
   ]
  },
  {
   "cell_type": "markdown",
   "metadata": {},
   "source": [
    "зависимость цены от дня недели публикации есть, и она зеркально отличается от значений по всему городу: жилье опубликованное в понедельник и воскресенье в среднем дороже чем в остальные дни недели."
   ]
  },
  {
   "cell_type": "code",
   "execution_count": 57,
   "metadata": {},
   "outputs": [
    {
     "data": {
      "text/plain": [
       "<matplotlib.axes._subplots.AxesSubplot at 0x7fa9c9e1db10>"
      ]
     },
     "execution_count": 57,
     "metadata": {},
     "output_type": "execute_result"
    },
    {
     "data": {
      "image/png": "[encoded data removed]",
      "text/plain": [
       "<Figure size 432x288 with 1 Axes>"
      ]
     },
     "metadata": {
      "needs_background": "light"
     },
     "output_type": "display_data"
    }
   ],
   "source": [
    "price_floor_group_med = center_spb.pivot_table(index = 'month',values = 'last_price', aggfunc = 'median')\n",
    "price_floor_group_med.plot()\n",
    "#зависимость цены от месяца публикации "
   ]
  },
  {
   "cell_type": "markdown",
   "metadata": {},
   "source": [
    "зависимость цены от месяца публикации есть, но не сильная, однако она сильно отличается от значений по всему городу: в декабре жилье продают дешевле всего и + в остальные месяцы в процентном соотношении разница не большая, а похожи эти зависимости тем что в сентябре жилье самое дорогое."
   ]
  },
  {
   "cell_type": "code",
   "execution_count": 58,
   "metadata": {},
   "outputs": [
    {
     "data": {
      "text/plain": [
       "<matplotlib.axes._subplots.AxesSubplot at 0x7fa9c9d97250>"
      ]
     },
     "execution_count": 58,
     "metadata": {},
     "output_type": "execute_result"
    },
    {
     "data": {
      "image/png": "[encoded data removed]",
      "text/plain": [
       "<Figure size 432x288 with 1 Axes>"
      ]
     },
     "metadata": {
      "needs_background": "light"
     },
     "output_type": "display_data"
    }
   ],
   "source": [
    "price_floor_group_med = center_spb.pivot_table(index = 'year',values = 'last_price', aggfunc = 'median')\n",
    "price_floor_group_med.plot()\n",
    "#зависимость цены от года публикации нет"
   ]
  },
  {
   "cell_type": "markdown",
   "metadata": {},
   "source": [
    "зависимость цены от года публикации есть и отличается от значений по всему городу, тем что после падения в цене жилья в 2014-2016 годах его цена не стала расти, а укрепилась."
   ]
  },
  {
   "cell_type": "markdown",
   "metadata": {},
   "source": [
    "## Общий вывод"
   ]
  },
  {
   "cell_type": "markdown",
   "metadata": {},
   "source": [
    "Общий вывод по предобработке данных можно сделать такой: много пропусков в автоматически созданных столбцах (расстояния до центра, водоема, парка и тд) значит нужно улучшать программу выдающую эти значения, заменить пропущенные значения мы смогли только в столбце с количеством балконов (в остальных столбцах мы оставили пропуски, но они нас не должны смущать),все числовые столбцы мы перевели в в типы int или float."
   ]
  },
  {
   "cell_type": "markdown",
   "metadata": {},
   "source": [
    "Общий вывод по расчетам и добавлению в таблицу можно сделать такой: мы добавили столбец с ценой квадратного метра; 4 столбца с датой, годом,месяцем и днем недели публикации; выделили столбец с категорией этажа (первый, последний, другой); создали столбцы с отношением кухни к общей плоди и жилой площади к общей."
   ]
  },
  {
   "cell_type": "markdown",
   "metadata": {},
   "source": [
    "Общий вывод по ислледовательскому анализу данных можно сделать такой: мы нашли зависимость цены от площади жилья; мы обнаружили достаточно слабую зависимость цены от числа комнат; так же цена жилья зависит от расстояния до центра города (зависимость видимая, но далеко не определяющая цену); мы узнали что цена никак не зависит от даты и времени публикации; в центре города квартиры сильно отличаются и в плане высоких цен, а так же высокими потолками и большей площадью жилья, в центре города зависимость цен отличается от всего города."
   ]
  }
 ],
 "metadata": {
  "ExecuteTimeLog": [
   {
    "duration": 582,
    "start_time": "2021-10-05T12:23:48.267Z"
   },
   {
    "duration": 61,
    "start_time": "2021-10-05T12:33:26.212Z"
   },
   {
    "duration": 55,
    "start_time": "2021-10-05T12:33:38.199Z"
   },
   {
    "duration": 56,
    "start_time": "2021-10-05T12:33:39.359Z"
   },
   {
    "duration": 60,
    "start_time": "2021-10-05T12:33:43.014Z"
   },
   {
    "duration": 66,
    "start_time": "2021-10-05T12:33:51.895Z"
   },
   {
    "duration": 54,
    "start_time": "2021-10-05T12:40:00.459Z"
   },
   {
    "duration": 46,
    "start_time": "2021-10-05T12:40:17.269Z"
   },
   {
    "duration": 47,
    "start_time": "2021-10-05T12:41:16.069Z"
   },
   {
    "duration": 58,
    "start_time": "2021-10-05T12:42:49.057Z"
   },
   {
    "duration": 57,
    "start_time": "2021-10-05T12:43:03.417Z"
   },
   {
    "duration": 1180,
    "start_time": "2021-10-05T12:43:19.452Z"
   },
   {
    "duration": 1076,
    "start_time": "2021-10-05T12:43:20.840Z"
   },
   {
    "duration": 61,
    "start_time": "2021-10-05T12:43:25.973Z"
   },
   {
    "duration": 58,
    "start_time": "2021-10-05T12:44:03.989Z"
   },
   {
    "duration": 59,
    "start_time": "2021-10-05T12:44:08.471Z"
   },
   {
    "duration": 60,
    "start_time": "2021-10-05T12:44:15.088Z"
   },
   {
    "duration": 95,
    "start_time": "2021-10-05T12:44:31.209Z"
   },
   {
    "duration": 97,
    "start_time": "2021-10-05T12:45:09.719Z"
   },
   {
    "duration": 99,
    "start_time": "2021-10-05T12:47:33.396Z"
   },
   {
    "duration": 96,
    "start_time": "2021-10-05T12:47:37.766Z"
   },
   {
    "duration": 20,
    "start_time": "2021-10-05T12:47:39.084Z"
   },
   {
    "duration": 18,
    "start_time": "2021-10-05T13:09:50.257Z"
   },
   {
    "duration": 20,
    "start_time": "2021-10-05T13:10:45.354Z"
   },
   {
    "duration": 5,
    "start_time": "2021-10-05T13:26:53.557Z"
   },
   {
    "duration": 5,
    "start_time": "2021-10-05T13:26:55.511Z"
   },
   {
    "duration": 95,
    "start_time": "2021-10-05T13:27:19.387Z"
   },
   {
    "duration": 18,
    "start_time": "2021-10-05T13:27:28.040Z"
   },
   {
    "duration": 17,
    "start_time": "2021-10-05T13:27:31.136Z"
   },
   {
    "duration": 169,
    "start_time": "2021-10-05T13:27:39.938Z"
   },
   {
    "duration": 11,
    "start_time": "2021-10-05T13:29:06.759Z"
   },
   {
    "duration": 5,
    "start_time": "2021-10-05T13:29:09.375Z"
   },
   {
    "duration": 21,
    "start_time": "2021-10-05T13:29:12.281Z"
   },
   {
    "duration": 18,
    "start_time": "2021-10-05T13:30:05.338Z"
   },
   {
    "duration": 5,
    "start_time": "2021-10-05T13:31:03.846Z"
   },
   {
    "duration": 19,
    "start_time": "2021-10-05T13:31:09.105Z"
   },
   {
    "duration": 22,
    "start_time": "2021-10-05T13:31:12.087Z"
   },
   {
    "duration": 99,
    "start_time": "2021-10-05T13:31:30.153Z"
   },
   {
    "duration": 21,
    "start_time": "2021-10-05T13:31:32.284Z"
   },
   {
    "duration": 18,
    "start_time": "2021-10-05T13:31:33.801Z"
   },
   {
    "duration": 19,
    "start_time": "2021-10-05T13:31:39.267Z"
   },
   {
    "duration": 9,
    "start_time": "2021-10-05T13:31:40.118Z"
   },
   {
    "duration": 5,
    "start_time": "2021-10-05T13:31:43.167Z"
   },
   {
    "duration": 20,
    "start_time": "2021-10-05T13:31:46.377Z"
   },
   {
    "duration": 32,
    "start_time": "2021-10-05T13:33:28.119Z"
   },
   {
    "duration": 19,
    "start_time": "2021-10-05T13:33:29.072Z"
   },
   {
    "duration": 20,
    "start_time": "2021-10-05T13:34:10.149Z"
   },
   {
    "duration": 23,
    "start_time": "2021-10-05T13:34:31.267Z"
   },
   {
    "duration": 10,
    "start_time": "2021-10-05T13:35:28.016Z"
   },
   {
    "duration": 21,
    "start_time": "2021-10-05T13:35:31.722Z"
   },
   {
    "duration": 11,
    "start_time": "2021-10-05T13:35:58.980Z"
   },
   {
    "duration": 179,
    "start_time": "2021-10-05T13:36:00.171Z"
   },
   {
    "duration": 167,
    "start_time": "2021-10-05T13:36:12.778Z"
   },
   {
    "duration": 90,
    "start_time": "2021-10-05T13:36:33.056Z"
   },
   {
    "duration": 20,
    "start_time": "2021-10-05T13:36:34.410Z"
   },
   {
    "duration": 18,
    "start_time": "2021-10-05T13:36:34.827Z"
   },
   {
    "duration": 18,
    "start_time": "2021-10-05T13:36:36.151Z"
   },
   {
    "duration": 12,
    "start_time": "2021-10-05T13:36:36.422Z"
   },
   {
    "duration": 144,
    "start_time": "2021-10-05T13:36:36.870Z"
   },
   {
    "duration": 206,
    "start_time": "2021-10-05T13:36:42.850Z"
   },
   {
    "duration": 93,
    "start_time": "2021-10-05T13:36:49.556Z"
   },
   {
    "duration": 20,
    "start_time": "2021-10-05T13:36:50.955Z"
   },
   {
    "duration": 19,
    "start_time": "2021-10-05T13:36:52.494Z"
   },
   {
    "duration": 19,
    "start_time": "2021-10-05T13:36:55.479Z"
   },
   {
    "duration": 11,
    "start_time": "2021-10-05T13:37:02.565Z"
   },
   {
    "duration": 171,
    "start_time": "2021-10-05T13:37:07.569Z"
   },
   {
    "duration": 135,
    "start_time": "2021-10-05T13:37:56.889Z"
   },
   {
    "duration": 147,
    "start_time": "2021-10-05T13:38:03.739Z"
   },
   {
    "duration": 185,
    "start_time": "2021-10-05T13:38:17.591Z"
   },
   {
    "duration": 180,
    "start_time": "2021-10-05T13:38:34.291Z"
   },
   {
    "duration": 91,
    "start_time": "2021-10-05T13:38:40.068Z"
   },
   {
    "duration": 21,
    "start_time": "2021-10-05T13:38:42.173Z"
   },
   {
    "duration": 20,
    "start_time": "2021-10-05T13:38:47.466Z"
   },
   {
    "duration": 10,
    "start_time": "2021-10-05T13:39:13.988Z"
   },
   {
    "duration": 20,
    "start_time": "2021-10-05T13:39:16.033Z"
   },
   {
    "duration": 97,
    "start_time": "2021-10-05T13:39:44.441Z"
   },
   {
    "duration": 44,
    "start_time": "2021-10-05T13:39:51.615Z"
   },
   {
    "duration": 22,
    "start_time": "2021-10-05T13:40:06.469Z"
   },
   {
    "duration": 18,
    "start_time": "2021-10-05T13:40:20.786Z"
   },
   {
    "duration": 40,
    "start_time": "2021-10-05T13:40:24.369Z"
   },
   {
    "duration": 9,
    "start_time": "2021-10-05T13:40:35.957Z"
   },
   {
    "duration": 19,
    "start_time": "2021-10-05T13:40:37.724Z"
   },
   {
    "duration": 23,
    "start_time": "2021-10-05T13:40:42.547Z"
   },
   {
    "duration": 93,
    "start_time": "2021-10-05T13:44:05.410Z"
   },
   {
    "duration": 11,
    "start_time": "2021-10-05T13:44:09.587Z"
   },
   {
    "duration": 149,
    "start_time": "2021-10-05T13:44:13.631Z"
   },
   {
    "duration": 93,
    "start_time": "2021-10-05T13:44:59.650Z"
   },
   {
    "duration": 10,
    "start_time": "2021-10-05T13:45:03.532Z"
   },
   {
    "duration": 20,
    "start_time": "2021-10-05T13:45:05.635Z"
   },
   {
    "duration": 20,
    "start_time": "2021-10-05T13:45:09.843Z"
   },
   {
    "duration": 7,
    "start_time": "2021-10-05T13:49:13.610Z"
   },
   {
    "duration": 8,
    "start_time": "2021-10-05T13:50:16.164Z"
   },
   {
    "duration": 2,
    "start_time": "2021-10-05T13:52:23.237Z"
   },
   {
    "duration": 2,
    "start_time": "2021-10-05T13:52:25.331Z"
   },
   {
    "duration": 2,
    "start_time": "2021-10-05T13:52:27.141Z"
   },
   {
    "duration": 22,
    "start_time": "2021-10-05T13:52:32.207Z"
   },
   {
    "duration": 315,
    "start_time": "2021-10-05T14:01:29.233Z"
   },
   {
    "duration": 110,
    "start_time": "2021-10-05T14:02:02.047Z"
   },
   {
    "duration": 89,
    "start_time": "2021-10-05T14:03:18.309Z"
   },
   {
    "duration": 46,
    "start_time": "2021-10-05T14:03:25.365Z"
   },
   {
    "duration": 93,
    "start_time": "2021-10-05T14:05:58.892Z"
   },
   {
    "duration": 10,
    "start_time": "2021-10-05T14:07:01.239Z"
   },
   {
    "duration": 208,
    "start_time": "2021-10-05T14:07:08.368Z"
   },
   {
    "duration": 91,
    "start_time": "2021-10-05T14:07:36.811Z"
   },
   {
    "duration": 19,
    "start_time": "2021-10-05T14:07:42.379Z"
   },
   {
    "duration": 20,
    "start_time": "2021-10-05T14:07:50.162Z"
   },
   {
    "duration": 18,
    "start_time": "2021-10-05T14:07:53.786Z"
   },
   {
    "duration": 10,
    "start_time": "2021-10-05T14:07:59.749Z"
   },
   {
    "duration": 585,
    "start_time": "2021-10-05T14:08:03.273Z"
   },
   {
    "duration": 91,
    "start_time": "2021-10-05T14:08:10.020Z"
   },
   {
    "duration": 232,
    "start_time": "2021-10-05T14:08:26.613Z"
   },
   {
    "duration": 145,
    "start_time": "2021-10-05T14:09:09.037Z"
   },
   {
    "duration": 96,
    "start_time": "2021-10-05T14:09:19.202Z"
   },
   {
    "duration": 144,
    "start_time": "2021-10-05T14:09:42.522Z"
   },
   {
    "duration": 91,
    "start_time": "2021-10-05T14:09:48.657Z"
   },
   {
    "duration": 131,
    "start_time": "2021-10-05T14:09:56.087Z"
   },
   {
    "duration": 133,
    "start_time": "2021-10-05T14:10:02.716Z"
   },
   {
    "duration": 10,
    "start_time": "2021-10-05T14:10:07.552Z"
   },
   {
    "duration": 154,
    "start_time": "2021-10-05T14:10:10.279Z"
   },
   {
    "duration": 97,
    "start_time": "2021-10-05T14:10:30.288Z"
   },
   {
    "duration": 10,
    "start_time": "2021-10-05T14:10:34.696Z"
   },
   {
    "duration": 19,
    "start_time": "2021-10-05T14:10:36.366Z"
   },
   {
    "duration": 21,
    "start_time": "2021-10-05T14:10:44.976Z"
   },
   {
    "duration": 27,
    "start_time": "2021-10-05T14:11:26.127Z"
   },
   {
    "duration": 834,
    "start_time": "2021-10-10T09:45:04.617Z"
   },
   {
    "duration": 42,
    "start_time": "2021-10-10T09:45:14.185Z"
   },
   {
    "duration": 41,
    "start_time": "2021-10-10T09:45:32.329Z"
   },
   {
    "duration": 7,
    "start_time": "2021-10-10T09:45:34.057Z"
   },
   {
    "duration": 53,
    "start_time": "2021-10-10T09:47:03.036Z"
   },
   {
    "duration": 143,
    "start_time": "2021-10-10T09:47:27.418Z"
   },
   {
    "duration": 30,
    "start_time": "2021-10-10T09:47:29.832Z"
   },
   {
    "duration": 26,
    "start_time": "2021-10-10T09:47:37.207Z"
   },
   {
    "duration": 126,
    "start_time": "2021-10-10T09:48:09.249Z"
   },
   {
    "duration": 31,
    "start_time": "2021-10-10T09:48:11.973Z"
   },
   {
    "duration": 27,
    "start_time": "2021-10-10T09:48:18.341Z"
   },
   {
    "duration": 27,
    "start_time": "2021-10-10T09:48:22.138Z"
   },
   {
    "duration": 7,
    "start_time": "2021-10-10T09:53:28.829Z"
   },
   {
    "duration": 44,
    "start_time": "2021-10-10T09:53:30.213Z"
   },
   {
    "duration": 60,
    "start_time": "2021-10-10T09:53:47.264Z"
   },
   {
    "duration": 61,
    "start_time": "2021-10-10T09:53:50.557Z"
   },
   {
    "duration": 56,
    "start_time": "2021-10-10T09:53:52.118Z"
   },
   {
    "duration": 134,
    "start_time": "2021-10-10T09:54:56.575Z"
   },
   {
    "duration": 28,
    "start_time": "2021-10-10T09:55:02.617Z"
   },
   {
    "duration": 52,
    "start_time": "2021-10-10T09:55:05.828Z"
   },
   {
    "duration": 7,
    "start_time": "2021-10-10T09:55:10.592Z"
   },
   {
    "duration": 44,
    "start_time": "2021-10-10T09:55:15.333Z"
   },
   {
    "duration": 66,
    "start_time": "2021-10-10T09:55:17.118Z"
   },
   {
    "duration": 4,
    "start_time": "2021-10-10T09:55:27.236Z"
   },
   {
    "duration": 38,
    "start_time": "2021-10-10T09:55:35.390Z"
   },
   {
    "duration": 65,
    "start_time": "2021-10-10T09:55:44.019Z"
   },
   {
    "duration": 62,
    "start_time": "2021-10-10T09:56:08.976Z"
   },
   {
    "duration": 37,
    "start_time": "2021-10-10T09:56:15.841Z"
   },
   {
    "duration": 1292,
    "start_time": "2021-10-10T10:08:31.603Z"
   },
   {
    "duration": 39,
    "start_time": "2021-10-10T10:08:32.907Z"
   },
   {
    "duration": 1224,
    "start_time": "2021-10-10T10:08:55.089Z"
   },
   {
    "duration": 1245,
    "start_time": "2021-10-10T10:10:12.108Z"
   },
   {
    "duration": 1122,
    "start_time": "2021-10-10T10:10:16.393Z"
   },
   {
    "duration": 1327,
    "start_time": "2021-10-10T10:11:19.777Z"
   },
   {
    "duration": 1225,
    "start_time": "2021-10-10T10:11:55.904Z"
   },
   {
    "duration": 9,
    "start_time": "2021-10-10T10:12:07.607Z"
   },
   {
    "duration": 7,
    "start_time": "2021-10-10T10:13:09.809Z"
   },
   {
    "duration": 5,
    "start_time": "2021-10-10T10:13:17.441Z"
   },
   {
    "duration": 39,
    "start_time": "2021-10-10T10:13:22.969Z"
   },
   {
    "duration": 1204,
    "start_time": "2021-10-10T10:13:42.865Z"
   },
   {
    "duration": 1700,
    "start_time": "2021-10-10T10:14:44.857Z"
   },
   {
    "duration": 1189,
    "start_time": "2021-10-10T10:14:58.289Z"
   },
   {
    "duration": 330,
    "start_time": "2021-10-10T10:23:32.908Z"
   },
   {
    "duration": 11,
    "start_time": "2021-10-10T10:25:07.821Z"
   },
   {
    "duration": 40,
    "start_time": "2021-10-10T10:25:11.030Z"
   },
   {
    "duration": 135,
    "start_time": "2021-10-10T10:33:49.365Z"
   },
   {
    "duration": 29,
    "start_time": "2021-10-10T10:33:49.785Z"
   },
   {
    "duration": 25,
    "start_time": "2021-10-10T10:33:51.321Z"
   },
   {
    "duration": 50,
    "start_time": "2021-10-10T10:33:51.958Z"
   },
   {
    "duration": 7,
    "start_time": "2021-10-10T10:33:52.385Z"
   },
   {
    "duration": 44,
    "start_time": "2021-10-10T10:33:52.813Z"
   },
   {
    "duration": 66,
    "start_time": "2021-10-10T10:33:53.405Z"
   },
   {
    "duration": 1235,
    "start_time": "2021-10-10T10:33:53.974Z"
   },
   {
    "duration": 357,
    "start_time": "2021-10-10T10:34:28.826Z"
   },
   {
    "duration": 355,
    "start_time": "2021-10-10T10:50:29.760Z"
   },
   {
    "duration": 329,
    "start_time": "2021-10-10T10:50:41.997Z"
   },
   {
    "duration": 496,
    "start_time": "2021-10-10T10:52:06.118Z"
   },
   {
    "duration": 377,
    "start_time": "2021-10-10T10:53:16.852Z"
   },
   {
    "duration": 272,
    "start_time": "2021-10-10T10:53:27.790Z"
   },
   {
    "duration": 341,
    "start_time": "2021-10-10T10:53:32.835Z"
   },
   {
    "duration": 314,
    "start_time": "2021-10-10T10:53:53.705Z"
   },
   {
    "duration": 13,
    "start_time": "2021-10-10T10:54:23.072Z"
   },
   {
    "duration": 360,
    "start_time": "2021-10-10T10:54:28.194Z"
   },
   {
    "duration": 1338,
    "start_time": "2021-10-10T10:55:05.456Z"
   },
   {
    "duration": 397,
    "start_time": "2021-10-10T10:57:00.775Z"
   },
   {
    "duration": 32,
    "start_time": "2021-10-10T10:57:33.318Z"
   },
   {
    "duration": 38,
    "start_time": "2021-10-10T11:01:23.376Z"
   },
   {
    "duration": 633,
    "start_time": "2021-10-10T11:03:17.737Z"
   },
   {
    "duration": 352,
    "start_time": "2021-10-10T11:04:14.431Z"
   },
   {
    "duration": 324,
    "start_time": "2021-10-10T11:07:07.875Z"
   },
   {
    "duration": 1278,
    "start_time": "2021-10-10T11:07:49.337Z"
   },
   {
    "duration": 322,
    "start_time": "2021-10-10T11:09:16.939Z"
   },
   {
    "duration": 96,
    "start_time": "2021-10-10T11:16:16.759Z"
   },
   {
    "duration": 40,
    "start_time": "2021-10-10T11:16:19.474Z"
   },
   {
    "duration": 58,
    "start_time": "2021-10-10T11:17:13.577Z"
   },
   {
    "duration": 51,
    "start_time": "2021-10-10T11:17:18.166Z"
   },
   {
    "duration": 322,
    "start_time": "2021-10-10T11:22:47.812Z"
   },
   {
    "duration": 95,
    "start_time": "2021-10-10T11:24:41.100Z"
   },
   {
    "duration": 8663,
    "start_time": "2021-10-10T11:28:31.769Z"
   },
   {
    "duration": -193,
    "start_time": "2021-10-10T11:28:40.629Z"
   },
   {
    "duration": 380,
    "start_time": "2021-10-10T11:33:52.259Z"
   },
   {
    "duration": 791,
    "start_time": "2021-10-10T11:33:59.878Z"
   },
   {
    "duration": 319,
    "start_time": "2021-10-10T11:34:18.576Z"
   },
   {
    "duration": 356,
    "start_time": "2021-10-10T11:34:51.109Z"
   },
   {
    "duration": 73,
    "start_time": "2021-10-10T11:35:22.833Z"
   },
   {
    "duration": 39,
    "start_time": "2021-10-10T11:35:26.949Z"
   },
   {
    "duration": 37,
    "start_time": "2021-10-10T11:38:21.114Z"
   },
   {
    "duration": 40,
    "start_time": "2021-10-10T11:38:23.092Z"
   },
   {
    "duration": 20,
    "start_time": "2021-10-10T11:39:27.922Z"
   },
   {
    "duration": 41,
    "start_time": "2021-10-10T11:39:29.989Z"
   },
   {
    "duration": 34,
    "start_time": "2021-10-10T11:40:11.357Z"
   },
   {
    "duration": 129,
    "start_time": "2021-10-10T11:40:41.993Z"
   },
   {
    "duration": 32,
    "start_time": "2021-10-10T11:40:42.250Z"
   },
   {
    "duration": 26,
    "start_time": "2021-10-10T11:40:43.374Z"
   },
   {
    "duration": 43,
    "start_time": "2021-10-10T11:40:43.602Z"
   },
   {
    "duration": 7,
    "start_time": "2021-10-10T11:40:46.135Z"
   },
   {
    "duration": 40,
    "start_time": "2021-10-10T11:40:46.453Z"
   },
   {
    "duration": 65,
    "start_time": "2021-10-10T11:40:46.902Z"
   },
   {
    "duration": 47,
    "start_time": "2021-10-10T11:40:51.007Z"
   },
   {
    "duration": 34,
    "start_time": "2021-10-10T11:40:54.125Z"
   },
   {
    "duration": 108,
    "start_time": "2021-10-10T11:40:58.256Z"
   },
   {
    "duration": 54,
    "start_time": "2021-10-10T11:41:03.032Z"
   },
   {
    "duration": 32,
    "start_time": "2021-10-10T11:41:03.801Z"
   },
   {
    "duration": 35,
    "start_time": "2021-10-10T11:41:28.700Z"
   },
   {
    "duration": 36,
    "start_time": "2021-10-10T11:42:15.551Z"
   },
   {
    "duration": 2494,
    "start_time": "2021-10-10T11:45:27.325Z"
   },
   {
    "duration": 42,
    "start_time": "2021-10-10T11:46:02.703Z"
   },
   {
    "duration": 348,
    "start_time": "2021-10-10T11:54:48.496Z"
   },
   {
    "duration": 93,
    "start_time": "2021-10-10T11:55:01.884Z"
   },
   {
    "duration": 308,
    "start_time": "2021-10-10T11:55:06.150Z"
   },
   {
    "duration": 299,
    "start_time": "2021-10-10T11:55:38.437Z"
   },
   {
    "duration": 352,
    "start_time": "2021-10-10T11:57:42.349Z"
   },
   {
    "duration": 323,
    "start_time": "2021-10-10T11:58:09.501Z"
   },
   {
    "duration": 293,
    "start_time": "2021-10-10T11:58:24.436Z"
   },
   {
    "duration": 322,
    "start_time": "2021-10-10T11:58:35.735Z"
   },
   {
    "duration": 415,
    "start_time": "2021-10-10T12:00:02.336Z"
   },
   {
    "duration": 41,
    "start_time": "2021-10-10T12:00:07.179Z"
   },
   {
    "duration": 46,
    "start_time": "2021-10-10T12:02:44.546Z"
   },
   {
    "duration": 356,
    "start_time": "2021-10-10T12:03:06.799Z"
   },
   {
    "duration": 356,
    "start_time": "2021-10-10T12:03:28.638Z"
   },
   {
    "duration": 433,
    "start_time": "2021-10-10T12:04:04.242Z"
   },
   {
    "duration": 343,
    "start_time": "2021-10-10T12:04:14.368Z"
   },
   {
    "duration": 453,
    "start_time": "2021-10-10T12:31:17.115Z"
   },
   {
    "duration": 321,
    "start_time": "2021-10-10T13:22:29.671Z"
   },
   {
    "duration": 320,
    "start_time": "2021-10-10T13:22:50.636Z"
   },
   {
    "duration": 321,
    "start_time": "2021-10-10T13:23:15.161Z"
   },
   {
    "duration": 346,
    "start_time": "2021-10-10T13:23:31.552Z"
   },
   {
    "duration": 120,
    "start_time": "2021-10-10T13:29:03.036Z"
   },
   {
    "duration": 343,
    "start_time": "2021-10-10T13:29:13.012Z"
   },
   {
    "duration": 344,
    "start_time": "2021-10-10T13:29:24.378Z"
   },
   {
    "duration": 421,
    "start_time": "2021-10-10T13:29:35.305Z"
   },
   {
    "duration": 978,
    "start_time": "2021-10-10T13:30:10.267Z"
   },
   {
    "duration": 377,
    "start_time": "2021-10-10T13:30:26.503Z"
   },
   {
    "duration": 144,
    "start_time": "2021-10-11T13:12:22.124Z"
   },
   {
    "duration": 29,
    "start_time": "2021-10-11T13:12:23.399Z"
   },
   {
    "duration": 26,
    "start_time": "2021-10-11T13:12:25.940Z"
   },
   {
    "duration": 51,
    "start_time": "2021-10-11T13:12:26.278Z"
   },
   {
    "duration": 7,
    "start_time": "2021-10-11T13:12:26.673Z"
   },
   {
    "duration": 45,
    "start_time": "2021-10-11T13:12:27.078Z"
   },
   {
    "duration": 67,
    "start_time": "2021-10-11T13:12:27.443Z"
   },
   {
    "duration": 50,
    "start_time": "2021-10-11T13:12:27.926Z"
   },
   {
    "duration": 34,
    "start_time": "2021-10-11T13:12:29.562Z"
   },
   {
    "duration": 118,
    "start_time": "2021-10-11T13:12:30.517Z"
   },
   {
    "duration": 59,
    "start_time": "2021-10-11T13:12:31.248Z"
   },
   {
    "duration": 34,
    "start_time": "2021-10-11T13:12:31.943Z"
   },
   {
    "duration": 32,
    "start_time": "2021-10-11T13:12:33.299Z"
   },
   {
    "duration": 34,
    "start_time": "2021-10-11T13:12:36.480Z"
   },
   {
    "duration": 295,
    "start_time": "2021-10-11T13:12:38.770Z"
   },
   {
    "duration": 270,
    "start_time": "2021-10-11T13:12:51.173Z"
   },
   {
    "duration": 277,
    "start_time": "2021-10-11T13:13:27.400Z"
   },
   {
    "duration": 282,
    "start_time": "2021-10-11T13:13:37.963Z"
   },
   {
    "duration": 45,
    "start_time": "2021-10-11T13:13:53.951Z"
   },
   {
    "duration": 1248,
    "start_time": "2021-10-11T13:20:39.826Z"
   },
   {
    "duration": 49,
    "start_time": "2021-10-11T13:59:05.995Z"
   },
   {
    "duration": 51,
    "start_time": "2021-10-11T14:01:26.807Z"
   },
   {
    "duration": 143,
    "start_time": "2021-10-11T14:01:53.104Z"
   },
   {
    "duration": 33,
    "start_time": "2021-10-11T14:01:53.411Z"
   },
   {
    "duration": 29,
    "start_time": "2021-10-11T14:01:54.142Z"
   },
   {
    "duration": 51,
    "start_time": "2021-10-11T14:01:54.342Z"
   },
   {
    "duration": 7,
    "start_time": "2021-10-11T14:01:54.561Z"
   },
   {
    "duration": 46,
    "start_time": "2021-10-11T14:01:54.789Z"
   },
   {
    "duration": 66,
    "start_time": "2021-10-11T14:01:54.976Z"
   },
   {
    "duration": 50,
    "start_time": "2021-10-11T14:01:55.526Z"
   },
   {
    "duration": 38,
    "start_time": "2021-10-11T14:01:55.997Z"
   },
   {
    "duration": 125,
    "start_time": "2021-10-11T14:01:56.562Z"
   },
   {
    "duration": 57,
    "start_time": "2021-10-11T14:01:57.015Z"
   },
   {
    "duration": 38,
    "start_time": "2021-10-11T14:01:57.236Z"
   },
   {
    "duration": 35,
    "start_time": "2021-10-11T14:01:57.470Z"
   },
   {
    "duration": 35,
    "start_time": "2021-10-11T14:01:59.285Z"
   },
   {
    "duration": 54,
    "start_time": "2021-10-11T14:02:04.501Z"
   },
   {
    "duration": 474,
    "start_time": "2021-10-11T14:17:16.335Z"
   },
   {
    "duration": 841,
    "start_time": "2021-10-11T14:22:00.316Z"
   },
   {
    "duration": 335,
    "start_time": "2021-10-11T14:29:25.947Z"
   },
   {
    "duration": 73,
    "start_time": "2021-10-11T14:30:01.698Z"
   },
   {
    "duration": 150,
    "start_time": "2021-10-11T14:31:35.783Z"
   },
   {
    "duration": 30,
    "start_time": "2021-10-11T14:31:36.021Z"
   },
   {
    "duration": 27,
    "start_time": "2021-10-11T14:31:37.090Z"
   },
   {
    "duration": 50,
    "start_time": "2021-10-11T14:31:37.424Z"
   },
   {
    "duration": 6,
    "start_time": "2021-10-11T14:31:42.320Z"
   },
   {
    "duration": 48,
    "start_time": "2021-10-11T14:31:42.769Z"
   },
   {
    "duration": 67,
    "start_time": "2021-10-11T14:31:43.152Z"
   },
   {
    "duration": 50,
    "start_time": "2021-10-11T14:31:43.366Z"
   },
   {
    "duration": 37,
    "start_time": "2021-10-11T14:31:43.831Z"
   },
   {
    "duration": 120,
    "start_time": "2021-10-11T14:31:45.131Z"
   },
   {
    "duration": 62,
    "start_time": "2021-10-11T14:31:51.067Z"
   },
   {
    "duration": 37,
    "start_time": "2021-10-11T14:31:55.909Z"
   },
   {
    "duration": 31,
    "start_time": "2021-10-11T14:32:08.004Z"
   },
   {
    "duration": 34,
    "start_time": "2021-10-11T14:32:09.443Z"
   },
   {
    "duration": 51,
    "start_time": "2021-10-11T14:32:10.290Z"
   },
   {
    "duration": 832,
    "start_time": "2021-10-11T14:32:11.675Z"
   },
   {
    "duration": 493,
    "start_time": "2021-10-11T14:32:19.854Z"
   },
   {
    "duration": 339,
    "start_time": "2021-10-11T14:33:59.682Z"
   },
   {
    "duration": 302,
    "start_time": "2021-10-11T14:34:10.372Z"
   },
   {
    "duration": 50,
    "start_time": "2021-10-11T14:47:46.003Z"
   },
   {
    "duration": 40,
    "start_time": "2021-10-11T14:47:47.243Z"
   },
   {
    "duration": 278,
    "start_time": "2021-10-11T14:48:11.310Z"
   },
   {
    "duration": 321,
    "start_time": "2021-10-11T14:49:18.976Z"
   },
   {
    "duration": 303,
    "start_time": "2021-10-11T14:50:06.661Z"
   },
   {
    "duration": 293,
    "start_time": "2021-10-11T14:50:49.548Z"
   },
   {
    "duration": 143,
    "start_time": "2021-10-11T14:52:18.093Z"
   },
   {
    "duration": 31,
    "start_time": "2021-10-11T14:52:18.310Z"
   },
   {
    "duration": 27,
    "start_time": "2021-10-11T14:52:18.978Z"
   },
   {
    "duration": 51,
    "start_time": "2021-10-11T14:52:19.186Z"
   },
   {
    "duration": 7,
    "start_time": "2021-10-11T14:52:19.381Z"
   },
   {
    "duration": 42,
    "start_time": "2021-10-11T14:52:19.548Z"
   },
   {
    "duration": 65,
    "start_time": "2021-10-11T14:52:19.756Z"
   },
   {
    "duration": 49,
    "start_time": "2021-10-11T14:52:19.947Z"
   },
   {
    "duration": 35,
    "start_time": "2021-10-11T14:52:20.179Z"
   },
   {
    "duration": 161,
    "start_time": "2021-10-11T14:52:20.378Z"
   },
   {
    "duration": 33,
    "start_time": "2021-10-11T14:52:20.632Z"
   },
   {
    "duration": 37,
    "start_time": "2021-10-11T14:52:23.139Z"
   },
   {
    "duration": 47,
    "start_time": "2021-10-11T14:52:24.624Z"
   },
   {
    "duration": 33,
    "start_time": "2021-10-11T14:52:25.973Z"
   },
   {
    "duration": 54,
    "start_time": "2021-10-11T14:52:28.640Z"
   },
   {
    "duration": 834,
    "start_time": "2021-10-11T14:52:30.083Z"
   },
   {
    "duration": 649,
    "start_time": "2021-10-11T14:52:35.087Z"
   },
   {
    "duration": 319,
    "start_time": "2021-10-11T14:53:07.193Z"
   },
   {
    "duration": 45,
    "start_time": "2021-10-11T14:53:57.606Z"
   },
   {
    "duration": 48,
    "start_time": "2021-10-11T14:54:24.867Z"
   },
   {
    "duration": 317,
    "start_time": "2021-10-11T14:55:50.407Z"
   },
   {
    "duration": 343,
    "start_time": "2021-10-11T14:58:42.675Z"
   },
   {
    "duration": 100,
    "start_time": "2021-10-11T14:59:46.177Z"
   },
   {
    "duration": 334,
    "start_time": "2021-10-11T15:00:19.630Z"
   },
   {
    "duration": 777,
    "start_time": "2021-10-11T15:00:44.147Z"
   },
   {
    "duration": 753,
    "start_time": "2021-10-11T15:01:09.872Z"
   },
   {
    "duration": 729,
    "start_time": "2021-10-11T15:01:30.612Z"
   },
   {
    "duration": 344,
    "start_time": "2021-10-11T15:01:52.269Z"
   },
   {
    "duration": 301,
    "start_time": "2021-10-11T15:02:39.900Z"
   },
   {
    "duration": 301,
    "start_time": "2021-10-11T15:04:06.074Z"
   },
   {
    "duration": 349,
    "start_time": "2021-10-11T15:19:26.380Z"
   },
   {
    "duration": 70,
    "start_time": "2021-10-11T15:20:02.436Z"
   },
   {
    "duration": 45,
    "start_time": "2021-10-11T15:21:13.424Z"
   },
   {
    "duration": 46,
    "start_time": "2021-10-11T15:21:19.781Z"
   },
   {
    "duration": 16,
    "start_time": "2021-10-11T15:23:08.540Z"
   },
   {
    "duration": 38,
    "start_time": "2021-10-11T15:23:09.774Z"
   },
   {
    "duration": 16,
    "start_time": "2021-10-11T15:23:24.313Z"
   },
   {
    "duration": 43,
    "start_time": "2021-10-11T15:23:25.215Z"
   },
   {
    "duration": 108,
    "start_time": "2021-10-11T15:26:16.111Z"
   },
   {
    "duration": 6,
    "start_time": "2021-10-11T15:37:44.783Z"
   },
   {
    "duration": 404,
    "start_time": "2021-10-11T15:37:54.624Z"
   },
   {
    "duration": 266,
    "start_time": "2021-10-11T15:41:39.788Z"
   },
   {
    "duration": 5,
    "start_time": "2021-10-11T15:41:51.621Z"
   },
   {
    "duration": 6874,
    "start_time": "2021-10-11T15:43:49.260Z"
   },
   {
    "duration": 377,
    "start_time": "2021-10-11T15:44:11.857Z"
   },
   {
    "duration": 54,
    "start_time": "2021-10-11T15:44:48.496Z"
   },
   {
    "duration": 45,
    "start_time": "2021-10-11T15:44:50.517Z"
   },
   {
    "duration": 392,
    "start_time": "2021-10-11T15:44:58.293Z"
   },
   {
    "duration": 14,
    "start_time": "2021-10-11T15:45:55.102Z"
   },
   {
    "duration": 310,
    "start_time": "2021-10-11T15:46:28.830Z"
   },
   {
    "duration": 18,
    "start_time": "2021-10-11T15:46:39.951Z"
   },
   {
    "duration": 147,
    "start_time": "2021-10-11T15:47:20.780Z"
   },
   {
    "duration": 29,
    "start_time": "2021-10-11T15:47:20.966Z"
   },
   {
    "duration": 28,
    "start_time": "2021-10-11T15:47:21.864Z"
   },
   {
    "duration": 47,
    "start_time": "2021-10-11T15:47:22.111Z"
   },
   {
    "duration": 7,
    "start_time": "2021-10-11T15:47:22.345Z"
   },
   {
    "duration": 41,
    "start_time": "2021-10-11T15:47:22.598Z"
   },
   {
    "duration": 68,
    "start_time": "2021-10-11T15:47:22.870Z"
   },
   {
    "duration": 52,
    "start_time": "2021-10-11T15:47:23.128Z"
   },
   {
    "duration": 34,
    "start_time": "2021-10-11T15:47:23.359Z"
   },
   {
    "duration": 115,
    "start_time": "2021-10-11T15:47:23.675Z"
   },
   {
    "duration": 56,
    "start_time": "2021-10-11T15:47:24.118Z"
   },
   {
    "duration": 33,
    "start_time": "2021-10-11T15:47:24.523Z"
   },
   {
    "duration": 33,
    "start_time": "2021-10-11T15:47:24.940Z"
   },
   {
    "duration": 54,
    "start_time": "2021-10-11T15:47:26.603Z"
   },
   {
    "duration": 56,
    "start_time": "2021-10-11T15:47:27.214Z"
   },
   {
    "duration": 828,
    "start_time": "2021-10-11T15:47:27.856Z"
   },
   {
    "duration": 19,
    "start_time": "2021-10-11T15:47:28.699Z"
   },
   {
    "duration": 107,
    "start_time": "2021-10-11T15:47:29.279Z"
   },
   {
    "duration": 17,
    "start_time": "2021-10-11T15:47:32.281Z"
   },
   {
    "duration": 145,
    "start_time": "2021-10-11T15:47:44.230Z"
   },
   {
    "duration": 29,
    "start_time": "2021-10-11T15:47:44.553Z"
   },
   {
    "duration": 29,
    "start_time": "2021-10-11T15:47:46.189Z"
   },
   {
    "duration": 54,
    "start_time": "2021-10-11T15:47:46.523Z"
   },
   {
    "duration": 8,
    "start_time": "2021-10-11T15:47:46.890Z"
   },
   {
    "duration": 48,
    "start_time": "2021-10-11T15:47:47.272Z"
   },
   {
    "duration": 69,
    "start_time": "2021-10-11T15:47:47.586Z"
   },
   {
    "duration": 62,
    "start_time": "2021-10-11T15:47:47.964Z"
   },
   {
    "duration": 36,
    "start_time": "2021-10-11T15:47:48.258Z"
   },
   {
    "duration": 115,
    "start_time": "2021-10-11T15:47:48.594Z"
   },
   {
    "duration": 57,
    "start_time": "2021-10-11T15:47:48.953Z"
   },
   {
    "duration": 34,
    "start_time": "2021-10-11T15:47:49.338Z"
   },
   {
    "duration": 33,
    "start_time": "2021-10-11T15:47:49.673Z"
   },
   {
    "duration": 35,
    "start_time": "2021-10-11T15:47:50.772Z"
   },
   {
    "duration": 52,
    "start_time": "2021-10-11T15:47:51.552Z"
   },
   {
    "duration": 875,
    "start_time": "2021-10-11T15:47:52.272Z"
   },
   {
    "duration": 20,
    "start_time": "2021-10-11T15:47:53.150Z"
   },
   {
    "duration": 114,
    "start_time": "2021-10-11T15:47:53.354Z"
   },
   {
    "duration": 307,
    "start_time": "2021-10-11T15:47:57.893Z"
   },
   {
    "duration": 140,
    "start_time": "2021-10-11T15:50:19.472Z"
   },
   {
    "duration": 32,
    "start_time": "2021-10-11T15:50:19.726Z"
   },
   {
    "duration": 28,
    "start_time": "2021-10-11T15:50:20.613Z"
   },
   {
    "duration": 52,
    "start_time": "2021-10-11T15:50:20.808Z"
   },
   {
    "duration": 8,
    "start_time": "2021-10-11T15:50:21.000Z"
   },
   {
    "duration": 51,
    "start_time": "2021-10-11T15:50:21.229Z"
   },
   {
    "duration": 70,
    "start_time": "2021-10-11T15:50:21.485Z"
   },
   {
    "duration": 53,
    "start_time": "2021-10-11T15:50:21.698Z"
   },
   {
    "duration": 39,
    "start_time": "2021-10-11T15:50:21.946Z"
   },
   {
    "duration": 117,
    "start_time": "2021-10-11T15:50:22.162Z"
   },
   {
    "duration": 59,
    "start_time": "2021-10-11T15:50:22.410Z"
   },
   {
    "duration": 33,
    "start_time": "2021-10-11T15:50:22.646Z"
   },
   {
    "duration": 40,
    "start_time": "2021-10-11T15:50:22.928Z"
   },
   {
    "duration": 36,
    "start_time": "2021-10-11T15:50:23.544Z"
   },
   {
    "duration": 53,
    "start_time": "2021-10-11T15:50:23.944Z"
   },
   {
    "duration": 866,
    "start_time": "2021-10-11T15:50:24.197Z"
   },
   {
    "duration": 17,
    "start_time": "2021-10-11T15:50:25.065Z"
   },
   {
    "duration": 153,
    "start_time": "2021-10-11T15:50:25.084Z"
   },
   {
    "duration": 342,
    "start_time": "2021-10-11T15:50:28.418Z"
   },
   {
    "duration": 149,
    "start_time": "2021-10-11T15:53:02.053Z"
   },
   {
    "duration": 38,
    "start_time": "2021-10-11T15:53:02.289Z"
   },
   {
    "duration": 36,
    "start_time": "2021-10-11T15:53:03.291Z"
   },
   {
    "duration": 52,
    "start_time": "2021-10-11T15:53:03.564Z"
   },
   {
    "duration": 6,
    "start_time": "2021-10-11T15:53:03.868Z"
   },
   {
    "duration": 45,
    "start_time": "2021-10-11T15:53:04.149Z"
   },
   {
    "duration": 71,
    "start_time": "2021-10-11T15:53:04.449Z"
   },
   {
    "duration": 53,
    "start_time": "2021-10-11T15:53:04.744Z"
   },
   {
    "duration": 36,
    "start_time": "2021-10-11T15:53:05.043Z"
   },
   {
    "duration": 115,
    "start_time": "2021-10-11T15:53:05.362Z"
   },
   {
    "duration": 102,
    "start_time": "2021-10-11T15:53:05.722Z"
   },
   {
    "duration": 31,
    "start_time": "2021-10-11T15:53:06.060Z"
   },
   {
    "duration": 31,
    "start_time": "2021-10-11T15:53:06.421Z"
   },
   {
    "duration": 33,
    "start_time": "2021-10-11T15:53:07.208Z"
   },
   {
    "duration": 55,
    "start_time": "2021-10-11T15:53:07.528Z"
   },
   {
    "duration": 839,
    "start_time": "2021-10-11T15:53:07.969Z"
   },
   {
    "duration": 22,
    "start_time": "2021-10-11T15:53:08.813Z"
   },
   {
    "duration": 121,
    "start_time": "2021-10-11T15:53:08.838Z"
   },
   {
    "duration": 310,
    "start_time": "2021-10-11T15:53:12.421Z"
   },
   {
    "duration": 263,
    "start_time": "2021-10-11T15:53:44.360Z"
   },
   {
    "duration": 303,
    "start_time": "2021-10-11T15:55:37.450Z"
   },
   {
    "duration": 317,
    "start_time": "2021-10-11T15:55:40.206Z"
   },
   {
    "duration": 886,
    "start_time": "2021-10-11T15:55:42.319Z"
   },
   {
    "duration": 103,
    "start_time": "2021-10-11T15:56:51.079Z"
   },
   {
    "duration": 40,
    "start_time": "2021-10-11T15:56:53.697Z"
   },
   {
    "duration": 97,
    "start_time": "2021-10-11T15:57:13.233Z"
   },
   {
    "duration": 33,
    "start_time": "2021-10-11T15:57:14.432Z"
   },
   {
    "duration": 92,
    "start_time": "2021-10-11T15:57:31.491Z"
   },
   {
    "duration": 32,
    "start_time": "2021-10-11T15:57:33.829Z"
   },
   {
    "duration": 3524,
    "start_time": "2021-10-11T15:58:51.528Z"
   },
   {
    "duration": 3526,
    "start_time": "2021-10-11T15:59:11.333Z"
   },
   {
    "duration": -159,
    "start_time": "2021-10-11T15:59:15.021Z"
   },
   {
    "duration": 141,
    "start_time": "2021-10-11T15:59:25.038Z"
   },
   {
    "duration": 30,
    "start_time": "2021-10-11T15:59:25.342Z"
   },
   {
    "duration": 28,
    "start_time": "2021-10-11T15:59:26.328Z"
   },
   {
    "duration": 47,
    "start_time": "2021-10-11T15:59:26.539Z"
   },
   {
    "duration": 6,
    "start_time": "2021-10-11T15:59:26.769Z"
   },
   {
    "duration": 42,
    "start_time": "2021-10-11T15:59:27.006Z"
   },
   {
    "duration": 67,
    "start_time": "2021-10-11T15:59:27.233Z"
   },
   {
    "duration": 52,
    "start_time": "2021-10-11T15:59:27.449Z"
   },
   {
    "duration": 37,
    "start_time": "2021-10-11T15:59:27.703Z"
   },
   {
    "duration": 113,
    "start_time": "2021-10-11T15:59:27.936Z"
   },
   {
    "duration": 112,
    "start_time": "2021-10-11T15:59:28.193Z"
   },
   {
    "duration": 29,
    "start_time": "2021-10-11T15:59:28.470Z"
   },
   {
    "duration": 31,
    "start_time": "2021-10-11T15:59:28.744Z"
   },
   {
    "duration": 47,
    "start_time": "2021-10-11T15:59:29.319Z"
   },
   {
    "duration": 74,
    "start_time": "2021-10-11T15:59:29.659Z"
   },
   {
    "duration": 1346,
    "start_time": "2021-10-11T15:59:29.911Z"
   },
   {
    "duration": 54,
    "start_time": "2021-10-11T15:59:31.260Z"
   },
   {
    "duration": 166,
    "start_time": "2021-10-11T15:59:31.317Z"
   },
   {
    "duration": 338,
    "start_time": "2021-10-11T15:59:31.486Z"
   },
   {
    "duration": 23,
    "start_time": "2021-10-11T16:00:03.401Z"
   },
   {
    "duration": 299,
    "start_time": "2021-10-11T16:00:59.065Z"
   },
   {
    "duration": 629,
    "start_time": "2021-10-11T16:01:34.630Z"
   },
   {
    "duration": 266,
    "start_time": "2021-10-11T16:03:29.240Z"
   },
   {
    "duration": 320,
    "start_time": "2021-10-11T16:03:35.179Z"
   },
   {
    "duration": 344,
    "start_time": "2021-10-11T16:03:41.924Z"
   },
   {
    "duration": 430,
    "start_time": "2021-10-11T16:03:50.680Z"
   },
   {
    "duration": 438,
    "start_time": "2021-10-11T16:04:05.521Z"
   },
   {
    "duration": 313,
    "start_time": "2021-10-11T16:04:23.327Z"
   },
   {
    "duration": 3020,
    "start_time": "2021-10-11T16:04:33.248Z"
   },
   {
    "duration": 412,
    "start_time": "2021-10-11T16:04:50.712Z"
   },
   {
    "duration": 525,
    "start_time": "2021-10-11T16:04:57.665Z"
   },
   {
    "duration": 1570,
    "start_time": "2021-10-11T16:05:10.423Z"
   },
   {
    "duration": 533,
    "start_time": "2021-10-11T16:05:29.091Z"
   },
   {
    "duration": 938,
    "start_time": "2021-10-11T16:05:55.500Z"
   },
   {
    "duration": 967,
    "start_time": "2021-10-11T16:06:00.693Z"
   },
   {
    "duration": 634,
    "start_time": "2021-10-11T16:06:04.345Z"
   },
   {
    "duration": 586,
    "start_time": "2021-10-11T16:06:05.966Z"
   },
   {
    "duration": 572,
    "start_time": "2021-10-11T16:06:07.120Z"
   },
   {
    "duration": 597,
    "start_time": "2021-10-11T16:06:08.183Z"
   },
   {
    "duration": 715,
    "start_time": "2021-10-11T16:06:09.238Z"
   },
   {
    "duration": 3536,
    "start_time": "2021-10-11T16:06:16.911Z"
   },
   {
    "duration": 1839,
    "start_time": "2021-10-11T16:06:40.520Z"
   },
   {
    "duration": 1819,
    "start_time": "2021-10-11T16:07:18.149Z"
   },
   {
    "duration": 575,
    "start_time": "2021-10-11T16:07:32.345Z"
   },
   {
    "duration": 539,
    "start_time": "2021-10-11T16:07:43.857Z"
   },
   {
    "duration": 808,
    "start_time": "2021-10-11T16:07:56.763Z"
   },
   {
    "duration": 529,
    "start_time": "2021-10-11T16:08:25.556Z"
   },
   {
    "duration": 562,
    "start_time": "2021-10-11T16:08:34.922Z"
   },
   {
    "duration": 843,
    "start_time": "2021-10-11T16:08:45.779Z"
   },
   {
    "duration": 760,
    "start_time": "2021-10-11T16:08:54.619Z"
   },
   {
    "duration": 548,
    "start_time": "2021-10-11T16:09:03.597Z"
   },
   {
    "duration": 1221,
    "start_time": "2021-10-11T16:09:13.083Z"
   },
   {
    "duration": 602,
    "start_time": "2021-10-11T16:09:19.251Z"
   },
   {
    "duration": 330,
    "start_time": "2021-10-11T16:09:32.979Z"
   },
   {
    "duration": 3183,
    "start_time": "2021-10-11T16:09:40.589Z"
   },
   {
    "duration": 3037,
    "start_time": "2021-10-11T16:09:51.606Z"
   },
   {
    "duration": 740,
    "start_time": "2021-10-11T16:10:02.615Z"
   },
   {
    "duration": 525,
    "start_time": "2021-10-11T16:10:21.289Z"
   },
   {
    "duration": 518,
    "start_time": "2021-10-11T16:10:51.378Z"
   },
   {
    "duration": 539,
    "start_time": "2021-10-11T16:11:10.012Z"
   },
   {
    "duration": 545,
    "start_time": "2021-10-11T16:11:20.540Z"
   },
   {
    "duration": 299,
    "start_time": "2021-10-11T16:11:26.420Z"
   },
   {
    "duration": 549,
    "start_time": "2021-10-11T16:11:36.571Z"
   },
   {
    "duration": 424,
    "start_time": "2021-10-11T16:11:43.812Z"
   },
   {
    "duration": 333,
    "start_time": "2021-10-11T16:11:50.056Z"
   },
   {
    "duration": 18,
    "start_time": "2021-10-11T16:13:09.059Z"
   },
   {
    "duration": 21,
    "start_time": "2021-10-11T16:13:27.621Z"
   },
   {
    "duration": 334,
    "start_time": "2021-10-11T16:14:00.343Z"
   },
   {
    "duration": 476,
    "start_time": "2021-10-11T16:14:10.212Z"
   },
   {
    "duration": 387,
    "start_time": "2021-10-11T16:14:17.253Z"
   },
   {
    "duration": 391,
    "start_time": "2021-10-11T16:14:24.964Z"
   },
   {
    "duration": 396,
    "start_time": "2021-10-11T16:14:30.049Z"
   },
   {
    "duration": 1004,
    "start_time": "2021-10-11T16:14:35.666Z"
   },
   {
    "duration": 448,
    "start_time": "2021-10-11T16:14:41.858Z"
   },
   {
    "duration": 506,
    "start_time": "2021-10-11T16:14:47.406Z"
   },
   {
    "duration": 671,
    "start_time": "2021-10-11T16:14:52.532Z"
   },
   {
    "duration": 542,
    "start_time": "2021-10-11T16:15:05.572Z"
   },
   {
    "duration": 22,
    "start_time": "2021-10-11T16:16:22.925Z"
   },
   {
    "duration": 376,
    "start_time": "2021-10-11T16:16:47.338Z"
   },
   {
    "duration": 345,
    "start_time": "2021-10-11T16:17:13.569Z"
   },
   {
    "duration": 318,
    "start_time": "2021-10-11T16:17:21.957Z"
   },
   {
    "duration": 283,
    "start_time": "2021-10-11T16:17:29.182Z"
   },
   {
    "duration": 274,
    "start_time": "2021-10-11T16:17:43.312Z"
   },
   {
    "duration": 408,
    "start_time": "2021-10-11T16:17:52.895Z"
   },
   {
    "duration": 465,
    "start_time": "2021-10-11T16:17:59.537Z"
   },
   {
    "duration": 311,
    "start_time": "2021-10-11T16:18:05.163Z"
   },
   {
    "duration": 330,
    "start_time": "2021-10-11T16:18:17.652Z"
   },
   {
    "duration": 287,
    "start_time": "2021-10-11T16:18:23.358Z"
   },
   {
    "duration": 275,
    "start_time": "2021-10-11T16:27:54.524Z"
   },
   {
    "duration": 315,
    "start_time": "2021-10-11T16:29:50.610Z"
   },
   {
    "duration": 277,
    "start_time": "2021-10-11T16:29:55.930Z"
   },
   {
    "duration": 360,
    "start_time": "2021-10-11T16:30:01.924Z"
   },
   {
    "duration": 20,
    "start_time": "2021-10-11T16:30:49.341Z"
   },
   {
    "duration": 364,
    "start_time": "2021-10-11T16:30:57.552Z"
   },
   {
    "duration": 367,
    "start_time": "2021-10-11T16:31:17.857Z"
   },
   {
    "duration": 416,
    "start_time": "2021-10-11T16:31:26.189Z"
   },
   {
    "duration": 547,
    "start_time": "2021-10-11T16:31:31.151Z"
   },
   {
    "duration": 621,
    "start_time": "2021-10-11T16:32:44.233Z"
   },
   {
    "duration": 5223,
    "start_time": "2021-10-11T16:33:11.567Z"
   },
   {
    "duration": 1273,
    "start_time": "2021-10-11T16:33:27.791Z"
   },
   {
    "duration": 803,
    "start_time": "2021-10-11T16:33:54.772Z"
   },
   {
    "duration": 338,
    "start_time": "2021-10-11T16:34:04.968Z"
   },
   {
    "duration": 330,
    "start_time": "2021-10-11T16:34:27.723Z"
   },
   {
    "duration": 381,
    "start_time": "2021-10-11T16:34:35.305Z"
   },
   {
    "duration": 473,
    "start_time": "2021-10-11T16:35:17.821Z"
   },
   {
    "duration": 612,
    "start_time": "2021-10-11T16:35:47.568Z"
   },
   {
    "duration": 561,
    "start_time": "2021-10-11T16:37:18.394Z"
   },
   {
    "duration": 326,
    "start_time": "2021-10-12T03:35:56.468Z"
   },
   {
    "duration": 667,
    "start_time": "2021-10-12T03:36:03.221Z"
   },
   {
    "duration": 20,
    "start_time": "2021-10-12T03:36:03.890Z"
   },
   {
    "duration": 20,
    "start_time": "2021-10-12T03:36:04.224Z"
   },
   {
    "duration": 36,
    "start_time": "2021-10-12T03:36:04.426Z"
   },
   {
    "duration": 5,
    "start_time": "2021-10-12T03:36:04.658Z"
   },
   {
    "duration": 35,
    "start_time": "2021-10-12T03:36:04.885Z"
   },
   {
    "duration": 43,
    "start_time": "2021-10-12T03:36:05.103Z"
   },
   {
    "duration": 35,
    "start_time": "2021-10-12T03:36:05.330Z"
   },
   {
    "duration": 27,
    "start_time": "2021-10-12T03:36:05.543Z"
   },
   {
    "duration": 68,
    "start_time": "2021-10-12T03:36:05.780Z"
   },
   {
    "duration": 69,
    "start_time": "2021-10-12T03:36:05.994Z"
   },
   {
    "duration": 20,
    "start_time": "2021-10-12T03:36:06.225Z"
   },
   {
    "duration": 19,
    "start_time": "2021-10-12T03:36:06.436Z"
   },
   {
    "duration": 24,
    "start_time": "2021-10-12T03:36:06.882Z"
   },
   {
    "duration": 35,
    "start_time": "2021-10-12T03:36:07.112Z"
   },
   {
    "duration": 485,
    "start_time": "2021-10-12T03:36:07.324Z"
   },
   {
    "duration": 14,
    "start_time": "2021-10-12T03:36:07.811Z"
   },
   {
    "duration": 80,
    "start_time": "2021-10-12T03:36:07.827Z"
   },
   {
    "duration": 21,
    "start_time": "2021-10-12T03:36:09.743Z"
   },
   {
    "duration": 344,
    "start_time": "2021-10-12T03:36:13.349Z"
   },
   {
    "duration": 120,
    "start_time": "2021-10-12T03:47:17.715Z"
   },
   {
    "duration": 414,
    "start_time": "2021-10-12T03:47:26.942Z"
   },
   {
    "duration": 330,
    "start_time": "2021-10-12T03:47:44.300Z"
   },
   {
    "duration": 335,
    "start_time": "2021-10-12T03:51:11.281Z"
   },
   {
    "duration": 445,
    "start_time": "2021-10-12T03:51:16.910Z"
   },
   {
    "duration": 718,
    "start_time": "2021-10-12T04:10:21.892Z"
   },
   {
    "duration": 24,
    "start_time": "2021-10-12T04:10:27.108Z"
   },
   {
    "duration": 20,
    "start_time": "2021-10-12T04:10:27.999Z"
   },
   {
    "duration": 36,
    "start_time": "2021-10-12T04:10:28.531Z"
   },
   {
    "duration": 5,
    "start_time": "2021-10-12T04:10:28.754Z"
   },
   {
    "duration": 35,
    "start_time": "2021-10-12T04:10:29.001Z"
   },
   {
    "duration": 44,
    "start_time": "2021-10-12T04:10:29.265Z"
   },
   {
    "duration": 35,
    "start_time": "2021-10-12T04:10:29.522Z"
   },
   {
    "duration": 27,
    "start_time": "2021-10-12T04:10:29.780Z"
   },
   {
    "duration": 72,
    "start_time": "2021-10-12T04:10:30.265Z"
   },
   {
    "duration": 68,
    "start_time": "2021-10-12T04:10:31.963Z"
   },
   {
    "duration": 19,
    "start_time": "2021-10-12T04:10:34.176Z"
   },
   {
    "duration": 22,
    "start_time": "2021-10-12T04:10:34.733Z"
   },
   {
    "duration": 25,
    "start_time": "2021-10-12T04:10:35.709Z"
   },
   {
    "duration": 34,
    "start_time": "2021-10-12T04:10:35.922Z"
   },
   {
    "duration": 477,
    "start_time": "2021-10-12T04:10:36.176Z"
   },
   {
    "duration": 16,
    "start_time": "2021-10-12T04:10:36.705Z"
   },
   {
    "duration": 70,
    "start_time": "2021-10-12T04:10:38.616Z"
   },
   {
    "duration": 19,
    "start_time": "2021-10-12T04:10:40.501Z"
   },
   {
    "duration": 357,
    "start_time": "2021-10-12T04:10:41.091Z"
   },
   {
    "duration": 352,
    "start_time": "2021-10-12T04:10:53.255Z"
   },
   {
    "duration": 322,
    "start_time": "2021-10-12T04:10:54.971Z"
   },
   {
    "duration": 194,
    "start_time": "2021-10-12T04:10:55.295Z"
   },
   {
    "duration": 218,
    "start_time": "2021-10-12T04:10:58.486Z"
   },
   {
    "duration": 12,
    "start_time": "2021-10-12T04:11:01.420Z"
   },
   {
    "duration": 327,
    "start_time": "2021-10-12T04:11:03.088Z"
   },
   {
    "duration": 510,
    "start_time": "2021-10-12T04:11:30.765Z"
   },
   {
    "duration": 3,
    "start_time": "2021-10-12T04:12:08.127Z"
   },
   {
    "duration": 141,
    "start_time": "2021-10-12T04:12:12.310Z"
   },
   {
    "duration": 434,
    "start_time": "2021-10-12T04:13:08.314Z"
   },
   {
    "duration": 196,
    "start_time": "2021-10-12T04:13:20.653Z"
   },
   {
    "duration": 301,
    "start_time": "2021-10-12T04:16:34.808Z"
   },
   {
    "duration": 30,
    "start_time": "2021-10-12T04:16:42.661Z"
   },
   {
    "duration": 11,
    "start_time": "2021-10-12T04:17:14.532Z"
   },
   {
    "duration": 19,
    "start_time": "2021-10-12T04:18:03.873Z"
   },
   {
    "duration": 663,
    "start_time": "2021-10-12T17:44:25.498Z"
   },
   {
    "duration": 21,
    "start_time": "2021-10-12T17:44:26.162Z"
   },
   {
    "duration": 19,
    "start_time": "2021-10-12T17:44:26.419Z"
   },
   {
    "duration": 37,
    "start_time": "2021-10-12T17:44:26.607Z"
   },
   {
    "duration": 6,
    "start_time": "2021-10-12T17:44:26.819Z"
   },
   {
    "duration": 35,
    "start_time": "2021-10-12T17:44:26.993Z"
   },
   {
    "duration": 42,
    "start_time": "2021-10-12T17:44:27.167Z"
   },
   {
    "duration": 37,
    "start_time": "2021-10-12T17:44:27.359Z"
   },
   {
    "duration": 28,
    "start_time": "2021-10-12T17:44:27.524Z"
   },
   {
    "duration": 73,
    "start_time": "2021-10-12T17:44:27.744Z"
   },
   {
    "duration": 72,
    "start_time": "2021-10-12T17:44:27.904Z"
   },
   {
    "duration": 24,
    "start_time": "2021-10-12T17:44:28.094Z"
   },
   {
    "duration": 21,
    "start_time": "2021-10-12T17:44:28.285Z"
   },
   {
    "duration": 26,
    "start_time": "2021-10-12T17:44:28.662Z"
   },
   {
    "duration": 37,
    "start_time": "2021-10-12T17:44:28.849Z"
   },
   {
    "duration": 466,
    "start_time": "2021-10-12T17:44:29.041Z"
   },
   {
    "duration": 17,
    "start_time": "2021-10-12T17:44:30.824Z"
   },
   {
    "duration": 79,
    "start_time": "2021-10-12T17:44:31.059Z"
   },
   {
    "duration": 67,
    "start_time": "2021-10-12T17:44:39.647Z"
   },
   {
    "duration": 19,
    "start_time": "2021-10-12T17:44:43.257Z"
   },
   {
    "duration": 13,
    "start_time": "2021-10-12T17:51:29.487Z"
   },
   {
    "duration": 8,
    "start_time": "2021-10-12T17:51:41.363Z"
   },
   {
    "duration": 68,
    "start_time": "2021-10-12T17:52:05.531Z"
   },
   {
    "duration": 7,
    "start_time": "2021-10-12T17:52:23.882Z"
   },
   {
    "duration": 548,
    "start_time": "2021-10-12T17:57:31.980Z"
   },
   {
    "duration": 330,
    "start_time": "2021-10-12T17:59:17.910Z"
   },
   {
    "duration": 3,
    "start_time": "2021-10-12T18:00:35.769Z"
   },
   {
    "duration": 136,
    "start_time": "2021-10-12T18:00:40.909Z"
   },
   {
    "duration": 128,
    "start_time": "2021-10-12T18:02:30.091Z"
   },
   {
    "duration": 133,
    "start_time": "2021-10-12T18:02:38.847Z"
   },
   {
    "duration": 50,
    "start_time": "2021-10-12T18:04:34.766Z"
   },
   {
    "duration": 10,
    "start_time": "2021-10-12T18:05:00.348Z"
   },
   {
    "duration": 12,
    "start_time": "2021-10-12T18:05:53.868Z"
   },
   {
    "duration": 19,
    "start_time": "2021-10-12T18:06:05.633Z"
   },
   {
    "duration": 22,
    "start_time": "2021-10-12T18:06:36.207Z"
   },
   {
    "duration": 95,
    "start_time": "2021-10-12T18:06:54.597Z"
   },
   {
    "duration": 21,
    "start_time": "2021-10-12T18:07:21.345Z"
   },
   {
    "duration": 21,
    "start_time": "2021-10-12T18:07:21.582Z"
   },
   {
    "duration": 18,
    "start_time": "2021-10-12T18:07:22.433Z"
   },
   {
    "duration": 33,
    "start_time": "2021-10-12T18:07:22.642Z"
   },
   {
    "duration": 5,
    "start_time": "2021-10-12T18:07:22.831Z"
   },
   {
    "duration": 32,
    "start_time": "2021-10-12T18:07:22.991Z"
   },
   {
    "duration": 41,
    "start_time": "2021-10-12T18:07:23.184Z"
   },
   {
    "duration": 35,
    "start_time": "2021-10-12T18:07:23.334Z"
   },
   {
    "duration": 27,
    "start_time": "2021-10-12T18:07:23.520Z"
   },
   {
    "duration": 77,
    "start_time": "2021-10-12T18:07:23.696Z"
   },
   {
    "duration": 73,
    "start_time": "2021-10-12T18:07:23.905Z"
   },
   {
    "duration": 20,
    "start_time": "2021-10-12T18:07:24.120Z"
   },
   {
    "duration": 21,
    "start_time": "2021-10-12T18:07:24.340Z"
   },
   {
    "duration": 22,
    "start_time": "2021-10-12T18:07:24.824Z"
   },
   {
    "duration": 33,
    "start_time": "2021-10-12T18:07:25.290Z"
   },
   {
    "duration": 455,
    "start_time": "2021-10-12T18:07:25.564Z"
   },
   {
    "duration": 30,
    "start_time": "2021-10-12T18:07:26.021Z"
   },
   {
    "duration": 71,
    "start_time": "2021-10-12T18:07:26.241Z"
   },
   {
    "duration": 3,
    "start_time": "2021-10-12T18:07:27.719Z"
   },
   {
    "duration": 22,
    "start_time": "2021-10-12T18:07:27.929Z"
   },
   {
    "duration": 271,
    "start_time": "2021-10-12T18:07:28.103Z"
   },
   {
    "duration": 483,
    "start_time": "2021-10-12T18:07:28.376Z"
   },
   {
    "duration": 180,
    "start_time": "2021-10-12T18:07:28.991Z"
   },
   {
    "duration": 219,
    "start_time": "2021-10-12T18:07:31.014Z"
   },
   {
    "duration": 14,
    "start_time": "2021-10-12T18:07:33.249Z"
   },
   {
    "duration": 319,
    "start_time": "2021-10-12T18:07:33.399Z"
   },
   {
    "duration": 158,
    "start_time": "2021-10-12T18:07:33.720Z"
   },
   {
    "duration": 9,
    "start_time": "2021-10-12T18:07:34.182Z"
   },
   {
    "duration": 3,
    "start_time": "2021-10-12T18:07:44.839Z"
   },
   {
    "duration": 20,
    "start_time": "2021-10-12T18:07:50.726Z"
   },
   {
    "duration": 22,
    "start_time": "2021-10-12T18:09:33.499Z"
   },
   {
    "duration": 66,
    "start_time": "2021-10-12T18:09:48.347Z"
   },
   {
    "duration": 22,
    "start_time": "2021-10-12T18:09:51.813Z"
   },
   {
    "duration": 20,
    "start_time": "2021-10-12T18:10:27.710Z"
   },
   {
    "duration": 499,
    "start_time": "2021-10-12T18:10:53.360Z"
   },
   {
    "duration": 21,
    "start_time": "2021-10-12T18:11:29.798Z"
   },
   {
    "duration": 222,
    "start_time": "2021-10-12T18:11:34.650Z"
   },
   {
    "duration": 111,
    "start_time": "2021-10-12T18:59:47.346Z"
   },
   {
    "duration": 24,
    "start_time": "2021-10-12T18:59:49.261Z"
   },
   {
    "duration": 23,
    "start_time": "2021-10-12T18:59:49.745Z"
   },
   {
    "duration": 25,
    "start_time": "2021-10-12T18:59:50.649Z"
   },
   {
    "duration": 40,
    "start_time": "2021-10-12T18:59:50.861Z"
   },
   {
    "duration": 6,
    "start_time": "2021-10-12T18:59:51.079Z"
   },
   {
    "duration": 38,
    "start_time": "2021-10-12T18:59:51.400Z"
   },
   {
    "duration": 47,
    "start_time": "2021-10-12T18:59:51.671Z"
   },
   {
    "duration": 43,
    "start_time": "2021-10-12T18:59:51.950Z"
   },
   {
    "duration": 34,
    "start_time": "2021-10-12T18:59:52.188Z"
   },
   {
    "duration": 90,
    "start_time": "2021-10-12T18:59:52.433Z"
   },
   {
    "duration": 68,
    "start_time": "2021-10-12T18:59:52.730Z"
   },
   {
    "duration": 21,
    "start_time": "2021-10-12T18:59:53.013Z"
   },
   {
    "duration": 23,
    "start_time": "2021-10-12T18:59:53.348Z"
   },
   {
    "duration": 23,
    "start_time": "2021-10-12T18:59:54.902Z"
   },
   {
    "duration": 36,
    "start_time": "2021-10-12T18:59:55.652Z"
   },
   {
    "duration": 469,
    "start_time": "2021-10-12T18:59:56.639Z"
   },
   {
    "duration": 17,
    "start_time": "2021-10-12T18:59:57.110Z"
   },
   {
    "duration": 73,
    "start_time": "2021-10-12T18:59:57.808Z"
   },
   {
    "duration": 24,
    "start_time": "2021-10-12T18:59:58.426Z"
   },
   {
    "duration": 3,
    "start_time": "2021-10-12T19:00:00.063Z"
   },
   {
    "duration": 23,
    "start_time": "2021-10-12T19:00:02.035Z"
   },
   {
    "duration": 247,
    "start_time": "2021-10-12T19:00:03.091Z"
   },
   {
    "duration": 337,
    "start_time": "2021-10-12T19:00:04.173Z"
   },
   {
    "duration": 189,
    "start_time": "2021-10-12T19:00:19.896Z"
   },
   {
    "duration": 231,
    "start_time": "2021-10-12T19:00:20.294Z"
   },
   {
    "duration": 15,
    "start_time": "2021-10-12T19:00:25.899Z"
   },
   {
    "duration": 167,
    "start_time": "2021-10-12T19:00:29.709Z"
   },
   {
    "duration": 178,
    "start_time": "2021-10-12T19:00:44.771Z"
   },
   {
    "duration": 177,
    "start_time": "2021-10-12T19:01:07.349Z"
   },
   {
    "duration": 175,
    "start_time": "2021-10-12T19:01:28.674Z"
   },
   {
    "duration": 267,
    "start_time": "2021-10-12T19:01:41.353Z"
   },
   {
    "duration": 252,
    "start_time": "2021-10-12T19:01:50.954Z"
   },
   {
    "duration": 322,
    "start_time": "2021-10-12T19:01:56.929Z"
   },
   {
    "duration": 136,
    "start_time": "2021-10-12T19:02:09.981Z"
   },
   {
    "duration": 129,
    "start_time": "2021-10-12T19:02:21.889Z"
   },
   {
    "duration": 20,
    "start_time": "2021-10-12T19:03:08.663Z"
   },
   {
    "duration": 9,
    "start_time": "2021-10-12T19:03:16.182Z"
   },
   {
    "duration": 139,
    "start_time": "2021-10-12T19:05:16.944Z"
   },
   {
    "duration": 28,
    "start_time": "2021-10-12T19:15:31.554Z"
   },
   {
    "duration": 17,
    "start_time": "2021-10-12T19:15:47.513Z"
   },
   {
    "duration": 316,
    "start_time": "2021-10-12T19:16:50.326Z"
   },
   {
    "duration": 99,
    "start_time": "2021-10-12T19:16:59.689Z"
   },
   {
    "duration": 23,
    "start_time": "2021-10-12T19:16:59.858Z"
   },
   {
    "duration": 22,
    "start_time": "2021-10-12T19:17:00.123Z"
   },
   {
    "duration": 21,
    "start_time": "2021-10-12T19:17:00.956Z"
   },
   {
    "duration": 36,
    "start_time": "2021-10-12T19:17:01.171Z"
   },
   {
    "duration": 6,
    "start_time": "2021-10-12T19:17:01.402Z"
   },
   {
    "duration": 33,
    "start_time": "2021-10-12T19:17:01.642Z"
   },
   {
    "duration": 45,
    "start_time": "2021-10-12T19:17:01.844Z"
   },
   {
    "duration": 40,
    "start_time": "2021-10-12T19:17:02.057Z"
   },
   {
    "duration": 27,
    "start_time": "2021-10-12T19:17:02.287Z"
   },
   {
    "duration": 79,
    "start_time": "2021-10-12T19:17:02.505Z"
   },
   {
    "duration": 65,
    "start_time": "2021-10-12T19:17:02.733Z"
   },
   {
    "duration": 21,
    "start_time": "2021-10-12T19:17:02.964Z"
   },
   {
    "duration": 22,
    "start_time": "2021-10-12T19:17:03.197Z"
   },
   {
    "duration": 22,
    "start_time": "2021-10-12T19:17:03.642Z"
   },
   {
    "duration": 34,
    "start_time": "2021-10-12T19:17:03.888Z"
   },
   {
    "duration": 465,
    "start_time": "2021-10-12T19:17:04.116Z"
   },
   {
    "duration": 14,
    "start_time": "2021-10-12T19:17:04.583Z"
   },
   {
    "duration": 78,
    "start_time": "2021-10-12T19:17:04.608Z"
   },
   {
    "duration": 20,
    "start_time": "2021-10-12T19:17:04.859Z"
   },
   {
    "duration": 6,
    "start_time": "2021-10-12T19:17:05.378Z"
   },
   {
    "duration": 23,
    "start_time": "2021-10-12T19:17:05.567Z"
   },
   {
    "duration": 254,
    "start_time": "2021-10-12T19:17:08.655Z"
   },
   {
    "duration": 341,
    "start_time": "2021-10-12T19:17:09.034Z"
   },
   {
    "duration": 179,
    "start_time": "2021-10-12T19:17:09.479Z"
   },
   {
    "duration": 227,
    "start_time": "2021-10-12T19:17:10.186Z"
   },
   {
    "duration": 14,
    "start_time": "2021-10-12T19:17:13.919Z"
   },
   {
    "duration": 326,
    "start_time": "2021-10-12T19:17:15.073Z"
   },
   {
    "duration": 328,
    "start_time": "2021-10-12T19:17:27.221Z"
   },
   {
    "duration": 133,
    "start_time": "2021-10-12T19:18:46.947Z"
   },
   {
    "duration": 222,
    "start_time": "2021-10-12T19:20:46.697Z"
   },
   {
    "duration": 167,
    "start_time": "2021-10-12T19:20:57.072Z"
   },
   {
    "duration": 175,
    "start_time": "2021-10-12T19:21:22.569Z"
   },
   {
    "duration": 332,
    "start_time": "2021-10-12T19:27:35.475Z"
   },
   {
    "duration": 361,
    "start_time": "2021-10-12T19:27:51.731Z"
   },
   {
    "duration": 325,
    "start_time": "2021-10-12T19:28:40.932Z"
   },
   {
    "duration": 323,
    "start_time": "2021-10-12T19:28:49.267Z"
   },
   {
    "duration": 352,
    "start_time": "2021-10-12T19:29:14.306Z"
   },
   {
    "duration": 193,
    "start_time": "2021-10-12T19:29:20.966Z"
   },
   {
    "duration": 260,
    "start_time": "2021-10-12T19:29:32.500Z"
   },
   {
    "duration": 238,
    "start_time": "2021-10-12T19:29:36.579Z"
   },
   {
    "duration": 271,
    "start_time": "2021-10-12T19:29:56.121Z"
   },
   {
    "duration": 271,
    "start_time": "2021-10-12T19:30:18.379Z"
   },
   {
    "duration": 259,
    "start_time": "2021-10-12T19:30:52.138Z"
   },
   {
    "duration": 249,
    "start_time": "2021-10-12T19:31:19.099Z"
   },
   {
    "duration": 256,
    "start_time": "2021-10-12T19:31:26.662Z"
   },
   {
    "duration": 23,
    "start_time": "2021-10-12T19:31:55.853Z"
   },
   {
    "duration": 103,
    "start_time": "2021-10-12T19:32:34.181Z"
   },
   {
    "duration": 21,
    "start_time": "2021-10-12T19:32:34.401Z"
   },
   {
    "duration": 20,
    "start_time": "2021-10-12T19:32:34.654Z"
   },
   {
    "duration": 34,
    "start_time": "2021-10-12T19:32:35.649Z"
   },
   {
    "duration": 34,
    "start_time": "2021-10-12T19:32:35.925Z"
   },
   {
    "duration": 6,
    "start_time": "2021-10-12T19:32:36.188Z"
   },
   {
    "duration": 32,
    "start_time": "2021-10-12T19:32:36.416Z"
   },
   {
    "duration": 43,
    "start_time": "2021-10-12T19:32:36.680Z"
   },
   {
    "duration": 36,
    "start_time": "2021-10-12T19:32:36.928Z"
   },
   {
    "duration": 27,
    "start_time": "2021-10-12T19:32:37.202Z"
   },
   {
    "duration": 74,
    "start_time": "2021-10-12T19:32:37.445Z"
   },
   {
    "duration": 70,
    "start_time": "2021-10-12T19:32:37.715Z"
   },
   {
    "duration": 20,
    "start_time": "2021-10-12T19:32:37.970Z"
   },
   {
    "duration": 21,
    "start_time": "2021-10-12T19:32:38.230Z"
   },
   {
    "duration": 22,
    "start_time": "2021-10-12T19:32:38.779Z"
   },
   {
    "duration": 34,
    "start_time": "2021-10-12T19:32:39.032Z"
   },
   {
    "duration": 482,
    "start_time": "2021-10-12T19:32:39.328Z"
   },
   {
    "duration": 15,
    "start_time": "2021-10-12T19:32:39.812Z"
   },
   {
    "duration": 71,
    "start_time": "2021-10-12T19:32:39.896Z"
   },
   {
    "duration": 21,
    "start_time": "2021-10-12T19:32:40.230Z"
   },
   {
    "duration": 2,
    "start_time": "2021-10-12T19:32:40.831Z"
   },
   {
    "duration": 20,
    "start_time": "2021-10-12T19:32:41.170Z"
   },
   {
    "duration": 248,
    "start_time": "2021-10-12T19:32:41.461Z"
   },
   {
    "duration": 259,
    "start_time": "2021-10-12T19:32:41.737Z"
   },
   {
    "duration": 184,
    "start_time": "2021-10-12T19:32:42.075Z"
   },
   {
    "duration": 181,
    "start_time": "2021-10-12T19:32:42.328Z"
   },
   {
    "duration": 14,
    "start_time": "2021-10-12T19:32:42.626Z"
   },
   {
    "duration": 340,
    "start_time": "2021-10-12T19:32:43.709Z"
   },
   {
    "duration": 139,
    "start_time": "2021-10-12T19:32:45.782Z"
   },
   {
    "duration": 10,
    "start_time": "2021-10-12T19:32:47.002Z"
   },
   {
    "duration": 2,
    "start_time": "2021-10-12T19:32:50.406Z"
   },
   {
    "duration": 26,
    "start_time": "2021-10-12T19:32:52.980Z"
   },
   {
    "duration": 104,
    "start_time": "2021-10-12T19:35:06.883Z"
   },
   {
    "duration": 928,
    "start_time": "2021-10-12T19:35:08.264Z"
   },
   {
    "duration": 571,
    "start_time": "2021-10-12T19:35:08.623Z"
   },
   {
    "duration": 107,
    "start_time": "2021-10-12T19:36:55.348Z"
   },
   {
    "duration": 37,
    "start_time": "2021-10-12T19:36:55.579Z"
   },
   {
    "duration": 21,
    "start_time": "2021-10-12T19:36:55.742Z"
   },
   {
    "duration": 22,
    "start_time": "2021-10-12T19:36:56.460Z"
   },
   {
    "duration": 37,
    "start_time": "2021-10-12T19:36:56.626Z"
   },
   {
    "duration": 6,
    "start_time": "2021-10-12T19:36:56.811Z"
   },
   {
    "duration": 33,
    "start_time": "2021-10-12T19:36:56.988Z"
   },
   {
    "duration": 47,
    "start_time": "2021-10-12T19:36:57.158Z"
   },
   {
    "duration": 39,
    "start_time": "2021-10-12T19:36:57.541Z"
   },
   {
    "duration": 29,
    "start_time": "2021-10-12T19:36:57.649Z"
   },
   {
    "duration": 79,
    "start_time": "2021-10-12T19:36:57.803Z"
   },
   {
    "duration": 96,
    "start_time": "2021-10-12T19:36:58.005Z"
   },
   {
    "duration": 23,
    "start_time": "2021-10-12T19:36:58.214Z"
   },
   {
    "duration": 20,
    "start_time": "2021-10-12T19:36:58.434Z"
   },
   {
    "duration": 22,
    "start_time": "2021-10-12T19:36:58.833Z"
   },
   {
    "duration": 37,
    "start_time": "2021-10-12T19:36:59.023Z"
   },
   {
    "duration": 600,
    "start_time": "2021-10-12T19:36:59.230Z"
   },
   {
    "duration": 23,
    "start_time": "2021-10-12T19:36:59.832Z"
   },
   {
    "duration": 93,
    "start_time": "2021-10-12T19:36:59.857Z"
   },
   {
    "duration": 21,
    "start_time": "2021-10-12T19:36:59.953Z"
   },
   {
    "duration": 4,
    "start_time": "2021-10-12T19:37:00.293Z"
   },
   {
    "duration": 24,
    "start_time": "2021-10-12T19:37:00.547Z"
   },
   {
    "duration": 329,
    "start_time": "2021-10-12T19:37:00.861Z"
   },
   {
    "duration": 266,
    "start_time": "2021-10-12T19:37:01.192Z"
   },
   {
    "duration": 330,
    "start_time": "2021-10-12T19:37:01.462Z"
   },
   {
    "duration": 232,
    "start_time": "2021-10-12T19:37:01.831Z"
   },
   {
    "duration": 15,
    "start_time": "2021-10-12T19:37:03.222Z"
   },
   {
    "duration": 339,
    "start_time": "2021-10-12T19:37:03.910Z"
   },
   {
    "duration": 144,
    "start_time": "2021-10-12T19:37:04.460Z"
   },
   {
    "duration": 15,
    "start_time": "2021-10-12T19:37:04.958Z"
   },
   {
    "duration": 3,
    "start_time": "2021-10-12T19:37:06.516Z"
   },
   {
    "duration": 34,
    "start_time": "2021-10-12T19:37:07.591Z"
   },
   {
    "duration": 113,
    "start_time": "2021-10-12T19:37:51.031Z"
   },
   {
    "duration": 22,
    "start_time": "2021-10-12T19:37:51.287Z"
   },
   {
    "duration": 22,
    "start_time": "2021-10-12T19:37:51.519Z"
   },
   {
    "duration": 20,
    "start_time": "2021-10-12T19:37:52.472Z"
   },
   {
    "duration": 34,
    "start_time": "2021-10-12T19:37:52.721Z"
   },
   {
    "duration": 7,
    "start_time": "2021-10-12T19:37:52.970Z"
   },
   {
    "duration": 31,
    "start_time": "2021-10-12T19:37:53.246Z"
   },
   {
    "duration": 50,
    "start_time": "2021-10-12T19:37:53.485Z"
   },
   {
    "duration": 38,
    "start_time": "2021-10-12T19:37:53.722Z"
   },
   {
    "duration": 30,
    "start_time": "2021-10-12T19:37:53.953Z"
   },
   {
    "duration": 85,
    "start_time": "2021-10-12T19:37:54.187Z"
   },
   {
    "duration": 78,
    "start_time": "2021-10-12T19:37:54.419Z"
   },
   {
    "duration": 34,
    "start_time": "2021-10-12T19:37:54.652Z"
   },
   {
    "duration": 22,
    "start_time": "2021-10-12T19:37:54.908Z"
   },
   {
    "duration": 23,
    "start_time": "2021-10-12T19:37:55.415Z"
   },
   {
    "duration": 36,
    "start_time": "2021-10-12T19:37:55.666Z"
   },
   {
    "duration": 503,
    "start_time": "2021-10-12T19:37:55.918Z"
   },
   {
    "duration": 16,
    "start_time": "2021-10-12T19:37:56.424Z"
   },
   {
    "duration": 119,
    "start_time": "2021-10-12T19:37:56.465Z"
   },
   {
    "duration": 23,
    "start_time": "2021-10-12T19:37:56.723Z"
   },
   {
    "duration": 3,
    "start_time": "2021-10-12T19:37:58.356Z"
   },
   {
    "duration": 22,
    "start_time": "2021-10-12T19:37:58.749Z"
   },
   {
    "duration": 270,
    "start_time": "2021-10-12T19:37:59.111Z"
   },
   {
    "duration": 273,
    "start_time": "2021-10-12T19:37:59.430Z"
   },
   {
    "duration": 200,
    "start_time": "2021-10-12T19:37:59.793Z"
   },
   {
    "duration": 191,
    "start_time": "2021-10-12T19:38:00.214Z"
   },
   {
    "duration": 20,
    "start_time": "2021-10-12T19:38:00.642Z"
   },
   {
    "duration": 353,
    "start_time": "2021-10-12T19:38:01.072Z"
   },
   {
    "duration": 144,
    "start_time": "2021-10-12T19:38:02.536Z"
   },
   {
    "duration": 10,
    "start_time": "2021-10-12T19:38:05.006Z"
   },
   {
    "duration": 2,
    "start_time": "2021-10-12T19:38:05.770Z"
   },
   {
    "duration": 31,
    "start_time": "2021-10-12T19:38:07.382Z"
   },
   {
    "duration": 115,
    "start_time": "2021-10-12T19:38:31.858Z"
   },
   {
    "duration": 22,
    "start_time": "2021-10-12T19:38:32.072Z"
   },
   {
    "duration": 21,
    "start_time": "2021-10-12T19:38:32.300Z"
   },
   {
    "duration": 20,
    "start_time": "2021-10-12T19:38:33.032Z"
   },
   {
    "duration": 36,
    "start_time": "2021-10-12T19:38:33.202Z"
   },
   {
    "duration": 5,
    "start_time": "2021-10-12T19:38:33.402Z"
   },
   {
    "duration": 30,
    "start_time": "2021-10-12T19:38:33.603Z"
   },
   {
    "duration": 48,
    "start_time": "2021-10-12T19:38:33.823Z"
   },
   {
    "duration": 39,
    "start_time": "2021-10-12T19:38:34.010Z"
   },
   {
    "duration": 30,
    "start_time": "2021-10-12T19:38:34.203Z"
   },
   {
    "duration": 93,
    "start_time": "2021-10-12T19:38:34.429Z"
   },
   {
    "duration": 74,
    "start_time": "2021-10-12T19:38:34.633Z"
   },
   {
    "duration": 19,
    "start_time": "2021-10-12T19:38:34.824Z"
   },
   {
    "duration": 31,
    "start_time": "2021-10-12T19:38:35.037Z"
   },
   {
    "duration": 38,
    "start_time": "2021-10-12T19:38:35.468Z"
   },
   {
    "duration": 62,
    "start_time": "2021-10-12T19:38:35.657Z"
   },
   {
    "duration": 606,
    "start_time": "2021-10-12T19:38:35.852Z"
   },
   {
    "duration": 16,
    "start_time": "2021-10-12T19:38:36.460Z"
   },
   {
    "duration": 100,
    "start_time": "2021-10-12T19:38:36.478Z"
   },
   {
    "duration": 21,
    "start_time": "2021-10-12T19:38:36.580Z"
   },
   {
    "duration": 3,
    "start_time": "2021-10-12T19:38:36.872Z"
   },
   {
    "duration": 21,
    "start_time": "2021-10-12T19:38:37.083Z"
   },
   {
    "duration": 255,
    "start_time": "2021-10-12T19:38:37.319Z"
   },
   {
    "duration": 267,
    "start_time": "2021-10-12T19:38:37.577Z"
   },
   {
    "duration": 206,
    "start_time": "2021-10-12T19:38:37.846Z"
   },
   {
    "duration": 198,
    "start_time": "2021-10-12T19:38:38.054Z"
   },
   {
    "duration": 15,
    "start_time": "2021-10-12T19:38:38.255Z"
   },
   {
    "duration": 350,
    "start_time": "2021-10-12T19:38:38.364Z"
   },
   {
    "duration": 155,
    "start_time": "2021-10-12T19:38:38.716Z"
   },
   {
    "duration": 10,
    "start_time": "2021-10-12T19:38:41.076Z"
   },
   {
    "duration": 3,
    "start_time": "2021-10-12T19:38:41.348Z"
   },
   {
    "duration": 33,
    "start_time": "2021-10-12T19:38:43.753Z"
   },
   {
    "duration": 106,
    "start_time": "2021-10-12T19:39:06.285Z"
   },
   {
    "duration": 32,
    "start_time": "2021-10-12T19:39:06.518Z"
   },
   {
    "duration": 36,
    "start_time": "2021-10-12T19:39:06.707Z"
   },
   {
    "duration": 21,
    "start_time": "2021-10-12T19:39:07.428Z"
   },
   {
    "duration": 32,
    "start_time": "2021-10-12T19:39:07.637Z"
   },
   {
    "duration": 6,
    "start_time": "2021-10-12T19:39:07.850Z"
   },
   {
    "duration": 30,
    "start_time": "2021-10-12T19:39:08.016Z"
   },
   {
    "duration": 55,
    "start_time": "2021-10-12T19:39:08.276Z"
   },
   {
    "duration": 37,
    "start_time": "2021-10-12T19:39:08.433Z"
   },
   {
    "duration": 29,
    "start_time": "2021-10-12T19:39:08.660Z"
   },
   {
    "duration": 124,
    "start_time": "2021-10-12T19:39:08.872Z"
   },
   {
    "duration": 116,
    "start_time": "2021-10-12T19:39:09.055Z"
   },
   {
    "duration": 34,
    "start_time": "2021-10-12T19:39:09.268Z"
   },
   {
    "duration": 36,
    "start_time": "2021-10-12T19:39:09.481Z"
   },
   {
    "duration": 38,
    "start_time": "2021-10-12T19:39:09.902Z"
   },
   {
    "duration": 56,
    "start_time": "2021-10-12T19:39:10.116Z"
   },
   {
    "duration": 865,
    "start_time": "2021-10-12T19:39:10.321Z"
   },
   {
    "duration": 27,
    "start_time": "2021-10-12T19:39:11.189Z"
   },
   {
    "duration": 139,
    "start_time": "2021-10-12T19:39:11.219Z"
   },
   {
    "duration": 36,
    "start_time": "2021-10-12T19:39:11.361Z"
   },
   {
    "duration": 3,
    "start_time": "2021-10-12T19:39:11.400Z"
   },
   {
    "duration": 25,
    "start_time": "2021-10-12T19:39:11.549Z"
   },
   {
    "duration": 259,
    "start_time": "2021-10-12T19:39:11.756Z"
   },
   {
    "duration": 282,
    "start_time": "2021-10-12T19:39:12.018Z"
   },
   {
    "duration": 257,
    "start_time": "2021-10-12T19:39:12.302Z"
   },
   {
    "duration": 177,
    "start_time": "2021-10-12T19:39:13.315Z"
   },
   {
    "duration": 14,
    "start_time": "2021-10-12T19:39:13.494Z"
   },
   {
    "duration": 606,
    "start_time": "2021-10-12T19:39:13.598Z"
   },
   {
    "duration": 252,
    "start_time": "2021-10-12T19:39:14.207Z"
   },
   {
    "duration": 10,
    "start_time": "2021-10-12T19:39:15.764Z"
   },
   {
    "duration": 4,
    "start_time": "2021-10-12T19:39:16.423Z"
   },
   {
    "duration": 34,
    "start_time": "2021-10-12T19:39:17.095Z"
   },
   {
    "duration": 102,
    "start_time": "2021-10-12T19:39:55.766Z"
   },
   {
    "duration": 22,
    "start_time": "2021-10-12T19:39:55.974Z"
   },
   {
    "duration": 22,
    "start_time": "2021-10-12T19:39:56.162Z"
   },
   {
    "duration": 21,
    "start_time": "2021-10-12T19:39:56.960Z"
   },
   {
    "duration": 38,
    "start_time": "2021-10-12T19:39:57.173Z"
   },
   {
    "duration": 5,
    "start_time": "2021-10-12T19:39:57.364Z"
   },
   {
    "duration": 35,
    "start_time": "2021-10-12T19:39:57.573Z"
   },
   {
    "duration": 46,
    "start_time": "2021-10-12T19:39:57.786Z"
   },
   {
    "duration": 39,
    "start_time": "2021-10-12T19:39:57.998Z"
   },
   {
    "duration": 29,
    "start_time": "2021-10-12T19:39:58.210Z"
   },
   {
    "duration": 80,
    "start_time": "2021-10-12T19:39:58.423Z"
   },
   {
    "duration": 81,
    "start_time": "2021-10-12T19:39:58.634Z"
   },
   {
    "duration": 21,
    "start_time": "2021-10-12T19:39:58.847Z"
   },
   {
    "duration": 23,
    "start_time": "2021-10-12T19:39:59.039Z"
   },
   {
    "duration": 22,
    "start_time": "2021-10-12T19:39:59.486Z"
   },
   {
    "duration": 38,
    "start_time": "2021-10-12T19:39:59.697Z"
   },
   {
    "duration": 524,
    "start_time": "2021-10-12T19:39:59.917Z"
   },
   {
    "duration": 22,
    "start_time": "2021-10-12T19:40:00.443Z"
   },
   {
    "duration": 98,
    "start_time": "2021-10-12T19:40:00.467Z"
   },
   {
    "duration": 22,
    "start_time": "2021-10-12T19:40:00.567Z"
   },
   {
    "duration": 3,
    "start_time": "2021-10-12T19:40:00.970Z"
   },
   {
    "duration": 21,
    "start_time": "2021-10-12T19:40:02.009Z"
   },
   {
    "duration": 265,
    "start_time": "2021-10-12T19:40:02.664Z"
   },
   {
    "duration": 267,
    "start_time": "2021-10-12T19:40:02.931Z"
   },
   {
    "duration": 207,
    "start_time": "2021-10-12T19:40:03.200Z"
   },
   {
    "duration": 186,
    "start_time": "2021-10-12T19:40:03.409Z"
   },
   {
    "duration": 15,
    "start_time": "2021-10-12T19:40:03.599Z"
   },
   {
    "duration": 349,
    "start_time": "2021-10-12T19:40:04.165Z"
   },
   {
    "duration": 145,
    "start_time": "2021-10-12T19:40:04.640Z"
   },
   {
    "duration": 11,
    "start_time": "2021-10-12T19:40:05.164Z"
   },
   {
    "duration": 3,
    "start_time": "2021-10-12T19:40:06.007Z"
   },
   {
    "duration": 27,
    "start_time": "2021-10-12T19:40:07.220Z"
   },
   {
    "duration": 100,
    "start_time": "2021-10-12T19:40:34.781Z"
   },
   {
    "duration": 22,
    "start_time": "2021-10-12T19:40:34.963Z"
   },
   {
    "duration": 22,
    "start_time": "2021-10-12T19:40:35.136Z"
   },
   {
    "duration": 20,
    "start_time": "2021-10-12T19:40:35.917Z"
   },
   {
    "duration": 36,
    "start_time": "2021-10-12T19:40:36.152Z"
   },
   {
    "duration": 5,
    "start_time": "2021-10-12T19:40:36.345Z"
   },
   {
    "duration": 30,
    "start_time": "2021-10-12T19:40:36.574Z"
   },
   {
    "duration": 44,
    "start_time": "2021-10-12T19:40:36.742Z"
   },
   {
    "duration": 38,
    "start_time": "2021-10-12T19:40:36.979Z"
   },
   {
    "duration": 28,
    "start_time": "2021-10-12T19:40:37.147Z"
   },
   {
    "duration": 77,
    "start_time": "2021-10-12T19:40:37.366Z"
   },
   {
    "duration": 68,
    "start_time": "2021-10-12T19:40:37.555Z"
   },
   {
    "duration": 20,
    "start_time": "2021-10-12T19:40:37.769Z"
   },
   {
    "duration": 20,
    "start_time": "2021-10-12T19:40:37.962Z"
   },
   {
    "duration": 23,
    "start_time": "2021-10-12T19:40:38.372Z"
   },
   {
    "duration": 35,
    "start_time": "2021-10-12T19:40:38.578Z"
   },
   {
    "duration": 480,
    "start_time": "2021-10-12T19:40:38.791Z"
   },
   {
    "duration": 15,
    "start_time": "2021-10-12T19:40:39.273Z"
   },
   {
    "duration": 90,
    "start_time": "2021-10-12T19:40:39.291Z"
   },
   {
    "duration": 21,
    "start_time": "2021-10-12T19:40:39.439Z"
   },
   {
    "duration": 3,
    "start_time": "2021-10-12T19:40:39.857Z"
   },
   {
    "duration": 20,
    "start_time": "2021-10-12T19:40:40.069Z"
   },
   {
    "duration": 239,
    "start_time": "2021-10-12T19:40:40.285Z"
   },
   {
    "duration": 262,
    "start_time": "2021-10-12T19:40:40.526Z"
   },
   {
    "duration": 191,
    "start_time": "2021-10-12T19:40:40.790Z"
   },
   {
    "duration": 194,
    "start_time": "2021-10-12T19:40:40.983Z"
   },
   {
    "duration": 13,
    "start_time": "2021-10-12T19:40:41.179Z"
   },
   {
    "duration": 341,
    "start_time": "2021-10-12T19:40:42.508Z"
   },
   {
    "duration": 151,
    "start_time": "2021-10-12T19:40:42.851Z"
   },
   {
    "duration": 10,
    "start_time": "2021-10-12T19:40:43.588Z"
   },
   {
    "duration": 2,
    "start_time": "2021-10-12T19:40:44.306Z"
   },
   {
    "duration": 26,
    "start_time": "2021-10-12T19:40:45.805Z"
   },
   {
    "duration": 103,
    "start_time": "2021-10-12T19:41:08.599Z"
   },
   {
    "duration": 23,
    "start_time": "2021-10-12T19:41:08.799Z"
   },
   {
    "duration": 22,
    "start_time": "2021-10-12T19:41:09.002Z"
   },
   {
    "duration": 21,
    "start_time": "2021-10-12T19:41:09.795Z"
   },
   {
    "duration": 33,
    "start_time": "2021-10-12T19:41:09.987Z"
   },
   {
    "duration": 5,
    "start_time": "2021-10-12T19:41:10.199Z"
   },
   {
    "duration": 28,
    "start_time": "2021-10-12T19:41:10.413Z"
   },
   {
    "duration": 46,
    "start_time": "2021-10-12T19:41:10.622Z"
   },
   {
    "duration": 38,
    "start_time": "2021-10-12T19:41:10.856Z"
   },
   {
    "duration": 30,
    "start_time": "2021-10-12T19:41:11.072Z"
   },
   {
    "duration": 88,
    "start_time": "2021-10-12T19:41:11.284Z"
   },
   {
    "duration": 77,
    "start_time": "2021-10-12T19:41:11.514Z"
   },
   {
    "duration": 21,
    "start_time": "2021-10-12T19:41:11.721Z"
   },
   {
    "duration": 23,
    "start_time": "2021-10-12T19:41:11.934Z"
   },
   {
    "duration": 32,
    "start_time": "2021-10-12T19:41:13.156Z"
   },
   {
    "duration": 51,
    "start_time": "2021-10-12T19:41:13.190Z"
   },
   {
    "duration": 487,
    "start_time": "2021-10-12T19:41:13.243Z"
   },
   {
    "duration": 21,
    "start_time": "2021-10-12T19:41:13.732Z"
   },
   {
    "duration": 78,
    "start_time": "2021-10-12T19:41:13.755Z"
   },
   {
    "duration": 33,
    "start_time": "2021-10-12T19:41:13.835Z"
   },
   {
    "duration": 3,
    "start_time": "2021-10-12T19:41:13.907Z"
   },
   {
    "duration": 22,
    "start_time": "2021-10-12T19:41:14.109Z"
   },
   {
    "duration": 248,
    "start_time": "2021-10-12T19:41:14.342Z"
   },
   {
    "duration": 261,
    "start_time": "2021-10-12T19:41:14.592Z"
   },
   {
    "duration": 193,
    "start_time": "2021-10-12T19:41:14.856Z"
   },
   {
    "duration": 197,
    "start_time": "2021-10-12T19:41:15.052Z"
   },
   {
    "duration": 16,
    "start_time": "2021-10-12T19:41:15.251Z"
   },
   {
    "duration": 343,
    "start_time": "2021-10-12T19:41:15.416Z"
   },
   {
    "duration": 158,
    "start_time": "2021-10-12T19:41:15.761Z"
   },
   {
    "duration": 11,
    "start_time": "2021-10-12T19:41:15.921Z"
   },
   {
    "duration": 3,
    "start_time": "2021-10-12T19:41:16.032Z"
   },
   {
    "duration": 28,
    "start_time": "2021-10-12T19:41:19.375Z"
   },
   {
    "duration": 100,
    "start_time": "2021-10-12T19:41:31.395Z"
   },
   {
    "duration": 25,
    "start_time": "2021-10-12T19:41:31.620Z"
   },
   {
    "duration": 21,
    "start_time": "2021-10-12T19:41:31.789Z"
   },
   {
    "duration": 20,
    "start_time": "2021-10-12T19:41:32.551Z"
   },
   {
    "duration": 33,
    "start_time": "2021-10-12T19:41:32.723Z"
   },
   {
    "duration": 5,
    "start_time": "2021-10-12T19:41:32.915Z"
   },
   {
    "duration": 31,
    "start_time": "2021-10-12T19:41:33.120Z"
   },
   {
    "duration": 47,
    "start_time": "2021-10-12T19:41:33.372Z"
   },
   {
    "duration": 39,
    "start_time": "2021-10-12T19:41:33.496Z"
   },
   {
    "duration": 29,
    "start_time": "2021-10-12T19:41:33.688Z"
   },
   {
    "duration": 75,
    "start_time": "2021-10-12T19:41:33.905Z"
   },
   {
    "duration": 73,
    "start_time": "2021-10-12T19:41:34.073Z"
   },
   {
    "duration": 20,
    "start_time": "2021-10-12T19:41:34.274Z"
   },
   {
    "duration": 22,
    "start_time": "2021-10-12T19:41:34.454Z"
   },
   {
    "duration": 23,
    "start_time": "2021-10-12T19:41:34.859Z"
   },
   {
    "duration": 37,
    "start_time": "2021-10-12T19:41:35.074Z"
   },
   {
    "duration": 471,
    "start_time": "2021-10-12T19:41:35.283Z"
   },
   {
    "duration": 15,
    "start_time": "2021-10-12T19:41:35.756Z"
   },
   {
    "duration": 95,
    "start_time": "2021-10-12T19:41:35.773Z"
   },
   {
    "duration": 20,
    "start_time": "2021-10-12T19:41:35.946Z"
   },
   {
    "duration": 3,
    "start_time": "2021-10-12T19:41:36.387Z"
   },
   {
    "duration": 22,
    "start_time": "2021-10-12T19:41:36.604Z"
   },
   {
    "duration": 245,
    "start_time": "2021-10-12T19:41:36.814Z"
   },
   {
    "duration": 259,
    "start_time": "2021-10-12T19:41:37.061Z"
   },
   {
    "duration": 200,
    "start_time": "2021-10-12T19:41:37.322Z"
   },
   {
    "duration": 188,
    "start_time": "2021-10-12T19:41:37.524Z"
   },
   {
    "duration": 14,
    "start_time": "2021-10-12T19:41:37.714Z"
   },
   {
    "duration": 332,
    "start_time": "2021-10-12T19:41:37.849Z"
   },
   {
    "duration": 147,
    "start_time": "2021-10-12T19:41:38.183Z"
   },
   {
    "duration": 12,
    "start_time": "2021-10-12T19:41:40.080Z"
   },
   {
    "duration": 3,
    "start_time": "2021-10-12T19:41:40.995Z"
   },
   {
    "duration": 28,
    "start_time": "2021-10-12T19:41:42.025Z"
   },
   {
    "duration": 104,
    "start_time": "2021-10-12T19:43:33.343Z"
   },
   {
    "duration": 22,
    "start_time": "2021-10-12T19:43:33.540Z"
   },
   {
    "duration": 24,
    "start_time": "2021-10-12T19:43:33.708Z"
   },
   {
    "duration": 21,
    "start_time": "2021-10-12T19:43:34.362Z"
   },
   {
    "duration": 49,
    "start_time": "2021-10-12T19:43:34.533Z"
   },
   {
    "duration": 8,
    "start_time": "2021-10-12T19:43:34.683Z"
   },
   {
    "duration": 49,
    "start_time": "2021-10-12T19:43:34.850Z"
   },
   {
    "duration": 45,
    "start_time": "2021-10-12T19:43:35.042Z"
   },
   {
    "duration": 35,
    "start_time": "2021-10-12T19:43:35.405Z"
   },
   {
    "duration": 30,
    "start_time": "2021-10-12T19:43:35.597Z"
   },
   {
    "duration": 84,
    "start_time": "2021-10-12T19:43:35.777Z"
   },
   {
    "duration": 80,
    "start_time": "2021-10-12T19:43:35.985Z"
   },
   {
    "duration": 20,
    "start_time": "2021-10-12T19:43:36.115Z"
   },
   {
    "duration": 22,
    "start_time": "2021-10-12T19:43:36.289Z"
   },
   {
    "duration": 22,
    "start_time": "2021-10-12T19:43:36.643Z"
   },
   {
    "duration": 37,
    "start_time": "2021-10-12T19:43:36.831Z"
   },
   {
    "duration": 2011,
    "start_time": "2021-10-12T19:43:37.024Z"
   },
   {
    "duration": 56,
    "start_time": "2021-10-12T19:43:39.037Z"
   },
   {
    "duration": 102,
    "start_time": "2021-10-12T19:43:39.095Z"
   },
   {
    "duration": 21,
    "start_time": "2021-10-12T19:43:39.199Z"
   },
   {
    "duration": 2,
    "start_time": "2021-10-12T19:43:39.222Z"
   },
   {
    "duration": 34,
    "start_time": "2021-10-12T19:43:39.226Z"
   },
   {
    "duration": 260,
    "start_time": "2021-10-12T19:43:39.262Z"
   },
   {
    "duration": 304,
    "start_time": "2021-10-12T19:43:39.525Z"
   },
   {
    "duration": 207,
    "start_time": "2021-10-12T19:43:39.849Z"
   },
   {
    "duration": 204,
    "start_time": "2021-10-12T19:43:40.057Z"
   },
   {
    "duration": 14,
    "start_time": "2021-10-12T19:43:40.263Z"
   },
   {
    "duration": 358,
    "start_time": "2021-10-12T19:43:40.279Z"
   },
   {
    "duration": 147,
    "start_time": "2021-10-12T19:43:40.639Z"
   },
   {
    "duration": 9,
    "start_time": "2021-10-12T19:43:40.788Z"
   },
   {
    "duration": 3,
    "start_time": "2021-10-12T19:43:43.812Z"
   },
   {
    "duration": 92,
    "start_time": "2021-10-12T19:43:44.728Z"
   },
   {
    "duration": 316,
    "start_time": "2021-10-12T19:44:14.653Z"
   },
   {
    "duration": 728,
    "start_time": "2021-10-12T19:45:05.861Z"
   },
   {
    "duration": 23,
    "start_time": "2021-10-12T19:45:06.591Z"
   },
   {
    "duration": 20,
    "start_time": "2021-10-12T19:45:09.120Z"
   },
   {
    "duration": 38,
    "start_time": "2021-10-12T19:45:09.543Z"
   },
   {
    "duration": 5,
    "start_time": "2021-10-12T19:45:09.944Z"
   },
   {
    "duration": 39,
    "start_time": "2021-10-12T19:45:10.404Z"
   },
   {
    "duration": 47,
    "start_time": "2021-10-12T19:45:10.753Z"
   },
   {
    "duration": 39,
    "start_time": "2021-10-12T19:45:11.094Z"
   },
   {
    "duration": 39,
    "start_time": "2021-10-12T19:45:11.521Z"
   },
   {
    "duration": 78,
    "start_time": "2021-10-12T19:45:11.924Z"
   },
   {
    "duration": 78,
    "start_time": "2021-10-12T19:45:12.301Z"
   },
   {
    "duration": 20,
    "start_time": "2021-10-12T19:45:12.638Z"
   },
   {
    "duration": 22,
    "start_time": "2021-10-12T19:45:12.991Z"
   },
   {
    "duration": 26,
    "start_time": "2021-10-12T19:45:13.661Z"
   },
   {
    "duration": 38,
    "start_time": "2021-10-12T19:45:14.022Z"
   },
   {
    "duration": 504,
    "start_time": "2021-10-12T19:45:14.364Z"
   },
   {
    "duration": 17,
    "start_time": "2021-10-12T19:45:14.870Z"
   },
   {
    "duration": 81,
    "start_time": "2021-10-12T19:45:15.192Z"
   },
   {
    "duration": 22,
    "start_time": "2021-10-12T19:45:15.547Z"
   },
   {
    "duration": 82,
    "start_time": "2021-10-12T19:45:16.270Z"
   },
   {
    "duration": 76,
    "start_time": "2021-10-12T19:45:16.555Z"
   },
   {
    "duration": 421,
    "start_time": "2021-10-12T19:45:16.939Z"
   },
   {
    "duration": 439,
    "start_time": "2021-10-12T19:45:17.363Z"
   },
   {
    "duration": 328,
    "start_time": "2021-10-12T19:45:17.805Z"
   },
   {
    "duration": 309,
    "start_time": "2021-10-12T19:45:18.136Z"
   },
   {
    "duration": 19,
    "start_time": "2021-10-12T19:45:18.449Z"
   },
   {
    "duration": 578,
    "start_time": "2021-10-12T19:45:18.849Z"
   },
   {
    "duration": 157,
    "start_time": "2021-10-12T19:45:20.492Z"
   },
   {
    "duration": 10,
    "start_time": "2021-10-12T19:45:20.838Z"
   },
   {
    "duration": 2,
    "start_time": "2021-10-12T19:45:22.857Z"
   },
   {
    "duration": 31,
    "start_time": "2021-10-12T19:45:26.070Z"
   },
   {
    "duration": 25,
    "start_time": "2021-10-12T19:46:43.259Z"
   },
   {
    "duration": 109,
    "start_time": "2021-10-12T19:46:46.832Z"
   },
   {
    "duration": 22,
    "start_time": "2021-10-12T19:46:47.013Z"
   },
   {
    "duration": 20,
    "start_time": "2021-10-12T19:46:47.768Z"
   },
   {
    "duration": 33,
    "start_time": "2021-10-12T19:46:47.958Z"
   },
   {
    "duration": 6,
    "start_time": "2021-10-12T19:46:48.174Z"
   },
   {
    "duration": 33,
    "start_time": "2021-10-12T19:46:48.380Z"
   },
   {
    "duration": 48,
    "start_time": "2021-10-12T19:46:48.564Z"
   },
   {
    "duration": 40,
    "start_time": "2021-10-12T19:46:48.772Z"
   },
   {
    "duration": 31,
    "start_time": "2021-10-12T19:46:48.981Z"
   },
   {
    "duration": 80,
    "start_time": "2021-10-12T19:46:49.181Z"
   },
   {
    "duration": 78,
    "start_time": "2021-10-12T19:46:49.431Z"
   },
   {
    "duration": 21,
    "start_time": "2021-10-12T19:46:49.668Z"
   },
   {
    "duration": 21,
    "start_time": "2021-10-12T19:46:49.907Z"
   },
   {
    "duration": 23,
    "start_time": "2021-10-12T19:46:50.448Z"
   },
   {
    "duration": 36,
    "start_time": "2021-10-12T19:46:50.719Z"
   },
   {
    "duration": 564,
    "start_time": "2021-10-12T19:46:50.951Z"
   },
   {
    "duration": 16,
    "start_time": "2021-10-12T19:46:51.517Z"
   },
   {
    "duration": 91,
    "start_time": "2021-10-12T19:46:51.535Z"
   },
   {
    "duration": 27,
    "start_time": "2021-10-12T19:46:51.639Z"
   },
   {
    "duration": 3,
    "start_time": "2021-10-12T19:46:52.060Z"
   },
   {
    "duration": 22,
    "start_time": "2021-10-12T19:46:52.290Z"
   },
   {
    "duration": 247,
    "start_time": "2021-10-12T19:46:52.522Z"
   },
   {
    "duration": 244,
    "start_time": "2021-10-12T19:46:52.843Z"
   },
   {
    "duration": 298,
    "start_time": "2021-10-12T19:46:53.207Z"
   },
   {
    "duration": 251,
    "start_time": "2021-10-12T19:46:53.508Z"
   },
   {
    "duration": 14,
    "start_time": "2021-10-12T19:46:54.263Z"
   },
   {
    "duration": 567,
    "start_time": "2021-10-12T19:46:55.959Z"
   },
   {
    "duration": 245,
    "start_time": "2021-10-12T19:46:56.529Z"
   },
   {
    "duration": 13,
    "start_time": "2021-10-12T19:46:56.777Z"
   },
   {
    "duration": 3,
    "start_time": "2021-10-12T19:46:58.076Z"
   },
   {
    "duration": 26,
    "start_time": "2021-10-12T19:46:59.577Z"
   },
   {
    "duration": 107,
    "start_time": "2021-10-12T19:47:48.522Z"
   },
   {
    "duration": 22,
    "start_time": "2021-10-12T19:47:48.745Z"
   },
   {
    "duration": 21,
    "start_time": "2021-10-12T19:47:49.534Z"
   },
   {
    "duration": 38,
    "start_time": "2021-10-12T19:47:49.746Z"
   },
   {
    "duration": 5,
    "start_time": "2021-10-12T19:47:49.941Z"
   },
   {
    "duration": 33,
    "start_time": "2021-10-12T19:47:50.134Z"
   },
   {
    "duration": 48,
    "start_time": "2021-10-12T19:47:50.363Z"
   },
   {
    "duration": 41,
    "start_time": "2021-10-12T19:47:50.553Z"
   },
   {
    "duration": 34,
    "start_time": "2021-10-12T19:47:50.790Z"
   },
   {
    "duration": 81,
    "start_time": "2021-10-12T19:47:51.029Z"
   },
   {
    "duration": 78,
    "start_time": "2021-10-12T19:47:51.277Z"
   },
   {
    "duration": 23,
    "start_time": "2021-10-12T19:47:51.508Z"
   },
   {
    "duration": 22,
    "start_time": "2021-10-12T19:47:51.717Z"
   },
   {
    "duration": 37,
    "start_time": "2021-10-12T19:47:52.146Z"
   },
   {
    "duration": 57,
    "start_time": "2021-10-12T19:47:52.346Z"
   },
   {
    "duration": 664,
    "start_time": "2021-10-12T19:47:52.576Z"
   },
   {
    "duration": 17,
    "start_time": "2021-10-12T19:47:53.242Z"
   },
   {
    "duration": 145,
    "start_time": "2021-10-12T19:47:53.262Z"
   },
   {
    "duration": 23,
    "start_time": "2021-10-12T19:47:53.409Z"
   },
   {
    "duration": 3,
    "start_time": "2021-10-12T19:47:53.748Z"
   },
   {
    "duration": 23,
    "start_time": "2021-10-12T19:47:53.991Z"
   },
   {
    "duration": 259,
    "start_time": "2021-10-12T19:47:54.257Z"
   },
   {
    "duration": 274,
    "start_time": "2021-10-12T19:47:54.519Z"
   },
   {
    "duration": 199,
    "start_time": "2021-10-12T19:47:54.796Z"
   },
   {
    "duration": 194,
    "start_time": "2021-10-12T19:47:54.997Z"
   },
   {
    "duration": 14,
    "start_time": "2021-10-12T19:47:55.194Z"
   },
   {
    "duration": 350,
    "start_time": "2021-10-12T19:47:55.348Z"
   },
   {
    "duration": 141,
    "start_time": "2021-10-12T19:47:55.700Z"
   },
   {
    "duration": 12,
    "start_time": "2021-10-12T19:47:57.132Z"
   },
   {
    "duration": 4,
    "start_time": "2021-10-12T19:47:57.709Z"
   },
   {
    "duration": 35,
    "start_time": "2021-10-12T19:47:58.982Z"
   },
   {
    "duration": 101,
    "start_time": "2021-10-12T19:50:02.694Z"
   },
   {
    "duration": 22,
    "start_time": "2021-10-12T19:50:02.887Z"
   },
   {
    "duration": 20,
    "start_time": "2021-10-12T19:50:03.624Z"
   },
   {
    "duration": 34,
    "start_time": "2021-10-12T19:50:03.811Z"
   },
   {
    "duration": 6,
    "start_time": "2021-10-12T19:50:04.006Z"
   },
   {
    "duration": 29,
    "start_time": "2021-10-12T19:50:04.179Z"
   },
   {
    "duration": 47,
    "start_time": "2021-10-12T19:50:04.368Z"
   },
   {
    "duration": 37,
    "start_time": "2021-10-12T19:50:04.558Z"
   },
   {
    "duration": 29,
    "start_time": "2021-10-12T19:50:04.767Z"
   },
   {
    "duration": 130,
    "start_time": "2021-10-12T19:50:05.054Z"
   },
   {
    "duration": 80,
    "start_time": "2021-10-12T19:50:05.190Z"
   },
   {
    "duration": 22,
    "start_time": "2021-10-12T19:50:05.367Z"
   },
   {
    "duration": 21,
    "start_time": "2021-10-12T19:50:05.562Z"
   },
   {
    "duration": 23,
    "start_time": "2021-10-12T19:50:06.012Z"
   },
   {
    "duration": 38,
    "start_time": "2021-10-12T19:50:06.252Z"
   },
   {
    "duration": 582,
    "start_time": "2021-10-12T19:50:06.456Z"
   },
   {
    "duration": 21,
    "start_time": "2021-10-12T19:50:07.041Z"
   },
   {
    "duration": 89,
    "start_time": "2021-10-12T19:50:07.064Z"
   },
   {
    "duration": 22,
    "start_time": "2021-10-12T19:50:07.156Z"
   },
   {
    "duration": 3,
    "start_time": "2021-10-12T19:50:08.027Z"
   },
   {
    "duration": 22,
    "start_time": "2021-10-12T19:50:08.254Z"
   },
   {
    "duration": 241,
    "start_time": "2021-10-12T19:50:08.371Z"
   },
   {
    "duration": 256,
    "start_time": "2021-10-12T19:50:08.614Z"
   },
   {
    "duration": 219,
    "start_time": "2021-10-12T19:50:08.873Z"
   },
   {
    "duration": 207,
    "start_time": "2021-10-12T19:50:09.095Z"
   },
   {
    "duration": 18,
    "start_time": "2021-10-12T19:50:11.201Z"
   },
   {
    "duration": 383,
    "start_time": "2021-10-12T19:50:11.836Z"
   },
   {
    "duration": 139,
    "start_time": "2021-10-12T19:50:13.470Z"
   },
   {
    "duration": 11,
    "start_time": "2021-10-12T19:50:14.065Z"
   },
   {
    "duration": 3,
    "start_time": "2021-10-12T19:50:14.953Z"
   },
   {
    "duration": 28,
    "start_time": "2021-10-12T19:50:16.833Z"
   },
   {
    "duration": 113,
    "start_time": "2021-10-12T19:50:54.957Z"
   },
   {
    "duration": 23,
    "start_time": "2021-10-12T19:50:55.204Z"
   },
   {
    "duration": 20,
    "start_time": "2021-10-12T19:50:56.189Z"
   },
   {
    "duration": 33,
    "start_time": "2021-10-12T19:50:56.394Z"
   },
   {
    "duration": 5,
    "start_time": "2021-10-12T19:50:56.629Z"
   },
   {
    "duration": 33,
    "start_time": "2021-10-12T19:50:56.844Z"
   },
   {
    "duration": 46,
    "start_time": "2021-10-12T19:50:57.098Z"
   },
   {
    "duration": 38,
    "start_time": "2021-10-12T19:50:57.358Z"
   },
   {
    "duration": 30,
    "start_time": "2021-10-12T19:50:57.651Z"
   },
   {
    "duration": 83,
    "start_time": "2021-10-12T19:50:57.885Z"
   },
   {
    "duration": 94,
    "start_time": "2021-10-12T19:50:58.074Z"
   },
   {
    "duration": 22,
    "start_time": "2021-10-12T19:50:58.361Z"
   },
   {
    "duration": 21,
    "start_time": "2021-10-12T19:50:58.574Z"
   },
   {
    "duration": 24,
    "start_time": "2021-10-12T19:50:59.042Z"
   },
   {
    "duration": 35,
    "start_time": "2021-10-12T19:50:59.298Z"
   },
   {
    "duration": 611,
    "start_time": "2021-10-12T19:50:59.553Z"
   },
   {
    "duration": 17,
    "start_time": "2021-10-12T19:51:00.166Z"
   },
   {
    "duration": 104,
    "start_time": "2021-10-12T19:51:00.185Z"
   },
   {
    "duration": 24,
    "start_time": "2021-10-12T19:51:00.292Z"
   },
   {
    "duration": 3,
    "start_time": "2021-10-12T19:51:00.785Z"
   },
   {
    "duration": 23,
    "start_time": "2021-10-12T19:51:01.047Z"
   },
   {
    "duration": 252,
    "start_time": "2021-10-12T19:51:01.305Z"
   },
   {
    "duration": 273,
    "start_time": "2021-10-12T19:51:01.561Z"
   },
   {
    "duration": 200,
    "start_time": "2021-10-12T19:51:01.841Z"
   },
   {
    "duration": 168,
    "start_time": "2021-10-12T19:51:02.121Z"
   },
   {
    "duration": 14,
    "start_time": "2021-10-12T19:51:02.402Z"
   },
   {
    "duration": 314,
    "start_time": "2021-10-12T19:51:02.695Z"
   },
   {
    "duration": 151,
    "start_time": "2021-10-12T19:51:03.011Z"
   },
   {
    "duration": 9,
    "start_time": "2021-10-12T19:51:03.352Z"
   },
   {
    "duration": 2,
    "start_time": "2021-10-12T19:51:03.643Z"
   },
   {
    "duration": 33,
    "start_time": "2021-10-12T19:51:07.819Z"
   },
   {
    "duration": 106,
    "start_time": "2021-10-12T19:51:27.370Z"
   },
   {
    "duration": 23,
    "start_time": "2021-10-12T19:51:27.638Z"
   },
   {
    "duration": 20,
    "start_time": "2021-10-12T19:51:28.664Z"
   },
   {
    "duration": 33,
    "start_time": "2021-10-12T19:51:28.944Z"
   },
   {
    "duration": 7,
    "start_time": "2021-10-12T19:51:29.197Z"
   },
   {
    "duration": 28,
    "start_time": "2021-10-12T19:51:29.456Z"
   },
   {
    "duration": 60,
    "start_time": "2021-10-12T19:51:29.693Z"
   },
   {
    "duration": 40,
    "start_time": "2021-10-12T19:51:29.984Z"
   },
   {
    "duration": 29,
    "start_time": "2021-10-12T19:51:30.264Z"
   },
   {
    "duration": 81,
    "start_time": "2021-10-12T19:51:30.520Z"
   },
   {
    "duration": 89,
    "start_time": "2021-10-12T19:51:30.780Z"
   },
   {
    "duration": 21,
    "start_time": "2021-10-12T19:51:31.055Z"
   },
   {
    "duration": 35,
    "start_time": "2021-10-12T19:51:31.304Z"
   },
   {
    "duration": 32,
    "start_time": "2021-10-12T19:51:31.839Z"
   },
   {
    "duration": 55,
    "start_time": "2021-10-12T19:51:32.091Z"
   },
   {
    "duration": 696,
    "start_time": "2021-10-12T19:51:32.348Z"
   },
   {
    "duration": 15,
    "start_time": "2021-10-12T19:51:33.046Z"
   },
   {
    "duration": 87,
    "start_time": "2021-10-12T19:51:33.063Z"
   },
   {
    "duration": 39,
    "start_time": "2021-10-12T19:51:33.153Z"
   },
   {
    "duration": 4,
    "start_time": "2021-10-12T19:51:33.625Z"
   },
   {
    "duration": 23,
    "start_time": "2021-10-12T19:51:33.870Z"
   },
   {
    "duration": 250,
    "start_time": "2021-10-12T19:51:34.126Z"
   },
   {
    "duration": 257,
    "start_time": "2021-10-12T19:51:34.380Z"
   },
   {
    "duration": 194,
    "start_time": "2021-10-12T19:51:34.639Z"
   },
   {
    "duration": 181,
    "start_time": "2021-10-12T19:51:34.892Z"
   },
   {
    "duration": 14,
    "start_time": "2021-10-12T19:51:35.145Z"
   },
   {
    "duration": 338,
    "start_time": "2021-10-12T19:51:35.373Z"
   },
   {
    "duration": 160,
    "start_time": "2021-10-12T19:51:35.714Z"
   },
   {
    "duration": 9,
    "start_time": "2021-10-12T19:51:35.888Z"
   },
   {
    "duration": 3,
    "start_time": "2021-10-12T19:51:36.206Z"
   },
   {
    "duration": 33,
    "start_time": "2021-10-12T19:51:40.499Z"
   },
   {
    "duration": 109,
    "start_time": "2021-10-12T19:52:26.339Z"
   },
   {
    "duration": 25,
    "start_time": "2021-10-12T19:52:26.553Z"
   },
   {
    "duration": 20,
    "start_time": "2021-10-12T19:52:27.407Z"
   },
   {
    "duration": 33,
    "start_time": "2021-10-12T19:52:27.620Z"
   },
   {
    "duration": 5,
    "start_time": "2021-10-12T19:52:27.842Z"
   },
   {
    "duration": 35,
    "start_time": "2021-10-12T19:52:28.081Z"
   },
   {
    "duration": 47,
    "start_time": "2021-10-12T19:52:28.294Z"
   },
   {
    "duration": 40,
    "start_time": "2021-10-12T19:52:28.549Z"
   },
   {
    "duration": 29,
    "start_time": "2021-10-12T19:52:28.785Z"
   },
   {
    "duration": 80,
    "start_time": "2021-10-12T19:52:28.997Z"
   },
   {
    "duration": 74,
    "start_time": "2021-10-12T19:52:29.235Z"
   },
   {
    "duration": 21,
    "start_time": "2021-10-12T19:52:29.486Z"
   },
   {
    "duration": 20,
    "start_time": "2021-10-12T19:52:29.728Z"
   },
   {
    "duration": 24,
    "start_time": "2021-10-12T19:52:30.252Z"
   },
   {
    "duration": 38,
    "start_time": "2021-10-12T19:52:30.448Z"
   },
   {
    "duration": 852,
    "start_time": "2021-10-12T19:52:30.679Z"
   },
   {
    "duration": 36,
    "start_time": "2021-10-12T19:52:31.534Z"
   },
   {
    "duration": 97,
    "start_time": "2021-10-12T19:52:31.574Z"
   },
   {
    "duration": 23,
    "start_time": "2021-10-12T19:52:31.673Z"
   },
   {
    "duration": 3,
    "start_time": "2021-10-12T19:52:31.859Z"
   },
   {
    "duration": 21,
    "start_time": "2021-10-12T19:52:32.114Z"
   },
   {
    "duration": 244,
    "start_time": "2021-10-12T19:52:32.366Z"
   },
   {
    "duration": 276,
    "start_time": "2021-10-12T19:52:32.612Z"
   },
   {
    "duration": 360,
    "start_time": "2021-10-12T19:52:32.890Z"
   },
   {
    "duration": 194,
    "start_time": "2021-10-12T19:52:33.251Z"
   },
   {
    "duration": 15,
    "start_time": "2021-10-12T19:52:33.449Z"
   },
   {
    "duration": 332,
    "start_time": "2021-10-12T19:52:33.905Z"
   },
   {
    "duration": 136,
    "start_time": "2021-10-12T19:52:34.327Z"
   },
   {
    "duration": 9,
    "start_time": "2021-10-12T19:52:35.415Z"
   },
   {
    "duration": 3,
    "start_time": "2021-10-12T19:52:36.004Z"
   },
   {
    "duration": 36,
    "start_time": "2021-10-12T19:52:38.167Z"
   },
   {
    "duration": 106,
    "start_time": "2021-10-12T19:53:17.815Z"
   },
   {
    "duration": 26,
    "start_time": "2021-10-12T19:53:18.126Z"
   },
   {
    "duration": 21,
    "start_time": "2021-10-12T19:53:19.091Z"
   },
   {
    "duration": 37,
    "start_time": "2021-10-12T19:53:19.319Z"
   },
   {
    "duration": 6,
    "start_time": "2021-10-12T19:53:19.535Z"
   },
   {
    "duration": 32,
    "start_time": "2021-10-12T19:53:19.794Z"
   },
   {
    "duration": 50,
    "start_time": "2021-10-12T19:53:20.002Z"
   },
   {
    "duration": 38,
    "start_time": "2021-10-12T19:53:20.256Z"
   },
   {
    "duration": 32,
    "start_time": "2021-10-12T19:53:20.469Z"
   },
   {
    "duration": 76,
    "start_time": "2021-10-12T19:53:20.759Z"
   },
   {
    "duration": 72,
    "start_time": "2021-10-12T19:53:20.938Z"
   },
   {
    "duration": 22,
    "start_time": "2021-10-12T19:53:21.170Z"
   },
   {
    "duration": 22,
    "start_time": "2021-10-12T19:53:21.402Z"
   },
   {
    "duration": 22,
    "start_time": "2021-10-12T19:53:21.861Z"
   },
   {
    "duration": 38,
    "start_time": "2021-10-12T19:53:22.092Z"
   },
   {
    "duration": 548,
    "start_time": "2021-10-12T19:53:22.300Z"
   },
   {
    "duration": 26,
    "start_time": "2021-10-12T19:53:22.850Z"
   },
   {
    "duration": 132,
    "start_time": "2021-10-12T19:53:22.879Z"
   },
   {
    "duration": 21,
    "start_time": "2021-10-12T19:53:23.061Z"
   },
   {
    "duration": 3,
    "start_time": "2021-10-12T19:53:23.629Z"
   },
   {
    "duration": 24,
    "start_time": "2021-10-12T19:53:23.866Z"
   },
   {
    "duration": 245,
    "start_time": "2021-10-12T19:53:24.098Z"
   },
   {
    "duration": 266,
    "start_time": "2021-10-12T19:53:24.349Z"
   },
   {
    "duration": 200,
    "start_time": "2021-10-12T19:53:24.617Z"
   },
   {
    "duration": 174,
    "start_time": "2021-10-12T19:53:26.108Z"
   },
   {
    "duration": 15,
    "start_time": "2021-10-12T19:53:26.418Z"
   },
   {
    "duration": 499,
    "start_time": "2021-10-12T19:53:27.303Z"
   },
   {
    "duration": 227,
    "start_time": "2021-10-12T19:53:28.260Z"
   },
   {
    "duration": 10,
    "start_time": "2021-10-12T19:53:28.635Z"
   },
   {
    "duration": 3,
    "start_time": "2021-10-12T19:53:29.261Z"
   },
   {
    "duration": 29,
    "start_time": "2021-10-12T19:53:30.186Z"
   },
   {
    "duration": 35,
    "start_time": "2021-10-12T19:56:35.962Z"
   },
   {
    "duration": 100,
    "start_time": "2021-10-12T19:57:16.261Z"
   },
   {
    "duration": 21,
    "start_time": "2021-10-12T19:57:16.474Z"
   },
   {
    "duration": 20,
    "start_time": "2021-10-12T19:57:17.256Z"
   },
   {
    "duration": 34,
    "start_time": "2021-10-12T19:57:17.439Z"
   },
   {
    "duration": 5,
    "start_time": "2021-10-12T19:57:17.660Z"
   },
   {
    "duration": 33,
    "start_time": "2021-10-12T19:57:17.838Z"
   },
   {
    "duration": 43,
    "start_time": "2021-10-12T19:57:18.036Z"
   },
   {
    "duration": 35,
    "start_time": "2021-10-12T19:57:18.250Z"
   },
   {
    "duration": 28,
    "start_time": "2021-10-12T19:57:18.424Z"
   },
   {
    "duration": 78,
    "start_time": "2021-10-12T19:57:18.647Z"
   },
   {
    "duration": 78,
    "start_time": "2021-10-12T19:57:18.890Z"
   },
   {
    "duration": 20,
    "start_time": "2021-10-12T19:57:19.101Z"
   },
   {
    "duration": 21,
    "start_time": "2021-10-12T19:57:19.321Z"
   },
   {
    "duration": 23,
    "start_time": "2021-10-12T19:57:19.758Z"
   },
   {
    "duration": 35,
    "start_time": "2021-10-12T19:57:19.974Z"
   },
   {
    "duration": 487,
    "start_time": "2021-10-12T19:57:20.246Z"
   },
   {
    "duration": 21,
    "start_time": "2021-10-12T19:57:20.735Z"
   },
   {
    "duration": 92,
    "start_time": "2021-10-12T19:57:20.758Z"
   },
   {
    "duration": 22,
    "start_time": "2021-10-12T19:57:21.361Z"
   },
   {
    "duration": 3,
    "start_time": "2021-10-12T19:57:22.770Z"
   },
   {
    "duration": 22,
    "start_time": "2021-10-12T19:57:23.025Z"
   },
   {
    "duration": 235,
    "start_time": "2021-10-12T19:57:23.261Z"
   },
   {
    "duration": 243,
    "start_time": "2021-10-12T19:57:23.887Z"
   },
   {
    "duration": 201,
    "start_time": "2021-10-12T19:57:24.132Z"
   },
   {
    "duration": 178,
    "start_time": "2021-10-12T19:57:24.616Z"
   },
   {
    "duration": 13,
    "start_time": "2021-10-12T19:57:24.847Z"
   },
   {
    "duration": 326,
    "start_time": "2021-10-12T19:57:25.395Z"
   },
   {
    "duration": 139,
    "start_time": "2021-10-12T19:57:25.861Z"
   },
   {
    "duration": 10,
    "start_time": "2021-10-12T19:57:37.075Z"
   },
   {
    "duration": 2,
    "start_time": "2021-10-12T19:57:37.819Z"
   },
   {
    "duration": 30,
    "start_time": "2021-10-12T19:57:38.967Z"
   },
   {
    "duration": 161,
    "start_time": "2021-10-12T19:58:40.292Z"
   },
   {
    "duration": 159,
    "start_time": "2021-10-12T19:58:46.276Z"
   },
   {
    "duration": 167,
    "start_time": "2021-10-12T19:59:20.788Z"
   },
   {
    "duration": 5,
    "start_time": "2021-10-12T19:59:38.561Z"
   },
   {
    "duration": 17,
    "start_time": "2021-10-12T20:00:04.062Z"
   },
   {
    "duration": 180,
    "start_time": "2021-10-12T20:00:39.327Z"
   },
   {
    "duration": 181,
    "start_time": "2021-10-12T20:00:47.957Z"
   },
   {
    "duration": 346,
    "start_time": "2021-10-12T20:00:59.058Z"
   },
   {
    "duration": 176,
    "start_time": "2021-10-12T20:01:11.713Z"
   },
   {
    "duration": 14,
    "start_time": "2021-10-12T20:07:37.938Z"
   },
   {
    "duration": 29,
    "start_time": "2021-10-12T20:08:30.502Z"
   },
   {
    "duration": 50,
    "start_time": "2021-10-12T20:13:39.671Z"
   },
   {
    "duration": 335,
    "start_time": "2021-10-12T20:21:26.319Z"
   },
   {
    "duration": 326,
    "start_time": "2021-10-12T20:22:22.408Z"
   },
   {
    "duration": 414,
    "start_time": "2021-10-12T20:23:31.842Z"
   },
   {
    "duration": 334,
    "start_time": "2021-10-12T20:25:00.376Z"
   },
   {
    "duration": 556,
    "start_time": "2021-10-12T20:25:49.579Z"
   },
   {
    "duration": 329,
    "start_time": "2021-10-12T20:25:58.858Z"
   },
   {
    "duration": 444,
    "start_time": "2021-10-12T20:26:50.406Z"
   },
   {
    "duration": 728,
    "start_time": "2021-10-12T20:27:19.421Z"
   },
   {
    "duration": 217,
    "start_time": "2021-10-12T20:32:13.543Z"
   },
   {
    "duration": 328,
    "start_time": "2021-10-12T20:33:34.824Z"
   },
   {
    "duration": 794,
    "start_time": "2021-10-12T20:33:58.623Z"
   },
   {
    "duration": 212,
    "start_time": "2021-10-12T20:35:04.635Z"
   },
   {
    "duration": 115,
    "start_time": "2021-10-12T20:37:43.669Z"
   },
   {
    "duration": 24,
    "start_time": "2021-10-12T20:37:43.873Z"
   },
   {
    "duration": 21,
    "start_time": "2021-10-12T20:37:44.588Z"
   },
   {
    "duration": 34,
    "start_time": "2021-10-12T20:37:44.757Z"
   },
   {
    "duration": 6,
    "start_time": "2021-10-12T20:37:44.950Z"
   },
   {
    "duration": 35,
    "start_time": "2021-10-12T20:37:45.100Z"
   },
   {
    "duration": 50,
    "start_time": "2021-10-12T20:37:45.290Z"
   },
   {
    "duration": 42,
    "start_time": "2021-10-12T20:37:45.479Z"
   },
   {
    "duration": 28,
    "start_time": "2021-10-12T20:37:45.670Z"
   },
   {
    "duration": 79,
    "start_time": "2021-10-12T20:37:45.885Z"
   },
   {
    "duration": 77,
    "start_time": "2021-10-12T20:37:46.070Z"
   },
   {
    "duration": 20,
    "start_time": "2021-10-12T20:37:46.461Z"
   },
   {
    "duration": 21,
    "start_time": "2021-10-12T20:37:46.682Z"
   },
   {
    "duration": 22,
    "start_time": "2021-10-12T20:37:47.205Z"
   },
   {
    "duration": 35,
    "start_time": "2021-10-12T20:37:47.421Z"
   },
   {
    "duration": 499,
    "start_time": "2021-10-12T20:37:47.677Z"
   },
   {
    "duration": 16,
    "start_time": "2021-10-12T20:37:48.178Z"
   },
   {
    "duration": 91,
    "start_time": "2021-10-12T20:37:48.196Z"
   },
   {
    "duration": 21,
    "start_time": "2021-10-12T20:37:48.430Z"
   },
   {
    "duration": 3,
    "start_time": "2021-10-12T20:37:48.888Z"
   },
   {
    "duration": 24,
    "start_time": "2021-10-12T20:37:49.167Z"
   },
   {
    "duration": 247,
    "start_time": "2021-10-12T20:37:49.402Z"
   },
   {
    "duration": 482,
    "start_time": "2021-10-12T20:37:49.689Z"
   },
   {
    "duration": 205,
    "start_time": "2021-10-12T20:37:50.174Z"
   },
   {
    "duration": 188,
    "start_time": "2021-10-12T20:37:50.964Z"
   },
   {
    "duration": 15,
    "start_time": "2021-10-12T20:37:53.608Z"
   },
   {
    "duration": 334,
    "start_time": "2021-10-12T20:37:53.945Z"
   },
   {
    "duration": 169,
    "start_time": "2021-10-12T20:37:54.282Z"
   },
   {
    "duration": 11,
    "start_time": "2021-10-12T20:37:55.702Z"
   },
   {
    "duration": 3,
    "start_time": "2021-10-12T20:37:56.103Z"
   },
   {
    "duration": 70,
    "start_time": "2021-10-12T20:37:57.319Z"
   },
   {
    "duration": 52,
    "start_time": "2021-10-12T20:38:06.117Z"
   },
   {
    "duration": 342,
    "start_time": "2021-10-12T20:38:11.047Z"
   },
   {
    "duration": 741,
    "start_time": "2021-10-12T20:38:13.175Z"
   },
   {
    "duration": 730,
    "start_time": "2021-10-12T20:38:17.113Z"
   },
   {
    "duration": 228,
    "start_time": "2021-10-12T20:38:21.936Z"
   },
   {
    "duration": 101,
    "start_time": "2021-10-12T20:39:35.701Z"
   },
   {
    "duration": 22,
    "start_time": "2021-10-12T20:39:35.955Z"
   },
   {
    "duration": 20,
    "start_time": "2021-10-12T20:39:36.783Z"
   },
   {
    "duration": 36,
    "start_time": "2021-10-12T20:39:37.022Z"
   },
   {
    "duration": 6,
    "start_time": "2021-10-12T20:39:37.219Z"
   },
   {
    "duration": 34,
    "start_time": "2021-10-12T20:39:37.425Z"
   },
   {
    "duration": 45,
    "start_time": "2021-10-12T20:39:37.637Z"
   },
   {
    "duration": 36,
    "start_time": "2021-10-12T20:39:37.859Z"
   },
   {
    "duration": 28,
    "start_time": "2021-10-12T20:39:38.070Z"
   },
   {
    "duration": 78,
    "start_time": "2021-10-12T20:39:38.296Z"
   },
   {
    "duration": 73,
    "start_time": "2021-10-12T20:39:38.487Z"
   },
   {
    "duration": 20,
    "start_time": "2021-10-12T20:39:38.780Z"
   },
   {
    "duration": 21,
    "start_time": "2021-10-12T20:39:39.024Z"
   },
   {
    "duration": 23,
    "start_time": "2021-10-12T20:39:39.505Z"
   },
   {
    "duration": 36,
    "start_time": "2021-10-12T20:39:39.713Z"
   },
   {
    "duration": 523,
    "start_time": "2021-10-12T20:39:39.926Z"
   },
   {
    "duration": 16,
    "start_time": "2021-10-12T20:39:40.450Z"
   },
   {
    "duration": 103,
    "start_time": "2021-10-12T20:39:40.469Z"
   },
   {
    "duration": 21,
    "start_time": "2021-10-12T20:39:40.582Z"
   },
   {
    "duration": 3,
    "start_time": "2021-10-12T20:39:41.070Z"
   },
   {
    "duration": 23,
    "start_time": "2021-10-12T20:39:41.343Z"
   },
   {
    "duration": 241,
    "start_time": "2021-10-12T20:39:41.623Z"
   },
   {
    "duration": 241,
    "start_time": "2021-10-12T20:39:42.071Z"
   },
   {
    "duration": 176,
    "start_time": "2021-10-12T20:39:42.433Z"
   },
   {
    "duration": 176,
    "start_time": "2021-10-12T20:39:44.889Z"
   },
   {
    "duration": 14,
    "start_time": "2021-10-12T20:39:45.171Z"
   },
   {
    "duration": 548,
    "start_time": "2021-10-12T20:39:45.615Z"
   },
   {
    "duration": 135,
    "start_time": "2021-10-12T20:39:46.220Z"
   },
   {
    "duration": 9,
    "start_time": "2021-10-12T20:39:47.000Z"
   },
   {
    "duration": 3,
    "start_time": "2021-10-12T20:39:47.780Z"
   },
   {
    "duration": 53,
    "start_time": "2021-10-12T20:39:48.405Z"
   },
   {
    "duration": 324,
    "start_time": "2021-10-12T20:39:50.051Z"
   },
   {
    "duration": 748,
    "start_time": "2021-10-12T20:39:50.613Z"
   },
   {
    "duration": 716,
    "start_time": "2021-10-12T20:39:51.363Z"
   },
   {
    "duration": 417,
    "start_time": "2021-10-12T20:39:57.604Z"
   },
   {
    "duration": 759,
    "start_time": "2021-10-12T20:40:28.967Z"
   },
   {
    "duration": 318,
    "start_time": "2021-10-12T20:41:20.752Z"
   },
   {
    "duration": 341,
    "start_time": "2021-10-12T20:41:52.220Z"
   },
   {
    "duration": 318,
    "start_time": "2021-10-12T20:42:23.665Z"
   },
   {
    "duration": 867,
    "start_time": "2021-10-14T09:42:11.474Z"
   },
   {
    "duration": 34,
    "start_time": "2021-10-14T09:42:12.343Z"
   },
   {
    "duration": 24,
    "start_time": "2021-10-14T09:42:12.733Z"
   },
   {
    "duration": 49,
    "start_time": "2021-10-14T09:42:13.031Z"
   },
   {
    "duration": 7,
    "start_time": "2021-10-14T09:42:13.307Z"
   },
   {
    "duration": 48,
    "start_time": "2021-10-14T09:42:13.602Z"
   },
   {
    "duration": 63,
    "start_time": "2021-10-14T09:42:13.929Z"
   },
   {
    "duration": 48,
    "start_time": "2021-10-14T09:42:14.291Z"
   },
   {
    "duration": 37,
    "start_time": "2021-10-14T09:42:14.629Z"
   },
   {
    "duration": 107,
    "start_time": "2021-10-14T09:42:14.946Z"
   },
   {
    "duration": 99,
    "start_time": "2021-10-14T09:42:15.267Z"
   },
   {
    "duration": 28,
    "start_time": "2021-10-14T09:42:15.601Z"
   },
   {
    "duration": 34,
    "start_time": "2021-10-14T09:42:16.023Z"
   },
   {
    "duration": 37,
    "start_time": "2021-10-14T09:42:16.745Z"
   },
   {
    "duration": 53,
    "start_time": "2021-10-14T09:42:17.189Z"
   },
   {
    "duration": 891,
    "start_time": "2021-10-14T09:42:17.717Z"
   },
   {
    "duration": 21,
    "start_time": "2021-10-14T09:42:18.611Z"
   },
   {
    "duration": 108,
    "start_time": "2021-10-14T09:42:18.635Z"
   },
   {
    "duration": 34,
    "start_time": "2021-10-14T09:42:18.819Z"
   },
   {
    "duration": 110,
    "start_time": "2021-10-14T09:42:19.497Z"
   },
   {
    "duration": 67,
    "start_time": "2021-10-14T09:42:19.858Z"
   },
   {
    "duration": 393,
    "start_time": "2021-10-14T09:42:20.271Z"
   },
   {
    "duration": 424,
    "start_time": "2021-10-14T09:42:20.667Z"
   },
   {
    "duration": 334,
    "start_time": "2021-10-14T09:42:21.094Z"
   },
   {
    "duration": 330,
    "start_time": "2021-10-14T09:42:21.431Z"
   },
   {
    "duration": 17,
    "start_time": "2021-10-14T09:42:21.771Z"
   },
   {
    "duration": 564,
    "start_time": "2021-10-14T09:42:22.180Z"
   },
   {
    "duration": 221,
    "start_time": "2021-10-14T09:42:22.747Z"
   },
   {
    "duration": 12,
    "start_time": "2021-10-14T09:42:23.071Z"
   },
   {
    "duration": 3,
    "start_time": "2021-10-14T09:42:25.919Z"
   },
   {
    "duration": 66,
    "start_time": "2021-10-14T09:42:26.799Z"
   },
   {
    "duration": 570,
    "start_time": "2021-10-14T09:42:27.516Z"
   },
   {
    "duration": 1209,
    "start_time": "2021-10-14T09:42:28.088Z"
   },
   {
    "duration": 1123,
    "start_time": "2021-10-14T09:42:29.300Z"
   },
   {
    "duration": 1178,
    "start_time": "2021-10-14T09:42:30.427Z"
   },
   {
    "duration": 518,
    "start_time": "2021-10-14T09:42:34.118Z"
   },
   {
    "duration": 529,
    "start_time": "2021-10-14T09:42:36.157Z"
   },
   {
    "duration": 510,
    "start_time": "2021-10-14T09:42:38.979Z"
   },
   {
    "duration": 398,
    "start_time": "2021-10-14T09:42:41.264Z"
   },
   {
    "duration": 30,
    "start_time": "2021-10-14T09:42:53.638Z"
   },
   {
    "duration": 31,
    "start_time": "2021-10-14T09:43:37.294Z"
   },
   {
    "duration": 312,
    "start_time": "2021-10-14T09:45:15.711Z"
   },
   {
    "duration": 317,
    "start_time": "2021-10-14T09:45:40.018Z"
   },
   {
    "duration": 110,
    "start_time": "2021-10-14T09:46:13.142Z"
   },
   {
    "duration": 34,
    "start_time": "2021-10-14T09:46:19.607Z"
   },
   {
    "duration": 33,
    "start_time": "2021-10-14T09:46:53.111Z"
   },
   {
    "duration": 40,
    "start_time": "2021-10-14T09:47:19.137Z"
   },
   {
    "duration": 23,
    "start_time": "2021-10-14T09:52:50.948Z"
   },
   {
    "duration": 31,
    "start_time": "2021-10-14T09:53:11.224Z"
   },
   {
    "duration": 337,
    "start_time": "2021-10-14T09:54:19.758Z"
   },
   {
    "duration": 27,
    "start_time": "2021-10-14T09:54:32.199Z"
   },
   {
    "duration": 32,
    "start_time": "2021-10-14T09:57:37.619Z"
   },
   {
    "duration": 448,
    "start_time": "2021-10-14T10:01:44.499Z"
   },
   {
    "duration": 33,
    "start_time": "2021-10-14T10:02:19.737Z"
   },
   {
    "duration": 30,
    "start_time": "2021-10-14T10:02:43.395Z"
   },
   {
    "duration": 553,
    "start_time": "2021-10-14T10:03:04.179Z"
   },
   {
    "duration": 302,
    "start_time": "2021-10-14T10:03:10.056Z"
   },
   {
    "duration": 2038,
    "start_time": "2021-10-14T10:06:56.123Z"
   },
   {
    "duration": 569,
    "start_time": "2021-10-14T10:07:09.588Z"
   },
   {
    "duration": 2125,
    "start_time": "2021-10-14T10:07:21.583Z"
   },
   {
    "duration": 7172,
    "start_time": "2021-10-14T10:07:29.210Z"
   },
   {
    "duration": 306,
    "start_time": "2021-10-14T10:08:09.575Z"
   },
   {
    "duration": 304,
    "start_time": "2021-10-14T10:08:17.677Z"
   },
   {
    "duration": 7002,
    "start_time": "2021-10-14T10:10:24.093Z"
   },
   {
    "duration": 914,
    "start_time": "2021-10-14T10:10:54.119Z"
   },
   {
    "duration": 321,
    "start_time": "2021-10-14T10:11:07.285Z"
   },
   {
    "duration": 11,
    "start_time": "2021-10-14T10:12:27.652Z"
   },
   {
    "duration": 10,
    "start_time": "2021-10-14T10:12:55.426Z"
   },
   {
    "duration": 7,
    "start_time": "2021-10-14T10:16:29.144Z"
   },
   {
    "duration": 9,
    "start_time": "2021-10-14T10:16:46.895Z"
   },
   {
    "duration": 9,
    "start_time": "2021-10-14T10:20:28.670Z"
   },
   {
    "duration": 99,
    "start_time": "2021-10-14T10:20:43.644Z"
   },
   {
    "duration": 8,
    "start_time": "2021-10-14T10:20:57.138Z"
   },
   {
    "duration": 9,
    "start_time": "2021-10-14T10:21:07.299Z"
   },
   {
    "duration": 12,
    "start_time": "2021-10-14T10:24:24.595Z"
   },
   {
    "duration": 33,
    "start_time": "2021-10-14T10:24:26.175Z"
   },
   {
    "duration": 55,
    "start_time": "2021-10-14T10:24:42.973Z"
   },
   {
    "duration": 8,
    "start_time": "2021-10-14T10:27:22.955Z"
   },
   {
    "duration": 62,
    "start_time": "2021-10-14T10:27:25.282Z"
   },
   {
    "duration": 9,
    "start_time": "2021-10-14T10:27:31.062Z"
   },
   {
    "duration": 67,
    "start_time": "2021-10-14T10:27:32.650Z"
   },
   {
    "duration": 307,
    "start_time": "2021-10-14T10:32:13.371Z"
   },
   {
    "duration": 19,
    "start_time": "2021-10-14T10:33:18.205Z"
   },
   {
    "duration": 319,
    "start_time": "2021-10-14T10:34:30.368Z"
   },
   {
    "duration": 271,
    "start_time": "2021-10-14T10:34:42.562Z"
   },
   {
    "duration": 20,
    "start_time": "2021-10-14T10:35:07.453Z"
   },
   {
    "duration": 21,
    "start_time": "2021-10-14T10:35:47.922Z"
   },
   {
    "duration": 10,
    "start_time": "2021-10-14T10:39:51.834Z"
   },
   {
    "duration": 10,
    "start_time": "2021-10-14T10:40:29.813Z"
   },
   {
    "duration": 43,
    "start_time": "2021-10-14T10:45:32.251Z"
   },
   {
    "duration": 17,
    "start_time": "2021-10-14T10:45:49.674Z"
   },
   {
    "duration": 426,
    "start_time": "2021-10-14T10:48:20.044Z"
   },
   {
    "duration": 390,
    "start_time": "2021-10-14T10:48:48.375Z"
   },
   {
    "duration": 111,
    "start_time": "2021-10-14T10:48:59.687Z"
   },
   {
    "duration": 111,
    "start_time": "2021-10-14T10:49:08.521Z"
   },
   {
    "duration": 30,
    "start_time": "2021-10-14T10:49:09.261Z"
   },
   {
    "duration": 405,
    "start_time": "2021-10-14T10:49:59.300Z"
   },
   {
    "duration": 447,
    "start_time": "2021-10-14T10:50:13.261Z"
   },
   {
    "duration": 419,
    "start_time": "2021-10-14T10:50:19.597Z"
   },
   {
    "duration": 115,
    "start_time": "2021-10-14T10:50:27.734Z"
   },
   {
    "duration": 20,
    "start_time": "2021-10-14T10:52:55.436Z"
   },
   {
    "duration": 6,
    "start_time": "2021-10-14T10:52:56.807Z"
   },
   {
    "duration": 139,
    "start_time": "2021-10-14T10:54:13.692Z"
   },
   {
    "duration": 34,
    "start_time": "2021-10-14T10:54:18.925Z"
   },
   {
    "duration": 27,
    "start_time": "2021-10-14T10:54:21.955Z"
   },
   {
    "duration": 47,
    "start_time": "2021-10-14T10:54:28.099Z"
   },
   {
    "duration": 7,
    "start_time": "2021-10-14T10:54:32.299Z"
   },
   {
    "duration": 41,
    "start_time": "2021-10-14T10:54:37.859Z"
   },
   {
    "duration": 67,
    "start_time": "2021-10-14T10:54:39.725Z"
   },
   {
    "duration": 6,
    "start_time": "2021-10-14T10:55:47.672Z"
   },
   {
    "duration": 6,
    "start_time": "2021-10-14T10:55:56.059Z"
   },
   {
    "duration": 6,
    "start_time": "2021-10-14T10:56:15.687Z"
   },
   {
    "duration": 49,
    "start_time": "2021-10-14T10:56:51.946Z"
   },
   {
    "duration": 6,
    "start_time": "2021-10-14T10:56:54.828Z"
   },
   {
    "duration": 5,
    "start_time": "2021-10-14T11:02:38.174Z"
   },
   {
    "duration": 363,
    "start_time": "2021-10-14T11:07:40.488Z"
   },
   {
    "duration": 35,
    "start_time": "2021-10-14T11:09:19.115Z"
   },
   {
    "duration": 130,
    "start_time": "2021-10-14T11:14:58.575Z"
   },
   {
    "duration": 6,
    "start_time": "2021-10-14T11:15:01.289Z"
   },
   {
    "duration": 5,
    "start_time": "2021-10-14T11:15:11.149Z"
   },
   {
    "duration": 333,
    "start_time": "2021-10-14T11:15:30.044Z"
   },
   {
    "duration": 13,
    "start_time": "2021-10-14T11:16:39.571Z"
   },
   {
    "duration": 5,
    "start_time": "2021-10-14T11:16:44.599Z"
   },
   {
    "duration": 7,
    "start_time": "2021-10-14T11:17:20.641Z"
   },
   {
    "duration": 141,
    "start_time": "2021-10-14T11:17:58.011Z"
   },
   {
    "duration": 8,
    "start_time": "2021-10-14T11:17:58.979Z"
   },
   {
    "duration": 7,
    "start_time": "2021-10-14T11:18:58.242Z"
   },
   {
    "duration": 7,
    "start_time": "2021-10-14T11:18:58.491Z"
   },
   {
    "duration": 6,
    "start_time": "2021-10-14T11:18:58.941Z"
   },
   {
    "duration": 14,
    "start_time": "2021-10-14T11:18:59.528Z"
   },
   {
    "duration": 5,
    "start_time": "2021-10-14T11:19:00.082Z"
   },
   {
    "duration": 7,
    "start_time": "2021-10-14T11:19:01.097Z"
   },
   {
    "duration": 6,
    "start_time": "2021-10-14T11:19:08.645Z"
   },
   {
    "duration": 9,
    "start_time": "2021-10-14T11:19:23.684Z"
   },
   {
    "duration": 6,
    "start_time": "2021-10-14T11:19:30.696Z"
   },
   {
    "duration": 141,
    "start_time": "2021-10-14T11:34:50.304Z"
   },
   {
    "duration": 30,
    "start_time": "2021-10-14T11:34:50.853Z"
   },
   {
    "duration": 26,
    "start_time": "2021-10-14T11:34:52.018Z"
   },
   {
    "duration": 47,
    "start_time": "2021-10-14T11:34:52.280Z"
   },
   {
    "duration": 6,
    "start_time": "2021-10-14T11:34:52.565Z"
   },
   {
    "duration": 43,
    "start_time": "2021-10-14T11:34:52.813Z"
   },
   {
    "duration": 66,
    "start_time": "2021-10-14T11:34:53.180Z"
   },
   {
    "duration": 6,
    "start_time": "2021-10-14T11:34:53.603Z"
   },
   {
    "duration": 50,
    "start_time": "2021-10-14T11:34:53.963Z"
   },
   {
    "duration": 6,
    "start_time": "2021-10-14T11:34:54.222Z"
   },
   {
    "duration": 35,
    "start_time": "2021-10-14T11:34:54.520Z"
   },
   {
    "duration": 6,
    "start_time": "2021-10-14T11:34:54.823Z"
   },
   {
    "duration": 115,
    "start_time": "2021-10-14T11:34:55.403Z"
   },
   {
    "duration": 92,
    "start_time": "2021-10-14T11:34:55.674Z"
   },
   {
    "duration": 29,
    "start_time": "2021-10-14T11:34:55.990Z"
   },
   {
    "duration": 35,
    "start_time": "2021-10-14T11:34:56.283Z"
   },
   {
    "duration": 35,
    "start_time": "2021-10-14T11:34:56.858Z"
   },
   {
    "duration": 53,
    "start_time": "2021-10-14T11:34:57.203Z"
   },
   {
    "duration": 934,
    "start_time": "2021-10-14T11:34:57.429Z"
   },
   {
    "duration": 23,
    "start_time": "2021-10-14T11:34:58.366Z"
   },
   {
    "duration": 113,
    "start_time": "2021-10-14T11:34:58.392Z"
   },
   {
    "duration": 54,
    "start_time": "2021-10-14T11:34:58.509Z"
   },
   {
    "duration": 4,
    "start_time": "2021-10-14T11:34:59.021Z"
   },
   {
    "duration": 30,
    "start_time": "2021-10-14T11:34:59.314Z"
   },
   {
    "duration": 411,
    "start_time": "2021-10-14T11:34:59.644Z"
   },
   {
    "duration": 450,
    "start_time": "2021-10-14T11:35:00.059Z"
   },
   {
    "duration": 299,
    "start_time": "2021-10-14T11:35:00.602Z"
   },
   {
    "duration": 322,
    "start_time": "2021-10-14T11:35:00.922Z"
   },
   {
    "duration": 26,
    "start_time": "2021-10-14T11:35:01.246Z"
   },
   {
    "duration": 554,
    "start_time": "2021-10-14T11:35:02.188Z"
   },
   {
    "duration": 236,
    "start_time": "2021-10-14T11:35:02.745Z"
   },
   {
    "duration": 15,
    "start_time": "2021-10-14T11:35:02.985Z"
   },
   {
    "duration": 3,
    "start_time": "2021-10-14T11:35:03.472Z"
   },
   {
    "duration": 63,
    "start_time": "2021-10-14T11:35:03.797Z"
   },
   {
    "duration": 511,
    "start_time": "2021-10-14T11:35:04.054Z"
   },
   {
    "duration": 1236,
    "start_time": "2021-10-14T11:35:04.568Z"
   },
   {
    "duration": 1104,
    "start_time": "2021-10-14T11:35:05.807Z"
   },
   {
    "duration": 1168,
    "start_time": "2021-10-14T11:35:06.913Z"
   },
   {
    "duration": 557,
    "start_time": "2021-10-14T11:35:08.084Z"
   },
   {
    "duration": 528,
    "start_time": "2021-10-14T11:35:08.643Z"
   },
   {
    "duration": 547,
    "start_time": "2021-10-14T11:35:09.174Z"
   },
   {
    "duration": 9,
    "start_time": "2021-10-14T11:35:09.724Z"
   },
   {
    "duration": 81,
    "start_time": "2021-10-14T11:35:09.736Z"
   },
   {
    "duration": 20,
    "start_time": "2021-10-14T11:35:09.820Z"
   },
   {
    "duration": 10,
    "start_time": "2021-10-14T11:35:09.863Z"
   },
   {
    "duration": 11,
    "start_time": "2021-10-14T11:35:11.924Z"
   },
   {
    "duration": 21,
    "start_time": "2021-10-14T11:35:23.982Z"
   },
   {
    "duration": 18,
    "start_time": "2021-10-14T11:35:30.114Z"
   },
   {
    "duration": 136,
    "start_time": "2021-10-14T11:37:17.870Z"
   },
   {
    "duration": 29,
    "start_time": "2021-10-14T11:37:18.543Z"
   },
   {
    "duration": 26,
    "start_time": "2021-10-14T11:37:20.505Z"
   },
   {
    "duration": 53,
    "start_time": "2021-10-14T11:37:21.174Z"
   },
   {
    "duration": 8,
    "start_time": "2021-10-14T11:37:21.986Z"
   },
   {
    "duration": 43,
    "start_time": "2021-10-14T11:37:22.497Z"
   },
   {
    "duration": 63,
    "start_time": "2021-10-14T11:37:22.812Z"
   },
   {
    "duration": 5,
    "start_time": "2021-10-14T11:37:23.132Z"
   },
   {
    "duration": 56,
    "start_time": "2021-10-14T11:37:27.179Z"
   },
   {
    "duration": 5,
    "start_time": "2021-10-14T11:37:28.929Z"
   },
   {
    "duration": 40,
    "start_time": "2021-10-14T11:37:30.904Z"
   },
   {
    "duration": 5,
    "start_time": "2021-10-14T11:37:34.236Z"
   },
   {
    "duration": 117,
    "start_time": "2021-10-14T11:37:36.981Z"
   },
   {
    "duration": 7,
    "start_time": "2021-10-14T11:37:37.993Z"
   },
   {
    "duration": 39,
    "start_time": "2021-10-14T11:38:17.083Z"
   },
   {
    "duration": 8,
    "start_time": "2021-10-14T11:38:17.833Z"
   },
   {
    "duration": 20,
    "start_time": "2021-10-14T11:39:05.501Z"
   },
   {
    "duration": 98,
    "start_time": "2021-10-14T11:40:20.810Z"
   },
   {
    "duration": 6,
    "start_time": "2021-10-14T11:40:22.803Z"
   },
   {
    "duration": 135,
    "start_time": "2021-10-14T12:00:29.242Z"
   },
   {
    "duration": 30,
    "start_time": "2021-10-14T12:00:30.787Z"
   },
   {
    "duration": 28,
    "start_time": "2021-10-14T12:00:32.274Z"
   },
   {
    "duration": 76,
    "start_time": "2021-10-14T12:00:32.546Z"
   },
   {
    "duration": 7,
    "start_time": "2021-10-14T12:00:33.400Z"
   },
   {
    "duration": 87,
    "start_time": "2021-10-14T12:00:33.786Z"
   },
   {
    "duration": 5,
    "start_time": "2021-10-14T12:00:36.277Z"
   },
   {
    "duration": 49,
    "start_time": "2021-10-14T12:00:40.788Z"
   },
   {
    "duration": 6,
    "start_time": "2021-10-14T12:00:47.112Z"
   },
   {
    "duration": 37,
    "start_time": "2021-10-14T12:00:52.683Z"
   },
   {
    "duration": 5,
    "start_time": "2021-10-14T12:00:55.128Z"
   },
   {
    "duration": 139,
    "start_time": "2021-10-14T12:03:01.742Z"
   },
   {
    "duration": 29,
    "start_time": "2021-10-14T12:03:02.261Z"
   },
   {
    "duration": 28,
    "start_time": "2021-10-14T12:03:05.236Z"
   },
   {
    "duration": 51,
    "start_time": "2021-10-14T12:03:05.844Z"
   },
   {
    "duration": 7,
    "start_time": "2021-10-14T12:03:07.016Z"
   },
   {
    "duration": 73,
    "start_time": "2021-10-14T12:03:07.870Z"
   },
   {
    "duration": 6,
    "start_time": "2021-10-14T12:03:09.368Z"
   },
   {
    "duration": 56,
    "start_time": "2021-10-14T12:03:11.630Z"
   },
   {
    "duration": 6,
    "start_time": "2021-10-14T12:03:14.973Z"
   },
   {
    "duration": 67,
    "start_time": "2021-10-14T12:04:48.182Z"
   },
   {
    "duration": 75,
    "start_time": "2021-10-14T12:06:23.631Z"
   },
   {
    "duration": 6,
    "start_time": "2021-10-14T12:06:24.263Z"
   },
   {
    "duration": 7,
    "start_time": "2021-10-14T12:06:51.626Z"
   },
   {
    "duration": 6,
    "start_time": "2021-10-14T12:07:06.319Z"
   },
   {
    "duration": 6,
    "start_time": "2021-10-14T12:08:26.303Z"
   },
   {
    "duration": 17,
    "start_time": "2021-10-14T12:08:27.820Z"
   },
   {
    "duration": 46,
    "start_time": "2021-10-14T12:08:52.556Z"
   },
   {
    "duration": 6,
    "start_time": "2021-10-14T12:08:54.843Z"
   },
   {
    "duration": 16,
    "start_time": "2021-10-14T12:09:03.907Z"
   },
   {
    "duration": 8,
    "start_time": "2021-10-14T12:13:11.919Z"
   },
   {
    "duration": 19,
    "start_time": "2021-10-14T12:13:15.520Z"
   },
   {
    "duration": 116,
    "start_time": "2021-10-14T12:14:17.294Z"
   },
   {
    "duration": 9,
    "start_time": "2021-10-14T12:14:23.311Z"
   },
   {
    "duration": 145,
    "start_time": "2021-10-14T12:14:28.181Z"
   },
   {
    "duration": 11,
    "start_time": "2021-10-14T12:14:29.175Z"
   },
   {
    "duration": 9,
    "start_time": "2021-10-14T12:15:00.745Z"
   },
   {
    "duration": 10,
    "start_time": "2021-10-14T12:15:04.203Z"
   },
   {
    "duration": 141,
    "start_time": "2021-10-14T12:16:40.023Z"
   },
   {
    "duration": 29,
    "start_time": "2021-10-14T12:16:40.420Z"
   },
   {
    "duration": 28,
    "start_time": "2021-10-14T12:16:41.247Z"
   },
   {
    "duration": 49,
    "start_time": "2021-10-14T12:16:41.476Z"
   },
   {
    "duration": 7,
    "start_time": "2021-10-14T12:16:41.730Z"
   },
   {
    "duration": 80,
    "start_time": "2021-10-14T12:16:41.964Z"
   },
   {
    "duration": 5,
    "start_time": "2021-10-14T12:16:42.240Z"
   },
   {
    "duration": 56,
    "start_time": "2021-10-14T12:16:42.437Z"
   },
   {
    "duration": 6,
    "start_time": "2021-10-14T12:16:42.687Z"
   },
   {
    "duration": 77,
    "start_time": "2021-10-14T12:16:43.231Z"
   },
   {
    "duration": 9,
    "start_time": "2021-10-14T12:16:43.508Z"
   },
   {
    "duration": 18,
    "start_time": "2021-10-14T12:16:43.743Z"
   },
   {
    "duration": 46,
    "start_time": "2021-10-14T12:16:44.314Z"
   },
   {
    "duration": 7,
    "start_time": "2021-10-14T12:16:44.924Z"
   },
   {
    "duration": 17,
    "start_time": "2021-10-14T12:16:45.156Z"
   },
   {
    "duration": 38,
    "start_time": "2021-10-14T12:16:45.456Z"
   },
   {
    "duration": 35,
    "start_time": "2021-10-14T12:16:56.055Z"
   },
   {
    "duration": 53,
    "start_time": "2021-10-14T12:17:12.555Z"
   },
   {
    "duration": 958,
    "start_time": "2021-10-14T12:17:44.087Z"
   },
   {
    "duration": 8,
    "start_time": "2021-10-14T12:23:05.510Z"
   },
   {
    "duration": 321,
    "start_time": "2021-10-14T12:23:08.632Z"
   },
   {
    "duration": 139,
    "start_time": "2021-10-14T12:23:57.166Z"
   },
   {
    "duration": 30,
    "start_time": "2021-10-14T12:23:57.827Z"
   },
   {
    "duration": 27,
    "start_time": "2021-10-14T12:23:58.720Z"
   },
   {
    "duration": 51,
    "start_time": "2021-10-14T12:23:58.974Z"
   },
   {
    "duration": 7,
    "start_time": "2021-10-14T12:23:59.226Z"
   },
   {
    "duration": 68,
    "start_time": "2021-10-14T12:23:59.505Z"
   },
   {
    "duration": 4,
    "start_time": "2021-10-14T12:23:59.768Z"
   },
   {
    "duration": 53,
    "start_time": "2021-10-14T12:24:00.048Z"
   },
   {
    "duration": 5,
    "start_time": "2021-10-14T12:24:00.317Z"
   },
   {
    "duration": 75,
    "start_time": "2021-10-14T12:24:00.871Z"
   },
   {
    "duration": 6,
    "start_time": "2021-10-14T12:24:01.160Z"
   },
   {
    "duration": 19,
    "start_time": "2021-10-14T12:24:01.422Z"
   },
   {
    "duration": 43,
    "start_time": "2021-10-14T12:24:01.966Z"
   },
   {
    "duration": 5,
    "start_time": "2021-10-14T12:24:02.261Z"
   },
   {
    "duration": 29,
    "start_time": "2021-10-14T12:24:02.535Z"
   },
   {
    "duration": 33,
    "start_time": "2021-10-14T12:24:02.752Z"
   },
   {
    "duration": 38,
    "start_time": "2021-10-14T12:24:03.280Z"
   },
   {
    "duration": 53,
    "start_time": "2021-10-14T12:24:03.559Z"
   },
   {
    "duration": 885,
    "start_time": "2021-10-14T12:24:03.835Z"
   },
   {
    "duration": 8,
    "start_time": "2021-10-14T12:24:04.723Z"
   },
   {
    "duration": 52,
    "start_time": "2021-10-14T12:24:04.733Z"
   },
   {
    "duration": 33,
    "start_time": "2021-10-14T12:24:04.788Z"
   },
   {
    "duration": 20,
    "start_time": "2021-10-14T12:26:24.700Z"
   },
   {
    "duration": 403,
    "start_time": "2021-10-14T12:26:42.445Z"
   },
   {
    "duration": 450,
    "start_time": "2021-10-14T12:26:42.850Z"
   },
   {
    "duration": 414,
    "start_time": "2021-10-14T12:26:43.302Z"
   },
   {
    "duration": 333,
    "start_time": "2021-10-14T12:26:43.718Z"
   },
   {
    "duration": 10,
    "start_time": "2021-10-14T12:26:44.308Z"
   },
   {
    "duration": 541,
    "start_time": "2021-10-14T12:26:45.179Z"
   },
   {
    "duration": 365,
    "start_time": "2021-10-14T12:26:45.770Z"
   },
   {
    "duration": 12,
    "start_time": "2021-10-14T12:26:47.636Z"
   },
   {
    "duration": 30,
    "start_time": "2021-10-14T12:28:59.693Z"
   },
   {
    "duration": 516,
    "start_time": "2021-10-14T12:29:22.186Z"
   },
   {
    "duration": 1115,
    "start_time": "2021-10-14T12:29:24.509Z"
   },
   {
    "duration": 1079,
    "start_time": "2021-10-14T12:29:27.639Z"
   },
   {
    "duration": 1078,
    "start_time": "2021-10-14T12:33:03.858Z"
   },
   {
    "duration": 1133,
    "start_time": "2021-10-14T12:33:48.623Z"
   },
   {
    "duration": 500,
    "start_time": "2021-10-14T12:33:57.920Z"
   },
   {
    "duration": 504,
    "start_time": "2021-10-14T12:34:03.550Z"
   },
   {
    "duration": 646,
    "start_time": "2021-10-14T12:34:20.773Z"
   },
   {
    "duration": 9,
    "start_time": "2021-10-14T12:35:46.052Z"
   },
   {
    "duration": 60,
    "start_time": "2021-10-14T12:35:50.157Z"
   },
   {
    "duration": 22,
    "start_time": "2021-10-14T12:35:58.918Z"
   },
   {
    "duration": 10,
    "start_time": "2021-10-14T12:36:02.193Z"
   },
   {
    "duration": 11,
    "start_time": "2021-10-14T12:36:04.500Z"
   },
   {
    "duration": 38,
    "start_time": "2021-10-14T12:36:21.535Z"
   },
   {
    "duration": 11,
    "start_time": "2021-10-14T12:36:31.928Z"
   },
   {
    "duration": 4,
    "start_time": "2021-10-14T12:39:22.235Z"
   },
   {
    "duration": 53,
    "start_time": "2021-10-14T12:42:43.081Z"
   },
   {
    "duration": 35,
    "start_time": "2021-10-14T12:43:08.540Z"
   },
   {
    "duration": 55,
    "start_time": "2021-10-14T12:43:31.509Z"
   },
   {
    "duration": 1070,
    "start_time": "2021-10-14T12:47:12.018Z"
   },
   {
    "duration": 60,
    "start_time": "2021-10-14T12:48:32.374Z"
   },
   {
    "duration": 53,
    "start_time": "2021-10-14T12:49:08.536Z"
   },
   {
    "duration": 9,
    "start_time": "2021-10-14T12:50:13.673Z"
   },
   {
    "duration": 6,
    "start_time": "2021-10-14T12:50:42.270Z"
   },
   {
    "duration": 84,
    "start_time": "2021-10-14T12:50:52.419Z"
   },
   {
    "duration": 80,
    "start_time": "2021-10-14T12:51:25.154Z"
   },
   {
    "duration": 93,
    "start_time": "2021-10-14T12:52:14.372Z"
   },
   {
    "duration": 80,
    "start_time": "2021-10-14T12:52:24.411Z"
   },
   {
    "duration": 66,
    "start_time": "2021-10-14T13:02:51.048Z"
   },
   {
    "duration": 56,
    "start_time": "2021-10-14T13:03:14.159Z"
   },
   {
    "duration": 154,
    "start_time": "2021-10-14T13:03:30.744Z"
   },
   {
    "duration": 282,
    "start_time": "2021-10-14T13:03:43.853Z"
   },
   {
    "duration": 53,
    "start_time": "2021-10-14T13:04:13.137Z"
   },
   {
    "duration": 6005,
    "start_time": "2021-10-14T13:06:24.046Z"
   },
   {
    "duration": 566,
    "start_time": "2021-10-14T13:07:25.753Z"
   },
   {
    "duration": 538,
    "start_time": "2021-10-14T13:08:16.953Z"
   },
   {
    "duration": 6,
    "start_time": "2021-10-14T13:08:20.847Z"
   },
   {
    "duration": 316,
    "start_time": "2021-10-14T13:08:44.248Z"
   },
   {
    "duration": 6306,
    "start_time": "2021-10-14T13:08:55.733Z"
   },
   {
    "duration": 56,
    "start_time": "2021-10-14T13:09:18.445Z"
   },
   {
    "duration": 59,
    "start_time": "2021-10-14T13:09:57.600Z"
   },
   {
    "duration": 58,
    "start_time": "2021-10-14T13:10:31.576Z"
   },
   {
    "duration": 289,
    "start_time": "2021-10-14T13:11:27.307Z"
   },
   {
    "duration": 57,
    "start_time": "2021-10-14T13:11:40.903Z"
   },
   {
    "duration": 5,
    "start_time": "2021-10-14T13:11:50.225Z"
   },
   {
    "duration": 24,
    "start_time": "2021-10-14T13:14:36.206Z"
   },
   {
    "duration": 14,
    "start_time": "2021-10-14T13:16:42.296Z"
   },
   {
    "duration": 25,
    "start_time": "2021-10-14T13:16:49.337Z"
   },
   {
    "duration": 24,
    "start_time": "2021-10-14T13:17:16.662Z"
   },
   {
    "duration": 274,
    "start_time": "2021-10-14T13:18:36.430Z"
   },
   {
    "duration": 56,
    "start_time": "2021-10-14T13:31:01.001Z"
   },
   {
    "duration": 55,
    "start_time": "2021-10-14T13:31:41.492Z"
   },
   {
    "duration": 55,
    "start_time": "2021-10-14T13:31:56.930Z"
   },
   {
    "duration": 19,
    "start_time": "2021-10-14T13:37:14.578Z"
   },
   {
    "duration": 19,
    "start_time": "2021-10-14T13:38:13.717Z"
   },
   {
    "duration": 26,
    "start_time": "2021-10-14T13:38:31.212Z"
   },
   {
    "duration": 20,
    "start_time": "2021-10-14T13:38:41.460Z"
   },
   {
    "duration": 18,
    "start_time": "2021-10-14T13:39:45.056Z"
   },
   {
    "duration": 19,
    "start_time": "2021-10-14T13:40:12.057Z"
   },
   {
    "duration": 17,
    "start_time": "2021-10-14T13:40:21.713Z"
   },
   {
    "duration": 20,
    "start_time": "2021-10-14T13:40:39.410Z"
   },
   {
    "duration": 408,
    "start_time": "2021-10-14T13:42:02.496Z"
   },
   {
    "duration": 394,
    "start_time": "2021-10-14T13:42:31.673Z"
   },
   {
    "duration": 408,
    "start_time": "2021-10-14T13:44:26.015Z"
   },
   {
    "duration": 399,
    "start_time": "2021-10-14T13:45:21.059Z"
   },
   {
    "duration": 733,
    "start_time": "2021-10-14T13:45:50.248Z"
   },
   {
    "duration": 408,
    "start_time": "2021-10-14T13:47:33.776Z"
   },
   {
    "duration": 609,
    "start_time": "2021-10-14T13:47:54.514Z"
   },
   {
    "duration": 413,
    "start_time": "2021-10-14T13:48:06.719Z"
   },
   {
    "duration": 420,
    "start_time": "2021-10-14T13:48:16.952Z"
   },
   {
    "duration": 361,
    "start_time": "2021-10-14T13:48:22.913Z"
   },
   {
    "duration": 424,
    "start_time": "2021-10-14T13:48:56.529Z"
   },
   {
    "duration": 436,
    "start_time": "2021-10-14T13:49:12.982Z"
   },
   {
    "duration": 394,
    "start_time": "2021-10-14T13:49:20.779Z"
   },
   {
    "duration": 335,
    "start_time": "2021-10-14T13:49:27.706Z"
   },
   {
    "duration": 325,
    "start_time": "2021-10-14T13:50:09.665Z"
   },
   {
    "duration": 284,
    "start_time": "2021-10-14T13:50:15.453Z"
   },
   {
    "duration": 258,
    "start_time": "2021-10-14T13:50:21.383Z"
   },
   {
    "duration": 302,
    "start_time": "2021-10-14T13:50:26.760Z"
   },
   {
    "duration": 540,
    "start_time": "2021-10-14T13:50:33.327Z"
   },
   {
    "duration": 265,
    "start_time": "2021-10-14T13:50:46.626Z"
   },
   {
    "duration": 271,
    "start_time": "2021-10-14T13:50:55.776Z"
   },
   {
    "duration": 454,
    "start_time": "2021-10-14T13:51:01.759Z"
   },
   {
    "duration": 426,
    "start_time": "2021-10-14T13:51:21.481Z"
   },
   {
    "duration": 320,
    "start_time": "2021-10-14T13:51:30.624Z"
   },
   {
    "duration": 279,
    "start_time": "2021-10-14T13:52:06.283Z"
   },
   {
    "duration": 362,
    "start_time": "2021-10-14T13:52:11.436Z"
   },
   {
    "duration": 384,
    "start_time": "2021-10-14T13:52:17.735Z"
   },
   {
    "duration": 312,
    "start_time": "2021-10-14T13:52:21.676Z"
   },
   {
    "duration": 309,
    "start_time": "2021-10-14T13:56:06.912Z"
   },
   {
    "duration": 291,
    "start_time": "2021-10-14T13:56:19.760Z"
   },
   {
    "duration": 937,
    "start_time": "2021-10-14T14:05:31.745Z"
   },
   {
    "duration": 905,
    "start_time": "2021-10-14T14:07:24.569Z"
   },
   {
    "duration": 903,
    "start_time": "2021-10-14T14:07:29.359Z"
   },
   {
    "duration": 1081,
    "start_time": "2021-10-14T14:07:32.483Z"
   },
   {
    "duration": 877,
    "start_time": "2021-10-14T14:07:35.472Z"
   },
   {
    "duration": 939,
    "start_time": "2021-10-14T14:07:38.177Z"
   },
   {
    "duration": 938,
    "start_time": "2021-10-14T14:07:43.166Z"
   },
   {
    "duration": 523,
    "start_time": "2021-10-14T14:08:06.811Z"
   },
   {
    "duration": 484,
    "start_time": "2021-10-14T14:08:21.081Z"
   },
   {
    "duration": 493,
    "start_time": "2021-10-14T14:08:28.381Z"
   },
   {
    "duration": 529,
    "start_time": "2021-10-14T14:08:35.349Z"
   },
   {
    "duration": 493,
    "start_time": "2021-10-14T14:08:44.303Z"
   },
   {
    "duration": 91,
    "start_time": "2021-10-14T14:13:04.336Z"
   },
   {
    "duration": 143,
    "start_time": "2021-10-14T14:15:14.257Z"
   },
   {
    "duration": 97,
    "start_time": "2021-10-14T14:17:40.316Z"
   },
   {
    "duration": 517,
    "start_time": "2021-10-14T14:20:08.449Z"
   },
   {
    "duration": 158,
    "start_time": "2021-10-14T14:42:11.550Z"
   },
   {
    "duration": 919,
    "start_time": "2021-10-14T19:10:22.750Z"
   },
   {
    "duration": 35,
    "start_time": "2021-10-14T19:10:23.671Z"
   },
   {
    "duration": 27,
    "start_time": "2021-10-14T19:10:23.709Z"
   },
   {
    "duration": 55,
    "start_time": "2021-10-14T19:10:23.768Z"
   },
   {
    "duration": 7,
    "start_time": "2021-10-14T19:10:23.826Z"
   },
   {
    "duration": 101,
    "start_time": "2021-10-14T19:10:23.836Z"
   },
   {
    "duration": 6,
    "start_time": "2021-10-14T19:10:23.940Z"
   },
   {
    "duration": 71,
    "start_time": "2021-10-14T19:10:23.949Z"
   },
   {
    "duration": 5,
    "start_time": "2021-10-14T19:10:24.025Z"
   },
   {
    "duration": 103,
    "start_time": "2021-10-14T19:10:24.033Z"
   },
   {
    "duration": 28,
    "start_time": "2021-10-14T19:10:24.139Z"
   },
   {
    "duration": 18,
    "start_time": "2021-10-14T19:10:24.169Z"
   },
   {
    "duration": 44,
    "start_time": "2021-10-14T19:10:24.190Z"
   },
   {
    "duration": 32,
    "start_time": "2021-10-14T19:10:24.236Z"
   },
   {
    "duration": 23,
    "start_time": "2021-10-14T19:10:24.270Z"
   },
   {
    "duration": 34,
    "start_time": "2021-10-14T19:10:24.295Z"
   },
   {
    "duration": 70,
    "start_time": "2021-10-14T19:10:24.332Z"
   },
   {
    "duration": 67,
    "start_time": "2021-10-14T19:10:24.405Z"
   },
   {
    "duration": 831,
    "start_time": "2021-10-14T19:10:24.474Z"
   },
   {
    "duration": 7,
    "start_time": "2021-10-14T19:10:25.307Z"
   },
   {
    "duration": 58,
    "start_time": "2021-10-14T19:10:25.317Z"
   },
   {
    "duration": 34,
    "start_time": "2021-10-14T19:10:25.377Z"
   },
   {
    "duration": 142,
    "start_time": "2021-10-14T19:10:25.417Z"
   },
   {
    "duration": 65,
    "start_time": "2021-10-14T19:10:25.562Z"
   },
   {
    "duration": 444,
    "start_time": "2021-10-14T19:10:25.629Z"
   },
   {
    "duration": 440,
    "start_time": "2021-10-14T19:10:26.075Z"
   },
   {
    "duration": 322,
    "start_time": "2021-10-14T19:10:26.518Z"
   },
   {
    "duration": 328,
    "start_time": "2021-10-14T19:10:26.844Z"
   },
   {
    "duration": 11,
    "start_time": "2021-10-14T19:10:27.175Z"
   },
   {
    "duration": 588,
    "start_time": "2021-10-14T19:10:27.189Z"
   },
   {
    "duration": 249,
    "start_time": "2021-10-14T19:10:27.779Z"
   },
   {
    "duration": 13,
    "start_time": "2021-10-14T19:10:28.030Z"
   },
   {
    "duration": 46,
    "start_time": "2021-10-14T19:10:28.045Z"
   },
   {
    "duration": 549,
    "start_time": "2021-10-14T19:10:28.093Z"
   },
   {
    "duration": 1179,
    "start_time": "2021-10-14T19:10:28.644Z"
   },
   {
    "duration": 1111,
    "start_time": "2021-10-14T19:10:29.826Z"
   },
   {
    "duration": 1147,
    "start_time": "2021-10-14T19:10:30.939Z"
   },
   {
    "duration": 541,
    "start_time": "2021-10-14T19:10:32.088Z"
   },
   {
    "duration": 545,
    "start_time": "2021-10-14T19:10:32.632Z"
   },
   {
    "duration": 567,
    "start_time": "2021-10-14T19:10:33.179Z"
   },
   {
    "duration": 8,
    "start_time": "2021-10-14T19:10:33.749Z"
   },
   {
    "duration": 56,
    "start_time": "2021-10-14T19:10:33.767Z"
   },
   {
    "duration": 46,
    "start_time": "2021-10-14T19:10:33.825Z"
   },
   {
    "duration": 10,
    "start_time": "2021-10-14T19:10:33.873Z"
   },
   {
    "duration": 11,
    "start_time": "2021-10-14T19:10:33.885Z"
   },
   {
    "duration": 85,
    "start_time": "2021-10-14T19:10:33.898Z"
   },
   {
    "duration": 57,
    "start_time": "2021-10-14T19:10:33.985Z"
   },
   {
    "duration": 42,
    "start_time": "2021-10-14T19:10:34.044Z"
   },
   {
    "duration": 314,
    "start_time": "2021-10-14T19:10:34.088Z"
   },
   {
    "duration": 70,
    "start_time": "2021-10-14T19:10:34.404Z"
   },
   {
    "duration": 18,
    "start_time": "2021-10-14T19:10:34.477Z"
   },
   {
    "duration": 374,
    "start_time": "2021-10-14T19:10:34.497Z"
   },
   {
    "duration": 382,
    "start_time": "2021-10-14T19:10:34.873Z"
   },
   {
    "duration": 388,
    "start_time": "2021-10-14T19:10:35.257Z"
   },
   {
    "duration": 377,
    "start_time": "2021-10-14T19:10:35.648Z"
   },
   {
    "duration": 528,
    "start_time": "2021-10-14T19:10:36.027Z"
   },
   {
    "duration": 532,
    "start_time": "2021-10-14T19:10:36.558Z"
   },
   {
    "duration": 512,
    "start_time": "2021-10-14T19:10:37.093Z"
   },
   {
    "duration": 538,
    "start_time": "2021-10-14T19:10:37.609Z"
   },
   {
    "duration": 507,
    "start_time": "2021-10-14T19:10:38.149Z"
   },
   {
    "duration": 513,
    "start_time": "2021-10-14T19:10:38.658Z"
   },
   {
    "duration": 548,
    "start_time": "2021-10-14T19:10:39.173Z"
   },
   {
    "duration": 65,
    "start_time": "2021-10-14T19:17:11.470Z"
   },
   {
    "duration": 349,
    "start_time": "2021-10-14T19:17:17.974Z"
   },
   {
    "duration": 21,
    "start_time": "2021-10-14T19:17:24.850Z"
   },
   {
    "duration": 9,
    "start_time": "2021-10-14T19:19:09.971Z"
   },
   {
    "duration": 234,
    "start_time": "2021-10-14T19:20:45.641Z"
   },
   {
    "duration": 62,
    "start_time": "2021-10-14T19:21:01.335Z"
   },
   {
    "duration": 8,
    "start_time": "2021-10-14T19:21:21.957Z"
   },
   {
    "duration": 249,
    "start_time": "2021-10-14T19:21:29.476Z"
   },
   {
    "duration": 83,
    "start_time": "2021-10-14T19:21:40.931Z"
   },
   {
    "duration": 18,
    "start_time": "2021-10-14T19:21:53.261Z"
   },
   {
    "duration": 13,
    "start_time": "2021-10-14T19:27:18.314Z"
   },
   {
    "duration": 20,
    "start_time": "2021-10-14T19:27:42.647Z"
   },
   {
    "duration": 18,
    "start_time": "2021-10-14T19:27:49.346Z"
   },
   {
    "duration": 18,
    "start_time": "2021-10-14T19:28:00.427Z"
   },
   {
    "duration": 283,
    "start_time": "2021-10-14T20:29:55.404Z"
   },
   {
    "duration": 9,
    "start_time": "2021-10-14T20:30:10.087Z"
   },
   {
    "duration": 10,
    "start_time": "2021-10-14T20:30:14.858Z"
   },
   {
    "duration": 211,
    "start_time": "2021-10-14T20:33:41.231Z"
   },
   {
    "duration": 6,
    "start_time": "2021-10-14T20:33:43.681Z"
   },
   {
    "duration": 66,
    "start_time": "2021-10-14T20:34:01.621Z"
   },
   {
    "duration": 913,
    "start_time": "2021-10-15T18:50:28.022Z"
   },
   {
    "duration": 30,
    "start_time": "2021-10-15T18:50:29.252Z"
   },
   {
    "duration": 25,
    "start_time": "2021-10-15T18:50:31.521Z"
   },
   {
    "duration": 53,
    "start_time": "2021-10-15T18:50:32.598Z"
   },
   {
    "duration": 7,
    "start_time": "2021-10-15T18:50:32.853Z"
   },
   {
    "duration": 100,
    "start_time": "2021-10-15T18:50:33.964Z"
   },
   {
    "duration": 6,
    "start_time": "2021-10-15T18:50:35.088Z"
   },
   {
    "duration": 1472,
    "start_time": "2021-10-15T18:50:37.650Z"
   },
   {
    "duration": 118,
    "start_time": "2021-10-15T19:00:25.225Z"
   },
   {
    "duration": 78,
    "start_time": "2021-10-15T19:17:53.636Z"
   },
   {
    "duration": 118,
    "start_time": "2021-10-15T19:18:25.245Z"
   },
   {
    "duration": 16,
    "start_time": "2021-10-15T19:24:55.339Z"
   },
   {
    "duration": 119,
    "start_time": "2021-10-15T19:25:48.684Z"
   },
   {
    "duration": 541,
    "start_time": "2021-10-15T19:27:52.064Z"
   },
   {
    "duration": 111,
    "start_time": "2021-10-15T19:28:40.661Z"
   },
   {
    "duration": 15,
    "start_time": "2021-10-15T19:28:42.304Z"
   },
   {
    "duration": 12,
    "start_time": "2021-10-15T19:28:45.362Z"
   },
   {
    "duration": 29,
    "start_time": "2021-10-15T19:28:46.536Z"
   },
   {
    "duration": 5,
    "start_time": "2021-10-15T19:28:47.887Z"
   },
   {
    "duration": 74,
    "start_time": "2021-10-15T19:28:50.315Z"
   },
   {
    "duration": 53,
    "start_time": "2021-10-15T19:29:32.874Z"
   },
   {
    "duration": 24,
    "start_time": "2021-10-15T19:29:34.038Z"
   },
   {
    "duration": 35,
    "start_time": "2021-10-15T19:31:05.955Z"
   },
   {
    "duration": 25,
    "start_time": "2021-10-15T19:31:22.989Z"
   },
   {
    "duration": 9,
    "start_time": "2021-10-15T19:31:48.996Z"
   },
   {
    "duration": 9,
    "start_time": "2021-10-15T19:32:37.782Z"
   },
   {
    "duration": 248,
    "start_time": "2021-10-15T19:32:49.728Z"
   },
   {
    "duration": 311,
    "start_time": "2021-10-15T19:33:11.019Z"
   },
   {
    "duration": 11,
    "start_time": "2021-10-15T19:33:14.148Z"
   },
   {
    "duration": 10,
    "start_time": "2021-10-15T19:34:26.783Z"
   },
   {
    "duration": 13,
    "start_time": "2021-10-15T19:34:36.197Z"
   },
   {
    "duration": 11,
    "start_time": "2021-10-15T19:34:52.621Z"
   },
   {
    "duration": 25,
    "start_time": "2021-10-15T19:35:42.083Z"
   },
   {
    "duration": 11,
    "start_time": "2021-10-15T19:35:57.180Z"
   },
   {
    "duration": 24,
    "start_time": "2021-10-15T19:36:45.395Z"
   },
   {
    "duration": 28,
    "start_time": "2021-10-15T19:38:28.202Z"
   },
   {
    "duration": 34,
    "start_time": "2021-10-15T19:38:37.283Z"
   },
   {
    "duration": 24,
    "start_time": "2021-10-15T19:38:45.127Z"
   },
   {
    "duration": 24,
    "start_time": "2021-10-15T19:39:07.248Z"
   },
   {
    "duration": 26,
    "start_time": "2021-10-15T19:39:12.167Z"
   },
   {
    "duration": 25,
    "start_time": "2021-10-15T19:39:16.872Z"
   },
   {
    "duration": 23,
    "start_time": "2021-10-15T19:39:29.642Z"
   },
   {
    "duration": 25,
    "start_time": "2021-10-15T19:39:35.025Z"
   },
   {
    "duration": 25,
    "start_time": "2021-10-15T19:39:40.131Z"
   },
   {
    "duration": 22,
    "start_time": "2021-10-15T19:39:48.406Z"
   },
   {
    "duration": 24,
    "start_time": "2021-10-15T19:39:52.593Z"
   },
   {
    "duration": 23,
    "start_time": "2021-10-15T19:39:55.725Z"
   },
   {
    "duration": 6,
    "start_time": "2021-10-15T19:40:52.158Z"
   },
   {
    "duration": 294,
    "start_time": "2021-10-15T19:43:24.047Z"
   },
   {
    "duration": 16,
    "start_time": "2021-10-15T19:45:01.524Z"
   },
   {
    "duration": 5,
    "start_time": "2021-10-15T19:47:57.301Z"
   },
   {
    "duration": 116,
    "start_time": "2021-10-15T19:48:05.733Z"
   },
   {
    "duration": 15,
    "start_time": "2021-10-15T19:48:06.860Z"
   },
   {
    "duration": 12,
    "start_time": "2021-10-15T19:48:09.768Z"
   },
   {
    "duration": 28,
    "start_time": "2021-10-15T19:48:10.021Z"
   },
   {
    "duration": 5,
    "start_time": "2021-10-15T19:48:11.062Z"
   },
   {
    "duration": 56,
    "start_time": "2021-10-15T19:48:13.420Z"
   },
   {
    "duration": 11,
    "start_time": "2021-10-15T19:48:13.831Z"
   },
   {
    "duration": 24,
    "start_time": "2021-10-15T19:48:17.754Z"
   },
   {
    "duration": 5,
    "start_time": "2021-10-15T19:48:18.857Z"
   },
   {
    "duration": 8,
    "start_time": "2021-10-15T19:49:02.153Z"
   },
   {
    "duration": 8,
    "start_time": "2021-10-15T19:49:12.311Z"
   },
   {
    "duration": 8,
    "start_time": "2021-10-15T19:52:46.347Z"
   },
   {
    "duration": 339,
    "start_time": "2021-10-15T20:05:36.208Z"
   },
   {
    "duration": 339,
    "start_time": "2021-10-15T20:08:44.114Z"
   },
   {
    "duration": 10,
    "start_time": "2021-10-15T20:10:55.226Z"
   },
   {
    "duration": 31,
    "start_time": "2021-10-15T20:10:57.420Z"
   },
   {
    "duration": 350,
    "start_time": "2021-10-15T20:11:24.130Z"
   },
   {
    "duration": 321,
    "start_time": "2021-10-15T20:11:45.188Z"
   },
   {
    "duration": 325,
    "start_time": "2021-10-15T20:13:19.501Z"
   },
   {
    "duration": 10,
    "start_time": "2021-10-15T20:13:31.163Z"
   },
   {
    "duration": 40,
    "start_time": "2021-10-15T20:13:34.070Z"
   },
   {
    "duration": 317,
    "start_time": "2021-10-15T20:14:09.881Z"
   },
   {
    "duration": 291,
    "start_time": "2021-10-15T20:22:22.926Z"
   },
   {
    "duration": 23,
    "start_time": "2021-10-15T20:22:45.326Z"
   },
   {
    "duration": 300,
    "start_time": "2021-10-15T20:23:27.341Z"
   },
   {
    "duration": 271,
    "start_time": "2021-10-15T20:23:35.433Z"
   },
   {
    "duration": 342,
    "start_time": "2021-10-15T20:23:40.893Z"
   },
   {
    "duration": 328,
    "start_time": "2021-10-15T20:23:46.157Z"
   },
   {
    "duration": 332,
    "start_time": "2021-10-15T20:24:31.689Z"
   },
   {
    "duration": 323,
    "start_time": "2021-10-15T20:27:40.922Z"
   },
   {
    "duration": 15,
    "start_time": "2021-10-15T20:27:56.106Z"
   },
   {
    "duration": 26,
    "start_time": "2021-10-15T20:28:03.476Z"
   },
   {
    "duration": 10,
    "start_time": "2021-10-15T20:28:50.891Z"
   },
   {
    "duration": 26,
    "start_time": "2021-10-15T20:28:55.002Z"
   },
   {
    "duration": 114,
    "start_time": "2021-10-15T20:29:07.491Z"
   },
   {
    "duration": 16,
    "start_time": "2021-10-15T20:29:08.070Z"
   },
   {
    "duration": 15,
    "start_time": "2021-10-15T20:29:09.297Z"
   },
   {
    "duration": 28,
    "start_time": "2021-10-15T20:29:09.530Z"
   },
   {
    "duration": 4,
    "start_time": "2021-10-15T20:29:10.409Z"
   },
   {
    "duration": 56,
    "start_time": "2021-10-15T20:29:11.599Z"
   },
   {
    "duration": 10,
    "start_time": "2021-10-15T20:29:11.853Z"
   },
   {
    "duration": 24,
    "start_time": "2021-10-15T20:29:12.041Z"
   },
   {
    "duration": 5,
    "start_time": "2021-10-15T20:29:13.126Z"
   },
   {
    "duration": 9,
    "start_time": "2021-10-15T20:29:13.316Z"
   },
   {
    "duration": 16,
    "start_time": "2021-10-15T20:29:16.247Z"
   },
   {
    "duration": 296,
    "start_time": "2021-10-15T20:29:28.456Z"
   },
   {
    "duration": 338,
    "start_time": "2021-10-15T20:33:14.946Z"
   },
   {
    "duration": 32,
    "start_time": "2021-10-15T20:36:55.031Z"
   },
   {
    "duration": 323,
    "start_time": "2021-10-15T20:38:55.594Z"
   },
   {
    "duration": 321,
    "start_time": "2021-10-15T20:39:02.595Z"
   },
   {
    "duration": 308,
    "start_time": "2021-10-15T20:42:14.348Z"
   },
   {
    "duration": 288,
    "start_time": "2021-10-15T20:42:26.382Z"
   },
   {
    "duration": 13,
    "start_time": "2021-10-15T20:42:33.827Z"
   },
   {
    "duration": 109,
    "start_time": "2021-10-15T20:44:13.404Z"
   },
   {
    "duration": 14,
    "start_time": "2021-10-15T20:44:13.516Z"
   },
   {
    "duration": 111,
    "start_time": "2021-10-15T20:44:44.791Z"
   },
   {
    "duration": 322,
    "start_time": "2021-10-15T20:44:46.560Z"
   },
   {
    "duration": 108,
    "start_time": "2021-10-15T20:45:28.106Z"
   },
   {
    "duration": 5,
    "start_time": "2021-10-15T20:45:29.900Z"
   },
   {
    "duration": 111,
    "start_time": "2021-10-15T20:45:40.877Z"
   },
   {
    "duration": 10,
    "start_time": "2021-10-15T20:45:42.223Z"
   },
   {
    "duration": 357,
    "start_time": "2021-10-15T20:48:40.388Z"
   },
   {
    "duration": 19,
    "start_time": "2021-10-15T20:51:07.682Z"
   },
   {
    "duration": 1215,
    "start_time": "2021-10-15T20:51:18.377Z"
   },
   {
    "duration": 1225,
    "start_time": "2021-10-15T20:51:31.933Z"
   },
   {
    "duration": 113,
    "start_time": "2021-10-15T20:51:35.740Z"
   },
   {
    "duration": 16,
    "start_time": "2021-10-15T20:51:37.439Z"
   },
   {
    "duration": 412,
    "start_time": "2021-10-15T20:52:36.018Z"
   },
   {
    "duration": 281,
    "start_time": "2021-10-15T20:53:06.098Z"
   },
   {
    "duration": 310,
    "start_time": "2021-10-15T20:53:14.261Z"
   },
   {
    "duration": 343,
    "start_time": "2021-10-15T20:53:56.183Z"
   },
   {
    "duration": 341,
    "start_time": "2021-10-15T20:58:31.603Z"
   },
   {
    "duration": 109,
    "start_time": "2021-10-15T20:58:49.683Z"
   },
   {
    "duration": 336,
    "start_time": "2021-10-15T20:58:50.938Z"
   },
   {
    "duration": 126,
    "start_time": "2021-10-15T21:00:35.074Z"
   },
   {
    "duration": 301,
    "start_time": "2021-10-15T21:00:38.676Z"
   },
   {
    "duration": 115,
    "start_time": "2021-10-15T21:03:48.199Z"
   },
   {
    "duration": 12,
    "start_time": "2021-10-15T21:03:49.835Z"
   },
   {
    "duration": 7,
    "start_time": "2021-10-15T21:03:57.024Z"
   },
   {
    "duration": 108,
    "start_time": "2021-10-15T21:13:57.560Z"
   },
   {
    "duration": 16,
    "start_time": "2021-10-15T21:14:00.063Z"
   },
   {
    "duration": 13,
    "start_time": "2021-10-15T21:14:01.787Z"
   },
   {
    "duration": 28,
    "start_time": "2021-10-15T21:14:02.039Z"
   },
   {
    "duration": 5,
    "start_time": "2021-10-15T21:14:02.295Z"
   },
   {
    "duration": 58,
    "start_time": "2021-10-15T21:14:03.058Z"
   },
   {
    "duration": 9,
    "start_time": "2021-10-15T21:14:03.290Z"
   },
   {
    "duration": 26,
    "start_time": "2021-10-15T21:14:03.523Z"
   },
   {
    "duration": 6,
    "start_time": "2021-10-15T21:14:04.271Z"
   },
   {
    "duration": 10,
    "start_time": "2021-10-15T21:14:04.525Z"
   },
   {
    "duration": 13,
    "start_time": "2021-10-15T21:14:06.801Z"
   },
   {
    "duration": 36,
    "start_time": "2021-10-15T21:14:10.390Z"
   },
   {
    "duration": 30,
    "start_time": "2021-10-15T21:14:13.504Z"
   },
   {
    "duration": 109,
    "start_time": "2021-10-15T21:20:59.923Z"
   },
   {
    "duration": 16,
    "start_time": "2021-10-15T21:21:00.595Z"
   },
   {
    "duration": 13,
    "start_time": "2021-10-15T21:21:01.838Z"
   },
   {
    "duration": 28,
    "start_time": "2021-10-15T21:21:02.035Z"
   },
   {
    "duration": 4,
    "start_time": "2021-10-15T21:21:02.227Z"
   },
   {
    "duration": 56,
    "start_time": "2021-10-15T21:21:02.802Z"
   },
   {
    "duration": 9,
    "start_time": "2021-10-15T21:21:02.993Z"
   },
   {
    "duration": 23,
    "start_time": "2021-10-15T21:21:03.202Z"
   },
   {
    "duration": 5,
    "start_time": "2021-10-15T21:21:03.798Z"
   },
   {
    "duration": 9,
    "start_time": "2021-10-15T21:21:03.989Z"
   },
   {
    "duration": 14,
    "start_time": "2021-10-15T21:21:08.147Z"
   },
   {
    "duration": 357,
    "start_time": "2021-10-15T21:21:10.985Z"
   },
   {
    "duration": 313,
    "start_time": "2021-10-15T21:22:01.267Z"
   },
   {
    "duration": 34,
    "start_time": "2021-10-15T21:22:45.476Z"
   },
   {
    "duration": 31,
    "start_time": "2021-10-15T21:22:47.549Z"
   },
   {
    "duration": 34,
    "start_time": "2021-10-15T21:26:35.270Z"
   },
   {
    "duration": 219,
    "start_time": "2021-10-15T21:30:38.024Z"
   },
   {
    "duration": 16,
    "start_time": "2021-10-15T21:30:38.797Z"
   },
   {
    "duration": 12,
    "start_time": "2021-10-15T21:30:41.677Z"
   },
   {
    "duration": 29,
    "start_time": "2021-10-15T21:30:41.913Z"
   },
   {
    "duration": 5,
    "start_time": "2021-10-15T21:30:42.186Z"
   },
   {
    "duration": 56,
    "start_time": "2021-10-15T21:30:42.911Z"
   },
   {
    "duration": 9,
    "start_time": "2021-10-15T21:30:43.147Z"
   },
   {
    "duration": 27,
    "start_time": "2021-10-15T21:30:43.379Z"
   },
   {
    "duration": 5,
    "start_time": "2021-10-15T21:30:44.146Z"
   },
   {
    "duration": 8,
    "start_time": "2021-10-15T21:30:44.378Z"
   },
   {
    "duration": 14,
    "start_time": "2021-10-15T21:30:46.191Z"
   },
   {
    "duration": 38,
    "start_time": "2021-10-15T21:30:46.710Z"
   },
   {
    "duration": 30,
    "start_time": "2021-10-15T21:30:46.982Z"
   },
   {
    "duration": 112,
    "start_time": "2021-10-15T21:31:00.508Z"
   },
   {
    "duration": 16,
    "start_time": "2021-10-15T21:31:01.146Z"
   },
   {
    "duration": 16,
    "start_time": "2021-10-15T21:31:02.445Z"
   },
   {
    "duration": 28,
    "start_time": "2021-10-15T21:31:02.675Z"
   },
   {
    "duration": 5,
    "start_time": "2021-10-15T21:31:02.884Z"
   },
   {
    "duration": 56,
    "start_time": "2021-10-15T21:31:03.578Z"
   },
   {
    "duration": 9,
    "start_time": "2021-10-15T21:31:03.806Z"
   },
   {
    "duration": 25,
    "start_time": "2021-10-15T21:31:04.017Z"
   },
   {
    "duration": 5,
    "start_time": "2021-10-15T21:31:04.677Z"
   },
   {
    "duration": 8,
    "start_time": "2021-10-15T21:31:04.933Z"
   },
   {
    "duration": 14,
    "start_time": "2021-10-15T21:31:06.268Z"
   },
   {
    "duration": 42,
    "start_time": "2021-10-15T21:31:06.616Z"
   },
   {
    "duration": 31,
    "start_time": "2021-10-15T21:31:06.888Z"
   },
   {
    "duration": 34,
    "start_time": "2021-10-15T21:31:07.934Z"
   },
   {
    "duration": 56,
    "start_time": "2021-10-15T21:31:08.147Z"
   },
   {
    "duration": 882,
    "start_time": "2021-10-15T21:31:08.431Z"
   },
   {
    "duration": 6,
    "start_time": "2021-10-15T21:31:09.316Z"
   },
   {
    "duration": 69,
    "start_time": "2021-10-15T21:31:09.325Z"
   },
   {
    "duration": 37,
    "start_time": "2021-10-15T21:31:09.396Z"
   },
   {
    "duration": 22,
    "start_time": "2021-10-15T21:31:15.471Z"
   },
   {
    "duration": 401,
    "start_time": "2021-10-15T21:31:16.533Z"
   },
   {
    "duration": 436,
    "start_time": "2021-10-15T21:31:16.937Z"
   },
   {
    "duration": 370,
    "start_time": "2021-10-15T21:31:17.376Z"
   },
   {
    "duration": 316,
    "start_time": "2021-10-15T21:31:17.749Z"
   },
   {
    "duration": 9,
    "start_time": "2021-10-15T21:31:19.042Z"
   },
   {
    "duration": 541,
    "start_time": "2021-10-15T21:31:20.084Z"
   },
   {
    "duration": 219,
    "start_time": "2021-10-15T21:31:22.297Z"
   },
   {
    "duration": 12,
    "start_time": "2021-10-15T21:31:24.022Z"
   },
   {
    "duration": 32,
    "start_time": "2021-10-15T21:35:11.489Z"
   },
   {
    "duration": 256,
    "start_time": "2021-10-15T21:42:47.578Z"
   },
   {
    "duration": 519,
    "start_time": "2021-10-15T21:43:07.531Z"
   },
   {
    "duration": 522,
    "start_time": "2021-10-15T21:43:09.852Z"
   },
   {
    "duration": 539,
    "start_time": "2021-10-15T21:43:11.820Z"
   },
   {
    "duration": 9,
    "start_time": "2021-10-15T21:43:12.363Z"
   },
   {
    "duration": 135,
    "start_time": "2021-10-15T21:43:55.297Z"
   },
   {
    "duration": 67,
    "start_time": "2021-10-15T21:44:22.481Z"
   },
   {
    "duration": 67,
    "start_time": "2021-10-15T21:44:50.462Z"
   },
   {
    "duration": 22,
    "start_time": "2021-10-15T21:45:20.266Z"
   },
   {
    "duration": 10,
    "start_time": "2021-10-15T21:45:22.524Z"
   },
   {
    "duration": 10,
    "start_time": "2021-10-15T21:45:28.012Z"
   },
   {
    "duration": 65,
    "start_time": "2021-10-15T21:45:43.653Z"
   },
   {
    "duration": 67,
    "start_time": "2021-10-15T21:45:58.520Z"
   },
   {
    "duration": 24,
    "start_time": "2021-10-15T21:46:05.046Z"
   },
   {
    "duration": 274,
    "start_time": "2021-10-15T21:46:09.087Z"
   },
   {
    "duration": 70,
    "start_time": "2021-10-15T21:48:52.191Z"
   },
   {
    "duration": 91,
    "start_time": "2021-10-15T21:49:32.450Z"
   },
   {
    "duration": 24,
    "start_time": "2021-10-15T21:50:46.186Z"
   },
   {
    "duration": 329,
    "start_time": "2021-10-15T21:51:03.284Z"
   },
   {
    "duration": 335,
    "start_time": "2021-10-15T21:52:25.587Z"
   },
   {
    "duration": 282,
    "start_time": "2021-10-15T21:52:32.641Z"
   },
   {
    "duration": 300,
    "start_time": "2021-10-15T21:52:41.819Z"
   },
   {
    "duration": 575,
    "start_time": "2021-10-15T21:53:33.907Z"
   },
   {
    "duration": 514,
    "start_time": "2021-10-15T21:55:13.151Z"
   },
   {
    "duration": 1454,
    "start_time": "2021-10-15T21:55:22.051Z"
   },
   {
    "duration": 1432,
    "start_time": "2021-10-15T21:57:54.333Z"
   },
   {
    "duration": 120,
    "start_time": "2021-10-15T21:58:23.454Z"
   },
   {
    "duration": 16,
    "start_time": "2021-10-15T21:58:24.070Z"
   },
   {
    "duration": 12,
    "start_time": "2021-10-15T21:58:25.374Z"
   },
   {
    "duration": 26,
    "start_time": "2021-10-15T21:58:25.630Z"
   },
   {
    "duration": 5,
    "start_time": "2021-10-15T21:58:25.865Z"
   },
   {
    "duration": 58,
    "start_time": "2021-10-15T21:58:26.626Z"
   },
   {
    "duration": 9,
    "start_time": "2021-10-15T21:58:26.862Z"
   },
   {
    "duration": 25,
    "start_time": "2021-10-15T21:58:27.118Z"
   },
   {
    "duration": 4,
    "start_time": "2021-10-15T21:58:28.600Z"
   },
   {
    "duration": 8,
    "start_time": "2021-10-15T21:58:28.834Z"
   },
   {
    "duration": 14,
    "start_time": "2021-10-15T21:58:33.058Z"
   },
   {
    "duration": 40,
    "start_time": "2021-10-15T21:58:35.030Z"
   },
   {
    "duration": 28,
    "start_time": "2021-10-15T21:58:36.126Z"
   },
   {
    "duration": 34,
    "start_time": "2021-10-15T21:58:40.869Z"
   },
   {
    "duration": 53,
    "start_time": "2021-10-15T21:58:42.022Z"
   },
   {
    "duration": 37,
    "start_time": "2021-10-15T21:59:17.494Z"
   },
   {
    "duration": 110,
    "start_time": "2021-10-15T21:59:47.284Z"
   },
   {
    "duration": 15,
    "start_time": "2021-10-15T21:59:47.791Z"
   },
   {
    "duration": 12,
    "start_time": "2021-10-15T21:59:48.829Z"
   },
   {
    "duration": 27,
    "start_time": "2021-10-15T21:59:49.087Z"
   },
   {
    "duration": 5,
    "start_time": "2021-10-15T21:59:49.255Z"
   },
   {
    "duration": 58,
    "start_time": "2021-10-15T21:59:50.312Z"
   },
   {
    "duration": 9,
    "start_time": "2021-10-15T21:59:50.503Z"
   },
   {
    "duration": 23,
    "start_time": "2021-10-15T21:59:50.697Z"
   },
   {
    "duration": 4,
    "start_time": "2021-10-15T21:59:51.333Z"
   },
   {
    "duration": 9,
    "start_time": "2021-10-15T21:59:51.566Z"
   },
   {
    "duration": 13,
    "start_time": "2021-10-15T21:59:53.221Z"
   },
   {
    "duration": 39,
    "start_time": "2021-10-15T21:59:53.733Z"
   },
   {
    "duration": 31,
    "start_time": "2021-10-15T21:59:53.997Z"
   },
   {
    "duration": 32,
    "start_time": "2021-10-15T21:59:55.524Z"
   },
   {
    "duration": 56,
    "start_time": "2021-10-15T21:59:55.798Z"
   },
   {
    "duration": 995,
    "start_time": "2021-10-15T21:59:56.053Z"
   },
   {
    "duration": 14,
    "start_time": "2021-10-15T21:59:57.051Z"
   },
   {
    "duration": 46,
    "start_time": "2021-10-15T21:59:57.068Z"
   },
   {
    "duration": 63,
    "start_time": "2021-10-15T21:59:57.117Z"
   },
   {
    "duration": 24,
    "start_time": "2021-10-15T21:59:58.401Z"
   },
   {
    "duration": 410,
    "start_time": "2021-10-15T21:59:58.637Z"
   },
   {
    "duration": 423,
    "start_time": "2021-10-15T21:59:59.050Z"
   },
   {
    "duration": 318,
    "start_time": "2021-10-15T21:59:59.475Z"
   },
   {
    "duration": 319,
    "start_time": "2021-10-15T21:59:59.796Z"
   },
   {
    "duration": 10,
    "start_time": "2021-10-15T22:00:00.118Z"
   },
   {
    "duration": 593,
    "start_time": "2021-10-15T22:00:00.130Z"
   },
   {
    "duration": 236,
    "start_time": "2021-10-15T22:00:00.726Z"
   },
   {
    "duration": 11,
    "start_time": "2021-10-15T22:00:00.964Z"
   },
   {
    "duration": 31,
    "start_time": "2021-10-15T22:00:01.141Z"
   },
   {
    "duration": 638,
    "start_time": "2021-10-15T22:00:01.953Z"
   },
   {
    "duration": 1279,
    "start_time": "2021-10-15T22:00:02.593Z"
   },
   {
    "duration": 1937,
    "start_time": "2021-10-15T22:00:03.875Z"
   },
   {
    "duration": -269,
    "start_time": "2021-10-15T22:00:06.084Z"
   },
   {
    "duration": -271,
    "start_time": "2021-10-15T22:00:06.087Z"
   },
   {
    "duration": -272,
    "start_time": "2021-10-15T22:00:06.090Z"
   },
   {
    "duration": 536,
    "start_time": "2021-10-15T22:00:05.857Z"
   },
   {
    "duration": 9,
    "start_time": "2021-10-15T22:00:07.022Z"
   },
   {
    "duration": 67,
    "start_time": "2021-10-15T22:00:07.306Z"
   },
   {
    "duration": 21,
    "start_time": "2021-10-15T22:00:08.809Z"
   },
   {
    "duration": 10,
    "start_time": "2021-10-15T22:00:09.558Z"
   },
   {
    "duration": 9,
    "start_time": "2021-10-15T22:00:09.814Z"
   },
   {
    "duration": 69,
    "start_time": "2021-10-15T22:00:11.250Z"
   },
   {
    "duration": 68,
    "start_time": "2021-10-15T22:00:13.393Z"
   },
   {
    "duration": 25,
    "start_time": "2021-10-15T22:00:13.463Z"
   },
   {
    "duration": 310,
    "start_time": "2021-10-15T22:00:14.163Z"
   },
   {
    "duration": 68,
    "start_time": "2021-10-15T22:00:15.283Z"
   },
   {
    "duration": 20,
    "start_time": "2021-10-15T22:00:16.752Z"
   },
   {
    "duration": 381,
    "start_time": "2021-10-15T22:00:17.343Z"
   },
   {
    "duration": 328,
    "start_time": "2021-10-15T22:00:17.813Z"
   },
   {
    "duration": 282,
    "start_time": "2021-10-15T22:00:21.768Z"
   },
   {
    "duration": 309,
    "start_time": "2021-10-15T22:00:22.741Z"
   },
   {
    "duration": 524,
    "start_time": "2021-10-15T22:00:26.148Z"
   },
   {
    "duration": 528,
    "start_time": "2021-10-15T22:00:28.837Z"
   },
   {
    "duration": 37,
    "start_time": "2021-10-15T22:00:32.396Z"
   },
   {
    "duration": 1361,
    "start_time": "2021-10-15T22:00:48.332Z"
   },
   {
    "duration": 472,
    "start_time": "2021-10-15T22:02:27.423Z"
   },
   {
    "duration": 7,
    "start_time": "2021-10-15T22:02:34.629Z"
   },
   {
    "duration": 489,
    "start_time": "2021-10-15T22:02:42.658Z"
   },
   {
    "duration": 110,
    "start_time": "2021-10-15T22:08:48.598Z"
   },
   {
    "duration": 116,
    "start_time": "2021-10-15T22:16:10.225Z"
   },
   {
    "duration": 19,
    "start_time": "2021-10-15T22:16:11.027Z"
   },
   {
    "duration": 15,
    "start_time": "2021-10-15T22:16:13.263Z"
   },
   {
    "duration": 29,
    "start_time": "2021-10-15T22:16:14.602Z"
   },
   {
    "duration": 5,
    "start_time": "2021-10-15T22:16:15.848Z"
   },
   {
    "duration": 56,
    "start_time": "2021-10-15T22:16:17.009Z"
   },
   {
    "duration": 10,
    "start_time": "2021-10-15T22:16:17.527Z"
   },
   {
    "duration": 25,
    "start_time": "2021-10-15T22:16:20.936Z"
   },
   {
    "duration": 4,
    "start_time": "2021-10-15T22:16:24.053Z"
   },
   {
    "duration": 10,
    "start_time": "2021-10-15T22:16:25.179Z"
   },
   {
    "duration": 14,
    "start_time": "2021-10-15T22:16:32.945Z"
   },
   {
    "duration": 38,
    "start_time": "2021-10-15T22:16:36.087Z"
   },
   {
    "duration": 30,
    "start_time": "2021-10-15T22:16:37.317Z"
   },
   {
    "duration": 33,
    "start_time": "2021-10-15T22:16:42.969Z"
   },
   {
    "duration": 56,
    "start_time": "2021-10-15T22:16:44.147Z"
   },
   {
    "duration": 970,
    "start_time": "2021-10-15T22:16:45.813Z"
   },
   {
    "duration": 7,
    "start_time": "2021-10-15T22:16:48.604Z"
   },
   {
    "duration": 45,
    "start_time": "2021-10-15T22:16:48.837Z"
   },
   {
    "duration": 36,
    "start_time": "2021-10-15T22:16:49.053Z"
   },
   {
    "duration": 25,
    "start_time": "2021-10-15T22:16:50.968Z"
   },
   {
    "duration": 423,
    "start_time": "2021-10-15T22:16:51.201Z"
   },
   {
    "duration": 416,
    "start_time": "2021-10-15T22:16:52.070Z"
   },
   {
    "duration": 327,
    "start_time": "2021-10-15T22:16:52.489Z"
   },
   {
    "duration": 470,
    "start_time": "2021-10-15T22:16:52.819Z"
   },
   {
    "duration": 12,
    "start_time": "2021-10-15T22:16:53.292Z"
   },
   {
    "duration": 544,
    "start_time": "2021-10-15T22:16:53.846Z"
   },
   {
    "duration": 251,
    "start_time": "2021-10-15T22:16:54.394Z"
   },
   {
    "duration": 15,
    "start_time": "2021-10-15T22:16:55.489Z"
   },
   {
    "duration": 35,
    "start_time": "2021-10-15T22:16:56.466Z"
   },
   {
    "duration": 634,
    "start_time": "2021-10-15T22:16:57.731Z"
   },
   {
    "duration": 1180,
    "start_time": "2021-10-15T22:16:58.368Z"
   },
   {
    "duration": 2021,
    "start_time": "2021-10-15T22:17:00.424Z"
   },
   {
    "duration": 1174,
    "start_time": "2021-10-15T22:17:34.583Z"
   },
   {
    "duration": 109,
    "start_time": "2021-10-15T22:52:14.193Z"
   },
   {
    "duration": 16,
    "start_time": "2021-10-15T22:52:15.089Z"
   },
   {
    "duration": 12,
    "start_time": "2021-10-15T22:52:17.229Z"
   },
   {
    "duration": 28,
    "start_time": "2021-10-15T22:52:17.614Z"
   },
   {
    "duration": 6,
    "start_time": "2021-10-15T22:52:18.003Z"
   },
   {
    "duration": 56,
    "start_time": "2021-10-15T22:52:19.221Z"
   },
   {
    "duration": 10,
    "start_time": "2021-10-15T22:52:19.563Z"
   },
   {
    "duration": 24,
    "start_time": "2021-10-15T22:52:19.819Z"
   },
   {
    "duration": 5,
    "start_time": "2021-10-15T22:52:20.663Z"
   },
   {
    "duration": 11,
    "start_time": "2021-10-15T22:52:20.953Z"
   },
   {
    "duration": 15,
    "start_time": "2021-10-15T22:52:22.902Z"
   },
   {
    "duration": 40,
    "start_time": "2021-10-15T22:52:23.530Z"
   },
   {
    "duration": 32,
    "start_time": "2021-10-15T22:52:23.861Z"
   },
   {
    "duration": 33,
    "start_time": "2021-10-15T22:52:25.758Z"
   },
   {
    "duration": 57,
    "start_time": "2021-10-15T22:52:26.120Z"
   },
   {
    "duration": 818,
    "start_time": "2021-10-15T22:52:26.528Z"
   },
   {
    "duration": 15,
    "start_time": "2021-10-15T22:52:27.349Z"
   },
   {
    "duration": 44,
    "start_time": "2021-10-15T22:52:27.366Z"
   },
   {
    "duration": 36,
    "start_time": "2021-10-15T22:52:27.633Z"
   },
   {
    "duration": 22,
    "start_time": "2021-10-15T22:52:29.753Z"
   },
   {
    "duration": 568,
    "start_time": "2021-10-15T22:52:30.093Z"
   },
   {
    "duration": 431,
    "start_time": "2021-10-15T22:52:30.665Z"
   },
   {
    "duration": 324,
    "start_time": "2021-10-15T22:52:31.099Z"
   },
   {
    "duration": 322,
    "start_time": "2021-10-15T22:52:31.426Z"
   },
   {
    "duration": 18,
    "start_time": "2021-10-15T22:52:31.751Z"
   },
   {
    "duration": 552,
    "start_time": "2021-10-15T22:52:31.771Z"
   },
   {
    "duration": 254,
    "start_time": "2021-10-15T22:52:32.326Z"
   },
   {
    "duration": 12,
    "start_time": "2021-10-15T22:52:32.583Z"
   },
   {
    "duration": 34,
    "start_time": "2021-10-15T22:52:33.636Z"
   },
   {
    "duration": 548,
    "start_time": "2021-10-15T22:52:35.788Z"
   },
   {
    "duration": 1180,
    "start_time": "2021-10-15T22:52:36.339Z"
   },
   {
    "duration": 1904,
    "start_time": "2021-10-15T22:52:38.853Z"
   },
   {
    "duration": 15,
    "start_time": "2021-10-15T22:53:12.459Z"
   },
   {
    "duration": 1168,
    "start_time": "2021-10-15T22:54:35.390Z"
   },
   {
    "duration": 344,
    "start_time": "2021-10-15T23:00:45.938Z"
   },
   {
    "duration": 315,
    "start_time": "2021-10-15T23:01:15.090Z"
   },
   {
    "duration": 469,
    "start_time": "2021-10-15T23:03:05.372Z"
   },
   {
    "duration": 296,
    "start_time": "2021-10-15T23:03:07.694Z"
   },
   {
    "duration": 288,
    "start_time": "2021-10-15T23:03:10.058Z"
   },
   {
    "duration": 326,
    "start_time": "2021-10-15T23:04:32.122Z"
   },
   {
    "duration": 302,
    "start_time": "2021-10-15T23:04:38.232Z"
   },
   {
    "duration": 297,
    "start_time": "2021-10-15T23:04:48.256Z"
   },
   {
    "duration": 311,
    "start_time": "2021-10-15T23:05:02.123Z"
   },
   {
    "duration": 332,
    "start_time": "2021-10-15T23:05:32.266Z"
   },
   {
    "duration": 299,
    "start_time": "2021-10-15T23:05:41.932Z"
   },
   {
    "duration": 305,
    "start_time": "2021-10-15T23:05:53.704Z"
   },
   {
    "duration": 304,
    "start_time": "2021-10-15T23:06:03.089Z"
   },
   {
    "duration": 315,
    "start_time": "2021-10-15T23:21:57.799Z"
   },
   {
    "duration": 298,
    "start_time": "2021-10-15T23:22:05.587Z"
   },
   {
    "duration": 9,
    "start_time": "2021-10-15T23:23:35.465Z"
   },
   {
    "duration": 65,
    "start_time": "2021-10-15T23:23:39.806Z"
   },
   {
    "duration": 1965,
    "start_time": "2021-10-15T23:28:27.608Z"
   },
   {
    "duration": 106,
    "start_time": "2021-10-15T23:28:37.429Z"
   },
   {
    "duration": 16,
    "start_time": "2021-10-15T23:28:38.000Z"
   },
   {
    "duration": 13,
    "start_time": "2021-10-15T23:28:38.192Z"
   },
   {
    "duration": 29,
    "start_time": "2021-10-15T23:28:38.225Z"
   },
   {
    "duration": 5,
    "start_time": "2021-10-15T23:28:38.261Z"
   },
   {
    "duration": 59,
    "start_time": "2021-10-15T23:28:38.355Z"
   },
   {
    "duration": 9,
    "start_time": "2021-10-15T23:28:38.417Z"
   },
   {
    "duration": 49,
    "start_time": "2021-10-15T23:28:38.433Z"
   },
   {
    "duration": 4,
    "start_time": "2021-10-15T23:28:38.516Z"
   },
   {
    "duration": 8,
    "start_time": "2021-10-15T23:28:38.554Z"
   },
   {
    "duration": 14,
    "start_time": "2021-10-15T23:28:38.747Z"
   },
   {
    "duration": 37,
    "start_time": "2021-10-15T23:28:38.823Z"
   },
   {
    "duration": 28,
    "start_time": "2021-10-15T23:28:38.863Z"
   },
   {
    "duration": 33,
    "start_time": "2021-10-15T23:28:39.011Z"
   },
   {
    "duration": 53,
    "start_time": "2021-10-15T23:28:39.051Z"
   },
   {
    "duration": 863,
    "start_time": "2021-10-15T23:28:39.107Z"
   },
   {
    "duration": 7,
    "start_time": "2021-10-15T23:28:39.973Z"
   },
   {
    "duration": 46,
    "start_time": "2021-10-15T23:28:39.983Z"
   },
   {
    "duration": 40,
    "start_time": "2021-10-15T23:28:40.061Z"
   },
   {
    "duration": 60,
    "start_time": "2021-10-15T23:28:40.103Z"
   },
   {
    "duration": 467,
    "start_time": "2021-10-15T23:28:40.167Z"
   },
   {
    "duration": 472,
    "start_time": "2021-10-15T23:28:40.637Z"
   },
   {
    "duration": 571,
    "start_time": "2021-10-15T23:28:41.111Z"
   },
   {
    "duration": 337,
    "start_time": "2021-10-15T23:28:41.685Z"
   },
   {
    "duration": 9,
    "start_time": "2021-10-15T23:28:42.024Z"
   },
   {
    "duration": 588,
    "start_time": "2021-10-15T23:28:42.035Z"
   },
   {
    "duration": 252,
    "start_time": "2021-10-15T23:28:42.625Z"
   },
   {
    "duration": 12,
    "start_time": "2021-10-15T23:28:42.879Z"
   },
   {
    "duration": 29,
    "start_time": "2021-10-15T23:28:42.893Z"
   },
   {
    "duration": 601,
    "start_time": "2021-10-15T23:28:42.925Z"
   },
   {
    "duration": 1300,
    "start_time": "2021-10-15T23:28:43.528Z"
   },
   {
    "duration": 2135,
    "start_time": "2021-10-15T23:28:44.830Z"
   },
   {
    "duration": -443,
    "start_time": "2021-10-15T23:28:47.411Z"
   },
   {
    "duration": -445,
    "start_time": "2021-10-15T23:28:47.415Z"
   },
   {
    "duration": -447,
    "start_time": "2021-10-15T23:28:47.418Z"
   },
   {
    "duration": -448,
    "start_time": "2021-10-15T23:28:47.421Z"
   },
   {
    "duration": -454,
    "start_time": "2021-10-15T23:28:47.428Z"
   },
   {
    "duration": -455,
    "start_time": "2021-10-15T23:28:47.431Z"
   },
   {
    "duration": -462,
    "start_time": "2021-10-15T23:28:47.439Z"
   },
   {
    "duration": -465,
    "start_time": "2021-10-15T23:28:47.443Z"
   },
   {
    "duration": -466,
    "start_time": "2021-10-15T23:28:47.446Z"
   },
   {
    "duration": -467,
    "start_time": "2021-10-15T23:28:47.448Z"
   },
   {
    "duration": -501,
    "start_time": "2021-10-15T23:28:47.483Z"
   },
   {
    "duration": -508,
    "start_time": "2021-10-15T23:28:47.492Z"
   },
   {
    "duration": -510,
    "start_time": "2021-10-15T23:28:47.495Z"
   },
   {
    "duration": -511,
    "start_time": "2021-10-15T23:28:47.498Z"
   },
   {
    "duration": -515,
    "start_time": "2021-10-15T23:28:47.503Z"
   },
   {
    "duration": -517,
    "start_time": "2021-10-15T23:28:47.506Z"
   },
   {
    "duration": -518,
    "start_time": "2021-10-15T23:28:47.509Z"
   },
   {
    "duration": -520,
    "start_time": "2021-10-15T23:28:47.512Z"
   },
   {
    "duration": -522,
    "start_time": "2021-10-15T23:28:47.515Z"
   },
   {
    "duration": -528,
    "start_time": "2021-10-15T23:28:47.522Z"
   },
   {
    "duration": -530,
    "start_time": "2021-10-15T23:28:47.526Z"
   },
   {
    "duration": 15,
    "start_time": "2021-10-15T23:29:03.983Z"
   },
   {
    "duration": 1279,
    "start_time": "2021-10-15T23:30:40.572Z"
   },
   {
    "duration": 366,
    "start_time": "2021-10-15T23:30:55.267Z"
   },
   {
    "duration": 321,
    "start_time": "2021-10-15T23:30:57.157Z"
   },
   {
    "duration": 337,
    "start_time": "2021-10-15T23:30:58.439Z"
   },
   {
    "duration": 306,
    "start_time": "2021-10-15T23:30:59.613Z"
   },
   {
    "duration": 9,
    "start_time": "2021-10-15T23:31:01.046Z"
   },
   {
    "duration": 67,
    "start_time": "2021-10-15T23:31:03.012Z"
   },
   {
    "duration": 22,
    "start_time": "2021-10-15T23:31:22.052Z"
   },
   {
    "duration": 10,
    "start_time": "2021-10-15T23:31:22.309Z"
   },
   {
    "duration": 11,
    "start_time": "2021-10-15T23:31:22.519Z"
   },
   {
    "duration": 73,
    "start_time": "2021-10-15T23:31:23.935Z"
   },
   {
    "duration": 71,
    "start_time": "2021-10-15T23:31:25.284Z"
   },
   {
    "duration": 25,
    "start_time": "2021-10-15T23:31:26.947Z"
   },
   {
    "duration": 288,
    "start_time": "2021-10-15T23:31:28.274Z"
   },
   {
    "duration": 71,
    "start_time": "2021-10-15T23:31:31.937Z"
   },
   {
    "duration": 21,
    "start_time": "2021-10-15T23:31:35.434Z"
   },
   {
    "duration": 347,
    "start_time": "2021-10-15T23:31:38.450Z"
   },
   {
    "duration": 349,
    "start_time": "2021-10-15T23:31:40.217Z"
   },
   {
    "duration": 264,
    "start_time": "2021-10-15T23:31:42.389Z"
   },
   {
    "duration": 318,
    "start_time": "2021-10-15T23:31:43.447Z"
   },
   {
    "duration": 490,
    "start_time": "2021-10-15T23:31:44.404Z"
   },
   {
    "duration": 314,
    "start_time": "2021-10-15T23:35:01.550Z"
   },
   {
    "duration": 533,
    "start_time": "2021-10-15T23:35:04.906Z"
   },
   {
    "duration": 313,
    "start_time": "2021-10-15T23:35:07.549Z"
   },
   {
    "duration": 281,
    "start_time": "2021-10-15T23:35:09.639Z"
   },
   {
    "duration": 97,
    "start_time": "2021-10-15T23:40:19.880Z"
   },
   {
    "duration": 297,
    "start_time": "2021-10-15T23:42:47.822Z"
   },
   {
    "duration": 971,
    "start_time": "2021-10-16T16:10:54.775Z"
   },
   {
    "duration": 21,
    "start_time": "2021-10-16T16:10:55.748Z"
   },
   {
    "duration": 12,
    "start_time": "2021-10-16T16:10:55.771Z"
   },
   {
    "duration": 29,
    "start_time": "2021-10-16T16:10:55.786Z"
   },
   {
    "duration": 5,
    "start_time": "2021-10-16T16:10:55.817Z"
   },
   {
    "duration": 91,
    "start_time": "2021-10-16T16:10:55.824Z"
   },
   {
    "duration": 5,
    "start_time": "2021-10-16T16:10:55.917Z"
   },
   {
    "duration": 38,
    "start_time": "2021-10-16T16:10:55.926Z"
   },
   {
    "duration": 14,
    "start_time": "2021-10-16T16:10:55.967Z"
   },
   {
    "duration": 41,
    "start_time": "2021-10-16T16:10:55.983Z"
   },
   {
    "duration": 54,
    "start_time": "2021-10-16T16:10:56.026Z"
   },
   {
    "duration": 38,
    "start_time": "2021-10-16T16:10:56.082Z"
   },
   {
    "duration": 79,
    "start_time": "2021-10-16T16:10:56.122Z"
   },
   {
    "duration": 839,
    "start_time": "2021-10-16T16:10:56.203Z"
   },
   {
    "duration": 16,
    "start_time": "2021-10-16T16:10:57.045Z"
   },
   {
    "duration": 42,
    "start_time": "2021-10-16T16:10:57.064Z"
   },
   {
    "duration": 56,
    "start_time": "2021-10-16T16:10:57.108Z"
   },
   {
    "duration": 23,
    "start_time": "2021-10-16T16:10:57.167Z"
   },
   {
    "duration": 484,
    "start_time": "2021-10-16T16:10:57.192Z"
   },
   {
    "duration": 424,
    "start_time": "2021-10-16T16:10:57.679Z"
   },
   {
    "duration": 315,
    "start_time": "2021-10-16T16:10:58.105Z"
   },
   {
    "duration": 312,
    "start_time": "2021-10-16T16:10:58.422Z"
   },
   {
    "duration": 24,
    "start_time": "2021-10-16T16:10:58.740Z"
   },
   {
    "duration": 585,
    "start_time": "2021-10-16T16:10:58.768Z"
   },
   {
    "duration": 238,
    "start_time": "2021-10-16T16:10:59.356Z"
   },
   {
    "duration": 12,
    "start_time": "2021-10-16T16:10:59.596Z"
   },
   {
    "duration": 51,
    "start_time": "2021-10-16T16:10:59.611Z"
   },
   {
    "duration": 567,
    "start_time": "2021-10-16T16:10:59.665Z"
   },
   {
    "duration": 1280,
    "start_time": "2021-10-16T16:11:00.234Z"
   },
   {
    "duration": 2227,
    "start_time": "2021-10-16T16:11:01.517Z"
   },
   {
    "duration": 24,
    "start_time": "2021-10-16T16:11:03.723Z"
   },
   {
    "duration": 17,
    "start_time": "2021-10-16T16:11:03.731Z"
   },
   {
    "duration": 14,
    "start_time": "2021-10-16T16:11:03.735Z"
   },
   {
    "duration": 22,
    "start_time": "2021-10-16T16:11:03.740Z"
   },
   {
    "duration": 19,
    "start_time": "2021-10-16T16:11:03.745Z"
   },
   {
    "duration": 16,
    "start_time": "2021-10-16T16:11:03.749Z"
   },
   {
    "duration": 14,
    "start_time": "2021-10-16T16:11:03.753Z"
   },
   {
    "duration": 10,
    "start_time": "2021-10-16T16:11:03.758Z"
   },
   {
    "duration": 7,
    "start_time": "2021-10-16T16:11:03.762Z"
   },
   {
    "duration": 4,
    "start_time": "2021-10-16T16:11:03.767Z"
   },
   {
    "duration": 1,
    "start_time": "2021-10-16T16:11:03.771Z"
   },
   {
    "duration": -2,
    "start_time": "2021-10-16T16:11:03.775Z"
   },
   {
    "duration": -4,
    "start_time": "2021-10-16T16:11:03.779Z"
   },
   {
    "duration": -7,
    "start_time": "2021-10-16T16:11:03.783Z"
   },
   {
    "duration": -10,
    "start_time": "2021-10-16T16:11:03.787Z"
   },
   {
    "duration": -12,
    "start_time": "2021-10-16T16:11:03.791Z"
   },
   {
    "duration": -15,
    "start_time": "2021-10-16T16:11:03.795Z"
   },
   {
    "duration": -19,
    "start_time": "2021-10-16T16:11:03.800Z"
   },
   {
    "duration": -20,
    "start_time": "2021-10-16T16:11:03.803Z"
   },
   {
    "duration": -23,
    "start_time": "2021-10-16T16:11:03.807Z"
   },
   {
    "duration": -30,
    "start_time": "2021-10-16T16:11:03.815Z"
   },
   {
    "duration": -40,
    "start_time": "2021-10-16T16:11:03.827Z"
   },
   {
    "duration": -44,
    "start_time": "2021-10-16T16:11:03.832Z"
   },
   {
    "duration": -47,
    "start_time": "2021-10-16T16:11:03.836Z"
   },
   {
    "duration": -49,
    "start_time": "2021-10-16T16:11:03.840Z"
   },
   {
    "duration": -52,
    "start_time": "2021-10-16T16:11:03.844Z"
   },
   {
    "duration": -55,
    "start_time": "2021-10-16T16:11:03.848Z"
   },
   {
    "duration": -61,
    "start_time": "2021-10-16T16:11:03.855Z"
   },
   {
    "duration": 16,
    "start_time": "2021-10-16T16:11:45.209Z"
   },
   {
    "duration": 400,
    "start_time": "2021-10-16T16:11:45.227Z"
   },
   {
    "duration": 332,
    "start_time": "2021-10-16T16:11:45.630Z"
   },
   {
    "duration": 336,
    "start_time": "2021-10-16T16:11:45.964Z"
   },
   {
    "duration": 293,
    "start_time": "2021-10-16T16:11:46.302Z"
   },
   {
    "duration": 9,
    "start_time": "2021-10-16T16:11:46.597Z"
   },
   {
    "duration": 88,
    "start_time": "2021-10-16T16:11:46.608Z"
   },
   {
    "duration": 20,
    "start_time": "2021-10-16T16:11:46.700Z"
   },
   {
    "duration": 9,
    "start_time": "2021-10-16T16:11:46.723Z"
   },
   {
    "duration": 37,
    "start_time": "2021-10-16T16:11:46.734Z"
   },
   {
    "duration": 97,
    "start_time": "2021-10-16T16:11:46.775Z"
   },
   {
    "duration": 63,
    "start_time": "2021-10-16T16:11:46.875Z"
   },
   {
    "duration": 42,
    "start_time": "2021-10-16T16:11:46.940Z"
   },
   {
    "duration": 320,
    "start_time": "2021-10-16T16:11:46.984Z"
   },
   {
    "duration": 79,
    "start_time": "2021-10-16T16:11:47.307Z"
   },
   {
    "duration": 18,
    "start_time": "2021-10-16T16:11:47.388Z"
   },
   {
    "duration": 391,
    "start_time": "2021-10-16T16:11:47.409Z"
   },
   {
    "duration": 362,
    "start_time": "2021-10-16T16:11:47.802Z"
   },
   {
    "duration": 295,
    "start_time": "2021-10-16T16:11:48.167Z"
   },
   {
    "duration": 331,
    "start_time": "2021-10-16T16:11:48.464Z"
   },
   {
    "duration": 616,
    "start_time": "2021-10-16T16:11:48.797Z"
   },
   {
    "duration": 534,
    "start_time": "2021-10-16T16:11:49.416Z"
   },
   {
    "duration": 42,
    "start_time": "2021-10-16T16:11:49.954Z"
   },
   {
    "duration": 1662,
    "start_time": "2021-10-16T16:11:50.000Z"
   },
   {
    "duration": 47,
    "start_time": "2021-10-16T16:11:51.619Z"
   },
   {
    "duration": 44,
    "start_time": "2021-10-16T16:11:51.623Z"
   },
   {
    "duration": 40,
    "start_time": "2021-10-16T16:11:51.629Z"
   },
   {
    "duration": 34,
    "start_time": "2021-10-16T16:11:51.636Z"
   },
   {
    "duration": 323,
    "start_time": "2021-10-16T16:12:02.953Z"
   },
   {
    "duration": 335,
    "start_time": "2021-10-16T16:12:03.279Z"
   },
   {
    "duration": 320,
    "start_time": "2021-10-16T16:12:03.617Z"
   },
   {
    "duration": 325,
    "start_time": "2021-10-16T16:12:03.940Z"
   },
   {
    "duration": 9,
    "start_time": "2021-10-16T19:13:38.731Z"
   },
   {
    "duration": 716,
    "start_time": "2021-10-16T19:13:46.102Z"
   },
   {
    "duration": 11,
    "start_time": "2021-10-16T19:13:46.819Z"
   },
   {
    "duration": 17,
    "start_time": "2021-10-16T19:13:46.832Z"
   },
   {
    "duration": 20,
    "start_time": "2021-10-16T19:13:46.851Z"
   },
   {
    "duration": 4,
    "start_time": "2021-10-16T19:13:46.872Z"
   },
   {
    "duration": 40,
    "start_time": "2021-10-16T19:13:46.877Z"
   },
   {
    "duration": 3,
    "start_time": "2021-10-16T19:13:46.918Z"
   },
   {
    "duration": 28,
    "start_time": "2021-10-16T19:13:46.923Z"
   },
   {
    "duration": 10,
    "start_time": "2021-10-16T19:13:46.953Z"
   },
   {
    "duration": 37,
    "start_time": "2021-10-16T19:13:46.965Z"
   },
   {
    "duration": 48,
    "start_time": "2021-10-16T19:13:47.004Z"
   },
   {
    "duration": 21,
    "start_time": "2021-10-16T19:13:47.053Z"
   },
   {
    "duration": 33,
    "start_time": "2021-10-16T19:13:47.076Z"
   },
   {
    "duration": 511,
    "start_time": "2021-10-16T19:13:47.111Z"
   },
   {
    "duration": 5,
    "start_time": "2021-10-16T19:13:47.623Z"
   },
   {
    "duration": 33,
    "start_time": "2021-10-16T19:13:47.630Z"
   },
   {
    "duration": 31,
    "start_time": "2021-10-16T19:13:47.664Z"
   },
   {
    "duration": 14,
    "start_time": "2021-10-16T19:13:47.697Z"
   },
   {
    "duration": 296,
    "start_time": "2021-10-16T19:13:47.713Z"
   },
   {
    "duration": 250,
    "start_time": "2021-10-16T19:13:48.010Z"
   },
   {
    "duration": 175,
    "start_time": "2021-10-16T19:13:48.262Z"
   },
   {
    "duration": 172,
    "start_time": "2021-10-16T19:13:48.439Z"
   },
   {
    "duration": 7,
    "start_time": "2021-10-16T19:13:48.615Z"
   },
   {
    "duration": 310,
    "start_time": "2021-10-16T19:13:48.624Z"
   },
   {
    "duration": 188,
    "start_time": "2021-10-16T19:13:48.935Z"
   },
   {
    "duration": 8,
    "start_time": "2021-10-16T19:13:49.125Z"
   },
   {
    "duration": 19,
    "start_time": "2021-10-16T19:13:49.145Z"
   },
   {
    "duration": 332,
    "start_time": "2021-10-16T19:13:49.166Z"
   },
   {
    "duration": 727,
    "start_time": "2021-10-16T19:13:49.500Z"
   },
   {
    "duration": 1638,
    "start_time": "2021-10-16T19:13:50.229Z"
   },
   {
    "duration": 176,
    "start_time": "2021-10-16T19:13:51.704Z"
   },
   {
    "duration": 171,
    "start_time": "2021-10-16T19:13:51.710Z"
   },
   {
    "duration": 167,
    "start_time": "2021-10-16T19:13:51.715Z"
   },
   {
    "duration": 162,
    "start_time": "2021-10-16T19:13:51.721Z"
   },
   {
    "duration": 158,
    "start_time": "2021-10-16T19:13:51.726Z"
   },
   {
    "duration": 153,
    "start_time": "2021-10-16T19:13:51.732Z"
   },
   {
    "duration": 150,
    "start_time": "2021-10-16T19:13:51.736Z"
   },
   {
    "duration": 141,
    "start_time": "2021-10-16T19:13:51.745Z"
   },
   {
    "duration": 137,
    "start_time": "2021-10-16T19:13:51.750Z"
   },
   {
    "duration": 134,
    "start_time": "2021-10-16T19:13:51.754Z"
   },
   {
    "duration": 127,
    "start_time": "2021-10-16T19:13:51.762Z"
   },
   {
    "duration": 123,
    "start_time": "2021-10-16T19:13:51.767Z"
   },
   {
    "duration": 117,
    "start_time": "2021-10-16T19:13:51.774Z"
   },
   {
    "duration": 110,
    "start_time": "2021-10-16T19:13:51.781Z"
   },
   {
    "duration": 106,
    "start_time": "2021-10-16T19:13:51.786Z"
   },
   {
    "duration": 103,
    "start_time": "2021-10-16T19:13:51.790Z"
   },
   {
    "duration": 90,
    "start_time": "2021-10-16T19:13:51.804Z"
   },
   {
    "duration": 87,
    "start_time": "2021-10-16T19:13:51.808Z"
   },
   {
    "duration": 83,
    "start_time": "2021-10-16T19:13:51.813Z"
   },
   {
    "duration": 80,
    "start_time": "2021-10-16T19:13:51.817Z"
   },
   {
    "duration": 73,
    "start_time": "2021-10-16T19:13:51.824Z"
   },
   {
    "duration": 67,
    "start_time": "2021-10-16T19:13:51.831Z"
   },
   {
    "duration": 64,
    "start_time": "2021-10-16T19:13:51.835Z"
   },
   {
    "duration": 56,
    "start_time": "2021-10-16T19:13:51.844Z"
   },
   {
    "duration": 49,
    "start_time": "2021-10-16T19:13:51.852Z"
   },
   {
    "duration": 44,
    "start_time": "2021-10-16T19:13:51.858Z"
   },
   {
    "duration": 38,
    "start_time": "2021-10-16T19:13:51.865Z"
   },
   {
    "duration": 32,
    "start_time": "2021-10-16T19:13:51.872Z"
   },
   {
    "duration": 8,
    "start_time": "2021-10-16T19:52:13.362Z"
   },
   {
    "duration": 743,
    "start_time": "2021-10-16T19:53:18.204Z"
   },
   {
    "duration": 15,
    "start_time": "2021-10-16T19:55:32.393Z"
   },
   {
    "duration": 10,
    "start_time": "2021-10-16T19:55:40.899Z"
   },
   {
    "duration": 730,
    "start_time": "2021-10-16T19:55:49.683Z"
   },
   {
    "duration": 811,
    "start_time": "2021-10-16T19:56:22.579Z"
   },
   {
    "duration": 6,
    "start_time": "2021-10-16T19:56:42.048Z"
   },
   {
    "duration": 429,
    "start_time": "2021-10-16T19:56:58.593Z"
   },
   {
    "duration": 430,
    "start_time": "2021-10-16T19:57:03.438Z"
   },
   {
    "duration": 87,
    "start_time": "2021-10-16T19:57:11.684Z"
   },
   {
    "duration": 1171,
    "start_time": "2021-10-16T19:57:14.551Z"
   },
   {
    "duration": 477,
    "start_time": "2021-10-16T19:57:25.002Z"
   },
   {
    "duration": 540,
    "start_time": "2021-10-16T19:57:30.954Z"
   },
   {
    "duration": 11,
    "start_time": "2021-10-16T19:58:44.536Z"
   },
   {
    "duration": 213,
    "start_time": "2021-10-16T19:58:44.549Z"
   },
   {
    "duration": 187,
    "start_time": "2021-10-16T19:58:44.765Z"
   },
   {
    "duration": 183,
    "start_time": "2021-10-16T19:58:44.954Z"
   },
   {
    "duration": 168,
    "start_time": "2021-10-16T19:58:45.139Z"
   },
   {
    "duration": 6,
    "start_time": "2021-10-16T19:58:45.309Z"
   },
   {
    "duration": 47,
    "start_time": "2021-10-16T19:58:45.316Z"
   },
   {
    "duration": 13,
    "start_time": "2021-10-16T19:58:45.365Z"
   },
   {
    "duration": 7,
    "start_time": "2021-10-16T19:58:45.380Z"
   },
   {
    "duration": 8,
    "start_time": "2021-10-16T19:58:45.388Z"
   },
   {
    "duration": 62,
    "start_time": "2021-10-16T19:58:45.397Z"
   },
   {
    "duration": 35,
    "start_time": "2021-10-16T19:58:45.461Z"
   },
   {
    "duration": 14,
    "start_time": "2021-10-16T19:58:45.498Z"
   },
   {
    "duration": 180,
    "start_time": "2021-10-16T19:58:45.513Z"
   },
   {
    "duration": 38,
    "start_time": "2021-10-16T19:58:45.695Z"
   },
   {
    "duration": 22,
    "start_time": "2021-10-16T19:58:45.734Z"
   },
   {
    "duration": 212,
    "start_time": "2021-10-16T19:58:45.757Z"
   },
   {
    "duration": 194,
    "start_time": "2021-10-16T19:58:45.971Z"
   },
   {
    "duration": 161,
    "start_time": "2021-10-16T19:58:46.167Z"
   },
   {
    "duration": 181,
    "start_time": "2021-10-16T19:58:46.329Z"
   },
   {
    "duration": 288,
    "start_time": "2021-10-16T19:58:46.512Z"
   },
   {
    "duration": 352,
    "start_time": "2021-10-16T19:58:46.802Z"
   },
   {
    "duration": 26,
    "start_time": "2021-10-16T19:58:47.157Z"
   },
   {
    "duration": 1071,
    "start_time": "2021-10-16T19:58:47.185Z"
   },
   {
    "duration": 169,
    "start_time": "2021-10-16T19:58:48.089Z"
   },
   {
    "duration": 157,
    "start_time": "2021-10-16T19:58:48.102Z"
   },
   {
    "duration": 142,
    "start_time": "2021-10-16T19:58:48.118Z"
   },
   {
    "duration": 134,
    "start_time": "2021-10-16T19:58:48.127Z"
   },
   {
    "duration": 168,
    "start_time": "2021-10-16T20:02:50.427Z"
   },
   {
    "duration": 189,
    "start_time": "2021-10-16T20:02:50.597Z"
   },
   {
    "duration": 179,
    "start_time": "2021-10-16T20:02:50.789Z"
   },
   {
    "duration": 168,
    "start_time": "2021-10-16T20:02:50.970Z"
   },
   {
    "duration": 10,
    "start_time": "2021-10-16T20:05:41.187Z"
   },
   {
    "duration": 40,
    "start_time": "2021-10-16T20:05:53.909Z"
   },
   {
    "duration": 42,
    "start_time": "2021-10-16T20:06:12.709Z"
   },
   {
    "duration": 11,
    "start_time": "2021-10-16T20:06:23.088Z"
   },
   {
    "duration": 10,
    "start_time": "2021-10-16T20:06:27.280Z"
   },
   {
    "duration": 12,
    "start_time": "2021-10-16T20:06:36.872Z"
   },
   {
    "duration": 990,
    "start_time": "2021-10-17T12:37:50.722Z"
   },
   {
    "duration": 15,
    "start_time": "2021-10-17T12:37:51.722Z"
   },
   {
    "duration": 12,
    "start_time": "2021-10-17T12:37:51.740Z"
   },
   {
    "duration": 31,
    "start_time": "2021-10-17T12:37:51.755Z"
   },
   {
    "duration": 5,
    "start_time": "2021-10-17T12:37:51.823Z"
   },
   {
    "duration": 57,
    "start_time": "2021-10-17T12:37:51.830Z"
   },
   {
    "duration": 33,
    "start_time": "2021-10-17T12:37:51.889Z"
   },
   {
    "duration": 11,
    "start_time": "2021-10-17T12:37:51.926Z"
   },
   {
    "duration": 13,
    "start_time": "2021-10-17T12:37:51.940Z"
   },
   {
    "duration": 87,
    "start_time": "2021-10-17T12:37:51.956Z"
   },
   {
    "duration": 29,
    "start_time": "2021-10-17T12:37:52.046Z"
   },
   {
    "duration": 61,
    "start_time": "2021-10-17T12:37:52.077Z"
   },
   {
    "duration": 56,
    "start_time": "2021-10-17T12:37:52.141Z"
   },
   {
    "duration": 835,
    "start_time": "2021-10-17T12:37:52.200Z"
   },
   {
    "duration": 7,
    "start_time": "2021-10-17T12:37:53.037Z"
   },
   {
    "duration": 55,
    "start_time": "2021-10-17T12:37:53.046Z"
   },
   {
    "duration": 51,
    "start_time": "2021-10-17T12:37:53.103Z"
   },
   {
    "duration": 22,
    "start_time": "2021-10-17T12:37:53.156Z"
   },
   {
    "duration": 478,
    "start_time": "2021-10-17T12:37:53.180Z"
   },
   {
    "duration": 433,
    "start_time": "2021-10-17T12:37:53.661Z"
   },
   {
    "duration": 309,
    "start_time": "2021-10-17T12:37:54.096Z"
   },
   {
    "duration": 310,
    "start_time": "2021-10-17T12:37:54.407Z"
   },
   {
    "duration": 12,
    "start_time": "2021-10-17T12:37:54.723Z"
   },
   {
    "duration": 566,
    "start_time": "2021-10-17T12:37:54.738Z"
   },
   {
    "duration": 236,
    "start_time": "2021-10-17T12:37:55.306Z"
   },
   {
    "duration": 11,
    "start_time": "2021-10-17T12:37:55.544Z"
   },
   {
    "duration": 48,
    "start_time": "2021-10-17T12:37:55.558Z"
   },
   {
    "duration": 558,
    "start_time": "2021-10-17T12:37:55.609Z"
   },
   {
    "duration": 1139,
    "start_time": "2021-10-17T12:37:56.170Z"
   },
   {
    "duration": 824,
    "start_time": "2021-10-17T12:37:57.311Z"
   },
   {
    "duration": 15,
    "start_time": "2021-10-17T12:37:58.137Z"
   },
   {
    "duration": 349,
    "start_time": "2021-10-17T12:37:58.154Z"
   },
   {
    "duration": 321,
    "start_time": "2021-10-17T12:37:58.505Z"
   },
   {
    "duration": 310,
    "start_time": "2021-10-17T12:37:58.828Z"
   },
   {
    "duration": 292,
    "start_time": "2021-10-17T12:37:59.140Z"
   },
   {
    "duration": 8,
    "start_time": "2021-10-17T12:37:59.435Z"
   },
   {
    "duration": 90,
    "start_time": "2021-10-17T12:37:59.446Z"
   },
   {
    "duration": 20,
    "start_time": "2021-10-17T12:37:59.539Z"
   },
   {
    "duration": 9,
    "start_time": "2021-10-17T12:37:59.562Z"
   },
   {
    "duration": 50,
    "start_time": "2021-10-17T12:37:59.574Z"
   },
   {
    "duration": 73,
    "start_time": "2021-10-17T12:37:59.627Z"
   },
   {
    "duration": 83,
    "start_time": "2021-10-17T12:37:59.703Z"
   },
   {
    "duration": 53,
    "start_time": "2021-10-17T12:37:59.789Z"
   },
   {
    "duration": 310,
    "start_time": "2021-10-17T12:37:59.846Z"
   },
   {
    "duration": 92,
    "start_time": "2021-10-17T12:38:00.159Z"
   },
   {
    "duration": 24,
    "start_time": "2021-10-17T12:38:00.254Z"
   },
   {
    "duration": 416,
    "start_time": "2021-10-17T12:38:00.281Z"
   },
   {
    "duration": 366,
    "start_time": "2021-10-17T12:38:00.699Z"
   },
   {
    "duration": 304,
    "start_time": "2021-10-17T12:38:01.068Z"
   },
   {
    "duration": 367,
    "start_time": "2021-10-17T12:38:01.375Z"
   },
   {
    "duration": 538,
    "start_time": "2021-10-17T12:38:01.744Z"
   },
   {
    "duration": 603,
    "start_time": "2021-10-17T12:38:02.284Z"
   },
   {
    "duration": 56,
    "start_time": "2021-10-17T12:38:02.890Z"
   },
   {
    "duration": 575,
    "start_time": "2021-10-17T12:38:02.949Z"
   },
   {
    "duration": 323,
    "start_time": "2021-10-17T12:38:03.526Z"
   },
   {
    "duration": 304,
    "start_time": "2021-10-17T12:38:03.852Z"
   },
   {
    "duration": 314,
    "start_time": "2021-10-17T12:38:04.159Z"
   },
   {
    "duration": 301,
    "start_time": "2021-10-17T12:38:04.476Z"
   },
   {
    "duration": 790,
    "start_time": "2021-10-18T06:05:47.661Z"
   },
   {
    "duration": 11,
    "start_time": "2021-10-18T06:05:48.452Z"
   },
   {
    "duration": 8,
    "start_time": "2021-10-18T06:05:48.464Z"
   },
   {
    "duration": 19,
    "start_time": "2021-10-18T06:05:48.477Z"
   },
   {
    "duration": 3,
    "start_time": "2021-10-18T06:05:48.498Z"
   },
   {
    "duration": 37,
    "start_time": "2021-10-18T06:05:48.502Z"
   },
   {
    "duration": 3,
    "start_time": "2021-10-18T06:05:48.540Z"
   },
   {
    "duration": 36,
    "start_time": "2021-10-18T06:05:48.546Z"
   },
   {
    "duration": 10,
    "start_time": "2021-10-18T06:05:48.584Z"
   },
   {
    "duration": 29,
    "start_time": "2021-10-18T06:05:48.595Z"
   },
   {
    "duration": 20,
    "start_time": "2021-10-18T06:05:48.626Z"
   },
   {
    "duration": 46,
    "start_time": "2021-10-18T06:05:48.647Z"
   },
   {
    "duration": 32,
    "start_time": "2021-10-18T06:05:48.694Z"
   },
   {
    "duration": 480,
    "start_time": "2021-10-18T06:05:48.728Z"
   },
   {
    "duration": 4,
    "start_time": "2021-10-18T06:05:49.209Z"
   },
   {
    "duration": 25,
    "start_time": "2021-10-18T06:05:49.215Z"
   },
   {
    "duration": 36,
    "start_time": "2021-10-18T06:05:49.242Z"
   },
   {
    "duration": 14,
    "start_time": "2021-10-18T06:05:49.279Z"
   },
   {
    "duration": 282,
    "start_time": "2021-10-18T06:05:49.294Z"
   },
   {
    "duration": 229,
    "start_time": "2021-10-18T06:05:49.578Z"
   },
   {
    "duration": 176,
    "start_time": "2021-10-18T06:05:49.808Z"
   },
   {
    "duration": 177,
    "start_time": "2021-10-18T06:05:49.985Z"
   },
   {
    "duration": 13,
    "start_time": "2021-10-18T06:05:50.165Z"
   },
   {
    "duration": 403,
    "start_time": "2021-10-18T06:05:50.180Z"
   },
   {
    "duration": 141,
    "start_time": "2021-10-18T06:05:50.584Z"
   },
   {
    "duration": 8,
    "start_time": "2021-10-18T06:05:50.727Z"
   },
   {
    "duration": 21,
    "start_time": "2021-10-18T06:05:50.737Z"
   },
   {
    "duration": 325,
    "start_time": "2021-10-18T06:05:50.760Z"
   },
   {
    "duration": 728,
    "start_time": "2021-10-18T06:05:51.087Z"
   },
   {
    "duration": 500,
    "start_time": "2021-10-18T06:05:51.816Z"
   },
   {
    "duration": 9,
    "start_time": "2021-10-18T06:05:52.317Z"
   },
   {
    "duration": 250,
    "start_time": "2021-10-18T06:05:52.328Z"
   },
   {
    "duration": 174,
    "start_time": "2021-10-18T06:05:52.580Z"
   },
   {
    "duration": 190,
    "start_time": "2021-10-18T06:05:52.756Z"
   },
   {
    "duration": 170,
    "start_time": "2021-10-18T06:05:52.947Z"
   },
   {
    "duration": 6,
    "start_time": "2021-10-18T06:05:53.118Z"
   },
   {
    "duration": 51,
    "start_time": "2021-10-18T06:05:53.126Z"
   },
   {
    "duration": 15,
    "start_time": "2021-10-18T06:05:53.179Z"
   },
   {
    "duration": 6,
    "start_time": "2021-10-18T06:05:53.196Z"
   },
   {
    "duration": 8,
    "start_time": "2021-10-18T06:05:53.204Z"
   },
   {
    "duration": 68,
    "start_time": "2021-10-18T06:05:53.213Z"
   },
   {
    "duration": 38,
    "start_time": "2021-10-18T06:05:53.282Z"
   },
   {
    "duration": 14,
    "start_time": "2021-10-18T06:05:53.321Z"
   },
   {
    "duration": 179,
    "start_time": "2021-10-18T06:05:53.337Z"
   },
   {
    "duration": 37,
    "start_time": "2021-10-18T06:05:53.517Z"
   },
   {
    "duration": 25,
    "start_time": "2021-10-18T06:05:53.556Z"
   },
   {
    "duration": 208,
    "start_time": "2021-10-18T06:05:53.583Z"
   },
   {
    "duration": 192,
    "start_time": "2021-10-18T06:05:53.793Z"
   },
   {
    "duration": 152,
    "start_time": "2021-10-18T06:05:53.986Z"
   },
   {
    "duration": 197,
    "start_time": "2021-10-18T06:05:54.139Z"
   },
   {
    "duration": 282,
    "start_time": "2021-10-18T06:05:54.337Z"
   },
   {
    "duration": 355,
    "start_time": "2021-10-18T06:05:54.621Z"
   },
   {
    "duration": 22,
    "start_time": "2021-10-18T06:05:54.978Z"
   },
   {
    "duration": 303,
    "start_time": "2021-10-18T06:05:55.002Z"
   },
   {
    "duration": 186,
    "start_time": "2021-10-18T06:05:55.307Z"
   },
   {
    "duration": 173,
    "start_time": "2021-10-18T06:05:55.495Z"
   },
   {
    "duration": 173,
    "start_time": "2021-10-18T06:05:55.670Z"
   },
   {
    "duration": 169,
    "start_time": "2021-10-18T06:05:55.845Z"
   }
  ],
  "kernelspec": {
   "display_name": "Python 3",
   "language": "python",
   "name": "python3"
  },
  "language_info": {
   "codemirror_mode": {
    "name": "ipython",
    "version": 3
   },
   "file_extension": ".py",
   "mimetype": "text/x-python",
   "name": "python",
   "nbconvert_exporter": "python",
   "pygments_lexer": "ipython3",
   "version": "3.7.8"
  },
  "toc": {
   "base_numbering": 1,
   "nav_menu": {},
   "number_sections": true,
   "sideBar": true,
   "skip_h1_title": true,
   "title_cell": "Содержание",
   "title_sidebar": "Contents",
   "toc_cell": true,
   "toc_position": {},
   "toc_section_display": true,
   "toc_window_display": false
  }
 },
 "nbformat": 4,
 "nbformat_minor": 2
}
