{
 "cells": [
  {
   "cell_type": "markdown",
   "metadata": {
    "toc": true
   },
   "source": [
    "<h1>Содержание<span class=\"tocSkip\"></span></h1>\n",
    "<div class=\"toc\"><ul class=\"toc-item\"><li><ul class=\"toc-item\"><li><span><a href=\"#Общее-впечатление\" data-toc-modified-id=\"Общее-впечатление-0.1\"><span class=\"toc-item-num\">0.1&nbsp;&nbsp;</span><font color=\"orange\">Общее впечатление</font></a></span></li><li><span><a href=\"#План-проекта\" data-toc-modified-id=\"План-проекта-0.2\"><span class=\"toc-item-num\">0.2&nbsp;&nbsp;</span>План проекта</a></span></li><li><span><a href=\"#Описание-данных\" data-toc-modified-id=\"Описание-данных-0.3\"><span class=\"toc-item-num\">0.3&nbsp;&nbsp;</span>Описание данных</a></span></li></ul></li><li><span><a href=\"#Подготовка-данных\" data-toc-modified-id=\"Подготовка-данных-1\"><span class=\"toc-item-num\">1&nbsp;&nbsp;</span>Подготовка данных</a></span><ul class=\"toc-item\"><li><span><a href=\"#Замена-пропусков\" data-toc-modified-id=\"Замена-пропусков-1.1\"><span class=\"toc-item-num\">1.1&nbsp;&nbsp;</span>Замена пропусков</a></span></li><li><span><a href=\"#Прямое-кодирование\" data-toc-modified-id=\"Прямое-кодирование-1.2\"><span class=\"toc-item-num\">1.2&nbsp;&nbsp;</span>Прямое кодирование</a></span></li><li><span><a href=\"#Тестовые-и-обучающая-выборки\" data-toc-modified-id=\"Тестовые-и-обучающая-выборки-1.3\"><span class=\"toc-item-num\">1.3&nbsp;&nbsp;</span>Тестовые и обучающая выборки</a></span></li><li><span><a href=\"#Масштабирование-признаков\" data-toc-modified-id=\"Масштабирование-признаков-1.4\"><span class=\"toc-item-num\">1.4&nbsp;&nbsp;</span>Масштабирование признаков</a></span></li></ul></li><li><span><a href=\"#Исследование-задачи\" data-toc-modified-id=\"Исследование-задачи-2\"><span class=\"toc-item-num\">2&nbsp;&nbsp;</span>Исследование задачи</a></span></li><li><span><a href=\"#Борьба-с-дисбалансом\" data-toc-modified-id=\"Борьба-с-дисбалансом-3\"><span class=\"toc-item-num\">3&nbsp;&nbsp;</span>Борьба с дисбалансом</a></span><ul class=\"toc-item\"><li><span><a href=\"#Взвешивание-классов\" data-toc-modified-id=\"Взвешивание-классов-3.1\"><span class=\"toc-item-num\">3.1&nbsp;&nbsp;</span>Взвешивание классов</a></span></li><li><span><a href=\"#Увеличение-выборки\" data-toc-modified-id=\"Увеличение-выборки-3.2\"><span class=\"toc-item-num\">3.2&nbsp;&nbsp;</span>Увеличение выборки</a></span></li><li><span><a href=\"#Уменьшение-выборки\" data-toc-modified-id=\"Уменьшение-выборки-3.3\"><span class=\"toc-item-num\">3.3&nbsp;&nbsp;</span>Уменьшение выборки</a></span></li><li><span><a href=\"#Проверка-моделей-на-валидационной-выборке\" data-toc-modified-id=\"Проверка-моделей-на-валидационной-выборке-3.4\"><span class=\"toc-item-num\">3.4&nbsp;&nbsp;</span>Проверка моделей на валидационной выборке</a></span></li><li><span><a href=\"#Поиск-лучшей-модели\" data-toc-modified-id=\"Поиск-лучшей-модели-3.5\"><span class=\"toc-item-num\">3.5&nbsp;&nbsp;</span>Поиск лучшей модели</a></span></li></ul></li><li><span><a href=\"#Тестирование-модели\" data-toc-modified-id=\"Тестирование-модели-4\"><span class=\"toc-item-num\">4&nbsp;&nbsp;</span>Тестирование модели</a></span></li><li><span><a href=\"#Вывод\" data-toc-modified-id=\"Вывод-5\"><span class=\"toc-item-num\">5&nbsp;&nbsp;</span>Вывод</a></span></li><li><span><a href=\"#Чек-лист-готовности-проекта\" data-toc-modified-id=\"Чек-лист-готовности-проекта-6\"><span class=\"toc-item-num\">6&nbsp;&nbsp;</span>Чек-лист готовности проекта</a></span></li></ul></div>"
   ]
  },
  {
   "cell_type": "markdown",
   "metadata": {},
   "source": [
    "# Отток клиентов"
   ]
  },
  {
   "cell_type": "markdown",
   "metadata": {},
   "source": [
    "Из «Бета-Банка» стали уходить клиенты. Каждый месяц. Немного, но заметно. Банковские маркетологи посчитали: сохранять текущих клиентов дешевле, чем привлекать новых.\n",
    "\n",
    "Нужно спрогнозировать, уйдёт клиент из банка в ближайшее время или нет. Вам предоставлены исторические данные о поведении клиентов и расторжении договоров с банком. \n",
    "\n",
    "Постройте модель с предельно большим значением *F1*-меры. Чтобы сдать проект успешно, нужно довести метрику до 0.59. Проверьте *F1*-меру на тестовой выборке самостоятельно.\n",
    "\n",
    "Дополнительно измеряйте *AUC-ROC*, сравнивайте её значение с *F1*-мерой.\n",
    "\n",
    "Источник данных: [https://www.kaggle.com/barelydedicated/bank-customer-churn-modeling](https://www.kaggle.com/barelydedicated/bank-customer-churn-modeling)"
   ]
  },
  {
   "cell_type": "markdown",
   "metadata": {},
   "source": [
    "### План проекта"
   ]
  },
  {
   "cell_type": "markdown",
   "metadata": {},
   "source": [
    "План проекта\n",
    "\n",
    "1)Загрузим и подготовим данные.\n",
    "\n",
    "2)Исследуем баланс классов, обучим модель без учёта дисбаланса.\n",
    "\n",
    "3)Улучшим качество модели, учитывая дисбаланс классов. Обучим разные модели и найдем лучшую\n",
    "\n",
    "4)Проведите финальное тестирование.\n",
    "\n",
    "5)Вывод"
   ]
  },
  {
   "cell_type": "markdown",
   "metadata": {},
   "source": [
    "### Описание данных"
   ]
  },
  {
   "cell_type": "markdown",
   "metadata": {},
   "source": [
    "Данные находятся в файле /datasets/Churn.csv (англ. «отток клиентов»).\n",
    "\n",
    "Признаки\n",
    "\n",
    "RowNumber — индекс строки в данных\n",
    "\n",
    "CustomerId — уникальный идентификатор клиента\n",
    "\n",
    "Surname — фамилия\n",
    "\n",
    "CreditScore — кредитный рейтинг\n",
    "\n",
    "Geography — страна проживания\n",
    "\n",
    "Gender — пол\n",
    "\n",
    "Age — возраст\n",
    "\n",
    "Tenure — сколько лет человек является клиентом банка\n",
    "\n",
    "Balance — баланс на счёте\n",
    "\n",
    "NumOfProducts — количество продуктов банка, используемых клиентом\n",
    "\n",
    "HasCrCard — наличие кредитной карты\n",
    "\n",
    "IsActiveMember — активность клиента\n",
    "\n",
    "EstimatedSalary — предполагаемая зарплата\n",
    "\n",
    "Целевой признак\n",
    "\n",
    "Exited — факт ухода клиента\n"
   ]
  },
  {
   "cell_type": "markdown",
   "metadata": {},
   "source": [
    "## Подготовка данных"
   ]
  },
  {
   "cell_type": "code",
   "execution_count": 335,
   "metadata": {},
   "outputs": [],
   "source": [
    "import pandas as pd\n",
    "import numpy as np\n",
    "\n",
    "from sklearn.preprocessing import StandardScaler\n",
    "\n",
    "from sklearn.model_selection import train_test_split\n",
    "\n",
    "from sklearn.metrics import accuracy_score\n",
    "from sklearn.metrics import f1_score\n",
    "from sklearn.metrics import precision_score, recall_score\n",
    "from sklearn.metrics import roc_curve \n",
    "from sklearn.metrics import roc_auc_score\n",
    "\n",
    "from sklearn.utils import shuffle\n",
    "\n",
    "from sklearn.linear_model import LinearRegression\n",
    "from sklearn.linear_model import LogisticRegression\n",
    "\n",
    "from sklearn.tree import DecisionTreeRegressor\n",
    "from sklearn.tree import DecisionTreeClassifier \n",
    "\n",
    "from sklearn.ensemble import RandomForestRegressor\n",
    "from sklearn.ensemble import RandomForestClassifier "
   ]
  },
  {
   "cell_type": "code",
   "execution_count": 336,
   "metadata": {},
   "outputs": [],
   "source": [
    "scaler = StandardScaler()"
   ]
  },
  {
   "cell_type": "code",
   "execution_count": 337,
   "metadata": {},
   "outputs": [],
   "source": [
    "pd.options.mode.chained_assignment = None"
   ]
  },
  {
   "cell_type": "code",
   "execution_count": 338,
   "metadata": {},
   "outputs": [],
   "source": [
    "data=pd.read_csv(\"/datasets/Churn.csv\")"
   ]
  },
  {
   "cell_type": "code",
   "execution_count": 339,
   "metadata": {},
   "outputs": [
    {
     "data": {
      "text/html": [
       "<div>\n",
       "<style scoped>\n",
       "    .dataframe tbody tr th:only-of-type {\n",
       "        vertical-align: middle;\n",
       "    }\n",
       "\n",
       "    .dataframe tbody tr th {\n",
       "        vertical-align: top;\n",
       "    }\n",
       "\n",
       "    .dataframe thead th {\n",
       "        text-align: right;\n",
       "    }\n",
       "</style>\n",
       "<table border=\"1\" class=\"dataframe\">\n",
       "  <thead>\n",
       "    <tr style=\"text-align: right;\">\n",
       "      <th></th>\n",
       "      <th>RowNumber</th>\n",
       "      <th>CustomerId</th>\n",
       "      <th>Surname</th>\n",
       "      <th>CreditScore</th>\n",
       "      <th>Geography</th>\n",
       "      <th>Gender</th>\n",
       "      <th>Age</th>\n",
       "      <th>Tenure</th>\n",
       "      <th>Balance</th>\n",
       "      <th>NumOfProducts</th>\n",
       "      <th>HasCrCard</th>\n",
       "      <th>IsActiveMember</th>\n",
       "      <th>EstimatedSalary</th>\n",
       "      <th>Exited</th>\n",
       "    </tr>\n",
       "  </thead>\n",
       "  <tbody>\n",
       "    <tr>\n",
       "      <td>0</td>\n",
       "      <td>1</td>\n",
       "      <td>15634602</td>\n",
       "      <td>Hargrave</td>\n",
       "      <td>619</td>\n",
       "      <td>France</td>\n",
       "      <td>Female</td>\n",
       "      <td>42</td>\n",
       "      <td>2.0</td>\n",
       "      <td>0.00</td>\n",
       "      <td>1</td>\n",
       "      <td>1</td>\n",
       "      <td>1</td>\n",
       "      <td>101348.88</td>\n",
       "      <td>1</td>\n",
       "    </tr>\n",
       "    <tr>\n",
       "      <td>1</td>\n",
       "      <td>2</td>\n",
       "      <td>15647311</td>\n",
       "      <td>Hill</td>\n",
       "      <td>608</td>\n",
       "      <td>Spain</td>\n",
       "      <td>Female</td>\n",
       "      <td>41</td>\n",
       "      <td>1.0</td>\n",
       "      <td>83807.86</td>\n",
       "      <td>1</td>\n",
       "      <td>0</td>\n",
       "      <td>1</td>\n",
       "      <td>112542.58</td>\n",
       "      <td>0</td>\n",
       "    </tr>\n",
       "    <tr>\n",
       "      <td>2</td>\n",
       "      <td>3</td>\n",
       "      <td>15619304</td>\n",
       "      <td>Onio</td>\n",
       "      <td>502</td>\n",
       "      <td>France</td>\n",
       "      <td>Female</td>\n",
       "      <td>42</td>\n",
       "      <td>8.0</td>\n",
       "      <td>159660.80</td>\n",
       "      <td>3</td>\n",
       "      <td>1</td>\n",
       "      <td>0</td>\n",
       "      <td>113931.57</td>\n",
       "      <td>1</td>\n",
       "    </tr>\n",
       "    <tr>\n",
       "      <td>3</td>\n",
       "      <td>4</td>\n",
       "      <td>15701354</td>\n",
       "      <td>Boni</td>\n",
       "      <td>699</td>\n",
       "      <td>France</td>\n",
       "      <td>Female</td>\n",
       "      <td>39</td>\n",
       "      <td>1.0</td>\n",
       "      <td>0.00</td>\n",
       "      <td>2</td>\n",
       "      <td>0</td>\n",
       "      <td>0</td>\n",
       "      <td>93826.63</td>\n",
       "      <td>0</td>\n",
       "    </tr>\n",
       "    <tr>\n",
       "      <td>4</td>\n",
       "      <td>5</td>\n",
       "      <td>15737888</td>\n",
       "      <td>Mitchell</td>\n",
       "      <td>850</td>\n",
       "      <td>Spain</td>\n",
       "      <td>Female</td>\n",
       "      <td>43</td>\n",
       "      <td>2.0</td>\n",
       "      <td>125510.82</td>\n",
       "      <td>1</td>\n",
       "      <td>1</td>\n",
       "      <td>1</td>\n",
       "      <td>79084.10</td>\n",
       "      <td>0</td>\n",
       "    </tr>\n",
       "    <tr>\n",
       "      <td>...</td>\n",
       "      <td>...</td>\n",
       "      <td>...</td>\n",
       "      <td>...</td>\n",
       "      <td>...</td>\n",
       "      <td>...</td>\n",
       "      <td>...</td>\n",
       "      <td>...</td>\n",
       "      <td>...</td>\n",
       "      <td>...</td>\n",
       "      <td>...</td>\n",
       "      <td>...</td>\n",
       "      <td>...</td>\n",
       "      <td>...</td>\n",
       "      <td>...</td>\n",
       "    </tr>\n",
       "    <tr>\n",
       "      <td>9995</td>\n",
       "      <td>9996</td>\n",
       "      <td>15606229</td>\n",
       "      <td>Obijiaku</td>\n",
       "      <td>771</td>\n",
       "      <td>France</td>\n",
       "      <td>Male</td>\n",
       "      <td>39</td>\n",
       "      <td>5.0</td>\n",
       "      <td>0.00</td>\n",
       "      <td>2</td>\n",
       "      <td>1</td>\n",
       "      <td>0</td>\n",
       "      <td>96270.64</td>\n",
       "      <td>0</td>\n",
       "    </tr>\n",
       "    <tr>\n",
       "      <td>9996</td>\n",
       "      <td>9997</td>\n",
       "      <td>15569892</td>\n",
       "      <td>Johnstone</td>\n",
       "      <td>516</td>\n",
       "      <td>France</td>\n",
       "      <td>Male</td>\n",
       "      <td>35</td>\n",
       "      <td>10.0</td>\n",
       "      <td>57369.61</td>\n",
       "      <td>1</td>\n",
       "      <td>1</td>\n",
       "      <td>1</td>\n",
       "      <td>101699.77</td>\n",
       "      <td>0</td>\n",
       "    </tr>\n",
       "    <tr>\n",
       "      <td>9997</td>\n",
       "      <td>9998</td>\n",
       "      <td>15584532</td>\n",
       "      <td>Liu</td>\n",
       "      <td>709</td>\n",
       "      <td>France</td>\n",
       "      <td>Female</td>\n",
       "      <td>36</td>\n",
       "      <td>7.0</td>\n",
       "      <td>0.00</td>\n",
       "      <td>1</td>\n",
       "      <td>0</td>\n",
       "      <td>1</td>\n",
       "      <td>42085.58</td>\n",
       "      <td>1</td>\n",
       "    </tr>\n",
       "    <tr>\n",
       "      <td>9998</td>\n",
       "      <td>9999</td>\n",
       "      <td>15682355</td>\n",
       "      <td>Sabbatini</td>\n",
       "      <td>772</td>\n",
       "      <td>Germany</td>\n",
       "      <td>Male</td>\n",
       "      <td>42</td>\n",
       "      <td>3.0</td>\n",
       "      <td>75075.31</td>\n",
       "      <td>2</td>\n",
       "      <td>1</td>\n",
       "      <td>0</td>\n",
       "      <td>92888.52</td>\n",
       "      <td>1</td>\n",
       "    </tr>\n",
       "    <tr>\n",
       "      <td>9999</td>\n",
       "      <td>10000</td>\n",
       "      <td>15628319</td>\n",
       "      <td>Walker</td>\n",
       "      <td>792</td>\n",
       "      <td>France</td>\n",
       "      <td>Female</td>\n",
       "      <td>28</td>\n",
       "      <td>NaN</td>\n",
       "      <td>130142.79</td>\n",
       "      <td>1</td>\n",
       "      <td>1</td>\n",
       "      <td>0</td>\n",
       "      <td>38190.78</td>\n",
       "      <td>0</td>\n",
       "    </tr>\n",
       "  </tbody>\n",
       "</table>\n",
       "<p>10000 rows × 14 columns</p>\n",
       "</div>"
      ],
      "text/plain": [
       "      RowNumber  CustomerId    Surname  CreditScore Geography  Gender  Age  \\\n",
       "0             1    15634602   Hargrave          619    France  Female   42   \n",
       "1             2    15647311       Hill          608     Spain  Female   41   \n",
       "2             3    15619304       Onio          502    France  Female   42   \n",
       "3             4    15701354       Boni          699    France  Female   39   \n",
       "4             5    15737888   Mitchell          850     Spain  Female   43   \n",
       "...         ...         ...        ...          ...       ...     ...  ...   \n",
       "9995       9996    15606229   Obijiaku          771    France    Male   39   \n",
       "9996       9997    15569892  Johnstone          516    France    Male   35   \n",
       "9997       9998    15584532        Liu          709    France  Female   36   \n",
       "9998       9999    15682355  Sabbatini          772   Germany    Male   42   \n",
       "9999      10000    15628319     Walker          792    France  Female   28   \n",
       "\n",
       "      Tenure    Balance  NumOfProducts  HasCrCard  IsActiveMember  \\\n",
       "0        2.0       0.00              1          1               1   \n",
       "1        1.0   83807.86              1          0               1   \n",
       "2        8.0  159660.80              3          1               0   \n",
       "3        1.0       0.00              2          0               0   \n",
       "4        2.0  125510.82              1          1               1   \n",
       "...      ...        ...            ...        ...             ...   \n",
       "9995     5.0       0.00              2          1               0   \n",
       "9996    10.0   57369.61              1          1               1   \n",
       "9997     7.0       0.00              1          0               1   \n",
       "9998     3.0   75075.31              2          1               0   \n",
       "9999     NaN  130142.79              1          1               0   \n",
       "\n",
       "      EstimatedSalary  Exited  \n",
       "0           101348.88       1  \n",
       "1           112542.58       0  \n",
       "2           113931.57       1  \n",
       "3            93826.63       0  \n",
       "4            79084.10       0  \n",
       "...               ...     ...  \n",
       "9995         96270.64       0  \n",
       "9996        101699.77       0  \n",
       "9997         42085.58       1  \n",
       "9998         92888.52       1  \n",
       "9999         38190.78       0  \n",
       "\n",
       "[10000 rows x 14 columns]"
      ]
     },
     "execution_count": 339,
     "metadata": {},
     "output_type": "execute_result"
    }
   ],
   "source": [
    "data"
   ]
  },
  {
   "cell_type": "code",
   "execution_count": 340,
   "metadata": {},
   "outputs": [
    {
     "name": "stdout",
     "output_type": "stream",
     "text": [
      "<class 'pandas.core.frame.DataFrame'>\n",
      "RangeIndex: 10000 entries, 0 to 9999\n",
      "Data columns (total 14 columns):\n",
      "RowNumber          10000 non-null int64\n",
      "CustomerId         10000 non-null int64\n",
      "Surname            10000 non-null object\n",
      "CreditScore        10000 non-null int64\n",
      "Geography          10000 non-null object\n",
      "Gender             10000 non-null object\n",
      "Age                10000 non-null int64\n",
      "Tenure             9091 non-null float64\n",
      "Balance            10000 non-null float64\n",
      "NumOfProducts      10000 non-null int64\n",
      "HasCrCard          10000 non-null int64\n",
      "IsActiveMember     10000 non-null int64\n",
      "EstimatedSalary    10000 non-null float64\n",
      "Exited             10000 non-null int64\n",
      "dtypes: float64(3), int64(8), object(3)\n",
      "memory usage: 1.1+ MB\n"
     ]
    }
   ],
   "source": [
    "data.info()"
   ]
  },
  {
   "cell_type": "markdown",
   "metadata": {},
   "source": [
    "Пропуски только в столбце с годами пользования клиеном услугами данного банка. Их примерно 9%, вероятно это клиенты которые пользуются банком меньше года."
   ]
  },
  {
   "cell_type": "markdown",
   "metadata": {},
   "source": [
    "### Замена пропусков"
   ]
  },
  {
   "cell_type": "code",
   "execution_count": 341,
   "metadata": {},
   "outputs": [
    {
     "name": "stdout",
     "output_type": "stream",
     "text": [
      "<class 'pandas.core.frame.DataFrame'>\n",
      "RangeIndex: 10000 entries, 0 to 9999\n",
      "Data columns (total 14 columns):\n",
      "RowNumber          10000 non-null int64\n",
      "CustomerId         10000 non-null int64\n",
      "Surname            10000 non-null object\n",
      "CreditScore        10000 non-null int64\n",
      "Geography          10000 non-null object\n",
      "Gender             10000 non-null object\n",
      "Age                10000 non-null int64\n",
      "Tenure             10000 non-null float64\n",
      "Balance            10000 non-null float64\n",
      "NumOfProducts      10000 non-null int64\n",
      "HasCrCard          10000 non-null int64\n",
      "IsActiveMember     10000 non-null int64\n",
      "EstimatedSalary    10000 non-null float64\n",
      "Exited             10000 non-null int64\n",
      "dtypes: float64(3), int64(8), object(3)\n",
      "memory usage: 1.1+ MB\n"
     ]
    }
   ],
   "source": [
    "# заменим пропуски в столбце с годами пользования услугами банка на 0\n",
    "\n",
    "data['Tenure'] = data['Tenure'].fillna(0)\n",
    "data.info()"
   ]
  },
  {
   "cell_type": "markdown",
   "metadata": {},
   "source": [
    "### Прямое кодирование"
   ]
  },
  {
   "cell_type": "markdown",
   "metadata": {},
   "source": [
    "Теперь преобразуем категориальные признаки в численные с помощью техники прямого кодирования. В дамми-ловушку мы не попадем, так как нет пропусков в столбце с полом клиента и географией клиента."
   ]
  },
  {
   "cell_type": "markdown",
   "metadata": {},
   "source": [
    "Так же, прежде всего удалим для новой таблицы стобец с фамилией клиента, так как она никак не влияет на шансы отказа от банка клиентом. И дополнительные столбцы нам не нужны."
   ]
  },
  {
   "cell_type": "markdown",
   "metadata": {},
   "source": [
    "Так же, удалим столбцы RowNumber и CustomerId так как они не являются признаками."
   ]
  },
  {
   "cell_type": "code",
   "execution_count": 342,
   "metadata": {
    "scrolled": true
   },
   "outputs": [
    {
     "data": {
      "text/html": [
       "<div>\n",
       "<style scoped>\n",
       "    .dataframe tbody tr th:only-of-type {\n",
       "        vertical-align: middle;\n",
       "    }\n",
       "\n",
       "    .dataframe tbody tr th {\n",
       "        vertical-align: top;\n",
       "    }\n",
       "\n",
       "    .dataframe thead th {\n",
       "        text-align: right;\n",
       "    }\n",
       "</style>\n",
       "<table border=\"1\" class=\"dataframe\">\n",
       "  <thead>\n",
       "    <tr style=\"text-align: right;\">\n",
       "      <th></th>\n",
       "      <th>CreditScore</th>\n",
       "      <th>Age</th>\n",
       "      <th>Tenure</th>\n",
       "      <th>Balance</th>\n",
       "      <th>NumOfProducts</th>\n",
       "      <th>HasCrCard</th>\n",
       "      <th>IsActiveMember</th>\n",
       "      <th>EstimatedSalary</th>\n",
       "      <th>Exited</th>\n",
       "      <th>Geography_France</th>\n",
       "      <th>Geography_Germany</th>\n",
       "      <th>Geography_Spain</th>\n",
       "      <th>Gender_Female</th>\n",
       "      <th>Gender_Male</th>\n",
       "    </tr>\n",
       "  </thead>\n",
       "  <tbody>\n",
       "    <tr>\n",
       "      <td>0</td>\n",
       "      <td>619</td>\n",
       "      <td>42</td>\n",
       "      <td>2.0</td>\n",
       "      <td>0.00</td>\n",
       "      <td>1</td>\n",
       "      <td>1</td>\n",
       "      <td>1</td>\n",
       "      <td>101348.88</td>\n",
       "      <td>1</td>\n",
       "      <td>1</td>\n",
       "      <td>0</td>\n",
       "      <td>0</td>\n",
       "      <td>1</td>\n",
       "      <td>0</td>\n",
       "    </tr>\n",
       "    <tr>\n",
       "      <td>1</td>\n",
       "      <td>608</td>\n",
       "      <td>41</td>\n",
       "      <td>1.0</td>\n",
       "      <td>83807.86</td>\n",
       "      <td>1</td>\n",
       "      <td>0</td>\n",
       "      <td>1</td>\n",
       "      <td>112542.58</td>\n",
       "      <td>0</td>\n",
       "      <td>0</td>\n",
       "      <td>0</td>\n",
       "      <td>1</td>\n",
       "      <td>1</td>\n",
       "      <td>0</td>\n",
       "    </tr>\n",
       "    <tr>\n",
       "      <td>2</td>\n",
       "      <td>502</td>\n",
       "      <td>42</td>\n",
       "      <td>8.0</td>\n",
       "      <td>159660.80</td>\n",
       "      <td>3</td>\n",
       "      <td>1</td>\n",
       "      <td>0</td>\n",
       "      <td>113931.57</td>\n",
       "      <td>1</td>\n",
       "      <td>1</td>\n",
       "      <td>0</td>\n",
       "      <td>0</td>\n",
       "      <td>1</td>\n",
       "      <td>0</td>\n",
       "    </tr>\n",
       "    <tr>\n",
       "      <td>3</td>\n",
       "      <td>699</td>\n",
       "      <td>39</td>\n",
       "      <td>1.0</td>\n",
       "      <td>0.00</td>\n",
       "      <td>2</td>\n",
       "      <td>0</td>\n",
       "      <td>0</td>\n",
       "      <td>93826.63</td>\n",
       "      <td>0</td>\n",
       "      <td>1</td>\n",
       "      <td>0</td>\n",
       "      <td>0</td>\n",
       "      <td>1</td>\n",
       "      <td>0</td>\n",
       "    </tr>\n",
       "    <tr>\n",
       "      <td>4</td>\n",
       "      <td>850</td>\n",
       "      <td>43</td>\n",
       "      <td>2.0</td>\n",
       "      <td>125510.82</td>\n",
       "      <td>1</td>\n",
       "      <td>1</td>\n",
       "      <td>1</td>\n",
       "      <td>79084.10</td>\n",
       "      <td>0</td>\n",
       "      <td>0</td>\n",
       "      <td>0</td>\n",
       "      <td>1</td>\n",
       "      <td>1</td>\n",
       "      <td>0</td>\n",
       "    </tr>\n",
       "    <tr>\n",
       "      <td>...</td>\n",
       "      <td>...</td>\n",
       "      <td>...</td>\n",
       "      <td>...</td>\n",
       "      <td>...</td>\n",
       "      <td>...</td>\n",
       "      <td>...</td>\n",
       "      <td>...</td>\n",
       "      <td>...</td>\n",
       "      <td>...</td>\n",
       "      <td>...</td>\n",
       "      <td>...</td>\n",
       "      <td>...</td>\n",
       "      <td>...</td>\n",
       "      <td>...</td>\n",
       "    </tr>\n",
       "    <tr>\n",
       "      <td>9995</td>\n",
       "      <td>771</td>\n",
       "      <td>39</td>\n",
       "      <td>5.0</td>\n",
       "      <td>0.00</td>\n",
       "      <td>2</td>\n",
       "      <td>1</td>\n",
       "      <td>0</td>\n",
       "      <td>96270.64</td>\n",
       "      <td>0</td>\n",
       "      <td>1</td>\n",
       "      <td>0</td>\n",
       "      <td>0</td>\n",
       "      <td>0</td>\n",
       "      <td>1</td>\n",
       "    </tr>\n",
       "    <tr>\n",
       "      <td>9996</td>\n",
       "      <td>516</td>\n",
       "      <td>35</td>\n",
       "      <td>10.0</td>\n",
       "      <td>57369.61</td>\n",
       "      <td>1</td>\n",
       "      <td>1</td>\n",
       "      <td>1</td>\n",
       "      <td>101699.77</td>\n",
       "      <td>0</td>\n",
       "      <td>1</td>\n",
       "      <td>0</td>\n",
       "      <td>0</td>\n",
       "      <td>0</td>\n",
       "      <td>1</td>\n",
       "    </tr>\n",
       "    <tr>\n",
       "      <td>9997</td>\n",
       "      <td>709</td>\n",
       "      <td>36</td>\n",
       "      <td>7.0</td>\n",
       "      <td>0.00</td>\n",
       "      <td>1</td>\n",
       "      <td>0</td>\n",
       "      <td>1</td>\n",
       "      <td>42085.58</td>\n",
       "      <td>1</td>\n",
       "      <td>1</td>\n",
       "      <td>0</td>\n",
       "      <td>0</td>\n",
       "      <td>1</td>\n",
       "      <td>0</td>\n",
       "    </tr>\n",
       "    <tr>\n",
       "      <td>9998</td>\n",
       "      <td>772</td>\n",
       "      <td>42</td>\n",
       "      <td>3.0</td>\n",
       "      <td>75075.31</td>\n",
       "      <td>2</td>\n",
       "      <td>1</td>\n",
       "      <td>0</td>\n",
       "      <td>92888.52</td>\n",
       "      <td>1</td>\n",
       "      <td>0</td>\n",
       "      <td>1</td>\n",
       "      <td>0</td>\n",
       "      <td>0</td>\n",
       "      <td>1</td>\n",
       "    </tr>\n",
       "    <tr>\n",
       "      <td>9999</td>\n",
       "      <td>792</td>\n",
       "      <td>28</td>\n",
       "      <td>0.0</td>\n",
       "      <td>130142.79</td>\n",
       "      <td>1</td>\n",
       "      <td>1</td>\n",
       "      <td>0</td>\n",
       "      <td>38190.78</td>\n",
       "      <td>0</td>\n",
       "      <td>1</td>\n",
       "      <td>0</td>\n",
       "      <td>0</td>\n",
       "      <td>1</td>\n",
       "      <td>0</td>\n",
       "    </tr>\n",
       "  </tbody>\n",
       "</table>\n",
       "<p>10000 rows × 14 columns</p>\n",
       "</div>"
      ],
      "text/plain": [
       "      CreditScore  Age  Tenure    Balance  NumOfProducts  HasCrCard  \\\n",
       "0             619   42     2.0       0.00              1          1   \n",
       "1             608   41     1.0   83807.86              1          0   \n",
       "2             502   42     8.0  159660.80              3          1   \n",
       "3             699   39     1.0       0.00              2          0   \n",
       "4             850   43     2.0  125510.82              1          1   \n",
       "...           ...  ...     ...        ...            ...        ...   \n",
       "9995          771   39     5.0       0.00              2          1   \n",
       "9996          516   35    10.0   57369.61              1          1   \n",
       "9997          709   36     7.0       0.00              1          0   \n",
       "9998          772   42     3.0   75075.31              2          1   \n",
       "9999          792   28     0.0  130142.79              1          1   \n",
       "\n",
       "      IsActiveMember  EstimatedSalary  Exited  Geography_France  \\\n",
       "0                  1        101348.88       1                 1   \n",
       "1                  1        112542.58       0                 0   \n",
       "2                  0        113931.57       1                 1   \n",
       "3                  0         93826.63       0                 1   \n",
       "4                  1         79084.10       0                 0   \n",
       "...              ...              ...     ...               ...   \n",
       "9995               0         96270.64       0                 1   \n",
       "9996               1        101699.77       0                 1   \n",
       "9997               1         42085.58       1                 1   \n",
       "9998               0         92888.52       1                 0   \n",
       "9999               0         38190.78       0                 1   \n",
       "\n",
       "      Geography_Germany  Geography_Spain  Gender_Female  Gender_Male  \n",
       "0                     0                0              1            0  \n",
       "1                     0                1              1            0  \n",
       "2                     0                0              1            0  \n",
       "3                     0                0              1            0  \n",
       "4                     0                1              1            0  \n",
       "...                 ...              ...            ...          ...  \n",
       "9995                  0                0              0            1  \n",
       "9996                  0                0              0            1  \n",
       "9997                  0                0              1            0  \n",
       "9998                  1                0              0            1  \n",
       "9999                  0                0              1            0  \n",
       "\n",
       "[10000 rows x 14 columns]"
      ]
     },
     "execution_count": 342,
     "metadata": {},
     "output_type": "execute_result"
    }
   ],
   "source": [
    "# удаляем столбец с фамилией и преобразуем категориальные признаки в численные прямым кодированием\n",
    "\n",
    "data_ohe=data.drop(['Surname','RowNumber','CustomerId'], axis=1)\n",
    "data_ohe = pd.get_dummies(data_ohe)\n",
    "data_ohe"
   ]
  },
  {
   "cell_type": "markdown",
   "metadata": {},
   "source": [
    "### Тестовые и обучающая выборки"
   ]
  },
  {
   "cell_type": "markdown",
   "metadata": {},
   "source": [
    "Создадим 2 тестовые и обучающую выборки"
   ]
  },
  {
   "cell_type": "code",
   "execution_count": 343,
   "metadata": {},
   "outputs": [],
   "source": [
    "# Создадим обучающую выборку и 2 тестовые в пропорции 3:1:1\n",
    "\n",
    "\n",
    "target = data_ohe['Exited']\n",
    "features = data_ohe.drop('Exited', axis=1)\n",
    "\n",
    "features_train, features_validtest, target_train, target_validtest = train_test_split(\n",
    "    features, target, test_size=0.4, random_state=12345)\n",
    "\n",
    "features_test, features_valid, target_test, target_valid = train_test_split(\n",
    "    features_validtest, target_validtest, test_size=0.5, random_state=12345)"
   ]
  },
  {
   "cell_type": "markdown",
   "metadata": {},
   "source": [
    "Проверим размеры выборок"
   ]
  },
  {
   "cell_type": "code",
   "execution_count": 344,
   "metadata": {},
   "outputs": [
    {
     "data": {
      "text/plain": [
       "(6000, 13)"
      ]
     },
     "execution_count": 344,
     "metadata": {},
     "output_type": "execute_result"
    }
   ],
   "source": [
    "features_train.shape"
   ]
  },
  {
   "cell_type": "code",
   "execution_count": 345,
   "metadata": {},
   "outputs": [
    {
     "data": {
      "text/plain": [
       "(6000,)"
      ]
     },
     "execution_count": 345,
     "metadata": {},
     "output_type": "execute_result"
    }
   ],
   "source": [
    "target_train.shape"
   ]
  },
  {
   "cell_type": "code",
   "execution_count": 346,
   "metadata": {},
   "outputs": [
    {
     "data": {
      "text/plain": [
       "(2000, 13)"
      ]
     },
     "execution_count": 346,
     "metadata": {},
     "output_type": "execute_result"
    }
   ],
   "source": [
    "features_test.shape"
   ]
  },
  {
   "cell_type": "code",
   "execution_count": 347,
   "metadata": {},
   "outputs": [
    {
     "data": {
      "text/plain": [
       "(2000,)"
      ]
     },
     "execution_count": 347,
     "metadata": {},
     "output_type": "execute_result"
    }
   ],
   "source": [
    "target_test.shape"
   ]
  },
  {
   "cell_type": "code",
   "execution_count": 348,
   "metadata": {},
   "outputs": [
    {
     "data": {
      "text/plain": [
       "(2000, 13)"
      ]
     },
     "execution_count": 348,
     "metadata": {},
     "output_type": "execute_result"
    }
   ],
   "source": [
    "features_valid.shape"
   ]
  },
  {
   "cell_type": "code",
   "execution_count": 349,
   "metadata": {},
   "outputs": [
    {
     "data": {
      "text/plain": [
       "(2000,)"
      ]
     },
     "execution_count": 349,
     "metadata": {},
     "output_type": "execute_result"
    }
   ],
   "source": [
    "target_valid.shape"
   ]
  },
  {
   "cell_type": "markdown",
   "metadata": {},
   "source": [
    "### Масштабирование признаков"
   ]
  },
  {
   "cell_type": "markdown",
   "metadata": {},
   "source": [
    "Масштабируем признаки с помощью стандартизации данных"
   ]
  },
  {
   "cell_type": "code",
   "execution_count": 350,
   "metadata": {},
   "outputs": [],
   "source": [
    "# В переменной numeric создадим список всех численных признаков и масштабируем признаки с помощью стандартизации данных\n",
    "\n",
    "\n",
    "numeric = ['CreditScore', 'Age', 'Tenure', 'Balance', 'NumOfProducts', 'EstimatedSalary']\n",
    "\n",
    "scaler.fit(features_train[numeric]) \n",
    "\n",
    "features_train[numeric] = scaler.transform(features_train[numeric])\n",
    "features_valid[numeric] = scaler.transform(features_valid[numeric])\n",
    "features_test[numeric] = scaler.transform(features_test[numeric])"
   ]
  },
  {
   "cell_type": "markdown",
   "metadata": {},
   "source": [
    "Проверим масштабирование"
   ]
  },
  {
   "cell_type": "code",
   "execution_count": 351,
   "metadata": {},
   "outputs": [
    {
     "data": {
      "text/html": [
       "<div>\n",
       "<style scoped>\n",
       "    .dataframe tbody tr th:only-of-type {\n",
       "        vertical-align: middle;\n",
       "    }\n",
       "\n",
       "    .dataframe tbody tr th {\n",
       "        vertical-align: top;\n",
       "    }\n",
       "\n",
       "    .dataframe thead th {\n",
       "        text-align: right;\n",
       "    }\n",
       "</style>\n",
       "<table border=\"1\" class=\"dataframe\">\n",
       "  <thead>\n",
       "    <tr style=\"text-align: right;\">\n",
       "      <th></th>\n",
       "      <th>CreditScore</th>\n",
       "      <th>Age</th>\n",
       "      <th>Tenure</th>\n",
       "      <th>Balance</th>\n",
       "      <th>NumOfProducts</th>\n",
       "      <th>HasCrCard</th>\n",
       "      <th>IsActiveMember</th>\n",
       "      <th>EstimatedSalary</th>\n",
       "      <th>Geography_France</th>\n",
       "      <th>Geography_Germany</th>\n",
       "      <th>Geography_Spain</th>\n",
       "      <th>Gender_Female</th>\n",
       "      <th>Gender_Male</th>\n",
       "    </tr>\n",
       "  </thead>\n",
       "  <tbody>\n",
       "    <tr>\n",
       "      <td>7479</td>\n",
       "      <td>-0.886751</td>\n",
       "      <td>-0.373192</td>\n",
       "      <td>1.104696</td>\n",
       "      <td>1.232271</td>\n",
       "      <td>-0.891560</td>\n",
       "      <td>1</td>\n",
       "      <td>0</td>\n",
       "      <td>-0.187705</td>\n",
       "      <td>0</td>\n",
       "      <td>0</td>\n",
       "      <td>1</td>\n",
       "      <td>0</td>\n",
       "      <td>1</td>\n",
       "    </tr>\n",
       "    <tr>\n",
       "      <td>3411</td>\n",
       "      <td>0.608663</td>\n",
       "      <td>-0.183385</td>\n",
       "      <td>1.104696</td>\n",
       "      <td>0.600563</td>\n",
       "      <td>-0.891560</td>\n",
       "      <td>0</td>\n",
       "      <td>0</td>\n",
       "      <td>-0.333945</td>\n",
       "      <td>1</td>\n",
       "      <td>0</td>\n",
       "      <td>0</td>\n",
       "      <td>1</td>\n",
       "      <td>0</td>\n",
       "    </tr>\n",
       "    <tr>\n",
       "      <td>6027</td>\n",
       "      <td>2.052152</td>\n",
       "      <td>0.480939</td>\n",
       "      <td>-0.503694</td>\n",
       "      <td>1.027098</td>\n",
       "      <td>0.830152</td>\n",
       "      <td>0</td>\n",
       "      <td>1</td>\n",
       "      <td>1.503095</td>\n",
       "      <td>0</td>\n",
       "      <td>1</td>\n",
       "      <td>0</td>\n",
       "      <td>0</td>\n",
       "      <td>1</td>\n",
       "    </tr>\n",
       "    <tr>\n",
       "      <td>1247</td>\n",
       "      <td>-1.457915</td>\n",
       "      <td>-1.417129</td>\n",
       "      <td>0.461340</td>\n",
       "      <td>-1.233163</td>\n",
       "      <td>0.830152</td>\n",
       "      <td>1</td>\n",
       "      <td>0</td>\n",
       "      <td>-1.071061</td>\n",
       "      <td>1</td>\n",
       "      <td>0</td>\n",
       "      <td>0</td>\n",
       "      <td>0</td>\n",
       "      <td>1</td>\n",
       "    </tr>\n",
       "    <tr>\n",
       "      <td>3716</td>\n",
       "      <td>0.130961</td>\n",
       "      <td>-1.132419</td>\n",
       "      <td>-0.825373</td>\n",
       "      <td>1.140475</td>\n",
       "      <td>-0.891560</td>\n",
       "      <td>0</td>\n",
       "      <td>0</td>\n",
       "      <td>1.524268</td>\n",
       "      <td>0</td>\n",
       "      <td>1</td>\n",
       "      <td>0</td>\n",
       "      <td>1</td>\n",
       "      <td>0</td>\n",
       "    </tr>\n",
       "  </tbody>\n",
       "</table>\n",
       "</div>"
      ],
      "text/plain": [
       "      CreditScore       Age    Tenure   Balance  NumOfProducts  HasCrCard  \\\n",
       "7479    -0.886751 -0.373192  1.104696  1.232271      -0.891560          1   \n",
       "3411     0.608663 -0.183385  1.104696  0.600563      -0.891560          0   \n",
       "6027     2.052152  0.480939 -0.503694  1.027098       0.830152          0   \n",
       "1247    -1.457915 -1.417129  0.461340 -1.233163       0.830152          1   \n",
       "3716     0.130961 -1.132419 -0.825373  1.140475      -0.891560          0   \n",
       "\n",
       "      IsActiveMember  EstimatedSalary  Geography_France  Geography_Germany  \\\n",
       "7479               0        -0.187705                 0                  0   \n",
       "3411               0        -0.333945                 1                  0   \n",
       "6027               1         1.503095                 0                  1   \n",
       "1247               0        -1.071061                 1                  0   \n",
       "3716               0         1.524268                 0                  1   \n",
       "\n",
       "      Geography_Spain  Gender_Female  Gender_Male  \n",
       "7479                1              0            1  \n",
       "3411                0              1            0  \n",
       "6027                0              0            1  \n",
       "1247                0              0            1  \n",
       "3716                0              1            0  "
      ]
     },
     "execution_count": 351,
     "metadata": {},
     "output_type": "execute_result"
    }
   ],
   "source": [
    "features_train.head()"
   ]
  },
  {
   "cell_type": "code",
   "execution_count": 352,
   "metadata": {},
   "outputs": [
    {
     "data": {
      "text/html": [
       "<div>\n",
       "<style scoped>\n",
       "    .dataframe tbody tr th:only-of-type {\n",
       "        vertical-align: middle;\n",
       "    }\n",
       "\n",
       "    .dataframe tbody tr th {\n",
       "        vertical-align: top;\n",
       "    }\n",
       "\n",
       "    .dataframe thead th {\n",
       "        text-align: right;\n",
       "    }\n",
       "</style>\n",
       "<table border=\"1\" class=\"dataframe\">\n",
       "  <thead>\n",
       "    <tr style=\"text-align: right;\">\n",
       "      <th></th>\n",
       "      <th>CreditScore</th>\n",
       "      <th>Age</th>\n",
       "      <th>Tenure</th>\n",
       "      <th>Balance</th>\n",
       "      <th>NumOfProducts</th>\n",
       "      <th>HasCrCard</th>\n",
       "      <th>IsActiveMember</th>\n",
       "      <th>EstimatedSalary</th>\n",
       "      <th>Geography_France</th>\n",
       "      <th>Geography_Germany</th>\n",
       "      <th>Geography_Spain</th>\n",
       "      <th>Gender_Female</th>\n",
       "      <th>Gender_Male</th>\n",
       "    </tr>\n",
       "  </thead>\n",
       "  <tbody>\n",
       "    <tr>\n",
       "      <td>7041</td>\n",
       "      <td>-2.226392</td>\n",
       "      <td>-0.088482</td>\n",
       "      <td>-0.825373</td>\n",
       "      <td>-1.233163</td>\n",
       "      <td>0.830152</td>\n",
       "      <td>1</td>\n",
       "      <td>0</td>\n",
       "      <td>0.647083</td>\n",
       "      <td>1</td>\n",
       "      <td>0</td>\n",
       "      <td>0</td>\n",
       "      <td>0</td>\n",
       "      <td>1</td>\n",
       "    </tr>\n",
       "    <tr>\n",
       "      <td>5709</td>\n",
       "      <td>-0.087120</td>\n",
       "      <td>0.006422</td>\n",
       "      <td>1.426375</td>\n",
       "      <td>-1.233163</td>\n",
       "      <td>-0.891560</td>\n",
       "      <td>1</td>\n",
       "      <td>0</td>\n",
       "      <td>-1.658410</td>\n",
       "      <td>1</td>\n",
       "      <td>0</td>\n",
       "      <td>0</td>\n",
       "      <td>1</td>\n",
       "      <td>0</td>\n",
       "    </tr>\n",
       "    <tr>\n",
       "      <td>7117</td>\n",
       "      <td>-0.917905</td>\n",
       "      <td>-0.752805</td>\n",
       "      <td>0.139662</td>\n",
       "      <td>0.722307</td>\n",
       "      <td>-0.891560</td>\n",
       "      <td>1</td>\n",
       "      <td>1</td>\n",
       "      <td>-1.369334</td>\n",
       "      <td>0</td>\n",
       "      <td>0</td>\n",
       "      <td>1</td>\n",
       "      <td>0</td>\n",
       "      <td>1</td>\n",
       "    </tr>\n",
       "    <tr>\n",
       "      <td>7775</td>\n",
       "      <td>-0.253277</td>\n",
       "      <td>0.101325</td>\n",
       "      <td>1.748053</td>\n",
       "      <td>-1.233163</td>\n",
       "      <td>0.830152</td>\n",
       "      <td>1</td>\n",
       "      <td>0</td>\n",
       "      <td>0.075086</td>\n",
       "      <td>0</td>\n",
       "      <td>0</td>\n",
       "      <td>1</td>\n",
       "      <td>0</td>\n",
       "      <td>1</td>\n",
       "    </tr>\n",
       "    <tr>\n",
       "      <td>8735</td>\n",
       "      <td>0.785204</td>\n",
       "      <td>-0.847708</td>\n",
       "      <td>1.748053</td>\n",
       "      <td>0.615625</td>\n",
       "      <td>-0.891560</td>\n",
       "      <td>0</td>\n",
       "      <td>1</td>\n",
       "      <td>-1.070919</td>\n",
       "      <td>1</td>\n",
       "      <td>0</td>\n",
       "      <td>0</td>\n",
       "      <td>0</td>\n",
       "      <td>1</td>\n",
       "    </tr>\n",
       "  </tbody>\n",
       "</table>\n",
       "</div>"
      ],
      "text/plain": [
       "      CreditScore       Age    Tenure   Balance  NumOfProducts  HasCrCard  \\\n",
       "7041    -2.226392 -0.088482 -0.825373 -1.233163       0.830152          1   \n",
       "5709    -0.087120  0.006422  1.426375 -1.233163      -0.891560          1   \n",
       "7117    -0.917905 -0.752805  0.139662  0.722307      -0.891560          1   \n",
       "7775    -0.253277  0.101325  1.748053 -1.233163       0.830152          1   \n",
       "8735     0.785204 -0.847708  1.748053  0.615625      -0.891560          0   \n",
       "\n",
       "      IsActiveMember  EstimatedSalary  Geography_France  Geography_Germany  \\\n",
       "7041               0         0.647083                 1                  0   \n",
       "5709               0        -1.658410                 1                  0   \n",
       "7117               1        -1.369334                 0                  0   \n",
       "7775               0         0.075086                 0                  0   \n",
       "8735               1        -1.070919                 1                  0   \n",
       "\n",
       "      Geography_Spain  Gender_Female  Gender_Male  \n",
       "7041                0              0            1  \n",
       "5709                0              1            0  \n",
       "7117                1              0            1  \n",
       "7775                1              0            1  \n",
       "8735                0              0            1  "
      ]
     },
     "execution_count": 352,
     "metadata": {},
     "output_type": "execute_result"
    }
   ],
   "source": [
    "features_valid.head()"
   ]
  },
  {
   "cell_type": "code",
   "execution_count": 353,
   "metadata": {},
   "outputs": [
    {
     "data": {
      "text/html": [
       "<div>\n",
       "<style scoped>\n",
       "    .dataframe tbody tr th:only-of-type {\n",
       "        vertical-align: middle;\n",
       "    }\n",
       "\n",
       "    .dataframe tbody tr th {\n",
       "        vertical-align: top;\n",
       "    }\n",
       "\n",
       "    .dataframe thead th {\n",
       "        text-align: right;\n",
       "    }\n",
       "</style>\n",
       "<table border=\"1\" class=\"dataframe\">\n",
       "  <thead>\n",
       "    <tr style=\"text-align: right;\">\n",
       "      <th></th>\n",
       "      <th>CreditScore</th>\n",
       "      <th>Age</th>\n",
       "      <th>Tenure</th>\n",
       "      <th>Balance</th>\n",
       "      <th>NumOfProducts</th>\n",
       "      <th>HasCrCard</th>\n",
       "      <th>IsActiveMember</th>\n",
       "      <th>EstimatedSalary</th>\n",
       "      <th>Geography_France</th>\n",
       "      <th>Geography_Germany</th>\n",
       "      <th>Geography_Spain</th>\n",
       "      <th>Gender_Female</th>\n",
       "      <th>Gender_Male</th>\n",
       "    </tr>\n",
       "  </thead>\n",
       "  <tbody>\n",
       "    <tr>\n",
       "      <td>8532</td>\n",
       "      <td>-0.699824</td>\n",
       "      <td>-0.373192</td>\n",
       "      <td>-0.825373</td>\n",
       "      <td>-1.233163</td>\n",
       "      <td>0.830152</td>\n",
       "      <td>1</td>\n",
       "      <td>0</td>\n",
       "      <td>-0.015173</td>\n",
       "      <td>1</td>\n",
       "      <td>0</td>\n",
       "      <td>0</td>\n",
       "      <td>1</td>\n",
       "      <td>0</td>\n",
       "    </tr>\n",
       "    <tr>\n",
       "      <td>5799</td>\n",
       "      <td>-0.284431</td>\n",
       "      <td>0.575842</td>\n",
       "      <td>-0.503694</td>\n",
       "      <td>-1.233163</td>\n",
       "      <td>-0.891560</td>\n",
       "      <td>1</td>\n",
       "      <td>1</td>\n",
       "      <td>1.471724</td>\n",
       "      <td>1</td>\n",
       "      <td>0</td>\n",
       "      <td>0</td>\n",
       "      <td>1</td>\n",
       "      <td>0</td>\n",
       "    </tr>\n",
       "    <tr>\n",
       "      <td>5511</td>\n",
       "      <td>0.151731</td>\n",
       "      <td>-0.657902</td>\n",
       "      <td>-1.468729</td>\n",
       "      <td>0.438711</td>\n",
       "      <td>-0.891560</td>\n",
       "      <td>1</td>\n",
       "      <td>0</td>\n",
       "      <td>-1.367107</td>\n",
       "      <td>0</td>\n",
       "      <td>1</td>\n",
       "      <td>0</td>\n",
       "      <td>0</td>\n",
       "      <td>1</td>\n",
       "    </tr>\n",
       "    <tr>\n",
       "      <td>7365</td>\n",
       "      <td>-0.876366</td>\n",
       "      <td>-0.278288</td>\n",
       "      <td>1.748053</td>\n",
       "      <td>1.239884</td>\n",
       "      <td>-0.891560</td>\n",
       "      <td>1</td>\n",
       "      <td>1</td>\n",
       "      <td>-0.786517</td>\n",
       "      <td>0</td>\n",
       "      <td>0</td>\n",
       "      <td>1</td>\n",
       "      <td>1</td>\n",
       "      <td>0</td>\n",
       "    </tr>\n",
       "    <tr>\n",
       "      <td>7367</td>\n",
       "      <td>-0.481743</td>\n",
       "      <td>0.291132</td>\n",
       "      <td>1.748053</td>\n",
       "      <td>-1.233163</td>\n",
       "      <td>0.830152</td>\n",
       "      <td>1</td>\n",
       "      <td>0</td>\n",
       "      <td>1.358533</td>\n",
       "      <td>0</td>\n",
       "      <td>0</td>\n",
       "      <td>1</td>\n",
       "      <td>0</td>\n",
       "      <td>1</td>\n",
       "    </tr>\n",
       "  </tbody>\n",
       "</table>\n",
       "</div>"
      ],
      "text/plain": [
       "      CreditScore       Age    Tenure   Balance  NumOfProducts  HasCrCard  \\\n",
       "8532    -0.699824 -0.373192 -0.825373 -1.233163       0.830152          1   \n",
       "5799    -0.284431  0.575842 -0.503694 -1.233163      -0.891560          1   \n",
       "5511     0.151731 -0.657902 -1.468729  0.438711      -0.891560          1   \n",
       "7365    -0.876366 -0.278288  1.748053  1.239884      -0.891560          1   \n",
       "7367    -0.481743  0.291132  1.748053 -1.233163       0.830152          1   \n",
       "\n",
       "      IsActiveMember  EstimatedSalary  Geography_France  Geography_Germany  \\\n",
       "8532               0        -0.015173                 1                  0   \n",
       "5799               1         1.471724                 1                  0   \n",
       "5511               0        -1.367107                 0                  1   \n",
       "7365               1        -0.786517                 0                  0   \n",
       "7367               0         1.358533                 0                  0   \n",
       "\n",
       "      Geography_Spain  Gender_Female  Gender_Male  \n",
       "8532                0              1            0  \n",
       "5799                0              1            0  \n",
       "5511                0              0            1  \n",
       "7365                1              1            0  \n",
       "7367                1              0            1  "
      ]
     },
     "execution_count": 353,
     "metadata": {},
     "output_type": "execute_result"
    }
   ],
   "source": [
    "features_test.head()"
   ]
  },
  {
   "cell_type": "markdown",
   "metadata": {},
   "source": [
    "## Исследование задачи"
   ]
  },
  {
   "cell_type": "markdown",
   "metadata": {},
   "source": [
    "Исследуем баланс классов, обучим модель без учёта дисбаланса. Кратко опишем выводы."
   ]
  },
  {
   "cell_type": "code",
   "execution_count": 354,
   "metadata": {},
   "outputs": [
    {
     "data": {
      "text/plain": [
       "0.7815"
      ]
     },
     "execution_count": 354,
     "metadata": {},
     "output_type": "execute_result"
    }
   ],
   "source": [
    "# обучим модель без учёта дисбаланса\n",
    "\n",
    "\n",
    "model = DecisionTreeClassifier(random_state=12345)\n",
    "model.fit(features_train,target_train)\n",
    "\n",
    "predicted_valid =model.predict(features_valid)\n",
    "\n",
    "accuracy_valid = accuracy_score(predicted_valid,target_valid)\n",
    "accuracy_valid"
   ]
  },
  {
   "cell_type": "markdown",
   "metadata": {},
   "source": [
    "Проверка адекватности модели"
   ]
  },
  {
   "cell_type": "code",
   "execution_count": 355,
   "metadata": {},
   "outputs": [
    {
     "data": {
      "text/plain": [
       "0    0.7963\n",
       "1    0.2037\n",
       "Name: Exited, dtype: float64"
      ]
     },
     "execution_count": 355,
     "metadata": {},
     "output_type": "execute_result"
    }
   ],
   "source": [
    "# посмотрим какой класс встречается чаще всего\n",
    "\n",
    "\n",
    "class_frequency =data['Exited'].value_counts(normalize=True)\n",
    "\n",
    "class_frequency"
   ]
  },
  {
   "cell_type": "code",
   "execution_count": 356,
   "metadata": {},
   "outputs": [
    {
     "data": {
      "text/plain": [
       "<matplotlib.axes._subplots.AxesSubplot at 0x7f3ec0601990>"
      ]
     },
     "execution_count": 356,
     "metadata": {},
     "output_type": "execute_result"
    },
    {
     "data": {
      "image/png": "[encoded data removed]",
      "text/plain": [
       "<Figure size 432x288 with 1 Axes>"
      ]
     },
     "metadata": {
      "needs_background": "light"
     },
     "output_type": "display_data"
    }
   ],
   "source": [
    "# построим гистограмму дисбаланса классов\n",
    "\n",
    "\n",
    "class_frequency.plot(kind='bar')"
   ]
  },
  {
   "cell_type": "code",
   "execution_count": 357,
   "metadata": {},
   "outputs": [
    {
     "data": {
      "text/plain": [
       "0.7963"
      ]
     },
     "execution_count": 357,
     "metadata": {},
     "output_type": "execute_result"
    }
   ],
   "source": [
    "# cоздадим константную модель и проверим ее accuracy\n",
    "\n",
    "\n",
    "target_pred_constant =pd.Series(0,index=data_ohe.index)\n",
    "\n",
    "accuracy_score(target, target_pred_constant)"
   ]
  },
  {
   "cell_type": "markdown",
   "metadata": {},
   "source": [
    "Вывод: как мы видим, константная модель справилась даже лучше. Проверку на адекватность  наша модель не прошла. Нужно бороться с дисбалансом классов."
   ]
  },
  {
   "cell_type": "markdown",
   "metadata": {},
   "source": [
    "<div class=\"alert alert-block alert-info\">\n",
    "<b>Совет: </b> Уже в этом шаге желательно было попробовать несколько разных моделей и реализовать подбор параметров.\n",
    "</div>"
   ]
  },
  {
   "cell_type": "markdown",
   "metadata": {},
   "source": [
    "## Борьба с дисбалансом"
   ]
  },
  {
   "cell_type": "markdown",
   "metadata": {},
   "source": [
    "Улучшим качество модели, учитывая дисбаланс классов. Обучим разные модели и найдем лучшую. Кратко опишем выводы."
   ]
  },
  {
   "cell_type": "markdown",
   "metadata": {},
   "source": [
    "### Взвешивание классов"
   ]
  },
  {
   "cell_type": "code",
   "execution_count": 358,
   "metadata": {},
   "outputs": [
    {
     "name": "stdout",
     "output_type": "stream",
     "text": [
      "F1: 0.2743055555555555\n"
     ]
    }
   ],
   "source": [
    "# Проверим значение F1-меры при не сбалансированных классах.\n",
    "\n",
    "model = LogisticRegression(random_state=12345, solver='liblinear')\n",
    "model.fit(features_train, target_train)\n",
    "predicted_valid = model.predict(features_valid)\n",
    "print(\"F1:\", f1_score(target_valid, predicted_valid))"
   ]
  },
  {
   "cell_type": "markdown",
   "metadata": {},
   "source": [
    "Придадим объектам редкого класса больший вес."
   ]
  },
  {
   "cell_type": "code",
   "execution_count": 359,
   "metadata": {},
   "outputs": [
    {
     "name": "stdout",
     "output_type": "stream",
     "text": [
      "F1: 0.4788245462402766\n"
     ]
    }
   ],
   "source": [
    "# Сделаем веса классов сбалансированными. Обратим внимание, как изменится значение F1-меры.\n",
    "\n",
    "model = LogisticRegression(random_state=12345, solver='liblinear',class_weight='balanced')\n",
    "model.fit(features_train, target_train)\n",
    "predicted_valid = model.predict(features_valid)\n",
    "print(\"F1:\", f1_score(target_valid, predicted_valid))"
   ]
  },
  {
   "cell_type": "markdown",
   "metadata": {},
   "source": [
    "значение F1-меры увеличилось почти в 2 раза\n"
   ]
  },
  {
   "cell_type": "markdown",
   "metadata": {},
   "source": [
    "### Увеличение выборки"
   ]
  },
  {
   "cell_type": "markdown",
   "metadata": {},
   "source": [
    "Проверим, эффективно ли будет увеличение выборки"
   ]
  },
  {
   "cell_type": "markdown",
   "metadata": {},
   "source": [
    "Лучший результат достигается при соотношении классов 1:1"
   ]
  },
  {
   "cell_type": "code",
   "execution_count": 360,
   "metadata": {},
   "outputs": [
    {
     "name": "stdout",
     "output_type": "stream",
     "text": [
      "F1: 0.486610558530987\n"
     ]
    }
   ],
   "source": [
    "# увеличим выборку и проверим значение F1-меры\n",
    "\n",
    "\n",
    "def upsample(features, target, repeat):\n",
    "    features_zeros = features[target == 0]\n",
    "    features_ones = features[target == 1]\n",
    "    target_zeros = target[target == 0]\n",
    "    target_ones = target[target == 1]\n",
    "\n",
    "    features_upsampled = pd.concat([features_zeros] + [features_ones] * repeat)\n",
    "    target_upsampled = pd.concat([target_zeros] + [target_ones] * repeat)\n",
    "    \n",
    "    features_upsampled, target_upsampled = shuffle(\n",
    "        features_upsampled, target_upsampled, random_state=12345)\n",
    "    \n",
    "    return features_upsampled, target_upsampled\n",
    "\n",
    "features_upsampled, target_upsampled = upsample(features_train, target_train, 5)\n",
    "\n",
    "model=LogisticRegression(random_state=12345,solver='liblinear')\n",
    "model.fit(features_upsampled,target_upsampled)\n",
    "predicted_valid=model.predict(features_valid)\n",
    "\n",
    "print(\"F1:\", f1_score(target_valid, predicted_valid))"
   ]
  },
  {
   "cell_type": "markdown",
   "metadata": {},
   "source": [
    "Как мы видим увеличение выборки привело к увеличению F1-меры, значение показателя увеличилось на 0.01"
   ]
  },
  {
   "cell_type": "markdown",
   "metadata": {},
   "source": [
    "### Уменьшение выборки"
   ]
  },
  {
   "cell_type": "markdown",
   "metadata": {},
   "source": [
    "Проверим, эффективно ли будет уменьшение выборки"
   ]
  },
  {
   "cell_type": "markdown",
   "metadata": {},
   "source": [
    "Лучший результат достигается при соотношении классов 1:1"
   ]
  },
  {
   "cell_type": "code",
   "execution_count": 361,
   "metadata": {},
   "outputs": [
    {
     "name": "stdout",
     "output_type": "stream",
     "text": [
      "F1: 0.4820747520976354\n"
     ]
    }
   ],
   "source": [
    "# уменьшим выборку и проверим значение F1-меры\n",
    "\n",
    "\n",
    "def downsample(features, target, fraction):\n",
    "    features_zeros = features[target == 0]\n",
    "    features_ones = features[target == 1]\n",
    "    target_zeros = target[target == 0]\n",
    "    target_ones = target[target == 1]\n",
    "\n",
    "    features_downsampled = pd.concat(\n",
    "        [features_zeros.sample(frac=fraction, random_state=12345)] + [features_ones])\n",
    "    target_downsampled = pd.concat(\n",
    "        [target_zeros.sample(frac=fraction, random_state=12345)] + [target_ones])\n",
    "    \n",
    "    features_downsampled, target_downsampled = shuffle(\n",
    "        features_downsampled, target_downsampled, random_state=12345)\n",
    "    \n",
    "    return features_downsampled, target_downsampled\n",
    "\n",
    "features_downsampled, target_downsampled = downsample(features_train, target_train, 0.2)\n",
    "\n",
    "model=LogisticRegression(random_state=12345,solver='liblinear')\n",
    "model.fit(features_downsampled,target_downsampled)\n",
    "predicted_valid=model.predict(features_valid)\n",
    "\n",
    "print(\"F1:\", f1_score(target_valid, predicted_valid))"
   ]
  },
  {
   "cell_type": "markdown",
   "metadata": {},
   "source": [
    "Как мы видим уменьшение выборки привело к увеличению F1-меры, однако оно меньше, чем при увеличении выборки."
   ]
  },
  {
   "cell_type": "markdown",
   "metadata": {},
   "source": [
    "Вывод: увеличение выборки дает более лучший результат."
   ]
  },
  {
   "cell_type": "markdown",
   "metadata": {},
   "source": [
    "### Проверка моделей на валидационной выборке"
   ]
  },
  {
   "cell_type": "code",
   "execution_count": 362,
   "metadata": {},
   "outputs": [
    {
     "name": "stdout",
     "output_type": "stream",
     "text": [
      "F1: 0.4784110535405872\n",
      "auc_roc: 0.7416961612781847\n"
     ]
    }
   ],
   "source": [
    "# проверим результаты логистической регрессии\n",
    "\n",
    "\n",
    "model=LogisticRegression(random_state=12345,solver='liblinear',class_weight='balanced')\n",
    "model.fit(features_upsampled,target_upsampled)\n",
    "predicted_valid=model.predict(features_valid)\n",
    "\n",
    "print(\"F1:\", f1_score(target_valid, predicted_valid))\n",
    "\n",
    "probabilities_valid = model.predict_proba(features_valid)\n",
    "probabilities_one_valid = probabilities_valid[:, 1]\n",
    "\n",
    "auc_roc= roc_auc_score(target_valid,probabilities_one_valid) \n",
    "\n",
    "print(\"auc_roc:\",auc_roc)"
   ]
  },
  {
   "cell_type": "code",
   "execution_count": 363,
   "metadata": {},
   "outputs": [
    {
     "name": "stdout",
     "output_type": "stream",
     "text": [
      "F1: 0.48609431680773885\n",
      "auc_roc: 0.6732259384683189\n"
     ]
    }
   ],
   "source": [
    "# проверим результаты дерева решений\n",
    "\n",
    "\n",
    "model=DecisionTreeClassifier(random_state=12345,class_weight='balanced')\n",
    "model.fit(features_upsampled,target_upsampled)\n",
    "predicted_valid=model.predict(features_valid)\n",
    "\n",
    "print(\"F1:\", f1_score(target_valid, predicted_valid))\n",
    "\n",
    "probabilities_valid = model.predict_proba(features_valid)\n",
    "probabilities_one_valid = probabilities_valid[:, 1]\n",
    "\n",
    "auc_roc= roc_auc_score(target_valid,probabilities_one_valid) \n",
    "\n",
    "print(\"auc_roc:\",auc_roc)"
   ]
  },
  {
   "cell_type": "code",
   "execution_count": 364,
   "metadata": {},
   "outputs": [
    {
     "name": "stdout",
     "output_type": "stream",
     "text": [
      "F1: 0.5669934640522877\n",
      "auc_roc: 0.8344479073441958\n"
     ]
    }
   ],
   "source": [
    "# проверим результаты модели случайного леса\n",
    "\n",
    "\n",
    "model=RandomForestClassifier(random_state=12345, max_depth=5,n_estimators=17)\n",
    "model.fit(features_upsampled,target_upsampled)\n",
    "predicted_valid=model.predict(features_valid)\n",
    "\n",
    "print(\"F1:\", f1_score(target_valid, predicted_valid))\n",
    "\n",
    "probabilities_valid = model.predict_proba(features_valid)\n",
    "probabilities_one_valid = probabilities_valid[:, 1]\n",
    "\n",
    "auc_roc= roc_auc_score(target_valid,probabilities_one_valid) \n",
    "\n",
    "print(\"auc_roc:\",auc_roc)"
   ]
  },
  {
   "cell_type": "markdown",
   "metadata": {},
   "source": [
    "Как мы видим, лучше всех справляется модель случайного леса, с ней и будем работать."
   ]
  },
  {
   "cell_type": "markdown",
   "metadata": {},
   "source": [
    "### Поиск лучшей модели"
   ]
  },
  {
   "cell_type": "markdown",
   "metadata": {},
   "source": [
    "Проверим лучшие показатели для модели случайного леса."
   ]
  },
  {
   "cell_type": "code",
   "execution_count": 365,
   "metadata": {},
   "outputs": [
    {
     "name": "stdout",
     "output_type": "stream",
     "text": [
      "F1 лучшей модели: 0.6130653266331659\n",
      "auc_roc лучшей модели: 0.8470027928061631\n",
      "depth лучшей модели: 8\n",
      "est лучшей модели: 17\n"
     ]
    }
   ],
   "source": [
    "# найдем подходящие параметры для модели случайного леса\n",
    "\n",
    "\n",
    "best_model_RandomForest = None\n",
    "best_result = 0\n",
    "for depth in range(1, 10):\n",
    "    for est in range(1, 18,1):\n",
    "        model = RandomForestClassifier(random_state=12345, max_depth=depth,n_estimators=est,class_weight='balanced')\n",
    "        model.fit(features_upsampled,target_upsampled)\n",
    "        predicted_valid=model.predict(features_valid) \n",
    "        result = f1_score(target_valid, predicted_valid)\n",
    "        \n",
    "        probabilities_valid = model.predict_proba(features_valid)\n",
    "        probabilities_one_valid = probabilities_valid[:, 1]\n",
    "        auc_roc= roc_auc_score(target_valid,probabilities_one_valid)\n",
    "        \n",
    "        if result > best_result:\n",
    "            best_model_RandomForest = model\n",
    "            best_result = result\n",
    "            best_auc_roc = auc_roc\n",
    "            best_depth =depth\n",
    "            best_est = est\n",
    "        \n",
    "print(\"F1 лучшей модели:\", best_result)\n",
    "print(\"auc_roc лучшей модели:\", best_auc_roc)\n",
    "print(\"depth лучшей модели:\", best_depth)\n",
    "print(\"est лучшей модели:\", best_est)"
   ]
  },
  {
   "cell_type": "markdown",
   "metadata": {},
   "source": [
    "Вывод: лучше всего с задачей справилась модель случайного леса, с учетом способов борьбы с дисбалансом (увеличения выборки и взвешивания классов)"
   ]
  },
  {
   "cell_type": "markdown",
   "metadata": {},
   "source": [
    "## Тестирование модели"
   ]
  },
  {
   "cell_type": "markdown",
   "metadata": {},
   "source": [
    "Проведем финальное тестирование."
   ]
  },
  {
   "cell_type": "code",
   "execution_count": 366,
   "metadata": {},
   "outputs": [
    {
     "name": "stdout",
     "output_type": "stream",
     "text": [
      "F1 лучшей модели: 0.5995934959349594\n",
      "auc_roc лучшей модели: 0.8358952993908745\n"
     ]
    }
   ],
   "source": [
    "# проведем тестировние лучшей модели случайного леса\n",
    "\n",
    "\n",
    "predicted_test=best_model_RandomForest.predict(features_test) \n",
    "result_f1 = f1_score(target_test, predicted_test)\n",
    "\n",
    "probabilities_test = model.predict_proba(features_test)\n",
    "probabilities_one_test = probabilities_test[:, 1]\n",
    "auc_roc= roc_auc_score(target_test,probabilities_one_test)\n",
    "\n",
    "print(\"F1 лучшей модели:\", result_f1)\n",
    "print(\"auc_roc лучшей модели:\", auc_roc)"
   ]
  },
  {
   "cell_type": "markdown",
   "metadata": {},
   "source": [
    "Как мы видим,  спомощью данной модели у нас получилось получить метрику f1 на тестовой выборке не менее 0.59, чего мы и добивались."
   ]
  },
  {
   "cell_type": "markdown",
   "metadata": {},
   "source": [
    "## Вывод"
   ]
  },
  {
   "cell_type": "markdown",
   "metadata": {},
   "source": [
    "Подводя итог нашей работы можно сделать вывод:"
   ]
  },
  {
   "cell_type": "markdown",
   "metadata": {},
   "source": [
    "Мы успешно подготовили данные: заменили пропуски, применили прямое кодирование, разделили выборки на тестовые и обучающую, масштабировали признаки."
   ]
  },
  {
   "cell_type": "markdown",
   "metadata": {},
   "source": [
    "Исследовали баланс классов и применили взвешивание классов и увеличение выборки, благодаря чему осуществили борьбу с дисбалансом."
   ]
  },
  {
   "cell_type": "markdown",
   "metadata": {},
   "source": [
    "После чего благополучно провели проверку моделей на валидационной выборке и нашли лучшую модель."
   ]
  },
  {
   "cell_type": "markdown",
   "metadata": {},
   "source": [
    "Которая на тестовой выборке показала f1=0.599 и auc_roc=0.846"
   ]
  },
  {
   "cell_type": "markdown",
   "metadata": {},
   "source": [
    "## Чек-лист готовности проекта"
   ]
  },
  {
   "cell_type": "markdown",
   "metadata": {},
   "source": [
    "Поставьте 'x' в выполненных пунктах. Далее нажмите Shift+Enter."
   ]
  },
  {
   "cell_type": "markdown",
   "metadata": {},
   "source": [
    "- [x]  Jupyter Notebook открыт\n",
    "- [x]  Весь код выполняется без ошибок\n",
    "- [x]  Ячейки с кодом расположены в порядке исполнения\n",
    "- [x]  Выполнен шаг 1: данные подготовлены\n",
    "- [x]  Выполнен шаг 2: задача исследована\n",
    "    - [x]  Исследован баланс классов\n",
    "    - [x]  Изучены модели без учёта дисбаланса\n",
    "    - [x]  Написаны выводы по результатам исследования\n",
    "- [x]  Выполнен шаг 3: учтён дисбаланс\n",
    "    - [x]  Применено несколько способов борьбы с дисбалансом\n",
    "    - [x]  Написаны выводы по результатам исследования\n",
    "- [x]  Выполнен шаг 4: проведено тестирование\n",
    "- [x]  Удалось достичь *F1*-меры не менее 0.59\n",
    "- [x]  Исследована метрика *AUC-ROC*"
   ]
  },
  {
   "cell_type": "code",
   "execution_count": null,
   "metadata": {},
   "outputs": [],
   "source": []
  }
 ],
 "metadata": {
  "ExecuteTimeLog": [
   {
    "duration": 1020,
    "start_time": "2022-01-16T15:46:59.088Z"
   },
   {
    "duration": 478,
    "start_time": "2022-01-16T15:47:00.110Z"
   },
   {
    "duration": 27,
    "start_time": "2022-01-16T15:47:01.826Z"
   },
   {
    "duration": 8,
    "start_time": "2022-01-16T15:47:02.825Z"
   },
   {
    "duration": 401,
    "start_time": "2022-01-16T15:55:40.657Z"
   },
   {
    "duration": 21,
    "start_time": "2022-01-16T15:56:02.194Z"
   },
   {
    "duration": 323,
    "start_time": "2022-01-16T15:57:32.039Z"
   },
   {
    "duration": 29,
    "start_time": "2022-01-16T15:57:48.530Z"
   },
   {
    "duration": 18,
    "start_time": "2022-01-16T15:57:49.767Z"
   },
   {
    "duration": 7,
    "start_time": "2022-01-16T15:57:51.032Z"
   },
   {
    "duration": 19,
    "start_time": "2022-01-16T15:57:52.992Z"
   },
   {
    "duration": 8,
    "start_time": "2022-01-16T15:58:14.972Z"
   },
   {
    "duration": 353,
    "start_time": "2022-01-16T16:07:53.425Z"
   },
   {
    "duration": 28,
    "start_time": "2022-01-16T16:08:21.638Z"
   },
   {
    "duration": 8997,
    "start_time": "2022-01-16T16:11:42.525Z"
   },
   {
    "duration": 2,
    "start_time": "2022-01-16T16:12:04.460Z"
   },
   {
    "duration": 27,
    "start_time": "2022-01-16T16:12:04.670Z"
   },
   {
    "duration": 17,
    "start_time": "2022-01-16T16:12:04.836Z"
   },
   {
    "duration": 7,
    "start_time": "2022-01-16T16:12:05.048Z"
   },
   {
    "duration": 7,
    "start_time": "2022-01-16T16:12:05.452Z"
   },
   {
    "duration": 8776,
    "start_time": "2022-01-16T16:12:07.222Z"
   },
   {
    "duration": 27,
    "start_time": "2022-01-16T16:13:04.921Z"
   },
   {
    "duration": 26,
    "start_time": "2022-01-16T16:16:12.505Z"
   },
   {
    "duration": 10,
    "start_time": "2022-01-16T16:32:58.725Z"
   },
   {
    "duration": 381,
    "start_time": "2022-01-16T16:32:59.907Z"
   },
   {
    "duration": 15,
    "start_time": "2022-01-16T16:33:32.981Z"
   },
   {
    "duration": 385,
    "start_time": "2022-01-16T16:33:51.513Z"
   },
   {
    "duration": 4,
    "start_time": "2022-01-16T16:34:44.134Z"
   },
   {
    "duration": 4,
    "start_time": "2022-01-16T16:34:53.233Z"
   },
   {
    "duration": 4,
    "start_time": "2022-01-16T16:34:54.041Z"
   },
   {
    "duration": 4,
    "start_time": "2022-01-16T16:34:54.400Z"
   },
   {
    "duration": 3,
    "start_time": "2022-01-16T16:34:54.672Z"
   },
   {
    "duration": 4,
    "start_time": "2022-01-16T16:34:55.052Z"
   },
   {
    "duration": 98,
    "start_time": "2022-01-16T16:42:22.920Z"
   },
   {
    "duration": 375,
    "start_time": "2022-01-16T16:42:27.680Z"
   },
   {
    "duration": 3,
    "start_time": "2022-01-16T16:42:34.896Z"
   },
   {
    "duration": 3,
    "start_time": "2022-01-16T16:42:35.122Z"
   },
   {
    "duration": 2,
    "start_time": "2022-01-16T16:42:35.316Z"
   },
   {
    "duration": 27,
    "start_time": "2022-01-16T16:42:35.527Z"
   },
   {
    "duration": 17,
    "start_time": "2022-01-16T16:42:35.741Z"
   },
   {
    "duration": 8,
    "start_time": "2022-01-16T16:42:35.928Z"
   },
   {
    "duration": 8,
    "start_time": "2022-01-16T16:42:36.482Z"
   },
   {
    "duration": 28,
    "start_time": "2022-01-16T16:42:37.231Z"
   },
   {
    "duration": 10,
    "start_time": "2022-01-16T16:42:37.908Z"
   },
   {
    "duration": 3,
    "start_time": "2022-01-16T16:42:38.336Z"
   },
   {
    "duration": 4,
    "start_time": "2022-01-16T16:42:38.753Z"
   },
   {
    "duration": 4,
    "start_time": "2022-01-16T16:42:39.097Z"
   },
   {
    "duration": 3,
    "start_time": "2022-01-16T16:42:39.476Z"
   },
   {
    "duration": 4,
    "start_time": "2022-01-16T16:42:39.879Z"
   },
   {
    "duration": 3,
    "start_time": "2022-01-16T16:42:40.159Z"
   },
   {
    "duration": 17,
    "start_time": "2022-01-16T16:42:43.014Z"
   },
   {
    "duration": 12,
    "start_time": "2022-01-16T16:42:45.089Z"
   },
   {
    "duration": 11,
    "start_time": "2022-01-16T16:42:45.750Z"
   },
   {
    "duration": 17,
    "start_time": "2022-01-16T16:43:26.284Z"
   },
   {
    "duration": 11,
    "start_time": "2022-01-16T16:43:47.995Z"
   },
   {
    "duration": 17,
    "start_time": "2022-01-16T16:43:53.307Z"
   },
   {
    "duration": 98,
    "start_time": "2022-01-16T16:46:12.067Z"
   },
   {
    "duration": 313,
    "start_time": "2022-01-16T16:46:16.648Z"
   },
   {
    "duration": 27,
    "start_time": "2022-01-16T16:46:44.596Z"
   },
   {
    "duration": 26,
    "start_time": "2022-01-16T16:46:50.497Z"
   },
   {
    "duration": 10,
    "start_time": "2022-01-16T16:46:51.863Z"
   },
   {
    "duration": 3,
    "start_time": "2022-01-16T16:46:53.006Z"
   },
   {
    "duration": 3,
    "start_time": "2022-01-16T16:46:54.023Z"
   },
   {
    "duration": 4,
    "start_time": "2022-01-16T16:46:54.280Z"
   },
   {
    "duration": 3,
    "start_time": "2022-01-16T16:46:55.011Z"
   },
   {
    "duration": 4,
    "start_time": "2022-01-16T16:46:55.291Z"
   },
   {
    "duration": 3,
    "start_time": "2022-01-16T16:46:55.537Z"
   },
   {
    "duration": 17,
    "start_time": "2022-01-16T16:46:59.091Z"
   },
   {
    "duration": 16,
    "start_time": "2022-01-16T16:46:59.747Z"
   },
   {
    "duration": 16,
    "start_time": "2022-01-16T16:47:04.864Z"
   },
   {
    "duration": 15,
    "start_time": "2022-01-16T16:47:05.182Z"
   },
   {
    "duration": 11,
    "start_time": "2022-01-16T16:51:55.678Z"
   },
   {
    "duration": 11,
    "start_time": "2022-01-16T16:51:58.623Z"
   },
   {
    "duration": 325,
    "start_time": "2022-01-16T16:57:09.507Z"
   },
   {
    "duration": 3,
    "start_time": "2022-01-16T16:59:03.957Z"
   },
   {
    "duration": 2,
    "start_time": "2022-01-16T16:59:04.755Z"
   },
   {
    "duration": 2,
    "start_time": "2022-01-16T16:59:04.935Z"
   },
   {
    "duration": 29,
    "start_time": "2022-01-16T16:59:05.114Z"
   },
   {
    "duration": 18,
    "start_time": "2022-01-16T16:59:05.276Z"
   },
   {
    "duration": 8,
    "start_time": "2022-01-16T16:59:05.553Z"
   },
   {
    "duration": 10,
    "start_time": "2022-01-16T16:59:06.068Z"
   },
   {
    "duration": 37,
    "start_time": "2022-01-16T16:59:07.005Z"
   },
   {
    "duration": 10,
    "start_time": "2022-01-16T16:59:07.471Z"
   },
   {
    "duration": 5,
    "start_time": "2022-01-16T16:59:07.795Z"
   },
   {
    "duration": 4,
    "start_time": "2022-01-16T16:59:08.004Z"
   },
   {
    "duration": 3,
    "start_time": "2022-01-16T16:59:08.163Z"
   },
   {
    "duration": 3,
    "start_time": "2022-01-16T16:59:08.418Z"
   },
   {
    "duration": 3,
    "start_time": "2022-01-16T16:59:08.559Z"
   },
   {
    "duration": 4,
    "start_time": "2022-01-16T16:59:08.718Z"
   },
   {
    "duration": 18,
    "start_time": "2022-01-16T16:59:09.648Z"
   },
   {
    "duration": 16,
    "start_time": "2022-01-16T16:59:10.064Z"
   },
   {
    "duration": 15,
    "start_time": "2022-01-16T16:59:10.669Z"
   },
   {
    "duration": 347,
    "start_time": "2022-01-16T16:59:13.756Z"
   },
   {
    "duration": 3,
    "start_time": "2022-01-16T16:59:40.070Z"
   },
   {
    "duration": 3,
    "start_time": "2022-01-16T16:59:40.078Z"
   },
   {
    "duration": 3,
    "start_time": "2022-01-16T16:59:40.083Z"
   },
   {
    "duration": 28,
    "start_time": "2022-01-16T16:59:40.097Z"
   },
   {
    "duration": 17,
    "start_time": "2022-01-16T16:59:40.127Z"
   },
   {
    "duration": 7,
    "start_time": "2022-01-16T16:59:40.146Z"
   },
   {
    "duration": 9,
    "start_time": "2022-01-16T16:59:40.154Z"
   },
   {
    "duration": 26,
    "start_time": "2022-01-16T16:59:40.165Z"
   },
   {
    "duration": 12,
    "start_time": "2022-01-16T16:59:40.227Z"
   },
   {
    "duration": 10,
    "start_time": "2022-01-16T16:59:40.241Z"
   },
   {
    "duration": 8,
    "start_time": "2022-01-16T16:59:40.253Z"
   },
   {
    "duration": 4,
    "start_time": "2022-01-16T16:59:40.264Z"
   },
   {
    "duration": 5,
    "start_time": "2022-01-16T16:59:40.269Z"
   },
   {
    "duration": 8,
    "start_time": "2022-01-16T16:59:40.275Z"
   },
   {
    "duration": 42,
    "start_time": "2022-01-16T16:59:40.285Z"
   },
   {
    "duration": 18,
    "start_time": "2022-01-16T16:59:40.329Z"
   },
   {
    "duration": 10,
    "start_time": "2022-01-16T16:59:40.348Z"
   },
   {
    "duration": 12,
    "start_time": "2022-01-16T16:59:40.360Z"
   },
   {
    "duration": 59,
    "start_time": "2022-01-16T16:59:40.373Z"
   },
   {
    "duration": 191,
    "start_time": "2022-01-16T17:02:04.732Z"
   },
   {
    "duration": 7,
    "start_time": "2022-01-16T17:02:20.396Z"
   },
   {
    "duration": 125,
    "start_time": "2022-01-16T17:02:21.412Z"
   },
   {
    "duration": 5,
    "start_time": "2022-01-16T17:05:29.066Z"
   },
   {
    "duration": 3,
    "start_time": "2022-01-16T17:49:24.981Z"
   },
   {
    "duration": 3,
    "start_time": "2022-01-16T17:49:24.989Z"
   },
   {
    "duration": 5,
    "start_time": "2022-01-16T17:49:24.994Z"
   },
   {
    "duration": 31,
    "start_time": "2022-01-16T17:49:25.001Z"
   },
   {
    "duration": 18,
    "start_time": "2022-01-16T17:49:25.033Z"
   },
   {
    "duration": 7,
    "start_time": "2022-01-16T17:49:25.053Z"
   },
   {
    "duration": 7,
    "start_time": "2022-01-16T17:49:25.062Z"
   },
   {
    "duration": 25,
    "start_time": "2022-01-16T17:49:25.070Z"
   },
   {
    "duration": 37,
    "start_time": "2022-01-16T17:49:25.096Z"
   },
   {
    "duration": 3,
    "start_time": "2022-01-16T17:49:25.134Z"
   },
   {
    "duration": 4,
    "start_time": "2022-01-16T17:49:25.139Z"
   },
   {
    "duration": 5,
    "start_time": "2022-01-16T17:49:25.144Z"
   },
   {
    "duration": 5,
    "start_time": "2022-01-16T17:49:25.150Z"
   },
   {
    "duration": 5,
    "start_time": "2022-01-16T17:49:25.156Z"
   },
   {
    "duration": 4,
    "start_time": "2022-01-16T17:49:25.162Z"
   },
   {
    "duration": 62,
    "start_time": "2022-01-16T17:49:25.167Z"
   },
   {
    "duration": 9,
    "start_time": "2022-01-16T17:49:25.231Z"
   },
   {
    "duration": 11,
    "start_time": "2022-01-16T17:49:25.242Z"
   },
   {
    "duration": 34,
    "start_time": "2022-01-16T17:49:25.500Z"
   },
   {
    "duration": 5,
    "start_time": "2022-01-16T17:49:25.536Z"
   },
   {
    "duration": 157,
    "start_time": "2022-01-16T17:49:25.543Z"
   },
   {
    "duration": 7,
    "start_time": "2022-01-16T17:49:25.702Z"
   },
   {
    "duration": 332,
    "start_time": "2022-01-16T17:50:10.162Z"
   },
   {
    "duration": 334,
    "start_time": "2022-01-16T17:50:42.010Z"
   },
   {
    "duration": 1100,
    "start_time": "2022-01-22T15:43:58.631Z"
   },
   {
    "duration": 2,
    "start_time": "2022-01-22T15:43:59.733Z"
   },
   {
    "duration": 5,
    "start_time": "2022-01-22T15:43:59.736Z"
   },
   {
    "duration": 29,
    "start_time": "2022-01-22T15:43:59.742Z"
   },
   {
    "duration": 24,
    "start_time": "2022-01-22T15:43:59.772Z"
   },
   {
    "duration": 6,
    "start_time": "2022-01-22T15:43:59.798Z"
   },
   {
    "duration": 24,
    "start_time": "2022-01-22T15:43:59.806Z"
   },
   {
    "duration": 26,
    "start_time": "2022-01-22T15:43:59.832Z"
   },
   {
    "duration": 8,
    "start_time": "2022-01-22T15:43:59.860Z"
   },
   {
    "duration": 3,
    "start_time": "2022-01-22T15:43:59.870Z"
   },
   {
    "duration": 4,
    "start_time": "2022-01-22T15:43:59.874Z"
   },
   {
    "duration": 4,
    "start_time": "2022-01-22T15:43:59.880Z"
   },
   {
    "duration": 5,
    "start_time": "2022-01-22T15:43:59.885Z"
   },
   {
    "duration": 36,
    "start_time": "2022-01-22T15:43:59.891Z"
   },
   {
    "duration": 4,
    "start_time": "2022-01-22T15:43:59.928Z"
   },
   {
    "duration": 17,
    "start_time": "2022-01-22T15:43:59.933Z"
   },
   {
    "duration": 10,
    "start_time": "2022-01-22T15:43:59.952Z"
   },
   {
    "duration": 10,
    "start_time": "2022-01-22T15:43:59.963Z"
   },
   {
    "duration": 58,
    "start_time": "2022-01-22T15:43:59.975Z"
   },
   {
    "duration": 10,
    "start_time": "2022-01-22T15:44:00.034Z"
   },
   {
    "duration": 189,
    "start_time": "2022-01-22T15:44:00.046Z"
   },
   {
    "duration": 4,
    "start_time": "2022-01-22T15:44:00.237Z"
   },
   {
    "duration": 463,
    "start_time": "2022-01-22T15:59:13.622Z"
   },
   {
    "duration": 3,
    "start_time": "2022-01-22T16:00:53.350Z"
   },
   {
    "duration": 4,
    "start_time": "2022-01-22T16:00:53.356Z"
   },
   {
    "duration": 5,
    "start_time": "2022-01-22T16:00:53.362Z"
   },
   {
    "duration": 30,
    "start_time": "2022-01-22T16:00:53.368Z"
   },
   {
    "duration": 18,
    "start_time": "2022-01-22T16:00:53.400Z"
   },
   {
    "duration": 8,
    "start_time": "2022-01-22T16:00:53.419Z"
   },
   {
    "duration": 8,
    "start_time": "2022-01-22T16:00:53.429Z"
   },
   {
    "duration": 26,
    "start_time": "2022-01-22T16:00:53.453Z"
   },
   {
    "duration": 9,
    "start_time": "2022-01-22T16:00:53.481Z"
   },
   {
    "duration": 2,
    "start_time": "2022-01-22T16:00:53.492Z"
   },
   {
    "duration": 4,
    "start_time": "2022-01-22T16:00:53.496Z"
   },
   {
    "duration": 6,
    "start_time": "2022-01-22T16:00:53.502Z"
   },
   {
    "duration": 21,
    "start_time": "2022-01-22T16:00:53.509Z"
   },
   {
    "duration": 7,
    "start_time": "2022-01-22T16:00:53.531Z"
   },
   {
    "duration": 4,
    "start_time": "2022-01-22T16:00:53.539Z"
   },
   {
    "duration": 18,
    "start_time": "2022-01-22T16:00:53.545Z"
   },
   {
    "duration": 10,
    "start_time": "2022-01-22T16:00:53.565Z"
   },
   {
    "duration": 10,
    "start_time": "2022-01-22T16:00:53.576Z"
   },
   {
    "duration": 62,
    "start_time": "2022-01-22T16:00:53.587Z"
   },
   {
    "duration": 7,
    "start_time": "2022-01-22T16:00:53.650Z"
   },
   {
    "duration": 131,
    "start_time": "2022-01-22T16:00:53.658Z"
   },
   {
    "duration": 6,
    "start_time": "2022-01-22T16:00:53.791Z"
   },
   {
    "duration": 37,
    "start_time": "2022-01-22T16:00:53.800Z"
   },
   {
    "duration": 36,
    "start_time": "2022-01-22T16:01:37.196Z"
   },
   {
    "duration": 18,
    "start_time": "2022-01-22T16:01:58.072Z"
   },
   {
    "duration": 19,
    "start_time": "2022-01-22T16:06:14.273Z"
   },
   {
    "duration": 19,
    "start_time": "2022-01-22T16:06:15.413Z"
   },
   {
    "duration": 599,
    "start_time": "2022-01-22T16:15:12.576Z"
   },
   {
    "duration": 3,
    "start_time": "2022-01-22T16:15:57.798Z"
   },
   {
    "duration": 4,
    "start_time": "2022-01-22T16:15:57.804Z"
   },
   {
    "duration": 4,
    "start_time": "2022-01-22T16:15:57.810Z"
   },
   {
    "duration": 30,
    "start_time": "2022-01-22T16:15:57.816Z"
   },
   {
    "duration": 17,
    "start_time": "2022-01-22T16:15:57.848Z"
   },
   {
    "duration": 7,
    "start_time": "2022-01-22T16:15:57.867Z"
   },
   {
    "duration": 8,
    "start_time": "2022-01-22T16:15:57.875Z"
   },
   {
    "duration": 43,
    "start_time": "2022-01-22T16:15:57.885Z"
   },
   {
    "duration": 10,
    "start_time": "2022-01-22T16:15:57.929Z"
   },
   {
    "duration": 5,
    "start_time": "2022-01-22T16:15:57.940Z"
   },
   {
    "duration": 4,
    "start_time": "2022-01-22T16:15:57.947Z"
   },
   {
    "duration": 5,
    "start_time": "2022-01-22T16:15:57.953Z"
   },
   {
    "duration": 5,
    "start_time": "2022-01-22T16:15:57.959Z"
   },
   {
    "duration": 4,
    "start_time": "2022-01-22T16:15:57.966Z"
   },
   {
    "duration": 5,
    "start_time": "2022-01-22T16:15:57.971Z"
   },
   {
    "duration": 50,
    "start_time": "2022-01-22T16:15:57.978Z"
   },
   {
    "duration": 10,
    "start_time": "2022-01-22T16:15:58.030Z"
   },
   {
    "duration": 13,
    "start_time": "2022-01-22T16:15:58.041Z"
   },
   {
    "duration": 32,
    "start_time": "2022-01-22T16:15:58.056Z"
   },
   {
    "duration": 5,
    "start_time": "2022-01-22T16:15:58.089Z"
   },
   {
    "duration": 138,
    "start_time": "2022-01-22T16:15:58.096Z"
   },
   {
    "duration": 5,
    "start_time": "2022-01-22T16:15:58.235Z"
   },
   {
    "duration": 91,
    "start_time": "2022-01-22T16:15:58.241Z"
   },
   {
    "duration": 109,
    "start_time": "2022-01-22T16:15:58.334Z"
   },
   {
    "duration": 218,
    "start_time": "2022-01-22T16:15:58.445Z"
   },
   {
    "duration": 47,
    "start_time": "2022-01-22T16:18:13.034Z"
   },
   {
    "duration": 20,
    "start_time": "2022-01-22T16:20:46.954Z"
   },
   {
    "duration": 36,
    "start_time": "2022-01-22T16:22:05.858Z"
   },
   {
    "duration": 29,
    "start_time": "2022-01-22T16:22:17.213Z"
   },
   {
    "duration": 58,
    "start_time": "2022-01-22T16:22:21.772Z"
   },
   {
    "duration": 33,
    "start_time": "2022-01-22T16:22:25.685Z"
   },
   {
    "duration": 43,
    "start_time": "2022-01-22T16:22:29.987Z"
   },
   {
    "duration": 39,
    "start_time": "2022-01-22T16:22:34.580Z"
   },
   {
    "duration": 41,
    "start_time": "2022-01-22T16:22:38.630Z"
   },
   {
    "duration": 36,
    "start_time": "2022-01-22T16:22:41.953Z"
   },
   {
    "duration": 21,
    "start_time": "2022-01-22T16:23:38.793Z"
   },
   {
    "duration": 23,
    "start_time": "2022-01-22T16:23:43.522Z"
   },
   {
    "duration": 22,
    "start_time": "2022-01-22T16:23:46.808Z"
   },
   {
    "duration": 25,
    "start_time": "2022-01-22T16:23:50.185Z"
   },
   {
    "duration": 25,
    "start_time": "2022-01-22T16:23:55.299Z"
   },
   {
    "duration": 24,
    "start_time": "2022-01-22T16:24:03.222Z"
   },
   {
    "duration": 21,
    "start_time": "2022-01-22T16:24:08.766Z"
   },
   {
    "duration": 22,
    "start_time": "2022-01-22T16:24:12.329Z"
   },
   {
    "duration": 22,
    "start_time": "2022-01-22T16:24:18.945Z"
   },
   {
    "duration": 21,
    "start_time": "2022-01-22T16:24:25.504Z"
   },
   {
    "duration": 105,
    "start_time": "2022-01-22T16:25:56.676Z"
   },
   {
    "duration": 395,
    "start_time": "2022-01-22T16:43:06.957Z"
   },
   {
    "duration": 4,
    "start_time": "2022-01-22T16:45:21.135Z"
   },
   {
    "duration": 4,
    "start_time": "2022-01-22T16:45:21.143Z"
   },
   {
    "duration": 4,
    "start_time": "2022-01-22T16:45:21.148Z"
   },
   {
    "duration": 29,
    "start_time": "2022-01-22T16:45:21.154Z"
   },
   {
    "duration": 17,
    "start_time": "2022-01-22T16:45:21.185Z"
   },
   {
    "duration": 7,
    "start_time": "2022-01-22T16:45:21.204Z"
   },
   {
    "duration": 20,
    "start_time": "2022-01-22T16:45:21.212Z"
   },
   {
    "duration": 24,
    "start_time": "2022-01-22T16:45:21.234Z"
   },
   {
    "duration": 9,
    "start_time": "2022-01-22T16:45:21.260Z"
   },
   {
    "duration": 3,
    "start_time": "2022-01-22T16:45:21.270Z"
   },
   {
    "duration": 5,
    "start_time": "2022-01-22T16:45:21.275Z"
   },
   {
    "duration": 50,
    "start_time": "2022-01-22T16:45:21.281Z"
   },
   {
    "duration": 4,
    "start_time": "2022-01-22T16:45:21.332Z"
   },
   {
    "duration": 4,
    "start_time": "2022-01-22T16:45:21.338Z"
   },
   {
    "duration": 6,
    "start_time": "2022-01-22T16:45:21.344Z"
   },
   {
    "duration": 20,
    "start_time": "2022-01-22T16:45:21.351Z"
   },
   {
    "duration": 12,
    "start_time": "2022-01-22T16:45:21.373Z"
   },
   {
    "duration": 49,
    "start_time": "2022-01-22T16:45:21.386Z"
   },
   {
    "duration": 34,
    "start_time": "2022-01-22T16:45:21.437Z"
   },
   {
    "duration": 6,
    "start_time": "2022-01-22T16:45:21.472Z"
   },
   {
    "duration": 138,
    "start_time": "2022-01-22T16:45:21.479Z"
   },
   {
    "duration": 4,
    "start_time": "2022-01-22T16:45:21.627Z"
   },
   {
    "duration": 99,
    "start_time": "2022-01-22T16:45:21.633Z"
   },
   {
    "duration": 112,
    "start_time": "2022-01-22T16:45:21.735Z"
   },
   {
    "duration": 208,
    "start_time": "2022-01-22T16:45:21.849Z"
   },
   {
    "duration": 113,
    "start_time": "2022-01-22T16:45:22.129Z"
   },
   {
    "duration": -898,
    "start_time": "2022-01-22T16:45:23.142Z"
   },
   {
    "duration": -904,
    "start_time": "2022-01-22T16:45:23.149Z"
   },
   {
    "duration": 3,
    "start_time": "2022-01-22T16:45:39.964Z"
   },
   {
    "duration": 5,
    "start_time": "2022-01-22T16:45:39.969Z"
   },
   {
    "duration": 4,
    "start_time": "2022-01-22T16:45:39.975Z"
   },
   {
    "duration": 30,
    "start_time": "2022-01-22T16:45:39.981Z"
   },
   {
    "duration": 19,
    "start_time": "2022-01-22T16:45:40.013Z"
   },
   {
    "duration": 8,
    "start_time": "2022-01-22T16:45:40.033Z"
   },
   {
    "duration": 7,
    "start_time": "2022-01-22T16:45:40.043Z"
   },
   {
    "duration": 25,
    "start_time": "2022-01-22T16:45:40.052Z"
   },
   {
    "duration": 8,
    "start_time": "2022-01-22T16:45:40.079Z"
   },
   {
    "duration": 38,
    "start_time": "2022-01-22T16:45:40.089Z"
   },
   {
    "duration": 3,
    "start_time": "2022-01-22T16:45:40.129Z"
   },
   {
    "duration": 5,
    "start_time": "2022-01-22T16:45:40.133Z"
   },
   {
    "duration": 4,
    "start_time": "2022-01-22T16:45:40.139Z"
   },
   {
    "duration": 3,
    "start_time": "2022-01-22T16:45:40.145Z"
   },
   {
    "duration": 3,
    "start_time": "2022-01-22T16:45:40.150Z"
   },
   {
    "duration": 22,
    "start_time": "2022-01-22T16:45:40.156Z"
   },
   {
    "duration": 48,
    "start_time": "2022-01-22T16:45:40.180Z"
   },
   {
    "duration": 11,
    "start_time": "2022-01-22T16:45:40.229Z"
   },
   {
    "duration": 34,
    "start_time": "2022-01-22T16:45:40.241Z"
   },
   {
    "duration": 6,
    "start_time": "2022-01-22T16:45:40.276Z"
   },
   {
    "duration": 149,
    "start_time": "2022-01-22T16:45:40.283Z"
   },
   {
    "duration": 5,
    "start_time": "2022-01-22T16:45:40.433Z"
   },
   {
    "duration": 90,
    "start_time": "2022-01-22T16:45:40.440Z"
   },
   {
    "duration": 107,
    "start_time": "2022-01-22T16:45:40.535Z"
   },
   {
    "duration": 206,
    "start_time": "2022-01-22T16:45:40.644Z"
   },
   {
    "duration": 183,
    "start_time": "2022-01-22T16:45:40.852Z"
   },
   {
    "duration": 198,
    "start_time": "2022-01-22T16:45:41.037Z"
   },
   {
    "duration": 64,
    "start_time": "2022-01-22T16:52:05.864Z"
   },
   {
    "duration": 34,
    "start_time": "2022-01-22T16:52:14.580Z"
   },
   {
    "duration": 37,
    "start_time": "2022-01-22T16:52:24.643Z"
   },
   {
    "duration": 48,
    "start_time": "2022-01-22T16:52:32.180Z"
   },
   {
    "duration": 45,
    "start_time": "2022-01-22T16:52:37.716Z"
   },
   {
    "duration": 43,
    "start_time": "2022-01-22T16:52:44.868Z"
   },
   {
    "duration": 43,
    "start_time": "2022-01-22T16:52:49.558Z"
   },
   {
    "duration": 27,
    "start_time": "2022-01-22T16:52:53.926Z"
   },
   {
    "duration": 34,
    "start_time": "2022-01-22T16:52:58.464Z"
   },
   {
    "duration": 36,
    "start_time": "2022-01-22T16:53:22.995Z"
   },
   {
    "duration": 26,
    "start_time": "2022-01-22T16:53:51.479Z"
   },
   {
    "duration": 26,
    "start_time": "2022-01-22T16:53:56.685Z"
   },
   {
    "duration": 323,
    "start_time": "2022-01-22T16:54:05.710Z"
   },
   {
    "duration": 629,
    "start_time": "2022-01-22T16:54:14.323Z"
   },
   {
    "duration": 67,
    "start_time": "2022-01-22T16:56:00.248Z"
   },
   {
    "duration": 44,
    "start_time": "2022-01-22T16:56:01.569Z"
   },
   {
    "duration": 408,
    "start_time": "2022-01-22T16:56:39.763Z"
   },
   {
    "duration": 597,
    "start_time": "2022-01-22T16:57:12.695Z"
   },
   {
    "duration": 606,
    "start_time": "2022-01-22T16:57:15.231Z"
   },
   {
    "duration": 598,
    "start_time": "2022-01-22T17:02:18.338Z"
   },
   {
    "duration": 284,
    "start_time": "2022-01-22T17:02:44.478Z"
   },
   {
    "duration": 606,
    "start_time": "2022-01-22T17:03:05.008Z"
   },
   {
    "duration": 104,
    "start_time": "2022-01-22T17:04:55.507Z"
   },
   {
    "duration": 25,
    "start_time": "2022-01-22T17:05:05.168Z"
   },
   {
    "duration": 320,
    "start_time": "2022-01-22T17:05:11.216Z"
   },
   {
    "duration": 41,
    "start_time": "2022-01-22T17:07:43.361Z"
   },
   {
    "duration": 54,
    "start_time": "2022-01-22T17:07:48.316Z"
   },
   {
    "duration": 42,
    "start_time": "2022-01-22T17:08:10.337Z"
   },
   {
    "duration": 27,
    "start_time": "2022-01-22T17:08:19.959Z"
   },
   {
    "duration": 345,
    "start_time": "2022-01-22T17:08:45.412Z"
   },
   {
    "duration": 326,
    "start_time": "2022-01-22T17:08:54.518Z"
   },
   {
    "duration": 366,
    "start_time": "2022-01-22T17:09:00.187Z"
   },
   {
    "duration": 41,
    "start_time": "2022-01-22T17:12:53.432Z"
   },
   {
    "duration": 53,
    "start_time": "2022-01-22T17:13:11.235Z"
   },
   {
    "duration": 41,
    "start_time": "2022-01-22T17:13:15.651Z"
   },
   {
    "duration": 358,
    "start_time": "2022-01-22T17:13:54.296Z"
   },
   {
    "duration": 4,
    "start_time": "2022-01-22T17:15:59.340Z"
   },
   {
    "duration": 99,
    "start_time": "2022-01-22T17:16:47.217Z"
   },
   {
    "duration": 99,
    "start_time": "2022-01-22T17:18:31.142Z"
   },
   {
    "duration": 56,
    "start_time": "2022-01-22T17:18:39.471Z"
   },
   {
    "duration": 44,
    "start_time": "2022-01-22T17:18:53.397Z"
   },
   {
    "duration": 383,
    "start_time": "2022-01-22T17:19:09.192Z"
   },
   {
    "duration": 103,
    "start_time": "2022-01-22T17:19:33.330Z"
   },
   {
    "duration": 111,
    "start_time": "2022-01-22T17:20:31.186Z"
   },
   {
    "duration": 150,
    "start_time": "2022-01-22T17:20:35.955Z"
   },
   {
    "duration": 43,
    "start_time": "2022-01-22T17:20:52.853Z"
   },
   {
    "duration": 111,
    "start_time": "2022-01-22T17:26:03.326Z"
   },
   {
    "duration": 3086,
    "start_time": "2022-01-22T21:17:22.670Z"
   },
   {
    "duration": 3088,
    "start_time": "2022-01-22T21:18:50.921Z"
   },
   {
    "duration": 55,
    "start_time": "2022-01-22T21:19:43.549Z"
   },
   {
    "duration": 56,
    "start_time": "2022-01-22T21:20:30.155Z"
   },
   {
    "duration": 59,
    "start_time": "2022-01-22T21:21:00.662Z"
   },
   {
    "duration": 1247,
    "start_time": "2022-01-22T21:21:08.469Z"
   },
   {
    "duration": 8156,
    "start_time": "2022-01-22T21:21:51.356Z"
   },
   {
    "duration": 3693,
    "start_time": "2022-01-22T21:23:41.180Z"
   },
   {
    "duration": 15,
    "start_time": "2022-01-22T21:29:29.943Z"
   },
   {
    "duration": 109,
    "start_time": "2022-01-22T21:31:28.125Z"
   },
   {
    "duration": 94,
    "start_time": "2022-01-22T21:31:51.608Z"
   },
   {
    "duration": 121,
    "start_time": "2022-01-22T21:32:03.001Z"
   },
   {
    "duration": 111,
    "start_time": "2022-01-22T21:32:18.254Z"
   },
   {
    "duration": 10508,
    "start_time": "2022-01-22T21:33:37.671Z"
   },
   {
    "duration": 15811,
    "start_time": "2022-01-22T21:34:41.992Z"
   },
   {
    "duration": 30275,
    "start_time": "2022-01-22T21:35:36.311Z"
   },
   {
    "duration": 43488,
    "start_time": "2022-01-22T21:37:07.951Z"
   },
   {
    "duration": 175905,
    "start_time": "2022-01-22T21:38:27.234Z"
   },
   {
    "duration": 302,
    "start_time": "2022-01-22T21:43:52.013Z"
   },
   {
    "duration": 128,
    "start_time": "2022-01-22T21:45:22.718Z"
   },
   {
    "duration": 179,
    "start_time": "2022-01-22T21:45:39.537Z"
   },
   {
    "duration": 120,
    "start_time": "2022-01-22T21:46:01.976Z"
   },
   {
    "duration": 32,
    "start_time": "2022-01-22T22:03:27.263Z"
   },
   {
    "duration": 38,
    "start_time": "2022-01-22T22:03:29.099Z"
   },
   {
    "duration": 24,
    "start_time": "2022-01-22T22:03:49.684Z"
   },
   {
    "duration": 32,
    "start_time": "2022-01-22T22:04:03.513Z"
   },
   {
    "duration": 333,
    "start_time": "2022-01-22T22:04:27.988Z"
   },
   {
    "duration": 113,
    "start_time": "2022-01-22T22:04:41.219Z"
   },
   {
    "duration": 18,
    "start_time": "2022-01-22T22:05:00.365Z"
   },
   {
    "duration": 31,
    "start_time": "2022-01-22T22:05:14.824Z"
   },
   {
    "duration": 46,
    "start_time": "2022-01-22T22:06:27.614Z"
   },
   {
    "duration": 106,
    "start_time": "2022-01-22T22:06:43.462Z"
   },
   {
    "duration": 48181,
    "start_time": "2022-01-22T22:07:53.932Z"
   },
   {
    "duration": 4772,
    "start_time": "2022-01-22T22:09:41.719Z"
   },
   {
    "duration": 4759,
    "start_time": "2022-01-22T22:10:55.539Z"
   },
   {
    "duration": 281,
    "start_time": "2022-01-22T22:11:10.784Z"
   },
   {
    "duration": 124,
    "start_time": "2022-01-22T22:11:27.222Z"
   },
   {
    "duration": 180,
    "start_time": "2022-01-22T22:11:46.371Z"
   },
   {
    "duration": 120,
    "start_time": "2022-01-22T22:12:26.417Z"
   },
   {
    "duration": 114,
    "start_time": "2022-01-22T22:12:48.785Z"
   },
   {
    "duration": 93,
    "start_time": "2022-01-22T22:13:01.654Z"
   },
   {
    "duration": 282133,
    "start_time": "2022-01-22T22:14:14.873Z"
   },
   {
    "duration": 3,
    "start_time": "2022-01-22T22:22:04.859Z"
   },
   {
    "duration": 4,
    "start_time": "2022-01-22T22:22:04.866Z"
   },
   {
    "duration": 4,
    "start_time": "2022-01-22T22:22:04.872Z"
   },
   {
    "duration": 30,
    "start_time": "2022-01-22T22:22:04.880Z"
   },
   {
    "duration": 18,
    "start_time": "2022-01-22T22:22:04.912Z"
   },
   {
    "duration": 7,
    "start_time": "2022-01-22T22:22:04.932Z"
   },
   {
    "duration": 10,
    "start_time": "2022-01-22T22:22:04.941Z"
   },
   {
    "duration": 28,
    "start_time": "2022-01-22T22:22:04.952Z"
   },
   {
    "duration": 9,
    "start_time": "2022-01-22T22:22:04.982Z"
   },
   {
    "duration": 3,
    "start_time": "2022-01-22T22:22:04.993Z"
   },
   {
    "duration": 4,
    "start_time": "2022-01-22T22:22:05.027Z"
   },
   {
    "duration": 5,
    "start_time": "2022-01-22T22:22:05.033Z"
   },
   {
    "duration": 15,
    "start_time": "2022-01-22T22:22:05.040Z"
   },
   {
    "duration": 9,
    "start_time": "2022-01-22T22:22:05.056Z"
   },
   {
    "duration": 8,
    "start_time": "2022-01-22T22:22:05.066Z"
   },
   {
    "duration": 30,
    "start_time": "2022-01-22T22:22:05.075Z"
   },
   {
    "duration": 27,
    "start_time": "2022-01-22T22:22:05.107Z"
   },
   {
    "duration": 11,
    "start_time": "2022-01-22T22:22:05.136Z"
   },
   {
    "duration": 35,
    "start_time": "2022-01-22T22:22:05.149Z"
   },
   {
    "duration": 5,
    "start_time": "2022-01-22T22:22:05.187Z"
   },
   {
    "duration": 148,
    "start_time": "2022-01-22T22:22:05.193Z"
   },
   {
    "duration": 5,
    "start_time": "2022-01-22T22:22:05.342Z"
   },
   {
    "duration": 86,
    "start_time": "2022-01-22T22:22:05.348Z"
   },
   {
    "duration": 196,
    "start_time": "2022-01-22T22:22:05.436Z"
   },
   {
    "duration": 199,
    "start_time": "2022-01-22T22:22:05.633Z"
   },
   {
    "duration": 194,
    "start_time": "2022-01-22T22:22:05.834Z"
   },
   {
    "duration": 200,
    "start_time": "2022-01-22T22:22:06.031Z"
   },
   {
    "duration": 292,
    "start_time": "2022-01-22T22:22:06.235Z"
   },
   {
    "duration": 134,
    "start_time": "2022-01-22T22:22:06.531Z"
   },
   {
    "duration": 114,
    "start_time": "2022-01-22T22:22:06.667Z"
   },
   {
    "duration": 15916,
    "start_time": "2022-01-22T22:22:06.783Z"
   },
   {
    "duration": 1,
    "start_time": "2022-01-22T22:22:22.700Z"
   },
   {
    "duration": 4,
    "start_time": "2022-01-22T22:22:47.574Z"
   },
   {
    "duration": 4,
    "start_time": "2022-01-22T22:22:47.582Z"
   },
   {
    "duration": 5,
    "start_time": "2022-01-22T22:22:47.588Z"
   },
   {
    "duration": 27,
    "start_time": "2022-01-22T22:22:47.595Z"
   },
   {
    "duration": 18,
    "start_time": "2022-01-22T22:22:47.624Z"
   },
   {
    "duration": 13,
    "start_time": "2022-01-22T22:22:47.644Z"
   },
   {
    "duration": 8,
    "start_time": "2022-01-22T22:22:47.659Z"
   },
   {
    "duration": 27,
    "start_time": "2022-01-22T22:22:47.668Z"
   },
   {
    "duration": 35,
    "start_time": "2022-01-22T22:22:47.697Z"
   },
   {
    "duration": 4,
    "start_time": "2022-01-22T22:22:47.733Z"
   },
   {
    "duration": 4,
    "start_time": "2022-01-22T22:22:47.739Z"
   },
   {
    "duration": 4,
    "start_time": "2022-01-22T22:22:47.745Z"
   },
   {
    "duration": 6,
    "start_time": "2022-01-22T22:22:47.751Z"
   },
   {
    "duration": 4,
    "start_time": "2022-01-22T22:22:47.758Z"
   },
   {
    "duration": 5,
    "start_time": "2022-01-22T22:22:47.764Z"
   },
   {
    "duration": 61,
    "start_time": "2022-01-22T22:22:47.770Z"
   },
   {
    "duration": 11,
    "start_time": "2022-01-22T22:22:47.832Z"
   },
   {
    "duration": 12,
    "start_time": "2022-01-22T22:22:47.845Z"
   },
   {
    "duration": 34,
    "start_time": "2022-01-22T22:22:47.858Z"
   },
   {
    "duration": 33,
    "start_time": "2022-01-22T22:22:47.894Z"
   },
   {
    "duration": 132,
    "start_time": "2022-01-22T22:22:47.929Z"
   },
   {
    "duration": 6,
    "start_time": "2022-01-22T22:22:48.062Z"
   },
   {
    "duration": 159,
    "start_time": "2022-01-22T22:22:48.069Z"
   },
   {
    "duration": 100,
    "start_time": "2022-01-22T22:22:48.230Z"
   },
   {
    "duration": 195,
    "start_time": "2022-01-22T22:22:48.332Z"
   },
   {
    "duration": 111,
    "start_time": "2022-01-22T22:22:48.533Z"
   },
   {
    "duration": 185,
    "start_time": "2022-01-22T22:22:48.647Z"
   },
   {
    "duration": 200,
    "start_time": "2022-01-22T22:22:48.834Z"
   },
   {
    "duration": 214,
    "start_time": "2022-01-22T22:22:49.037Z"
   },
   {
    "duration": 121,
    "start_time": "2022-01-22T22:22:49.252Z"
   },
   {
    "duration": 67319,
    "start_time": "2022-01-22T22:22:49.377Z"
   },
   {
    "duration": 47,
    "start_time": "2022-01-22T22:23:56.698Z"
   },
   {
    "duration": 133,
    "start_time": "2022-01-22T22:25:17.797Z"
   },
   {
    "duration": 49,
    "start_time": "2022-01-22T22:25:41.487Z"
   },
   {
    "duration": 104,
    "start_time": "2022-01-22T22:25:48.034Z"
   },
   {
    "duration": 93,
    "start_time": "2022-01-22T22:26:09.568Z"
   },
   {
    "duration": 10,
    "start_time": "2022-01-22T22:36:49.585Z"
   },
   {
    "duration": 105,
    "start_time": "2022-01-22T22:38:17.251Z"
   },
   {
    "duration": 104,
    "start_time": "2022-01-22T22:38:23.565Z"
   },
   {
    "duration": 96,
    "start_time": "2022-01-22T22:40:12.550Z"
   },
   {
    "duration": 94,
    "start_time": "2022-01-22T22:40:20.812Z"
   },
   {
    "duration": 97,
    "start_time": "2022-01-22T22:40:54.691Z"
   },
   {
    "duration": 97,
    "start_time": "2022-01-22T22:41:43.350Z"
   },
   {
    "duration": 90,
    "start_time": "2022-01-22T22:50:08.872Z"
   },
   {
    "duration": 92,
    "start_time": "2022-01-22T22:50:15.130Z"
   },
   {
    "duration": 90,
    "start_time": "2022-01-22T22:50:21.226Z"
   },
   {
    "duration": 91,
    "start_time": "2022-01-22T22:55:07.505Z"
   },
   {
    "duration": 92,
    "start_time": "2022-01-22T22:55:48.466Z"
   },
   {
    "duration": 96,
    "start_time": "2022-01-22T22:56:34.512Z"
   },
   {
    "duration": 93,
    "start_time": "2022-01-22T22:56:39.807Z"
   },
   {
    "duration": 93,
    "start_time": "2022-01-22T22:57:08.243Z"
   },
   {
    "duration": 103,
    "start_time": "2022-01-22T22:57:39.905Z"
   },
   {
    "duration": 100,
    "start_time": "2022-01-22T22:59:08.868Z"
   },
   {
    "duration": 96,
    "start_time": "2022-01-22T22:59:50.094Z"
   },
   {
    "duration": 101,
    "start_time": "2022-01-22T23:00:23.697Z"
   },
   {
    "duration": 3035,
    "start_time": "2022-01-22T23:10:16.950Z"
   },
   {
    "duration": 143,
    "start_time": "2022-01-22T23:11:21.139Z"
   },
   {
    "duration": 91,
    "start_time": "2022-01-22T23:11:33.839Z"
   },
   {
    "duration": 1602,
    "start_time": "2022-01-22T23:11:50.427Z"
   },
   {
    "duration": 7520,
    "start_time": "2022-01-22T23:13:06.042Z"
   },
   {
    "duration": 117,
    "start_time": "2022-01-22T23:13:21.755Z"
   },
   {
    "duration": 19,
    "start_time": "2022-01-22T23:22:22.008Z"
   },
   {
    "duration": 4,
    "start_time": "2022-01-22T23:34:08.923Z"
   },
   {
    "duration": 5,
    "start_time": "2022-01-22T23:34:08.928Z"
   },
   {
    "duration": 4,
    "start_time": "2022-01-22T23:34:08.935Z"
   },
   {
    "duration": 26,
    "start_time": "2022-01-22T23:34:08.940Z"
   },
   {
    "duration": 18,
    "start_time": "2022-01-22T23:34:08.968Z"
   },
   {
    "duration": 6,
    "start_time": "2022-01-22T23:34:08.988Z"
   },
   {
    "duration": 8,
    "start_time": "2022-01-22T23:34:08.996Z"
   },
   {
    "duration": 38,
    "start_time": "2022-01-22T23:34:09.005Z"
   },
   {
    "duration": 10,
    "start_time": "2022-01-22T23:34:09.044Z"
   },
   {
    "duration": 8,
    "start_time": "2022-01-22T23:34:09.055Z"
   },
   {
    "duration": 8,
    "start_time": "2022-01-22T23:34:09.064Z"
   },
   {
    "duration": 5,
    "start_time": "2022-01-22T23:34:09.074Z"
   },
   {
    "duration": 5,
    "start_time": "2022-01-22T23:34:09.081Z"
   },
   {
    "duration": 6,
    "start_time": "2022-01-22T23:34:09.087Z"
   },
   {
    "duration": 5,
    "start_time": "2022-01-22T23:34:09.094Z"
   },
   {
    "duration": 48,
    "start_time": "2022-01-22T23:34:09.101Z"
   },
   {
    "duration": 10,
    "start_time": "2022-01-22T23:34:09.150Z"
   },
   {
    "duration": 11,
    "start_time": "2022-01-22T23:34:09.163Z"
   },
   {
    "duration": 11,
    "start_time": "2022-01-22T23:34:09.175Z"
   },
   {
    "duration": 78,
    "start_time": "2022-01-22T23:34:09.188Z"
   },
   {
    "duration": 6,
    "start_time": "2022-01-22T23:34:09.268Z"
   },
   {
    "duration": 190,
    "start_time": "2022-01-22T23:34:09.276Z"
   },
   {
    "duration": 7,
    "start_time": "2022-01-22T23:34:09.467Z"
   },
   {
    "duration": 155,
    "start_time": "2022-01-22T23:34:09.475Z"
   },
   {
    "duration": 95,
    "start_time": "2022-01-22T23:34:09.632Z"
   },
   {
    "duration": 134,
    "start_time": "2022-01-22T23:34:09.730Z"
   },
   {
    "duration": 168,
    "start_time": "2022-01-22T23:34:09.866Z"
   },
   {
    "duration": 207,
    "start_time": "2022-01-22T23:34:10.035Z"
   },
   {
    "duration": 211,
    "start_time": "2022-01-22T23:34:10.244Z"
   },
   {
    "duration": 135,
    "start_time": "2022-01-22T23:34:10.457Z"
   },
   {
    "duration": 11285,
    "start_time": "2022-01-22T23:34:10.594Z"
   },
   {
    "duration": 24,
    "start_time": "2022-01-22T23:34:21.881Z"
   }
  ],
  "kernelspec": {
   "display_name": "Python 3",
   "language": "python",
   "name": "python3"
  },
  "language_info": {
   "codemirror_mode": {
    "name": "ipython",
    "version": 3
   },
   "file_extension": ".py",
   "mimetype": "text/x-python",
   "name": "python",
   "nbconvert_exporter": "python",
   "pygments_lexer": "ipython3",
   "version": "3.7.8"
  },
  "toc": {
   "base_numbering": 1,
   "nav_menu": {},
   "number_sections": true,
   "sideBar": true,
   "skip_h1_title": true,
   "title_cell": "Содержание",
   "title_sidebar": "Contents",
   "toc_cell": true,
   "toc_position": {
    "height": "calc(100% - 180px)",
    "left": "10px",
    "top": "150px",
    "width": "384px"
   },
   "toc_section_display": true,
   "toc_window_display": false
  }
 },
 "nbformat": 4,
 "nbformat_minor": 2
}
