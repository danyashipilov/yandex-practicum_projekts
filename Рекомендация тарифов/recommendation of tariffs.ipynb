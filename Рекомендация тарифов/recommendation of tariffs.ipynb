{
 "cells": [
  {
   "cell_type": "markdown",
   "metadata": {},
   "source": [
    "# Рекомендация тарифов"
   ]
  },
  {
   "cell_type": "markdown",
   "metadata": {},
   "source": [
    "Оператор мобильной связи «Мегалайн» выяснил: многие клиенты пользуются архивными тарифами. Они хотят построить систему, способную проанализировать поведение клиентов и предложить пользователям новый тариф: «Смарт» или «Ультра».\n",
    "В вашем распоряжении данные о поведении клиентов, которые уже перешли на эти тарифы (из проекта курса «Статистический анализ данных»). Нужно построить модель для задачи классификации, которая выберет подходящий тариф. Предобработка данных не понадобится — вы её уже сделали.\n",
    "Постройте модель с максимально большим значением accuracy. Чтобы сдать проект успешно, нужно довести долю правильных ответов по крайней мере до 0.75. Проверьте accuracy на тестовой выборке самостоятельно."
   ]
  },
  {
   "cell_type": "markdown",
   "metadata": {},
   "source": [
    "Описание данных\n",
    "\n",
    "Каждый объект в наборе данных — это информация о поведении одного пользователя за месяц. Известно:\n",
    "\n",
    "сalls — количество звонков,\n",
    "\n",
    "minutes — суммарная длительность звонков в минутах,\n",
    "\n",
    "messages — количество sms-сообщений,\n",
    "\n",
    "mb_used — израсходованный интернет-трафик в Мб,\n",
    "\n",
    "is_ultra — каким тарифом пользовался в течение месяца («Ультра» — 1, «Смарт» — 0)."
   ]
  },
  {
   "cell_type": "markdown",
   "metadata": {},
   "source": [
    "В вашем распоряжении данные о поведении клиентов, которые уже перешли на эти тарифы (из проекта курса «Статистический анализ данных»). Нужно построить модель для задачи классификации, которая выберет подходящий тариф. Предобработка данных не понадобится — вы её уже сделали.\n",
    "\n",
    "Постройте модель с максимально большим значением *accuracy*. Чтобы сдать проект успешно, нужно довести долю правильных ответов по крайней мере до 0.75. Проверьте *accuracy* на тестовой выборке самостоятельно."
   ]
  },
  {
   "cell_type": "markdown",
   "metadata": {},
   "source": [
    "План решения:\n",
    "\n",
    "1)Откроем и изучим файл\n",
    "\n",
    "2)Разобьем данные на выборки\n",
    "\n",
    "3)сследуем модели\n",
    "\n",
    "4)проверим модель на тестовой выборке"
   ]
  },
  {
   "cell_type": "markdown",
   "metadata": {},
   "source": [
    "## Откроем и изучим файл"
   ]
  },
  {
   "cell_type": "code",
   "execution_count": 3,
   "metadata": {},
   "outputs": [],
   "source": [
    "import pandas as pd\n",
    "from sklearn.model_selection import train_test_split\n",
    "from sklearn.tree import DecisionTreeClassifier\n",
    "from sklearn.ensemble import RandomForestClassifier\n",
    "from sklearn.linear_model import LogisticRegression\n",
    "from sklearn.metrics import accuracy_score\n",
    "from sklearn.dummy import DummyClassifier\n",
    "import warnings"
   ]
  },
  {
   "cell_type": "code",
   "execution_count": 4,
   "metadata": {},
   "outputs": [],
   "source": [
    "warnings.filterwarnings(\"ignore\")"
   ]
  },
  {
   "cell_type": "code",
   "execution_count": 72,
   "metadata": {},
   "outputs": [
    {
     "data": {
      "text/html": [
       "<div>\n",
       "<style scoped>\n",
       "    .dataframe tbody tr th:only-of-type {\n",
       "        vertical-align: middle;\n",
       "    }\n",
       "\n",
       "    .dataframe tbody tr th {\n",
       "        vertical-align: top;\n",
       "    }\n",
       "\n",
       "    .dataframe thead th {\n",
       "        text-align: right;\n",
       "    }\n",
       "</style>\n",
       "<table border=\"1\" class=\"dataframe\">\n",
       "  <thead>\n",
       "    <tr style=\"text-align: right;\">\n",
       "      <th></th>\n",
       "      <th>calls</th>\n",
       "      <th>minutes</th>\n",
       "      <th>messages</th>\n",
       "      <th>mb_used</th>\n",
       "      <th>is_ultra</th>\n",
       "    </tr>\n",
       "  </thead>\n",
       "  <tbody>\n",
       "    <tr>\n",
       "      <td>0</td>\n",
       "      <td>40.0</td>\n",
       "      <td>311.90</td>\n",
       "      <td>83.0</td>\n",
       "      <td>19915.42</td>\n",
       "      <td>0</td>\n",
       "    </tr>\n",
       "    <tr>\n",
       "      <td>1</td>\n",
       "      <td>85.0</td>\n",
       "      <td>516.75</td>\n",
       "      <td>56.0</td>\n",
       "      <td>22696.96</td>\n",
       "      <td>0</td>\n",
       "    </tr>\n",
       "    <tr>\n",
       "      <td>2</td>\n",
       "      <td>77.0</td>\n",
       "      <td>467.66</td>\n",
       "      <td>86.0</td>\n",
       "      <td>21060.45</td>\n",
       "      <td>0</td>\n",
       "    </tr>\n",
       "    <tr>\n",
       "      <td>3</td>\n",
       "      <td>106.0</td>\n",
       "      <td>745.53</td>\n",
       "      <td>81.0</td>\n",
       "      <td>8437.39</td>\n",
       "      <td>1</td>\n",
       "    </tr>\n",
       "    <tr>\n",
       "      <td>4</td>\n",
       "      <td>66.0</td>\n",
       "      <td>418.74</td>\n",
       "      <td>1.0</td>\n",
       "      <td>14502.75</td>\n",
       "      <td>0</td>\n",
       "    </tr>\n",
       "    <tr>\n",
       "      <td>...</td>\n",
       "      <td>...</td>\n",
       "      <td>...</td>\n",
       "      <td>...</td>\n",
       "      <td>...</td>\n",
       "      <td>...</td>\n",
       "    </tr>\n",
       "    <tr>\n",
       "      <td>3209</td>\n",
       "      <td>122.0</td>\n",
       "      <td>910.98</td>\n",
       "      <td>20.0</td>\n",
       "      <td>35124.90</td>\n",
       "      <td>1</td>\n",
       "    </tr>\n",
       "    <tr>\n",
       "      <td>3210</td>\n",
       "      <td>25.0</td>\n",
       "      <td>190.36</td>\n",
       "      <td>0.0</td>\n",
       "      <td>3275.61</td>\n",
       "      <td>0</td>\n",
       "    </tr>\n",
       "    <tr>\n",
       "      <td>3211</td>\n",
       "      <td>97.0</td>\n",
       "      <td>634.44</td>\n",
       "      <td>70.0</td>\n",
       "      <td>13974.06</td>\n",
       "      <td>0</td>\n",
       "    </tr>\n",
       "    <tr>\n",
       "      <td>3212</td>\n",
       "      <td>64.0</td>\n",
       "      <td>462.32</td>\n",
       "      <td>90.0</td>\n",
       "      <td>31239.78</td>\n",
       "      <td>0</td>\n",
       "    </tr>\n",
       "    <tr>\n",
       "      <td>3213</td>\n",
       "      <td>80.0</td>\n",
       "      <td>566.09</td>\n",
       "      <td>6.0</td>\n",
       "      <td>29480.52</td>\n",
       "      <td>1</td>\n",
       "    </tr>\n",
       "  </tbody>\n",
       "</table>\n",
       "<p>3214 rows × 5 columns</p>\n",
       "</div>"
      ],
      "text/plain": [
       "      calls  minutes  messages   mb_used  is_ultra\n",
       "0      40.0   311.90      83.0  19915.42         0\n",
       "1      85.0   516.75      56.0  22696.96         0\n",
       "2      77.0   467.66      86.0  21060.45         0\n",
       "3     106.0   745.53      81.0   8437.39         1\n",
       "4      66.0   418.74       1.0  14502.75         0\n",
       "...     ...      ...       ...       ...       ...\n",
       "3209  122.0   910.98      20.0  35124.90         1\n",
       "3210   25.0   190.36       0.0   3275.61         0\n",
       "3211   97.0   634.44      70.0  13974.06         0\n",
       "3212   64.0   462.32      90.0  31239.78         0\n",
       "3213   80.0   566.09       6.0  29480.52         1\n",
       "\n",
       "[3214 rows x 5 columns]"
      ]
     },
     "execution_count": 72,
     "metadata": {},
     "output_type": "execute_result"
    }
   ],
   "source": [
    "df = pd.read_csv('/datasets/users_behavior.csv')\n",
    "df"
   ]
  },
  {
   "cell_type": "code",
   "execution_count": 73,
   "metadata": {},
   "outputs": [
    {
     "name": "stdout",
     "output_type": "stream",
     "text": [
      "<class 'pandas.core.frame.DataFrame'>\n",
      "RangeIndex: 3214 entries, 0 to 3213\n",
      "Data columns (total 5 columns):\n",
      "calls       3214 non-null float64\n",
      "minutes     3214 non-null float64\n",
      "messages    3214 non-null float64\n",
      "mb_used     3214 non-null float64\n",
      "is_ultra    3214 non-null int64\n",
      "dtypes: float64(4), int64(1)\n",
      "memory usage: 125.7 KB\n"
     ]
    }
   ],
   "source": [
    "df.info()"
   ]
  },
  {
   "cell_type": "markdown",
   "metadata": {},
   "source": [
    "## Разобьем данные на выборки"
   ]
  },
  {
   "cell_type": "code",
   "execution_count": 6,
   "metadata": {},
   "outputs": [],
   "source": [
    "features = df.drop(['is_ultra'], axis=1)\n",
    "target = df['is_ultra']"
   ]
  },
  {
   "cell_type": "code",
   "execution_count": 7,
   "metadata": {},
   "outputs": [
    {
     "data": {
      "text/plain": [
       "(3214, 4)"
      ]
     },
     "execution_count": 7,
     "metadata": {},
     "output_type": "execute_result"
    }
   ],
   "source": [
    "features.shape"
   ]
  },
  {
   "cell_type": "code",
   "execution_count": 8,
   "metadata": {},
   "outputs": [
    {
     "data": {
      "text/plain": [
       "(3214,)"
      ]
     },
     "execution_count": 8,
     "metadata": {},
     "output_type": "execute_result"
    }
   ],
   "source": [
    "target.shape"
   ]
  },
  {
   "cell_type": "code",
   "execution_count": 9,
   "metadata": {},
   "outputs": [],
   "source": [
    "# разбиваем данные на тренировочные и данные для теста и валидации\n",
    "\n",
    "features_train, features_test_valid, target_train, target_test_valid = train_test_split(\n",
    "    features, target, test_size=0.4, random_state=12345) "
   ]
  },
  {
   "cell_type": "code",
   "execution_count": 10,
   "metadata": {},
   "outputs": [],
   "source": [
    "# разбиваем данные на тестовые и валидационные\n",
    "\n",
    "features_valid, features_test,target_valid, target_test = train_test_split(\n",
    "    features_test_valid, target_test_valid, test_size=0.5, random_state=12345) "
   ]
  },
  {
   "cell_type": "markdown",
   "metadata": {},
   "source": [
    "Мы разбили данные на тренировочные, валидационные и тестовые в пропорциях 3:1:1"
   ]
  },
  {
   "cell_type": "code",
   "execution_count": 11,
   "metadata": {},
   "outputs": [
    {
     "data": {
      "text/plain": [
       "(1928, 4)"
      ]
     },
     "execution_count": 11,
     "metadata": {},
     "output_type": "execute_result"
    }
   ],
   "source": [
    "features_train.shape"
   ]
  },
  {
   "cell_type": "code",
   "execution_count": 12,
   "metadata": {},
   "outputs": [
    {
     "data": {
      "text/plain": [
       "(643, 4)"
      ]
     },
     "execution_count": 12,
     "metadata": {},
     "output_type": "execute_result"
    }
   ],
   "source": [
    "features_valid.shape"
   ]
  },
  {
   "cell_type": "code",
   "execution_count": 13,
   "metadata": {},
   "outputs": [
    {
     "data": {
      "text/plain": [
       "(643, 4)"
      ]
     },
     "execution_count": 13,
     "metadata": {},
     "output_type": "execute_result"
    }
   ],
   "source": [
    "features_test.shape"
   ]
  },
  {
   "cell_type": "code",
   "execution_count": 14,
   "metadata": {},
   "outputs": [
    {
     "data": {
      "text/plain": [
       "(1928,)"
      ]
     },
     "execution_count": 14,
     "metadata": {},
     "output_type": "execute_result"
    }
   ],
   "source": [
    "target_train.shape"
   ]
  },
  {
   "cell_type": "code",
   "execution_count": 15,
   "metadata": {},
   "outputs": [
    {
     "data": {
      "text/plain": [
       "(643,)"
      ]
     },
     "execution_count": 15,
     "metadata": {},
     "output_type": "execute_result"
    }
   ],
   "source": [
    "target_valid.shape"
   ]
  },
  {
   "cell_type": "code",
   "execution_count": 16,
   "metadata": {},
   "outputs": [
    {
     "data": {
      "text/plain": [
       "(643,)"
      ]
     },
     "execution_count": 16,
     "metadata": {},
     "output_type": "execute_result"
    }
   ],
   "source": [
    "target_test.shape"
   ]
  },
  {
   "cell_type": "markdown",
   "metadata": {},
   "source": [
    "## Исследуем модели"
   ]
  },
  {
   "cell_type": "markdown",
   "metadata": {},
   "source": [
    "Исследуем 3 модели:\n",
    "\n",
    "Дерево решений\n",
    "\n",
    "Случайный лес\n",
    "\n",
    "Логистическую регрессию"
   ]
  },
  {
   "cell_type": "code",
   "execution_count": 17,
   "metadata": {},
   "outputs": [
    {
     "name": "stdout",
     "output_type": "stream",
     "text": [
      "Accuracy лучшей модели: 0.7853810264385692\n"
     ]
    }
   ],
   "source": [
    "# проверим долю правильных ответов для дерева решений на валидационной выборке\n",
    "\n",
    "best_model = None\n",
    "best_result = 0\n",
    "max_depth=0\n",
    "for depth in range(1, 6):\n",
    "\tmodel = DecisionTreeClassifier(random_state=12345, max_depth=depth) \n",
    "\tmodel.fit(features_train,target_train) \n",
    "\tpredictions = model.predict(features_valid) \n",
    "\tresult = accuracy_score(target_valid, predictions) \n",
    "\tif result > best_result:\n",
    "\t\tbest_model_DecisionTree = model\n",
    "\t\tbest_result = result\n",
    "        \n",
    "        \n",
    "print(\"Accuracy лучшей модели:\", best_result)"
   ]
  },
  {
   "cell_type": "markdown",
   "metadata": {},
   "source": [
    "Как мы видим девево решений дает нам долю правильных ответов в 0.78"
   ]
  },
  {
   "cell_type": "code",
   "execution_count": 18,
   "metadata": {},
   "outputs": [
    {
     "name": "stdout",
     "output_type": "stream",
     "text": [
      "Accuracy лучшей модели: 0.7947122861586314\n"
     ]
    }
   ],
   "source": [
    "# проверим долю правильных ответов для случайного леса на валидационной выборке\n",
    "\n",
    "best_model = None\n",
    "best_result = 0\n",
    "for depth in range(1, 6):\n",
    "    for est in range(10, 51,10):\n",
    "        model = RandomForestClassifier(random_state=12345, max_depth=depth,n_estimators=est)\n",
    "        model.fit(features_train,target_train) \n",
    "        predictions = model.predict(features_valid) \n",
    "        result = accuracy_score(target_valid, predictions) \n",
    "        if result > best_result:\n",
    "            best_model_RandomForest = model\n",
    "            best_result = result\n",
    "        \n",
    "print(\"Accuracy лучшей модели:\", best_result)"
   ]
  },
  {
   "cell_type": "markdown",
   "metadata": {},
   "source": [
    "Как мы видим модель случайного леса дает нам долю правильных ответов в 0.79, что больше модели дерева решений."
   ]
  },
  {
   "cell_type": "code",
   "execution_count": 19,
   "metadata": {},
   "outputs": [
    {
     "name": "stdout",
     "output_type": "stream",
     "text": [
      "Accuracy модели: 0.7589424572317263\n"
     ]
    }
   ],
   "source": [
    "# проверим долю правильных ответов для логистической регрессии на валидационной выборке\n",
    "\n",
    "model = LogisticRegression(random_state=12345) \n",
    "model.fit(features_train,target_train) \n",
    "predictions = model.predict(features_valid) \n",
    "result = accuracy_score(target_valid, predictions) \n",
    "\n",
    "print(\"Accuracy модели:\", result)"
   ]
  },
  {
   "cell_type": "markdown",
   "metadata": {},
   "source": [
    "Как мы видим модель логистической регрессии дает нам долю правильных ответов в 0.758, это самый низкий уровень из трех моделей."
   ]
  },
  {
   "cell_type": "markdown",
   "metadata": {},
   "source": [
    "Выводы: лучшая модель это случайный лес"
   ]
  },
  {
   "cell_type": "markdown",
   "metadata": {},
   "source": [
    "## Проверим модель на тестовой выборке"
   ]
  },
  {
   "cell_type": "code",
   "execution_count": 20,
   "metadata": {},
   "outputs": [
    {
     "name": "stdout",
     "output_type": "stream",
     "text": [
      "Accuracy лучшей модели на тестовой выборке: 0.7838258164852255\n"
     ]
    }
   ],
   "source": [
    "# проверим долю правильных ответов для модели случайного леса на тестовой выборке\n",
    "\n",
    "predictions = best_model_RandomForest.predict(features_test)\n",
    "result = accuracy_score(target_test, predictions)\n",
    "\n",
    "print(\"Accuracy лучшей модели на тестовой выборке:\", result)"
   ]
  },
  {
   "cell_type": "markdown",
   "metadata": {},
   "source": [
    "Мы получили долю правильных ответов на тестовой выборке равную 0.78, что меньше чем на валидационной, но всего на 0.01"
   ]
  },
  {
   "cell_type": "markdown",
   "metadata": {},
   "source": [
    "## (бонус) Проверьте модели на адекватность"
   ]
  },
  {
   "cell_type": "code",
   "execution_count": 69,
   "metadata": {},
   "outputs": [
    {
     "data": {
      "text/plain": [
       "0    0.693528\n",
       "1    0.306472\n",
       "Name: is_ultra, dtype: float64"
      ]
     },
     "execution_count": 69,
     "metadata": {},
     "output_type": "execute_result"
    }
   ],
   "source": [
    "df['is_ultra'].value_counts(normalize=True)"
   ]
  },
  {
   "cell_type": "code",
   "execution_count": 74,
   "metadata": {},
   "outputs": [
    {
     "name": "stdout",
     "output_type": "stream",
     "text": [
      "Accuracy константной модели на тестовой выборке: 0.6842923794712286\n"
     ]
    }
   ],
   "source": [
    "# точность правильной константной модели должна быть равна доли бОльшего класса.\n",
    "\n",
    "model = DummyClassifier(strategy=\"constant\",constant=0) \n",
    "model.fit(features_train,target_train) \n",
    "predictions = model.predict(features_test) \n",
    "accuracy = accuracy_score(target_test, predictions) \n",
    "\n",
    "print(\"Accuracy константной модели на тестовой выборке:\", accuracy)"
   ]
  },
  {
   "cell_type": "markdown",
   "metadata": {},
   "source": [
    "Мы провели тест константной модели подставляя в прогноз только класс 0 (которого больше всего в столбце). В результате получили чдолю правильных ответов 0.68, что больше простого угадывания 50/50, но меньше 0.78"
   ]
  },
  {
   "cell_type": "markdown",
   "metadata": {},
   "source": [
    "Как мы видим при савнении нашей модели с константной наша модешь выигрывает. "
   ]
  },
  {
   "cell_type": "markdown",
   "metadata": {},
   "source": [
    "## Вывод"
   ]
  },
  {
   "cell_type": "markdown",
   "metadata": {},
   "source": [
    " Мы построили модель для задачи классификации, которая выберает подходящий тариф.\n",
    " \n",
    " В результате тестирования мы получили долю правильных ответов на тестовой выборке равную 0.78, что больше 0.75\n"
   ]
  },
  {
   "cell_type": "markdown",
   "metadata": {},
   "source": [
    "## Чек-лист готовности проекта"
   ]
  },
  {
   "cell_type": "markdown",
   "metadata": {},
   "source": [
    "Поставьте 'x' в выполненных пунктах. Далее нажмите Shift+Enter."
   ]
  },
  {
   "cell_type": "markdown",
   "metadata": {},
   "source": [
    "- [x] Jupyter Notebook открыт\n",
    "- [x] Весь код исполняеxся без ошибок\n",
    "- [x] Ячейки с кодом раxположены в порядке исполнения\n",
    "- [x] Выполнено задание 1: данные загружены и изучены\n",
    "- [x] Выполнено задание 2: данные разбиты на три выборки\n",
    "- [x] Выполнено задание 3: проведено исследование моделей\n",
    "    - [x] Рассмотрено больше одной модели\n",
    "    - [x] Рассмотрено хотя бы 3 значения гиперрррррпараметров для какой-нибудь модели\n",
    "    - [x] Написаны выводы по результатам исследования\n",
    "- [x] Выполнено задание 3: Проведено тестирование\n",
    "- [x] Удалось достичь accuracy не меньше 0.75\n"
   ]
  }
 ],
 "metadata": {
  "ExecuteTimeLog": [
   {
    "duration": 560,
    "start_time": "2021-12-24T18:28:28.215Z"
   },
   {
    "duration": 47,
    "start_time": "2021-12-24T18:28:29.231Z"
   },
   {
    "duration": 26,
    "start_time": "2021-12-24T18:29:23.113Z"
   },
   {
    "duration": 1525,
    "start_time": "2021-12-27T14:33:46.202Z"
   },
   {
    "duration": 48,
    "start_time": "2021-12-27T14:33:49.277Z"
   },
   {
    "duration": 7,
    "start_time": "2021-12-27T14:33:51.267Z"
   },
   {
    "duration": 20,
    "start_time": "2021-12-27T14:33:52.459Z"
   },
   {
    "duration": 20,
    "start_time": "2021-12-27T14:33:53.630Z"
   },
   {
    "duration": 393,
    "start_time": "2021-12-27T14:42:21.195Z"
   },
   {
    "duration": 1153,
    "start_time": "2021-12-27T14:42:28.207Z"
   },
   {
    "duration": 30,
    "start_time": "2021-12-27T14:42:30.656Z"
   },
   {
    "duration": 4,
    "start_time": "2021-12-27T14:42:32.574Z"
   },
   {
    "duration": 5,
    "start_time": "2021-12-27T14:43:09.707Z"
   },
   {
    "duration": 10,
    "start_time": "2021-12-27T14:43:11.068Z"
   },
   {
    "duration": 9,
    "start_time": "2021-12-27T14:43:14.761Z"
   },
   {
    "duration": 5,
    "start_time": "2021-12-27T14:43:18.730Z"
   },
   {
    "duration": 6,
    "start_time": "2021-12-27T14:43:22.563Z"
   },
   {
    "duration": 4,
    "start_time": "2021-12-27T15:26:21.833Z"
   },
   {
    "duration": 4,
    "start_time": "2021-12-27T15:26:37.402Z"
   },
   {
    "duration": 3,
    "start_time": "2021-12-27T15:26:38.014Z"
   },
   {
    "duration": 3,
    "start_time": "2021-12-27T15:26:39.198Z"
   },
   {
    "duration": 3,
    "start_time": "2021-12-27T15:26:39.604Z"
   },
   {
    "duration": 3,
    "start_time": "2021-12-27T15:27:29.735Z"
   },
   {
    "duration": 4,
    "start_time": "2021-12-27T15:27:30.424Z"
   },
   {
    "duration": 5,
    "start_time": "2021-12-27T15:37:50.982Z"
   },
   {
    "duration": 3,
    "start_time": "2021-12-27T15:37:51.359Z"
   },
   {
    "duration": 3,
    "start_time": "2021-12-27T15:37:51.830Z"
   },
   {
    "duration": 3,
    "start_time": "2021-12-27T15:37:53.677Z"
   },
   {
    "duration": 3,
    "start_time": "2021-12-27T15:37:54.315Z"
   },
   {
    "duration": 355,
    "start_time": "2021-12-27T15:38:42.004Z"
   },
   {
    "duration": 5,
    "start_time": "2021-12-27T15:42:33.137Z"
   },
   {
    "duration": 5,
    "start_time": "2021-12-27T15:42:34.583Z"
   },
   {
    "duration": 3,
    "start_time": "2021-12-27T15:42:35.409Z"
   },
   {
    "duration": 4,
    "start_time": "2021-12-27T15:42:36.233Z"
   },
   {
    "duration": 4,
    "start_time": "2021-12-27T15:42:36.937Z"
   },
   {
    "duration": 3,
    "start_time": "2021-12-27T15:42:37.663Z"
   },
   {
    "duration": 4,
    "start_time": "2021-12-27T15:42:38.232Z"
   },
   {
    "duration": 4,
    "start_time": "2021-12-27T15:42:38.695Z"
   },
   {
    "duration": 5,
    "start_time": "2021-12-27T15:43:02.830Z"
   },
   {
    "duration": 5,
    "start_time": "2021-12-27T15:43:03.219Z"
   },
   {
    "duration": 3,
    "start_time": "2021-12-27T15:43:03.921Z"
   },
   {
    "duration": 3,
    "start_time": "2021-12-27T15:43:04.337Z"
   },
   {
    "duration": 4,
    "start_time": "2021-12-27T15:43:04.809Z"
   },
   {
    "duration": 4,
    "start_time": "2021-12-27T15:43:05.221Z"
   },
   {
    "duration": 4,
    "start_time": "2021-12-27T15:43:05.851Z"
   },
   {
    "duration": 4,
    "start_time": "2021-12-27T15:43:06.424Z"
   },
   {
    "duration": 314,
    "start_time": "2021-12-27T15:46:42.877Z"
   },
   {
    "duration": 3,
    "start_time": "2021-12-27T15:47:03.472Z"
   },
   {
    "duration": 24,
    "start_time": "2021-12-27T15:47:03.959Z"
   },
   {
    "duration": 4,
    "start_time": "2021-12-27T15:47:04.615Z"
   },
   {
    "duration": 3,
    "start_time": "2021-12-27T15:47:04.807Z"
   },
   {
    "duration": 3,
    "start_time": "2021-12-27T15:47:04.975Z"
   },
   {
    "duration": 5,
    "start_time": "2021-12-27T15:47:05.146Z"
   },
   {
    "duration": 5,
    "start_time": "2021-12-27T15:47:05.316Z"
   },
   {
    "duration": 4,
    "start_time": "2021-12-27T15:47:05.483Z"
   },
   {
    "duration": 4,
    "start_time": "2021-12-27T15:47:05.655Z"
   },
   {
    "duration": 3,
    "start_time": "2021-12-27T15:47:06.045Z"
   },
   {
    "duration": 4,
    "start_time": "2021-12-27T15:47:06.571Z"
   },
   {
    "duration": 4,
    "start_time": "2021-12-27T15:47:06.803Z"
   },
   {
    "duration": 4,
    "start_time": "2021-12-27T15:47:07.016Z"
   },
   {
    "duration": 23,
    "start_time": "2021-12-27T15:47:07.841Z"
   },
   {
    "duration": 22,
    "start_time": "2021-12-27T15:47:54.936Z"
   },
   {
    "duration": 98,
    "start_time": "2021-12-27T15:58:36.615Z"
   },
   {
    "duration": 99,
    "start_time": "2021-12-27T15:59:17.277Z"
   },
   {
    "duration": 113,
    "start_time": "2021-12-27T15:59:23.374Z"
   },
   {
    "duration": 111,
    "start_time": "2021-12-27T15:59:34.898Z"
   },
   {
    "duration": 23,
    "start_time": "2021-12-27T15:59:52.679Z"
   },
   {
    "duration": 1267,
    "start_time": "2021-12-27T16:00:36.536Z"
   },
   {
    "duration": 13,
    "start_time": "2021-12-27T16:05:18.577Z"
   },
   {
    "duration": 3,
    "start_time": "2021-12-27T16:07:37.156Z"
   },
   {
    "duration": 307,
    "start_time": "2021-12-27T16:07:37.551Z"
   },
   {
    "duration": 3,
    "start_time": "2021-12-27T16:07:51.150Z"
   },
   {
    "duration": 2,
    "start_time": "2021-12-27T16:07:51.513Z"
   },
   {
    "duration": 24,
    "start_time": "2021-12-27T16:07:52.561Z"
   },
   {
    "duration": 4,
    "start_time": "2021-12-27T16:07:53.241Z"
   },
   {
    "duration": 3,
    "start_time": "2021-12-27T16:07:53.439Z"
   },
   {
    "duration": 3,
    "start_time": "2021-12-27T16:07:53.674Z"
   },
   {
    "duration": 6,
    "start_time": "2021-12-27T16:07:53.867Z"
   },
   {
    "duration": 5,
    "start_time": "2021-12-27T16:07:54.079Z"
   },
   {
    "duration": 4,
    "start_time": "2021-12-27T16:07:54.273Z"
   },
   {
    "duration": 3,
    "start_time": "2021-12-27T16:07:54.508Z"
   },
   {
    "duration": 4,
    "start_time": "2021-12-27T16:07:54.722Z"
   },
   {
    "duration": 4,
    "start_time": "2021-12-27T16:07:54.931Z"
   },
   {
    "duration": 3,
    "start_time": "2021-12-27T16:07:55.122Z"
   },
   {
    "duration": 3,
    "start_time": "2021-12-27T16:07:55.336Z"
   },
   {
    "duration": 23,
    "start_time": "2021-12-27T16:07:55.716Z"
   },
   {
    "duration": 1263,
    "start_time": "2021-12-27T16:07:56.798Z"
   },
   {
    "duration": 13,
    "start_time": "2021-12-27T16:07:59.584Z"
   },
   {
    "duration": 3,
    "start_time": "2021-12-27T16:10:21.449Z"
   },
   {
    "duration": 3,
    "start_time": "2021-12-27T16:10:21.841Z"
   },
   {
    "duration": 4,
    "start_time": "2021-12-27T16:10:22.159Z"
   },
   {
    "duration": 4,
    "start_time": "2021-12-27T16:10:22.586Z"
   },
   {
    "duration": 3,
    "start_time": "2021-12-27T16:10:22.902Z"
   },
   {
    "duration": 3,
    "start_time": "2021-12-27T16:10:23.589Z"
   },
   {
    "duration": 22,
    "start_time": "2021-12-27T16:10:25.850Z"
   },
   {
    "duration": 1255,
    "start_time": "2021-12-27T16:10:26.568Z"
   },
   {
    "duration": 3443,
    "start_time": "2021-12-27T16:10:42.884Z"
   },
   {
    "duration": 2120,
    "start_time": "2021-12-27T16:10:59.008Z"
   },
   {
    "duration": 11,
    "start_time": "2021-12-27T16:12:35.982Z"
   },
   {
    "duration": 1243,
    "start_time": "2021-12-27T16:28:52.540Z"
   },
   {
    "duration": 14,
    "start_time": "2021-12-27T16:28:55.677Z"
   },
   {
    "duration": 10,
    "start_time": "2021-12-27T16:29:01.625Z"
   },
   {
    "duration": 12,
    "start_time": "2021-12-27T16:35:18.755Z"
   },
   {
    "duration": 39,
    "start_time": "2021-12-27T16:35:20.241Z"
   },
   {
    "duration": 40,
    "start_time": "2021-12-27T16:35:52.496Z"
   },
   {
    "duration": 61,
    "start_time": "2021-12-27T16:35:58.314Z"
   },
   {
    "duration": 62,
    "start_time": "2021-12-27T16:36:01.912Z"
   },
   {
    "duration": 43,
    "start_time": "2021-12-27T16:36:02.731Z"
   },
   {
    "duration": 46,
    "start_time": "2021-12-27T16:36:04.375Z"
   },
   {
    "duration": 59,
    "start_time": "2021-12-27T16:36:05.523Z"
   },
   {
    "duration": 39,
    "start_time": "2021-12-27T16:36:07.654Z"
   },
   {
    "duration": 41,
    "start_time": "2021-12-27T16:36:08.760Z"
   },
   {
    "duration": 56,
    "start_time": "2021-12-27T16:36:09.914Z"
   },
   {
    "duration": 41,
    "start_time": "2021-12-27T16:36:11.193Z"
   },
   {
    "duration": 14,
    "start_time": "2021-12-27T16:36:24.006Z"
   },
   {
    "duration": 13,
    "start_time": "2021-12-27T16:36:26.665Z"
   },
   {
    "duration": 15,
    "start_time": "2021-12-27T16:36:27.699Z"
   },
   {
    "duration": 13,
    "start_time": "2021-12-27T16:36:28.522Z"
   },
   {
    "duration": 14,
    "start_time": "2021-12-27T16:36:29.195Z"
   },
   {
    "duration": 13,
    "start_time": "2021-12-27T16:36:29.843Z"
   },
   {
    "duration": 13,
    "start_time": "2021-12-27T16:36:30.538Z"
   },
   {
    "duration": 13,
    "start_time": "2021-12-27T16:36:31.201Z"
   },
   {
    "duration": 13,
    "start_time": "2021-12-27T16:36:31.824Z"
   },
   {
    "duration": 13,
    "start_time": "2021-12-27T16:36:32.473Z"
   },
   {
    "duration": 12,
    "start_time": "2021-12-27T16:36:33.215Z"
   },
   {
    "duration": 41,
    "start_time": "2021-12-27T16:36:34.419Z"
   },
   {
    "duration": 42,
    "start_time": "2021-12-27T16:36:35.028Z"
   },
   {
    "duration": 40,
    "start_time": "2021-12-27T16:36:35.676Z"
   },
   {
    "duration": 40,
    "start_time": "2021-12-27T16:36:59.263Z"
   },
   {
    "duration": 43,
    "start_time": "2021-12-27T16:37:00.970Z"
   },
   {
    "duration": 42,
    "start_time": "2021-12-27T16:37:01.991Z"
   },
   {
    "duration": 44,
    "start_time": "2021-12-27T16:37:03.028Z"
   },
   {
    "duration": 40,
    "start_time": "2021-12-27T16:37:21.061Z"
   },
   {
    "duration": 40,
    "start_time": "2021-12-27T16:37:21.921Z"
   },
   {
    "duration": 40,
    "start_time": "2021-12-27T16:37:22.602Z"
   },
   {
    "duration": 40,
    "start_time": "2021-12-27T16:37:23.247Z"
   },
   {
    "duration": 41,
    "start_time": "2021-12-27T16:37:23.881Z"
   },
   {
    "duration": 43,
    "start_time": "2021-12-27T16:37:24.459Z"
   },
   {
    "duration": 40,
    "start_time": "2021-12-27T16:37:25.284Z"
   },
   {
    "duration": 41,
    "start_time": "2021-12-27T16:37:25.906Z"
   },
   {
    "duration": 41,
    "start_time": "2021-12-27T16:37:26.485Z"
   },
   {
    "duration": 42,
    "start_time": "2021-12-27T16:37:27.057Z"
   },
   {
    "duration": 42,
    "start_time": "2021-12-27T16:37:27.617Z"
   },
   {
    "duration": 41,
    "start_time": "2021-12-27T16:37:28.180Z"
   },
   {
    "duration": 13,
    "start_time": "2021-12-27T16:37:40.175Z"
   },
   {
    "duration": 3486,
    "start_time": "2021-12-27T16:40:49.084Z"
   },
   {
    "duration": 375,
    "start_time": "2021-12-27T16:41:28.473Z"
   },
   {
    "duration": 3466,
    "start_time": "2021-12-27T16:41:37.161Z"
   },
   {
    "duration": 3559,
    "start_time": "2021-12-27T16:42:29.406Z"
   },
   {
    "duration": 2269,
    "start_time": "2021-12-27T16:42:52.441Z"
   },
   {
    "duration": 14,
    "start_time": "2021-12-27T16:42:58.877Z"
   },
   {
    "duration": 10,
    "start_time": "2021-12-27T16:43:00.833Z"
   },
   {
    "duration": 2315,
    "start_time": "2021-12-27T16:43:13.991Z"
   },
   {
    "duration": 8925,
    "start_time": "2021-12-27T16:43:27.911Z"
   },
   {
    "duration": 1245,
    "start_time": "2021-12-27T16:44:10.732Z"
   },
   {
    "duration": 42,
    "start_time": "2021-12-27T16:45:37.864Z"
   },
   {
    "duration": 41,
    "start_time": "2021-12-27T16:45:42.147Z"
   },
   {
    "duration": 42,
    "start_time": "2021-12-27T16:45:46.250Z"
   },
   {
    "duration": 14,
    "start_time": "2021-12-27T16:46:13.975Z"
   },
   {
    "duration": 41,
    "start_time": "2021-12-27T16:49:31.512Z"
   },
   {
    "duration": 22,
    "start_time": "2021-12-27T16:52:47.352Z"
   },
   {
    "duration": 12,
    "start_time": "2021-12-27T16:53:46.859Z"
   },
   {
    "duration": 41,
    "start_time": "2021-12-27T16:53:52.498Z"
   },
   {
    "duration": 1755,
    "start_time": "2022-01-07T03:18:00.149Z"
   },
   {
    "duration": -561,
    "start_time": "2022-01-07T03:18:02.469Z"
   },
   {
    "duration": -573,
    "start_time": "2022-01-07T03:18:02.482Z"
   },
   {
    "duration": -588,
    "start_time": "2022-01-07T03:18:02.499Z"
   },
   {
    "duration": -597,
    "start_time": "2022-01-07T03:18:02.509Z"
   },
   {
    "duration": -605,
    "start_time": "2022-01-07T03:18:02.518Z"
   },
   {
    "duration": -611,
    "start_time": "2022-01-07T03:18:02.526Z"
   },
   {
    "duration": -620,
    "start_time": "2022-01-07T03:18:02.536Z"
   },
   {
    "duration": -628,
    "start_time": "2022-01-07T03:18:02.545Z"
   },
   {
    "duration": -635,
    "start_time": "2022-01-07T03:18:02.554Z"
   },
   {
    "duration": -641,
    "start_time": "2022-01-07T03:18:02.561Z"
   },
   {
    "duration": -647,
    "start_time": "2022-01-07T03:18:02.569Z"
   },
   {
    "duration": -653,
    "start_time": "2022-01-07T03:18:02.577Z"
   },
   {
    "duration": -661,
    "start_time": "2022-01-07T03:18:02.586Z"
   },
   {
    "duration": -666,
    "start_time": "2022-01-07T03:18:02.593Z"
   },
   {
    "duration": -682,
    "start_time": "2022-01-07T03:18:02.611Z"
   },
   {
    "duration": -691,
    "start_time": "2022-01-07T03:18:02.621Z"
   },
   {
    "duration": -696,
    "start_time": "2022-01-07T03:18:02.628Z"
   },
   {
    "duration": -701,
    "start_time": "2022-01-07T03:18:02.635Z"
   },
   {
    "duration": -708,
    "start_time": "2022-01-07T03:18:02.643Z"
   },
   {
    "duration": 4,
    "start_time": "2022-01-07T03:19:00.017Z"
   },
   {
    "duration": 4,
    "start_time": "2022-01-07T03:19:03.955Z"
   },
   {
    "duration": 5,
    "start_time": "2022-01-07T03:19:03.964Z"
   },
   {
    "duration": 46,
    "start_time": "2022-01-07T03:19:03.971Z"
   },
   {
    "duration": 5,
    "start_time": "2022-01-07T03:19:04.020Z"
   },
   {
    "duration": 6,
    "start_time": "2022-01-07T03:19:04.028Z"
   },
   {
    "duration": 6,
    "start_time": "2022-01-07T03:19:04.036Z"
   },
   {
    "duration": 8,
    "start_time": "2022-01-07T03:19:04.044Z"
   },
   {
    "duration": 11,
    "start_time": "2022-01-07T03:19:04.055Z"
   },
   {
    "duration": 11,
    "start_time": "2022-01-07T03:19:04.069Z"
   },
   {
    "duration": 43,
    "start_time": "2022-01-07T03:19:04.083Z"
   },
   {
    "duration": 6,
    "start_time": "2022-01-07T03:19:04.129Z"
   },
   {
    "duration": 7,
    "start_time": "2022-01-07T03:19:04.138Z"
   },
   {
    "duration": 11,
    "start_time": "2022-01-07T03:19:04.147Z"
   },
   {
    "duration": 16,
    "start_time": "2022-01-07T03:19:04.160Z"
   },
   {
    "duration": 63,
    "start_time": "2022-01-07T03:19:04.179Z"
   },
   {
    "duration": 1964,
    "start_time": "2022-01-07T03:19:04.244Z"
   },
   {
    "duration": 35,
    "start_time": "2022-01-07T03:19:06.211Z"
   },
   {
    "duration": 16,
    "start_time": "2022-01-07T03:19:06.249Z"
   },
   {
    "duration": 19,
    "start_time": "2022-01-07T03:19:06.268Z"
   },
   {
    "duration": 59,
    "start_time": "2022-01-07T03:19:06.324Z"
   },
   {
    "duration": 8,
    "start_time": "2022-01-07T03:20:32.010Z"
   },
   {
    "duration": 7,
    "start_time": "2022-01-07T03:20:38.441Z"
   },
   {
    "duration": 7,
    "start_time": "2022-01-07T03:20:40.887Z"
   },
   {
    "duration": 7,
    "start_time": "2022-01-07T03:23:01.498Z"
   },
   {
    "duration": 7,
    "start_time": "2022-01-07T03:23:15.482Z"
   },
   {
    "duration": 7,
    "start_time": "2022-01-07T03:23:26.461Z"
   },
   {
    "duration": 7,
    "start_time": "2022-01-07T03:23:27.639Z"
   },
   {
    "duration": 8,
    "start_time": "2022-01-07T03:23:31.811Z"
   },
   {
    "duration": 8,
    "start_time": "2022-01-07T03:23:32.639Z"
   },
   {
    "duration": 7,
    "start_time": "2022-01-07T03:23:34.082Z"
   },
   {
    "duration": 8,
    "start_time": "2022-01-07T03:23:34.873Z"
   },
   {
    "duration": 7,
    "start_time": "2022-01-07T03:23:35.632Z"
   },
   {
    "duration": 8,
    "start_time": "2022-01-07T03:23:36.437Z"
   },
   {
    "duration": 7,
    "start_time": "2022-01-07T03:23:37.220Z"
   },
   {
    "duration": 8,
    "start_time": "2022-01-07T03:23:38.028Z"
   },
   {
    "duration": 7,
    "start_time": "2022-01-07T03:23:38.990Z"
   },
   {
    "duration": 9,
    "start_time": "2022-01-07T03:23:39.797Z"
   },
   {
    "duration": 8,
    "start_time": "2022-01-07T03:23:40.608Z"
   },
   {
    "duration": 8,
    "start_time": "2022-01-07T03:23:41.453Z"
   },
   {
    "duration": 8,
    "start_time": "2022-01-07T03:24:18.265Z"
   },
   {
    "duration": 7,
    "start_time": "2022-01-07T03:24:30.623Z"
   },
   {
    "duration": 7,
    "start_time": "2022-01-07T03:24:31.722Z"
   },
   {
    "duration": 7,
    "start_time": "2022-01-07T03:24:33.717Z"
   },
   {
    "duration": 6,
    "start_time": "2022-01-07T03:24:35.851Z"
   },
   {
    "duration": 8,
    "start_time": "2022-01-07T03:24:38.861Z"
   },
   {
    "duration": 9,
    "start_time": "2022-01-07T03:24:40.248Z"
   },
   {
    "duration": 8,
    "start_time": "2022-01-07T03:24:41.110Z"
   },
   {
    "duration": 8,
    "start_time": "2022-01-07T03:25:25.395Z"
   },
   {
    "duration": 7,
    "start_time": "2022-01-07T03:25:34.798Z"
   },
   {
    "duration": 9,
    "start_time": "2022-01-07T03:25:35.861Z"
   },
   {
    "duration": 8,
    "start_time": "2022-01-07T03:25:40.733Z"
   },
   {
    "duration": 306,
    "start_time": "2022-01-07T03:25:50.236Z"
   },
   {
    "duration": 406,
    "start_time": "2022-01-07T03:28:28.987Z"
   },
   {
    "duration": 275,
    "start_time": "2022-01-07T03:40:51.526Z"
   },
   {
    "duration": 275,
    "start_time": "2022-01-07T03:41:22.303Z"
   },
   {
    "duration": 7,
    "start_time": "2022-01-07T03:43:38.467Z"
   },
   {
    "duration": 7,
    "start_time": "2022-01-07T03:43:42.745Z"
   },
   {
    "duration": 8,
    "start_time": "2022-01-07T03:43:57.686Z"
   },
   {
    "duration": 7,
    "start_time": "2022-01-07T04:01:50.114Z"
   },
   {
    "duration": 7,
    "start_time": "2022-01-07T04:01:50.662Z"
   },
   {
    "duration": 458,
    "start_time": "2022-01-07T04:03:06.435Z"
   },
   {
    "duration": 8,
    "start_time": "2022-01-07T04:03:23.770Z"
   },
   {
    "duration": 278,
    "start_time": "2022-01-07T04:04:48.280Z"
   },
   {
    "duration": 14,
    "start_time": "2022-01-07T04:21:41.556Z"
   },
   {
    "duration": 8,
    "start_time": "2022-01-07T04:22:18.400Z"
   },
   {
    "duration": 7,
    "start_time": "2022-01-07T04:22:21.791Z"
   },
   {
    "duration": 8,
    "start_time": "2022-01-07T04:22:27.207Z"
   },
   {
    "duration": 23,
    "start_time": "2022-01-07T04:23:55.863Z"
   },
   {
    "duration": 17,
    "start_time": "2022-01-07T04:24:05.234Z"
   },
   {
    "duration": 32,
    "start_time": "2022-01-07T04:24:25.071Z"
   },
   {
    "duration": 8,
    "start_time": "2022-01-07T04:24:26.061Z"
   },
   {
    "duration": 7,
    "start_time": "2022-01-07T04:32:56.362Z"
   }
  ],
  "kernelspec": {
   "display_name": "Python 3",
   "language": "python",
   "name": "python3"
  },
  "language_info": {
   "codemirror_mode": {
    "name": "ipython",
    "version": 3
   },
   "file_extension": ".py",
   "mimetype": "text/x-python",
   "name": "python",
   "nbconvert_exporter": "python",
   "pygments_lexer": "ipython3",
   "version": "3.7.8"
  },
  "toc": {
   "base_numbering": 1,
   "nav_menu": {},
   "number_sections": true,
   "sideBar": true,
   "skip_h1_title": true,
   "title_cell": "Table of Contents",
   "title_sidebar": "Contents",
   "toc_cell": false,
   "toc_position": {},
   "toc_section_display": true,
   "toc_window_display": true
  }
 },
 "nbformat": 4,
 "nbformat_minor": 2
}
